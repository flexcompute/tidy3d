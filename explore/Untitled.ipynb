{
 "cells": [
  {
   "cell_type": "code",
   "execution_count": 10,
   "id": "d7113e68-34c7-4e7f-bb80-9b2ed2b85b7d",
   "metadata": {},
   "outputs": [],
   "source": [
    "import pydantic as pd\n",
    "\n",
    "class P(pd.BaseModel):\n",
    "    \n",
    "    a: int\n",
    "    \n",
    "    def __post_init_parse__(self):\n",
    "        self.b = a * 2"
   ]
  },
  {
   "cell_type": "code",
   "execution_count": 11,
   "id": "223778dd-25d5-4e6a-a790-cc5f9662b96b",
   "metadata": {},
   "outputs": [],
   "source": [
    "p = P(a=1)"
   ]
  },
  {
   "cell_type": "code",
   "execution_count": 12,
   "id": "be583dfa-1e27-4012-93ee-eee8c2837872",
   "metadata": {},
   "outputs": [
    {
     "data": {
      "text/plain": [
       "P(a=1)"
      ]
     },
     "execution_count": 12,
     "metadata": {},
     "output_type": "execute_result"
    }
   ],
   "source": [
    "p"
   ]
  },
  {
   "cell_type": "code",
   "execution_count": 13,
   "id": "b506a367-bde7-4b3f-9071-72b3a8b87f94",
   "metadata": {},
   "outputs": [
    {
     "ename": "AttributeError",
     "evalue": "'P' object has no attribute 'b'",
     "output_type": "error",
     "traceback": [
      "\u001b[0;31m---------------------------------------------------------------------------\u001b[0m",
      "\u001b[0;31mAttributeError\u001b[0m                            Traceback (most recent call last)",
      "\u001b[0;32m/var/folders/jx/9y0mtn3s3zzb6mzgmsw6s6gr0000gn/T/ipykernel_57495/3203497313.py\u001b[0m in \u001b[0;36m<module>\u001b[0;34m\u001b[0m\n\u001b[0;32m----> 1\u001b[0;31m \u001b[0mp\u001b[0m\u001b[0;34m.\u001b[0m\u001b[0mb\u001b[0m\u001b[0;34m\u001b[0m\u001b[0;34m\u001b[0m\u001b[0m\n\u001b[0m",
      "\u001b[0;31mAttributeError\u001b[0m: 'P' object has no attribute 'b'"
     ]
    }
   ],
   "source": [
    "p.b"
   ]
  },
  {
   "cell_type": "code",
   "execution_count": null,
   "id": "05e4237b-cce0-4e7b-a4e3-68dca101a186",
   "metadata": {},
   "outputs": [],
   "source": []
  },
  {
   "cell_type": "code",
   "execution_count": null,
   "id": "5df505be-2cc8-48ea-81ab-eccad31777b9",
   "metadata": {},
   "outputs": [],
   "source": []
  }
 ],
 "metadata": {
  "kernelspec": {
   "display_name": "env",
   "language": "python",
   "name": "env"
  },
  "language_info": {
   "codemirror_mode": {
    "name": "ipython",
    "version": 3
   },
   "file_extension": ".py",
   "mimetype": "text/x-python",
   "name": "python",
   "nbconvert_exporter": "python",
   "pygments_lexer": "ipython3",
   "version": "3.9.7"
  }
 },
 "nbformat": 4,
 "nbformat_minor": 5
}
