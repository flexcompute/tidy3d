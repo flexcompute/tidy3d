{
 "cells": [
  {
   "cell_type": "code",
   "execution_count": 19,
   "id": "9efbc84f-78ca-4c2b-8e3f-ee7e33700338",
   "metadata": {},
   "outputs": [],
   "source": [
    "import rich\n",
    "from rich.progress import Progress\n",
    "from rich.status import Status\n",
    "from rich.console import Console\n",
    "import time\n"
   ]
  },
  {
   "cell_type": "code",
   "execution_count": 27,
   "id": "04850b1d-e5b2-4801-8e8b-a3426d9bf0f1",
   "metadata": {},
   "outputs": [
    {
     "data": {
      "application/vnd.jupyter.widget-view+json": {
       "model_id": "5dfed4c113ab4c749ccd32dbf55ea96c",
       "version_major": 2,
       "version_minor": 0
      },
      "text/plain": [
       "Output()"
      ]
     },
     "metadata": {},
     "output_type": "display_data"
    },
    {
     "data": {
      "application/vnd.jupyter.widget-view+json": {
       "model_id": "",
       "version_major": 2,
       "version_minor": 0
      },
      "text/plain": [
       "Output()"
      ]
     },
     "metadata": {},
     "output_type": "display_data"
    },
    {
     "data": {
      "text/html": [
       "<pre style=\"white-space:pre;overflow-x:auto;line-height:normal;font-family:Menlo,'DejaVu Sans Mono',consolas,'Courier New',monospace\"></pre>\n"
      ],
      "text/plain": []
     },
     "metadata": {},
     "output_type": "display_data"
    },
    {
     "data": {
      "application/vnd.jupyter.widget-view+json": {
       "model_id": "a517ccc5169843d7b67f6e9ba32a3bbd",
       "version_major": 2,
       "version_minor": 0
      },
      "text/plain": [
       "Output()"
      ]
     },
     "metadata": {},
     "output_type": "display_data"
    },
    {
     "data": {
      "application/vnd.jupyter.widget-view+json": {
       "model_id": "",
       "version_major": 2,
       "version_minor": 0
      },
      "text/plain": [
       "Output()"
      ]
     },
     "metadata": {},
     "output_type": "display_data"
    },
    {
     "data": {
      "text/html": [
       "<pre style=\"white-space:pre;overflow-x:auto;line-height:normal;font-family:Menlo,'DejaVu Sans Mono',consolas,'Courier New',monospace\"></pre>\n"
      ],
      "text/plain": []
     },
     "metadata": {},
     "output_type": "display_data"
    },
    {
     "data": {
      "application/vnd.jupyter.widget-view+json": {
       "model_id": "ea99ebe9c6434175bd76dc8fab71096c",
       "version_major": 2,
       "version_minor": 0
      },
      "text/plain": [
       "Output()"
      ]
     },
     "metadata": {},
     "output_type": "display_data"
    },
    {
     "data": {
      "application/vnd.jupyter.widget-view+json": {
       "model_id": "",
       "version_major": 2,
       "version_minor": 0
      },
      "text/plain": [
       "Output()"
      ]
     },
     "metadata": {},
     "output_type": "display_data"
    },
    {
     "data": {
      "text/html": [
       "<pre style=\"white-space:pre;overflow-x:auto;line-height:normal;font-family:Menlo,'DejaVu Sans Mono',consolas,'Courier New',monospace\"></pre>\n"
      ],
      "text/plain": []
     },
     "metadata": {},
     "output_type": "display_data"
    }
   ],
   "source": [
    "import time\n",
    "from rich.progress import Progress\n",
    "from rich.console import Console\n",
    "\n",
    "# outer status bar\n",
    "console = Console()\n",
    "for status_name in ('status1', 'status2', 'status3'):\n",
    "    with console.status(f\"[bold green]Status = {status_name}\") as status:\n",
    "\n",
    "        # progressbar for status\n",
    "        with Progress() as progress:\n",
    "            task = progress.add_task('running', total=100)\n",
    "\n",
    "            for i in range(100):\n",
    "                progress.update(task, advance=1)\n",
    "                time.sleep(0.05)"
   ]
  },
  {
   "cell_type": "code",
   "execution_count": null,
   "id": "848143db-6708-4dea-a2c3-5577ec859dd4",
   "metadata": {},
   "outputs": [],
   "source": [
    "import time\n",
    "from rich.progress import Progress\n",
    "from rich.console import Console\n",
    "\n",
    "# outer status bar\n",
    "console = Console()\n",
    "for status_name in ('status1', 'status2', 'status3'):\n",
    "    with console.status(f\"[bold green]Status = {status_name}\") as status:\n",
    "\n",
    "        # progressbar for status\n",
    "        with Progress() as progress:\n",
    "            task = progress.add_task('running', total=100)\n",
    "\n",
    "            for i in range(100):\n",
    "                progress.update(task, advance=1)\n",
    "                time.sleep(0.05)"
   ]
  }
 ],
 "metadata": {
  "kernelspec": {
   "display_name": "Python 3 (ipykernel)",
   "language": "python",
   "name": "python3"
  },
  "language_info": {
   "codemirror_mode": {
    "name": "ipython",
    "version": 3
   },
   "file_extension": ".py",
   "mimetype": "text/x-python",
   "name": "python",
   "nbconvert_exporter": "python",
   "pygments_lexer": "ipython3",
   "version": "3.9.7"
  }
 },
 "nbformat": 4,
 "nbformat_minor": 5
}
