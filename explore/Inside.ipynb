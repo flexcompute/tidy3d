{
 "cells": [
  {
   "cell_type": "code",
   "execution_count": 23,
   "id": "039409fc-0111-4b8d-bd83-d451455b2be9",
   "metadata": {},
   "outputs": [],
   "source": [
    "from typing import Union, Tuple, Any, List\n",
    "from abc import ABC, abstractmethod\n",
    "\n",
    "import numpy as np\n",
    "import matplotlib.pylab as plt\n",
    "\n",
    "from dataclasses import dataclass\n",
    "from shapely.geometry import Point, LineString, Polygon, box, asMultiPoint\n",
    "from descartes import PolygonPatch \n"
   ]
  },
  {
   "cell_type": "code",
   "execution_count": 62,
   "id": "a882cba7-442d-44be-aa21-9aeb6a492ab1",
   "metadata": {},
   "outputs": [],
   "source": [
    "\n",
    "@dataclass\n",
    "class Geometry(ABC):\n",
    "        \n",
    "    center: Tuple[float, float, float]\n",
    "    \n",
    "    def __post_init__(self):\n",
    "        self.contains_vectorized = np.vectorize(self.contains_pointwise, signature=\"(n),(n)->()\")\n",
    "        self.geometry_vectorized = np.vectorize(self.geometry_z, signature=\"()->()\")\n",
    "\n",
    "    @abstractmethod\n",
    "    def geometry(self, x=None, y=None, z=None) -> list:\n",
    "        \"\"\" returns shapely geoemtry at plane specified by one non None value of x,y,z \"\"\"\n",
    "\n",
    "    def inside(self, x, y, z) -> bool:\n",
    "        \"\"\" is point (x,y,z) inside volume of Geometry? (note: here is slow (point by point) way, implement vectorized on subclasses. \"\"\"\n",
    "        insides = []\n",
    "        for (_x, _y, _z) in zip(x, y, z):\n",
    "            geo = self.geometry_z(_z)\n",
    "            loc = Point(_x, _y)\n",
    "            insides.append(geo.contains(loc))\n",
    "        return np.array(insides)\n",
    "\n",
    "    def contains_pointwise(self, xy_point, z_point):\n",
    "        point = Point(xy_point)\n",
    "        geo = self.geometry_vectorized(z_point)\n",
    "        return geo.contains(point)\n",
    "\n",
    "    def inside_vectorized(self, x, y, z) -> bool:\n",
    "        xy_points = np.stack((x, y), axis=0)\n",
    "        z_points = z[None, :]\n",
    "        return self.contains_vectorized(xy_points, z_points)\n",
    "        \n",
    "    @staticmethod\n",
    "    def pop_axis(coord: Tuple[Any, Any, Any], axis: int) -> Tuple[Any, Tuple[Any, Any]]:\n",
    "        \"\"\"separate coordinate at `axis` index from coordinates on the plane tangent to `axis`\"\"\"\n",
    "        plane_vals = list(coord)\n",
    "        axis_val = plane_vals.pop(axis)\n",
    "        return axis_val, plane_vals\n",
    "\n",
    "    def plot(self, x=None, y=None, z=None, ax=None, **patch_kwargs):\n",
    "        \"\"\" plot structure \"\"\"\n",
    "        if ax is None:\n",
    "            _, ax = plt.subplots()\n",
    "        geo = self.geometry(x=x, y=y, z=z)\n",
    "        for shape in geo:\n",
    "            patch = PolygonPatch(shape, **patch_kwargs)\n",
    "            ax.add_artist(patch)\n",
    "        return ax\n",
    "\n",
    "    @staticmethod\n",
    "    def _parse_xyz_kwargs(**xyz) -> Tuple[int, float]:\n",
    "        \"\"\" turns kwargs for plane specification like {x=None, y=None, z=None} into axis (0,1,2) and position along axis \"\"\"\n",
    "        xyz_filtered = {k : v for k, v in xyz.items() if v is not None}\n",
    "        assert len(xyz_filtered) == 1, f\"exatly one kwarg in [x,y,z] must be specified, given {xyz_filtered}.\"\n",
    "        axis_label, position = list(xyz_filtered.items())[0]\n",
    "        axis = 'xyz'.index(axis_label)\n",
    "        return axis, position\n",
    "    \n",
    "@dataclass\n",
    "class Sphere(Geometry):\n",
    "    \n",
    "    radius: float\n",
    "    \n",
    "    def _intersect_dist(self, position, z0):\n",
    "        \"\"\" distance between points on circle at z=position where center of circle at z=z0 \"\"\"\n",
    "        dz = np.abs(z0 - position)\n",
    "        return (dz <= self.radius) * 2 * np.sqrt(self.radius**2 - dz**2)\n",
    "\n",
    "    def geometry(self, x=None, y=None, z=None):\n",
    "        \"\"\" returns shapely geoemtry at plane specified by one non None value of x,y,z \"\"\"\n",
    "        axis, position = self._parse_xyz_kwargs(x=x, y=y, z=z)\n",
    "        z0, (x0, y0) = self.pop_axis(self.center, axis=axis)\n",
    "        intersect_dist = self._intersect_dist(position, z0)\n",
    "        center = Point(x0, y0)\n",
    "        return center.buffer(0.5 * intersect_dist)\n",
    "\n",
    "    def geometry_z(self, zs):\n",
    "        \"\"\" returns shapely geoemtry at plane specified by one non None value of x,y,z \"\"\"\n",
    "        (x0, y0, z0) = self.center\n",
    "        intersect_dist = self._intersect_dist(zs, z0)\n",
    "        center = Point(x0, y0)\n",
    "        return center.buffer(0.5 * intersect_dist)\n",
    "\n",
    "    def inside_numpy(self, x, y, z) -> bool:\n",
    "        \"\"\"returns True if (x,y,z) is inside of geometry\"\"\"\n",
    "        x0, y0, z0 = self.center\n",
    "        dist_x = np.abs(x - x0)\n",
    "        dist_y = np.abs(y - y0)\n",
    "        dist_z = np.abs(z - z0)\n",
    "        return (dist_x ** 2 + dist_y ** 2 + dist_z ** 2) <= (self.radius ** 2)\n"
   ]
  },
  {
   "cell_type": "code",
   "execution_count": 63,
   "id": "1d56336f-967e-4742-b210-71d72f652626",
   "metadata": {},
   "outputs": [],
   "source": [
    "# sphere\n",
    "N = 100\n",
    "xs = np.linspace(-1, 1, N)\n",
    "ys = np.linspace(-1, 1, N)\n",
    "zs = np.linspace(-1, 1, 1)\n",
    "xx, yy, zz = np.meshgrid(xs, ys, zs, indexing='ij')\n",
    "x = xx.flatten()\n",
    "y = yy.flatten()\n",
    "z = zz.flatten()\n",
    "\n",
    "s = Sphere(center=(0,0,0), radius=1)"
   ]
  },
  {
   "cell_type": "code",
   "execution_count": 64,
   "id": "918865b7-93c1-470e-8895-8b5981e2a1c0",
   "metadata": {},
   "outputs": [
    {
     "name": "stdout",
     "output_type": "stream",
     "text": [
      "CPU times: user 475 ms, sys: 6.24 ms, total: 481 ms\n",
      "Wall time: 484 ms\n"
     ]
    }
   ],
   "source": [
    "%%time\n",
    "s1 = s.inside(x=x, y=y, z=z)"
   ]
  },
  {
   "cell_type": "code",
   "execution_count": 65,
   "id": "6fe89387-848e-4bb0-895c-2f0e1c1fda1b",
   "metadata": {},
   "outputs": [
    {
     "ename": "AttributeError",
     "evalue": "'numpy.ndarray' object has no attribute 'contains'",
     "output_type": "error",
     "traceback": [
      "\u001b[0;31m---------------------------------------------------------------------------\u001b[0m",
      "\u001b[0;31mAttributeError\u001b[0m                            Traceback (most recent call last)",
      "\u001b[0;32m<timed exec>\u001b[0m in \u001b[0;36m<module>\u001b[0;34m\u001b[0m\n",
      "\u001b[0;32m/var/folders/jx/9y0mtn3s3zzb6mzgmsw6s6gr0000gn/T/ipykernel_66175/1566549411.py\u001b[0m in \u001b[0;36minside_vectorized\u001b[0;34m(self, x, y, z)\u001b[0m\n\u001b[1;32m     29\u001b[0m         \u001b[0mxy_points\u001b[0m \u001b[0;34m=\u001b[0m \u001b[0mnp\u001b[0m\u001b[0;34m.\u001b[0m\u001b[0mstack\u001b[0m\u001b[0;34m(\u001b[0m\u001b[0;34m(\u001b[0m\u001b[0mx\u001b[0m\u001b[0;34m,\u001b[0m \u001b[0my\u001b[0m\u001b[0;34m)\u001b[0m\u001b[0;34m,\u001b[0m \u001b[0maxis\u001b[0m\u001b[0;34m=\u001b[0m\u001b[0;36m0\u001b[0m\u001b[0;34m)\u001b[0m\u001b[0;34m\u001b[0m\u001b[0;34m\u001b[0m\u001b[0m\n\u001b[1;32m     30\u001b[0m         \u001b[0mz_points\u001b[0m \u001b[0;34m=\u001b[0m \u001b[0mz\u001b[0m\u001b[0;34m[\u001b[0m\u001b[0;32mNone\u001b[0m\u001b[0;34m,\u001b[0m \u001b[0;34m:\u001b[0m\u001b[0;34m]\u001b[0m\u001b[0;34m\u001b[0m\u001b[0;34m\u001b[0m\u001b[0m\n\u001b[0;32m---> 31\u001b[0;31m         \u001b[0;32mreturn\u001b[0m \u001b[0mself\u001b[0m\u001b[0;34m.\u001b[0m\u001b[0mcontains_vectorized\u001b[0m\u001b[0;34m(\u001b[0m\u001b[0mxy_points\u001b[0m\u001b[0;34m,\u001b[0m \u001b[0mz_points\u001b[0m\u001b[0;34m)\u001b[0m\u001b[0;34m\u001b[0m\u001b[0;34m\u001b[0m\u001b[0m\n\u001b[0m\u001b[1;32m     32\u001b[0m \u001b[0;34m\u001b[0m\u001b[0m\n\u001b[1;32m     33\u001b[0m     \u001b[0;34m@\u001b[0m\u001b[0mstaticmethod\u001b[0m\u001b[0;34m\u001b[0m\u001b[0;34m\u001b[0m\u001b[0m\n",
      "\u001b[0;32m~/Documents/Flexcompute/Tidy3D-client-revamp/env/lib/python3.9/site-packages/numpy/lib/function_base.py\u001b[0m in \u001b[0;36m__call__\u001b[0;34m(self, *args, **kwargs)\u001b[0m\n\u001b[1;32m   2161\u001b[0m             \u001b[0mvargs\u001b[0m\u001b[0;34m.\u001b[0m\u001b[0mextend\u001b[0m\u001b[0;34m(\u001b[0m\u001b[0;34m[\u001b[0m\u001b[0mkwargs\u001b[0m\u001b[0;34m[\u001b[0m\u001b[0m_n\u001b[0m\u001b[0;34m]\u001b[0m \u001b[0;32mfor\u001b[0m \u001b[0m_n\u001b[0m \u001b[0;32min\u001b[0m \u001b[0mnames\u001b[0m\u001b[0;34m]\u001b[0m\u001b[0;34m)\u001b[0m\u001b[0;34m\u001b[0m\u001b[0;34m\u001b[0m\u001b[0m\n\u001b[1;32m   2162\u001b[0m \u001b[0;34m\u001b[0m\u001b[0m\n\u001b[0;32m-> 2163\u001b[0;31m         \u001b[0;32mreturn\u001b[0m \u001b[0mself\u001b[0m\u001b[0;34m.\u001b[0m\u001b[0m_vectorize_call\u001b[0m\u001b[0;34m(\u001b[0m\u001b[0mfunc\u001b[0m\u001b[0;34m=\u001b[0m\u001b[0mfunc\u001b[0m\u001b[0;34m,\u001b[0m \u001b[0margs\u001b[0m\u001b[0;34m=\u001b[0m\u001b[0mvargs\u001b[0m\u001b[0;34m)\u001b[0m\u001b[0;34m\u001b[0m\u001b[0;34m\u001b[0m\u001b[0m\n\u001b[0m\u001b[1;32m   2164\u001b[0m \u001b[0;34m\u001b[0m\u001b[0m\n\u001b[1;32m   2165\u001b[0m     \u001b[0;32mdef\u001b[0m \u001b[0m_get_ufunc_and_otypes\u001b[0m\u001b[0;34m(\u001b[0m\u001b[0mself\u001b[0m\u001b[0;34m,\u001b[0m \u001b[0mfunc\u001b[0m\u001b[0;34m,\u001b[0m \u001b[0margs\u001b[0m\u001b[0;34m)\u001b[0m\u001b[0;34m:\u001b[0m\u001b[0;34m\u001b[0m\u001b[0;34m\u001b[0m\u001b[0m\n",
      "\u001b[0;32m~/Documents/Flexcompute/Tidy3D-client-revamp/env/lib/python3.9/site-packages/numpy/lib/function_base.py\u001b[0m in \u001b[0;36m_vectorize_call\u001b[0;34m(self, func, args)\u001b[0m\n\u001b[1;32m   2235\u001b[0m         \u001b[0;34m\"\"\"Vectorized call to `func` over positional `args`.\"\"\"\u001b[0m\u001b[0;34m\u001b[0m\u001b[0;34m\u001b[0m\u001b[0m\n\u001b[1;32m   2236\u001b[0m         \u001b[0;32mif\u001b[0m \u001b[0mself\u001b[0m\u001b[0;34m.\u001b[0m\u001b[0msignature\u001b[0m \u001b[0;32mis\u001b[0m \u001b[0;32mnot\u001b[0m \u001b[0;32mNone\u001b[0m\u001b[0;34m:\u001b[0m\u001b[0;34m\u001b[0m\u001b[0;34m\u001b[0m\u001b[0m\n\u001b[0;32m-> 2237\u001b[0;31m             \u001b[0mres\u001b[0m \u001b[0;34m=\u001b[0m \u001b[0mself\u001b[0m\u001b[0;34m.\u001b[0m\u001b[0m_vectorize_call_with_signature\u001b[0m\u001b[0;34m(\u001b[0m\u001b[0mfunc\u001b[0m\u001b[0;34m,\u001b[0m \u001b[0margs\u001b[0m\u001b[0;34m)\u001b[0m\u001b[0;34m\u001b[0m\u001b[0;34m\u001b[0m\u001b[0m\n\u001b[0m\u001b[1;32m   2238\u001b[0m         \u001b[0;32melif\u001b[0m \u001b[0;32mnot\u001b[0m \u001b[0margs\u001b[0m\u001b[0;34m:\u001b[0m\u001b[0;34m\u001b[0m\u001b[0;34m\u001b[0m\u001b[0m\n\u001b[1;32m   2239\u001b[0m             \u001b[0mres\u001b[0m \u001b[0;34m=\u001b[0m \u001b[0mfunc\u001b[0m\u001b[0;34m(\u001b[0m\u001b[0;34m)\u001b[0m\u001b[0;34m\u001b[0m\u001b[0;34m\u001b[0m\u001b[0m\n",
      "\u001b[0;32m~/Documents/Flexcompute/Tidy3D-client-revamp/env/lib/python3.9/site-packages/numpy/lib/function_base.py\u001b[0m in \u001b[0;36m_vectorize_call_with_signature\u001b[0;34m(self, func, args)\u001b[0m\n\u001b[1;32m   2275\u001b[0m \u001b[0;34m\u001b[0m\u001b[0m\n\u001b[1;32m   2276\u001b[0m         \u001b[0;32mfor\u001b[0m \u001b[0mindex\u001b[0m \u001b[0;32min\u001b[0m \u001b[0mnp\u001b[0m\u001b[0;34m.\u001b[0m\u001b[0mndindex\u001b[0m\u001b[0;34m(\u001b[0m\u001b[0;34m*\u001b[0m\u001b[0mbroadcast_shape\u001b[0m\u001b[0;34m)\u001b[0m\u001b[0;34m:\u001b[0m\u001b[0;34m\u001b[0m\u001b[0;34m\u001b[0m\u001b[0m\n\u001b[0;32m-> 2277\u001b[0;31m             \u001b[0mresults\u001b[0m \u001b[0;34m=\u001b[0m \u001b[0mfunc\u001b[0m\u001b[0;34m(\u001b[0m\u001b[0;34m*\u001b[0m\u001b[0;34m(\u001b[0m\u001b[0marg\u001b[0m\u001b[0;34m[\u001b[0m\u001b[0mindex\u001b[0m\u001b[0;34m]\u001b[0m \u001b[0;32mfor\u001b[0m \u001b[0marg\u001b[0m \u001b[0;32min\u001b[0m \u001b[0margs\u001b[0m\u001b[0;34m)\u001b[0m\u001b[0;34m)\u001b[0m\u001b[0;34m\u001b[0m\u001b[0;34m\u001b[0m\u001b[0m\n\u001b[0m\u001b[1;32m   2278\u001b[0m \u001b[0;34m\u001b[0m\u001b[0m\n\u001b[1;32m   2279\u001b[0m             \u001b[0mn_results\u001b[0m \u001b[0;34m=\u001b[0m \u001b[0mlen\u001b[0m\u001b[0;34m(\u001b[0m\u001b[0mresults\u001b[0m\u001b[0;34m)\u001b[0m \u001b[0;32mif\u001b[0m \u001b[0misinstance\u001b[0m\u001b[0;34m(\u001b[0m\u001b[0mresults\u001b[0m\u001b[0;34m,\u001b[0m \u001b[0mtuple\u001b[0m\u001b[0;34m)\u001b[0m \u001b[0;32melse\u001b[0m \u001b[0;36m1\u001b[0m\u001b[0;34m\u001b[0m\u001b[0;34m\u001b[0m\u001b[0m\n",
      "\u001b[0;32m/var/folders/jx/9y0mtn3s3zzb6mzgmsw6s6gr0000gn/T/ipykernel_66175/1566549411.py\u001b[0m in \u001b[0;36mcontains_pointwise\u001b[0;34m(self, xy_point, z_point)\u001b[0m\n\u001b[1;32m     24\u001b[0m         \u001b[0mpoint\u001b[0m \u001b[0;34m=\u001b[0m \u001b[0mPoint\u001b[0m\u001b[0;34m(\u001b[0m\u001b[0mxy_point\u001b[0m\u001b[0;34m)\u001b[0m\u001b[0;34m\u001b[0m\u001b[0;34m\u001b[0m\u001b[0m\n\u001b[1;32m     25\u001b[0m         \u001b[0mgeo\u001b[0m \u001b[0;34m=\u001b[0m \u001b[0mself\u001b[0m\u001b[0;34m.\u001b[0m\u001b[0mgeometry_vectorized\u001b[0m\u001b[0;34m(\u001b[0m\u001b[0mz_point\u001b[0m\u001b[0;34m)\u001b[0m\u001b[0;34m\u001b[0m\u001b[0;34m\u001b[0m\u001b[0m\n\u001b[0;32m---> 26\u001b[0;31m         \u001b[0;32mreturn\u001b[0m \u001b[0mgeo\u001b[0m\u001b[0;34m.\u001b[0m\u001b[0mcontains\u001b[0m\u001b[0;34m(\u001b[0m\u001b[0mpoint\u001b[0m\u001b[0;34m)\u001b[0m\u001b[0;34m\u001b[0m\u001b[0;34m\u001b[0m\u001b[0m\n\u001b[0m\u001b[1;32m     27\u001b[0m \u001b[0;34m\u001b[0m\u001b[0m\n\u001b[1;32m     28\u001b[0m     \u001b[0;32mdef\u001b[0m \u001b[0minside_vectorized\u001b[0m\u001b[0;34m(\u001b[0m\u001b[0mself\u001b[0m\u001b[0;34m,\u001b[0m \u001b[0mx\u001b[0m\u001b[0;34m,\u001b[0m \u001b[0my\u001b[0m\u001b[0;34m,\u001b[0m \u001b[0mz\u001b[0m\u001b[0;34m)\u001b[0m \u001b[0;34m->\u001b[0m \u001b[0mbool\u001b[0m\u001b[0;34m:\u001b[0m\u001b[0;34m\u001b[0m\u001b[0;34m\u001b[0m\u001b[0m\n",
      "\u001b[0;31mAttributeError\u001b[0m: 'numpy.ndarray' object has no attribute 'contains'"
     ]
    }
   ],
   "source": [
    "%%time\n",
    "s1 = s.inside_vectorized(x=x, y=y, z=z)"
   ]
  },
  {
   "cell_type": "code",
   "execution_count": 66,
   "id": "7239fbd1-15dd-44cc-a3dd-500a0529f0d5",
   "metadata": {},
   "outputs": [
    {
     "name": "stdout",
     "output_type": "stream",
     "text": [
      "CPU times: user 1.02 ms, sys: 1.1 ms, total: 2.12 ms\n",
      "Wall time: 1.19 ms\n"
     ]
    }
   ],
   "source": [
    "%%time\n",
    "s2 = s.inside_numpy(x=x, y=y, z=z)"
   ]
  },
  {
   "cell_type": "code",
   "execution_count": 29,
   "id": "b6d5f688-d749-4851-8909-519ba2d2573d",
   "metadata": {},
   "outputs": [],
   "source": [
    "assert np.all(s1 == s2)"
   ]
  },
  {
   "cell_type": "code",
   "execution_count": null,
   "id": "2884ceb3-5434-43a9-ae0c-7761ed549710",
   "metadata": {},
   "outputs": [],
   "source": []
  }
 ],
 "metadata": {
  "kernelspec": {
   "display_name": "env",
   "language": "python",
   "name": "env"
  },
  "language_info": {
   "codemirror_mode": {
    "name": "ipython",
    "version": 3
   },
   "file_extension": ".py",
   "mimetype": "text/x-python",
   "name": "python",
   "nbconvert_exporter": "python",
   "pygments_lexer": "ipython3",
   "version": "3.9.7"
  }
 },
 "nbformat": 4,
 "nbformat_minor": 5
}
