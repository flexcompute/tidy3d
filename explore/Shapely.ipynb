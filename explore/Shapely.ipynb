{
 "cells": [
  {
   "cell_type": "code",
   "execution_count": 358,
   "id": "039409fc-0111-4b8d-bd83-d451455b2be9",
   "metadata": {},
   "outputs": [],
   "source": [
    "from typing import Union, Tuple, Any, List\n",
    "from abc import ABC, abstractmethod\n",
    "\n",
    "import numpy as np\n",
    "import matplotlib.pylab as plt\n",
    "\n",
    "from dataclasses import dataclass\n",
    "from shapely.geometry import Point, LineString, Polygon, box, asMultiPoint\n",
    "from descartes import PolygonPatch \n"
   ]
  },
  {
   "cell_type": "code",
   "execution_count": 492,
   "id": "a882cba7-442d-44be-aa21-9aeb6a492ab1",
   "metadata": {},
   "outputs": [],
   "source": [
    "@dataclass\n",
    "class Geometry(ABC):\n",
    "        \n",
    "    center: Tuple[float, float, float]\n",
    "    \n",
    "    @abstractmethod\n",
    "    def geometry(self, x=None, y=None, z=None) -> list:\n",
    "        \"\"\" returns shapely geoemtry at plane specified by one non None value of x,y,z \"\"\"\n",
    "\n",
    "    def inside(self, x, y, z) -> bool:\n",
    "        \"\"\" is point (x,y,z) inside volume of Geometry? (note: here is slow (point by point) way, implement vectorized on subclasses. \"\"\"\n",
    "        geo = self.geometry(z=z)\n",
    "        loc = Point(x,y)\n",
    "        return any([shape.contains(loc) for shape in geo])\n",
    "\n",
    "    @staticmethod\n",
    "    def pop_axis(coord: Tuple[Any, Any, Any], axis: int) -> Tuple[Any, Tuple[Any, Any]]:\n",
    "        \"\"\"separate coordinate at `axis` index from coordinates on the plane tangent to `axis`\"\"\"\n",
    "        plane_vals = list(coord)\n",
    "        axis_val = plane_vals.pop(axis)\n",
    "        return axis_val, plane_vals\n",
    "\n",
    "    def plot(self, x=None, y=None, z=None, ax=None, **patch_kwargs):\n",
    "        \"\"\" plot structure \"\"\"\n",
    "        if ax is None:\n",
    "            _, ax = plt.subplots()\n",
    "        geo = self.geometry(x=x, y=y, z=z)\n",
    "        for shape in geo:\n",
    "            patch = PolygonPatch(shape, **patch_kwargs)\n",
    "            ax.add_artist(patch)\n",
    "        return ax\n",
    "\n",
    "    @staticmethod\n",
    "    def _parse_xyz_kwargs(**xyz) -> Tuple[int, float]:\n",
    "        \"\"\" turns kwargs for plane specification like {x=None, y=None, z=None} into axis (0,1,2) and position along axis \"\"\"\n",
    "        xyz_filtered = {k : v for k, v in xyz.items() if v is not None}\n",
    "        assert len(xyz_filtered) == 1, f\"exatly one kwarg in [x,y,z] must be specified, given {xyz_filtered}.\"\n",
    "        axis_label, position = list(xyz_filtered.items())[0]\n",
    "        axis = 'xyz'.index(axis_label)\n",
    "        return axis, position\n",
    "    \n",
    "@dataclass\n",
    "class Planar(Geometry, ABC):\n",
    "\n",
    "    axis: int\n",
    "    height: float\n",
    "    \n",
    "    def _order_by_axis(self, plane_val: Any, axis_val: Any, axis: int) -> Tuple[Any, Any]:\n",
    "        \"\"\" orders a value in the plane and value along axis in correct (x,y) order for plotting \"\"\"\n",
    "        vals = 3 * [plane_val]\n",
    "        vals[self.axis] = axis_val\n",
    "        _, (val_x, val_y) = self.pop_axis(vals, axis=axis)\n",
    "        return val_x, val_y\n",
    "\n",
    "    def geometry(self, x=None, y=None, z=None):\n",
    "        \"\"\" returns shapely geometry at plane specified by one non None value of x,y,z \"\"\"\n",
    "        axis, position = self._parse_xyz_kwargs(x=x, y=y, z=z)\n",
    "        if axis == self.axis:\n",
    "            z0, _ = self.pop_axis(self.center, axis=self.axis)\n",
    "            if (position < z0 - self.height/2) or (position > z0 + self.height/2):\n",
    "                return []\n",
    "            return self._geometry_normal()\n",
    "        return self._geometry_side(position, axis)\n",
    "\n",
    "    @abstractmethod\n",
    "    def _geometry_normal(self) -> list:\n",
    "        \"\"\" shapely geometry with axis normal to slab \"\"\"\n",
    "    \n",
    "    @abstractmethod\n",
    "    def _geometry_side(self, position, axis) -> list:\n",
    "        \"\"\" shapely geometry with axis orthogonal to slab \"\"\"\n",
    "\n",
    "@dataclass\n",
    "class Circular(Geometry):\n",
    "    \n",
    "    radius: float\n",
    "    \n",
    "    def _intersect_dist(self, position, z0):\n",
    "        \"\"\" distance between points on circle at z=position where center of circle at z=z0 \"\"\"\n",
    "        dz = np.abs(z0 - position)\n",
    "        if dz > self.radius:\n",
    "            return\n",
    "        return 2 * np.sqrt(self.radius**2 - dz**2)\n",
    "\n",
    "@dataclass\n",
    "class Sphere(Circular):\n",
    "    \"\"\" Sphere(center=(0,0,0), radius=1.0) \"\"\"\n",
    "\n",
    "    radius: float\n",
    "\n",
    "    def geometry(self, x=None, y=None, z=None):\n",
    "        \"\"\" returns shapely geoemtry at plane specified by one non None value of x,y,z \"\"\"\n",
    "        axis, position = self._parse_xyz_kwargs(x=x, y=y, z=z)\n",
    "        z0, (x0, y0) = self.pop_axis(self.center, axis=axis)\n",
    "        intersect_dist = self._intersect_dist(position, z0)\n",
    "        if not intersect_dist:\n",
    "            return []\n",
    "        return [Point(x0, y0).buffer(0.5 * intersect_dist)]\n",
    "\n",
    "    def inside(self, x, y, z) -> bool:\n",
    "        \"\"\"returns True if (x,y,z) is inside of geometry\"\"\"\n",
    "        x0, y0, z0 = self.center\n",
    "        dist_x = np.abs(x - x0)\n",
    "        dist_y = np.abs(y - y0)\n",
    "        dist_z = np.abs(z - z0)\n",
    "        return (dist_x ** 2 + dist_y ** 2 + dist_z ** 2) <= (self.radius ** 2)\n",
    "\n",
    "@dataclass\n",
    "class Cylinder(Circular, Planar):\n",
    "    \"\"\" Cylinder(center=(0,0,0), radius=1.0, axis=2, length=1) \"\"\"\n",
    "        \n",
    "    def _geometry_normal(self):\n",
    "        \"\"\" shapely geometry with axis normal to slab \"\"\"\n",
    "        _, (x0, y0) = self.pop_axis(self.center, axis=self.axis)\n",
    "        return [Point(x0, y0).buffer(self.radius)]\n",
    "\n",
    "    def _geometry_side(self, position, axis):\n",
    "        \"\"\" shapely geometry with axis orthogonal to slab \"\"\"\n",
    "        z0, (x0, y0) = self.pop_axis(self.center, axis=self.axis)\n",
    "        intersect_dist = self._intersect_dist(position, z0)\n",
    "        if not intersect_dist:\n",
    "            return []\n",
    "        Lx, Ly = self._order_by_axis(plane_val=intersect_dist, axis_val=self.height, axis=axis)\n",
    "        return [box(minx=x0-Lx/2, miny=y0-Ly/2, maxx=x0+Lx/2, maxy=y0+Ly/2)]\n",
    "\n",
    "    def inside(self, x, y, z) -> bool:\n",
    "        \"\"\"returns True if (x,y,z) is inside of geometry\"\"\"\n",
    "        z0, (x0, y0) = self.pop_axis(self.center, axis=self.axis)\n",
    "        dist_x = np.abs(x - x0)\n",
    "        dist_y = np.abs(y - y0)\n",
    "        dist_z = np.abs(z - z0)\n",
    "        inside_radius = (dist_x ** 2 + dist_y ** 2) <= (self.radius ** 2)\n",
    "        inside_height = dist_z < (self.height / 2)\n",
    "        return inside_radius * inside_height\n",
    "\n",
    "@dataclass\n",
    "class PolySlab(Planar):\n",
    "    \"\"\" PolySlab(center=(0,0,0), vertices=[(0,0), (1,0), (1,1)], length=1.0, axis=2) \"\"\"\n",
    "    \n",
    "    vertices: List[Tuple[float, float]]\n",
    "    \n",
    "    def inside(self, x, y, z) -> bool:\n",
    "        \"\"\"returns True if (x,y,z) is inside of geometry\"\"\"\n",
    "        z0, (x0, y0) = self.pop_axis(self.center, axis=self.axis)\n",
    "        dist_z = np.abs(z - z0)\n",
    "        inside_height = dist_z < (self.height / 2)\n",
    "        face_polygon = Polygon(self.vertices)\n",
    "        if isinstance(x, np.ndarray):\n",
    "            inside_polygon = np.zeros_like(inside_height)\n",
    "            xs_slab = x[inside_height]\n",
    "            ys_slab = y[inside_height]\n",
    "            def contains_pointwise(xy_point):\n",
    "                point = Point(xy_point)\n",
    "                return face_polygon.contains(point)\n",
    "            contains_vectorized = np.vectorize(contains_pointwise, signature='(n)->()')\n",
    "            points_stacked = np.stack((xs_slab, ys_slab), axis=1)\n",
    "            inside_polygon_slab = contains_vectorized(points_stacked)\n",
    "            inside_polygon[inside_height] = inside_polygon_slab\n",
    "        else:\n",
    "            point = Point(x,y)\n",
    "            inside_polygon = face_polygon.contains(point)\n",
    "        return inside_height * inside_polygon\n",
    "    \n",
    "    def _geometry_normal(self):\n",
    "        \"\"\" shapely geometry with axis normal to slab \"\"\"\n",
    "        return [Polygon(self.vertices)]\n",
    "\n",
    "    def _geometry_side(self, position, axis) -> list:\n",
    "        \"\"\" shapely geometry with axis orthogonal to slab \"\"\"\n",
    "\n",
    "        z0, _ = self.pop_axis(self.center, axis=self.axis)\n",
    "        z_min, z_max = z0 - self.height/2, z0 + self.height/2\n",
    "        iverts_b, iverts_f = self._find_intersecting_vertices(position, axis)\n",
    "        ints_y = self._find_intersecting_ys(iverts_b, iverts_f, position)\n",
    "\n",
    "        # make polygon with intersections and z axis information\n",
    "        polys = []\n",
    "        for y_index in range(len(ints_y) // 2):\n",
    "            y_min = ints_y[2 * y_index]\n",
    "            y_max = ints_y[2 * y_index + 1]\n",
    "            minx, miny = self._order_by_axis(plane_val=y_min, axis_val=z_min, axis=axis)\n",
    "            maxx, maxy = self._order_by_axis(plane_val=y_max, axis_val=z_max, axis=axis)\n",
    "            polys.append(box(minx=minx, miny=miny, maxx=maxx, maxy=maxy))\n",
    "\n",
    "        return polys\n",
    "\n",
    "    def _find_intersecting_vertices(self, position: float, axis: int) -> Tuple[np.ndarray, np.ndarray]:\n",
    "        \"\"\"find pairs of forward and backwards vertices where interescets\"\"\"\n",
    "\n",
    "        vertices_b = np.array(self.vertices)\n",
    "\n",
    "        # if the first coordinate refers to bounds, need to flip the vertices x,y\n",
    "        if (axis == 2) or ((self.axis == 2) and (axis == 1)):\n",
    "            vertices_b = np.roll(vertices_b, shift=1, axis=1)\n",
    "\n",
    "        # get the forward vertices\n",
    "        vertices_f = np.roll(vertices_b, shift=1, axis=0)\n",
    "\n",
    "        # find which segments intersect\n",
    "        intersects_b = np.logical_and((vertices_f[:, 0] <= position), (vertices_b[:, 0] > position))\n",
    "        intersects_f = np.logical_and((vertices_b[:, 0] <= position), (vertices_f[:, 0] > position))\n",
    "        intersects_segment = np.logical_or(intersects_b, intersects_f)\n",
    "        iverts_b = vertices_b[intersects_segment]\n",
    "        iverts_f = vertices_f[intersects_segment]\n",
    "\n",
    "        return iverts_b, iverts_f\n",
    "\n",
    "    @staticmethod\n",
    "    def _find_intersecting_ys(iverts_b: np.ndarray, iverts_f: np.ndarray, position: float) -> List[float]:\n",
    "        \"\"\"for each intersecting segment, find intersection point (in y) assuming straight line\"\"\"\n",
    "\n",
    "        ints_y = []\n",
    "        for (vertices_f, vertices_b) in zip(iverts_b, iverts_f):\n",
    "            x1, y1 = vertices_f\n",
    "            x2, y2 = vertices_b\n",
    "            slope = (y2 - y1) / (x2 - x1)\n",
    "            y = y1 + slope * (position - x1)\n",
    "            ints_y.append(y)\n",
    "        ints_y.sort()\n",
    "        return ints_y\n",
    "\n",
    "@dataclass\n",
    "class Box(Geometry):\n",
    "    \"\"\" Box(center=(0,0,0), size=(1,1,1)) \"\"\"\n",
    "\n",
    "    size: Tuple[float, float, float]\n",
    "    \n",
    "    def geometry(self, x=None, y=None, z=None):\n",
    "        \"\"\" returns shapely geoemtry at plane specified by one non None value of x,y,z \"\"\"\n",
    "        axis, position = self._parse_xyz_kwargs(x=x, y=y, z=z)\n",
    "        z0, (x0, y0) = self.pop_axis(self.center, axis=axis)\n",
    "        Lz, (Lx, Ly) = self.pop_axis(self.size, axis=axis)\n",
    "        dz = np.abs(z0 - position)\n",
    "        if dz > Lz/2:\n",
    "            return []\n",
    "        return [box(minx=x0-Lx/2, miny=y0-Ly/2, maxx=x0+Lx/2, maxy=y0+Ly/2)]    \n",
    "    \n",
    "    def inside(self, x, y, z) -> bool:\n",
    "        \"\"\"returns True if (x,y,z) is inside of geometry\"\"\"\n",
    "        x0, y0, z0 = self.center\n",
    "        Lx, Ly, Lz = self.size\n",
    "        dist_x = np.abs(x - x0)\n",
    "        dist_y = np.abs(y - y0)\n",
    "        dist_z = np.abs(z - z0)\n",
    "        return (dist_x < Lx / 2) * (dist_y < Ly / 2) * (dist_z < Lz / 2)\n",
    "\n",
    "@dataclass\n",
    "class Structure:\n",
    "    geometry: Geometry\n",
    "    medium: str"
   ]
  },
  {
   "cell_type": "code",
   "execution_count": 493,
   "id": "985d66ec-2196-4ad3-9907-dc56d805d51c",
   "metadata": {},
   "outputs": [
    {
     "data": {
      "image/png": "[encoded data removed]",
      "text/plain": [
       "<Figure size 432x288 with 1 Axes>"
      ]
     },
     "metadata": {
      "needs_background": "light"
     },
     "output_type": "display_data"
    }
   ],
   "source": [
    "# sphere\n",
    "s = Sphere(center=(1,1,0), radius=1)\n",
    "ax = s.plot(z=0.1)\n",
    "ax.set_xlim(-1,3)\n",
    "ax.set_ylim(-1,3)\n",
    "ax.set_aspect('equal')"
   ]
  },
  {
   "cell_type": "code",
   "execution_count": 494,
   "id": "f54a93c0-ff18-4c6e-a63b-474ffc308c87",
   "metadata": {},
   "outputs": [
    {
     "data": {
      "image/png": "[encoded data removed]",
      "text/plain": [
       "<Figure size 432x288 with 1 Axes>"
      ]
     },
     "metadata": {
      "needs_background": "light"
     },
     "output_type": "display_data"
    }
   ],
   "source": [
    "# box\n",
    "s1 = Sphere(center=(0.5,1.5,0), radius=.3)\n",
    "s2 = Sphere(center=(1.5,1.5,0), radius=.3)\n",
    "b = Box(center=(1,0.5,0), size=(2,.3,0))\n",
    "\n",
    "ax = s1.plot(z=0, facecolor='crimson')\n",
    "ax = s2.plot(z=0, edgecolor='brown', fill=False, ax=ax)\n",
    "ax = b.plot(z=0, ax=ax, alpha=0.5)\n",
    "\n",
    "ax.set_xlim(-1,3)\n",
    "ax.set_ylim(-1,3)\n",
    "ax.set_aspect('equal')\n",
    "plt.show()"
   ]
  },
  {
   "cell_type": "code",
   "execution_count": 495,
   "id": "24c75cb6-266b-4be2-86a7-516c00dfa6cd",
   "metadata": {},
   "outputs": [
    {
     "data": {
      "text/plain": [
       "1.8841986941728517"
      ]
     },
     "execution_count": 495,
     "metadata": {},
     "output_type": "execute_result"
    }
   ],
   "source": [
    "s1.geometry(z=0)[0].length"
   ]
  },
  {
   "cell_type": "code",
   "execution_count": 496,
   "id": "3f95cb0c-c3d8-4b97-8133-e644766db8a6",
   "metadata": {},
   "outputs": [
    {
     "data": {
      "image/png": "[encoded data removed]",
      "text/plain": [
       "<Figure size 432x288 with 1 Axes>"
      ]
     },
     "metadata": {
      "needs_background": "light"
     },
     "output_type": "display_data"
    }
   ],
   "source": [
    "c = Cylinder(center=(1,1,1), radius=1, length=2, axis=1)\n",
    "ax = c.plot(x=1.1)\n",
    "ax.set_xlim(-1,3)\n",
    "ax.set_ylim(-1,3)\n",
    "ax.set_aspect('equal')\n",
    "plt.show()"
   ]
  },
  {
   "cell_type": "code",
   "execution_count": 497,
   "id": "e5bc2a8f-35ed-49a4-8695-7d415af88261",
   "metadata": {},
   "outputs": [
    {
     "data": {
      "image/png": "[encoded data removed]",
      "text/plain": [
       "<Figure size 432x288 with 1 Axes>"
      ]
     },
     "metadata": {
      "needs_background": "light"
     },
     "output_type": "display_data"
    }
   ],
   "source": [
    "p = PolySlab(center=(1,1,1), vertices=[(0, 0), (1, 0.5), (2, 0), (1.5, 1), (2, 2), (1, 1.5), (0, 2), (0.5, 1)], length=2, axis=2)\n",
    "ax = p.plot(z=1.8)\n",
    "ax.set_xlim(-1,3)\n",
    "ax.set_ylim(-1,3)\n",
    "ax.set_aspect('equal')\n",
    "plt.show()"
   ]
  },
  {
   "cell_type": "code",
   "execution_count": 498,
   "id": "e83e8b8e-6eed-4ccc-93bb-cf86563f1a7c",
   "metadata": {},
   "outputs": [
    {
     "data": {
      "image/png": "[encoded data removed]",
      "text/plain": [
       "<Figure size 432x288 with 2 Axes>"
      ]
     },
     "metadata": {
      "needs_background": "light"
     },
     "output_type": "display_data"
    }
   ],
   "source": [
    "num = 100\n",
    "pts = np.linspace(-1, 3, num)\n",
    "x, y, z = np.meshgrid(pts, pts, pts, indexing='ij')\n",
    "x, y, z = x.flatten(), y.flatten(), z.flatten()\n",
    "inside = p.inside(x, y, z)\n",
    "inside = inside.reshape((num, num, num))\n",
    "im = plt.imshow(inside[..., num//2], cmap='gist_yarg')\n",
    "plt.colorbar(im)\n",
    "plt.title('indside(x, y; z=1)')\n",
    "plt.show()"
   ]
  },
  {
   "cell_type": "code",
   "execution_count": null,
   "id": "77ce50c6-034d-4963-bda2-c4719032263c",
   "metadata": {},
   "outputs": [],
   "source": []
  },
  {
   "cell_type": "code",
   "execution_count": null,
   "id": "b70b41ff-fd77-449d-8045-096810d37072",
   "metadata": {},
   "outputs": [],
   "source": []
  }
 ],
 "metadata": {
  "kernelspec": {
   "display_name": "env",
   "language": "python",
   "name": "env"
  },
  "language_info": {
   "codemirror_mode": {
    "name": "ipython",
    "version": 3
   },
   "file_extension": ".py",
   "mimetype": "text/x-python",
   "name": "python",
   "nbconvert_exporter": "python",
   "pygments_lexer": "ipython3",
   "version": "3.9.7"
  }
 },
 "nbformat": 4,
 "nbformat_minor": 5
}
