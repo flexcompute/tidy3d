{
 "cells": [
  {
   "cell_type": "code",
   "execution_count": 1,
   "id": "b5b474ee-7312-46a7-ad1d-fb7e43c0ec2c",
   "metadata": {},
   "outputs": [],
   "source": [
    "import sys\n",
    "sys.path.append('..')\n",
    "\n",
    "from tidy3d.components.base import Tidy3dBaseModel\n",
    "from typing import Literal"
   ]
  },
  {
   "cell_type": "code",
   "execution_count": 53,
   "id": "ec27769e-03ee-40b2-b0b9-078243b5e8d3",
   "metadata": {},
   "outputs": [],
   "source": [
    "class Inf(Tidy3dBaseModel):\n",
    "    type: Literal['Inf'] = 'Inf'\n",
    "    value: float = 1  # fictional \"value\" in the inf world, units of np.inf\n",
    "\n",
    "    def __neg__(self):\n",
    "        return Inf(value=-self.value)\n",
    "    \n",
    "    def __add__(self, other):\n",
    "        if isinstance(other, Inf):\n",
    "            new_value = self.value + other.value\n",
    "            # special case, if it's exactly, 0 just return zero\n",
    "            if new_value == 0.0:\n",
    "                return 0.0\n",
    "            return Inf(value=new_value)\n",
    "        return Inf(value=self.value + other)\n",
    "\n",
    "    def __sub__(self, other):\n",
    "        return self + -other\n",
    "\n",
    "    def __mul__(self, other):\n",
    "        if isinstance(other, Inf):\n",
    "            new_value = self.value * other.value\n",
    "            # special case, if it's exactly, 0 just return zero\n",
    "            if new_value == 0.0:\n",
    "                return 0.0            \n",
    "            return Inf(value=new_value)\n",
    "        return Inf(value=self.value * other)\n",
    "\n",
    "    def __div__(self, other):\n",
    "        return self.__mul__(1.0 / other)\n",
    "\n",
    "    def __truediv__(self, other):\n",
    "        return self.__mul__(1.0 / other)\n",
    "\n",
    "    def __eq__(self, other):\n",
    "        if isinstance(other, Inf):\n",
    "            return self.value == other.value\n",
    "        return False\n",
    "\n",
    "    def __lt__(self, other):\n",
    "        if isinstance(other, Inf):\n",
    "            return self.value < other.value\n",
    "        return True if self.value < 0 else False\n",
    "\n",
    "    def __gt__(self, other):\n",
    "        if isinstance(other, Inf):\n",
    "            return self.value > other.value\n",
    "        return True if self.value > 0 else False\n",
    "\n",
    "    def __le__(self, other):\n",
    "        if isinstance(other, Inf):\n",
    "            return self.value < other.value\n",
    "        return True if self.value < 0 else False\n",
    "\n",
    "    def __ge__(self, other):\n",
    "        if isinstance(other, Inf):\n",
    "            return self.value >= other.value\n",
    "        return True if self.value >= 0 else False"
   ]
  },
  {
   "cell_type": "code",
   "execution_count": 54,
   "id": "91058320-429c-49b2-9908-bce983a113a7",
   "metadata": {},
   "outputs": [],
   "source": [
    "inf = Inf()"
   ]
  },
  {
   "cell_type": "code",
   "execution_count": 61,
   "id": "6957c5d9-617f-462f-a7f7-6eb43d01547c",
   "metadata": {},
   "outputs": [],
   "source": [
    "# properties to support\n",
    "\n",
    "# can be negative\n",
    "assert -inf < inf\n",
    "\n",
    "# is larger (smaller) than any number\n",
    "assert inf > 1e122\n",
    "assert -inf < -1e122\n",
    "\n",
    "# can be compared to versions of itself modified with basic algebra\n",
    "assert inf < inf*2\n",
    "assert inf < inf + 1.0\n",
    "assert inf > inf/2\n",
    "assert inf > inf - 1.0\n",
    "assert -inf > -inf*2\n",
    "assert -inf < -inf + 1.0\n",
    "assert -inf < -inf/2\n",
    "assert -inf > -inf - 1.0\n",
    "\n",
    "# algebra between two infs leads to values that are expected intuitively\n",
    "assert inf/2 - inf/2 == 0.0\n",
    "assert -inf/3 + inf/3 == 0.0\n",
    "assert inf/2 + inf/3 < inf\n"
   ]
  },
  {
   "cell_type": "code",
   "execution_count": 62,
   "id": "8f0b6360-314d-4d8a-9b49-eefefd03ce62",
   "metadata": {},
   "outputs": [
    {
     "name": "stdout",
     "output_type": "stream",
     "text": [
      "type='Inf' value=1.5\n"
     ]
    }
   ],
   "source": [
    "print(inf+inf/2)"
   ]
  },
  {
   "cell_type": "code",
   "execution_count": 63,
   "id": "a64c4a0f-f003-4942-bb6e-2a882ce51008",
   "metadata": {},
   "outputs": [
    {
     "data": {
      "text/html": [
       "<pre style=\"white-space:pre;overflow-x:auto;line-height:normal;font-family:Menlo,'DejaVu Sans Mono',consolas,'Courier New',monospace\"><span style=\"color: #008080; text-decoration-color: #008080; font-weight: bold\">0.5</span>\n",
       "</pre>\n"
      ],
      "text/plain": [
       "\u001b[1;36m0.5\u001b[0m\n"
      ]
     },
     "metadata": {},
     "output_type": "display_data"
    }
   ],
   "source": [
    "center.value"
   ]
  },
  {
   "cell_type": "code",
   "execution_count": null,
   "id": "e99b2fe0-8b83-409f-a046-1d11d4daf9e8",
   "metadata": {},
   "outputs": [],
   "source": []
  },
  {
   "cell_type": "code",
   "execution_count": null,
   "id": "2e5eebe5-55fc-4079-8921-6b580782de60",
   "metadata": {},
   "outputs": [],
   "source": []
  }
 ],
 "metadata": {
  "kernelspec": {
   "display_name": "Python 3 (ipykernel)",
   "language": "python",
   "name": "python3"
  },
  "language_info": {
   "codemirror_mode": {
    "name": "ipython",
    "version": 3
   },
   "file_extension": ".py",
   "mimetype": "text/x-python",
   "name": "python",
   "nbconvert_exporter": "python",
   "pygments_lexer": "ipython3",
   "version": "3.9.7"
  }
 },
 "nbformat": 4,
 "nbformat_minor": 5
}
