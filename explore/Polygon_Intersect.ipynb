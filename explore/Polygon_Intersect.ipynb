{
 "cells": [
  {
   "cell_type": "code",
   "execution_count": 1,
   "id": "3c2e6e60-2134-4746-b035-a305a545ab13",
   "metadata": {},
   "outputs": [],
   "source": [
    "import numpy as np\n",
    "import matplotlib.pylab as plt\n",
    "import matplotlib as mpl"
   ]
  },
  {
   "cell_type": "code",
   "execution_count": 80,
   "id": "25a64a63-5067-4256-92fe-da68228b57c9",
   "metadata": {
    "tags": []
   },
   "outputs": [],
   "source": [
    "def _shift_vertices(vertices, dists):\n",
    "    \"\"\" shifts the vertices of a polygon inward uniformly by distances \n",
    "    `dists`.  Returns new polygon vertices, one for each dist.\n",
    "    \"\"\"\n",
    "\n",
    "    # cast dists to array just to be safe (if float)\n",
    "    dists = np.array(dists)\n",
    "\n",
    "    if np.all(np.isclose(dists, 0)):\n",
    "        return vertices\n",
    "\n",
    "    def rot90(v):\n",
    "        \"\"\" 90 degree rotation of 2d vector\n",
    "            vx -> vy\n",
    "            vy -> -vx\n",
    "        \"\"\"\n",
    "        vxs, vys = v\n",
    "        return np.stack((-vys, vxs), axis=0)\n",
    "    \n",
    "    def cross(v1, v2):\n",
    "        return np.cross(v1, v2, axis=0)\n",
    "    \n",
    "    def normalize(v):\n",
    "        return v / (np.linalg.norm(v, axis=0))\n",
    "    \n",
    "    num_verts = vertices.shape[0]\n",
    "    \n",
    "    vs = vertices.T.copy()\n",
    "    vsp = np.roll(vs.copy(), axis=-1, shift=-1)\n",
    "    vsm = np.roll(vs.copy(), axis=-1, shift=+1)\n",
    "    \n",
    "    asp = normalize(vsp - vs)\n",
    "    asm = normalize(vs - vsm)\n",
    "\n",
    "    vs_new = vs + dists[..., None, None] * rot90(asm)\n",
    "    det = cross(asp, asm)\n",
    "\n",
    "    det_nz = 1.0 - 1.0 * np.isclose(det, 0)\n",
    "\n",
    "    tmp = (cross(asm, rot90(asm-asp)) / (det + 1e-9))\n",
    "    corrections = (1 - np.isclose(det, 0)) * dists[..., None, None] * tmp\n",
    "\n",
    "    return np.swapaxes(vs_new + corrections * asm, -2, -1)\n",
    "\n",
    "class Polygon:\n",
    "    def __init__(self, vertices, zbounds, side_angle=0.0):\n",
    "        # note: vertices are 'base' vertices (at zmin or zbounds[0])\n",
    "        self.vertices = np.array(vertices)\n",
    "        self.zbounds = self.zmin, self.zmax = zbounds\n",
    "        # note: side angle is in degrees with 0 meaning straight, >0 meaning smaller top\n",
    "        self.side_angle = side_angle\n",
    "        self.side_angle_rad = side_angle / 180 * np.pi\n",
    "    \n",
    "    def intersects(self, axis='z', pos=0.0):\n",
    "        \"\"\" returns list of (N,2) polygon vertices in the plane normal to axis at position axis=pos \"\"\"\n",
    "        if axis == 'x':\n",
    "            return self._intersects_x(pos)\n",
    "        elif axis == 'y':\n",
    "            return self._intersects_y(pos)\n",
    "        elif axis == 'z':\n",
    "            return self._intersects_z(pos)\n",
    "    \n",
    "    def _intersects_side(self, pos, axis='x'):\n",
    "        \"\"\" finds intersection with polygon at position axis=pos, for axis=x or y \"\"\"\n",
    "\n",
    "        assert axis in ('x', 'y')\n",
    "\n",
    "        # get all segments\n",
    "        v1 = self.vertices\n",
    "        \n",
    "        # if axis is y, just flip x,y coordinates and do the same as for x\n",
    "        if axis == 'y':\n",
    "            v1 = np.roll(v1, shift=1, axis=1)\n",
    "\n",
    "        # get 'next' segments\n",
    "        v2 = np.roll(v1, shift=1, axis=0)\n",
    "\n",
    "        # find which segments intersect\n",
    "        intersects_forward = np.logical_and((v1[:,0] <= pos), (v2[:,0] > pos))\n",
    "        intersects_backward = np.logical_and((v2[:,0] <= pos), (v1[:,0] > pos))\n",
    "        intersects_segment = np.logical_or(intersects_forward, intersects_backward)\n",
    "        ints_v1 = v1[intersects_segment]\n",
    "        ints_v2 = v2[intersects_segment]\n",
    "\n",
    "        # for each intersecting segment, find specific intersection point (in y) assuming straight line\n",
    "        ints_y = []\n",
    "        for (_v1, _v2) in zip(ints_v1, ints_v2):\n",
    "            # find the interescting y\n",
    "            x1, y1 = _v1\n",
    "            x2, y2 = _v2\n",
    "            slope = (y2 - y1) / (x2 - x1)\n",
    "            y = y1 + slope * (pos - x1)\n",
    "            ints_y.append(y)\n",
    "\n",
    "        # sort the intersections just to be safe\n",
    "        ints_y.sort()\n",
    "                   \n",
    "        # make polygon with intersections and z axis information\n",
    "        polys = []\n",
    "        for i in range(len(ints_y) // 2):\n",
    "\n",
    "            # consecutive smaller and larger y points, respectively, assumed material between them\n",
    "            y1 = ints_y[2*i]\n",
    "            y2 = ints_y[2*i + 1]\n",
    "            \n",
    "            # make the polygon\n",
    "            if np.isclose(self.side_angle, 0.0):\n",
    "                # normal case, just make a rectangle\n",
    "                poly = [(y1, self.zmin), (y2, self.zmin), (y2, self.zmax), (y1, self.zmax)]\n",
    "            else:\n",
    "                # sidewall angle case, get distances needed for calculation\n",
    "                dist_y = np.abs(y2 - y1)\n",
    "                dist_z = np.abs(self.zmax - self.zmin)\n",
    "                \n",
    "                # distance in z where the sidewalls would intersect\n",
    "                hz = np.abs(dist_y / 2 / np.tan(self.side_angle_rad))\n",
    "                if hz < dist_z and self.side_angle > 0:\n",
    "                    # if they do intersect before reaching top of polygon (and it's positive side wall) make triangle\n",
    "                    y_mid = (y1 + y2) / 2\n",
    "                    poly = [(y1, self.zmin), (y2, self.zmin), (y_mid, self.zmin + hz)]\n",
    "                else:\n",
    "                    # otherwise, just adjust the y positions of the top part of the polygon to shift based on sidewall\n",
    "                    dy = dist_z * np.tan(self.side_angle_rad)\n",
    "                    poly = [(y1, self.zmin), (y2, self.zmin), (y2-dy, self.zmax), (y1+dy, self.zmax)]        \n",
    "\n",
    "            polys.append(poly)\n",
    "        return polys\n",
    "    \n",
    "    def _intersects_x(self, pos):\n",
    "        return self._intersects_side(pos, axis='x')\n",
    "\n",
    "    def _intersects_y(self, pos):\n",
    "        return self._intersects_side(pos, axis='y')\n",
    "    \n",
    "    def _intersects_z(self, pos):\n",
    "        if (self.zmin > pos) or (self.zmax < pos):\n",
    "            # if outside of z bounds, return nothing\n",
    "            return []\n",
    "        elif np.isclose(self.side_angle, 0.0):\n",
    "            # if inside bounds and no side angle, return orginal vertices\n",
    "            return [self.vertices]\n",
    "        else:\n",
    "            # if side angle present, compute shifting of polygon as function of pos and return shifted\n",
    "            dist_z = pos - self.zmin\n",
    "            dist_shift = dist_z * np.tan(self.side_angle_rad)\n",
    "            vertices_shifted = _shift_vertices(self.vertices, dist_shift)\n",
    "            return [vertices_shifted]"
   ]
  },
  {
   "cell_type": "code",
   "execution_count": 81,
   "id": "9f2d3942-d1c2-4ac7-aa33-36993892c465",
   "metadata": {},
   "outputs": [],
   "source": [
    "# constructs star polygon\n",
    "\n",
    "# inner and outer radii of star\n",
    "r_in = 0.4\n",
    "r_out = 1.0\n",
    "\n",
    "# inner and outer star vertices\n",
    "inner_vertices = [(r_in * np.cos(2*np.pi*i/5 + np.pi/2 - np.pi/5), r_in * np.sin(2*np.pi*i/5 + np.pi/2 - np.pi/5)) for i in range(5)]\n",
    "outer_vertices = [(r_out * np.cos(2*np.pi*i/5 + np.pi/2), r_out * np.sin(2*np.pi*i/5 + np.pi/2)) for i in range(5)]\n",
    "\n",
    "# interweave inner and outer vertices to make star\n",
    "star_vertices = []\n",
    "for i in range(5):\n",
    "    star_vertices.append(inner_vertices[i])\n",
    "    star_vertices.append(outer_vertices[i])"
   ]
  },
  {
   "cell_type": "code",
   "execution_count": 67,
   "id": "ca33c2dd-9595-41de-939f-c2bdc2d2a0fb",
   "metadata": {},
   "outputs": [],
   "source": [
    "def plot_polygons(vertices_list, ax=None):\n",
    "    if ax is None:\n",
    "        f, ax = plt.subplots(1,1)\n",
    "    for vertices in vertices_list:\n",
    "        patch = mpl.patches.Polygon(vertices)\n",
    "        ax.add_patch(patch)\n",
    "    ax.set_xlim(-2, 2)\n",
    "    ax.set_ylim(-2, 2)\n",
    "    return ax"
   ]
  },
  {
   "cell_type": "code",
   "execution_count": 76,
   "id": "6f95e41d-c7d5-4779-9ff4-e5fbed199939",
   "metadata": {},
   "outputs": [],
   "source": [
    "p = Polygon(star_vertices, zbounds=(-1, 1), side_angle=5)"
   ]
  },
  {
   "cell_type": "code",
   "execution_count": 77,
   "id": "e254ff81-c15c-4655-a6b0-4fbf0930a049",
   "metadata": {},
   "outputs": [
    {
     "data": {
      "image/png": "[encoded data removed]",
      "text/plain": [
       "<Figure size 864x172.8 with 5 Axes>"
      ]
     },
     "metadata": {
      "needs_background": "light"
     },
     "output_type": "display_data"
    }
   ],
   "source": [
    "# z direction\n",
    "pos_list = np.linspace(-2, 2, 5)\n",
    "\n",
    "n_pos = len(pos_list)\n",
    "f, axes = plt.subplots(1, n_pos, tight_layout=True, figsize=(12, 12/n_pos))\n",
    "for ax, pos in zip(axes, pos_list):\n",
    "    polygons = p.intersects(axis='z', pos=pos)\n",
    "    ax = plot_polygons(polygons, ax=ax)\n",
    "    ax.set_title(f'pos={pos:.1f}')\n",
    "    ax.set_xlabel('x')\n",
    "    ax.set_ylabel('y')    \n",
    "plt.show()"
   ]
  },
  {
   "cell_type": "code",
   "execution_count": 78,
   "id": "59b14043-f492-4370-9bf2-9fb8b93bacb4",
   "metadata": {},
   "outputs": [
    {
     "data": {
      "image/png": "[encoded data removed]",
      "text/plain": [
       "<Figure size 864x172.8 with 5 Axes>"
      ]
     },
     "metadata": {
      "needs_background": "light"
     },
     "output_type": "display_data"
    }
   ],
   "source": [
    "# x direction\n",
    "pos_list = np.linspace(-1, 1, 5)\n",
    "\n",
    "n_pos = len(pos_list)\n",
    "f, axes = plt.subplots(1, n_pos, tight_layout=True, figsize=(12, 12/n_pos))\n",
    "\n",
    "for ax, pos in zip(axes, pos_list):\n",
    "    polygons = p.intersects(axis='x', pos=pos)\n",
    "    ax = plot_polygons(polygons, ax=ax)\n",
    "    ax.set_title(f'pos={pos:.1f}')\n",
    "    ax.set_xlabel('y')\n",
    "    ax.set_ylabel('z')\n",
    "plt.show()"
   ]
  },
  {
   "cell_type": "code",
   "execution_count": 79,
   "id": "3444b359-af43-4668-9541-e129bd599770",
   "metadata": {},
   "outputs": [
    {
     "data": {
      "image/png": "[encoded data removed]",
      "text/plain": [
       "<Figure size 864x172.8 with 5 Axes>"
      ]
     },
     "metadata": {
      "needs_background": "light"
     },
     "output_type": "display_data"
    }
   ],
   "source": [
    "# x direction\n",
    "pos_list = np.linspace(-0.5, 1, 5)\n",
    "\n",
    "n_pos = len(pos_list)\n",
    "f, axes = plt.subplots(1, n_pos, tight_layout=True, figsize=(12, 12/n_pos))\n",
    "\n",
    "for ax, pos in zip(axes, pos_list):\n",
    "    polygons = p.intersects(axis='y', pos=pos)\n",
    "    ax = plot_polygons(polygons, ax=ax)\n",
    "    ax.set_title(f'pos={pos:.1f}')\n",
    "    ax.set_xlabel('x')\n",
    "    ax.set_ylabel('z')\n",
    "plt.show()"
   ]
  },
  {
   "cell_type": "code",
   "execution_count": null,
   "id": "66b1ef2a-6a26-4783-826a-ab892dc1bfdd",
   "metadata": {},
   "outputs": [],
   "source": []
  },
  {
   "cell_type": "code",
   "execution_count": null,
   "id": "4b75ce75-8205-4405-9ef7-3ba7103733b3",
   "metadata": {},
   "outputs": [],
   "source": []
  }
 ],
 "metadata": {
  "kernelspec": {
   "display_name": "Python 3 (ipykernel)",
   "language": "python",
   "name": "python3"
  },
  "language_info": {
   "codemirror_mode": {
    "name": "ipython",
    "version": 3
   },
   "file_extension": ".py",
   "mimetype": "text/x-python",
   "name": "python",
   "nbconvert_exporter": "python",
   "pygments_lexer": "ipython3",
   "version": "3.9.7"
  }
 },
 "nbformat": 4,
 "nbformat_minor": 5
}
