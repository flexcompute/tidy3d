{
 "cells": [
  {
   "cell_type": "code",
   "execution_count": 1,
   "id": "f3f97cee-b1a9-4221-ab2b-771c2fb9a8a2",
   "metadata": {},
   "outputs": [
    {
     "name": "stderr",
     "output_type": "stream",
     "text": [
      "/Library/Frameworks/Python.framework/Versions/3.7/lib/python3.7/site-packages/ipykernel_launcher.py:3: UserWarning: \n",
      "The dash_core_components package is deprecated. Please replace\n",
      "`import dash_core_components as dcc` with `from dash import dcc`\n",
      "  This is separate from the ipykernel package so we can avoid doing imports until\n",
      "/Library/Frameworks/Python.framework/Versions/3.7/lib/python3.7/site-packages/ipykernel_launcher.py:4: UserWarning: \n",
      "The dash_html_components package is deprecated. Please replace\n",
      "`import dash_html_components as html` with `from dash import html`\n",
      "  after removing the cwd from sys.path.\n"
     ]
    }
   ],
   "source": [
    "import numpy as np\n",
    "from jupyter_dash import JupyterDash\n",
    "import dash_core_components as dcc\n",
    "import dash_html_components as html\n",
    "from dash.dependencies import Input, Output\n",
    "\n",
    "import pydantic as pd\n",
    "from typing import Tuple\n",
    "\n",
    "from data import FieldDataPlotly\n",
    "import sys\n",
    "sys.path.append('../../../')\n",
    "from tidy3d import SimulationData"
   ]
  },
  {
   "cell_type": "code",
   "execution_count": 52,
   "id": "16c9d8e9-29d7-4c21-872f-bc04d57b2054",
   "metadata": {},
   "outputs": [],
   "source": [
    "class App:\n",
    "    \n",
    "    def __init__(self, sim_data : SimulationData):\n",
    "        self.sim_data = sim_data\n",
    "        self.field_data = FieldDataPlotly(data=sim_data['fields'])\n",
    "        self.field_val = list(self.field_data.data.data_dict.keys())[0]\n",
    "        self.cs_axis = 2\n",
    "        \n",
    "        fields = list(self.field_data.data.data_dict.keys())\n",
    "        freqs = self.field_data.data[self.field_val].f.values.tolist()\n",
    "        cs_vals = self.field_data.data[self.field_val].coords['xyz'[self.cs_axis]].values.tolist()\n",
    "            \n",
    "        self.f_val = freqs[0]\n",
    "        self.cs_val = np.mean(cs_vals)\n",
    "        self.val_val = 'real'\n",
    "        self.app = self.make_app()\n",
    "        \n",
    "    def plot_field(self):\n",
    "        xyz_kwargs=dict(x=None, y=None, z=None)\n",
    "        xyz_kwargs[\"xyz\"[self.cs_axis]] = self.cs_val\n",
    "        fig = self.field_data.plotly(\n",
    "            field=self.field_val,\n",
    "            freq=self.f_val,\n",
    "            val=self.val_val,\n",
    "            **xyz_kwargs\n",
    "        )\n",
    "        return fig\n",
    "        \n",
    "    def make_app(self):\n",
    "\n",
    "        app = JupyterDash(__name__)\n",
    "        app.layout = html.Div(\n",
    "            [\n",
    "                html.Div(\n",
    "                    [\n",
    "                        html.H1(f'Viewing data for FieldMonitor: \"field\"'),\n",
    "                        html.H2(f'Field component.'),\n",
    "                        dcc.Dropdown(\n",
    "                            options=list(self.field_data.data.data_dict.keys()),\n",
    "                            value=self.field_val,\n",
    "                            id='field_dropdown',\n",
    "                        ),\n",
    "                        html.H2(f'Value to plot.'),\n",
    "                        dcc.Dropdown(\n",
    "                            options=['real', 'imag', 'abs'],\n",
    "                            value=self.val_val,\n",
    "                            id='val_dropdown',\n",
    "                        ),            \n",
    "                        html.Br(),\n",
    "                        html.Div(\n",
    "                            [\n",
    "                                dcc.Dropdown(\n",
    "                                    options=['x', 'y', 'z'],\n",
    "                                    value='xyz'[self.cs_axis],\n",
    "                                    id='cs_axis_dropdown',\n",
    "                                ),\n",
    "                                dcc.Slider(\n",
    "                                    min=self.field_data.data[self.field_val].coords['xyz'[self.cs_axis]].values.tolist()[0],\n",
    "                                    max=self.field_data.data[self.field_val].coords['xyz'[self.cs_axis]].values.tolist()[-1],\n",
    "                                    value=self.cs_val,\n",
    "                                    id='cs_slider',\n",
    "                                ),\n",
    "                            ],# style={'display': 'flex', 'flex':0,  'padding': 5, 'flex-direction': 'row'}\n",
    "                        )\n",
    "                    ], style={'padding': 10, 'flex': 1}\n",
    "                ),\n",
    "                html.Div(\n",
    "                    [\n",
    "                        dcc.Graph(\n",
    "                            id='field_plot',\n",
    "                            figure=self.plot_field(),\n",
    "                        )\n",
    "                    ], style={'padding': 10, 'flex': 1}\n",
    "                )\n",
    "            ], style={'display': 'flex', 'flex-direction': 'row'}\n",
    "        )\n",
    "\n",
    "        @app.callback(\n",
    "            Output('field_plot', 'figure'),\n",
    "            [\n",
    "                Input('field_dropdown', 'value'),\n",
    "                Input('val_dropdown', 'value'),\n",
    "                Input('cs_axis_dropdown', 'value'),\n",
    "                Input('cs_slider', 'value'),\n",
    "                #Input('f_slider', 'value')\n",
    "            ]\n",
    "        )\n",
    "        def set_field(value_field, value_val, value_cs_axis, value_cs):#, value_f):\n",
    "            self.field_val = str(value_field)\n",
    "            self.val_val = str(value_val)\n",
    "            self.cs_axis = ['x', 'y', 'z'].index(value_cs_axis)\n",
    "            self.cs_val = float(value_cs)\n",
    "            \n",
    "            fig = self.plot_field()\n",
    "            return fig\n",
    "                  \n",
    "        return app\n",
    "    \n",
    "    def run(self):\n",
    "    \n",
    "        self.app.run_server(mode='jupyterlab', port = 8090, dev_tools_ui=True, #debug=True,\n",
    "              dev_tools_hot_reload =True, threaded=True)"
   ]
  },
  {
   "cell_type": "code",
   "execution_count": 53,
   "id": "2961d810-344b-4c48-bbce-a836bdc999b7",
   "metadata": {},
   "outputs": [],
   "source": [
    "sim_data = SimulationData.from_file('data/box_full.hdf5')\n",
    "app = App(sim_data=sim_data)"
   ]
  },
  {
   "cell_type": "code",
   "execution_count": 54,
   "id": "5c143c0c-8cf4-497f-85ef-b354813c091e",
   "metadata": {},
   "outputs": [
    {
     "name": "stderr",
     "output_type": "stream",
     "text": [
      "/Library/Frameworks/Python.framework/Versions/3.7/lib/python3.7/site-packages/jupyter_dash/jupyter_app.py:139: UserWarning:\n",
      "\n",
      "The 'environ['werkzeug.server.shutdown']' function is deprecated and will be removed in Werkzeug 2.1.\n",
      "\n"
     ]
    }
   ],
   "source": [
    "app.run()"
   ]
  },
  {
   "cell_type": "code",
   "execution_count": 28,
   "id": "21774726-906b-4d5d-97c9-319e8ad23588",
   "metadata": {},
   "outputs": [
    {
     "data": {
      "text/html": [
       "<pre style=\"white-space:pre;overflow-x:auto;line-height:normal;font-family:Menlo,'DejaVu Sans Mono',consolas,'Courier New',monospace\"><span style=\"color: #7fbfbf; text-decoration-color: #7fbfbf\">[13:33:10] </span><span style=\"color: #800000; text-decoration-color: #800000; font-weight: bold\">ERROR   </span> monitor <span style=\"color: #008000; text-decoration-color: #008000\">'field'</span> not found                                       <a href=\"file:///Users/twhughes/Documents/Flexcompute/tidy3d-docs/tidy3d/tidy3d/log.py\"><span style=\"color: #7f7f7f; text-decoration-color: #7f7f7f\">log.py</span></a><span style=\"color: #7f7f7f; text-decoration-color: #7f7f7f\">:</span><a href=\"file:///Users/twhughes/Documents/Flexcompute/tidy3d-docs/tidy3d/tidy3d/log.py#33\"><span style=\"color: #7f7f7f; text-decoration-color: #7f7f7f\">33</span></a>\n",
       "</pre>\n"
      ],
      "text/plain": [
       "\u001b[2;36m[13:33:10]\u001b[0m\u001b[2;36m \u001b[0m\u001b[1;31mERROR   \u001b[0m monitor \u001b[32m'field'\u001b[0m not found                                       \u001b]8;id=582760;file:///Users/twhughes/Documents/Flexcompute/tidy3d-docs/tidy3d/tidy3d/log.py\u001b\\\u001b[2mlog.py\u001b[0m\u001b]8;;\u001b\\\u001b[2m:\u001b[0m\u001b]8;id=598823;file:///Users/twhughes/Documents/Flexcompute/tidy3d-docs/tidy3d/tidy3d/log.py#33\u001b\\\u001b[2m33\u001b[0m\u001b]8;;\u001b\\\n"
      ]
     },
     "metadata": {},
     "output_type": "display_data"
    },
    {
     "ename": "DataError",
     "evalue": "(DataError(...), \"monitor 'field' not found\")",
     "output_type": "error",
     "traceback": [
      "\u001b[0;31m---------------------------------------------------------------------------\u001b[0m",
      "\u001b[0;31mDataError\u001b[0m                                 Traceback (most recent call last)",
      "\u001b[0;32m/var/folders/jx/9y0mtn3s3zzb6mzgmsw6s6gr0000gn/T/ipykernel_2405/1106315199.py\u001b[0m in \u001b[0;36m<module>\u001b[0;34m\u001b[0m\n\u001b[0;32m----> 1\u001b[0;31m \u001b[0mf0\u001b[0m \u001b[0;34m=\u001b[0m \u001b[0mfloat\u001b[0m\u001b[0;34m(\u001b[0m\u001b[0msim_data\u001b[0m\u001b[0;34m[\u001b[0m\u001b[0;34m'field'\u001b[0m\u001b[0;34m]\u001b[0m\u001b[0;34m.\u001b[0m\u001b[0mEx\u001b[0m\u001b[0;34m.\u001b[0m\u001b[0mf\u001b[0m\u001b[0;34m.\u001b[0m\u001b[0mvalues\u001b[0m\u001b[0;34m)\u001b[0m\u001b[0;34m\u001b[0m\u001b[0;34m\u001b[0m\u001b[0m\n\u001b[0m",
      "\u001b[0;32m~/Documents/Flexcompute/tidy3d-docs/tidy3d/tidy3d/components/data.py\u001b[0m in \u001b[0;36m__getitem__\u001b[0;34m(self, monitor_name)\u001b[0m\n\u001b[1;32m    852\u001b[0m         \u001b[0mmonitor_data\u001b[0m \u001b[0;34m=\u001b[0m \u001b[0mself\u001b[0m\u001b[0;34m.\u001b[0m\u001b[0mmonitor_data\u001b[0m\u001b[0;34m.\u001b[0m\u001b[0mget\u001b[0m\u001b[0;34m(\u001b[0m\u001b[0mmonitor_name\u001b[0m\u001b[0;34m)\u001b[0m\u001b[0;34m\u001b[0m\u001b[0;34m\u001b[0m\u001b[0m\n\u001b[1;32m    853\u001b[0m         \u001b[0;32mif\u001b[0m \u001b[0;32mnot\u001b[0m \u001b[0mmonitor_data\u001b[0m\u001b[0;34m:\u001b[0m\u001b[0;34m\u001b[0m\u001b[0;34m\u001b[0m\u001b[0m\n\u001b[0;32m--> 854\u001b[0;31m             \u001b[0;32mraise\u001b[0m \u001b[0mDataError\u001b[0m\u001b[0;34m(\u001b[0m\u001b[0;34mf\"monitor '{monitor_name}' not found\"\u001b[0m\u001b[0;34m)\u001b[0m\u001b[0;34m\u001b[0m\u001b[0;34m\u001b[0m\u001b[0m\n\u001b[0m\u001b[1;32m    855\u001b[0m         \u001b[0;32mif\u001b[0m \u001b[0misinstance\u001b[0m\u001b[0;34m(\u001b[0m\u001b[0mmonitor_data\u001b[0m\u001b[0;34m,\u001b[0m \u001b[0mMonitorData\u001b[0m\u001b[0;34m)\u001b[0m\u001b[0;34m:\u001b[0m\u001b[0;34m\u001b[0m\u001b[0;34m\u001b[0m\u001b[0m\n\u001b[1;32m    856\u001b[0m             \u001b[0;32mreturn\u001b[0m \u001b[0mmonitor_data\u001b[0m\u001b[0;34m.\u001b[0m\u001b[0mdata\u001b[0m\u001b[0;34m\u001b[0m\u001b[0;34m\u001b[0m\u001b[0m\n",
      "\u001b[0;31mDataError\u001b[0m: (DataError(...), \"monitor 'field' not found\")"
     ]
    }
   ],
   "source": [
    "f0 = float(sim_data['field'].Ex.f.values)"
   ]
  },
  {
   "cell_type": "code",
   "execution_count": null,
   "id": "29f0ad26-091b-4bf2-9080-81ec8a47f224",
   "metadata": {},
   "outputs": [],
   "source": [
    "dpy = FieldDataPlotly(data=sim_data['field'])"
   ]
  },
  {
   "cell_type": "code",
   "execution_count": 24,
   "id": "85e65b4d-112d-4c2a-a532-2aaf23e6bd95",
   "metadata": {},
   "outputs": [
    {
     "ename": "NameError",
     "evalue": "name 'dpy' is not defined",
     "output_type": "error",
     "traceback": [
      "\u001b[0;31m---------------------------------------------------------------------------\u001b[0m",
      "\u001b[0;31mNameError\u001b[0m                                 Traceback (most recent call last)",
      "\u001b[0;32m/var/folders/jx/9y0mtn3s3zzb6mzgmsw6s6gr0000gn/T/ipykernel_2405/3411511650.py\u001b[0m in \u001b[0;36m<module>\u001b[0;34m\u001b[0m\n\u001b[0;32m----> 1\u001b[0;31m \u001b[0mfig\u001b[0m \u001b[0;34m=\u001b[0m \u001b[0mdpy\u001b[0m\u001b[0;34m.\u001b[0m\u001b[0mplotly\u001b[0m\u001b[0;34m(\u001b[0m\u001b[0mfreq\u001b[0m\u001b[0;34m=\u001b[0m\u001b[0mf0\u001b[0m\u001b[0;34m,\u001b[0m \u001b[0mval\u001b[0m\u001b[0;34m=\u001b[0m\u001b[0;34m're'\u001b[0m\u001b[0;34m,\u001b[0m \u001b[0mfield\u001b[0m\u001b[0;34m=\u001b[0m\u001b[0;34m'Ex'\u001b[0m\u001b[0;34m,\u001b[0m \u001b[0mz\u001b[0m\u001b[0;34m=\u001b[0m\u001b[0;36m0.1\u001b[0m\u001b[0;34m)\u001b[0m\u001b[0;34m\u001b[0m\u001b[0;34m\u001b[0m\u001b[0m\n\u001b[0m\u001b[1;32m      2\u001b[0m \u001b[0mfig\u001b[0m\u001b[0;34m.\u001b[0m\u001b[0mshow\u001b[0m\u001b[0;34m(\u001b[0m\u001b[0;34m)\u001b[0m\u001b[0;34m\u001b[0m\u001b[0;34m\u001b[0m\u001b[0m\n",
      "\u001b[0;31mNameError\u001b[0m: name 'dpy' is not defined"
     ]
    }
   ],
   "source": [
    "fig = dpy.plotly(freq=f0, val='re', field='Ex', z=0.1)\n",
    "fig.show()"
   ]
  },
  {
   "cell_type": "code",
   "execution_count": null,
   "id": "a3917bc4-e9ef-4c93-8651-713357432219",
   "metadata": {},
   "outputs": [],
   "source": [
    "fig = dpy.plotly(freq=f0, val='re', field='Ex')"
   ]
  },
  {
   "cell_type": "code",
   "execution_count": null,
   "id": "ac627d7e-f618-4f34-a82b-130e633aa298",
   "metadata": {},
   "outputs": [],
   "source": [
    "fig.show()"
   ]
  },
  {
   "cell_type": "code",
   "execution_count": null,
   "id": "c08c5423-7810-474a-8420-a1067f0d68fc",
   "metadata": {},
   "outputs": [],
   "source": [
    "sim_data['field'].Ey.isel(f=0, z=1).real.plot.pcolormesh(x='x', y='y')"
   ]
  },
  {
   "cell_type": "code",
   "execution_count": null,
   "id": "8bc07ad7-bc5e-45dc-8bbe-5be10b18c1b5",
   "metadata": {},
   "outputs": [],
   "source": [
    "sim_data['field'].Ex.z"
   ]
  },
  {
   "cell_type": "code",
   "execution_count": null,
   "id": "4274d8a6-7014-4a21-9079-c316fa4b9e9f",
   "metadata": {},
   "outputs": [],
   "source": [
    "list(sim_data['field'].data_dict.keys())"
   ]
  },
  {
   "cell_type": "code",
   "execution_count": null,
   "id": "c71cc4e9-4ba5-4439-a3f3-e6940bbe7b34",
   "metadata": {},
   "outputs": [],
   "source": []
  }
 ],
 "metadata": {
  "kernelspec": {
   "display_name": "Python 3 (ipykernel)",
   "language": "python",
   "name": "python3"
  },
  "language_info": {
   "codemirror_mode": {
    "name": "ipython",
    "version": 3
   },
   "file_extension": ".py",
   "mimetype": "text/x-python",
   "name": "python",
   "nbconvert_exporter": "python",
   "pygments_lexer": "ipython3",
   "version": "3.7.9"
  }
 },
 "nbformat": 4,
 "nbformat_minor": 5
}
