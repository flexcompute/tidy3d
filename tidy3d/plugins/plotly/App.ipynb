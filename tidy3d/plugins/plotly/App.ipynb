{
 "cells": [
  {
   "cell_type": "code",
   "execution_count": 2,
   "id": "cc20a591-6158-4786-8655-e190c1fa76c1",
   "metadata": {},
   "outputs": [],
   "source": [
    "import sys;\n",
    "sys.path.append('../../../')\n",
    "\n",
    "from tidy3d.components.simulation import Simulation\n",
    "from tidy3d.components.geometry import Box, Sphere\n",
    "from tidy3d.components.medium import Medium\n",
    "from tidy3d.components.structure import Structure\n",
    "from tidy3d.components.source import PlaneWave, GaussianPulse\n",
    "from tidy3d.components.monitor import FluxMonitor\n",
    "from tidy3d.constants import inf"
   ]
  },
  {
   "cell_type": "code",
   "execution_count": 6,
   "id": "2a1a739c-ffb1-4a96-93e6-f14ada45c58e",
   "metadata": {},
   "outputs": [],
   "source": [
    "sim = Simulation(\n",
    "    size=(6,6,6),\n",
    "    grid_size=(.01, .01, .01),\n",
    "    run_time=1e-12,\n",
    "    structures=[\n",
    "        Structure(\n",
    "            geometry=Box(size=(1,1,1), center=(2, 0, 0)),\n",
    "            medium=Medium(permittivity=2.0)\n",
    "        ),\n",
    "        Structure(\n",
    "            geometry=Box(size=(1,1,1), center=(-2, 0, 0)),\n",
    "            medium=Medium(permittivity=3.0)\n",
    "        ),\n",
    "        Structure(\n",
    "            geometry=Sphere(radius=1),\n",
    "            medium=Medium(permittivity=4.0)\n",
    "        ),                \n",
    "    ],\n",
    "    sources=[\n",
    "        PlaneWave(\n",
    "            center=(0, 2, 0), \n",
    "            size=(inf, 0, inf),\n",
    "            source_time=GaussianPulse(freq0=200e12, fwidth=100e12),\n",
    "            pol_angle=0,\n",
    "            direction=\"-\"\n",
    "        )\n",
    "    ],\n",
    "    monitors=[\n",
    "        FluxMonitor(\n",
    "            center=(0,-2,0),\n",
    "            size=(inf, 0, inf),\n",
    "            freqs=[200e12],\n",
    "            name='flux'\n",
    "        )\n",
    "    ]\n",
    ")"
   ]
  },
  {
   "cell_type": "code",
   "execution_count": 8,
   "id": "097603ca-4386-4cbb-bacb-847ce14d1564",
   "metadata": {},
   "outputs": [
    {
     "ename": "ModuleNotFoundError",
     "evalue": "No module named 'dash'",
     "output_type": "error",
     "traceback": [
      "\u001b[0;31m---------------------------------------------------------------------------\u001b[0m",
      "\u001b[0;31mModuleNotFoundError\u001b[0m                       Traceback (most recent call last)",
      "\u001b[0;32m/var/folders/jx/9y0mtn3s3zzb6mzgmsw6s6gr0000gn/T/ipykernel_94308/1393156720.py\u001b[0m in \u001b[0;36m<module>\u001b[0;34m\u001b[0m\n\u001b[0;32m----> 1\u001b[0;31m \u001b[0;32mfrom\u001b[0m \u001b[0mapp\u001b[0m \u001b[0;32mimport\u001b[0m \u001b[0mmake_app\u001b[0m\u001b[0;34m\u001b[0m\u001b[0;34m\u001b[0m\u001b[0m\n\u001b[0m",
      "\u001b[0;32m~/Documents/Flexcompute/tidy3d-docs/tidy3d/tidy3d/plugins/plotly/app.py\u001b[0m in \u001b[0;36m<module>\u001b[0;34m\u001b[0m\n\u001b[0;32m----> 1\u001b[0;31m \u001b[0;32mfrom\u001b[0m \u001b[0mdash\u001b[0m \u001b[0;32mimport\u001b[0m \u001b[0mDash\u001b[0m\u001b[0;34m,\u001b[0m \u001b[0mdcc\u001b[0m\u001b[0;34m,\u001b[0m \u001b[0mhtml\u001b[0m\u001b[0;34m,\u001b[0m \u001b[0mInput\u001b[0m\u001b[0;34m,\u001b[0m \u001b[0mOutput\u001b[0m\u001b[0;34m\u001b[0m\u001b[0;34m\u001b[0m\u001b[0m\n\u001b[0m\u001b[1;32m      2\u001b[0m \u001b[0;32mimport\u001b[0m \u001b[0mplotly\u001b[0m\u001b[0;34m.\u001b[0m\u001b[0mexpress\u001b[0m \u001b[0;32mas\u001b[0m \u001b[0mpx\u001b[0m\u001b[0;34m\u001b[0m\u001b[0;34m\u001b[0m\u001b[0m\n\u001b[1;32m      3\u001b[0m \u001b[0;32mimport\u001b[0m \u001b[0mpandas\u001b[0m \u001b[0;32mas\u001b[0m \u001b[0mpd\u001b[0m\u001b[0;34m\u001b[0m\u001b[0;34m\u001b[0m\u001b[0m\n\u001b[1;32m      4\u001b[0m \u001b[0;34m\u001b[0m\u001b[0m\n\u001b[1;32m      5\u001b[0m \u001b[0;32mfrom\u001b[0m \u001b[0;34m.\u001b[0m\u001b[0mgeo\u001b[0m \u001b[0;32mimport\u001b[0m \u001b[0mSimulationPlotly\u001b[0m\u001b[0;34m\u001b[0m\u001b[0;34m\u001b[0m\u001b[0m\n",
      "\u001b[0;31mModuleNotFoundError\u001b[0m: No module named 'dash'"
     ]
    }
   ],
   "source": [
    "from app import make_app"
   ]
  },
  {
   "cell_type": "code",
   "execution_count": null,
   "id": "a393800f-2c39-4d2f-87f1-e521fccf5e84",
   "metadata": {},
   "outputs": [],
   "source": []
  }
 ],
 "metadata": {
  "kernelspec": {
   "display_name": "Python 3 (ipykernel)",
   "language": "python",
   "name": "python3"
  },
  "language_info": {
   "codemirror_mode": {
    "name": "ipython",
    "version": 3
   },
   "file_extension": ".py",
   "mimetype": "text/x-python",
   "name": "python",
   "nbconvert_exporter": "python",
   "pygments_lexer": "ipython3",
   "version": "3.7.9"
  }
 },
 "nbformat": 4,
 "nbformat_minor": 5
}
