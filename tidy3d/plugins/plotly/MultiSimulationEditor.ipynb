{
 "cells": [
  {
   "cell_type": "code",
   "execution_count": 8,
   "id": "78689462-febd-4a12-8ba2-a0fa16344671",
   "metadata": {},
   "outputs": [],
   "source": [
    "import numpy as np\n",
    "from jupyter_dash import JupyterDash\n",
    "import dash_core_components as dcc\n",
    "import dash_html_components as html\n",
    "from dash.dependencies import Input, Output\n",
    "\n",
    "import pydantic as pd\n",
    "from typing import Tuple, Dict\n",
    "\n",
    "import sys\n",
    "sys.path.append('../../../')\n",
    "from tidy3d import Simulation, PML\n",
    "\n",
    "class App:\n",
    "    \n",
    "    def __init__(self, sims : Dict[str, Simulation]):\n",
    "        self.sims = sims\n",
    "        self.task_name = list(self.sims.keys())[0]\n",
    "        self.app = self.make_app()\n",
    "        \n",
    "    def make_app(self):\n",
    "\n",
    "        app = JupyterDash(__name__)\n",
    "\n",
    "        app.layout = html.Div([\n",
    "            dcc.Tabs([\n",
    "                self.render_layout(app, task_name, sim)\n",
    "                for task_name, sim in self.sims.items()])\n",
    "        ])\n",
    "                              \n",
    "        return app\n",
    "\n",
    "\n",
    "    def render_layout(self, app, task_name, sim):\n",
    "        \n",
    "        pml_labels = ['PML (x)', 'PML (y)', 'PML (z)']\n",
    "        initial_labels = [label for label, pml_on in zip(pml_labels, sim.pml_layers) if pml_on is not None]\n",
    "        \n",
    "        def append_task_name(string):\n",
    "            return f'{string}_{task_name}'\n",
    "        \n",
    "        layout = dcc.Tab([\n",
    "            html.H2(f'Task: {task_name}'),\n",
    "\n",
    "            # size\n",
    "            html.Br(),\n",
    "            html.Label('Size [x,y,z] (um)'),\n",
    "            html.Br(),            \n",
    "            html.Div([\n",
    "                dcc.Input(value=sim.size[0], type='number', id=append_task_name('size_x'))\n",
    "            ], style={'width': '15%', 'display': 'inline-block'}),\n",
    "            html.Div([\n",
    "\n",
    "                dcc.Input(value=sim.size[1], type='number', id=append_task_name('size_y'))\n",
    "            ], style={'width': '15%', 'display': 'inline-block'}),\n",
    "            html.Div([\n",
    "                dcc.Input(value=sim.size[2], type='number', id=append_task_name('size_z'))\n",
    "            ], style={'width': '15%', 'display': 'inline-block'}),\n",
    "            html.Br(),\n",
    "\n",
    "            \n",
    "            # grid size\n",
    "            html.Br(),\n",
    "            html.Label('Grid Size [x,y,z] (um)'),\n",
    "            html.Br(),            \n",
    "            html.Div([\n",
    "                dcc.Input(value=sim.grid_size[0], type='number', id=append_task_name('grid_size_x'))\n",
    "            ], style={'width': '15%', 'display': 'inline-block'}),\n",
    "            html.Div([\n",
    "\n",
    "                dcc.Input(value=sim.grid_size[1], type='number', id=append_task_name('grid_size_y'))\n",
    "            ], style={'width': '15%', 'display': 'inline-block'}),\n",
    "            html.Div([\n",
    "                dcc.Input(value=sim.grid_size[2], type='number', id=append_task_name('grid_size_z'))\n",
    "            ], style={'width': '15%', 'display': 'inline-block'}),\n",
    "            html.Br(),\n",
    "\n",
    "            \n",
    "            # run time\n",
    "            html.Br(),\n",
    "            html.Label('Run Time (ps)'),\n",
    "            html.Br(),\n",
    "            dcc.Input(value=sim.run_time*1e12, type='number', id=append_task_name('run_time')),\n",
    "            html.Br(),\n",
    "\n",
    "\n",
    "            # pml\n",
    "            html.Br(),\n",
    "            html.Label('PML Layers [x,y,z]'),\n",
    "            html.Br(),\n",
    "            dcc.Checklist(\n",
    "                options=pml_labels,\n",
    "                value=initial_labels,\n",
    "                id=append_task_name('pml_checklist')\n",
    "            ),\n",
    "            html.Br(),\n",
    "\n",
    "\n",
    "            # symmetry\n",
    "            html.Br(),\n",
    "            html.Label('Symmetry [x,y,z]'),\n",
    "            html.Br(),            \n",
    "            html.Div([\n",
    "                dcc.Dropdown([-1, 0, 1], value=sim.symmetry[0], id=append_task_name('symmetry_x'))\n",
    "            ], style={'width': '15%', 'display': 'inline-block'}),\n",
    "            html.Div([\n",
    "                dcc.Dropdown([-1, 0, 1], value=sim.symmetry[1], id=append_task_name('symmetry_y'))\n",
    "            ], style={'width': '15%', 'display': 'inline-block'}),\n",
    "            html.Div([\n",
    "                dcc.Dropdown([-1, 0, 1], value=sim.symmetry[2], id=append_task_name('symmetry_z'))\n",
    "            ], style={'width': '15%', 'display': 'inline-block'}),\n",
    "    \n",
    "            # subpixel\n",
    "            html.Br(),\n",
    "            html.Label('Subpixel Smoothening'),\n",
    "            html.Br(),\n",
    "            dcc.Checklist(\n",
    "                options=['On',],\n",
    "                value=['On'] if sim.subpixel else [],\n",
    "                id=append_task_name('subpixel')\n",
    "            ),\n",
    "            html.Br(),\n",
    "\n",
    "            # shutoff\n",
    "            html.Br(),\n",
    "            html.Label('Field Decay Shutoff'),\n",
    "            html.Br(),\n",
    "            dcc.Input(value=sim.shutoff, type='number', id=append_task_name('shutoff')),   \n",
    "            html.Br(),\n",
    "\n",
    "            \n",
    "            # courant\n",
    "            html.Br(),\n",
    "            html.Label('Courant Number'),\n",
    "            html.Br(),\n",
    "            dcc.Input(value=sim.courant, type='number', id=append_task_name('courant')),   \n",
    "            html.Br(),\n",
    "        ],\n",
    "        label=f'task: {task_name}',\n",
    "        )\n",
    "        \n",
    "        @app.callback(\n",
    "            Output(append_task_name('pml_checklist'), 'value'),\n",
    "            Input(append_task_name('pml_checklist'), 'value')\n",
    "        )\n",
    "        def set_model(value):\n",
    "            pml_labels = ['PML (x)', 'PML (y)', 'PML (z)']            \n",
    "            pml_on_list = [label in value for label in pml_labels]\n",
    "            self.sims[self.task_name].pml_layers = [PML() if pml_on else None for pml_on in pml_on_list]\n",
    "            # print([True if pml_on else None for pml_on in pml_on_list])\n",
    "            print(f'sim.pml_layers set to {[\"PML\" if pml else \"None\" for pml in pml_on_list]}')\n",
    "            return value\n",
    "\n",
    "        @app.callback(\n",
    "            Output(append_task_name('run_time'), 'value'),\n",
    "            Input(append_task_name('run_time'), 'value')\n",
    "        )\n",
    "        def set_run_time(value):\n",
    "            new_value = max(0, value)\n",
    "            new_value = value\n",
    "\n",
    "            self.sims[self.task_name].run_time = new_value * 1e-12\n",
    "            print(f'sim.run_time set to {new_value:.2f} ps')\n",
    "            return new_value\n",
    "\n",
    "        return layout\n",
    "            \n",
    "    def run(self):\n",
    "    \n",
    "        self.app.run_server(mode='jupyterlab', port = 8090, dev_tools_ui=True, #debug=True,\n",
    "              dev_tools_hot_reload =True, threaded=True)"
   ]
  },
  {
   "cell_type": "code",
   "execution_count": 9,
   "id": "2961d810-344b-4c48-bbce-a836bdc999b7",
   "metadata": {},
   "outputs": [
    {
     "data": {
      "text/html": [
       "<pre style=\"white-space:pre;overflow-x:auto;line-height:normal;font-family:Menlo,'DejaVu Sans Mono',consolas,'Courier New',monospace\"><span style=\"color: #7fbfbf; text-decoration-color: #7fbfbf\">[14:27:44] </span><span style=\"color: #800000; text-decoration-color: #800000\">WARNING </span> No sources in simulation.                               <a href=\"file:///Users/twhughes/Documents/Flexcompute/tidy3d-docs/tidy3d/tidy3d/components/simulation.py\"><span style=\"color: #7f7f7f; text-decoration-color: #7f7f7f\">simulation.py</span></a><span style=\"color: #7f7f7f; text-decoration-color: #7f7f7f\">:</span><a href=\"file:///Users/twhughes/Documents/Flexcompute/tidy3d-docs/tidy3d/tidy3d/components/simulation.py#366\"><span style=\"color: #7f7f7f; text-decoration-color: #7f7f7f\">366</span></a>\n",
       "</pre>\n"
      ],
      "text/plain": [
       "\u001b[2;36m[14:27:44]\u001b[0m\u001b[2;36m \u001b[0m\u001b[31mWARNING \u001b[0m No sources in simulation.                               \u001b]8;id=916518;file:///Users/twhughes/Documents/Flexcompute/tidy3d-docs/tidy3d/tidy3d/components/simulation.py\u001b\\\u001b[2msimulation.py\u001b[0m\u001b]8;;\u001b\\\u001b[2m:\u001b[0m\u001b]8;id=23300;file:///Users/twhughes/Documents/Flexcompute/tidy3d-docs/tidy3d/tidy3d/components/simulation.py#366\u001b\\\u001b[2m366\u001b[0m\u001b]8;;\u001b\\\n"
      ]
     },
     "metadata": {},
     "output_type": "display_data"
    },
    {
     "data": {
      "text/html": [
       "<pre style=\"white-space:pre;overflow-x:auto;line-height:normal;font-family:Menlo,'DejaVu Sans Mono',consolas,'Courier New',monospace\"><span style=\"color: #7fbfbf; text-decoration-color: #7fbfbf\">           </span><span style=\"color: #800000; text-decoration-color: #800000\">WARNING </span> No sources in simulation.                               <a href=\"file:///Users/twhughes/Documents/Flexcompute/tidy3d-docs/tidy3d/tidy3d/components/simulation.py\"><span style=\"color: #7f7f7f; text-decoration-color: #7f7f7f\">simulation.py</span></a><span style=\"color: #7f7f7f; text-decoration-color: #7f7f7f\">:</span><a href=\"file:///Users/twhughes/Documents/Flexcompute/tidy3d-docs/tidy3d/tidy3d/components/simulation.py#366\"><span style=\"color: #7f7f7f; text-decoration-color: #7f7f7f\">366</span></a>\n",
       "</pre>\n"
      ],
      "text/plain": [
       "\u001b[2;36m          \u001b[0m\u001b[2;36m \u001b[0m\u001b[31mWARNING \u001b[0m No sources in simulation.                               \u001b]8;id=490174;file:///Users/twhughes/Documents/Flexcompute/tidy3d-docs/tidy3d/tidy3d/components/simulation.py\u001b\\\u001b[2msimulation.py\u001b[0m\u001b]8;;\u001b\\\u001b[2m:\u001b[0m\u001b]8;id=822979;file:///Users/twhughes/Documents/Flexcompute/tidy3d-docs/tidy3d/tidy3d/components/simulation.py#366\u001b\\\u001b[2m366\u001b[0m\u001b]8;;\u001b\\\n"
      ]
     },
     "metadata": {},
     "output_type": "display_data"
    }
   ],
   "source": [
    "sim1 = Simulation(size=(1,1,1), grid_size=(.01, .01, .01), run_time=1e-12, pml_layers=(PML(), PML(), None))\n",
    "sim2 = Simulation(size=(2,3,4), grid_size=(.01, .01, .01), run_time=4e-12, pml_layers=(None, PML(), None))\n",
    "\n",
    "app = App({'sim1': sim1, 'sim2': sim2})"
   ]
  },
  {
   "cell_type": "code",
   "execution_count": 10,
   "id": "5c143c0c-8cf4-497f-85ef-b354813c091e",
   "metadata": {},
   "outputs": [
    {
     "name": "stdout",
     "output_type": "stream",
     "text": [
      "sim.run_time set to 1.00 ps\n",
      "sim.pml_layers set to ['PML', 'PML', 'PML']\n",
      "sim.run_time set to 4.00 ps\n",
      "sim.pml_layers set to ['PML', 'PML', 'PML']\n",
      "sim.run_time set to 2.00 ps\n",
      "sim.run_time set to 3.00 ps\n"
     ]
    }
   ],
   "source": [
    "app.run()"
   ]
  },
  {
   "cell_type": "code",
   "execution_count": 4,
   "id": "21774726-906b-4d5d-97c9-319e8ad23588",
   "metadata": {},
   "outputs": [
    {
     "name": "stdout",
     "output_type": "stream",
     "text": [
      "sim.run_time set to 1.00 pssim.pml_layers set to ['PML', 'PML', 'PML']\n",
      "sim.run_time set to 4.00 ps\n",
      "\n",
      "sim.pml_layers set to ['PML', 'PML', 'PML']\n"
     ]
    },
    {
     "ename": "KeyError",
     "evalue": "0",
     "output_type": "error",
     "traceback": [
      "\u001b[0;31m---------------------------------------------------------------------------\u001b[0m",
      "\u001b[0;31mKeyError\u001b[0m                                  Traceback (most recent call last)",
      "\u001b[0;32m/var/folders/jx/9y0mtn3s3zzb6mzgmsw6s6gr0000gn/T/ipykernel_10454/1419501802.py\u001b[0m in \u001b[0;36m<module>\u001b[0;34m\u001b[0m\n\u001b[0;32m----> 1\u001b[0;31m \u001b[0mapp\u001b[0m\u001b[0;34m.\u001b[0m\u001b[0msims\u001b[0m\u001b[0;34m[\u001b[0m\u001b[0;36m0\u001b[0m\u001b[0;34m]\u001b[0m\u001b[0;34m\u001b[0m\u001b[0;34m\u001b[0m\u001b[0m\n\u001b[0m",
      "\u001b[0;31mKeyError\u001b[0m: 0"
     ]
    }
   ],
   "source": [
    "app.sims[0]"
   ]
  },
  {
   "cell_type": "code",
   "execution_count": null,
   "id": "29f0ad26-091b-4bf2-9080-81ec8a47f224",
   "metadata": {},
   "outputs": [],
   "source": []
  }
 ],
 "metadata": {
  "kernelspec": {
   "display_name": "Python 3 (ipykernel)",
   "language": "python",
   "name": "python3"
  },
  "language_info": {
   "codemirror_mode": {
    "name": "ipython",
    "version": 3
   },
   "file_extension": ".py",
   "mimetype": "text/x-python",
   "name": "python",
   "nbconvert_exporter": "python",
   "pygments_lexer": "ipython3",
   "version": "3.7.9"
  }
 },
 "nbformat": 4,
 "nbformat_minor": 5
}
