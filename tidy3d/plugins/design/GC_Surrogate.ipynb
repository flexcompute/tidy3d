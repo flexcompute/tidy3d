{
 "cells": [
  {
   "cell_type": "markdown",
   "metadata": {},
   "source": [
    "# Grating Coupler (Incoming) Surrogate"
   ]
  },
  {
   "cell_type": "markdown",
   "metadata": {},
   "source": [
    "Improvements\n",
    "Train shallower angles - greater than 15% not that common\n",
    "\n",
    "Use larger grating height - fix at 220 nm and include variance over a small range for sensitivity analysis (+/- 10 nm)\n",
    "\n",
    "Hold up that might be the thickness of the entire stack... Keep reading paper to understand it\n",
    "    \n",
    "https://opg.optica.org/oe/fulltext.cfm?uri=oe-23-12-16289&id=320268 seems good. Yannick sent this https://www.mdpi.com/2072-666X/11/7/666\n",
    "\n",
    "This model is half etched which should improve efficiency - target between 30-50% then \n",
    "\n",
    "Modify to include substrate mirror - even if it's only SiO2 on Si\n",
    "\n",
    "Target 20-30% efficiency for model without substrate mirror at 10% angle (fix angle as well and vary only for sensitivity +/- 5)\n",
    "\n",
    "Need to understand the effect of increasing the waveguide length - practically smaller would be better I believe\n",
    "\n",
    "Yannick says that 2D mode solver can analytically optimize for this problem - see messages 02/09 @ 10:30"
   ]
  },
  {
   "cell_type": "code",
   "execution_count": 47,
   "metadata": {},
   "outputs": [],
   "source": [
    "# basic imports\n",
    "import numpy as np\n",
    "import matplotlib.pylab as plt\n",
    "\n",
    "# tidy3d imports\n",
    "import tidy3d as td\n",
    "import tidy3d.web as web\n",
    "from tidy3d.plugins.mode import ModeSolver\n",
    "import tidy3d.plugins.design as tdd"
   ]
  },
  {
   "cell_type": "code",
   "execution_count": 48,
   "metadata": {},
   "outputs": [],
   "source": [
    "# basic parameters (note, all length units are microns)\n",
    "nm = 1e-3\n",
    "wavelength = 1550 * nm\n",
    "\n",
    "# grid specification\n",
    "grid_spec = td.GridSpec.auto(min_steps_per_wvl=20, wavelength=wavelength)\n",
    "\n",
    "# waveguide\n",
    "wg_width = 400 * nm\n",
    "wg_height = 220 * nm\n",
    "wg_length = 2 * wavelength\n",
    "\n",
    "# surrounding\n",
    "sub_height = 2.0\n",
    "air_height = 2.0\n",
    "buffer = 0.5 * wavelength\n",
    "\n",
    "# coupler\n",
    "cp_width = 4 * wavelength\n",
    "cp_length = 8 * wavelength\n",
    "taper_length = 6 * wavelength\n",
    "\n",
    "# sizes\n",
    "Lx = buffer + wg_length + taper_length + cp_length\n",
    "Ly = buffer + cp_width + buffer\n",
    "Lz = sub_height + wg_height + air_height\n",
    "sim_size = [Lx, Ly, Lz]\n",
    "\n",
    "# convenience variables to store center of coupler and waveguide\n",
    "wg_center_x = +Lx / 2 - buffer - (wg_length + taper_length) / 2\n",
    "cp_center_x = -Lx / 2 + buffer + cp_length / 2\n",
    "wg_center_z = -Lz / 2 + sub_height + wg_height / 2\n",
    "cp_center_z = -Lz / 2 + sub_height + wg_height / 2\n",
    "\n",
    "# materials\n",
    "Air = td.Medium(permittivity=1.0)\n",
    "Si = td.Medium(permittivity=3.47**2)\n",
    "SiO2 = td.Medium(permittivity=1.44**2)\n",
    "\n",
    "# source parameters\n",
    "freq0 = td.C_0 / wavelength\n",
    "ldas = np.linspace(1.5, 1.6, 101)  # wavelength range\n",
    "freqs = td.C_0 / ldas  # frequency range\n",
    "fwidth = freq0 / 10\n",
    "run_time = 100 / fwidth"
   ]
  },
  {
   "cell_type": "code",
   "execution_count": 49,
   "metadata": {},
   "outputs": [],
   "source": [
    "def make_sim(beam_angle, cp_width, cp_length, taper_length, grating_height):\n",
    "    # param conversions\n",
    "    cp_width = cp_width * wavelength\n",
    "    cp_length = cp_length * wavelength\n",
    "    taper_length = taper_length * wavelength\n",
    "\n",
    "    # grating parameters\n",
    "    design_theta_rad = np.pi * beam_angle / 180\n",
    "    grating_height = grating_height * nm\n",
    "\n",
    "    # do a mode solve to get neff of the coupler\n",
    "\n",
    "    sub = td.Structure(\n",
    "        geometry=td.Box(center=[0, 0, -Lz / 2], size=[td.inf, td.inf, 2 * sub_height]),\n",
    "        medium=SiO2,\n",
    "        name=\"substrate\",\n",
    "    )\n",
    "\n",
    "    cp = td.Structure(\n",
    "        geometry=td.Box(\n",
    "            center=[0, 0, cp_center_z - grating_height / 4],\n",
    "            size=[td.inf, cp_width, wg_height - grating_height / 2],\n",
    "        ),\n",
    "        medium=Si,\n",
    "        name=\"coupler\",\n",
    "    )\n",
    "\n",
    "    mode_plane = td.Box(center=(0, 0, 0), size=(0, 8 * cp_width, 8 * wg_height))\n",
    "\n",
    "\n",
    "    sim = td.Simulation(\n",
    "        size=sim_size,\n",
    "        grid_spec=grid_spec,\n",
    "        structures=[sub, cp],\n",
    "        sources=[],\n",
    "        monitors=[],\n",
    "        boundary_spec=td.BoundarySpec.all_sides(boundary=td.PML()),\n",
    "        run_time=1e-12,\n",
    "    )\n",
    "\n",
    "    # Updating n_eff with frequency breaks the whole idea of broadband single simulations\n",
    "    # So there will be a drift of n_eff as f gets further away from freq0\n",
    "    ms = ModeSolver(\n",
    "        simulation=sim, plane=mode_plane, mode_spec=td.ModeSpec(), freqs=[freq0]\n",
    "    )\n",
    "    mode_output = ms.solve()\n",
    "    neff = float(mode_output.n_eff)\n",
    "\n",
    "    # Build simulation\n",
    "    pitch = wavelength / (neff - np.sin(abs(design_theta_rad)))\n",
    "    grating_length = pitch / 2.0\n",
    "    num_gratings = int(cp_length / pitch)\n",
    "\n",
    "    sub = td.Structure(\n",
    "        geometry=td.Box(\n",
    "            center=[0, 0, -Lz / 2],\n",
    "            size=[td.inf, td.inf, 2 * sub_height],\n",
    "        ),\n",
    "        medium=SiO2,\n",
    "        name=\"substrate\",\n",
    "    )\n",
    "\n",
    "    wg = td.Structure(\n",
    "        geometry=td.Box(\n",
    "            center=[wg_center_x, 0, wg_center_z],\n",
    "            size=[buffer + wg_length + taper_length + cp_length / 2, wg_width, wg_height],\n",
    "        ),\n",
    "        medium=Si,\n",
    "        name=\"waveguide\",\n",
    "    )\n",
    "\n",
    "    cp = td.Structure(\n",
    "        geometry=td.Box(\n",
    "            center=[cp_center_x, 0, cp_center_z],\n",
    "            size=[cp_length, cp_width, wg_height],\n",
    "        ),\n",
    "        medium=Si,\n",
    "        name=\"coupler\",\n",
    "    )\n",
    "\n",
    "    tp = td.Structure(\n",
    "        geometry=td.PolySlab(\n",
    "            vertices=[\n",
    "                [cp_center_x + cp_length / 2 + taper_length, +wg_width / 2],\n",
    "                [cp_center_x + cp_length / 2 + taper_length, -wg_width / 2],\n",
    "                [cp_center_x + cp_length / 2, -cp_width / 2],\n",
    "                [cp_center_x + cp_length / 2, +cp_width / 2],\n",
    "            ],\n",
    "            slab_bounds=(wg_center_z - wg_height / 2, wg_center_z + wg_height / 2),\n",
    "            axis=2,\n",
    "        ),\n",
    "        medium=Si,\n",
    "        name=\"taper\",\n",
    "    )\n",
    "\n",
    "    grating_left_x = cp_center_x - cp_length / 2\n",
    "    gratings = [\n",
    "        td.Structure(\n",
    "            geometry=td.Box(\n",
    "                center=[\n",
    "                    grating_left_x + (i + 0.5) * pitch,\n",
    "                    0,\n",
    "                    cp_center_z + wg_height / 2 - grating_height / 2,\n",
    "                ],\n",
    "                size=[grating_length, cp_width, grating_height],\n",
    "            ),\n",
    "            medium=Air,\n",
    "            name=f\"{i}th_grating\",\n",
    "        )\n",
    "        for i in range(num_gratings)\n",
    "    ]\n",
    "\n",
    "    gaussian_beam = td.GaussianBeam(\n",
    "        size=(td.inf, td.inf, 0),\n",
    "        center=[-8, 0, 2],\n",
    "        source_time=td.GaussianPulse(freq0=freq0, fwidth=fwidth),\n",
    "        angle_theta=design_theta_rad,\n",
    "        angle_phi=np.pi,\n",
    "        direction=\"-\",\n",
    "        waist_radius=2,\n",
    "        pol_angle=np.pi / 2,\n",
    "    )\n",
    "\n",
    "    flux_mon = td.FluxMonitor(\n",
    "        center=(Lx / 2 - 1, 0, wg_center_z), \n",
    "        size=(0, wg_width * 2, wg_height * 2),\n",
    "        freqs=freqs,\n",
    "        name=\"flux\",\n",
    "    )\n",
    "\n",
    "    sim = td.Simulation(\n",
    "        size=sim_size,\n",
    "        grid_spec=grid_spec,\n",
    "        structures=[sub, wg, cp, tp] + gratings,\n",
    "        sources=[gaussian_beam],\n",
    "        monitors=[flux_mon],\n",
    "        run_time=run_time,\n",
    "        boundary_spec=td.BoundarySpec.all_sides(boundary=td.PML()),\n",
    "    )\n",
    "\n",
    "    return sim"
   ]
  },
  {
   "cell_type": "code",
   "execution_count": 50,
   "metadata": {},
   "outputs": [
    {
     "data": {
      "image/png": "[encoded data removed]",
      "text/plain": [
       "<Figure size 1400x300 with 3 Axes>"
      ]
     },
     "metadata": {},
     "output_type": "display_data"
    }
   ],
   "source": [
    "sim=make_sim(45, 4, 8, 7, 100)\n",
    "fig, (ax1, ax2, ax3) = plt.subplots(1, 3, tight_layout=True, figsize=(14, 3))\n",
    "sim.plot(x=0, ax=ax1)\n",
    "sim.plot(y=0.01, ax=ax2)\n",
    "sim.plot(z=0.1, ax=ax3)\n",
    "plt.show()"
   ]
  },
  {
   "cell_type": "code",
   "execution_count": 51,
   "metadata": {},
   "outputs": [],
   "source": [
    "def fn_post(sim_data):\n",
    "    return {\"wg_flux\": sim_data[\"flux\"].flux}"
   ]
  },
  {
   "cell_type": "code",
   "execution_count": 54,
   "metadata": {},
   "outputs": [],
   "source": [
    "param_beam_angle = tdd.ParameterFloat(name=\"beam_angle\", span=(15, 45))\n",
    "param_cp_width = tdd.ParameterFloat(name=\"cp_width\", span=(3, 4))\n",
    "param_cp_length = tdd.ParameterFloat(name=\"cp_length\", span=(7, 8))\n",
    "param_taper_length = tdd.ParameterFloat(name=\"taper_length\", span=(5, 7))\n",
    "param_grating_height = tdd.ParameterFloat(name=\"grating_height\", span=(50, 100))\n",
    "parameters = [param_beam_angle, param_cp_width, param_cp_length, param_taper_length, param_grating_height]\n",
    "\n",
    "monte_carlo=tdd.MethodMonteCarlo(\n",
    "    num_points=100,\n",
    "    seed=2,\n",
    ")\n",
    "\n",
    "design_space = tdd.DesignSpace(method=monte_carlo, parameters=parameters, task_name=\"GC_MC_Surrogate\", path_dir=\"/home/matt/Documents/Flexcompute/grating_coupler/data\")"
   ]
  },
  {
   "cell_type": "code",
   "execution_count": 55,
   "metadata": {},
   "outputs": [
    {
     "data": {
      "text/html": [
       "<pre style=\"white-space:pre;overflow-x:auto;line-height:normal;font-family:Menlo,'DejaVu Sans Mono',consolas,'Courier New',monospace\"><span style=\"color: #7fbfbf; text-decoration-color: #7fbfbf\">10:58:27 BST </span>Running <span style=\"color: #008080; text-decoration-color: #008080; font-weight: bold\">100</span> Simulations                                            \n",
       "</pre>\n"
      ],
      "text/plain": [
       "\u001b[2;36m10:58:27 BST\u001b[0m\u001b[2;36m \u001b[0mRunning \u001b[1;36m100\u001b[0m Simulations                                            \n"
      ]
     },
     "metadata": {},
     "output_type": "display_data"
    }
   ],
   "source": [
    "# Run the MC\n",
    "results = design_space.run(make_sim, fn_post, verbose=True)\n",
    "df = results.to_dataframe()"
   ]
  },
  {
   "cell_type": "code",
   "execution_count": 56,
   "metadata": {},
   "outputs": [],
   "source": [
    "# TESTING: Save off the df or load the df\n",
    "import pickle\n",
    "import os\n",
    "os.chdir(\"/home/matt/Documents/Flexcompute/grating_coupler/data\")\n",
    "# with open(\"result_100.pkl\", \"wb\") as out_file:\n",
    "#     pickle.dump(results, out_file)\n",
    "\n",
    "\n",
    "with open(\"result_100.pkl\", \"rb\") as in_file:\n",
    "    results = pickle.load(in_file)\n",
    "\n",
    "df = results.to_dataframe()"
   ]
  },
  {
   "cell_type": "markdown",
   "metadata": {},
   "source": [
    "## Surrogate"
   ]
  },
  {
   "cell_type": "code",
   "execution_count": 57,
   "metadata": {},
   "outputs": [],
   "source": [
    "expanded_df = df.copy()\n",
    "expanded_df = expanded_df.explode([\"wg_flux\"]).reset_index(drop=True)\n",
    "expanded_df[\"freq\"] = expanded_df[\"wg_flux\"].apply(lambda x: float(x.f))\n",
    "\n",
    "expanded_df[\"wg_flux\"] = expanded_df[\"wg_flux\"].apply(lambda x: float(x))"
   ]
  },
  {
   "cell_type": "code",
   "execution_count": 82,
   "metadata": {},
   "outputs": [
    {
     "name": "stdout",
     "output_type": "stream",
     "text": [
      "Using existing directory at pickle_data\n",
      "Using existing directory at models\n",
      "Using device cuda:0\n"
     ]
    }
   ],
   "source": [
    "import torch\n",
    "import torch.nn as nn\n",
    "import torch.optim as optim\n",
    "\n",
    "from tidy3d.plugins.design.surrogate_object import AI_Model\n",
    "\n",
    "# Constants\n",
    "output_dir = \"/home/matt/Documents/Flexcompute/grating_coupler\"\n",
    "data_dir = [\"/home/matt/Documents/Flexcompute/grating_coupler/data/\"]\n",
    "\n",
    "test_percentage = 0.20\n",
    "valid_percentage = 0.20\n",
    "batch_size = 256\n",
    "epochs = 100\n",
    "\n",
    "trial_count = 50\n",
    "\n",
    "model = AI_Model(output_dir, data_dir, seed=2)\n",
    "\n",
    "model.load_data_from_df(\n",
    "    df=expanded_df,\n",
    "    label_names=[\"wg_flux\"],\n",
    "    feature_names=[\"beam_angle\", \"cp_width\", \"cp_length\", \"taper_length\", \"grating_height\", \"freq\"],\n",
    "    test_percentage=test_percentage,\n",
    "    valid_percentage=valid_percentage,\n",
    "    batch_size=batch_size,\n",
    "    individual_feature_scaling=True\n",
    ")\n",
    "\n",
    "loss_fn = nn.MSELoss()"
   ]
  },
  {
   "cell_type": "code",
   "execution_count": 59,
   "metadata": {},
   "outputs": [],
   "source": [
    "# Define the model in PyTorch\n",
    "class VariableANN(nn.Module):\n",
    "    def __init__(self, input_size, neurons, dropout) -> None:\n",
    "        super().__init__()\n",
    "        self.layers = nn.ModuleList()\n",
    "        self.layers.append(nn.Linear(input_size, neurons[0]))\n",
    "\n",
    "        for i in range(1, len(neurons)):\n",
    "            self.layers.append(nn.Linear(neurons[i - 1], neurons[i]))\n",
    "\n",
    "        self.layers.append(nn.Linear(neurons[-1], 1))\n",
    "\n",
    "        self.drop = nn.Dropout(dropout)\n",
    "        self.relu = nn.ReLU()\n",
    "\n",
    "    def forward(self, x):\n",
    "        for layer in self.layers[:-1]:\n",
    "            x = self.drop(self.relu(layer(x)))\n",
    "\n",
    "        x = self.layers[-1](x)\n",
    "\n",
    "        return x"
   ]
  },
  {
   "cell_type": "code",
   "execution_count": 83,
   "metadata": {},
   "outputs": [
    {
     "name": "stdout",
     "output_type": "stream",
     "text": [
      "Using existing directory at Model1\n"
     ]
    },
    {
     "name": "stderr",
     "output_type": "stream",
     "text": [
      "  3%|▎         | 3/100 [00:00<00:03, 26.19it/s]"
     ]
    },
    {
     "name": "stdout",
     "output_type": "stream",
     "text": [
      "Best State Updated. Epoch: 0\n",
      "Best State Updated. Epoch: 1\n",
      "Best State Updated. Epoch: 2\n",
      "Best State Updated. Epoch: 3\n",
      "Best State Updated. Epoch: 4\n"
     ]
    },
    {
     "name": "stderr",
     "output_type": "stream",
     "text": [
      "  7%|▋         | 7/100 [00:00<00:03, 29.79it/s]"
     ]
    },
    {
     "name": "stdout",
     "output_type": "stream",
     "text": [
      "Best State Updated. Epoch: 5\n",
      "Best State Updated. Epoch: 6\n",
      "Best State Updated. Epoch: 7\n"
     ]
    },
    {
     "name": "stderr",
     "output_type": "stream",
     "text": [
      " 10%|█         | 10/100 [00:00<00:04, 19.20it/s]"
     ]
    },
    {
     "name": "stdout",
     "output_type": "stream",
     "text": [
      "Best State Updated. Epoch: 8\n",
      "Best State Updated. Epoch: 9\n",
      "Best State Updated. Epoch: 10\n",
      "Best State Updated. Epoch: 11\n",
      "Best State Updated. Epoch: 12\n"
     ]
    },
    {
     "name": "stderr",
     "output_type": "stream",
     "text": [
      " 14%|█▍        | 14/100 [00:00<00:03, 23.44it/s]"
     ]
    },
    {
     "name": "stdout",
     "output_type": "stream",
     "text": [
      "Best State Updated. Epoch: 13\n",
      "Best State Updated. Epoch: 14\n"
     ]
    },
    {
     "name": "stderr",
     "output_type": "stream",
     "text": [
      " 18%|█▊        | 18/100 [00:00<00:03, 26.48it/s]"
     ]
    },
    {
     "name": "stdout",
     "output_type": "stream",
     "text": [
      "Best State Updated. Epoch: 15\n",
      "Best State Updated. Epoch: 16\n",
      "Best State Updated. Epoch: 17\n",
      "Best State Updated. Epoch: 18\n",
      "Best State Updated. Epoch: 19\n"
     ]
    },
    {
     "name": "stderr",
     "output_type": "stream",
     "text": [
      " 21%|██        | 21/100 [00:00<00:02, 26.39it/s]"
     ]
    },
    {
     "name": "stdout",
     "output_type": "stream",
     "text": [
      "Best State Updated. Epoch: 20\n"
     ]
    },
    {
     "name": "stderr",
     "output_type": "stream",
     "text": [
      " 25%|██▌       | 25/100 [00:00<00:02, 27.98it/s]"
     ]
    },
    {
     "name": "stdout",
     "output_type": "stream",
     "text": [
      "Best State Updated. Epoch: 21\n",
      "Best State Updated. Epoch: 22\n",
      "Best State Updated. Epoch: 24\n",
      "Best State Updated. Epoch: 25\n"
     ]
    },
    {
     "name": "stderr",
     "output_type": "stream",
     "text": [
      " 33%|███▎      | 33/100 [00:01<00:02, 30.26it/s]"
     ]
    },
    {
     "name": "stdout",
     "output_type": "stream",
     "text": [
      "Best State Updated. Epoch: 28\n",
      "Best State Updated. Epoch: 29\n",
      "Best State Updated. Epoch: 30\n",
      "Best State Updated. Epoch: 32\n"
     ]
    },
    {
     "name": "stderr",
     "output_type": "stream",
     "text": [
      " 41%|████      | 41/100 [00:01<00:01, 32.63it/s]"
     ]
    },
    {
     "name": "stdout",
     "output_type": "stream",
     "text": [
      "Best State Updated. Epoch: 36\n",
      "Best State Updated. Epoch: 40\n"
     ]
    },
    {
     "name": "stderr",
     "output_type": "stream",
     "text": [
      " 49%|████▉     | 49/100 [00:01<00:01, 29.98it/s]"
     ]
    },
    {
     "name": "stdout",
     "output_type": "stream",
     "text": [
      "Best State Updated. Epoch: 44\n",
      "Best State Updated. Epoch: 46\n",
      "Best State Updated. Epoch: 48\n"
     ]
    },
    {
     "name": "stderr",
     "output_type": "stream",
     "text": [
      " 57%|█████▋    | 57/100 [00:01<00:01, 31.74it/s]"
     ]
    },
    {
     "name": "stdout",
     "output_type": "stream",
     "text": [
      "Best State Updated. Epoch: 50\n",
      "Best State Updated. Epoch: 51\n"
     ]
    },
    {
     "name": "stderr",
     "output_type": "stream",
     "text": [
      " 65%|██████▌   | 65/100 [00:02<00:01, 32.37it/s]"
     ]
    },
    {
     "name": "stdout",
     "output_type": "stream",
     "text": [
      "Best State Updated. Epoch: 60\n"
     ]
    },
    {
     "name": "stderr",
     "output_type": "stream",
     "text": [
      " 81%|████████  | 81/100 [00:02<00:00, 29.06it/s]"
     ]
    },
    {
     "name": "stdout",
     "output_type": "stream",
     "text": [
      "Best State Updated. Epoch: 74\n",
      "Best State Updated. Epoch: 78\n",
      "Best State Updated. Epoch: 80\n"
     ]
    },
    {
     "name": "stderr",
     "output_type": "stream",
     "text": [
      " 85%|████████▌ | 85/100 [00:02<00:00, 29.10it/s]"
     ]
    },
    {
     "name": "stdout",
     "output_type": "stream",
     "text": [
      "Best State Updated. Epoch: 82\n",
      "Best State Updated. Epoch: 87\n"
     ]
    },
    {
     "name": "stderr",
     "output_type": "stream",
     "text": [
      " 96%|█████████▌| 96/100 [00:03<00:00, 29.56it/s]"
     ]
    },
    {
     "name": "stdout",
     "output_type": "stream",
     "text": [
      "Best State Updated. Epoch: 90\n",
      "Best State Updated. Epoch: 91\n"
     ]
    },
    {
     "name": "stderr",
     "output_type": "stream",
     "text": [
      "100%|██████████| 100/100 [00:03<00:00, 30.61it/s]"
     ]
    },
    {
     "name": "stdout",
     "output_type": "stream",
     "text": [
      "Best State Updated. Epoch: 99\n"
     ]
    },
    {
     "data": {
      "image/png": "[encoded data removed]",
      "text/plain": [
       "<Figure size 640x480 with 2 Axes>"
      ]
     },
     "metadata": {},
     "output_type": "display_data"
    },
    {
     "name": "stderr",
     "output_type": "stream",
     "text": [
      "100%|██████████| 100/100 [00:03<00:00, 27.96it/s]"
     ]
    },
    {
     "name": "stdout",
     "output_type": "stream",
     "text": [
      " Best Test Loss: 0.0358317568898201\n",
      "RMSE: 0.008135\n",
      "MAE: 0.005537\n"
     ]
    },
    {
     "name": "stderr",
     "output_type": "stream",
     "text": [
      "\n"
     ]
    }
   ],
   "source": [
    "# Create single model\n",
    "network = VariableANN(6, [16, 16, 16], 0.2)\n",
    "opt = optim.Adam(network.parameters(), lr=0.001, weight_decay=0.0001)\n",
    "\n",
    "trained_net = model.train_model(\"Model1\", network, opt, loss_fn, epochs, plot_output=True)\n",
    "test_rmse, _, test_predictions = model.validate_model(trained_net, \"test\")"
   ]
  },
  {
   "cell_type": "code",
   "execution_count": 84,
   "metadata": {},
   "outputs": [
    {
     "name": "stderr",
     "output_type": "stream",
     "text": [
      "[I 2024-09-01 11:35:17,278] A new study created in memory with name: no-name-47c8ba5b-b16d-4b84-936b-fae86dc98ad6\n"
     ]
    },
    {
     "name": "stdout",
     "output_type": "stream",
     "text": [
      "Making temp model folder\n",
      "Using existing directory at temp\n"
     ]
    },
    {
     "name": "stderr",
     "output_type": "stream",
     "text": [
      "100%|██████████| 100/100 [00:03<00:00, 29.17it/s]\n",
      "[I 2024-09-01 11:35:20,717] Trial 0 finished with value: 0.00925 and parameters: {'dropout': 0.2, 'neurons0': 16, 'neurons1': 144, 'neurons2': 112, 'neurons3': 112, 'lr': 0.00020957490791939475, 'weight_decay': 2.56623998836808e-05}. Best is trial 0 with value: 0.00925.\n"
     ]
    },
    {
     "name": "stdout",
     "output_type": "stream",
     "text": [
      " Best Test Loss: 0.04378792643547058\n",
      "RMSE: 0.00925\n",
      "MAE: 0.007231\n",
      "Making temp model folder\n",
      "Using existing directory at temp\n"
     ]
    },
    {
     "name": "stderr",
     "output_type": "stream",
     "text": [
      "100%|██████████| 100/100 [00:03<00:00, 29.88it/s]\n",
      "[I 2024-09-01 11:35:24,074] Trial 1 finished with value: 0.009586 and parameters: {'dropout': 0.30000000000000004, 'neurons0': 80, 'neurons1': 80, 'neurons2': 160, 'neurons3': 144, 'lr': 3.453979704854047e-05, 'weight_decay': 0.00010645259250245113}. Best is trial 0 with value: 0.00925.\n"
     ]
    },
    {
     "name": "stdout",
     "output_type": "stream",
     "text": [
      " Best Test Loss: 0.049695469439029694\n",
      "RMSE: 0.009586\n",
      "MAE: 0.006568\n",
      "Making temp model folder\n",
      "Using existing directory at temp\n"
     ]
    },
    {
     "name": "stderr",
     "output_type": "stream",
     "text": [
      "100%|██████████| 100/100 [00:03<00:00, 28.64it/s]\n",
      "[I 2024-09-01 11:35:27,575] Trial 2 finished with value: 0.006326 and parameters: {'dropout': 0.1, 'neurons0': 208, 'neurons1': 224, 'neurons2': 128, 'neurons3': 224, 'lr': 2.0824851253449582e-05, 'weight_decay': 0.0001024453334191056}. Best is trial 2 with value: 0.006326.\n"
     ]
    },
    {
     "name": "stdout",
     "output_type": "stream",
     "text": [
      " Best Test Loss: 0.02165256068110466\n",
      "RMSE: 0.006326\n",
      "MAE: 0.003594\n",
      "Making temp model folder\n",
      "Using existing directory at temp\n"
     ]
    },
    {
     "name": "stderr",
     "output_type": "stream",
     "text": [
      "100%|██████████| 100/100 [00:03<00:00, 31.38it/s]\n",
      "[I 2024-09-01 11:35:30,771] Trial 3 finished with value: 0.003727 and parameters: {'dropout': 0.0, 'neurons0': 112, 'neurons1': 32, 'neurons2': 48, 'neurons3': 160, 'lr': 8.017666774803345e-05, 'weight_decay': 1.6364071508075995e-05}. Best is trial 3 with value: 0.003727.\n"
     ]
    },
    {
     "name": "stdout",
     "output_type": "stream",
     "text": [
      " Best Test Loss: 0.007498088292777538\n",
      "RMSE: 0.003727\n",
      "MAE: 0.002255\n",
      "Making temp model folder\n",
      "Using existing directory at temp\n"
     ]
    },
    {
     "name": "stderr",
     "output_type": "stream",
     "text": [
      "100%|██████████| 100/100 [00:03<00:00, 28.88it/s]\n",
      "[I 2024-09-01 11:35:34,242] Trial 4 finished with value: 0.002539 and parameters: {'dropout': 0.1, 'neurons0': 96, 'neurons1': 128, 'neurons2': 64, 'neurons3': 176, 'lr': 0.0008556168765786835, 'weight_decay': 0.00010244091290412624}. Best is trial 4 with value: 0.002539.\n"
     ]
    },
    {
     "name": "stdout",
     "output_type": "stream",
     "text": [
      " Best Test Loss: 0.0034488567616790533\n",
      "RMSE: 0.002539\n",
      "MAE: 0.001808\n",
      "Making temp model folder\n",
      "Using existing directory at temp\n"
     ]
    },
    {
     "name": "stderr",
     "output_type": "stream",
     "text": [
      "100%|██████████| 100/100 [00:03<00:00, 28.95it/s]\n",
      "[I 2024-09-01 11:35:37,714] Trial 5 finished with value: 0.012783 and parameters: {'dropout': 0.2, 'neurons0': 208, 'neurons1': 160, 'neurons2': 48, 'neurons3': 192, 'lr': 0.0721446814835575, 'weight_decay': 0.00010000385053531142}. Best is trial 4 with value: 0.002539.\n"
     ]
    },
    {
     "name": "stdout",
     "output_type": "stream",
     "text": [
      " Best Test Loss: 0.03991164639592171\n",
      "RMSE: 0.012783\n",
      "MAE: 0.009044\n",
      "Making temp model folder\n",
      "Using existing directory at temp\n"
     ]
    },
    {
     "name": "stderr",
     "output_type": "stream",
     "text": [
      "100%|██████████| 100/100 [00:03<00:00, 29.11it/s]\n",
      "[I 2024-09-01 11:35:41,164] Trial 6 finished with value: 0.008304 and parameters: {'dropout': 0.45, 'neurons0': 96, 'neurons1': 160, 'neurons2': 112, 'neurons3': 112, 'lr': 0.012771348031164653, 'weight_decay': 0.00011781710498405417}. Best is trial 4 with value: 0.002539.\n"
     ]
    },
    {
     "name": "stdout",
     "output_type": "stream",
     "text": [
      " Best Test Loss: 0.027263063937425613\n",
      "RMSE: 0.008304\n",
      "MAE: 0.005814\n",
      "Making temp model folder\n",
      "Using existing directory at temp\n"
     ]
    },
    {
     "name": "stderr",
     "output_type": "stream",
     "text": [
      "100%|██████████| 100/100 [00:03<00:00, 27.70it/s]\n",
      "[I 2024-09-01 11:35:44,784] Trial 7 finished with value: 0.01139 and parameters: {'dropout': 0.5, 'neurons0': 144, 'neurons1': 32, 'neurons2': 96, 'neurons3': 224, 'lr': 0.00042179378105206954, 'weight_decay': 1.1334561723036805e-05}. Best is trial 4 with value: 0.002539.\n"
     ]
    },
    {
     "name": "stdout",
     "output_type": "stream",
     "text": [
      " Best Test Loss: 0.06752928346395493\n",
      "RMSE: 0.01139\n",
      "MAE: 0.008105\n",
      "Making temp model folder\n",
      "Using existing directory at temp\n"
     ]
    },
    {
     "name": "stderr",
     "output_type": "stream",
     "text": [
      "100%|██████████| 100/100 [00:03<00:00, 29.88it/s]\n",
      "[I 2024-09-01 11:35:48,140] Trial 8 finished with value: 0.004868 and parameters: {'dropout': 0.1, 'neurons0': 32, 'neurons1': 256, 'neurons2': 256, 'neurons3': 208, 'lr': 0.0025542798985646654, 'weight_decay': 0.00033878152677157994}. Best is trial 4 with value: 0.002539.\n"
     ]
    },
    {
     "name": "stdout",
     "output_type": "stream",
     "text": [
      " Best Test Loss: 0.012180901132524014\n",
      "RMSE: 0.004868\n",
      "MAE: 0.003109\n",
      "Making temp model folder\n",
      "Using existing directory at temp\n"
     ]
    },
    {
     "name": "stderr",
     "output_type": "stream",
     "text": [
      "100%|██████████| 100/100 [00:03<00:00, 27.86it/s]\n",
      "[I 2024-09-01 11:35:51,738] Trial 9 finished with value: 0.007578 and parameters: {'dropout': 0.05, 'neurons0': 80, 'neurons1': 144, 'neurons2': 96, 'neurons3': 16, 'lr': 0.08562760193073449, 'weight_decay': 7.633256192478052e-05}. Best is trial 4 with value: 0.002539.\n"
     ]
    },
    {
     "name": "stdout",
     "output_type": "stream",
     "text": [
      " Best Test Loss: 0.025117602199316025\n",
      "RMSE: 0.007578\n",
      "MAE: 0.005002\n",
      "Making temp model folder\n",
      "Using existing directory at temp\n"
     ]
    },
    {
     "name": "stderr",
     "output_type": "stream",
     "text": [
      "100%|██████████| 100/100 [00:03<00:00, 29.84it/s]\n",
      "[I 2024-09-01 11:35:55,109] Trial 10 finished with value: 0.008363 and parameters: {'dropout': 0.35000000000000003, 'neurons0': 160, 'neurons1': 96, 'neurons2': 16, 'neurons3': 64, 'lr': 0.0023435510642152513, 'weight_decay': 0.0007498580827111435}. Best is trial 4 with value: 0.002539.\n"
     ]
    },
    {
     "name": "stdout",
     "output_type": "stream",
     "text": [
      " Best Test Loss: 0.03207944706082344\n",
      "RMSE: 0.008363\n",
      "MAE: 0.005509\n",
      "Making temp model folder\n",
      "Using existing directory at temp\n"
     ]
    },
    {
     "name": "stderr",
     "output_type": "stream",
     "text": [
      "100%|██████████| 100/100 [00:03<00:00, 30.06it/s]\n",
      "[I 2024-09-01 11:35:58,456] Trial 11 finished with value: 0.004839 and parameters: {'dropout': 0.0, 'neurons0': 112, 'neurons1': 16, 'neurons2': 48, 'neurons3': 160, 'lr': 9.775111800102661e-05, 'weight_decay': 3.786765186441698e-05}. Best is trial 4 with value: 0.002539.\n"
     ]
    },
    {
     "name": "stdout",
     "output_type": "stream",
     "text": [
      " Best Test Loss: 0.012680311687290668\n",
      "RMSE: 0.004839\n",
      "MAE: 0.002672\n",
      "Making temp model folder\n",
      "Using existing directory at temp\n"
     ]
    },
    {
     "name": "stderr",
     "output_type": "stream",
     "text": [
      "100%|██████████| 100/100 [00:03<00:00, 31.41it/s]\n",
      "[I 2024-09-01 11:36:01,659] Trial 12 finished with value: 0.000909 and parameters: {'dropout': 0.0, 'neurons0': 256, 'neurons1': 80, 'neurons2': 176, 'neurons3': 256, 'lr': 0.0009353634446277074, 'weight_decay': 1.1679403277101083e-05}. Best is trial 12 with value: 0.000909.\n"
     ]
    },
    {
     "name": "stdout",
     "output_type": "stream",
     "text": [
      " Best Test Loss: 0.0004455758025869727\n",
      "RMSE: 0.000909\n",
      "MAE: 0.000649\n",
      "Making temp model folder\n",
      "Using existing directory at temp\n"
     ]
    },
    {
     "name": "stderr",
     "output_type": "stream",
     "text": [
      "100%|██████████| 100/100 [00:03<00:00, 29.04it/s]\n",
      "[I 2024-09-01 11:36:05,121] Trial 13 finished with value: 0.00347 and parameters: {'dropout': 0.15000000000000002, 'neurons0': 256, 'neurons1': 96, 'neurons2': 176, 'neurons3': 256, 'lr': 0.0009815616324252794, 'weight_decay': 0.000250281943316076}. Best is trial 12 with value: 0.000909.\n"
     ]
    },
    {
     "name": "stdout",
     "output_type": "stream",
     "text": [
      " Best Test Loss: 0.006297567393630743\n",
      "RMSE: 0.00347\n",
      "MAE: 0.002253\n",
      "Making temp model folder\n",
      "Using existing directory at temp\n"
     ]
    },
    {
     "name": "stderr",
     "output_type": "stream",
     "text": [
      "100%|██████████| 100/100 [00:03<00:00, 30.39it/s]\n",
      "[I 2024-09-01 11:36:08,431] Trial 14 finished with value: 0.001491 and parameters: {'dropout': 0.0, 'neurons0': 256, 'neurons1': 64, 'neurons2': 208, 'neurons3': 256, 'lr': 0.007573810270855609, 'weight_decay': 4.233047899241224e-05}. Best is trial 12 with value: 0.000909.\n"
     ]
    },
    {
     "name": "stdout",
     "output_type": "stream",
     "text": [
      " Best Test Loss: 0.000992253073491156\n",
      "RMSE: 0.001491\n",
      "MAE: 0.001031\n",
      "Making temp model folder\n",
      "Using existing directory at temp\n"
     ]
    },
    {
     "name": "stderr",
     "output_type": "stream",
     "text": [
      "100%|██████████| 100/100 [00:03<00:00, 31.14it/s]\n",
      "[I 2024-09-01 11:36:11,662] Trial 15 finished with value: 0.001852 and parameters: {'dropout': 0.0, 'neurons0': 256, 'neurons1': 64, 'neurons2': 224, 'neurons3': 256, 'lr': 0.012411888954267826, 'weight_decay': 2.8761212294685718e-05}. Best is trial 12 with value: 0.000909.\n"
     ]
    },
    {
     "name": "stdout",
     "output_type": "stream",
     "text": [
      " Best Test Loss: 0.0016683452995494008\n",
      "RMSE: 0.001852\n",
      "MAE: 0.001358\n",
      "Making temp model folder\n",
      "Using existing directory at temp\n"
     ]
    },
    {
     "name": "stderr",
     "output_type": "stream",
     "text": [
      "100%|██████████| 100/100 [00:03<00:00, 29.07it/s]\n",
      "[I 2024-09-01 11:36:15,121] Trial 16 finished with value: 0.00776 and parameters: {'dropout': 0.25, 'neurons0': 208, 'neurons1': 64, 'neurons2': 192, 'neurons3': 256, 'lr': 0.008815427933961544, 'weight_decay': 5.026366553642984e-05}. Best is trial 12 with value: 0.000909.\n"
     ]
    },
    {
     "name": "stdout",
     "output_type": "stream",
     "text": [
      " Best Test Loss: 0.019135842099785805\n",
      "RMSE: 0.00776\n",
      "MAE: 0.006391\n",
      "Making temp model folder\n",
      "Using existing directory at temp\n"
     ]
    },
    {
     "name": "stderr",
     "output_type": "stream",
     "text": [
      "100%|██████████| 100/100 [00:03<00:00, 29.23it/s]\n",
      "[I 2024-09-01 11:36:18,562] Trial 17 finished with value: 0.001916 and parameters: {'dropout': 0.05, 'neurons0': 176, 'neurons1': 112, 'neurons2': 208, 'neurons3': 208, 'lr': 0.004060265091669461, 'weight_decay': 1.021988466746451e-05}. Best is trial 12 with value: 0.000909.\n"
     ]
    },
    {
     "name": "stdout",
     "output_type": "stream",
     "text": [
      " Best Test Loss: 0.0010549521539360285\n",
      "RMSE: 0.001916\n",
      "MAE: 0.001562\n",
      "Making temp model folder\n",
      "Using existing directory at temp\n"
     ]
    },
    {
     "name": "stderr",
     "output_type": "stream",
     "text": [
      "100%|██████████| 100/100 [00:03<00:00, 28.33it/s]\n",
      "[I 2024-09-01 11:36:22,114] Trial 18 finished with value: 0.017467 and parameters: {'dropout': 0.4, 'neurons0': 240, 'neurons1': 48, 'neurons2': 240, 'neurons3': 240, 'lr': 0.04284375972976386, 'weight_decay': 1.8377385533642846e-05}. Best is trial 12 with value: 0.000909.\n"
     ]
    },
    {
     "name": "stdout",
     "output_type": "stream",
     "text": [
      " Best Test Loss: 0.13234631717205048\n",
      "RMSE: 0.017467\n",
      "MAE: 0.013698\n",
      "Making temp model folder\n",
      "Using existing directory at temp\n"
     ]
    },
    {
     "name": "stderr",
     "output_type": "stream",
     "text": [
      "100%|██████████| 100/100 [00:03<00:00, 29.99it/s]\n",
      "[I 2024-09-01 11:36:25,468] Trial 19 finished with value: 0.007143 and parameters: {'dropout': 0.15000000000000002, 'neurons0': 224, 'neurons1': 192, 'neurons2': 160, 'neurons3': 64, 'lr': 0.03168823029893868, 'weight_decay': 5.051796782441351e-05}. Best is trial 12 with value: 0.000909.\n"
     ]
    },
    {
     "name": "stdout",
     "output_type": "stream",
     "text": [
      " Best Test Loss: 0.019446704536676407\n",
      "RMSE: 0.007143\n",
      "MAE: 0.00539\n",
      "Making temp model folder\n",
      "Using existing directory at temp\n"
     ]
    },
    {
     "name": "stderr",
     "output_type": "stream",
     "text": [
      "100%|██████████| 100/100 [00:03<00:00, 28.75it/s]\n",
      "[I 2024-09-01 11:36:28,966] Trial 20 finished with value: 0.002886 and parameters: {'dropout': 0.05, 'neurons0': 192, 'neurons1': 80, 'neurons2': 208, 'neurons3': 192, 'lr': 0.0003916273783839293, 'weight_decay': 0.00019582116431703122}. Best is trial 12 with value: 0.000909.\n"
     ]
    },
    {
     "name": "stdout",
     "output_type": "stream",
     "text": [
      " Best Test Loss: 0.004492918029427528\n",
      "RMSE: 0.002886\n",
      "MAE: 0.001824\n",
      "Making temp model folder\n",
      "Using existing directory at temp\n"
     ]
    },
    {
     "name": "stderr",
     "output_type": "stream",
     "text": [
      "100%|██████████| 100/100 [00:03<00:00, 29.47it/s]\n",
      "[I 2024-09-01 11:36:32,379] Trial 21 finished with value: 0.001742 and parameters: {'dropout': 0.0, 'neurons0': 256, 'neurons1': 64, 'neurons2': 224, 'neurons3': 256, 'lr': 0.012202593341400447, 'weight_decay': 2.855349890182945e-05}. Best is trial 12 with value: 0.000909.\n"
     ]
    },
    {
     "name": "stdout",
     "output_type": "stream",
     "text": [
      " Best Test Loss: 0.0012092647375538945\n",
      "RMSE: 0.001742\n",
      "MAE: 0.001263\n",
      "Making temp model folder\n",
      "Using existing directory at temp\n"
     ]
    },
    {
     "name": "stderr",
     "output_type": "stream",
     "text": [
      "100%|██████████| 100/100 [00:03<00:00, 29.66it/s]\n",
      "[I 2024-09-01 11:36:35,772] Trial 22 finished with value: 0.001297 and parameters: {'dropout': 0.0, 'neurons0': 240, 'neurons1': 48, 'neurons2': 256, 'neurons3': 240, 'lr': 0.004737111565643917, 'weight_decay': 1.846732357560528e-05}. Best is trial 12 with value: 0.000909.\n"
     ]
    },
    {
     "name": "stdout",
     "output_type": "stream",
     "text": [
      " Best Test Loss: 0.0007061886135488749\n",
      "RMSE: 0.001297\n",
      "MAE: 0.000975\n",
      "Making temp model folder\n",
      "Using existing directory at temp\n"
     ]
    },
    {
     "name": "stderr",
     "output_type": "stream",
     "text": [
      "100%|██████████| 100/100 [00:03<00:00, 27.41it/s]\n",
      "[I 2024-09-01 11:36:39,440] Trial 23 finished with value: 0.002845 and parameters: {'dropout': 0.05, 'neurons0': 224, 'neurons1': 16, 'neurons2': 256, 'neurons3': 224, 'lr': 0.0053188215059409545, 'weight_decay': 1.607065013002349e-05}. Best is trial 12 with value: 0.000909.\n"
     ]
    },
    {
     "name": "stdout",
     "output_type": "stream",
     "text": [
      " Best Test Loss: 0.0033340079244226217\n",
      "RMSE: 0.002845\n",
      "MAE: 0.002052\n",
      "Making temp model folder\n",
      "Using existing directory at temp\n"
     ]
    },
    {
     "name": "stderr",
     "output_type": "stream",
     "text": [
      "100%|██████████| 100/100 [00:03<00:00, 28.32it/s]\n",
      "[I 2024-09-01 11:36:42,991] Trial 24 finished with value: 0.003343 and parameters: {'dropout': 0.15000000000000002, 'neurons0': 240, 'neurons1': 48, 'neurons2': 176, 'neurons3': 240, 'lr': 0.002384307496101178, 'weight_decay': 2.00366108469271e-05}. Best is trial 12 with value: 0.000909.\n"
     ]
    },
    {
     "name": "stdout",
     "output_type": "stream",
     "text": [
      " Best Test Loss: 0.002812307793647051\n",
      "RMSE: 0.003343\n",
      "MAE: 0.002884\n",
      "Making temp model folder\n",
      "Using existing directory at temp\n"
     ]
    },
    {
     "name": "stderr",
     "output_type": "stream",
     "text": [
      "100%|██████████| 100/100 [00:03<00:00, 30.32it/s]\n",
      "[I 2024-09-01 11:36:46,309] Trial 25 finished with value: 0.001716 and parameters: {'dropout': 0.0, 'neurons0': 240, 'neurons1': 112, 'neurons2': 224, 'neurons3': 240, 'lr': 0.001379539677699615, 'weight_decay': 5.460649666929721e-05}. Best is trial 12 with value: 0.000909.\n"
     ]
    },
    {
     "name": "stdout",
     "output_type": "stream",
     "text": [
      " Best Test Loss: 0.0008550031343474984\n",
      "RMSE: 0.001716\n",
      "MAE: 0.001282\n",
      "Making temp model folder\n",
      "Using existing directory at temp\n"
     ]
    },
    {
     "name": "stderr",
     "output_type": "stream",
     "text": [
      "100%|██████████| 100/100 [00:03<00:00, 29.63it/s]\n",
      "[I 2024-09-01 11:36:49,705] Trial 26 finished with value: 0.005003 and parameters: {'dropout': 0.1, 'neurons0': 176, 'neurons1': 48, 'neurons2': 192, 'neurons3': 208, 'lr': 0.025327858086566905, 'weight_decay': 1.3357962577881534e-05}. Best is trial 12 with value: 0.000909.\n"
     ]
    },
    {
     "name": "stdout",
     "output_type": "stream",
     "text": [
      " Best Test Loss: 0.01204338762909174\n",
      "RMSE: 0.005003\n",
      "MAE: 0.003563\n",
      "Making temp model folder\n",
      "Using existing directory at temp\n"
     ]
    },
    {
     "name": "stderr",
     "output_type": "stream",
     "text": [
      "100%|██████████| 100/100 [00:03<00:00, 27.61it/s]\n",
      "[I 2024-09-01 11:36:53,347] Trial 27 finished with value: 0.001894 and parameters: {'dropout': 0.05, 'neurons0': 224, 'neurons1': 80, 'neurons2': 240, 'neurons3': 224, 'lr': 0.005110419186736545, 'weight_decay': 2.3129655510105765e-05}. Best is trial 12 with value: 0.000909.\n"
     ]
    },
    {
     "name": "stdout",
     "output_type": "stream",
     "text": [
      " Best Test Loss: 0.0013153384206816554\n",
      "RMSE: 0.001894\n",
      "MAE: 0.001396\n",
      "Making temp model folder\n",
      "Using existing directory at temp\n"
     ]
    },
    {
     "name": "stderr",
     "output_type": "stream",
     "text": [
      "100%|██████████| 100/100 [00:03<00:00, 28.58it/s]\n",
      "[I 2024-09-01 11:36:56,866] Trial 28 finished with value: 0.002802 and parameters: {'dropout': 0.2, 'neurons0': 256, 'neurons1': 112, 'neurons2': 144, 'neurons3': 192, 'lr': 0.0006977459918968538, 'weight_decay': 4.041400341512774e-05}. Best is trial 12 with value: 0.000909.\n"
     ]
    },
    {
     "name": "stdout",
     "output_type": "stream",
     "text": [
      " Best Test Loss: 0.0031659703236073256\n",
      "RMSE: 0.002802\n",
      "MAE: 0.001961\n",
      "Making temp model folder\n",
      "Using existing directory at temp\n"
     ]
    },
    {
     "name": "stderr",
     "output_type": "stream",
     "text": [
      "100%|██████████| 100/100 [00:03<00:00, 30.14it/s]\n",
      "[I 2024-09-01 11:37:00,204] Trial 29 finished with value: 0.008172 and parameters: {'dropout': 0.25, 'neurons0': 32, 'neurons1': 32, 'neurons2': 192, 'neurons3': 112, 'lr': 0.00020810232634242625, 'weight_decay': 2.954991766652869e-05}. Best is trial 12 with value: 0.000909.\n"
     ]
    },
    {
     "name": "stdout",
     "output_type": "stream",
     "text": [
      " Best Test Loss: 0.03423888236284256\n",
      "RMSE: 0.008172\n",
      "MAE: 0.005507\n",
      "Making temp model folder\n",
      "Using existing directory at temp\n"
     ]
    },
    {
     "name": "stderr",
     "output_type": "stream",
     "text": [
      "100%|██████████| 100/100 [00:03<00:00, 29.59it/s]\n",
      "[I 2024-09-01 11:37:03,604] Trial 30 finished with value: 0.000933 and parameters: {'dropout': 0.0, 'neurons0': 192, 'neurons1': 96, 'neurons2': 256, 'neurons3': 240, 'lr': 0.0015443843943941096, 'weight_decay': 1.3404167056859742e-05}. Best is trial 12 with value: 0.000909.\n"
     ]
    },
    {
     "name": "stdout",
     "output_type": "stream",
     "text": [
      " Best Test Loss: 0.00045118987327441573\n",
      "RMSE: 0.000933\n",
      "MAE: 0.000668\n",
      "Making temp model folder\n",
      "Using existing directory at temp\n"
     ]
    },
    {
     "name": "stderr",
     "output_type": "stream",
     "text": [
      "100%|██████████| 100/100 [00:03<00:00, 30.90it/s]\n",
      "[I 2024-09-01 11:37:06,861] Trial 31 finished with value: 0.001221 and parameters: {'dropout': 0.0, 'neurons0': 192, 'neurons1': 96, 'neurons2': 256, 'neurons3': 240, 'lr': 0.0017467632729799491, 'weight_decay': 1.3899594518367367e-05}. Best is trial 12 with value: 0.000909.\n"
     ]
    },
    {
     "name": "stdout",
     "output_type": "stream",
     "text": [
      " Best Test Loss: 0.0004513517487794161\n",
      "RMSE: 0.001221\n",
      "MAE: 0.000956\n",
      "Making temp model folder\n",
      "Using existing directory at temp\n"
     ]
    },
    {
     "name": "stderr",
     "output_type": "stream",
     "text": [
      "100%|██████████| 100/100 [00:03<00:00, 28.66it/s]\n",
      "[I 2024-09-01 11:37:10,372] Trial 32 finished with value: 0.001802 and parameters: {'dropout': 0.05, 'neurons0': 192, 'neurons1': 96, 'neurons2': 256, 'neurons3': 240, 'lr': 0.0015612091760230594, 'weight_decay': 1.3697117645819244e-05}. Best is trial 12 with value: 0.000909.\n"
     ]
    },
    {
     "name": "stdout",
     "output_type": "stream",
     "text": [
      " Best Test Loss: 0.001020717085339129\n",
      "RMSE: 0.001802\n",
      "MAE: 0.001424\n",
      "Making temp model folder\n",
      "Using existing directory at temp\n"
     ]
    },
    {
     "name": "stderr",
     "output_type": "stream",
     "text": [
      "100%|██████████| 100/100 [00:03<00:00, 30.51it/s]\n",
      "[I 2024-09-01 11:37:13,673] Trial 33 finished with value: 0.000883 and parameters: {'dropout': 0.0, 'neurons0': 192, 'neurons1': 128, 'neurons2': 240, 'neurons3': 224, 'lr': 0.00043997903622784484, 'weight_decay': 1.0343266448769873e-05}. Best is trial 33 with value: 0.000883.\n"
     ]
    },
    {
     "name": "stdout",
     "output_type": "stream",
     "text": [
      " Best Test Loss: 0.0004030427080579102\n",
      "RMSE: 0.000883\n",
      "MAE: 0.000642\n",
      "Making temp model folder\n",
      "Using existing directory at temp\n"
     ]
    },
    {
     "name": "stderr",
     "output_type": "stream",
     "text": [
      "100%|██████████| 100/100 [00:03<00:00, 28.53it/s]\n",
      "[I 2024-09-01 11:37:17,200] Trial 34 finished with value: 0.002301 and parameters: {'dropout': 0.1, 'neurons0': 144, 'neurons1': 128, 'neurons2': 240, 'neurons3': 144, 'lr': 0.00023700651256855222, 'weight_decay': 1.0124491501227216e-05}. Best is trial 33 with value: 0.000883.\n"
     ]
    },
    {
     "name": "stdout",
     "output_type": "stream",
     "text": [
      " Best Test Loss: 0.0028424246702343225\n",
      "RMSE: 0.002301\n",
      "MAE: 0.001688\n",
      "Making temp model folder\n",
      "Using existing directory at temp\n"
     ]
    },
    {
     "name": "stderr",
     "output_type": "stream",
     "text": [
      "100%|██████████| 100/100 [00:03<00:00, 28.70it/s]\n",
      "[I 2024-09-01 11:37:20,704] Trial 35 finished with value: 0.0037 and parameters: {'dropout': 0.30000000000000004, 'neurons0': 176, 'neurons1': 160, 'neurons2': 240, 'neurons3': 176, 'lr': 0.0004456105481507006, 'weight_decay': 1.3187727908986592e-05}. Best is trial 33 with value: 0.000883.\n"
     ]
    },
    {
     "name": "stdout",
     "output_type": "stream",
     "text": [
      " Best Test Loss: 0.005925264209508896\n",
      "RMSE: 0.0037\n",
      "MAE: 0.002738\n",
      "Making temp model folder\n",
      "Using existing directory at temp\n"
     ]
    },
    {
     "name": "stderr",
     "output_type": "stream",
     "text": [
      "100%|██████████| 100/100 [00:03<00:00, 28.07it/s]\n",
      "[I 2024-09-01 11:37:24,287] Trial 36 finished with value: 0.009356 and parameters: {'dropout': 0.1, 'neurons0': 160, 'neurons1': 192, 'neurons2': 224, 'neurons3': 208, 'lr': 1.0215185404600834e-05, 'weight_decay': 1.3884018083066353e-05}. Best is trial 33 with value: 0.000883.\n"
     ]
    },
    {
     "name": "stdout",
     "output_type": "stream",
     "text": [
      " Best Test Loss: 0.04737653583288193\n",
      "RMSE: 0.009356\n",
      "MAE: 0.006297\n",
      "Making temp model folder\n",
      "Using existing directory at temp\n"
     ]
    },
    {
     "name": "stderr",
     "output_type": "stream",
     "text": [
      "100%|██████████| 100/100 [00:03<00:00, 29.88it/s]\n",
      "[I 2024-09-01 11:37:27,656] Trial 37 finished with value: 0.001671 and parameters: {'dropout': 0.0, 'neurons0': 128, 'neurons1': 128, 'neurons2': 160, 'neurons3': 176, 'lr': 0.00010436723656960968, 'weight_decay': 2.2408731512662882e-05}. Best is trial 33 with value: 0.000883.\n"
     ]
    },
    {
     "name": "stdout",
     "output_type": "stream",
     "text": [
      " Best Test Loss: 0.001500140642747283\n",
      "RMSE: 0.001671\n",
      "MAE: 0.001074\n",
      "Making temp model folder\n",
      "Using existing directory at temp\n"
     ]
    },
    {
     "name": "stderr",
     "output_type": "stream",
     "text": [
      "100%|██████████| 100/100 [00:03<00:00, 30.20it/s]\n",
      "[I 2024-09-01 11:37:30,989] Trial 38 finished with value: 0.00389 and parameters: {'dropout': 0.05, 'neurons0': 192, 'neurons1': 176, 'neurons2': 144, 'neurons3': 224, 'lr': 4.271993045275549e-05, 'weight_decay': 1.5551864630774073e-05}. Best is trial 33 with value: 0.000883.\n"
     ]
    },
    {
     "name": "stdout",
     "output_type": "stream",
     "text": [
      " Best Test Loss: 0.00817309319972992\n",
      "RMSE: 0.00389\n",
      "MAE: 0.002277\n",
      "Making temp model folder\n",
      "Using existing directory at temp\n"
     ]
    },
    {
     "name": "stderr",
     "output_type": "stream",
     "text": [
      "100%|██████████| 100/100 [00:03<00:00, 29.53it/s]\n",
      "[I 2024-09-01 11:37:34,396] Trial 39 finished with value: 0.001739 and parameters: {'dropout': 0.1, 'neurons0': 160, 'neurons1': 96, 'neurons2': 256, 'neurons3': 224, 'lr': 0.0006650122146027906, 'weight_decay': 1.0319743731242423e-05}. Best is trial 33 with value: 0.000883.\n"
     ]
    },
    {
     "name": "stdout",
     "output_type": "stream",
     "text": [
      " Best Test Loss: 0.001622902462258935\n",
      "RMSE: 0.001739\n",
      "MAE: 0.001322\n",
      "Making temp model folder\n",
      "Using existing directory at temp\n"
     ]
    },
    {
     "name": "stderr",
     "output_type": "stream",
     "text": [
      "100%|██████████| 100/100 [00:03<00:00, 29.72it/s]\n",
      "[I 2024-09-01 11:37:37,782] Trial 40 finished with value: 0.006371 and parameters: {'dropout': 0.2, 'neurons0': 208, 'neurons1': 144, 'neurons2': 240, 'neurons3': 128, 'lr': 0.0002375063078972982, 'weight_decay': 0.0009323594058951285}. Best is trial 33 with value: 0.000883.\n"
     ]
    },
    {
     "name": "stdout",
     "output_type": "stream",
     "text": [
      " Best Test Loss: 0.021779906004667282\n",
      "RMSE: 0.006371\n",
      "MAE: 0.003546\n",
      "Making temp model folder\n",
      "Using existing directory at temp\n"
     ]
    },
    {
     "name": "stderr",
     "output_type": "stream",
     "text": [
      "100%|██████████| 100/100 [00:03<00:00, 28.51it/s]\n",
      "[I 2024-09-01 11:37:41,310] Trial 41 finished with value: 0.000941 and parameters: {'dropout': 0.0, 'neurons0': 224, 'neurons1': 112, 'neurons2': 256, 'neurons3': 240, 'lr': 0.0013593539874805934, 'weight_decay': 1.8382039446917996e-05}. Best is trial 33 with value: 0.000883.\n"
     ]
    },
    {
     "name": "stdout",
     "output_type": "stream",
     "text": [
      " Best Test Loss: 0.0004771103849634528\n",
      "RMSE: 0.000941\n",
      "MAE: 0.000694\n",
      "Making temp model folder\n",
      "Using existing directory at temp\n"
     ]
    },
    {
     "name": "stderr",
     "output_type": "stream",
     "text": [
      "100%|██████████| 100/100 [00:03<00:00, 30.00it/s]\n",
      "[I 2024-09-01 11:37:44,665] Trial 42 finished with value: 0.001075 and parameters: {'dropout': 0.0, 'neurons0': 224, 'neurons1': 112, 'neurons2': 256, 'neurons3': 240, 'lr': 0.0013339458660440605, 'weight_decay': 1.2388980423253209e-05}. Best is trial 33 with value: 0.000883.\n"
     ]
    },
    {
     "name": "stdout",
     "output_type": "stream",
     "text": [
      " Best Test Loss: 0.0003924832271877676\n",
      "RMSE: 0.001075\n",
      "MAE: 0.000779\n",
      "Making temp model folder\n",
      "Using existing directory at temp\n"
     ]
    },
    {
     "name": "stderr",
     "output_type": "stream",
     "text": [
      "100%|██████████| 100/100 [00:03<00:00, 28.93it/s]\n",
      "[I 2024-09-01 11:37:48,143] Trial 43 finished with value: 0.001452 and parameters: {'dropout': 0.05, 'neurons0': 224, 'neurons1': 128, 'neurons2': 224, 'neurons3': 192, 'lr': 0.0009702282347567407, 'weight_decay': 2.4108227612958717e-05}. Best is trial 33 with value: 0.000883.\n"
     ]
    },
    {
     "name": "stdout",
     "output_type": "stream",
     "text": [
      " Best Test Loss: 0.0008751087007112801\n",
      "RMSE: 0.001452\n",
      "MAE: 0.00109\n",
      "Making temp model folder\n",
      "Using existing directory at temp\n"
     ]
    },
    {
     "name": "stderr",
     "output_type": "stream",
     "text": [
      "100%|██████████| 100/100 [00:03<00:00, 29.85it/s]\n",
      "[I 2024-09-01 11:37:51,514] Trial 44 finished with value: 0.001161 and parameters: {'dropout': 0.0, 'neurons0': 208, 'neurons1': 112, 'neurons2': 112, 'neurons3': 80, 'lr': 0.00047249326874799656, 'weight_decay': 1.2254142784859899e-05}. Best is trial 33 with value: 0.000883.\n"
     ]
    },
    {
     "name": "stdout",
     "output_type": "stream",
     "text": [
      " Best Test Loss: 0.0006133334245532751\n",
      "RMSE: 0.001161\n",
      "MAE: 0.000835\n",
      "Making temp model folder\n",
      "Using existing directory at temp\n"
     ]
    },
    {
     "name": "stderr",
     "output_type": "stream",
     "text": [
      "100%|██████████| 100/100 [00:03<00:00, 29.42it/s]\n",
      "[I 2024-09-01 11:37:54,934] Trial 45 finished with value: 0.002006 and parameters: {'dropout': 0.05, 'neurons0': 224, 'neurons1': 80, 'neurons2': 240, 'neurons3': 256, 'lr': 0.002958046832033718, 'weight_decay': 1.6567318695556225e-05}. Best is trial 33 with value: 0.000883.\n"
     ]
    },
    {
     "name": "stdout",
     "output_type": "stream",
     "text": [
      " Best Test Loss: 0.0011500774417072535\n",
      "RMSE: 0.002006\n",
      "MAE: 0.001616\n",
      "Making temp model folder\n",
      "Using existing directory at temp\n"
     ]
    },
    {
     "name": "stderr",
     "output_type": "stream",
     "text": [
      "100%|██████████| 100/100 [00:03<00:00, 29.45it/s]\n",
      "[I 2024-09-01 11:37:58,359] Trial 46 finished with value: 0.001209 and parameters: {'dropout': 0.0, 'neurons0': 240, 'neurons1': 160, 'neurons2': 208, 'neurons3': 224, 'lr': 0.0013554357803856167, 'weight_decay': 3.288235103508033e-05}. Best is trial 33 with value: 0.000883.\n"
     ]
    },
    {
     "name": "stdout",
     "output_type": "stream",
     "text": [
      " Best Test Loss: 0.0006268168799579144\n",
      "RMSE: 0.001209\n",
      "MAE: 0.000852\n",
      "Making temp model folder\n",
      "Using existing directory at temp\n"
     ]
    },
    {
     "name": "stderr",
     "output_type": "stream",
     "text": [
      "100%|██████████| 100/100 [00:03<00:00, 28.97it/s]\n",
      "[I 2024-09-01 11:38:01,832] Trial 47 finished with value: 0.005273 and parameters: {'dropout': 0.1, 'neurons0': 192, 'neurons1': 128, 'neurons2': 128, 'neurons3': 16, 'lr': 0.00016327408705200022, 'weight_decay': 1.949980546096506e-05}. Best is trial 33 with value: 0.000883.\n"
     ]
    },
    {
     "name": "stdout",
     "output_type": "stream",
     "text": [
      " Best Test Loss: 0.007843115366995335\n",
      "RMSE: 0.005273\n",
      "MAE: 0.004093\n",
      "Making temp model folder\n",
      "Using existing directory at temp\n"
     ]
    },
    {
     "name": "stderr",
     "output_type": "stream",
     "text": [
      "100%|██████████| 100/100 [00:03<00:00, 29.03it/s]\n",
      "[I 2024-09-01 11:38:05,298] Trial 48 finished with value: 0.006231 and parameters: {'dropout': 0.5, 'neurons0': 208, 'neurons1': 112, 'neurons2': 80, 'neurons3': 208, 'lr': 0.0005746621277081667, 'weight_decay': 1.1432961845554118e-05}. Best is trial 33 with value: 0.000883.\n"
     ]
    },
    {
     "name": "stdout",
     "output_type": "stream",
     "text": [
      " Best Test Loss: 0.018257224932312965\n",
      "RMSE: 0.006231\n",
      "MAE: 0.004726\n",
      "Making temp model folder\n",
      "Using existing directory at temp\n"
     ]
    },
    {
     "name": "stderr",
     "output_type": "stream",
     "text": [
      "100%|██████████| 100/100 [00:03<00:00, 28.95it/s]\n",
      "[I 2024-09-01 11:38:08,775] Trial 49 finished with value: 0.002689 and parameters: {'dropout': 0.15000000000000002, 'neurons0': 224, 'neurons1': 256, 'neurons2': 256, 'neurons3': 256, 'lr': 0.00030120805756722087, 'weight_decay': 7.335777425163355e-05}. Best is trial 33 with value: 0.000883.\n"
     ]
    },
    {
     "name": "stdout",
     "output_type": "stream",
     "text": [
      " Best Test Loss: 0.0034421011805534363\n",
      "RMSE: 0.002689\n",
      "MAE: 0.001915\n",
      "Study statistics: \n",
      "  Number of finished trials:  50\n",
      "  Number of pruned trials:  0\n",
      "  Number of complete trials:  50\n",
      "Best trial:\n",
      "  Value:  0.000883\n",
      "  Params: \n",
      "    dropout: 0.0\n",
      "    neurons0: 192\n",
      "    neurons1: 128\n",
      "    neurons2: 240\n",
      "    neurons3: 224\n",
      "    lr: 0.00043997903622784484\n",
      "    weight_decay: 1.0343266448769873e-05\n",
      "Using existing directory at Model1\n"
     ]
    },
    {
     "name": "stderr",
     "output_type": "stream",
     "text": [
      "  0%|          | 4/1000 [00:00<00:32, 30.90it/s]"
     ]
    },
    {
     "name": "stdout",
     "output_type": "stream",
     "text": [
      "Best State Updated. Epoch: 0\n",
      "Best State Updated. Epoch: 1\n",
      "Best State Updated. Epoch: 2\n",
      "Best State Updated. Epoch: 3\n",
      "Best State Updated. Epoch: 4\n",
      "Best State Updated. Epoch: 5\n"
     ]
    },
    {
     "name": "stderr",
     "output_type": "stream",
     "text": [
      "  1%|          | 8/1000 [00:00<00:49, 20.11it/s]"
     ]
    },
    {
     "name": "stdout",
     "output_type": "stream",
     "text": [
      "Best State Updated. Epoch: 6\n",
      "Best State Updated. Epoch: 7\n"
     ]
    },
    {
     "name": "stderr",
     "output_type": "stream",
     "text": [
      "  1%|          | 11/1000 [00:00<00:44, 22.06it/s]"
     ]
    },
    {
     "name": "stdout",
     "output_type": "stream",
     "text": [
      "Best State Updated. Epoch: 8\n",
      "Best State Updated. Epoch: 9\n",
      "Best State Updated. Epoch: 10\n",
      "Best State Updated. Epoch: 11\n"
     ]
    },
    {
     "name": "stderr",
     "output_type": "stream",
     "text": [
      "  1%|▏         | 14/1000 [00:00<00:41, 23.97it/s]"
     ]
    },
    {
     "name": "stdout",
     "output_type": "stream",
     "text": [
      "Best State Updated. Epoch: 12\n",
      "Best State Updated. Epoch: 13\n"
     ]
    },
    {
     "name": "stderr",
     "output_type": "stream",
     "text": [
      "  2%|▏         | 17/1000 [00:00<00:38, 25.23it/s]"
     ]
    },
    {
     "name": "stdout",
     "output_type": "stream",
     "text": [
      "Best State Updated. Epoch: 14\n",
      "Best State Updated. Epoch: 15\n",
      "Best State Updated. Epoch: 16\n",
      "Best State Updated. Epoch: 17\n"
     ]
    },
    {
     "name": "stderr",
     "output_type": "stream",
     "text": [
      "  2%|▏         | 20/1000 [00:00<00:37, 25.91it/s]"
     ]
    },
    {
     "name": "stdout",
     "output_type": "stream",
     "text": [
      "Best State Updated. Epoch: 18\n",
      "Best State Updated. Epoch: 19\n"
     ]
    },
    {
     "name": "stderr",
     "output_type": "stream",
     "text": [
      "  2%|▏         | 24/1000 [00:00<00:34, 27.90it/s]"
     ]
    },
    {
     "name": "stdout",
     "output_type": "stream",
     "text": [
      "Best State Updated. Epoch: 20\n",
      "Best State Updated. Epoch: 21\n",
      "Best State Updated. Epoch: 22\n",
      "Best State Updated. Epoch: 23\n",
      "Best State Updated. Epoch: 24\n",
      "Best State Updated. Epoch: 25\n",
      "Best State Updated. Epoch: 26\n"
     ]
    },
    {
     "name": "stderr",
     "output_type": "stream",
     "text": [
      "  3%|▎         | 28/1000 [00:01<00:33, 29.01it/s]"
     ]
    },
    {
     "name": "stdout",
     "output_type": "stream",
     "text": [
      "Best State Updated. Epoch: 27\n",
      "Best State Updated. Epoch: 28\n",
      "Best State Updated. Epoch: 29\n",
      "Best State Updated. Epoch: 30\n"
     ]
    },
    {
     "name": "stderr",
     "output_type": "stream",
     "text": [
      "  3%|▎         | 32/1000 [00:01<00:33, 28.61it/s]"
     ]
    },
    {
     "name": "stdout",
     "output_type": "stream",
     "text": [
      "Best State Updated. Epoch: 31\n",
      "Best State Updated. Epoch: 32\n"
     ]
    },
    {
     "name": "stderr",
     "output_type": "stream",
     "text": [
      "  4%|▎         | 35/1000 [00:01<00:33, 28.60it/s]"
     ]
    },
    {
     "name": "stdout",
     "output_type": "stream",
     "text": [
      "Best State Updated. Epoch: 33\n",
      "Best State Updated. Epoch: 34\n",
      "Best State Updated. Epoch: 35\n",
      "Best State Updated. Epoch: 36\n"
     ]
    },
    {
     "name": "stderr",
     "output_type": "stream",
     "text": [
      "  4%|▍         | 39/1000 [00:01<00:32, 29.36it/s]"
     ]
    },
    {
     "name": "stdout",
     "output_type": "stream",
     "text": [
      "Best State Updated. Epoch: 37\n",
      "Best State Updated. Epoch: 38\n",
      "Best State Updated. Epoch: 39\n"
     ]
    },
    {
     "name": "stderr",
     "output_type": "stream",
     "text": [
      "  4%|▍         | 42/1000 [00:01<00:35, 27.28it/s]"
     ]
    },
    {
     "name": "stdout",
     "output_type": "stream",
     "text": [
      "Best State Updated. Epoch: 40\n",
      "Best State Updated. Epoch: 41\n",
      "Best State Updated. Epoch: 42\n"
     ]
    },
    {
     "name": "stderr",
     "output_type": "stream",
     "text": [
      "  4%|▍         | 45/1000 [00:01<00:34, 27.43it/s]"
     ]
    },
    {
     "name": "stdout",
     "output_type": "stream",
     "text": [
      "Best State Updated. Epoch: 43\n",
      "Best State Updated. Epoch: 44\n",
      "Best State Updated. Epoch: 45\n"
     ]
    },
    {
     "name": "stderr",
     "output_type": "stream",
     "text": [
      "  5%|▍         | 49/1000 [00:01<00:33, 28.65it/s]"
     ]
    },
    {
     "name": "stdout",
     "output_type": "stream",
     "text": [
      "Best State Updated. Epoch: 46\n",
      "Best State Updated. Epoch: 47\n",
      "Best State Updated. Epoch: 48\n",
      "Best State Updated. Epoch: 49\n"
     ]
    },
    {
     "name": "stderr",
     "output_type": "stream",
     "text": [
      "  5%|▌         | 52/1000 [00:01<00:33, 27.93it/s]"
     ]
    },
    {
     "name": "stdout",
     "output_type": "stream",
     "text": [
      "Best State Updated. Epoch: 50\n",
      "Best State Updated. Epoch: 51\n"
     ]
    },
    {
     "name": "stderr",
     "output_type": "stream",
     "text": [
      "  6%|▌         | 55/1000 [00:02<00:33, 28.33it/s]"
     ]
    },
    {
     "name": "stdout",
     "output_type": "stream",
     "text": [
      "Best State Updated. Epoch: 52\n",
      "Best State Updated. Epoch: 53\n",
      "Best State Updated. Epoch: 54\n",
      "Best State Updated. Epoch: 55\n",
      "Best State Updated. Epoch: 56\n"
     ]
    },
    {
     "name": "stderr",
     "output_type": "stream",
     "text": [
      "  6%|▋         | 63/1000 [00:02<00:30, 30.48it/s]"
     ]
    },
    {
     "name": "stdout",
     "output_type": "stream",
     "text": [
      "Best State Updated. Epoch: 60\n",
      "Best State Updated. Epoch: 61\n",
      "Best State Updated. Epoch: 62\n",
      "Best State Updated. Epoch: 63\n"
     ]
    },
    {
     "name": "stderr",
     "output_type": "stream",
     "text": [
      "  7%|▋         | 67/1000 [00:02<00:33, 28.20it/s]"
     ]
    },
    {
     "name": "stdout",
     "output_type": "stream",
     "text": [
      "Best State Updated. Epoch: 66\n"
     ]
    },
    {
     "name": "stderr",
     "output_type": "stream",
     "text": [
      "  8%|▊         | 75/1000 [00:02<00:36, 25.54it/s]"
     ]
    },
    {
     "name": "stdout",
     "output_type": "stream",
     "text": [
      "Best State Updated. Epoch: 70\n",
      "Best State Updated. Epoch: 71\n"
     ]
    },
    {
     "name": "stderr",
     "output_type": "stream",
     "text": [
      " 10%|▉         | 95/1000 [00:03<00:30, 30.12it/s]"
     ]
    },
    {
     "name": "stdout",
     "output_type": "stream",
     "text": [
      "Best State Updated. Epoch: 90\n",
      "Best State Updated. Epoch: 91\n"
     ]
    },
    {
     "name": "stderr",
     "output_type": "stream",
     "text": [
      " 10%|█         | 103/1000 [00:03<00:29, 30.90it/s]"
     ]
    },
    {
     "name": "stdout",
     "output_type": "stream",
     "text": [
      "Best State Updated. Epoch: 99\n"
     ]
    },
    {
     "name": "stderr",
     "output_type": "stream",
     "text": [
      " 12%|█▏        | 123/1000 [00:04<00:27, 32.15it/s]"
     ]
    },
    {
     "name": "stdout",
     "output_type": "stream",
     "text": [
      "Best State Updated. Epoch: 119\n",
      "Best State Updated. Epoch: 123\n",
      "Best State Updated. Epoch: 124\n",
      "Best State Updated. Epoch: 125\n"
     ]
    },
    {
     "name": "stderr",
     "output_type": "stream",
     "text": [
      " 13%|█▎        | 131/1000 [00:04<00:27, 32.07it/s]"
     ]
    },
    {
     "name": "stdout",
     "output_type": "stream",
     "text": [
      "Best State Updated. Epoch: 126\n",
      "Best State Updated. Epoch: 127\n",
      "Best State Updated. Epoch: 128\n",
      "Best State Updated. Epoch: 129\n"
     ]
    },
    {
     "name": "stderr",
     "output_type": "stream",
     "text": [
      " 16%|█▌        | 155/1000 [00:05<00:27, 30.90it/s]"
     ]
    },
    {
     "name": "stdout",
     "output_type": "stream",
     "text": [
      "Best State Updated. Epoch: 150\n",
      "Best State Updated. Epoch: 151\n",
      "Best State Updated. Epoch: 152\n"
     ]
    },
    {
     "name": "stderr",
     "output_type": "stream",
     "text": [
      " 18%|█▊        | 179/1000 [00:06<00:25, 31.75it/s]"
     ]
    },
    {
     "name": "stdout",
     "output_type": "stream",
     "text": [
      "Best State Updated. Epoch: 175\n",
      "Best State Updated. Epoch: 176\n",
      "Best State Updated. Epoch: 177\n"
     ]
    },
    {
     "name": "stderr",
     "output_type": "stream",
     "text": [
      " 20%|██        | 203/1000 [00:07<00:29, 27.31it/s]"
     ]
    },
    {
     "name": "stdout",
     "output_type": "stream",
     "text": [
      "Best State Updated. Epoch: 198\n"
     ]
    },
    {
     "name": "stderr",
     "output_type": "stream",
     "text": [
      " 24%|██▎       | 235/1000 [00:08<00:25, 30.33it/s]"
     ]
    },
    {
     "name": "stdout",
     "output_type": "stream",
     "text": [
      "Best State Updated. Epoch: 229\n",
      "Best State Updated. Epoch: 231\n",
      "Best State Updated. Epoch: 233\n",
      "Best State Updated. Epoch: 235\n"
     ]
    },
    {
     "name": "stderr",
     "output_type": "stream",
     "text": [
      " 28%|██▊       | 278/1000 [00:09<00:24, 29.76it/s]"
     ]
    },
    {
     "name": "stdout",
     "output_type": "stream",
     "text": [
      "Best State Updated. Epoch: 273\n",
      "Best State Updated. Epoch: 274\n",
      "Best State Updated. Epoch: 275\n",
      "Best State Updated. Epoch: 276\n"
     ]
    },
    {
     "name": "stderr",
     "output_type": "stream",
     "text": [
      " 29%|██▉       | 293/1000 [00:10<00:23, 29.49it/s]"
     ]
    },
    {
     "name": "stdout",
     "output_type": "stream",
     "text": [
      "Best State Updated. Epoch: 287\n",
      "Best State Updated. Epoch: 288\n"
     ]
    },
    {
     "name": "stderr",
     "output_type": "stream",
     "text": [
      " 32%|███▏      | 317/1000 [00:10<00:21, 32.13it/s]"
     ]
    },
    {
     "name": "stdout",
     "output_type": "stream",
     "text": [
      "Best State Updated. Epoch: 313\n",
      "Best State Updated. Epoch: 314\n",
      "Best State Updated. Epoch: 315\n"
     ]
    },
    {
     "name": "stderr",
     "output_type": "stream",
     "text": [
      " 35%|███▌      | 353/1000 [00:12<00:20, 31.18it/s]"
     ]
    },
    {
     "name": "stdout",
     "output_type": "stream",
     "text": [
      "Best State Updated. Epoch: 347\n",
      "Best State Updated. Epoch: 348\n",
      "Best State Updated. Epoch: 350\n"
     ]
    },
    {
     "name": "stderr",
     "output_type": "stream",
     "text": [
      " 44%|████▎     | 437/1000 [00:14<00:17, 32.31it/s]"
     ]
    },
    {
     "name": "stdout",
     "output_type": "stream",
     "text": [
      "Best State Updated. Epoch: 430\n",
      "Best State Updated. Epoch: 431\n",
      "Best State Updated. Epoch: 432\n"
     ]
    },
    {
     "name": "stderr",
     "output_type": "stream",
     "text": [
      " 54%|█████▎    | 537/1000 [00:18<00:15, 30.34it/s]"
     ]
    },
    {
     "name": "stdout",
     "output_type": "stream",
     "text": [
      "Best State Updated. Epoch: 533\n",
      "Best State Updated. Epoch: 534\n",
      "Best State Updated. Epoch: 535\n",
      "Best State Updated. Epoch: 537\n"
     ]
    },
    {
     "name": "stderr",
     "output_type": "stream",
     "text": [
      " 62%|██████▎   | 625/1000 [00:20<00:12, 30.09it/s]"
     ]
    },
    {
     "name": "stdout",
     "output_type": "stream",
     "text": [
      "Best State Updated. Epoch: 621\n",
      "Best State Updated. Epoch: 622\n",
      "Best State Updated. Epoch: 623\n"
     ]
    },
    {
     "name": "stderr",
     "output_type": "stream",
     "text": [
      " 73%|███████▎  | 733/1000 [00:24<00:08, 30.43it/s]"
     ]
    },
    {
     "name": "stdout",
     "output_type": "stream",
     "text": [
      "Best State Updated. Epoch: 728\n"
     ]
    },
    {
     "name": "stderr",
     "output_type": "stream",
     "text": [
      " 78%|███████▊  | 784/1000 [00:26<00:07, 27.47it/s]"
     ]
    },
    {
     "name": "stdout",
     "output_type": "stream",
     "text": [
      "Best State Updated. Epoch: 778\n"
     ]
    },
    {
     "name": "stderr",
     "output_type": "stream",
     "text": [
      " 84%|████████▍ | 839/1000 [00:28<00:05, 29.42it/s]"
     ]
    },
    {
     "name": "stdout",
     "output_type": "stream",
     "text": [
      "Best State Updated. Epoch: 833\n",
      "Best State Updated. Epoch: 834\n"
     ]
    },
    {
     "name": "stderr",
     "output_type": "stream",
     "text": [
      " 89%|████████▉ | 892/1000 [00:29<00:03, 31.27it/s]"
     ]
    },
    {
     "name": "stdout",
     "output_type": "stream",
     "text": [
      "Best State Updated. Epoch: 888\n",
      "Best State Updated. Epoch: 889\n",
      "Best State Updated. Epoch: 891\n"
     ]
    },
    {
     "name": "stderr",
     "output_type": "stream",
     "text": [
      " 96%|█████████▋| 963/1000 [00:32<00:01, 31.05it/s]"
     ]
    },
    {
     "name": "stdout",
     "output_type": "stream",
     "text": [
      "Best State Updated. Epoch: 958\n"
     ]
    },
    {
     "name": "stderr",
     "output_type": "stream",
     "text": [
      " 97%|█████████▋| 967/1000 [00:32<00:01, 31.86it/s]"
     ]
    },
    {
     "name": "stdout",
     "output_type": "stream",
     "text": [
      "Best State Updated. Epoch: 966\n",
      "Best State Updated. Epoch: 968\n"
     ]
    },
    {
     "name": "stderr",
     "output_type": "stream",
     "text": [
      "100%|█████████▉| 997/1000 [00:33<00:00, 30.94it/s]"
     ]
    },
    {
     "data": {
      "image/png": "[encoded data removed]",
      "text/plain": [
       "<Figure size 640x480 with 2 Axes>"
      ]
     },
     "metadata": {},
     "output_type": "display_data"
    },
    {
     "name": "stderr",
     "output_type": "stream",
     "text": [
      "100%|██████████| 1000/1000 [00:34<00:00, 28.84it/s]"
     ]
    },
    {
     "name": "stdout",
     "output_type": "stream",
     "text": [
      " Best Test Loss: 0.0001736203848849982\n"
     ]
    },
    {
     "name": "stderr",
     "output_type": "stream",
     "text": [
      "\n"
     ]
    }
   ],
   "source": [
    "# Optimize model\n",
    "\n",
    "network_dict = {\n",
    "    \"network\": VariableANN,\n",
    "    \"kwargs\": {\"input_size\": 6},\n",
    "    \"optimize_kwargs\": {\n",
    "        \"dropout\": {\"name\": \"dropout\", \"low\": 0.0, \"high\": 0.5, \"step\": 0.05},\n",
    "        \"neurons\": {\"name\": \"neurons\", \"low\": 16, \"high\": 256, \"step\": 16, \"multi\": np.random.randint(3, 6)},\n",
    "    },\n",
    "}\n",
    "\n",
    "\n",
    "optimizer_dict = {\n",
    "    \"optimizer\": optim.Adam,\n",
    "    \"kwargs\": {},\n",
    "    \"optimize_kwargs\": {\n",
    "        \"lr\": {\"name\": \"lr\", \"low\": 1e-5, \"high\": 1e-1, \"log\": True},\n",
    "        \"weight_decay\": {\"name\": \"weight_decay\", \"low\": 1e-5, \"high\": 1e-3, \"log\": True},\n",
    "    },\n",
    "}\n",
    "\n",
    "best_network, best_optimizer = model.optimize_network(\n",
    "    trial_count, \"minimize\", network_dict, optimizer_dict, loss_fn, epochs\n",
    ")\n",
    "\n",
    "trained_net = model.train_model(\"Model1\", best_network, best_optimizer, loss_fn, 1000, plot_output=True)"
   ]
  },
  {
   "cell_type": "code",
   "execution_count": 85,
   "metadata": {},
   "outputs": [
    {
     "name": "stdout",
     "output_type": "stream",
     "text": [
      "RMSE: 0.000887\n",
      "MAE: 0.00068\n",
      "RMSE: 0.000945\n",
      "MAE: 0.000706\n",
      "0.0636742115020752\n"
     ]
    }
   ],
   "source": [
    "# TESTING\n",
    "test_rmse, _, test_predictions = model.validate_model(trained_net, \"test\")\n",
    "valid_rmse, _, valid_predictions = model.validate_model(trained_net, \"valid\")\n",
    "\n",
    "print(model.train_labels[1].mean())"
   ]
  },
  {
   "cell_type": "markdown",
   "metadata": {},
   "source": [
    "## Optimize"
   ]
  },
  {
   "cell_type": "code",
   "execution_count": 100,
   "metadata": {},
   "outputs": [],
   "source": [
    "def run_fn(cp_width, cp_length, taper_length, grating_height):\n",
    "    beam_angle = 30\n",
    "    freq = freqs[0]\n",
    "    feature_array = np.array((beam_angle, cp_width, cp_length, taper_length, grating_height, freq))\n",
    "    feature_array = feature_array.reshape((1, -1))\n",
    "    prediction = model.make_prediction(trained_net, True, feature_array, 1)\n",
    "\n",
    "    # return prediction[0]\n",
    "    return prediction[0]"
   ]
  },
  {
   "cell_type": "code",
   "execution_count": 101,
   "metadata": {},
   "outputs": [],
   "source": [
    "method = tdd.MethodBayOpt(\n",
    "    initial_iter=300,\n",
    "    n_iter=100,\n",
    "    acq_func='ucb',\n",
    "    kappa=3,\n",
    "    xi=0.9,\n",
    "    seed=1,\n",
    ")\n",
    "\n",
    "param_cp_width = tdd.ParameterFloat(name=\"cp_width\", span=(3, 4))\n",
    "param_cp_length = tdd.ParameterFloat(name=\"cp_length\", span=(7, 8))\n",
    "param_taper_length = tdd.ParameterFloat(name=\"taper_length\", span=(5, 7))\n",
    "param_grating_height = tdd.ParameterFloat(name=\"grating_height\", span=(50, 100))\n",
    "predict_parameters = [param_cp_width, param_cp_length, param_taper_length, param_grating_height]\n",
    "\n",
    "output_dir = \"/home/matt/Documents/Flexcompute/grating_coupler/data\"\n",
    "design_space = tdd.DesignSpace(\n",
    "    method=method,\n",
    "    parameters=predict_parameters,\n",
    "    task_name=\"gc_predict_1\",\n",
    "    folder_name=\"GCV1\",\n",
    "    path_dir=output_dir,\n",
    ")"
   ]
  },
  {
   "cell_type": "code",
   "execution_count": 102,
   "metadata": {},
   "outputs": [
    {
     "data": {
      "text/html": [
       "<pre style=\"white-space:pre;overflow-x:auto;line-height:normal;font-family:Menlo,'DejaVu Sans Mono',consolas,'Courier New',monospace\"><span style=\"color: #7fbfbf; text-decoration-color: #7fbfbf\">12:21:04 BST </span>Best Fit from Initial Solutions: <span style=\"color: #008080; text-decoration-color: #008080; font-weight: bold\">0.09</span>                              \n",
       "<span style=\"color: #7fbfbf; text-decoration-color: #7fbfbf\">             </span>                                                                   \n",
       "</pre>\n"
      ],
      "text/plain": [
       "\u001b[2;36m12:21:04 BST\u001b[0m\u001b[2;36m \u001b[0mBest Fit from Initial Solutions: \u001b[1;36m0.09\u001b[0m                              \n",
       "\u001b[2;36m             \u001b[0m                                                                   \n"
      ]
     },
     "metadata": {},
     "output_type": "display_data"
    },
    {
     "data": {
      "text/html": [
       "<pre style=\"white-space:pre;overflow-x:auto;line-height:normal;font-family:Menlo,'DejaVu Sans Mono',consolas,'Courier New',monospace\"><span style=\"color: #7fbfbf; text-decoration-color: #7fbfbf\">             </span>Latest Best Fit on Iter <span style=\"color: #008080; text-decoration-color: #008080; font-weight: bold\">0</span>: <span style=\"color: #008080; text-decoration-color: #008080; font-weight: bold\">0.091</span>                                   \n",
       "<span style=\"color: #7fbfbf; text-decoration-color: #7fbfbf\">             </span>                                                                   \n",
       "</pre>\n"
      ],
      "text/plain": [
       "\u001b[2;36m            \u001b[0m\u001b[2;36m \u001b[0mLatest Best Fit on Iter \u001b[1;36m0\u001b[0m: \u001b[1;36m0.091\u001b[0m                                   \n",
       "\u001b[2;36m             \u001b[0m                                                                   \n"
      ]
     },
     "metadata": {},
     "output_type": "display_data"
    },
    {
     "data": {
      "text/html": [
       "<pre style=\"white-space:pre;overflow-x:auto;line-height:normal;font-family:Menlo,'DejaVu Sans Mono',consolas,'Courier New',monospace\"><span style=\"color: #7fbfbf; text-decoration-color: #7fbfbf\">12:21:05 BST </span>Latest Best Fit on Iter <span style=\"color: #008080; text-decoration-color: #008080; font-weight: bold\">1</span>: <span style=\"color: #008080; text-decoration-color: #008080; font-weight: bold\">0.094</span>                                   \n",
       "<span style=\"color: #7fbfbf; text-decoration-color: #7fbfbf\">             </span>                                                                   \n",
       "</pre>\n"
      ],
      "text/plain": [
       "\u001b[2;36m12:21:05 BST\u001b[0m\u001b[2;36m \u001b[0mLatest Best Fit on Iter \u001b[1;36m1\u001b[0m: \u001b[1;36m0.094\u001b[0m                                   \n",
       "\u001b[2;36m             \u001b[0m                                                                   \n"
      ]
     },
     "metadata": {},
     "output_type": "display_data"
    },
    {
     "data": {
      "text/html": [
       "<pre style=\"white-space:pre;overflow-x:auto;line-height:normal;font-family:Menlo,'DejaVu Sans Mono',consolas,'Courier New',monospace\"><span style=\"color: #7fbfbf; text-decoration-color: #7fbfbf\">12:21:29 BST </span>Latest Best Fit on Iter <span style=\"color: #008080; text-decoration-color: #008080; font-weight: bold\">73</span>: <span style=\"color: #008080; text-decoration-color: #008080; font-weight: bold\">0.094</span>                                  \n",
       "<span style=\"color: #7fbfbf; text-decoration-color: #7fbfbf\">             </span>                                                                   \n",
       "</pre>\n"
      ],
      "text/plain": [
       "\u001b[2;36m12:21:29 BST\u001b[0m\u001b[2;36m \u001b[0mLatest Best Fit on Iter \u001b[1;36m73\u001b[0m: \u001b[1;36m0.094\u001b[0m                                  \n",
       "\u001b[2;36m             \u001b[0m                                                                   \n"
      ]
     },
     "metadata": {},
     "output_type": "display_data"
    },
    {
     "data": {
      "text/html": [
       "<pre style=\"white-space:pre;overflow-x:auto;line-height:normal;font-family:Menlo,'DejaVu Sans Mono',consolas,'Courier New',monospace\"><span style=\"color: #7fbfbf; text-decoration-color: #7fbfbf\">12:21:39 BST </span>Best Result: <span style=\"color: #008080; text-decoration-color: #008080; font-weight: bold\">0.09354984015226364</span>                                   \n",
       "<span style=\"color: #7fbfbf; text-decoration-color: #7fbfbf\">             </span>Best Parameters: cp_length: <span style=\"color: #008080; text-decoration-color: #008080; font-weight: bold\">7.0</span> cp_width: <span style=\"color: #008080; text-decoration-color: #008080; font-weight: bold\">3.0</span> grating_height:      \n",
       "<span style=\"color: #7fbfbf; text-decoration-color: #7fbfbf\">             </span><span style=\"color: #008080; text-decoration-color: #008080; font-weight: bold\">60.209828579692875</span> taper_length: <span style=\"color: #008080; text-decoration-color: #008080; font-weight: bold\">7.0</span>                               \n",
       "<span style=\"color: #7fbfbf; text-decoration-color: #7fbfbf\">             </span>                                                                   \n",
       "</pre>\n"
      ],
      "text/plain": [
       "\u001b[2;36m12:21:39 BST\u001b[0m\u001b[2;36m \u001b[0mBest Result: \u001b[1;36m0.09354984015226364\u001b[0m                                   \n",
       "\u001b[2;36m             \u001b[0mBest Parameters: cp_length: \u001b[1;36m7.0\u001b[0m cp_width: \u001b[1;36m3.0\u001b[0m grating_height:      \n",
       "\u001b[2;36m             \u001b[0m\u001b[1;36m60.209828579692875\u001b[0m taper_length: \u001b[1;36m7.0\u001b[0m                               \n",
       "\u001b[2;36m             \u001b[0m                                                                   \n"
      ]
     },
     "metadata": {},
     "output_type": "display_data"
    }
   ],
   "source": [
    "predict_results = design_space.run(run_fn, verbose=True)\n",
    "predict_df = predict_results.to_dataframe()"
   ]
  },
  {
   "cell_type": "code",
   "execution_count": 105,
   "metadata": {},
   "outputs": [
    {
     "data": {
      "text/html": [
       "<pre style=\"white-space:pre;overflow-x:auto;line-height:normal;font-family:Menlo,'DejaVu Sans Mono',consolas,'Courier New',monospace\"><span style=\"color: #7fbfbf; text-decoration-color: #7fbfbf\">12:23:14 BST </span>Created task <span style=\"color: #008000; text-decoration-color: #008000\">'best_predicted'</span> with task_id                         \n",
       "<span style=\"color: #7fbfbf; text-decoration-color: #7fbfbf\">             </span><span style=\"color: #008000; text-decoration-color: #008000\">'fdve-fd1ab092-15ad-4ed1-8c12-b49ce192cc37'</span> and task_type <span style=\"color: #008000; text-decoration-color: #008000\">'FDTD'</span>.  \n",
       "</pre>\n"
      ],
      "text/plain": [
       "\u001b[2;36m12:23:14 BST\u001b[0m\u001b[2;36m \u001b[0mCreated task \u001b[32m'best_predicted'\u001b[0m with task_id                         \n",
       "\u001b[2;36m             \u001b[0m\u001b[32m'fdve-fd1ab092-15ad-4ed1-8c12-b49ce192cc37'\u001b[0m and task_type \u001b[32m'FDTD'\u001b[0m.  \n"
      ]
     },
     "metadata": {},
     "output_type": "display_data"
    },
    {
     "data": {
      "text/html": [
       "<pre style=\"white-space:pre;overflow-x:auto;line-height:normal;font-family:Menlo,'DejaVu Sans Mono',consolas,'Courier New',monospace\"><span style=\"color: #7fbfbf; text-decoration-color: #7fbfbf\">             </span>View task using web UI at                                          \n",
       "<span style=\"color: #7fbfbf; text-decoration-color: #7fbfbf\">             </span><a href=\"https://tidy3d.simulation.cloud/workbench?taskId=fdve-fd1ab092-15ad-4ed1-8c12-b49ce192cc37\" target=\"_blank\"><span style=\"color: #008000; text-decoration-color: #008000\">'https://tidy3d.simulation.cloud/workbench?taskId=fdve-fd1ab092-15a</span></a>\n",
       "<span style=\"color: #7fbfbf; text-decoration-color: #7fbfbf\">             </span><a href=\"https://tidy3d.simulation.cloud/workbench?taskId=fdve-fd1ab092-15ad-4ed1-8c12-b49ce192cc37\" target=\"_blank\"><span style=\"color: #008000; text-decoration-color: #008000\">d-4ed1-8c12-b49ce192cc37'</span></a>.                                         \n",
       "</pre>\n"
      ],
      "text/plain": [
       "\u001b[2;36m            \u001b[0m\u001b[2;36m \u001b[0mView task using web UI at                                          \n",
       "\u001b[2;36m             \u001b[0m\u001b]8;id=37214;https://tidy3d.simulation.cloud/workbench?taskId=fdve-fd1ab092-15ad-4ed1-8c12-b49ce192cc37\u001b\\\u001b[32m'https://tidy3d.simulation.cloud/workbench?\u001b[0m\u001b]8;;\u001b\\\u001b]8;id=864254;https://tidy3d.simulation.cloud/workbench?taskId=fdve-fd1ab092-15ad-4ed1-8c12-b49ce192cc37\u001b\\\u001b[32mtaskId\u001b[0m\u001b]8;;\u001b\\\u001b]8;id=37214;https://tidy3d.simulation.cloud/workbench?taskId=fdve-fd1ab092-15ad-4ed1-8c12-b49ce192cc37\u001b\\\u001b[32m=\u001b[0m\u001b]8;;\u001b\\\u001b]8;id=161354;https://tidy3d.simulation.cloud/workbench?taskId=fdve-fd1ab092-15ad-4ed1-8c12-b49ce192cc37\u001b\\\u001b[32mfdve\u001b[0m\u001b]8;;\u001b\\\u001b]8;id=37214;https://tidy3d.simulation.cloud/workbench?taskId=fdve-fd1ab092-15ad-4ed1-8c12-b49ce192cc37\u001b\\\u001b[32m-fd1ab092-15a\u001b[0m\u001b]8;;\u001b\\\n",
       "\u001b[2;36m             \u001b[0m\u001b]8;id=37214;https://tidy3d.simulation.cloud/workbench?taskId=fdve-fd1ab092-15ad-4ed1-8c12-b49ce192cc37\u001b\\\u001b[32md-4ed1-8c12-b49ce192cc37'\u001b[0m\u001b]8;;\u001b\\.                                         \n"
      ]
     },
     "metadata": {},
     "output_type": "display_data"
    },
    {
     "data": {
      "application/vnd.jupyter.widget-view+json": {
       "model_id": "348e81159a3146e9aafe3de2c2f2e4c0",
       "version_major": 2,
       "version_minor": 0
      },
      "text/plain": [
       "Output()"
      ]
     },
     "metadata": {},
     "output_type": "display_data"
    },
    {
     "data": {
      "text/html": [
       "<pre style=\"white-space:pre;overflow-x:auto;line-height:normal;font-family:Menlo,'DejaVu Sans Mono',consolas,'Courier New',monospace\"></pre>\n"
      ],
      "text/plain": []
     },
     "metadata": {},
     "output_type": "display_data"
    },
    {
     "data": {
      "text/html": [
       "<pre style=\"white-space:pre;overflow-x:auto;line-height:normal;font-family:Menlo,'DejaVu Sans Mono',consolas,'Courier New',monospace\">\n",
       "</pre>\n"
      ],
      "text/plain": [
       "\n"
      ]
     },
     "metadata": {},
     "output_type": "display_data"
    },
    {
     "data": {
      "text/html": [
       "<pre style=\"white-space:pre;overflow-x:auto;line-height:normal;font-family:Menlo,'DejaVu Sans Mono',consolas,'Courier New',monospace\"><span style=\"color: #7fbfbf; text-decoration-color: #7fbfbf\">12:23:16 BST </span>status = queued                                                    \n",
       "</pre>\n"
      ],
      "text/plain": [
       "\u001b[2;36m12:23:16 BST\u001b[0m\u001b[2;36m \u001b[0mstatus = queued                                                    \n"
      ]
     },
     "metadata": {},
     "output_type": "display_data"
    },
    {
     "data": {
      "text/html": [
       "<pre style=\"white-space:pre;overflow-x:auto;line-height:normal;font-family:Menlo,'DejaVu Sans Mono',consolas,'Courier New',monospace\"><span style=\"color: #7fbfbf; text-decoration-color: #7fbfbf\">             </span>To cancel the simulation, use <span style=\"color: #008000; text-decoration-color: #008000\">'web.abort(task_id)'</span> or              \n",
       "<span style=\"color: #7fbfbf; text-decoration-color: #7fbfbf\">             </span><span style=\"color: #008000; text-decoration-color: #008000\">'web.delete(task_id)'</span> or abort/delete the task in the web UI.      \n",
       "<span style=\"color: #7fbfbf; text-decoration-color: #7fbfbf\">             </span>Terminating the Python script will not stop the job running on the \n",
       "<span style=\"color: #7fbfbf; text-decoration-color: #7fbfbf\">             </span>cloud.                                                             \n",
       "</pre>\n"
      ],
      "text/plain": [
       "\u001b[2;36m            \u001b[0m\u001b[2;36m \u001b[0mTo cancel the simulation, use \u001b[32m'web.abort\u001b[0m\u001b[32m(\u001b[0m\u001b[32mtask_id\u001b[0m\u001b[32m)\u001b[0m\u001b[32m'\u001b[0m or              \n",
       "\u001b[2;36m             \u001b[0m\u001b[32m'web.delete\u001b[0m\u001b[32m(\u001b[0m\u001b[32mtask_id\u001b[0m\u001b[32m)\u001b[0m\u001b[32m'\u001b[0m or abort/delete the task in the web UI.      \n",
       "\u001b[2;36m             \u001b[0mTerminating the Python script will not stop the job running on the \n",
       "\u001b[2;36m             \u001b[0mcloud.                                                             \n"
      ]
     },
     "metadata": {},
     "output_type": "display_data"
    },
    {
     "data": {
      "application/vnd.jupyter.widget-view+json": {
       "model_id": "c7c323881a5146ea836f3e900b6d9ff2",
       "version_major": 2,
       "version_minor": 0
      },
      "text/plain": [
       "Output()"
      ]
     },
     "metadata": {},
     "output_type": "display_data"
    },
    {
     "data": {
      "text/html": [
       "<pre style=\"white-space:pre;overflow-x:auto;line-height:normal;font-family:Menlo,'DejaVu Sans Mono',consolas,'Courier New',monospace\"><span style=\"color: #7fbfbf; text-decoration-color: #7fbfbf\">12:23:29 BST </span>status = preprocess                                                \n",
       "</pre>\n"
      ],
      "text/plain": [
       "\u001b[2;36m12:23:29 BST\u001b[0m\u001b[2;36m \u001b[0mstatus = preprocess                                                \n"
      ]
     },
     "metadata": {},
     "output_type": "display_data"
    },
    {
     "data": {
      "text/html": [
       "<pre style=\"white-space:pre;overflow-x:auto;line-height:normal;font-family:Menlo,'DejaVu Sans Mono',consolas,'Courier New',monospace\"></pre>\n"
      ],
      "text/plain": []
     },
     "metadata": {},
     "output_type": "display_data"
    },
    {
     "data": {
      "text/html": [
       "<pre style=\"white-space:pre;overflow-x:auto;line-height:normal;font-family:Menlo,'DejaVu Sans Mono',consolas,'Courier New',monospace\"><span style=\"color: #7fbfbf; text-decoration-color: #7fbfbf\">12:23:32 BST </span>Maximum FlexCredit cost: <span style=\"color: #008080; text-decoration-color: #008080; font-weight: bold\">1.326</span>. Use <span style=\"color: #008000; text-decoration-color: #008000\">'web.real_cost(task_id)'</span> to get\n",
       "<span style=\"color: #7fbfbf; text-decoration-color: #7fbfbf\">             </span>the billed FlexCredit cost after a simulation run.                 \n",
       "</pre>\n"
      ],
      "text/plain": [
       "\u001b[2;36m12:23:32 BST\u001b[0m\u001b[2;36m \u001b[0mMaximum FlexCredit cost: \u001b[1;36m1.326\u001b[0m. Use \u001b[32m'web.real_cost\u001b[0m\u001b[32m(\u001b[0m\u001b[32mtask_id\u001b[0m\u001b[32m)\u001b[0m\u001b[32m'\u001b[0m to get\n",
       "\u001b[2;36m             \u001b[0mthe billed FlexCredit cost after a simulation run.                 \n"
      ]
     },
     "metadata": {},
     "output_type": "display_data"
    },
    {
     "data": {
      "text/html": [
       "<pre style=\"white-space:pre;overflow-x:auto;line-height:normal;font-family:Menlo,'DejaVu Sans Mono',consolas,'Courier New',monospace\"><span style=\"color: #7fbfbf; text-decoration-color: #7fbfbf\">             </span>starting up solver                                                 \n",
       "</pre>\n"
      ],
      "text/plain": [
       "\u001b[2;36m            \u001b[0m\u001b[2;36m \u001b[0mstarting up solver                                                 \n"
      ]
     },
     "metadata": {},
     "output_type": "display_data"
    },
    {
     "data": {
      "text/html": [
       "<pre style=\"white-space:pre;overflow-x:auto;line-height:normal;font-family:Menlo,'DejaVu Sans Mono',consolas,'Courier New',monospace\"><span style=\"color: #7fbfbf; text-decoration-color: #7fbfbf\">             </span>running solver                                                     \n",
       "</pre>\n"
      ],
      "text/plain": [
       "\u001b[2;36m            \u001b[0m\u001b[2;36m \u001b[0mrunning solver                                                     \n"
      ]
     },
     "metadata": {},
     "output_type": "display_data"
    },
    {
     "data": {
      "application/vnd.jupyter.widget-view+json": {
       "model_id": "cef808aa2c244c35a5aa6363f9265ace",
       "version_major": 2,
       "version_minor": 0
      },
      "text/plain": [
       "Output()"
      ]
     },
     "metadata": {},
     "output_type": "display_data"
    },
    {
     "data": {
      "text/html": [
       "<pre style=\"white-space:pre;overflow-x:auto;line-height:normal;font-family:Menlo,'DejaVu Sans Mono',consolas,'Courier New',monospace\"><span style=\"color: #7fbfbf; text-decoration-color: #7fbfbf\">12:23:54 BST </span>early shutoff detected at <span style=\"color: #008080; text-decoration-color: #008080; font-weight: bold\">12</span>%, exiting.                            \n",
       "</pre>\n"
      ],
      "text/plain": [
       "\u001b[2;36m12:23:54 BST\u001b[0m\u001b[2;36m \u001b[0mearly shutoff detected at \u001b[1;36m12\u001b[0m%, exiting.                            \n"
      ]
     },
     "metadata": {},
     "output_type": "display_data"
    },
    {
     "data": {
      "text/html": [
       "<pre style=\"white-space:pre;overflow-x:auto;line-height:normal;font-family:Menlo,'DejaVu Sans Mono',consolas,'Courier New',monospace\"></pre>\n"
      ],
      "text/plain": []
     },
     "metadata": {},
     "output_type": "display_data"
    },
    {
     "data": {
      "text/html": [
       "<pre style=\"white-space:pre;overflow-x:auto;line-height:normal;font-family:Menlo,'DejaVu Sans Mono',consolas,'Courier New',monospace\">\n",
       "</pre>\n"
      ],
      "text/plain": [
       "\n"
      ]
     },
     "metadata": {},
     "output_type": "display_data"
    },
    {
     "data": {
      "text/html": [
       "<pre style=\"white-space:pre;overflow-x:auto;line-height:normal;font-family:Menlo,'DejaVu Sans Mono',consolas,'Courier New',monospace\"><span style=\"color: #7fbfbf; text-decoration-color: #7fbfbf\">             </span>status = success                                                   \n",
       "</pre>\n"
      ],
      "text/plain": [
       "\u001b[2;36m            \u001b[0m\u001b[2;36m \u001b[0mstatus = success                                                   \n"
      ]
     },
     "metadata": {},
     "output_type": "display_data"
    },
    {
     "data": {
      "text/html": [
       "<pre style=\"white-space:pre;overflow-x:auto;line-height:normal;font-family:Menlo,'DejaVu Sans Mono',consolas,'Courier New',monospace\"></pre>\n"
      ],
      "text/plain": []
     },
     "metadata": {},
     "output_type": "display_data"
    },
    {
     "data": {
      "text/html": [
       "<pre style=\"white-space:pre;overflow-x:auto;line-height:normal;font-family:Menlo,'DejaVu Sans Mono',consolas,'Courier New',monospace\"><span style=\"color: #7fbfbf; text-decoration-color: #7fbfbf\">             </span>View simulation result at                                          \n",
       "<span style=\"color: #7fbfbf; text-decoration-color: #7fbfbf\">             </span><a href=\"https://tidy3d.simulation.cloud/workbench?taskId=fdve-fd1ab092-15ad-4ed1-8c12-b49ce192cc37\" target=\"_blank\"><span style=\"color: #000080; text-decoration-color: #000080; text-decoration: underline\">'https://tidy3d.simulation.cloud/workbench?taskId=fdve-fd1ab092-15a</span></a>\n",
       "<span style=\"color: #7fbfbf; text-decoration-color: #7fbfbf\">             </span><a href=\"https://tidy3d.simulation.cloud/workbench?taskId=fdve-fd1ab092-15ad-4ed1-8c12-b49ce192cc37\" target=\"_blank\"><span style=\"color: #000080; text-decoration-color: #000080; text-decoration: underline\">d-4ed1-8c12-b49ce192cc37'</span></a><span style=\"color: #000080; text-decoration-color: #000080; text-decoration: underline\">.</span>                                         \n",
       "</pre>\n"
      ],
      "text/plain": [
       "\u001b[2;36m            \u001b[0m\u001b[2;36m \u001b[0mView simulation result at                                          \n",
       "\u001b[2;36m             \u001b[0m\u001b]8;id=591634;https://tidy3d.simulation.cloud/workbench?taskId=fdve-fd1ab092-15ad-4ed1-8c12-b49ce192cc37\u001b\\\u001b[4;34m'https://tidy3d.simulation.cloud/workbench?\u001b[0m\u001b]8;;\u001b\\\u001b]8;id=403335;https://tidy3d.simulation.cloud/workbench?taskId=fdve-fd1ab092-15ad-4ed1-8c12-b49ce192cc37\u001b\\\u001b[4;34mtaskId\u001b[0m\u001b]8;;\u001b\\\u001b]8;id=591634;https://tidy3d.simulation.cloud/workbench?taskId=fdve-fd1ab092-15ad-4ed1-8c12-b49ce192cc37\u001b\\\u001b[4;34m=\u001b[0m\u001b]8;;\u001b\\\u001b]8;id=516947;https://tidy3d.simulation.cloud/workbench?taskId=fdve-fd1ab092-15ad-4ed1-8c12-b49ce192cc37\u001b\\\u001b[4;34mfdve\u001b[0m\u001b]8;;\u001b\\\u001b]8;id=591634;https://tidy3d.simulation.cloud/workbench?taskId=fdve-fd1ab092-15ad-4ed1-8c12-b49ce192cc37\u001b\\\u001b[4;34m-fd1ab092-15a\u001b[0m\u001b]8;;\u001b\\\n",
       "\u001b[2;36m             \u001b[0m\u001b]8;id=591634;https://tidy3d.simulation.cloud/workbench?taskId=fdve-fd1ab092-15ad-4ed1-8c12-b49ce192cc37\u001b\\\u001b[4;34md-4ed1-8c12-b49ce192cc37'\u001b[0m\u001b]8;;\u001b\\\u001b[4;34m.\u001b[0m                                         \n"
      ]
     },
     "metadata": {},
     "output_type": "display_data"
    },
    {
     "data": {
      "application/vnd.jupyter.widget-view+json": {
       "model_id": "1438359019f449e9a07d975fe9b28155",
       "version_major": 2,
       "version_minor": 0
      },
      "text/plain": [
       "Output()"
      ]
     },
     "metadata": {},
     "output_type": "display_data"
    },
    {
     "data": {
      "text/html": [
       "<pre style=\"white-space:pre;overflow-x:auto;line-height:normal;font-family:Menlo,'DejaVu Sans Mono',consolas,'Courier New',monospace\"></pre>\n"
      ],
      "text/plain": []
     },
     "metadata": {},
     "output_type": "display_data"
    },
    {
     "data": {
      "text/html": [
       "<pre style=\"white-space:pre;overflow-x:auto;line-height:normal;font-family:Menlo,'DejaVu Sans Mono',consolas,'Courier New',monospace\">\n",
       "</pre>\n"
      ],
      "text/plain": [
       "\n"
      ]
     },
     "metadata": {},
     "output_type": "display_data"
    },
    {
     "data": {
      "text/html": [
       "<pre style=\"white-space:pre;overflow-x:auto;line-height:normal;font-family:Menlo,'DejaVu Sans Mono',consolas,'Courier New',monospace\"><span style=\"color: #7fbfbf; text-decoration-color: #7fbfbf\">12:23:55 BST </span>loading simulation from simulation_data.hdf5                       \n",
       "</pre>\n"
      ],
      "text/plain": [
       "\u001b[2;36m12:23:55 BST\u001b[0m\u001b[2;36m \u001b[0mloading simulation from simulation_data.hdf5                       \n"
      ]
     },
     "metadata": {},
     "output_type": "display_data"
    }
   ],
   "source": [
    "input_dict = {\"beam_angle\": 30}\n",
    "input_dict.update(predict_results.optimizer.max['params'])\n",
    "\n",
    "sim = make_sim(**input_dict)\n",
    "sim_data = web.run(sim, task_name=\"best_predicted\")"
   ]
  },
  {
   "cell_type": "code",
   "execution_count": 106,
   "metadata": {},
   "outputs": [
    {
     "data": {
      "text/html": [
       "<div><svg style=\"position: absolute; width: 0; height: 0; overflow: hidden\">\n",
       "<defs>\n",
       "<symbol id=\"icon-database\" viewBox=\"0 0 32 32\">\n",
       "<path d=\"M16 0c-8.837 0-16 2.239-16 5v4c0 2.761 7.163 5 16 5s16-2.239 16-5v-4c0-2.761-7.163-5-16-5z\"></path>\n",
       "<path d=\"M16 17c-8.837 0-16-2.239-16-5v6c0 2.761 7.163 5 16 5s16-2.239 16-5v-6c0 2.761-7.163 5-16 5z\"></path>\n",
       "<path d=\"M16 26c-8.837 0-16-2.239-16-5v6c0 2.761 7.163 5 16 5s16-2.239 16-5v-6c0 2.761-7.163 5-16 5z\"></path>\n",
       "</symbol>\n",
       "<symbol id=\"icon-file-text2\" viewBox=\"0 0 32 32\">\n",
       "<path d=\"M28.681 7.159c-0.694-0.947-1.662-2.053-2.724-3.116s-2.169-2.030-3.116-2.724c-1.612-1.182-2.393-1.319-2.841-1.319h-15.5c-1.378 0-2.5 1.121-2.5 2.5v27c0 1.378 1.122 2.5 2.5 2.5h23c1.378 0 2.5-1.122 2.5-2.5v-19.5c0-0.448-0.137-1.23-1.319-2.841zM24.543 5.457c0.959 0.959 1.712 1.825 2.268 2.543h-4.811v-4.811c0.718 0.556 1.584 1.309 2.543 2.268zM28 29.5c0 0.271-0.229 0.5-0.5 0.5h-23c-0.271 0-0.5-0.229-0.5-0.5v-27c0-0.271 0.229-0.5 0.5-0.5 0 0 15.499-0 15.5 0v7c0 0.552 0.448 1 1 1h7v19.5z\"></path>\n",
       "<path d=\"M23 26h-14c-0.552 0-1-0.448-1-1s0.448-1 1-1h14c0.552 0 1 0.448 1 1s-0.448 1-1 1z\"></path>\n",
       "<path d=\"M23 22h-14c-0.552 0-1-0.448-1-1s0.448-1 1-1h14c0.552 0 1 0.448 1 1s-0.448 1-1 1z\"></path>\n",
       "<path d=\"M23 18h-14c-0.552 0-1-0.448-1-1s0.448-1 1-1h14c0.552 0 1 0.448 1 1s-0.448 1-1 1z\"></path>\n",
       "</symbol>\n",
       "</defs>\n",
       "</svg>\n",
       "<style>/* CSS stylesheet for displaying xarray objects in jupyterlab.\n",
       " *\n",
       " */\n",
       "\n",
       ":root {\n",
       "  --xr-font-color0: var(--jp-content-font-color0, rgba(0, 0, 0, 1));\n",
       "  --xr-font-color2: var(--jp-content-font-color2, rgba(0, 0, 0, 0.54));\n",
       "  --xr-font-color3: var(--jp-content-font-color3, rgba(0, 0, 0, 0.38));\n",
       "  --xr-border-color: var(--jp-border-color2, #e0e0e0);\n",
       "  --xr-disabled-color: var(--jp-layout-color3, #bdbdbd);\n",
       "  --xr-background-color: var(--jp-layout-color0, white);\n",
       "  --xr-background-color-row-even: var(--jp-layout-color1, white);\n",
       "  --xr-background-color-row-odd: var(--jp-layout-color2, #eeeeee);\n",
       "}\n",
       "\n",
       "html[theme=dark],\n",
       "body[data-theme=dark],\n",
       "body.vscode-dark {\n",
       "  --xr-font-color0: rgba(255, 255, 255, 1);\n",
       "  --xr-font-color2: rgba(255, 255, 255, 0.54);\n",
       "  --xr-font-color3: rgba(255, 255, 255, 0.38);\n",
       "  --xr-border-color: #1F1F1F;\n",
       "  --xr-disabled-color: #515151;\n",
       "  --xr-background-color: #111111;\n",
       "  --xr-background-color-row-even: #111111;\n",
       "  --xr-background-color-row-odd: #313131;\n",
       "}\n",
       "\n",
       ".xr-wrap {\n",
       "  display: block !important;\n",
       "  min-width: 300px;\n",
       "  max-width: 700px;\n",
       "}\n",
       "\n",
       ".xr-text-repr-fallback {\n",
       "  /* fallback to plain text repr when CSS is not injected (untrusted notebook) */\n",
       "  display: none;\n",
       "}\n",
       "\n",
       ".xr-header {\n",
       "  padding-top: 6px;\n",
       "  padding-bottom: 6px;\n",
       "  margin-bottom: 4px;\n",
       "  border-bottom: solid 1px var(--xr-border-color);\n",
       "}\n",
       "\n",
       ".xr-header > div,\n",
       ".xr-header > ul {\n",
       "  display: inline;\n",
       "  margin-top: 0;\n",
       "  margin-bottom: 0;\n",
       "}\n",
       "\n",
       ".xr-obj-type,\n",
       ".xr-array-name {\n",
       "  margin-left: 2px;\n",
       "  margin-right: 10px;\n",
       "}\n",
       "\n",
       ".xr-obj-type {\n",
       "  color: var(--xr-font-color2);\n",
       "}\n",
       "\n",
       ".xr-sections {\n",
       "  padding-left: 0 !important;\n",
       "  display: grid;\n",
       "  grid-template-columns: 150px auto auto 1fr 20px 20px;\n",
       "}\n",
       "\n",
       ".xr-section-item {\n",
       "  display: contents;\n",
       "}\n",
       "\n",
       ".xr-section-item input {\n",
       "  display: none;\n",
       "}\n",
       "\n",
       ".xr-section-item input + label {\n",
       "  color: var(--xr-disabled-color);\n",
       "}\n",
       "\n",
       ".xr-section-item input:enabled + label {\n",
       "  cursor: pointer;\n",
       "  color: var(--xr-font-color2);\n",
       "}\n",
       "\n",
       ".xr-section-item input:enabled + label:hover {\n",
       "  color: var(--xr-font-color0);\n",
       "}\n",
       "\n",
       ".xr-section-summary {\n",
       "  grid-column: 1;\n",
       "  color: var(--xr-font-color2);\n",
       "  font-weight: 500;\n",
       "}\n",
       "\n",
       ".xr-section-summary > span {\n",
       "  display: inline-block;\n",
       "  padding-left: 0.5em;\n",
       "}\n",
       "\n",
       ".xr-section-summary-in:disabled + label {\n",
       "  color: var(--xr-font-color2);\n",
       "}\n",
       "\n",
       ".xr-section-summary-in + label:before {\n",
       "  display: inline-block;\n",
       "  content: '►';\n",
       "  font-size: 11px;\n",
       "  width: 15px;\n",
       "  text-align: center;\n",
       "}\n",
       "\n",
       ".xr-section-summary-in:disabled + label:before {\n",
       "  color: var(--xr-disabled-color);\n",
       "}\n",
       "\n",
       ".xr-section-summary-in:checked + label:before {\n",
       "  content: '▼';\n",
       "}\n",
       "\n",
       ".xr-section-summary-in:checked + label > span {\n",
       "  display: none;\n",
       "}\n",
       "\n",
       ".xr-section-summary,\n",
       ".xr-section-inline-details {\n",
       "  padding-top: 4px;\n",
       "  padding-bottom: 4px;\n",
       "}\n",
       "\n",
       ".xr-section-inline-details {\n",
       "  grid-column: 2 / -1;\n",
       "}\n",
       "\n",
       ".xr-section-details {\n",
       "  display: none;\n",
       "  grid-column: 1 / -1;\n",
       "  margin-bottom: 5px;\n",
       "}\n",
       "\n",
       ".xr-section-summary-in:checked ~ .xr-section-details {\n",
       "  display: contents;\n",
       "}\n",
       "\n",
       ".xr-array-wrap {\n",
       "  grid-column: 1 / -1;\n",
       "  display: grid;\n",
       "  grid-template-columns: 20px auto;\n",
       "}\n",
       "\n",
       ".xr-array-wrap > label {\n",
       "  grid-column: 1;\n",
       "  vertical-align: top;\n",
       "}\n",
       "\n",
       ".xr-preview {\n",
       "  color: var(--xr-font-color3);\n",
       "}\n",
       "\n",
       ".xr-array-preview,\n",
       ".xr-array-data {\n",
       "  padding: 0 5px !important;\n",
       "  grid-column: 2;\n",
       "}\n",
       "\n",
       ".xr-array-data,\n",
       ".xr-array-in:checked ~ .xr-array-preview {\n",
       "  display: none;\n",
       "}\n",
       "\n",
       ".xr-array-in:checked ~ .xr-array-data,\n",
       ".xr-array-preview {\n",
       "  display: inline-block;\n",
       "}\n",
       "\n",
       ".xr-dim-list {\n",
       "  display: inline-block !important;\n",
       "  list-style: none;\n",
       "  padding: 0 !important;\n",
       "  margin: 0;\n",
       "}\n",
       "\n",
       ".xr-dim-list li {\n",
       "  display: inline-block;\n",
       "  padding: 0;\n",
       "  margin: 0;\n",
       "}\n",
       "\n",
       ".xr-dim-list:before {\n",
       "  content: '(';\n",
       "}\n",
       "\n",
       ".xr-dim-list:after {\n",
       "  content: ')';\n",
       "}\n",
       "\n",
       ".xr-dim-list li:not(:last-child):after {\n",
       "  content: ',';\n",
       "  padding-right: 5px;\n",
       "}\n",
       "\n",
       ".xr-has-index {\n",
       "  font-weight: bold;\n",
       "}\n",
       "\n",
       ".xr-var-list,\n",
       ".xr-var-item {\n",
       "  display: contents;\n",
       "}\n",
       "\n",
       ".xr-var-item > div,\n",
       ".xr-var-item label,\n",
       ".xr-var-item > .xr-var-name span {\n",
       "  background-color: var(--xr-background-color-row-even);\n",
       "  margin-bottom: 0;\n",
       "}\n",
       "\n",
       ".xr-var-item > .xr-var-name:hover span {\n",
       "  padding-right: 5px;\n",
       "}\n",
       "\n",
       ".xr-var-list > li:nth-child(odd) > div,\n",
       ".xr-var-list > li:nth-child(odd) > label,\n",
       ".xr-var-list > li:nth-child(odd) > .xr-var-name span {\n",
       "  background-color: var(--xr-background-color-row-odd);\n",
       "}\n",
       "\n",
       ".xr-var-name {\n",
       "  grid-column: 1;\n",
       "}\n",
       "\n",
       ".xr-var-dims {\n",
       "  grid-column: 2;\n",
       "}\n",
       "\n",
       ".xr-var-dtype {\n",
       "  grid-column: 3;\n",
       "  text-align: right;\n",
       "  color: var(--xr-font-color2);\n",
       "}\n",
       "\n",
       ".xr-var-preview {\n",
       "  grid-column: 4;\n",
       "}\n",
       "\n",
       ".xr-index-preview {\n",
       "  grid-column: 2 / 5;\n",
       "  color: var(--xr-font-color2);\n",
       "}\n",
       "\n",
       ".xr-var-name,\n",
       ".xr-var-dims,\n",
       ".xr-var-dtype,\n",
       ".xr-preview,\n",
       ".xr-attrs dt {\n",
       "  white-space: nowrap;\n",
       "  overflow: hidden;\n",
       "  text-overflow: ellipsis;\n",
       "  padding-right: 10px;\n",
       "}\n",
       "\n",
       ".xr-var-name:hover,\n",
       ".xr-var-dims:hover,\n",
       ".xr-var-dtype:hover,\n",
       ".xr-attrs dt:hover {\n",
       "  overflow: visible;\n",
       "  width: auto;\n",
       "  z-index: 1;\n",
       "}\n",
       "\n",
       ".xr-var-attrs,\n",
       ".xr-var-data,\n",
       ".xr-index-data {\n",
       "  display: none;\n",
       "  background-color: var(--xr-background-color) !important;\n",
       "  padding-bottom: 5px !important;\n",
       "}\n",
       "\n",
       ".xr-var-attrs-in:checked ~ .xr-var-attrs,\n",
       ".xr-var-data-in:checked ~ .xr-var-data,\n",
       ".xr-index-data-in:checked ~ .xr-index-data {\n",
       "  display: block;\n",
       "}\n",
       "\n",
       ".xr-var-data > table {\n",
       "  float: right;\n",
       "}\n",
       "\n",
       ".xr-var-name span,\n",
       ".xr-var-data,\n",
       ".xr-index-name div,\n",
       ".xr-index-data,\n",
       ".xr-attrs {\n",
       "  padding-left: 25px !important;\n",
       "}\n",
       "\n",
       ".xr-attrs,\n",
       ".xr-var-attrs,\n",
       ".xr-var-data,\n",
       ".xr-index-data {\n",
       "  grid-column: 1 / -1;\n",
       "}\n",
       "\n",
       "dl.xr-attrs {\n",
       "  padding: 0;\n",
       "  margin: 0;\n",
       "  display: grid;\n",
       "  grid-template-columns: 125px auto;\n",
       "}\n",
       "\n",
       ".xr-attrs dt,\n",
       ".xr-attrs dd {\n",
       "  padding: 0;\n",
       "  margin: 0;\n",
       "  float: left;\n",
       "  padding-right: 10px;\n",
       "  width: auto;\n",
       "}\n",
       "\n",
       ".xr-attrs dt {\n",
       "  font-weight: normal;\n",
       "  grid-column: 1;\n",
       "}\n",
       "\n",
       ".xr-attrs dt:hover span {\n",
       "  display: inline-block;\n",
       "  background: var(--xr-background-color);\n",
       "  padding-right: 10px;\n",
       "}\n",
       "\n",
       ".xr-attrs dd {\n",
       "  grid-column: 2;\n",
       "  white-space: pre-wrap;\n",
       "  word-break: break-all;\n",
       "}\n",
       "\n",
       ".xr-icon-database,\n",
       ".xr-icon-file-text2,\n",
       ".xr-no-icon {\n",
       "  display: inline-block;\n",
       "  vertical-align: middle;\n",
       "  width: 1em;\n",
       "  height: 1.5em !important;\n",
       "  stroke-width: 0;\n",
       "  stroke: currentColor;\n",
       "  fill: currentColor;\n",
       "}\n",
       "</style><pre class='xr-text-repr-fallback'>&lt;xarray.FluxDataArray ()&gt; Size: 4B\n",
       "array(0.09712379, dtype=float32)\n",
       "Coordinates:\n",
       "    f        float64 8B 1.934e+14\n",
       "Attributes:\n",
       "    units:      W\n",
       "    long_name:  flux</pre><div class='xr-wrap' style='display:none'><div class='xr-header'><div class='xr-obj-type'>xarray.FluxDataArray</div><div class='xr-array-name'></div></div><ul class='xr-sections'><li class='xr-section-item'><div class='xr-array-wrap'><input id='section-16e3e6bc-553b-4e1c-9371-e1e84fc95f21' class='xr-array-in' type='checkbox' checked><label for='section-16e3e6bc-553b-4e1c-9371-e1e84fc95f21' title='Show/hide data repr'><svg class='icon xr-icon-database'><use xlink:href='#icon-database'></use></svg></label><div class='xr-array-preview xr-preview'><span>0.09712</span></div><div class='xr-array-data'><pre>array(0.09712379, dtype=float32)</pre></div></div></li><li class='xr-section-item'><input id='section-150314bb-e4cf-4e43-8bf2-2bac4c057645' class='xr-section-summary-in' type='checkbox'  checked><label for='section-150314bb-e4cf-4e43-8bf2-2bac4c057645' class='xr-section-summary' >Coordinates: <span>(1)</span></label><div class='xr-section-inline-details'></div><div class='xr-section-details'><ul class='xr-var-list'><li class='xr-var-item'><div class='xr-var-name'><span>f</span></div><div class='xr-var-dims'>()</div><div class='xr-var-dtype'>float64</div><div class='xr-var-preview xr-preview'>1.934e+14</div><input id='attrs-c1a71753-2316-4122-91de-9c88ab52aebf' class='xr-var-attrs-in' type='checkbox' ><label for='attrs-c1a71753-2316-4122-91de-9c88ab52aebf' title='Show/Hide attributes'><svg class='icon xr-icon-file-text2'><use xlink:href='#icon-file-text2'></use></svg></label><input id='data-c18fe4ca-46e1-469c-bccc-e1120c9fb3d1' class='xr-var-data-in' type='checkbox'><label for='data-c18fe4ca-46e1-469c-bccc-e1120c9fb3d1' title='Show/Hide data repr'><svg class='icon xr-icon-database'><use xlink:href='#icon-database'></use></svg></label><div class='xr-var-attrs'><dl class='xr-attrs'><dt><span>units :</span></dt><dd>Hz</dd><dt><span>long_name :</span></dt><dd>frequency</dd></dl></div><div class='xr-var-data'><pre>array(1.93414489e+14)</pre></div></li></ul></div></li><li class='xr-section-item'><input id='section-fc7946c5-39df-41fc-a17f-e18eb3d7d3a6' class='xr-section-summary-in' type='checkbox' disabled ><label for='section-fc7946c5-39df-41fc-a17f-e18eb3d7d3a6' class='xr-section-summary'  title='Expand/collapse section'>Indexes: <span>(0)</span></label><div class='xr-section-inline-details'></div><div class='xr-section-details'><ul class='xr-var-list'></ul></div></li><li class='xr-section-item'><input id='section-a918ba7f-eea2-4c2a-af21-314af231bd4c' class='xr-section-summary-in' type='checkbox'  checked><label for='section-a918ba7f-eea2-4c2a-af21-314af231bd4c' class='xr-section-summary' >Attributes: <span>(2)</span></label><div class='xr-section-inline-details'></div><div class='xr-section-details'><dl class='xr-attrs'><dt><span>units :</span></dt><dd>W</dd><dt><span>long_name :</span></dt><dd>flux</dd></dl></div></li></ul></div></div>"
      ],
      "text/plain": [
       "<xarray.FluxDataArray ()> Size: 4B\n",
       "array(0.09712379, dtype=float32)\n",
       "Coordinates:\n",
       "    f        float64 8B 1.934e+14\n",
       "Attributes:\n",
       "    units:      W\n",
       "    long_name:  flux"
      ]
     },
     "execution_count": 106,
     "metadata": {},
     "output_type": "execute_result"
    }
   ],
   "source": [
    "sim_data[\"flux\"].flux.sel(f=freq0)"
   ]
  }
 ],
 "metadata": {
  "kernelspec": {
   "display_name": "tidy3d-dGIxMZW4-py3.10",
   "language": "python",
   "name": "python3"
  },
  "language_info": {
   "codemirror_mode": {
    "name": "ipython",
    "version": 3
   },
   "file_extension": ".py",
   "mimetype": "text/x-python",
   "name": "python",
   "nbconvert_exporter": "python",
   "pygments_lexer": "ipython3",
   "version": "3.10.12"
  }
 },
 "nbformat": 4,
 "nbformat_minor": 2
}
