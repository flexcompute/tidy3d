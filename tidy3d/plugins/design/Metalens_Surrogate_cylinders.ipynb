{
 "cells": [
  {
   "cell_type": "markdown",
   "metadata": {},
   "source": [
    "# Metalens Surrogate"
   ]
  },
  {
   "cell_type": "code",
   "execution_count": 1,
   "metadata": {},
   "outputs": [],
   "source": [
    "import numpy as np\n",
    "import matplotlib.pyplot as plt\n",
    "\n",
    "import tidy3d as td\n",
    "import tidy3d.web as web\n",
    "import tidy3d.plugins.design as tdd\n"
   ]
  },
  {
   "cell_type": "code",
   "execution_count": 2,
   "metadata": {},
   "outputs": [],
   "source": [
    "lda0 = 10.6  # operation wavelength\n",
    "freq0 = td.C_0 / lda0  # operation frequency\n",
    "ldas = np.linspace(10.1, 11.1, 101)  # operation wavelength\n",
    "freqs = td.C_0 / ldas\n",
    "\n",
    "P = 6.2  # period of the unit cell\n",
    "h = 6.8  # height of the pillar\n",
    "\n",
    "inf_eff = 1e5  # effective infinity"
   ]
  },
  {
   "cell_type": "code",
   "execution_count": 3,
   "metadata": {},
   "outputs": [],
   "source": [
    "n_si = 3.43  # refractive index of silicon\n",
    "si = td.Medium(permittivity=n_si**2)"
   ]
  },
  {
   "cell_type": "code",
   "execution_count": 4,
   "metadata": {},
   "outputs": [],
   "source": [
    "def create_ellipsis(major_radius, minor_radius, angle, x_offset, y_offset):\n",
    "    def generate_ellipse_points(major_radius, minor_radius, x_offset, y_offset, num_points=100):\n",
    "            \"\"\"\n",
    "            Generate points along the boundary of an ellipse.\n",
    "\n",
    "            Parameters:\n",
    "            - major_radius (float): The length of the semi-major axis (major radius).\n",
    "            - minor_radius (float): The length of the semi-minor axis (minor radius).\n",
    "            - num_points (int): The number of points to generate (default is 100).\n",
    "\n",
    "            Returns:\n",
    "            - numpy.ndarray: An array of shape (num_points, 2) containing the (x, y) coordinates of the ellipse.\n",
    "            \"\"\"\n",
    "            t = np.linspace(0, 2 * np.pi, num_points + 1)[:-1] # TH: avoid duplicate points at 0=2pi\n",
    "            \n",
    "            # Parametric equations for the ellipse\n",
    "            x = major_radius * np.cos(t)\n",
    "            y = minor_radius * np.sin(t)\n",
    "            \n",
    "            # Combine x and y into a single array\n",
    "            points = np.column_stack((x, y))\n",
    "            \n",
    "            return points\n",
    "\n",
    "    angle_rad = np.deg2rad(angle) # define angle in radians for `cos` and `sin` (if input is degrees?)\n",
    "    vertices = generate_ellipse_points(major_radius, minor_radius, x_offset, y_offset)\n",
    "    rot_mat = [[np.cos(angle_rad), -np.sin(angle_rad)], [np.sin(angle_rad), np.cos(angle_rad)]]\n",
    "    vertices_rotated = vertices.dot(rot_mat)\n",
    "\n",
    "    # Add offset\n",
    "    vertices_rotated[:, 0] = vertices_rotated[:, 0] + x_offset\n",
    "    vertices_rotated[:, 1] = vertices_rotated[:, 1] + y_offset\n",
    "    \n",
    "    ellipsis = td.Structure(\n",
    "        geometry=td.PolySlab(vertices=vertices_rotated, axis=2, slab_bounds=(0, h)), medium=si,\n",
    "    )\n",
    "\n",
    "    return ellipsis\n",
    "\n",
    "\n",
    "def make_sim(major_radius, minor_radius, angle):\n",
    "\n",
    "    # define geometry\n",
    "    substrate_geo = td.Box.from_bounds(rmin=(-inf_eff, -inf_eff, -inf_eff), rmax=(inf_eff, inf_eff, 0))\n",
    "    substrate = td.Structure(geometry=substrate_geo, medium=si, name=\"substrate\")\n",
    "    \n",
    "    # Define ellipses\n",
    "    ellipsis = create_ellipsis(major_radius, minor_radius, angle, 0, 0)\n",
    "\n",
    "    # add a plane wave source\n",
    "    plane_wave1 = td.PlaneWave(\n",
    "        source_time=td.GaussianPulse(freq0=freq0, fwidth=freq0 / 10),\n",
    "        size=(td.inf, td.inf, 0),\n",
    "        center=(0, 0, -0.1 * lda0),\n",
    "        direction=\"+\",\n",
    "    )\n",
    "\n",
    "    # add a plane wave source\n",
    "    # plane_wave2 = td.PlaneWave(\n",
    "    #     source_time=td.GaussianPulse(freq0=freq0, fwidth=freq0 / 10, phase=np.pi/2),\n",
    "    #     size=(td.inf, td.inf, 0),\n",
    "    #     center=(0, 0, -0.1 * lda0),\n",
    "    #     direction=\"+\",\n",
    "    #     pol_angle=np.pi/2\n",
    "    # )\n",
    "\n",
    "    # define a diffraction monitor to calculate the transmission coefficient\n",
    "    monitor_t = td.DiffractionMonitor(\n",
    "        center=[0, 0, h + 0.5 * lda0], size=[td.inf, td.inf, 0], freqs=freqs, name=\"t\"\n",
    "    )\n",
    "\n",
    "    run_time = 5e-12  # simulation run time\n",
    "\n",
    "    # define boundary conditions\n",
    "    boundary_spec = td.BoundarySpec(\n",
    "        x=td.Boundary.periodic(),\n",
    "        y=td.Boundary.periodic(),\n",
    "        z=td.Boundary(minus=td.PML(), plus=td.PML()),\n",
    "    )\n",
    "\n",
    "    Lz = h + 1.2 * lda0  # simulation domain size in z direction\n",
    "    min_steps_per_wvl = 12  # minimum steps per wavelength for the grid\n",
    "\n",
    "    # define a function to create unit cell simulation given pillar diameter\n",
    "    sim = td.Simulation(\n",
    "        center=(0, 0, h / 2),\n",
    "        size=(P, P, Lz),\n",
    "        grid_spec=td.GridSpec.auto(min_steps_per_wvl=min_steps_per_wvl, wavelength=lda0),\n",
    "        structures=[ellipsis, substrate],\n",
    "        sources=[plane_wave1],\n",
    "        monitors=[monitor_t],\n",
    "        run_time=run_time,\n",
    "        boundary_spec=boundary_spec,  # pml is applied to z direction. x and y directions are periodic\n",
    "    )\n",
    "\n",
    "    return sim"
   ]
  },
  {
   "cell_type": "code",
   "execution_count": 5,
   "metadata": {},
   "outputs": [
    {
     "data": {
      "text/html": [
       "\n",
       "    <div class=\"simulation-viewer\" data-width=\"800\" data-height=\"800\" data-simulation=\"{&quot;attrs&quot;: {}, &quot;type&quot;: &quot;Simulation&quot;, &quot;center&quot;: [0.0, 0.0, 3.4], &quot;size&quot;: [6.2, 6.2, 19.52], &quot;medium&quot;: {&quot;attrs&quot;: {}, &quot;name&quot;: null, &quot;frequency_range&quot;: null, &quot;allow_gain&quot;: false, &quot;nonlinear_spec&quot;: null, &quot;modulation_spec&quot;: null, &quot;heat_spec&quot;: null, &quot;electric_spec&quot;: null, &quot;type&quot;: &quot;Medium&quot;, &quot;permittivity&quot;: 1.0, &quot;conductivity&quot;: 0.0}, &quot;structures&quot;: [{&quot;attrs&quot;: {}, &quot;geometry&quot;: {&quot;attrs&quot;: {}, &quot;type&quot;: &quot;PolySlab&quot;, &quot;axis&quot;: 2, &quot;sidewall_angle&quot;: 0.0, &quot;reference_plane&quot;: &quot;middle&quot;, &quot;slab_bounds&quot;: [0.0, 6.8], &quot;dilation&quot;: 0.0, &quot;vertices&quot;: [[1.5, 0.0], [1.4970400926424072, 0.03139525976465669], [1.4881720519717168, 0.06266661678215213], [1.473430876093033, 0.09369065729286231], [1.4528747416929466, 0.1243449435824274], [1.4265847744427302, 0.1545084971874737], [1.394664728832377, 0.184062276342339], [1.3572405786990291, 0.21288964578253636], [1.3144600200657954, 0.24087683705085766], [1.2664918882530225, 0.26791339748949833], [1.2135254915624212, 0.29389262614623657], [1.1557698641636838, 0.3187119948743449], [1.0934529411321172, 0.34227355296434436], [1.0268206588930329, 0.3644843137107058], [0.9561359846230344, 0.3852566213878946], [0.8816778784387096, 0.4045084971874737], [0.8037401924684948, 0.42216396275100754], [0.7226305111525727, 0.43815334002193185], [0.638668937347609, 0.4524135262330098], [0.5521868290270168, 0.46488824294412573], [0.4635254915624212, 0.47552825814757677], [0.3730348307472821, 0.48429158056431554], [0.2810719718785868, 0.49114362536434436], [0.1879998503464564, 0.49605735065723894], [0.09418577929396996, 0.4990133642141358], [-2.4121839745149545e-16, 0.5], [-0.0941857792939701, 0.4990133642141358], [-0.18799985034645655, 0.4960573506572389], [-0.28107197187858723, 0.4911436253643443], [-0.3730348307472823, 0.48429158056431554], [-0.46352549156242134, 0.47552825814757677], [-0.552186829027017, 0.4648882429441257], [-0.6386689373476091, 0.45241352623300973], [-0.7226305111525732, 0.43815334002193174], [-0.8037401924684953, 0.4221639627510075], [-0.8816778784387096, 0.4045084971874737], [-0.9561359846230346, 0.3852566213878946], [-1.026820658893033, 0.3644843137107057], [-1.0934529411321174, 0.34227355296434425], [-1.155769864163684, 0.31871199487434476], [-1.213525491562421, 0.2938926261462366], [-1.2664918882530225, 0.26791339748949833], [-1.3144600200657954, 0.2408768370508576], [-1.3572405786990294, 0.21288964578253625], [-1.3946647288323772, 0.18406227634233888], [-1.4265847744427305, 0.15450849718747356], [-1.4528747416929466, 0.12434494358242741], [-1.473430876093033, 0.09369065729286229], [-1.4881720519717168, 0.06266661678215205], [-1.4970400926424072, 0.03139525976465657], [-1.5, -1.6081226496766366e-16], [-1.4970400926424072, -0.03139525976465667], [-1.4881720519717168, -0.06266661678215214], [-1.4734308760930328, -0.09369065729286238], [-1.4528747416929466, -0.12434494358242751], [-1.4265847744427302, -0.15450849718747386], [-1.3946647288323768, -0.18406227634233915], [-1.3572405786990291, -0.21288964578253633], [-1.3144600200657952, -0.2408768370508577], [-1.2664918882530225, -0.2679133974894984], [-1.2135254915624207, -0.2938926261462367], [-1.1557698641636835, -0.318711994874345], [-1.0934529411321172, -0.34227355296434436], [-1.0268206588930329, -0.3644843137107058], [-0.9561359846230343, -0.3852566213878947], [-0.8816778784387098, -0.40450849718747367], [-0.8037401924684945, -0.42216396275100765], [-0.7226305111525729, -0.4381533400219318], [-0.6386689373476082, -0.4524135262330099], [-0.5521868290270167, -0.46488824294412573], [-0.46352549156242134, -0.47552825814757677], [-0.37303483074728166, -0.4842915805643156], [-0.28107197187858696, -0.49114362536434436], [-0.1879998503464556, -0.49605735065723894], [-0.09418577929396982, -0.4990133642141358], [-2.755455298081545e-16, -0.5], [0.09418577929397058, -0.4990133642141358], [0.18799985034645633, -0.49605735065723894], [0.2810719718785877, -0.4911436253643443], [0.3730348307472824, -0.48429158056431554], [0.46352549156242084, -0.4755282581475768], [0.5521868290270173, -0.4648882429441256], [0.6386689373476089, -0.4524135262330098], [0.7226305111525736, -0.4381533400219317], [0.8037401924684952, -0.4221639627510075], [0.8816778784387105, -0.4045084971874735], [0.956135984623035, -0.3852566213878945], [1.0268206588930329, -0.3644843137107058], [1.0934529411321179, -0.34227355296434414], [1.155769864163684, -0.3187119948743448], [1.2135254915624216, -0.2938926261462363], [1.266491888253023, -0.26791339748949816], [1.3144600200657954, -0.24087683705085766], [1.3572405786990296, -0.2128896457825361], [1.3946647288323772, -0.18406227634233893], [1.4265847744427307, -0.1545084971874734], [1.4528747416929468, -0.12434494358242724], [1.473430876093033, -0.09369065729286234], [1.4881720519717168, -0.0626666167821519], [1.4970400926424072, -0.03139525976465663]]}, &quot;name&quot;: null, &quot;autograd_background_permittivity&quot;: null, &quot;type&quot;: &quot;Structure&quot;, &quot;medium&quot;: {&quot;attrs&quot;: {}, &quot;name&quot;: null, &quot;frequency_range&quot;: null, &quot;allow_gain&quot;: false, &quot;nonlinear_spec&quot;: null, &quot;modulation_spec&quot;: null, &quot;heat_spec&quot;: null, &quot;electric_spec&quot;: null, &quot;type&quot;: &quot;Medium&quot;, &quot;permittivity&quot;: 11.7649, &quot;conductivity&quot;: 0.0}}, {&quot;attrs&quot;: {}, &quot;geometry&quot;: {&quot;attrs&quot;: {}, &quot;type&quot;: &quot;Box&quot;, &quot;center&quot;: [0.0, 0.0, -50000.0], &quot;size&quot;: [200000.0, 200000.0, 100000.0]}, &quot;name&quot;: &quot;substrate&quot;, &quot;autograd_background_permittivity&quot;: null, &quot;type&quot;: &quot;Structure&quot;, &quot;medium&quot;: {&quot;attrs&quot;: {}, &quot;name&quot;: null, &quot;frequency_range&quot;: null, &quot;allow_gain&quot;: false, &quot;nonlinear_spec&quot;: null, &quot;modulation_spec&quot;: null, &quot;heat_spec&quot;: null, &quot;electric_spec&quot;: null, &quot;type&quot;: &quot;Medium&quot;, &quot;permittivity&quot;: 11.7649, &quot;conductivity&quot;: 0.0}}], &quot;symmetry&quot;: [0, 0, 0], &quot;sources&quot;: [{&quot;attrs&quot;: {}, &quot;name&quot;: null, &quot;type&quot;: &quot;PlaneWave&quot;, &quot;center&quot;: [0.0, 0.0, -1.06], &quot;size&quot;: [&quot;Infinity&quot;, &quot;Infinity&quot;, 0.0], &quot;source_time&quot;: {&quot;attrs&quot;: {}, &quot;amplitude&quot;: 1.0, &quot;phase&quot;: 0.0, &quot;type&quot;: &quot;GaussianPulse&quot;, &quot;freq0&quot;: 28282307358490.566, &quot;fwidth&quot;: 2828230735849.0566, &quot;offset&quot;: 5.0, &quot;remove_dc_component&quot;: true}, &quot;direction&quot;: &quot;+&quot;, &quot;angle_theta&quot;: 0.0, &quot;angle_phi&quot;: 0.0, &quot;pol_angle&quot;: 0.0}], &quot;boundary_spec&quot;: {&quot;attrs&quot;: {}, &quot;x&quot;: {&quot;attrs&quot;: {}, &quot;plus&quot;: {&quot;attrs&quot;: {}, &quot;name&quot;: null, &quot;type&quot;: &quot;Periodic&quot;}, &quot;minus&quot;: {&quot;attrs&quot;: {}, &quot;name&quot;: null, &quot;type&quot;: &quot;Periodic&quot;}, &quot;type&quot;: &quot;Boundary&quot;}, &quot;y&quot;: {&quot;attrs&quot;: {}, &quot;plus&quot;: {&quot;attrs&quot;: {}, &quot;name&quot;: null, &quot;type&quot;: &quot;Periodic&quot;}, &quot;minus&quot;: {&quot;attrs&quot;: {}, &quot;name&quot;: null, &quot;type&quot;: &quot;Periodic&quot;}, &quot;type&quot;: &quot;Boundary&quot;}, &quot;z&quot;: {&quot;attrs&quot;: {}, &quot;plus&quot;: {&quot;attrs&quot;: {}, &quot;name&quot;: null, &quot;type&quot;: &quot;PML&quot;, &quot;num_layers&quot;: 12, &quot;parameters&quot;: {&quot;attrs&quot;: {}, &quot;sigma_order&quot;: 3, &quot;sigma_min&quot;: 0.0, &quot;sigma_max&quot;: 1.5, &quot;type&quot;: &quot;PMLParams&quot;, &quot;kappa_order&quot;: 3, &quot;kappa_min&quot;: 1.0, &quot;kappa_max&quot;: 3.0, &quot;alpha_order&quot;: 1, &quot;alpha_min&quot;: 0.0, &quot;alpha_max&quot;: 0.0}}, &quot;minus&quot;: {&quot;attrs&quot;: {}, &quot;name&quot;: null, &quot;type&quot;: &quot;PML&quot;, &quot;num_layers&quot;: 12, &quot;parameters&quot;: {&quot;attrs&quot;: {}, &quot;sigma_order&quot;: 3, &quot;sigma_min&quot;: 0.0, &quot;sigma_max&quot;: 1.5, &quot;type&quot;: &quot;PMLParams&quot;, &quot;kappa_order&quot;: 3, &quot;kappa_min&quot;: 1.0, &quot;kappa_max&quot;: 3.0, &quot;alpha_order&quot;: 1, &quot;alpha_min&quot;: 0.0, &quot;alpha_max&quot;: 0.0}}, &quot;type&quot;: &quot;Boundary&quot;}, &quot;type&quot;: &quot;BoundarySpec&quot;}, &quot;monitors&quot;: [{&quot;attrs&quot;: {}, &quot;type&quot;: &quot;DiffractionMonitor&quot;, &quot;center&quot;: [0.0, 0.0, 12.1], &quot;size&quot;: [&quot;Infinity&quot;, &quot;Infinity&quot;, 0.0], &quot;name&quot;: &quot;t&quot;, &quot;interval_space&quot;: [1, 1, 1], &quot;colocate&quot;: false, &quot;freqs&quot;: [29682421584158.418, 29653062116716.125, 29623760671936.76, 29594517077986.184, 29565331163708.09, 29536202758620.688, 29507131692913.387, 29478117797443.46, 29449160903732.81, 29420260843964.67, 29391417450980.395, 29362630558276.203, 29333900000000.004, 29305225610948.19, 29276607226562.5, 29248044682926.83, 29219537816764.133, 29191086465433.3, 29162690466926.07, 29134349659863.95, 29106063883495.15, 29077832977691.56, 29049656782945.734, 29021535140367.86, 28993467891682.785, 28965454879227.055, 28937495945945.95, 28909590935390.55, 28881739691714.84, 28853942059672.766, 28826197884615.383, 28798507012487.992, 28770869289827.254, 28743284563758.39, 28715752681992.34, 28688273492822.97, 28660846845124.285, 28633472588347.664, 28606150572519.082, 28578880648236.414, 28551662666666.668, 28524496479543.293, 28497381939163.5, 28470318898385.566, 28443307210626.188, 28416346729857.824, 28389437310606.06, 28362578807947.02, 28335771077504.727, 28309013975448.535, 28282307358490.566, 28255651083883.13, 28229045009416.2, 28202488993414.867, 28175982894736.84, 28149526572769.953, 28123119887429.645, 28096762699156.516, 28070454868913.86, 28044196258185.223, 28017986728971.965, 27991826143790.85, 27965714365671.645, 27939651258154.707, 27913636685288.64, 27887670511627.906, 27861752602230.484, 27835882822655.527, 27810061038961.04, 27784287117701.58, 27758560925925.93, 27732882331174.84, 27707251201478.742, 27681667405355.492, 27656130811808.117, 27630641290322.582, 27605198710865.562, 27579802943882.246, 27554453860294.12, 27529151331496.785, 27503895229357.797, 27478685426214.48, 27453521794871.797, 27428404208600.184, 27403332541133.457, 27378306666666.668, 27353326459854.016, 27328391795806.75, 27303502550091.074, 27278658598726.113, 27253859818181.816, 27229106085376.93, 27204397277676.953, 27179733272892.113, 27155113949275.363, 27130539185520.363, 27106008860759.496, 27081522854561.88, 27057081046931.406, 27032683318304.78, 27008329549549.55], &quot;apodization&quot;: {&quot;attrs&quot;: {}, &quot;start&quot;: null, &quot;end&quot;: null, &quot;width&quot;: null, &quot;type&quot;: &quot;ApodizationSpec&quot;}, &quot;normal_dir&quot;: &quot;+&quot;}], &quot;grid_spec&quot;: {&quot;attrs&quot;: {}, &quot;grid_x&quot;: {&quot;attrs&quot;: {}, &quot;type&quot;: &quot;AutoGrid&quot;, &quot;min_steps_per_wvl&quot;: 12.0, &quot;max_scale&quot;: 1.4, &quot;dl_min&quot;: 0.0, &quot;mesher&quot;: {&quot;attrs&quot;: {}, &quot;type&quot;: &quot;GradedMesher&quot;}}, &quot;grid_y&quot;: {&quot;attrs&quot;: {}, &quot;type&quot;: &quot;AutoGrid&quot;, &quot;min_steps_per_wvl&quot;: 12.0, &quot;max_scale&quot;: 1.4, &quot;dl_min&quot;: 0.0, &quot;mesher&quot;: {&quot;attrs&quot;: {}, &quot;type&quot;: &quot;GradedMesher&quot;}}, &quot;grid_z&quot;: {&quot;attrs&quot;: {}, &quot;type&quot;: &quot;AutoGrid&quot;, &quot;min_steps_per_wvl&quot;: 12.0, &quot;max_scale&quot;: 1.4, &quot;dl_min&quot;: 0.0, &quot;mesher&quot;: {&quot;attrs&quot;: {}, &quot;type&quot;: &quot;GradedMesher&quot;}}, &quot;wavelength&quot;: 10.6, &quot;override_structures&quot;: [], &quot;snapping_points&quot;: [], &quot;type&quot;: &quot;GridSpec&quot;}, &quot;version&quot;: &quot;2.8.0rc1&quot;, &quot;plot_length_units&quot;: &quot;\\u03bcm&quot;, &quot;lumped_elements&quot;: [], &quot;subpixel&quot;: {&quot;attrs&quot;: {}, &quot;dielectric&quot;: {&quot;attrs&quot;: {}, &quot;type&quot;: &quot;PolarizedAveraging&quot;}, &quot;metal&quot;: {&quot;attrs&quot;: {}, &quot;type&quot;: &quot;Staircasing&quot;}, &quot;pec&quot;: {&quot;attrs&quot;: {}, &quot;type&quot;: &quot;PECConformal&quot;, &quot;timestep_reduction&quot;: 0.3}, &quot;type&quot;: &quot;SubpixelSpec&quot;}, &quot;courant&quot;: 0.99, &quot;normalize_index&quot;: 0, &quot;shutoff&quot;: 1e-05, &quot;run_time&quot;: 5e-12}\" />\n",
       "    <script>\n",
       "        \n",
       "        /**\n",
       "        * Simulation Viewer Injector\n",
       "        *\n",
       "        * Monitors the document for elements being added in the form:\n",
       "        *\n",
       "        *    <div class=\"simulation-viewer\" data-width=\"800\" data-height=\"800\" data-simulation=\"{...}\" />\n",
       "        *\n",
       "        * This script will then inject an iframe to the viewer application, and pass it the simulation data\n",
       "        * via the postMessage API on request. The script may be safely included multiple times, with only the\n",
       "        * configuration of the first started script (e.g. viewer URL) applying.\n",
       "        *\n",
       "        */\n",
       "        (function() {\n",
       "            const TARGET_CLASS = \"simulation-viewer\";\n",
       "            const ACTIVE_CLASS = \"simulation-viewer-active\";\n",
       "            const VIEWER_URL = \"https://feature-simulation-viewer.d3a9gfg7glllfq.amplifyapp.com/simulation-viewer\";\n",
       "\n",
       "            class SimulationViewerInjector {\n",
       "                constructor() {\n",
       "                    for (var node of document.getElementsByClassName(TARGET_CLASS)) {\n",
       "                        this.injectViewer(node);\n",
       "                    }\n",
       "\n",
       "                    // Monitor for newly added nodes to the DOM\n",
       "                    this.observer = new MutationObserver(this.onMutations.bind(this));\n",
       "                    this.observer.observe(document.body, {childList: true, subtree: true});\n",
       "                }\n",
       "\n",
       "                onMutations(mutations) {\n",
       "                    for (var mutation of mutations) {\n",
       "                        if (mutation.type === 'childList') {\n",
       "                            /**\n",
       "                            * Have found that adding the element does not reliably trigger the mutation observer.\n",
       "                            * It may be the case that setting content with innerHTML does not trigger.\n",
       "                            *\n",
       "                            * It seems to be sufficient to re-scan the document for un-activated viewers\n",
       "                            * whenever an event occurs, as Jupyter triggers multiple events on cell evaluation.\n",
       "                            */\n",
       "                            var viewers = document.getElementsByClassName(TARGET_CLASS);\n",
       "                            for (var node of viewers) {\n",
       "                                this.injectViewer(node);\n",
       "                            }\n",
       "                        }\n",
       "                    }\n",
       "                }\n",
       "\n",
       "                injectViewer(node) {\n",
       "                    // (re-)check that this is a valid simulation container and has not already been injected\n",
       "                    if (node.classList.contains(TARGET_CLASS) && !node.classList.contains(ACTIVE_CLASS)) {\n",
       "                        // Mark node as injected, to prevent re-runs\n",
       "                        node.classList.add(ACTIVE_CLASS);\n",
       "\n",
       "                        var uuid;\n",
       "                        if (window.crypto && window.crypto.randomUUID) {\n",
       "                            uuid = window.crypto.randomUUID();\n",
       "                        } else {\n",
       "                            uuid = \"\" + Math.random();\n",
       "                        }\n",
       "\n",
       "                        var frame = document.createElement(\"iframe\");\n",
       "                        frame.width = node.dataset.width || 800;\n",
       "                        frame.height = node.dataset.height || 800;\n",
       "                        frame.src = VIEWER_URL + \"?uuid=\" + uuid;\n",
       "\n",
       "                        var postMessageToViewer;\n",
       "                        postMessageToViewer = event => {{\n",
       "                            if(event.data.type === 'viewer' && event.data.uuid===uuid){{\n",
       "                                var simulation = JSON.parse(node.dataset.simulation);\n",
       "                                frame.contentWindow.postMessage({ type: 'jupyter', uuid, value: simulation}, '*');\n",
       "\n",
       "                                // Run once only\n",
       "                                window.removeEventListener('message', postMessageToViewer);\n",
       "                            }}\n",
       "                        }};\n",
       "                        window.addEventListener(\n",
       "                            'message',\n",
       "                            postMessageToViewer,\n",
       "                            false\n",
       "                        );\n",
       "\n",
       "                        node.appendChild(frame);\n",
       "                    }\n",
       "                }\n",
       "            }\n",
       "\n",
       "            if (!window.simulationViewerInjector) {\n",
       "                window.simulationViewerInjector = new SimulationViewerInjector();\n",
       "            }\n",
       "        })();\n",
       "    \n",
       "    </script>\n",
       "    "
      ],
      "text/plain": [
       "<IPython.core.display.HTML object>"
      ]
     },
     "metadata": {},
     "output_type": "display_data"
    }
   ],
   "source": [
    "sim = make_sim(1.5, 0.5, 0)\n",
    "sim.plot_3d()"
   ]
  },
  {
   "cell_type": "code",
   "execution_count": 6,
   "metadata": {},
   "outputs": [],
   "source": [
    "def fn_post(sim_data):\n",
    "    t = sim_data[\"t\"]\n",
    "    return {\"t\": t}"
   ]
  },
  {
   "cell_type": "code",
   "execution_count": 7,
   "metadata": {},
   "outputs": [],
   "source": [
    "method = tdd.MethodMonteCarlo(\n",
    "    num_points=100,\n",
    "    seed=1,\n",
    ")\n",
    "\n",
    "maj_r = tdd.ParameterFloat(name=\"major_radius\", span=(0.75, 1.8))\n",
    "min_r = tdd.ParameterFloat(name=\"minor_radius\", span=(0.75, 1.8))\n",
    "ang = tdd.ParameterFloat(name=\"angle\", span=(0, 180))\n",
    "parameters = [maj_r, min_r, ang]\n",
    "\n",
    "output_dir = \"/home/matt/Documents/Flexcompute/metalens_linear_source/data\"\n",
    "design_space = tdd.DesignSpace(\n",
    "    method=method,\n",
    "    parameters=parameters,\n",
    "    task_name=\"metalens_1\",\n",
    "    folder_name=\"metalensV2\",\n",
    "    path_dir=output_dir,\n",
    ")\n"
   ]
  },
  {
   "cell_type": "code",
   "execution_count": 57,
   "metadata": {},
   "outputs": [
    {
     "data": {
      "text/html": [
       "<pre style=\"white-space:pre;overflow-x:auto;line-height:normal;font-family:Menlo,'DejaVu Sans Mono',consolas,'Courier New',monospace\"><span style=\"color: #7fbfbf; text-decoration-color: #7fbfbf\">17:39:26 BST </span>Running <span style=\"color: #008080; text-decoration-color: #008080; font-weight: bold\">100</span> Simulations                                            \n",
       "</pre>\n"
      ],
      "text/plain": [
       "\u001b[2;36m17:39:26 BST\u001b[0m\u001b[2;36m \u001b[0mRunning \u001b[1;36m100\u001b[0m Simulations                                            \n"
      ]
     },
     "metadata": {},
     "output_type": "display_data"
    }
   ],
   "source": [
    "results = design_space.run(make_sim, fn_post, verbose=True)\n",
    "df = results.to_dataframe()"
   ]
  },
  {
   "cell_type": "code",
   "execution_count": 8,
   "metadata": {},
   "outputs": [],
   "source": [
    "# TESTING: Save off the df or load the df\n",
    "import pickle\n",
    "import os\n",
    "os.chdir(\"/home/matt/Documents/Flexcompute/metalens_linear_source/data\")\n",
    "# with open(\"result_100.pkl\", \"wb\") as out_file:\n",
    "#     pickle.dump(results, out_file)\n",
    "\n",
    "\n",
    "with open(\"result_100.pkl\", \"rb\") as in_file:\n",
    "    results = pickle.load(in_file)\n",
    "\n",
    "df = results.to_dataframe()"
   ]
  },
  {
   "cell_type": "markdown",
   "metadata": {},
   "source": [
    "## Surrogate"
   ]
  },
  {
   "cell_type": "code",
   "execution_count": 20,
   "metadata": {},
   "outputs": [
    {
     "name": "stdout",
     "output_type": "stream",
     "text": [
      "\n"
     ]
    }
   ],
   "source": [
    "expanded_df = df.copy()\n",
    "expanded_df[\"transmission\"] = expanded_df[\"t\"].apply(lambda x: x.amps.sel(polarization=\"p\").squeeze())\n",
    "expanded_df.drop([\"t\"], axis=1, inplace=True)\n",
    "expanded_df = expanded_df.explode([\"transmission\"]).reset_index(drop=True)\n",
    "expanded_df[\"freq\"] = expanded_df[\"transmission\"].apply(lambda x: float(x.f))\n",
    "\n",
    "# Complex numbers \n",
    "expanded_df[\"complex\"] = expanded_df[\"transmission\"].apply(lambda x: x.data)\n",
    "expanded_df[\"real\"] = expanded_df[\"complex\"].apply(lambda x: x.real)\n",
    "expanded_df[\"imag\"] = expanded_df[\"complex\"].apply(lambda x: x.imag)\n",
    "\n",
    "# Processing\n",
    "# expanded_df[\"transmittance\"] = expanded_df[\"transmission\"].apply(lambda x: float(np.abs(x)))\n",
    "# expanded_df[\"theta\"] = expanded_df[\"transmission\"].apply(lambda x: np.unwrap(np.angle(x.expand_dims(\"f\"))).reshape(-1))\n",
    "# expanded_df[\"theta\"] = expanded_df[\"theta\"].apply(lambda x: float(x[0] / (2 * np.pi)))\n",
    "# expanded_df[\"norm_theta\"] = expanded_df[\"theta\"].apply(lambda x: (x - expanded_df.theta.min()) / (expanded_df.theta.max() - expanded_df.theta.min()))\n",
    "\n",
    "print()"
   ]
  },
  {
   "cell_type": "code",
   "execution_count": 21,
   "metadata": {},
   "outputs": [
    {
     "name": "stdout",
     "output_type": "stream",
     "text": [
      "Using existing directory at pickle_data\n",
      "Using existing directory at models\n",
      "Using device cuda:0\n"
     ]
    }
   ],
   "source": [
    "import torch\n",
    "import torch.nn as nn\n",
    "import torch.optim as optim\n",
    "\n",
    "from tidy3d.plugins.design.surrogate_object import AI_Model\n",
    "\n",
    "# Constants\n",
    "output_dir = \"/home/matt/Documents/Flexcompute/metalens\"\n",
    "data_dir = [\"/home/matt/Documents/Flexcompute/metalens/data/\"]\n",
    "\n",
    "test_percentage = 0.20\n",
    "valid_percentage = 0.20\n",
    "batch_size = 512\n",
    "epochs = 100\n",
    "\n",
    "trial_count = 20\n",
    "\n",
    "model = AI_Model(output_dir, data_dir, seed=1)\n",
    "\n",
    "model.load_data_from_df(\n",
    "    df=expanded_df,\n",
    "    label_names=[\"real\", \"imag\"],\n",
    "    feature_names=[\"major_radius\", \"minor_radius\", \"angle\", \"freq\"],\n",
    "    test_percentage=test_percentage,\n",
    "    valid_percentage=valid_percentage,\n",
    "    batch_size=batch_size,\n",
    "    individual_feature_scaling=True\n",
    ")\n",
    "\n",
    "loss_fn = nn.MSELoss()"
   ]
  },
  {
   "cell_type": "code",
   "execution_count": 22,
   "metadata": {},
   "outputs": [],
   "source": [
    "# Define the model in PyTorch\n",
    "class VariableANN(nn.Module):\n",
    "    def __init__(self, input_size, neurons, dropout) -> None:\n",
    "        super().__init__()\n",
    "        self.layers = nn.ModuleList()\n",
    "        self.layers.append(nn.Linear(input_size, neurons[0]))\n",
    "\n",
    "        for i in range(1, len(neurons)):\n",
    "            self.layers.append(nn.Linear(neurons[i - 1], neurons[i]))\n",
    "\n",
    "        self.layers.append(nn.Linear(neurons[-1], 2))\n",
    "\n",
    "        self.drop = nn.Dropout(dropout)\n",
    "        self.relu = nn.ReLU()\n",
    "\n",
    "    def forward(self, x):\n",
    "        for layer in self.layers[:-1]:\n",
    "            x = self.drop(self.relu(layer(x)))\n",
    "\n",
    "        x = self.layers[-1](x)\n",
    "\n",
    "        return x"
   ]
  },
  {
   "cell_type": "code",
   "execution_count": 23,
   "metadata": {},
   "outputs": [
    {
     "name": "stdout",
     "output_type": "stream",
     "text": [
      "Using existing directory at Model1\n"
     ]
    },
    {
     "name": "stderr",
     "output_type": "stream",
     "text": [
      "  3%|▎         | 3/100 [00:00<00:04, 23.07it/s]"
     ]
    },
    {
     "name": "stdout",
     "output_type": "stream",
     "text": [
      "Best State Updated. Epoch: 0\n",
      "Best State Updated. Epoch: 1\n",
      "Best State Updated. Epoch: 2\n",
      "Best State Updated. Epoch: 3\n"
     ]
    },
    {
     "name": "stderr",
     "output_type": "stream",
     "text": [
      "  6%|▌         | 6/100 [00:00<00:03, 25.54it/s]"
     ]
    },
    {
     "name": "stdout",
     "output_type": "stream",
     "text": [
      "Best State Updated. Epoch: 4\n",
      "Best State Updated. Epoch: 5\n"
     ]
    },
    {
     "name": "stderr",
     "output_type": "stream",
     "text": [
      "  9%|▉         | 9/100 [00:00<00:03, 26.43it/s]"
     ]
    },
    {
     "name": "stdout",
     "output_type": "stream",
     "text": [
      "Best State Updated. Epoch: 6\n",
      "Best State Updated. Epoch: 7\n",
      "Best State Updated. Epoch: 8\n",
      "Best State Updated. Epoch: 9\n"
     ]
    },
    {
     "name": "stderr",
     "output_type": "stream",
     "text": [
      " 12%|█▏        | 12/100 [00:00<00:03, 25.72it/s]"
     ]
    },
    {
     "name": "stdout",
     "output_type": "stream",
     "text": [
      "Best State Updated. Epoch: 10\n",
      "Best State Updated. Epoch: 11\n"
     ]
    },
    {
     "name": "stderr",
     "output_type": "stream",
     "text": [
      " 15%|█▌        | 15/100 [00:00<00:03, 26.39it/s]"
     ]
    },
    {
     "name": "stdout",
     "output_type": "stream",
     "text": [
      "Best State Updated. Epoch: 12\n",
      "Best State Updated. Epoch: 13\n",
      "Best State Updated. Epoch: 14\n",
      "Best State Updated. Epoch: 15\n"
     ]
    },
    {
     "name": "stderr",
     "output_type": "stream",
     "text": [
      " 18%|█▊        | 18/100 [00:00<00:03, 26.00it/s]"
     ]
    },
    {
     "name": "stdout",
     "output_type": "stream",
     "text": [
      "Best State Updated. Epoch: 16\n",
      "Best State Updated. Epoch: 17\n"
     ]
    },
    {
     "name": "stderr",
     "output_type": "stream",
     "text": [
      " 24%|██▍       | 24/100 [00:01<00:03, 20.56it/s]"
     ]
    },
    {
     "name": "stdout",
     "output_type": "stream",
     "text": [
      "Best State Updated. Epoch: 18\n",
      "Best State Updated. Epoch: 19\n",
      "Best State Updated. Epoch: 20\n",
      "Best State Updated. Epoch: 21\n",
      "Best State Updated. Epoch: 22\n",
      "Best State Updated. Epoch: 23\n"
     ]
    },
    {
     "name": "stderr",
     "output_type": "stream",
     "text": [
      " 30%|███       | 30/100 [00:01<00:03, 23.21it/s]"
     ]
    },
    {
     "name": "stdout",
     "output_type": "stream",
     "text": [
      "Best State Updated. Epoch: 24\n",
      "Best State Updated. Epoch: 25\n",
      "Best State Updated. Epoch: 26\n",
      "Best State Updated. Epoch: 27\n",
      "Best State Updated. Epoch: 28\n",
      "Best State Updated. Epoch: 29\n"
     ]
    },
    {
     "name": "stderr",
     "output_type": "stream",
     "text": [
      " 36%|███▌      | 36/100 [00:01<00:02, 25.32it/s]"
     ]
    },
    {
     "name": "stdout",
     "output_type": "stream",
     "text": [
      "Best State Updated. Epoch: 30\n",
      "Best State Updated. Epoch: 31\n",
      "Best State Updated. Epoch: 32\n",
      "Best State Updated. Epoch: 33\n",
      "Best State Updated. Epoch: 34\n",
      "Best State Updated. Epoch: 35\n"
     ]
    },
    {
     "name": "stderr",
     "output_type": "stream",
     "text": [
      " 42%|████▏     | 42/100 [00:01<00:02, 25.58it/s]"
     ]
    },
    {
     "name": "stdout",
     "output_type": "stream",
     "text": [
      "Best State Updated. Epoch: 36\n",
      "Best State Updated. Epoch: 37\n",
      "Best State Updated. Epoch: 38\n",
      "Best State Updated. Epoch: 39\n",
      "Best State Updated. Epoch: 40\n",
      "Best State Updated. Epoch: 41\n"
     ]
    },
    {
     "name": "stderr",
     "output_type": "stream",
     "text": [
      " 48%|████▊     | 48/100 [00:01<00:01, 26.41it/s]"
     ]
    },
    {
     "name": "stdout",
     "output_type": "stream",
     "text": [
      "Best State Updated. Epoch: 42\n",
      "Best State Updated. Epoch: 43\n",
      "Best State Updated. Epoch: 44\n",
      "Best State Updated. Epoch: 45\n",
      "Best State Updated. Epoch: 46\n"
     ]
    },
    {
     "name": "stderr",
     "output_type": "stream",
     "text": [
      " 54%|█████▍    | 54/100 [00:02<00:01, 26.92it/s]"
     ]
    },
    {
     "name": "stdout",
     "output_type": "stream",
     "text": [
      "Best State Updated. Epoch: 49\n",
      "Best State Updated. Epoch: 50\n",
      "Best State Updated. Epoch: 51\n",
      "Best State Updated. Epoch: 52\n",
      "Best State Updated. Epoch: 53\n",
      "Best State Updated. Epoch: 54\n"
     ]
    },
    {
     "name": "stderr",
     "output_type": "stream",
     "text": [
      " 60%|██████    | 60/100 [00:02<00:01, 26.95it/s]"
     ]
    },
    {
     "name": "stdout",
     "output_type": "stream",
     "text": [
      "Best State Updated. Epoch: 55\n",
      "Best State Updated. Epoch: 56\n",
      "Best State Updated. Epoch: 59\n",
      "Best State Updated. Epoch: 60\n"
     ]
    },
    {
     "name": "stderr",
     "output_type": "stream",
     "text": [
      " 66%|██████▌   | 66/100 [00:02<00:01, 26.57it/s]"
     ]
    },
    {
     "name": "stdout",
     "output_type": "stream",
     "text": [
      "Best State Updated. Epoch: 61\n",
      "Best State Updated. Epoch: 62\n",
      "Best State Updated. Epoch: 63\n",
      "Best State Updated. Epoch: 66\n"
     ]
    },
    {
     "name": "stderr",
     "output_type": "stream",
     "text": [
      " 69%|██████▉   | 69/100 [00:02<00:01, 25.09it/s]"
     ]
    },
    {
     "name": "stdout",
     "output_type": "stream",
     "text": [
      "Best State Updated. Epoch: 67\n",
      "Best State Updated. Epoch: 68\n",
      "Best State Updated. Epoch: 69\n",
      "Best State Updated. Epoch: 70\n"
     ]
    },
    {
     "name": "stderr",
     "output_type": "stream",
     "text": [
      " 78%|███████▊  | 78/100 [00:03<00:00, 23.21it/s]"
     ]
    },
    {
     "name": "stdout",
     "output_type": "stream",
     "text": [
      "Best State Updated. Epoch: 72\n",
      "Best State Updated. Epoch: 73\n",
      "Best State Updated. Epoch: 74\n",
      "Best State Updated. Epoch: 75\n",
      "Best State Updated. Epoch: 76\n",
      "Best State Updated. Epoch: 77\n"
     ]
    },
    {
     "name": "stderr",
     "output_type": "stream",
     "text": [
      " 87%|████████▋ | 87/100 [00:03<00:00, 25.17it/s]"
     ]
    },
    {
     "name": "stdout",
     "output_type": "stream",
     "text": [
      "Best State Updated. Epoch: 81\n",
      "Best State Updated. Epoch: 82\n",
      "Best State Updated. Epoch: 83\n",
      "Best State Updated. Epoch: 84\n",
      "Best State Updated. Epoch: 86\n"
     ]
    },
    {
     "name": "stderr",
     "output_type": "stream",
     "text": [
      " 93%|█████████▎| 93/100 [00:03<00:00, 25.88it/s]"
     ]
    },
    {
     "name": "stdout",
     "output_type": "stream",
     "text": [
      "Best State Updated. Epoch: 87\n",
      "Best State Updated. Epoch: 88\n",
      "Best State Updated. Epoch: 89\n",
      "Best State Updated. Epoch: 90\n",
      "Best State Updated. Epoch: 91\n",
      "Best State Updated. Epoch: 92\n"
     ]
    },
    {
     "name": "stderr",
     "output_type": "stream",
     "text": [
      " 99%|█████████▉| 99/100 [00:04<00:00, 26.55it/s]"
     ]
    },
    {
     "name": "stdout",
     "output_type": "stream",
     "text": [
      "Best State Updated. Epoch: 94\n",
      "Best State Updated. Epoch: 95\n",
      "Best State Updated. Epoch: 96\n",
      "Best State Updated. Epoch: 97\n",
      "Best State Updated. Epoch: 99\n"
     ]
    },
    {
     "data": {
      "image/png": "[encoded data removed]",
      "text/plain": [
       "<Figure size 640x480 with 2 Axes>"
      ]
     },
     "metadata": {},
     "output_type": "display_data"
    },
    {
     "name": "stderr",
     "output_type": "stream",
     "text": [
      "100%|██████████| 100/100 [00:04<00:00, 22.91it/s]"
     ]
    },
    {
     "name": "stdout",
     "output_type": "stream",
     "text": [
      " Best Test Loss: 0.31834903359413147\n",
      "RMSE: 0.449125\n",
      "MAE: 0.387065\n"
     ]
    },
    {
     "name": "stderr",
     "output_type": "stream",
     "text": [
      "\n"
     ]
    }
   ],
   "source": [
    "# Create single model\n",
    "network = VariableANN(4, [4, 4, 4], 0.2)\n",
    "opt = optim.Adam(network.parameters(), lr=0.001, weight_decay=0.0001)\n",
    "\n",
    "trained_net = model.train_model(\"Model1\", network, opt, loss_fn, epochs, plot_output=True)\n",
    "test_rmse, _, test_predictions = model.validate_model(trained_net, \"test\")"
   ]
  },
  {
   "cell_type": "code",
   "execution_count": 24,
   "metadata": {},
   "outputs": [
    {
     "name": "stderr",
     "output_type": "stream",
     "text": [
      "[I 2024-08-29 10:23:29,087] A new study created in memory with name: no-name-76fd4c56-1ae5-498c-ae1d-772a7d87e339\n"
     ]
    },
    {
     "name": "stdout",
     "output_type": "stream",
     "text": [
      "Making temp model folder\n",
      "Using existing directory at temp\n"
     ]
    },
    {
     "name": "stderr",
     "output_type": "stream",
     "text": [
      "100%|██████████| 100/100 [00:04<00:00, 24.87it/s]\n",
      "[I 2024-08-29 10:23:33,124] Trial 0 finished with value: 0.421548 and parameters: {'dropout': 0.2, 'neurons0': 192, 'neurons1': 16, 'neurons2': 80, 'neurons3': 48, 'lr': 2.3407464805767515e-05, 'weight_decay': 2.3578730726467393e-05}. Best is trial 0 with value: 0.421548.\n"
     ]
    },
    {
     "name": "stdout",
     "output_type": "stream",
     "text": [
      " Best Test Loss: 0.2787172496318817\n",
      "RMSE: 0.421548\n",
      "MAE: 0.360348\n",
      "Making temp model folder\n",
      "Using existing directory at temp\n"
     ]
    },
    {
     "name": "stderr",
     "output_type": "stream",
     "text": [
      "100%|██████████| 100/100 [00:03<00:00, 25.27it/s]\n",
      "[I 2024-08-29 10:23:37,096] Trial 1 finished with value: 0.248894 and parameters: {'dropout': 0.15000000000000002, 'neurons0': 112, 'neurons1': 144, 'neurons2': 112, 'neurons3': 176, 'lr': 6.573686655138327e-05, 'weight_decay': 0.0005704727088203682}. Best is trial 1 with value: 0.248894.\n"
     ]
    },
    {
     "name": "stdout",
     "output_type": "stream",
     "text": [
      " Best Test Loss: 0.09759647399187088\n",
      "RMSE: 0.248894\n",
      "MAE: 0.189734\n",
      "Making temp model folder\n",
      "Using existing directory at temp\n"
     ]
    },
    {
     "name": "stderr",
     "output_type": "stream",
     "text": [
      "100%|██████████| 100/100 [00:03<00:00, 26.17it/s]\n",
      "[I 2024-08-29 10:23:40,932] Trial 2 finished with value: 0.239223 and parameters: {'dropout': 0.0, 'neurons0': 176, 'neurons1': 112, 'neurons2': 144, 'neurons3': 48, 'lr': 6.200203677164716e-05, 'weight_decay': 0.00039947456945609163}. Best is trial 2 with value: 0.239223.\n"
     ]
    },
    {
     "name": "stdout",
     "output_type": "stream",
     "text": [
      " Best Test Loss: 0.09045276045799255\n",
      "RMSE: 0.239223\n",
      "MAE: 0.188178\n",
      "Making temp model folder\n",
      "Using existing directory at temp\n"
     ]
    },
    {
     "name": "stderr",
     "output_type": "stream",
     "text": [
      "100%|██████████| 100/100 [00:03<00:00, 25.03it/s]\n",
      "[I 2024-08-29 10:23:44,941] Trial 3 finished with value: 0.504777 and parameters: {'dropout': 0.5, 'neurons0': 96, 'neurons1': 192, 'neurons2': 240, 'neurons3': 240, 'lr': 2.1886526657465428e-05, 'weight_decay': 1.197042490409919e-05}. Best is trial 2 with value: 0.239223.\n"
     ]
    },
    {
     "name": "stdout",
     "output_type": "stream",
     "text": [
      " Best Test Loss: 0.3858867287635803\n",
      "RMSE: 0.504777\n",
      "MAE: 0.409286\n",
      "Making temp model folder\n",
      "Using existing directory at temp\n"
     ]
    },
    {
     "name": "stderr",
     "output_type": "stream",
     "text": [
      "100%|██████████| 100/100 [00:03<00:00, 25.81it/s]\n",
      "[I 2024-08-29 10:23:48,830] Trial 4 finished with value: 0.072901 and parameters: {'dropout': 0.05, 'neurons0': 240, 'neurons1': 32, 'neurons2': 112, 'neurons3': 256, 'lr': 0.0013572540301313666, 'weight_decay': 0.00024196593469527324}. Best is trial 4 with value: 0.072901.\n"
     ]
    },
    {
     "name": "stdout",
     "output_type": "stream",
     "text": [
      " Best Test Loss: 0.007390904240310192\n",
      "RMSE: 0.072901\n",
      "MAE: 0.054267\n",
      "Making temp model folder\n",
      "Using existing directory at temp\n"
     ]
    },
    {
     "name": "stderr",
     "output_type": "stream",
     "text": [
      "100%|██████████| 100/100 [00:03<00:00, 25.91it/s]\n",
      "[I 2024-08-29 10:23:52,705] Trial 5 finished with value: 0.451734 and parameters: {'dropout': 0.15000000000000002, 'neurons0': 176, 'neurons1': 224, 'neurons2': 16, 'neurons3': 208, 'lr': 0.0902494067192741, 'weight_decay': 0.0003135676915341995}. Best is trial 4 with value: 0.072901.\n"
     ]
    },
    {
     "name": "stdout",
     "output_type": "stream",
     "text": [
      " Best Test Loss: 0.3211265802383423\n",
      "RMSE: 0.451734\n",
      "MAE: 0.391437\n",
      "Making temp model folder\n",
      "Using existing directory at temp\n"
     ]
    },
    {
     "name": "stderr",
     "output_type": "stream",
     "text": [
      "100%|██████████| 100/100 [00:03<00:00, 26.18it/s]\n",
      "[I 2024-08-29 10:23:56,540] Trial 6 finished with value: 0.135357 and parameters: {'dropout': 0.15000000000000002, 'neurons0': 208, 'neurons1': 32, 'neurons2': 128, 'neurons3': 240, 'lr': 0.0001494364677378836, 'weight_decay': 3.763142612534587e-05}. Best is trial 4 with value: 0.072901.\n"
     ]
    },
    {
     "name": "stdout",
     "output_type": "stream",
     "text": [
      " Best Test Loss: 0.02876146137714386\n",
      "RMSE: 0.135357\n",
      "MAE: 0.098423\n",
      "Making temp model folder\n",
      "Using existing directory at temp\n"
     ]
    },
    {
     "name": "stderr",
     "output_type": "stream",
     "text": [
      "100%|██████████| 100/100 [00:03<00:00, 25.12it/s]\n",
      "[I 2024-08-29 10:24:00,535] Trial 7 finished with value: 0.083982 and parameters: {'dropout': 0.05, 'neurons0': 16, 'neurons1': 176, 'neurons2': 64, 'neurons3': 80, 'lr': 0.0009253214657642581, 'weight_decay': 1.2785717080546074e-05}. Best is trial 4 with value: 0.072901.\n"
     ]
    },
    {
     "name": "stdout",
     "output_type": "stream",
     "text": [
      " Best Test Loss: 0.01071864552795887\n",
      "RMSE: 0.083982\n",
      "MAE: 0.065513\n",
      "Making temp model folder\n",
      "Using existing directory at temp\n"
     ]
    },
    {
     "name": "stderr",
     "output_type": "stream",
     "text": [
      "100%|██████████| 100/100 [00:03<00:00, 25.13it/s]\n",
      "[I 2024-08-29 10:24:04,529] Trial 8 finished with value: 0.159299 and parameters: {'dropout': 0.30000000000000004, 'neurons0': 48, 'neurons1': 160, 'neurons2': 192, 'neurons3': 32, 'lr': 0.00045313118440918, 'weight_decay': 0.0002447937444286876}. Best is trial 4 with value: 0.072901.\n"
     ]
    },
    {
     "name": "stdout",
     "output_type": "stream",
     "text": [
      " Best Test Loss: 0.039849698543548584\n",
      "RMSE: 0.159299\n",
      "MAE: 0.128169\n",
      "Making temp model folder\n",
      "Using existing directory at temp\n"
     ]
    },
    {
     "name": "stderr",
     "output_type": "stream",
     "text": [
      "100%|██████████| 100/100 [00:04<00:00, 24.79it/s]\n",
      "[I 2024-08-29 10:24:08,577] Trial 9 finished with value: 0.42565 and parameters: {'dropout': 0.2, 'neurons0': 16, 'neurons1': 144, 'neurons2': 176, 'neurons3': 144, 'lr': 0.06003147633638411, 'weight_decay': 0.00014897386352200276}. Best is trial 4 with value: 0.072901.\n"
     ]
    },
    {
     "name": "stdout",
     "output_type": "stream",
     "text": [
      " Best Test Loss: 0.2837679386138916\n",
      "RMSE: 0.42565\n",
      "MAE: 0.365459\n",
      "Making temp model folder\n",
      "Using existing directory at temp\n"
     ]
    },
    {
     "name": "stderr",
     "output_type": "stream",
     "text": [
      "100%|██████████| 100/100 [00:03<00:00, 25.25it/s]\n",
      "[I 2024-08-29 10:24:12,573] Trial 10 finished with value: 0.149107 and parameters: {'dropout': 0.35000000000000003, 'neurons0': 256, 'neurons1': 80, 'neurons2': 256, 'neurons3': 112, 'lr': 0.004852851779481773, 'weight_decay': 7.327696145109403e-05}. Best is trial 4 with value: 0.072901.\n"
     ]
    },
    {
     "name": "stdout",
     "output_type": "stream",
     "text": [
      " Best Test Loss: 0.03190835192799568\n",
      "RMSE: 0.149107\n",
      "MAE: 0.122386\n",
      "Making temp model folder\n",
      "Using existing directory at temp\n"
     ]
    },
    {
     "name": "stderr",
     "output_type": "stream",
     "text": [
      "100%|██████████| 100/100 [00:03<00:00, 25.31it/s]\n",
      "[I 2024-08-29 10:24:16,558] Trial 11 finished with value: 0.109358 and parameters: {'dropout': 0.0, 'neurons0': 64, 'neurons1': 256, 'neurons2': 48, 'neurons3': 96, 'lr': 0.0029114863197187714, 'weight_decay': 0.000927518876196669}. Best is trial 4 with value: 0.072901.\n"
     ]
    },
    {
     "name": "stdout",
     "output_type": "stream",
     "text": [
      " Best Test Loss: 0.018306948244571686\n",
      "RMSE: 0.109358\n",
      "MAE: 0.07878\n",
      "Making temp model folder\n",
      "Using existing directory at temp\n"
     ]
    },
    {
     "name": "stderr",
     "output_type": "stream",
     "text": [
      "100%|██████████| 100/100 [00:03<00:00, 25.77it/s]\n",
      "[I 2024-08-29 10:24:20,473] Trial 12 finished with value: 0.047326 and parameters: {'dropout': 0.05, 'neurons0': 240, 'neurons1': 80, 'neurons2': 80, 'neurons3': 96, 'lr': 0.0016690219230360306, 'weight_decay': 8.808234772855056e-05}. Best is trial 12 with value: 0.047326.\n"
     ]
    },
    {
     "name": "stdout",
     "output_type": "stream",
     "text": [
      " Best Test Loss: 0.003400420071557164\n",
      "RMSE: 0.047326\n",
      "MAE: 0.03618\n",
      "Making temp model folder\n",
      "Using existing directory at temp\n"
     ]
    },
    {
     "name": "stderr",
     "output_type": "stream",
     "text": [
      "100%|██████████| 100/100 [00:03<00:00, 25.47it/s]\n",
      "[I 2024-08-29 10:24:24,433] Trial 13 finished with value: 0.08192 and parameters: {'dropout': 0.05, 'neurons0': 256, 'neurons1': 64, 'neurons2': 96, 'neurons3': 160, 'lr': 0.012280238476692185, 'weight_decay': 9.031660557043444e-05}. Best is trial 12 with value: 0.047326.\n"
     ]
    },
    {
     "name": "stdout",
     "output_type": "stream",
     "text": [
      " Best Test Loss: 0.0047424230724573135\n",
      "RMSE: 0.08192\n",
      "MAE: 0.066833\n",
      "Making temp model folder\n",
      "Using existing directory at temp\n"
     ]
    },
    {
     "name": "stderr",
     "output_type": "stream",
     "text": [
      "100%|██████████| 100/100 [00:03<00:00, 26.25it/s]\n",
      "[I 2024-08-29 10:24:28,275] Trial 14 finished with value: 0.095323 and parameters: {'dropout': 0.1, 'neurons0': 240, 'neurons1': 64, 'neurons2': 16, 'neurons3': 192, 'lr': 0.0004411438203421464, 'weight_decay': 0.00015502807726359776}. Best is trial 12 with value: 0.047326.\n"
     ]
    },
    {
     "name": "stdout",
     "output_type": "stream",
     "text": [
      " Best Test Loss: 0.014221004210412502\n",
      "RMSE: 0.095323\n",
      "MAE: 0.070987\n",
      "Making temp model folder\n",
      "Using existing directory at temp\n"
     ]
    },
    {
     "name": "stderr",
     "output_type": "stream",
     "text": [
      "100%|██████████| 100/100 [00:04<00:00, 24.67it/s]\n",
      "[I 2024-08-29 10:24:32,363] Trial 15 finished with value: 0.093463 and parameters: {'dropout': 0.4, 'neurons0': 144, 'neurons1': 96, 'neurons2': 160, 'neurons3': 128, 'lr': 0.0027987712349286987, 'weight_decay': 4.338916893941725e-05}. Best is trial 12 with value: 0.047326.\n"
     ]
    },
    {
     "name": "stdout",
     "output_type": "stream",
     "text": [
      " Best Test Loss: 0.01167311891913414\n",
      "RMSE: 0.093463\n",
      "MAE: 0.07404\n",
      "Making temp model folder\n",
      "Using existing directory at temp\n"
     ]
    },
    {
     "name": "stderr",
     "output_type": "stream",
     "text": [
      "100%|██████████| 100/100 [00:03<00:00, 25.65it/s]\n",
      "[I 2024-08-29 10:24:36,295] Trial 16 finished with value: 0.067496 and parameters: {'dropout': 0.05, 'neurons0': 224, 'neurons1': 48, 'neurons2': 48, 'neurons3': 80, 'lr': 0.015179552139523395, 'weight_decay': 0.0001584552270614731}. Best is trial 12 with value: 0.047326.\n"
     ]
    },
    {
     "name": "stdout",
     "output_type": "stream",
     "text": [
      " Best Test Loss: 0.005145263858139515\n",
      "RMSE: 0.067496\n",
      "MAE: 0.050251\n",
      "Making temp model folder\n",
      "Using existing directory at temp\n"
     ]
    },
    {
     "name": "stderr",
     "output_type": "stream",
     "text": [
      "100%|██████████| 100/100 [00:03<00:00, 25.58it/s]\n",
      "[I 2024-08-29 10:24:40,237] Trial 17 finished with value: 0.088257 and parameters: {'dropout': 0.1, 'neurons0': 208, 'neurons1': 112, 'neurons2': 48, 'neurons3': 80, 'lr': 0.017769388271320966, 'weight_decay': 5.5361196314057384e-05}. Best is trial 12 with value: 0.047326.\n"
     ]
    },
    {
     "name": "stdout",
     "output_type": "stream",
     "text": [
      " Best Test Loss: 0.011035498231649399\n",
      "RMSE: 0.088257\n",
      "MAE: 0.068797\n",
      "Making temp model folder\n",
      "Using existing directory at temp\n"
     ]
    },
    {
     "name": "stderr",
     "output_type": "stream",
     "text": [
      "100%|██████████| 100/100 [00:03<00:00, 25.39it/s]\n",
      "[I 2024-08-29 10:24:44,210] Trial 18 finished with value: 0.141097 and parameters: {'dropout': 0.25, 'neurons0': 144, 'neurons1': 48, 'neurons2': 48, 'neurons3': 16, 'lr': 0.017501583911323126, 'weight_decay': 0.0001352501384480692}. Best is trial 12 with value: 0.047326.\n"
     ]
    },
    {
     "name": "stdout",
     "output_type": "stream",
     "text": [
      " Best Test Loss: 0.031186824664473534\n",
      "RMSE: 0.141097\n",
      "MAE: 0.113216\n",
      "Making temp model folder\n",
      "Using existing directory at temp\n"
     ]
    },
    {
     "name": "stderr",
     "output_type": "stream",
     "text": [
      "100%|██████████| 100/100 [00:03<00:00, 25.90it/s]\n",
      "[I 2024-08-29 10:24:48,104] Trial 19 finished with value: 0.040549 and parameters: {'dropout': 0.0, 'neurons0': 224, 'neurons1': 112, 'neurons2': 80, 'neurons3': 64, 'lr': 0.00717673527173512, 'weight_decay': 2.4204161752957207e-05}. Best is trial 19 with value: 0.040549.\n"
     ]
    },
    {
     "name": "stdout",
     "output_type": "stream",
     "text": [
      " Best Test Loss: 0.0009550366667099297\n",
      "RMSE: 0.040549\n",
      "MAE: 0.029562\n",
      "Study statistics: \n",
      "  Number of finished trials:  20\n",
      "  Number of pruned trials:  0\n",
      "  Number of complete trials:  20\n",
      "Best trial:\n",
      "  Value:  0.040549\n",
      "  Params: \n",
      "    dropout: 0.0\n",
      "    neurons0: 224\n",
      "    neurons1: 112\n",
      "    neurons2: 80\n",
      "    neurons3: 64\n",
      "    lr: 0.00717673527173512\n",
      "    weight_decay: 2.4204161752957207e-05\n",
      "Using existing directory at Model1\n"
     ]
    },
    {
     "name": "stderr",
     "output_type": "stream",
     "text": [
      "  0%|          | 3/1000 [00:00<00:35, 27.87it/s]"
     ]
    },
    {
     "name": "stdout",
     "output_type": "stream",
     "text": [
      "Best State Updated. Epoch: 0\n",
      "Best State Updated. Epoch: 1\n",
      "Best State Updated. Epoch: 2\n",
      "Best State Updated. Epoch: 3\n",
      "Best State Updated. Epoch: 4\n"
     ]
    },
    {
     "name": "stderr",
     "output_type": "stream",
     "text": [
      "  1%|          | 6/1000 [00:00<00:35, 27.63it/s]"
     ]
    },
    {
     "name": "stdout",
     "output_type": "stream",
     "text": [
      "Best State Updated. Epoch: 5\n"
     ]
    },
    {
     "name": "stderr",
     "output_type": "stream",
     "text": [
      "  1%|          | 9/1000 [00:00<00:35, 27.64it/s]"
     ]
    },
    {
     "name": "stdout",
     "output_type": "stream",
     "text": [
      "Best State Updated. Epoch: 6\n",
      "Best State Updated. Epoch: 7\n",
      "Best State Updated. Epoch: 8\n",
      "Best State Updated. Epoch: 9\n"
     ]
    },
    {
     "name": "stderr",
     "output_type": "stream",
     "text": [
      "  1%|          | 12/1000 [00:00<00:35, 27.51it/s]"
     ]
    },
    {
     "name": "stdout",
     "output_type": "stream",
     "text": [
      "Best State Updated. Epoch: 11\n"
     ]
    },
    {
     "name": "stderr",
     "output_type": "stream",
     "text": [
      "  2%|▏         | 15/1000 [00:00<00:35, 27.59it/s]"
     ]
    },
    {
     "name": "stdout",
     "output_type": "stream",
     "text": [
      "Best State Updated. Epoch: 12\n",
      "Best State Updated. Epoch: 13\n",
      "Best State Updated. Epoch: 14\n",
      "Best State Updated. Epoch: 15\n"
     ]
    },
    {
     "name": "stderr",
     "output_type": "stream",
     "text": [
      "  2%|▏         | 21/1000 [00:00<00:44, 22.19it/s]"
     ]
    },
    {
     "name": "stdout",
     "output_type": "stream",
     "text": [
      "Best State Updated. Epoch: 16\n",
      "Best State Updated. Epoch: 17\n",
      "Best State Updated. Epoch: 18\n",
      "Best State Updated. Epoch: 19\n"
     ]
    },
    {
     "name": "stderr",
     "output_type": "stream",
     "text": [
      "  3%|▎         | 27/1000 [00:01<00:39, 24.90it/s]"
     ]
    },
    {
     "name": "stdout",
     "output_type": "stream",
     "text": [
      "Best State Updated. Epoch: 23\n",
      "Best State Updated. Epoch: 24\n",
      "Best State Updated. Epoch: 26\n"
     ]
    },
    {
     "name": "stderr",
     "output_type": "stream",
     "text": [
      "  4%|▎         | 36/1000 [00:01<00:35, 27.04it/s]"
     ]
    },
    {
     "name": "stdout",
     "output_type": "stream",
     "text": [
      "Best State Updated. Epoch: 30\n",
      "Best State Updated. Epoch: 31\n"
     ]
    },
    {
     "name": "stderr",
     "output_type": "stream",
     "text": [
      "  4%|▍         | 42/1000 [00:01<00:34, 27.65it/s]"
     ]
    },
    {
     "name": "stdout",
     "output_type": "stream",
     "text": [
      "Best State Updated. Epoch: 36\n",
      "Best State Updated. Epoch: 37\n",
      "Best State Updated. Epoch: 39\n"
     ]
    },
    {
     "name": "stderr",
     "output_type": "stream",
     "text": [
      "  5%|▌         | 54/1000 [00:02<00:34, 27.71it/s]"
     ]
    },
    {
     "name": "stdout",
     "output_type": "stream",
     "text": [
      "Best State Updated. Epoch: 48\n",
      "Best State Updated. Epoch: 49\n",
      "Best State Updated. Epoch: 51\n"
     ]
    },
    {
     "name": "stderr",
     "output_type": "stream",
     "text": [
      "  7%|▋         | 69/1000 [00:02<00:34, 27.29it/s]"
     ]
    },
    {
     "name": "stdout",
     "output_type": "stream",
     "text": [
      "Best State Updated. Epoch: 64\n",
      "Best State Updated. Epoch: 66\n",
      "Best State Updated. Epoch: 67\n"
     ]
    },
    {
     "name": "stderr",
     "output_type": "stream",
     "text": [
      "  8%|▊         | 75/1000 [00:02<00:41, 22.10it/s]"
     ]
    },
    {
     "name": "stdout",
     "output_type": "stream",
     "text": [
      "Best State Updated. Epoch: 71\n"
     ]
    },
    {
     "name": "stderr",
     "output_type": "stream",
     "text": [
      "  8%|▊         | 84/1000 [00:03<00:37, 24.49it/s]"
     ]
    },
    {
     "name": "stdout",
     "output_type": "stream",
     "text": [
      "Best State Updated. Epoch: 79\n",
      "Best State Updated. Epoch: 80\n",
      "Best State Updated. Epoch: 81\n",
      "Best State Updated. Epoch: 82\n"
     ]
    },
    {
     "name": "stderr",
     "output_type": "stream",
     "text": [
      " 10%|█         | 102/1000 [00:03<00:33, 27.05it/s]"
     ]
    },
    {
     "name": "stdout",
     "output_type": "stream",
     "text": [
      "Best State Updated. Epoch: 96\n"
     ]
    },
    {
     "name": "stderr",
     "output_type": "stream",
     "text": [
      " 14%|█▍        | 138/1000 [00:05<00:31, 27.08it/s]"
     ]
    },
    {
     "name": "stdout",
     "output_type": "stream",
     "text": [
      "Best State Updated. Epoch: 134\n",
      "Best State Updated. Epoch: 136\n",
      "Best State Updated. Epoch: 137\n"
     ]
    },
    {
     "name": "stderr",
     "output_type": "stream",
     "text": [
      " 25%|██▍       | 249/1000 [00:09<00:27, 26.85it/s]"
     ]
    },
    {
     "name": "stdout",
     "output_type": "stream",
     "text": [
      "Best State Updated. Epoch: 243\n",
      "Best State Updated. Epoch: 248\n"
     ]
    },
    {
     "name": "stderr",
     "output_type": "stream",
     "text": [
      " 32%|███▏      | 324/1000 [00:12<00:24, 27.76it/s]"
     ]
    },
    {
     "name": "stdout",
     "output_type": "stream",
     "text": [
      "Best State Updated. Epoch: 320\n"
     ]
    },
    {
     "name": "stderr",
     "output_type": "stream",
     "text": [
      " 42%|████▏     | 417/1000 [00:15<00:21, 27.09it/s]"
     ]
    },
    {
     "name": "stdout",
     "output_type": "stream",
     "text": [
      "Best State Updated. Epoch: 412\n",
      "Best State Updated. Epoch: 413\n"
     ]
    },
    {
     "name": "stderr",
     "output_type": "stream",
     "text": [
      " 51%|█████▏    | 513/1000 [00:19<00:18, 26.18it/s]"
     ]
    },
    {
     "name": "stdout",
     "output_type": "stream",
     "text": [
      "Best State Updated. Epoch: 509\n"
     ]
    },
    {
     "name": "stderr",
     "output_type": "stream",
     "text": [
      " 53%|█████▎    | 528/1000 [00:20<00:17, 26.59it/s]"
     ]
    },
    {
     "name": "stdout",
     "output_type": "stream",
     "text": [
      "Best State Updated. Epoch: 523\n"
     ]
    },
    {
     "name": "stderr",
     "output_type": "stream",
     "text": [
      " 56%|█████▌    | 555/1000 [00:21<00:18, 24.65it/s]"
     ]
    },
    {
     "name": "stdout",
     "output_type": "stream",
     "text": [
      "Best State Updated. Epoch: 549\n"
     ]
    },
    {
     "name": "stderr",
     "output_type": "stream",
     "text": [
      " 58%|█████▊    | 582/1000 [00:22<00:15, 27.00it/s]"
     ]
    },
    {
     "name": "stdout",
     "output_type": "stream",
     "text": [
      "Best State Updated. Epoch: 578\n"
     ]
    },
    {
     "name": "stderr",
     "output_type": "stream",
     "text": [
      " 62%|██████▏   | 615/1000 [00:23<00:15, 25.52it/s]"
     ]
    },
    {
     "name": "stdout",
     "output_type": "stream",
     "text": [
      "Best State Updated. Epoch: 610\n",
      "Best State Updated. Epoch: 611\n",
      "Best State Updated. Epoch: 612\n",
      "Best State Updated. Epoch: 613\n",
      "Best State Updated. Epoch: 614\n"
     ]
    },
    {
     "name": "stderr",
     "output_type": "stream",
     "text": [
      " 91%|█████████ | 912/1000 [00:35<00:03, 26.69it/s]"
     ]
    },
    {
     "name": "stdout",
     "output_type": "stream",
     "text": [
      "Best State Updated. Epoch: 906\n",
      "Best State Updated. Epoch: 907\n"
     ]
    },
    {
     "name": "stderr",
     "output_type": "stream",
     "text": [
      "100%|█████████▉| 999/1000 [00:38<00:00, 28.46it/s]"
     ]
    },
    {
     "data": {
      "image/png": "[encoded data removed]",
      "text/plain": [
       "<Figure size 640x480 with 2 Axes>"
      ]
     },
     "metadata": {},
     "output_type": "display_data"
    },
    {
     "name": "stderr",
     "output_type": "stream",
     "text": [
      "100%|██████████| 1000/1000 [00:41<00:00, 24.20it/s]"
     ]
    },
    {
     "name": "stdout",
     "output_type": "stream",
     "text": [
      " Best Test Loss: 0.00029806705424562097\n"
     ]
    },
    {
     "name": "stderr",
     "output_type": "stream",
     "text": [
      "\n"
     ]
    }
   ],
   "source": [
    "# Optimize model\n",
    "\n",
    "network_dict = {\n",
    "    \"network\": VariableANN,\n",
    "    \"kwargs\": {\"input_size\": 4},\n",
    "    \"optimize_kwargs\": {\n",
    "        \"dropout\": {\"name\": \"dropout\", \"low\": 0.0, \"high\": 0.5, \"step\": 0.05},\n",
    "        \"neurons\": {\"name\": \"neurons\", \"low\": 16, \"high\": 256, \"step\": 16, \"multi\": np.random.randint(3, 6)},\n",
    "    },\n",
    "}\n",
    "\n",
    "\n",
    "optimizer_dict = {\n",
    "    \"optimizer\": optim.Adam,\n",
    "    \"kwargs\": {},\n",
    "    \"optimize_kwargs\": {\n",
    "        \"lr\": {\"name\": \"lr\", \"low\": 1e-5, \"high\": 1e-1, \"log\": True},\n",
    "        \"weight_decay\": {\"name\": \"weight_decay\", \"low\": 1e-5, \"high\": 1e-3, \"log\": True},\n",
    "    },\n",
    "}\n",
    "\n",
    "best_network, best_optimizer = model.optimize_network(\n",
    "    trial_count, \"minimize\", network_dict, optimizer_dict, loss_fn, epochs\n",
    ")\n",
    "\n",
    "trained_net = model.train_model(\"Model1\", best_network, best_optimizer, loss_fn, 1000, plot_output=True)"
   ]
  },
  {
   "cell_type": "code",
   "execution_count": 25,
   "metadata": {},
   "outputs": [
    {
     "name": "stdout",
     "output_type": "stream",
     "text": [
      "RMSE: 0.021364\n",
      "MAE: 0.016799\n"
     ]
    }
   ],
   "source": [
    "test_rmse, _, test_predictions = model.validate_model(trained_net, \"test\")"
   ]
  },
  {
   "cell_type": "markdown",
   "metadata": {},
   "source": [
    "## Optimization"
   ]
  },
  {
   "cell_type": "code",
   "execution_count": 1,
   "metadata": {},
   "outputs": [],
   "source": [
    "def run_fn(radius, target_phi):\n",
    "    freq = freq0\n",
    "    feature_array = np.array((radius, radius, 0, freq))\n",
    "    feature_array = feature_array.reshape((1, -1))\n",
    "    prediction = model.make_prediction(trained_net, True, feature_array, 2)\n",
    "    comp_num = prediction[0] + prediction[1] * 1j\n",
    "    transmission = np.abs(comp_num)\n",
    "    theta = np.angle(comp_num)\n",
    "\n",
    "    return transmission * np.cos(target_phi - theta)"
   ]
  },
  {
   "cell_type": "markdown",
   "metadata": {},
   "source": [
    "Determine desired metalens values"
   ]
  },
  {
   "cell_type": "code",
   "execution_count": null,
   "metadata": {},
   "outputs": [],
   "source": [
    "R = 50 * lda0  # radius of the designed metalens\n",
    "\n",
    "# define a grid of cells\n",
    "r = np.arange(0, R, P)\n",
    "print(f\"The number of unit cells is {len(r)**2}.\")\n",
    "X, Y = np.meshgrid(r, r)\n",
    "\n",
    "NA = 0.6  # numerical aperture of the designed metalens\n",
    "\n",
    "f = R / NA * np.sqrt(1 - NA**2)  # focal length\n",
    "print(f\"The diameter of the metalens is {2*R/1e3:.3f} mm. The focal length is {f/1e3:.3f} mm.\")\n",
    "\n",
    "# desired phase profile\n",
    "phi_map = (2 * np.pi * (f - np.sqrt(X**2 + Y**2 + f**2)) / lda0) % (-2 * np.pi) + np.pi\n",
    "\n",
    "# plot the desired phase profile\n",
    "plt.pcolormesh(X, Y, phi_map, cmap=\"binary\")\n",
    "plt.colorbar()\n",
    "plt.show()"
   ]
  },
  {
   "cell_type": "markdown",
   "metadata": {},
   "source": [
    "Break the phi map down into X points and optimise structures for those points"
   ]
  },
  {
   "cell_type": "code",
   "execution_count": 34,
   "metadata": {},
   "outputs": [],
   "source": [
    "optimization_points = 50\n",
    "phi_range = np.linspace(phi_map.min(), phi_map.max(), optimization_points)"
   ]
  },
  {
   "cell_type": "code",
   "execution_count": 35,
   "metadata": {},
   "outputs": [
    {
     "data": {
      "text/html": [
       "<pre style=\"white-space:pre;overflow-x:auto;line-height:normal;font-family:Menlo,'DejaVu Sans Mono',consolas,'Courier New',monospace\"><span style=\"color: #7fbfbf; text-decoration-color: #7fbfbf\">10:50:15 BST </span>Best Fit from Initial Solutions: <span style=\"color: #008080; text-decoration-color: #008080; font-weight: bold\">0.861</span>                             \n",
       "<span style=\"color: #7fbfbf; text-decoration-color: #7fbfbf\">             </span>                                                                   \n",
       "</pre>\n"
      ],
      "text/plain": [
       "\u001b[2;36m10:50:15 BST\u001b[0m\u001b[2;36m \u001b[0mBest Fit from Initial Solutions: \u001b[1;36m0.861\u001b[0m                             \n",
       "\u001b[2;36m             \u001b[0m                                                                   \n"
      ]
     },
     "metadata": {},
     "output_type": "display_data"
    },
    {
     "data": {
      "text/html": [
       "<pre style=\"white-space:pre;overflow-x:auto;line-height:normal;font-family:Menlo,'DejaVu Sans Mono',consolas,'Courier New',monospace\"><span style=\"color: #7fbfbf; text-decoration-color: #7fbfbf\">             </span>Latest Best Fit on Iter <span style=\"color: #008080; text-decoration-color: #008080; font-weight: bold\">0</span>: <span style=\"color: #008080; text-decoration-color: #008080; font-weight: bold\">0.861</span>                                   \n",
       "<span style=\"color: #7fbfbf; text-decoration-color: #7fbfbf\">             </span>                                                                   \n",
       "</pre>\n"
      ],
      "text/plain": [
       "\u001b[2;36m            \u001b[0m\u001b[2;36m \u001b[0mLatest Best Fit on Iter \u001b[1;36m0\u001b[0m: \u001b[1;36m0.861\u001b[0m                                   \n",
       "\u001b[2;36m             \u001b[0m                                                                   \n"
      ]
     },
     "metadata": {},
     "output_type": "display_data"
    },
    {
     "name": "stdout",
     "output_type": "stream",
     "text": [
      "\u001b[91mData point [ 0.75       -3.14141227] is not unique. 1 duplicates registered. Continuing ...\u001b[0m\n",
      "\u001b[91mData point [ 0.75       -3.14141227] is not unique. 2 duplicates registered. Continuing ...\u001b[0m\n",
      "\u001b[91mData point [ 0.75       -3.14141227] is not unique. 3 duplicates registered. Continuing ...\u001b[0m\n",
      "\u001b[91mData point [ 0.75       -3.14141227] is not unique. 4 duplicates registered. Continuing ...\u001b[0m\n"
     ]
    },
    {
     "data": {
      "text/html": [
       "<pre style=\"white-space:pre;overflow-x:auto;line-height:normal;font-family:Menlo,'DejaVu Sans Mono',consolas,'Courier New',monospace\"><span style=\"color: #7fbfbf; text-decoration-color: #7fbfbf\">10:50:17 BST </span>Best Result: <span style=\"color: #008080; text-decoration-color: #008080; font-weight: bold\">0.8607455100407736</span>                                    \n",
       "<span style=\"color: #7fbfbf; text-decoration-color: #7fbfbf\">             </span>Best Parameters: radius: <span style=\"color: #008080; text-decoration-color: #008080; font-weight: bold\">0.75</span> target_phi: <span style=\"color: #008080; text-decoration-color: #008080; font-weight: bold\">-3.1414122660566726</span>      \n",
       "<span style=\"color: #7fbfbf; text-decoration-color: #7fbfbf\">             </span>                                                                   \n",
       "</pre>\n"
      ],
      "text/plain": [
       "\u001b[2;36m10:50:17 BST\u001b[0m\u001b[2;36m \u001b[0mBest Result: \u001b[1;36m0.8607455100407736\u001b[0m                                    \n",
       "\u001b[2;36m             \u001b[0mBest Parameters: radius: \u001b[1;36m0.75\u001b[0m target_phi: \u001b[1;36m-3.1414122660566726\u001b[0m      \n",
       "\u001b[2;36m             \u001b[0m                                                                   \n"
      ]
     },
     "metadata": {},
     "output_type": "display_data"
    },
    {
     "data": {
      "text/html": [
       "<pre style=\"white-space:pre;overflow-x:auto;line-height:normal;font-family:Menlo,'DejaVu Sans Mono',consolas,'Courier New',monospace\"><span style=\"color: #7fbfbf; text-decoration-color: #7fbfbf\">             </span>Best Fit from Initial Solutions: <span style=\"color: #008080; text-decoration-color: #008080; font-weight: bold\">0.87</span>                              \n",
       "<span style=\"color: #7fbfbf; text-decoration-color: #7fbfbf\">             </span>                                                                   \n",
       "</pre>\n"
      ],
      "text/plain": [
       "\u001b[2;36m            \u001b[0m\u001b[2;36m \u001b[0mBest Fit from Initial Solutions: \u001b[1;36m0.87\u001b[0m                              \n",
       "\u001b[2;36m             \u001b[0m                                                                   \n"
      ]
     },
     "metadata": {},
     "output_type": "display_data"
    },
    {
     "data": {
      "text/html": [
       "<pre style=\"white-space:pre;overflow-x:auto;line-height:normal;font-family:Menlo,'DejaVu Sans Mono',consolas,'Courier New',monospace\"><span style=\"color: #7fbfbf; text-decoration-color: #7fbfbf\">10:50:18 BST </span>Latest Best Fit on Iter <span style=\"color: #008080; text-decoration-color: #008080; font-weight: bold\">0</span>: <span style=\"color: #008080; text-decoration-color: #008080; font-weight: bold\">0.87</span>                                    \n",
       "<span style=\"color: #7fbfbf; text-decoration-color: #7fbfbf\">             </span>                                                                   \n",
       "</pre>\n"
      ],
      "text/plain": [
       "\u001b[2;36m10:50:18 BST\u001b[0m\u001b[2;36m \u001b[0mLatest Best Fit on Iter \u001b[1;36m0\u001b[0m: \u001b[1;36m0.87\u001b[0m                                    \n",
       "\u001b[2;36m             \u001b[0m                                                                   \n"
      ]
     },
     "metadata": {},
     "output_type": "display_data"
    },
    {
     "name": "stdout",
     "output_type": "stream",
     "text": [
      "\u001b[91mData point [ 0.75       -3.01318768] is not unique. 1 duplicates registered. Continuing ...\u001b[0m\n",
      "\u001b[91mData point [ 0.75       -3.01318768] is not unique. 2 duplicates registered. Continuing ...\u001b[0m\n",
      "\u001b[91mData point [ 0.75       -3.01318768] is not unique. 3 duplicates registered. Continuing ...\u001b[0m\n",
      "\u001b[91mData point [ 0.75       -3.01318768] is not unique. 4 duplicates registered. Continuing ...\u001b[0m\n"
     ]
    },
    {
     "data": {
      "text/html": [
       "<pre style=\"white-space:pre;overflow-x:auto;line-height:normal;font-family:Menlo,'DejaVu Sans Mono',consolas,'Courier New',monospace\"><span style=\"color: #7fbfbf; text-decoration-color: #7fbfbf\">10:50:20 BST </span>Best Result: <span style=\"color: #008080; text-decoration-color: #008080; font-weight: bold\">0.8703313238302106</span>                                    \n",
       "<span style=\"color: #7fbfbf; text-decoration-color: #7fbfbf\">             </span>Best Parameters: radius: <span style=\"color: #008080; text-decoration-color: #008080; font-weight: bold\">0.75</span> target_phi: <span style=\"color: #008080; text-decoration-color: #008080; font-weight: bold\">-3.0131876758598057</span>      \n",
       "<span style=\"color: #7fbfbf; text-decoration-color: #7fbfbf\">             </span>                                                                   \n",
       "</pre>\n"
      ],
      "text/plain": [
       "\u001b[2;36m10:50:20 BST\u001b[0m\u001b[2;36m \u001b[0mBest Result: \u001b[1;36m0.8703313238302106\u001b[0m                                    \n",
       "\u001b[2;36m             \u001b[0mBest Parameters: radius: \u001b[1;36m0.75\u001b[0m target_phi: \u001b[1;36m-3.0131876758598057\u001b[0m      \n",
       "\u001b[2;36m             \u001b[0m                                                                   \n"
      ]
     },
     "metadata": {},
     "output_type": "display_data"
    },
    {
     "data": {
      "text/html": [
       "<pre style=\"white-space:pre;overflow-x:auto;line-height:normal;font-family:Menlo,'DejaVu Sans Mono',consolas,'Courier New',monospace\"><span style=\"color: #7fbfbf; text-decoration-color: #7fbfbf\">             </span>Best Fit from Initial Solutions: <span style=\"color: #008080; text-decoration-color: #008080; font-weight: bold\">0.866</span>                             \n",
       "<span style=\"color: #7fbfbf; text-decoration-color: #7fbfbf\">             </span>                                                                   \n",
       "</pre>\n"
      ],
      "text/plain": [
       "\u001b[2;36m            \u001b[0m\u001b[2;36m \u001b[0mBest Fit from Initial Solutions: \u001b[1;36m0.866\u001b[0m                             \n",
       "\u001b[2;36m             \u001b[0m                                                                   \n"
      ]
     },
     "metadata": {},
     "output_type": "display_data"
    },
    {
     "data": {
      "text/html": [
       "<pre style=\"white-space:pre;overflow-x:auto;line-height:normal;font-family:Menlo,'DejaVu Sans Mono',consolas,'Courier New',monospace\"><span style=\"color: #7fbfbf; text-decoration-color: #7fbfbf\">10:50:21 BST </span>Latest Best Fit on Iter <span style=\"color: #008080; text-decoration-color: #008080; font-weight: bold\">1</span>: <span style=\"color: #008080; text-decoration-color: #008080; font-weight: bold\">0.866</span>                                   \n",
       "<span style=\"color: #7fbfbf; text-decoration-color: #7fbfbf\">             </span>                                                                   \n",
       "</pre>\n"
      ],
      "text/plain": [
       "\u001b[2;36m10:50:21 BST\u001b[0m\u001b[2;36m \u001b[0mLatest Best Fit on Iter \u001b[1;36m1\u001b[0m: \u001b[1;36m0.866\u001b[0m                                   \n",
       "\u001b[2;36m             \u001b[0m                                                                   \n"
      ]
     },
     "metadata": {},
     "output_type": "display_data"
    },
    {
     "name": "stdout",
     "output_type": "stream",
     "text": [
      "\u001b[91mData point [ 0.75       -2.88496309] is not unique. 1 duplicates registered. Continuing ...\u001b[0m\n",
      "\u001b[91mData point [ 0.75       -2.88496309] is not unique. 2 duplicates registered. Continuing ...\u001b[0m\n"
     ]
    },
    {
     "data": {
      "text/html": [
       "<pre style=\"white-space:pre;overflow-x:auto;line-height:normal;font-family:Menlo,'DejaVu Sans Mono',consolas,'Courier New',monospace\"><span style=\"color: #7fbfbf; text-decoration-color: #7fbfbf\">10:50:23 BST </span>Best Result: <span style=\"color: #008080; text-decoration-color: #008080; font-weight: bold\">0.865627140773922</span>                                     \n",
       "<span style=\"color: #7fbfbf; text-decoration-color: #7fbfbf\">             </span>Best Parameters: radius: <span style=\"color: #008080; text-decoration-color: #008080; font-weight: bold\">0.75</span> target_phi: <span style=\"color: #008080; text-decoration-color: #008080; font-weight: bold\">-2.8849630856629394</span>      \n",
       "<span style=\"color: #7fbfbf; text-decoration-color: #7fbfbf\">             </span>                                                                   \n",
       "</pre>\n"
      ],
      "text/plain": [
       "\u001b[2;36m10:50:23 BST\u001b[0m\u001b[2;36m \u001b[0mBest Result: \u001b[1;36m0.865627140773922\u001b[0m                                     \n",
       "\u001b[2;36m             \u001b[0mBest Parameters: radius: \u001b[1;36m0.75\u001b[0m target_phi: \u001b[1;36m-2.8849630856629394\u001b[0m      \n",
       "\u001b[2;36m             \u001b[0m                                                                   \n"
      ]
     },
     "metadata": {},
     "output_type": "display_data"
    },
    {
     "data": {
      "text/html": [
       "<pre style=\"white-space:pre;overflow-x:auto;line-height:normal;font-family:Menlo,'DejaVu Sans Mono',consolas,'Courier New',monospace\"><span style=\"color: #7fbfbf; text-decoration-color: #7fbfbf\">             </span>Best Fit from Initial Solutions: <span style=\"color: #008080; text-decoration-color: #008080; font-weight: bold\">0.86</span>                              \n",
       "<span style=\"color: #7fbfbf; text-decoration-color: #7fbfbf\">             </span>                                                                   \n",
       "</pre>\n"
      ],
      "text/plain": [
       "\u001b[2;36m            \u001b[0m\u001b[2;36m \u001b[0mBest Fit from Initial Solutions: \u001b[1;36m0.86\u001b[0m                              \n",
       "\u001b[2;36m             \u001b[0m                                                                   \n"
      ]
     },
     "metadata": {},
     "output_type": "display_data"
    },
    {
     "data": {
      "text/html": [
       "<pre style=\"white-space:pre;overflow-x:auto;line-height:normal;font-family:Menlo,'DejaVu Sans Mono',consolas,'Courier New',monospace\"><span style=\"color: #7fbfbf; text-decoration-color: #7fbfbf\">10:50:25 BST </span>Latest Best Fit on Iter <span style=\"color: #008080; text-decoration-color: #008080; font-weight: bold\">3</span>: <span style=\"color: #008080; text-decoration-color: #008080; font-weight: bold\">0.861</span>                                   \n",
       "<span style=\"color: #7fbfbf; text-decoration-color: #7fbfbf\">             </span>                                                                   \n",
       "</pre>\n"
      ],
      "text/plain": [
       "\u001b[2;36m10:50:25 BST\u001b[0m\u001b[2;36m \u001b[0mLatest Best Fit on Iter \u001b[1;36m3\u001b[0m: \u001b[1;36m0.861\u001b[0m                                   \n",
       "\u001b[2;36m             \u001b[0m                                                                   \n"
      ]
     },
     "metadata": {},
     "output_type": "display_data"
    },
    {
     "data": {
      "text/html": [
       "<pre style=\"white-space:pre;overflow-x:auto;line-height:normal;font-family:Menlo,'DejaVu Sans Mono',consolas,'Courier New',monospace\"><span style=\"color: #7fbfbf; text-decoration-color: #7fbfbf\">             </span>Best Result: <span style=\"color: #008080; text-decoration-color: #008080; font-weight: bold\">0.8605290370563498</span>                                    \n",
       "<span style=\"color: #7fbfbf; text-decoration-color: #7fbfbf\">             </span>Best Parameters: radius: <span style=\"color: #008080; text-decoration-color: #008080; font-weight: bold\">0.8366486322936817</span> target_phi:            \n",
       "<span style=\"color: #7fbfbf; text-decoration-color: #7fbfbf\">             </span><span style=\"color: #008080; text-decoration-color: #008080; font-weight: bold\">-2.7567384954660725</span>                                                \n",
       "<span style=\"color: #7fbfbf; text-decoration-color: #7fbfbf\">             </span>                                                                   \n",
       "</pre>\n"
      ],
      "text/plain": [
       "\u001b[2;36m            \u001b[0m\u001b[2;36m \u001b[0mBest Result: \u001b[1;36m0.8605290370563498\u001b[0m                                    \n",
       "\u001b[2;36m             \u001b[0mBest Parameters: radius: \u001b[1;36m0.8366486322936817\u001b[0m target_phi:            \n",
       "\u001b[2;36m             \u001b[0m\u001b[1;36m-2.7567384954660725\u001b[0m                                                \n",
       "\u001b[2;36m             \u001b[0m                                                                   \n"
      ]
     },
     "metadata": {},
     "output_type": "display_data"
    },
    {
     "data": {
      "text/html": [
       "<pre style=\"white-space:pre;overflow-x:auto;line-height:normal;font-family:Menlo,'DejaVu Sans Mono',consolas,'Courier New',monospace\"><span style=\"color: #7fbfbf; text-decoration-color: #7fbfbf\">10:50:26 BST </span>Best Fit from Initial Solutions: <span style=\"color: #008080; text-decoration-color: #008080; font-weight: bold\">0.86</span>                              \n",
       "<span style=\"color: #7fbfbf; text-decoration-color: #7fbfbf\">             </span>                                                                   \n",
       "</pre>\n"
      ],
      "text/plain": [
       "\u001b[2;36m10:50:26 BST\u001b[0m\u001b[2;36m \u001b[0mBest Fit from Initial Solutions: \u001b[1;36m0.86\u001b[0m                              \n",
       "\u001b[2;36m             \u001b[0m                                                                   \n"
      ]
     },
     "metadata": {},
     "output_type": "display_data"
    },
    {
     "data": {
      "text/html": [
       "<pre style=\"white-space:pre;overflow-x:auto;line-height:normal;font-family:Menlo,'DejaVu Sans Mono',consolas,'Courier New',monospace\"><span style=\"color: #7fbfbf; text-decoration-color: #7fbfbf\">10:50:30 BST </span>Best Result: <span style=\"color: #008080; text-decoration-color: #008080; font-weight: bold\">0.8595400950303923</span>                                    \n",
       "<span style=\"color: #7fbfbf; text-decoration-color: #7fbfbf\">             </span>Best Parameters: radius: <span style=\"color: #008080; text-decoration-color: #008080; font-weight: bold\">0.9005942011037571</span> target_phi:            \n",
       "<span style=\"color: #7fbfbf; text-decoration-color: #7fbfbf\">             </span><span style=\"color: #008080; text-decoration-color: #008080; font-weight: bold\">-2.628513905269206</span>                                                 \n",
       "<span style=\"color: #7fbfbf; text-decoration-color: #7fbfbf\">             </span>                                                                   \n",
       "</pre>\n"
      ],
      "text/plain": [
       "\u001b[2;36m10:50:30 BST\u001b[0m\u001b[2;36m \u001b[0mBest Result: \u001b[1;36m0.8595400950303923\u001b[0m                                    \n",
       "\u001b[2;36m             \u001b[0mBest Parameters: radius: \u001b[1;36m0.9005942011037571\u001b[0m target_phi:            \n",
       "\u001b[2;36m             \u001b[0m\u001b[1;36m-2.628513905269206\u001b[0m                                                 \n",
       "\u001b[2;36m             \u001b[0m                                                                   \n"
      ]
     },
     "metadata": {},
     "output_type": "display_data"
    },
    {
     "data": {
      "text/html": [
       "<pre style=\"white-space:pre;overflow-x:auto;line-height:normal;font-family:Menlo,'DejaVu Sans Mono',consolas,'Courier New',monospace\"><span style=\"color: #7fbfbf; text-decoration-color: #7fbfbf\">10:50:31 BST </span>Best Fit from Initial Solutions: <span style=\"color: #008080; text-decoration-color: #008080; font-weight: bold\">0.864</span>                             \n",
       "<span style=\"color: #7fbfbf; text-decoration-color: #7fbfbf\">             </span>                                                                   \n",
       "</pre>\n"
      ],
      "text/plain": [
       "\u001b[2;36m10:50:31 BST\u001b[0m\u001b[2;36m \u001b[0mBest Fit from Initial Solutions: \u001b[1;36m0.864\u001b[0m                             \n",
       "\u001b[2;36m             \u001b[0m                                                                   \n"
      ]
     },
     "metadata": {},
     "output_type": "display_data"
    },
    {
     "data": {
      "text/html": [
       "<pre style=\"white-space:pre;overflow-x:auto;line-height:normal;font-family:Menlo,'DejaVu Sans Mono',consolas,'Courier New',monospace\"><span style=\"color: #7fbfbf; text-decoration-color: #7fbfbf\">10:50:34 BST </span>Best Result: <span style=\"color: #008080; text-decoration-color: #008080; font-weight: bold\">0.8635065360107571</span>                                    \n",
       "<span style=\"color: #7fbfbf; text-decoration-color: #7fbfbf\">             </span>Best Parameters: radius: <span style=\"color: #008080; text-decoration-color: #008080; font-weight: bold\">0.9005942011037571</span> target_phi:            \n",
       "<span style=\"color: #7fbfbf; text-decoration-color: #7fbfbf\">             </span><span style=\"color: #008080; text-decoration-color: #008080; font-weight: bold\">-2.5002893150723393</span>                                                \n",
       "<span style=\"color: #7fbfbf; text-decoration-color: #7fbfbf\">             </span>                                                                   \n",
       "</pre>\n"
      ],
      "text/plain": [
       "\u001b[2;36m10:50:34 BST\u001b[0m\u001b[2;36m \u001b[0mBest Result: \u001b[1;36m0.8635065360107571\u001b[0m                                    \n",
       "\u001b[2;36m             \u001b[0mBest Parameters: radius: \u001b[1;36m0.9005942011037571\u001b[0m target_phi:            \n",
       "\u001b[2;36m             \u001b[0m\u001b[1;36m-2.5002893150723393\u001b[0m                                                \n",
       "\u001b[2;36m             \u001b[0m                                                                   \n"
      ]
     },
     "metadata": {},
     "output_type": "display_data"
    },
    {
     "data": {
      "text/html": [
       "<pre style=\"white-space:pre;overflow-x:auto;line-height:normal;font-family:Menlo,'DejaVu Sans Mono',consolas,'Courier New',monospace\"><span style=\"color: #7fbfbf; text-decoration-color: #7fbfbf\">             </span>Best Fit from Initial Solutions: <span style=\"color: #008080; text-decoration-color: #008080; font-weight: bold\">0.863</span>                             \n",
       "<span style=\"color: #7fbfbf; text-decoration-color: #7fbfbf\">             </span>                                                                   \n",
       "</pre>\n"
      ],
      "text/plain": [
       "\u001b[2;36m            \u001b[0m\u001b[2;36m \u001b[0mBest Fit from Initial Solutions: \u001b[1;36m0.863\u001b[0m                             \n",
       "\u001b[2;36m             \u001b[0m                                                                   \n"
      ]
     },
     "metadata": {},
     "output_type": "display_data"
    },
    {
     "data": {
      "text/html": [
       "<pre style=\"white-space:pre;overflow-x:auto;line-height:normal;font-family:Menlo,'DejaVu Sans Mono',consolas,'Courier New',monospace\"><span style=\"color: #7fbfbf; text-decoration-color: #7fbfbf\">             </span>Latest Best Fit on Iter <span style=\"color: #008080; text-decoration-color: #008080; font-weight: bold\">0</span>: <span style=\"color: #008080; text-decoration-color: #008080; font-weight: bold\">0.863</span>                                   \n",
       "<span style=\"color: #7fbfbf; text-decoration-color: #7fbfbf\">             </span>                                                                   \n",
       "</pre>\n"
      ],
      "text/plain": [
       "\u001b[2;36m            \u001b[0m\u001b[2;36m \u001b[0mLatest Best Fit on Iter \u001b[1;36m0\u001b[0m: \u001b[1;36m0.863\u001b[0m                                   \n",
       "\u001b[2;36m             \u001b[0m                                                                   \n"
      ]
     },
     "metadata": {},
     "output_type": "display_data"
    },
    {
     "data": {
      "text/html": [
       "<pre style=\"white-space:pre;overflow-x:auto;line-height:normal;font-family:Menlo,'DejaVu Sans Mono',consolas,'Courier New',monospace\"><span style=\"color: #7fbfbf; text-decoration-color: #7fbfbf\">10:50:35 BST </span>Latest Best Fit on Iter <span style=\"color: #008080; text-decoration-color: #008080; font-weight: bold\">1</span>: <span style=\"color: #008080; text-decoration-color: #008080; font-weight: bold\">0.863</span>                                   \n",
       "<span style=\"color: #7fbfbf; text-decoration-color: #7fbfbf\">             </span>                                                                   \n",
       "</pre>\n"
      ],
      "text/plain": [
       "\u001b[2;36m10:50:35 BST\u001b[0m\u001b[2;36m \u001b[0mLatest Best Fit on Iter \u001b[1;36m1\u001b[0m: \u001b[1;36m0.863\u001b[0m                                   \n",
       "\u001b[2;36m             \u001b[0m                                                                   \n"
      ]
     },
     "metadata": {},
     "output_type": "display_data"
    },
    {
     "data": {
      "text/html": [
       "<pre style=\"white-space:pre;overflow-x:auto;line-height:normal;font-family:Menlo,'DejaVu Sans Mono',consolas,'Courier New',monospace\"><span style=\"color: #7fbfbf; text-decoration-color: #7fbfbf\">10:50:37 BST </span>Best Result: <span style=\"color: #008080; text-decoration-color: #008080; font-weight: bold\">0.8632262186907096</span>                                    \n",
       "<span style=\"color: #7fbfbf; text-decoration-color: #7fbfbf\">             </span>Best Parameters: radius: <span style=\"color: #008080; text-decoration-color: #008080; font-weight: bold\">0.956648778864789</span> target_phi:             \n",
       "<span style=\"color: #7fbfbf; text-decoration-color: #7fbfbf\">             </span><span style=\"color: #008080; text-decoration-color: #008080; font-weight: bold\">-2.3720647248754725</span>                                                \n",
       "<span style=\"color: #7fbfbf; text-decoration-color: #7fbfbf\">             </span>                                                                   \n",
       "</pre>\n"
      ],
      "text/plain": [
       "\u001b[2;36m10:50:37 BST\u001b[0m\u001b[2;36m \u001b[0mBest Result: \u001b[1;36m0.8632262186907096\u001b[0m                                    \n",
       "\u001b[2;36m             \u001b[0mBest Parameters: radius: \u001b[1;36m0.956648778864789\u001b[0m target_phi:             \n",
       "\u001b[2;36m             \u001b[0m\u001b[1;36m-2.3720647248754725\u001b[0m                                                \n",
       "\u001b[2;36m             \u001b[0m                                                                   \n"
      ]
     },
     "metadata": {},
     "output_type": "display_data"
    },
    {
     "data": {
      "text/html": [
       "<pre style=\"white-space:pre;overflow-x:auto;line-height:normal;font-family:Menlo,'DejaVu Sans Mono',consolas,'Courier New',monospace\"><span style=\"color: #7fbfbf; text-decoration-color: #7fbfbf\">10:50:38 BST </span>Best Fit from Initial Solutions: <span style=\"color: #008080; text-decoration-color: #008080; font-weight: bold\">0.864</span>                             \n",
       "<span style=\"color: #7fbfbf; text-decoration-color: #7fbfbf\">             </span>                                                                   \n",
       "</pre>\n"
      ],
      "text/plain": [
       "\u001b[2;36m10:50:38 BST\u001b[0m\u001b[2;36m \u001b[0mBest Fit from Initial Solutions: \u001b[1;36m0.864\u001b[0m                             \n",
       "\u001b[2;36m             \u001b[0m                                                                   \n"
      ]
     },
     "metadata": {},
     "output_type": "display_data"
    },
    {
     "data": {
      "text/html": [
       "<pre style=\"white-space:pre;overflow-x:auto;line-height:normal;font-family:Menlo,'DejaVu Sans Mono',consolas,'Courier New',monospace\"><span style=\"color: #7fbfbf; text-decoration-color: #7fbfbf\">             </span>Latest Best Fit on Iter <span style=\"color: #008080; text-decoration-color: #008080; font-weight: bold\">0</span>: <span style=\"color: #008080; text-decoration-color: #008080; font-weight: bold\">0.864</span>                                   \n",
       "<span style=\"color: #7fbfbf; text-decoration-color: #7fbfbf\">             </span>                                                                   \n",
       "</pre>\n"
      ],
      "text/plain": [
       "\u001b[2;36m            \u001b[0m\u001b[2;36m \u001b[0mLatest Best Fit on Iter \u001b[1;36m0\u001b[0m: \u001b[1;36m0.864\u001b[0m                                   \n",
       "\u001b[2;36m             \u001b[0m                                                                   \n"
      ]
     },
     "metadata": {},
     "output_type": "display_data"
    },
    {
     "data": {
      "text/html": [
       "<pre style=\"white-space:pre;overflow-x:auto;line-height:normal;font-family:Menlo,'DejaVu Sans Mono',consolas,'Courier New',monospace\"><span style=\"color: #7fbfbf; text-decoration-color: #7fbfbf\">10:50:42 BST </span>Best Result: <span style=\"color: #008080; text-decoration-color: #008080; font-weight: bold\">0.8639666606847201</span>                                    \n",
       "<span style=\"color: #7fbfbf; text-decoration-color: #7fbfbf\">             </span>Best Parameters: radius: <span style=\"color: #008080; text-decoration-color: #008080; font-weight: bold\">0.959508963768946</span> target_phi:             \n",
       "<span style=\"color: #7fbfbf; text-decoration-color: #7fbfbf\">             </span><span style=\"color: #008080; text-decoration-color: #008080; font-weight: bold\">-2.243840134678606</span>                                                 \n",
       "<span style=\"color: #7fbfbf; text-decoration-color: #7fbfbf\">             </span>                                                                   \n",
       "</pre>\n"
      ],
      "text/plain": [
       "\u001b[2;36m10:50:42 BST\u001b[0m\u001b[2;36m \u001b[0mBest Result: \u001b[1;36m0.8639666606847201\u001b[0m                                    \n",
       "\u001b[2;36m             \u001b[0mBest Parameters: radius: \u001b[1;36m0.959508963768946\u001b[0m target_phi:             \n",
       "\u001b[2;36m             \u001b[0m\u001b[1;36m-2.243840134678606\u001b[0m                                                 \n",
       "\u001b[2;36m             \u001b[0m                                                                   \n"
      ]
     },
     "metadata": {},
     "output_type": "display_data"
    },
    {
     "data": {
      "text/html": [
       "<pre style=\"white-space:pre;overflow-x:auto;line-height:normal;font-family:Menlo,'DejaVu Sans Mono',consolas,'Courier New',monospace\"><span style=\"color: #7fbfbf; text-decoration-color: #7fbfbf\">             </span>Best Fit from Initial Solutions: <span style=\"color: #008080; text-decoration-color: #008080; font-weight: bold\">0.85</span>                              \n",
       "<span style=\"color: #7fbfbf; text-decoration-color: #7fbfbf\">             </span>                                                                   \n",
       "</pre>\n"
      ],
      "text/plain": [
       "\u001b[2;36m            \u001b[0m\u001b[2;36m \u001b[0mBest Fit from Initial Solutions: \u001b[1;36m0.85\u001b[0m                              \n",
       "\u001b[2;36m             \u001b[0m                                                                   \n"
      ]
     },
     "metadata": {},
     "output_type": "display_data"
    },
    {
     "data": {
      "text/html": [
       "<pre style=\"white-space:pre;overflow-x:auto;line-height:normal;font-family:Menlo,'DejaVu Sans Mono',consolas,'Courier New',monospace\"><span style=\"color: #7fbfbf; text-decoration-color: #7fbfbf\">             </span>Latest Best Fit on Iter <span style=\"color: #008080; text-decoration-color: #008080; font-weight: bold\">0</span>: <span style=\"color: #008080; text-decoration-color: #008080; font-weight: bold\">0.85</span>                                    \n",
       "<span style=\"color: #7fbfbf; text-decoration-color: #7fbfbf\">             </span>                                                                   \n",
       "</pre>\n"
      ],
      "text/plain": [
       "\u001b[2;36m            \u001b[0m\u001b[2;36m \u001b[0mLatest Best Fit on Iter \u001b[1;36m0\u001b[0m: \u001b[1;36m0.85\u001b[0m                                    \n",
       "\u001b[2;36m             \u001b[0m                                                                   \n"
      ]
     },
     "metadata": {},
     "output_type": "display_data"
    },
    {
     "data": {
      "text/html": [
       "<pre style=\"white-space:pre;overflow-x:auto;line-height:normal;font-family:Menlo,'DejaVu Sans Mono',consolas,'Courier New',monospace\"><span style=\"color: #7fbfbf; text-decoration-color: #7fbfbf\">10:50:45 BST </span>Latest Best Fit on Iter <span style=\"color: #008080; text-decoration-color: #008080; font-weight: bold\">4</span>: <span style=\"color: #008080; text-decoration-color: #008080; font-weight: bold\">0.851</span>                                   \n",
       "<span style=\"color: #7fbfbf; text-decoration-color: #7fbfbf\">             </span>                                                                   \n",
       "</pre>\n"
      ],
      "text/plain": [
       "\u001b[2;36m10:50:45 BST\u001b[0m\u001b[2;36m \u001b[0mLatest Best Fit on Iter \u001b[1;36m4\u001b[0m: \u001b[1;36m0.851\u001b[0m                                   \n",
       "\u001b[2;36m             \u001b[0m                                                                   \n"
      ]
     },
     "metadata": {},
     "output_type": "display_data"
    },
    {
     "data": {
      "text/html": [
       "<pre style=\"white-space:pre;overflow-x:auto;line-height:normal;font-family:Menlo,'DejaVu Sans Mono',consolas,'Courier New',monospace\"><span style=\"color: #7fbfbf; text-decoration-color: #7fbfbf\">             </span>Best Result: <span style=\"color: #008080; text-decoration-color: #008080; font-weight: bold\">0.8505692842720446</span>                                    \n",
       "<span style=\"color: #7fbfbf; text-decoration-color: #7fbfbf\">             </span>Best Parameters: radius: <span style=\"color: #008080; text-decoration-color: #008080; font-weight: bold\">0.9609199673173505</span> target_phi:            \n",
       "<span style=\"color: #7fbfbf; text-decoration-color: #7fbfbf\">             </span><span style=\"color: #008080; text-decoration-color: #008080; font-weight: bold\">-2.1156155444817397</span>                                                \n",
       "<span style=\"color: #7fbfbf; text-decoration-color: #7fbfbf\">             </span>                                                                   \n",
       "</pre>\n"
      ],
      "text/plain": [
       "\u001b[2;36m            \u001b[0m\u001b[2;36m \u001b[0mBest Result: \u001b[1;36m0.8505692842720446\u001b[0m                                    \n",
       "\u001b[2;36m             \u001b[0mBest Parameters: radius: \u001b[1;36m0.9609199673173505\u001b[0m target_phi:            \n",
       "\u001b[2;36m             \u001b[0m\u001b[1;36m-2.1156155444817397\u001b[0m                                                \n",
       "\u001b[2;36m             \u001b[0m                                                                   \n"
      ]
     },
     "metadata": {},
     "output_type": "display_data"
    },
    {
     "data": {
      "text/html": [
       "<pre style=\"white-space:pre;overflow-x:auto;line-height:normal;font-family:Menlo,'DejaVu Sans Mono',consolas,'Courier New',monospace\"><span style=\"color: #7fbfbf; text-decoration-color: #7fbfbf\">             </span>Best Fit from Initial Solutions: <span style=\"color: #008080; text-decoration-color: #008080; font-weight: bold\">0.835</span>                             \n",
       "<span style=\"color: #7fbfbf; text-decoration-color: #7fbfbf\">             </span>                                                                   \n",
       "</pre>\n"
      ],
      "text/plain": [
       "\u001b[2;36m            \u001b[0m\u001b[2;36m \u001b[0mBest Fit from Initial Solutions: \u001b[1;36m0.835\u001b[0m                             \n",
       "\u001b[2;36m             \u001b[0m                                                                   \n"
      ]
     },
     "metadata": {},
     "output_type": "display_data"
    },
    {
     "data": {
      "text/html": [
       "<pre style=\"white-space:pre;overflow-x:auto;line-height:normal;font-family:Menlo,'DejaVu Sans Mono',consolas,'Courier New',monospace\"><span style=\"color: #7fbfbf; text-decoration-color: #7fbfbf\">10:50:46 BST </span>Latest Best Fit on Iter <span style=\"color: #008080; text-decoration-color: #008080; font-weight: bold\">0</span>: <span style=\"color: #008080; text-decoration-color: #008080; font-weight: bold\">0.836</span>                                   \n",
       "<span style=\"color: #7fbfbf; text-decoration-color: #7fbfbf\">             </span>                                                                   \n",
       "</pre>\n"
      ],
      "text/plain": [
       "\u001b[2;36m10:50:46 BST\u001b[0m\u001b[2;36m \u001b[0mLatest Best Fit on Iter \u001b[1;36m0\u001b[0m: \u001b[1;36m0.836\u001b[0m                                   \n",
       "\u001b[2;36m             \u001b[0m                                                                   \n"
      ]
     },
     "metadata": {},
     "output_type": "display_data"
    },
    {
     "data": {
      "text/html": [
       "<pre style=\"white-space:pre;overflow-x:auto;line-height:normal;font-family:Menlo,'DejaVu Sans Mono',consolas,'Courier New',monospace\"><span style=\"color: #7fbfbf; text-decoration-color: #7fbfbf\">10:50:48 BST </span>Latest Best Fit on Iter <span style=\"color: #008080; text-decoration-color: #008080; font-weight: bold\">4</span>: <span style=\"color: #008080; text-decoration-color: #008080; font-weight: bold\">0.836</span>                                   \n",
       "<span style=\"color: #7fbfbf; text-decoration-color: #7fbfbf\">             </span>                                                                   \n",
       "</pre>\n"
      ],
      "text/plain": [
       "\u001b[2;36m10:50:48 BST\u001b[0m\u001b[2;36m \u001b[0mLatest Best Fit on Iter \u001b[1;36m4\u001b[0m: \u001b[1;36m0.836\u001b[0m                                   \n",
       "\u001b[2;36m             \u001b[0m                                                                   \n"
      ]
     },
     "metadata": {},
     "output_type": "display_data"
    },
    {
     "data": {
      "text/html": [
       "<pre style=\"white-space:pre;overflow-x:auto;line-height:normal;font-family:Menlo,'DejaVu Sans Mono',consolas,'Courier New',monospace\"><span style=\"color: #7fbfbf; text-decoration-color: #7fbfbf\">             </span>Best Result: <span style=\"color: #008080; text-decoration-color: #008080; font-weight: bold\">0.8357433962483565</span>                                    \n",
       "<span style=\"color: #7fbfbf; text-decoration-color: #7fbfbf\">             </span>Best Parameters: radius: <span style=\"color: #008080; text-decoration-color: #008080; font-weight: bold\">1.0054867065996707</span> target_phi:            \n",
       "<span style=\"color: #7fbfbf; text-decoration-color: #7fbfbf\">             </span><span style=\"color: #008080; text-decoration-color: #008080; font-weight: bold\">-1.987390954284873</span>                                                 \n",
       "<span style=\"color: #7fbfbf; text-decoration-color: #7fbfbf\">             </span>                                                                   \n",
       "</pre>\n"
      ],
      "text/plain": [
       "\u001b[2;36m            \u001b[0m\u001b[2;36m \u001b[0mBest Result: \u001b[1;36m0.8357433962483565\u001b[0m                                    \n",
       "\u001b[2;36m             \u001b[0mBest Parameters: radius: \u001b[1;36m1.0054867065996707\u001b[0m target_phi:            \n",
       "\u001b[2;36m             \u001b[0m\u001b[1;36m-1.987390954284873\u001b[0m                                                 \n",
       "\u001b[2;36m             \u001b[0m                                                                   \n"
      ]
     },
     "metadata": {},
     "output_type": "display_data"
    },
    {
     "data": {
      "text/html": [
       "<pre style=\"white-space:pre;overflow-x:auto;line-height:normal;font-family:Menlo,'DejaVu Sans Mono',consolas,'Courier New',monospace\"><span style=\"color: #7fbfbf; text-decoration-color: #7fbfbf\">             </span>Best Fit from Initial Solutions: <span style=\"color: #008080; text-decoration-color: #008080; font-weight: bold\">0.82</span>                              \n",
       "<span style=\"color: #7fbfbf; text-decoration-color: #7fbfbf\">             </span>                                                                   \n",
       "</pre>\n"
      ],
      "text/plain": [
       "\u001b[2;36m            \u001b[0m\u001b[2;36m \u001b[0mBest Fit from Initial Solutions: \u001b[1;36m0.82\u001b[0m                              \n",
       "\u001b[2;36m             \u001b[0m                                                                   \n"
      ]
     },
     "metadata": {},
     "output_type": "display_data"
    },
    {
     "data": {
      "text/html": [
       "<pre style=\"white-space:pre;overflow-x:auto;line-height:normal;font-family:Menlo,'DejaVu Sans Mono',consolas,'Courier New',monospace\"><span style=\"color: #7fbfbf; text-decoration-color: #7fbfbf\">10:50:49 BST </span>Latest Best Fit on Iter <span style=\"color: #008080; text-decoration-color: #008080; font-weight: bold\">0</span>: <span style=\"color: #008080; text-decoration-color: #008080; font-weight: bold\">0.82</span>                                    \n",
       "<span style=\"color: #7fbfbf; text-decoration-color: #7fbfbf\">             </span>                                                                   \n",
       "</pre>\n"
      ],
      "text/plain": [
       "\u001b[2;36m10:50:49 BST\u001b[0m\u001b[2;36m \u001b[0mLatest Best Fit on Iter \u001b[1;36m0\u001b[0m: \u001b[1;36m0.82\u001b[0m                                    \n",
       "\u001b[2;36m             \u001b[0m                                                                   \n"
      ]
     },
     "metadata": {},
     "output_type": "display_data"
    },
    {
     "data": {
      "text/html": [
       "<pre style=\"white-space:pre;overflow-x:auto;line-height:normal;font-family:Menlo,'DejaVu Sans Mono',consolas,'Courier New',monospace\"><span style=\"color: #7fbfbf; text-decoration-color: #7fbfbf\">10:50:51 BST </span>Best Result: <span style=\"color: #008080; text-decoration-color: #008080; font-weight: bold\">0.8202772717952606</span>                                    \n",
       "<span style=\"color: #7fbfbf; text-decoration-color: #7fbfbf\">             </span>Best Parameters: radius: <span style=\"color: #008080; text-decoration-color: #008080; font-weight: bold\">1.0080320148899062</span> target_phi:            \n",
       "<span style=\"color: #7fbfbf; text-decoration-color: #7fbfbf\">             </span><span style=\"color: #008080; text-decoration-color: #008080; font-weight: bold\">-1.8591663640880063</span>                                                \n",
       "<span style=\"color: #7fbfbf; text-decoration-color: #7fbfbf\">             </span>                                                                   \n",
       "</pre>\n"
      ],
      "text/plain": [
       "\u001b[2;36m10:50:51 BST\u001b[0m\u001b[2;36m \u001b[0mBest Result: \u001b[1;36m0.8202772717952606\u001b[0m                                    \n",
       "\u001b[2;36m             \u001b[0mBest Parameters: radius: \u001b[1;36m1.0080320148899062\u001b[0m target_phi:            \n",
       "\u001b[2;36m             \u001b[0m\u001b[1;36m-1.8591663640880063\u001b[0m                                                \n",
       "\u001b[2;36m             \u001b[0m                                                                   \n"
      ]
     },
     "metadata": {},
     "output_type": "display_data"
    },
    {
     "data": {
      "text/html": [
       "<pre style=\"white-space:pre;overflow-x:auto;line-height:normal;font-family:Menlo,'DejaVu Sans Mono',consolas,'Courier New',monospace\"><span style=\"color: #7fbfbf; text-decoration-color: #7fbfbf\">10:50:52 BST </span>Best Fit from Initial Solutions: <span style=\"color: #008080; text-decoration-color: #008080; font-weight: bold\">0.809</span>                             \n",
       "<span style=\"color: #7fbfbf; text-decoration-color: #7fbfbf\">             </span>                                                                   \n",
       "</pre>\n"
      ],
      "text/plain": [
       "\u001b[2;36m10:50:52 BST\u001b[0m\u001b[2;36m \u001b[0mBest Fit from Initial Solutions: \u001b[1;36m0.809\u001b[0m                             \n",
       "\u001b[2;36m             \u001b[0m                                                                   \n"
      ]
     },
     "metadata": {},
     "output_type": "display_data"
    },
    {
     "data": {
      "text/html": [
       "<pre style=\"white-space:pre;overflow-x:auto;line-height:normal;font-family:Menlo,'DejaVu Sans Mono',consolas,'Courier New',monospace\"><span style=\"color: #7fbfbf; text-decoration-color: #7fbfbf\">10:50:56 BST </span>Best Result: <span style=\"color: #008080; text-decoration-color: #008080; font-weight: bold\">0.8091074132445605</span>                                    \n",
       "<span style=\"color: #7fbfbf; text-decoration-color: #7fbfbf\">             </span>Best Parameters: radius: <span style=\"color: #008080; text-decoration-color: #008080; font-weight: bold\">1.0444661916676254</span> target_phi:            \n",
       "<span style=\"color: #7fbfbf; text-decoration-color: #7fbfbf\">             </span><span style=\"color: #008080; text-decoration-color: #008080; font-weight: bold\">-1.7309417738911397</span>                                                \n",
       "<span style=\"color: #7fbfbf; text-decoration-color: #7fbfbf\">             </span>                                                                   \n",
       "</pre>\n"
      ],
      "text/plain": [
       "\u001b[2;36m10:50:56 BST\u001b[0m\u001b[2;36m \u001b[0mBest Result: \u001b[1;36m0.8091074132445605\u001b[0m                                    \n",
       "\u001b[2;36m             \u001b[0mBest Parameters: radius: \u001b[1;36m1.0444661916676254\u001b[0m target_phi:            \n",
       "\u001b[2;36m             \u001b[0m\u001b[1;36m-1.7309417738911397\u001b[0m                                                \n",
       "\u001b[2;36m             \u001b[0m                                                                   \n"
      ]
     },
     "metadata": {},
     "output_type": "display_data"
    },
    {
     "data": {
      "text/html": [
       "<pre style=\"white-space:pre;overflow-x:auto;line-height:normal;font-family:Menlo,'DejaVu Sans Mono',consolas,'Courier New',monospace\"><span style=\"color: #7fbfbf; text-decoration-color: #7fbfbf\">             </span>Best Fit from Initial Solutions: <span style=\"color: #008080; text-decoration-color: #008080; font-weight: bold\">0.801</span>                             \n",
       "<span style=\"color: #7fbfbf; text-decoration-color: #7fbfbf\">             </span>                                                                   \n",
       "</pre>\n"
      ],
      "text/plain": [
       "\u001b[2;36m            \u001b[0m\u001b[2;36m \u001b[0mBest Fit from Initial Solutions: \u001b[1;36m0.801\u001b[0m                             \n",
       "\u001b[2;36m             \u001b[0m                                                                   \n"
      ]
     },
     "metadata": {},
     "output_type": "display_data"
    },
    {
     "data": {
      "text/html": [
       "<pre style=\"white-space:pre;overflow-x:auto;line-height:normal;font-family:Menlo,'DejaVu Sans Mono',consolas,'Courier New',monospace\"><span style=\"color: #7fbfbf; text-decoration-color: #7fbfbf\">             </span>Latest Best Fit on Iter <span style=\"color: #008080; text-decoration-color: #008080; font-weight: bold\">0</span>: <span style=\"color: #008080; text-decoration-color: #008080; font-weight: bold\">0.803</span>                                   \n",
       "<span style=\"color: #7fbfbf; text-decoration-color: #7fbfbf\">             </span>                                                                   \n",
       "</pre>\n"
      ],
      "text/plain": [
       "\u001b[2;36m            \u001b[0m\u001b[2;36m \u001b[0mLatest Best Fit on Iter \u001b[1;36m0\u001b[0m: \u001b[1;36m0.803\u001b[0m                                   \n",
       "\u001b[2;36m             \u001b[0m                                                                   \n"
      ]
     },
     "metadata": {},
     "output_type": "display_data"
    },
    {
     "data": {
      "text/html": [
       "<pre style=\"white-space:pre;overflow-x:auto;line-height:normal;font-family:Menlo,'DejaVu Sans Mono',consolas,'Courier New',monospace\"><span style=\"color: #7fbfbf; text-decoration-color: #7fbfbf\">10:51:00 BST </span>Best Result: <span style=\"color: #008080; text-decoration-color: #008080; font-weight: bold\">0.8033764779058348</span>                                    \n",
       "<span style=\"color: #7fbfbf; text-decoration-color: #7fbfbf\">             </span>Best Parameters: radius: <span style=\"color: #008080; text-decoration-color: #008080; font-weight: bold\">1.0577003642111684</span> target_phi:            \n",
       "<span style=\"color: #7fbfbf; text-decoration-color: #7fbfbf\">             </span><span style=\"color: #008080; text-decoration-color: #008080; font-weight: bold\">-1.6027171836942729</span>                                                \n",
       "<span style=\"color: #7fbfbf; text-decoration-color: #7fbfbf\">             </span>                                                                   \n",
       "</pre>\n"
      ],
      "text/plain": [
       "\u001b[2;36m10:51:00 BST\u001b[0m\u001b[2;36m \u001b[0mBest Result: \u001b[1;36m0.8033764779058348\u001b[0m                                    \n",
       "\u001b[2;36m             \u001b[0mBest Parameters: radius: \u001b[1;36m1.0577003642111684\u001b[0m target_phi:            \n",
       "\u001b[2;36m             \u001b[0m\u001b[1;36m-1.6027171836942729\u001b[0m                                                \n",
       "\u001b[2;36m             \u001b[0m                                                                   \n"
      ]
     },
     "metadata": {},
     "output_type": "display_data"
    },
    {
     "data": {
      "text/html": [
       "<pre style=\"white-space:pre;overflow-x:auto;line-height:normal;font-family:Menlo,'DejaVu Sans Mono',consolas,'Courier New',monospace\"><span style=\"color: #7fbfbf; text-decoration-color: #7fbfbf\">             </span>Best Fit from Initial Solutions: <span style=\"color: #008080; text-decoration-color: #008080; font-weight: bold\">0.789</span>                             \n",
       "<span style=\"color: #7fbfbf; text-decoration-color: #7fbfbf\">             </span>                                                                   \n",
       "</pre>\n"
      ],
      "text/plain": [
       "\u001b[2;36m            \u001b[0m\u001b[2;36m \u001b[0mBest Fit from Initial Solutions: \u001b[1;36m0.789\u001b[0m                             \n",
       "\u001b[2;36m             \u001b[0m                                                                   \n"
      ]
     },
     "metadata": {},
     "output_type": "display_data"
    },
    {
     "data": {
      "text/html": [
       "<pre style=\"white-space:pre;overflow-x:auto;line-height:normal;font-family:Menlo,'DejaVu Sans Mono',consolas,'Courier New',monospace\"><span style=\"color: #7fbfbf; text-decoration-color: #7fbfbf\">10:51:01 BST </span>Latest Best Fit on Iter <span style=\"color: #008080; text-decoration-color: #008080; font-weight: bold\">0</span>: <span style=\"color: #008080; text-decoration-color: #008080; font-weight: bold\">0.789</span>                                   \n",
       "<span style=\"color: #7fbfbf; text-decoration-color: #7fbfbf\">             </span>                                                                   \n",
       "</pre>\n"
      ],
      "text/plain": [
       "\u001b[2;36m10:51:01 BST\u001b[0m\u001b[2;36m \u001b[0mLatest Best Fit on Iter \u001b[1;36m0\u001b[0m: \u001b[1;36m0.789\u001b[0m                                   \n",
       "\u001b[2;36m             \u001b[0m                                                                   \n"
      ]
     },
     "metadata": {},
     "output_type": "display_data"
    },
    {
     "data": {
      "text/html": [
       "<pre style=\"white-space:pre;overflow-x:auto;line-height:normal;font-family:Menlo,'DejaVu Sans Mono',consolas,'Courier New',monospace\"><span style=\"color: #7fbfbf; text-decoration-color: #7fbfbf\">10:51:04 BST </span>Best Result: <span style=\"color: #008080; text-decoration-color: #008080; font-weight: bold\">0.7892791537646473</span>                                    \n",
       "<span style=\"color: #7fbfbf; text-decoration-color: #7fbfbf\">             </span>Best Parameters: radius: <span style=\"color: #008080; text-decoration-color: #008080; font-weight: bold\">1.0694327992735284</span> target_phi:            \n",
       "<span style=\"color: #7fbfbf; text-decoration-color: #7fbfbf\">             </span><span style=\"color: #008080; text-decoration-color: #008080; font-weight: bold\">-1.4744925934974062</span>                                                \n",
       "<span style=\"color: #7fbfbf; text-decoration-color: #7fbfbf\">             </span>                                                                   \n",
       "</pre>\n"
      ],
      "text/plain": [
       "\u001b[2;36m10:51:04 BST\u001b[0m\u001b[2;36m \u001b[0mBest Result: \u001b[1;36m0.7892791537646473\u001b[0m                                    \n",
       "\u001b[2;36m             \u001b[0mBest Parameters: radius: \u001b[1;36m1.0694327992735284\u001b[0m target_phi:            \n",
       "\u001b[2;36m             \u001b[0m\u001b[1;36m-1.4744925934974062\u001b[0m                                                \n",
       "\u001b[2;36m             \u001b[0m                                                                   \n"
      ]
     },
     "metadata": {},
     "output_type": "display_data"
    },
    {
     "data": {
      "text/html": [
       "<pre style=\"white-space:pre;overflow-x:auto;line-height:normal;font-family:Menlo,'DejaVu Sans Mono',consolas,'Courier New',monospace\"><span style=\"color: #7fbfbf; text-decoration-color: #7fbfbf\">             </span>Best Fit from Initial Solutions: <span style=\"color: #008080; text-decoration-color: #008080; font-weight: bold\">0.787</span>                             \n",
       "<span style=\"color: #7fbfbf; text-decoration-color: #7fbfbf\">             </span>                                                                   \n",
       "</pre>\n"
      ],
      "text/plain": [
       "\u001b[2;36m            \u001b[0m\u001b[2;36m \u001b[0mBest Fit from Initial Solutions: \u001b[1;36m0.787\u001b[0m                             \n",
       "\u001b[2;36m             \u001b[0m                                                                   \n"
      ]
     },
     "metadata": {},
     "output_type": "display_data"
    },
    {
     "data": {
      "text/html": [
       "<pre style=\"white-space:pre;overflow-x:auto;line-height:normal;font-family:Menlo,'DejaVu Sans Mono',consolas,'Courier New',monospace\"><span style=\"color: #7fbfbf; text-decoration-color: #7fbfbf\">10:51:07 BST </span>Best Result: <span style=\"color: #008080; text-decoration-color: #008080; font-weight: bold\">0.7865000587871601</span>                                    \n",
       "<span style=\"color: #7fbfbf; text-decoration-color: #7fbfbf\">             </span>Best Parameters: radius: <span style=\"color: #008080; text-decoration-color: #008080; font-weight: bold\">1.092977146860701</span> target_phi:             \n",
       "<span style=\"color: #7fbfbf; text-decoration-color: #7fbfbf\">             </span><span style=\"color: #008080; text-decoration-color: #008080; font-weight: bold\">-1.3462680033005396</span>                                                \n",
       "<span style=\"color: #7fbfbf; text-decoration-color: #7fbfbf\">             </span>                                                                   \n",
       "</pre>\n"
      ],
      "text/plain": [
       "\u001b[2;36m10:51:07 BST\u001b[0m\u001b[2;36m \u001b[0mBest Result: \u001b[1;36m0.7865000587871601\u001b[0m                                    \n",
       "\u001b[2;36m             \u001b[0mBest Parameters: radius: \u001b[1;36m1.092977146860701\u001b[0m target_phi:             \n",
       "\u001b[2;36m             \u001b[0m\u001b[1;36m-1.3462680033005396\u001b[0m                                                \n",
       "\u001b[2;36m             \u001b[0m                                                                   \n"
      ]
     },
     "metadata": {},
     "output_type": "display_data"
    },
    {
     "data": {
      "text/html": [
       "<pre style=\"white-space:pre;overflow-x:auto;line-height:normal;font-family:Menlo,'DejaVu Sans Mono',consolas,'Courier New',monospace\"><span style=\"color: #7fbfbf; text-decoration-color: #7fbfbf\">             </span>Best Fit from Initial Solutions: <span style=\"color: #008080; text-decoration-color: #008080; font-weight: bold\">0.784</span>                             \n",
       "<span style=\"color: #7fbfbf; text-decoration-color: #7fbfbf\">             </span>                                                                   \n",
       "</pre>\n"
      ],
      "text/plain": [
       "\u001b[2;36m            \u001b[0m\u001b[2;36m \u001b[0mBest Fit from Initial Solutions: \u001b[1;36m0.784\u001b[0m                             \n",
       "\u001b[2;36m             \u001b[0m                                                                   \n"
      ]
     },
     "metadata": {},
     "output_type": "display_data"
    },
    {
     "data": {
      "text/html": [
       "<pre style=\"white-space:pre;overflow-x:auto;line-height:normal;font-family:Menlo,'DejaVu Sans Mono',consolas,'Courier New',monospace\"><span style=\"color: #7fbfbf; text-decoration-color: #7fbfbf\">10:51:09 BST </span>Latest Best Fit on Iter <span style=\"color: #008080; text-decoration-color: #008080; font-weight: bold\">0</span>: <span style=\"color: #008080; text-decoration-color: #008080; font-weight: bold\">0.785</span>                                   \n",
       "<span style=\"color: #7fbfbf; text-decoration-color: #7fbfbf\">             </span>                                                                   \n",
       "</pre>\n"
      ],
      "text/plain": [
       "\u001b[2;36m10:51:09 BST\u001b[0m\u001b[2;36m \u001b[0mLatest Best Fit on Iter \u001b[1;36m0\u001b[0m: \u001b[1;36m0.785\u001b[0m                                   \n",
       "\u001b[2;36m             \u001b[0m                                                                   \n"
      ]
     },
     "metadata": {},
     "output_type": "display_data"
    },
    {
     "data": {
      "text/html": [
       "<pre style=\"white-space:pre;overflow-x:auto;line-height:normal;font-family:Menlo,'DejaVu Sans Mono',consolas,'Courier New',monospace\"><span style=\"color: #7fbfbf; text-decoration-color: #7fbfbf\">10:51:10 BST </span>Latest Best Fit on Iter <span style=\"color: #008080; text-decoration-color: #008080; font-weight: bold\">1</span>: <span style=\"color: #008080; text-decoration-color: #008080; font-weight: bold\">0.785</span>                                   \n",
       "<span style=\"color: #7fbfbf; text-decoration-color: #7fbfbf\">             </span>                                                                   \n",
       "</pre>\n"
      ],
      "text/plain": [
       "\u001b[2;36m10:51:10 BST\u001b[0m\u001b[2;36m \u001b[0mLatest Best Fit on Iter \u001b[1;36m1\u001b[0m: \u001b[1;36m0.785\u001b[0m                                   \n",
       "\u001b[2;36m             \u001b[0m                                                                   \n"
      ]
     },
     "metadata": {},
     "output_type": "display_data"
    },
    {
     "data": {
      "text/html": [
       "<pre style=\"white-space:pre;overflow-x:auto;line-height:normal;font-family:Menlo,'DejaVu Sans Mono',consolas,'Courier New',monospace\"><span style=\"color: #7fbfbf; text-decoration-color: #7fbfbf\">10:51:11 BST </span>Latest Best Fit on Iter <span style=\"color: #008080; text-decoration-color: #008080; font-weight: bold\">2</span>: <span style=\"color: #008080; text-decoration-color: #008080; font-weight: bold\">0.785</span>                                   \n",
       "<span style=\"color: #7fbfbf; text-decoration-color: #7fbfbf\">             </span>                                                                   \n",
       "</pre>\n"
      ],
      "text/plain": [
       "\u001b[2;36m10:51:11 BST\u001b[0m\u001b[2;36m \u001b[0mLatest Best Fit on Iter \u001b[1;36m2\u001b[0m: \u001b[1;36m0.785\u001b[0m                                   \n",
       "\u001b[2;36m             \u001b[0m                                                                   \n"
      ]
     },
     "metadata": {},
     "output_type": "display_data"
    },
    {
     "data": {
      "text/html": [
       "<pre style=\"white-space:pre;overflow-x:auto;line-height:normal;font-family:Menlo,'DejaVu Sans Mono',consolas,'Courier New',monospace\"><span style=\"color: #7fbfbf; text-decoration-color: #7fbfbf\">             </span>Latest Best Fit on Iter <span style=\"color: #008080; text-decoration-color: #008080; font-weight: bold\">3</span>: <span style=\"color: #008080; text-decoration-color: #008080; font-weight: bold\">0.786</span>                                   \n",
       "<span style=\"color: #7fbfbf; text-decoration-color: #7fbfbf\">             </span>                                                                   \n",
       "</pre>\n"
      ],
      "text/plain": [
       "\u001b[2;36m            \u001b[0m\u001b[2;36m \u001b[0mLatest Best Fit on Iter \u001b[1;36m3\u001b[0m: \u001b[1;36m0.786\u001b[0m                                   \n",
       "\u001b[2;36m             \u001b[0m                                                                   \n"
      ]
     },
     "metadata": {},
     "output_type": "display_data"
    },
    {
     "data": {
      "text/html": [
       "<pre style=\"white-space:pre;overflow-x:auto;line-height:normal;font-family:Menlo,'DejaVu Sans Mono',consolas,'Courier New',monospace\"><span style=\"color: #7fbfbf; text-decoration-color: #7fbfbf\">10:51:13 BST </span>Latest Best Fit on Iter <span style=\"color: #008080; text-decoration-color: #008080; font-weight: bold\">4</span>: <span style=\"color: #008080; text-decoration-color: #008080; font-weight: bold\">0.786</span>                                   \n",
       "<span style=\"color: #7fbfbf; text-decoration-color: #7fbfbf\">             </span>                                                                   \n",
       "</pre>\n"
      ],
      "text/plain": [
       "\u001b[2;36m10:51:13 BST\u001b[0m\u001b[2;36m \u001b[0mLatest Best Fit on Iter \u001b[1;36m4\u001b[0m: \u001b[1;36m0.786\u001b[0m                                   \n",
       "\u001b[2;36m             \u001b[0m                                                                   \n"
      ]
     },
     "metadata": {},
     "output_type": "display_data"
    },
    {
     "data": {
      "text/html": [
       "<pre style=\"white-space:pre;overflow-x:auto;line-height:normal;font-family:Menlo,'DejaVu Sans Mono',consolas,'Courier New',monospace\"><span style=\"color: #7fbfbf; text-decoration-color: #7fbfbf\">             </span>Best Result: <span style=\"color: #008080; text-decoration-color: #008080; font-weight: bold\">0.7855201993392268</span>                                    \n",
       "<span style=\"color: #7fbfbf; text-decoration-color: #7fbfbf\">             </span>Best Parameters: radius: <span style=\"color: #008080; text-decoration-color: #008080; font-weight: bold\">1.0969272855112624</span> target_phi:            \n",
       "<span style=\"color: #7fbfbf; text-decoration-color: #7fbfbf\">             </span><span style=\"color: #008080; text-decoration-color: #008080; font-weight: bold\">-1.218043413103673</span>                                                 \n",
       "<span style=\"color: #7fbfbf; text-decoration-color: #7fbfbf\">             </span>                                                                   \n",
       "</pre>\n"
      ],
      "text/plain": [
       "\u001b[2;36m            \u001b[0m\u001b[2;36m \u001b[0mBest Result: \u001b[1;36m0.7855201993392268\u001b[0m                                    \n",
       "\u001b[2;36m             \u001b[0mBest Parameters: radius: \u001b[1;36m1.0969272855112624\u001b[0m target_phi:            \n",
       "\u001b[2;36m             \u001b[0m\u001b[1;36m-1.218043413103673\u001b[0m                                                 \n",
       "\u001b[2;36m             \u001b[0m                                                                   \n"
      ]
     },
     "metadata": {},
     "output_type": "display_data"
    },
    {
     "data": {
      "text/html": [
       "<pre style=\"white-space:pre;overflow-x:auto;line-height:normal;font-family:Menlo,'DejaVu Sans Mono',consolas,'Courier New',monospace\"><span style=\"color: #7fbfbf; text-decoration-color: #7fbfbf\">             </span>Best Fit from Initial Solutions: <span style=\"color: #008080; text-decoration-color: #008080; font-weight: bold\">0.777</span>                             \n",
       "<span style=\"color: #7fbfbf; text-decoration-color: #7fbfbf\">             </span>                                                                   \n",
       "</pre>\n"
      ],
      "text/plain": [
       "\u001b[2;36m            \u001b[0m\u001b[2;36m \u001b[0mBest Fit from Initial Solutions: \u001b[1;36m0.777\u001b[0m                             \n",
       "\u001b[2;36m             \u001b[0m                                                                   \n"
      ]
     },
     "metadata": {},
     "output_type": "display_data"
    },
    {
     "data": {
      "text/html": [
       "<pre style=\"white-space:pre;overflow-x:auto;line-height:normal;font-family:Menlo,'DejaVu Sans Mono',consolas,'Courier New',monospace\"><span style=\"color: #7fbfbf; text-decoration-color: #7fbfbf\">10:51:14 BST </span>Latest Best Fit on Iter <span style=\"color: #008080; text-decoration-color: #008080; font-weight: bold\">0</span>: <span style=\"color: #008080; text-decoration-color: #008080; font-weight: bold\">0.777</span>                                   \n",
       "<span style=\"color: #7fbfbf; text-decoration-color: #7fbfbf\">             </span>                                                                   \n",
       "</pre>\n"
      ],
      "text/plain": [
       "\u001b[2;36m10:51:14 BST\u001b[0m\u001b[2;36m \u001b[0mLatest Best Fit on Iter \u001b[1;36m0\u001b[0m: \u001b[1;36m0.777\u001b[0m                                   \n",
       "\u001b[2;36m             \u001b[0m                                                                   \n"
      ]
     },
     "metadata": {},
     "output_type": "display_data"
    },
    {
     "data": {
      "text/html": [
       "<pre style=\"white-space:pre;overflow-x:auto;line-height:normal;font-family:Menlo,'DejaVu Sans Mono',consolas,'Courier New',monospace\"><span style=\"color: #7fbfbf; text-decoration-color: #7fbfbf\">10:51:15 BST </span>Latest Best Fit on Iter <span style=\"color: #008080; text-decoration-color: #008080; font-weight: bold\">3</span>: <span style=\"color: #008080; text-decoration-color: #008080; font-weight: bold\">0.778</span>                                   \n",
       "<span style=\"color: #7fbfbf; text-decoration-color: #7fbfbf\">             </span>                                                                   \n",
       "</pre>\n"
      ],
      "text/plain": [
       "\u001b[2;36m10:51:15 BST\u001b[0m\u001b[2;36m \u001b[0mLatest Best Fit on Iter \u001b[1;36m3\u001b[0m: \u001b[1;36m0.778\u001b[0m                                   \n",
       "\u001b[2;36m             \u001b[0m                                                                   \n"
      ]
     },
     "metadata": {},
     "output_type": "display_data"
    },
    {
     "data": {
      "text/html": [
       "<pre style=\"white-space:pre;overflow-x:auto;line-height:normal;font-family:Menlo,'DejaVu Sans Mono',consolas,'Courier New',monospace\"><span style=\"color: #7fbfbf; text-decoration-color: #7fbfbf\">10:51:16 BST </span>Best Result: <span style=\"color: #008080; text-decoration-color: #008080; font-weight: bold\">0.7775002623440584</span>                                    \n",
       "<span style=\"color: #7fbfbf; text-decoration-color: #7fbfbf\">             </span>Best Parameters: radius: <span style=\"color: #008080; text-decoration-color: #008080; font-weight: bold\">1.1022283714235883</span> target_phi:            \n",
       "<span style=\"color: #7fbfbf; text-decoration-color: #7fbfbf\">             </span><span style=\"color: #008080; text-decoration-color: #008080; font-weight: bold\">-1.0898188229068064</span>                                                \n",
       "<span style=\"color: #7fbfbf; text-decoration-color: #7fbfbf\">             </span>                                                                   \n",
       "</pre>\n"
      ],
      "text/plain": [
       "\u001b[2;36m10:51:16 BST\u001b[0m\u001b[2;36m \u001b[0mBest Result: \u001b[1;36m0.7775002623440584\u001b[0m                                    \n",
       "\u001b[2;36m             \u001b[0mBest Parameters: radius: \u001b[1;36m1.1022283714235883\u001b[0m target_phi:            \n",
       "\u001b[2;36m             \u001b[0m\u001b[1;36m-1.0898188229068064\u001b[0m                                                \n",
       "\u001b[2;36m             \u001b[0m                                                                   \n"
      ]
     },
     "metadata": {},
     "output_type": "display_data"
    },
    {
     "data": {
      "text/html": [
       "<pre style=\"white-space:pre;overflow-x:auto;line-height:normal;font-family:Menlo,'DejaVu Sans Mono',consolas,'Courier New',monospace\"><span style=\"color: #7fbfbf; text-decoration-color: #7fbfbf\">             </span>Best Fit from Initial Solutions: <span style=\"color: #008080; text-decoration-color: #008080; font-weight: bold\">0.778</span>                             \n",
       "<span style=\"color: #7fbfbf; text-decoration-color: #7fbfbf\">             </span>                                                                   \n",
       "</pre>\n"
      ],
      "text/plain": [
       "\u001b[2;36m            \u001b[0m\u001b[2;36m \u001b[0mBest Fit from Initial Solutions: \u001b[1;36m0.778\u001b[0m                             \n",
       "\u001b[2;36m             \u001b[0m                                                                   \n"
      ]
     },
     "metadata": {},
     "output_type": "display_data"
    },
    {
     "data": {
      "text/html": [
       "<pre style=\"white-space:pre;overflow-x:auto;line-height:normal;font-family:Menlo,'DejaVu Sans Mono',consolas,'Courier New',monospace\"><span style=\"color: #7fbfbf; text-decoration-color: #7fbfbf\">10:51:18 BST </span>Latest Best Fit on Iter <span style=\"color: #008080; text-decoration-color: #008080; font-weight: bold\">2</span>: <span style=\"color: #008080; text-decoration-color: #008080; font-weight: bold\">0.778</span>                                   \n",
       "<span style=\"color: #7fbfbf; text-decoration-color: #7fbfbf\">             </span>                                                                   \n",
       "</pre>\n"
      ],
      "text/plain": [
       "\u001b[2;36m10:51:18 BST\u001b[0m\u001b[2;36m \u001b[0mLatest Best Fit on Iter \u001b[1;36m2\u001b[0m: \u001b[1;36m0.778\u001b[0m                                   \n",
       "\u001b[2;36m             \u001b[0m                                                                   \n"
      ]
     },
     "metadata": {},
     "output_type": "display_data"
    },
    {
     "data": {
      "text/html": [
       "<pre style=\"white-space:pre;overflow-x:auto;line-height:normal;font-family:Menlo,'DejaVu Sans Mono',consolas,'Courier New',monospace\"><span style=\"color: #7fbfbf; text-decoration-color: #7fbfbf\">10:51:19 BST </span>Latest Best Fit on Iter <span style=\"color: #008080; text-decoration-color: #008080; font-weight: bold\">3</span>: <span style=\"color: #008080; text-decoration-color: #008080; font-weight: bold\">0.778</span>                                   \n",
       "<span style=\"color: #7fbfbf; text-decoration-color: #7fbfbf\">             </span>                                                                   \n",
       "</pre>\n"
      ],
      "text/plain": [
       "\u001b[2;36m10:51:19 BST\u001b[0m\u001b[2;36m \u001b[0mLatest Best Fit on Iter \u001b[1;36m3\u001b[0m: \u001b[1;36m0.778\u001b[0m                                   \n",
       "\u001b[2;36m             \u001b[0m                                                                   \n"
      ]
     },
     "metadata": {},
     "output_type": "display_data"
    },
    {
     "data": {
      "text/html": [
       "<pre style=\"white-space:pre;overflow-x:auto;line-height:normal;font-family:Menlo,'DejaVu Sans Mono',consolas,'Courier New',monospace\"><span style=\"color: #7fbfbf; text-decoration-color: #7fbfbf\">             </span>Latest Best Fit on Iter <span style=\"color: #008080; text-decoration-color: #008080; font-weight: bold\">4</span>: <span style=\"color: #008080; text-decoration-color: #008080; font-weight: bold\">0.778</span>                                   \n",
       "<span style=\"color: #7fbfbf; text-decoration-color: #7fbfbf\">             </span>                                                                   \n",
       "</pre>\n"
      ],
      "text/plain": [
       "\u001b[2;36m            \u001b[0m\u001b[2;36m \u001b[0mLatest Best Fit on Iter \u001b[1;36m4\u001b[0m: \u001b[1;36m0.778\u001b[0m                                   \n",
       "\u001b[2;36m             \u001b[0m                                                                   \n"
      ]
     },
     "metadata": {},
     "output_type": "display_data"
    },
    {
     "data": {
      "text/html": [
       "<pre style=\"white-space:pre;overflow-x:auto;line-height:normal;font-family:Menlo,'DejaVu Sans Mono',consolas,'Courier New',monospace\"><span style=\"color: #7fbfbf; text-decoration-color: #7fbfbf\">             </span>Best Result: <span style=\"color: #008080; text-decoration-color: #008080; font-weight: bold\">0.7782646803783574</span>                                    \n",
       "<span style=\"color: #7fbfbf; text-decoration-color: #7fbfbf\">             </span>Best Parameters: radius: <span style=\"color: #008080; text-decoration-color: #008080; font-weight: bold\">1.1217178424834566</span> target_phi:            \n",
       "<span style=\"color: #7fbfbf; text-decoration-color: #7fbfbf\">             </span><span style=\"color: #008080; text-decoration-color: #008080; font-weight: bold\">-0.9615942327099396</span>                                                \n",
       "<span style=\"color: #7fbfbf; text-decoration-color: #7fbfbf\">             </span>                                                                   \n",
       "</pre>\n"
      ],
      "text/plain": [
       "\u001b[2;36m            \u001b[0m\u001b[2;36m \u001b[0mBest Result: \u001b[1;36m0.7782646803783574\u001b[0m                                    \n",
       "\u001b[2;36m             \u001b[0mBest Parameters: radius: \u001b[1;36m1.1217178424834566\u001b[0m target_phi:            \n",
       "\u001b[2;36m             \u001b[0m\u001b[1;36m-0.9615942327099396\u001b[0m                                                \n",
       "\u001b[2;36m             \u001b[0m                                                                   \n"
      ]
     },
     "metadata": {},
     "output_type": "display_data"
    },
    {
     "data": {
      "text/html": [
       "<pre style=\"white-space:pre;overflow-x:auto;line-height:normal;font-family:Menlo,'DejaVu Sans Mono',consolas,'Courier New',monospace\"><span style=\"color: #7fbfbf; text-decoration-color: #7fbfbf\">10:51:20 BST </span>Best Fit from Initial Solutions: <span style=\"color: #008080; text-decoration-color: #008080; font-weight: bold\">0.777</span>                             \n",
       "<span style=\"color: #7fbfbf; text-decoration-color: #7fbfbf\">             </span>                                                                   \n",
       "</pre>\n"
      ],
      "text/plain": [
       "\u001b[2;36m10:51:20 BST\u001b[0m\u001b[2;36m \u001b[0mBest Fit from Initial Solutions: \u001b[1;36m0.777\u001b[0m                             \n",
       "\u001b[2;36m             \u001b[0m                                                                   \n"
      ]
     },
     "metadata": {},
     "output_type": "display_data"
    },
    {
     "data": {
      "text/html": [
       "<pre style=\"white-space:pre;overflow-x:auto;line-height:normal;font-family:Menlo,'DejaVu Sans Mono',consolas,'Courier New',monospace\"><span style=\"color: #7fbfbf; text-decoration-color: #7fbfbf\">             </span>Latest Best Fit on Iter <span style=\"color: #008080; text-decoration-color: #008080; font-weight: bold\">0</span>: <span style=\"color: #008080; text-decoration-color: #008080; font-weight: bold\">0.782</span>                                   \n",
       "<span style=\"color: #7fbfbf; text-decoration-color: #7fbfbf\">             </span>                                                                   \n",
       "</pre>\n"
      ],
      "text/plain": [
       "\u001b[2;36m            \u001b[0m\u001b[2;36m \u001b[0mLatest Best Fit on Iter \u001b[1;36m0\u001b[0m: \u001b[1;36m0.782\u001b[0m                                   \n",
       "\u001b[2;36m             \u001b[0m                                                                   \n"
      ]
     },
     "metadata": {},
     "output_type": "display_data"
    },
    {
     "data": {
      "text/html": [
       "<pre style=\"white-space:pre;overflow-x:auto;line-height:normal;font-family:Menlo,'DejaVu Sans Mono',consolas,'Courier New',monospace\"><span style=\"color: #7fbfbf; text-decoration-color: #7fbfbf\">10:51:23 BST </span>Best Result: <span style=\"color: #008080; text-decoration-color: #008080; font-weight: bold\">0.7816521765364113</span>                                    \n",
       "<span style=\"color: #7fbfbf; text-decoration-color: #7fbfbf\">             </span>Best Parameters: radius: <span style=\"color: #008080; text-decoration-color: #008080; font-weight: bold\">1.129600075358298</span> target_phi:             \n",
       "<span style=\"color: #7fbfbf; text-decoration-color: #7fbfbf\">             </span><span style=\"color: #008080; text-decoration-color: #008080; font-weight: bold\">-0.8333696425130732</span>                                                \n",
       "<span style=\"color: #7fbfbf; text-decoration-color: #7fbfbf\">             </span>                                                                   \n",
       "</pre>\n"
      ],
      "text/plain": [
       "\u001b[2;36m10:51:23 BST\u001b[0m\u001b[2;36m \u001b[0mBest Result: \u001b[1;36m0.7816521765364113\u001b[0m                                    \n",
       "\u001b[2;36m             \u001b[0mBest Parameters: radius: \u001b[1;36m1.129600075358298\u001b[0m target_phi:             \n",
       "\u001b[2;36m             \u001b[0m\u001b[1;36m-0.8333696425130732\u001b[0m                                                \n",
       "\u001b[2;36m             \u001b[0m                                                                   \n"
      ]
     },
     "metadata": {},
     "output_type": "display_data"
    },
    {
     "data": {
      "text/html": [
       "<pre style=\"white-space:pre;overflow-x:auto;line-height:normal;font-family:Menlo,'DejaVu Sans Mono',consolas,'Courier New',monospace\"><span style=\"color: #7fbfbf; text-decoration-color: #7fbfbf\">             </span>Best Fit from Initial Solutions: <span style=\"color: #008080; text-decoration-color: #008080; font-weight: bold\">0.775</span>                             \n",
       "<span style=\"color: #7fbfbf; text-decoration-color: #7fbfbf\">             </span>                                                                   \n",
       "</pre>\n"
      ],
      "text/plain": [
       "\u001b[2;36m            \u001b[0m\u001b[2;36m \u001b[0mBest Fit from Initial Solutions: \u001b[1;36m0.775\u001b[0m                             \n",
       "\u001b[2;36m             \u001b[0m                                                                   \n"
      ]
     },
     "metadata": {},
     "output_type": "display_data"
    },
    {
     "data": {
      "text/html": [
       "<pre style=\"white-space:pre;overflow-x:auto;line-height:normal;font-family:Menlo,'DejaVu Sans Mono',consolas,'Courier New',monospace\"><span style=\"color: #7fbfbf; text-decoration-color: #7fbfbf\">10:51:24 BST </span>Latest Best Fit on Iter <span style=\"color: #008080; text-decoration-color: #008080; font-weight: bold\">0</span>: <span style=\"color: #008080; text-decoration-color: #008080; font-weight: bold\">0.78</span>                                    \n",
       "<span style=\"color: #7fbfbf; text-decoration-color: #7fbfbf\">             </span>                                                                   \n",
       "</pre>\n"
      ],
      "text/plain": [
       "\u001b[2;36m10:51:24 BST\u001b[0m\u001b[2;36m \u001b[0mLatest Best Fit on Iter \u001b[1;36m0\u001b[0m: \u001b[1;36m0.78\u001b[0m                                    \n",
       "\u001b[2;36m             \u001b[0m                                                                   \n"
      ]
     },
     "metadata": {},
     "output_type": "display_data"
    },
    {
     "data": {
      "text/html": [
       "<pre style=\"white-space:pre;overflow-x:auto;line-height:normal;font-family:Menlo,'DejaVu Sans Mono',consolas,'Courier New',monospace\"><span style=\"color: #7fbfbf; text-decoration-color: #7fbfbf\">10:51:27 BST </span>Best Result: <span style=\"color: #008080; text-decoration-color: #008080; font-weight: bold\">0.7803578242268289</span>                                    \n",
       "<span style=\"color: #7fbfbf; text-decoration-color: #7fbfbf\">             </span>Best Parameters: radius: <span style=\"color: #008080; text-decoration-color: #008080; font-weight: bold\">1.1340174661327094</span> target_phi:            \n",
       "<span style=\"color: #7fbfbf; text-decoration-color: #7fbfbf\">             </span><span style=\"color: #008080; text-decoration-color: #008080; font-weight: bold\">-0.7051450523162064</span>                                                \n",
       "<span style=\"color: #7fbfbf; text-decoration-color: #7fbfbf\">             </span>                                                                   \n",
       "</pre>\n"
      ],
      "text/plain": [
       "\u001b[2;36m10:51:27 BST\u001b[0m\u001b[2;36m \u001b[0mBest Result: \u001b[1;36m0.7803578242268289\u001b[0m                                    \n",
       "\u001b[2;36m             \u001b[0mBest Parameters: radius: \u001b[1;36m1.1340174661327094\u001b[0m target_phi:            \n",
       "\u001b[2;36m             \u001b[0m\u001b[1;36m-0.7051450523162064\u001b[0m                                                \n",
       "\u001b[2;36m             \u001b[0m                                                                   \n"
      ]
     },
     "metadata": {},
     "output_type": "display_data"
    },
    {
     "data": {
      "text/html": [
       "<pre style=\"white-space:pre;overflow-x:auto;line-height:normal;font-family:Menlo,'DejaVu Sans Mono',consolas,'Courier New',monospace\"><span style=\"color: #7fbfbf; text-decoration-color: #7fbfbf\">             </span>Best Fit from Initial Solutions: <span style=\"color: #008080; text-decoration-color: #008080; font-weight: bold\">0.774</span>                             \n",
       "<span style=\"color: #7fbfbf; text-decoration-color: #7fbfbf\">             </span>                                                                   \n",
       "</pre>\n"
      ],
      "text/plain": [
       "\u001b[2;36m            \u001b[0m\u001b[2;36m \u001b[0mBest Fit from Initial Solutions: \u001b[1;36m0.774\u001b[0m                             \n",
       "\u001b[2;36m             \u001b[0m                                                                   \n"
      ]
     },
     "metadata": {},
     "output_type": "display_data"
    },
    {
     "data": {
      "text/html": [
       "<pre style=\"white-space:pre;overflow-x:auto;line-height:normal;font-family:Menlo,'DejaVu Sans Mono',consolas,'Courier New',monospace\"><span style=\"color: #7fbfbf; text-decoration-color: #7fbfbf\">10:51:28 BST </span>Latest Best Fit on Iter <span style=\"color: #008080; text-decoration-color: #008080; font-weight: bold\">0</span>: <span style=\"color: #008080; text-decoration-color: #008080; font-weight: bold\">0.774</span>                                   \n",
       "<span style=\"color: #7fbfbf; text-decoration-color: #7fbfbf\">             </span>                                                                   \n",
       "</pre>\n"
      ],
      "text/plain": [
       "\u001b[2;36m10:51:28 BST\u001b[0m\u001b[2;36m \u001b[0mLatest Best Fit on Iter \u001b[1;36m0\u001b[0m: \u001b[1;36m0.774\u001b[0m                                   \n",
       "\u001b[2;36m             \u001b[0m                                                                   \n"
      ]
     },
     "metadata": {},
     "output_type": "display_data"
    },
    {
     "data": {
      "text/html": [
       "<pre style=\"white-space:pre;overflow-x:auto;line-height:normal;font-family:Menlo,'DejaVu Sans Mono',consolas,'Courier New',monospace\"><span style=\"color: #7fbfbf; text-decoration-color: #7fbfbf\">10:51:29 BST </span>Latest Best Fit on Iter <span style=\"color: #008080; text-decoration-color: #008080; font-weight: bold\">1</span>: <span style=\"color: #008080; text-decoration-color: #008080; font-weight: bold\">0.774</span>                                   \n",
       "<span style=\"color: #7fbfbf; text-decoration-color: #7fbfbf\">             </span>                                                                   \n",
       "</pre>\n"
      ],
      "text/plain": [
       "\u001b[2;36m10:51:29 BST\u001b[0m\u001b[2;36m \u001b[0mLatest Best Fit on Iter \u001b[1;36m1\u001b[0m: \u001b[1;36m0.774\u001b[0m                                   \n",
       "\u001b[2;36m             \u001b[0m                                                                   \n"
      ]
     },
     "metadata": {},
     "output_type": "display_data"
    },
    {
     "data": {
      "text/html": [
       "<pre style=\"white-space:pre;overflow-x:auto;line-height:normal;font-family:Menlo,'DejaVu Sans Mono',consolas,'Courier New',monospace\"><span style=\"color: #7fbfbf; text-decoration-color: #7fbfbf\">10:51:31 BST </span>Latest Best Fit on Iter <span style=\"color: #008080; text-decoration-color: #008080; font-weight: bold\">2</span>: <span style=\"color: #008080; text-decoration-color: #008080; font-weight: bold\">0.774</span>                                   \n",
       "<span style=\"color: #7fbfbf; text-decoration-color: #7fbfbf\">             </span>                                                                   \n",
       "</pre>\n"
      ],
      "text/plain": [
       "\u001b[2;36m10:51:31 BST\u001b[0m\u001b[2;36m \u001b[0mLatest Best Fit on Iter \u001b[1;36m2\u001b[0m: \u001b[1;36m0.774\u001b[0m                                   \n",
       "\u001b[2;36m             \u001b[0m                                                                   \n"
      ]
     },
     "metadata": {},
     "output_type": "display_data"
    },
    {
     "data": {
      "text/html": [
       "<pre style=\"white-space:pre;overflow-x:auto;line-height:normal;font-family:Menlo,'DejaVu Sans Mono',consolas,'Courier New',monospace\"><span style=\"color: #7fbfbf; text-decoration-color: #7fbfbf\">             </span>Latest Best Fit on Iter <span style=\"color: #008080; text-decoration-color: #008080; font-weight: bold\">3</span>: <span style=\"color: #008080; text-decoration-color: #008080; font-weight: bold\">0.774</span>                                   \n",
       "<span style=\"color: #7fbfbf; text-decoration-color: #7fbfbf\">             </span>                                                                   \n",
       "</pre>\n"
      ],
      "text/plain": [
       "\u001b[2;36m            \u001b[0m\u001b[2;36m \u001b[0mLatest Best Fit on Iter \u001b[1;36m3\u001b[0m: \u001b[1;36m0.774\u001b[0m                                   \n",
       "\u001b[2;36m             \u001b[0m                                                                   \n"
      ]
     },
     "metadata": {},
     "output_type": "display_data"
    },
    {
     "data": {
      "text/html": [
       "<pre style=\"white-space:pre;overflow-x:auto;line-height:normal;font-family:Menlo,'DejaVu Sans Mono',consolas,'Courier New',monospace\"><span style=\"color: #7fbfbf; text-decoration-color: #7fbfbf\">10:51:33 BST </span>Best Result: <span style=\"color: #008080; text-decoration-color: #008080; font-weight: bold\">0.7736938268526533</span>                                    \n",
       "<span style=\"color: #7fbfbf; text-decoration-color: #7fbfbf\">             </span>Best Parameters: radius: <span style=\"color: #008080; text-decoration-color: #008080; font-weight: bold\">1.1409530072880423</span> target_phi:            \n",
       "<span style=\"color: #7fbfbf; text-decoration-color: #7fbfbf\">             </span><span style=\"color: #008080; text-decoration-color: #008080; font-weight: bold\">-0.57692046211934</span>                                                  \n",
       "<span style=\"color: #7fbfbf; text-decoration-color: #7fbfbf\">             </span>                                                                   \n",
       "</pre>\n"
      ],
      "text/plain": [
       "\u001b[2;36m10:51:33 BST\u001b[0m\u001b[2;36m \u001b[0mBest Result: \u001b[1;36m0.7736938268526533\u001b[0m                                    \n",
       "\u001b[2;36m             \u001b[0mBest Parameters: radius: \u001b[1;36m1.1409530072880423\u001b[0m target_phi:            \n",
       "\u001b[2;36m             \u001b[0m\u001b[1;36m-0.57692046211934\u001b[0m                                                  \n",
       "\u001b[2;36m             \u001b[0m                                                                   \n"
      ]
     },
     "metadata": {},
     "output_type": "display_data"
    },
    {
     "data": {
      "text/html": [
       "<pre style=\"white-space:pre;overflow-x:auto;line-height:normal;font-family:Menlo,'DejaVu Sans Mono',consolas,'Courier New',monospace\"><span style=\"color: #7fbfbf; text-decoration-color: #7fbfbf\">             </span>Best Fit from Initial Solutions: <span style=\"color: #008080; text-decoration-color: #008080; font-weight: bold\">0.766</span>                             \n",
       "<span style=\"color: #7fbfbf; text-decoration-color: #7fbfbf\">             </span>                                                                   \n",
       "</pre>\n"
      ],
      "text/plain": [
       "\u001b[2;36m            \u001b[0m\u001b[2;36m \u001b[0mBest Fit from Initial Solutions: \u001b[1;36m0.766\u001b[0m                             \n",
       "\u001b[2;36m             \u001b[0m                                                                   \n"
      ]
     },
     "metadata": {},
     "output_type": "display_data"
    },
    {
     "data": {
      "text/html": [
       "<pre style=\"white-space:pre;overflow-x:auto;line-height:normal;font-family:Menlo,'DejaVu Sans Mono',consolas,'Courier New',monospace\"><span style=\"color: #7fbfbf; text-decoration-color: #7fbfbf\">             </span>Latest Best Fit on Iter <span style=\"color: #008080; text-decoration-color: #008080; font-weight: bold\">0</span>: <span style=\"color: #008080; text-decoration-color: #008080; font-weight: bold\">0.768</span>                                   \n",
       "<span style=\"color: #7fbfbf; text-decoration-color: #7fbfbf\">             </span>                                                                   \n",
       "</pre>\n"
      ],
      "text/plain": [
       "\u001b[2;36m            \u001b[0m\u001b[2;36m \u001b[0mLatest Best Fit on Iter \u001b[1;36m0\u001b[0m: \u001b[1;36m0.768\u001b[0m                                   \n",
       "\u001b[2;36m             \u001b[0m                                                                   \n"
      ]
     },
     "metadata": {},
     "output_type": "display_data"
    },
    {
     "data": {
      "text/html": [
       "<pre style=\"white-space:pre;overflow-x:auto;line-height:normal;font-family:Menlo,'DejaVu Sans Mono',consolas,'Courier New',monospace\"><span style=\"color: #7fbfbf; text-decoration-color: #7fbfbf\">10:51:35 BST </span>Best Result: <span style=\"color: #008080; text-decoration-color: #008080; font-weight: bold\">0.7677129866372941</span>                                    \n",
       "<span style=\"color: #7fbfbf; text-decoration-color: #7fbfbf\">             </span>Best Parameters: radius: <span style=\"color: #008080; text-decoration-color: #008080; font-weight: bold\">1.1443090824510234</span> target_phi:            \n",
       "<span style=\"color: #7fbfbf; text-decoration-color: #7fbfbf\">             </span><span style=\"color: #008080; text-decoration-color: #008080; font-weight: bold\">-0.4486958719224732</span>                                                \n",
       "<span style=\"color: #7fbfbf; text-decoration-color: #7fbfbf\">             </span>                                                                   \n",
       "</pre>\n"
      ],
      "text/plain": [
       "\u001b[2;36m10:51:35 BST\u001b[0m\u001b[2;36m \u001b[0mBest Result: \u001b[1;36m0.7677129866372941\u001b[0m                                    \n",
       "\u001b[2;36m             \u001b[0mBest Parameters: radius: \u001b[1;36m1.1443090824510234\u001b[0m target_phi:            \n",
       "\u001b[2;36m             \u001b[0m\u001b[1;36m-0.4486958719224732\u001b[0m                                                \n",
       "\u001b[2;36m             \u001b[0m                                                                   \n"
      ]
     },
     "metadata": {},
     "output_type": "display_data"
    },
    {
     "data": {
      "text/html": [
       "<pre style=\"white-space:pre;overflow-x:auto;line-height:normal;font-family:Menlo,'DejaVu Sans Mono',consolas,'Courier New',monospace\"><span style=\"color: #7fbfbf; text-decoration-color: #7fbfbf\">10:51:36 BST </span>Best Fit from Initial Solutions: <span style=\"color: #008080; text-decoration-color: #008080; font-weight: bold\">0.749</span>                             \n",
       "<span style=\"color: #7fbfbf; text-decoration-color: #7fbfbf\">             </span>                                                                   \n",
       "</pre>\n"
      ],
      "text/plain": [
       "\u001b[2;36m10:51:36 BST\u001b[0m\u001b[2;36m \u001b[0mBest Fit from Initial Solutions: \u001b[1;36m0.749\u001b[0m                             \n",
       "\u001b[2;36m             \u001b[0m                                                                   \n"
      ]
     },
     "metadata": {},
     "output_type": "display_data"
    },
    {
     "data": {
      "text/html": [
       "<pre style=\"white-space:pre;overflow-x:auto;line-height:normal;font-family:Menlo,'DejaVu Sans Mono',consolas,'Courier New',monospace\"><span style=\"color: #7fbfbf; text-decoration-color: #7fbfbf\">10:51:38 BST </span>Best Result: <span style=\"color: #008080; text-decoration-color: #008080; font-weight: bold\">0.7492414979497265</span>                                    \n",
       "<span style=\"color: #7fbfbf; text-decoration-color: #7fbfbf\">             </span>Best Parameters: radius: <span style=\"color: #008080; text-decoration-color: #008080; font-weight: bold\">1.1454093304830633</span> target_phi:            \n",
       "<span style=\"color: #7fbfbf; text-decoration-color: #7fbfbf\">             </span><span style=\"color: #008080; text-decoration-color: #008080; font-weight: bold\">-0.3204712817256068</span>                                                \n",
       "<span style=\"color: #7fbfbf; text-decoration-color: #7fbfbf\">             </span>                                                                   \n",
       "</pre>\n"
      ],
      "text/plain": [
       "\u001b[2;36m10:51:38 BST\u001b[0m\u001b[2;36m \u001b[0mBest Result: \u001b[1;36m0.7492414979497265\u001b[0m                                    \n",
       "\u001b[2;36m             \u001b[0mBest Parameters: radius: \u001b[1;36m1.1454093304830633\u001b[0m target_phi:            \n",
       "\u001b[2;36m             \u001b[0m\u001b[1;36m-0.3204712817256068\u001b[0m                                                \n",
       "\u001b[2;36m             \u001b[0m                                                                   \n"
      ]
     },
     "metadata": {},
     "output_type": "display_data"
    },
    {
     "data": {
      "text/html": [
       "<pre style=\"white-space:pre;overflow-x:auto;line-height:normal;font-family:Menlo,'DejaVu Sans Mono',consolas,'Courier New',monospace\"><span style=\"color: #7fbfbf; text-decoration-color: #7fbfbf\">             </span>Best Fit from Initial Solutions: <span style=\"color: #008080; text-decoration-color: #008080; font-weight: bold\">0.732</span>                             \n",
       "<span style=\"color: #7fbfbf; text-decoration-color: #7fbfbf\">             </span>                                                                   \n",
       "</pre>\n"
      ],
      "text/plain": [
       "\u001b[2;36m            \u001b[0m\u001b[2;36m \u001b[0mBest Fit from Initial Solutions: \u001b[1;36m0.732\u001b[0m                             \n",
       "\u001b[2;36m             \u001b[0m                                                                   \n"
      ]
     },
     "metadata": {},
     "output_type": "display_data"
    },
    {
     "data": {
      "text/html": [
       "<pre style=\"white-space:pre;overflow-x:auto;line-height:normal;font-family:Menlo,'DejaVu Sans Mono',consolas,'Courier New',monospace\"><span style=\"color: #7fbfbf; text-decoration-color: #7fbfbf\">10:51:43 BST </span>Best Result: <span style=\"color: #008080; text-decoration-color: #008080; font-weight: bold\">0.7320194975388907</span>                                    \n",
       "<span style=\"color: #7fbfbf; text-decoration-color: #7fbfbf\">             </span>Best Parameters: radius: <span style=\"color: #008080; text-decoration-color: #008080; font-weight: bold\">1.1646193935697327</span> target_phi:            \n",
       "<span style=\"color: #7fbfbf; text-decoration-color: #7fbfbf\">             </span><span style=\"color: #008080; text-decoration-color: #008080; font-weight: bold\">-0.19224669152873997</span>                                               \n",
       "<span style=\"color: #7fbfbf; text-decoration-color: #7fbfbf\">             </span>                                                                   \n",
       "</pre>\n"
      ],
      "text/plain": [
       "\u001b[2;36m10:51:43 BST\u001b[0m\u001b[2;36m \u001b[0mBest Result: \u001b[1;36m0.7320194975388907\u001b[0m                                    \n",
       "\u001b[2;36m             \u001b[0mBest Parameters: radius: \u001b[1;36m1.1646193935697327\u001b[0m target_phi:            \n",
       "\u001b[2;36m             \u001b[0m\u001b[1;36m-0.19224669152873997\u001b[0m                                               \n",
       "\u001b[2;36m             \u001b[0m                                                                   \n"
      ]
     },
     "metadata": {},
     "output_type": "display_data"
    },
    {
     "data": {
      "text/html": [
       "<pre style=\"white-space:pre;overflow-x:auto;line-height:normal;font-family:Menlo,'DejaVu Sans Mono',consolas,'Courier New',monospace\"><span style=\"color: #7fbfbf; text-decoration-color: #7fbfbf\">             </span>Best Fit from Initial Solutions: <span style=\"color: #008080; text-decoration-color: #008080; font-weight: bold\">0.726</span>                             \n",
       "<span style=\"color: #7fbfbf; text-decoration-color: #7fbfbf\">             </span>                                                                   \n",
       "</pre>\n"
      ],
      "text/plain": [
       "\u001b[2;36m            \u001b[0m\u001b[2;36m \u001b[0mBest Fit from Initial Solutions: \u001b[1;36m0.726\u001b[0m                             \n",
       "\u001b[2;36m             \u001b[0m                                                                   \n"
      ]
     },
     "metadata": {},
     "output_type": "display_data"
    },
    {
     "data": {
      "text/html": [
       "<pre style=\"white-space:pre;overflow-x:auto;line-height:normal;font-family:Menlo,'DejaVu Sans Mono',consolas,'Courier New',monospace\"><span style=\"color: #7fbfbf; text-decoration-color: #7fbfbf\">10:51:46 BST </span>Best Result: <span style=\"color: #008080; text-decoration-color: #008080; font-weight: bold\">0.7261635827108355</span>                                    \n",
       "<span style=\"color: #7fbfbf; text-decoration-color: #7fbfbf\">             </span>Best Parameters: radius: <span style=\"color: #008080; text-decoration-color: #008080; font-weight: bold\">1.1646193935697327</span> target_phi:            \n",
       "<span style=\"color: #7fbfbf; text-decoration-color: #7fbfbf\">             </span><span style=\"color: #008080; text-decoration-color: #008080; font-weight: bold\">-0.06402210133187314</span>                                               \n",
       "<span style=\"color: #7fbfbf; text-decoration-color: #7fbfbf\">             </span>                                                                   \n",
       "</pre>\n"
      ],
      "text/plain": [
       "\u001b[2;36m10:51:46 BST\u001b[0m\u001b[2;36m \u001b[0mBest Result: \u001b[1;36m0.7261635827108355\u001b[0m                                    \n",
       "\u001b[2;36m             \u001b[0mBest Parameters: radius: \u001b[1;36m1.1646193935697327\u001b[0m target_phi:            \n",
       "\u001b[2;36m             \u001b[0m\u001b[1;36m-0.06402210133187314\u001b[0m                                               \n",
       "\u001b[2;36m             \u001b[0m                                                                   \n"
      ]
     },
     "metadata": {},
     "output_type": "display_data"
    },
    {
     "data": {
      "text/html": [
       "<pre style=\"white-space:pre;overflow-x:auto;line-height:normal;font-family:Menlo,'DejaVu Sans Mono',consolas,'Courier New',monospace\"><span style=\"color: #7fbfbf; text-decoration-color: #7fbfbf\">10:51:47 BST </span>Best Fit from Initial Solutions: <span style=\"color: #008080; text-decoration-color: #008080; font-weight: bold\">0.708</span>                             \n",
       "<span style=\"color: #7fbfbf; text-decoration-color: #7fbfbf\">             </span>                                                                   \n",
       "</pre>\n"
      ],
      "text/plain": [
       "\u001b[2;36m10:51:47 BST\u001b[0m\u001b[2;36m \u001b[0mBest Fit from Initial Solutions: \u001b[1;36m0.708\u001b[0m                             \n",
       "\u001b[2;36m             \u001b[0m                                                                   \n"
      ]
     },
     "metadata": {},
     "output_type": "display_data"
    },
    {
     "data": {
      "text/html": [
       "<pre style=\"white-space:pre;overflow-x:auto;line-height:normal;font-family:Menlo,'DejaVu Sans Mono',consolas,'Courier New',monospace\"><span style=\"color: #7fbfbf; text-decoration-color: #7fbfbf\">10:51:50 BST </span>Best Result: <span style=\"color: #008080; text-decoration-color: #008080; font-weight: bold\">0.708384765624418</span>                                     \n",
       "<span style=\"color: #7fbfbf; text-decoration-color: #7fbfbf\">             </span>Best Parameters: radius: <span style=\"color: #008080; text-decoration-color: #008080; font-weight: bold\">1.1646193935697327</span> target_phi:            \n",
       "<span style=\"color: #7fbfbf; text-decoration-color: #7fbfbf\">             </span><span style=\"color: #008080; text-decoration-color: #008080; font-weight: bold\">0.06420248886499325</span>                                                \n",
       "<span style=\"color: #7fbfbf; text-decoration-color: #7fbfbf\">             </span>                                                                   \n",
       "</pre>\n"
      ],
      "text/plain": [
       "\u001b[2;36m10:51:50 BST\u001b[0m\u001b[2;36m \u001b[0mBest Result: \u001b[1;36m0.708384765624418\u001b[0m                                     \n",
       "\u001b[2;36m             \u001b[0mBest Parameters: radius: \u001b[1;36m1.1646193935697327\u001b[0m target_phi:            \n",
       "\u001b[2;36m             \u001b[0m\u001b[1;36m0.06420248886499325\u001b[0m                                                \n",
       "\u001b[2;36m             \u001b[0m                                                                   \n"
      ]
     },
     "metadata": {},
     "output_type": "display_data"
    },
    {
     "data": {
      "text/html": [
       "<pre style=\"white-space:pre;overflow-x:auto;line-height:normal;font-family:Menlo,'DejaVu Sans Mono',consolas,'Courier New',monospace\"><span style=\"color: #7fbfbf; text-decoration-color: #7fbfbf\">             </span>Best Fit from Initial Solutions: <span style=\"color: #008080; text-decoration-color: #008080; font-weight: bold\">0.69</span>                              \n",
       "<span style=\"color: #7fbfbf; text-decoration-color: #7fbfbf\">             </span>                                                                   \n",
       "</pre>\n"
      ],
      "text/plain": [
       "\u001b[2;36m            \u001b[0m\u001b[2;36m \u001b[0mBest Fit from Initial Solutions: \u001b[1;36m0.69\u001b[0m                              \n",
       "\u001b[2;36m             \u001b[0m                                                                   \n"
      ]
     },
     "metadata": {},
     "output_type": "display_data"
    },
    {
     "data": {
      "text/html": [
       "<pre style=\"white-space:pre;overflow-x:auto;line-height:normal;font-family:Menlo,'DejaVu Sans Mono',consolas,'Courier New',monospace\"><span style=\"color: #7fbfbf; text-decoration-color: #7fbfbf\">10:51:53 BST </span>Best Result: <span style=\"color: #008080; text-decoration-color: #008080; font-weight: bold\">0.6903121536449612</span>                                    \n",
       "<span style=\"color: #7fbfbf; text-decoration-color: #7fbfbf\">             </span>Best Parameters: radius: <span style=\"color: #008080; text-decoration-color: #008080; font-weight: bold\">1.1785436428993452</span> target_phi:            \n",
       "<span style=\"color: #7fbfbf; text-decoration-color: #7fbfbf\">             </span><span style=\"color: #008080; text-decoration-color: #008080; font-weight: bold\">0.19242707906186007</span>                                                \n",
       "<span style=\"color: #7fbfbf; text-decoration-color: #7fbfbf\">             </span>                                                                   \n",
       "</pre>\n"
      ],
      "text/plain": [
       "\u001b[2;36m10:51:53 BST\u001b[0m\u001b[2;36m \u001b[0mBest Result: \u001b[1;36m0.6903121536449612\u001b[0m                                    \n",
       "\u001b[2;36m             \u001b[0mBest Parameters: radius: \u001b[1;36m1.1785436428993452\u001b[0m target_phi:            \n",
       "\u001b[2;36m             \u001b[0m\u001b[1;36m0.19242707906186007\u001b[0m                                                \n",
       "\u001b[2;36m             \u001b[0m                                                                   \n"
      ]
     },
     "metadata": {},
     "output_type": "display_data"
    },
    {
     "data": {
      "text/html": [
       "<pre style=\"white-space:pre;overflow-x:auto;line-height:normal;font-family:Menlo,'DejaVu Sans Mono',consolas,'Courier New',monospace\"><span style=\"color: #7fbfbf; text-decoration-color: #7fbfbf\">             </span>Best Fit from Initial Solutions: <span style=\"color: #008080; text-decoration-color: #008080; font-weight: bold\">0.677</span>                             \n",
       "<span style=\"color: #7fbfbf; text-decoration-color: #7fbfbf\">             </span>                                                                   \n",
       "</pre>\n"
      ],
      "text/plain": [
       "\u001b[2;36m            \u001b[0m\u001b[2;36m \u001b[0mBest Fit from Initial Solutions: \u001b[1;36m0.677\u001b[0m                             \n",
       "\u001b[2;36m             \u001b[0m                                                                   \n"
      ]
     },
     "metadata": {},
     "output_type": "display_data"
    },
    {
     "data": {
      "text/html": [
       "<pre style=\"white-space:pre;overflow-x:auto;line-height:normal;font-family:Menlo,'DejaVu Sans Mono',consolas,'Courier New',monospace\"><span style=\"color: #7fbfbf; text-decoration-color: #7fbfbf\">             </span>Latest Best Fit on Iter <span style=\"color: #008080; text-decoration-color: #008080; font-weight: bold\">0</span>: <span style=\"color: #008080; text-decoration-color: #008080; font-weight: bold\">0.677</span>                                   \n",
       "<span style=\"color: #7fbfbf; text-decoration-color: #7fbfbf\">             </span>                                                                   \n",
       "</pre>\n"
      ],
      "text/plain": [
       "\u001b[2;36m            \u001b[0m\u001b[2;36m \u001b[0mLatest Best Fit on Iter \u001b[1;36m0\u001b[0m: \u001b[1;36m0.677\u001b[0m                                   \n",
       "\u001b[2;36m             \u001b[0m                                                                   \n"
      ]
     },
     "metadata": {},
     "output_type": "display_data"
    },
    {
     "data": {
      "text/html": [
       "<pre style=\"white-space:pre;overflow-x:auto;line-height:normal;font-family:Menlo,'DejaVu Sans Mono',consolas,'Courier New',monospace\"><span style=\"color: #7fbfbf; text-decoration-color: #7fbfbf\">10:51:54 BST </span>Latest Best Fit on Iter <span style=\"color: #008080; text-decoration-color: #008080; font-weight: bold\">1</span>: <span style=\"color: #008080; text-decoration-color: #008080; font-weight: bold\">0.677</span>                                   \n",
       "<span style=\"color: #7fbfbf; text-decoration-color: #7fbfbf\">             </span>                                                                   \n",
       "</pre>\n"
      ],
      "text/plain": [
       "\u001b[2;36m10:51:54 BST\u001b[0m\u001b[2;36m \u001b[0mLatest Best Fit on Iter \u001b[1;36m1\u001b[0m: \u001b[1;36m0.677\u001b[0m                                   \n",
       "\u001b[2;36m             \u001b[0m                                                                   \n"
      ]
     },
     "metadata": {},
     "output_type": "display_data"
    },
    {
     "data": {
      "text/html": [
       "<pre style=\"white-space:pre;overflow-x:auto;line-height:normal;font-family:Menlo,'DejaVu Sans Mono',consolas,'Courier New',monospace\"><span style=\"color: #7fbfbf; text-decoration-color: #7fbfbf\">10:51:56 BST </span>Best Result: <span style=\"color: #008080; text-decoration-color: #008080; font-weight: bold\">0.677064131810036</span>                                     \n",
       "<span style=\"color: #7fbfbf; text-decoration-color: #7fbfbf\">             </span>Best Parameters: radius: <span style=\"color: #008080; text-decoration-color: #008080; font-weight: bold\">1.1798043849539868</span> target_phi:            \n",
       "<span style=\"color: #7fbfbf; text-decoration-color: #7fbfbf\">             </span><span style=\"color: #008080; text-decoration-color: #008080; font-weight: bold\">0.32065166925872646</span>                                                \n",
       "<span style=\"color: #7fbfbf; text-decoration-color: #7fbfbf\">             </span>                                                                   \n",
       "</pre>\n"
      ],
      "text/plain": [
       "\u001b[2;36m10:51:56 BST\u001b[0m\u001b[2;36m \u001b[0mBest Result: \u001b[1;36m0.677064131810036\u001b[0m                                     \n",
       "\u001b[2;36m             \u001b[0mBest Parameters: radius: \u001b[1;36m1.1798043849539868\u001b[0m target_phi:            \n",
       "\u001b[2;36m             \u001b[0m\u001b[1;36m0.32065166925872646\u001b[0m                                                \n",
       "\u001b[2;36m             \u001b[0m                                                                   \n"
      ]
     },
     "metadata": {},
     "output_type": "display_data"
    },
    {
     "data": {
      "text/html": [
       "<pre style=\"white-space:pre;overflow-x:auto;line-height:normal;font-family:Menlo,'DejaVu Sans Mono',consolas,'Courier New',monospace\"><span style=\"color: #7fbfbf; text-decoration-color: #7fbfbf\">             </span>Best Fit from Initial Solutions: <span style=\"color: #008080; text-decoration-color: #008080; font-weight: bold\">0.662</span>                             \n",
       "<span style=\"color: #7fbfbf; text-decoration-color: #7fbfbf\">             </span>                                                                   \n",
       "</pre>\n"
      ],
      "text/plain": [
       "\u001b[2;36m            \u001b[0m\u001b[2;36m \u001b[0mBest Fit from Initial Solutions: \u001b[1;36m0.662\u001b[0m                             \n",
       "\u001b[2;36m             \u001b[0m                                                                   \n"
      ]
     },
     "metadata": {},
     "output_type": "display_data"
    },
    {
     "data": {
      "text/html": [
       "<pre style=\"white-space:pre;overflow-x:auto;line-height:normal;font-family:Menlo,'DejaVu Sans Mono',consolas,'Courier New',monospace\"><span style=\"color: #7fbfbf; text-decoration-color: #7fbfbf\">10:52:00 BST </span>Best Result: <span style=\"color: #008080; text-decoration-color: #008080; font-weight: bold\">0.6624310185625887</span>                                    \n",
       "<span style=\"color: #7fbfbf; text-decoration-color: #7fbfbf\">             </span>Best Parameters: radius: <span style=\"color: #008080; text-decoration-color: #008080; font-weight: bold\">1.1977985279264658</span> target_phi:            \n",
       "<span style=\"color: #7fbfbf; text-decoration-color: #7fbfbf\">             </span><span style=\"color: #008080; text-decoration-color: #008080; font-weight: bold\">0.4488762594555933</span>                                                 \n",
       "<span style=\"color: #7fbfbf; text-decoration-color: #7fbfbf\">             </span>                                                                   \n",
       "</pre>\n"
      ],
      "text/plain": [
       "\u001b[2;36m10:52:00 BST\u001b[0m\u001b[2;36m \u001b[0mBest Result: \u001b[1;36m0.6624310185625887\u001b[0m                                    \n",
       "\u001b[2;36m             \u001b[0mBest Parameters: radius: \u001b[1;36m1.1977985279264658\u001b[0m target_phi:            \n",
       "\u001b[2;36m             \u001b[0m\u001b[1;36m0.4488762594555933\u001b[0m                                                 \n",
       "\u001b[2;36m             \u001b[0m                                                                   \n"
      ]
     },
     "metadata": {},
     "output_type": "display_data"
    },
    {
     "data": {
      "text/html": [
       "<pre style=\"white-space:pre;overflow-x:auto;line-height:normal;font-family:Menlo,'DejaVu Sans Mono',consolas,'Courier New',monospace\"><span style=\"color: #7fbfbf; text-decoration-color: #7fbfbf\">             </span>Best Fit from Initial Solutions: <span style=\"color: #008080; text-decoration-color: #008080; font-weight: bold\">0.664</span>                             \n",
       "<span style=\"color: #7fbfbf; text-decoration-color: #7fbfbf\">             </span>                                                                   \n",
       "</pre>\n"
      ],
      "text/plain": [
       "\u001b[2;36m            \u001b[0m\u001b[2;36m \u001b[0mBest Fit from Initial Solutions: \u001b[1;36m0.664\u001b[0m                             \n",
       "\u001b[2;36m             \u001b[0m                                                                   \n"
      ]
     },
     "metadata": {},
     "output_type": "display_data"
    },
    {
     "data": {
      "text/html": [
       "<pre style=\"white-space:pre;overflow-x:auto;line-height:normal;font-family:Menlo,'DejaVu Sans Mono',consolas,'Courier New',monospace\"><span style=\"color: #7fbfbf; text-decoration-color: #7fbfbf\">10:52:01 BST </span>Latest Best Fit on Iter <span style=\"color: #008080; text-decoration-color: #008080; font-weight: bold\">0</span>: <span style=\"color: #008080; text-decoration-color: #008080; font-weight: bold\">0.664</span>                                   \n",
       "<span style=\"color: #7fbfbf; text-decoration-color: #7fbfbf\">             </span>                                                                   \n",
       "</pre>\n"
      ],
      "text/plain": [
       "\u001b[2;36m10:52:01 BST\u001b[0m\u001b[2;36m \u001b[0mLatest Best Fit on Iter \u001b[1;36m0\u001b[0m: \u001b[1;36m0.664\u001b[0m                                   \n",
       "\u001b[2;36m             \u001b[0m                                                                   \n"
      ]
     },
     "metadata": {},
     "output_type": "display_data"
    },
    {
     "data": {
      "text/html": [
       "<pre style=\"white-space:pre;overflow-x:auto;line-height:normal;font-family:Menlo,'DejaVu Sans Mono',consolas,'Courier New',monospace\"><span style=\"color: #7fbfbf; text-decoration-color: #7fbfbf\">             </span>Latest Best Fit on Iter <span style=\"color: #008080; text-decoration-color: #008080; font-weight: bold\">1</span>: <span style=\"color: #008080; text-decoration-color: #008080; font-weight: bold\">0.664</span>                                   \n",
       "<span style=\"color: #7fbfbf; text-decoration-color: #7fbfbf\">             </span>                                                                   \n",
       "</pre>\n"
      ],
      "text/plain": [
       "\u001b[2;36m            \u001b[0m\u001b[2;36m \u001b[0mLatest Best Fit on Iter \u001b[1;36m1\u001b[0m: \u001b[1;36m0.664\u001b[0m                                   \n",
       "\u001b[2;36m             \u001b[0m                                                                   \n"
      ]
     },
     "metadata": {},
     "output_type": "display_data"
    },
    {
     "data": {
      "text/html": [
       "<pre style=\"white-space:pre;overflow-x:auto;line-height:normal;font-family:Menlo,'DejaVu Sans Mono',consolas,'Courier New',monospace\"><span style=\"color: #7fbfbf; text-decoration-color: #7fbfbf\">10:52:02 BST </span>Latest Best Fit on Iter <span style=\"color: #008080; text-decoration-color: #008080; font-weight: bold\">2</span>: <span style=\"color: #008080; text-decoration-color: #008080; font-weight: bold\">0.664</span>                                   \n",
       "<span style=\"color: #7fbfbf; text-decoration-color: #7fbfbf\">             </span>                                                                   \n",
       "</pre>\n"
      ],
      "text/plain": [
       "\u001b[2;36m10:52:02 BST\u001b[0m\u001b[2;36m \u001b[0mLatest Best Fit on Iter \u001b[1;36m2\u001b[0m: \u001b[1;36m0.664\u001b[0m                                   \n",
       "\u001b[2;36m             \u001b[0m                                                                   \n"
      ]
     },
     "metadata": {},
     "output_type": "display_data"
    },
    {
     "data": {
      "text/html": [
       "<pre style=\"white-space:pre;overflow-x:auto;line-height:normal;font-family:Menlo,'DejaVu Sans Mono',consolas,'Courier New',monospace\"><span style=\"color: #7fbfbf; text-decoration-color: #7fbfbf\">             </span>Latest Best Fit on Iter <span style=\"color: #008080; text-decoration-color: #008080; font-weight: bold\">3</span>: <span style=\"color: #008080; text-decoration-color: #008080; font-weight: bold\">0.664</span>                                   \n",
       "<span style=\"color: #7fbfbf; text-decoration-color: #7fbfbf\">             </span>                                                                   \n",
       "</pre>\n"
      ],
      "text/plain": [
       "\u001b[2;36m            \u001b[0m\u001b[2;36m \u001b[0mLatest Best Fit on Iter \u001b[1;36m3\u001b[0m: \u001b[1;36m0.664\u001b[0m                                   \n",
       "\u001b[2;36m             \u001b[0m                                                                   \n"
      ]
     },
     "metadata": {},
     "output_type": "display_data"
    },
    {
     "data": {
      "text/html": [
       "<pre style=\"white-space:pre;overflow-x:auto;line-height:normal;font-family:Menlo,'DejaVu Sans Mono',consolas,'Courier New',monospace\"><span style=\"color: #7fbfbf; text-decoration-color: #7fbfbf\">10:52:04 BST </span>Latest Best Fit on Iter <span style=\"color: #008080; text-decoration-color: #008080; font-weight: bold\">4</span>: <span style=\"color: #008080; text-decoration-color: #008080; font-weight: bold\">0.664</span>                                   \n",
       "<span style=\"color: #7fbfbf; text-decoration-color: #7fbfbf\">             </span>                                                                   \n",
       "</pre>\n"
      ],
      "text/plain": [
       "\u001b[2;36m10:52:04 BST\u001b[0m\u001b[2;36m \u001b[0mLatest Best Fit on Iter \u001b[1;36m4\u001b[0m: \u001b[1;36m0.664\u001b[0m                                   \n",
       "\u001b[2;36m             \u001b[0m                                                                   \n"
      ]
     },
     "metadata": {},
     "output_type": "display_data"
    },
    {
     "data": {
      "text/html": [
       "<pre style=\"white-space:pre;overflow-x:auto;line-height:normal;font-family:Menlo,'DejaVu Sans Mono',consolas,'Courier New',monospace\"><span style=\"color: #7fbfbf; text-decoration-color: #7fbfbf\">             </span>Best Result: <span style=\"color: #008080; text-decoration-color: #008080; font-weight: bold\">0.6642676092146235</span>                                    \n",
       "<span style=\"color: #7fbfbf; text-decoration-color: #7fbfbf\">             </span>Best Parameters: radius: <span style=\"color: #008080; text-decoration-color: #008080; font-weight: bold\">1.1989794386050552</span> target_phi:            \n",
       "<span style=\"color: #7fbfbf; text-decoration-color: #7fbfbf\">             </span><span style=\"color: #008080; text-decoration-color: #008080; font-weight: bold\">0.5771008496524597</span>                                                 \n",
       "<span style=\"color: #7fbfbf; text-decoration-color: #7fbfbf\">             </span>                                                                   \n",
       "</pre>\n"
      ],
      "text/plain": [
       "\u001b[2;36m            \u001b[0m\u001b[2;36m \u001b[0mBest Result: \u001b[1;36m0.6642676092146235\u001b[0m                                    \n",
       "\u001b[2;36m             \u001b[0mBest Parameters: radius: \u001b[1;36m1.1989794386050552\u001b[0m target_phi:            \n",
       "\u001b[2;36m             \u001b[0m\u001b[1;36m0.5771008496524597\u001b[0m                                                 \n",
       "\u001b[2;36m             \u001b[0m                                                                   \n"
      ]
     },
     "metadata": {},
     "output_type": "display_data"
    },
    {
     "data": {
      "text/html": [
       "<pre style=\"white-space:pre;overflow-x:auto;line-height:normal;font-family:Menlo,'DejaVu Sans Mono',consolas,'Courier New',monospace\"><span style=\"color: #7fbfbf; text-decoration-color: #7fbfbf\">             </span>Best Fit from Initial Solutions: <span style=\"color: #008080; text-decoration-color: #008080; font-weight: bold\">0.655</span>                             \n",
       "<span style=\"color: #7fbfbf; text-decoration-color: #7fbfbf\">             </span>                                                                   \n",
       "</pre>\n"
      ],
      "text/plain": [
       "\u001b[2;36m            \u001b[0m\u001b[2;36m \u001b[0mBest Fit from Initial Solutions: \u001b[1;36m0.655\u001b[0m                             \n",
       "\u001b[2;36m             \u001b[0m                                                                   \n"
      ]
     },
     "metadata": {},
     "output_type": "display_data"
    },
    {
     "data": {
      "text/html": [
       "<pre style=\"white-space:pre;overflow-x:auto;line-height:normal;font-family:Menlo,'DejaVu Sans Mono',consolas,'Courier New',monospace\"><span style=\"color: #7fbfbf; text-decoration-color: #7fbfbf\">10:52:07 BST </span>Best Result: <span style=\"color: #008080; text-decoration-color: #008080; font-weight: bold\">0.655232762263565</span>                                     \n",
       "<span style=\"color: #7fbfbf; text-decoration-color: #7fbfbf\">             </span>Best Parameters: radius: <span style=\"color: #008080; text-decoration-color: #008080; font-weight: bold\">1.1994957493648597</span> target_phi:            \n",
       "<span style=\"color: #7fbfbf; text-decoration-color: #7fbfbf\">             </span><span style=\"color: #008080; text-decoration-color: #008080; font-weight: bold\">0.7053254398493265</span>                                                 \n",
       "<span style=\"color: #7fbfbf; text-decoration-color: #7fbfbf\">             </span>                                                                   \n",
       "</pre>\n"
      ],
      "text/plain": [
       "\u001b[2;36m10:52:07 BST\u001b[0m\u001b[2;36m \u001b[0mBest Result: \u001b[1;36m0.655232762263565\u001b[0m                                     \n",
       "\u001b[2;36m             \u001b[0mBest Parameters: radius: \u001b[1;36m1.1994957493648597\u001b[0m target_phi:            \n",
       "\u001b[2;36m             \u001b[0m\u001b[1;36m0.7053254398493265\u001b[0m                                                 \n",
       "\u001b[2;36m             \u001b[0m                                                                   \n"
      ]
     },
     "metadata": {},
     "output_type": "display_data"
    },
    {
     "data": {
      "text/html": [
       "<pre style=\"white-space:pre;overflow-x:auto;line-height:normal;font-family:Menlo,'DejaVu Sans Mono',consolas,'Courier New',monospace\"><span style=\"color: #7fbfbf; text-decoration-color: #7fbfbf\">10:52:08 BST </span>Best Fit from Initial Solutions: <span style=\"color: #008080; text-decoration-color: #008080; font-weight: bold\">0.636</span>                             \n",
       "<span style=\"color: #7fbfbf; text-decoration-color: #7fbfbf\">             </span>                                                                   \n",
       "</pre>\n"
      ],
      "text/plain": [
       "\u001b[2;36m10:52:08 BST\u001b[0m\u001b[2;36m \u001b[0mBest Fit from Initial Solutions: \u001b[1;36m0.636\u001b[0m                             \n",
       "\u001b[2;36m             \u001b[0m                                                                   \n"
      ]
     },
     "metadata": {},
     "output_type": "display_data"
    },
    {
     "data": {
      "text/html": [
       "<pre style=\"white-space:pre;overflow-x:auto;line-height:normal;font-family:Menlo,'DejaVu Sans Mono',consolas,'Courier New',monospace\"><span style=\"color: #7fbfbf; text-decoration-color: #7fbfbf\">10:52:11 BST </span>Best Result: <span style=\"color: #008080; text-decoration-color: #008080; font-weight: bold\">0.6355085233366149</span>                                    \n",
       "<span style=\"color: #7fbfbf; text-decoration-color: #7fbfbf\">             </span>Best Parameters: radius: <span style=\"color: #008080; text-decoration-color: #008080; font-weight: bold\">1.1994957493648597</span> target_phi:            \n",
       "<span style=\"color: #7fbfbf; text-decoration-color: #7fbfbf\">             </span><span style=\"color: #008080; text-decoration-color: #008080; font-weight: bold\">0.8335500300461929</span>                                                 \n",
       "<span style=\"color: #7fbfbf; text-decoration-color: #7fbfbf\">             </span>                                                                   \n",
       "</pre>\n"
      ],
      "text/plain": [
       "\u001b[2;36m10:52:11 BST\u001b[0m\u001b[2;36m \u001b[0mBest Result: \u001b[1;36m0.6355085233366149\u001b[0m                                    \n",
       "\u001b[2;36m             \u001b[0mBest Parameters: radius: \u001b[1;36m1.1994957493648597\u001b[0m target_phi:            \n",
       "\u001b[2;36m             \u001b[0m\u001b[1;36m0.8335500300461929\u001b[0m                                                 \n",
       "\u001b[2;36m             \u001b[0m                                                                   \n"
      ]
     },
     "metadata": {},
     "output_type": "display_data"
    },
    {
     "data": {
      "text/html": [
       "<pre style=\"white-space:pre;overflow-x:auto;line-height:normal;font-family:Menlo,'DejaVu Sans Mono',consolas,'Courier New',monospace\"><span style=\"color: #7fbfbf; text-decoration-color: #7fbfbf\">             </span>Best Fit from Initial Solutions: <span style=\"color: #008080; text-decoration-color: #008080; font-weight: bold\">0.639</span>                             \n",
       "<span style=\"color: #7fbfbf; text-decoration-color: #7fbfbf\">             </span>                                                                   \n",
       "</pre>\n"
      ],
      "text/plain": [
       "\u001b[2;36m            \u001b[0m\u001b[2;36m \u001b[0mBest Fit from Initial Solutions: \u001b[1;36m0.639\u001b[0m                             \n",
       "\u001b[2;36m             \u001b[0m                                                                   \n"
      ]
     },
     "metadata": {},
     "output_type": "display_data"
    },
    {
     "data": {
      "text/html": [
       "<pre style=\"white-space:pre;overflow-x:auto;line-height:normal;font-family:Menlo,'DejaVu Sans Mono',consolas,'Courier New',monospace\"><span style=\"color: #7fbfbf; text-decoration-color: #7fbfbf\">10:52:14 BST </span>Best Result: <span style=\"color: #008080; text-decoration-color: #008080; font-weight: bold\">0.6388908398688392</span>                                    \n",
       "<span style=\"color: #7fbfbf; text-decoration-color: #7fbfbf\">             </span>Best Parameters: radius: <span style=\"color: #008080; text-decoration-color: #008080; font-weight: bold\">1.2328742791076475</span> target_phi:            \n",
       "<span style=\"color: #7fbfbf; text-decoration-color: #7fbfbf\">             </span><span style=\"color: #008080; text-decoration-color: #008080; font-weight: bold\">0.9617746202430597</span>                                                 \n",
       "<span style=\"color: #7fbfbf; text-decoration-color: #7fbfbf\">             </span>                                                                   \n",
       "</pre>\n"
      ],
      "text/plain": [
       "\u001b[2;36m10:52:14 BST\u001b[0m\u001b[2;36m \u001b[0mBest Result: \u001b[1;36m0.6388908398688392\u001b[0m                                    \n",
       "\u001b[2;36m             \u001b[0mBest Parameters: radius: \u001b[1;36m1.2328742791076475\u001b[0m target_phi:            \n",
       "\u001b[2;36m             \u001b[0m\u001b[1;36m0.9617746202430597\u001b[0m                                                 \n",
       "\u001b[2;36m             \u001b[0m                                                                   \n"
      ]
     },
     "metadata": {},
     "output_type": "display_data"
    },
    {
     "data": {
      "text/html": [
       "<pre style=\"white-space:pre;overflow-x:auto;line-height:normal;font-family:Menlo,'DejaVu Sans Mono',consolas,'Courier New',monospace\"><span style=\"color: #7fbfbf; text-decoration-color: #7fbfbf\">             </span>Best Fit from Initial Solutions: <span style=\"color: #008080; text-decoration-color: #008080; font-weight: bold\">0.639</span>                             \n",
       "<span style=\"color: #7fbfbf; text-decoration-color: #7fbfbf\">             </span>                                                                   \n",
       "</pre>\n"
      ],
      "text/plain": [
       "\u001b[2;36m            \u001b[0m\u001b[2;36m \u001b[0mBest Fit from Initial Solutions: \u001b[1;36m0.639\u001b[0m                             \n",
       "\u001b[2;36m             \u001b[0m                                                                   \n"
      ]
     },
     "metadata": {},
     "output_type": "display_data"
    },
    {
     "data": {
      "text/html": [
       "<pre style=\"white-space:pre;overflow-x:auto;line-height:normal;font-family:Menlo,'DejaVu Sans Mono',consolas,'Courier New',monospace\"><span style=\"color: #7fbfbf; text-decoration-color: #7fbfbf\">10:52:15 BST </span>Latest Best Fit on Iter <span style=\"color: #008080; text-decoration-color: #008080; font-weight: bold\">0</span>: <span style=\"color: #008080; text-decoration-color: #008080; font-weight: bold\">0.639</span>                                   \n",
       "<span style=\"color: #7fbfbf; text-decoration-color: #7fbfbf\">             </span>                                                                   \n",
       "</pre>\n"
      ],
      "text/plain": [
       "\u001b[2;36m10:52:15 BST\u001b[0m\u001b[2;36m \u001b[0mLatest Best Fit on Iter \u001b[1;36m0\u001b[0m: \u001b[1;36m0.639\u001b[0m                                   \n",
       "\u001b[2;36m             \u001b[0m                                                                   \n"
      ]
     },
     "metadata": {},
     "output_type": "display_data"
    },
    {
     "data": {
      "text/html": [
       "<pre style=\"white-space:pre;overflow-x:auto;line-height:normal;font-family:Menlo,'DejaVu Sans Mono',consolas,'Courier New',monospace\"><span style=\"color: #7fbfbf; text-decoration-color: #7fbfbf\">10:52:19 BST </span>Best Result: <span style=\"color: #008080; text-decoration-color: #008080; font-weight: bold\">0.6394093410831112</span>                                    \n",
       "<span style=\"color: #7fbfbf; text-decoration-color: #7fbfbf\">             </span>Best Parameters: radius: <span style=\"color: #008080; text-decoration-color: #008080; font-weight: bold\">1.2365554797507248</span> target_phi:            \n",
       "<span style=\"color: #7fbfbf; text-decoration-color: #7fbfbf\">             </span><span style=\"color: #008080; text-decoration-color: #008080; font-weight: bold\">1.0899992104399265</span>                                                 \n",
       "<span style=\"color: #7fbfbf; text-decoration-color: #7fbfbf\">             </span>                                                                   \n",
       "</pre>\n"
      ],
      "text/plain": [
       "\u001b[2;36m10:52:19 BST\u001b[0m\u001b[2;36m \u001b[0mBest Result: \u001b[1;36m0.6394093410831112\u001b[0m                                    \n",
       "\u001b[2;36m             \u001b[0mBest Parameters: radius: \u001b[1;36m1.2365554797507248\u001b[0m target_phi:            \n",
       "\u001b[2;36m             \u001b[0m\u001b[1;36m1.0899992104399265\u001b[0m                                                 \n",
       "\u001b[2;36m             \u001b[0m                                                                   \n"
      ]
     },
     "metadata": {},
     "output_type": "display_data"
    },
    {
     "data": {
      "text/html": [
       "<pre style=\"white-space:pre;overflow-x:auto;line-height:normal;font-family:Menlo,'DejaVu Sans Mono',consolas,'Courier New',monospace\"><span style=\"color: #7fbfbf; text-decoration-color: #7fbfbf\">             </span>Best Fit from Initial Solutions: <span style=\"color: #008080; text-decoration-color: #008080; font-weight: bold\">0.665</span>                             \n",
       "<span style=\"color: #7fbfbf; text-decoration-color: #7fbfbf\">             </span>                                                                   \n",
       "</pre>\n"
      ],
      "text/plain": [
       "\u001b[2;36m            \u001b[0m\u001b[2;36m \u001b[0mBest Fit from Initial Solutions: \u001b[1;36m0.665\u001b[0m                             \n",
       "\u001b[2;36m             \u001b[0m                                                                   \n"
      ]
     },
     "metadata": {},
     "output_type": "display_data"
    },
    {
     "data": {
      "text/html": [
       "<pre style=\"white-space:pre;overflow-x:auto;line-height:normal;font-family:Menlo,'DejaVu Sans Mono',consolas,'Courier New',monospace\"><span style=\"color: #7fbfbf; text-decoration-color: #7fbfbf\">10:52:20 BST </span>Latest Best Fit on Iter <span style=\"color: #008080; text-decoration-color: #008080; font-weight: bold\">1</span>: <span style=\"color: #008080; text-decoration-color: #008080; font-weight: bold\">0.666</span>                                   \n",
       "<span style=\"color: #7fbfbf; text-decoration-color: #7fbfbf\">             </span>                                                                   \n",
       "</pre>\n"
      ],
      "text/plain": [
       "\u001b[2;36m10:52:20 BST\u001b[0m\u001b[2;36m \u001b[0mLatest Best Fit on Iter \u001b[1;36m1\u001b[0m: \u001b[1;36m0.666\u001b[0m                                   \n",
       "\u001b[2;36m             \u001b[0m                                                                   \n"
      ]
     },
     "metadata": {},
     "output_type": "display_data"
    },
    {
     "data": {
      "text/html": [
       "<pre style=\"white-space:pre;overflow-x:auto;line-height:normal;font-family:Menlo,'DejaVu Sans Mono',consolas,'Courier New',monospace\"><span style=\"color: #7fbfbf; text-decoration-color: #7fbfbf\">10:52:21 BST </span>Latest Best Fit on Iter <span style=\"color: #008080; text-decoration-color: #008080; font-weight: bold\">2</span>: <span style=\"color: #008080; text-decoration-color: #008080; font-weight: bold\">0.666</span>                                   \n",
       "<span style=\"color: #7fbfbf; text-decoration-color: #7fbfbf\">             </span>                                                                   \n",
       "</pre>\n"
      ],
      "text/plain": [
       "\u001b[2;36m10:52:21 BST\u001b[0m\u001b[2;36m \u001b[0mLatest Best Fit on Iter \u001b[1;36m2\u001b[0m: \u001b[1;36m0.666\u001b[0m                                   \n",
       "\u001b[2;36m             \u001b[0m                                                                   \n"
      ]
     },
     "metadata": {},
     "output_type": "display_data"
    },
    {
     "data": {
      "text/html": [
       "<pre style=\"white-space:pre;overflow-x:auto;line-height:normal;font-family:Menlo,'DejaVu Sans Mono',consolas,'Courier New',monospace\"><span style=\"color: #7fbfbf; text-decoration-color: #7fbfbf\">10:52:22 BST </span>Latest Best Fit on Iter <span style=\"color: #008080; text-decoration-color: #008080; font-weight: bold\">3</span>: <span style=\"color: #008080; text-decoration-color: #008080; font-weight: bold\">0.666</span>                                   \n",
       "<span style=\"color: #7fbfbf; text-decoration-color: #7fbfbf\">             </span>                                                                   \n",
       "</pre>\n"
      ],
      "text/plain": [
       "\u001b[2;36m10:52:22 BST\u001b[0m\u001b[2;36m \u001b[0mLatest Best Fit on Iter \u001b[1;36m3\u001b[0m: \u001b[1;36m0.666\u001b[0m                                   \n",
       "\u001b[2;36m             \u001b[0m                                                                   \n"
      ]
     },
     "metadata": {},
     "output_type": "display_data"
    },
    {
     "data": {
      "text/html": [
       "<pre style=\"white-space:pre;overflow-x:auto;line-height:normal;font-family:Menlo,'DejaVu Sans Mono',consolas,'Courier New',monospace\"><span style=\"color: #7fbfbf; text-decoration-color: #7fbfbf\">             </span>Latest Best Fit on Iter <span style=\"color: #008080; text-decoration-color: #008080; font-weight: bold\">4</span>: <span style=\"color: #008080; text-decoration-color: #008080; font-weight: bold\">0.666</span>                                   \n",
       "<span style=\"color: #7fbfbf; text-decoration-color: #7fbfbf\">             </span>                                                                   \n",
       "</pre>\n"
      ],
      "text/plain": [
       "\u001b[2;36m            \u001b[0m\u001b[2;36m \u001b[0mLatest Best Fit on Iter \u001b[1;36m4\u001b[0m: \u001b[1;36m0.666\u001b[0m                                   \n",
       "\u001b[2;36m             \u001b[0m                                                                   \n"
      ]
     },
     "metadata": {},
     "output_type": "display_data"
    },
    {
     "data": {
      "text/html": [
       "<pre style=\"white-space:pre;overflow-x:auto;line-height:normal;font-family:Menlo,'DejaVu Sans Mono',consolas,'Courier New',monospace\"><span style=\"color: #7fbfbf; text-decoration-color: #7fbfbf\">             </span>Best Result: <span style=\"color: #008080; text-decoration-color: #008080; font-weight: bold\">0.6656368393465986</span>                                    \n",
       "<span style=\"color: #7fbfbf; text-decoration-color: #7fbfbf\">             </span>Best Parameters: radius: <span style=\"color: #008080; text-decoration-color: #008080; font-weight: bold\">1.269799816609281</span> target_phi:             \n",
       "<span style=\"color: #7fbfbf; text-decoration-color: #7fbfbf\">             </span><span style=\"color: #008080; text-decoration-color: #008080; font-weight: bold\">1.2182238006367934</span>                                                 \n",
       "<span style=\"color: #7fbfbf; text-decoration-color: #7fbfbf\">             </span>                                                                   \n",
       "</pre>\n"
      ],
      "text/plain": [
       "\u001b[2;36m            \u001b[0m\u001b[2;36m \u001b[0mBest Result: \u001b[1;36m0.6656368393465986\u001b[0m                                    \n",
       "\u001b[2;36m             \u001b[0mBest Parameters: radius: \u001b[1;36m1.269799816609281\u001b[0m target_phi:             \n",
       "\u001b[2;36m             \u001b[0m\u001b[1;36m1.2182238006367934\u001b[0m                                                 \n",
       "\u001b[2;36m             \u001b[0m                                                                   \n"
      ]
     },
     "metadata": {},
     "output_type": "display_data"
    },
    {
     "data": {
      "text/html": [
       "<pre style=\"white-space:pre;overflow-x:auto;line-height:normal;font-family:Menlo,'DejaVu Sans Mono',consolas,'Courier New',monospace\"><span style=\"color: #7fbfbf; text-decoration-color: #7fbfbf\">             </span>Best Fit from Initial Solutions: <span style=\"color: #008080; text-decoration-color: #008080; font-weight: bold\">0.7</span>                               \n",
       "<span style=\"color: #7fbfbf; text-decoration-color: #7fbfbf\">             </span>                                                                   \n",
       "</pre>\n"
      ],
      "text/plain": [
       "\u001b[2;36m            \u001b[0m\u001b[2;36m \u001b[0mBest Fit from Initial Solutions: \u001b[1;36m0.7\u001b[0m                               \n",
       "\u001b[2;36m             \u001b[0m                                                                   \n"
      ]
     },
     "metadata": {},
     "output_type": "display_data"
    },
    {
     "data": {
      "text/html": [
       "<pre style=\"white-space:pre;overflow-x:auto;line-height:normal;font-family:Menlo,'DejaVu Sans Mono',consolas,'Courier New',monospace\"><span style=\"color: #7fbfbf; text-decoration-color: #7fbfbf\">10:52:25 BST </span>Latest Best Fit on Iter <span style=\"color: #008080; text-decoration-color: #008080; font-weight: bold\">2</span>: <span style=\"color: #008080; text-decoration-color: #008080; font-weight: bold\">0.7</span>                                     \n",
       "<span style=\"color: #7fbfbf; text-decoration-color: #7fbfbf\">             </span>                                                                   \n",
       "</pre>\n"
      ],
      "text/plain": [
       "\u001b[2;36m10:52:25 BST\u001b[0m\u001b[2;36m \u001b[0mLatest Best Fit on Iter \u001b[1;36m2\u001b[0m: \u001b[1;36m0.7\u001b[0m                                     \n",
       "\u001b[2;36m             \u001b[0m                                                                   \n"
      ]
     },
     "metadata": {},
     "output_type": "display_data"
    },
    {
     "data": {
      "text/html": [
       "<pre style=\"white-space:pre;overflow-x:auto;line-height:normal;font-family:Menlo,'DejaVu Sans Mono',consolas,'Courier New',monospace\"><span style=\"color: #7fbfbf; text-decoration-color: #7fbfbf\">10:52:26 BST </span>Best Result: <span style=\"color: #008080; text-decoration-color: #008080; font-weight: bold\">0.6997271985015957</span>                                    \n",
       "<span style=\"color: #7fbfbf; text-decoration-color: #7fbfbf\">             </span>Best Parameters: radius: <span style=\"color: #008080; text-decoration-color: #008080; font-weight: bold\">1.322181413157622</span> target_phi:             \n",
       "<span style=\"color: #7fbfbf; text-decoration-color: #7fbfbf\">             </span><span style=\"color: #008080; text-decoration-color: #008080; font-weight: bold\">1.3464483908336593</span>                                                 \n",
       "<span style=\"color: #7fbfbf; text-decoration-color: #7fbfbf\">             </span>                                                                   \n",
       "</pre>\n"
      ],
      "text/plain": [
       "\u001b[2;36m10:52:26 BST\u001b[0m\u001b[2;36m \u001b[0mBest Result: \u001b[1;36m0.6997271985015957\u001b[0m                                    \n",
       "\u001b[2;36m             \u001b[0mBest Parameters: radius: \u001b[1;36m1.322181413157622\u001b[0m target_phi:             \n",
       "\u001b[2;36m             \u001b[0m\u001b[1;36m1.3464483908336593\u001b[0m                                                 \n",
       "\u001b[2;36m             \u001b[0m                                                                   \n"
      ]
     },
     "metadata": {},
     "output_type": "display_data"
    },
    {
     "data": {
      "text/html": [
       "<pre style=\"white-space:pre;overflow-x:auto;line-height:normal;font-family:Menlo,'DejaVu Sans Mono',consolas,'Courier New',monospace\"><span style=\"color: #7fbfbf; text-decoration-color: #7fbfbf\">10:52:27 BST </span>Best Fit from Initial Solutions: <span style=\"color: #008080; text-decoration-color: #008080; font-weight: bold\">0.747</span>                             \n",
       "<span style=\"color: #7fbfbf; text-decoration-color: #7fbfbf\">             </span>                                                                   \n",
       "</pre>\n"
      ],
      "text/plain": [
       "\u001b[2;36m10:52:27 BST\u001b[0m\u001b[2;36m \u001b[0mBest Fit from Initial Solutions: \u001b[1;36m0.747\u001b[0m                             \n",
       "\u001b[2;36m             \u001b[0m                                                                   \n"
      ]
     },
     "metadata": {},
     "output_type": "display_data"
    },
    {
     "data": {
      "text/html": [
       "<pre style=\"white-space:pre;overflow-x:auto;line-height:normal;font-family:Menlo,'DejaVu Sans Mono',consolas,'Courier New',monospace\"><span style=\"color: #7fbfbf; text-decoration-color: #7fbfbf\">             </span>Latest Best Fit on Iter <span style=\"color: #008080; text-decoration-color: #008080; font-weight: bold\">0</span>: <span style=\"color: #008080; text-decoration-color: #008080; font-weight: bold\">0.747</span>                                   \n",
       "<span style=\"color: #7fbfbf; text-decoration-color: #7fbfbf\">             </span>                                                                   \n",
       "</pre>\n"
      ],
      "text/plain": [
       "\u001b[2;36m            \u001b[0m\u001b[2;36m \u001b[0mLatest Best Fit on Iter \u001b[1;36m0\u001b[0m: \u001b[1;36m0.747\u001b[0m                                   \n",
       "\u001b[2;36m             \u001b[0m                                                                   \n"
      ]
     },
     "metadata": {},
     "output_type": "display_data"
    },
    {
     "data": {
      "text/html": [
       "<pre style=\"white-space:pre;overflow-x:auto;line-height:normal;font-family:Menlo,'DejaVu Sans Mono',consolas,'Courier New',monospace\"><span style=\"color: #7fbfbf; text-decoration-color: #7fbfbf\">10:52:29 BST </span>Latest Best Fit on Iter <span style=\"color: #008080; text-decoration-color: #008080; font-weight: bold\">3</span>: <span style=\"color: #008080; text-decoration-color: #008080; font-weight: bold\">0.748</span>                                   \n",
       "<span style=\"color: #7fbfbf; text-decoration-color: #7fbfbf\">             </span>                                                                   \n",
       "</pre>\n"
      ],
      "text/plain": [
       "\u001b[2;36m10:52:29 BST\u001b[0m\u001b[2;36m \u001b[0mLatest Best Fit on Iter \u001b[1;36m3\u001b[0m: \u001b[1;36m0.748\u001b[0m                                   \n",
       "\u001b[2;36m             \u001b[0m                                                                   \n"
      ]
     },
     "metadata": {},
     "output_type": "display_data"
    },
    {
     "data": {
      "text/html": [
       "<pre style=\"white-space:pre;overflow-x:auto;line-height:normal;font-family:Menlo,'DejaVu Sans Mono',consolas,'Courier New',monospace\"><span style=\"color: #7fbfbf; text-decoration-color: #7fbfbf\">10:52:30 BST </span>Best Result: <span style=\"color: #008080; text-decoration-color: #008080; font-weight: bold\">0.7475302290313357</span>                                    \n",
       "<span style=\"color: #7fbfbf; text-decoration-color: #7fbfbf\">             </span>Best Parameters: radius: <span style=\"color: #008080; text-decoration-color: #008080; font-weight: bold\">1.3259934748907634</span> target_phi:            \n",
       "<span style=\"color: #7fbfbf; text-decoration-color: #7fbfbf\">             </span><span style=\"color: #008080; text-decoration-color: #008080; font-weight: bold\">1.4746729810305261</span>                                                 \n",
       "<span style=\"color: #7fbfbf; text-decoration-color: #7fbfbf\">             </span>                                                                   \n",
       "</pre>\n"
      ],
      "text/plain": [
       "\u001b[2;36m10:52:30 BST\u001b[0m\u001b[2;36m \u001b[0mBest Result: \u001b[1;36m0.7475302290313357\u001b[0m                                    \n",
       "\u001b[2;36m             \u001b[0mBest Parameters: radius: \u001b[1;36m1.3259934748907634\u001b[0m target_phi:            \n",
       "\u001b[2;36m             \u001b[0m\u001b[1;36m1.4746729810305261\u001b[0m                                                 \n",
       "\u001b[2;36m             \u001b[0m                                                                   \n"
      ]
     },
     "metadata": {},
     "output_type": "display_data"
    },
    {
     "data": {
      "text/html": [
       "<pre style=\"white-space:pre;overflow-x:auto;line-height:normal;font-family:Menlo,'DejaVu Sans Mono',consolas,'Courier New',monospace\"><span style=\"color: #7fbfbf; text-decoration-color: #7fbfbf\">             </span>Best Fit from Initial Solutions: <span style=\"color: #008080; text-decoration-color: #008080; font-weight: bold\">0.787</span>                             \n",
       "<span style=\"color: #7fbfbf; text-decoration-color: #7fbfbf\">             </span>                                                                   \n",
       "</pre>\n"
      ],
      "text/plain": [
       "\u001b[2;36m            \u001b[0m\u001b[2;36m \u001b[0mBest Fit from Initial Solutions: \u001b[1;36m0.787\u001b[0m                             \n",
       "\u001b[2;36m             \u001b[0m                                                                   \n"
      ]
     },
     "metadata": {},
     "output_type": "display_data"
    },
    {
     "data": {
      "text/html": [
       "<pre style=\"white-space:pre;overflow-x:auto;line-height:normal;font-family:Menlo,'DejaVu Sans Mono',consolas,'Courier New',monospace\"><span style=\"color: #7fbfbf; text-decoration-color: #7fbfbf\">10:52:33 BST </span>Best Result: <span style=\"color: #008080; text-decoration-color: #008080; font-weight: bold\">0.7871170332208969</span>                                    \n",
       "<span style=\"color: #7fbfbf; text-decoration-color: #7fbfbf\">             </span>Best Parameters: radius: <span style=\"color: #008080; text-decoration-color: #008080; font-weight: bold\">1.3377028311568497</span> target_phi:            \n",
       "<span style=\"color: #7fbfbf; text-decoration-color: #7fbfbf\">             </span><span style=\"color: #008080; text-decoration-color: #008080; font-weight: bold\">1.602897571227393</span>                                                  \n",
       "<span style=\"color: #7fbfbf; text-decoration-color: #7fbfbf\">             </span>                                                                   \n",
       "</pre>\n"
      ],
      "text/plain": [
       "\u001b[2;36m10:52:33 BST\u001b[0m\u001b[2;36m \u001b[0mBest Result: \u001b[1;36m0.7871170332208969\u001b[0m                                    \n",
       "\u001b[2;36m             \u001b[0mBest Parameters: radius: \u001b[1;36m1.3377028311568497\u001b[0m target_phi:            \n",
       "\u001b[2;36m             \u001b[0m\u001b[1;36m1.602897571227393\u001b[0m                                                  \n",
       "\u001b[2;36m             \u001b[0m                                                                   \n"
      ]
     },
     "metadata": {},
     "output_type": "display_data"
    },
    {
     "data": {
      "text/html": [
       "<pre style=\"white-space:pre;overflow-x:auto;line-height:normal;font-family:Menlo,'DejaVu Sans Mono',consolas,'Courier New',monospace\"><span style=\"color: #7fbfbf; text-decoration-color: #7fbfbf\">             </span>Best Fit from Initial Solutions: <span style=\"color: #008080; text-decoration-color: #008080; font-weight: bold\">0.816</span>                             \n",
       "<span style=\"color: #7fbfbf; text-decoration-color: #7fbfbf\">             </span>                                                                   \n",
       "</pre>\n"
      ],
      "text/plain": [
       "\u001b[2;36m            \u001b[0m\u001b[2;36m \u001b[0mBest Fit from Initial Solutions: \u001b[1;36m0.816\u001b[0m                             \n",
       "\u001b[2;36m             \u001b[0m                                                                   \n"
      ]
     },
     "metadata": {},
     "output_type": "display_data"
    },
    {
     "data": {
      "text/html": [
       "<pre style=\"white-space:pre;overflow-x:auto;line-height:normal;font-family:Menlo,'DejaVu Sans Mono',consolas,'Courier New',monospace\"><span style=\"color: #7fbfbf; text-decoration-color: #7fbfbf\">10:52:34 BST </span>Latest Best Fit on Iter <span style=\"color: #008080; text-decoration-color: #008080; font-weight: bold\">0</span>: <span style=\"color: #008080; text-decoration-color: #008080; font-weight: bold\">0.816</span>                                   \n",
       "<span style=\"color: #7fbfbf; text-decoration-color: #7fbfbf\">             </span>                                                                   \n",
       "</pre>\n"
      ],
      "text/plain": [
       "\u001b[2;36m10:52:34 BST\u001b[0m\u001b[2;36m \u001b[0mLatest Best Fit on Iter \u001b[1;36m0\u001b[0m: \u001b[1;36m0.816\u001b[0m                                   \n",
       "\u001b[2;36m             \u001b[0m                                                                   \n"
      ]
     },
     "metadata": {},
     "output_type": "display_data"
    },
    {
     "data": {
      "text/html": [
       "<pre style=\"white-space:pre;overflow-x:auto;line-height:normal;font-family:Menlo,'DejaVu Sans Mono',consolas,'Courier New',monospace\"><span style=\"color: #7fbfbf; text-decoration-color: #7fbfbf\">10:52:37 BST </span>Best Result: <span style=\"color: #008080; text-decoration-color: #008080; font-weight: bold\">0.8161114153925859</span>                                    \n",
       "<span style=\"color: #7fbfbf; text-decoration-color: #7fbfbf\">             </span>Best Parameters: radius: <span style=\"color: #008080; text-decoration-color: #008080; font-weight: bold\">1.3383079792641848</span> target_phi:            \n",
       "<span style=\"color: #7fbfbf; text-decoration-color: #7fbfbf\">             </span><span style=\"color: #008080; text-decoration-color: #008080; font-weight: bold\">1.7311221614242598</span>                                                 \n",
       "<span style=\"color: #7fbfbf; text-decoration-color: #7fbfbf\">             </span>                                                                   \n",
       "</pre>\n"
      ],
      "text/plain": [
       "\u001b[2;36m10:52:37 BST\u001b[0m\u001b[2;36m \u001b[0mBest Result: \u001b[1;36m0.8161114153925859\u001b[0m                                    \n",
       "\u001b[2;36m             \u001b[0mBest Parameters: radius: \u001b[1;36m1.3383079792641848\u001b[0m target_phi:            \n",
       "\u001b[2;36m             \u001b[0m\u001b[1;36m1.7311221614242598\u001b[0m                                                 \n",
       "\u001b[2;36m             \u001b[0m                                                                   \n"
      ]
     },
     "metadata": {},
     "output_type": "display_data"
    },
    {
     "data": {
      "text/html": [
       "<pre style=\"white-space:pre;overflow-x:auto;line-height:normal;font-family:Menlo,'DejaVu Sans Mono',consolas,'Courier New',monospace\"><span style=\"color: #7fbfbf; text-decoration-color: #7fbfbf\">             </span>Best Fit from Initial Solutions: <span style=\"color: #008080; text-decoration-color: #008080; font-weight: bold\">0.832</span>                             \n",
       "<span style=\"color: #7fbfbf; text-decoration-color: #7fbfbf\">             </span>                                                                   \n",
       "</pre>\n"
      ],
      "text/plain": [
       "\u001b[2;36m            \u001b[0m\u001b[2;36m \u001b[0mBest Fit from Initial Solutions: \u001b[1;36m0.832\u001b[0m                             \n",
       "\u001b[2;36m             \u001b[0m                                                                   \n"
      ]
     },
     "metadata": {},
     "output_type": "display_data"
    },
    {
     "data": {
      "text/html": [
       "<pre style=\"white-space:pre;overflow-x:auto;line-height:normal;font-family:Menlo,'DejaVu Sans Mono',consolas,'Courier New',monospace\"><span style=\"color: #7fbfbf; text-decoration-color: #7fbfbf\">10:52:40 BST </span>Best Result: <span style=\"color: #008080; text-decoration-color: #008080; font-weight: bold\">0.8316500674385066</span>                                    \n",
       "<span style=\"color: #7fbfbf; text-decoration-color: #7fbfbf\">             </span>Best Parameters: radius: <span style=\"color: #008080; text-decoration-color: #008080; font-weight: bold\">1.3390817302184956</span> target_phi:            \n",
       "<span style=\"color: #7fbfbf; text-decoration-color: #7fbfbf\">             </span><span style=\"color: #008080; text-decoration-color: #008080; font-weight: bold\">1.8593467516211257</span>                                                 \n",
       "<span style=\"color: #7fbfbf; text-decoration-color: #7fbfbf\">             </span>                                                                   \n",
       "</pre>\n"
      ],
      "text/plain": [
       "\u001b[2;36m10:52:40 BST\u001b[0m\u001b[2;36m \u001b[0mBest Result: \u001b[1;36m0.8316500674385066\u001b[0m                                    \n",
       "\u001b[2;36m             \u001b[0mBest Parameters: radius: \u001b[1;36m1.3390817302184956\u001b[0m target_phi:            \n",
       "\u001b[2;36m             \u001b[0m\u001b[1;36m1.8593467516211257\u001b[0m                                                 \n",
       "\u001b[2;36m             \u001b[0m                                                                   \n"
      ]
     },
     "metadata": {},
     "output_type": "display_data"
    },
    {
     "data": {
      "text/html": [
       "<pre style=\"white-space:pre;overflow-x:auto;line-height:normal;font-family:Menlo,'DejaVu Sans Mono',consolas,'Courier New',monospace\"><span style=\"color: #7fbfbf; text-decoration-color: #7fbfbf\">             </span>Best Fit from Initial Solutions: <span style=\"color: #008080; text-decoration-color: #008080; font-weight: bold\">0.838</span>                             \n",
       "<span style=\"color: #7fbfbf; text-decoration-color: #7fbfbf\">             </span>                                                                   \n",
       "</pre>\n"
      ],
      "text/plain": [
       "\u001b[2;36m            \u001b[0m\u001b[2;36m \u001b[0mBest Fit from Initial Solutions: \u001b[1;36m0.838\u001b[0m                             \n",
       "\u001b[2;36m             \u001b[0m                                                                   \n"
      ]
     },
     "metadata": {},
     "output_type": "display_data"
    },
    {
     "data": {
      "text/html": [
       "<pre style=\"white-space:pre;overflow-x:auto;line-height:normal;font-family:Menlo,'DejaVu Sans Mono',consolas,'Courier New',monospace\"><span style=\"color: #7fbfbf; text-decoration-color: #7fbfbf\">10:52:42 BST </span>Latest Best Fit on Iter <span style=\"color: #008080; text-decoration-color: #008080; font-weight: bold\">2</span>: <span style=\"color: #008080; text-decoration-color: #008080; font-weight: bold\">0.838</span>                                   \n",
       "<span style=\"color: #7fbfbf; text-decoration-color: #7fbfbf\">             </span>                                                                   \n",
       "</pre>\n"
      ],
      "text/plain": [
       "\u001b[2;36m10:52:42 BST\u001b[0m\u001b[2;36m \u001b[0mLatest Best Fit on Iter \u001b[1;36m2\u001b[0m: \u001b[1;36m0.838\u001b[0m                                   \n",
       "\u001b[2;36m             \u001b[0m                                                                   \n"
      ]
     },
     "metadata": {},
     "output_type": "display_data"
    },
    {
     "data": {
      "text/html": [
       "<pre style=\"white-space:pre;overflow-x:auto;line-height:normal;font-family:Menlo,'DejaVu Sans Mono',consolas,'Courier New',monospace\"><span style=\"color: #7fbfbf; text-decoration-color: #7fbfbf\">10:52:43 BST </span>Best Result: <span style=\"color: #008080; text-decoration-color: #008080; font-weight: bold\">0.8382794455658592</span>                                    \n",
       "<span style=\"color: #7fbfbf; text-decoration-color: #7fbfbf\">             </span>Best Parameters: radius: <span style=\"color: #008080; text-decoration-color: #008080; font-weight: bold\">1.3663166247228913</span> target_phi:            \n",
       "<span style=\"color: #7fbfbf; text-decoration-color: #7fbfbf\">             </span><span style=\"color: #008080; text-decoration-color: #008080; font-weight: bold\">1.9875713418179926</span>                                                 \n",
       "<span style=\"color: #7fbfbf; text-decoration-color: #7fbfbf\">             </span>                                                                   \n",
       "</pre>\n"
      ],
      "text/plain": [
       "\u001b[2;36m10:52:43 BST\u001b[0m\u001b[2;36m \u001b[0mBest Result: \u001b[1;36m0.8382794455658592\u001b[0m                                    \n",
       "\u001b[2;36m             \u001b[0mBest Parameters: radius: \u001b[1;36m1.3663166247228913\u001b[0m target_phi:            \n",
       "\u001b[2;36m             \u001b[0m\u001b[1;36m1.9875713418179926\u001b[0m                                                 \n",
       "\u001b[2;36m             \u001b[0m                                                                   \n"
      ]
     },
     "metadata": {},
     "output_type": "display_data"
    },
    {
     "data": {
      "text/html": [
       "<pre style=\"white-space:pre;overflow-x:auto;line-height:normal;font-family:Menlo,'DejaVu Sans Mono',consolas,'Courier New',monospace\"><span style=\"color: #7fbfbf; text-decoration-color: #7fbfbf\">             </span>Best Fit from Initial Solutions: <span style=\"color: #008080; text-decoration-color: #008080; font-weight: bold\">0.846</span>                             \n",
       "<span style=\"color: #7fbfbf; text-decoration-color: #7fbfbf\">             </span>                                                                   \n",
       "</pre>\n"
      ],
      "text/plain": [
       "\u001b[2;36m            \u001b[0m\u001b[2;36m \u001b[0mBest Fit from Initial Solutions: \u001b[1;36m0.846\u001b[0m                             \n",
       "\u001b[2;36m             \u001b[0m                                                                   \n"
      ]
     },
     "metadata": {},
     "output_type": "display_data"
    },
    {
     "data": {
      "text/html": [
       "<pre style=\"white-space:pre;overflow-x:auto;line-height:normal;font-family:Menlo,'DejaVu Sans Mono',consolas,'Courier New',monospace\"><span style=\"color: #7fbfbf; text-decoration-color: #7fbfbf\">10:52:45 BST </span>Latest Best Fit on Iter <span style=\"color: #008080; text-decoration-color: #008080; font-weight: bold\">2</span>: <span style=\"color: #008080; text-decoration-color: #008080; font-weight: bold\">0.846</span>                                   \n",
       "<span style=\"color: #7fbfbf; text-decoration-color: #7fbfbf\">             </span>                                                                   \n",
       "</pre>\n"
      ],
      "text/plain": [
       "\u001b[2;36m10:52:45 BST\u001b[0m\u001b[2;36m \u001b[0mLatest Best Fit on Iter \u001b[1;36m2\u001b[0m: \u001b[1;36m0.846\u001b[0m                                   \n",
       "\u001b[2;36m             \u001b[0m                                                                   \n"
      ]
     },
     "metadata": {},
     "output_type": "display_data"
    },
    {
     "data": {
      "text/html": [
       "<pre style=\"white-space:pre;overflow-x:auto;line-height:normal;font-family:Menlo,'DejaVu Sans Mono',consolas,'Courier New',monospace\"><span style=\"color: #7fbfbf; text-decoration-color: #7fbfbf\">10:52:46 BST </span>Best Result: <span style=\"color: #008080; text-decoration-color: #008080; font-weight: bold\">0.8458850998762406</span>                                    \n",
       "<span style=\"color: #7fbfbf; text-decoration-color: #7fbfbf\">             </span>Best Parameters: radius: <span style=\"color: #008080; text-decoration-color: #008080; font-weight: bold\">1.3752803172578552</span> target_phi:            \n",
       "<span style=\"color: #7fbfbf; text-decoration-color: #7fbfbf\">             </span><span style=\"color: #008080; text-decoration-color: #008080; font-weight: bold\">2.1157959320148594</span>                                                 \n",
       "<span style=\"color: #7fbfbf; text-decoration-color: #7fbfbf\">             </span>                                                                   \n",
       "</pre>\n"
      ],
      "text/plain": [
       "\u001b[2;36m10:52:46 BST\u001b[0m\u001b[2;36m \u001b[0mBest Result: \u001b[1;36m0.8458850998762406\u001b[0m                                    \n",
       "\u001b[2;36m             \u001b[0mBest Parameters: radius: \u001b[1;36m1.3752803172578552\u001b[0m target_phi:            \n",
       "\u001b[2;36m             \u001b[0m\u001b[1;36m2.1157959320148594\u001b[0m                                                 \n",
       "\u001b[2;36m             \u001b[0m                                                                   \n"
      ]
     },
     "metadata": {},
     "output_type": "display_data"
    },
    {
     "data": {
      "text/html": [
       "<pre style=\"white-space:pre;overflow-x:auto;line-height:normal;font-family:Menlo,'DejaVu Sans Mono',consolas,'Courier New',monospace\"><span style=\"color: #7fbfbf; text-decoration-color: #7fbfbf\">             </span>Best Fit from Initial Solutions: <span style=\"color: #008080; text-decoration-color: #008080; font-weight: bold\">0.844</span>                             \n",
       "<span style=\"color: #7fbfbf; text-decoration-color: #7fbfbf\">             </span>                                                                   \n",
       "</pre>\n"
      ],
      "text/plain": [
       "\u001b[2;36m            \u001b[0m\u001b[2;36m \u001b[0mBest Fit from Initial Solutions: \u001b[1;36m0.844\u001b[0m                             \n",
       "\u001b[2;36m             \u001b[0m                                                                   \n"
      ]
     },
     "metadata": {},
     "output_type": "display_data"
    },
    {
     "data": {
      "text/html": [
       "<pre style=\"white-space:pre;overflow-x:auto;line-height:normal;font-family:Menlo,'DejaVu Sans Mono',consolas,'Courier New',monospace\"><span style=\"color: #7fbfbf; text-decoration-color: #7fbfbf\">10:52:50 BST </span>Best Result: <span style=\"color: #008080; text-decoration-color: #008080; font-weight: bold\">0.8439523281378323</span>                                    \n",
       "<span style=\"color: #7fbfbf; text-decoration-color: #7fbfbf\">             </span>Best Parameters: radius: <span style=\"color: #008080; text-decoration-color: #008080; font-weight: bold\">1.384526007065972</span> target_phi:             \n",
       "<span style=\"color: #7fbfbf; text-decoration-color: #7fbfbf\">             </span><span style=\"color: #008080; text-decoration-color: #008080; font-weight: bold\">2.244020522211726</span>                                                  \n",
       "<span style=\"color: #7fbfbf; text-decoration-color: #7fbfbf\">             </span>                                                                   \n",
       "</pre>\n"
      ],
      "text/plain": [
       "\u001b[2;36m10:52:50 BST\u001b[0m\u001b[2;36m \u001b[0mBest Result: \u001b[1;36m0.8439523281378323\u001b[0m                                    \n",
       "\u001b[2;36m             \u001b[0mBest Parameters: radius: \u001b[1;36m1.384526007065972\u001b[0m target_phi:             \n",
       "\u001b[2;36m             \u001b[0m\u001b[1;36m2.244020522211726\u001b[0m                                                  \n",
       "\u001b[2;36m             \u001b[0m                                                                   \n"
      ]
     },
     "metadata": {},
     "output_type": "display_data"
    },
    {
     "data": {
      "text/html": [
       "<pre style=\"white-space:pre;overflow-x:auto;line-height:normal;font-family:Menlo,'DejaVu Sans Mono',consolas,'Courier New',monospace\"><span style=\"color: #7fbfbf; text-decoration-color: #7fbfbf\">             </span>Best Fit from Initial Solutions: <span style=\"color: #008080; text-decoration-color: #008080; font-weight: bold\">0.838</span>                             \n",
       "<span style=\"color: #7fbfbf; text-decoration-color: #7fbfbf\">             </span>                                                                   \n",
       "</pre>\n"
      ],
      "text/plain": [
       "\u001b[2;36m            \u001b[0m\u001b[2;36m \u001b[0mBest Fit from Initial Solutions: \u001b[1;36m0.838\u001b[0m                             \n",
       "\u001b[2;36m             \u001b[0m                                                                   \n"
      ]
     },
     "metadata": {},
     "output_type": "display_data"
    },
    {
     "data": {
      "text/html": [
       "<pre style=\"white-space:pre;overflow-x:auto;line-height:normal;font-family:Menlo,'DejaVu Sans Mono',consolas,'Courier New',monospace\"><span style=\"color: #7fbfbf; text-decoration-color: #7fbfbf\">10:52:51 BST </span>Latest Best Fit on Iter <span style=\"color: #008080; text-decoration-color: #008080; font-weight: bold\">2</span>: <span style=\"color: #008080; text-decoration-color: #008080; font-weight: bold\">0.838</span>                                   \n",
       "<span style=\"color: #7fbfbf; text-decoration-color: #7fbfbf\">             </span>                                                                   \n",
       "</pre>\n"
      ],
      "text/plain": [
       "\u001b[2;36m10:52:51 BST\u001b[0m\u001b[2;36m \u001b[0mLatest Best Fit on Iter \u001b[1;36m2\u001b[0m: \u001b[1;36m0.838\u001b[0m                                   \n",
       "\u001b[2;36m             \u001b[0m                                                                   \n"
      ]
     },
     "metadata": {},
     "output_type": "display_data"
    },
    {
     "data": {
      "text/html": [
       "<pre style=\"white-space:pre;overflow-x:auto;line-height:normal;font-family:Menlo,'DejaVu Sans Mono',consolas,'Courier New',monospace\"><span style=\"color: #7fbfbf; text-decoration-color: #7fbfbf\">10:52:53 BST </span>Best Result: <span style=\"color: #008080; text-decoration-color: #008080; font-weight: bold\">0.838392253819773</span>                                     \n",
       "<span style=\"color: #7fbfbf; text-decoration-color: #7fbfbf\">             </span>Best Parameters: radius: <span style=\"color: #008080; text-decoration-color: #008080; font-weight: bold\">1.4293068066793806</span> target_phi:            \n",
       "<span style=\"color: #7fbfbf; text-decoration-color: #7fbfbf\">             </span><span style=\"color: #008080; text-decoration-color: #008080; font-weight: bold\">2.372245112408593</span>                                                  \n",
       "<span style=\"color: #7fbfbf; text-decoration-color: #7fbfbf\">             </span>                                                                   \n",
       "</pre>\n"
      ],
      "text/plain": [
       "\u001b[2;36m10:52:53 BST\u001b[0m\u001b[2;36m \u001b[0mBest Result: \u001b[1;36m0.838392253819773\u001b[0m                                     \n",
       "\u001b[2;36m             \u001b[0mBest Parameters: radius: \u001b[1;36m1.4293068066793806\u001b[0m target_phi:            \n",
       "\u001b[2;36m             \u001b[0m\u001b[1;36m2.372245112408593\u001b[0m                                                  \n",
       "\u001b[2;36m             \u001b[0m                                                                   \n"
      ]
     },
     "metadata": {},
     "output_type": "display_data"
    },
    {
     "data": {
      "text/html": [
       "<pre style=\"white-space:pre;overflow-x:auto;line-height:normal;font-family:Menlo,'DejaVu Sans Mono',consolas,'Courier New',monospace\"><span style=\"color: #7fbfbf; text-decoration-color: #7fbfbf\">             </span>Best Fit from Initial Solutions: <span style=\"color: #008080; text-decoration-color: #008080; font-weight: bold\">0.829</span>                             \n",
       "<span style=\"color: #7fbfbf; text-decoration-color: #7fbfbf\">             </span>                                                                   \n",
       "</pre>\n"
      ],
      "text/plain": [
       "\u001b[2;36m            \u001b[0m\u001b[2;36m \u001b[0mBest Fit from Initial Solutions: \u001b[1;36m0.829\u001b[0m                             \n",
       "\u001b[2;36m             \u001b[0m                                                                   \n"
      ]
     },
     "metadata": {},
     "output_type": "display_data"
    },
    {
     "data": {
      "text/html": [
       "<pre style=\"white-space:pre;overflow-x:auto;line-height:normal;font-family:Menlo,'DejaVu Sans Mono',consolas,'Courier New',monospace\"><span style=\"color: #7fbfbf; text-decoration-color: #7fbfbf\">10:52:54 BST </span>Latest Best Fit on Iter <span style=\"color: #008080; text-decoration-color: #008080; font-weight: bold\">0</span>: <span style=\"color: #008080; text-decoration-color: #008080; font-weight: bold\">0.831</span>                                   \n",
       "<span style=\"color: #7fbfbf; text-decoration-color: #7fbfbf\">             </span>                                                                   \n",
       "</pre>\n"
      ],
      "text/plain": [
       "\u001b[2;36m10:52:54 BST\u001b[0m\u001b[2;36m \u001b[0mLatest Best Fit on Iter \u001b[1;36m0\u001b[0m: \u001b[1;36m0.831\u001b[0m                                   \n",
       "\u001b[2;36m             \u001b[0m                                                                   \n"
      ]
     },
     "metadata": {},
     "output_type": "display_data"
    },
    {
     "data": {
      "text/html": [
       "<pre style=\"white-space:pre;overflow-x:auto;line-height:normal;font-family:Menlo,'DejaVu Sans Mono',consolas,'Courier New',monospace\"><span style=\"color: #7fbfbf; text-decoration-color: #7fbfbf\">10:52:55 BST </span>Latest Best Fit on Iter <span style=\"color: #008080; text-decoration-color: #008080; font-weight: bold\">2</span>: <span style=\"color: #008080; text-decoration-color: #008080; font-weight: bold\">0.831</span>                                   \n",
       "<span style=\"color: #7fbfbf; text-decoration-color: #7fbfbf\">             </span>                                                                   \n",
       "</pre>\n"
      ],
      "text/plain": [
       "\u001b[2;36m10:52:55 BST\u001b[0m\u001b[2;36m \u001b[0mLatest Best Fit on Iter \u001b[1;36m2\u001b[0m: \u001b[1;36m0.831\u001b[0m                                   \n",
       "\u001b[2;36m             \u001b[0m                                                                   \n"
      ]
     },
     "metadata": {},
     "output_type": "display_data"
    },
    {
     "data": {
      "text/html": [
       "<pre style=\"white-space:pre;overflow-x:auto;line-height:normal;font-family:Menlo,'DejaVu Sans Mono',consolas,'Courier New',monospace\"><span style=\"color: #7fbfbf; text-decoration-color: #7fbfbf\">10:52:56 BST </span>Latest Best Fit on Iter <span style=\"color: #008080; text-decoration-color: #008080; font-weight: bold\">3</span>: <span style=\"color: #008080; text-decoration-color: #008080; font-weight: bold\">0.831</span>                                   \n",
       "<span style=\"color: #7fbfbf; text-decoration-color: #7fbfbf\">             </span>                                                                   \n",
       "</pre>\n"
      ],
      "text/plain": [
       "\u001b[2;36m10:52:56 BST\u001b[0m\u001b[2;36m \u001b[0mLatest Best Fit on Iter \u001b[1;36m3\u001b[0m: \u001b[1;36m0.831\u001b[0m                                   \n",
       "\u001b[2;36m             \u001b[0m                                                                   \n"
      ]
     },
     "metadata": {},
     "output_type": "display_data"
    },
    {
     "data": {
      "text/html": [
       "<pre style=\"white-space:pre;overflow-x:auto;line-height:normal;font-family:Menlo,'DejaVu Sans Mono',consolas,'Courier New',monospace\"><span style=\"color: #7fbfbf; text-decoration-color: #7fbfbf\">10:52:57 BST </span>Latest Best Fit on Iter <span style=\"color: #008080; text-decoration-color: #008080; font-weight: bold\">4</span>: <span style=\"color: #008080; text-decoration-color: #008080; font-weight: bold\">0.831</span>                                   \n",
       "<span style=\"color: #7fbfbf; text-decoration-color: #7fbfbf\">             </span>                                                                   \n",
       "</pre>\n"
      ],
      "text/plain": [
       "\u001b[2;36m10:52:57 BST\u001b[0m\u001b[2;36m \u001b[0mLatest Best Fit on Iter \u001b[1;36m4\u001b[0m: \u001b[1;36m0.831\u001b[0m                                   \n",
       "\u001b[2;36m             \u001b[0m                                                                   \n"
      ]
     },
     "metadata": {},
     "output_type": "display_data"
    },
    {
     "data": {
      "text/html": [
       "<pre style=\"white-space:pre;overflow-x:auto;line-height:normal;font-family:Menlo,'DejaVu Sans Mono',consolas,'Courier New',monospace\"><span style=\"color: #7fbfbf; text-decoration-color: #7fbfbf\">             </span>Best Result: <span style=\"color: #008080; text-decoration-color: #008080; font-weight: bold\">0.8310157590185615</span>                                    \n",
       "<span style=\"color: #7fbfbf; text-decoration-color: #7fbfbf\">             </span>Best Parameters: radius: <span style=\"color: #008080; text-decoration-color: #008080; font-weight: bold\">1.4339607475250464</span> target_phi:            \n",
       "<span style=\"color: #7fbfbf; text-decoration-color: #7fbfbf\">             </span><span style=\"color: #008080; text-decoration-color: #008080; font-weight: bold\">2.500469702605459</span>                                                  \n",
       "<span style=\"color: #7fbfbf; text-decoration-color: #7fbfbf\">             </span>                                                                   \n",
       "</pre>\n"
      ],
      "text/plain": [
       "\u001b[2;36m            \u001b[0m\u001b[2;36m \u001b[0mBest Result: \u001b[1;36m0.8310157590185615\u001b[0m                                    \n",
       "\u001b[2;36m             \u001b[0mBest Parameters: radius: \u001b[1;36m1.4339607475250464\u001b[0m target_phi:            \n",
       "\u001b[2;36m             \u001b[0m\u001b[1;36m2.500469702605459\u001b[0m                                                  \n",
       "\u001b[2;36m             \u001b[0m                                                                   \n"
      ]
     },
     "metadata": {},
     "output_type": "display_data"
    },
    {
     "data": {
      "text/html": [
       "<pre style=\"white-space:pre;overflow-x:auto;line-height:normal;font-family:Menlo,'DejaVu Sans Mono',consolas,'Courier New',monospace\"><span style=\"color: #7fbfbf; text-decoration-color: #7fbfbf\">             </span>Best Fit from Initial Solutions: <span style=\"color: #008080; text-decoration-color: #008080; font-weight: bold\">0.818</span>                             \n",
       "<span style=\"color: #7fbfbf; text-decoration-color: #7fbfbf\">             </span>                                                                   \n",
       "</pre>\n"
      ],
      "text/plain": [
       "\u001b[2;36m            \u001b[0m\u001b[2;36m \u001b[0mBest Fit from Initial Solutions: \u001b[1;36m0.818\u001b[0m                             \n",
       "\u001b[2;36m             \u001b[0m                                                                   \n"
      ]
     },
     "metadata": {},
     "output_type": "display_data"
    },
    {
     "data": {
      "text/html": [
       "<pre style=\"white-space:pre;overflow-x:auto;line-height:normal;font-family:Menlo,'DejaVu Sans Mono',consolas,'Courier New',monospace\"><span style=\"color: #7fbfbf; text-decoration-color: #7fbfbf\">10:52:58 BST </span>Latest Best Fit on Iter <span style=\"color: #008080; text-decoration-color: #008080; font-weight: bold\">0</span>: <span style=\"color: #008080; text-decoration-color: #008080; font-weight: bold\">0.818</span>                                   \n",
       "<span style=\"color: #7fbfbf; text-decoration-color: #7fbfbf\">             </span>                                                                   \n",
       "</pre>\n"
      ],
      "text/plain": [
       "\u001b[2;36m10:52:58 BST\u001b[0m\u001b[2;36m \u001b[0mLatest Best Fit on Iter \u001b[1;36m0\u001b[0m: \u001b[1;36m0.818\u001b[0m                                   \n",
       "\u001b[2;36m             \u001b[0m                                                                   \n"
      ]
     },
     "metadata": {},
     "output_type": "display_data"
    },
    {
     "data": {
      "text/html": [
       "<pre style=\"white-space:pre;overflow-x:auto;line-height:normal;font-family:Menlo,'DejaVu Sans Mono',consolas,'Courier New',monospace\"><span style=\"color: #7fbfbf; text-decoration-color: #7fbfbf\">10:53:00 BST </span>Latest Best Fit on Iter <span style=\"color: #008080; text-decoration-color: #008080; font-weight: bold\">4</span>: <span style=\"color: #008080; text-decoration-color: #008080; font-weight: bold\">0.818</span>                                   \n",
       "<span style=\"color: #7fbfbf; text-decoration-color: #7fbfbf\">             </span>                                                                   \n",
       "</pre>\n"
      ],
      "text/plain": [
       "\u001b[2;36m10:53:00 BST\u001b[0m\u001b[2;36m \u001b[0mLatest Best Fit on Iter \u001b[1;36m4\u001b[0m: \u001b[1;36m0.818\u001b[0m                                   \n",
       "\u001b[2;36m             \u001b[0m                                                                   \n"
      ]
     },
     "metadata": {},
     "output_type": "display_data"
    },
    {
     "data": {
      "text/html": [
       "<pre style=\"white-space:pre;overflow-x:auto;line-height:normal;font-family:Menlo,'DejaVu Sans Mono',consolas,'Courier New',monospace\"><span style=\"color: #7fbfbf; text-decoration-color: #7fbfbf\">             </span>Best Result: <span style=\"color: #008080; text-decoration-color: #008080; font-weight: bold\">0.81829840141115</span>                                      \n",
       "<span style=\"color: #7fbfbf; text-decoration-color: #7fbfbf\">             </span>Best Parameters: radius: <span style=\"color: #008080; text-decoration-color: #008080; font-weight: bold\">1.4786633119521555</span> target_phi:            \n",
       "<span style=\"color: #7fbfbf; text-decoration-color: #7fbfbf\">             </span><span style=\"color: #008080; text-decoration-color: #008080; font-weight: bold\">2.628694292802326</span>                                                  \n",
       "<span style=\"color: #7fbfbf; text-decoration-color: #7fbfbf\">             </span>                                                                   \n",
       "</pre>\n"
      ],
      "text/plain": [
       "\u001b[2;36m            \u001b[0m\u001b[2;36m \u001b[0mBest Result: \u001b[1;36m0.81829840141115\u001b[0m                                      \n",
       "\u001b[2;36m             \u001b[0mBest Parameters: radius: \u001b[1;36m1.4786633119521555\u001b[0m target_phi:            \n",
       "\u001b[2;36m             \u001b[0m\u001b[1;36m2.628694292802326\u001b[0m                                                  \n",
       "\u001b[2;36m             \u001b[0m                                                                   \n"
      ]
     },
     "metadata": {},
     "output_type": "display_data"
    },
    {
     "data": {
      "text/html": [
       "<pre style=\"white-space:pre;overflow-x:auto;line-height:normal;font-family:Menlo,'DejaVu Sans Mono',consolas,'Courier New',monospace\"><span style=\"color: #7fbfbf; text-decoration-color: #7fbfbf\">             </span>Best Fit from Initial Solutions: <span style=\"color: #008080; text-decoration-color: #008080; font-weight: bold\">0.805</span>                             \n",
       "<span style=\"color: #7fbfbf; text-decoration-color: #7fbfbf\">             </span>                                                                   \n",
       "</pre>\n"
      ],
      "text/plain": [
       "\u001b[2;36m            \u001b[0m\u001b[2;36m \u001b[0mBest Fit from Initial Solutions: \u001b[1;36m0.805\u001b[0m                             \n",
       "\u001b[2;36m             \u001b[0m                                                                   \n"
      ]
     },
     "metadata": {},
     "output_type": "display_data"
    },
    {
     "data": {
      "text/html": [
       "<pre style=\"white-space:pre;overflow-x:auto;line-height:normal;font-family:Menlo,'DejaVu Sans Mono',consolas,'Courier New',monospace\"><span style=\"color: #7fbfbf; text-decoration-color: #7fbfbf\">10:53:04 BST </span>Best Result: <span style=\"color: #008080; text-decoration-color: #008080; font-weight: bold\">0.8053644296268327</span>                                    \n",
       "<span style=\"color: #7fbfbf; text-decoration-color: #7fbfbf\">             </span>Best Parameters: radius: <span style=\"color: #008080; text-decoration-color: #008080; font-weight: bold\">1.4791201656141324</span> target_phi:            \n",
       "<span style=\"color: #7fbfbf; text-decoration-color: #7fbfbf\">             </span><span style=\"color: #008080; text-decoration-color: #008080; font-weight: bold\">2.7569188829991926</span>                                                 \n",
       "<span style=\"color: #7fbfbf; text-decoration-color: #7fbfbf\">             </span>                                                                   \n",
       "</pre>\n"
      ],
      "text/plain": [
       "\u001b[2;36m10:53:04 BST\u001b[0m\u001b[2;36m \u001b[0mBest Result: \u001b[1;36m0.8053644296268327\u001b[0m                                    \n",
       "\u001b[2;36m             \u001b[0mBest Parameters: radius: \u001b[1;36m1.4791201656141324\u001b[0m target_phi:            \n",
       "\u001b[2;36m             \u001b[0m\u001b[1;36m2.7569188829991926\u001b[0m                                                 \n",
       "\u001b[2;36m             \u001b[0m                                                                   \n"
      ]
     },
     "metadata": {},
     "output_type": "display_data"
    },
    {
     "data": {
      "text/html": [
       "<pre style=\"white-space:pre;overflow-x:auto;line-height:normal;font-family:Menlo,'DejaVu Sans Mono',consolas,'Courier New',monospace\"><span style=\"color: #7fbfbf; text-decoration-color: #7fbfbf\">             </span>Best Fit from Initial Solutions: <span style=\"color: #008080; text-decoration-color: #008080; font-weight: bold\">0.804</span>                             \n",
       "<span style=\"color: #7fbfbf; text-decoration-color: #7fbfbf\">             </span>                                                                   \n",
       "</pre>\n"
      ],
      "text/plain": [
       "\u001b[2;36m            \u001b[0m\u001b[2;36m \u001b[0mBest Fit from Initial Solutions: \u001b[1;36m0.804\u001b[0m                             \n",
       "\u001b[2;36m             \u001b[0m                                                                   \n"
      ]
     },
     "metadata": {},
     "output_type": "display_data"
    },
    {
     "data": {
      "text/html": [
       "<pre style=\"white-space:pre;overflow-x:auto;line-height:normal;font-family:Menlo,'DejaVu Sans Mono',consolas,'Courier New',monospace\"><span style=\"color: #7fbfbf; text-decoration-color: #7fbfbf\">10:53:08 BST </span>Best Result: <span style=\"color: #008080; text-decoration-color: #008080; font-weight: bold\">0.8041613885414177</span>                                    \n",
       "<span style=\"color: #7fbfbf; text-decoration-color: #7fbfbf\">             </span>Best Parameters: radius: <span style=\"color: #008080; text-decoration-color: #008080; font-weight: bold\">1.562489251606391</span> target_phi:             \n",
       "<span style=\"color: #7fbfbf; text-decoration-color: #7fbfbf\">             </span><span style=\"color: #008080; text-decoration-color: #008080; font-weight: bold\">2.8851434731960595</span>                                                 \n",
       "<span style=\"color: #7fbfbf; text-decoration-color: #7fbfbf\">             </span>                                                                   \n",
       "</pre>\n"
      ],
      "text/plain": [
       "\u001b[2;36m10:53:08 BST\u001b[0m\u001b[2;36m \u001b[0mBest Result: \u001b[1;36m0.8041613885414177\u001b[0m                                    \n",
       "\u001b[2;36m             \u001b[0mBest Parameters: radius: \u001b[1;36m1.562489251606391\u001b[0m target_phi:             \n",
       "\u001b[2;36m             \u001b[0m\u001b[1;36m2.8851434731960595\u001b[0m                                                 \n",
       "\u001b[2;36m             \u001b[0m                                                                   \n"
      ]
     },
     "metadata": {},
     "output_type": "display_data"
    },
    {
     "data": {
      "text/html": [
       "<pre style=\"white-space:pre;overflow-x:auto;line-height:normal;font-family:Menlo,'DejaVu Sans Mono',consolas,'Courier New',monospace\"><span style=\"color: #7fbfbf; text-decoration-color: #7fbfbf\">             </span>Best Fit from Initial Solutions: <span style=\"color: #008080; text-decoration-color: #008080; font-weight: bold\">0.837</span>                             \n",
       "<span style=\"color: #7fbfbf; text-decoration-color: #7fbfbf\">             </span>                                                                   \n",
       "</pre>\n"
      ],
      "text/plain": [
       "\u001b[2;36m            \u001b[0m\u001b[2;36m \u001b[0mBest Fit from Initial Solutions: \u001b[1;36m0.837\u001b[0m                             \n",
       "\u001b[2;36m             \u001b[0m                                                                   \n"
      ]
     },
     "metadata": {},
     "output_type": "display_data"
    },
    {
     "data": {
      "text/html": [
       "<pre style=\"white-space:pre;overflow-x:auto;line-height:normal;font-family:Menlo,'DejaVu Sans Mono',consolas,'Courier New',monospace\"><span style=\"color: #7fbfbf; text-decoration-color: #7fbfbf\">10:53:09 BST </span>Latest Best Fit on Iter <span style=\"color: #008080; text-decoration-color: #008080; font-weight: bold\">0</span>: <span style=\"color: #008080; text-decoration-color: #008080; font-weight: bold\">0.837</span>                                   \n",
       "<span style=\"color: #7fbfbf; text-decoration-color: #7fbfbf\">             </span>                                                                   \n",
       "</pre>\n"
      ],
      "text/plain": [
       "\u001b[2;36m10:53:09 BST\u001b[0m\u001b[2;36m \u001b[0mLatest Best Fit on Iter \u001b[1;36m0\u001b[0m: \u001b[1;36m0.837\u001b[0m                                   \n",
       "\u001b[2;36m             \u001b[0m                                                                   \n"
      ]
     },
     "metadata": {},
     "output_type": "display_data"
    },
    {
     "name": "stdout",
     "output_type": "stream",
     "text": [
      "\u001b[91mData point [0.75       3.01336806] is not unique. 1 duplicates registered. Continuing ...\u001b[0m\n",
      "\u001b[91mData point [0.75       3.01336806] is not unique. 2 duplicates registered. Continuing ...\u001b[0m\n",
      "\u001b[91mData point [0.75       3.01336806] is not unique. 3 duplicates registered. Continuing ...\u001b[0m\n",
      "\u001b[91mData point [0.75       3.01336806] is not unique. 4 duplicates registered. Continuing ...\u001b[0m\n"
     ]
    },
    {
     "data": {
      "text/html": [
       "<pre style=\"white-space:pre;overflow-x:auto;line-height:normal;font-family:Menlo,'DejaVu Sans Mono',consolas,'Courier New',monospace\"><span style=\"color: #7fbfbf; text-decoration-color: #7fbfbf\">10:53:11 BST </span>Best Result: <span style=\"color: #008080; text-decoration-color: #008080; font-weight: bold\">0.836983923103911</span>                                     \n",
       "<span style=\"color: #7fbfbf; text-decoration-color: #7fbfbf\">             </span>Best Parameters: radius: <span style=\"color: #008080; text-decoration-color: #008080; font-weight: bold\">0.75</span> target_phi: <span style=\"color: #008080; text-decoration-color: #008080; font-weight: bold\">3.0133680633929263</span>       \n",
       "<span style=\"color: #7fbfbf; text-decoration-color: #7fbfbf\">             </span>                                                                   \n",
       "</pre>\n"
      ],
      "text/plain": [
       "\u001b[2;36m10:53:11 BST\u001b[0m\u001b[2;36m \u001b[0mBest Result: \u001b[1;36m0.836983923103911\u001b[0m                                     \n",
       "\u001b[2;36m             \u001b[0mBest Parameters: radius: \u001b[1;36m0.75\u001b[0m target_phi: \u001b[1;36m3.0133680633929263\u001b[0m       \n",
       "\u001b[2;36m             \u001b[0m                                                                   \n"
      ]
     },
     "metadata": {},
     "output_type": "display_data"
    },
    {
     "data": {
      "text/html": [
       "<pre style=\"white-space:pre;overflow-x:auto;line-height:normal;font-family:Menlo,'DejaVu Sans Mono',consolas,'Courier New',monospace\"><span style=\"color: #7fbfbf; text-decoration-color: #7fbfbf\">             </span>Best Fit from Initial Solutions: <span style=\"color: #008080; text-decoration-color: #008080; font-weight: bold\">0.861</span>                             \n",
       "<span style=\"color: #7fbfbf; text-decoration-color: #7fbfbf\">             </span>                                                                   \n",
       "</pre>\n"
      ],
      "text/plain": [
       "\u001b[2;36m            \u001b[0m\u001b[2;36m \u001b[0mBest Fit from Initial Solutions: \u001b[1;36m0.861\u001b[0m                             \n",
       "\u001b[2;36m             \u001b[0m                                                                   \n"
      ]
     },
     "metadata": {},
     "output_type": "display_data"
    },
    {
     "data": {
      "text/html": [
       "<pre style=\"white-space:pre;overflow-x:auto;line-height:normal;font-family:Menlo,'DejaVu Sans Mono',consolas,'Courier New',monospace\"><span style=\"color: #7fbfbf; text-decoration-color: #7fbfbf\">10:53:12 BST </span>Latest Best Fit on Iter <span style=\"color: #008080; text-decoration-color: #008080; font-weight: bold\">0</span>: <span style=\"color: #008080; text-decoration-color: #008080; font-weight: bold\">0.861</span>                                   \n",
       "<span style=\"color: #7fbfbf; text-decoration-color: #7fbfbf\">             </span>                                                                   \n",
       "</pre>\n"
      ],
      "text/plain": [
       "\u001b[2;36m10:53:12 BST\u001b[0m\u001b[2;36m \u001b[0mLatest Best Fit on Iter \u001b[1;36m0\u001b[0m: \u001b[1;36m0.861\u001b[0m                                   \n",
       "\u001b[2;36m             \u001b[0m                                                                   \n"
      ]
     },
     "metadata": {},
     "output_type": "display_data"
    },
    {
     "name": "stdout",
     "output_type": "stream",
     "text": [
      "\u001b[91mData point [0.75       3.14159265] is not unique. 1 duplicates registered. Continuing ...\u001b[0m\n",
      "\u001b[91mData point [0.75       3.14159265] is not unique. 2 duplicates registered. Continuing ...\u001b[0m\n",
      "\u001b[91mData point [0.75       3.14159265] is not unique. 3 duplicates registered. Continuing ...\u001b[0m\n",
      "\u001b[91mData point [0.75       3.14159265] is not unique. 4 duplicates registered. Continuing ...\u001b[0m\n"
     ]
    },
    {
     "data": {
      "text/html": [
       "<pre style=\"white-space:pre;overflow-x:auto;line-height:normal;font-family:Menlo,'DejaVu Sans Mono',consolas,'Courier New',monospace\"><span style=\"color: #7fbfbf; text-decoration-color: #7fbfbf\">10:53:15 BST </span>Best Result: <span style=\"color: #008080; text-decoration-color: #008080; font-weight: bold\">0.8607220053672792</span>                                    \n",
       "<span style=\"color: #7fbfbf; text-decoration-color: #7fbfbf\">             </span>Best Parameters: radius: <span style=\"color: #008080; text-decoration-color: #008080; font-weight: bold\">0.75</span> target_phi: <span style=\"color: #008080; text-decoration-color: #008080; font-weight: bold\">3.141592653589793</span>        \n",
       "<span style=\"color: #7fbfbf; text-decoration-color: #7fbfbf\">             </span>                                                                   \n",
       "</pre>\n"
      ],
      "text/plain": [
       "\u001b[2;36m10:53:15 BST\u001b[0m\u001b[2;36m \u001b[0mBest Result: \u001b[1;36m0.8607220053672792\u001b[0m                                    \n",
       "\u001b[2;36m             \u001b[0mBest Parameters: radius: \u001b[1;36m0.75\u001b[0m target_phi: \u001b[1;36m3.141592653589793\u001b[0m        \n",
       "\u001b[2;36m             \u001b[0m                                                                   \n"
      ]
     },
     "metadata": {},
     "output_type": "display_data"
    }
   ],
   "source": [
    "phi_dict = {}\n",
    "for target_phi in phi_range:\n",
    "    # Design space defined new each time \n",
    "    method = tdd.MethodBayOpt(\n",
    "        initial_iter=300,\n",
    "        n_iter=5,\n",
    "        acq_func='ucb',\n",
    "        kappa=3,\n",
    "        xi=0.9,\n",
    "        seed=1,\n",
    "    )\n",
    "\n",
    "    # Easiest way to get target_phi into the optimization\n",
    "    # predict_parameters = parameters + [tdd.ParameterFloat(name=\"target_phi\", span=(target_phi, target_phi))]\n",
    "    phi = tdd.ParameterFloat(name=\"target_phi\", span=(target_phi, target_phi))\n",
    "    rad = tdd.ParameterFloat(name=\"radius\", span=(0.75, 1.8))\n",
    "    predict_parameters = [rad, phi]\n",
    "\n",
    "    output_dir = \"/home/matt/Documents/Flexcompute/metalens2/data\"\n",
    "    design_space = tdd.DesignSpace(\n",
    "        method=method,\n",
    "        parameters=predict_parameters,\n",
    "        task_name=\"metalens_predict_1\",\n",
    "        folder_name=\"MetalensV2\",\n",
    "        path_dir=output_dir,\n",
    "    )\n",
    "    \n",
    "    predict_results = design_space.run(run_fn, verbose=True)\n",
    "    phi_dict[target_phi] = predict_results.optimizer.max['params'].values()"
   ]
  },
  {
   "cell_type": "code",
   "execution_count": 30,
   "metadata": {},
   "outputs": [
    {
     "data": {
      "image/png": "[encoded data removed]",
      "text/plain": [
       "<Figure size 1000x500 with 2 Axes>"
      ]
     },
     "metadata": {},
     "output_type": "display_data"
    }
   ],
   "source": [
    "# Plot test for cylinders\n",
    "rad_values = np.linspace(0.75, 1.8, 20)\n",
    "\n",
    "complex_vals = []\n",
    "for rad in rad_values:\n",
    "    feature_array = np.array((rad, rad, 0, freq0))\n",
    "    feature_array = feature_array.reshape((1, -1))\n",
    "    prediction = model.make_prediction(trained_net, True, feature_array, 2)\n",
    "    comp_num = prediction[0] + prediction[1] * 1j\n",
    "    complex_vals.append(comp_num)\n",
    "\n",
    "complex_arr = np.array(complex_vals)\n",
    "theta = np.unwrap(np.angle(complex_arr))\n",
    "\n",
    "# plot the transmission phase\n",
    "fig, (ax1, ax2) = plt.subplots(1, 2, figsize=(10, 5))\n",
    "theta = theta - theta[0]\n",
    "ax1.plot(rad_values, theta / (2 * np.pi), linewidth=3, c=\"blue\")\n",
    "ax1.set_xlim(np.min(rad_values), np.max(rad_values))\n",
    "ax1.set_ylim(0, 1.1)\n",
    "ax1.set_xlabel(\"D ($\\mu m$)\")\n",
    "ax1.set_ylabel(\"Transmission phase ($2\\pi$)\")\n",
    "\n",
    "# plot the transmittance\n",
    "ax2.plot(rad_values, np.abs(complex_arr), linewidth=3, c=\"red\")\n",
    "ax2.set_xlim(np.min(rad_values), np.max(rad_values))\n",
    "ax2.set_ylim(0, 1)\n",
    "ax2.set_xlabel(\"D ($\\mu m$)\")\n",
    "ax2.set_ylabel(\"Transmittance\")\n",
    "plt.show()"
   ]
  },
  {
   "cell_type": "code",
   "execution_count": 74,
   "metadata": {},
   "outputs": [],
   "source": [
    "# ideal_structures = np.zeros(shape=(phi_map.shape[0], phi_map.shape[1], 4))\n",
    "# for i in range(len(phi_map)):\n",
    "#     for j in range(len(phi_map)):\n",
    "#         target_phi = phi_map[i][j]\n",
    "        \n",
    "#         # Design space defined new each time \n",
    "#         method = tdd.MethodBayOpt(\n",
    "#             initial_iter=200,\n",
    "#             n_iter=10,\n",
    "#             acq_func='ucb',\n",
    "#             kappa=3,\n",
    "#             xi=0.9,\n",
    "#             seed=1,\n",
    "#         )\n",
    "\n",
    "#         # Easiest way to get target_phi into the optimization\n",
    "#         predict_parameters = parameters + [tdd.ParameterFloat(name=\"target_phi\", span=(target_phi, target_phi))]\n",
    "\n",
    "#         output_dir = \"/home/matt/Documents/Flexcompute/metalens2/data\"\n",
    "#         design_space = tdd.DesignSpace(\n",
    "#             method=method,\n",
    "#             parameters=predict_parameters,\n",
    "#             task_name=\"metalens_predict_1\",\n",
    "#             folder_name=\"MetalensV2\",\n",
    "#             path_dir=output_dir,\n",
    "#         )\n",
    "        \n",
    "#         predict_results = design_space.run(run_fn, verbose=False)\n",
    "#         ideal_structures[i][j] = np.array(list(predict_results.optimizer.max['params'].values()))\n",
    "\n",
    "# # create pillar geometries at each cell to follow the desired phase profile\n",
    "# ellipsis_structures = []\n",
    "# for i, x in enumerate(r):\n",
    "#     for j, y in enumerate(r):\n",
    "#         if x**2 + y**2 <= R**2 and x >= 0 and y >= 0:\n",
    "#             ideal_params = ideal_structures[i][j]\n",
    "#             # BayOpt outputs params in alphabetical order\n",
    "#             ellipsis = create_ellipsis(ideal_params[1], ideal_params[2], ideal_params[0], x, y)\n",
    "#             ellipsis_structures.append(ellipsis)\n"
   ]
  },
  {
   "cell_type": "code",
   "execution_count": 36,
   "metadata": {},
   "outputs": [],
   "source": [
    "import xarray\n",
    "coords = {\"phi\": list(phi_dict.keys())}\n",
    "dims = [\"phi\", \"row\"]\n",
    "data = np.array([np.array(list(row)) for row in phi_dict.values()])\n",
    "phi_array = xarray.DataArray(data=data, coords=coords, dims=dims)\n",
    "\n",
    "# print(phi_array.sel(phi=3.11, method=\"nearest\"))\n",
    "\n",
    "os.chdir(\"/home/matt/Documents/Flexcompute/metalens_linear_source/data\")\n",
    "with open(\"phi_array.pkl\", \"wb\") as out_file:\n",
    "    pickle.dump(phi_array, out_file)\n",
    "\n",
    "# with open(\"phi_array.pkl\", \"rb\") as in_file:\n",
    "#     phi_array = pickle.load(in_file)\n"
   ]
  },
  {
   "cell_type": "markdown",
   "metadata": {},
   "source": [
    "Make output an xarray and then use .sel nearest to pick the appropriate structures\n",
    "Wonder if just taking abs of x and y offsets would fix positioning issue?"
   ]
  },
  {
   "cell_type": "markdown",
   "metadata": {},
   "source": [
    "Build the simulation from the ideal structures https://www.flexcompute.com/tidy3d/examples/notebooks/MidIRMetalens/"
   ]
  },
  {
   "cell_type": "code",
   "execution_count": 39,
   "metadata": {},
   "outputs": [],
   "source": [
    "# create pillar geometries at each cell to follow the desired phase profile\n",
    "ellipsis_structures = []\n",
    "for i, x in enumerate(r):\n",
    "    for j, y in enumerate(r):\n",
    "        if x**2 + y**2 <= R**2 and x >= 0 and y >= 0:\n",
    "            ideal_params = phi_array.sel(phi=phi_map[i][j], method=\"nearest\").data\n",
    "            # BayOpt outputs params in alphabetical order\n",
    "            # ellipsis = create_ellipsis(ideal_params[1], ideal_params[2], ideal_params[0], x, y)\n",
    "            ellipsis = create_ellipsis(ideal_params[0], ideal_params[0], 0, x, y)\n",
    "            ellipsis_structures.append(ellipsis)\n"
   ]
  },
  {
   "cell_type": "code",
   "execution_count": 40,
   "metadata": {},
   "outputs": [],
   "source": [
    "# simulation domain size\n",
    "Lx = 2 * R + lda0\n",
    "Ly = 2 * R + lda0\n",
    "Lz = h + 1.3 * lda0\n",
    "\n",
    "# grids of the projected field position\n",
    "xs_far = np.linspace(-3 * lda0, 3 * lda0, 101)\n",
    "ys_far = np.linspace(-3 * lda0, 3 * lda0, 101)\n",
    "\n",
    "# define a field projection monitor\n",
    "monitor_proj = td.FieldProjectionCartesianMonitor(\n",
    "    center=[0, 0, h + 0.6 * lda0],\n",
    "    size=[td.inf, td.inf, 0],\n",
    "    freqs=[freq0],\n",
    "    name=\"focal_plane_proj\",\n",
    "    proj_axis=2,\n",
    "    proj_distance=f,\n",
    "    x=xs_far,\n",
    "    y=ys_far,\n",
    "    custom_origin=(0, 0, 0),\n",
    "    far_field_approx=False,\n",
    ")\n",
    "\n",
    "# define geometry\n",
    "substrate_geo = td.Box.from_bounds(rmin=(-inf_eff, -inf_eff, -inf_eff), rmax=(inf_eff, inf_eff, 0))\n",
    "substrate = td.Structure(geometry=substrate_geo, medium=si, name=\"substrate\")\n",
    "\n",
    "# add a plane wave source\n",
    "plane_wave1 = td.PlaneWave(\n",
    "    source_time=td.GaussianPulse(freq0=freq0, fwidth=freq0 / 10),\n",
    "    size=(td.inf, td.inf, 0),\n",
    "    center=(0, 0, -0.1 * lda0),\n",
    "    direction=\"+\",\n",
    ")\n",
    "\n",
    "run_time = 5e-12  # simulation run time\n",
    "min_steps_per_wvl = 12\n",
    "\n",
    "# define the simulation\n",
    "metalens_sim = td.Simulation(\n",
    "    center=(0, 0, Lz / 2 - lda0 / 2),\n",
    "    size=(Lx, Ly, Lz),\n",
    "    grid_spec=td.GridSpec.auto(min_steps_per_wvl=min_steps_per_wvl, wavelength=lda0),\n",
    "    structures=ellipsis_structures + [substrate],\n",
    "    sources=[plane_wave1],\n",
    "    monitors=[monitor_proj],\n",
    "    run_time=run_time,\n",
    "    boundary_spec=td.BoundarySpec(x=td.Boundary.pml(), y=td.Boundary.pml(), z=td.Boundary.pml()),\n",
    "    symmetry=(-1, 1, 0),\n",
    ")"
   ]
  },
  {
   "cell_type": "code",
   "execution_count": 42,
   "metadata": {},
   "outputs": [
    {
     "data": {
      "image/png": "[encoded data removed]",
      "text/plain": [
       "<Figure size 700x700 with 1 Axes>"
      ]
     },
     "metadata": {},
     "output_type": "display_data"
    }
   ],
   "source": [
    "fig, ax = plt.subplots(figsize=(7, 7))\n",
    "metalens_sim.plot(z=h / 2, ax=ax)\n",
    "ax.set_xlim(0, R)\n",
    "ax.set_ylim(0, R)\n",
    "plt.show()"
   ]
  },
  {
   "cell_type": "code",
   "execution_count": 43,
   "metadata": {},
   "outputs": [
    {
     "data": {
      "text/html": [
       "<pre style=\"white-space:pre;overflow-x:auto;line-height:normal;font-family:Menlo,'DejaVu Sans Mono',consolas,'Courier New',monospace\"><span style=\"color: #7fbfbf; text-decoration-color: #7fbfbf\">11:05:44 BST </span>Created task <span style=\"color: #008000; text-decoration-color: #008000\">'ir_metalens'</span> with task_id                            \n",
       "<span style=\"color: #7fbfbf; text-decoration-color: #7fbfbf\">             </span><span style=\"color: #008000; text-decoration-color: #008000\">'fdve-664338af-16f6-4fdd-b483-b7d1c6523583'</span> and task_type <span style=\"color: #008000; text-decoration-color: #008000\">'FDTD'</span>.  \n",
       "</pre>\n"
      ],
      "text/plain": [
       "\u001b[2;36m11:05:44 BST\u001b[0m\u001b[2;36m \u001b[0mCreated task \u001b[32m'ir_metalens'\u001b[0m with task_id                            \n",
       "\u001b[2;36m             \u001b[0m\u001b[32m'fdve-664338af-16f6-4fdd-b483-b7d1c6523583'\u001b[0m and task_type \u001b[32m'FDTD'\u001b[0m.  \n"
      ]
     },
     "metadata": {},
     "output_type": "display_data"
    },
    {
     "data": {
      "text/html": [
       "<pre style=\"white-space:pre;overflow-x:auto;line-height:normal;font-family:Menlo,'DejaVu Sans Mono',consolas,'Courier New',monospace\"><span style=\"color: #7fbfbf; text-decoration-color: #7fbfbf\">             </span>View task using web UI at                                          \n",
       "<span style=\"color: #7fbfbf; text-decoration-color: #7fbfbf\">             </span><a href=\"https://tidy3d.simulation.cloud/workbench?taskId=fdve-664338af-16f6-4fdd-b483-b7d1c6523583\" target=\"_blank\"><span style=\"color: #008000; text-decoration-color: #008000\">'https://tidy3d.simulation.cloud/workbench?taskId=fdve-664338af-16f</span></a>\n",
       "<span style=\"color: #7fbfbf; text-decoration-color: #7fbfbf\">             </span><a href=\"https://tidy3d.simulation.cloud/workbench?taskId=fdve-664338af-16f6-4fdd-b483-b7d1c6523583\" target=\"_blank\"><span style=\"color: #008000; text-decoration-color: #008000\">6-4fdd-b483-b7d1c6523583'</span></a>.                                         \n",
       "</pre>\n"
      ],
      "text/plain": [
       "\u001b[2;36m            \u001b[0m\u001b[2;36m \u001b[0mView task using web UI at                                          \n",
       "\u001b[2;36m             \u001b[0m\u001b]8;id=913197;https://tidy3d.simulation.cloud/workbench?taskId=fdve-664338af-16f6-4fdd-b483-b7d1c6523583\u001b\\\u001b[32m'https://tidy3d.simulation.cloud/workbench?\u001b[0m\u001b]8;;\u001b\\\u001b]8;id=787775;https://tidy3d.simulation.cloud/workbench?taskId=fdve-664338af-16f6-4fdd-b483-b7d1c6523583\u001b\\\u001b[32mtaskId\u001b[0m\u001b]8;;\u001b\\\u001b]8;id=913197;https://tidy3d.simulation.cloud/workbench?taskId=fdve-664338af-16f6-4fdd-b483-b7d1c6523583\u001b\\\u001b[32m=\u001b[0m\u001b]8;;\u001b\\\u001b]8;id=499270;https://tidy3d.simulation.cloud/workbench?taskId=fdve-664338af-16f6-4fdd-b483-b7d1c6523583\u001b\\\u001b[32mfdve\u001b[0m\u001b]8;;\u001b\\\u001b]8;id=913197;https://tidy3d.simulation.cloud/workbench?taskId=fdve-664338af-16f6-4fdd-b483-b7d1c6523583\u001b\\\u001b[32m-664338af-16f\u001b[0m\u001b]8;;\u001b\\\n",
       "\u001b[2;36m             \u001b[0m\u001b]8;id=913197;https://tidy3d.simulation.cloud/workbench?taskId=fdve-664338af-16f6-4fdd-b483-b7d1c6523583\u001b\\\u001b[32m6-4fdd-b483-b7d1c6523583'\u001b[0m\u001b]8;;\u001b\\.                                         \n"
      ]
     },
     "metadata": {},
     "output_type": "display_data"
    },
    {
     "data": {
      "application/vnd.jupyter.widget-view+json": {
       "model_id": "0102de7d87b24752863b22405f2c73ff",
       "version_major": 2,
       "version_minor": 0
      },
      "text/plain": [
       "Output()"
      ]
     },
     "metadata": {},
     "output_type": "display_data"
    },
    {
     "data": {
      "text/html": [
       "<pre style=\"white-space:pre;overflow-x:auto;line-height:normal;font-family:Menlo,'DejaVu Sans Mono',consolas,'Courier New',monospace\"></pre>\n"
      ],
      "text/plain": []
     },
     "metadata": {},
     "output_type": "display_data"
    },
    {
     "data": {
      "text/html": [
       "<pre style=\"white-space:pre;overflow-x:auto;line-height:normal;font-family:Menlo,'DejaVu Sans Mono',consolas,'Courier New',monospace\">\n",
       "</pre>\n"
      ],
      "text/plain": [
       "\n"
      ]
     },
     "metadata": {},
     "output_type": "display_data"
    },
    {
     "data": {
      "text/html": [
       "<pre style=\"white-space:pre;overflow-x:auto;line-height:normal;font-family:Menlo,'DejaVu Sans Mono',consolas,'Courier New',monospace\"><span style=\"color: #7fbfbf; text-decoration-color: #7fbfbf\">11:06:12 BST </span>Maximum FlexCredit cost: <span style=\"color: #008080; text-decoration-color: #008080; font-weight: bold\">2.750</span>. Minimum cost depends on task       \n",
       "<span style=\"color: #7fbfbf; text-decoration-color: #7fbfbf\">             </span>execution details. Use <span style=\"color: #008000; text-decoration-color: #008000\">'web.real_cost(task_id)'</span> to get the billed  \n",
       "<span style=\"color: #7fbfbf; text-decoration-color: #7fbfbf\">             </span>FlexCredit cost after a simulation run.                            \n",
       "</pre>\n"
      ],
      "text/plain": [
       "\u001b[2;36m11:06:12 BST\u001b[0m\u001b[2;36m \u001b[0mMaximum FlexCredit cost: \u001b[1;36m2.750\u001b[0m. Minimum cost depends on task       \n",
       "\u001b[2;36m             \u001b[0mexecution details. Use \u001b[32m'web.real_cost\u001b[0m\u001b[32m(\u001b[0m\u001b[32mtask_id\u001b[0m\u001b[32m)\u001b[0m\u001b[32m'\u001b[0m to get the billed  \n",
       "\u001b[2;36m             \u001b[0mFlexCredit cost after a simulation run.                            \n"
      ]
     },
     "metadata": {},
     "output_type": "display_data"
    },
    {
     "data": {
      "text/html": [
       "<pre style=\"white-space:pre;overflow-x:auto;line-height:normal;font-family:Menlo,'DejaVu Sans Mono',consolas,'Courier New',monospace\"><span style=\"color: #7fbfbf; text-decoration-color: #7fbfbf\">             </span>  <span style=\"color: #008080; text-decoration-color: #008080; font-weight: bold\">0.105</span> FlexCredit of the total cost from post-processing.         \n",
       "</pre>\n"
      ],
      "text/plain": [
       "\u001b[2;36m            \u001b[0m\u001b[2;36m \u001b[0m  \u001b[1;36m0.105\u001b[0m FlexCredit of the total cost from post-processing.         \n"
      ]
     },
     "metadata": {},
     "output_type": "display_data"
    }
   ],
   "source": [
    "import tidy3d.web as web\n",
    "# sim_data = web.run(metalens_sim, task_name=\"metalens_full_sim\")\n",
    "job = web.Job(simulation=metalens_sim, task_name=\"ir_metalens\")\n",
    "estimated_cost = web.estimate_cost(job.task_id)"
   ]
  },
  {
   "cell_type": "code",
   "execution_count": 44,
   "metadata": {},
   "outputs": [
    {
     "data": {
      "text/html": [
       "<pre style=\"white-space:pre;overflow-x:auto;line-height:normal;font-family:Menlo,'DejaVu Sans Mono',consolas,'Courier New',monospace\"><span style=\"color: #7fbfbf; text-decoration-color: #7fbfbf\">11:06:17 BST </span>Created task <span style=\"color: #008000; text-decoration-color: #008000\">'metalens_full_sim'</span> with task_id                      \n",
       "<span style=\"color: #7fbfbf; text-decoration-color: #7fbfbf\">             </span><span style=\"color: #008000; text-decoration-color: #008000\">'fdve-6aa43541-1e5e-407c-a4e9-3c1fcce1a847'</span> and task_type <span style=\"color: #008000; text-decoration-color: #008000\">'FDTD'</span>.  \n",
       "</pre>\n"
      ],
      "text/plain": [
       "\u001b[2;36m11:06:17 BST\u001b[0m\u001b[2;36m \u001b[0mCreated task \u001b[32m'metalens_full_sim'\u001b[0m with task_id                      \n",
       "\u001b[2;36m             \u001b[0m\u001b[32m'fdve-6aa43541-1e5e-407c-a4e9-3c1fcce1a847'\u001b[0m and task_type \u001b[32m'FDTD'\u001b[0m.  \n"
      ]
     },
     "metadata": {},
     "output_type": "display_data"
    },
    {
     "data": {
      "text/html": [
       "<pre style=\"white-space:pre;overflow-x:auto;line-height:normal;font-family:Menlo,'DejaVu Sans Mono',consolas,'Courier New',monospace\"><span style=\"color: #7fbfbf; text-decoration-color: #7fbfbf\">             </span>View task using web UI at                                          \n",
       "<span style=\"color: #7fbfbf; text-decoration-color: #7fbfbf\">             </span><a href=\"https://tidy3d.simulation.cloud/workbench?taskId=fdve-6aa43541-1e5e-407c-a4e9-3c1fcce1a847\" target=\"_blank\"><span style=\"color: #008000; text-decoration-color: #008000\">'https://tidy3d.simulation.cloud/workbench?taskId=fdve-6aa43541-1e5</span></a>\n",
       "<span style=\"color: #7fbfbf; text-decoration-color: #7fbfbf\">             </span><a href=\"https://tidy3d.simulation.cloud/workbench?taskId=fdve-6aa43541-1e5e-407c-a4e9-3c1fcce1a847\" target=\"_blank\"><span style=\"color: #008000; text-decoration-color: #008000\">e-407c-a4e9-3c1fcce1a847'</span></a>.                                         \n",
       "</pre>\n"
      ],
      "text/plain": [
       "\u001b[2;36m            \u001b[0m\u001b[2;36m \u001b[0mView task using web UI at                                          \n",
       "\u001b[2;36m             \u001b[0m\u001b]8;id=858532;https://tidy3d.simulation.cloud/workbench?taskId=fdve-6aa43541-1e5e-407c-a4e9-3c1fcce1a847\u001b\\\u001b[32m'https://tidy3d.simulation.cloud/workbench?\u001b[0m\u001b]8;;\u001b\\\u001b]8;id=261207;https://tidy3d.simulation.cloud/workbench?taskId=fdve-6aa43541-1e5e-407c-a4e9-3c1fcce1a847\u001b\\\u001b[32mtaskId\u001b[0m\u001b]8;;\u001b\\\u001b]8;id=858532;https://tidy3d.simulation.cloud/workbench?taskId=fdve-6aa43541-1e5e-407c-a4e9-3c1fcce1a847\u001b\\\u001b[32m=\u001b[0m\u001b]8;;\u001b\\\u001b]8;id=578651;https://tidy3d.simulation.cloud/workbench?taskId=fdve-6aa43541-1e5e-407c-a4e9-3c1fcce1a847\u001b\\\u001b[32mfdve\u001b[0m\u001b]8;;\u001b\\\u001b]8;id=858532;https://tidy3d.simulation.cloud/workbench?taskId=fdve-6aa43541-1e5e-407c-a4e9-3c1fcce1a847\u001b\\\u001b[32m-6aa43541-1e5\u001b[0m\u001b]8;;\u001b\\\n",
       "\u001b[2;36m             \u001b[0m\u001b]8;id=858532;https://tidy3d.simulation.cloud/workbench?taskId=fdve-6aa43541-1e5e-407c-a4e9-3c1fcce1a847\u001b\\\u001b[32me-407c-a4e9-3c1fcce1a847'\u001b[0m\u001b]8;;\u001b\\.                                         \n"
      ]
     },
     "metadata": {},
     "output_type": "display_data"
    },
    {
     "data": {
      "application/vnd.jupyter.widget-view+json": {
       "model_id": "594e6e9393334f1fb1747a136140f2da",
       "version_major": 2,
       "version_minor": 0
      },
      "text/plain": [
       "Output()"
      ]
     },
     "metadata": {},
     "output_type": "display_data"
    },
    {
     "data": {
      "text/html": [
       "<pre style=\"white-space:pre;overflow-x:auto;line-height:normal;font-family:Menlo,'DejaVu Sans Mono',consolas,'Courier New',monospace\"></pre>\n"
      ],
      "text/plain": []
     },
     "metadata": {},
     "output_type": "display_data"
    },
    {
     "data": {
      "text/html": [
       "<pre style=\"white-space:pre;overflow-x:auto;line-height:normal;font-family:Menlo,'DejaVu Sans Mono',consolas,'Courier New',monospace\">\n",
       "</pre>\n"
      ],
      "text/plain": [
       "\n"
      ]
     },
     "metadata": {},
     "output_type": "display_data"
    },
    {
     "data": {
      "text/html": [
       "<pre style=\"white-space:pre;overflow-x:auto;line-height:normal;font-family:Menlo,'DejaVu Sans Mono',consolas,'Courier New',monospace\"><span style=\"color: #7fbfbf; text-decoration-color: #7fbfbf\">11:06:27 BST </span>status = queued                                                    \n",
       "</pre>\n"
      ],
      "text/plain": [
       "\u001b[2;36m11:06:27 BST\u001b[0m\u001b[2;36m \u001b[0mstatus = queued                                                    \n"
      ]
     },
     "metadata": {},
     "output_type": "display_data"
    },
    {
     "data": {
      "text/html": [
       "<pre style=\"white-space:pre;overflow-x:auto;line-height:normal;font-family:Menlo,'DejaVu Sans Mono',consolas,'Courier New',monospace\"><span style=\"color: #7fbfbf; text-decoration-color: #7fbfbf\">             </span>To cancel the simulation, use <span style=\"color: #008000; text-decoration-color: #008000\">'web.abort(task_id)'</span> or              \n",
       "<span style=\"color: #7fbfbf; text-decoration-color: #7fbfbf\">             </span><span style=\"color: #008000; text-decoration-color: #008000\">'web.delete(task_id)'</span> or abort/delete the task in the web UI.      \n",
       "<span style=\"color: #7fbfbf; text-decoration-color: #7fbfbf\">             </span>Terminating the Python script will not stop the job running on the \n",
       "<span style=\"color: #7fbfbf; text-decoration-color: #7fbfbf\">             </span>cloud.                                                             \n",
       "</pre>\n"
      ],
      "text/plain": [
       "\u001b[2;36m            \u001b[0m\u001b[2;36m \u001b[0mTo cancel the simulation, use \u001b[32m'web.abort\u001b[0m\u001b[32m(\u001b[0m\u001b[32mtask_id\u001b[0m\u001b[32m)\u001b[0m\u001b[32m'\u001b[0m or              \n",
       "\u001b[2;36m             \u001b[0m\u001b[32m'web.delete\u001b[0m\u001b[32m(\u001b[0m\u001b[32mtask_id\u001b[0m\u001b[32m)\u001b[0m\u001b[32m'\u001b[0m or abort/delete the task in the web UI.      \n",
       "\u001b[2;36m             \u001b[0mTerminating the Python script will not stop the job running on the \n",
       "\u001b[2;36m             \u001b[0mcloud.                                                             \n"
      ]
     },
     "metadata": {},
     "output_type": "display_data"
    },
    {
     "data": {
      "application/vnd.jupyter.widget-view+json": {
       "model_id": "8ed6f7f3243c4105a489b2040fdc89b0",
       "version_major": 2,
       "version_minor": 0
      },
      "text/plain": [
       "Output()"
      ]
     },
     "metadata": {},
     "output_type": "display_data"
    },
    {
     "data": {
      "text/html": [
       "<pre style=\"white-space:pre;overflow-x:auto;line-height:normal;font-family:Menlo,'DejaVu Sans Mono',consolas,'Courier New',monospace\"><span style=\"color: #7fbfbf; text-decoration-color: #7fbfbf\">11:07:43 BST </span>status = preprocess                                                \n",
       "</pre>\n"
      ],
      "text/plain": [
       "\u001b[2;36m11:07:43 BST\u001b[0m\u001b[2;36m \u001b[0mstatus = preprocess                                                \n"
      ]
     },
     "metadata": {},
     "output_type": "display_data"
    },
    {
     "data": {
      "text/html": [
       "<pre style=\"white-space:pre;overflow-x:auto;line-height:normal;font-family:Menlo,'DejaVu Sans Mono',consolas,'Courier New',monospace\"></pre>\n"
      ],
      "text/plain": []
     },
     "metadata": {},
     "output_type": "display_data"
    },
    {
     "data": {
      "text/html": [
       "<pre style=\"white-space:pre;overflow-x:auto;line-height:normal;font-family:Menlo,'DejaVu Sans Mono',consolas,'Courier New',monospace\"><span style=\"color: #7fbfbf; text-decoration-color: #7fbfbf\">11:08:18 BST </span>Maximum FlexCredit cost: <span style=\"color: #008080; text-decoration-color: #008080; font-weight: bold\">2.750</span>. Use <span style=\"color: #008000; text-decoration-color: #008000\">'web.real_cost(task_id)'</span> to get\n",
       "<span style=\"color: #7fbfbf; text-decoration-color: #7fbfbf\">             </span>the billed FlexCredit cost after a simulation run.                 \n",
       "</pre>\n"
      ],
      "text/plain": [
       "\u001b[2;36m11:08:18 BST\u001b[0m\u001b[2;36m \u001b[0mMaximum FlexCredit cost: \u001b[1;36m2.750\u001b[0m. Use \u001b[32m'web.real_cost\u001b[0m\u001b[32m(\u001b[0m\u001b[32mtask_id\u001b[0m\u001b[32m)\u001b[0m\u001b[32m'\u001b[0m to get\n",
       "\u001b[2;36m             \u001b[0mthe billed FlexCredit cost after a simulation run.                 \n"
      ]
     },
     "metadata": {},
     "output_type": "display_data"
    },
    {
     "data": {
      "text/html": [
       "<pre style=\"white-space:pre;overflow-x:auto;line-height:normal;font-family:Menlo,'DejaVu Sans Mono',consolas,'Courier New',monospace\"><span style=\"color: #7fbfbf; text-decoration-color: #7fbfbf\">             </span>starting up solver                                                 \n",
       "</pre>\n"
      ],
      "text/plain": [
       "\u001b[2;36m            \u001b[0m\u001b[2;36m \u001b[0mstarting up solver                                                 \n"
      ]
     },
     "metadata": {},
     "output_type": "display_data"
    },
    {
     "data": {
      "text/html": [
       "<pre style=\"white-space:pre;overflow-x:auto;line-height:normal;font-family:Menlo,'DejaVu Sans Mono',consolas,'Courier New',monospace\"><span style=\"color: #7fbfbf; text-decoration-color: #7fbfbf\">             </span>running solver                                                     \n",
       "</pre>\n"
      ],
      "text/plain": [
       "\u001b[2;36m            \u001b[0m\u001b[2;36m \u001b[0mrunning solver                                                     \n"
      ]
     },
     "metadata": {},
     "output_type": "display_data"
    },
    {
     "data": {
      "application/vnd.jupyter.widget-view+json": {
       "model_id": "5e2998b62c7d442f89fb4003745d7f90",
       "version_major": 2,
       "version_minor": 0
      },
      "text/plain": [
       "Output()"
      ]
     },
     "metadata": {},
     "output_type": "display_data"
    },
    {
     "data": {
      "text/html": [
       "<pre style=\"white-space:pre;overflow-x:auto;line-height:normal;font-family:Menlo,'DejaVu Sans Mono',consolas,'Courier New',monospace\"><span style=\"color: #7fbfbf; text-decoration-color: #7fbfbf\">11:12:38 BST </span>early shutoff detected at <span style=\"color: #008080; text-decoration-color: #008080; font-weight: bold\">56</span>%, exiting.                            \n",
       "</pre>\n"
      ],
      "text/plain": [
       "\u001b[2;36m11:12:38 BST\u001b[0m\u001b[2;36m \u001b[0mearly shutoff detected at \u001b[1;36m56\u001b[0m%, exiting.                            \n"
      ]
     },
     "metadata": {},
     "output_type": "display_data"
    },
    {
     "data": {
      "text/html": [
       "<pre style=\"white-space:pre;overflow-x:auto;line-height:normal;font-family:Menlo,'DejaVu Sans Mono',consolas,'Courier New',monospace\"></pre>\n"
      ],
      "text/plain": []
     },
     "metadata": {},
     "output_type": "display_data"
    },
    {
     "data": {
      "text/html": [
       "<pre style=\"white-space:pre;overflow-x:auto;line-height:normal;font-family:Menlo,'DejaVu Sans Mono',consolas,'Courier New',monospace\">\n",
       "</pre>\n"
      ],
      "text/plain": [
       "\n"
      ]
     },
     "metadata": {},
     "output_type": "display_data"
    },
    {
     "data": {
      "text/html": [
       "<pre style=\"white-space:pre;overflow-x:auto;line-height:normal;font-family:Menlo,'DejaVu Sans Mono',consolas,'Courier New',monospace\"><span style=\"color: #7fbfbf; text-decoration-color: #7fbfbf\">             </span>status = postprocess                                               \n",
       "</pre>\n"
      ],
      "text/plain": [
       "\u001b[2;36m            \u001b[0m\u001b[2;36m \u001b[0mstatus = postprocess                                               \n"
      ]
     },
     "metadata": {},
     "output_type": "display_data"
    },
    {
     "data": {
      "application/vnd.jupyter.widget-view+json": {
       "model_id": "a28c41b8f59f4d0484e7646b3753a525",
       "version_major": 2,
       "version_minor": 0
      },
      "text/plain": [
       "Output()"
      ]
     },
     "metadata": {},
     "output_type": "display_data"
    },
    {
     "data": {
      "text/html": [
       "<pre style=\"white-space:pre;overflow-x:auto;line-height:normal;font-family:Menlo,'DejaVu Sans Mono',consolas,'Courier New',monospace\"><span style=\"color: #7fbfbf; text-decoration-color: #7fbfbf\">11:12:42 BST </span>status = success                                                   \n",
       "</pre>\n"
      ],
      "text/plain": [
       "\u001b[2;36m11:12:42 BST\u001b[0m\u001b[2;36m \u001b[0mstatus = success                                                   \n"
      ]
     },
     "metadata": {},
     "output_type": "display_data"
    },
    {
     "data": {
      "text/html": [
       "<pre style=\"white-space:pre;overflow-x:auto;line-height:normal;font-family:Menlo,'DejaVu Sans Mono',consolas,'Courier New',monospace\"></pre>\n"
      ],
      "text/plain": []
     },
     "metadata": {},
     "output_type": "display_data"
    },
    {
     "data": {
      "text/html": [
       "<pre style=\"white-space:pre;overflow-x:auto;line-height:normal;font-family:Menlo,'DejaVu Sans Mono',consolas,'Courier New',monospace\"><span style=\"color: #7fbfbf; text-decoration-color: #7fbfbf\">             </span>View simulation result at                                          \n",
       "<span style=\"color: #7fbfbf; text-decoration-color: #7fbfbf\">             </span><a href=\"https://tidy3d.simulation.cloud/workbench?taskId=fdve-6aa43541-1e5e-407c-a4e9-3c1fcce1a847\" target=\"_blank\"><span style=\"color: #000080; text-decoration-color: #000080; text-decoration: underline\">'https://tidy3d.simulation.cloud/workbench?taskId=fdve-6aa43541-1e5</span></a>\n",
       "<span style=\"color: #7fbfbf; text-decoration-color: #7fbfbf\">             </span><a href=\"https://tidy3d.simulation.cloud/workbench?taskId=fdve-6aa43541-1e5e-407c-a4e9-3c1fcce1a847\" target=\"_blank\"><span style=\"color: #000080; text-decoration-color: #000080; text-decoration: underline\">e-407c-a4e9-3c1fcce1a847'</span></a><span style=\"color: #000080; text-decoration-color: #000080; text-decoration: underline\">.</span>                                         \n",
       "</pre>\n"
      ],
      "text/plain": [
       "\u001b[2;36m            \u001b[0m\u001b[2;36m \u001b[0mView simulation result at                                          \n",
       "\u001b[2;36m             \u001b[0m\u001b]8;id=388097;https://tidy3d.simulation.cloud/workbench?taskId=fdve-6aa43541-1e5e-407c-a4e9-3c1fcce1a847\u001b\\\u001b[4;34m'https://tidy3d.simulation.cloud/workbench?\u001b[0m\u001b]8;;\u001b\\\u001b]8;id=649875;https://tidy3d.simulation.cloud/workbench?taskId=fdve-6aa43541-1e5e-407c-a4e9-3c1fcce1a847\u001b\\\u001b[4;34mtaskId\u001b[0m\u001b]8;;\u001b\\\u001b]8;id=388097;https://tidy3d.simulation.cloud/workbench?taskId=fdve-6aa43541-1e5e-407c-a4e9-3c1fcce1a847\u001b\\\u001b[4;34m=\u001b[0m\u001b]8;;\u001b\\\u001b]8;id=312775;https://tidy3d.simulation.cloud/workbench?taskId=fdve-6aa43541-1e5e-407c-a4e9-3c1fcce1a847\u001b\\\u001b[4;34mfdve\u001b[0m\u001b]8;;\u001b\\\u001b]8;id=388097;https://tidy3d.simulation.cloud/workbench?taskId=fdve-6aa43541-1e5e-407c-a4e9-3c1fcce1a847\u001b\\\u001b[4;34m-6aa43541-1e5\u001b[0m\u001b]8;;\u001b\\\n",
       "\u001b[2;36m             \u001b[0m\u001b]8;id=388097;https://tidy3d.simulation.cloud/workbench?taskId=fdve-6aa43541-1e5e-407c-a4e9-3c1fcce1a847\u001b\\\u001b[4;34me-407c-a4e9-3c1fcce1a847'\u001b[0m\u001b]8;;\u001b\\\u001b[4;34m.\u001b[0m                                         \n"
      ]
     },
     "metadata": {},
     "output_type": "display_data"
    },
    {
     "data": {
      "application/vnd.jupyter.widget-view+json": {
       "model_id": "9b3a0787441a47f2b4e033c68c4797b7",
       "version_major": 2,
       "version_minor": 0
      },
      "text/plain": [
       "Output()"
      ]
     },
     "metadata": {},
     "output_type": "display_data"
    },
    {
     "data": {
      "text/html": [
       "<pre style=\"white-space:pre;overflow-x:auto;line-height:normal;font-family:Menlo,'DejaVu Sans Mono',consolas,'Courier New',monospace\"></pre>\n"
      ],
      "text/plain": []
     },
     "metadata": {},
     "output_type": "display_data"
    },
    {
     "data": {
      "text/html": [
       "<pre style=\"white-space:pre;overflow-x:auto;line-height:normal;font-family:Menlo,'DejaVu Sans Mono',consolas,'Courier New',monospace\">\n",
       "</pre>\n"
      ],
      "text/plain": [
       "\n"
      ]
     },
     "metadata": {},
     "output_type": "display_data"
    },
    {
     "data": {
      "text/html": [
       "<pre style=\"white-space:pre;overflow-x:auto;line-height:normal;font-family:Menlo,'DejaVu Sans Mono',consolas,'Courier New',monospace\"><span style=\"color: #7fbfbf; text-decoration-color: #7fbfbf\">11:12:45 BST </span>loading simulation from simulation_data.hdf5                       \n",
       "</pre>\n"
      ],
      "text/plain": [
       "\u001b[2;36m11:12:45 BST\u001b[0m\u001b[2;36m \u001b[0mloading simulation from simulation_data.hdf5                       \n"
      ]
     },
     "metadata": {},
     "output_type": "display_data"
    }
   ],
   "source": [
    "sim_data = web.run(metalens_sim, task_name=\"metalens_full_sim\")"
   ]
  },
  {
   "cell_type": "code",
   "execution_count": 45,
   "metadata": {},
   "outputs": [
    {
     "data": {
      "image/png": "[encoded data removed]",
      "text/plain": [
       "<Figure size 640x480 with 2 Axes>"
      ]
     },
     "metadata": {},
     "output_type": "display_data"
    }
   ],
   "source": [
    "proj_fields = sim_data[\"focal_plane_proj\"].fields_cartesian.sel(f=freq0)\n",
    "\n",
    "# compute the intensity of the field\n",
    "I = np.abs(proj_fields.Ex) ** 2 + np.abs(proj_fields.Ey) ** 2 + np.abs(proj_fields.Ez) ** 2\n",
    "\n",
    "# plot field distribution\n",
    "I.plot(x=\"x\", y=\"y\", cmap=\"hot\")\n",
    "plt.show()"
   ]
  },
  {
   "cell_type": "code",
   "execution_count": 46,
   "metadata": {},
   "outputs": [
    {
     "data": {
      "image/png": "[encoded data removed]",
      "text/plain": [
       "<Figure size 640x480 with 1 Axes>"
      ]
     },
     "metadata": {},
     "output_type": "display_data"
    },
    {
     "name": "stdout",
     "output_type": "stream",
     "text": [
      "The FWHM is 10.176 um. Wavelength was 10.6 um.\n"
     ]
    }
   ],
   "source": [
    "I_x = I.sel(y=0, z=f, method=\"nearest\")  # extract the field intensity in the x direction\n",
    "\n",
    "# plot the intensity profile\n",
    "fig, ax = plt.subplots()\n",
    "I_x.plot(linewidth=3, c=\"red\", ax=ax)\n",
    "ax.set_ylabel(\"Intensity\")\n",
    "ax.set_ylabel(\"x ($\\mu m$)\")\n",
    "ax.set_title(\"Field intensity at focus\")\n",
    "plt.show()\n",
    "\n",
    "# function for determining the fwhm\n",
    "def cal_fwhm(x, y):\n",
    "\n",
    "    # filter the data\n",
    "    y = y[x > 0]\n",
    "    x = x[x > 0]\n",
    "    x = x[y > 0.4 * np.max(y)]\n",
    "    y = y[y > 0.4 * np.max(y)]\n",
    "\n",
    "    # compute half width by interpolation\n",
    "    hm_point = np.interp(np.max(y) / 2, y, x)\n",
    "\n",
    "    # compute full width\n",
    "    fwhm_value = 2 * hm_point\n",
    "\n",
    "    return fwhm_value\n",
    "\n",
    "# calculate fwhm\n",
    "fwhm = cal_fwhm(I_x.x.values, I_x.values)\n",
    "print(f\"The FWHM is {fwhm:.3f} um. Wavelength was {lda0} um.\")"
   ]
  }
 ],
 "metadata": {
  "kernelspec": {
   "display_name": "tidy3d-dGIxMZW4-py3.10",
   "language": "python",
   "name": "python3"
  },
  "language_info": {
   "codemirror_mode": {
    "name": "ipython",
    "version": 3
   },
   "file_extension": ".py",
   "mimetype": "text/x-python",
   "name": "python",
   "nbconvert_exporter": "python",
   "pygments_lexer": "ipython3",
   "version": "3.10.12"
  }
 },
 "nbformat": 4,
 "nbformat_minor": 2
}
