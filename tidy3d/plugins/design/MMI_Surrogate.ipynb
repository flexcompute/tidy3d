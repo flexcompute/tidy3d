{
 "cells": [
  {
   "cell_type": "markdown",
   "metadata": {},
   "source": [
    "# MMI Surrogate Modeling"
   ]
  },
  {
   "cell_type": "code",
   "execution_count": 1,
   "metadata": {},
   "outputs": [],
   "source": [
    "import numpy as np\n",
    "import matplotlib.pyplot as plt\n",
    "\n",
    "import tidy3d as td\n",
    "from tidy3d.plugins.mode import ModeSolver\n",
    "import tidy3d.plugins.design as tdd"
   ]
  },
  {
   "cell_type": "markdown",
   "metadata": {},
   "source": [
    "Constants used to create the 1x4 MMI `Simulation`"
   ]
  },
  {
   "cell_type": "code",
   "execution_count": 2,
   "metadata": {},
   "outputs": [],
   "source": [
    "# material refractive indices\n",
    "n_si = 3.48\n",
    "n_gan = 2.305\n",
    "n_sio2 = 1.444\n",
    "\n",
    "# define media\n",
    "si = td.Medium(permittivity=n_si**2)\n",
    "gan = td.Medium(permittivity=n_gan**2)\n",
    "sio2 = td.Medium(permittivity=n_sio2**2)\n",
    "\n",
    "W_MMI = 5  # width of the MMI section\n",
    "L_MMI = 11.2  # length of the MMI section\n",
    "g1 = 0.9  # gap between the output waveguides\n",
    "W1 = 0.4  # width of the waveguide\n",
    "W2 = 0.8  # width of the tapper\n",
    "L1 = 2  # length of the input tapper\n",
    "L2 = 5  # length of the output tapper\n",
    "H_Si = 0.3  # thickness of the Si layer\n",
    "H_GaN = 0.1  # thickness of the GaN layer\n",
    "g3 = (W2 - W1) / 2  # auxilary parameter defined for easier geometry building\n",
    "g2 = g1 - 2 * g3  # gap between the output tapers\n",
    "lda0 = 1.55  # central wavelength\n",
    "freq0 = td.C_0 / lda0  # central frequency\n",
    "ldas = np.linspace(1.5, 1.6, 101)  # wavelength range\n",
    "freqs = td.C_0 / ldas  # frequency range\n",
    "fwidth = 0.5 * (np.max(freqs) - np.min(freqs))\n",
    "\n",
    "# buffer spacings in the x and y directions.\n",
    "buffer_x = 1\n",
    "buffer_y = 1.5"
   ]
  },
  {
   "cell_type": "markdown",
   "metadata": {},
   "source": [
    "Build the MMI `Simulation` from the width and length of the body of the MMI"
   ]
  },
  {
   "cell_type": "code",
   "execution_count": 3,
   "metadata": {},
   "outputs": [],
   "source": [
    "# define a function that takes the geometric parameters as input arguments and return a Simulation object\n",
    "def make_sim(L_MMI, W_MMI):\n",
    "    # the whole device is defined as a PolySlab with vertices given by the following\n",
    "    vertices = np.array(\n",
    "        [\n",
    "            (-W1 / 2, -100),\n",
    "            (-W1 / 2, 0),\n",
    "            (-W2 / 2, L1),\n",
    "            (-W_MMI / 2, L1),\n",
    "            (-W_MMI / 2, L1 + L_MMI),\n",
    "            (-g2 / 2 - W2 - g2 - 2 * g3 - W1, L1 + L_MMI),\n",
    "            (-g2 / 2 - W2 - g2 - g3 - W1, L1 + L_MMI + L2),\n",
    "            (-g2 / 2 - W2 - g2 - g3 - W1, 100),\n",
    "            (-g2 / 2 - W2 - g2 - g3, 100),\n",
    "            (-g2 / 2 - W2 - g2 - g3, L1 + L_MMI + L2),\n",
    "            (-g2 / 2 - W2 - g2, L1 + L_MMI),\n",
    "            (-g2 / 2 - W2, L1 + L_MMI),\n",
    "            (-g1 / 2 - W1, L1 + L_MMI + L2),\n",
    "            (-g1 / 2 - W1, 100),\n",
    "            (-g1 / 2, 100),\n",
    "            (-g1 / 2, L1 + L_MMI + L2),\n",
    "            (-g2 / 2, L1 + L_MMI),\n",
    "            (g2 / 2, L1 + L_MMI),\n",
    "            (g1 / 2, L1 + L_MMI + L2),\n",
    "            (g1 / 2, 100),\n",
    "            (g1 / 2 + W1, 100),\n",
    "            (g1 / 2 + W1, L1 + L_MMI + L2),\n",
    "            (g2 / 2 + W2, L1 + L_MMI),\n",
    "            (g2 / 2 + W2 + g2, L1 + L_MMI),\n",
    "            (g2 / 2 + W2 + g2 + g3, L1 + L_MMI + L2),\n",
    "            (g1 / 2 + W1 + g1, 100),\n",
    "            (g1 / 2 + W1 + g1 + W1, 100),\n",
    "            (g2 / 2 + W2 + g2 + g3 + W1, L1 + L_MMI + L2),\n",
    "            (g2 / 2 + W2 + g2 + 2 * g3 + W1, L1 + L_MMI),\n",
    "            (W_MMI / 2, L1 + L_MMI),\n",
    "            (W_MMI / 2, L1),\n",
    "            (W2 / 2, L1),\n",
    "            (W1 / 2, 0),\n",
    "            (W1 / 2, -100),\n",
    "        ]\n",
    "    )\n",
    "\n",
    "    mmi_layer1 = td.Structure(\n",
    "        geometry=td.PolySlab(\n",
    "            vertices=vertices,\n",
    "            axis=2,\n",
    "            slab_bounds=(-H_Si - 0.5 * H_GaN, H_Si + 0.5 * H_GaN),\n",
    "        ),\n",
    "        medium=si,\n",
    "    )\n",
    "    mmi_layer2 = td.Structure(\n",
    "        geometry=td.PolySlab(\n",
    "            vertices=vertices, axis=2, slab_bounds=(-0.5 * H_GaN, 0.5 * H_GaN)\n",
    "        ),\n",
    "        medium=gan,\n",
    "    )\n",
    "\n",
    "    # simulation domain size\n",
    "    Lx = W_MMI + 2 * buffer_x\n",
    "    Ly = L1 + L_MMI + L2 + 2 * buffer_y\n",
    "    Lz = 5 * (H_GaN * 2 + H_Si)\n",
    "    sim_size = (Lx, Ly, Lz)\n",
    "\n",
    "    mode_spec = td.ModeSpec(num_modes=2, target_neff=n_si)\n",
    "\n",
    "    # add a mode source for excitation\n",
    "    mode_source = td.ModeSource(\n",
    "        center=(0, -buffer_y / 2, 0),\n",
    "        size=(5 * W1, 0, Lz),\n",
    "        source_time=td.GaussianPulse(freq0=freq0, fwidth=fwidth),\n",
    "        direction=\"+\",\n",
    "        mode_spec=mode_spec,\n",
    "        mode_index=0,\n",
    "        num_freqs=5,\n",
    "    )\n",
    "\n",
    "    # add two flux monitors to monitor the transmission power at output waveguides\n",
    "    flux_monitor1 = td.FluxMonitor(\n",
    "        center=((g1 + W1) / 2, Ly - 3 * buffer_y / 2, 0),\n",
    "        size=(3 * W1, 0, Lz),\n",
    "        freqs=freqs,\n",
    "        name=\"flux1\",\n",
    "    )\n",
    "\n",
    "    flux_monitor2 = td.FluxMonitor(\n",
    "        center=(3 * (g1 + W1) / 2, Ly - 3 * buffer_y / 2, 0),\n",
    "        size=(3 * W1, 0, Lz),\n",
    "        freqs=freqs,\n",
    "        name=\"flux2\",\n",
    "    )\n",
    "\n",
    "    # add two mode monitors to monitor the mode profiles at output waveguides\n",
    "    mode_monitor1 = td.ModeMonitor(\n",
    "        center=((g1 + W1) / 2, Ly - 3 * buffer_y / 2, 0),\n",
    "        size=(3 * W1, 0, Lz),\n",
    "        freqs=freqs,\n",
    "        mode_spec=mode_spec,\n",
    "        name=\"mode1\",\n",
    "    )\n",
    "\n",
    "    mode_monitor2 = td.ModeMonitor(\n",
    "        center=(3 * (g1 + W1) / 2, Ly - 3 * buffer_y / 2, 0),\n",
    "        size=(3 * W1, 0, Lz),\n",
    "        freqs=freqs,\n",
    "        mode_spec=mode_spec,\n",
    "        name=\"mode2\",\n",
    "    )\n",
    "\n",
    "    # Commented out to make sim cheaper\n",
    "    # add a field monitor to monitor the field distribution\n",
    "    # field_monitor = td.FieldMonitor(\n",
    "    #     center=(0, 0, 0), size=(td.inf, td.inf, 0), freqs=[freq0], name=\"field\"\n",
    "    # )\n",
    "\n",
    "    sim = td.Simulation(\n",
    "        center=(0, Ly / 2 - buffer_y, 0),\n",
    "        size=sim_size,\n",
    "        grid_spec=td.GridSpec.auto(min_steps_per_wvl=20, wavelength=td.C_0 / freq0),\n",
    "        structures=[mmi_layer1, mmi_layer2],\n",
    "        sources=[mode_source],\n",
    "        monitors=[\n",
    "            # field_monitor,\n",
    "            flux_monitor1,\n",
    "            flux_monitor2,\n",
    "            mode_monitor1,\n",
    "            mode_monitor2,\n",
    "        ],\n",
    "        run_time=5e-12,\n",
    "        boundary_spec=td.BoundarySpec.all_sides(boundary=td.PML()),\n",
    "        medium=sio2,\n",
    "        symmetry=(1, 0, -1),\n",
    "    )\n",
    "    return sim"
   ]
  },
  {
   "cell_type": "markdown",
   "metadata": {},
   "source": [
    "Check the `Simulation` geometry by plotting the shape"
   ]
  },
  {
   "cell_type": "code",
   "execution_count": 4,
   "metadata": {},
   "outputs": [
    {
     "data": {
      "image/png": "[encoded data removed]",
      "text/plain": [
       "<Figure size 640x480 with 2 Axes>"
      ]
     },
     "metadata": {},
     "output_type": "display_data"
    }
   ],
   "source": [
    "f, (ax1, ax2) = plt.subplots(1, 2)\n",
    "sim = make_sim(10, 6)\n",
    "sim.plot(z=0, ax=ax1)\n",
    "sim.plot(y=-buffer_y / 3, ax=ax2)\n",
    "plt.show()"
   ]
  },
  {
   "cell_type": "markdown",
   "metadata": {},
   "source": [
    "Define a small `fn_post` function to extract the flux of the inner and outer output ports"
   ]
  },
  {
   "cell_type": "code",
   "execution_count": 5,
   "metadata": {},
   "outputs": [],
   "source": [
    "def fn_post(sim_data):\n",
    "    T1 = sim_data[\"flux1\"].flux\n",
    "    T2 = sim_data[\"flux2\"].flux\n",
    "    return {\"T1\": T1, \"T2\": T2}"
   ]
  },
  {
   "cell_type": "markdown",
   "metadata": {},
   "source": [
    "Use a Monte Carlo sample to create an initial dataset"
   ]
  },
  {
   "cell_type": "code",
   "execution_count": 6,
   "metadata": {},
   "outputs": [],
   "source": [
    "method = tdd.MethodMonteCarlo(\n",
    "    num_points=100,\n",
    "    seed=2,\n",
    ")\n",
    "\n",
    "l_param = tdd.ParameterFloat(name=\"L_MMI\", span=(6, 16))\n",
    "w_param = tdd.ParameterFloat(name=\"W_MMI\", span=(5, 10))\n",
    "parameters = [l_param, w_param]\n",
    "\n",
    "output_dir = \"/home/matt/Documents/Flexcompute/surrogate_data/mmi/data\"\n",
    "design_space = tdd.DesignSpace(\n",
    "    method=method,\n",
    "    parameters=parameters,\n",
    "    task_name=\"mmi_2\",\n",
    "    folder_name=\"MMIV2\",\n",
    "    path_dir=output_dir,\n",
    ")\n"
   ]
  },
  {
   "cell_type": "markdown",
   "metadata": {},
   "source": [
    "Run the sampler"
   ]
  },
  {
   "cell_type": "code",
   "execution_count": 7,
   "metadata": {},
   "outputs": [
    {
     "data": {
      "text/html": [
       "<pre style=\"white-space:pre;overflow-x:auto;line-height:normal;font-family:Menlo,'DejaVu Sans Mono',consolas,'Courier New',monospace\"><span style=\"color: #7fbfbf; text-decoration-color: #7fbfbf\">17:16:50 BST </span><span style=\"color: #800000; text-decoration-color: #800000\">WARNING: Simulation final field decay value of </span><span style=\"color: #008080; text-decoration-color: #008080; font-weight: bold\">2.24e-05</span><span style=\"color: #800000; text-decoration-color: #800000\"> is greater </span>\n",
       "<span style=\"color: #7fbfbf; text-decoration-color: #7fbfbf\">             </span><span style=\"color: #800000; text-decoration-color: #800000\">than the simulation shutoff threshold of </span><span style=\"color: #008080; text-decoration-color: #008080; font-weight: bold\">1e-05</span><span style=\"color: #800000; text-decoration-color: #800000\">. Consider running   </span>\n",
       "<span style=\"color: #7fbfbf; text-decoration-color: #7fbfbf\">             </span><span style=\"color: #800000; text-decoration-color: #800000\">the simulation again with a larger </span><span style=\"color: #008000; text-decoration-color: #008000\">'run_time'</span><span style=\"color: #800000; text-decoration-color: #800000\"> duration for more    </span>\n",
       "<span style=\"color: #7fbfbf; text-decoration-color: #7fbfbf\">             </span><span style=\"color: #800000; text-decoration-color: #800000\">accurate results.                                                  </span>\n",
       "</pre>\n"
      ],
      "text/plain": [
       "\u001b[2;36m17:16:50 BST\u001b[0m\u001b[2;36m \u001b[0m\u001b[31mWARNING: Simulation final field decay value of \u001b[0m\u001b[1;36m2.24e-05\u001b[0m\u001b[31m is greater \u001b[0m\n",
       "\u001b[2;36m             \u001b[0m\u001b[31mthan the simulation shutoff threshold of \u001b[0m\u001b[1;36m1e-05\u001b[0m\u001b[31m. Consider running   \u001b[0m\n",
       "\u001b[2;36m             \u001b[0m\u001b[31mthe simulation again with a larger \u001b[0m\u001b[32m'run_time'\u001b[0m\u001b[31m duration for more    \u001b[0m\n",
       "\u001b[2;36m             \u001b[0m\u001b[31maccurate results.                                                  \u001b[0m\n"
      ]
     },
     "metadata": {},
     "output_type": "display_data"
    },
    {
     "data": {
      "text/html": [
       "<pre style=\"white-space:pre;overflow-x:auto;line-height:normal;font-family:Menlo,'DejaVu Sans Mono',consolas,'Courier New',monospace\"><span style=\"color: #7fbfbf; text-decoration-color: #7fbfbf\">17:16:55 BST </span><span style=\"color: #800000; text-decoration-color: #800000\">WARNING: Simulation final field decay value of </span><span style=\"color: #008080; text-decoration-color: #008080; font-weight: bold\">2.94e-05</span><span style=\"color: #800000; text-decoration-color: #800000\"> is greater </span>\n",
       "<span style=\"color: #7fbfbf; text-decoration-color: #7fbfbf\">             </span><span style=\"color: #800000; text-decoration-color: #800000\">than the simulation shutoff threshold of </span><span style=\"color: #008080; text-decoration-color: #008080; font-weight: bold\">1e-05</span><span style=\"color: #800000; text-decoration-color: #800000\">. Consider running   </span>\n",
       "<span style=\"color: #7fbfbf; text-decoration-color: #7fbfbf\">             </span><span style=\"color: #800000; text-decoration-color: #800000\">the simulation again with a larger </span><span style=\"color: #008000; text-decoration-color: #008000\">'run_time'</span><span style=\"color: #800000; text-decoration-color: #800000\"> duration for more    </span>\n",
       "<span style=\"color: #7fbfbf; text-decoration-color: #7fbfbf\">             </span><span style=\"color: #800000; text-decoration-color: #800000\">accurate results.                                                  </span>\n",
       "</pre>\n"
      ],
      "text/plain": [
       "\u001b[2;36m17:16:55 BST\u001b[0m\u001b[2;36m \u001b[0m\u001b[31mWARNING: Simulation final field decay value of \u001b[0m\u001b[1;36m2.94e-05\u001b[0m\u001b[31m is greater \u001b[0m\n",
       "\u001b[2;36m             \u001b[0m\u001b[31mthan the simulation shutoff threshold of \u001b[0m\u001b[1;36m1e-05\u001b[0m\u001b[31m. Consider running   \u001b[0m\n",
       "\u001b[2;36m             \u001b[0m\u001b[31mthe simulation again with a larger \u001b[0m\u001b[32m'run_time'\u001b[0m\u001b[31m duration for more    \u001b[0m\n",
       "\u001b[2;36m             \u001b[0m\u001b[31maccurate results.                                                  \u001b[0m\n"
      ]
     },
     "metadata": {},
     "output_type": "display_data"
    },
    {
     "data": {
      "text/html": [
       "<pre style=\"white-space:pre;overflow-x:auto;line-height:normal;font-family:Menlo,'DejaVu Sans Mono',consolas,'Courier New',monospace\"><span style=\"color: #7fbfbf; text-decoration-color: #7fbfbf\">17:16:56 BST </span><span style=\"color: #800000; text-decoration-color: #800000\">WARNING: Simulation final field decay value of </span><span style=\"color: #008080; text-decoration-color: #008080; font-weight: bold\">3.71e-05</span><span style=\"color: #800000; text-decoration-color: #800000\"> is greater </span>\n",
       "<span style=\"color: #7fbfbf; text-decoration-color: #7fbfbf\">             </span><span style=\"color: #800000; text-decoration-color: #800000\">than the simulation shutoff threshold of </span><span style=\"color: #008080; text-decoration-color: #008080; font-weight: bold\">1e-05</span><span style=\"color: #800000; text-decoration-color: #800000\">. Consider running   </span>\n",
       "<span style=\"color: #7fbfbf; text-decoration-color: #7fbfbf\">             </span><span style=\"color: #800000; text-decoration-color: #800000\">the simulation again with a larger </span><span style=\"color: #008000; text-decoration-color: #008000\">'run_time'</span><span style=\"color: #800000; text-decoration-color: #800000\"> duration for more    </span>\n",
       "<span style=\"color: #7fbfbf; text-decoration-color: #7fbfbf\">             </span><span style=\"color: #800000; text-decoration-color: #800000\">accurate results.                                                  </span>\n",
       "</pre>\n"
      ],
      "text/plain": [
       "\u001b[2;36m17:16:56 BST\u001b[0m\u001b[2;36m \u001b[0m\u001b[31mWARNING: Simulation final field decay value of \u001b[0m\u001b[1;36m3.71e-05\u001b[0m\u001b[31m is greater \u001b[0m\n",
       "\u001b[2;36m             \u001b[0m\u001b[31mthan the simulation shutoff threshold of \u001b[0m\u001b[1;36m1e-05\u001b[0m\u001b[31m. Consider running   \u001b[0m\n",
       "\u001b[2;36m             \u001b[0m\u001b[31mthe simulation again with a larger \u001b[0m\u001b[32m'run_time'\u001b[0m\u001b[31m duration for more    \u001b[0m\n",
       "\u001b[2;36m             \u001b[0m\u001b[31maccurate results.                                                  \u001b[0m\n"
      ]
     },
     "metadata": {},
     "output_type": "display_data"
    },
    {
     "data": {
      "text/html": [
       "<pre style=\"white-space:pre;overflow-x:auto;line-height:normal;font-family:Menlo,'DejaVu Sans Mono',consolas,'Courier New',monospace\"><span style=\"color: #7fbfbf; text-decoration-color: #7fbfbf\">             </span><span style=\"color: #800000; text-decoration-color: #800000\">WARNING: Simulation final field decay value of </span><span style=\"color: #008080; text-decoration-color: #008080; font-weight: bold\">1.11e-05</span><span style=\"color: #800000; text-decoration-color: #800000\"> is greater </span>\n",
       "<span style=\"color: #7fbfbf; text-decoration-color: #7fbfbf\">             </span><span style=\"color: #800000; text-decoration-color: #800000\">than the simulation shutoff threshold of </span><span style=\"color: #008080; text-decoration-color: #008080; font-weight: bold\">1e-05</span><span style=\"color: #800000; text-decoration-color: #800000\">. Consider running   </span>\n",
       "<span style=\"color: #7fbfbf; text-decoration-color: #7fbfbf\">             </span><span style=\"color: #800000; text-decoration-color: #800000\">the simulation again with a larger </span><span style=\"color: #008000; text-decoration-color: #008000\">'run_time'</span><span style=\"color: #800000; text-decoration-color: #800000\"> duration for more    </span>\n",
       "<span style=\"color: #7fbfbf; text-decoration-color: #7fbfbf\">             </span><span style=\"color: #800000; text-decoration-color: #800000\">accurate results.                                                  </span>\n",
       "</pre>\n"
      ],
      "text/plain": [
       "\u001b[2;36m            \u001b[0m\u001b[2;36m \u001b[0m\u001b[31mWARNING: Simulation final field decay value of \u001b[0m\u001b[1;36m1.11e-05\u001b[0m\u001b[31m is greater \u001b[0m\n",
       "\u001b[2;36m             \u001b[0m\u001b[31mthan the simulation shutoff threshold of \u001b[0m\u001b[1;36m1e-05\u001b[0m\u001b[31m. Consider running   \u001b[0m\n",
       "\u001b[2;36m             \u001b[0m\u001b[31mthe simulation again with a larger \u001b[0m\u001b[32m'run_time'\u001b[0m\u001b[31m duration for more    \u001b[0m\n",
       "\u001b[2;36m             \u001b[0m\u001b[31maccurate results.                                                  \u001b[0m\n"
      ]
     },
     "metadata": {},
     "output_type": "display_data"
    },
    {
     "data": {
      "text/html": [
       "<pre style=\"white-space:pre;overflow-x:auto;line-height:normal;font-family:Menlo,'DejaVu Sans Mono',consolas,'Courier New',monospace\"><span style=\"color: #7fbfbf; text-decoration-color: #7fbfbf\">17:16:57 BST </span><span style=\"color: #800000; text-decoration-color: #800000\">WARNING: Simulation final field decay value of </span><span style=\"color: #008080; text-decoration-color: #008080; font-weight: bold\">3.12e-05</span><span style=\"color: #800000; text-decoration-color: #800000\"> is greater </span>\n",
       "<span style=\"color: #7fbfbf; text-decoration-color: #7fbfbf\">             </span><span style=\"color: #800000; text-decoration-color: #800000\">than the simulation shutoff threshold of </span><span style=\"color: #008080; text-decoration-color: #008080; font-weight: bold\">1e-05</span><span style=\"color: #800000; text-decoration-color: #800000\">. Consider running   </span>\n",
       "<span style=\"color: #7fbfbf; text-decoration-color: #7fbfbf\">             </span><span style=\"color: #800000; text-decoration-color: #800000\">the simulation again with a larger </span><span style=\"color: #008000; text-decoration-color: #008000\">'run_time'</span><span style=\"color: #800000; text-decoration-color: #800000\"> duration for more    </span>\n",
       "<span style=\"color: #7fbfbf; text-decoration-color: #7fbfbf\">             </span><span style=\"color: #800000; text-decoration-color: #800000\">accurate results.                                                  </span>\n",
       "</pre>\n"
      ],
      "text/plain": [
       "\u001b[2;36m17:16:57 BST\u001b[0m\u001b[2;36m \u001b[0m\u001b[31mWARNING: Simulation final field decay value of \u001b[0m\u001b[1;36m3.12e-05\u001b[0m\u001b[31m is greater \u001b[0m\n",
       "\u001b[2;36m             \u001b[0m\u001b[31mthan the simulation shutoff threshold of \u001b[0m\u001b[1;36m1e-05\u001b[0m\u001b[31m. Consider running   \u001b[0m\n",
       "\u001b[2;36m             \u001b[0m\u001b[31mthe simulation again with a larger \u001b[0m\u001b[32m'run_time'\u001b[0m\u001b[31m duration for more    \u001b[0m\n",
       "\u001b[2;36m             \u001b[0m\u001b[31maccurate results.                                                  \u001b[0m\n"
      ]
     },
     "metadata": {},
     "output_type": "display_data"
    },
    {
     "data": {
      "text/html": [
       "<pre style=\"white-space:pre;overflow-x:auto;line-height:normal;font-family:Menlo,'DejaVu Sans Mono',consolas,'Courier New',monospace\"><span style=\"color: #7fbfbf; text-decoration-color: #7fbfbf\">             </span><span style=\"color: #800000; text-decoration-color: #800000\">WARNING: Simulation final field decay value of </span><span style=\"color: #008080; text-decoration-color: #008080; font-weight: bold\">1.05e-05</span><span style=\"color: #800000; text-decoration-color: #800000\"> is greater </span>\n",
       "<span style=\"color: #7fbfbf; text-decoration-color: #7fbfbf\">             </span><span style=\"color: #800000; text-decoration-color: #800000\">than the simulation shutoff threshold of </span><span style=\"color: #008080; text-decoration-color: #008080; font-weight: bold\">1e-05</span><span style=\"color: #800000; text-decoration-color: #800000\">. Consider running   </span>\n",
       "<span style=\"color: #7fbfbf; text-decoration-color: #7fbfbf\">             </span><span style=\"color: #800000; text-decoration-color: #800000\">the simulation again with a larger </span><span style=\"color: #008000; text-decoration-color: #008000\">'run_time'</span><span style=\"color: #800000; text-decoration-color: #800000\"> duration for more    </span>\n",
       "<span style=\"color: #7fbfbf; text-decoration-color: #7fbfbf\">             </span><span style=\"color: #800000; text-decoration-color: #800000\">accurate results.                                                  </span>\n",
       "</pre>\n"
      ],
      "text/plain": [
       "\u001b[2;36m            \u001b[0m\u001b[2;36m \u001b[0m\u001b[31mWARNING: Simulation final field decay value of \u001b[0m\u001b[1;36m1.05e-05\u001b[0m\u001b[31m is greater \u001b[0m\n",
       "\u001b[2;36m             \u001b[0m\u001b[31mthan the simulation shutoff threshold of \u001b[0m\u001b[1;36m1e-05\u001b[0m\u001b[31m. Consider running   \u001b[0m\n",
       "\u001b[2;36m             \u001b[0m\u001b[31mthe simulation again with a larger \u001b[0m\u001b[32m'run_time'\u001b[0m\u001b[31m duration for more    \u001b[0m\n",
       "\u001b[2;36m             \u001b[0m\u001b[31maccurate results.                                                  \u001b[0m\n"
      ]
     },
     "metadata": {},
     "output_type": "display_data"
    },
    {
     "data": {
      "text/html": [
       "<pre style=\"white-space:pre;overflow-x:auto;line-height:normal;font-family:Menlo,'DejaVu Sans Mono',consolas,'Courier New',monospace\"><span style=\"color: #7fbfbf; text-decoration-color: #7fbfbf\">17:16:58 BST </span><span style=\"color: #800000; text-decoration-color: #800000\">WARNING: Simulation final field decay value of </span><span style=\"color: #008080; text-decoration-color: #008080; font-weight: bold\">2.08e-05</span><span style=\"color: #800000; text-decoration-color: #800000\"> is greater </span>\n",
       "<span style=\"color: #7fbfbf; text-decoration-color: #7fbfbf\">             </span><span style=\"color: #800000; text-decoration-color: #800000\">than the simulation shutoff threshold of </span><span style=\"color: #008080; text-decoration-color: #008080; font-weight: bold\">1e-05</span><span style=\"color: #800000; text-decoration-color: #800000\">. Consider running   </span>\n",
       "<span style=\"color: #7fbfbf; text-decoration-color: #7fbfbf\">             </span><span style=\"color: #800000; text-decoration-color: #800000\">the simulation again with a larger </span><span style=\"color: #008000; text-decoration-color: #008000\">'run_time'</span><span style=\"color: #800000; text-decoration-color: #800000\"> duration for more    </span>\n",
       "<span style=\"color: #7fbfbf; text-decoration-color: #7fbfbf\">             </span><span style=\"color: #800000; text-decoration-color: #800000\">accurate results.                                                  </span>\n",
       "</pre>\n"
      ],
      "text/plain": [
       "\u001b[2;36m17:16:58 BST\u001b[0m\u001b[2;36m \u001b[0m\u001b[31mWARNING: Simulation final field decay value of \u001b[0m\u001b[1;36m2.08e-05\u001b[0m\u001b[31m is greater \u001b[0m\n",
       "\u001b[2;36m             \u001b[0m\u001b[31mthan the simulation shutoff threshold of \u001b[0m\u001b[1;36m1e-05\u001b[0m\u001b[31m. Consider running   \u001b[0m\n",
       "\u001b[2;36m             \u001b[0m\u001b[31mthe simulation again with a larger \u001b[0m\u001b[32m'run_time'\u001b[0m\u001b[31m duration for more    \u001b[0m\n",
       "\u001b[2;36m             \u001b[0m\u001b[31maccurate results.                                                  \u001b[0m\n"
      ]
     },
     "metadata": {},
     "output_type": "display_data"
    },
    {
     "data": {
      "text/html": [
       "<pre style=\"white-space:pre;overflow-x:auto;line-height:normal;font-family:Menlo,'DejaVu Sans Mono',consolas,'Courier New',monospace\"><span style=\"color: #7fbfbf; text-decoration-color: #7fbfbf\">17:17:03 BST </span><span style=\"color: #800000; text-decoration-color: #800000\">WARNING: Simulation final field decay value of </span><span style=\"color: #008080; text-decoration-color: #008080; font-weight: bold\">2.82e-05</span><span style=\"color: #800000; text-decoration-color: #800000\"> is greater </span>\n",
       "<span style=\"color: #7fbfbf; text-decoration-color: #7fbfbf\">             </span><span style=\"color: #800000; text-decoration-color: #800000\">than the simulation shutoff threshold of </span><span style=\"color: #008080; text-decoration-color: #008080; font-weight: bold\">1e-05</span><span style=\"color: #800000; text-decoration-color: #800000\">. Consider running   </span>\n",
       "<span style=\"color: #7fbfbf; text-decoration-color: #7fbfbf\">             </span><span style=\"color: #800000; text-decoration-color: #800000\">the simulation again with a larger </span><span style=\"color: #008000; text-decoration-color: #008000\">'run_time'</span><span style=\"color: #800000; text-decoration-color: #800000\"> duration for more    </span>\n",
       "<span style=\"color: #7fbfbf; text-decoration-color: #7fbfbf\">             </span><span style=\"color: #800000; text-decoration-color: #800000\">accurate results.                                                  </span>\n",
       "</pre>\n"
      ],
      "text/plain": [
       "\u001b[2;36m17:17:03 BST\u001b[0m\u001b[2;36m \u001b[0m\u001b[31mWARNING: Simulation final field decay value of \u001b[0m\u001b[1;36m2.82e-05\u001b[0m\u001b[31m is greater \u001b[0m\n",
       "\u001b[2;36m             \u001b[0m\u001b[31mthan the simulation shutoff threshold of \u001b[0m\u001b[1;36m1e-05\u001b[0m\u001b[31m. Consider running   \u001b[0m\n",
       "\u001b[2;36m             \u001b[0m\u001b[31mthe simulation again with a larger \u001b[0m\u001b[32m'run_time'\u001b[0m\u001b[31m duration for more    \u001b[0m\n",
       "\u001b[2;36m             \u001b[0m\u001b[31maccurate results.                                                  \u001b[0m\n"
      ]
     },
     "metadata": {},
     "output_type": "display_data"
    },
    {
     "data": {
      "text/html": [
       "<pre style=\"white-space:pre;overflow-x:auto;line-height:normal;font-family:Menlo,'DejaVu Sans Mono',consolas,'Courier New',monospace\"><span style=\"color: #7fbfbf; text-decoration-color: #7fbfbf\">17:17:05 BST </span><span style=\"color: #800000; text-decoration-color: #800000\">WARNING: Simulation final field decay value of </span><span style=\"color: #008080; text-decoration-color: #008080; font-weight: bold\">1.79e-05</span><span style=\"color: #800000; text-decoration-color: #800000\"> is greater </span>\n",
       "<span style=\"color: #7fbfbf; text-decoration-color: #7fbfbf\">             </span><span style=\"color: #800000; text-decoration-color: #800000\">than the simulation shutoff threshold of </span><span style=\"color: #008080; text-decoration-color: #008080; font-weight: bold\">1e-05</span><span style=\"color: #800000; text-decoration-color: #800000\">. Consider running   </span>\n",
       "<span style=\"color: #7fbfbf; text-decoration-color: #7fbfbf\">             </span><span style=\"color: #800000; text-decoration-color: #800000\">the simulation again with a larger </span><span style=\"color: #008000; text-decoration-color: #008000\">'run_time'</span><span style=\"color: #800000; text-decoration-color: #800000\"> duration for more    </span>\n",
       "<span style=\"color: #7fbfbf; text-decoration-color: #7fbfbf\">             </span><span style=\"color: #800000; text-decoration-color: #800000\">accurate results.                                                  </span>\n",
       "</pre>\n"
      ],
      "text/plain": [
       "\u001b[2;36m17:17:05 BST\u001b[0m\u001b[2;36m \u001b[0m\u001b[31mWARNING: Simulation final field decay value of \u001b[0m\u001b[1;36m1.79e-05\u001b[0m\u001b[31m is greater \u001b[0m\n",
       "\u001b[2;36m             \u001b[0m\u001b[31mthan the simulation shutoff threshold of \u001b[0m\u001b[1;36m1e-05\u001b[0m\u001b[31m. Consider running   \u001b[0m\n",
       "\u001b[2;36m             \u001b[0m\u001b[31mthe simulation again with a larger \u001b[0m\u001b[32m'run_time'\u001b[0m\u001b[31m duration for more    \u001b[0m\n",
       "\u001b[2;36m             \u001b[0m\u001b[31maccurate results.                                                  \u001b[0m\n"
      ]
     },
     "metadata": {},
     "output_type": "display_data"
    },
    {
     "data": {
      "text/html": [
       "<pre style=\"white-space:pre;overflow-x:auto;line-height:normal;font-family:Menlo,'DejaVu Sans Mono',consolas,'Courier New',monospace\"><span style=\"color: #7fbfbf; text-decoration-color: #7fbfbf\">17:17:08 BST </span><span style=\"color: #800000; text-decoration-color: #800000\">WARNING: Simulation final field decay value of </span><span style=\"color: #008080; text-decoration-color: #008080; font-weight: bold\">1.59e-05</span><span style=\"color: #800000; text-decoration-color: #800000\"> is greater </span>\n",
       "<span style=\"color: #7fbfbf; text-decoration-color: #7fbfbf\">             </span><span style=\"color: #800000; text-decoration-color: #800000\">than the simulation shutoff threshold of </span><span style=\"color: #008080; text-decoration-color: #008080; font-weight: bold\">1e-05</span><span style=\"color: #800000; text-decoration-color: #800000\">. Consider running   </span>\n",
       "<span style=\"color: #7fbfbf; text-decoration-color: #7fbfbf\">             </span><span style=\"color: #800000; text-decoration-color: #800000\">the simulation again with a larger </span><span style=\"color: #008000; text-decoration-color: #008000\">'run_time'</span><span style=\"color: #800000; text-decoration-color: #800000\"> duration for more    </span>\n",
       "<span style=\"color: #7fbfbf; text-decoration-color: #7fbfbf\">             </span><span style=\"color: #800000; text-decoration-color: #800000\">accurate results.                                                  </span>\n",
       "</pre>\n"
      ],
      "text/plain": [
       "\u001b[2;36m17:17:08 BST\u001b[0m\u001b[2;36m \u001b[0m\u001b[31mWARNING: Simulation final field decay value of \u001b[0m\u001b[1;36m1.59e-05\u001b[0m\u001b[31m is greater \u001b[0m\n",
       "\u001b[2;36m             \u001b[0m\u001b[31mthan the simulation shutoff threshold of \u001b[0m\u001b[1;36m1e-05\u001b[0m\u001b[31m. Consider running   \u001b[0m\n",
       "\u001b[2;36m             \u001b[0m\u001b[31mthe simulation again with a larger \u001b[0m\u001b[32m'run_time'\u001b[0m\u001b[31m duration for more    \u001b[0m\n",
       "\u001b[2;36m             \u001b[0m\u001b[31maccurate results.                                                  \u001b[0m\n"
      ]
     },
     "metadata": {},
     "output_type": "display_data"
    },
    {
     "data": {
      "text/html": [
       "<pre style=\"white-space:pre;overflow-x:auto;line-height:normal;font-family:Menlo,'DejaVu Sans Mono',consolas,'Courier New',monospace\"><span style=\"color: #7fbfbf; text-decoration-color: #7fbfbf\">17:17:09 BST </span><span style=\"color: #800000; text-decoration-color: #800000\">WARNING: Simulation final field decay value of </span><span style=\"color: #008080; text-decoration-color: #008080; font-weight: bold\">1.43e-05</span><span style=\"color: #800000; text-decoration-color: #800000\"> is greater </span>\n",
       "<span style=\"color: #7fbfbf; text-decoration-color: #7fbfbf\">             </span><span style=\"color: #800000; text-decoration-color: #800000\">than the simulation shutoff threshold of </span><span style=\"color: #008080; text-decoration-color: #008080; font-weight: bold\">1e-05</span><span style=\"color: #800000; text-decoration-color: #800000\">. Consider running   </span>\n",
       "<span style=\"color: #7fbfbf; text-decoration-color: #7fbfbf\">             </span><span style=\"color: #800000; text-decoration-color: #800000\">the simulation again with a larger </span><span style=\"color: #008000; text-decoration-color: #008000\">'run_time'</span><span style=\"color: #800000; text-decoration-color: #800000\"> duration for more    </span>\n",
       "<span style=\"color: #7fbfbf; text-decoration-color: #7fbfbf\">             </span><span style=\"color: #800000; text-decoration-color: #800000\">accurate results.                                                  </span>\n",
       "</pre>\n"
      ],
      "text/plain": [
       "\u001b[2;36m17:17:09 BST\u001b[0m\u001b[2;36m \u001b[0m\u001b[31mWARNING: Simulation final field decay value of \u001b[0m\u001b[1;36m1.43e-05\u001b[0m\u001b[31m is greater \u001b[0m\n",
       "\u001b[2;36m             \u001b[0m\u001b[31mthan the simulation shutoff threshold of \u001b[0m\u001b[1;36m1e-05\u001b[0m\u001b[31m. Consider running   \u001b[0m\n",
       "\u001b[2;36m             \u001b[0m\u001b[31mthe simulation again with a larger \u001b[0m\u001b[32m'run_time'\u001b[0m\u001b[31m duration for more    \u001b[0m\n",
       "\u001b[2;36m             \u001b[0m\u001b[31maccurate results.                                                  \u001b[0m\n"
      ]
     },
     "metadata": {},
     "output_type": "display_data"
    },
    {
     "data": {
      "text/html": [
       "<pre style=\"white-space:pre;overflow-x:auto;line-height:normal;font-family:Menlo,'DejaVu Sans Mono',consolas,'Courier New',monospace\"><span style=\"color: #7fbfbf; text-decoration-color: #7fbfbf\">17:17:10 BST </span><span style=\"color: #800000; text-decoration-color: #800000\">WARNING: Simulation final field decay value of </span><span style=\"color: #008080; text-decoration-color: #008080; font-weight: bold\">1.12e-05</span><span style=\"color: #800000; text-decoration-color: #800000\"> is greater </span>\n",
       "<span style=\"color: #7fbfbf; text-decoration-color: #7fbfbf\">             </span><span style=\"color: #800000; text-decoration-color: #800000\">than the simulation shutoff threshold of </span><span style=\"color: #008080; text-decoration-color: #008080; font-weight: bold\">1e-05</span><span style=\"color: #800000; text-decoration-color: #800000\">. Consider running   </span>\n",
       "<span style=\"color: #7fbfbf; text-decoration-color: #7fbfbf\">             </span><span style=\"color: #800000; text-decoration-color: #800000\">the simulation again with a larger </span><span style=\"color: #008000; text-decoration-color: #008000\">'run_time'</span><span style=\"color: #800000; text-decoration-color: #800000\"> duration for more    </span>\n",
       "<span style=\"color: #7fbfbf; text-decoration-color: #7fbfbf\">             </span><span style=\"color: #800000; text-decoration-color: #800000\">accurate results.                                                  </span>\n",
       "</pre>\n"
      ],
      "text/plain": [
       "\u001b[2;36m17:17:10 BST\u001b[0m\u001b[2;36m \u001b[0m\u001b[31mWARNING: Simulation final field decay value of \u001b[0m\u001b[1;36m1.12e-05\u001b[0m\u001b[31m is greater \u001b[0m\n",
       "\u001b[2;36m             \u001b[0m\u001b[31mthan the simulation shutoff threshold of \u001b[0m\u001b[1;36m1e-05\u001b[0m\u001b[31m. Consider running   \u001b[0m\n",
       "\u001b[2;36m             \u001b[0m\u001b[31mthe simulation again with a larger \u001b[0m\u001b[32m'run_time'\u001b[0m\u001b[31m duration for more    \u001b[0m\n",
       "\u001b[2;36m             \u001b[0m\u001b[31maccurate results.                                                  \u001b[0m\n"
      ]
     },
     "metadata": {},
     "output_type": "display_data"
    },
    {
     "data": {
      "text/html": [
       "<pre style=\"white-space:pre;overflow-x:auto;line-height:normal;font-family:Menlo,'DejaVu Sans Mono',consolas,'Courier New',monospace\"><span style=\"color: #7fbfbf; text-decoration-color: #7fbfbf\">17:17:11 BST </span><span style=\"color: #800000; text-decoration-color: #800000\">WARNING: Simulation final field decay value of </span><span style=\"color: #008080; text-decoration-color: #008080; font-weight: bold\">1.01e-05</span><span style=\"color: #800000; text-decoration-color: #800000\"> is greater </span>\n",
       "<span style=\"color: #7fbfbf; text-decoration-color: #7fbfbf\">             </span><span style=\"color: #800000; text-decoration-color: #800000\">than the simulation shutoff threshold of </span><span style=\"color: #008080; text-decoration-color: #008080; font-weight: bold\">1e-05</span><span style=\"color: #800000; text-decoration-color: #800000\">. Consider running   </span>\n",
       "<span style=\"color: #7fbfbf; text-decoration-color: #7fbfbf\">             </span><span style=\"color: #800000; text-decoration-color: #800000\">the simulation again with a larger </span><span style=\"color: #008000; text-decoration-color: #008000\">'run_time'</span><span style=\"color: #800000; text-decoration-color: #800000\"> duration for more    </span>\n",
       "<span style=\"color: #7fbfbf; text-decoration-color: #7fbfbf\">             </span><span style=\"color: #800000; text-decoration-color: #800000\">accurate results.                                                  </span>\n",
       "</pre>\n"
      ],
      "text/plain": [
       "\u001b[2;36m17:17:11 BST\u001b[0m\u001b[2;36m \u001b[0m\u001b[31mWARNING: Simulation final field decay value of \u001b[0m\u001b[1;36m1.01e-05\u001b[0m\u001b[31m is greater \u001b[0m\n",
       "\u001b[2;36m             \u001b[0m\u001b[31mthan the simulation shutoff threshold of \u001b[0m\u001b[1;36m1e-05\u001b[0m\u001b[31m. Consider running   \u001b[0m\n",
       "\u001b[2;36m             \u001b[0m\u001b[31mthe simulation again with a larger \u001b[0m\u001b[32m'run_time'\u001b[0m\u001b[31m duration for more    \u001b[0m\n",
       "\u001b[2;36m             \u001b[0m\u001b[31maccurate results.                                                  \u001b[0m\n"
      ]
     },
     "metadata": {},
     "output_type": "display_data"
    }
   ],
   "source": [
    "results = design_space.run(make_sim, fn_post, verbose=False)\n",
    "df = results.to_dataframe()"
   ]
  },
  {
   "cell_type": "code",
   "execution_count": 7,
   "metadata": {},
   "outputs": [],
   "source": [
    "# TESTING: Save off the df or load the df\n",
    "import pickle\n",
    "import os\n",
    "os.chdir(\"/home/matt/Documents/Flexcompute/surrogate_data/mmi/data\")\n",
    "# with open(\"result_100.pkl\", \"wb\") as out_file:\n",
    "#     pickle.dump(results, out_file)\n",
    "\n",
    "\n",
    "with open(\"result_100.pkl\", \"rb\") as in_file:\n",
    "    results = pickle.load(in_file)\n",
    "\n",
    "df = results.to_dataframe()"
   ]
  },
  {
   "cell_type": "markdown",
   "metadata": {},
   "source": [
    "Plot distribution of width and length data in the training dataset"
   ]
  },
  {
   "cell_type": "code",
   "execution_count": 9,
   "metadata": {},
   "outputs": [
    {
     "data": {
      "image/png": "[encoded data removed]",
      "text/plain": [
       "<Figure size 640x480 with 2 Axes>"
      ]
     },
     "metadata": {},
     "output_type": "display_data"
    }
   ],
   "source": [
    "import matplotlib.colors as mcolors\n",
    "# df.plot.scatter(\"W_MMI\", \"L_MMI\")\n",
    "\n",
    "fitness_val = -(abs(expanded_df[\"T1_cent\"] - 0.25)**2 + abs(expanded_df[\"T2_cent\"] - 0.25)**2)\n",
    "\n",
    "norm = mcolors.Normalize(vmin=0, vmax=-0.06)\n",
    "\n",
    "scatter = plt.scatter(expanded_df[\"L_MMI\"], expanded_df[\"W_MMI\"], c=fitness_val, norm=norm)\n",
    "plt.xlabel(\"Length MMI\")\n",
    "plt.ylabel(\"Width MMI\")\n",
    "plt.colorbar(scatter)\n",
    "plt.show()"
   ]
  },
  {
   "cell_type": "markdown",
   "metadata": {},
   "source": [
    "## Surrogate"
   ]
  },
  {
   "cell_type": "markdown",
   "metadata": {},
   "source": [
    "Get the label information from within the x_array stored in the results"
   ]
  },
  {
   "cell_type": "code",
   "execution_count": 8,
   "metadata": {},
   "outputs": [],
   "source": [
    "expanded_df = df.copy()\n",
    "\n",
    "# Get T1 and T2 central freq values\n",
    "expanded_df[\"T1_cent\"] = expanded_df[\"T1\"].apply(lambda x: float(x[int(len(expanded_df[\"T1\"]) / 2)]))\n",
    "expanded_df[\"T2_cent\"] = expanded_df[\"T2\"].apply(lambda x: float(x[int(len(expanded_df[\"T2\"]) / 2)]))\n",
    "\n",
    "# Change T1 and T2 to linear fake values \n",
    "# print(\"SANITY CHECK FOR TRANSMISSION\")\n",
    "# expanded_df[\"T1\"] = expanded_df[\"T1\"].apply(lambda x: x.copy(data=np.linspace(x[50] - 0.05, x[50] + 0.05, 101)))\n",
    "# expanded_df[\"T2\"] = expanded_df[\"T2\"].apply(lambda x: x.copy(data=np.linspace(x[50] - 0.05, x[50] + 0.05, 101)))\n",
    "\n",
    "# Change to all the same value\n",
    "# expanded_df[\"T1\"] = expanded_df[\"T1\"].apply(lambda x: x.copy(data=np.full_like(x.data, x[50])))\n",
    "# expanded_df[\"T2\"] = expanded_df[\"T2\"].apply(lambda x: x.copy(data=np.full_like(x.data, x[50])))\n",
    "\n",
    "\n",
    "# Expand the array by each frequency value\n",
    "expanded_df = expanded_df.explode([\"T1\", \"T2\"]).reset_index(drop=True)\n",
    "expanded_df[\"freq\"] = expanded_df[\"T1\"].apply(lambda x: float(x.f))\n",
    "expanded_df[\"T2\"] = expanded_df[\"T2\"].apply(lambda x: float(x))\n",
    "expanded_df[\"T1\"] = expanded_df[\"T1\"].apply(lambda x: float(x))\n",
    "\n",
    "# Cut the size down to test with less data\n",
    "# expanded_df = expanded_df.iloc[:1010]"
   ]
  },
  {
   "cell_type": "code",
   "execution_count": 10,
   "metadata": {},
   "outputs": [],
   "source": [
    "# TESTING\n",
    "# Build effective L and W values based on freq\n",
    "expanded_df[\"L_eff\"] = expanded_df[\"freq\"] / freq0 * expanded_df[\"L_MMI\"]\n",
    "expanded_df[\"W_eff\"] = expanded_df[\"freq\"] / freq0 * expanded_df[\"W_MMI\"]"
   ]
  },
  {
   "cell_type": "markdown",
   "metadata": {},
   "source": [
    "Define an AI model that will be trained on data stored in a `pandas.DataFrame`"
   ]
  },
  {
   "cell_type": "code",
   "execution_count": 9,
   "metadata": {},
   "outputs": [
    {
     "name": "stdout",
     "output_type": "stream",
     "text": [
      "Using existing directory at pickle_data\n",
      "Using existing directory at models\n",
      "Using device cuda:0\n"
     ]
    }
   ],
   "source": [
    "import torch\n",
    "import torch.nn as nn\n",
    "import torch.optim as optim\n",
    "\n",
    "from tidy3d.plugins.design.surrogate_object import AI_Model\n",
    "\n",
    "# Constants\n",
    "output_dir = \"/home/matt/Documents/Flexcompute/surrogate_data/mmi\"\n",
    "data_dir = [\"/home/matt/Documents/Flexcompute/surrogate_data/mmi/data/\"]\n",
    "\n",
    "test_percentage = 0.20\n",
    "valid_percentage = 0.20\n",
    "batch_size = 256\n",
    "epochs = 100\n",
    "\n",
    "trial_count = 40\n",
    "\n",
    "model = AI_Model(output_dir, data_dir, seed=2)\n",
    "\n",
    "model.load_data_from_df(\n",
    "    df=expanded_df,\n",
    "    label_names=[\"T1\", \"T2\"],\n",
    "    feature_names=[\"L_MMI\", \"W_MMI\", \"freq\"],\n",
    "    test_percentage=test_percentage,\n",
    "    valid_percentage=valid_percentage,\n",
    "    batch_size=batch_size,\n",
    "    individual_feature_scaling=True,\n",
    "    scale_inputs=True\n",
    ")\n",
    "\n",
    "# model.load_data_from_df(\n",
    "#     df=expanded_df,\n",
    "#     label_names=[\"T1\", \"T2\"],\n",
    "#     feature_names=[\"L_MMI\", \"W_MMI\", \"freq\"],\n",
    "#     test_percentage=test_percentage,\n",
    "#     valid_percentage=valid_percentage,\n",
    "#     batch_size=batch_size,\n",
    "#     individual_feature_scaling=True\n",
    "# )\n",
    "\n",
    "loss_fn = nn.MSELoss()\n"
   ]
  },
  {
   "cell_type": "markdown",
   "metadata": {},
   "source": [
    "Define a Pytorch model that can be used for training. Also works with model optimization"
   ]
  },
  {
   "cell_type": "code",
   "execution_count": 10,
   "metadata": {},
   "outputs": [],
   "source": [
    "# Define the model in PyTorch\n",
    "class VariableANN(nn.Module):\n",
    "    def __init__(self, input_size, neurons, dropout) -> None:\n",
    "        super().__init__()\n",
    "        self.layers = nn.ModuleList()\n",
    "        self.layers.append(nn.Linear(input_size, neurons[0]))\n",
    "\n",
    "        for i in range(1, len(neurons)):\n",
    "            self.layers.append(nn.Linear(neurons[i - 1], neurons[i]))\n",
    "\n",
    "        self.layers.append(nn.Linear(neurons[-1], 2))\n",
    "\n",
    "        self.drop = nn.Dropout(dropout)\n",
    "        self.relu = nn.ReLU()\n",
    "\n",
    "    def forward(self, x):\n",
    "        for layer in self.layers[:-1]:\n",
    "            x = self.drop(self.relu(layer(x)))\n",
    "\n",
    "        x = self.layers[-1](x)\n",
    "\n",
    "        return x"
   ]
  },
  {
   "cell_type": "markdown",
   "metadata": {},
   "source": [
    "Train a model based on arbitrary hyperparameters"
   ]
  },
  {
   "cell_type": "code",
   "execution_count": 11,
   "metadata": {},
   "outputs": [
    {
     "name": "stdout",
     "output_type": "stream",
     "text": [
      "Using existing directory at Model1\n"
     ]
    },
    {
     "name": "stderr",
     "output_type": "stream",
     "text": [
      "  1%|          | 1/100 [00:00<00:12,  7.72it/s]"
     ]
    },
    {
     "name": "stdout",
     "output_type": "stream",
     "text": [
      "Best State Updated. Epoch: 0\n",
      "Best State Updated. Epoch: 1\n",
      "Best State Updated. Epoch: 2\n"
     ]
    },
    {
     "name": "stderr",
     "output_type": "stream",
     "text": [
      "  5%|▌         | 5/100 [00:00<00:04, 23.07it/s]"
     ]
    },
    {
     "name": "stdout",
     "output_type": "stream",
     "text": [
      "Best State Updated. Epoch: 3\n",
      "Best State Updated. Epoch: 4\n",
      "Best State Updated. Epoch: 5\n",
      "Best State Updated. Epoch: 6\n",
      "Best State Updated. Epoch: 7\n"
     ]
    },
    {
     "name": "stderr",
     "output_type": "stream",
     "text": [
      "  9%|▉         | 9/100 [00:00<00:03, 28.32it/s]"
     ]
    },
    {
     "name": "stdout",
     "output_type": "stream",
     "text": [
      "Best State Updated. Epoch: 8\n",
      "Best State Updated. Epoch: 9\n",
      "Best State Updated. Epoch: 10\n"
     ]
    },
    {
     "name": "stderr",
     "output_type": "stream",
     "text": [
      " 13%|█▎        | 13/100 [00:00<00:02, 30.14it/s]"
     ]
    },
    {
     "name": "stdout",
     "output_type": "stream",
     "text": [
      "Best State Updated. Epoch: 11\n",
      "Best State Updated. Epoch: 12\n",
      "Best State Updated. Epoch: 13\n"
     ]
    },
    {
     "name": "stderr",
     "output_type": "stream",
     "text": [
      " 17%|█▋        | 17/100 [00:00<00:02, 29.10it/s]"
     ]
    },
    {
     "name": "stdout",
     "output_type": "stream",
     "text": [
      "Best State Updated. Epoch: 14\n",
      "Best State Updated. Epoch: 15\n",
      "Best State Updated. Epoch: 16\n"
     ]
    },
    {
     "name": "stderr",
     "output_type": "stream",
     "text": [
      " 21%|██        | 21/100 [00:00<00:02, 30.81it/s]"
     ]
    },
    {
     "name": "stdout",
     "output_type": "stream",
     "text": [
      "Best State Updated. Epoch: 17\n",
      "Best State Updated. Epoch: 18\n",
      "Best State Updated. Epoch: 19\n",
      "Best State Updated. Epoch: 20\n",
      "Best State Updated. Epoch: 21\n",
      "Best State Updated. Epoch: 22\n",
      "Best State Updated. Epoch: 23\n"
     ]
    },
    {
     "name": "stderr",
     "output_type": "stream",
     "text": [
      " 25%|██▌       | 25/100 [00:00<00:02, 31.67it/s]"
     ]
    },
    {
     "name": "stdout",
     "output_type": "stream",
     "text": [
      "Best State Updated. Epoch: 24\n",
      "Best State Updated. Epoch: 25\n",
      "Best State Updated. Epoch: 26\n"
     ]
    },
    {
     "name": "stderr",
     "output_type": "stream",
     "text": [
      " 29%|██▉       | 29/100 [00:01<00:02, 29.77it/s]"
     ]
    },
    {
     "name": "stdout",
     "output_type": "stream",
     "text": [
      "Best State Updated. Epoch: 27\n",
      "Best State Updated. Epoch: 28\n",
      "Best State Updated. Epoch: 29\n"
     ]
    },
    {
     "name": "stderr",
     "output_type": "stream",
     "text": [
      " 33%|███▎      | 33/100 [00:01<00:02, 29.76it/s]"
     ]
    },
    {
     "name": "stdout",
     "output_type": "stream",
     "text": [
      "Best State Updated. Epoch: 30\n",
      "Best State Updated. Epoch: 31\n",
      "Best State Updated. Epoch: 32\n",
      "Best State Updated. Epoch: 33\n"
     ]
    },
    {
     "name": "stderr",
     "output_type": "stream",
     "text": [
      " 37%|███▋      | 37/100 [00:01<00:02, 25.41it/s]"
     ]
    },
    {
     "name": "stdout",
     "output_type": "stream",
     "text": [
      "Best State Updated. Epoch: 34\n",
      "Best State Updated. Epoch: 35\n",
      "Best State Updated. Epoch: 36\n"
     ]
    },
    {
     "name": "stderr",
     "output_type": "stream",
     "text": [
      " 41%|████      | 41/100 [00:01<00:02, 27.52it/s]"
     ]
    },
    {
     "name": "stdout",
     "output_type": "stream",
     "text": [
      "Best State Updated. Epoch: 37\n",
      "Best State Updated. Epoch: 38\n",
      "Best State Updated. Epoch: 39\n",
      "Best State Updated. Epoch: 40\n"
     ]
    },
    {
     "name": "stderr",
     "output_type": "stream",
     "text": [
      " 44%|████▍     | 44/100 [00:01<00:01, 28.01it/s]"
     ]
    },
    {
     "name": "stdout",
     "output_type": "stream",
     "text": [
      "Best State Updated. Epoch: 41\n",
      "Best State Updated. Epoch: 43\n"
     ]
    },
    {
     "name": "stderr",
     "output_type": "stream",
     "text": [
      " 48%|████▊     | 48/100 [00:01<00:01, 29.64it/s]"
     ]
    },
    {
     "name": "stdout",
     "output_type": "stream",
     "text": [
      "Best State Updated. Epoch: 44\n",
      "Best State Updated. Epoch: 46\n",
      "Best State Updated. Epoch: 47\n",
      "Best State Updated. Epoch: 48\n",
      "Best State Updated. Epoch: 50\n"
     ]
    },
    {
     "name": "stderr",
     "output_type": "stream",
     "text": [
      " 52%|█████▏    | 52/100 [00:01<00:01, 29.46it/s]"
     ]
    },
    {
     "name": "stdout",
     "output_type": "stream",
     "text": [
      "Best State Updated. Epoch: 51\n",
      "Best State Updated. Epoch: 52\n",
      "Best State Updated. Epoch: 53\n",
      "Best State Updated. Epoch: 54\n"
     ]
    },
    {
     "name": "stderr",
     "output_type": "stream",
     "text": [
      " 56%|█████▌    | 56/100 [00:01<00:01, 30.47it/s]"
     ]
    },
    {
     "name": "stdout",
     "output_type": "stream",
     "text": [
      "Best State Updated. Epoch: 55\n",
      "Best State Updated. Epoch: 56\n",
      "Best State Updated. Epoch: 57\n"
     ]
    },
    {
     "name": "stderr",
     "output_type": "stream",
     "text": [
      " 60%|██████    | 60/100 [00:02<00:01, 31.33it/s]"
     ]
    },
    {
     "name": "stdout",
     "output_type": "stream",
     "text": [
      "Best State Updated. Epoch: 58\n",
      "Best State Updated. Epoch: 59\n",
      "Best State Updated. Epoch: 60\n",
      "Best State Updated. Epoch: 61\n"
     ]
    },
    {
     "name": "stderr",
     "output_type": "stream",
     "text": [
      " 64%|██████▍   | 64/100 [00:02<00:01, 32.26it/s]"
     ]
    },
    {
     "name": "stdout",
     "output_type": "stream",
     "text": [
      "Best State Updated. Epoch: 62\n",
      "Best State Updated. Epoch: 63\n",
      "Best State Updated. Epoch: 64\n"
     ]
    },
    {
     "name": "stderr",
     "output_type": "stream",
     "text": [
      " 68%|██████▊   | 68/100 [00:02<00:00, 32.54it/s]"
     ]
    },
    {
     "name": "stdout",
     "output_type": "stream",
     "text": [
      "Best State Updated. Epoch: 65\n",
      "Best State Updated. Epoch: 66\n",
      "Best State Updated. Epoch: 67\n",
      "Best State Updated. Epoch: 69\n",
      "Best State Updated. Epoch: 70\n"
     ]
    },
    {
     "name": "stderr",
     "output_type": "stream",
     "text": [
      " 76%|███████▌  | 76/100 [00:02<00:00, 31.06it/s]"
     ]
    },
    {
     "name": "stdout",
     "output_type": "stream",
     "text": [
      "Best State Updated. Epoch: 72\n",
      "Best State Updated. Epoch: 74\n",
      "Best State Updated. Epoch: 75\n",
      "Best State Updated. Epoch: 76\n",
      "Best State Updated. Epoch: 77\n",
      "Best State Updated. Epoch: 78\n"
     ]
    },
    {
     "name": "stderr",
     "output_type": "stream",
     "text": [
      " 80%|████████  | 80/100 [00:02<00:00, 30.85it/s]"
     ]
    },
    {
     "name": "stdout",
     "output_type": "stream",
     "text": [
      "Best State Updated. Epoch: 79\n",
      "Best State Updated. Epoch: 80\n"
     ]
    },
    {
     "name": "stderr",
     "output_type": "stream",
     "text": [
      " 84%|████████▍ | 84/100 [00:02<00:00, 31.30it/s]"
     ]
    },
    {
     "name": "stdout",
     "output_type": "stream",
     "text": [
      "Best State Updated. Epoch: 83\n",
      "Best State Updated. Epoch: 85\n"
     ]
    },
    {
     "name": "stderr",
     "output_type": "stream",
     "text": [
      " 88%|████████▊ | 88/100 [00:03<00:00, 27.08it/s]"
     ]
    },
    {
     "name": "stdout",
     "output_type": "stream",
     "text": [
      "Best State Updated. Epoch: 86\n",
      "Best State Updated. Epoch: 87\n"
     ]
    },
    {
     "name": "stderr",
     "output_type": "stream",
     "text": [
      " 91%|█████████ | 91/100 [00:03<00:00, 26.18it/s]"
     ]
    },
    {
     "name": "stdout",
     "output_type": "stream",
     "text": [
      "Best State Updated. Epoch: 88\n",
      "Best State Updated. Epoch: 89\n",
      "Best State Updated. Epoch: 91\n"
     ]
    },
    {
     "name": "stderr",
     "output_type": "stream",
     "text": [
      " 95%|█████████▌| 95/100 [00:03<00:00, 28.24it/s]"
     ]
    },
    {
     "name": "stdout",
     "output_type": "stream",
     "text": [
      "Best State Updated. Epoch: 92\n",
      "Best State Updated. Epoch: 93\n",
      "Best State Updated. Epoch: 94\n"
     ]
    },
    {
     "name": "stderr",
     "output_type": "stream",
     "text": [
      " 98%|█████████▊| 98/100 [00:03<00:00, 28.51it/s]"
     ]
    },
    {
     "name": "stdout",
     "output_type": "stream",
     "text": [
      "Best State Updated. Epoch: 97\n",
      "Best State Updated. Epoch: 98\n",
      "Best State Updated. Epoch: 99\n"
     ]
    },
    {
     "data": {
      "image/png": "[encoded data removed]",
      "text/plain": [
       "<Figure size 640x480 with 1 Axes>"
      ]
     },
     "metadata": {},
     "output_type": "display_data"
    },
    {
     "name": "stderr",
     "output_type": "stream",
     "text": [
      "100%|██████████| 100/100 [00:03<00:00, 28.63it/s]\n"
     ]
    },
    {
     "name": "stdout",
     "output_type": "stream",
     "text": [
      " Best Test Loss: 0.017235232517123222\n",
      "RMSE: 0.029873\n",
      "MAE: 0.022987\n",
      "Fold: 0\n"
     ]
    },
    {
     "name": "stderr",
     "output_type": "stream",
     "text": [
      "100%|██████████| 100/100 [00:04<00:00, 24.32it/s]\n"
     ]
    },
    {
     "name": "stdout",
     "output_type": "stream",
     "text": [
      " Best Test Loss: 0.01385454647243023\n",
      "RMSE: 0.026908\n",
      "MAE: 0.021328\n",
      "Fold: 1\n"
     ]
    },
    {
     "name": "stderr",
     "output_type": "stream",
     "text": [
      "100%|██████████| 100/100 [00:04<00:00, 24.56it/s]\n"
     ]
    },
    {
     "name": "stdout",
     "output_type": "stream",
     "text": [
      " Best Test Loss: 0.013969416730105877\n",
      "RMSE: 0.02708\n",
      "MAE: 0.021147\n",
      "Fold: 2\n"
     ]
    },
    {
     "name": "stderr",
     "output_type": "stream",
     "text": [
      "100%|██████████| 100/100 [00:04<00:00, 24.33it/s]\n"
     ]
    },
    {
     "name": "stdout",
     "output_type": "stream",
     "text": [
      " Best Test Loss: 0.014539106748998165\n",
      "RMSE: 0.027603\n",
      "MAE: 0.021786\n",
      "Fold: 3\n"
     ]
    },
    {
     "name": "stderr",
     "output_type": "stream",
     "text": [
      "100%|██████████| 100/100 [00:04<00:00, 24.70it/s]\n"
     ]
    },
    {
     "name": "stdout",
     "output_type": "stream",
     "text": [
      " Best Test Loss: 0.014770686626434326\n",
      "RMSE: 0.027794\n",
      "MAE: 0.021816\n",
      "Fold: 4\n"
     ]
    },
    {
     "name": "stderr",
     "output_type": "stream",
     "text": [
      "100%|██████████| 100/100 [00:04<00:00, 24.46it/s]"
     ]
    },
    {
     "name": "stdout",
     "output_type": "stream",
     "text": [
      " Best Test Loss: 0.014552745036780834\n",
      "RMSE: 0.027629\n",
      "MAE: 0.021675\n",
      "[0.026908, 0.02708, 0.027603, 0.027794, 0.027629]\n",
      "Mean RMSE: 0.027 +/- 0.000\n"
     ]
    },
    {
     "name": "stderr",
     "output_type": "stream",
     "text": [
      "\n"
     ]
    },
    {
     "data": {
      "text/plain": [
       "[0.027402799999999998, 0.0003375842686856122]"
      ]
     },
     "execution_count": 11,
     "metadata": {},
     "output_type": "execute_result"
    }
   ],
   "source": [
    "# Create single model\n",
    "network = VariableANN(3, [4, 4, 4], 0.2)\n",
    "opt = optim.Adam(network.parameters(), lr=0.001, weight_decay=0.0001)\n",
    "\n",
    "trained_net = model.train_model(\"Model1\", network, opt, loss_fn, epochs, plot_output=True)\n",
    "test_rmse, _, test_predictions = model.validate_model(trained_net, \"test\")\n"
   ]
  },
  {
   "cell_type": "code",
   "execution_count": 12,
   "metadata": {},
   "outputs": [
    {
     "name": "stdout",
     "output_type": "stream",
     "text": [
      "RMSE: 0.029873\n",
      "MAE: 0.022987\n",
      "RMSE: 0.029522\n",
      "MAE: 0.022681\n",
      "0.1094048023223877\n"
     ]
    }
   ],
   "source": [
    "# TESTING\n",
    "test_rmse, _, test_predictions = model.validate_model(trained_net, \"test\")\n",
    "valid_rmse, _, valid_predictions = model.validate_model(trained_net, \"valid\")\n",
    "\n",
    "print(model.train_labels[1].mean())"
   ]
  },
  {
   "cell_type": "markdown",
   "metadata": {},
   "source": [
    "Alternatively, sweep through the model design space and find the optimum model architecture"
   ]
  },
  {
   "cell_type": "code",
   "execution_count": 13,
   "metadata": {},
   "outputs": [
    {
     "name": "stderr",
     "output_type": "stream",
     "text": [
      "[I 2024-09-18 14:12:21,165] A new study created in memory with name: no-name-329ccb18-1e5b-4df3-968c-3dd034a84553\n"
     ]
    },
    {
     "name": "stdout",
     "output_type": "stream",
     "text": [
      "Making temp model folder\n",
      "Using existing directory at temp\n"
     ]
    },
    {
     "name": "stderr",
     "output_type": "stream",
     "text": [
      "100%|██████████| 100/100 [00:03<00:00, 28.08it/s]\n",
      "[I 2024-09-18 14:12:24,745] Trial 0 finished with value: 0.025996 and parameters: {'dropout': 0.2, 'neurons0': 16, 'neurons1': 144, 'neurons2': 112, 'neurons3': 112, 'lr': 0.00020957490791939475, 'weight_decay': 2.56623998836808e-05}. Best is trial 0 with value: 0.025996.\n"
     ]
    },
    {
     "name": "stdout",
     "output_type": "stream",
     "text": [
      " Best Test Loss: 0.012926447205245495\n",
      "RMSE: 0.025996\n",
      "MAE: 0.020431\n",
      "Making temp model folder\n",
      "Using existing directory at temp\n"
     ]
    },
    {
     "name": "stderr",
     "output_type": "stream",
     "text": [
      "100%|██████████| 100/100 [00:03<00:00, 28.92it/s]\n",
      "[I 2024-09-18 14:12:28,211] Trial 1 finished with value: 0.032972 and parameters: {'dropout': 0.30000000000000004, 'neurons0': 80, 'neurons1': 80, 'neurons2': 160, 'neurons3': 144, 'lr': 3.453979704854047e-05, 'weight_decay': 0.00010645259250245113}. Best is trial 0 with value: 0.025996.\n"
     ]
    },
    {
     "name": "stdout",
     "output_type": "stream",
     "text": [
      " Best Test Loss: 0.020492803305387497\n",
      "RMSE: 0.032972\n",
      "MAE: 0.02501\n",
      "Making temp model folder\n",
      "Using existing directory at temp\n"
     ]
    },
    {
     "name": "stderr",
     "output_type": "stream",
     "text": [
      "100%|██████████| 100/100 [00:03<00:00, 27.83it/s]\n",
      "[I 2024-09-18 14:12:31,814] Trial 2 finished with value: 0.028484 and parameters: {'dropout': 0.1, 'neurons0': 208, 'neurons1': 224, 'neurons2': 128, 'neurons3': 224, 'lr': 2.0824851253449582e-05, 'weight_decay': 0.0001024453334191056}. Best is trial 0 with value: 0.025996.\n"
     ]
    },
    {
     "name": "stdout",
     "output_type": "stream",
     "text": [
      " Best Test Loss: 0.015527835115790367\n",
      "RMSE: 0.028484\n",
      "MAE: 0.021517\n",
      "Making temp model folder\n",
      "Using existing directory at temp\n"
     ]
    },
    {
     "name": "stderr",
     "output_type": "stream",
     "text": [
      "100%|██████████| 100/100 [00:03<00:00, 29.27it/s]\n",
      "[I 2024-09-18 14:12:35,240] Trial 3 finished with value: 0.026657 and parameters: {'dropout': 0.0, 'neurons0': 112, 'neurons1': 32, 'neurons2': 48, 'neurons3': 160, 'lr': 8.017666774803345e-05, 'weight_decay': 1.6364071508075995e-05}. Best is trial 0 with value: 0.025996.\n"
     ]
    },
    {
     "name": "stdout",
     "output_type": "stream",
     "text": [
      " Best Test Loss: 0.013553036376833916\n",
      "RMSE: 0.026657\n",
      "MAE: 0.020529\n",
      "Making temp model folder\n",
      "Using existing directory at temp\n"
     ]
    },
    {
     "name": "stderr",
     "output_type": "stream",
     "text": [
      "100%|██████████| 100/100 [00:03<00:00, 28.43it/s]\n",
      "[I 2024-09-18 14:12:38,767] Trial 4 finished with value: 0.019664 and parameters: {'dropout': 0.1, 'neurons0': 96, 'neurons1': 128, 'neurons2': 64, 'neurons3': 176, 'lr': 0.0008556168765786835, 'weight_decay': 0.00010244091290412624}. Best is trial 4 with value: 0.019664.\n"
     ]
    },
    {
     "name": "stdout",
     "output_type": "stream",
     "text": [
      " Best Test Loss: 0.007364881690591574\n",
      "RMSE: 0.019664\n",
      "MAE: 0.01592\n",
      "Making temp model folder\n",
      "Using existing directory at temp\n"
     ]
    },
    {
     "name": "stderr",
     "output_type": "stream",
     "text": [
      "100%|██████████| 100/100 [00:03<00:00, 28.72it/s]\n",
      "[I 2024-09-18 14:12:42,257] Trial 5 finished with value: 0.039115 and parameters: {'dropout': 0.2, 'neurons0': 208, 'neurons1': 160, 'neurons2': 48, 'neurons3': 192, 'lr': 0.0721446814835575, 'weight_decay': 0.00010000385053531142}. Best is trial 4 with value: 0.019664.\n"
     ]
    },
    {
     "name": "stdout",
     "output_type": "stream",
     "text": [
      " Best Test Loss: 0.02859480120241642\n",
      "RMSE: 0.039115\n",
      "MAE: 0.030168\n",
      "Making temp model folder\n",
      "Using existing directory at temp\n"
     ]
    },
    {
     "name": "stderr",
     "output_type": "stream",
     "text": [
      "100%|██████████| 100/100 [00:03<00:00, 27.79it/s]\n",
      "[I 2024-09-18 14:12:45,865] Trial 6 finished with value: 0.026182 and parameters: {'dropout': 0.45, 'neurons0': 96, 'neurons1': 160, 'neurons2': 112, 'neurons3': 112, 'lr': 0.012771348031164653, 'weight_decay': 0.00011781710498405417}. Best is trial 4 with value: 0.019664.\n"
     ]
    },
    {
     "name": "stdout",
     "output_type": "stream",
     "text": [
      " Best Test Loss: 0.012225405313074589\n",
      "RMSE: 0.026182\n",
      "MAE: 0.020473\n",
      "Making temp model folder\n",
      "Using existing directory at temp\n"
     ]
    },
    {
     "name": "stderr",
     "output_type": "stream",
     "text": [
      "100%|██████████| 100/100 [00:03<00:00, 28.87it/s]\n",
      "[I 2024-09-18 14:12:49,341] Trial 7 finished with value: 0.027922 and parameters: {'dropout': 0.5, 'neurons0': 144, 'neurons1': 32, 'neurons2': 96, 'neurons3': 224, 'lr': 0.00042179378105206954, 'weight_decay': 1.1334561723036805e-05}. Best is trial 4 with value: 0.019664.\n"
     ]
    },
    {
     "name": "stdout",
     "output_type": "stream",
     "text": [
      " Best Test Loss: 0.014778204262256622\n",
      "RMSE: 0.027922\n",
      "MAE: 0.022073\n",
      "Making temp model folder\n",
      "Using existing directory at temp\n"
     ]
    },
    {
     "name": "stderr",
     "output_type": "stream",
     "text": [
      "100%|██████████| 100/100 [00:03<00:00, 27.69it/s]\n",
      "[I 2024-09-18 14:12:52,963] Trial 8 finished with value: 0.020853 and parameters: {'dropout': 0.1, 'neurons0': 32, 'neurons1': 256, 'neurons2': 256, 'neurons3': 208, 'lr': 0.0025542798985646654, 'weight_decay': 0.00033878152677157994}. Best is trial 4 with value: 0.019664.\n"
     ]
    },
    {
     "name": "stdout",
     "output_type": "stream",
     "text": [
      " Best Test Loss: 0.008296545594930649\n",
      "RMSE: 0.020853\n",
      "MAE: 0.016791\n",
      "Making temp model folder\n",
      "Using existing directory at temp\n"
     ]
    },
    {
     "name": "stderr",
     "output_type": "stream",
     "text": [
      "100%|██████████| 100/100 [00:03<00:00, 28.44it/s]\n",
      "[I 2024-09-18 14:12:56,488] Trial 9 finished with value: 0.022868 and parameters: {'dropout': 0.05, 'neurons0': 80, 'neurons1': 144, 'neurons2': 96, 'neurons3': 16, 'lr': 0.08562760193073449, 'weight_decay': 7.633256192478052e-05}. Best is trial 4 with value: 0.019664.\n"
     ]
    },
    {
     "name": "stdout",
     "output_type": "stream",
     "text": [
      " Best Test Loss: 0.010104650631546974\n",
      "RMSE: 0.022868\n",
      "MAE: 0.018439\n",
      "Making temp model folder\n",
      "Using existing directory at temp\n"
     ]
    },
    {
     "name": "stderr",
     "output_type": "stream",
     "text": [
      "100%|██████████| 100/100 [00:03<00:00, 28.33it/s]\n",
      "[I 2024-09-18 14:13:00,044] Trial 10 finished with value: 0.030599 and parameters: {'dropout': 0.35000000000000003, 'neurons0': 160, 'neurons1': 96, 'neurons2': 16, 'neurons3': 64, 'lr': 0.0023435510642152513, 'weight_decay': 0.0007498580827111435}. Best is trial 4 with value: 0.019664.\n"
     ]
    },
    {
     "name": "stdout",
     "output_type": "stream",
     "text": [
      " Best Test Loss: 0.017928598448634148\n",
      "RMSE: 0.030599\n",
      "MAE: 0.023021\n",
      "Making temp model folder\n",
      "Using existing directory at temp\n"
     ]
    },
    {
     "name": "stderr",
     "output_type": "stream",
     "text": [
      "100%|██████████| 100/100 [00:03<00:00, 29.30it/s]\n",
      "[I 2024-09-18 14:13:03,475] Trial 11 finished with value: 0.02198 and parameters: {'dropout': 0.1, 'neurons0': 16, 'neurons1': 256, 'neurons2': 256, 'neurons3': 256, 'lr': 0.00200739364972314, 'weight_decay': 0.0004249504656179168}. Best is trial 4 with value: 0.019664.\n"
     ]
    },
    {
     "name": "stdout",
     "output_type": "stream",
     "text": [
      " Best Test Loss: 0.009318917989730835\n",
      "RMSE: 0.02198\n",
      "MAE: 0.017719\n",
      "Making temp model folder\n",
      "Using existing directory at temp\n"
     ]
    },
    {
     "name": "stderr",
     "output_type": "stream",
     "text": [
      "100%|██████████| 100/100 [00:03<00:00, 29.19it/s]\n",
      "[I 2024-09-18 14:13:06,921] Trial 12 finished with value: 0.021961 and parameters: {'dropout': 0.15000000000000002, 'neurons0': 48, 'neurons1': 208, 'neurons2': 240, 'neurons3': 192, 'lr': 0.006227221349614544, 'weight_decay': 0.0002819347175541913}. Best is trial 4 with value: 0.019664.\n"
     ]
    },
    {
     "name": "stdout",
     "output_type": "stream",
     "text": [
      " Best Test Loss: 0.008547695353627205\n",
      "RMSE: 0.021961\n",
      "MAE: 0.017761\n",
      "Making temp model folder\n",
      "Using existing directory at temp\n"
     ]
    },
    {
     "name": "stderr",
     "output_type": "stream",
     "text": [
      "100%|██████████| 100/100 [00:03<00:00, 28.98it/s]\n",
      "[I 2024-09-18 14:13:10,391] Trial 13 finished with value: 0.01984 and parameters: {'dropout': 0.0, 'neurons0': 48, 'neurons1': 96, 'neurons2': 192, 'neurons3': 176, 'lr': 0.0005593379823293206, 'weight_decay': 0.000250281943316076}. Best is trial 4 with value: 0.019664.\n"
     ]
    },
    {
     "name": "stdout",
     "output_type": "stream",
     "text": [
      " Best Test Loss: 0.007643466349691153\n",
      "RMSE: 0.01984\n",
      "MAE: 0.016002\n",
      "Making temp model folder\n",
      "Using existing directory at temp\n"
     ]
    },
    {
     "name": "stderr",
     "output_type": "stream",
     "text": [
      "100%|██████████| 100/100 [00:03<00:00, 29.19it/s]\n",
      "[I 2024-09-18 14:13:13,836] Trial 14 finished with value: 0.018716 and parameters: {'dropout': 0.0, 'neurons0': 64, 'neurons1': 96, 'neurons2': 192, 'neurons3': 160, 'lr': 0.0005484417682747005, 'weight_decay': 4.233047899241224e-05}. Best is trial 14 with value: 0.018716.\n"
     ]
    },
    {
     "name": "stdout",
     "output_type": "stream",
     "text": [
      " Best Test Loss: 0.006818427704274654\n",
      "RMSE: 0.018716\n",
      "MAE: 0.015141\n",
      "Making temp model folder\n",
      "Using existing directory at temp\n"
     ]
    },
    {
     "name": "stderr",
     "output_type": "stream",
     "text": [
      "100%|██████████| 100/100 [00:03<00:00, 30.41it/s]\n",
      "[I 2024-09-18 14:13:17,143] Trial 15 finished with value: 0.01991 and parameters: {'dropout': 0.0, 'neurons0': 256, 'neurons1': 64, 'neurons2': 192, 'neurons3': 112, 'lr': 0.00015959053774279068, 'weight_decay': 4.937216228436726e-05}. Best is trial 14 with value: 0.018716.\n"
     ]
    },
    {
     "name": "stdout",
     "output_type": "stream",
     "text": [
      " Best Test Loss: 0.007678763009607792\n",
      "RMSE: 0.01991\n",
      "MAE: 0.01599\n",
      "Making temp model folder\n",
      "Using existing directory at temp\n"
     ]
    },
    {
     "name": "stderr",
     "output_type": "stream",
     "text": [
      "100%|██████████| 100/100 [00:03<00:00, 27.91it/s]\n",
      "[I 2024-09-18 14:13:20,745] Trial 16 finished with value: 0.023206 and parameters: {'dropout': 0.25, 'neurons0': 128, 'neurons1': 112, 'neurons2': 176, 'neurons3': 80, 'lr': 0.016138773159690527, 'weight_decay': 3.394293797577441e-05}. Best is trial 14 with value: 0.018716.\n"
     ]
    },
    {
     "name": "stdout",
     "output_type": "stream",
     "text": [
      " Best Test Loss: 0.009219411760568619\n",
      "RMSE: 0.023206\n",
      "MAE: 0.01836\n",
      "Making temp model folder\n",
      "Using existing directory at temp\n"
     ]
    },
    {
     "name": "stderr",
     "output_type": "stream",
     "text": [
      "100%|██████████| 100/100 [00:03<00:00, 29.39it/s]\n",
      "[I 2024-09-18 14:13:24,168] Trial 17 finished with value: 0.019139 and parameters: {'dropout': 0.05, 'neurons0': 64, 'neurons1': 176, 'neurons2': 224, 'neurons3': 144, 'lr': 0.0008952256828502206, 'weight_decay': 5.193861315361771e-05}. Best is trial 14 with value: 0.018716.\n"
     ]
    },
    {
     "name": "stdout",
     "output_type": "stream",
     "text": [
      " Best Test Loss: 0.007091013714671135\n",
      "RMSE: 0.019139\n",
      "MAE: 0.01549\n",
      "Making temp model folder\n",
      "Using existing directory at temp\n"
     ]
    },
    {
     "name": "stderr",
     "output_type": "stream",
     "text": [
      "100%|██████████| 100/100 [00:03<00:00, 29.25it/s]\n",
      "[I 2024-09-18 14:13:27,607] Trial 18 finished with value: 0.042126 and parameters: {'dropout': 0.35000000000000003, 'neurons0': 64, 'neurons1': 208, 'neurons2': 224, 'neurons3': 144, 'lr': 1.126382991616871e-05, 'weight_decay': 4.6380425054676704e-05}. Best is trial 14 with value: 0.018716.\n"
     ]
    },
    {
     "name": "stdout",
     "output_type": "stream",
     "text": [
      " Best Test Loss: 0.0317152738571167\n",
      "RMSE: 0.042126\n",
      "MAE: 0.033603\n",
      "Making temp model folder\n",
      "Using existing directory at temp\n"
     ]
    },
    {
     "name": "stderr",
     "output_type": "stream",
     "text": [
      "100%|██████████| 100/100 [00:03<00:00, 28.14it/s]\n",
      "[I 2024-09-18 14:13:31,181] Trial 19 finished with value: 0.021123 and parameters: {'dropout': 0.05, 'neurons0': 176, 'neurons1': 176, 'neurons2': 208, 'neurons3': 64, 'lr': 0.0001077521181958582, 'weight_decay': 2.1441539628618083e-05}. Best is trial 14 with value: 0.018716.\n"
     ]
    },
    {
     "name": "stdout",
     "output_type": "stream",
     "text": [
      " Best Test Loss: 0.008307981304824352\n",
      "RMSE: 0.021123\n",
      "MAE: 0.01698\n",
      "Making temp model folder\n",
      "Using existing directory at temp\n"
     ]
    },
    {
     "name": "stderr",
     "output_type": "stream",
     "text": [
      "100%|██████████| 100/100 [00:03<00:00, 27.51it/s]\n",
      "[I 2024-09-18 14:13:34,836] Trial 20 finished with value: 0.021938 and parameters: {'dropout': 0.2, 'neurons0': 64, 'neurons1': 64, 'neurons2': 160, 'neurons3': 128, 'lr': 0.00032980742064367164, 'weight_decay': 5.862555584366668e-05}. Best is trial 14 with value: 0.018716.\n"
     ]
    },
    {
     "name": "stdout",
     "output_type": "stream",
     "text": [
      " Best Test Loss: 0.00884915515780449\n",
      "RMSE: 0.021938\n",
      "MAE: 0.017654\n",
      "Making temp model folder\n",
      "Using existing directory at temp\n"
     ]
    },
    {
     "name": "stderr",
     "output_type": "stream",
     "text": [
      "100%|██████████| 100/100 [00:03<00:00, 29.48it/s]\n",
      "[I 2024-09-18 14:13:38,247] Trial 21 finished with value: 0.019676 and parameters: {'dropout': 0.05, 'neurons0': 112, 'neurons1': 128, 'neurons2': 224, 'neurons3': 160, 'lr': 0.0010269790367666996, 'weight_decay': 0.0001707468123728392}. Best is trial 14 with value: 0.018716.\n"
     ]
    },
    {
     "name": "stdout",
     "output_type": "stream",
     "text": [
      " Best Test Loss: 0.00750600453466177\n",
      "RMSE: 0.019676\n",
      "MAE: 0.015917\n",
      "Making temp model folder\n",
      "Using existing directory at temp\n"
     ]
    },
    {
     "name": "stderr",
     "output_type": "stream",
     "text": [
      "100%|██████████| 100/100 [00:03<00:00, 28.93it/s]\n",
      "[I 2024-09-18 14:13:41,724] Trial 22 finished with value: 0.019335 and parameters: {'dropout': 0.15000000000000002, 'neurons0': 96, 'neurons1': 192, 'neurons2': 64, 'neurons3': 176, 'lr': 0.0010646223865725907, 'weight_decay': 3.510119965916949e-05}. Best is trial 14 with value: 0.018716.\n"
     ]
    },
    {
     "name": "stdout",
     "output_type": "stream",
     "text": [
      " Best Test Loss: 0.007218081969767809\n",
      "RMSE: 0.019335\n",
      "MAE: 0.015673\n",
      "Making temp model folder\n",
      "Using existing directory at temp\n"
     ]
    },
    {
     "name": "stderr",
     "output_type": "stream",
     "text": [
      "100%|██████████| 100/100 [00:03<00:00, 28.33it/s]\n",
      "[I 2024-09-18 14:13:45,276] Trial 23 finished with value: 0.019174 and parameters: {'dropout': 0.15000000000000002, 'neurons0': 48, 'neurons1': 192, 'neurons2': 144, 'neurons3': 160, 'lr': 0.0013820346960942572, 'weight_decay': 3.1529951409484753e-05}. Best is trial 14 with value: 0.018716.\n"
     ]
    },
    {
     "name": "stdout",
     "output_type": "stream",
     "text": [
      " Best Test Loss: 0.007011456415057182\n",
      "RMSE: 0.019174\n",
      "MAE: 0.015557\n",
      "Making temp model folder\n",
      "Using existing directory at temp\n"
     ]
    },
    {
     "name": "stderr",
     "output_type": "stream",
     "text": [
      "100%|██████████| 100/100 [00:03<00:00, 29.55it/s]\n",
      "[I 2024-09-18 14:13:48,680] Trial 24 finished with value: 0.018485 and parameters: {'dropout': 0.05, 'neurons0': 48, 'neurons1': 224, 'neurons2': 144, 'neurons3': 96, 'lr': 0.00607200834545081, 'weight_decay': 1.6192125382976442e-05}. Best is trial 24 with value: 0.018485.\n"
     ]
    },
    {
     "name": "stdout",
     "output_type": "stream",
     "text": [
      " Best Test Loss: 0.0066587780602276325\n",
      "RMSE: 0.018485\n",
      "MAE: 0.014963\n",
      "Making temp model folder\n",
      "Using existing directory at temp\n"
     ]
    },
    {
     "name": "stderr",
     "output_type": "stream",
     "text": [
      "100%|██████████| 100/100 [00:03<00:00, 30.91it/s]\n",
      "[I 2024-09-18 14:13:51,939] Trial 25 finished with value: 0.018364 and parameters: {'dropout': 0.0, 'neurons0': 32, 'neurons1': 240, 'neurons2': 192, 'neurons3': 80, 'lr': 0.005498197348611598, 'weight_decay': 1.5316627908459823e-05}. Best is trial 25 with value: 0.018364.\n"
     ]
    },
    {
     "name": "stdout",
     "output_type": "stream",
     "text": [
      " Best Test Loss: 0.006545103155076504\n",
      "RMSE: 0.018364\n",
      "MAE: 0.014769\n",
      "Making temp model folder\n",
      "Using existing directory at temp\n"
     ]
    },
    {
     "name": "stderr",
     "output_type": "stream",
     "text": [
      "100%|██████████| 100/100 [00:03<00:00, 29.33it/s]\n",
      "[I 2024-09-18 14:13:55,369] Trial 26 finished with value: 0.018833 and parameters: {'dropout': 0.0, 'neurons0': 16, 'neurons1': 240, 'neurons2': 176, 'neurons3': 32, 'lr': 0.005920426236691699, 'weight_decay': 1.276010807463955e-05}. Best is trial 25 with value: 0.018364.\n"
     ]
    },
    {
     "name": "stdout",
     "output_type": "stream",
     "text": [
      " Best Test Loss: 0.006847998593002558\n",
      "RMSE: 0.018833\n",
      "MAE: 0.015154\n",
      "Making temp model folder\n",
      "Using existing directory at temp\n"
     ]
    },
    {
     "name": "stderr",
     "output_type": "stream",
     "text": [
      "100%|██████████| 100/100 [00:03<00:00, 30.10it/s]\n",
      "[I 2024-09-18 14:13:58,711] Trial 27 finished with value: 0.019783 and parameters: {'dropout': 0.0, 'neurons0': 32, 'neurons1': 224, 'neurons2': 144, 'neurons3': 80, 'lr': 0.033965354597456365, 'weight_decay': 1.7606434818508074e-05}. Best is trial 25 with value: 0.018364.\n"
     ]
    },
    {
     "name": "stdout",
     "output_type": "stream",
     "text": [
      " Best Test Loss: 0.0074279760010540485\n",
      "RMSE: 0.019783\n",
      "MAE: 0.016012\n",
      "Making temp model folder\n",
      "Using existing directory at temp\n"
     ]
    },
    {
     "name": "stderr",
     "output_type": "stream",
     "text": [
      "100%|██████████| 100/100 [00:03<00:00, 28.83it/s]\n",
      "[I 2024-09-18 14:14:02,199] Trial 28 finished with value: 0.018448 and parameters: {'dropout': 0.05, 'neurons0': 32, 'neurons1': 240, 'neurons2': 192, 'neurons3': 96, 'lr': 0.0049286229350376295, 'weight_decay': 1.0687755284376257e-05}. Best is trial 25 with value: 0.018364.\n"
     ]
    },
    {
     "name": "stdout",
     "output_type": "stream",
     "text": [
      " Best Test Loss: 0.006598781794309616\n",
      "RMSE: 0.018448\n",
      "MAE: 0.014906\n",
      "Making temp model folder\n",
      "Using existing directory at temp\n"
     ]
    },
    {
     "name": "stderr",
     "output_type": "stream",
     "text": [
      "100%|██████████| 100/100 [00:03<00:00, 28.23it/s]\n",
      "[I 2024-09-18 14:14:05,761] Trial 29 finished with value: 0.019061 and parameters: {'dropout': 0.05, 'neurons0': 16, 'neurons1': 240, 'neurons2': 128, 'neurons3': 96, 'lr': 0.0050268431383161056, 'weight_decay': 1.035113656205318e-05}. Best is trial 25 with value: 0.018364.\n"
     ]
    },
    {
     "name": "stdout",
     "output_type": "stream",
     "text": [
      " Best Test Loss: 0.006726762279868126\n",
      "RMSE: 0.019061\n",
      "MAE: 0.01541\n",
      "Making temp model folder\n",
      "Using existing directory at temp\n"
     ]
    },
    {
     "name": "stderr",
     "output_type": "stream",
     "text": [
      "100%|██████████| 100/100 [00:03<00:00, 27.66it/s]\n",
      "[I 2024-09-18 14:14:09,406] Trial 30 finished with value: 0.020742 and parameters: {'dropout': 0.2, 'neurons0': 32, 'neurons1': 224, 'neurons2': 160, 'neurons3': 48, 'lr': 0.015312937453930097, 'weight_decay': 2.3914723266120608e-05}. Best is trial 25 with value: 0.018364.\n"
     ]
    },
    {
     "name": "stdout",
     "output_type": "stream",
     "text": [
      " Best Test Loss: 0.008037733845412731\n",
      "RMSE: 0.020742\n",
      "MAE: 0.016803\n",
      "Making temp model folder\n",
      "Using existing directory at temp\n"
     ]
    },
    {
     "name": "stderr",
     "output_type": "stream",
     "text": [
      "100%|██████████| 100/100 [00:03<00:00, 28.54it/s]\n",
      "[I 2024-09-18 14:14:12,929] Trial 31 finished with value: 0.01854 and parameters: {'dropout': 0.05, 'neurons0': 48, 'neurons1': 256, 'neurons2': 192, 'neurons3': 96, 'lr': 0.0038154320388002964, 'weight_decay': 1.4909411628176173e-05}. Best is trial 25 with value: 0.018364.\n"
     ]
    },
    {
     "name": "stdout",
     "output_type": "stream",
     "text": [
      " Best Test Loss: 0.006629974115639925\n",
      "RMSE: 0.01854\n",
      "MAE: 0.014958\n",
      "Making temp model folder\n",
      "Using existing directory at temp\n"
     ]
    },
    {
     "name": "stderr",
     "output_type": "stream",
     "text": [
      "100%|██████████| 100/100 [00:03<00:00, 29.50it/s]\n",
      "[I 2024-09-18 14:14:16,339] Trial 32 finished with value: 0.019063 and parameters: {'dropout': 0.1, 'neurons0': 32, 'neurons1': 256, 'neurons2': 208, 'neurons3': 96, 'lr': 0.003920134074641705, 'weight_decay': 1.466356257062876e-05}. Best is trial 25 with value: 0.018364.\n"
     ]
    },
    {
     "name": "stdout",
     "output_type": "stream",
     "text": [
      " Best Test Loss: 0.00698845274746418\n",
      "RMSE: 0.019063\n",
      "MAE: 0.015492\n",
      "Making temp model folder\n",
      "Using existing directory at temp\n"
     ]
    },
    {
     "name": "stderr",
     "output_type": "stream",
     "text": [
      "100%|██████████| 100/100 [00:03<00:00, 29.10it/s]\n",
      "[I 2024-09-18 14:14:19,796] Trial 33 finished with value: 0.018803 and parameters: {'dropout': 0.05, 'neurons0': 80, 'neurons1': 240, 'neurons2': 176, 'neurons3': 96, 'lr': 0.009654298425826147, 'weight_decay': 2.0734510705783783e-05}. Best is trial 25 with value: 0.018364.\n"
     ]
    },
    {
     "name": "stdout",
     "output_type": "stream",
     "text": [
      " Best Test Loss: 0.006861562374979258\n",
      "RMSE: 0.018803\n",
      "MAE: 0.015225\n",
      "Making temp model folder\n",
      "Using existing directory at temp\n"
     ]
    },
    {
     "name": "stderr",
     "output_type": "stream",
     "text": [
      "100%|██████████| 100/100 [00:03<00:00, 27.30it/s]\n",
      "[I 2024-09-18 14:14:23,483] Trial 34 finished with value: 0.021422 and parameters: {'dropout': 0.15000000000000002, 'neurons0': 48, 'neurons1': 208, 'neurons2': 208, 'neurons3': 64, 'lr': 0.027515552134346772, 'weight_decay': 1.0191704316617021e-05}. Best is trial 25 with value: 0.018364.\n"
     ]
    },
    {
     "name": "stdout",
     "output_type": "stream",
     "text": [
      " Best Test Loss: 0.008645681664347649\n",
      "RMSE: 0.021422\n",
      "MAE: 0.017362\n",
      "Making temp model folder\n",
      "Using existing directory at temp\n"
     ]
    },
    {
     "name": "stderr",
     "output_type": "stream",
     "text": [
      "100%|██████████| 100/100 [00:03<00:00, 29.30it/s]\n",
      "[I 2024-09-18 14:14:26,916] Trial 35 finished with value: 0.021519 and parameters: {'dropout': 0.1, 'neurons0': 16, 'neurons1': 240, 'neurons2': 160, 'neurons3': 128, 'lr': 0.027963984999112537, 'weight_decay': 1.7100319595540325e-05}. Best is trial 25 with value: 0.018364.\n"
     ]
    },
    {
     "name": "stdout",
     "output_type": "stream",
     "text": [
      " Best Test Loss: 0.007916390895843506\n",
      "RMSE: 0.021519\n",
      "MAE: 0.017459\n",
      "Making temp model folder\n",
      "Using existing directory at temp\n"
     ]
    },
    {
     "name": "stderr",
     "output_type": "stream",
     "text": [
      "100%|██████████| 100/100 [00:03<00:00, 29.35it/s]\n",
      "[I 2024-09-18 14:14:30,344] Trial 36 finished with value: 0.019031 and parameters: {'dropout': 0.25, 'neurons0': 80, 'neurons1': 224, 'neurons2': 128, 'neurons3': 112, 'lr': 0.0035540461044868553, 'weight_decay': 1.325542310437955e-05}. Best is trial 25 with value: 0.018364.\n"
     ]
    },
    {
     "name": "stdout",
     "output_type": "stream",
     "text": [
      " Best Test Loss: 0.006982685998082161\n",
      "RMSE: 0.019031\n",
      "MAE: 0.015413\n",
      "Making temp model folder\n",
      "Using existing directory at temp\n"
     ]
    },
    {
     "name": "stderr",
     "output_type": "stream",
     "text": [
      "100%|██████████| 100/100 [00:03<00:00, 28.35it/s]\n",
      "[I 2024-09-18 14:14:33,892] Trial 37 finished with value: 0.022709 and parameters: {'dropout': 0.05, 'neurons0': 32, 'neurons1': 256, 'neurons2': 176, 'neurons3': 80, 'lr': 0.04894850459220828, 'weight_decay': 2.75548947325693e-05}. Best is trial 25 with value: 0.018364.\n"
     ]
    },
    {
     "name": "stdout",
     "output_type": "stream",
     "text": [
      " Best Test Loss: 0.008799980394542217\n",
      "RMSE: 0.022709\n",
      "MAE: 0.018363\n",
      "Making temp model folder\n",
      "Using existing directory at temp\n"
     ]
    },
    {
     "name": "stderr",
     "output_type": "stream",
     "text": [
      "100%|██████████| 100/100 [00:03<00:00, 29.16it/s]\n",
      "[I 2024-09-18 14:14:37,341] Trial 38 finished with value: 0.018218 and parameters: {'dropout': 0.0, 'neurons0': 112, 'neurons1': 192, 'neurons2': 240, 'neurons3': 48, 'lr': 0.008587923524541945, 'weight_decay': 1.796322757538671e-05}. Best is trial 38 with value: 0.018218.\n"
     ]
    },
    {
     "name": "stdout",
     "output_type": "stream",
     "text": [
      " Best Test Loss: 0.006478691939264536\n",
      "RMSE: 0.018218\n",
      "MAE: 0.014702\n",
      "Making temp model folder\n",
      "Using existing directory at temp\n"
     ]
    },
    {
     "name": "stderr",
     "output_type": "stream",
     "text": [
      "100%|██████████| 100/100 [00:03<00:00, 29.50it/s]\n",
      "[I 2024-09-18 14:14:40,752] Trial 39 finished with value: 0.018668 and parameters: {'dropout': 0.0, 'neurons0': 192, 'neurons1': 192, 'neurons2': 240, 'neurons3': 48, 'lr': 0.008421555382741027, 'weight_decay': 1.824167842294368e-05}. Best is trial 38 with value: 0.018218.\n"
     ]
    },
    {
     "name": "stdout",
     "output_type": "stream",
     "text": [
      " Best Test Loss: 0.0066652619279921055\n",
      "RMSE: 0.018668\n",
      "MAE: 0.01504\n",
      "Study statistics: \n",
      "  Number of finished trials:  40\n",
      "  Number of pruned trials:  0\n",
      "  Number of complete trials:  40\n",
      "Best trial:\n",
      "  Value:  0.018218\n",
      "  Params: \n",
      "    dropout: 0.0\n",
      "    neurons0: 112\n",
      "    neurons1: 192\n",
      "    neurons2: 240\n",
      "    neurons3: 48\n",
      "    lr: 0.008587923524541945\n",
      "    weight_decay: 1.796322757538671e-05\n",
      "Fold: 0\n"
     ]
    },
    {
     "name": "stderr",
     "output_type": "stream",
     "text": [
      "100%|██████████| 1000/1000 [00:43<00:00, 23.19it/s]\n"
     ]
    },
    {
     "name": "stdout",
     "output_type": "stream",
     "text": [
      " Best Test Loss: 0.007294579409062862\n",
      "RMSE: 0.019633\n",
      "MAE: 0.015848\n",
      "Fold: 1\n"
     ]
    },
    {
     "name": "stderr",
     "output_type": "stream",
     "text": [
      "100%|██████████| 1000/1000 [00:42<00:00, 23.37it/s]\n"
     ]
    },
    {
     "name": "stdout",
     "output_type": "stream",
     "text": [
      " Best Test Loss: 0.006999020930379629\n",
      "RMSE: 0.02016\n",
      "MAE: 0.01608\n",
      "Fold: 2\n"
     ]
    },
    {
     "name": "stderr",
     "output_type": "stream",
     "text": [
      "100%|██████████| 1000/1000 [00:43<00:00, 23.21it/s]\n"
     ]
    },
    {
     "name": "stdout",
     "output_type": "stream",
     "text": [
      " Best Test Loss: 0.00715690478682518\n",
      "RMSE: 0.020106\n",
      "MAE: 0.016183\n",
      "Fold: 3\n"
     ]
    },
    {
     "name": "stderr",
     "output_type": "stream",
     "text": [
      "100%|██████████| 1000/1000 [00:42<00:00, 23.78it/s]\n"
     ]
    },
    {
     "name": "stdout",
     "output_type": "stream",
     "text": [
      " Best Test Loss: 0.007072282489389181\n",
      "RMSE: 0.019812\n",
      "MAE: 0.016088\n",
      "Fold: 4\n"
     ]
    },
    {
     "name": "stderr",
     "output_type": "stream",
     "text": [
      "100%|██████████| 1000/1000 [00:42<00:00, 23.81it/s]"
     ]
    },
    {
     "name": "stdout",
     "output_type": "stream",
     "text": [
      " Best Test Loss: 0.007211118470877409\n",
      "RMSE: 0.020181\n",
      "MAE: 0.016277\n",
      "[0.019633, 0.02016, 0.020106, 0.019812, 0.020181]\n",
      "Mean RMSE: 0.020 +/- 0.000\n"
     ]
    },
    {
     "name": "stderr",
     "output_type": "stream",
     "text": [
      "\n"
     ]
    },
    {
     "data": {
      "text/plain": [
       "[0.0199784, 0.0002134948387572869]"
      ]
     },
     "execution_count": 13,
     "metadata": {},
     "output_type": "execute_result"
    }
   ],
   "source": [
    "# Optimize model\n",
    "\n",
    "network_dict = {\n",
    "    \"network\": VariableANN,\n",
    "    \"kwargs\": {\"input_size\": 3},\n",
    "    \"optimize_kwargs\": {\n",
    "        \"dropout\": {\"name\": \"dropout\", \"low\": 0.0, \"high\": 0.5, \"step\": 0.05},\n",
    "        \"neurons\": {\"name\": \"neurons\", \"low\": 16, \"high\": 256, \"step\": 16, \"multi\": np.random.randint(3, 6)},\n",
    "    },\n",
    "}\n",
    "\n",
    "\n",
    "optimizer_dict = {\n",
    "    \"optimizer\": optim.Adam,\n",
    "    \"kwargs\": {},\n",
    "    \"optimize_kwargs\": {\n",
    "        \"lr\": {\"name\": \"lr\", \"low\": 1e-5, \"high\": 1e-1, \"log\": True},\n",
    "        \"weight_decay\": {\"name\": \"weight_decay\", \"low\": 1e-5, \"high\": 1e-3, \"log\": True},\n",
    "    },\n",
    "}\n",
    "\n",
    "best_network, best_optimizer = model.optimize_network(\n",
    "    trial_count, \"minimize\", network_dict, optimizer_dict, loss_fn, epochs\n",
    ")\n",
    "\n",
    "model.k_fold_training(\n",
    "    num_folds=5,\n",
    "    network_model=best_network,\n",
    "    optimizer=best_optimizer,\n",
    "    loss_function=loss_fn,\n",
    "    epochs=1000,\n",
    "    individual_feature_scaling=True,\n",
    "    batch_size=batch_size\n",
    ")\n",
    "\n",
    "# trained_net = model.train_model(\"Model1\", best_network, best_optimizer, loss_fn, 1000, plot_output=True)"
   ]
  },
  {
   "cell_type": "code",
   "execution_count": 15,
   "metadata": {},
   "outputs": [
    {
     "name": "stdout",
     "output_type": "stream",
     "text": [
      "RMSE: 0.014194\n",
      "MAE: 0.011154\n"
     ]
    },
    {
     "data": {
      "image/png": "[encoded data removed]",
      "text/plain": [
       "<Figure size 640x480 with 2 Axes>"
      ]
     },
     "metadata": {},
     "output_type": "display_data"
    }
   ],
   "source": [
    "test_rmse, _, test_predictions = model.validate_model(trained_net, \"test\")\n",
    "\n",
    "features = [x for x, _ in model.test_loaded]\n",
    "combined = torch.concat(features)\n",
    "l = [model.feature_scaler[0].inverse_transform(row[0].reshape(1, -1)) for row in combined]\n",
    "w = [model.feature_scaler[1].inverse_transform(row[1].reshape(1, -1)) for row in combined]\n",
    "\n",
    "T1_val = [row[0] for row in test_predictions]\n",
    "\n",
    "scatter = plt.scatter(l, w, c=T1_val)\n",
    "plt.xlabel(\"Length MMI\")\n",
    "plt.ylabel(\"Width MMI\")\n",
    "plt.colorbar(scatter)\n",
    "plt.show()"
   ]
  },
  {
   "cell_type": "markdown",
   "metadata": {},
   "source": [
    "## Optimizing with Predictions"
   ]
  },
  {
   "cell_type": "markdown",
   "metadata": {},
   "source": [
    "Create a single function `run_fn` that takes suggested values and makes a prediction of transmition. Take the mean predicted value as an arbitrary loss function"
   ]
  },
  {
   "cell_type": "code",
   "execution_count": 16,
   "metadata": {},
   "outputs": [],
   "source": [
    "def run_fn(L_MMI, W_MMI, freq):\n",
    "\n",
    "    \n",
    "    feature_array = np.array((L_MMI, W_MMI, freq))\n",
    "    feature_array = feature_array.reshape((1, -1))\n",
    "    prediction = model.make_prediction(trained_net, True, feature_array, 2)\n",
    "\n",
    "    # return prediction[0]\n",
    "    return -(abs(prediction[0] - 0.25)**2 + abs(prediction[1] - 0.25)**2)\n",
    "\n",
    "# def run_fn(L_MMI, W_MMI, freq):\n",
    "#     norm_freq = freq / freq0\n",
    "#     L_eff = L_MMI * norm_freq\n",
    "#     W_eff = W_MMI * norm_freq\n",
    "    \n",
    "#     feature_array = np.array((L_eff, W_eff))\n",
    "#     feature_array = feature_array.reshape((1, -1))\n",
    "#     prediction = model.make_prediction(trained_net, False, feature_array, 2)\n",
    "\n",
    "#     # return prediction[0]\n",
    "#     return -(abs(prediction[0] - 0.25)**2 + abs(prediction[1] - 0.25)**2)"
   ]
  },
  {
   "cell_type": "markdown",
   "metadata": {},
   "source": [
    "Use Bayesian optimization evaluating the AI model to determine the best width and length parameters."
   ]
  },
  {
   "cell_type": "code",
   "execution_count": 17,
   "metadata": {},
   "outputs": [],
   "source": [
    "method = tdd.MethodBayOpt(\n",
    "    initial_iter=500,\n",
    "    n_iter=100,\n",
    "    acq_func='ucb',\n",
    "    kappa=10,\n",
    "    xi=0.9,\n",
    "    seed=1,\n",
    ")\n",
    "\n",
    "# l_param = tdd.ParameterFloat(name=\"L_MMI\", span=(4, 24))\n",
    "# w_param = tdd.ParameterFloat(name=\"W_MMI\", span=(4.5, 16))\n",
    "# freq = tdd.ParameterFloat(name=\"freq\", span=(193414489032258.0, 193414489032258.0))\n",
    "# predict_parameters = [l_param, w_param, freq]\n",
    "predict_parameters = parameters + [tdd.ParameterFloat(name=\"freq\", span=(193414489032258.0, 193414489032258.0))]\n",
    "\n",
    "output_dir = \"/home/matt/Documents/Flexcompute/surrogate_data/mmi/data\"\n",
    "design_space = tdd.DesignSpace(\n",
    "    method=method,\n",
    "    parameters=predict_parameters,\n",
    "    task_name=\"mmi_predict_1\",\n",
    "    folder_name=\"MMIV1\",\n",
    "    path_dir=output_dir,\n",
    ")"
   ]
  },
  {
   "cell_type": "code",
   "execution_count": 18,
   "metadata": {},
   "outputs": [
    {
     "data": {
      "text/html": [
       "<pre style=\"white-space:pre;overflow-x:auto;line-height:normal;font-family:Menlo,'DejaVu Sans Mono',consolas,'Courier New',monospace\"><span style=\"color: #7fbfbf; text-decoration-color: #7fbfbf\">14:03:37 BST </span>Best Fit from Initial Solutions: <span style=\"color: #008080; text-decoration-color: #008080; font-weight: bold\">-0.0</span>                              \n",
       "<span style=\"color: #7fbfbf; text-decoration-color: #7fbfbf\">             </span>                                                                   \n",
       "</pre>\n"
      ],
      "text/plain": [
       "\u001b[2;36m14:03:37 BST\u001b[0m\u001b[2;36m \u001b[0mBest Fit from Initial Solutions: \u001b[1;36m-0.0\u001b[0m                              \n",
       "\u001b[2;36m             \u001b[0m                                                                   \n"
      ]
     },
     "metadata": {},
     "output_type": "display_data"
    },
    {
     "data": {
      "text/html": [
       "<pre style=\"white-space:pre;overflow-x:auto;line-height:normal;font-family:Menlo,'DejaVu Sans Mono',consolas,'Courier New',monospace\"><span style=\"color: #7fbfbf; text-decoration-color: #7fbfbf\">14:03:44 BST </span>Latest Best Fit on Iter <span style=\"color: #008080; text-decoration-color: #008080; font-weight: bold\">10</span>: <span style=\"color: #008080; text-decoration-color: #008080; font-weight: bold\">-0.0</span>                                   \n",
       "<span style=\"color: #7fbfbf; text-decoration-color: #7fbfbf\">             </span>                                                                   \n",
       "</pre>\n"
      ],
      "text/plain": [
       "\u001b[2;36m14:03:44 BST\u001b[0m\u001b[2;36m \u001b[0mLatest Best Fit on Iter \u001b[1;36m10\u001b[0m: \u001b[1;36m-0.0\u001b[0m                                   \n",
       "\u001b[2;36m             \u001b[0m                                                                   \n"
      ]
     },
     "metadata": {},
     "output_type": "display_data"
    },
    {
     "data": {
      "text/html": [
       "<pre style=\"white-space:pre;overflow-x:auto;line-height:normal;font-family:Menlo,'DejaVu Sans Mono',consolas,'Courier New',monospace\"><span style=\"color: #7fbfbf; text-decoration-color: #7fbfbf\">14:04:31 BST </span>Latest Best Fit on Iter <span style=\"color: #008080; text-decoration-color: #008080; font-weight: bold\">74</span>: <span style=\"color: #008080; text-decoration-color: #008080; font-weight: bold\">-0.0</span>                                   \n",
       "<span style=\"color: #7fbfbf; text-decoration-color: #7fbfbf\">             </span>                                                                   \n",
       "</pre>\n"
      ],
      "text/plain": [
       "\u001b[2;36m14:04:31 BST\u001b[0m\u001b[2;36m \u001b[0mLatest Best Fit on Iter \u001b[1;36m74\u001b[0m: \u001b[1;36m-0.0\u001b[0m                                   \n",
       "\u001b[2;36m             \u001b[0m                                                                   \n"
      ]
     },
     "metadata": {},
     "output_type": "display_data"
    },
    {
     "data": {
      "text/html": [
       "<pre style=\"white-space:pre;overflow-x:auto;line-height:normal;font-family:Menlo,'DejaVu Sans Mono',consolas,'Courier New',monospace\"><span style=\"color: #7fbfbf; text-decoration-color: #7fbfbf\">14:04:56 BST </span>Best Result: <span style=\"color: #008080; text-decoration-color: #008080; font-weight: bold\">-9.231250494012855e-06</span>                                \n",
       "<span style=\"color: #7fbfbf; text-decoration-color: #7fbfbf\">             </span>Best Parameters: L_MMI: <span style=\"color: #008080; text-decoration-color: #008080; font-weight: bold\">12.42416167298461</span> W_MMI: <span style=\"color: #008080; text-decoration-color: #008080; font-weight: bold\">5.019732777094195</span> \n",
       "<span style=\"color: #7fbfbf; text-decoration-color: #7fbfbf\">             </span>freq: <span style=\"color: #008080; text-decoration-color: #008080; font-weight: bold\">193414489032258.0</span>                                            \n",
       "<span style=\"color: #7fbfbf; text-decoration-color: #7fbfbf\">             </span>                                                                   \n",
       "</pre>\n"
      ],
      "text/plain": [
       "\u001b[2;36m14:04:56 BST\u001b[0m\u001b[2;36m \u001b[0mBest Result: \u001b[1;36m-9.231250494012855e-06\u001b[0m                                \n",
       "\u001b[2;36m             \u001b[0mBest Parameters: L_MMI: \u001b[1;36m12.42416167298461\u001b[0m W_MMI: \u001b[1;36m5.019732777094195\u001b[0m \n",
       "\u001b[2;36m             \u001b[0mfreq: \u001b[1;36m193414489032258.0\u001b[0m                                            \n",
       "\u001b[2;36m             \u001b[0m                                                                   \n"
      ]
     },
     "metadata": {},
     "output_type": "display_data"
    }
   ],
   "source": [
    "predict_results = design_space.run(run_fn, verbose=True)\n",
    "predict_df = predict_results.to_dataframe()"
   ]
  },
  {
   "cell_type": "code",
   "execution_count": 19,
   "metadata": {},
   "outputs": [
    {
     "name": "stdout",
     "output_type": "stream",
     "text": [
      "[0.24850480258464813, 0.24735507369041443]\n"
     ]
    }
   ],
   "source": [
    "def pred(L_MMI, W_MMI, freq):\n",
    "    \n",
    "    feature_array = np.array((L_MMI, W_MMI, freq))\n",
    "    feature_array = feature_array.reshape((1, -1))\n",
    "    prediction = model.make_prediction(trained_net, True, feature_array, 2)\n",
    "\n",
    "    return prediction\n",
    "\n",
    "a_prediction = pred(**predict_results.optimizer.max['params'])\n",
    "print(a_prediction)"
   ]
  },
  {
   "cell_type": "code",
   "execution_count": 20,
   "metadata": {},
   "outputs": [
    {
     "data": {
      "image/png": "[encoded data removed]",
      "text/plain": [
       "<Figure size 640x480 with 2 Axes>"
      ]
     },
     "metadata": {},
     "output_type": "display_data"
    }
   ],
   "source": [
    "predict_scatter = plt.scatter(predict_df[\"L_MMI\"], predict_df[\"W_MMI\"], c=predict_df[\"output\"], norm=norm)\n",
    "plt.xlabel(\"Length MMI\")\n",
    "plt.ylabel(\"Width MMI\")\n",
    "plt.colorbar(predict_scatter)\n",
    "plt.show()"
   ]
  },
  {
   "cell_type": "code",
   "execution_count": 21,
   "metadata": {},
   "outputs": [],
   "source": [
    "# sim = make_sim(L_MMI=predict_results.optimizer.max['params'][\"L_MMI\"], W_MMI=predict_results.optimizer.max['params'][\"W_MMI\"])\n",
    "# sim_data = web.run(sim, task_name=\"best_predicted\")\n",
    "\n",
    "import tidy3d.web as web\n",
    "import random\n",
    "\n",
    "sample_count = 20\n",
    "\n",
    "# Build a batch with the best result and a selection of other results\n",
    "sims = {\"best\": make_sim(L_MMI=predict_results.optimizer.max['params'][\"L_MMI\"], W_MMI=predict_results.optimizer.max['params'][\"W_MMI\"])}\n",
    "random_vals = random.sample(predict_results.optimizer.res, sample_count)\n",
    "for i in range(sample_count):\n",
    "    sims[i] = make_sim(L_MMI=random_vals[i][\"params\"][\"L_MMI\"], W_MMI=random_vals[i][\"params\"][\"W_MMI\"])\n",
    "\n",
    "sim_data = web.Batch(simulations=sims, verbose=False).run()"
   ]
  },
  {
   "cell_type": "code",
   "execution_count": 22,
   "metadata": {},
   "outputs": [
    {
     "data": {
      "text/html": [
       "<pre style=\"white-space:pre;overflow-x:auto;line-height:normal;font-family:Menlo,'DejaVu Sans Mono',consolas,'Courier New',monospace\"><span style=\"color: #7fbfbf; text-decoration-color: #7fbfbf\">14:09:37 BST </span><span style=\"color: #800000; text-decoration-color: #800000\">WARNING: Simulation final field decay value of </span><span style=\"color: #008080; text-decoration-color: #008080; font-weight: bold\">3.81e-05</span><span style=\"color: #800000; text-decoration-color: #800000\"> is greater </span>\n",
       "<span style=\"color: #7fbfbf; text-decoration-color: #7fbfbf\">             </span><span style=\"color: #800000; text-decoration-color: #800000\">than the simulation shutoff threshold of </span><span style=\"color: #008080; text-decoration-color: #008080; font-weight: bold\">1e-05</span><span style=\"color: #800000; text-decoration-color: #800000\">. Consider running   </span>\n",
       "<span style=\"color: #7fbfbf; text-decoration-color: #7fbfbf\">             </span><span style=\"color: #800000; text-decoration-color: #800000\">the simulation again with a larger </span><span style=\"color: #008000; text-decoration-color: #008000\">'run_time'</span><span style=\"color: #800000; text-decoration-color: #800000\"> duration for more    </span>\n",
       "<span style=\"color: #7fbfbf; text-decoration-color: #7fbfbf\">             </span><span style=\"color: #800000; text-decoration-color: #800000\">accurate results.                                                  </span>\n",
       "</pre>\n"
      ],
      "text/plain": [
       "\u001b[2;36m14:09:37 BST\u001b[0m\u001b[2;36m \u001b[0m\u001b[31mWARNING: Simulation final field decay value of \u001b[0m\u001b[1;36m3.81e-05\u001b[0m\u001b[31m is greater \u001b[0m\n",
       "\u001b[2;36m             \u001b[0m\u001b[31mthan the simulation shutoff threshold of \u001b[0m\u001b[1;36m1e-05\u001b[0m\u001b[31m. Consider running   \u001b[0m\n",
       "\u001b[2;36m             \u001b[0m\u001b[31mthe simulation again with a larger \u001b[0m\u001b[32m'run_time'\u001b[0m\u001b[31m duration for more    \u001b[0m\n",
       "\u001b[2;36m             \u001b[0m\u001b[31maccurate results.                                                  \u001b[0m\n"
      ]
     },
     "metadata": {},
     "output_type": "display_data"
    },
    {
     "data": {
      "text/html": [
       "<pre style=\"white-space:pre;overflow-x:auto;line-height:normal;font-family:Menlo,'DejaVu Sans Mono',consolas,'Courier New',monospace\"><span style=\"color: #7fbfbf; text-decoration-color: #7fbfbf\">             </span><span style=\"color: #800000; text-decoration-color: #800000\">WARNING: Simulation final field decay value of </span><span style=\"color: #008080; text-decoration-color: #008080; font-weight: bold\">1.91e-05</span><span style=\"color: #800000; text-decoration-color: #800000\"> is greater </span>\n",
       "<span style=\"color: #7fbfbf; text-decoration-color: #7fbfbf\">             </span><span style=\"color: #800000; text-decoration-color: #800000\">than the simulation shutoff threshold of </span><span style=\"color: #008080; text-decoration-color: #008080; font-weight: bold\">1e-05</span><span style=\"color: #800000; text-decoration-color: #800000\">. Consider running   </span>\n",
       "<span style=\"color: #7fbfbf; text-decoration-color: #7fbfbf\">             </span><span style=\"color: #800000; text-decoration-color: #800000\">the simulation again with a larger </span><span style=\"color: #008000; text-decoration-color: #008000\">'run_time'</span><span style=\"color: #800000; text-decoration-color: #800000\"> duration for more    </span>\n",
       "<span style=\"color: #7fbfbf; text-decoration-color: #7fbfbf\">             </span><span style=\"color: #800000; text-decoration-color: #800000\">accurate results.                                                  </span>\n",
       "</pre>\n"
      ],
      "text/plain": [
       "\u001b[2;36m            \u001b[0m\u001b[2;36m \u001b[0m\u001b[31mWARNING: Simulation final field decay value of \u001b[0m\u001b[1;36m1.91e-05\u001b[0m\u001b[31m is greater \u001b[0m\n",
       "\u001b[2;36m             \u001b[0m\u001b[31mthan the simulation shutoff threshold of \u001b[0m\u001b[1;36m1e-05\u001b[0m\u001b[31m. Consider running   \u001b[0m\n",
       "\u001b[2;36m             \u001b[0m\u001b[31mthe simulation again with a larger \u001b[0m\u001b[32m'run_time'\u001b[0m\u001b[31m duration for more    \u001b[0m\n",
       "\u001b[2;36m             \u001b[0m\u001b[31maccurate results.                                                  \u001b[0m\n"
      ]
     },
     "metadata": {},
     "output_type": "display_data"
    },
    {
     "name": "stdout",
     "output_type": "stream",
     "text": [
      "Mean Difference: 0.023804688453674318\n"
     ]
    }
   ],
   "source": [
    "difference = []\n",
    "for key, res in sim_data.items():\n",
    "    if key == \"5\":\n",
    "        continue\n",
    "    if key == \"best\":\n",
    "        params = predict_results.optimizer.max[\"params\"]\n",
    "    else:\n",
    "        params = random_vals[int(key)][\"params\"]\n",
    "    \n",
    "    prediction = pred(**params)\n",
    "\n",
    "    T_dict = fn_post(res)\n",
    "    t1_diff = abs(prediction[0] - float(T_dict['T1'][50]))\n",
    "    t2_diff = abs(prediction[1] - float(T_dict['T2'][50]))\n",
    "    difference.append(sum([t1_diff, t2_diff]))\n",
    "\n",
    "mean_diff = sum(difference) / len(difference)\n",
    "print(f\"Mean Difference: {mean_diff}\")"
   ]
  }
 ],
 "metadata": {
  "kernelspec": {
   "display_name": "tidy3d-dGIxMZW4-py3.10",
   "language": "python",
   "name": "python3"
  },
  "language_info": {
   "codemirror_mode": {
    "name": "ipython",
    "version": 3
   },
   "file_extension": ".py",
   "mimetype": "text/x-python",
   "name": "python",
   "nbconvert_exporter": "python",
   "pygments_lexer": "ipython3",
   "version": "3.10.12"
  }
 },
 "nbformat": 4,
 "nbformat_minor": 2
}
