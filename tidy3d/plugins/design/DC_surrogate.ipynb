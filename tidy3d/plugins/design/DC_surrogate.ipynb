{
 "cells": [
  {
   "cell_type": "markdown",
   "metadata": {},
   "source": [
    "# Directional Coupler Surrogate"
   ]
  },
  {
   "cell_type": "code",
   "execution_count": 1,
   "metadata": {},
   "outputs": [],
   "source": [
    "# standard python imports\n",
    "import numpy as np\n",
    "import matplotlib.pyplot as plt\n",
    "import os\n",
    "import gdstk\n",
    "\n",
    "# tidy3D imports\n",
    "import tidy3d as td\n",
    "from tidy3d import web\n",
    "import tidy3d.plugins.design as tdd"
   ]
  },
  {
   "cell_type": "code",
   "execution_count": 2,
   "metadata": {},
   "outputs": [],
   "source": [
    "# wavelength / frequency\n",
    "lambda0 = 1.550  # all length scales in microns\n",
    "freq0 = td.constants.C_0 / lambda0\n",
    "fwidth = freq0 / 10\n",
    "ldas = np.linspace(1.5, 1.6, 101)  # wavelength range\n",
    "freqs = td.C_0 / ldas  # frequency range\n",
    "\n",
    "# Permittivity of waveguide and substrate\n",
    "wg_n = 3.48\n",
    "sub_n = 1.45\n",
    "mat_wg = td.Medium(permittivity=wg_n**2)\n",
    "mat_sub = td.Medium(permittivity=sub_n**2)\n",
    "\n",
    "# Waveguide dimensions\n",
    "\n",
    "# Waveguide height\n",
    "wg_height = 0.22\n",
    "# Waveguide width\n",
    "wg_width = 0.45\n",
    "# Waveguide separation in the beginning/end\n",
    "wg_spacing_in = 8\n",
    "# Reference plane where the cross section of the device is defined\n",
    "reference_plane = \"bottom\"\n",
    "# Angle of the sidewall deviating from the vertical ones, positive values for the base larger than the top\n",
    "sidewall_angle = np.pi / 6\n",
    "# Total device length along propagation direction\n",
    "device_length = 100\n",
    "# Length of the bend region\n",
    "bend_length = 16\n",
    "# space between waveguide and PML\n",
    "pml_spacing = 1\n",
    "# resolution control: minimum number of grid cells per wavelength in each material\n",
    "grid_cells_per_wvl = 16\n"
   ]
  },
  {
   "cell_type": "code",
   "execution_count": 3,
   "metadata": {},
   "outputs": [],
   "source": [
    "def tanh_interp(max_arg):\n",
    "    \"\"\"Interpolator for tanh with adjustable extension\"\"\"\n",
    "    scale = 1 / np.tanh(max_arg)\n",
    "    return lambda u: 0.5 * (1 + scale * np.tanh(max_arg * (u * 2 - 1)))\n",
    "\n",
    "\n",
    "def make_coupler(\n",
    "    length,\n",
    "    wg_spacing_in,\n",
    "    wg_width,\n",
    "    wg_spacing_coup,\n",
    "    coup_length,\n",
    "    bend_length,\n",
    "):\n",
    "    \"\"\"Make an integrated coupler using the gdstk RobustPath object.\"\"\"\n",
    "    # bend interpolator\n",
    "    interp = tanh_interp(3)\n",
    "    delta = wg_width + wg_spacing_coup - wg_spacing_in\n",
    "    offset = lambda u: wg_spacing_in + interp(u) * delta\n",
    "\n",
    "    coup = gdstk.RobustPath(\n",
    "        (-0.5 * length, 0),\n",
    "        (wg_width, wg_width),\n",
    "        wg_spacing_in,\n",
    "        simple_path=True,\n",
    "        layer=1,\n",
    "        datatype=[0, 1],\n",
    "    )\n",
    "    coup.segment((-0.5 * coup_length - bend_length, 0))\n",
    "    coup.segment(\n",
    "        (-0.5 * coup_length, 0),\n",
    "        offset=[lambda u: -0.5 * offset(u), lambda u: 0.5 * offset(u)],\n",
    "    )\n",
    "    coup.segment((0.5 * coup_length, 0))\n",
    "    coup.segment(\n",
    "        (0.5 * coup_length + bend_length, 0),\n",
    "        offset=[lambda u: -0.5 * offset(1 - u), lambda u: 0.5 * offset(1 - u)],\n",
    "    )\n",
    "    coup.segment((0.5 * length, 0))\n",
    "    return coup"
   ]
  },
  {
   "cell_type": "code",
   "execution_count": 4,
   "metadata": {},
   "outputs": [],
   "source": [
    "def make_sim(coup_length, wg_spacing_coup, domain_field=False):\n",
    "    \"\"\"Make a simulation with a given length of the coupling region and\n",
    "    distance between the waveguides in that region. If ``domain_field``\n",
    "    is True, a 2D in-plane field monitor will be added.\n",
    "    \"\"\"\n",
    "\n",
    "    # Geometry must be placed in GDS cells to import into Tidy3D\n",
    "    coup_cell = gdstk.Cell(\"Coupler\")\n",
    "\n",
    "    substrate = gdstk.rectangle(\n",
    "        (-device_length / 2, -wg_spacing_in / 2 - 10),\n",
    "        (device_length / 2, wg_spacing_in / 2 + 10),\n",
    "        layer=0,\n",
    "    )\n",
    "    coup_cell.add(substrate)\n",
    "\n",
    "    # Add the coupler to a gdstk cell\n",
    "    gds_coup = make_coupler(\n",
    "        device_length,\n",
    "        wg_spacing_in,\n",
    "        wg_width,\n",
    "        wg_spacing_coup,\n",
    "        coup_length,\n",
    "        bend_length,\n",
    "    )\n",
    "    coup_cell.add(gds_coup)\n",
    "\n",
    "    # Substrate\n",
    "    (oxide_geo,) = td.PolySlab.from_gds(\n",
    "        gds_cell=coup_cell,\n",
    "        gds_layer=0,\n",
    "        gds_dtype=0,\n",
    "        slab_bounds=(-10, 0),\n",
    "        reference_plane=reference_plane,\n",
    "        axis=2,\n",
    "    )\n",
    "\n",
    "    oxide = td.Structure(geometry=oxide_geo, medium=mat_sub)\n",
    "\n",
    "    # Waveguides (import all datatypes if gds_dtype not specified)\n",
    "    coupler1_geo, coupler2_geo = td.PolySlab.from_gds(\n",
    "        gds_cell=coup_cell,\n",
    "        gds_layer=1,\n",
    "        slab_bounds=(0, wg_height),\n",
    "        sidewall_angle=sidewall_angle,\n",
    "        reference_plane=reference_plane,\n",
    "        axis=2,\n",
    "    )\n",
    "\n",
    "    coupler1 = td.Structure(geometry=coupler1_geo, medium=mat_wg)\n",
    "\n",
    "    coupler2 = td.Structure(geometry=coupler2_geo, medium=mat_wg)\n",
    "\n",
    "    # Simulation size along propagation direction\n",
    "    sim_length = 2 + 2 * bend_length + coup_length\n",
    "\n",
    "    # Spacing between waveguides and PML\n",
    "    sim_size = [\n",
    "        sim_length,\n",
    "        wg_spacing_in + wg_width + 2 * pml_spacing,\n",
    "        wg_height + 2 * pml_spacing,\n",
    "    ]\n",
    "\n",
    "    # source\n",
    "    src_pos = -sim_length / 2 + 0.5\n",
    "    msource = td.ModeSource(\n",
    "        center=[src_pos, wg_spacing_in / 2, wg_height / 2],\n",
    "        size=[0, 3, 2],\n",
    "        source_time=td.GaussianPulse(freq0=freq0, fwidth=fwidth),\n",
    "        direction=\"+\",\n",
    "        mode_spec=td.ModeSpec(),\n",
    "        mode_index=0,\n",
    "    )\n",
    "\n",
    "    mon_in = td.ModeMonitor(\n",
    "        center=[(src_pos + 0.5), wg_spacing_in / 2, wg_height / 2],\n",
    "        size=[0, 3, 2],\n",
    "        freqs=freqs,\n",
    "        mode_spec=td.ModeSpec(),\n",
    "        name=\"in\",\n",
    "    )\n",
    "    mon_ref_bot = td.ModeMonitor(\n",
    "        center=[(src_pos + 0.5), -wg_spacing_in / 2, wg_height / 2],\n",
    "        size=[0, 3, 2],\n",
    "        freqs=freqs,\n",
    "        mode_spec=td.ModeSpec(),\n",
    "        name=\"reflect_bottom\",\n",
    "    )\n",
    "    mon_top = td.ModeMonitor(\n",
    "        center=[-(src_pos + 0.5), wg_spacing_in / 2, wg_height / 2],\n",
    "        size=[0, 3, 2],\n",
    "        freqs=freqs,\n",
    "        mode_spec=td.ModeSpec(),\n",
    "        name=\"top\",\n",
    "    )\n",
    "    mon_bot = td.ModeMonitor(\n",
    "        center=[-(src_pos + 0.5), -wg_spacing_in / 2, wg_height / 2],\n",
    "        size=[0, 3, 2],\n",
    "        freqs=freqs,\n",
    "        mode_spec=td.ModeSpec(),\n",
    "        name=\"bottom\",\n",
    "    )\n",
    "    monitors = [mon_in, mon_ref_bot, mon_top, mon_bot]\n",
    "\n",
    "    if domain_field == True:\n",
    "        domain_monitor = td.FieldMonitor(\n",
    "            center=[0, 0, wg_height / 2],\n",
    "            size=[td.inf, td.inf, 0],\n",
    "            freqs=freqs,\n",
    "            name=\"field\",\n",
    "        )\n",
    "        monitors.append(domain_monitor)\n",
    "\n",
    "    # initialize the simulation\n",
    "    sim = td.Simulation(\n",
    "        size=sim_size,\n",
    "        grid_spec=td.GridSpec.auto(min_steps_per_wvl=grid_cells_per_wvl),\n",
    "        structures=[oxide, coupler1, coupler2],\n",
    "        sources=[msource],\n",
    "        monitors=monitors,\n",
    "        run_time=50 / fwidth,\n",
    "        boundary_spec=td.BoundarySpec.all_sides(boundary=td.PML()),\n",
    "    )\n",
    "\n",
    "    return sim"
   ]
  },
  {
   "cell_type": "code",
   "execution_count": 5,
   "metadata": {},
   "outputs": [
    {
     "data": {
      "image/png": "[encoded data removed]",
      "text/plain": [
       "<Figure size 1400x400 with 2 Axes>"
      ]
     },
     "metadata": {},
     "output_type": "display_data"
    }
   ],
   "source": [
    "# Length of the coupling region\n",
    "coup_length = 10\n",
    "\n",
    "# Waveguide separation in the coupling region\n",
    "wg_spacing_coup = 0.10\n",
    "\n",
    "sim = make_sim(coup_length, wg_spacing_coup, domain_field=True)\n",
    "\n",
    "# visualize geometry\n",
    "fig, (ax1, ax2) = plt.subplots(1, 2, figsize=(14, 4))\n",
    "sim.plot(z=wg_height / 2 + 0.01, ax=ax1)\n",
    "sim.plot(x=0.1, ax=ax2)\n",
    "ax2.set_xlim([-3, 3])\n",
    "plt.show()"
   ]
  },
  {
   "cell_type": "code",
   "execution_count": 5,
   "metadata": {},
   "outputs": [],
   "source": [
    "def measure_transmission(sim_data):\n",
    "    \"\"\"Constructs a \"row\" of the scattering matrix when sourced from top left port\"\"\"\n",
    "\n",
    "    input_amp = sim_data[\"in\"].amps.sel(direction=\"+\")\n",
    "\n",
    "    amps_dict = {}\n",
    "    directions = (\"-\", \"-\", \"+\", \"+\")\n",
    "    for i, (monitor, direction) in enumerate(\n",
    "        zip(sim_data.simulation.monitors[:4], directions)\n",
    "    ):\n",
    "        amp = sim_data[monitor.name].amps.sel(direction=direction)\n",
    "        amp_normalized = amp / input_amp\n",
    "        amps_dict[monitor.name] = amp_normalized \n",
    "\n",
    "    return amps_dict\n",
    "\n",
    "def fn_post(*args, **kwargs):\n",
    "    \"\"\"Post processing function, but label the outputs using a dictionary.\"\"\"\n",
    "    amps_dict = measure_transmission(*args, **kwargs)\n",
    "    return amps_dict"
   ]
  },
  {
   "cell_type": "code",
   "execution_count": 6,
   "metadata": {},
   "outputs": [],
   "source": [
    "param_spc = tdd.ParameterFloat(name=\"wg_spacing_coup\", span=(0.05, 0.25))\n",
    "param_len = tdd.ParameterFloat(name=\"coup_length\", span=(2, 16))\n",
    "parameters = [param_spc, param_len]\n",
    "\n",
    "monte_carlo=tdd.MethodMonteCarlo(\n",
    "    num_points=100,\n",
    "    seed=2,\n",
    ")\n",
    "\n",
    "design_space = tdd.DesignSpace(method=monte_carlo, parameters=parameters, task_name=\"DC_MC_Surrogate\", path_dir=\"/home/matt/Documents/Flexcompute/dc/data\")"
   ]
  },
  {
   "cell_type": "code",
   "execution_count": 7,
   "metadata": {},
   "outputs": [
    {
     "data": {
      "text/html": [
       "<pre style=\"white-space:pre;overflow-x:auto;line-height:normal;font-family:Menlo,'DejaVu Sans Mono',consolas,'Courier New',monospace\"><span style=\"color: #7fbfbf; text-decoration-color: #7fbfbf\">15:39:59 BST </span>Running <span style=\"color: #008080; text-decoration-color: #008080; font-weight: bold\">100</span> Simulations                                            \n",
       "</pre>\n"
      ],
      "text/plain": [
       "\u001b[2;36m15:39:59 BST\u001b[0m\u001b[2;36m \u001b[0mRunning \u001b[1;36m100\u001b[0m Simulations                                            \n"
      ]
     },
     "metadata": {},
     "output_type": "display_data"
    }
   ],
   "source": [
    "# Run the MC\n",
    "results = design_space.run(make_sim, fn_post, verbose=True)\n",
    "df = results.to_dataframe()"
   ]
  },
  {
   "cell_type": "code",
   "execution_count": 8,
   "metadata": {},
   "outputs": [],
   "source": [
    "# TESTING: Save off the df or load the df\n",
    "import pickle\n",
    "import os\n",
    "os.chdir(\"/home/matt/Documents/Flexcompute/dc/data\")\n",
    "# with open(\"result_100.pkl\", \"wb\") as out_file:\n",
    "#     pickle.dump(results, out_file)\n",
    "\n",
    "\n",
    "with open(\"result_100.pkl\", \"rb\") as in_file:\n",
    "    results = pickle.load(in_file)\n",
    "\n",
    "df = results.to_dataframe()"
   ]
  },
  {
   "cell_type": "code",
   "execution_count": 22,
   "metadata": {},
   "outputs": [
    {
     "data": {
      "text/plain": [
       "<Axes: xlabel='coup_length', ylabel='wg_spacing_coup'>"
      ]
     },
     "execution_count": 22,
     "metadata": {},
     "output_type": "execute_result"
    },
    {
     "data": {
      "image/png": "[encoded data removed]",
      "text/plain": [
       "<Figure size 640x480 with 1 Axes>"
      ]
     },
     "metadata": {},
     "output_type": "display_data"
    }
   ],
   "source": [
    "import matplotlib.colors as mcolors\n",
    "df.plot.scatter(\"coup_length\", \"wg_spacing_coup\")\n",
    "\n",
    "# top_cent = df[\"top\"].apply(lambda x: x.sel(f=freq0, method=\"nearest\"))\n",
    "# bot_cent = df[\"bottom\"].apply(lambda x: x.sel(f=freq0, method=\"nearest\"))\n",
    "\n",
    "# fitness_val = -(abs(top_cent - 0.25)**2 + abs(bot_cent - 0.75)**2)\n",
    "# list_fit = [float(val.data) for val in fitness_val]\n",
    "\n",
    "# norm = mcolors.Normalize(vmin=0, vmax=-1)\n",
    "\n",
    "# scatter = plt.scatter(df[\"coup_length\"], df[\"wg_spacing_coup\"], c=list_fit, norm=norm)\n",
    "# plt.xlabel(\"coup_length\")\n",
    "# plt.ylabel(\"wg_spacing_coup\")\n",
    "# plt.colorbar(scatter)\n",
    "# plt.show()"
   ]
  },
  {
   "cell_type": "markdown",
   "metadata": {},
   "source": [
    "## Surrogate"
   ]
  },
  {
   "cell_type": "code",
   "execution_count": 9,
   "metadata": {},
   "outputs": [],
   "source": [
    "expanded_df = df.copy()\n",
    "expanded_df.drop(\"in\", axis=1, inplace=True)\n",
    "expanded_df.drop(\"reflect_bottom\", axis=1, inplace=True)\n",
    "expanded_df = expanded_df.explode([\"top\", \"bottom\"]).reset_index(drop=True)\n",
    "expanded_df[\"freq\"] = expanded_df[\"top\"].apply(lambda x: float(x.f))\n",
    "\n",
    "expanded_df[\"top\"] = expanded_df[\"top\"].apply(lambda x: float(abs(x)**2))\n",
    "expanded_df[\"bottom\"] = expanded_df[\"bottom\"].apply(lambda x: float(abs(x)**2))\n"
   ]
  },
  {
   "cell_type": "code",
   "execution_count": 31,
   "metadata": {},
   "outputs": [
    {
     "name": "stdout",
     "output_type": "stream",
     "text": [
      "Using existing directory at pickle_data\n",
      "Using existing directory at models\n",
      "Using device cuda:0\n"
     ]
    }
   ],
   "source": [
    "import torch\n",
    "import torch.nn as nn\n",
    "import torch.optim as optim\n",
    "\n",
    "from tidy3d.plugins.design.surrogate_object import AI_Model\n",
    "\n",
    "# Constants\n",
    "output_dir = \"/home/matt/Documents/Flexcompute/dc\"\n",
    "data_dir = [\"/home/matt/Documents/Flexcompute/dc/data/\"]\n",
    "\n",
    "test_percentage = 0.20\n",
    "valid_percentage = 0.20\n",
    "batch_size = 64\n",
    "epochs = 200\n",
    "\n",
    "trial_count = 50\n",
    "\n",
    "model = AI_Model(output_dir, data_dir, seed=1)\n",
    "\n",
    "model.load_data_from_df(\n",
    "    df=expanded_df,\n",
    "    label_names=[\"top\", \"bottom\"],\n",
    "    feature_names=[\"wg_spacing_coup\", \"coup_length\", \"freq\"],\n",
    "    test_percentage=test_percentage,\n",
    "    valid_percentage=valid_percentage,\n",
    "    batch_size=batch_size,\n",
    "    individual_feature_scaling=True\n",
    ")\n",
    "\n",
    "loss_fn = nn.MSELoss()"
   ]
  },
  {
   "cell_type": "code",
   "execution_count": 23,
   "metadata": {},
   "outputs": [],
   "source": [
    "# Define the model in PyTorch\n",
    "class VariableANN(nn.Module):\n",
    "    def __init__(self, input_size, neurons, dropout) -> None:\n",
    "        super().__init__()\n",
    "        self.layers = nn.ModuleList()\n",
    "        self.layers.append(nn.Linear(input_size, neurons[0]))\n",
    "\n",
    "        for i in range(1, len(neurons)):\n",
    "            self.layers.append(nn.Linear(neurons[i - 1], neurons[i]))\n",
    "\n",
    "        self.layers.append(nn.Linear(neurons[-1], 2))\n",
    "\n",
    "        self.drop = nn.Dropout(dropout)\n",
    "        self.relu = nn.ReLU()\n",
    "\n",
    "    def forward(self, x):\n",
    "        for layer in self.layers[:-1]:\n",
    "            x = self.drop(self.relu(layer(x)))\n",
    "\n",
    "        x = self.layers[-1](x)\n",
    "\n",
    "        return x"
   ]
  },
  {
   "cell_type": "code",
   "execution_count": 30,
   "metadata": {},
   "outputs": [
    {
     "name": "stdout",
     "output_type": "stream",
     "text": [
      "Using existing directory at Model1\n"
     ]
    },
    {
     "name": "stderr",
     "output_type": "stream",
     "text": [
      "  2%|▏         | 2/100 [00:00<00:08, 11.68it/s]"
     ]
    },
    {
     "name": "stdout",
     "output_type": "stream",
     "text": [
      "Best State Updated. Epoch: 0\n",
      "Best State Updated. Epoch: 1\n",
      "Best State Updated. Epoch: 2\n"
     ]
    },
    {
     "name": "stderr",
     "output_type": "stream",
     "text": [
      "  4%|▍         | 4/100 [00:00<00:08, 10.99it/s]"
     ]
    },
    {
     "name": "stdout",
     "output_type": "stream",
     "text": [
      "Best State Updated. Epoch: 3\n",
      "Best State Updated. Epoch: 4\n"
     ]
    },
    {
     "name": "stderr",
     "output_type": "stream",
     "text": [
      "  6%|▌         | 6/100 [00:00<00:08, 11.71it/s]"
     ]
    },
    {
     "name": "stdout",
     "output_type": "stream",
     "text": [
      "Best State Updated. Epoch: 5\n"
     ]
    },
    {
     "name": "stderr",
     "output_type": "stream",
     "text": [
      "  8%|▊         | 8/100 [00:00<00:07, 12.03it/s]"
     ]
    },
    {
     "name": "stdout",
     "output_type": "stream",
     "text": [
      "Best State Updated. Epoch: 6\n",
      "Best State Updated. Epoch: 7\n",
      "Best State Updated. Epoch: 8\n"
     ]
    },
    {
     "name": "stderr",
     "output_type": "stream",
     "text": [
      " 10%|█         | 10/100 [00:00<00:07, 11.44it/s]"
     ]
    },
    {
     "name": "stdout",
     "output_type": "stream",
     "text": [
      "Best State Updated. Epoch: 9\n",
      "Best State Updated. Epoch: 10\n"
     ]
    },
    {
     "name": "stderr",
     "output_type": "stream",
     "text": [
      " 12%|█▏        | 12/100 [00:01<00:07, 11.77it/s]"
     ]
    },
    {
     "name": "stdout",
     "output_type": "stream",
     "text": [
      "Best State Updated. Epoch: 11\n",
      "Best State Updated. Epoch: 12\n"
     ]
    },
    {
     "name": "stderr",
     "output_type": "stream",
     "text": [
      " 14%|█▍        | 14/100 [00:01<00:08, 10.70it/s]"
     ]
    },
    {
     "name": "stdout",
     "output_type": "stream",
     "text": [
      "Best State Updated. Epoch: 13\n",
      "Best State Updated. Epoch: 14\n"
     ]
    },
    {
     "name": "stderr",
     "output_type": "stream",
     "text": [
      " 16%|█▌        | 16/100 [00:01<00:07, 11.27it/s]"
     ]
    },
    {
     "name": "stdout",
     "output_type": "stream",
     "text": [
      "Best State Updated. Epoch: 15\n"
     ]
    },
    {
     "name": "stderr",
     "output_type": "stream",
     "text": [
      " 18%|█▊        | 18/100 [00:01<00:07, 11.26it/s]"
     ]
    },
    {
     "name": "stdout",
     "output_type": "stream",
     "text": [
      "Best State Updated. Epoch: 16\n",
      "Best State Updated. Epoch: 17\n",
      "Best State Updated. Epoch: 18\n"
     ]
    },
    {
     "name": "stderr",
     "output_type": "stream",
     "text": [
      " 20%|██        | 20/100 [00:01<00:07, 11.15it/s]"
     ]
    },
    {
     "name": "stdout",
     "output_type": "stream",
     "text": [
      "Best State Updated. Epoch: 19\n",
      "Best State Updated. Epoch: 20\n"
     ]
    },
    {
     "name": "stderr",
     "output_type": "stream",
     "text": [
      " 22%|██▏       | 22/100 [00:01<00:07, 11.05it/s]"
     ]
    },
    {
     "name": "stdout",
     "output_type": "stream",
     "text": [
      "Best State Updated. Epoch: 21\n"
     ]
    },
    {
     "name": "stderr",
     "output_type": "stream",
     "text": [
      " 24%|██▍       | 24/100 [00:02<00:06, 11.14it/s]"
     ]
    },
    {
     "name": "stdout",
     "output_type": "stream",
     "text": [
      "Best State Updated. Epoch: 22\n",
      "Best State Updated. Epoch: 23\n",
      "Best State Updated. Epoch: 24\n"
     ]
    },
    {
     "name": "stderr",
     "output_type": "stream",
     "text": [
      " 26%|██▌       | 26/100 [00:02<00:06, 11.60it/s]"
     ]
    },
    {
     "name": "stdout",
     "output_type": "stream",
     "text": [
      "Best State Updated. Epoch: 25\n",
      "Best State Updated. Epoch: 26\n"
     ]
    },
    {
     "name": "stderr",
     "output_type": "stream",
     "text": [
      " 28%|██▊       | 28/100 [00:02<00:06, 11.85it/s]"
     ]
    },
    {
     "name": "stdout",
     "output_type": "stream",
     "text": [
      "Best State Updated. Epoch: 27\n",
      "Best State Updated. Epoch: 28\n"
     ]
    },
    {
     "name": "stderr",
     "output_type": "stream",
     "text": [
      " 30%|███       | 30/100 [00:02<00:06, 10.78it/s]"
     ]
    },
    {
     "name": "stdout",
     "output_type": "stream",
     "text": [
      "Best State Updated. Epoch: 29\n",
      "Best State Updated. Epoch: 30\n"
     ]
    },
    {
     "name": "stderr",
     "output_type": "stream",
     "text": [
      " 32%|███▏      | 32/100 [00:02<00:06, 11.25it/s]"
     ]
    },
    {
     "name": "stdout",
     "output_type": "stream",
     "text": [
      "Best State Updated. Epoch: 31\n"
     ]
    },
    {
     "name": "stderr",
     "output_type": "stream",
     "text": [
      " 34%|███▍      | 34/100 [00:02<00:05, 11.64it/s]"
     ]
    },
    {
     "name": "stdout",
     "output_type": "stream",
     "text": [
      "Best State Updated. Epoch: 32\n",
      "Best State Updated. Epoch: 33\n",
      "Best State Updated. Epoch: 34\n"
     ]
    },
    {
     "name": "stderr",
     "output_type": "stream",
     "text": [
      " 40%|████      | 40/100 [00:03<00:05, 11.89it/s]"
     ]
    },
    {
     "name": "stdout",
     "output_type": "stream",
     "text": [
      "Best State Updated. Epoch: 37\n",
      "Best State Updated. Epoch: 38\n"
     ]
    },
    {
     "name": "stderr",
     "output_type": "stream",
     "text": [
      " 42%|████▏     | 42/100 [00:03<00:04, 11.69it/s]"
     ]
    },
    {
     "name": "stdout",
     "output_type": "stream",
     "text": [
      "Best State Updated. Epoch: 40\n",
      "Best State Updated. Epoch: 42\n"
     ]
    },
    {
     "name": "stderr",
     "output_type": "stream",
     "text": [
      " 48%|████▊     | 48/100 [00:04<00:04, 12.21it/s]"
     ]
    },
    {
     "name": "stdout",
     "output_type": "stream",
     "text": [
      "Best State Updated. Epoch: 45\n"
     ]
    },
    {
     "name": "stderr",
     "output_type": "stream",
     "text": [
      " 50%|█████     | 50/100 [00:04<00:04, 11.44it/s]"
     ]
    },
    {
     "name": "stdout",
     "output_type": "stream",
     "text": [
      "Best State Updated. Epoch: 48\n",
      "Best State Updated. Epoch: 50\n"
     ]
    },
    {
     "name": "stderr",
     "output_type": "stream",
     "text": [
      " 54%|█████▍    | 54/100 [00:04<00:03, 12.09it/s]"
     ]
    },
    {
     "name": "stdout",
     "output_type": "stream",
     "text": [
      "Best State Updated. Epoch: 51\n"
     ]
    },
    {
     "name": "stderr",
     "output_type": "stream",
     "text": [
      " 58%|█████▊    | 58/100 [00:05<00:03, 12.17it/s]"
     ]
    },
    {
     "name": "stdout",
     "output_type": "stream",
     "text": [
      "Best State Updated. Epoch: 55\n"
     ]
    },
    {
     "name": "stderr",
     "output_type": "stream",
     "text": [
      " 62%|██████▏   | 62/100 [00:05<00:03, 12.55it/s]"
     ]
    },
    {
     "name": "stdout",
     "output_type": "stream",
     "text": [
      "Best State Updated. Epoch: 59\n",
      "Best State Updated. Epoch: 61\n"
     ]
    },
    {
     "name": "stderr",
     "output_type": "stream",
     "text": [
      " 66%|██████▌   | 66/100 [00:05<00:02, 11.82it/s]"
     ]
    },
    {
     "name": "stdout",
     "output_type": "stream",
     "text": [
      "Best State Updated. Epoch: 63\n"
     ]
    },
    {
     "name": "stderr",
     "output_type": "stream",
     "text": [
      " 70%|███████   | 70/100 [00:05<00:02, 12.10it/s]"
     ]
    },
    {
     "name": "stdout",
     "output_type": "stream",
     "text": [
      "Best State Updated. Epoch: 67\n",
      "Best State Updated. Epoch: 69\n"
     ]
    },
    {
     "name": "stderr",
     "output_type": "stream",
     "text": [
      " 90%|█████████ | 90/100 [00:07<00:00, 12.78it/s]"
     ]
    },
    {
     "name": "stdout",
     "output_type": "stream",
     "text": [
      "Best State Updated. Epoch: 88\n"
     ]
    },
    {
     "name": "stderr",
     "output_type": "stream",
     "text": [
      " 96%|█████████▌| 96/100 [00:08<00:00, 12.54it/s]"
     ]
    },
    {
     "name": "stdout",
     "output_type": "stream",
     "text": [
      "Best State Updated. Epoch: 94\n"
     ]
    },
    {
     "name": "stderr",
     "output_type": "stream",
     "text": [
      "100%|██████████| 100/100 [00:08<00:00, 12.33it/s]"
     ]
    },
    {
     "name": "stdout",
     "output_type": "stream",
     "text": [
      "Best State Updated. Epoch: 97\n"
     ]
    },
    {
     "data": {
      "image/png": "[encoded data removed]",
      "text/plain": [
       "<Figure size 640x480 with 2 Axes>"
      ]
     },
     "metadata": {},
     "output_type": "display_data"
    },
    {
     "name": "stderr",
     "output_type": "stream",
     "text": [
      "100%|██████████| 100/100 [00:08<00:00, 11.80it/s]"
     ]
    },
    {
     "name": "stdout",
     "output_type": "stream",
     "text": [
      " Best Test Loss: 0.3617747128009796\n",
      "RMSE: 0.105652\n",
      "MAE: 0.067852\n"
     ]
    },
    {
     "name": "stderr",
     "output_type": "stream",
     "text": [
      "\n"
     ]
    }
   ],
   "source": [
    "# Create single model\n",
    "network = VariableANN(3, [16, 16, 16], 0.2)\n",
    "opt = optim.Adam(network.parameters(), lr=0.001, weight_decay=0.0001)\n",
    "\n",
    "trained_net = model.train_model(\"Model1\", network, opt, loss_fn, epochs, plot_output=True)\n",
    "test_rmse, _, test_predictions = model.validate_model(trained_net, \"test\")"
   ]
  },
  {
   "cell_type": "code",
   "execution_count": 32,
   "metadata": {},
   "outputs": [
    {
     "name": "stderr",
     "output_type": "stream",
     "text": [
      "[I 2024-08-22 16:22:04,151] A new study created in memory with name: no-name-f006a447-2db8-4640-a786-cac7c6932f59\n"
     ]
    },
    {
     "name": "stdout",
     "output_type": "stream",
     "text": [
      "Making temp model folder\n",
      "Using existing directory at temp\n"
     ]
    },
    {
     "name": "stderr",
     "output_type": "stream",
     "text": [
      "100%|██████████| 200/200 [00:17<00:00, 11.19it/s]\n",
      "[I 2024-08-22 16:22:22,042] Trial 0 finished with value: 0.112794 and parameters: {'dropout': 0.2, 'neurons0': 192, 'neurons1': 16, 'neurons2': 80, 'neurons3': 48, 'lr': 2.3407464805767515e-05, 'weight_decay': 2.3578730726467393e-05}. Best is trial 0 with value: 0.112794.\n"
     ]
    },
    {
     "name": "stdout",
     "output_type": "stream",
     "text": [
      " Best Test Loss: 0.41268548369407654\n",
      "RMSE: 0.112794\n",
      "MAE: 0.074627\n",
      "Making temp model folder\n",
      "Using existing directory at temp\n"
     ]
    },
    {
     "name": "stderr",
     "output_type": "stream",
     "text": [
      "100%|██████████| 200/200 [00:17<00:00, 11.22it/s]\n",
      "[I 2024-08-22 16:22:39,886] Trial 1 finished with value: 0.042642 and parameters: {'dropout': 0.15000000000000002, 'neurons0': 112, 'neurons1': 144, 'neurons2': 112, 'neurons3': 176, 'lr': 6.573686655138327e-05, 'weight_decay': 0.0005704727088203682}. Best is trial 1 with value: 0.042642.\n"
     ]
    },
    {
     "name": "stdout",
     "output_type": "stream",
     "text": [
      " Best Test Loss: 0.05898109823465347\n",
      "RMSE: 0.042642\n",
      "MAE: 0.025337\n",
      "Making temp model folder\n",
      "Using existing directory at temp\n"
     ]
    },
    {
     "name": "stderr",
     "output_type": "stream",
     "text": [
      "100%|██████████| 200/200 [00:16<00:00, 11.91it/s]\n",
      "[I 2024-08-22 16:22:56,694] Trial 2 finished with value: 0.026411 and parameters: {'dropout': 0.0, 'neurons0': 176, 'neurons1': 112, 'neurons2': 144, 'neurons3': 48, 'lr': 6.200203677164716e-05, 'weight_decay': 0.00039947456945609163}. Best is trial 2 with value: 0.026411.\n"
     ]
    },
    {
     "name": "stdout",
     "output_type": "stream",
     "text": [
      " Best Test Loss: 0.022605016827583313\n",
      "RMSE: 0.026411\n",
      "MAE: 0.012297\n",
      "Making temp model folder\n",
      "Using existing directory at temp\n"
     ]
    },
    {
     "name": "stderr",
     "output_type": "stream",
     "text": [
      "100%|██████████| 200/200 [00:17<00:00, 11.30it/s]\n",
      "[I 2024-08-22 16:23:14,411] Trial 3 finished with value: 0.161378 and parameters: {'dropout': 0.5, 'neurons0': 96, 'neurons1': 192, 'neurons2': 240, 'neurons3': 240, 'lr': 2.1886526657465428e-05, 'weight_decay': 1.197042490409919e-05}. Best is trial 2 with value: 0.026411.\n"
     ]
    },
    {
     "name": "stdout",
     "output_type": "stream",
     "text": [
      " Best Test Loss: 0.8475991487503052\n",
      "RMSE: 0.161378\n",
      "MAE: 0.131121\n",
      "Making temp model folder\n",
      "Using existing directory at temp\n"
     ]
    },
    {
     "name": "stderr",
     "output_type": "stream",
     "text": [
      "100%|██████████| 200/200 [00:16<00:00, 11.80it/s]\n",
      "[I 2024-08-22 16:23:31,370] Trial 4 finished with value: 0.032214 and parameters: {'dropout': 0.05, 'neurons0': 240, 'neurons1': 32, 'neurons2': 112, 'neurons3': 256, 'lr': 0.0013572540301313666, 'weight_decay': 0.00024196593469527324}. Best is trial 2 with value: 0.026411.\n"
     ]
    },
    {
     "name": "stdout",
     "output_type": "stream",
     "text": [
      " Best Test Loss: 0.03369837999343872\n",
      "RMSE: 0.032214\n",
      "MAE: 0.020061\n",
      "Making temp model folder\n",
      "Using existing directory at temp\n"
     ]
    },
    {
     "name": "stderr",
     "output_type": "stream",
     "text": [
      "100%|██████████| 200/200 [00:16<00:00, 11.85it/s]\n",
      "[I 2024-08-22 16:23:48,258] Trial 5 finished with value: 0.339617 and parameters: {'dropout': 0.15000000000000002, 'neurons0': 176, 'neurons1': 224, 'neurons2': 16, 'neurons3': 208, 'lr': 0.0902494067192741, 'weight_decay': 0.0003135676915341995}. Best is trial 2 with value: 0.026411.\n"
     ]
    },
    {
     "name": "stdout",
     "output_type": "stream",
     "text": [
      " Best Test Loss: 3.772806406021118\n",
      "RMSE: 0.339617\n",
      "MAE: 0.302678\n",
      "Making temp model folder\n",
      "Using existing directory at temp\n"
     ]
    },
    {
     "name": "stderr",
     "output_type": "stream",
     "text": [
      "100%|██████████| 200/200 [00:16<00:00, 11.82it/s]\n",
      "[I 2024-08-22 16:24:05,195] Trial 6 finished with value: 0.0444 and parameters: {'dropout': 0.15000000000000002, 'neurons0': 208, 'neurons1': 32, 'neurons2': 128, 'neurons3': 240, 'lr': 0.0001494364677378836, 'weight_decay': 3.763142612534587e-05}. Best is trial 2 with value: 0.026411.\n"
     ]
    },
    {
     "name": "stdout",
     "output_type": "stream",
     "text": [
      " Best Test Loss: 0.06404069811105728\n",
      "RMSE: 0.0444\n",
      "MAE: 0.034246\n",
      "Making temp model folder\n",
      "Using existing directory at temp\n"
     ]
    },
    {
     "name": "stderr",
     "output_type": "stream",
     "text": [
      "100%|██████████| 200/200 [00:17<00:00, 11.67it/s]\n",
      "[I 2024-08-22 16:24:22,349] Trial 7 finished with value: 0.038942 and parameters: {'dropout': 0.05, 'neurons0': 16, 'neurons1': 176, 'neurons2': 64, 'neurons3': 80, 'lr': 0.0009253214657642581, 'weight_decay': 1.2785717080546074e-05}. Best is trial 2 with value: 0.026411.\n"
     ]
    },
    {
     "name": "stdout",
     "output_type": "stream",
     "text": [
      " Best Test Loss: 0.04928644746541977\n",
      "RMSE: 0.038942\n",
      "MAE: 0.027891\n",
      "Making temp model folder\n",
      "Using existing directory at temp\n"
     ]
    },
    {
     "name": "stderr",
     "output_type": "stream",
     "text": [
      "100%|██████████| 200/200 [00:17<00:00, 11.74it/s]\n",
      "[I 2024-08-22 16:24:39,399] Trial 8 finished with value: 0.070855 and parameters: {'dropout': 0.30000000000000004, 'neurons0': 48, 'neurons1': 160, 'neurons2': 192, 'neurons3': 32, 'lr': 0.00045313118440918, 'weight_decay': 0.0002447937444286876}. Best is trial 2 with value: 0.026411.\n"
     ]
    },
    {
     "name": "stdout",
     "output_type": "stream",
     "text": [
      " Best Test Loss: 0.16307993233203888\n",
      "RMSE: 0.070855\n",
      "MAE: 0.051901\n",
      "Making temp model folder\n",
      "Using existing directory at temp\n"
     ]
    },
    {
     "name": "stderr",
     "output_type": "stream",
     "text": [
      "100%|██████████| 200/200 [00:17<00:00, 11.68it/s]\n",
      "[I 2024-08-22 16:24:56,529] Trial 9 finished with value: 0.177512 and parameters: {'dropout': 0.2, 'neurons0': 16, 'neurons1': 144, 'neurons2': 176, 'neurons3': 144, 'lr': 0.06003147633638411, 'weight_decay': 0.00014897386352200276}. Best is trial 2 with value: 0.026411.\n"
     ]
    },
    {
     "name": "stdout",
     "output_type": "stream",
     "text": [
      " Best Test Loss: 1.0276376008987427\n",
      "RMSE: 0.177512\n",
      "MAE: 0.1506\n",
      "Making temp model folder\n",
      "Using existing directory at temp\n"
     ]
    },
    {
     "name": "stderr",
     "output_type": "stream",
     "text": [
      "100%|██████████| 200/200 [00:17<00:00, 11.51it/s]\n",
      "[I 2024-08-22 16:25:13,930] Trial 10 finished with value: 0.060673 and parameters: {'dropout': 0.35000000000000003, 'neurons0': 144, 'neurons1': 80, 'neurons2': 256, 'neurons3': 96, 'lr': 0.004852851779481773, 'weight_decay': 6.166353164027709e-05}. Best is trial 2 with value: 0.026411.\n"
     ]
    },
    {
     "name": "stdout",
     "output_type": "stream",
     "text": [
      " Best Test Loss: 0.12000714242458344\n",
      "RMSE: 0.060673\n",
      "MAE: 0.045499\n",
      "Making temp model folder\n",
      "Using existing directory at temp\n"
     ]
    },
    {
     "name": "stderr",
     "output_type": "stream",
     "text": [
      "100%|██████████| 200/200 [00:15<00:00, 12.55it/s]\n",
      "[I 2024-08-22 16:25:29,888] Trial 11 finished with value: 0.037099 and parameters: {'dropout': 0.0, 'neurons0': 240, 'neurons1': 80, 'neurons2': 176, 'neurons3': 128, 'lr': 0.004893529423944132, 'weight_decay': 0.0009570434832691174}. Best is trial 2 with value: 0.026411.\n"
     ]
    },
    {
     "name": "stdout",
     "output_type": "stream",
     "text": [
      " Best Test Loss: 0.04480568692088127\n",
      "RMSE: 0.037099\n",
      "MAE: 0.021487\n",
      "Making temp model folder\n",
      "Using existing directory at temp\n"
     ]
    },
    {
     "name": "stderr",
     "output_type": "stream",
     "text": [
      "100%|██████████| 200/200 [00:15<00:00, 12.67it/s]\n",
      "[I 2024-08-22 16:25:45,696] Trial 12 finished with value: 0.021995 and parameters: {'dropout': 0.0, 'neurons0': 256, 'neurons1': 80, 'neurons2': 80, 'neurons3': 16, 'lr': 0.004650061166464784, 'weight_decay': 0.00012356611113195884}. Best is trial 12 with value: 0.021995.\n"
     ]
    },
    {
     "name": "stdout",
     "output_type": "stream",
     "text": [
      " Best Test Loss: 0.015630818903446198\n",
      "RMSE: 0.021995\n",
      "MAE: 0.012549\n",
      "Making temp model folder\n",
      "Using existing directory at temp\n"
     ]
    },
    {
     "name": "stderr",
     "output_type": "stream",
     "text": [
      "100%|██████████| 200/200 [00:15<00:00, 12.72it/s]\n",
      "[I 2024-08-22 16:26:01,441] Trial 13 finished with value: 0.018268 and parameters: {'dropout': 0.0, 'neurons0': 256, 'neurons1': 80, 'neurons2': 48, 'neurons3': 16, 'lr': 0.012280238476692185, 'weight_decay': 0.00010759103285445899}. Best is trial 13 with value: 0.018268.\n"
     ]
    },
    {
     "name": "stdout",
     "output_type": "stream",
     "text": [
      " Best Test Loss: 0.010832251980900764\n",
      "RMSE: 0.018268\n",
      "MAE: 0.011921\n",
      "Making temp model folder\n",
      "Using existing directory at temp\n"
     ]
    },
    {
     "name": "stderr",
     "output_type": "stream",
     "text": [
      "100%|██████████| 200/200 [00:17<00:00, 11.40it/s]\n",
      "[I 2024-08-22 16:26:19,015] Trial 14 finished with value: 0.042624 and parameters: {'dropout': 0.05, 'neurons0': 256, 'neurons1': 80, 'neurons2': 16, 'neurons3': 16, 'lr': 0.014881540808855733, 'weight_decay': 8.84006325926765e-05}. Best is trial 13 with value: 0.018268.\n"
     ]
    },
    {
     "name": "stdout",
     "output_type": "stream",
     "text": [
      " Best Test Loss: 0.05921504274010658\n",
      "RMSE: 0.042624\n",
      "MAE: 0.030884\n",
      "Making temp model folder\n",
      "Using existing directory at temp\n"
     ]
    },
    {
     "name": "stderr",
     "output_type": "stream",
     "text": [
      "100%|██████████| 200/200 [00:17<00:00, 11.41it/s]\n",
      "[I 2024-08-22 16:26:36,565] Trial 15 finished with value: 0.114142 and parameters: {'dropout': 0.4, 'neurons0': 224, 'neurons1': 112, 'neurons2': 64, 'neurons3': 96, 'lr': 0.01616668926771015, 'weight_decay': 0.00011664405434593318}. Best is trial 13 with value: 0.018268.\n"
     ]
    },
    {
     "name": "stdout",
     "output_type": "stream",
     "text": [
      " Best Test Loss: 0.4222683310508728\n",
      "RMSE: 0.114142\n",
      "MAE: 0.078039\n",
      "Making temp model folder\n",
      "Using existing directory at temp\n"
     ]
    },
    {
     "name": "stderr",
     "output_type": "stream",
     "text": [
      "100%|██████████| 200/200 [00:17<00:00, 11.65it/s]\n",
      "[I 2024-08-22 16:26:53,759] Trial 16 finished with value: 0.034428 and parameters: {'dropout': 0.1, 'neurons0': 256, 'neurons1': 64, 'neurons2': 48, 'neurons3': 16, 'lr': 0.005572557910946743, 'weight_decay': 5.4289096364412335e-05}. Best is trial 13 with value: 0.018268.\n"
     ]
    },
    {
     "name": "stdout",
     "output_type": "stream",
     "text": [
      " Best Test Loss: 0.038518160581588745\n",
      "RMSE: 0.034428\n",
      "MAE: 0.025656\n",
      "Making temp model folder\n",
      "Using existing directory at temp\n"
     ]
    },
    {
     "name": "stderr",
     "output_type": "stream",
     "text": [
      "100%|██████████| 200/200 [00:16<00:00, 12.41it/s]\n",
      "[I 2024-08-22 16:27:09,892] Trial 17 finished with value: 0.018532 and parameters: {'dropout': 0.0, 'neurons0': 208, 'neurons1': 112, 'neurons2': 96, 'neurons3': 64, 'lr': 0.028840342784745027, 'weight_decay': 0.0001681968338922541}. Best is trial 13 with value: 0.018268.\n"
     ]
    },
    {
     "name": "stdout",
     "output_type": "stream",
     "text": [
      " Best Test Loss: 0.011210169643163681\n",
      "RMSE: 0.018532\n",
      "MAE: 0.014333\n",
      "Making temp model folder\n",
      "Using existing directory at temp\n"
     ]
    },
    {
     "name": "stderr",
     "output_type": "stream",
     "text": [
      "100%|██████████| 200/200 [00:16<00:00, 11.89it/s]\n",
      "[I 2024-08-22 16:27:26,732] Trial 18 finished with value: 0.107848 and parameters: {'dropout': 0.25, 'neurons0': 144, 'neurons1': 112, 'neurons2': 32, 'neurons3': 64, 'lr': 0.023729935973361083, 'weight_decay': 0.00016054322828967275}. Best is trial 13 with value: 0.018268.\n"
     ]
    },
    {
     "name": "stdout",
     "output_type": "stream",
     "text": [
      " Best Test Loss: 0.37802645564079285\n",
      "RMSE: 0.107848\n",
      "MAE: 0.080803\n",
      "Making temp model folder\n",
      "Using existing directory at temp\n"
     ]
    },
    {
     "name": "stderr",
     "output_type": "stream",
     "text": [
      "100%|██████████| 200/200 [00:16<00:00, 11.77it/s]\n",
      "[I 2024-08-22 16:27:43,753] Trial 19 finished with value: 0.065828 and parameters: {'dropout': 0.1, 'neurons0': 208, 'neurons1': 224, 'neurons2': 96, 'neurons3': 128, 'lr': 0.03638194034866235, 'weight_decay': 2.8001139863065e-05}. Best is trial 13 with value: 0.018268.\n"
     ]
    },
    {
     "name": "stdout",
     "output_type": "stream",
     "text": [
      " Best Test Loss: 0.14065654575824738\n",
      "RMSE: 0.065828\n",
      "MAE: 0.046513\n",
      "Making temp model folder\n",
      "Using existing directory at temp\n"
     ]
    },
    {
     "name": "stderr",
     "output_type": "stream",
     "text": [
      "100%|██████████| 200/200 [00:17<00:00, 11.73it/s]\n",
      "[I 2024-08-22 16:28:00,829] Trial 20 finished with value: 0.065168 and parameters: {'dropout': 0.45, 'neurons0': 176, 'neurons1': 48, 'neurons2': 144, 'neurons3': 80, 'lr': 0.0016347225936026199, 'weight_decay': 6.970291572735278e-05}. Best is trial 13 with value: 0.018268.\n"
     ]
    },
    {
     "name": "stdout",
     "output_type": "stream",
     "text": [
      " Best Test Loss: 0.1382252722978592\n",
      "RMSE: 0.065168\n",
      "MAE: 0.050271\n",
      "Making temp model folder\n",
      "Using existing directory at temp\n"
     ]
    },
    {
     "name": "stderr",
     "output_type": "stream",
     "text": [
      "100%|██████████| 200/200 [00:15<00:00, 12.62it/s]\n",
      "[I 2024-08-22 16:28:16,695] Trial 21 finished with value: 0.024711 and parameters: {'dropout': 0.0, 'neurons0': 256, 'neurons1': 112, 'neurons2': 64, 'neurons3': 16, 'lr': 0.009642112866237527, 'weight_decay': 0.00017405751147129493}. Best is trial 13 with value: 0.018268.\n"
     ]
    },
    {
     "name": "stdout",
     "output_type": "stream",
     "text": [
      " Best Test Loss: 0.019761448726058006\n",
      "RMSE: 0.024711\n",
      "MAE: 0.013147\n",
      "Making temp model folder\n",
      "Using existing directory at temp\n"
     ]
    },
    {
     "name": "stderr",
     "output_type": "stream",
     "text": [
      "100%|██████████| 200/200 [00:16<00:00, 12.30it/s]\n",
      "[I 2024-08-22 16:28:32,982] Trial 22 finished with value: 0.015727 and parameters: {'dropout': 0.0, 'neurons0': 224, 'neurons1': 96, 'neurons2': 96, 'neurons3': 48, 'lr': 0.0027841070118371893, 'weight_decay': 0.00010130592413249617}. Best is trial 22 with value: 0.015727.\n"
     ]
    },
    {
     "name": "stdout",
     "output_type": "stream",
     "text": [
      " Best Test Loss: 0.008028081618249416\n",
      "RMSE: 0.015727\n",
      "MAE: 0.009487\n",
      "Making temp model folder\n",
      "Using existing directory at temp\n"
     ]
    },
    {
     "name": "stderr",
     "output_type": "stream",
     "text": [
      "100%|██████████| 200/200 [00:16<00:00, 11.77it/s]\n",
      "[I 2024-08-22 16:28:50,003] Trial 23 finished with value: 0.024898 and parameters: {'dropout': 0.1, 'neurons0': 224, 'neurons1': 128, 'neurons2': 96, 'neurons3': 48, 'lr': 0.0022807956583478692, 'weight_decay': 9.872154801905294e-05}. Best is trial 22 with value: 0.015727.\n"
     ]
    },
    {
     "name": "stdout",
     "output_type": "stream",
     "text": [
      " Best Test Loss: 0.020162036642432213\n",
      "RMSE: 0.024898\n",
      "MAE: 0.019032\n",
      "Making temp model folder\n",
      "Using existing directory at temp\n"
     ]
    },
    {
     "name": "stderr",
     "output_type": "stream",
     "text": [
      "100%|██████████| 200/200 [00:17<00:00, 11.69it/s]\n",
      "[I 2024-08-22 16:29:07,135] Trial 24 finished with value: 0.047508 and parameters: {'dropout': 0.05, 'neurons0': 208, 'neurons1': 96, 'neurons2': 48, 'neurons3': 64, 'lr': 0.02825390137212004, 'weight_decay': 3.774872637805281e-05}. Best is trial 22 with value: 0.015727.\n"
     ]
    },
    {
     "name": "stdout",
     "output_type": "stream",
     "text": [
      " Best Test Loss: 0.07350809127092361\n",
      "RMSE: 0.047508\n",
      "MAE: 0.035779\n",
      "Making temp model folder\n",
      "Using existing directory at temp\n"
     ]
    },
    {
     "name": "stderr",
     "output_type": "stream",
     "text": [
      "100%|██████████| 200/200 [00:16<00:00, 12.34it/s]\n",
      "[I 2024-08-22 16:29:23,363] Trial 25 finished with value: 0.017413 and parameters: {'dropout': 0.0, 'neurons0': 224, 'neurons1': 256, 'neurons2': 128, 'neurons3': 112, 'lr': 0.0004902490404983669, 'weight_decay': 0.00022283234465029483}. Best is trial 22 with value: 0.015727.\n"
     ]
    },
    {
     "name": "stdout",
     "output_type": "stream",
     "text": [
      " Best Test Loss: 0.009870803914964199\n",
      "RMSE: 0.017413\n",
      "MAE: 0.008964\n",
      "Making temp model folder\n",
      "Using existing directory at temp\n"
     ]
    },
    {
     "name": "stderr",
     "output_type": "stream",
     "text": [
      "100%|██████████| 200/200 [00:16<00:00, 11.76it/s]\n",
      "[I 2024-08-22 16:29:40,386] Trial 26 finished with value: 0.030075 and parameters: {'dropout': 0.1, 'neurons0': 160, 'neurons1': 256, 'neurons2': 160, 'neurons3': 160, 'lr': 0.00048426306666429005, 'weight_decay': 0.0005271475514398779}. Best is trial 22 with value: 0.015727.\n"
     ]
    },
    {
     "name": "stdout",
     "output_type": "stream",
     "text": [
      " Best Test Loss: 0.029337242245674133\n",
      "RMSE: 0.030075\n",
      "MAE: 0.018192\n",
      "Making temp model folder\n",
      "Using existing directory at temp\n"
     ]
    },
    {
     "name": "stderr",
     "output_type": "stream",
     "text": [
      "100%|██████████| 200/200 [00:17<00:00, 11.61it/s]\n",
      "[I 2024-08-22 16:29:57,639] Trial 27 finished with value: 0.019353 and parameters: {'dropout': 0.05, 'neurons0': 224, 'neurons1': 256, 'neurons2': 128, 'neurons3': 112, 'lr': 0.0003101229466580497, 'weight_decay': 0.00023825890440180432}. Best is trial 22 with value: 0.015727.\n"
     ]
    },
    {
     "name": "stdout",
     "output_type": "stream",
     "text": [
      " Best Test Loss: 0.012102421373128891\n",
      "RMSE: 0.019353\n",
      "MAE: 0.011496\n",
      "Making temp model folder\n",
      "Using existing directory at temp\n"
     ]
    },
    {
     "name": "stderr",
     "output_type": "stream",
     "text": [
      "100%|██████████| 200/200 [00:16<00:00, 11.84it/s]\n",
      "[I 2024-08-22 16:30:14,555] Trial 28 finished with value: 0.028709 and parameters: {'dropout': 0.2, 'neurons0': 112, 'neurons1': 208, 'neurons2': 208, 'neurons3': 32, 'lr': 0.0023078942330100774, 'weight_decay': 6.517530982177254e-05}. Best is trial 22 with value: 0.015727.\n"
     ]
    },
    {
     "name": "stdout",
     "output_type": "stream",
     "text": [
      " Best Test Loss: 0.026840485632419586\n",
      "RMSE: 0.028709\n",
      "MAE: 0.020743\n",
      "Making temp model folder\n",
      "Using existing directory at temp\n"
     ]
    },
    {
     "name": "stderr",
     "output_type": "stream",
     "text": [
      "100%|██████████| 200/200 [00:17<00:00, 11.75it/s]\n",
      "[I 2024-08-22 16:30:31,592] Trial 29 finished with value: 0.035747 and parameters: {'dropout': 0.30000000000000004, 'neurons0': 192, 'neurons1': 48, 'neurons2': 80, 'neurons3': 48, 'lr': 0.0007324530323701436, 'weight_decay': 4.4001463096989834e-05}. Best is trial 22 with value: 0.015727.\n"
     ]
    },
    {
     "name": "stdout",
     "output_type": "stream",
     "text": [
      " Best Test Loss: 0.04144815355539322\n",
      "RMSE: 0.035747\n",
      "MAE: 0.026408\n",
      "Making temp model folder\n",
      "Using existing directory at temp\n"
     ]
    },
    {
     "name": "stderr",
     "output_type": "stream",
     "text": [
      "100%|██████████| 200/200 [00:17<00:00, 11.26it/s]\n",
      "[I 2024-08-22 16:30:49,380] Trial 30 finished with value: 0.117788 and parameters: {'dropout': 0.2, 'neurons0': 240, 'neurons1': 16, 'neurons2': 112, 'neurons3': 176, 'lr': 1.1231851266539406e-05, 'weight_decay': 1.799936084579879e-05}. Best is trial 22 with value: 0.015727.\n"
     ]
    },
    {
     "name": "stdout",
     "output_type": "stream",
     "text": [
      " Best Test Loss: 0.4499053955078125\n",
      "RMSE: 0.117788\n",
      "MAE: 0.076871\n",
      "Making temp model folder\n",
      "Using existing directory at temp\n"
     ]
    },
    {
     "name": "stderr",
     "output_type": "stream",
     "text": [
      "100%|██████████| 200/200 [00:16<00:00, 12.25it/s]\n",
      "[I 2024-08-22 16:31:05,736] Trial 31 finished with value: 0.025114 and parameters: {'dropout': 0.0, 'neurons0': 192, 'neurons1': 128, 'neurons2': 96, 'neurons3': 64, 'lr': 0.00989853534493355, 'weight_decay': 0.00019656449591910546}. Best is trial 22 with value: 0.015727.\n"
     ]
    },
    {
     "name": "stdout",
     "output_type": "stream",
     "text": [
      " Best Test Loss: 0.020420100539922714\n",
      "RMSE: 0.025114\n",
      "MAE: 0.01205\n",
      "Making temp model folder\n",
      "Using existing directory at temp\n"
     ]
    },
    {
     "name": "stderr",
     "output_type": "stream",
     "text": [
      "100%|██████████| 200/200 [00:16<00:00, 12.15it/s]\n",
      "[I 2024-08-22 16:31:22,216] Trial 32 finished with value: 0.013615 and parameters: {'dropout': 0.0, 'neurons0': 224, 'neurons1': 96, 'neurons2': 112, 'neurons3': 96, 'lr': 0.0001403087381525657, 'weight_decay': 9.190621243189617e-05}. Best is trial 32 with value: 0.013615.\n"
     ]
    },
    {
     "name": "stdout",
     "output_type": "stream",
     "text": [
      " Best Test Loss: 0.0060198744758963585\n",
      "RMSE: 0.013615\n",
      "MAE: 0.008183\n",
      "Making temp model folder\n",
      "Using existing directory at temp\n"
     ]
    },
    {
     "name": "stderr",
     "output_type": "stream",
     "text": [
      "100%|██████████| 200/200 [00:17<00:00, 11.53it/s]\n",
      "[I 2024-08-22 16:31:39,588] Trial 33 finished with value: 0.013908 and parameters: {'dropout': 0.05, 'neurons0': 240, 'neurons1': 96, 'neurons2': 128, 'neurons3': 112, 'lr': 0.00013399613455083743, 'weight_decay': 8.295919159098519e-05}. Best is trial 32 with value: 0.013615.\n"
     ]
    },
    {
     "name": "stdout",
     "output_type": "stream",
     "text": [
      " Best Test Loss: 0.006290038116276264\n",
      "RMSE: 0.013908\n",
      "MAE: 0.008969\n",
      "Making temp model folder\n",
      "Using existing directory at temp\n"
     ]
    },
    {
     "name": "stderr",
     "output_type": "stream",
     "text": [
      "100%|██████████| 200/200 [00:17<00:00, 11.52it/s]\n",
      "[I 2024-08-22 16:31:56,973] Trial 34 finished with value: 0.017908 and parameters: {'dropout': 0.05, 'neurons0': 224, 'neurons1': 96, 'neurons2': 144, 'neurons3': 112, 'lr': 0.00010006170715652937, 'weight_decay': 7.907702906792147e-05}. Best is trial 32 with value: 0.013615.\n"
     ]
    },
    {
     "name": "stdout",
     "output_type": "stream",
     "text": [
      " Best Test Loss: 0.010394411161541939\n",
      "RMSE: 0.017908\n",
      "MAE: 0.010756\n",
      "Making temp model folder\n",
      "Using existing directory at temp\n"
     ]
    },
    {
     "name": "stderr",
     "output_type": "stream",
     "text": [
      "100%|██████████| 200/200 [00:17<00:00, 11.51it/s]\n",
      "[I 2024-08-22 16:32:14,385] Trial 35 finished with value: 0.024996 and parameters: {'dropout': 0.1, 'neurons0': 192, 'neurons1': 144, 'neurons2': 128, 'neurons3': 96, 'lr': 0.00021578482366341087, 'weight_decay': 0.000310728220316391}. Best is trial 32 with value: 0.013615.\n"
     ]
    },
    {
     "name": "stdout",
     "output_type": "stream",
     "text": [
      " Best Test Loss: 0.020234668627381325\n",
      "RMSE: 0.024996\n",
      "MAE: 0.014686\n",
      "Study statistics: \n",
      "  Number of finished trials:  36\n",
      "  Number of pruned trials:  0\n",
      "  Number of complete trials:  36\n",
      "Best trial:\n",
      "  Value:  0.013615\n",
      "  Params: \n",
      "    dropout: 0.0\n",
      "    neurons0: 224\n",
      "    neurons1: 96\n",
      "    neurons2: 112\n",
      "    neurons3: 96\n",
      "    lr: 0.0001403087381525657\n",
      "    weight_decay: 9.190621243189617e-05\n",
      "Using existing directory at Model1\n"
     ]
    },
    {
     "name": "stderr",
     "output_type": "stream",
     "text": [
      "  0%|          | 1/1000 [00:00<01:55,  8.67it/s]"
     ]
    },
    {
     "name": "stdout",
     "output_type": "stream",
     "text": [
      "Best State Updated. Epoch: 0\n"
     ]
    },
    {
     "name": "stderr",
     "output_type": "stream",
     "text": [
      "  0%|          | 3/1000 [00:00<01:31, 10.91it/s]"
     ]
    },
    {
     "name": "stdout",
     "output_type": "stream",
     "text": [
      "Best State Updated. Epoch: 1\n",
      "Best State Updated. Epoch: 2\n",
      "Best State Updated. Epoch: 3\n"
     ]
    },
    {
     "name": "stderr",
     "output_type": "stream",
     "text": [
      "  0%|          | 5/1000 [00:00<01:45,  9.43it/s]"
     ]
    },
    {
     "name": "stdout",
     "output_type": "stream",
     "text": [
      "Best State Updated. Epoch: 4\n"
     ]
    },
    {
     "name": "stderr",
     "output_type": "stream",
     "text": [
      "  1%|          | 7/1000 [00:00<01:37, 10.20it/s]"
     ]
    },
    {
     "name": "stdout",
     "output_type": "stream",
     "text": [
      "Best State Updated. Epoch: 5\n",
      "Best State Updated. Epoch: 6\n",
      "Best State Updated. Epoch: 7\n"
     ]
    },
    {
     "name": "stderr",
     "output_type": "stream",
     "text": [
      "  1%|          | 9/1000 [00:00<01:32, 10.66it/s]"
     ]
    },
    {
     "name": "stdout",
     "output_type": "stream",
     "text": [
      "Best State Updated. Epoch: 8\n",
      "Best State Updated. Epoch: 9\n"
     ]
    },
    {
     "name": "stderr",
     "output_type": "stream",
     "text": [
      "  1%|▏         | 13/1000 [00:01<01:32, 10.65it/s]"
     ]
    },
    {
     "name": "stdout",
     "output_type": "stream",
     "text": [
      "Best State Updated. Epoch: 10\n",
      "Best State Updated. Epoch: 11\n",
      "Best State Updated. Epoch: 12\n"
     ]
    },
    {
     "name": "stderr",
     "output_type": "stream",
     "text": [
      "  2%|▏         | 15/1000 [00:01<01:32, 10.69it/s]"
     ]
    },
    {
     "name": "stdout",
     "output_type": "stream",
     "text": [
      "Best State Updated. Epoch: 13\n",
      "Best State Updated. Epoch: 14\n",
      "Best State Updated. Epoch: 15\n"
     ]
    },
    {
     "name": "stderr",
     "output_type": "stream",
     "text": [
      "  2%|▏         | 19/1000 [00:01<01:24, 11.55it/s]"
     ]
    },
    {
     "name": "stdout",
     "output_type": "stream",
     "text": [
      "Best State Updated. Epoch: 16\n",
      "Best State Updated. Epoch: 17\n",
      "Best State Updated. Epoch: 18\n"
     ]
    },
    {
     "name": "stderr",
     "output_type": "stream",
     "text": [
      "  2%|▏         | 21/1000 [00:01<01:23, 11.67it/s]"
     ]
    },
    {
     "name": "stdout",
     "output_type": "stream",
     "text": [
      "Best State Updated. Epoch: 19\n",
      "Best State Updated. Epoch: 20\n",
      "Best State Updated. Epoch: 21\n"
     ]
    },
    {
     "name": "stderr",
     "output_type": "stream",
     "text": [
      "  2%|▏         | 23/1000 [00:02<01:21, 11.99it/s]"
     ]
    },
    {
     "name": "stdout",
     "output_type": "stream",
     "text": [
      "Best State Updated. Epoch: 22\n",
      "Best State Updated. Epoch: 23\n"
     ]
    },
    {
     "name": "stderr",
     "output_type": "stream",
     "text": [
      "  3%|▎         | 27/1000 [00:02<01:26, 11.24it/s]"
     ]
    },
    {
     "name": "stdout",
     "output_type": "stream",
     "text": [
      "Best State Updated. Epoch: 24\n",
      "Best State Updated. Epoch: 25\n",
      "Best State Updated. Epoch: 26\n"
     ]
    },
    {
     "name": "stderr",
     "output_type": "stream",
     "text": [
      "  3%|▎         | 29/1000 [00:02<01:23, 11.65it/s]"
     ]
    },
    {
     "name": "stdout",
     "output_type": "stream",
     "text": [
      "Best State Updated. Epoch: 27\n",
      "Best State Updated. Epoch: 28\n",
      "Best State Updated. Epoch: 29\n"
     ]
    },
    {
     "name": "stderr",
     "output_type": "stream",
     "text": [
      "  3%|▎         | 33/1000 [00:02<01:22, 11.78it/s]"
     ]
    },
    {
     "name": "stdout",
     "output_type": "stream",
     "text": [
      "Best State Updated. Epoch: 30\n",
      "Best State Updated. Epoch: 31\n",
      "Best State Updated. Epoch: 32\n"
     ]
    },
    {
     "name": "stderr",
     "output_type": "stream",
     "text": [
      "  4%|▎         | 35/1000 [00:03<01:20, 12.02it/s]"
     ]
    },
    {
     "name": "stdout",
     "output_type": "stream",
     "text": [
      "Best State Updated. Epoch: 33\n",
      "Best State Updated. Epoch: 34\n",
      "Best State Updated. Epoch: 35\n"
     ]
    },
    {
     "name": "stderr",
     "output_type": "stream",
     "text": [
      "  4%|▍         | 39/1000 [00:03<01:23, 11.47it/s]"
     ]
    },
    {
     "name": "stdout",
     "output_type": "stream",
     "text": [
      "Best State Updated. Epoch: 36\n",
      "Best State Updated. Epoch: 37\n",
      "Best State Updated. Epoch: 38\n"
     ]
    },
    {
     "name": "stderr",
     "output_type": "stream",
     "text": [
      "  4%|▍         | 41/1000 [00:03<01:25, 11.28it/s]"
     ]
    },
    {
     "name": "stdout",
     "output_type": "stream",
     "text": [
      "Best State Updated. Epoch: 39\n",
      "Best State Updated. Epoch: 40\n",
      "Best State Updated. Epoch: 41\n"
     ]
    },
    {
     "name": "stderr",
     "output_type": "stream",
     "text": [
      "  4%|▍         | 45/1000 [00:03<01:20, 11.81it/s]"
     ]
    },
    {
     "name": "stdout",
     "output_type": "stream",
     "text": [
      "Best State Updated. Epoch: 42\n",
      "Best State Updated. Epoch: 43\n",
      "Best State Updated. Epoch: 44\n"
     ]
    },
    {
     "name": "stderr",
     "output_type": "stream",
     "text": [
      "  5%|▍         | 47/1000 [00:04<01:20, 11.83it/s]"
     ]
    },
    {
     "name": "stdout",
     "output_type": "stream",
     "text": [
      "Best State Updated. Epoch: 45\n",
      "Best State Updated. Epoch: 46\n",
      "Best State Updated. Epoch: 47\n"
     ]
    },
    {
     "name": "stderr",
     "output_type": "stream",
     "text": [
      "  5%|▍         | 49/1000 [00:04<01:20, 11.86it/s]"
     ]
    },
    {
     "name": "stdout",
     "output_type": "stream",
     "text": [
      "Best State Updated. Epoch: 48\n",
      "Best State Updated. Epoch: 49\n"
     ]
    },
    {
     "name": "stderr",
     "output_type": "stream",
     "text": [
      "  5%|▌         | 53/1000 [00:04<01:24, 11.17it/s]"
     ]
    },
    {
     "name": "stdout",
     "output_type": "stream",
     "text": [
      "Best State Updated. Epoch: 50\n",
      "Best State Updated. Epoch: 51\n",
      "Best State Updated. Epoch: 52\n"
     ]
    },
    {
     "name": "stderr",
     "output_type": "stream",
     "text": [
      "  6%|▌         | 55/1000 [00:04<01:22, 11.46it/s]"
     ]
    },
    {
     "name": "stdout",
     "output_type": "stream",
     "text": [
      "Best State Updated. Epoch: 53\n",
      "Best State Updated. Epoch: 54\n",
      "Best State Updated. Epoch: 55\n"
     ]
    },
    {
     "name": "stderr",
     "output_type": "stream",
     "text": [
      "  6%|▌         | 59/1000 [00:05<01:19, 11.85it/s]"
     ]
    },
    {
     "name": "stdout",
     "output_type": "stream",
     "text": [
      "Best State Updated. Epoch: 56\n",
      "Best State Updated. Epoch: 57\n",
      "Best State Updated. Epoch: 58\n"
     ]
    },
    {
     "name": "stderr",
     "output_type": "stream",
     "text": [
      "  6%|▌         | 61/1000 [00:05<01:19, 11.84it/s]"
     ]
    },
    {
     "name": "stdout",
     "output_type": "stream",
     "text": [
      "Best State Updated. Epoch: 59\n",
      "Best State Updated. Epoch: 60\n",
      "Best State Updated. Epoch: 61\n"
     ]
    },
    {
     "name": "stderr",
     "output_type": "stream",
     "text": [
      "  6%|▋         | 63/1000 [00:05<01:19, 11.76it/s]"
     ]
    },
    {
     "name": "stdout",
     "output_type": "stream",
     "text": [
      "Best State Updated. Epoch: 62\n",
      "Best State Updated. Epoch: 63\n"
     ]
    },
    {
     "name": "stderr",
     "output_type": "stream",
     "text": [
      "  7%|▋         | 67/1000 [00:05<01:21, 11.41it/s]"
     ]
    },
    {
     "name": "stdout",
     "output_type": "stream",
     "text": [
      "Best State Updated. Epoch: 64\n",
      "Best State Updated. Epoch: 65\n",
      "Best State Updated. Epoch: 66\n"
     ]
    },
    {
     "name": "stderr",
     "output_type": "stream",
     "text": [
      "  7%|▋         | 69/1000 [00:06<01:19, 11.72it/s]"
     ]
    },
    {
     "name": "stdout",
     "output_type": "stream",
     "text": [
      "Best State Updated. Epoch: 67\n",
      "Best State Updated. Epoch: 68\n",
      "Best State Updated. Epoch: 69\n"
     ]
    },
    {
     "name": "stderr",
     "output_type": "stream",
     "text": [
      "  7%|▋         | 73/1000 [00:06<01:20, 11.56it/s]"
     ]
    },
    {
     "name": "stdout",
     "output_type": "stream",
     "text": [
      "Best State Updated. Epoch: 70\n",
      "Best State Updated. Epoch: 71\n",
      "Best State Updated. Epoch: 72\n"
     ]
    },
    {
     "name": "stderr",
     "output_type": "stream",
     "text": [
      "  8%|▊         | 75/1000 [00:06<01:21, 11.39it/s]"
     ]
    },
    {
     "name": "stdout",
     "output_type": "stream",
     "text": [
      "Best State Updated. Epoch: 73\n",
      "Best State Updated. Epoch: 74\n",
      "Best State Updated. Epoch: 75\n"
     ]
    },
    {
     "name": "stderr",
     "output_type": "stream",
     "text": [
      "  8%|▊         | 79/1000 [00:06<01:21, 11.25it/s]"
     ]
    },
    {
     "name": "stdout",
     "output_type": "stream",
     "text": [
      "Best State Updated. Epoch: 76\n",
      "Best State Updated. Epoch: 77\n"
     ]
    },
    {
     "name": "stderr",
     "output_type": "stream",
     "text": [
      "  8%|▊         | 81/1000 [00:07<01:21, 11.34it/s]"
     ]
    },
    {
     "name": "stdout",
     "output_type": "stream",
     "text": [
      "Best State Updated. Epoch: 79\n",
      "Best State Updated. Epoch: 80\n",
      "Best State Updated. Epoch: 81\n"
     ]
    },
    {
     "name": "stderr",
     "output_type": "stream",
     "text": [
      "  8%|▊         | 85/1000 [00:07<01:21, 11.20it/s]"
     ]
    },
    {
     "name": "stdout",
     "output_type": "stream",
     "text": [
      "Best State Updated. Epoch: 82\n",
      "Best State Updated. Epoch: 83\n",
      "Best State Updated. Epoch: 84\n"
     ]
    },
    {
     "name": "stderr",
     "output_type": "stream",
     "text": [
      "  9%|▊         | 87/1000 [00:07<01:20, 11.35it/s]"
     ]
    },
    {
     "name": "stdout",
     "output_type": "stream",
     "text": [
      "Best State Updated. Epoch: 85\n",
      "Best State Updated. Epoch: 86\n"
     ]
    },
    {
     "name": "stderr",
     "output_type": "stream",
     "text": [
      "  9%|▉         | 91/1000 [00:08<01:26, 10.54it/s]"
     ]
    },
    {
     "name": "stdout",
     "output_type": "stream",
     "text": [
      "Best State Updated. Epoch: 89\n",
      "Best State Updated. Epoch: 90\n",
      "Best State Updated. Epoch: 91\n"
     ]
    },
    {
     "name": "stderr",
     "output_type": "stream",
     "text": [
      " 10%|▉         | 95/1000 [00:08<01:23, 10.82it/s]"
     ]
    },
    {
     "name": "stdout",
     "output_type": "stream",
     "text": [
      "Best State Updated. Epoch: 92\n",
      "Best State Updated. Epoch: 93\n",
      "Best State Updated. Epoch: 94\n"
     ]
    },
    {
     "name": "stderr",
     "output_type": "stream",
     "text": [
      " 10%|▉         | 97/1000 [00:08<01:21, 11.08it/s]"
     ]
    },
    {
     "name": "stdout",
     "output_type": "stream",
     "text": [
      "Best State Updated. Epoch: 95\n",
      "Best State Updated. Epoch: 96\n",
      "Best State Updated. Epoch: 97\n"
     ]
    },
    {
     "name": "stderr",
     "output_type": "stream",
     "text": [
      " 10%|█         | 101/1000 [00:08<01:18, 11.51it/s]"
     ]
    },
    {
     "name": "stdout",
     "output_type": "stream",
     "text": [
      "Best State Updated. Epoch: 98\n",
      "Best State Updated. Epoch: 99\n",
      "Best State Updated. Epoch: 100\n"
     ]
    },
    {
     "name": "stderr",
     "output_type": "stream",
     "text": [
      " 10%|█         | 103/1000 [00:09<01:17, 11.61it/s]"
     ]
    },
    {
     "name": "stdout",
     "output_type": "stream",
     "text": [
      "Best State Updated. Epoch: 101\n",
      "Best State Updated. Epoch: 102\n"
     ]
    },
    {
     "name": "stderr",
     "output_type": "stream",
     "text": [
      " 11%|█         | 107/1000 [00:09<01:16, 11.60it/s]"
     ]
    },
    {
     "name": "stdout",
     "output_type": "stream",
     "text": [
      "Best State Updated. Epoch: 104\n",
      "Best State Updated. Epoch: 105\n",
      "Best State Updated. Epoch: 106\n"
     ]
    },
    {
     "name": "stderr",
     "output_type": "stream",
     "text": [
      " 11%|█         | 109/1000 [00:09<01:15, 11.74it/s]"
     ]
    },
    {
     "name": "stdout",
     "output_type": "stream",
     "text": [
      "Best State Updated. Epoch: 107\n",
      "Best State Updated. Epoch: 108\n",
      "Best State Updated. Epoch: 109\n"
     ]
    },
    {
     "name": "stderr",
     "output_type": "stream",
     "text": [
      " 11%|█▏        | 113/1000 [00:09<01:16, 11.62it/s]"
     ]
    },
    {
     "name": "stdout",
     "output_type": "stream",
     "text": [
      "Best State Updated. Epoch: 111\n",
      "Best State Updated. Epoch: 112\n"
     ]
    },
    {
     "name": "stderr",
     "output_type": "stream",
     "text": [
      " 12%|█▏        | 117/1000 [00:10<01:14, 11.78it/s]"
     ]
    },
    {
     "name": "stdout",
     "output_type": "stream",
     "text": [
      "Best State Updated. Epoch: 115\n",
      "Best State Updated. Epoch: 116\n"
     ]
    },
    {
     "name": "stderr",
     "output_type": "stream",
     "text": [
      " 12%|█▏        | 121/1000 [00:10<01:13, 11.89it/s]"
     ]
    },
    {
     "name": "stdout",
     "output_type": "stream",
     "text": [
      "Best State Updated. Epoch: 119\n"
     ]
    },
    {
     "name": "stderr",
     "output_type": "stream",
     "text": [
      " 13%|█▎        | 127/1000 [00:11<01:24, 10.33it/s]"
     ]
    },
    {
     "name": "stdout",
     "output_type": "stream",
     "text": [
      "Best State Updated. Epoch: 125\n",
      "Best State Updated. Epoch: 126\n",
      "Best State Updated. Epoch: 127\n"
     ]
    },
    {
     "name": "stderr",
     "output_type": "stream",
     "text": [
      " 13%|█▎        | 133/1000 [00:11<01:16, 11.27it/s]"
     ]
    },
    {
     "name": "stdout",
     "output_type": "stream",
     "text": [
      "Best State Updated. Epoch: 131\n",
      "Best State Updated. Epoch: 133\n"
     ]
    },
    {
     "name": "stderr",
     "output_type": "stream",
     "text": [
      " 14%|█▎        | 137/1000 [00:12<01:18, 10.95it/s]"
     ]
    },
    {
     "name": "stdout",
     "output_type": "stream",
     "text": [
      "Best State Updated. Epoch: 134\n",
      "Best State Updated. Epoch: 136\n"
     ]
    },
    {
     "name": "stderr",
     "output_type": "stream",
     "text": [
      " 14%|█▍        | 143/1000 [00:12<01:13, 11.65it/s]"
     ]
    },
    {
     "name": "stdout",
     "output_type": "stream",
     "text": [
      "Best State Updated. Epoch: 140\n",
      "Best State Updated. Epoch: 141\n",
      "Best State Updated. Epoch: 142\n"
     ]
    },
    {
     "name": "stderr",
     "output_type": "stream",
     "text": [
      " 14%|█▍        | 145/1000 [00:12<01:12, 11.79it/s]"
     ]
    },
    {
     "name": "stdout",
     "output_type": "stream",
     "text": [
      "Best State Updated. Epoch: 144\n",
      "Best State Updated. Epoch: 145\n"
     ]
    },
    {
     "name": "stderr",
     "output_type": "stream",
     "text": [
      " 15%|█▌        | 153/1000 [00:13<01:09, 12.13it/s]"
     ]
    },
    {
     "name": "stdout",
     "output_type": "stream",
     "text": [
      "Best State Updated. Epoch: 150\n",
      "Best State Updated. Epoch: 151\n",
      "Best State Updated. Epoch: 152\n"
     ]
    },
    {
     "name": "stderr",
     "output_type": "stream",
     "text": [
      " 16%|█▌        | 157/1000 [00:13<01:11, 11.79it/s]"
     ]
    },
    {
     "name": "stdout",
     "output_type": "stream",
     "text": [
      "Best State Updated. Epoch: 155\n"
     ]
    },
    {
     "name": "stderr",
     "output_type": "stream",
     "text": [
      " 16%|█▌        | 161/1000 [00:14<01:09, 12.02it/s]"
     ]
    },
    {
     "name": "stdout",
     "output_type": "stream",
     "text": [
      "Best State Updated. Epoch: 159\n",
      "Best State Updated. Epoch: 161\n"
     ]
    },
    {
     "name": "stderr",
     "output_type": "stream",
     "text": [
      " 16%|█▋        | 165/1000 [00:14<01:08, 12.12it/s]"
     ]
    },
    {
     "name": "stdout",
     "output_type": "stream",
     "text": [
      "Best State Updated. Epoch: 162\n",
      "Best State Updated. Epoch: 164\n"
     ]
    },
    {
     "name": "stderr",
     "output_type": "stream",
     "text": [
      " 17%|█▋        | 167/1000 [00:14<01:14, 11.15it/s]"
     ]
    },
    {
     "name": "stdout",
     "output_type": "stream",
     "text": [
      "Best State Updated. Epoch: 165\n",
      "Best State Updated. Epoch: 166\n",
      "Best State Updated. Epoch: 167\n"
     ]
    },
    {
     "name": "stderr",
     "output_type": "stream",
     "text": [
      " 17%|█▋        | 173/1000 [00:15<01:12, 11.38it/s]"
     ]
    },
    {
     "name": "stdout",
     "output_type": "stream",
     "text": [
      "Best State Updated. Epoch: 170\n",
      "Best State Updated. Epoch: 172\n"
     ]
    },
    {
     "name": "stderr",
     "output_type": "stream",
     "text": [
      " 18%|█▊        | 175/1000 [00:15<01:14, 11.04it/s]"
     ]
    },
    {
     "name": "stdout",
     "output_type": "stream",
     "text": [
      "Best State Updated. Epoch: 173\n",
      "Best State Updated. Epoch: 175\n"
     ]
    },
    {
     "name": "stderr",
     "output_type": "stream",
     "text": [
      " 18%|█▊        | 179/1000 [00:15<01:16, 10.75it/s]"
     ]
    },
    {
     "name": "stdout",
     "output_type": "stream",
     "text": [
      "Best State Updated. Epoch: 176\n",
      "Best State Updated. Epoch: 177\n",
      "Best State Updated. Epoch: 178\n"
     ]
    },
    {
     "name": "stderr",
     "output_type": "stream",
     "text": [
      " 18%|█▊        | 181/1000 [00:15<01:15, 10.86it/s]"
     ]
    },
    {
     "name": "stdout",
     "output_type": "stream",
     "text": [
      "Best State Updated. Epoch: 179\n",
      "Best State Updated. Epoch: 180\n"
     ]
    },
    {
     "name": "stderr",
     "output_type": "stream",
     "text": [
      " 18%|█▊        | 185/1000 [00:16<01:14, 11.00it/s]"
     ]
    },
    {
     "name": "stdout",
     "output_type": "stream",
     "text": [
      "Best State Updated. Epoch: 182\n"
     ]
    },
    {
     "name": "stderr",
     "output_type": "stream",
     "text": [
      " 19%|█▊        | 187/1000 [00:16<01:13, 11.10it/s]"
     ]
    },
    {
     "name": "stdout",
     "output_type": "stream",
     "text": [
      "Best State Updated. Epoch: 185\n"
     ]
    },
    {
     "name": "stderr",
     "output_type": "stream",
     "text": [
      " 19%|█▉        | 191/1000 [00:16<01:11, 11.30it/s]"
     ]
    },
    {
     "name": "stdout",
     "output_type": "stream",
     "text": [
      "Best State Updated. Epoch: 188\n",
      "Best State Updated. Epoch: 190\n"
     ]
    },
    {
     "name": "stderr",
     "output_type": "stream",
     "text": [
      " 19%|█▉        | 193/1000 [00:17<01:12, 11.17it/s]"
     ]
    },
    {
     "name": "stdout",
     "output_type": "stream",
     "text": [
      "Best State Updated. Epoch: 191\n"
     ]
    },
    {
     "name": "stderr",
     "output_type": "stream",
     "text": [
      " 20%|█▉        | 197/1000 [00:17<01:11, 11.21it/s]"
     ]
    },
    {
     "name": "stdout",
     "output_type": "stream",
     "text": [
      "Best State Updated. Epoch: 194\n",
      "Best State Updated. Epoch: 195\n",
      "Best State Updated. Epoch: 196\n"
     ]
    },
    {
     "name": "stderr",
     "output_type": "stream",
     "text": [
      " 20%|█▉        | 199/1000 [00:17<01:11, 11.26it/s]"
     ]
    },
    {
     "name": "stdout",
     "output_type": "stream",
     "text": [
      "Best State Updated. Epoch: 197\n",
      "Best State Updated. Epoch: 199\n"
     ]
    },
    {
     "name": "stderr",
     "output_type": "stream",
     "text": [
      " 20%|██        | 203/1000 [00:17<01:09, 11.51it/s]"
     ]
    },
    {
     "name": "stdout",
     "output_type": "stream",
     "text": [
      "Best State Updated. Epoch: 200\n",
      "Best State Updated. Epoch: 202\n"
     ]
    },
    {
     "name": "stderr",
     "output_type": "stream",
     "text": [
      " 21%|██        | 207/1000 [00:18<01:08, 11.58it/s]"
     ]
    },
    {
     "name": "stdout",
     "output_type": "stream",
     "text": [
      "Best State Updated. Epoch: 204\n",
      "Best State Updated. Epoch: 205\n",
      "Best State Updated. Epoch: 206\n"
     ]
    },
    {
     "name": "stderr",
     "output_type": "stream",
     "text": [
      " 21%|██        | 209/1000 [00:18<01:07, 11.78it/s]"
     ]
    },
    {
     "name": "stdout",
     "output_type": "stream",
     "text": [
      "Best State Updated. Epoch: 207\n"
     ]
    },
    {
     "name": "stderr",
     "output_type": "stream",
     "text": [
      " 21%|██▏       | 213/1000 [00:18<01:08, 11.53it/s]"
     ]
    },
    {
     "name": "stdout",
     "output_type": "stream",
     "text": [
      "Best State Updated. Epoch: 210\n"
     ]
    },
    {
     "name": "stderr",
     "output_type": "stream",
     "text": [
      " 22%|██▏       | 217/1000 [00:19<01:04, 12.09it/s]"
     ]
    },
    {
     "name": "stdout",
     "output_type": "stream",
     "text": [
      "Best State Updated. Epoch: 214\n",
      "Best State Updated. Epoch: 216\n"
     ]
    },
    {
     "name": "stderr",
     "output_type": "stream",
     "text": [
      " 22%|██▏       | 219/1000 [00:19<01:04, 12.07it/s]"
     ]
    },
    {
     "name": "stdout",
     "output_type": "stream",
     "text": [
      "Best State Updated. Epoch: 217\n"
     ]
    },
    {
     "name": "stderr",
     "output_type": "stream",
     "text": [
      " 23%|██▎       | 231/1000 [00:20<01:01, 12.53it/s]"
     ]
    },
    {
     "name": "stdout",
     "output_type": "stream",
     "text": [
      "Best State Updated. Epoch: 229\n",
      "Best State Updated. Epoch: 230\n"
     ]
    },
    {
     "name": "stderr",
     "output_type": "stream",
     "text": [
      " 24%|██▎       | 237/1000 [00:20<01:05, 11.57it/s]"
     ]
    },
    {
     "name": "stdout",
     "output_type": "stream",
     "text": [
      "Best State Updated. Epoch: 234\n"
     ]
    },
    {
     "name": "stderr",
     "output_type": "stream",
     "text": [
      " 24%|██▍       | 241/1000 [00:21<01:02, 12.16it/s]"
     ]
    },
    {
     "name": "stdout",
     "output_type": "stream",
     "text": [
      "Best State Updated. Epoch: 238\n"
     ]
    },
    {
     "name": "stderr",
     "output_type": "stream",
     "text": [
      " 24%|██▍       | 245/1000 [00:21<01:00, 12.47it/s]"
     ]
    },
    {
     "name": "stdout",
     "output_type": "stream",
     "text": [
      "Best State Updated. Epoch: 242\n",
      "Best State Updated. Epoch: 243\n"
     ]
    },
    {
     "name": "stderr",
     "output_type": "stream",
     "text": [
      " 25%|██▍       | 247/1000 [00:21<01:01, 12.26it/s]"
     ]
    },
    {
     "name": "stdout",
     "output_type": "stream",
     "text": [
      "Best State Updated. Epoch: 245\n"
     ]
    },
    {
     "name": "stderr",
     "output_type": "stream",
     "text": [
      " 25%|██▌       | 251/1000 [00:21<00:59, 12.56it/s]"
     ]
    },
    {
     "name": "stdout",
     "output_type": "stream",
     "text": [
      "Best State Updated. Epoch: 249\n"
     ]
    },
    {
     "name": "stderr",
     "output_type": "stream",
     "text": [
      " 26%|██▌       | 261/1000 [00:22<01:00, 12.26it/s]"
     ]
    },
    {
     "name": "stdout",
     "output_type": "stream",
     "text": [
      "Best State Updated. Epoch: 259\n",
      "Best State Updated. Epoch: 260\n"
     ]
    },
    {
     "name": "stderr",
     "output_type": "stream",
     "text": [
      " 26%|██▋       | 265/1000 [00:23<01:00, 12.06it/s]"
     ]
    },
    {
     "name": "stdout",
     "output_type": "stream",
     "text": [
      "Best State Updated. Epoch: 262\n"
     ]
    },
    {
     "name": "stderr",
     "output_type": "stream",
     "text": [
      " 27%|██▋       | 273/1000 [00:23<00:59, 12.12it/s]"
     ]
    },
    {
     "name": "stdout",
     "output_type": "stream",
     "text": [
      "Best State Updated. Epoch: 271\n",
      "Best State Updated. Epoch: 272\n"
     ]
    },
    {
     "name": "stderr",
     "output_type": "stream",
     "text": [
      " 28%|██▊       | 277/1000 [00:24<01:06, 10.93it/s]"
     ]
    },
    {
     "name": "stdout",
     "output_type": "stream",
     "text": [
      "Best State Updated. Epoch: 275\n"
     ]
    },
    {
     "name": "stderr",
     "output_type": "stream",
     "text": [
      " 29%|██▊       | 287/1000 [00:24<01:00, 11.87it/s]"
     ]
    },
    {
     "name": "stdout",
     "output_type": "stream",
     "text": [
      "Best State Updated. Epoch: 284\n",
      "Best State Updated. Epoch: 286\n"
     ]
    },
    {
     "name": "stderr",
     "output_type": "stream",
     "text": [
      " 29%|██▉       | 291/1000 [00:25<00:59, 12.01it/s]"
     ]
    },
    {
     "name": "stdout",
     "output_type": "stream",
     "text": [
      "Best State Updated. Epoch: 288\n"
     ]
    },
    {
     "name": "stderr",
     "output_type": "stream",
     "text": [
      " 30%|██▉       | 295/1000 [00:25<00:58, 12.05it/s]"
     ]
    },
    {
     "name": "stdout",
     "output_type": "stream",
     "text": [
      "Best State Updated. Epoch: 293\n"
     ]
    },
    {
     "name": "stderr",
     "output_type": "stream",
     "text": [
      " 30%|██▉       | 299/1000 [00:25<00:58, 12.01it/s]"
     ]
    },
    {
     "name": "stdout",
     "output_type": "stream",
     "text": [
      "Best State Updated. Epoch: 296\n"
     ]
    },
    {
     "name": "stderr",
     "output_type": "stream",
     "text": [
      " 30%|███       | 301/1000 [00:26<01:03, 11.08it/s]"
     ]
    },
    {
     "name": "stdout",
     "output_type": "stream",
     "text": [
      "Best State Updated. Epoch: 299\n"
     ]
    },
    {
     "name": "stderr",
     "output_type": "stream",
     "text": [
      " 31%|███       | 307/1000 [00:26<00:57, 12.02it/s]"
     ]
    },
    {
     "name": "stdout",
     "output_type": "stream",
     "text": [
      "Best State Updated. Epoch: 304\n"
     ]
    },
    {
     "name": "stderr",
     "output_type": "stream",
     "text": [
      " 31%|███       | 311/1000 [00:27<01:00, 11.33it/s]"
     ]
    },
    {
     "name": "stdout",
     "output_type": "stream",
     "text": [
      "Best State Updated. Epoch: 309\n",
      "Best State Updated. Epoch: 311\n"
     ]
    },
    {
     "name": "stderr",
     "output_type": "stream",
     "text": [
      " 32%|███▏      | 315/1000 [00:27<00:58, 11.65it/s]"
     ]
    },
    {
     "name": "stdout",
     "output_type": "stream",
     "text": [
      "Best State Updated. Epoch: 312\n",
      "Best State Updated. Epoch: 314\n"
     ]
    },
    {
     "name": "stderr",
     "output_type": "stream",
     "text": [
      " 32%|███▏      | 319/1000 [00:27<01:01, 11.06it/s]"
     ]
    },
    {
     "name": "stdout",
     "output_type": "stream",
     "text": [
      "Best State Updated. Epoch: 317\n"
     ]
    },
    {
     "name": "stderr",
     "output_type": "stream",
     "text": [
      " 32%|███▏      | 323/1000 [00:28<01:01, 11.03it/s]"
     ]
    },
    {
     "name": "stdout",
     "output_type": "stream",
     "text": [
      "Best State Updated. Epoch: 320\n",
      "Best State Updated. Epoch: 322\n"
     ]
    },
    {
     "name": "stderr",
     "output_type": "stream",
     "text": [
      " 32%|███▎      | 325/1000 [00:28<01:00, 11.25it/s]"
     ]
    },
    {
     "name": "stdout",
     "output_type": "stream",
     "text": [
      "Best State Updated. Epoch: 323\n"
     ]
    },
    {
     "name": "stderr",
     "output_type": "stream",
     "text": [
      " 33%|███▎      | 329/1000 [00:28<00:59, 11.28it/s]"
     ]
    },
    {
     "name": "stdout",
     "output_type": "stream",
     "text": [
      "Best State Updated. Epoch: 326\n"
     ]
    },
    {
     "name": "stderr",
     "output_type": "stream",
     "text": [
      " 33%|███▎      | 331/1000 [00:28<00:58, 11.51it/s]"
     ]
    },
    {
     "name": "stdout",
     "output_type": "stream",
     "text": [
      "Best State Updated. Epoch: 329\n"
     ]
    },
    {
     "name": "stderr",
     "output_type": "stream",
     "text": [
      " 34%|███▎      | 335/1000 [00:29<00:58, 11.40it/s]"
     ]
    },
    {
     "name": "stdout",
     "output_type": "stream",
     "text": [
      "Best State Updated. Epoch: 333\n",
      "Best State Updated. Epoch: 335\n"
     ]
    },
    {
     "name": "stderr",
     "output_type": "stream",
     "text": [
      " 34%|███▍      | 339/1000 [00:29<00:57, 11.50it/s]"
     ]
    },
    {
     "name": "stdout",
     "output_type": "stream",
     "text": [
      "Best State Updated. Epoch: 336\n"
     ]
    },
    {
     "name": "stderr",
     "output_type": "stream",
     "text": [
      " 34%|███▍      | 343/1000 [00:29<00:59, 11.00it/s]"
     ]
    },
    {
     "name": "stdout",
     "output_type": "stream",
     "text": [
      "Best State Updated. Epoch: 340\n"
     ]
    },
    {
     "name": "stderr",
     "output_type": "stream",
     "text": [
      " 36%|███▋      | 365/1000 [00:31<00:52, 12.14it/s]"
     ]
    },
    {
     "name": "stdout",
     "output_type": "stream",
     "text": [
      "Best State Updated. Epoch: 362\n"
     ]
    },
    {
     "name": "stderr",
     "output_type": "stream",
     "text": [
      " 37%|███▋      | 367/1000 [00:31<00:52, 12.04it/s]"
     ]
    },
    {
     "name": "stdout",
     "output_type": "stream",
     "text": [
      "Best State Updated. Epoch: 365\n"
     ]
    },
    {
     "name": "stderr",
     "output_type": "stream",
     "text": [
      " 37%|███▋      | 371/1000 [00:32<00:55, 11.34it/s]"
     ]
    },
    {
     "name": "stdout",
     "output_type": "stream",
     "text": [
      "Best State Updated. Epoch: 368\n",
      "Best State Updated. Epoch: 370\n"
     ]
    },
    {
     "name": "stderr",
     "output_type": "stream",
     "text": [
      " 37%|███▋      | 373/1000 [00:32<00:54, 11.41it/s]"
     ]
    },
    {
     "name": "stdout",
     "output_type": "stream",
     "text": [
      "Best State Updated. Epoch: 371\n",
      "Best State Updated. Epoch: 372\n"
     ]
    },
    {
     "name": "stderr",
     "output_type": "stream",
     "text": [
      " 38%|███▊      | 379/1000 [00:32<00:51, 12.16it/s]"
     ]
    },
    {
     "name": "stdout",
     "output_type": "stream",
     "text": [
      "Best State Updated. Epoch: 376\n"
     ]
    },
    {
     "name": "stderr",
     "output_type": "stream",
     "text": [
      " 38%|███▊      | 381/1000 [00:32<00:50, 12.16it/s]"
     ]
    },
    {
     "name": "stdout",
     "output_type": "stream",
     "text": [
      "Best State Updated. Epoch: 379\n",
      "Best State Updated. Epoch: 381\n"
     ]
    },
    {
     "name": "stderr",
     "output_type": "stream",
     "text": [
      " 39%|███▊      | 387/1000 [00:33<00:51, 11.98it/s]"
     ]
    },
    {
     "name": "stdout",
     "output_type": "stream",
     "text": [
      "Best State Updated. Epoch: 384\n",
      "Best State Updated. Epoch: 385\n",
      "Best State Updated. Epoch: 386\n"
     ]
    },
    {
     "name": "stderr",
     "output_type": "stream",
     "text": [
      " 39%|███▉      | 391/1000 [00:33<00:51, 11.93it/s]"
     ]
    },
    {
     "name": "stdout",
     "output_type": "stream",
     "text": [
      "Best State Updated. Epoch: 389\n",
      "Best State Updated. Epoch: 391\n"
     ]
    },
    {
     "name": "stderr",
     "output_type": "stream",
     "text": [
      " 40%|███▉      | 395/1000 [00:34<00:49, 12.29it/s]"
     ]
    },
    {
     "name": "stdout",
     "output_type": "stream",
     "text": [
      "Best State Updated. Epoch: 392\n",
      "Best State Updated. Epoch: 394\n"
     ]
    },
    {
     "name": "stderr",
     "output_type": "stream",
     "text": [
      " 40%|███▉      | 399/1000 [00:34<00:49, 12.06it/s]"
     ]
    },
    {
     "name": "stdout",
     "output_type": "stream",
     "text": [
      "Best State Updated. Epoch: 396\n",
      "Best State Updated. Epoch: 397\n"
     ]
    },
    {
     "name": "stderr",
     "output_type": "stream",
     "text": [
      " 40%|████      | 401/1000 [00:34<00:49, 12.04it/s]"
     ]
    },
    {
     "name": "stdout",
     "output_type": "stream",
     "text": [
      "Best State Updated. Epoch: 399\n",
      "Best State Updated. Epoch: 400\n",
      "Best State Updated. Epoch: 401\n"
     ]
    },
    {
     "name": "stderr",
     "output_type": "stream",
     "text": [
      " 41%|████      | 407/1000 [00:35<00:50, 11.74it/s]"
     ]
    },
    {
     "name": "stdout",
     "output_type": "stream",
     "text": [
      "Best State Updated. Epoch: 404\n"
     ]
    },
    {
     "name": "stderr",
     "output_type": "stream",
     "text": [
      " 41%|████      | 409/1000 [00:35<00:49, 11.90it/s]"
     ]
    },
    {
     "name": "stdout",
     "output_type": "stream",
     "text": [
      "Best State Updated. Epoch: 407\n",
      "Best State Updated. Epoch: 409\n"
     ]
    },
    {
     "name": "stderr",
     "output_type": "stream",
     "text": [
      " 42%|████▏     | 415/1000 [00:35<00:47, 12.23it/s]"
     ]
    },
    {
     "name": "stdout",
     "output_type": "stream",
     "text": [
      "Best State Updated. Epoch: 412\n",
      "Best State Updated. Epoch: 414\n"
     ]
    },
    {
     "name": "stderr",
     "output_type": "stream",
     "text": [
      " 42%|████▏     | 419/1000 [00:36<00:48, 12.09it/s]"
     ]
    },
    {
     "name": "stdout",
     "output_type": "stream",
     "text": [
      "Best State Updated. Epoch: 416\n",
      "Best State Updated. Epoch: 417\n",
      "Best State Updated. Epoch: 418\n"
     ]
    },
    {
     "name": "stderr",
     "output_type": "stream",
     "text": [
      " 42%|████▏     | 423/1000 [00:36<00:47, 12.05it/s]"
     ]
    },
    {
     "name": "stdout",
     "output_type": "stream",
     "text": [
      "Best State Updated. Epoch: 420\n",
      "Best State Updated. Epoch: 421\n",
      "Best State Updated. Epoch: 422\n"
     ]
    },
    {
     "name": "stderr",
     "output_type": "stream",
     "text": [
      " 43%|████▎     | 429/1000 [00:36<00:47, 12.05it/s]"
     ]
    },
    {
     "name": "stdout",
     "output_type": "stream",
     "text": [
      "Best State Updated. Epoch: 426\n"
     ]
    },
    {
     "name": "stderr",
     "output_type": "stream",
     "text": [
      " 44%|████▎     | 435/1000 [00:37<00:46, 12.04it/s]"
     ]
    },
    {
     "name": "stdout",
     "output_type": "stream",
     "text": [
      "Best State Updated. Epoch: 433\n"
     ]
    },
    {
     "name": "stderr",
     "output_type": "stream",
     "text": [
      " 44%|████▍     | 439/1000 [00:37<00:46, 12.16it/s]"
     ]
    },
    {
     "name": "stdout",
     "output_type": "stream",
     "text": [
      "Best State Updated. Epoch: 436\n",
      "Best State Updated. Epoch: 437\n"
     ]
    },
    {
     "name": "stderr",
     "output_type": "stream",
     "text": [
      " 44%|████▍     | 441/1000 [00:37<00:46, 12.08it/s]"
     ]
    },
    {
     "name": "stdout",
     "output_type": "stream",
     "text": [
      "Best State Updated. Epoch: 439\n",
      "Best State Updated. Epoch: 440\n"
     ]
    },
    {
     "name": "stderr",
     "output_type": "stream",
     "text": [
      " 44%|████▍     | 445/1000 [00:38<00:46, 11.89it/s]"
     ]
    },
    {
     "name": "stdout",
     "output_type": "stream",
     "text": [
      "Best State Updated. Epoch: 443\n"
     ]
    },
    {
     "name": "stderr",
     "output_type": "stream",
     "text": [
      " 45%|████▌     | 451/1000 [00:38<00:45, 11.96it/s]"
     ]
    },
    {
     "name": "stdout",
     "output_type": "stream",
     "text": [
      "Best State Updated. Epoch: 448\n"
     ]
    },
    {
     "name": "stderr",
     "output_type": "stream",
     "text": [
      " 48%|████▊     | 479/1000 [00:41<00:42, 12.22it/s]"
     ]
    },
    {
     "name": "stdout",
     "output_type": "stream",
     "text": [
      "Best State Updated. Epoch: 477\n"
     ]
    },
    {
     "name": "stderr",
     "output_type": "stream",
     "text": [
      " 48%|████▊     | 483/1000 [00:41<00:42, 12.09it/s]"
     ]
    },
    {
     "name": "stdout",
     "output_type": "stream",
     "text": [
      "Best State Updated. Epoch: 480\n"
     ]
    },
    {
     "name": "stderr",
     "output_type": "stream",
     "text": [
      " 58%|█████▊    | 577/1000 [00:49<00:34, 12.19it/s]"
     ]
    },
    {
     "name": "stdout",
     "output_type": "stream",
     "text": [
      "Best State Updated. Epoch: 574\n",
      "Best State Updated. Epoch: 575\n"
     ]
    },
    {
     "name": "stderr",
     "output_type": "stream",
     "text": [
      " 58%|█████▊    | 579/1000 [00:49<00:34, 12.05it/s]"
     ]
    },
    {
     "name": "stdout",
     "output_type": "stream",
     "text": [
      "Best State Updated. Epoch: 577\n"
     ]
    },
    {
     "name": "stderr",
     "output_type": "stream",
     "text": [
      " 70%|███████   | 701/1000 [00:59<00:23, 12.52it/s]"
     ]
    },
    {
     "name": "stdout",
     "output_type": "stream",
     "text": [
      "Best State Updated. Epoch: 699\n",
      "Best State Updated. Epoch: 700\n",
      "Best State Updated. Epoch: 701\n"
     ]
    },
    {
     "name": "stderr",
     "output_type": "stream",
     "text": [
      " 70%|███████   | 703/1000 [00:59<00:23, 12.51it/s]"
     ]
    },
    {
     "name": "stdout",
     "output_type": "stream",
     "text": [
      "Best State Updated. Epoch: 702\n"
     ]
    },
    {
     "name": "stderr",
     "output_type": "stream",
     "text": [
      " 71%|███████▏  | 713/1000 [01:00<00:23, 12.43it/s]"
     ]
    },
    {
     "name": "stdout",
     "output_type": "stream",
     "text": [
      "Best State Updated. Epoch: 710\n",
      "Best State Updated. Epoch: 712\n"
     ]
    },
    {
     "name": "stderr",
     "output_type": "stream",
     "text": [
      " 73%|███████▎  | 729/1000 [01:01<00:21, 12.52it/s]"
     ]
    },
    {
     "name": "stdout",
     "output_type": "stream",
     "text": [
      "Best State Updated. Epoch: 726\n"
     ]
    },
    {
     "name": "stderr",
     "output_type": "stream",
     "text": [
      " 73%|███████▎  | 731/1000 [01:01<00:21, 12.33it/s]"
     ]
    },
    {
     "name": "stdout",
     "output_type": "stream",
     "text": [
      "Best State Updated. Epoch: 729\n"
     ]
    },
    {
     "name": "stderr",
     "output_type": "stream",
     "text": [
      " 74%|███████▎  | 737/1000 [01:02<00:23, 11.35it/s]"
     ]
    },
    {
     "name": "stdout",
     "output_type": "stream",
     "text": [
      "Best State Updated. Epoch: 734\n"
     ]
    },
    {
     "name": "stderr",
     "output_type": "stream",
     "text": [
      " 74%|███████▍  | 739/1000 [01:02<00:22, 11.51it/s]"
     ]
    },
    {
     "name": "stdout",
     "output_type": "stream",
     "text": [
      "Best State Updated. Epoch: 737\n"
     ]
    },
    {
     "name": "stderr",
     "output_type": "stream",
     "text": [
      " 75%|███████▍  | 749/1000 [01:03<00:20, 11.95it/s]"
     ]
    },
    {
     "name": "stdout",
     "output_type": "stream",
     "text": [
      "Best State Updated. Epoch: 746\n",
      "Best State Updated. Epoch: 748\n"
     ]
    },
    {
     "name": "stderr",
     "output_type": "stream",
     "text": [
      " 75%|███████▌  | 753/1000 [01:03<00:20, 11.98it/s]"
     ]
    },
    {
     "name": "stdout",
     "output_type": "stream",
     "text": [
      "Best State Updated. Epoch: 750\n"
     ]
    },
    {
     "name": "stderr",
     "output_type": "stream",
     "text": [
      " 76%|███████▌  | 757/1000 [01:03<00:20, 11.98it/s]"
     ]
    },
    {
     "name": "stdout",
     "output_type": "stream",
     "text": [
      "Best State Updated. Epoch: 755\n",
      "Best State Updated. Epoch: 757\n"
     ]
    },
    {
     "name": "stderr",
     "output_type": "stream",
     "text": [
      " 76%|███████▌  | 761/1000 [01:04<00:20, 11.52it/s]"
     ]
    },
    {
     "name": "stdout",
     "output_type": "stream",
     "text": [
      "Best State Updated. Epoch: 758\n"
     ]
    },
    {
     "name": "stderr",
     "output_type": "stream",
     "text": [
      " 76%|███████▋  | 765/1000 [01:04<00:19, 11.79it/s]"
     ]
    },
    {
     "name": "stdout",
     "output_type": "stream",
     "text": [
      "Best State Updated. Epoch: 762\n",
      "Best State Updated. Epoch: 763\n"
     ]
    },
    {
     "name": "stderr",
     "output_type": "stream",
     "text": [
      " 77%|███████▋  | 769/1000 [01:05<00:19, 11.93it/s]"
     ]
    },
    {
     "name": "stdout",
     "output_type": "stream",
     "text": [
      "Best State Updated. Epoch: 766\n",
      "Best State Updated. Epoch: 767\n",
      "Best State Updated. Epoch: 768\n"
     ]
    },
    {
     "name": "stderr",
     "output_type": "stream",
     "text": [
      " 77%|███████▋  | 771/1000 [01:05<00:19, 11.94it/s]"
     ]
    },
    {
     "name": "stdout",
     "output_type": "stream",
     "text": [
      "Best State Updated. Epoch: 769\n",
      "Best State Updated. Epoch: 771\n"
     ]
    },
    {
     "name": "stderr",
     "output_type": "stream",
     "text": [
      " 77%|███████▋  | 773/1000 [01:05<00:18, 12.12it/s]"
     ]
    },
    {
     "name": "stdout",
     "output_type": "stream",
     "text": [
      "Best State Updated. Epoch: 772\n",
      "Best State Updated. Epoch: 773\n"
     ]
    },
    {
     "name": "stderr",
     "output_type": "stream",
     "text": [
      " 78%|███████▊  | 777/1000 [01:05<00:19, 11.22it/s]"
     ]
    },
    {
     "name": "stdout",
     "output_type": "stream",
     "text": [
      "Best State Updated. Epoch: 774\n",
      "Best State Updated. Epoch: 775\n",
      "Best State Updated. Epoch: 776\n"
     ]
    },
    {
     "name": "stderr",
     "output_type": "stream",
     "text": [
      " 78%|███████▊  | 779/1000 [01:05<00:19, 11.47it/s]"
     ]
    },
    {
     "name": "stdout",
     "output_type": "stream",
     "text": [
      "Best State Updated. Epoch: 777\n",
      "Best State Updated. Epoch: 778\n",
      "Best State Updated. Epoch: 779\n"
     ]
    },
    {
     "name": "stderr",
     "output_type": "stream",
     "text": [
      " 78%|███████▊  | 783/1000 [01:06<00:18, 11.69it/s]"
     ]
    },
    {
     "name": "stdout",
     "output_type": "stream",
     "text": [
      "Best State Updated. Epoch: 780\n",
      "Best State Updated. Epoch: 781\n",
      "Best State Updated. Epoch: 782\n"
     ]
    },
    {
     "name": "stderr",
     "output_type": "stream",
     "text": [
      " 78%|███████▊  | 785/1000 [01:06<00:18, 11.93it/s]"
     ]
    },
    {
     "name": "stdout",
     "output_type": "stream",
     "text": [
      "Best State Updated. Epoch: 783\n",
      "Best State Updated. Epoch: 784\n"
     ]
    },
    {
     "name": "stderr",
     "output_type": "stream",
     "text": [
      " 79%|███████▊  | 787/1000 [01:06<00:19, 10.72it/s]"
     ]
    },
    {
     "name": "stdout",
     "output_type": "stream",
     "text": [
      "Best State Updated. Epoch: 785\n",
      "Best State Updated. Epoch: 786\n",
      "Best State Updated. Epoch: 787\n"
     ]
    },
    {
     "name": "stderr",
     "output_type": "stream",
     "text": [
      " 79%|███████▉  | 791/1000 [01:06<00:18, 11.42it/s]"
     ]
    },
    {
     "name": "stdout",
     "output_type": "stream",
     "text": [
      "Best State Updated. Epoch: 788\n",
      "Best State Updated. Epoch: 789\n",
      "Best State Updated. Epoch: 790\n"
     ]
    },
    {
     "name": "stderr",
     "output_type": "stream",
     "text": [
      " 79%|███████▉  | 793/1000 [01:07<00:17, 11.82it/s]"
     ]
    },
    {
     "name": "stdout",
     "output_type": "stream",
     "text": [
      "Best State Updated. Epoch: 791\n",
      "Best State Updated. Epoch: 793\n"
     ]
    },
    {
     "name": "stderr",
     "output_type": "stream",
     "text": [
      " 80%|███████▉  | 797/1000 [01:07<00:16, 12.06it/s]"
     ]
    },
    {
     "name": "stdout",
     "output_type": "stream",
     "text": [
      "Best State Updated. Epoch: 795\n",
      "Best State Updated. Epoch: 796\n",
      "Best State Updated. Epoch: 797\n"
     ]
    },
    {
     "name": "stderr",
     "output_type": "stream",
     "text": [
      " 80%|████████  | 801/1000 [01:07<00:17, 11.32it/s]"
     ]
    },
    {
     "name": "stdout",
     "output_type": "stream",
     "text": [
      "Best State Updated. Epoch: 798\n",
      "Best State Updated. Epoch: 799\n",
      "Best State Updated. Epoch: 800\n"
     ]
    },
    {
     "name": "stderr",
     "output_type": "stream",
     "text": [
      " 80%|████████  | 805/1000 [01:08<00:17, 11.20it/s]"
     ]
    },
    {
     "name": "stdout",
     "output_type": "stream",
     "text": [
      "Best State Updated. Epoch: 802\n",
      "Best State Updated. Epoch: 803\n"
     ]
    },
    {
     "name": "stderr",
     "output_type": "stream",
     "text": [
      " 81%|████████  | 811/1000 [01:08<00:16, 11.73it/s]"
     ]
    },
    {
     "name": "stdout",
     "output_type": "stream",
     "text": [
      "Best State Updated. Epoch: 808\n",
      "Best State Updated. Epoch: 809\n",
      "Best State Updated. Epoch: 810\n"
     ]
    },
    {
     "name": "stderr",
     "output_type": "stream",
     "text": [
      " 82%|████████▏ | 815/1000 [01:08<00:15, 11.89it/s]"
     ]
    },
    {
     "name": "stdout",
     "output_type": "stream",
     "text": [
      "Best State Updated. Epoch: 813\n"
     ]
    },
    {
     "name": "stderr",
     "output_type": "stream",
     "text": [
      " 82%|████████▏ | 821/1000 [01:09<00:16, 10.99it/s]"
     ]
    },
    {
     "name": "stdout",
     "output_type": "stream",
     "text": [
      "Best State Updated. Epoch: 818\n"
     ]
    },
    {
     "name": "stderr",
     "output_type": "stream",
     "text": [
      " 82%|████████▎ | 825/1000 [01:09<00:15, 11.52it/s]"
     ]
    },
    {
     "name": "stdout",
     "output_type": "stream",
     "text": [
      "Best State Updated. Epoch: 823\n",
      "Best State Updated. Epoch: 824\n"
     ]
    },
    {
     "name": "stderr",
     "output_type": "stream",
     "text": [
      " 83%|████████▎ | 829/1000 [01:10<00:14, 11.90it/s]"
     ]
    },
    {
     "name": "stdout",
     "output_type": "stream",
     "text": [
      "Best State Updated. Epoch: 827\n",
      "Best State Updated. Epoch: 829\n"
     ]
    },
    {
     "name": "stderr",
     "output_type": "stream",
     "text": [
      " 84%|████████▎ | 835/1000 [01:10<00:13, 11.96it/s]"
     ]
    },
    {
     "name": "stdout",
     "output_type": "stream",
     "text": [
      "Best State Updated. Epoch: 832\n",
      "Best State Updated. Epoch: 834\n"
     ]
    },
    {
     "name": "stderr",
     "output_type": "stream",
     "text": [
      " 84%|████████▍ | 839/1000 [01:11<00:13, 12.05it/s]"
     ]
    },
    {
     "name": "stdout",
     "output_type": "stream",
     "text": [
      "Best State Updated. Epoch: 837\n",
      "Best State Updated. Epoch: 838\n",
      "Best State Updated. Epoch: 839\n"
     ]
    },
    {
     "name": "stderr",
     "output_type": "stream",
     "text": [
      " 84%|████████▍ | 843/1000 [01:11<00:13, 11.49it/s]"
     ]
    },
    {
     "name": "stdout",
     "output_type": "stream",
     "text": [
      "Best State Updated. Epoch: 841\n",
      "Best State Updated. Epoch: 842\n"
     ]
    },
    {
     "name": "stderr",
     "output_type": "stream",
     "text": [
      " 85%|████████▍ | 847/1000 [01:11<00:13, 11.77it/s]"
     ]
    },
    {
     "name": "stdout",
     "output_type": "stream",
     "text": [
      "Best State Updated. Epoch: 844\n"
     ]
    },
    {
     "name": "stderr",
     "output_type": "stream",
     "text": [
      " 85%|████████▍ | 849/1000 [01:11<00:13, 11.22it/s]"
     ]
    },
    {
     "name": "stdout",
     "output_type": "stream",
     "text": [
      "Best State Updated. Epoch: 847\n",
      "Best State Updated. Epoch: 848\n",
      "Best State Updated. Epoch: 849\n"
     ]
    },
    {
     "name": "stderr",
     "output_type": "stream",
     "text": [
      " 86%|████████▌ | 855/1000 [01:12<00:12, 11.45it/s]"
     ]
    },
    {
     "name": "stdout",
     "output_type": "stream",
     "text": [
      "Best State Updated. Epoch: 853\n",
      "Best State Updated. Epoch: 854\n"
     ]
    },
    {
     "name": "stderr",
     "output_type": "stream",
     "text": [
      " 86%|████████▌ | 861/1000 [01:13<00:12, 11.09it/s]"
     ]
    },
    {
     "name": "stdout",
     "output_type": "stream",
     "text": [
      "Best State Updated. Epoch: 858\n",
      "Best State Updated. Epoch: 859\n"
     ]
    },
    {
     "name": "stderr",
     "output_type": "stream",
     "text": [
      " 87%|████████▋ | 867/1000 [01:13<00:10, 12.14it/s]"
     ]
    },
    {
     "name": "stdout",
     "output_type": "stream",
     "text": [
      "Best State Updated. Epoch: 864\n",
      "Best State Updated. Epoch: 866\n"
     ]
    },
    {
     "name": "stderr",
     "output_type": "stream",
     "text": [
      " 87%|████████▋ | 871/1000 [01:13<00:10, 12.16it/s]"
     ]
    },
    {
     "name": "stdout",
     "output_type": "stream",
     "text": [
      "Best State Updated. Epoch: 869\n"
     ]
    },
    {
     "name": "stderr",
     "output_type": "stream",
     "text": [
      " 88%|████████▊ | 875/1000 [01:14<00:10, 12.28it/s]"
     ]
    },
    {
     "name": "stdout",
     "output_type": "stream",
     "text": [
      "Best State Updated. Epoch: 873\n",
      "Best State Updated. Epoch: 875\n"
     ]
    },
    {
     "name": "stderr",
     "output_type": "stream",
     "text": [
      " 88%|████████▊ | 879/1000 [01:14<00:10, 11.84it/s]"
     ]
    },
    {
     "name": "stdout",
     "output_type": "stream",
     "text": [
      "Best State Updated. Epoch: 876\n"
     ]
    },
    {
     "name": "stderr",
     "output_type": "stream",
     "text": [
      " 88%|████████▊ | 885/1000 [01:15<00:09, 11.54it/s]"
     ]
    },
    {
     "name": "stdout",
     "output_type": "stream",
     "text": [
      "Best State Updated. Epoch: 883\n",
      "Best State Updated. Epoch: 884\n"
     ]
    },
    {
     "name": "stderr",
     "output_type": "stream",
     "text": [
      " 89%|████████▉ | 891/1000 [01:15<00:08, 12.32it/s]"
     ]
    },
    {
     "name": "stdout",
     "output_type": "stream",
     "text": [
      "Best State Updated. Epoch: 889\n",
      "Best State Updated. Epoch: 890\n"
     ]
    },
    {
     "name": "stderr",
     "output_type": "stream",
     "text": [
      " 90%|████████▉ | 895/1000 [01:15<00:08, 11.85it/s]"
     ]
    },
    {
     "name": "stdout",
     "output_type": "stream",
     "text": [
      "Best State Updated. Epoch: 892\n"
     ]
    },
    {
     "name": "stderr",
     "output_type": "stream",
     "text": [
      " 90%|████████▉ | 897/1000 [01:16<00:08, 11.49it/s]"
     ]
    },
    {
     "name": "stdout",
     "output_type": "stream",
     "text": [
      "Best State Updated. Epoch: 895\n"
     ]
    },
    {
     "name": "stderr",
     "output_type": "stream",
     "text": [
      " 90%|█████████ | 901/1000 [01:16<00:09, 10.51it/s]"
     ]
    },
    {
     "name": "stdout",
     "output_type": "stream",
     "text": [
      "Best State Updated. Epoch: 899\n"
     ]
    },
    {
     "name": "stderr",
     "output_type": "stream",
     "text": [
      " 90%|█████████ | 905/1000 [01:16<00:08, 11.65it/s]"
     ]
    },
    {
     "name": "stdout",
     "output_type": "stream",
     "text": [
      "Best State Updated. Epoch: 903\n",
      "Best State Updated. Epoch: 905\n"
     ]
    },
    {
     "name": "stderr",
     "output_type": "stream",
     "text": [
      " 91%|█████████ | 909/1000 [01:17<00:07, 12.06it/s]"
     ]
    },
    {
     "name": "stdout",
     "output_type": "stream",
     "text": [
      "Best State Updated. Epoch: 906\n"
     ]
    },
    {
     "name": "stderr",
     "output_type": "stream",
     "text": [
      " 94%|█████████▎| 937/1000 [01:19<00:05, 12.23it/s]"
     ]
    },
    {
     "name": "stdout",
     "output_type": "stream",
     "text": [
      "Best State Updated. Epoch: 935\n",
      "Best State Updated. Epoch: 936\n",
      "Best State Updated. Epoch: 937\n"
     ]
    },
    {
     "name": "stderr",
     "output_type": "stream",
     "text": [
      " 94%|█████████▍| 941/1000 [01:19<00:05, 11.17it/s]"
     ]
    },
    {
     "name": "stdout",
     "output_type": "stream",
     "text": [
      "Best State Updated. Epoch: 939\n"
     ]
    },
    {
     "name": "stderr",
     "output_type": "stream",
     "text": [
      " 94%|█████████▍| 943/1000 [01:19<00:05, 11.31it/s]"
     ]
    },
    {
     "name": "stdout",
     "output_type": "stream",
     "text": [
      "Best State Updated. Epoch: 941\n",
      "Best State Updated. Epoch: 943\n"
     ]
    },
    {
     "name": "stderr",
     "output_type": "stream",
     "text": [
      " 95%|█████████▍| 947/1000 [01:20<00:04, 11.63it/s]"
     ]
    },
    {
     "name": "stdout",
     "output_type": "stream",
     "text": [
      "Best State Updated. Epoch: 944\n",
      "Best State Updated. Epoch: 945\n",
      "Best State Updated. Epoch: 946\n"
     ]
    },
    {
     "name": "stderr",
     "output_type": "stream",
     "text": [
      " 95%|█████████▌| 951/1000 [01:20<00:04, 11.59it/s]"
     ]
    },
    {
     "name": "stdout",
     "output_type": "stream",
     "text": [
      "Best State Updated. Epoch: 948\n",
      "Best State Updated. Epoch: 949\n",
      "Best State Updated. Epoch: 950\n"
     ]
    },
    {
     "name": "stderr",
     "output_type": "stream",
     "text": [
      " 95%|█████████▌| 953/1000 [01:20<00:04, 11.66it/s]"
     ]
    },
    {
     "name": "stdout",
     "output_type": "stream",
     "text": [
      "Best State Updated. Epoch: 951\n",
      "Best State Updated. Epoch: 953\n"
     ]
    },
    {
     "name": "stderr",
     "output_type": "stream",
     "text": [
      " 96%|█████████▌| 957/1000 [01:21<00:03, 11.31it/s]"
     ]
    },
    {
     "name": "stdout",
     "output_type": "stream",
     "text": [
      "Best State Updated. Epoch: 954\n",
      "Best State Updated. Epoch: 955\n",
      "Best State Updated. Epoch: 956\n"
     ]
    },
    {
     "name": "stderr",
     "output_type": "stream",
     "text": [
      " 96%|█████████▌| 959/1000 [01:21<00:03, 11.35it/s]"
     ]
    },
    {
     "name": "stdout",
     "output_type": "stream",
     "text": [
      "Best State Updated. Epoch: 957\n",
      "Best State Updated. Epoch: 958\n",
      "Best State Updated. Epoch: 959\n"
     ]
    },
    {
     "name": "stderr",
     "output_type": "stream",
     "text": [
      " 96%|█████████▋| 963/1000 [01:21<00:03, 11.79it/s]"
     ]
    },
    {
     "name": "stdout",
     "output_type": "stream",
     "text": [
      "Best State Updated. Epoch: 960\n"
     ]
    },
    {
     "name": "stderr",
     "output_type": "stream",
     "text": [
      " 97%|█████████▋| 967/1000 [01:21<00:02, 11.55it/s]"
     ]
    },
    {
     "name": "stdout",
     "output_type": "stream",
     "text": [
      "Best State Updated. Epoch: 964\n"
     ]
    },
    {
     "name": "stderr",
     "output_type": "stream",
     "text": [
      " 98%|█████████▊| 977/1000 [01:22<00:01, 12.01it/s]"
     ]
    },
    {
     "name": "stdout",
     "output_type": "stream",
     "text": [
      "Best State Updated. Epoch: 975\n"
     ]
    },
    {
     "name": "stderr",
     "output_type": "stream",
     "text": [
      " 98%|█████████▊| 981/1000 [01:23<00:01, 12.02it/s]"
     ]
    },
    {
     "name": "stdout",
     "output_type": "stream",
     "text": [
      "Best State Updated. Epoch: 979\n"
     ]
    },
    {
     "name": "stderr",
     "output_type": "stream",
     "text": [
      " 99%|█████████▊| 987/1000 [01:23<00:01, 12.06it/s]"
     ]
    },
    {
     "name": "stdout",
     "output_type": "stream",
     "text": [
      "Best State Updated. Epoch: 984\n"
     ]
    },
    {
     "name": "stderr",
     "output_type": "stream",
     "text": [
      " 99%|█████████▉| 991/1000 [01:24<00:00, 11.56it/s]"
     ]
    },
    {
     "name": "stdout",
     "output_type": "stream",
     "text": [
      "Best State Updated. Epoch: 989\n"
     ]
    },
    {
     "name": "stderr",
     "output_type": "stream",
     "text": [
      "100%|█████████▉| 995/1000 [01:24<00:00, 11.81it/s]"
     ]
    },
    {
     "name": "stdout",
     "output_type": "stream",
     "text": [
      "Best State Updated. Epoch: 993\n",
      "Best State Updated. Epoch: 994\n"
     ]
    },
    {
     "name": "stderr",
     "output_type": "stream",
     "text": [
      "100%|█████████▉| 999/1000 [01:24<00:00, 10.94it/s]"
     ]
    },
    {
     "name": "stdout",
     "output_type": "stream",
     "text": [
      "Best State Updated. Epoch: 996\n",
      "Best State Updated. Epoch: 997\n",
      "Best State Updated. Epoch: 999\n"
     ]
    },
    {
     "data": {
      "image/png": "[encoded data removed]",
      "text/plain": [
       "<Figure size 640x480 with 2 Axes>"
      ]
     },
     "metadata": {},
     "output_type": "display_data"
    },
    {
     "name": "stderr",
     "output_type": "stream",
     "text": [
      "100%|██████████| 1000/1000 [01:25<00:00, 11.63it/s]"
     ]
    },
    {
     "name": "stdout",
     "output_type": "stream",
     "text": [
      " Best Test Loss: 0.0032100528478622437\n"
     ]
    },
    {
     "name": "stderr",
     "output_type": "stream",
     "text": [
      "\n"
     ]
    }
   ],
   "source": [
    "# Optimize model\n",
    "\n",
    "network_dict = {\n",
    "    \"network\": VariableANN,\n",
    "    \"kwargs\": {\"input_size\": 3},\n",
    "    \"optimize_kwargs\": {\n",
    "        \"dropout\": {\"name\": \"dropout\", \"low\": 0.0, \"high\": 0.5, \"step\": 0.05},\n",
    "        \"neurons\": {\"name\": \"neurons\", \"low\": 16, \"high\": 256, \"step\": 16, \"multi\": np.random.randint(3, 6)},\n",
    "    },\n",
    "}\n",
    "\n",
    "\n",
    "optimizer_dict = {\n",
    "    \"optimizer\": optim.Adam,\n",
    "    \"kwargs\": {},\n",
    "    \"optimize_kwargs\": {\n",
    "        \"lr\": {\"name\": \"lr\", \"low\": 1e-5, \"high\": 1e-1, \"log\": True},\n",
    "        \"weight_decay\": {\"name\": \"weight_decay\", \"low\": 1e-5, \"high\": 1e-3, \"log\": True},\n",
    "    },\n",
    "}\n",
    "\n",
    "best_network, best_optimizer = model.optimize_network(\n",
    "    trial_count, \"minimize\", network_dict, optimizer_dict, loss_fn, epochs\n",
    ")\n",
    "\n",
    "trained_net = model.train_model(\"Model1\", best_network, best_optimizer, loss_fn, 1000, plot_output=True)"
   ]
  },
  {
   "cell_type": "code",
   "execution_count": 33,
   "metadata": {},
   "outputs": [
    {
     "name": "stdout",
     "output_type": "stream",
     "text": [
      "RMSE: 0.009961\n",
      "MAE: 0.005449\n",
      "RMSE: 0.008446\n",
      "MAE: 0.005253\n",
      "0.49119488874278283\n"
     ]
    }
   ],
   "source": [
    "# TESTING\n",
    "test_rmse, _, test_predictions = model.validate_model(trained_net, \"test\")\n",
    "valid_rmse, _, valid_predictions = model.validate_model(trained_net, \"valid\")\n",
    "\n",
    "print(model.train_labels[1].mean())"
   ]
  },
  {
   "cell_type": "markdown",
   "metadata": {},
   "source": [
    "## Optimizing"
   ]
  },
  {
   "cell_type": "code",
   "execution_count": 34,
   "metadata": {},
   "outputs": [],
   "source": [
    "def run_fn(wg_spacing_coup, coup_length):\n",
    "    freq = freq0\n",
    "    feature_array = np.array((wg_spacing_coup, coup_length, freq))\n",
    "    feature_array = feature_array.reshape((1, -1))\n",
    "    prediction = model.make_prediction(trained_net, True, feature_array, 2)\n",
    "\n",
    "    # return prediction[0]\n",
    "    return -(abs(prediction[0] - 0.25)**2 + abs(prediction[1] - 0.75)**2)"
   ]
  },
  {
   "cell_type": "code",
   "execution_count": 35,
   "metadata": {},
   "outputs": [],
   "source": [
    "method = tdd.MethodBayOpt(\n",
    "    initial_iter=500,\n",
    "    n_iter=100,\n",
    "    acq_func='ucb',\n",
    "    kappa=10,\n",
    "    xi=0.9,\n",
    "    seed=1,\n",
    ")\n",
    "\n",
    "predict_parameters = parameters\n",
    "\n",
    "output_dir = \"/home/matt/Documents/Flexcompute/mmi/data\"\n",
    "design_space = tdd.DesignSpace(\n",
    "    method=method,\n",
    "    parameters=predict_parameters,\n",
    "    task_name=\"dc_predict_1\",\n",
    "    folder_name=\"DCV1\",\n",
    "    path_dir=output_dir,\n",
    ")"
   ]
  },
  {
   "cell_type": "code",
   "execution_count": 36,
   "metadata": {},
   "outputs": [
    {
     "data": {
      "text/html": [
       "<pre style=\"white-space:pre;overflow-x:auto;line-height:normal;font-family:Menlo,'DejaVu Sans Mono',consolas,'Courier New',monospace\"><span style=\"color: #7fbfbf; text-decoration-color: #7fbfbf\">17:43:16 BST </span>Best Fit from Initial Solutions: <span style=\"color: #008080; text-decoration-color: #008080; font-weight: bold\">-0.0</span>                              \n",
       "<span style=\"color: #7fbfbf; text-decoration-color: #7fbfbf\">             </span>                                                                   \n",
       "</pre>\n"
      ],
      "text/plain": [
       "\u001b[2;36m17:43:16 BST\u001b[0m\u001b[2;36m \u001b[0mBest Fit from Initial Solutions: \u001b[1;36m-0.0\u001b[0m                              \n",
       "\u001b[2;36m             \u001b[0m                                                                   \n"
      ]
     },
     "metadata": {},
     "output_type": "display_data"
    },
    {
     "data": {
      "text/html": [
       "<pre style=\"white-space:pre;overflow-x:auto;line-height:normal;font-family:Menlo,'DejaVu Sans Mono',consolas,'Courier New',monospace\"><span style=\"color: #7fbfbf; text-decoration-color: #7fbfbf\">17:44:51 BST </span>Best Result: <span style=\"color: #008080; text-decoration-color: #008080; font-weight: bold\">-6.408347444519791e-05</span>                                \n",
       "<span style=\"color: #7fbfbf; text-decoration-color: #7fbfbf\">             </span>Best Parameters: coup_length: <span style=\"color: #008080; text-decoration-color: #008080; font-weight: bold\">6.443073730510251</span> wg_spacing_coup:   \n",
       "<span style=\"color: #7fbfbf; text-decoration-color: #7fbfbf\">             </span><span style=\"color: #008080; text-decoration-color: #008080; font-weight: bold\">0.24772323088248976</span>                                                \n",
       "<span style=\"color: #7fbfbf; text-decoration-color: #7fbfbf\">             </span>                                                                   \n",
       "</pre>\n"
      ],
      "text/plain": [
       "\u001b[2;36m17:44:51 BST\u001b[0m\u001b[2;36m \u001b[0mBest Result: \u001b[1;36m-6.408347444519791e-05\u001b[0m                                \n",
       "\u001b[2;36m             \u001b[0mBest Parameters: coup_length: \u001b[1;36m6.443073730510251\u001b[0m wg_spacing_coup:   \n",
       "\u001b[2;36m             \u001b[0m\u001b[1;36m0.24772323088248976\u001b[0m                                                \n",
       "\u001b[2;36m             \u001b[0m                                                                   \n"
      ]
     },
     "metadata": {},
     "output_type": "display_data"
    }
   ],
   "source": [
    "predict_results = design_space.run(run_fn, verbose=True)\n",
    "predict_df = predict_results.to_dataframe()"
   ]
  },
  {
   "cell_type": "code",
   "execution_count": 47,
   "metadata": {},
   "outputs": [
    {
     "data": {
      "image/png": "[encoded data removed]",
      "text/plain": [
       "<Figure size 640x480 with 2 Axes>"
      ]
     },
     "metadata": {},
     "output_type": "display_data"
    }
   ],
   "source": [
    "predict_scatter = plt.scatter(predict_df[\"wg_spacing_coup\"], predict_df[\"coup_length\"], c=predict_df[\"output\"])\n",
    "plt.xlabel(\"wg_spacing_coup\")\n",
    "plt.ylabel(\"coup_length\")\n",
    "plt.colorbar(predict_scatter)\n",
    "plt.show()"
   ]
  },
  {
   "cell_type": "code",
   "execution_count": 37,
   "metadata": {},
   "outputs": [
    {
     "data": {
      "text/html": [
       "<pre style=\"white-space:pre;overflow-x:auto;line-height:normal;font-family:Menlo,'DejaVu Sans Mono',consolas,'Courier New',monospace\"><span style=\"color: #7fbfbf; text-decoration-color: #7fbfbf\">17:47:02 BST </span>Created task <span style=\"color: #008000; text-decoration-color: #008000\">'best_predicted'</span> with task_id                         \n",
       "<span style=\"color: #7fbfbf; text-decoration-color: #7fbfbf\">             </span><span style=\"color: #008000; text-decoration-color: #008000\">'fdve-f67ca83f-e009-42f3-b432-5bccb4a3bea2'</span> and task_type <span style=\"color: #008000; text-decoration-color: #008000\">'FDTD'</span>.  \n",
       "</pre>\n"
      ],
      "text/plain": [
       "\u001b[2;36m17:47:02 BST\u001b[0m\u001b[2;36m \u001b[0mCreated task \u001b[32m'best_predicted'\u001b[0m with task_id                         \n",
       "\u001b[2;36m             \u001b[0m\u001b[32m'fdve-f67ca83f-e009-42f3-b432-5bccb4a3bea2'\u001b[0m and task_type \u001b[32m'FDTD'\u001b[0m.  \n"
      ]
     },
     "metadata": {},
     "output_type": "display_data"
    },
    {
     "data": {
      "text/html": [
       "<pre style=\"white-space:pre;overflow-x:auto;line-height:normal;font-family:Menlo,'DejaVu Sans Mono',consolas,'Courier New',monospace\"><span style=\"color: #7fbfbf; text-decoration-color: #7fbfbf\">             </span>View task using web UI at                                          \n",
       "<span style=\"color: #7fbfbf; text-decoration-color: #7fbfbf\">             </span><a href=\"https://tidy3d.simulation.cloud/workbench?taskId=fdve-f67ca83f-e009-42f3-b432-5bccb4a3bea2\" target=\"_blank\"><span style=\"color: #008000; text-decoration-color: #008000\">'https://tidy3d.simulation.cloud/workbench?taskId=fdve-f67ca83f-e00</span></a>\n",
       "<span style=\"color: #7fbfbf; text-decoration-color: #7fbfbf\">             </span><a href=\"https://tidy3d.simulation.cloud/workbench?taskId=fdve-f67ca83f-e009-42f3-b432-5bccb4a3bea2\" target=\"_blank\"><span style=\"color: #008000; text-decoration-color: #008000\">9-42f3-b432-5bccb4a3bea2'</span></a>.                                         \n",
       "</pre>\n"
      ],
      "text/plain": [
       "\u001b[2;36m            \u001b[0m\u001b[2;36m \u001b[0mView task using web UI at                                          \n",
       "\u001b[2;36m             \u001b[0m\u001b]8;id=733993;https://tidy3d.simulation.cloud/workbench?taskId=fdve-f67ca83f-e009-42f3-b432-5bccb4a3bea2\u001b\\\u001b[32m'https://tidy3d.simulation.cloud/workbench?\u001b[0m\u001b]8;;\u001b\\\u001b]8;id=760450;https://tidy3d.simulation.cloud/workbench?taskId=fdve-f67ca83f-e009-42f3-b432-5bccb4a3bea2\u001b\\\u001b[32mtaskId\u001b[0m\u001b]8;;\u001b\\\u001b]8;id=733993;https://tidy3d.simulation.cloud/workbench?taskId=fdve-f67ca83f-e009-42f3-b432-5bccb4a3bea2\u001b\\\u001b[32m=\u001b[0m\u001b]8;;\u001b\\\u001b]8;id=808545;https://tidy3d.simulation.cloud/workbench?taskId=fdve-f67ca83f-e009-42f3-b432-5bccb4a3bea2\u001b\\\u001b[32mfdve\u001b[0m\u001b]8;;\u001b\\\u001b]8;id=733993;https://tidy3d.simulation.cloud/workbench?taskId=fdve-f67ca83f-e009-42f3-b432-5bccb4a3bea2\u001b\\\u001b[32m-f67ca83f-e00\u001b[0m\u001b]8;;\u001b\\\n",
       "\u001b[2;36m             \u001b[0m\u001b]8;id=733993;https://tidy3d.simulation.cloud/workbench?taskId=fdve-f67ca83f-e009-42f3-b432-5bccb4a3bea2\u001b\\\u001b[32m9-42f3-b432-5bccb4a3bea2'\u001b[0m\u001b]8;;\u001b\\.                                         \n"
      ]
     },
     "metadata": {},
     "output_type": "display_data"
    },
    {
     "data": {
      "application/vnd.jupyter.widget-view+json": {
       "model_id": "1055267fd88946849ce5ef51f21b1042",
       "version_major": 2,
       "version_minor": 0
      },
      "text/plain": [
       "Output()"
      ]
     },
     "metadata": {},
     "output_type": "display_data"
    },
    {
     "data": {
      "text/html": [
       "<pre style=\"white-space:pre;overflow-x:auto;line-height:normal;font-family:Menlo,'DejaVu Sans Mono',consolas,'Courier New',monospace\"></pre>\n"
      ],
      "text/plain": []
     },
     "metadata": {},
     "output_type": "display_data"
    },
    {
     "data": {
      "text/html": [
       "<pre style=\"white-space:pre;overflow-x:auto;line-height:normal;font-family:Menlo,'DejaVu Sans Mono',consolas,'Courier New',monospace\">\n",
       "</pre>\n"
      ],
      "text/plain": [
       "\n"
      ]
     },
     "metadata": {},
     "output_type": "display_data"
    },
    {
     "data": {
      "text/html": [
       "<pre style=\"white-space:pre;overflow-x:auto;line-height:normal;font-family:Menlo,'DejaVu Sans Mono',consolas,'Courier New',monospace\"><span style=\"color: #7fbfbf; text-decoration-color: #7fbfbf\">17:47:05 BST </span>status = queued                                                    \n",
       "</pre>\n"
      ],
      "text/plain": [
       "\u001b[2;36m17:47:05 BST\u001b[0m\u001b[2;36m \u001b[0mstatus = queued                                                    \n"
      ]
     },
     "metadata": {},
     "output_type": "display_data"
    },
    {
     "data": {
      "text/html": [
       "<pre style=\"white-space:pre;overflow-x:auto;line-height:normal;font-family:Menlo,'DejaVu Sans Mono',consolas,'Courier New',monospace\"><span style=\"color: #7fbfbf; text-decoration-color: #7fbfbf\">             </span>To cancel the simulation, use <span style=\"color: #008000; text-decoration-color: #008000\">'web.abort(task_id)'</span> or              \n",
       "<span style=\"color: #7fbfbf; text-decoration-color: #7fbfbf\">             </span><span style=\"color: #008000; text-decoration-color: #008000\">'web.delete(task_id)'</span> or abort/delete the task in the web UI.      \n",
       "<span style=\"color: #7fbfbf; text-decoration-color: #7fbfbf\">             </span>Terminating the Python script will not stop the job running on the \n",
       "<span style=\"color: #7fbfbf; text-decoration-color: #7fbfbf\">             </span>cloud.                                                             \n",
       "</pre>\n"
      ],
      "text/plain": [
       "\u001b[2;36m            \u001b[0m\u001b[2;36m \u001b[0mTo cancel the simulation, use \u001b[32m'web.abort\u001b[0m\u001b[32m(\u001b[0m\u001b[32mtask_id\u001b[0m\u001b[32m)\u001b[0m\u001b[32m'\u001b[0m or              \n",
       "\u001b[2;36m             \u001b[0m\u001b[32m'web.delete\u001b[0m\u001b[32m(\u001b[0m\u001b[32mtask_id\u001b[0m\u001b[32m)\u001b[0m\u001b[32m'\u001b[0m or abort/delete the task in the web UI.      \n",
       "\u001b[2;36m             \u001b[0mTerminating the Python script will not stop the job running on the \n",
       "\u001b[2;36m             \u001b[0mcloud.                                                             \n"
      ]
     },
     "metadata": {},
     "output_type": "display_data"
    },
    {
     "data": {
      "application/vnd.jupyter.widget-view+json": {
       "model_id": "acd8df9e3bc343fb975fb16afd99124c",
       "version_major": 2,
       "version_minor": 0
      },
      "text/plain": [
       "Output()"
      ]
     },
     "metadata": {},
     "output_type": "display_data"
    },
    {
     "data": {
      "text/html": [
       "<pre style=\"white-space:pre;overflow-x:auto;line-height:normal;font-family:Menlo,'DejaVu Sans Mono',consolas,'Courier New',monospace\"><span style=\"color: #7fbfbf; text-decoration-color: #7fbfbf\">17:47:18 BST </span>status = preprocess                                                \n",
       "</pre>\n"
      ],
      "text/plain": [
       "\u001b[2;36m17:47:18 BST\u001b[0m\u001b[2;36m \u001b[0mstatus = preprocess                                                \n"
      ]
     },
     "metadata": {},
     "output_type": "display_data"
    },
    {
     "data": {
      "text/html": [
       "<pre style=\"white-space:pre;overflow-x:auto;line-height:normal;font-family:Menlo,'DejaVu Sans Mono',consolas,'Courier New',monospace\"></pre>\n"
      ],
      "text/plain": []
     },
     "metadata": {},
     "output_type": "display_data"
    },
    {
     "data": {
      "text/html": [
       "<pre style=\"white-space:pre;overflow-x:auto;line-height:normal;font-family:Menlo,'DejaVu Sans Mono',consolas,'Courier New',monospace\"><span style=\"color: #7fbfbf; text-decoration-color: #7fbfbf\">17:47:21 BST </span>Maximum FlexCredit cost: <span style=\"color: #008080; text-decoration-color: #008080; font-weight: bold\">0.597</span>. Use <span style=\"color: #008000; text-decoration-color: #008000\">'web.real_cost(task_id)'</span> to get\n",
       "<span style=\"color: #7fbfbf; text-decoration-color: #7fbfbf\">             </span>the billed FlexCredit cost after a simulation run.                 \n",
       "</pre>\n"
      ],
      "text/plain": [
       "\u001b[2;36m17:47:21 BST\u001b[0m\u001b[2;36m \u001b[0mMaximum FlexCredit cost: \u001b[1;36m0.597\u001b[0m. Use \u001b[32m'web.real_cost\u001b[0m\u001b[32m(\u001b[0m\u001b[32mtask_id\u001b[0m\u001b[32m)\u001b[0m\u001b[32m'\u001b[0m to get\n",
       "\u001b[2;36m             \u001b[0mthe billed FlexCredit cost after a simulation run.                 \n"
      ]
     },
     "metadata": {},
     "output_type": "display_data"
    },
    {
     "data": {
      "text/html": [
       "<pre style=\"white-space:pre;overflow-x:auto;line-height:normal;font-family:Menlo,'DejaVu Sans Mono',consolas,'Courier New',monospace\"><span style=\"color: #7fbfbf; text-decoration-color: #7fbfbf\">             </span>starting up solver                                                 \n",
       "</pre>\n"
      ],
      "text/plain": [
       "\u001b[2;36m            \u001b[0m\u001b[2;36m \u001b[0mstarting up solver                                                 \n"
      ]
     },
     "metadata": {},
     "output_type": "display_data"
    },
    {
     "data": {
      "text/html": [
       "<pre style=\"white-space:pre;overflow-x:auto;line-height:normal;font-family:Menlo,'DejaVu Sans Mono',consolas,'Courier New',monospace\"><span style=\"color: #7fbfbf; text-decoration-color: #7fbfbf\">             </span>running solver                                                     \n",
       "</pre>\n"
      ],
      "text/plain": [
       "\u001b[2;36m            \u001b[0m\u001b[2;36m \u001b[0mrunning solver                                                     \n"
      ]
     },
     "metadata": {},
     "output_type": "display_data"
    },
    {
     "data": {
      "application/vnd.jupyter.widget-view+json": {
       "model_id": "d733acf4c0ed45d88cd905bdcdfa3fcf",
       "version_major": 2,
       "version_minor": 0
      },
      "text/plain": [
       "Output()"
      ]
     },
     "metadata": {},
     "output_type": "display_data"
    },
    {
     "data": {
      "text/html": [
       "<pre style=\"white-space:pre;overflow-x:auto;line-height:normal;font-family:Menlo,'DejaVu Sans Mono',consolas,'Courier New',monospace\"><span style=\"color: #7fbfbf; text-decoration-color: #7fbfbf\">17:49:52 BST </span>early shutoff detected at <span style=\"color: #008080; text-decoration-color: #008080; font-weight: bold\">48</span>%, exiting.                            \n",
       "</pre>\n"
      ],
      "text/plain": [
       "\u001b[2;36m17:49:52 BST\u001b[0m\u001b[2;36m \u001b[0mearly shutoff detected at \u001b[1;36m48\u001b[0m%, exiting.                            \n"
      ]
     },
     "metadata": {},
     "output_type": "display_data"
    },
    {
     "data": {
      "text/html": [
       "<pre style=\"white-space:pre;overflow-x:auto;line-height:normal;font-family:Menlo,'DejaVu Sans Mono',consolas,'Courier New',monospace\"></pre>\n"
      ],
      "text/plain": []
     },
     "metadata": {},
     "output_type": "display_data"
    },
    {
     "data": {
      "text/html": [
       "<pre style=\"white-space:pre;overflow-x:auto;line-height:normal;font-family:Menlo,'DejaVu Sans Mono',consolas,'Courier New',monospace\">\n",
       "</pre>\n"
      ],
      "text/plain": [
       "\n"
      ]
     },
     "metadata": {},
     "output_type": "display_data"
    },
    {
     "data": {
      "text/html": [
       "<pre style=\"white-space:pre;overflow-x:auto;line-height:normal;font-family:Menlo,'DejaVu Sans Mono',consolas,'Courier New',monospace\"><span style=\"color: #7fbfbf; text-decoration-color: #7fbfbf\">             </span>status = postprocess                                               \n",
       "</pre>\n"
      ],
      "text/plain": [
       "\u001b[2;36m            \u001b[0m\u001b[2;36m \u001b[0mstatus = postprocess                                               \n"
      ]
     },
     "metadata": {},
     "output_type": "display_data"
    },
    {
     "data": {
      "application/vnd.jupyter.widget-view+json": {
       "model_id": "83134378b0914d5f994935e100fe7bd7",
       "version_major": 2,
       "version_minor": 0
      },
      "text/plain": [
       "Output()"
      ]
     },
     "metadata": {},
     "output_type": "display_data"
    },
    {
     "data": {
      "text/html": [
       "<pre style=\"white-space:pre;overflow-x:auto;line-height:normal;font-family:Menlo,'DejaVu Sans Mono',consolas,'Courier New',monospace\"><span style=\"color: #7fbfbf; text-decoration-color: #7fbfbf\">17:49:56 BST </span>status = success                                                   \n",
       "</pre>\n"
      ],
      "text/plain": [
       "\u001b[2;36m17:49:56 BST\u001b[0m\u001b[2;36m \u001b[0mstatus = success                                                   \n"
      ]
     },
     "metadata": {},
     "output_type": "display_data"
    },
    {
     "data": {
      "text/html": [
       "<pre style=\"white-space:pre;overflow-x:auto;line-height:normal;font-family:Menlo,'DejaVu Sans Mono',consolas,'Courier New',monospace\"></pre>\n"
      ],
      "text/plain": []
     },
     "metadata": {},
     "output_type": "display_data"
    },
    {
     "data": {
      "text/html": [
       "<pre style=\"white-space:pre;overflow-x:auto;line-height:normal;font-family:Menlo,'DejaVu Sans Mono',consolas,'Courier New',monospace\"><span style=\"color: #7fbfbf; text-decoration-color: #7fbfbf\">             </span>View simulation result at                                          \n",
       "<span style=\"color: #7fbfbf; text-decoration-color: #7fbfbf\">             </span><a href=\"https://tidy3d.simulation.cloud/workbench?taskId=fdve-f67ca83f-e009-42f3-b432-5bccb4a3bea2\" target=\"_blank\"><span style=\"color: #000080; text-decoration-color: #000080; text-decoration: underline\">'https://tidy3d.simulation.cloud/workbench?taskId=fdve-f67ca83f-e00</span></a>\n",
       "<span style=\"color: #7fbfbf; text-decoration-color: #7fbfbf\">             </span><a href=\"https://tidy3d.simulation.cloud/workbench?taskId=fdve-f67ca83f-e009-42f3-b432-5bccb4a3bea2\" target=\"_blank\"><span style=\"color: #000080; text-decoration-color: #000080; text-decoration: underline\">9-42f3-b432-5bccb4a3bea2'</span></a><span style=\"color: #000080; text-decoration-color: #000080; text-decoration: underline\">.</span>                                         \n",
       "</pre>\n"
      ],
      "text/plain": [
       "\u001b[2;36m            \u001b[0m\u001b[2;36m \u001b[0mView simulation result at                                          \n",
       "\u001b[2;36m             \u001b[0m\u001b]8;id=221517;https://tidy3d.simulation.cloud/workbench?taskId=fdve-f67ca83f-e009-42f3-b432-5bccb4a3bea2\u001b\\\u001b[4;34m'https://tidy3d.simulation.cloud/workbench?\u001b[0m\u001b]8;;\u001b\\\u001b]8;id=456140;https://tidy3d.simulation.cloud/workbench?taskId=fdve-f67ca83f-e009-42f3-b432-5bccb4a3bea2\u001b\\\u001b[4;34mtaskId\u001b[0m\u001b]8;;\u001b\\\u001b]8;id=221517;https://tidy3d.simulation.cloud/workbench?taskId=fdve-f67ca83f-e009-42f3-b432-5bccb4a3bea2\u001b\\\u001b[4;34m=\u001b[0m\u001b]8;;\u001b\\\u001b]8;id=376986;https://tidy3d.simulation.cloud/workbench?taskId=fdve-f67ca83f-e009-42f3-b432-5bccb4a3bea2\u001b\\\u001b[4;34mfdve\u001b[0m\u001b]8;;\u001b\\\u001b]8;id=221517;https://tidy3d.simulation.cloud/workbench?taskId=fdve-f67ca83f-e009-42f3-b432-5bccb4a3bea2\u001b\\\u001b[4;34m-f67ca83f-e00\u001b[0m\u001b]8;;\u001b\\\n",
       "\u001b[2;36m             \u001b[0m\u001b]8;id=221517;https://tidy3d.simulation.cloud/workbench?taskId=fdve-f67ca83f-e009-42f3-b432-5bccb4a3bea2\u001b\\\u001b[4;34m9-42f3-b432-5bccb4a3bea2'\u001b[0m\u001b]8;;\u001b\\\u001b[4;34m.\u001b[0m                                         \n"
      ]
     },
     "metadata": {},
     "output_type": "display_data"
    },
    {
     "data": {
      "application/vnd.jupyter.widget-view+json": {
       "model_id": "dfa45e475c854c7298aaa055a97cd05a",
       "version_major": 2,
       "version_minor": 0
      },
      "text/plain": [
       "Output()"
      ]
     },
     "metadata": {},
     "output_type": "display_data"
    },
    {
     "data": {
      "text/html": [
       "<pre style=\"white-space:pre;overflow-x:auto;line-height:normal;font-family:Menlo,'DejaVu Sans Mono',consolas,'Courier New',monospace\"></pre>\n"
      ],
      "text/plain": []
     },
     "metadata": {},
     "output_type": "display_data"
    },
    {
     "data": {
      "text/html": [
       "<pre style=\"white-space:pre;overflow-x:auto;line-height:normal;font-family:Menlo,'DejaVu Sans Mono',consolas,'Courier New',monospace\">\n",
       "</pre>\n"
      ],
      "text/plain": [
       "\n"
      ]
     },
     "metadata": {},
     "output_type": "display_data"
    },
    {
     "data": {
      "text/html": [
       "<pre style=\"white-space:pre;overflow-x:auto;line-height:normal;font-family:Menlo,'DejaVu Sans Mono',consolas,'Courier New',monospace\"><span style=\"color: #7fbfbf; text-decoration-color: #7fbfbf\">17:49:57 BST </span>loading simulation from simulation_data.hdf5                       \n",
       "</pre>\n"
      ],
      "text/plain": [
       "\u001b[2;36m17:49:57 BST\u001b[0m\u001b[2;36m \u001b[0mloading simulation from simulation_data.hdf5                       \n"
      ]
     },
     "metadata": {},
     "output_type": "display_data"
    }
   ],
   "source": [
    "import tidy3d.web as web\n",
    "sim = make_sim(**predict_results.optimizer.max['params'])\n",
    "sim_data = web.run(sim, task_name=\"best_predicted\")"
   ]
  },
  {
   "cell_type": "code",
   "execution_count": 46,
   "metadata": {},
   "outputs": [
    {
     "name": "stdout",
     "output_type": "stream",
     "text": [
      "Top: 0.24, Bottom: 0.747\n"
     ]
    }
   ],
   "source": [
    "amps_dict = measure_transmission(sim_data)\n",
    "print(f\"Top: {round(float(abs(amps_dict['top'].sel({'f': freq0}))**2), 3)}, Bottom: {round(float(abs(amps_dict['bottom'].sel({'f': freq0}))**2), 3)}\")"
   ]
  },
  {
   "cell_type": "code",
   "execution_count": 50,
   "metadata": {},
   "outputs": [
    {
     "data": {
      "image/png": "[encoded data removed]",
      "text/plain": [
       "<Figure size 640x480 with 1 Axes>"
      ]
     },
     "metadata": {},
     "output_type": "display_data"
    }
   ],
   "source": [
    "top_amp_predict = []\n",
    "top_amp_real = []\n",
    "bot_amp_predict = []\n",
    "bot_amp_real = []\n",
    "for freq_val in freqs:\n",
    "    feature_array = np.array((0.24772323088248976, 6.443073730510251, freq_val))\n",
    "    feature_array = feature_array.reshape((1, -1))\n",
    "    prediction = model.make_prediction(trained_net, True, feature_array, 2)\n",
    "    top_amp_predict.append(prediction[0])\n",
    "    top_amp_real.append(float(abs(amps_dict['top'].sel({'f': freq_val}))**2))\n",
    "\n",
    "    bot_amp_predict.append(prediction[1])\n",
    "    bot_amp_real.append(float(abs(amps_dict['bottom'].sel({'f': freq_val}))**2))\n",
    "\n",
    "fig, (ax1, ax2) = plt.subplot(1, 2, tight_layout=True, figsize=(10, 5))\n",
    "\n",
    "plt.plot(freqs, top_amp_predict, label=\"Predicted\")\n",
    "plt.plot(freqs, top_amp_real, label=\"Real\")\n",
    "plt.xlabel(\"Frequency\")\n",
    "plt.ylabel(\"Amp^2\")\n",
    "plt.legend()\n",
    "plt.show()"
   ]
  }
 ],
 "metadata": {
  "kernelspec": {
   "display_name": "tidy3d-dGIxMZW4-py3.10",
   "language": "python",
   "name": "python3"
  },
  "language_info": {
   "codemirror_mode": {
    "name": "ipython",
    "version": 3
   },
   "file_extension": ".py",
   "mimetype": "text/x-python",
   "name": "python",
   "nbconvert_exporter": "python",
   "pygments_lexer": "ipython3",
   "version": "3.10.12"
  }
 },
 "nbformat": 4,
 "nbformat_minor": 2
}
