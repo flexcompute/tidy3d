{
 "cells": [
  {
   "cell_type": "markdown",
   "metadata": {},
   "source": [
    "# Bullseye Cavity Surrogate"
   ]
  },
  {
   "cell_type": "code",
   "execution_count": 4,
   "metadata": {},
   "outputs": [],
   "source": [
    "# Uncomment the following line to install pyswarms if it's not installed in your environment already\n",
    "# pip install pyswarms\n",
    "\n",
    "# Standard python imports\n",
    "import numpy as np\n",
    "import matplotlib.pylab as plt\n",
    "\n",
    "# Import regular tidy3d\n",
    "import tidy3d as td\n",
    "import tidy3d.web as web\n",
    "import tidy3d.plugins.design as tdd"
   ]
  },
  {
   "cell_type": "code",
   "execution_count": 5,
   "metadata": {},
   "outputs": [],
   "source": [
    "# Initial parameters of the Bullseye cavity.\n",
    "t_tio2 = 0.200  # TiO2 thin film thickness (um).\n",
    "t_sio2 = 0.435  # SiO2 thin film thickness (um).\n",
    "r_cav = 0.835  # Radius of the internal cavity (um).\n",
    "p_bragg = 0.420  # Period of the Bragg reflector (um).\n",
    "w_bragg = 0.155  # Gap width (etched region) of the Bragg reflector (um).\n",
    "n_bragg = 8  # Number of Bragg periods.\n",
    "n_tio2 = 2.50  # TiO2 refractive index (0.75 um).\n",
    "n_sio2 = 1.45  # SiO2 refractive index (0.75 um).\n",
    "\n",
    "# Collection fiber parameters (630HP).\n",
    "r_core = 1.75  # Fiber core radius.\n",
    "n_core = 1.46  # Core refractive index.\n",
    "n_clad = 1.45  # Cladding refractive index.\n",
    "d_cf = 2.0  # Distance between the cavity and the fiber.\n",
    "\n",
    "# PSO optimization parameters.\n",
    "iterations = 15  # Number of iterations.\n",
    "n_particle = 5  # Number of particles in optimization.\n",
    "\n",
    "# Simulation wavelength.\n",
    "wl = 0.75  # Central simulation wavelength (um).\n",
    "bw = 0.06  # Simulation bandwidth (um).\n",
    "n_wl = 61  # Number of wavelength points within the bandwidth."
   ]
  },
  {
   "cell_type": "code",
   "execution_count": 6,
   "metadata": {},
   "outputs": [],
   "source": [
    "# Wavelengths and frequencies.\n",
    "wl_max = wl + bw / 2\n",
    "wl_min = wl - bw / 2\n",
    "wl_range = np.linspace(wl_min, wl_max, n_wl)\n",
    "freq = td.C_0 / wl\n",
    "freqs = td.C_0 / wl_range\n",
    "freqw = 0.5 * (freqs[0] - freqs[-1])\n",
    "run_time = 5e-12  # Simulation run time.\n",
    "\n",
    "# Material definition.\n",
    "mat_tio2 = td.Medium(permittivity=n_tio2 ** 2)  # TiO2 medium.\n",
    "mat_sio2 = td.Medium(permittivity=n_sio2 ** 2)  # SiO2 medium.\n",
    "mat_etch = td.Medium(permittivity=1)  # Etch medium.\n",
    "mat_core = td.Medium(permittivity=n_core ** 2)  # Fiber core medium.\n",
    "mat_clad = td.Medium(permittivity=n_clad ** 2)  # Fiber cladding medium.\n",
    "\n",
    "# Computational domain size.\n",
    "pml_spacing = 0.6 * wl\n",
    "eff_inf = 10"
   ]
  },
  {
   "cell_type": "code",
   "execution_count": 7,
   "metadata": {},
   "outputs": [],
   "source": [
    "def get_simulation(\n",
    "    r: float = r_cav,  # Cavity radius.\n",
    "    p: float = p_bragg,  # Cavity period.\n",
    "    w: float = w_bragg,  # Etched width.\n",
    "    h: float = 0.0,  # Non-etched thickness with respect to TiO2 thickness.\n",
    "    tsio2: float = t_sio2,  # SiO2 layer thickness.\n",
    "    dcf: float = d_cf,  # Cavity to fiber distance.\n",
    ") -> td.Simulation:\n",
    "    \"\"\"Create a Simulation of a bullseye cavity with variable geometry and material thickness.\"\"\"\n",
    "\n",
    "    # Computational domain size.\n",
    "    size_x = 2 * pml_spacing + max(2 * (r + n_bragg * p), 2 * r_core)\n",
    "    size_y = size_x\n",
    "    size_z = pml_spacing + tsio2 + t_tio2 + dcf\n",
    "    center_z = -size_z / 2\n",
    "    qd_pos_z = tsio2 + t_tio2\n",
    "    mon_pos_z = size_z - pml_spacing / 2\n",
    "\n",
    "    # Point dipole source located at the center of TiO2 thin film.\n",
    "    dp_source = td.PointDipole(\n",
    "        center=(0, 0, qd_pos_z),\n",
    "        source_time=td.GaussianPulse(freq0=freq, fwidth=freqw),\n",
    "        polarization=\"Ey\",\n",
    "    )\n",
    "\n",
    "    # Field monitor to visualize the fields in xy plane.\n",
    "    field_monitor_xy = td.FieldMonitor(\n",
    "        center=(0, 0, qd_pos_z - t_tio2 / 2),\n",
    "        size=(size_x, size_y, 0),\n",
    "        freqs=[freq],\n",
    "        name=\"field_xy\",\n",
    "    )\n",
    "\n",
    "    # Field monitor to visualize the fields in xz plane.\n",
    "    field_monitor_xz = td.FieldMonitor(\n",
    "        center=(0, 0.05, size_z / 2),\n",
    "        size=(size_x, 0, size_z),\n",
    "        freqs=[freq],\n",
    "        name=\"field_xz\",\n",
    "    )\n",
    "\n",
    "    # Mode monitor to get the power coupled into the fiber modes.\n",
    "    mode_spec = td.ModeSpec(num_modes=1, target_neff=n_core)\n",
    "    mode_monitor = td.ModeMonitor(\n",
    "        center=(0, 0, mon_pos_z),\n",
    "        size=(size_x, size_y, 0),\n",
    "        freqs=freqs,\n",
    "        mode_spec=mode_spec,\n",
    "        name=\"mode_fiber\",\n",
    "    )\n",
    "\n",
    "    # Flux monitor to get the total dipole power.\n",
    "    flux_dip = td.FluxMonitor(\n",
    "        center=(0, 0, size_z / 2),\n",
    "        size=(0.8*size_x, 0.8*size_y, size_z),\n",
    "        freqs=freqs,\n",
    "        exclude_surfaces=(\"z-\",),\n",
    "        name=\"flux_dip\",\n",
    "    )\n",
    "\n",
    "    # Silicon dioxide layer\n",
    "    sio2_layer = td.Structure(\n",
    "        geometry=td.Box.from_bounds(\n",
    "            rmin=(-size_x / 2 - eff_inf, -size_y / 2 - eff_inf, -eff_inf),\n",
    "            rmax=(size_x / 2 + eff_inf, size_y / 2 + eff_inf, tsio2),\n",
    "        ),\n",
    "        medium=mat_sio2,\n",
    "    )\n",
    "\n",
    "    # Fiber cladding\n",
    "    fiber_clad = td.Structure(\n",
    "        geometry=td.Box.from_bounds(\n",
    "            rmin=(-size_x / 2 - eff_inf, -size_y / 2 - eff_inf, size_z - pml_spacing),\n",
    "            rmax=(size_x / 2 + eff_inf, size_y / 2 + eff_inf, size_z + eff_inf),\n",
    "        ),\n",
    "        medium=mat_clad,\n",
    "    )\n",
    "\n",
    "    # Fiber core\n",
    "    fiber_core = td.Structure(\n",
    "        geometry=td.Cylinder(\n",
    "            radius=r_core,\n",
    "            center=(0, 0, size_z + (((pml_spacing + eff_inf) / 2) - pml_spacing)),\n",
    "            axis=2,\n",
    "            length=pml_spacing + eff_inf,\n",
    "        ),\n",
    "        medium=mat_core,\n",
    "    )\n",
    "\n",
    "    # Bullseye cavity\n",
    "    bullseye = []\n",
    "    cyl_rad = n_bragg * p + r\n",
    "    for _ in range(0, n_bragg):\n",
    "        bullseye.append(\n",
    "            td.Structure(\n",
    "                geometry=td.Cylinder(\n",
    "                    radius=cyl_rad,\n",
    "                    center=(0, 0, qd_pos_z - t_tio2 / 2),\n",
    "                    axis=2,\n",
    "                    length=t_tio2,\n",
    "                ),\n",
    "                medium=mat_tio2,\n",
    "            )\n",
    "        )\n",
    "        bullseye.append(\n",
    "            td.Structure(\n",
    "                geometry=td.Cylinder(\n",
    "                    radius=cyl_rad - p + w,\n",
    "                    center=(0, 0, qd_pos_z - t_tio2 / 2),\n",
    "                    axis=2,\n",
    "                    length=t_tio2,\n",
    "                ),\n",
    "                medium=mat_etch,\n",
    "            )\n",
    "        )\n",
    "        cyl_rad -= p\n",
    "\n",
    "    bullseye.append(\n",
    "        td.Structure(\n",
    "            geometry=td.Cylinder(\n",
    "                radius=r, center=(0, 0, qd_pos_z - t_tio2 / 2), axis=2, length=t_tio2\n",
    "            ),\n",
    "            medium=mat_tio2,\n",
    "        )\n",
    "    )\n",
    "    # Non-etched TiO2 region.\n",
    "    if h > 0:\n",
    "        bullseye.append(\n",
    "            td.Structure(\n",
    "                geometry=td.Box.from_bounds(\n",
    "                    rmin=(-size_x / 2 - eff_inf, -size_y / 2 - eff_inf, tsio2),\n",
    "                    rmax=(\n",
    "                        size_x / 2 + eff_inf,\n",
    "                        size_y / 2 + eff_inf,\n",
    "                        tsio2 + h * t_tio2,\n",
    "                    ),\n",
    "                ),\n",
    "                medium=mat_tio2,\n",
    "            )\n",
    "        )\n",
    "\n",
    "    # Simulation definition\n",
    "    sim = td.Simulation(\n",
    "        center=(0, 0, -center_z),\n",
    "        size=(size_x, size_y, size_z),\n",
    "        medium=mat_etch,\n",
    "        grid_spec=td.GridSpec.auto(min_steps_per_wvl=15, wavelength=wl),\n",
    "        structures=[sio2_layer, fiber_clad, fiber_core] + bullseye,\n",
    "        sources=[dp_source],\n",
    "        normalize_index=0,\n",
    "        monitors=[field_monitor_xy, field_monitor_xz, mode_monitor, flux_dip],\n",
    "        boundary_spec=td.BoundarySpec(\n",
    "            x=td.Boundary.pml(),\n",
    "            y=td.Boundary.pml(),\n",
    "            z=td.Boundary(minus=td.PECBoundary(), plus=td.PML()),\n",
    "        ),\n",
    "        symmetry=(1, -1, 0),\n",
    "        run_time=run_time,\n",
    "    )\n",
    "    return sim"
   ]
  },
  {
   "cell_type": "code",
   "execution_count": 8,
   "metadata": {},
   "outputs": [],
   "source": [
    "# Figure of Merit (FOM) calculation.\n",
    "def get_coupling_eff(sim_data: td.SimulationData) -> float:\n",
    "    \"\"\"Return the power at the mode index of interest.\"\"\"\n",
    "    mode_amps = sim_data[\"mode_fiber\"].amps.sel(direction=\"+\", mode_index=0)\n",
    "    mode_power = np.squeeze(np.abs(mode_amps) ** 2)\n",
    "    dip_power = sim_data[\"flux_dip\"].flux\n",
    "    return mode_power / dip_power"
   ]
  },
  {
   "cell_type": "code",
   "execution_count": 9,
   "metadata": {},
   "outputs": [],
   "source": [
    "def fn_pre(r: float, p: float, w: float, h: float, t_sio2: float, dcf: float) -> td.Simulation:\n",
    "    \"\"\"Build a Simulation object from parameters suggested by the PSO.\"\"\"\n",
    "    sim = get_simulation(r, p, w, h, t_sio2, dcf)\n",
    "    return sim\n",
    "\n",
    "def fn_post(sim_data: td.SimulationData) -> float:\n",
    "    \"\"\"Analyze SimulationData from a bullseye cavity simulation and return coupling efficiency.\"\"\"\n",
    "    ce = np.max(get_coupling_eff(sim_data))\n",
    "    return float(ce)"
   ]
  },
  {
   "cell_type": "code",
   "execution_count": 36,
   "metadata": {},
   "outputs": [],
   "source": [
    "# Setup parameters for DesignSpace\n",
    "r_param = tdd.ParameterFloat(name=\"r\", span=(0.5 * r_cav, 1.5 * r_cav))\n",
    "p_param = tdd.ParameterFloat(name=\"p\", span=(0.5 * p_bragg, 1.5 * p_bragg))\n",
    "w_param = tdd.ParameterFloat(name=\"w\", span=(0.5 * w_bragg, 1.5 * w_bragg))\n",
    "h_param = tdd.ParameterFloat(name=\"h\", span=(0.0, 1.0))\n",
    "t_sio2_param = tdd.ParameterFloat(name=\"t_sio2\", span=(0.5 * t_sio2, 1.5 * t_sio2))\n",
    "dcf_param = tdd.ParameterFloat(name=\"dcf\", span=(0.5 * d_cf, 1.5 * d_cf))\n",
    "parameters = [r_param, p_param, w_param, h_param, t_sio2_param, dcf_param]\n",
    "\n",
    "monte_carlo=tdd.MethodMonteCarlo(\n",
    "    num_points=100,\n",
    "    seed=2,\n",
    ")\n",
    "\n",
    "design_space = tdd.DesignSpace(method=monte_carlo, parameters=parameters, task_name=\"BE_MC_Surrogate\", path_dir=\"/home/matt/Documents/Flexcompute/bullseye/data\")"
   ]
  },
  {
   "cell_type": "code",
   "execution_count": 11,
   "metadata": {},
   "outputs": [
    {
     "data": {
      "text/html": [
       "<pre style=\"white-space:pre;overflow-x:auto;line-height:normal;font-family:Menlo,'DejaVu Sans Mono',consolas,'Courier New',monospace\"><span style=\"color: #7fbfbf; text-decoration-color: #7fbfbf\">12:12:21 BST </span><span style=\"color: #800000; text-decoration-color: #800000\">WARNING: A structure has a nonzero dimension along axis z, which is</span>\n",
       "<span style=\"color: #7fbfbf; text-decoration-color: #7fbfbf\">             </span><span style=\"color: #800000; text-decoration-color: #800000\">however too small compared to the generated mesh step along that   </span>\n",
       "<span style=\"color: #7fbfbf; text-decoration-color: #7fbfbf\">             </span><span style=\"color: #800000; text-decoration-color: #800000\">direction. This could produce unpredictable results. We recommend  </span>\n",
       "<span style=\"color: #7fbfbf; text-decoration-color: #7fbfbf\">             </span><span style=\"color: #800000; text-decoration-color: #800000\">increasing the resolution, or adding a mesh override structure to  </span>\n",
       "<span style=\"color: #7fbfbf; text-decoration-color: #7fbfbf\">             </span><span style=\"color: #800000; text-decoration-color: #800000\">ensure that all geometries are at least one pixel thick along all  </span>\n",
       "<span style=\"color: #7fbfbf; text-decoration-color: #7fbfbf\">             </span><span style=\"color: #800000; text-decoration-color: #800000\">dimensions.                                                        </span>\n",
       "</pre>\n"
      ],
      "text/plain": [
       "\u001b[2;36m12:12:21 BST\u001b[0m\u001b[2;36m \u001b[0m\u001b[31mWARNING: A structure has a nonzero dimension along axis z, which is\u001b[0m\n",
       "\u001b[2;36m             \u001b[0m\u001b[31mhowever too small compared to the generated mesh step along that   \u001b[0m\n",
       "\u001b[2;36m             \u001b[0m\u001b[31mdirection. This could produce unpredictable results. We recommend  \u001b[0m\n",
       "\u001b[2;36m             \u001b[0m\u001b[31mincreasing the resolution, or adding a mesh override structure to  \u001b[0m\n",
       "\u001b[2;36m             \u001b[0m\u001b[31mensure that all geometries are at least one pixel thick along all  \u001b[0m\n",
       "\u001b[2;36m             \u001b[0m\u001b[31mdimensions.                                                        \u001b[0m\n"
      ]
     },
     "metadata": {},
     "output_type": "display_data"
    },
    {
     "data": {
      "text/html": [
       "<pre style=\"white-space:pre;overflow-x:auto;line-height:normal;font-family:Menlo,'DejaVu Sans Mono',consolas,'Courier New',monospace\"><span style=\"color: #7fbfbf; text-decoration-color: #7fbfbf\">             </span><span style=\"color: #800000; text-decoration-color: #800000\">WARNING: A structure has a nonzero dimension along axis z, which is</span>\n",
       "<span style=\"color: #7fbfbf; text-decoration-color: #7fbfbf\">             </span><span style=\"color: #800000; text-decoration-color: #800000\">however too small compared to the generated mesh step along that   </span>\n",
       "<span style=\"color: #7fbfbf; text-decoration-color: #7fbfbf\">             </span><span style=\"color: #800000; text-decoration-color: #800000\">direction. This could produce unpredictable results. We recommend  </span>\n",
       "<span style=\"color: #7fbfbf; text-decoration-color: #7fbfbf\">             </span><span style=\"color: #800000; text-decoration-color: #800000\">increasing the resolution, or adding a mesh override structure to  </span>\n",
       "<span style=\"color: #7fbfbf; text-decoration-color: #7fbfbf\">             </span><span style=\"color: #800000; text-decoration-color: #800000\">ensure that all geometries are at least one pixel thick along all  </span>\n",
       "<span style=\"color: #7fbfbf; text-decoration-color: #7fbfbf\">             </span><span style=\"color: #800000; text-decoration-color: #800000\">dimensions.                                                        </span>\n",
       "</pre>\n"
      ],
      "text/plain": [
       "\u001b[2;36m            \u001b[0m\u001b[2;36m \u001b[0m\u001b[31mWARNING: A structure has a nonzero dimension along axis z, which is\u001b[0m\n",
       "\u001b[2;36m             \u001b[0m\u001b[31mhowever too small compared to the generated mesh step along that   \u001b[0m\n",
       "\u001b[2;36m             \u001b[0m\u001b[31mdirection. This could produce unpredictable results. We recommend  \u001b[0m\n",
       "\u001b[2;36m             \u001b[0m\u001b[31mincreasing the resolution, or adding a mesh override structure to  \u001b[0m\n",
       "\u001b[2;36m             \u001b[0m\u001b[31mensure that all geometries are at least one pixel thick along all  \u001b[0m\n",
       "\u001b[2;36m             \u001b[0m\u001b[31mdimensions.                                                        \u001b[0m\n"
      ]
     },
     "metadata": {},
     "output_type": "display_data"
    },
    {
     "data": {
      "text/html": [
       "<pre style=\"white-space:pre;overflow-x:auto;line-height:normal;font-family:Menlo,'DejaVu Sans Mono',consolas,'Courier New',monospace\"><span style=\"color: #7fbfbf; text-decoration-color: #7fbfbf\">             </span><span style=\"color: #800000; text-decoration-color: #800000\">WARNING: A structure has a nonzero dimension along axis z, which is</span>\n",
       "<span style=\"color: #7fbfbf; text-decoration-color: #7fbfbf\">             </span><span style=\"color: #800000; text-decoration-color: #800000\">however too small compared to the generated mesh step along that   </span>\n",
       "<span style=\"color: #7fbfbf; text-decoration-color: #7fbfbf\">             </span><span style=\"color: #800000; text-decoration-color: #800000\">direction. This could produce unpredictable results. We recommend  </span>\n",
       "<span style=\"color: #7fbfbf; text-decoration-color: #7fbfbf\">             </span><span style=\"color: #800000; text-decoration-color: #800000\">increasing the resolution, or adding a mesh override structure to  </span>\n",
       "<span style=\"color: #7fbfbf; text-decoration-color: #7fbfbf\">             </span><span style=\"color: #800000; text-decoration-color: #800000\">ensure that all geometries are at least one pixel thick along all  </span>\n",
       "<span style=\"color: #7fbfbf; text-decoration-color: #7fbfbf\">             </span><span style=\"color: #800000; text-decoration-color: #800000\">dimensions.                                                        </span>\n",
       "</pre>\n"
      ],
      "text/plain": [
       "\u001b[2;36m            \u001b[0m\u001b[2;36m \u001b[0m\u001b[31mWARNING: A structure has a nonzero dimension along axis z, which is\u001b[0m\n",
       "\u001b[2;36m             \u001b[0m\u001b[31mhowever too small compared to the generated mesh step along that   \u001b[0m\n",
       "\u001b[2;36m             \u001b[0m\u001b[31mdirection. This could produce unpredictable results. We recommend  \u001b[0m\n",
       "\u001b[2;36m             \u001b[0m\u001b[31mincreasing the resolution, or adding a mesh override structure to  \u001b[0m\n",
       "\u001b[2;36m             \u001b[0m\u001b[31mensure that all geometries are at least one pixel thick along all  \u001b[0m\n",
       "\u001b[2;36m             \u001b[0m\u001b[31mdimensions.                                                        \u001b[0m\n"
      ]
     },
     "metadata": {},
     "output_type": "display_data"
    },
    {
     "data": {
      "text/html": [
       "<pre style=\"white-space:pre;overflow-x:auto;line-height:normal;font-family:Menlo,'DejaVu Sans Mono',consolas,'Courier New',monospace\"><span style=\"color: #7fbfbf; text-decoration-color: #7fbfbf\">             </span><span style=\"color: #800000; text-decoration-color: #800000\">WARNING: A structure has a nonzero dimension along axis z, which is</span>\n",
       "<span style=\"color: #7fbfbf; text-decoration-color: #7fbfbf\">             </span><span style=\"color: #800000; text-decoration-color: #800000\">however too small compared to the generated mesh step along that   </span>\n",
       "<span style=\"color: #7fbfbf; text-decoration-color: #7fbfbf\">             </span><span style=\"color: #800000; text-decoration-color: #800000\">direction. This could produce unpredictable results. We recommend  </span>\n",
       "<span style=\"color: #7fbfbf; text-decoration-color: #7fbfbf\">             </span><span style=\"color: #800000; text-decoration-color: #800000\">increasing the resolution, or adding a mesh override structure to  </span>\n",
       "<span style=\"color: #7fbfbf; text-decoration-color: #7fbfbf\">             </span><span style=\"color: #800000; text-decoration-color: #800000\">ensure that all geometries are at least one pixel thick along all  </span>\n",
       "<span style=\"color: #7fbfbf; text-decoration-color: #7fbfbf\">             </span><span style=\"color: #800000; text-decoration-color: #800000\">dimensions.                                                        </span>\n",
       "</pre>\n"
      ],
      "text/plain": [
       "\u001b[2;36m            \u001b[0m\u001b[2;36m \u001b[0m\u001b[31mWARNING: A structure has a nonzero dimension along axis z, which is\u001b[0m\n",
       "\u001b[2;36m             \u001b[0m\u001b[31mhowever too small compared to the generated mesh step along that   \u001b[0m\n",
       "\u001b[2;36m             \u001b[0m\u001b[31mdirection. This could produce unpredictable results. We recommend  \u001b[0m\n",
       "\u001b[2;36m             \u001b[0m\u001b[31mincreasing the resolution, or adding a mesh override structure to  \u001b[0m\n",
       "\u001b[2;36m             \u001b[0m\u001b[31mensure that all geometries are at least one pixel thick along all  \u001b[0m\n",
       "\u001b[2;36m             \u001b[0m\u001b[31mdimensions.                                                        \u001b[0m\n"
      ]
     },
     "metadata": {},
     "output_type": "display_data"
    },
    {
     "data": {
      "text/html": [
       "<pre style=\"white-space:pre;overflow-x:auto;line-height:normal;font-family:Menlo,'DejaVu Sans Mono',consolas,'Courier New',monospace\"><span style=\"color: #7fbfbf; text-decoration-color: #7fbfbf\">             </span><span style=\"color: #800000; text-decoration-color: #800000\">WARNING: A structure has a nonzero dimension along axis z, which is</span>\n",
       "<span style=\"color: #7fbfbf; text-decoration-color: #7fbfbf\">             </span><span style=\"color: #800000; text-decoration-color: #800000\">however too small compared to the generated mesh step along that   </span>\n",
       "<span style=\"color: #7fbfbf; text-decoration-color: #7fbfbf\">             </span><span style=\"color: #800000; text-decoration-color: #800000\">direction. This could produce unpredictable results. We recommend  </span>\n",
       "<span style=\"color: #7fbfbf; text-decoration-color: #7fbfbf\">             </span><span style=\"color: #800000; text-decoration-color: #800000\">increasing the resolution, or adding a mesh override structure to  </span>\n",
       "<span style=\"color: #7fbfbf; text-decoration-color: #7fbfbf\">             </span><span style=\"color: #800000; text-decoration-color: #800000\">ensure that all geometries are at least one pixel thick along all  </span>\n",
       "<span style=\"color: #7fbfbf; text-decoration-color: #7fbfbf\">             </span><span style=\"color: #800000; text-decoration-color: #800000\">dimensions.                                                        </span>\n",
       "</pre>\n"
      ],
      "text/plain": [
       "\u001b[2;36m            \u001b[0m\u001b[2;36m \u001b[0m\u001b[31mWARNING: A structure has a nonzero dimension along axis z, which is\u001b[0m\n",
       "\u001b[2;36m             \u001b[0m\u001b[31mhowever too small compared to the generated mesh step along that   \u001b[0m\n",
       "\u001b[2;36m             \u001b[0m\u001b[31mdirection. This could produce unpredictable results. We recommend  \u001b[0m\n",
       "\u001b[2;36m             \u001b[0m\u001b[31mincreasing the resolution, or adding a mesh override structure to  \u001b[0m\n",
       "\u001b[2;36m             \u001b[0m\u001b[31mensure that all geometries are at least one pixel thick along all  \u001b[0m\n",
       "\u001b[2;36m             \u001b[0m\u001b[31mdimensions.                                                        \u001b[0m\n"
      ]
     },
     "metadata": {},
     "output_type": "display_data"
    },
    {
     "data": {
      "text/html": [
       "<pre style=\"white-space:pre;overflow-x:auto;line-height:normal;font-family:Menlo,'DejaVu Sans Mono',consolas,'Courier New',monospace\"><span style=\"color: #7fbfbf; text-decoration-color: #7fbfbf\">             </span><span style=\"color: #800000; text-decoration-color: #800000\">WARNING: A structure has a nonzero dimension along axis z, which is</span>\n",
       "<span style=\"color: #7fbfbf; text-decoration-color: #7fbfbf\">             </span><span style=\"color: #800000; text-decoration-color: #800000\">however too small compared to the generated mesh step along that   </span>\n",
       "<span style=\"color: #7fbfbf; text-decoration-color: #7fbfbf\">             </span><span style=\"color: #800000; text-decoration-color: #800000\">direction. This could produce unpredictable results. We recommend  </span>\n",
       "<span style=\"color: #7fbfbf; text-decoration-color: #7fbfbf\">             </span><span style=\"color: #800000; text-decoration-color: #800000\">increasing the resolution, or adding a mesh override structure to  </span>\n",
       "<span style=\"color: #7fbfbf; text-decoration-color: #7fbfbf\">             </span><span style=\"color: #800000; text-decoration-color: #800000\">ensure that all geometries are at least one pixel thick along all  </span>\n",
       "<span style=\"color: #7fbfbf; text-decoration-color: #7fbfbf\">             </span><span style=\"color: #800000; text-decoration-color: #800000\">dimensions.                                                        </span>\n",
       "</pre>\n"
      ],
      "text/plain": [
       "\u001b[2;36m            \u001b[0m\u001b[2;36m \u001b[0m\u001b[31mWARNING: A structure has a nonzero dimension along axis z, which is\u001b[0m\n",
       "\u001b[2;36m             \u001b[0m\u001b[31mhowever too small compared to the generated mesh step along that   \u001b[0m\n",
       "\u001b[2;36m             \u001b[0m\u001b[31mdirection. This could produce unpredictable results. We recommend  \u001b[0m\n",
       "\u001b[2;36m             \u001b[0m\u001b[31mincreasing the resolution, or adding a mesh override structure to  \u001b[0m\n",
       "\u001b[2;36m             \u001b[0m\u001b[31mensure that all geometries are at least one pixel thick along all  \u001b[0m\n",
       "\u001b[2;36m             \u001b[0m\u001b[31mdimensions.                                                        \u001b[0m\n"
      ]
     },
     "metadata": {},
     "output_type": "display_data"
    },
    {
     "data": {
      "text/html": [
       "<pre style=\"white-space:pre;overflow-x:auto;line-height:normal;font-family:Menlo,'DejaVu Sans Mono',consolas,'Courier New',monospace\"><span style=\"color: #7fbfbf; text-decoration-color: #7fbfbf\">12:12:22 BST </span><span style=\"color: #800000; text-decoration-color: #800000\">WARNING: A structure has a nonzero dimension along axis z, which is</span>\n",
       "<span style=\"color: #7fbfbf; text-decoration-color: #7fbfbf\">             </span><span style=\"color: #800000; text-decoration-color: #800000\">however too small compared to the generated mesh step along that   </span>\n",
       "<span style=\"color: #7fbfbf; text-decoration-color: #7fbfbf\">             </span><span style=\"color: #800000; text-decoration-color: #800000\">direction. This could produce unpredictable results. We recommend  </span>\n",
       "<span style=\"color: #7fbfbf; text-decoration-color: #7fbfbf\">             </span><span style=\"color: #800000; text-decoration-color: #800000\">increasing the resolution, or adding a mesh override structure to  </span>\n",
       "<span style=\"color: #7fbfbf; text-decoration-color: #7fbfbf\">             </span><span style=\"color: #800000; text-decoration-color: #800000\">ensure that all geometries are at least one pixel thick along all  </span>\n",
       "<span style=\"color: #7fbfbf; text-decoration-color: #7fbfbf\">             </span><span style=\"color: #800000; text-decoration-color: #800000\">dimensions.                                                        </span>\n",
       "</pre>\n"
      ],
      "text/plain": [
       "\u001b[2;36m12:12:22 BST\u001b[0m\u001b[2;36m \u001b[0m\u001b[31mWARNING: A structure has a nonzero dimension along axis z, which is\u001b[0m\n",
       "\u001b[2;36m             \u001b[0m\u001b[31mhowever too small compared to the generated mesh step along that   \u001b[0m\n",
       "\u001b[2;36m             \u001b[0m\u001b[31mdirection. This could produce unpredictable results. We recommend  \u001b[0m\n",
       "\u001b[2;36m             \u001b[0m\u001b[31mincreasing the resolution, or adding a mesh override structure to  \u001b[0m\n",
       "\u001b[2;36m             \u001b[0m\u001b[31mensure that all geometries are at least one pixel thick along all  \u001b[0m\n",
       "\u001b[2;36m             \u001b[0m\u001b[31mdimensions.                                                        \u001b[0m\n"
      ]
     },
     "metadata": {},
     "output_type": "display_data"
    },
    {
     "data": {
      "text/html": [
       "<pre style=\"white-space:pre;overflow-x:auto;line-height:normal;font-family:Menlo,'DejaVu Sans Mono',consolas,'Courier New',monospace\"><span style=\"color: #7fbfbf; text-decoration-color: #7fbfbf\">             </span><span style=\"color: #800000; text-decoration-color: #800000\">WARNING: A structure has a nonzero dimension along axis z, which is</span>\n",
       "<span style=\"color: #7fbfbf; text-decoration-color: #7fbfbf\">             </span><span style=\"color: #800000; text-decoration-color: #800000\">however too small compared to the generated mesh step along that   </span>\n",
       "<span style=\"color: #7fbfbf; text-decoration-color: #7fbfbf\">             </span><span style=\"color: #800000; text-decoration-color: #800000\">direction. This could produce unpredictable results. We recommend  </span>\n",
       "<span style=\"color: #7fbfbf; text-decoration-color: #7fbfbf\">             </span><span style=\"color: #800000; text-decoration-color: #800000\">increasing the resolution, or adding a mesh override structure to  </span>\n",
       "<span style=\"color: #7fbfbf; text-decoration-color: #7fbfbf\">             </span><span style=\"color: #800000; text-decoration-color: #800000\">ensure that all geometries are at least one pixel thick along all  </span>\n",
       "<span style=\"color: #7fbfbf; text-decoration-color: #7fbfbf\">             </span><span style=\"color: #800000; text-decoration-color: #800000\">dimensions.                                                        </span>\n",
       "</pre>\n"
      ],
      "text/plain": [
       "\u001b[2;36m            \u001b[0m\u001b[2;36m \u001b[0m\u001b[31mWARNING: A structure has a nonzero dimension along axis z, which is\u001b[0m\n",
       "\u001b[2;36m             \u001b[0m\u001b[31mhowever too small compared to the generated mesh step along that   \u001b[0m\n",
       "\u001b[2;36m             \u001b[0m\u001b[31mdirection. This could produce unpredictable results. We recommend  \u001b[0m\n",
       "\u001b[2;36m             \u001b[0m\u001b[31mincreasing the resolution, or adding a mesh override structure to  \u001b[0m\n",
       "\u001b[2;36m             \u001b[0m\u001b[31mensure that all geometries are at least one pixel thick along all  \u001b[0m\n",
       "\u001b[2;36m             \u001b[0m\u001b[31mdimensions.                                                        \u001b[0m\n"
      ]
     },
     "metadata": {},
     "output_type": "display_data"
    },
    {
     "data": {
      "text/html": [
       "<pre style=\"white-space:pre;overflow-x:auto;line-height:normal;font-family:Menlo,'DejaVu Sans Mono',consolas,'Courier New',monospace\"><span style=\"color: #7fbfbf; text-decoration-color: #7fbfbf\">             </span><span style=\"color: #800000; text-decoration-color: #800000\">WARNING: A structure has a nonzero dimension along axis z, which is</span>\n",
       "<span style=\"color: #7fbfbf; text-decoration-color: #7fbfbf\">             </span><span style=\"color: #800000; text-decoration-color: #800000\">however too small compared to the generated mesh step along that   </span>\n",
       "<span style=\"color: #7fbfbf; text-decoration-color: #7fbfbf\">             </span><span style=\"color: #800000; text-decoration-color: #800000\">direction. This could produce unpredictable results. We recommend  </span>\n",
       "<span style=\"color: #7fbfbf; text-decoration-color: #7fbfbf\">             </span><span style=\"color: #800000; text-decoration-color: #800000\">increasing the resolution, or adding a mesh override structure to  </span>\n",
       "<span style=\"color: #7fbfbf; text-decoration-color: #7fbfbf\">             </span><span style=\"color: #800000; text-decoration-color: #800000\">ensure that all geometries are at least one pixel thick along all  </span>\n",
       "<span style=\"color: #7fbfbf; text-decoration-color: #7fbfbf\">             </span><span style=\"color: #800000; text-decoration-color: #800000\">dimensions.                                                        </span>\n",
       "</pre>\n"
      ],
      "text/plain": [
       "\u001b[2;36m            \u001b[0m\u001b[2;36m \u001b[0m\u001b[31mWARNING: A structure has a nonzero dimension along axis z, which is\u001b[0m\n",
       "\u001b[2;36m             \u001b[0m\u001b[31mhowever too small compared to the generated mesh step along that   \u001b[0m\n",
       "\u001b[2;36m             \u001b[0m\u001b[31mdirection. This could produce unpredictable results. We recommend  \u001b[0m\n",
       "\u001b[2;36m             \u001b[0m\u001b[31mincreasing the resolution, or adding a mesh override structure to  \u001b[0m\n",
       "\u001b[2;36m             \u001b[0m\u001b[31mensure that all geometries are at least one pixel thick along all  \u001b[0m\n",
       "\u001b[2;36m             \u001b[0m\u001b[31mdimensions.                                                        \u001b[0m\n"
      ]
     },
     "metadata": {},
     "output_type": "display_data"
    },
    {
     "data": {
      "text/html": [
       "<pre style=\"white-space:pre;overflow-x:auto;line-height:normal;font-family:Menlo,'DejaVu Sans Mono',consolas,'Courier New',monospace\"><span style=\"color: #7fbfbf; text-decoration-color: #7fbfbf\">             </span><span style=\"color: #800000; text-decoration-color: #800000\">WARNING: A structure has a nonzero dimension along axis z, which is</span>\n",
       "<span style=\"color: #7fbfbf; text-decoration-color: #7fbfbf\">             </span><span style=\"color: #800000; text-decoration-color: #800000\">however too small compared to the generated mesh step along that   </span>\n",
       "<span style=\"color: #7fbfbf; text-decoration-color: #7fbfbf\">             </span><span style=\"color: #800000; text-decoration-color: #800000\">direction. This could produce unpredictable results. We recommend  </span>\n",
       "<span style=\"color: #7fbfbf; text-decoration-color: #7fbfbf\">             </span><span style=\"color: #800000; text-decoration-color: #800000\">increasing the resolution, or adding a mesh override structure to  </span>\n",
       "<span style=\"color: #7fbfbf; text-decoration-color: #7fbfbf\">             </span><span style=\"color: #800000; text-decoration-color: #800000\">ensure that all geometries are at least one pixel thick along all  </span>\n",
       "<span style=\"color: #7fbfbf; text-decoration-color: #7fbfbf\">             </span><span style=\"color: #800000; text-decoration-color: #800000\">dimensions.                                                        </span>\n",
       "</pre>\n"
      ],
      "text/plain": [
       "\u001b[2;36m            \u001b[0m\u001b[2;36m \u001b[0m\u001b[31mWARNING: A structure has a nonzero dimension along axis z, which is\u001b[0m\n",
       "\u001b[2;36m             \u001b[0m\u001b[31mhowever too small compared to the generated mesh step along that   \u001b[0m\n",
       "\u001b[2;36m             \u001b[0m\u001b[31mdirection. This could produce unpredictable results. We recommend  \u001b[0m\n",
       "\u001b[2;36m             \u001b[0m\u001b[31mincreasing the resolution, or adding a mesh override structure to  \u001b[0m\n",
       "\u001b[2;36m             \u001b[0m\u001b[31mensure that all geometries are at least one pixel thick along all  \u001b[0m\n",
       "\u001b[2;36m             \u001b[0m\u001b[31mdimensions.                                                        \u001b[0m\n"
      ]
     },
     "metadata": {},
     "output_type": "display_data"
    },
    {
     "data": {
      "text/html": [
       "<pre style=\"white-space:pre;overflow-x:auto;line-height:normal;font-family:Menlo,'DejaVu Sans Mono',consolas,'Courier New',monospace\"><span style=\"color: #7fbfbf; text-decoration-color: #7fbfbf\">             </span>Running <span style=\"color: #008080; text-decoration-color: #008080; font-weight: bold\">100</span> Simulations                                            \n",
       "</pre>\n"
      ],
      "text/plain": [
       "\u001b[2;36m            \u001b[0m\u001b[2;36m \u001b[0mRunning \u001b[1;36m100\u001b[0m Simulations                                            \n"
      ]
     },
     "metadata": {},
     "output_type": "display_data"
    },
    {
     "data": {
      "text/html": [
       "<pre style=\"white-space:pre;overflow-x:auto;line-height:normal;font-family:Menlo,'DejaVu Sans Mono',consolas,'Courier New',monospace\"><span style=\"color: #7fbfbf; text-decoration-color: #7fbfbf\">12:12:23 BST </span><span style=\"color: #800000; text-decoration-color: #800000\">WARNING: Mode monitor </span><span style=\"color: #008000; text-decoration-color: #008000\">'mode_fiber'</span><span style=\"color: #800000; text-decoration-color: #800000\"> has a large number </span><span style=\"color: #800000; text-decoration-color: #800000; font-weight: bold\">(</span><span style=\"color: #008080; text-decoration-color: #008080; font-weight: bold\">1.87e+05</span><span style=\"color: #800000; text-decoration-color: #800000; font-weight: bold\">)</span><span style=\"color: #800000; text-decoration-color: #800000\"> of</span>\n",
       "<span style=\"color: #7fbfbf; text-decoration-color: #7fbfbf\">             </span><span style=\"color: #800000; text-decoration-color: #800000\">grid points. This can lead to solver slow-down and increased cost. </span>\n",
       "<span style=\"color: #7fbfbf; text-decoration-color: #7fbfbf\">             </span><span style=\"color: #800000; text-decoration-color: #800000\">Consider making the size of the component smaller, as long as the  </span>\n",
       "<span style=\"color: #7fbfbf; text-decoration-color: #7fbfbf\">             </span><span style=\"color: #800000; text-decoration-color: #800000\">modes of interest decay by the plane boundaries.                   </span>\n",
       "</pre>\n"
      ],
      "text/plain": [
       "\u001b[2;36m12:12:23 BST\u001b[0m\u001b[2;36m \u001b[0m\u001b[31mWARNING: Mode monitor \u001b[0m\u001b[32m'mode_fiber'\u001b[0m\u001b[31m has a large number \u001b[0m\u001b[1;31m(\u001b[0m\u001b[1;36m1.87e+05\u001b[0m\u001b[1;31m)\u001b[0m\u001b[31m of\u001b[0m\n",
       "\u001b[2;36m             \u001b[0m\u001b[31mgrid points. This can lead to solver slow-down and increased cost. \u001b[0m\n",
       "\u001b[2;36m             \u001b[0m\u001b[31mConsider making the size of the component smaller, as long as the  \u001b[0m\n",
       "\u001b[2;36m             \u001b[0m\u001b[31mmodes of interest decay by the plane boundaries.                   \u001b[0m\n"
      ]
     },
     "metadata": {},
     "output_type": "display_data"
    },
    {
     "data": {
      "text/html": [
       "<pre style=\"white-space:pre;overflow-x:auto;line-height:normal;font-family:Menlo,'DejaVu Sans Mono',consolas,'Courier New',monospace\"><span style=\"color: #7fbfbf; text-decoration-color: #7fbfbf\">             </span><span style=\"color: #800000; text-decoration-color: #800000\">WARNING: Mode monitor </span><span style=\"color: #008000; text-decoration-color: #008000\">'mode_fiber'</span><span style=\"color: #800000; text-decoration-color: #800000\"> has a large number </span><span style=\"color: #800000; text-decoration-color: #800000; font-weight: bold\">(</span><span style=\"color: #008080; text-decoration-color: #008080; font-weight: bold\">1.85e+05</span><span style=\"color: #800000; text-decoration-color: #800000; font-weight: bold\">)</span><span style=\"color: #800000; text-decoration-color: #800000\"> of</span>\n",
       "<span style=\"color: #7fbfbf; text-decoration-color: #7fbfbf\">             </span><span style=\"color: #800000; text-decoration-color: #800000\">grid points. This can lead to solver slow-down and increased cost. </span>\n",
       "<span style=\"color: #7fbfbf; text-decoration-color: #7fbfbf\">             </span><span style=\"color: #800000; text-decoration-color: #800000\">Consider making the size of the component smaller, as long as the  </span>\n",
       "<span style=\"color: #7fbfbf; text-decoration-color: #7fbfbf\">             </span><span style=\"color: #800000; text-decoration-color: #800000\">modes of interest decay by the plane boundaries.                   </span>\n",
       "</pre>\n"
      ],
      "text/plain": [
       "\u001b[2;36m            \u001b[0m\u001b[2;36m \u001b[0m\u001b[31mWARNING: Mode monitor \u001b[0m\u001b[32m'mode_fiber'\u001b[0m\u001b[31m has a large number \u001b[0m\u001b[1;31m(\u001b[0m\u001b[1;36m1.85e+05\u001b[0m\u001b[1;31m)\u001b[0m\u001b[31m of\u001b[0m\n",
       "\u001b[2;36m             \u001b[0m\u001b[31mgrid points. This can lead to solver slow-down and increased cost. \u001b[0m\n",
       "\u001b[2;36m             \u001b[0m\u001b[31mConsider making the size of the component smaller, as long as the  \u001b[0m\n",
       "\u001b[2;36m             \u001b[0m\u001b[31mmodes of interest decay by the plane boundaries.                   \u001b[0m\n"
      ]
     },
     "metadata": {},
     "output_type": "display_data"
    },
    {
     "data": {
      "text/html": [
       "<pre style=\"white-space:pre;overflow-x:auto;line-height:normal;font-family:Menlo,'DejaVu Sans Mono',consolas,'Courier New',monospace\"><span style=\"color: #7fbfbf; text-decoration-color: #7fbfbf\">             </span><span style=\"color: #800000; text-decoration-color: #800000\">WARNING: Mode monitor </span><span style=\"color: #008000; text-decoration-color: #008000\">'mode_fiber'</span><span style=\"color: #800000; text-decoration-color: #800000\"> has a large number </span><span style=\"color: #800000; text-decoration-color: #800000; font-weight: bold\">(</span><span style=\"color: #008080; text-decoration-color: #008080; font-weight: bold\">1.51e+05</span><span style=\"color: #800000; text-decoration-color: #800000; font-weight: bold\">)</span><span style=\"color: #800000; text-decoration-color: #800000\"> of</span>\n",
       "<span style=\"color: #7fbfbf; text-decoration-color: #7fbfbf\">             </span><span style=\"color: #800000; text-decoration-color: #800000\">grid points. This can lead to solver slow-down and increased cost. </span>\n",
       "<span style=\"color: #7fbfbf; text-decoration-color: #7fbfbf\">             </span><span style=\"color: #800000; text-decoration-color: #800000\">Consider making the size of the component smaller, as long as the  </span>\n",
       "<span style=\"color: #7fbfbf; text-decoration-color: #7fbfbf\">             </span><span style=\"color: #800000; text-decoration-color: #800000\">modes of interest decay by the plane boundaries.                   </span>\n",
       "</pre>\n"
      ],
      "text/plain": [
       "\u001b[2;36m            \u001b[0m\u001b[2;36m \u001b[0m\u001b[31mWARNING: Mode monitor \u001b[0m\u001b[32m'mode_fiber'\u001b[0m\u001b[31m has a large number \u001b[0m\u001b[1;31m(\u001b[0m\u001b[1;36m1.51e+05\u001b[0m\u001b[1;31m)\u001b[0m\u001b[31m of\u001b[0m\n",
       "\u001b[2;36m             \u001b[0m\u001b[31mgrid points. This can lead to solver slow-down and increased cost. \u001b[0m\n",
       "\u001b[2;36m             \u001b[0m\u001b[31mConsider making the size of the component smaller, as long as the  \u001b[0m\n",
       "\u001b[2;36m             \u001b[0m\u001b[31mmodes of interest decay by the plane boundaries.                   \u001b[0m\n"
      ]
     },
     "metadata": {},
     "output_type": "display_data"
    },
    {
     "data": {
      "text/html": [
       "<pre style=\"white-space:pre;overflow-x:auto;line-height:normal;font-family:Menlo,'DejaVu Sans Mono',consolas,'Courier New',monospace\"><span style=\"color: #7fbfbf; text-decoration-color: #7fbfbf\">             </span><span style=\"color: #800000; text-decoration-color: #800000\">WARNING: Mode monitor </span><span style=\"color: #008000; text-decoration-color: #008000\">'mode_fiber'</span><span style=\"color: #800000; text-decoration-color: #800000\"> has a large number </span><span style=\"color: #800000; text-decoration-color: #800000; font-weight: bold\">(</span><span style=\"color: #008080; text-decoration-color: #008080; font-weight: bold\">2.30e+05</span><span style=\"color: #800000; text-decoration-color: #800000; font-weight: bold\">)</span><span style=\"color: #800000; text-decoration-color: #800000\"> of</span>\n",
       "<span style=\"color: #7fbfbf; text-decoration-color: #7fbfbf\">             </span><span style=\"color: #800000; text-decoration-color: #800000\">grid points. This can lead to solver slow-down and increased cost. </span>\n",
       "<span style=\"color: #7fbfbf; text-decoration-color: #7fbfbf\">             </span><span style=\"color: #800000; text-decoration-color: #800000\">Consider making the size of the component smaller, as long as the  </span>\n",
       "<span style=\"color: #7fbfbf; text-decoration-color: #7fbfbf\">             </span><span style=\"color: #800000; text-decoration-color: #800000\">modes of interest decay by the plane boundaries.                   </span>\n",
       "</pre>\n"
      ],
      "text/plain": [
       "\u001b[2;36m            \u001b[0m\u001b[2;36m \u001b[0m\u001b[31mWARNING: Mode monitor \u001b[0m\u001b[32m'mode_fiber'\u001b[0m\u001b[31m has a large number \u001b[0m\u001b[1;31m(\u001b[0m\u001b[1;36m2.30e+05\u001b[0m\u001b[1;31m)\u001b[0m\u001b[31m of\u001b[0m\n",
       "\u001b[2;36m             \u001b[0m\u001b[31mgrid points. This can lead to solver slow-down and increased cost. \u001b[0m\n",
       "\u001b[2;36m             \u001b[0m\u001b[31mConsider making the size of the component smaller, as long as the  \u001b[0m\n",
       "\u001b[2;36m             \u001b[0m\u001b[31mmodes of interest decay by the plane boundaries.                   \u001b[0m\n"
      ]
     },
     "metadata": {},
     "output_type": "display_data"
    },
    {
     "data": {
      "text/html": [
       "<pre style=\"white-space:pre;overflow-x:auto;line-height:normal;font-family:Menlo,'DejaVu Sans Mono',consolas,'Courier New',monospace\"><span style=\"color: #7fbfbf; text-decoration-color: #7fbfbf\">             </span><span style=\"color: #800000; text-decoration-color: #800000\">WARNING: Suppressed </span><span style=\"color: #008080; text-decoration-color: #008080; font-weight: bold\">1</span><span style=\"color: #800000; text-decoration-color: #800000\"> WARNING message.                             </span>\n",
       "</pre>\n"
      ],
      "text/plain": [
       "\u001b[2;36m            \u001b[0m\u001b[2;36m \u001b[0m\u001b[31mWARNING: Suppressed \u001b[0m\u001b[1;36m1\u001b[0m\u001b[31m WARNING message.                             \u001b[0m\n"
      ]
     },
     "metadata": {},
     "output_type": "display_data"
    },
    {
     "data": {
      "text/html": [
       "<pre style=\"white-space:pre;overflow-x:auto;line-height:normal;font-family:Menlo,'DejaVu Sans Mono',consolas,'Courier New',monospace\"><span style=\"color: #7fbfbf; text-decoration-color: #7fbfbf\">             </span><span style=\"color: #800000; text-decoration-color: #800000\">WARNING: Mode monitor </span><span style=\"color: #008000; text-decoration-color: #008000\">'mode_fiber'</span><span style=\"color: #800000; text-decoration-color: #800000\"> has a large number </span><span style=\"color: #800000; text-decoration-color: #800000; font-weight: bold\">(</span><span style=\"color: #008080; text-decoration-color: #008080; font-weight: bold\">2.40e+05</span><span style=\"color: #800000; text-decoration-color: #800000; font-weight: bold\">)</span><span style=\"color: #800000; text-decoration-color: #800000\"> of</span>\n",
       "<span style=\"color: #7fbfbf; text-decoration-color: #7fbfbf\">             </span><span style=\"color: #800000; text-decoration-color: #800000\">grid points. This can lead to solver slow-down and increased cost. </span>\n",
       "<span style=\"color: #7fbfbf; text-decoration-color: #7fbfbf\">             </span><span style=\"color: #800000; text-decoration-color: #800000\">Consider making the size of the component smaller, as long as the  </span>\n",
       "<span style=\"color: #7fbfbf; text-decoration-color: #7fbfbf\">             </span><span style=\"color: #800000; text-decoration-color: #800000\">modes of interest decay by the plane boundaries.                   </span>\n",
       "</pre>\n"
      ],
      "text/plain": [
       "\u001b[2;36m            \u001b[0m\u001b[2;36m \u001b[0m\u001b[31mWARNING: Mode monitor \u001b[0m\u001b[32m'mode_fiber'\u001b[0m\u001b[31m has a large number \u001b[0m\u001b[1;31m(\u001b[0m\u001b[1;36m2.40e+05\u001b[0m\u001b[1;31m)\u001b[0m\u001b[31m of\u001b[0m\n",
       "\u001b[2;36m             \u001b[0m\u001b[31mgrid points. This can lead to solver slow-down and increased cost. \u001b[0m\n",
       "\u001b[2;36m             \u001b[0m\u001b[31mConsider making the size of the component smaller, as long as the  \u001b[0m\n",
       "\u001b[2;36m             \u001b[0m\u001b[31mmodes of interest decay by the plane boundaries.                   \u001b[0m\n"
      ]
     },
     "metadata": {},
     "output_type": "display_data"
    },
    {
     "data": {
      "text/html": [
       "<pre style=\"white-space:pre;overflow-x:auto;line-height:normal;font-family:Menlo,'DejaVu Sans Mono',consolas,'Courier New',monospace\"><span style=\"color: #7fbfbf; text-decoration-color: #7fbfbf\">             </span><span style=\"color: #800000; text-decoration-color: #800000\">WARNING: A structure has a nonzero dimension along axis z, which is</span>\n",
       "<span style=\"color: #7fbfbf; text-decoration-color: #7fbfbf\">             </span><span style=\"color: #800000; text-decoration-color: #800000\">however too small compared to the generated mesh step along that   </span>\n",
       "<span style=\"color: #7fbfbf; text-decoration-color: #7fbfbf\">             </span><span style=\"color: #800000; text-decoration-color: #800000\">direction. This could produce unpredictable results. We recommend  </span>\n",
       "<span style=\"color: #7fbfbf; text-decoration-color: #7fbfbf\">             </span><span style=\"color: #800000; text-decoration-color: #800000\">increasing the resolution, or adding a mesh override structure to  </span>\n",
       "<span style=\"color: #7fbfbf; text-decoration-color: #7fbfbf\">             </span><span style=\"color: #800000; text-decoration-color: #800000\">ensure that all geometries are at least one pixel thick along all  </span>\n",
       "<span style=\"color: #7fbfbf; text-decoration-color: #7fbfbf\">             </span><span style=\"color: #800000; text-decoration-color: #800000\">dimensions.                                                        </span>\n",
       "</pre>\n"
      ],
      "text/plain": [
       "\u001b[2;36m            \u001b[0m\u001b[2;36m \u001b[0m\u001b[31mWARNING: A structure has a nonzero dimension along axis z, which is\u001b[0m\n",
       "\u001b[2;36m             \u001b[0m\u001b[31mhowever too small compared to the generated mesh step along that   \u001b[0m\n",
       "\u001b[2;36m             \u001b[0m\u001b[31mdirection. This could produce unpredictable results. We recommend  \u001b[0m\n",
       "\u001b[2;36m             \u001b[0m\u001b[31mincreasing the resolution, or adding a mesh override structure to  \u001b[0m\n",
       "\u001b[2;36m             \u001b[0m\u001b[31mensure that all geometries are at least one pixel thick along all  \u001b[0m\n",
       "\u001b[2;36m             \u001b[0m\u001b[31mdimensions.                                                        \u001b[0m\n"
      ]
     },
     "metadata": {},
     "output_type": "display_data"
    },
    {
     "data": {
      "text/html": [
       "<pre style=\"white-space:pre;overflow-x:auto;line-height:normal;font-family:Menlo,'DejaVu Sans Mono',consolas,'Courier New',monospace\"><span style=\"color: #7fbfbf; text-decoration-color: #7fbfbf\">             </span><span style=\"color: #800000; text-decoration-color: #800000\">WARNING: Mode monitor </span><span style=\"color: #008000; text-decoration-color: #008000\">'mode_fiber'</span><span style=\"color: #800000; text-decoration-color: #800000\"> has a large number </span><span style=\"color: #800000; text-decoration-color: #800000; font-weight: bold\">(</span><span style=\"color: #008080; text-decoration-color: #008080; font-weight: bold\">3.97e+05</span><span style=\"color: #800000; text-decoration-color: #800000; font-weight: bold\">)</span><span style=\"color: #800000; text-decoration-color: #800000\"> of</span>\n",
       "<span style=\"color: #7fbfbf; text-decoration-color: #7fbfbf\">             </span><span style=\"color: #800000; text-decoration-color: #800000\">grid points. This can lead to solver slow-down and increased cost. </span>\n",
       "<span style=\"color: #7fbfbf; text-decoration-color: #7fbfbf\">             </span><span style=\"color: #800000; text-decoration-color: #800000\">Consider making the size of the component smaller, as long as the  </span>\n",
       "<span style=\"color: #7fbfbf; text-decoration-color: #7fbfbf\">             </span><span style=\"color: #800000; text-decoration-color: #800000\">modes of interest decay by the plane boundaries.                   </span>\n",
       "</pre>\n"
      ],
      "text/plain": [
       "\u001b[2;36m            \u001b[0m\u001b[2;36m \u001b[0m\u001b[31mWARNING: Mode monitor \u001b[0m\u001b[32m'mode_fiber'\u001b[0m\u001b[31m has a large number \u001b[0m\u001b[1;31m(\u001b[0m\u001b[1;36m3.97e+05\u001b[0m\u001b[1;31m)\u001b[0m\u001b[31m of\u001b[0m\n",
       "\u001b[2;36m             \u001b[0m\u001b[31mgrid points. This can lead to solver slow-down and increased cost. \u001b[0m\n",
       "\u001b[2;36m             \u001b[0m\u001b[31mConsider making the size of the component smaller, as long as the  \u001b[0m\n",
       "\u001b[2;36m             \u001b[0m\u001b[31mmodes of interest decay by the plane boundaries.                   \u001b[0m\n"
      ]
     },
     "metadata": {},
     "output_type": "display_data"
    },
    {
     "data": {
      "text/html": [
       "<pre style=\"white-space:pre;overflow-x:auto;line-height:normal;font-family:Menlo,'DejaVu Sans Mono',consolas,'Courier New',monospace\"><span style=\"color: #7fbfbf; text-decoration-color: #7fbfbf\">             </span><span style=\"color: #800000; text-decoration-color: #800000\">WARNING: Mode monitor </span><span style=\"color: #008000; text-decoration-color: #008000\">'mode_fiber'</span><span style=\"color: #800000; text-decoration-color: #800000\"> has a large number </span><span style=\"color: #800000; text-decoration-color: #800000; font-weight: bold\">(</span><span style=\"color: #008080; text-decoration-color: #008080; font-weight: bold\">4.17e+05</span><span style=\"color: #800000; text-decoration-color: #800000; font-weight: bold\">)</span><span style=\"color: #800000; text-decoration-color: #800000\"> of</span>\n",
       "<span style=\"color: #7fbfbf; text-decoration-color: #7fbfbf\">             </span><span style=\"color: #800000; text-decoration-color: #800000\">grid points. This can lead to solver slow-down and increased cost. </span>\n",
       "<span style=\"color: #7fbfbf; text-decoration-color: #7fbfbf\">             </span><span style=\"color: #800000; text-decoration-color: #800000\">Consider making the size of the component smaller, as long as the  </span>\n",
       "<span style=\"color: #7fbfbf; text-decoration-color: #7fbfbf\">             </span><span style=\"color: #800000; text-decoration-color: #800000\">modes of interest decay by the plane boundaries.                   </span>\n",
       "</pre>\n"
      ],
      "text/plain": [
       "\u001b[2;36m            \u001b[0m\u001b[2;36m \u001b[0m\u001b[31mWARNING: Mode monitor \u001b[0m\u001b[32m'mode_fiber'\u001b[0m\u001b[31m has a large number \u001b[0m\u001b[1;31m(\u001b[0m\u001b[1;36m4.17e+05\u001b[0m\u001b[1;31m)\u001b[0m\u001b[31m of\u001b[0m\n",
       "\u001b[2;36m             \u001b[0m\u001b[31mgrid points. This can lead to solver slow-down and increased cost. \u001b[0m\n",
       "\u001b[2;36m             \u001b[0m\u001b[31mConsider making the size of the component smaller, as long as the  \u001b[0m\n",
       "\u001b[2;36m             \u001b[0m\u001b[31mmodes of interest decay by the plane boundaries.                   \u001b[0m\n"
      ]
     },
     "metadata": {},
     "output_type": "display_data"
    },
    {
     "data": {
      "text/html": [
       "<pre style=\"white-space:pre;overflow-x:auto;line-height:normal;font-family:Menlo,'DejaVu Sans Mono',consolas,'Courier New',monospace\"><span style=\"color: #7fbfbf; text-decoration-color: #7fbfbf\">             </span><span style=\"color: #800000; text-decoration-color: #800000\">WARNING: Mode monitor </span><span style=\"color: #008000; text-decoration-color: #008000\">'mode_fiber'</span><span style=\"color: #800000; text-decoration-color: #800000\"> has a large number </span><span style=\"color: #800000; text-decoration-color: #800000; font-weight: bold\">(</span><span style=\"color: #008080; text-decoration-color: #008080; font-weight: bold\">1.68e+05</span><span style=\"color: #800000; text-decoration-color: #800000; font-weight: bold\">)</span><span style=\"color: #800000; text-decoration-color: #800000\"> of</span>\n",
       "<span style=\"color: #7fbfbf; text-decoration-color: #7fbfbf\">             </span><span style=\"color: #800000; text-decoration-color: #800000\">grid points. This can lead to solver slow-down and increased cost. </span>\n",
       "<span style=\"color: #7fbfbf; text-decoration-color: #7fbfbf\">             </span><span style=\"color: #800000; text-decoration-color: #800000\">Consider making the size of the component smaller, as long as the  </span>\n",
       "<span style=\"color: #7fbfbf; text-decoration-color: #7fbfbf\">             </span><span style=\"color: #800000; text-decoration-color: #800000\">modes of interest decay by the plane boundaries.                   </span>\n",
       "</pre>\n"
      ],
      "text/plain": [
       "\u001b[2;36m            \u001b[0m\u001b[2;36m \u001b[0m\u001b[31mWARNING: Mode monitor \u001b[0m\u001b[32m'mode_fiber'\u001b[0m\u001b[31m has a large number \u001b[0m\u001b[1;31m(\u001b[0m\u001b[1;36m1.68e+05\u001b[0m\u001b[1;31m)\u001b[0m\u001b[31m of\u001b[0m\n",
       "\u001b[2;36m             \u001b[0m\u001b[31mgrid points. This can lead to solver slow-down and increased cost. \u001b[0m\n",
       "\u001b[2;36m             \u001b[0m\u001b[31mConsider making the size of the component smaller, as long as the  \u001b[0m\n",
       "\u001b[2;36m             \u001b[0m\u001b[31mmodes of interest decay by the plane boundaries.                   \u001b[0m\n"
      ]
     },
     "metadata": {},
     "output_type": "display_data"
    },
    {
     "data": {
      "text/html": [
       "<pre style=\"white-space:pre;overflow-x:auto;line-height:normal;font-family:Menlo,'DejaVu Sans Mono',consolas,'Courier New',monospace\"><span style=\"color: #7fbfbf; text-decoration-color: #7fbfbf\">             </span><span style=\"color: #800000; text-decoration-color: #800000\">WARNING: Mode monitor </span><span style=\"color: #008000; text-decoration-color: #008000\">'mode_fiber'</span><span style=\"color: #800000; text-decoration-color: #800000\"> has a large number </span><span style=\"color: #800000; text-decoration-color: #800000; font-weight: bold\">(</span><span style=\"color: #008080; text-decoration-color: #008080; font-weight: bold\">1.04e+05</span><span style=\"color: #800000; text-decoration-color: #800000; font-weight: bold\">)</span><span style=\"color: #800000; text-decoration-color: #800000\"> of</span>\n",
       "<span style=\"color: #7fbfbf; text-decoration-color: #7fbfbf\">             </span><span style=\"color: #800000; text-decoration-color: #800000\">grid points. This can lead to solver slow-down and increased cost. </span>\n",
       "<span style=\"color: #7fbfbf; text-decoration-color: #7fbfbf\">             </span><span style=\"color: #800000; text-decoration-color: #800000\">Consider making the size of the component smaller, as long as the  </span>\n",
       "<span style=\"color: #7fbfbf; text-decoration-color: #7fbfbf\">             </span><span style=\"color: #800000; text-decoration-color: #800000\">modes of interest decay by the plane boundaries.                   </span>\n",
       "</pre>\n"
      ],
      "text/plain": [
       "\u001b[2;36m            \u001b[0m\u001b[2;36m \u001b[0m\u001b[31mWARNING: Mode monitor \u001b[0m\u001b[32m'mode_fiber'\u001b[0m\u001b[31m has a large number \u001b[0m\u001b[1;31m(\u001b[0m\u001b[1;36m1.04e+05\u001b[0m\u001b[1;31m)\u001b[0m\u001b[31m of\u001b[0m\n",
       "\u001b[2;36m             \u001b[0m\u001b[31mgrid points. This can lead to solver slow-down and increased cost. \u001b[0m\n",
       "\u001b[2;36m             \u001b[0m\u001b[31mConsider making the size of the component smaller, as long as the  \u001b[0m\n",
       "\u001b[2;36m             \u001b[0m\u001b[31mmodes of interest decay by the plane boundaries.                   \u001b[0m\n"
      ]
     },
     "metadata": {},
     "output_type": "display_data"
    },
    {
     "data": {
      "text/html": [
       "<pre style=\"white-space:pre;overflow-x:auto;line-height:normal;font-family:Menlo,'DejaVu Sans Mono',consolas,'Courier New',monospace\"><span style=\"color: #7fbfbf; text-decoration-color: #7fbfbf\">12:12:25 BST </span><span style=\"color: #800000; text-decoration-color: #800000\">WARNING: Mode monitor </span><span style=\"color: #008000; text-decoration-color: #008000\">'mode_fiber'</span><span style=\"color: #800000; text-decoration-color: #800000\"> has a large number </span><span style=\"color: #800000; text-decoration-color: #800000; font-weight: bold\">(</span><span style=\"color: #008080; text-decoration-color: #008080; font-weight: bold\">1.92e+05</span><span style=\"color: #800000; text-decoration-color: #800000; font-weight: bold\">)</span><span style=\"color: #800000; text-decoration-color: #800000\"> of</span>\n",
       "<span style=\"color: #7fbfbf; text-decoration-color: #7fbfbf\">             </span><span style=\"color: #800000; text-decoration-color: #800000\">grid points. This can lead to solver slow-down and increased cost. </span>\n",
       "<span style=\"color: #7fbfbf; text-decoration-color: #7fbfbf\">             </span><span style=\"color: #800000; text-decoration-color: #800000\">Consider making the size of the component smaller, as long as the  </span>\n",
       "<span style=\"color: #7fbfbf; text-decoration-color: #7fbfbf\">             </span><span style=\"color: #800000; text-decoration-color: #800000\">modes of interest decay by the plane boundaries.                   </span>\n",
       "</pre>\n"
      ],
      "text/plain": [
       "\u001b[2;36m12:12:25 BST\u001b[0m\u001b[2;36m \u001b[0m\u001b[31mWARNING: Mode monitor \u001b[0m\u001b[32m'mode_fiber'\u001b[0m\u001b[31m has a large number \u001b[0m\u001b[1;31m(\u001b[0m\u001b[1;36m1.92e+05\u001b[0m\u001b[1;31m)\u001b[0m\u001b[31m of\u001b[0m\n",
       "\u001b[2;36m             \u001b[0m\u001b[31mgrid points. This can lead to solver slow-down and increased cost. \u001b[0m\n",
       "\u001b[2;36m             \u001b[0m\u001b[31mConsider making the size of the component smaller, as long as the  \u001b[0m\n",
       "\u001b[2;36m             \u001b[0m\u001b[31mmodes of interest decay by the plane boundaries.                   \u001b[0m\n"
      ]
     },
     "metadata": {},
     "output_type": "display_data"
    },
    {
     "data": {
      "text/html": [
       "<pre style=\"white-space:pre;overflow-x:auto;line-height:normal;font-family:Menlo,'DejaVu Sans Mono',consolas,'Courier New',monospace\"><span style=\"color: #7fbfbf; text-decoration-color: #7fbfbf\">12:12:26 BST </span><span style=\"color: #800000; text-decoration-color: #800000\">WARNING: A structure has a nonzero dimension along axis z, which is</span>\n",
       "<span style=\"color: #7fbfbf; text-decoration-color: #7fbfbf\">             </span><span style=\"color: #800000; text-decoration-color: #800000\">however too small compared to the generated mesh step along that   </span>\n",
       "<span style=\"color: #7fbfbf; text-decoration-color: #7fbfbf\">             </span><span style=\"color: #800000; text-decoration-color: #800000\">direction. This could produce unpredictable results. We recommend  </span>\n",
       "<span style=\"color: #7fbfbf; text-decoration-color: #7fbfbf\">             </span><span style=\"color: #800000; text-decoration-color: #800000\">increasing the resolution, or adding a mesh override structure to  </span>\n",
       "<span style=\"color: #7fbfbf; text-decoration-color: #7fbfbf\">             </span><span style=\"color: #800000; text-decoration-color: #800000\">ensure that all geometries are at least one pixel thick along all  </span>\n",
       "<span style=\"color: #7fbfbf; text-decoration-color: #7fbfbf\">             </span><span style=\"color: #800000; text-decoration-color: #800000\">dimensions.                                                        </span>\n",
       "</pre>\n"
      ],
      "text/plain": [
       "\u001b[2;36m12:12:26 BST\u001b[0m\u001b[2;36m \u001b[0m\u001b[31mWARNING: A structure has a nonzero dimension along axis z, which is\u001b[0m\n",
       "\u001b[2;36m             \u001b[0m\u001b[31mhowever too small compared to the generated mesh step along that   \u001b[0m\n",
       "\u001b[2;36m             \u001b[0m\u001b[31mdirection. This could produce unpredictable results. We recommend  \u001b[0m\n",
       "\u001b[2;36m             \u001b[0m\u001b[31mincreasing the resolution, or adding a mesh override structure to  \u001b[0m\n",
       "\u001b[2;36m             \u001b[0m\u001b[31mensure that all geometries are at least one pixel thick along all  \u001b[0m\n",
       "\u001b[2;36m             \u001b[0m\u001b[31mdimensions.                                                        \u001b[0m\n"
      ]
     },
     "metadata": {},
     "output_type": "display_data"
    },
    {
     "data": {
      "text/html": [
       "<pre style=\"white-space:pre;overflow-x:auto;line-height:normal;font-family:Menlo,'DejaVu Sans Mono',consolas,'Courier New',monospace\"><span style=\"color: #7fbfbf; text-decoration-color: #7fbfbf\">             </span><span style=\"color: #800000; text-decoration-color: #800000\">WARNING: Mode monitor </span><span style=\"color: #008000; text-decoration-color: #008000\">'mode_fiber'</span><span style=\"color: #800000; text-decoration-color: #800000\"> has a large number </span><span style=\"color: #800000; text-decoration-color: #800000; font-weight: bold\">(</span><span style=\"color: #008080; text-decoration-color: #008080; font-weight: bold\">2.44e+05</span><span style=\"color: #800000; text-decoration-color: #800000; font-weight: bold\">)</span><span style=\"color: #800000; text-decoration-color: #800000\"> of</span>\n",
       "<span style=\"color: #7fbfbf; text-decoration-color: #7fbfbf\">             </span><span style=\"color: #800000; text-decoration-color: #800000\">grid points. This can lead to solver slow-down and increased cost. </span>\n",
       "<span style=\"color: #7fbfbf; text-decoration-color: #7fbfbf\">             </span><span style=\"color: #800000; text-decoration-color: #800000\">Consider making the size of the component smaller, as long as the  </span>\n",
       "<span style=\"color: #7fbfbf; text-decoration-color: #7fbfbf\">             </span><span style=\"color: #800000; text-decoration-color: #800000\">modes of interest decay by the plane boundaries.                   </span>\n",
       "</pre>\n"
      ],
      "text/plain": [
       "\u001b[2;36m            \u001b[0m\u001b[2;36m \u001b[0m\u001b[31mWARNING: Mode monitor \u001b[0m\u001b[32m'mode_fiber'\u001b[0m\u001b[31m has a large number \u001b[0m\u001b[1;31m(\u001b[0m\u001b[1;36m2.44e+05\u001b[0m\u001b[1;31m)\u001b[0m\u001b[31m of\u001b[0m\n",
       "\u001b[2;36m             \u001b[0m\u001b[31mgrid points. This can lead to solver slow-down and increased cost. \u001b[0m\n",
       "\u001b[2;36m             \u001b[0m\u001b[31mConsider making the size of the component smaller, as long as the  \u001b[0m\n",
       "\u001b[2;36m             \u001b[0m\u001b[31mmodes of interest decay by the plane boundaries.                   \u001b[0m\n"
      ]
     },
     "metadata": {},
     "output_type": "display_data"
    },
    {
     "data": {
      "text/html": [
       "<pre style=\"white-space:pre;overflow-x:auto;line-height:normal;font-family:Menlo,'DejaVu Sans Mono',consolas,'Courier New',monospace\"><span style=\"color: #7fbfbf; text-decoration-color: #7fbfbf\">             </span><span style=\"color: #800000; text-decoration-color: #800000\">WARNING: Mode monitor </span><span style=\"color: #008000; text-decoration-color: #008000\">'mode_fiber'</span><span style=\"color: #800000; text-decoration-color: #800000\"> has a large number </span><span style=\"color: #800000; text-decoration-color: #800000; font-weight: bold\">(</span><span style=\"color: #008080; text-decoration-color: #008080; font-weight: bold\">1.46e+05</span><span style=\"color: #800000; text-decoration-color: #800000; font-weight: bold\">)</span><span style=\"color: #800000; text-decoration-color: #800000\"> of</span>\n",
       "<span style=\"color: #7fbfbf; text-decoration-color: #7fbfbf\">             </span><span style=\"color: #800000; text-decoration-color: #800000\">grid points. This can lead to solver slow-down and increased cost. </span>\n",
       "<span style=\"color: #7fbfbf; text-decoration-color: #7fbfbf\">             </span><span style=\"color: #800000; text-decoration-color: #800000\">Consider making the size of the component smaller, as long as the  </span>\n",
       "<span style=\"color: #7fbfbf; text-decoration-color: #7fbfbf\">             </span><span style=\"color: #800000; text-decoration-color: #800000\">modes of interest decay by the plane boundaries.                   </span>\n",
       "</pre>\n"
      ],
      "text/plain": [
       "\u001b[2;36m            \u001b[0m\u001b[2;36m \u001b[0m\u001b[31mWARNING: Mode monitor \u001b[0m\u001b[32m'mode_fiber'\u001b[0m\u001b[31m has a large number \u001b[0m\u001b[1;31m(\u001b[0m\u001b[1;36m1.46e+05\u001b[0m\u001b[1;31m)\u001b[0m\u001b[31m of\u001b[0m\n",
       "\u001b[2;36m             \u001b[0m\u001b[31mgrid points. This can lead to solver slow-down and increased cost. \u001b[0m\n",
       "\u001b[2;36m             \u001b[0m\u001b[31mConsider making the size of the component smaller, as long as the  \u001b[0m\n",
       "\u001b[2;36m             \u001b[0m\u001b[31mmodes of interest decay by the plane boundaries.                   \u001b[0m\n"
      ]
     },
     "metadata": {},
     "output_type": "display_data"
    },
    {
     "data": {
      "text/html": [
       "<pre style=\"white-space:pre;overflow-x:auto;line-height:normal;font-family:Menlo,'DejaVu Sans Mono',consolas,'Courier New',monospace\"><span style=\"color: #7fbfbf; text-decoration-color: #7fbfbf\">             </span><span style=\"color: #800000; text-decoration-color: #800000\">WARNING: Mode monitor </span><span style=\"color: #008000; text-decoration-color: #008000\">'mode_fiber'</span><span style=\"color: #800000; text-decoration-color: #800000\"> has a large number </span><span style=\"color: #800000; text-decoration-color: #800000; font-weight: bold\">(</span><span style=\"color: #008080; text-decoration-color: #008080; font-weight: bold\">1.44e+05</span><span style=\"color: #800000; text-decoration-color: #800000; font-weight: bold\">)</span><span style=\"color: #800000; text-decoration-color: #800000\"> of</span>\n",
       "<span style=\"color: #7fbfbf; text-decoration-color: #7fbfbf\">             </span><span style=\"color: #800000; text-decoration-color: #800000\">grid points. This can lead to solver slow-down and increased cost. </span>\n",
       "<span style=\"color: #7fbfbf; text-decoration-color: #7fbfbf\">             </span><span style=\"color: #800000; text-decoration-color: #800000\">Consider making the size of the component smaller, as long as the  </span>\n",
       "<span style=\"color: #7fbfbf; text-decoration-color: #7fbfbf\">             </span><span style=\"color: #800000; text-decoration-color: #800000\">modes of interest decay by the plane boundaries.                   </span>\n",
       "</pre>\n"
      ],
      "text/plain": [
       "\u001b[2;36m            \u001b[0m\u001b[2;36m \u001b[0m\u001b[31mWARNING: Mode monitor \u001b[0m\u001b[32m'mode_fiber'\u001b[0m\u001b[31m has a large number \u001b[0m\u001b[1;31m(\u001b[0m\u001b[1;36m1.44e+05\u001b[0m\u001b[1;31m)\u001b[0m\u001b[31m of\u001b[0m\n",
       "\u001b[2;36m             \u001b[0m\u001b[31mgrid points. This can lead to solver slow-down and increased cost. \u001b[0m\n",
       "\u001b[2;36m             \u001b[0m\u001b[31mConsider making the size of the component smaller, as long as the  \u001b[0m\n",
       "\u001b[2;36m             \u001b[0m\u001b[31mmodes of interest decay by the plane boundaries.                   \u001b[0m\n"
      ]
     },
     "metadata": {},
     "output_type": "display_data"
    },
    {
     "data": {
      "text/html": [
       "<pre style=\"white-space:pre;overflow-x:auto;line-height:normal;font-family:Menlo,'DejaVu Sans Mono',consolas,'Courier New',monospace\"><span style=\"color: #7fbfbf; text-decoration-color: #7fbfbf\">             </span><span style=\"color: #800000; text-decoration-color: #800000\">WARNING: A structure has a nonzero dimension along axis z, which is</span>\n",
       "<span style=\"color: #7fbfbf; text-decoration-color: #7fbfbf\">             </span><span style=\"color: #800000; text-decoration-color: #800000\">however too small compared to the generated mesh step along that   </span>\n",
       "<span style=\"color: #7fbfbf; text-decoration-color: #7fbfbf\">             </span><span style=\"color: #800000; text-decoration-color: #800000\">direction. This could produce unpredictable results. We recommend  </span>\n",
       "<span style=\"color: #7fbfbf; text-decoration-color: #7fbfbf\">             </span><span style=\"color: #800000; text-decoration-color: #800000\">increasing the resolution, or adding a mesh override structure to  </span>\n",
       "<span style=\"color: #7fbfbf; text-decoration-color: #7fbfbf\">             </span><span style=\"color: #800000; text-decoration-color: #800000\">ensure that all geometries are at least one pixel thick along all  </span>\n",
       "<span style=\"color: #7fbfbf; text-decoration-color: #7fbfbf\">             </span><span style=\"color: #800000; text-decoration-color: #800000\">dimensions.                                                        </span>\n",
       "</pre>\n"
      ],
      "text/plain": [
       "\u001b[2;36m            \u001b[0m\u001b[2;36m \u001b[0m\u001b[31mWARNING: A structure has a nonzero dimension along axis z, which is\u001b[0m\n",
       "\u001b[2;36m             \u001b[0m\u001b[31mhowever too small compared to the generated mesh step along that   \u001b[0m\n",
       "\u001b[2;36m             \u001b[0m\u001b[31mdirection. This could produce unpredictable results. We recommend  \u001b[0m\n",
       "\u001b[2;36m             \u001b[0m\u001b[31mincreasing the resolution, or adding a mesh override structure to  \u001b[0m\n",
       "\u001b[2;36m             \u001b[0m\u001b[31mensure that all geometries are at least one pixel thick along all  \u001b[0m\n",
       "\u001b[2;36m             \u001b[0m\u001b[31mdimensions.                                                        \u001b[0m\n"
      ]
     },
     "metadata": {},
     "output_type": "display_data"
    },
    {
     "data": {
      "text/html": [
       "<pre style=\"white-space:pre;overflow-x:auto;line-height:normal;font-family:Menlo,'DejaVu Sans Mono',consolas,'Courier New',monospace\"><span style=\"color: #7fbfbf; text-decoration-color: #7fbfbf\">             </span><span style=\"color: #800000; text-decoration-color: #800000\">WARNING: Mode monitor </span><span style=\"color: #008000; text-decoration-color: #008000\">'mode_fiber'</span><span style=\"color: #800000; text-decoration-color: #800000\"> has a large number </span><span style=\"color: #800000; text-decoration-color: #800000; font-weight: bold\">(</span><span style=\"color: #008080; text-decoration-color: #008080; font-weight: bold\">4.30e+05</span><span style=\"color: #800000; text-decoration-color: #800000; font-weight: bold\">)</span><span style=\"color: #800000; text-decoration-color: #800000\"> of</span>\n",
       "<span style=\"color: #7fbfbf; text-decoration-color: #7fbfbf\">             </span><span style=\"color: #800000; text-decoration-color: #800000\">grid points. This can lead to solver slow-down and increased cost. </span>\n",
       "<span style=\"color: #7fbfbf; text-decoration-color: #7fbfbf\">             </span><span style=\"color: #800000; text-decoration-color: #800000\">Consider making the size of the component smaller, as long as the  </span>\n",
       "<span style=\"color: #7fbfbf; text-decoration-color: #7fbfbf\">             </span><span style=\"color: #800000; text-decoration-color: #800000\">modes of interest decay by the plane boundaries.                   </span>\n",
       "</pre>\n"
      ],
      "text/plain": [
       "\u001b[2;36m            \u001b[0m\u001b[2;36m \u001b[0m\u001b[31mWARNING: Mode monitor \u001b[0m\u001b[32m'mode_fiber'\u001b[0m\u001b[31m has a large number \u001b[0m\u001b[1;31m(\u001b[0m\u001b[1;36m4.30e+05\u001b[0m\u001b[1;31m)\u001b[0m\u001b[31m of\u001b[0m\n",
       "\u001b[2;36m             \u001b[0m\u001b[31mgrid points. This can lead to solver slow-down and increased cost. \u001b[0m\n",
       "\u001b[2;36m             \u001b[0m\u001b[31mConsider making the size of the component smaller, as long as the  \u001b[0m\n",
       "\u001b[2;36m             \u001b[0m\u001b[31mmodes of interest decay by the plane boundaries.                   \u001b[0m\n"
      ]
     },
     "metadata": {},
     "output_type": "display_data"
    },
    {
     "data": {
      "text/html": [
       "<pre style=\"white-space:pre;overflow-x:auto;line-height:normal;font-family:Menlo,'DejaVu Sans Mono',consolas,'Courier New',monospace\"><span style=\"color: #7fbfbf; text-decoration-color: #7fbfbf\">             </span><span style=\"color: #800000; text-decoration-color: #800000\">WARNING: Mode monitor </span><span style=\"color: #008000; text-decoration-color: #008000\">'mode_fiber'</span><span style=\"color: #800000; text-decoration-color: #800000\"> has a large number </span><span style=\"color: #800000; text-decoration-color: #800000; font-weight: bold\">(</span><span style=\"color: #008080; text-decoration-color: #008080; font-weight: bold\">4.10e+05</span><span style=\"color: #800000; text-decoration-color: #800000; font-weight: bold\">)</span><span style=\"color: #800000; text-decoration-color: #800000\"> of</span>\n",
       "<span style=\"color: #7fbfbf; text-decoration-color: #7fbfbf\">             </span><span style=\"color: #800000; text-decoration-color: #800000\">grid points. This can lead to solver slow-down and increased cost. </span>\n",
       "<span style=\"color: #7fbfbf; text-decoration-color: #7fbfbf\">             </span><span style=\"color: #800000; text-decoration-color: #800000\">Consider making the size of the component smaller, as long as the  </span>\n",
       "<span style=\"color: #7fbfbf; text-decoration-color: #7fbfbf\">             </span><span style=\"color: #800000; text-decoration-color: #800000\">modes of interest decay by the plane boundaries.                   </span>\n",
       "</pre>\n"
      ],
      "text/plain": [
       "\u001b[2;36m            \u001b[0m\u001b[2;36m \u001b[0m\u001b[31mWARNING: Mode monitor \u001b[0m\u001b[32m'mode_fiber'\u001b[0m\u001b[31m has a large number \u001b[0m\u001b[1;31m(\u001b[0m\u001b[1;36m4.10e+05\u001b[0m\u001b[1;31m)\u001b[0m\u001b[31m of\u001b[0m\n",
       "\u001b[2;36m             \u001b[0m\u001b[31mgrid points. This can lead to solver slow-down and increased cost. \u001b[0m\n",
       "\u001b[2;36m             \u001b[0m\u001b[31mConsider making the size of the component smaller, as long as the  \u001b[0m\n",
       "\u001b[2;36m             \u001b[0m\u001b[31mmodes of interest decay by the plane boundaries.                   \u001b[0m\n"
      ]
     },
     "metadata": {},
     "output_type": "display_data"
    },
    {
     "data": {
      "text/html": [
       "<pre style=\"white-space:pre;overflow-x:auto;line-height:normal;font-family:Menlo,'DejaVu Sans Mono',consolas,'Courier New',monospace\"><span style=\"color: #7fbfbf; text-decoration-color: #7fbfbf\">             </span><span style=\"color: #800000; text-decoration-color: #800000\">WARNING: Mode monitor </span><span style=\"color: #008000; text-decoration-color: #008000\">'mode_fiber'</span><span style=\"color: #800000; text-decoration-color: #800000\"> has a large number </span><span style=\"color: #800000; text-decoration-color: #800000; font-weight: bold\">(</span><span style=\"color: #008080; text-decoration-color: #008080; font-weight: bold\">3.72e+05</span><span style=\"color: #800000; text-decoration-color: #800000; font-weight: bold\">)</span><span style=\"color: #800000; text-decoration-color: #800000\"> of</span>\n",
       "<span style=\"color: #7fbfbf; text-decoration-color: #7fbfbf\">             </span><span style=\"color: #800000; text-decoration-color: #800000\">grid points. This can lead to solver slow-down and increased cost. </span>\n",
       "<span style=\"color: #7fbfbf; text-decoration-color: #7fbfbf\">             </span><span style=\"color: #800000; text-decoration-color: #800000\">Consider making the size of the component smaller, as long as the  </span>\n",
       "<span style=\"color: #7fbfbf; text-decoration-color: #7fbfbf\">             </span><span style=\"color: #800000; text-decoration-color: #800000\">modes of interest decay by the plane boundaries.                   </span>\n",
       "</pre>\n"
      ],
      "text/plain": [
       "\u001b[2;36m            \u001b[0m\u001b[2;36m \u001b[0m\u001b[31mWARNING: Mode monitor \u001b[0m\u001b[32m'mode_fiber'\u001b[0m\u001b[31m has a large number \u001b[0m\u001b[1;31m(\u001b[0m\u001b[1;36m3.72e+05\u001b[0m\u001b[1;31m)\u001b[0m\u001b[31m of\u001b[0m\n",
       "\u001b[2;36m             \u001b[0m\u001b[31mgrid points. This can lead to solver slow-down and increased cost. \u001b[0m\n",
       "\u001b[2;36m             \u001b[0m\u001b[31mConsider making the size of the component smaller, as long as the  \u001b[0m\n",
       "\u001b[2;36m             \u001b[0m\u001b[31mmodes of interest decay by the plane boundaries.                   \u001b[0m\n"
      ]
     },
     "metadata": {},
     "output_type": "display_data"
    },
    {
     "data": {
      "text/html": [
       "<pre style=\"white-space:pre;overflow-x:auto;line-height:normal;font-family:Menlo,'DejaVu Sans Mono',consolas,'Courier New',monospace\"><span style=\"color: #7fbfbf; text-decoration-color: #7fbfbf\">             </span><span style=\"color: #800000; text-decoration-color: #800000\">WARNING: Mode monitor </span><span style=\"color: #008000; text-decoration-color: #008000\">'mode_fiber'</span><span style=\"color: #800000; text-decoration-color: #800000\"> has a large number </span><span style=\"color: #800000; text-decoration-color: #800000; font-weight: bold\">(</span><span style=\"color: #008080; text-decoration-color: #008080; font-weight: bold\">2.06e+05</span><span style=\"color: #800000; text-decoration-color: #800000; font-weight: bold\">)</span><span style=\"color: #800000; text-decoration-color: #800000\"> of</span>\n",
       "<span style=\"color: #7fbfbf; text-decoration-color: #7fbfbf\">             </span><span style=\"color: #800000; text-decoration-color: #800000\">grid points. This can lead to solver slow-down and increased cost. </span>\n",
       "<span style=\"color: #7fbfbf; text-decoration-color: #7fbfbf\">             </span><span style=\"color: #800000; text-decoration-color: #800000\">Consider making the size of the component smaller, as long as the  </span>\n",
       "<span style=\"color: #7fbfbf; text-decoration-color: #7fbfbf\">             </span><span style=\"color: #800000; text-decoration-color: #800000\">modes of interest decay by the plane boundaries.                   </span>\n",
       "</pre>\n"
      ],
      "text/plain": [
       "\u001b[2;36m            \u001b[0m\u001b[2;36m \u001b[0m\u001b[31mWARNING: Mode monitor \u001b[0m\u001b[32m'mode_fiber'\u001b[0m\u001b[31m has a large number \u001b[0m\u001b[1;31m(\u001b[0m\u001b[1;36m2.06e+05\u001b[0m\u001b[1;31m)\u001b[0m\u001b[31m of\u001b[0m\n",
       "\u001b[2;36m             \u001b[0m\u001b[31mgrid points. This can lead to solver slow-down and increased cost. \u001b[0m\n",
       "\u001b[2;36m             \u001b[0m\u001b[31mConsider making the size of the component smaller, as long as the  \u001b[0m\n",
       "\u001b[2;36m             \u001b[0m\u001b[31mmodes of interest decay by the plane boundaries.                   \u001b[0m\n"
      ]
     },
     "metadata": {},
     "output_type": "display_data"
    },
    {
     "data": {
      "text/html": [
       "<pre style=\"white-space:pre;overflow-x:auto;line-height:normal;font-family:Menlo,'DejaVu Sans Mono',consolas,'Courier New',monospace\"><span style=\"color: #7fbfbf; text-decoration-color: #7fbfbf\">             </span><span style=\"color: #800000; text-decoration-color: #800000\">WARNING: Mode monitor </span><span style=\"color: #008000; text-decoration-color: #008000\">'mode_fiber'</span><span style=\"color: #800000; text-decoration-color: #800000\"> has a large number </span><span style=\"color: #800000; text-decoration-color: #800000; font-weight: bold\">(</span><span style=\"color: #008080; text-decoration-color: #008080; font-weight: bold\">3.60e+05</span><span style=\"color: #800000; text-decoration-color: #800000; font-weight: bold\">)</span><span style=\"color: #800000; text-decoration-color: #800000\"> of</span>\n",
       "<span style=\"color: #7fbfbf; text-decoration-color: #7fbfbf\">             </span><span style=\"color: #800000; text-decoration-color: #800000\">grid points. This can lead to solver slow-down and increased cost. </span>\n",
       "<span style=\"color: #7fbfbf; text-decoration-color: #7fbfbf\">             </span><span style=\"color: #800000; text-decoration-color: #800000\">Consider making the size of the component smaller, as long as the  </span>\n",
       "<span style=\"color: #7fbfbf; text-decoration-color: #7fbfbf\">             </span><span style=\"color: #800000; text-decoration-color: #800000\">modes of interest decay by the plane boundaries.                   </span>\n",
       "</pre>\n"
      ],
      "text/plain": [
       "\u001b[2;36m            \u001b[0m\u001b[2;36m \u001b[0m\u001b[31mWARNING: Mode monitor \u001b[0m\u001b[32m'mode_fiber'\u001b[0m\u001b[31m has a large number \u001b[0m\u001b[1;31m(\u001b[0m\u001b[1;36m3.60e+05\u001b[0m\u001b[1;31m)\u001b[0m\u001b[31m of\u001b[0m\n",
       "\u001b[2;36m             \u001b[0m\u001b[31mgrid points. This can lead to solver slow-down and increased cost. \u001b[0m\n",
       "\u001b[2;36m             \u001b[0m\u001b[31mConsider making the size of the component smaller, as long as the  \u001b[0m\n",
       "\u001b[2;36m             \u001b[0m\u001b[31mmodes of interest decay by the plane boundaries.                   \u001b[0m\n"
      ]
     },
     "metadata": {},
     "output_type": "display_data"
    },
    {
     "data": {
      "text/html": [
       "<pre style=\"white-space:pre;overflow-x:auto;line-height:normal;font-family:Menlo,'DejaVu Sans Mono',consolas,'Courier New',monospace\"><span style=\"color: #7fbfbf; text-decoration-color: #7fbfbf\">             </span><span style=\"color: #800000; text-decoration-color: #800000\">WARNING: Mode monitor </span><span style=\"color: #008000; text-decoration-color: #008000\">'mode_fiber'</span><span style=\"color: #800000; text-decoration-color: #800000\"> has a large number </span><span style=\"color: #800000; text-decoration-color: #800000; font-weight: bold\">(</span><span style=\"color: #008080; text-decoration-color: #008080; font-weight: bold\">1.63e+05</span><span style=\"color: #800000; text-decoration-color: #800000; font-weight: bold\">)</span><span style=\"color: #800000; text-decoration-color: #800000\"> of</span>\n",
       "<span style=\"color: #7fbfbf; text-decoration-color: #7fbfbf\">             </span><span style=\"color: #800000; text-decoration-color: #800000\">grid points. This can lead to solver slow-down and increased cost. </span>\n",
       "<span style=\"color: #7fbfbf; text-decoration-color: #7fbfbf\">             </span><span style=\"color: #800000; text-decoration-color: #800000\">Consider making the size of the component smaller, as long as the  </span>\n",
       "<span style=\"color: #7fbfbf; text-decoration-color: #7fbfbf\">             </span><span style=\"color: #800000; text-decoration-color: #800000\">modes of interest decay by the plane boundaries.                   </span>\n",
       "</pre>\n"
      ],
      "text/plain": [
       "\u001b[2;36m            \u001b[0m\u001b[2;36m \u001b[0m\u001b[31mWARNING: Mode monitor \u001b[0m\u001b[32m'mode_fiber'\u001b[0m\u001b[31m has a large number \u001b[0m\u001b[1;31m(\u001b[0m\u001b[1;36m1.63e+05\u001b[0m\u001b[1;31m)\u001b[0m\u001b[31m of\u001b[0m\n",
       "\u001b[2;36m             \u001b[0m\u001b[31mgrid points. This can lead to solver slow-down and increased cost. \u001b[0m\n",
       "\u001b[2;36m             \u001b[0m\u001b[31mConsider making the size of the component smaller, as long as the  \u001b[0m\n",
       "\u001b[2;36m             \u001b[0m\u001b[31mmodes of interest decay by the plane boundaries.                   \u001b[0m\n"
      ]
     },
     "metadata": {},
     "output_type": "display_data"
    },
    {
     "data": {
      "text/html": [
       "<pre style=\"white-space:pre;overflow-x:auto;line-height:normal;font-family:Menlo,'DejaVu Sans Mono',consolas,'Courier New',monospace\"><span style=\"color: #7fbfbf; text-decoration-color: #7fbfbf\">12:12:27 BST </span><span style=\"color: #800000; text-decoration-color: #800000\">WARNING: Mode monitor </span><span style=\"color: #008000; text-decoration-color: #008000\">'mode_fiber'</span><span style=\"color: #800000; text-decoration-color: #800000\"> has a large number </span><span style=\"color: #800000; text-decoration-color: #800000; font-weight: bold\">(</span><span style=\"color: #008080; text-decoration-color: #008080; font-weight: bold\">3.87e+05</span><span style=\"color: #800000; text-decoration-color: #800000; font-weight: bold\">)</span><span style=\"color: #800000; text-decoration-color: #800000\"> of</span>\n",
       "<span style=\"color: #7fbfbf; text-decoration-color: #7fbfbf\">             </span><span style=\"color: #800000; text-decoration-color: #800000\">grid points. This can lead to solver slow-down and increased cost. </span>\n",
       "<span style=\"color: #7fbfbf; text-decoration-color: #7fbfbf\">             </span><span style=\"color: #800000; text-decoration-color: #800000\">Consider making the size of the component smaller, as long as the  </span>\n",
       "<span style=\"color: #7fbfbf; text-decoration-color: #7fbfbf\">             </span><span style=\"color: #800000; text-decoration-color: #800000\">modes of interest decay by the plane boundaries.                   </span>\n",
       "</pre>\n"
      ],
      "text/plain": [
       "\u001b[2;36m12:12:27 BST\u001b[0m\u001b[2;36m \u001b[0m\u001b[31mWARNING: Mode monitor \u001b[0m\u001b[32m'mode_fiber'\u001b[0m\u001b[31m has a large number \u001b[0m\u001b[1;31m(\u001b[0m\u001b[1;36m3.87e+05\u001b[0m\u001b[1;31m)\u001b[0m\u001b[31m of\u001b[0m\n",
       "\u001b[2;36m             \u001b[0m\u001b[31mgrid points. This can lead to solver slow-down and increased cost. \u001b[0m\n",
       "\u001b[2;36m             \u001b[0m\u001b[31mConsider making the size of the component smaller, as long as the  \u001b[0m\n",
       "\u001b[2;36m             \u001b[0m\u001b[31mmodes of interest decay by the plane boundaries.                   \u001b[0m\n"
      ]
     },
     "metadata": {},
     "output_type": "display_data"
    },
    {
     "data": {
      "text/html": [
       "<pre style=\"white-space:pre;overflow-x:auto;line-height:normal;font-family:Menlo,'DejaVu Sans Mono',consolas,'Courier New',monospace\"><span style=\"color: #7fbfbf; text-decoration-color: #7fbfbf\">             </span><span style=\"color: #800000; text-decoration-color: #800000\">WARNING: Mode monitor </span><span style=\"color: #008000; text-decoration-color: #008000\">'mode_fiber'</span><span style=\"color: #800000; text-decoration-color: #800000\"> has a large number </span><span style=\"color: #800000; text-decoration-color: #800000; font-weight: bold\">(</span><span style=\"color: #008080; text-decoration-color: #008080; font-weight: bold\">2.34e+05</span><span style=\"color: #800000; text-decoration-color: #800000; font-weight: bold\">)</span><span style=\"color: #800000; text-decoration-color: #800000\"> of</span>\n",
       "<span style=\"color: #7fbfbf; text-decoration-color: #7fbfbf\">             </span><span style=\"color: #800000; text-decoration-color: #800000\">grid points. This can lead to solver slow-down and increased cost. </span>\n",
       "<span style=\"color: #7fbfbf; text-decoration-color: #7fbfbf\">             </span><span style=\"color: #800000; text-decoration-color: #800000\">Consider making the size of the component smaller, as long as the  </span>\n",
       "<span style=\"color: #7fbfbf; text-decoration-color: #7fbfbf\">             </span><span style=\"color: #800000; text-decoration-color: #800000\">modes of interest decay by the plane boundaries.                   </span>\n",
       "</pre>\n"
      ],
      "text/plain": [
       "\u001b[2;36m            \u001b[0m\u001b[2;36m \u001b[0m\u001b[31mWARNING: Mode monitor \u001b[0m\u001b[32m'mode_fiber'\u001b[0m\u001b[31m has a large number \u001b[0m\u001b[1;31m(\u001b[0m\u001b[1;36m2.34e+05\u001b[0m\u001b[1;31m)\u001b[0m\u001b[31m of\u001b[0m\n",
       "\u001b[2;36m             \u001b[0m\u001b[31mgrid points. This can lead to solver slow-down and increased cost. \u001b[0m\n",
       "\u001b[2;36m             \u001b[0m\u001b[31mConsider making the size of the component smaller, as long as the  \u001b[0m\n",
       "\u001b[2;36m             \u001b[0m\u001b[31mmodes of interest decay by the plane boundaries.                   \u001b[0m\n"
      ]
     },
     "metadata": {},
     "output_type": "display_data"
    },
    {
     "data": {
      "text/html": [
       "<pre style=\"white-space:pre;overflow-x:auto;line-height:normal;font-family:Menlo,'DejaVu Sans Mono',consolas,'Courier New',monospace\"><span style=\"color: #7fbfbf; text-decoration-color: #7fbfbf\">             </span><span style=\"color: #800000; text-decoration-color: #800000\">WARNING: Mode monitor </span><span style=\"color: #008000; text-decoration-color: #008000\">'mode_fiber'</span><span style=\"color: #800000; text-decoration-color: #800000\"> has a large number </span><span style=\"color: #800000; text-decoration-color: #800000; font-weight: bold\">(</span><span style=\"color: #008080; text-decoration-color: #008080; font-weight: bold\">3.23e+05</span><span style=\"color: #800000; text-decoration-color: #800000; font-weight: bold\">)</span><span style=\"color: #800000; text-decoration-color: #800000\"> of</span>\n",
       "<span style=\"color: #7fbfbf; text-decoration-color: #7fbfbf\">             </span><span style=\"color: #800000; text-decoration-color: #800000\">grid points. This can lead to solver slow-down and increased cost. </span>\n",
       "<span style=\"color: #7fbfbf; text-decoration-color: #7fbfbf\">             </span><span style=\"color: #800000; text-decoration-color: #800000\">Consider making the size of the component smaller, as long as the  </span>\n",
       "<span style=\"color: #7fbfbf; text-decoration-color: #7fbfbf\">             </span><span style=\"color: #800000; text-decoration-color: #800000\">modes of interest decay by the plane boundaries.                   </span>\n",
       "</pre>\n"
      ],
      "text/plain": [
       "\u001b[2;36m            \u001b[0m\u001b[2;36m \u001b[0m\u001b[31mWARNING: Mode monitor \u001b[0m\u001b[32m'mode_fiber'\u001b[0m\u001b[31m has a large number \u001b[0m\u001b[1;31m(\u001b[0m\u001b[1;36m3.23e+05\u001b[0m\u001b[1;31m)\u001b[0m\u001b[31m of\u001b[0m\n",
       "\u001b[2;36m             \u001b[0m\u001b[31mgrid points. This can lead to solver slow-down and increased cost. \u001b[0m\n",
       "\u001b[2;36m             \u001b[0m\u001b[31mConsider making the size of the component smaller, as long as the  \u001b[0m\n",
       "\u001b[2;36m             \u001b[0m\u001b[31mmodes of interest decay by the plane boundaries.                   \u001b[0m\n"
      ]
     },
     "metadata": {},
     "output_type": "display_data"
    },
    {
     "data": {
      "text/html": [
       "<pre style=\"white-space:pre;overflow-x:auto;line-height:normal;font-family:Menlo,'DejaVu Sans Mono',consolas,'Courier New',monospace\"><span style=\"color: #7fbfbf; text-decoration-color: #7fbfbf\">12:12:28 BST </span><span style=\"color: #800000; text-decoration-color: #800000\">WARNING: A structure has a nonzero dimension along axis z, which is</span>\n",
       "<span style=\"color: #7fbfbf; text-decoration-color: #7fbfbf\">             </span><span style=\"color: #800000; text-decoration-color: #800000\">however too small compared to the generated mesh step along that   </span>\n",
       "<span style=\"color: #7fbfbf; text-decoration-color: #7fbfbf\">             </span><span style=\"color: #800000; text-decoration-color: #800000\">direction. This could produce unpredictable results. We recommend  </span>\n",
       "<span style=\"color: #7fbfbf; text-decoration-color: #7fbfbf\">             </span><span style=\"color: #800000; text-decoration-color: #800000\">increasing the resolution, or adding a mesh override structure to  </span>\n",
       "<span style=\"color: #7fbfbf; text-decoration-color: #7fbfbf\">             </span><span style=\"color: #800000; text-decoration-color: #800000\">ensure that all geometries are at least one pixel thick along all  </span>\n",
       "<span style=\"color: #7fbfbf; text-decoration-color: #7fbfbf\">             </span><span style=\"color: #800000; text-decoration-color: #800000\">dimensions.                                                        </span>\n",
       "</pre>\n"
      ],
      "text/plain": [
       "\u001b[2;36m12:12:28 BST\u001b[0m\u001b[2;36m \u001b[0m\u001b[31mWARNING: A structure has a nonzero dimension along axis z, which is\u001b[0m\n",
       "\u001b[2;36m             \u001b[0m\u001b[31mhowever too small compared to the generated mesh step along that   \u001b[0m\n",
       "\u001b[2;36m             \u001b[0m\u001b[31mdirection. This could produce unpredictable results. We recommend  \u001b[0m\n",
       "\u001b[2;36m             \u001b[0m\u001b[31mincreasing the resolution, or adding a mesh override structure to  \u001b[0m\n",
       "\u001b[2;36m             \u001b[0m\u001b[31mensure that all geometries are at least one pixel thick along all  \u001b[0m\n",
       "\u001b[2;36m             \u001b[0m\u001b[31mdimensions.                                                        \u001b[0m\n"
      ]
     },
     "metadata": {},
     "output_type": "display_data"
    },
    {
     "data": {
      "text/html": [
       "<pre style=\"white-space:pre;overflow-x:auto;line-height:normal;font-family:Menlo,'DejaVu Sans Mono',consolas,'Courier New',monospace\"><span style=\"color: #7fbfbf; text-decoration-color: #7fbfbf\">             </span><span style=\"color: #800000; text-decoration-color: #800000\">WARNING: Mode monitor </span><span style=\"color: #008000; text-decoration-color: #008000\">'mode_fiber'</span><span style=\"color: #800000; text-decoration-color: #800000\"> has a large number </span><span style=\"color: #800000; text-decoration-color: #800000; font-weight: bold\">(</span><span style=\"color: #008080; text-decoration-color: #008080; font-weight: bold\">3.02e+05</span><span style=\"color: #800000; text-decoration-color: #800000; font-weight: bold\">)</span><span style=\"color: #800000; text-decoration-color: #800000\"> of</span>\n",
       "<span style=\"color: #7fbfbf; text-decoration-color: #7fbfbf\">             </span><span style=\"color: #800000; text-decoration-color: #800000\">grid points. This can lead to solver slow-down and increased cost. </span>\n",
       "<span style=\"color: #7fbfbf; text-decoration-color: #7fbfbf\">             </span><span style=\"color: #800000; text-decoration-color: #800000\">Consider making the size of the component smaller, as long as the  </span>\n",
       "<span style=\"color: #7fbfbf; text-decoration-color: #7fbfbf\">             </span><span style=\"color: #800000; text-decoration-color: #800000\">modes of interest decay by the plane boundaries.                   </span>\n",
       "</pre>\n"
      ],
      "text/plain": [
       "\u001b[2;36m            \u001b[0m\u001b[2;36m \u001b[0m\u001b[31mWARNING: Mode monitor \u001b[0m\u001b[32m'mode_fiber'\u001b[0m\u001b[31m has a large number \u001b[0m\u001b[1;31m(\u001b[0m\u001b[1;36m3.02e+05\u001b[0m\u001b[1;31m)\u001b[0m\u001b[31m of\u001b[0m\n",
       "\u001b[2;36m             \u001b[0m\u001b[31mgrid points. This can lead to solver slow-down and increased cost. \u001b[0m\n",
       "\u001b[2;36m             \u001b[0m\u001b[31mConsider making the size of the component smaller, as long as the  \u001b[0m\n",
       "\u001b[2;36m             \u001b[0m\u001b[31mmodes of interest decay by the plane boundaries.                   \u001b[0m\n"
      ]
     },
     "metadata": {},
     "output_type": "display_data"
    },
    {
     "data": {
      "text/html": [
       "<pre style=\"white-space:pre;overflow-x:auto;line-height:normal;font-family:Menlo,'DejaVu Sans Mono',consolas,'Courier New',monospace\"><span style=\"color: #7fbfbf; text-decoration-color: #7fbfbf\">             </span><span style=\"color: #800000; text-decoration-color: #800000\">WARNING: Mode monitor </span><span style=\"color: #008000; text-decoration-color: #008000\">'mode_fiber'</span><span style=\"color: #800000; text-decoration-color: #800000\"> has a large number </span><span style=\"color: #800000; text-decoration-color: #800000; font-weight: bold\">(</span><span style=\"color: #008080; text-decoration-color: #008080; font-weight: bold\">1.37e+05</span><span style=\"color: #800000; text-decoration-color: #800000; font-weight: bold\">)</span><span style=\"color: #800000; text-decoration-color: #800000\"> of</span>\n",
       "<span style=\"color: #7fbfbf; text-decoration-color: #7fbfbf\">             </span><span style=\"color: #800000; text-decoration-color: #800000\">grid points. This can lead to solver slow-down and increased cost. </span>\n",
       "<span style=\"color: #7fbfbf; text-decoration-color: #7fbfbf\">             </span><span style=\"color: #800000; text-decoration-color: #800000\">Consider making the size of the component smaller, as long as the  </span>\n",
       "<span style=\"color: #7fbfbf; text-decoration-color: #7fbfbf\">             </span><span style=\"color: #800000; text-decoration-color: #800000\">modes of interest decay by the plane boundaries.                   </span>\n",
       "</pre>\n"
      ],
      "text/plain": [
       "\u001b[2;36m            \u001b[0m\u001b[2;36m \u001b[0m\u001b[31mWARNING: Mode monitor \u001b[0m\u001b[32m'mode_fiber'\u001b[0m\u001b[31m has a large number \u001b[0m\u001b[1;31m(\u001b[0m\u001b[1;36m1.37e+05\u001b[0m\u001b[1;31m)\u001b[0m\u001b[31m of\u001b[0m\n",
       "\u001b[2;36m             \u001b[0m\u001b[31mgrid points. This can lead to solver slow-down and increased cost. \u001b[0m\n",
       "\u001b[2;36m             \u001b[0m\u001b[31mConsider making the size of the component smaller, as long as the  \u001b[0m\n",
       "\u001b[2;36m             \u001b[0m\u001b[31mmodes of interest decay by the plane boundaries.                   \u001b[0m\n"
      ]
     },
     "metadata": {},
     "output_type": "display_data"
    },
    {
     "data": {
      "text/html": [
       "<pre style=\"white-space:pre;overflow-x:auto;line-height:normal;font-family:Menlo,'DejaVu Sans Mono',consolas,'Courier New',monospace\"><span style=\"color: #7fbfbf; text-decoration-color: #7fbfbf\">             </span><span style=\"color: #800000; text-decoration-color: #800000\">WARNING: Mode monitor </span><span style=\"color: #008000; text-decoration-color: #008000\">'mode_fiber'</span><span style=\"color: #800000; text-decoration-color: #800000\"> has a large number </span><span style=\"color: #800000; text-decoration-color: #800000; font-weight: bold\">(</span><span style=\"color: #008080; text-decoration-color: #008080; font-weight: bold\">2.83e+05</span><span style=\"color: #800000; text-decoration-color: #800000; font-weight: bold\">)</span><span style=\"color: #800000; text-decoration-color: #800000\"> of</span>\n",
       "<span style=\"color: #7fbfbf; text-decoration-color: #7fbfbf\">             </span><span style=\"color: #800000; text-decoration-color: #800000\">grid points. This can lead to solver slow-down and increased cost. </span>\n",
       "<span style=\"color: #7fbfbf; text-decoration-color: #7fbfbf\">             </span><span style=\"color: #800000; text-decoration-color: #800000\">Consider making the size of the component smaller, as long as the  </span>\n",
       "<span style=\"color: #7fbfbf; text-decoration-color: #7fbfbf\">             </span><span style=\"color: #800000; text-decoration-color: #800000\">modes of interest decay by the plane boundaries.                   </span>\n",
       "</pre>\n"
      ],
      "text/plain": [
       "\u001b[2;36m            \u001b[0m\u001b[2;36m \u001b[0m\u001b[31mWARNING: Mode monitor \u001b[0m\u001b[32m'mode_fiber'\u001b[0m\u001b[31m has a large number \u001b[0m\u001b[1;31m(\u001b[0m\u001b[1;36m2.83e+05\u001b[0m\u001b[1;31m)\u001b[0m\u001b[31m of\u001b[0m\n",
       "\u001b[2;36m             \u001b[0m\u001b[31mgrid points. This can lead to solver slow-down and increased cost. \u001b[0m\n",
       "\u001b[2;36m             \u001b[0m\u001b[31mConsider making the size of the component smaller, as long as the  \u001b[0m\n",
       "\u001b[2;36m             \u001b[0m\u001b[31mmodes of interest decay by the plane boundaries.                   \u001b[0m\n"
      ]
     },
     "metadata": {},
     "output_type": "display_data"
    },
    {
     "data": {
      "text/html": [
       "<pre style=\"white-space:pre;overflow-x:auto;line-height:normal;font-family:Menlo,'DejaVu Sans Mono',consolas,'Courier New',monospace\"><span style=\"color: #7fbfbf; text-decoration-color: #7fbfbf\">             </span><span style=\"color: #800000; text-decoration-color: #800000\">WARNING: Mode monitor </span><span style=\"color: #008000; text-decoration-color: #008000\">'mode_fiber'</span><span style=\"color: #800000; text-decoration-color: #800000\"> has a large number </span><span style=\"color: #800000; text-decoration-color: #800000; font-weight: bold\">(</span><span style=\"color: #008080; text-decoration-color: #008080; font-weight: bold\">3.11e+05</span><span style=\"color: #800000; text-decoration-color: #800000; font-weight: bold\">)</span><span style=\"color: #800000; text-decoration-color: #800000\"> of</span>\n",
       "<span style=\"color: #7fbfbf; text-decoration-color: #7fbfbf\">             </span><span style=\"color: #800000; text-decoration-color: #800000\">grid points. This can lead to solver slow-down and increased cost. </span>\n",
       "<span style=\"color: #7fbfbf; text-decoration-color: #7fbfbf\">             </span><span style=\"color: #800000; text-decoration-color: #800000\">Consider making the size of the component smaller, as long as the  </span>\n",
       "<span style=\"color: #7fbfbf; text-decoration-color: #7fbfbf\">             </span><span style=\"color: #800000; text-decoration-color: #800000\">modes of interest decay by the plane boundaries.                   </span>\n",
       "</pre>\n"
      ],
      "text/plain": [
       "\u001b[2;36m            \u001b[0m\u001b[2;36m \u001b[0m\u001b[31mWARNING: Mode monitor \u001b[0m\u001b[32m'mode_fiber'\u001b[0m\u001b[31m has a large number \u001b[0m\u001b[1;31m(\u001b[0m\u001b[1;36m3.11e+05\u001b[0m\u001b[1;31m)\u001b[0m\u001b[31m of\u001b[0m\n",
       "\u001b[2;36m             \u001b[0m\u001b[31mgrid points. This can lead to solver slow-down and increased cost. \u001b[0m\n",
       "\u001b[2;36m             \u001b[0m\u001b[31mConsider making the size of the component smaller, as long as the  \u001b[0m\n",
       "\u001b[2;36m             \u001b[0m\u001b[31mmodes of interest decay by the plane boundaries.                   \u001b[0m\n"
      ]
     },
     "metadata": {},
     "output_type": "display_data"
    },
    {
     "data": {
      "text/html": [
       "<pre style=\"white-space:pre;overflow-x:auto;line-height:normal;font-family:Menlo,'DejaVu Sans Mono',consolas,'Courier New',monospace\"><span style=\"color: #7fbfbf; text-decoration-color: #7fbfbf\">             </span><span style=\"color: #800000; text-decoration-color: #800000\">WARNING: Mode monitor </span><span style=\"color: #008000; text-decoration-color: #008000\">'mode_fiber'</span><span style=\"color: #800000; text-decoration-color: #800000\"> has a large number </span><span style=\"color: #800000; text-decoration-color: #800000; font-weight: bold\">(</span><span style=\"color: #008080; text-decoration-color: #008080; font-weight: bold\">3.34e+05</span><span style=\"color: #800000; text-decoration-color: #800000; font-weight: bold\">)</span><span style=\"color: #800000; text-decoration-color: #800000\"> of</span>\n",
       "<span style=\"color: #7fbfbf; text-decoration-color: #7fbfbf\">             </span><span style=\"color: #800000; text-decoration-color: #800000\">grid points. This can lead to solver slow-down and increased cost. </span>\n",
       "<span style=\"color: #7fbfbf; text-decoration-color: #7fbfbf\">             </span><span style=\"color: #800000; text-decoration-color: #800000\">Consider making the size of the component smaller, as long as the  </span>\n",
       "<span style=\"color: #7fbfbf; text-decoration-color: #7fbfbf\">             </span><span style=\"color: #800000; text-decoration-color: #800000\">modes of interest decay by the plane boundaries.                   </span>\n",
       "</pre>\n"
      ],
      "text/plain": [
       "\u001b[2;36m            \u001b[0m\u001b[2;36m \u001b[0m\u001b[31mWARNING: Mode monitor \u001b[0m\u001b[32m'mode_fiber'\u001b[0m\u001b[31m has a large number \u001b[0m\u001b[1;31m(\u001b[0m\u001b[1;36m3.34e+05\u001b[0m\u001b[1;31m)\u001b[0m\u001b[31m of\u001b[0m\n",
       "\u001b[2;36m             \u001b[0m\u001b[31mgrid points. This can lead to solver slow-down and increased cost. \u001b[0m\n",
       "\u001b[2;36m             \u001b[0m\u001b[31mConsider making the size of the component smaller, as long as the  \u001b[0m\n",
       "\u001b[2;36m             \u001b[0m\u001b[31mmodes of interest decay by the plane boundaries.                   \u001b[0m\n"
      ]
     },
     "metadata": {},
     "output_type": "display_data"
    },
    {
     "data": {
      "text/html": [
       "<pre style=\"white-space:pre;overflow-x:auto;line-height:normal;font-family:Menlo,'DejaVu Sans Mono',consolas,'Courier New',monospace\"><span style=\"color: #7fbfbf; text-decoration-color: #7fbfbf\">             </span><span style=\"color: #800000; text-decoration-color: #800000\">WARNING: Mode monitor </span><span style=\"color: #008000; text-decoration-color: #008000\">'mode_fiber'</span><span style=\"color: #800000; text-decoration-color: #800000\"> has a large number </span><span style=\"color: #800000; text-decoration-color: #800000; font-weight: bold\">(</span><span style=\"color: #008080; text-decoration-color: #008080; font-weight: bold\">3.29e+05</span><span style=\"color: #800000; text-decoration-color: #800000; font-weight: bold\">)</span><span style=\"color: #800000; text-decoration-color: #800000\"> of</span>\n",
       "<span style=\"color: #7fbfbf; text-decoration-color: #7fbfbf\">             </span><span style=\"color: #800000; text-decoration-color: #800000\">grid points. This can lead to solver slow-down and increased cost. </span>\n",
       "<span style=\"color: #7fbfbf; text-decoration-color: #7fbfbf\">             </span><span style=\"color: #800000; text-decoration-color: #800000\">Consider making the size of the component smaller, as long as the  </span>\n",
       "<span style=\"color: #7fbfbf; text-decoration-color: #7fbfbf\">             </span><span style=\"color: #800000; text-decoration-color: #800000\">modes of interest decay by the plane boundaries.                   </span>\n",
       "</pre>\n"
      ],
      "text/plain": [
       "\u001b[2;36m            \u001b[0m\u001b[2;36m \u001b[0m\u001b[31mWARNING: Mode monitor \u001b[0m\u001b[32m'mode_fiber'\u001b[0m\u001b[31m has a large number \u001b[0m\u001b[1;31m(\u001b[0m\u001b[1;36m3.29e+05\u001b[0m\u001b[1;31m)\u001b[0m\u001b[31m of\u001b[0m\n",
       "\u001b[2;36m             \u001b[0m\u001b[31mgrid points. This can lead to solver slow-down and increased cost. \u001b[0m\n",
       "\u001b[2;36m             \u001b[0m\u001b[31mConsider making the size of the component smaller, as long as the  \u001b[0m\n",
       "\u001b[2;36m             \u001b[0m\u001b[31mmodes of interest decay by the plane boundaries.                   \u001b[0m\n"
      ]
     },
     "metadata": {},
     "output_type": "display_data"
    },
    {
     "data": {
      "text/html": [
       "<pre style=\"white-space:pre;overflow-x:auto;line-height:normal;font-family:Menlo,'DejaVu Sans Mono',consolas,'Courier New',monospace\"><span style=\"color: #7fbfbf; text-decoration-color: #7fbfbf\">             </span><span style=\"color: #800000; text-decoration-color: #800000\">WARNING: Mode monitor </span><span style=\"color: #008000; text-decoration-color: #008000\">'mode_fiber'</span><span style=\"color: #800000; text-decoration-color: #800000\"> has a large number </span><span style=\"color: #800000; text-decoration-color: #800000; font-weight: bold\">(</span><span style=\"color: #008080; text-decoration-color: #008080; font-weight: bold\">2.32e+05</span><span style=\"color: #800000; text-decoration-color: #800000; font-weight: bold\">)</span><span style=\"color: #800000; text-decoration-color: #800000\"> of</span>\n",
       "<span style=\"color: #7fbfbf; text-decoration-color: #7fbfbf\">             </span><span style=\"color: #800000; text-decoration-color: #800000\">grid points. This can lead to solver slow-down and increased cost. </span>\n",
       "<span style=\"color: #7fbfbf; text-decoration-color: #7fbfbf\">             </span><span style=\"color: #800000; text-decoration-color: #800000\">Consider making the size of the component smaller, as long as the  </span>\n",
       "<span style=\"color: #7fbfbf; text-decoration-color: #7fbfbf\">             </span><span style=\"color: #800000; text-decoration-color: #800000\">modes of interest decay by the plane boundaries.                   </span>\n",
       "</pre>\n"
      ],
      "text/plain": [
       "\u001b[2;36m            \u001b[0m\u001b[2;36m \u001b[0m\u001b[31mWARNING: Mode monitor \u001b[0m\u001b[32m'mode_fiber'\u001b[0m\u001b[31m has a large number \u001b[0m\u001b[1;31m(\u001b[0m\u001b[1;36m2.32e+05\u001b[0m\u001b[1;31m)\u001b[0m\u001b[31m of\u001b[0m\n",
       "\u001b[2;36m             \u001b[0m\u001b[31mgrid points. This can lead to solver slow-down and increased cost. \u001b[0m\n",
       "\u001b[2;36m             \u001b[0m\u001b[31mConsider making the size of the component smaller, as long as the  \u001b[0m\n",
       "\u001b[2;36m             \u001b[0m\u001b[31mmodes of interest decay by the plane boundaries.                   \u001b[0m\n"
      ]
     },
     "metadata": {},
     "output_type": "display_data"
    },
    {
     "data": {
      "text/html": [
       "<pre style=\"white-space:pre;overflow-x:auto;line-height:normal;font-family:Menlo,'DejaVu Sans Mono',consolas,'Courier New',monospace\"><span style=\"color: #7fbfbf; text-decoration-color: #7fbfbf\">12:12:29 BST </span><span style=\"color: #800000; text-decoration-color: #800000\">WARNING: Mode monitor </span><span style=\"color: #008000; text-decoration-color: #008000\">'mode_fiber'</span><span style=\"color: #800000; text-decoration-color: #800000\"> has a large number </span><span style=\"color: #800000; text-decoration-color: #800000; font-weight: bold\">(</span><span style=\"color: #008080; text-decoration-color: #008080; font-weight: bold\">2.54e+05</span><span style=\"color: #800000; text-decoration-color: #800000; font-weight: bold\">)</span><span style=\"color: #800000; text-decoration-color: #800000\"> of</span>\n",
       "<span style=\"color: #7fbfbf; text-decoration-color: #7fbfbf\">             </span><span style=\"color: #800000; text-decoration-color: #800000\">grid points. This can lead to solver slow-down and increased cost. </span>\n",
       "<span style=\"color: #7fbfbf; text-decoration-color: #7fbfbf\">             </span><span style=\"color: #800000; text-decoration-color: #800000\">Consider making the size of the component smaller, as long as the  </span>\n",
       "<span style=\"color: #7fbfbf; text-decoration-color: #7fbfbf\">             </span><span style=\"color: #800000; text-decoration-color: #800000\">modes of interest decay by the plane boundaries.                   </span>\n",
       "</pre>\n"
      ],
      "text/plain": [
       "\u001b[2;36m12:12:29 BST\u001b[0m\u001b[2;36m \u001b[0m\u001b[31mWARNING: Mode monitor \u001b[0m\u001b[32m'mode_fiber'\u001b[0m\u001b[31m has a large number \u001b[0m\u001b[1;31m(\u001b[0m\u001b[1;36m2.54e+05\u001b[0m\u001b[1;31m)\u001b[0m\u001b[31m of\u001b[0m\n",
       "\u001b[2;36m             \u001b[0m\u001b[31mgrid points. This can lead to solver slow-down and increased cost. \u001b[0m\n",
       "\u001b[2;36m             \u001b[0m\u001b[31mConsider making the size of the component smaller, as long as the  \u001b[0m\n",
       "\u001b[2;36m             \u001b[0m\u001b[31mmodes of interest decay by the plane boundaries.                   \u001b[0m\n"
      ]
     },
     "metadata": {},
     "output_type": "display_data"
    },
    {
     "data": {
      "text/html": [
       "<pre style=\"white-space:pre;overflow-x:auto;line-height:normal;font-family:Menlo,'DejaVu Sans Mono',consolas,'Courier New',monospace\"><span style=\"color: #7fbfbf; text-decoration-color: #7fbfbf\">             </span><span style=\"color: #800000; text-decoration-color: #800000\">WARNING: Mode monitor </span><span style=\"color: #008000; text-decoration-color: #008000\">'mode_fiber'</span><span style=\"color: #800000; text-decoration-color: #800000\"> has a large number </span><span style=\"color: #800000; text-decoration-color: #800000; font-weight: bold\">(</span><span style=\"color: #008080; text-decoration-color: #008080; font-weight: bold\">1.57e+05</span><span style=\"color: #800000; text-decoration-color: #800000; font-weight: bold\">)</span><span style=\"color: #800000; text-decoration-color: #800000\"> of</span>\n",
       "<span style=\"color: #7fbfbf; text-decoration-color: #7fbfbf\">             </span><span style=\"color: #800000; text-decoration-color: #800000\">grid points. This can lead to solver slow-down and increased cost. </span>\n",
       "<span style=\"color: #7fbfbf; text-decoration-color: #7fbfbf\">             </span><span style=\"color: #800000; text-decoration-color: #800000\">Consider making the size of the component smaller, as long as the  </span>\n",
       "<span style=\"color: #7fbfbf; text-decoration-color: #7fbfbf\">             </span><span style=\"color: #800000; text-decoration-color: #800000\">modes of interest decay by the plane boundaries.                   </span>\n",
       "</pre>\n"
      ],
      "text/plain": [
       "\u001b[2;36m            \u001b[0m\u001b[2;36m \u001b[0m\u001b[31mWARNING: Mode monitor \u001b[0m\u001b[32m'mode_fiber'\u001b[0m\u001b[31m has a large number \u001b[0m\u001b[1;31m(\u001b[0m\u001b[1;36m1.57e+05\u001b[0m\u001b[1;31m)\u001b[0m\u001b[31m of\u001b[0m\n",
       "\u001b[2;36m             \u001b[0m\u001b[31mgrid points. This can lead to solver slow-down and increased cost. \u001b[0m\n",
       "\u001b[2;36m             \u001b[0m\u001b[31mConsider making the size of the component smaller, as long as the  \u001b[0m\n",
       "\u001b[2;36m             \u001b[0m\u001b[31mmodes of interest decay by the plane boundaries.                   \u001b[0m\n"
      ]
     },
     "metadata": {},
     "output_type": "display_data"
    },
    {
     "data": {
      "text/html": [
       "<pre style=\"white-space:pre;overflow-x:auto;line-height:normal;font-family:Menlo,'DejaVu Sans Mono',consolas,'Courier New',monospace\"><span style=\"color: #7fbfbf; text-decoration-color: #7fbfbf\">             </span><span style=\"color: #800000; text-decoration-color: #800000\">WARNING: Mode monitor </span><span style=\"color: #008000; text-decoration-color: #008000\">'mode_fiber'</span><span style=\"color: #800000; text-decoration-color: #800000\"> has a large number </span><span style=\"color: #800000; text-decoration-color: #800000; font-weight: bold\">(</span><span style=\"color: #008080; text-decoration-color: #008080; font-weight: bold\">2.30e+05</span><span style=\"color: #800000; text-decoration-color: #800000; font-weight: bold\">)</span><span style=\"color: #800000; text-decoration-color: #800000\"> of</span>\n",
       "<span style=\"color: #7fbfbf; text-decoration-color: #7fbfbf\">             </span><span style=\"color: #800000; text-decoration-color: #800000\">grid points. This can lead to solver slow-down and increased cost. </span>\n",
       "<span style=\"color: #7fbfbf; text-decoration-color: #7fbfbf\">             </span><span style=\"color: #800000; text-decoration-color: #800000\">Consider making the size of the component smaller, as long as the  </span>\n",
       "<span style=\"color: #7fbfbf; text-decoration-color: #7fbfbf\">             </span><span style=\"color: #800000; text-decoration-color: #800000\">modes of interest decay by the plane boundaries.                   </span>\n",
       "</pre>\n"
      ],
      "text/plain": [
       "\u001b[2;36m            \u001b[0m\u001b[2;36m \u001b[0m\u001b[31mWARNING: Mode monitor \u001b[0m\u001b[32m'mode_fiber'\u001b[0m\u001b[31m has a large number \u001b[0m\u001b[1;31m(\u001b[0m\u001b[1;36m2.30e+05\u001b[0m\u001b[1;31m)\u001b[0m\u001b[31m of\u001b[0m\n",
       "\u001b[2;36m             \u001b[0m\u001b[31mgrid points. This can lead to solver slow-down and increased cost. \u001b[0m\n",
       "\u001b[2;36m             \u001b[0m\u001b[31mConsider making the size of the component smaller, as long as the  \u001b[0m\n",
       "\u001b[2;36m             \u001b[0m\u001b[31mmodes of interest decay by the plane boundaries.                   \u001b[0m\n"
      ]
     },
     "metadata": {},
     "output_type": "display_data"
    },
    {
     "data": {
      "text/html": [
       "<pre style=\"white-space:pre;overflow-x:auto;line-height:normal;font-family:Menlo,'DejaVu Sans Mono',consolas,'Courier New',monospace\"><span style=\"color: #7fbfbf; text-decoration-color: #7fbfbf\">             </span><span style=\"color: #800000; text-decoration-color: #800000\">WARNING: Mode monitor </span><span style=\"color: #008000; text-decoration-color: #008000\">'mode_fiber'</span><span style=\"color: #800000; text-decoration-color: #800000\"> has a large number </span><span style=\"color: #800000; text-decoration-color: #800000; font-weight: bold\">(</span><span style=\"color: #008080; text-decoration-color: #008080; font-weight: bold\">3.00e+05</span><span style=\"color: #800000; text-decoration-color: #800000; font-weight: bold\">)</span><span style=\"color: #800000; text-decoration-color: #800000\"> of</span>\n",
       "<span style=\"color: #7fbfbf; text-decoration-color: #7fbfbf\">             </span><span style=\"color: #800000; text-decoration-color: #800000\">grid points. This can lead to solver slow-down and increased cost. </span>\n",
       "<span style=\"color: #7fbfbf; text-decoration-color: #7fbfbf\">             </span><span style=\"color: #800000; text-decoration-color: #800000\">Consider making the size of the component smaller, as long as the  </span>\n",
       "<span style=\"color: #7fbfbf; text-decoration-color: #7fbfbf\">             </span><span style=\"color: #800000; text-decoration-color: #800000\">modes of interest decay by the plane boundaries.                   </span>\n",
       "</pre>\n"
      ],
      "text/plain": [
       "\u001b[2;36m            \u001b[0m\u001b[2;36m \u001b[0m\u001b[31mWARNING: Mode monitor \u001b[0m\u001b[32m'mode_fiber'\u001b[0m\u001b[31m has a large number \u001b[0m\u001b[1;31m(\u001b[0m\u001b[1;36m3.00e+05\u001b[0m\u001b[1;31m)\u001b[0m\u001b[31m of\u001b[0m\n",
       "\u001b[2;36m             \u001b[0m\u001b[31mgrid points. This can lead to solver slow-down and increased cost. \u001b[0m\n",
       "\u001b[2;36m             \u001b[0m\u001b[31mConsider making the size of the component smaller, as long as the  \u001b[0m\n",
       "\u001b[2;36m             \u001b[0m\u001b[31mmodes of interest decay by the plane boundaries.                   \u001b[0m\n"
      ]
     },
     "metadata": {},
     "output_type": "display_data"
    },
    {
     "data": {
      "text/html": [
       "<pre style=\"white-space:pre;overflow-x:auto;line-height:normal;font-family:Menlo,'DejaVu Sans Mono',consolas,'Courier New',monospace\"><span style=\"color: #7fbfbf; text-decoration-color: #7fbfbf\">             </span><span style=\"color: #800000; text-decoration-color: #800000\">WARNING: Mode monitor </span><span style=\"color: #008000; text-decoration-color: #008000\">'mode_fiber'</span><span style=\"color: #800000; text-decoration-color: #800000\"> has a large number </span><span style=\"color: #800000; text-decoration-color: #800000; font-weight: bold\">(</span><span style=\"color: #008080; text-decoration-color: #008080; font-weight: bold\">2.89e+05</span><span style=\"color: #800000; text-decoration-color: #800000; font-weight: bold\">)</span><span style=\"color: #800000; text-decoration-color: #800000\"> of</span>\n",
       "<span style=\"color: #7fbfbf; text-decoration-color: #7fbfbf\">             </span><span style=\"color: #800000; text-decoration-color: #800000\">grid points. This can lead to solver slow-down and increased cost. </span>\n",
       "<span style=\"color: #7fbfbf; text-decoration-color: #7fbfbf\">             </span><span style=\"color: #800000; text-decoration-color: #800000\">Consider making the size of the component smaller, as long as the  </span>\n",
       "<span style=\"color: #7fbfbf; text-decoration-color: #7fbfbf\">             </span><span style=\"color: #800000; text-decoration-color: #800000\">modes of interest decay by the plane boundaries.                   </span>\n",
       "</pre>\n"
      ],
      "text/plain": [
       "\u001b[2;36m            \u001b[0m\u001b[2;36m \u001b[0m\u001b[31mWARNING: Mode monitor \u001b[0m\u001b[32m'mode_fiber'\u001b[0m\u001b[31m has a large number \u001b[0m\u001b[1;31m(\u001b[0m\u001b[1;36m2.89e+05\u001b[0m\u001b[1;31m)\u001b[0m\u001b[31m of\u001b[0m\n",
       "\u001b[2;36m             \u001b[0m\u001b[31mgrid points. This can lead to solver slow-down and increased cost. \u001b[0m\n",
       "\u001b[2;36m             \u001b[0m\u001b[31mConsider making the size of the component smaller, as long as the  \u001b[0m\n",
       "\u001b[2;36m             \u001b[0m\u001b[31mmodes of interest decay by the plane boundaries.                   \u001b[0m\n"
      ]
     },
     "metadata": {},
     "output_type": "display_data"
    },
    {
     "data": {
      "text/html": [
       "<pre style=\"white-space:pre;overflow-x:auto;line-height:normal;font-family:Menlo,'DejaVu Sans Mono',consolas,'Courier New',monospace\"><span style=\"color: #7fbfbf; text-decoration-color: #7fbfbf\">             </span><span style=\"color: #800000; text-decoration-color: #800000\">WARNING: Mode monitor </span><span style=\"color: #008000; text-decoration-color: #008000\">'mode_fiber'</span><span style=\"color: #800000; text-decoration-color: #800000\"> has a large number </span><span style=\"color: #800000; text-decoration-color: #800000; font-weight: bold\">(</span><span style=\"color: #008080; text-decoration-color: #008080; font-weight: bold\">1.06e+05</span><span style=\"color: #800000; text-decoration-color: #800000; font-weight: bold\">)</span><span style=\"color: #800000; text-decoration-color: #800000\"> of</span>\n",
       "<span style=\"color: #7fbfbf; text-decoration-color: #7fbfbf\">             </span><span style=\"color: #800000; text-decoration-color: #800000\">grid points. This can lead to solver slow-down and increased cost. </span>\n",
       "<span style=\"color: #7fbfbf; text-decoration-color: #7fbfbf\">             </span><span style=\"color: #800000; text-decoration-color: #800000\">Consider making the size of the component smaller, as long as the  </span>\n",
       "<span style=\"color: #7fbfbf; text-decoration-color: #7fbfbf\">             </span><span style=\"color: #800000; text-decoration-color: #800000\">modes of interest decay by the plane boundaries.                   </span>\n",
       "</pre>\n"
      ],
      "text/plain": [
       "\u001b[2;36m            \u001b[0m\u001b[2;36m \u001b[0m\u001b[31mWARNING: Mode monitor \u001b[0m\u001b[32m'mode_fiber'\u001b[0m\u001b[31m has a large number \u001b[0m\u001b[1;31m(\u001b[0m\u001b[1;36m1.06e+05\u001b[0m\u001b[1;31m)\u001b[0m\u001b[31m of\u001b[0m\n",
       "\u001b[2;36m             \u001b[0m\u001b[31mgrid points. This can lead to solver slow-down and increased cost. \u001b[0m\n",
       "\u001b[2;36m             \u001b[0m\u001b[31mConsider making the size of the component smaller, as long as the  \u001b[0m\n",
       "\u001b[2;36m             \u001b[0m\u001b[31mmodes of interest decay by the plane boundaries.                   \u001b[0m\n"
      ]
     },
     "metadata": {},
     "output_type": "display_data"
    },
    {
     "data": {
      "text/html": [
       "<pre style=\"white-space:pre;overflow-x:auto;line-height:normal;font-family:Menlo,'DejaVu Sans Mono',consolas,'Courier New',monospace\"><span style=\"color: #7fbfbf; text-decoration-color: #7fbfbf\">             </span><span style=\"color: #800000; text-decoration-color: #800000\">WARNING: Mode monitor </span><span style=\"color: #008000; text-decoration-color: #008000\">'mode_fiber'</span><span style=\"color: #800000; text-decoration-color: #800000\"> has a large number </span><span style=\"color: #800000; text-decoration-color: #800000; font-weight: bold\">(</span><span style=\"color: #008080; text-decoration-color: #008080; font-weight: bold\">4.41e+05</span><span style=\"color: #800000; text-decoration-color: #800000; font-weight: bold\">)</span><span style=\"color: #800000; text-decoration-color: #800000\"> of</span>\n",
       "<span style=\"color: #7fbfbf; text-decoration-color: #7fbfbf\">             </span><span style=\"color: #800000; text-decoration-color: #800000\">grid points. This can lead to solver slow-down and increased cost. </span>\n",
       "<span style=\"color: #7fbfbf; text-decoration-color: #7fbfbf\">             </span><span style=\"color: #800000; text-decoration-color: #800000\">Consider making the size of the component smaller, as long as the  </span>\n",
       "<span style=\"color: #7fbfbf; text-decoration-color: #7fbfbf\">             </span><span style=\"color: #800000; text-decoration-color: #800000\">modes of interest decay by the plane boundaries.                   </span>\n",
       "</pre>\n"
      ],
      "text/plain": [
       "\u001b[2;36m            \u001b[0m\u001b[2;36m \u001b[0m\u001b[31mWARNING: Mode monitor \u001b[0m\u001b[32m'mode_fiber'\u001b[0m\u001b[31m has a large number \u001b[0m\u001b[1;31m(\u001b[0m\u001b[1;36m4.41e+05\u001b[0m\u001b[1;31m)\u001b[0m\u001b[31m of\u001b[0m\n",
       "\u001b[2;36m             \u001b[0m\u001b[31mgrid points. This can lead to solver slow-down and increased cost. \u001b[0m\n",
       "\u001b[2;36m             \u001b[0m\u001b[31mConsider making the size of the component smaller, as long as the  \u001b[0m\n",
       "\u001b[2;36m             \u001b[0m\u001b[31mmodes of interest decay by the plane boundaries.                   \u001b[0m\n"
      ]
     },
     "metadata": {},
     "output_type": "display_data"
    },
    {
     "data": {
      "text/html": [
       "<pre style=\"white-space:pre;overflow-x:auto;line-height:normal;font-family:Menlo,'DejaVu Sans Mono',consolas,'Courier New',monospace\"><span style=\"color: #7fbfbf; text-decoration-color: #7fbfbf\">             </span><span style=\"color: #800000; text-decoration-color: #800000\">WARNING: Mode monitor </span><span style=\"color: #008000; text-decoration-color: #008000\">'mode_fiber'</span><span style=\"color: #800000; text-decoration-color: #800000\"> has a large number </span><span style=\"color: #800000; text-decoration-color: #800000; font-weight: bold\">(</span><span style=\"color: #008080; text-decoration-color: #008080; font-weight: bold\">1.71e+05</span><span style=\"color: #800000; text-decoration-color: #800000; font-weight: bold\">)</span><span style=\"color: #800000; text-decoration-color: #800000\"> of</span>\n",
       "<span style=\"color: #7fbfbf; text-decoration-color: #7fbfbf\">             </span><span style=\"color: #800000; text-decoration-color: #800000\">grid points. This can lead to solver slow-down and increased cost. </span>\n",
       "<span style=\"color: #7fbfbf; text-decoration-color: #7fbfbf\">             </span><span style=\"color: #800000; text-decoration-color: #800000\">Consider making the size of the component smaller, as long as the  </span>\n",
       "<span style=\"color: #7fbfbf; text-decoration-color: #7fbfbf\">             </span><span style=\"color: #800000; text-decoration-color: #800000\">modes of interest decay by the plane boundaries.                   </span>\n",
       "</pre>\n"
      ],
      "text/plain": [
       "\u001b[2;36m            \u001b[0m\u001b[2;36m \u001b[0m\u001b[31mWARNING: Mode monitor \u001b[0m\u001b[32m'mode_fiber'\u001b[0m\u001b[31m has a large number \u001b[0m\u001b[1;31m(\u001b[0m\u001b[1;36m1.71e+05\u001b[0m\u001b[1;31m)\u001b[0m\u001b[31m of\u001b[0m\n",
       "\u001b[2;36m             \u001b[0m\u001b[31mgrid points. This can lead to solver slow-down and increased cost. \u001b[0m\n",
       "\u001b[2;36m             \u001b[0m\u001b[31mConsider making the size of the component smaller, as long as the  \u001b[0m\n",
       "\u001b[2;36m             \u001b[0m\u001b[31mmodes of interest decay by the plane boundaries.                   \u001b[0m\n"
      ]
     },
     "metadata": {},
     "output_type": "display_data"
    },
    {
     "data": {
      "text/html": [
       "<pre style=\"white-space:pre;overflow-x:auto;line-height:normal;font-family:Menlo,'DejaVu Sans Mono',consolas,'Courier New',monospace\"><span style=\"color: #7fbfbf; text-decoration-color: #7fbfbf\">             </span><span style=\"color: #800000; text-decoration-color: #800000\">WARNING: Mode monitor </span><span style=\"color: #008000; text-decoration-color: #008000\">'mode_fiber'</span><span style=\"color: #800000; text-decoration-color: #800000\"> has a large number </span><span style=\"color: #800000; text-decoration-color: #800000; font-weight: bold\">(</span><span style=\"color: #008080; text-decoration-color: #008080; font-weight: bold\">1.55e+05</span><span style=\"color: #800000; text-decoration-color: #800000; font-weight: bold\">)</span><span style=\"color: #800000; text-decoration-color: #800000\"> of</span>\n",
       "<span style=\"color: #7fbfbf; text-decoration-color: #7fbfbf\">             </span><span style=\"color: #800000; text-decoration-color: #800000\">grid points. This can lead to solver slow-down and increased cost. </span>\n",
       "<span style=\"color: #7fbfbf; text-decoration-color: #7fbfbf\">             </span><span style=\"color: #800000; text-decoration-color: #800000\">Consider making the size of the component smaller, as long as the  </span>\n",
       "<span style=\"color: #7fbfbf; text-decoration-color: #7fbfbf\">             </span><span style=\"color: #800000; text-decoration-color: #800000\">modes of interest decay by the plane boundaries.                   </span>\n",
       "</pre>\n"
      ],
      "text/plain": [
       "\u001b[2;36m            \u001b[0m\u001b[2;36m \u001b[0m\u001b[31mWARNING: Mode monitor \u001b[0m\u001b[32m'mode_fiber'\u001b[0m\u001b[31m has a large number \u001b[0m\u001b[1;31m(\u001b[0m\u001b[1;36m1.55e+05\u001b[0m\u001b[1;31m)\u001b[0m\u001b[31m of\u001b[0m\n",
       "\u001b[2;36m             \u001b[0m\u001b[31mgrid points. This can lead to solver slow-down and increased cost. \u001b[0m\n",
       "\u001b[2;36m             \u001b[0m\u001b[31mConsider making the size of the component smaller, as long as the  \u001b[0m\n",
       "\u001b[2;36m             \u001b[0m\u001b[31mmodes of interest decay by the plane boundaries.                   \u001b[0m\n"
      ]
     },
     "metadata": {},
     "output_type": "display_data"
    },
    {
     "data": {
      "text/html": [
       "<pre style=\"white-space:pre;overflow-x:auto;line-height:normal;font-family:Menlo,'DejaVu Sans Mono',consolas,'Courier New',monospace\"><span style=\"color: #7fbfbf; text-decoration-color: #7fbfbf\">12:12:30 BST </span><span style=\"color: #800000; text-decoration-color: #800000\">WARNING: Mode monitor </span><span style=\"color: #008000; text-decoration-color: #008000\">'mode_fiber'</span><span style=\"color: #800000; text-decoration-color: #800000\"> has a large number </span><span style=\"color: #800000; text-decoration-color: #800000; font-weight: bold\">(</span><span style=\"color: #008080; text-decoration-color: #008080; font-weight: bold\">3.27e+05</span><span style=\"color: #800000; text-decoration-color: #800000; font-weight: bold\">)</span><span style=\"color: #800000; text-decoration-color: #800000\"> of</span>\n",
       "<span style=\"color: #7fbfbf; text-decoration-color: #7fbfbf\">             </span><span style=\"color: #800000; text-decoration-color: #800000\">grid points. This can lead to solver slow-down and increased cost. </span>\n",
       "<span style=\"color: #7fbfbf; text-decoration-color: #7fbfbf\">             </span><span style=\"color: #800000; text-decoration-color: #800000\">Consider making the size of the component smaller, as long as the  </span>\n",
       "<span style=\"color: #7fbfbf; text-decoration-color: #7fbfbf\">             </span><span style=\"color: #800000; text-decoration-color: #800000\">modes of interest decay by the plane boundaries.                   </span>\n",
       "</pre>\n"
      ],
      "text/plain": [
       "\u001b[2;36m12:12:30 BST\u001b[0m\u001b[2;36m \u001b[0m\u001b[31mWARNING: Mode monitor \u001b[0m\u001b[32m'mode_fiber'\u001b[0m\u001b[31m has a large number \u001b[0m\u001b[1;31m(\u001b[0m\u001b[1;36m3.27e+05\u001b[0m\u001b[1;31m)\u001b[0m\u001b[31m of\u001b[0m\n",
       "\u001b[2;36m             \u001b[0m\u001b[31mgrid points. This can lead to solver slow-down and increased cost. \u001b[0m\n",
       "\u001b[2;36m             \u001b[0m\u001b[31mConsider making the size of the component smaller, as long as the  \u001b[0m\n",
       "\u001b[2;36m             \u001b[0m\u001b[31mmodes of interest decay by the plane boundaries.                   \u001b[0m\n"
      ]
     },
     "metadata": {},
     "output_type": "display_data"
    },
    {
     "data": {
      "text/html": [
       "<pre style=\"white-space:pre;overflow-x:auto;line-height:normal;font-family:Menlo,'DejaVu Sans Mono',consolas,'Courier New',monospace\"><span style=\"color: #7fbfbf; text-decoration-color: #7fbfbf\">             </span><span style=\"color: #800000; text-decoration-color: #800000\">WARNING: Mode monitor </span><span style=\"color: #008000; text-decoration-color: #008000\">'mode_fiber'</span><span style=\"color: #800000; text-decoration-color: #800000\"> has a large number </span><span style=\"color: #800000; text-decoration-color: #800000; font-weight: bold\">(</span><span style=\"color: #008080; text-decoration-color: #008080; font-weight: bold\">2.32e+05</span><span style=\"color: #800000; text-decoration-color: #800000; font-weight: bold\">)</span><span style=\"color: #800000; text-decoration-color: #800000\"> of</span>\n",
       "<span style=\"color: #7fbfbf; text-decoration-color: #7fbfbf\">             </span><span style=\"color: #800000; text-decoration-color: #800000\">grid points. This can lead to solver slow-down and increased cost. </span>\n",
       "<span style=\"color: #7fbfbf; text-decoration-color: #7fbfbf\">             </span><span style=\"color: #800000; text-decoration-color: #800000\">Consider making the size of the component smaller, as long as the  </span>\n",
       "<span style=\"color: #7fbfbf; text-decoration-color: #7fbfbf\">             </span><span style=\"color: #800000; text-decoration-color: #800000\">modes of interest decay by the plane boundaries.                   </span>\n",
       "</pre>\n"
      ],
      "text/plain": [
       "\u001b[2;36m            \u001b[0m\u001b[2;36m \u001b[0m\u001b[31mWARNING: Mode monitor \u001b[0m\u001b[32m'mode_fiber'\u001b[0m\u001b[31m has a large number \u001b[0m\u001b[1;31m(\u001b[0m\u001b[1;36m2.32e+05\u001b[0m\u001b[1;31m)\u001b[0m\u001b[31m of\u001b[0m\n",
       "\u001b[2;36m             \u001b[0m\u001b[31mgrid points. This can lead to solver slow-down and increased cost. \u001b[0m\n",
       "\u001b[2;36m             \u001b[0m\u001b[31mConsider making the size of the component smaller, as long as the  \u001b[0m\n",
       "\u001b[2;36m             \u001b[0m\u001b[31mmodes of interest decay by the plane boundaries.                   \u001b[0m\n"
      ]
     },
     "metadata": {},
     "output_type": "display_data"
    },
    {
     "data": {
      "text/html": [
       "<pre style=\"white-space:pre;overflow-x:auto;line-height:normal;font-family:Menlo,'DejaVu Sans Mono',consolas,'Courier New',monospace\"><span style=\"color: #7fbfbf; text-decoration-color: #7fbfbf\">             </span><span style=\"color: #800000; text-decoration-color: #800000\">WARNING: Mode monitor </span><span style=\"color: #008000; text-decoration-color: #008000\">'mode_fiber'</span><span style=\"color: #800000; text-decoration-color: #800000\"> has a large number </span><span style=\"color: #800000; text-decoration-color: #800000; font-weight: bold\">(</span><span style=\"color: #008080; text-decoration-color: #008080; font-weight: bold\">3.36e+05</span><span style=\"color: #800000; text-decoration-color: #800000; font-weight: bold\">)</span><span style=\"color: #800000; text-decoration-color: #800000\"> of</span>\n",
       "<span style=\"color: #7fbfbf; text-decoration-color: #7fbfbf\">             </span><span style=\"color: #800000; text-decoration-color: #800000\">grid points. This can lead to solver slow-down and increased cost. </span>\n",
       "<span style=\"color: #7fbfbf; text-decoration-color: #7fbfbf\">             </span><span style=\"color: #800000; text-decoration-color: #800000\">Consider making the size of the component smaller, as long as the  </span>\n",
       "<span style=\"color: #7fbfbf; text-decoration-color: #7fbfbf\">             </span><span style=\"color: #800000; text-decoration-color: #800000\">modes of interest decay by the plane boundaries.                   </span>\n",
       "</pre>\n"
      ],
      "text/plain": [
       "\u001b[2;36m            \u001b[0m\u001b[2;36m \u001b[0m\u001b[31mWARNING: Mode monitor \u001b[0m\u001b[32m'mode_fiber'\u001b[0m\u001b[31m has a large number \u001b[0m\u001b[1;31m(\u001b[0m\u001b[1;36m3.36e+05\u001b[0m\u001b[1;31m)\u001b[0m\u001b[31m of\u001b[0m\n",
       "\u001b[2;36m             \u001b[0m\u001b[31mgrid points. This can lead to solver slow-down and increased cost. \u001b[0m\n",
       "\u001b[2;36m             \u001b[0m\u001b[31mConsider making the size of the component smaller, as long as the  \u001b[0m\n",
       "\u001b[2;36m             \u001b[0m\u001b[31mmodes of interest decay by the plane boundaries.                   \u001b[0m\n"
      ]
     },
     "metadata": {},
     "output_type": "display_data"
    },
    {
     "data": {
      "text/html": [
       "<pre style=\"white-space:pre;overflow-x:auto;line-height:normal;font-family:Menlo,'DejaVu Sans Mono',consolas,'Courier New',monospace\"><span style=\"color: #7fbfbf; text-decoration-color: #7fbfbf\">             </span><span style=\"color: #800000; text-decoration-color: #800000\">WARNING: A structure has a nonzero dimension along axis z, which is</span>\n",
       "<span style=\"color: #7fbfbf; text-decoration-color: #7fbfbf\">             </span><span style=\"color: #800000; text-decoration-color: #800000\">however too small compared to the generated mesh step along that   </span>\n",
       "<span style=\"color: #7fbfbf; text-decoration-color: #7fbfbf\">             </span><span style=\"color: #800000; text-decoration-color: #800000\">direction. This could produce unpredictable results. We recommend  </span>\n",
       "<span style=\"color: #7fbfbf; text-decoration-color: #7fbfbf\">             </span><span style=\"color: #800000; text-decoration-color: #800000\">increasing the resolution, or adding a mesh override structure to  </span>\n",
       "<span style=\"color: #7fbfbf; text-decoration-color: #7fbfbf\">             </span><span style=\"color: #800000; text-decoration-color: #800000\">ensure that all geometries are at least one pixel thick along all  </span>\n",
       "<span style=\"color: #7fbfbf; text-decoration-color: #7fbfbf\">             </span><span style=\"color: #800000; text-decoration-color: #800000\">dimensions.                                                        </span>\n",
       "</pre>\n"
      ],
      "text/plain": [
       "\u001b[2;36m            \u001b[0m\u001b[2;36m \u001b[0m\u001b[31mWARNING: A structure has a nonzero dimension along axis z, which is\u001b[0m\n",
       "\u001b[2;36m             \u001b[0m\u001b[31mhowever too small compared to the generated mesh step along that   \u001b[0m\n",
       "\u001b[2;36m             \u001b[0m\u001b[31mdirection. This could produce unpredictable results. We recommend  \u001b[0m\n",
       "\u001b[2;36m             \u001b[0m\u001b[31mincreasing the resolution, or adding a mesh override structure to  \u001b[0m\n",
       "\u001b[2;36m             \u001b[0m\u001b[31mensure that all geometries are at least one pixel thick along all  \u001b[0m\n",
       "\u001b[2;36m             \u001b[0m\u001b[31mdimensions.                                                        \u001b[0m\n"
      ]
     },
     "metadata": {},
     "output_type": "display_data"
    },
    {
     "data": {
      "text/html": [
       "<pre style=\"white-space:pre;overflow-x:auto;line-height:normal;font-family:Menlo,'DejaVu Sans Mono',consolas,'Courier New',monospace\"><span style=\"color: #7fbfbf; text-decoration-color: #7fbfbf\">12:12:31 BST </span><span style=\"color: #800000; text-decoration-color: #800000\">WARNING: Mode monitor </span><span style=\"color: #008000; text-decoration-color: #008000\">'mode_fiber'</span><span style=\"color: #800000; text-decoration-color: #800000\"> has a large number </span><span style=\"color: #800000; text-decoration-color: #800000; font-weight: bold\">(</span><span style=\"color: #008080; text-decoration-color: #008080; font-weight: bold\">1.54e+05</span><span style=\"color: #800000; text-decoration-color: #800000; font-weight: bold\">)</span><span style=\"color: #800000; text-decoration-color: #800000\"> of</span>\n",
       "<span style=\"color: #7fbfbf; text-decoration-color: #7fbfbf\">             </span><span style=\"color: #800000; text-decoration-color: #800000\">grid points. This can lead to solver slow-down and increased cost. </span>\n",
       "<span style=\"color: #7fbfbf; text-decoration-color: #7fbfbf\">             </span><span style=\"color: #800000; text-decoration-color: #800000\">Consider making the size of the component smaller, as long as the  </span>\n",
       "<span style=\"color: #7fbfbf; text-decoration-color: #7fbfbf\">             </span><span style=\"color: #800000; text-decoration-color: #800000\">modes of interest decay by the plane boundaries.                   </span>\n",
       "</pre>\n"
      ],
      "text/plain": [
       "\u001b[2;36m12:12:31 BST\u001b[0m\u001b[2;36m \u001b[0m\u001b[31mWARNING: Mode monitor \u001b[0m\u001b[32m'mode_fiber'\u001b[0m\u001b[31m has a large number \u001b[0m\u001b[1;31m(\u001b[0m\u001b[1;36m1.54e+05\u001b[0m\u001b[1;31m)\u001b[0m\u001b[31m of\u001b[0m\n",
       "\u001b[2;36m             \u001b[0m\u001b[31mgrid points. This can lead to solver slow-down and increased cost. \u001b[0m\n",
       "\u001b[2;36m             \u001b[0m\u001b[31mConsider making the size of the component smaller, as long as the  \u001b[0m\n",
       "\u001b[2;36m             \u001b[0m\u001b[31mmodes of interest decay by the plane boundaries.                   \u001b[0m\n"
      ]
     },
     "metadata": {},
     "output_type": "display_data"
    },
    {
     "data": {
      "text/html": [
       "<pre style=\"white-space:pre;overflow-x:auto;line-height:normal;font-family:Menlo,'DejaVu Sans Mono',consolas,'Courier New',monospace\"><span style=\"color: #7fbfbf; text-decoration-color: #7fbfbf\">             </span><span style=\"color: #800000; text-decoration-color: #800000\">WARNING: Mode monitor </span><span style=\"color: #008000; text-decoration-color: #008000\">'mode_fiber'</span><span style=\"color: #800000; text-decoration-color: #800000\"> has a large number </span><span style=\"color: #800000; text-decoration-color: #800000; font-weight: bold\">(</span><span style=\"color: #008080; text-decoration-color: #008080; font-weight: bold\">1.22e+05</span><span style=\"color: #800000; text-decoration-color: #800000; font-weight: bold\">)</span><span style=\"color: #800000; text-decoration-color: #800000\"> of</span>\n",
       "<span style=\"color: #7fbfbf; text-decoration-color: #7fbfbf\">             </span><span style=\"color: #800000; text-decoration-color: #800000\">grid points. This can lead to solver slow-down and increased cost. </span>\n",
       "<span style=\"color: #7fbfbf; text-decoration-color: #7fbfbf\">             </span><span style=\"color: #800000; text-decoration-color: #800000\">Consider making the size of the component smaller, as long as the  </span>\n",
       "<span style=\"color: #7fbfbf; text-decoration-color: #7fbfbf\">             </span><span style=\"color: #800000; text-decoration-color: #800000\">modes of interest decay by the plane boundaries.                   </span>\n",
       "</pre>\n"
      ],
      "text/plain": [
       "\u001b[2;36m            \u001b[0m\u001b[2;36m \u001b[0m\u001b[31mWARNING: Mode monitor \u001b[0m\u001b[32m'mode_fiber'\u001b[0m\u001b[31m has a large number \u001b[0m\u001b[1;31m(\u001b[0m\u001b[1;36m1.22e+05\u001b[0m\u001b[1;31m)\u001b[0m\u001b[31m of\u001b[0m\n",
       "\u001b[2;36m             \u001b[0m\u001b[31mgrid points. This can lead to solver slow-down and increased cost. \u001b[0m\n",
       "\u001b[2;36m             \u001b[0m\u001b[31mConsider making the size of the component smaller, as long as the  \u001b[0m\n",
       "\u001b[2;36m             \u001b[0m\u001b[31mmodes of interest decay by the plane boundaries.                   \u001b[0m\n"
      ]
     },
     "metadata": {},
     "output_type": "display_data"
    },
    {
     "data": {
      "text/html": [
       "<pre style=\"white-space:pre;overflow-x:auto;line-height:normal;font-family:Menlo,'DejaVu Sans Mono',consolas,'Courier New',monospace\"><span style=\"color: #7fbfbf; text-decoration-color: #7fbfbf\">             </span><span style=\"color: #800000; text-decoration-color: #800000\">WARNING: Mode monitor </span><span style=\"color: #008000; text-decoration-color: #008000\">'mode_fiber'</span><span style=\"color: #800000; text-decoration-color: #800000\"> has a large number </span><span style=\"color: #800000; text-decoration-color: #800000; font-weight: bold\">(</span><span style=\"color: #008080; text-decoration-color: #008080; font-weight: bold\">1.97e+05</span><span style=\"color: #800000; text-decoration-color: #800000; font-weight: bold\">)</span><span style=\"color: #800000; text-decoration-color: #800000\"> of</span>\n",
       "<span style=\"color: #7fbfbf; text-decoration-color: #7fbfbf\">             </span><span style=\"color: #800000; text-decoration-color: #800000\">grid points. This can lead to solver slow-down and increased cost. </span>\n",
       "<span style=\"color: #7fbfbf; text-decoration-color: #7fbfbf\">             </span><span style=\"color: #800000; text-decoration-color: #800000\">Consider making the size of the component smaller, as long as the  </span>\n",
       "<span style=\"color: #7fbfbf; text-decoration-color: #7fbfbf\">             </span><span style=\"color: #800000; text-decoration-color: #800000\">modes of interest decay by the plane boundaries.                   </span>\n",
       "</pre>\n"
      ],
      "text/plain": [
       "\u001b[2;36m            \u001b[0m\u001b[2;36m \u001b[0m\u001b[31mWARNING: Mode monitor \u001b[0m\u001b[32m'mode_fiber'\u001b[0m\u001b[31m has a large number \u001b[0m\u001b[1;31m(\u001b[0m\u001b[1;36m1.97e+05\u001b[0m\u001b[1;31m)\u001b[0m\u001b[31m of\u001b[0m\n",
       "\u001b[2;36m             \u001b[0m\u001b[31mgrid points. This can lead to solver slow-down and increased cost. \u001b[0m\n",
       "\u001b[2;36m             \u001b[0m\u001b[31mConsider making the size of the component smaller, as long as the  \u001b[0m\n",
       "\u001b[2;36m             \u001b[0m\u001b[31mmodes of interest decay by the plane boundaries.                   \u001b[0m\n"
      ]
     },
     "metadata": {},
     "output_type": "display_data"
    },
    {
     "data": {
      "text/html": [
       "<pre style=\"white-space:pre;overflow-x:auto;line-height:normal;font-family:Menlo,'DejaVu Sans Mono',consolas,'Courier New',monospace\"><span style=\"color: #7fbfbf; text-decoration-color: #7fbfbf\">             </span><span style=\"color: #800000; text-decoration-color: #800000\">WARNING: Mode monitor </span><span style=\"color: #008000; text-decoration-color: #008000\">'mode_fiber'</span><span style=\"color: #800000; text-decoration-color: #800000\"> has a large number </span><span style=\"color: #800000; text-decoration-color: #800000; font-weight: bold\">(</span><span style=\"color: #008080; text-decoration-color: #008080; font-weight: bold\">3.79e+05</span><span style=\"color: #800000; text-decoration-color: #800000; font-weight: bold\">)</span><span style=\"color: #800000; text-decoration-color: #800000\"> of</span>\n",
       "<span style=\"color: #7fbfbf; text-decoration-color: #7fbfbf\">             </span><span style=\"color: #800000; text-decoration-color: #800000\">grid points. This can lead to solver slow-down and increased cost. </span>\n",
       "<span style=\"color: #7fbfbf; text-decoration-color: #7fbfbf\">             </span><span style=\"color: #800000; text-decoration-color: #800000\">Consider making the size of the component smaller, as long as the  </span>\n",
       "<span style=\"color: #7fbfbf; text-decoration-color: #7fbfbf\">             </span><span style=\"color: #800000; text-decoration-color: #800000\">modes of interest decay by the plane boundaries.                   </span>\n",
       "</pre>\n"
      ],
      "text/plain": [
       "\u001b[2;36m            \u001b[0m\u001b[2;36m \u001b[0m\u001b[31mWARNING: Mode monitor \u001b[0m\u001b[32m'mode_fiber'\u001b[0m\u001b[31m has a large number \u001b[0m\u001b[1;31m(\u001b[0m\u001b[1;36m3.79e+05\u001b[0m\u001b[1;31m)\u001b[0m\u001b[31m of\u001b[0m\n",
       "\u001b[2;36m             \u001b[0m\u001b[31mgrid points. This can lead to solver slow-down and increased cost. \u001b[0m\n",
       "\u001b[2;36m             \u001b[0m\u001b[31mConsider making the size of the component smaller, as long as the  \u001b[0m\n",
       "\u001b[2;36m             \u001b[0m\u001b[31mmodes of interest decay by the plane boundaries.                   \u001b[0m\n"
      ]
     },
     "metadata": {},
     "output_type": "display_data"
    },
    {
     "data": {
      "text/html": [
       "<pre style=\"white-space:pre;overflow-x:auto;line-height:normal;font-family:Menlo,'DejaVu Sans Mono',consolas,'Courier New',monospace\"><span style=\"color: #7fbfbf; text-decoration-color: #7fbfbf\">             </span><span style=\"color: #800000; text-decoration-color: #800000\">WARNING: Mode monitor </span><span style=\"color: #008000; text-decoration-color: #008000\">'mode_fiber'</span><span style=\"color: #800000; text-decoration-color: #800000\"> has a large number </span><span style=\"color: #800000; text-decoration-color: #800000; font-weight: bold\">(</span><span style=\"color: #008080; text-decoration-color: #008080; font-weight: bold\">1.28e+05</span><span style=\"color: #800000; text-decoration-color: #800000; font-weight: bold\">)</span><span style=\"color: #800000; text-decoration-color: #800000\"> of</span>\n",
       "<span style=\"color: #7fbfbf; text-decoration-color: #7fbfbf\">             </span><span style=\"color: #800000; text-decoration-color: #800000\">grid points. This can lead to solver slow-down and increased cost. </span>\n",
       "<span style=\"color: #7fbfbf; text-decoration-color: #7fbfbf\">             </span><span style=\"color: #800000; text-decoration-color: #800000\">Consider making the size of the component smaller, as long as the  </span>\n",
       "<span style=\"color: #7fbfbf; text-decoration-color: #7fbfbf\">             </span><span style=\"color: #800000; text-decoration-color: #800000\">modes of interest decay by the plane boundaries.                   </span>\n",
       "</pre>\n"
      ],
      "text/plain": [
       "\u001b[2;36m            \u001b[0m\u001b[2;36m \u001b[0m\u001b[31mWARNING: Mode monitor \u001b[0m\u001b[32m'mode_fiber'\u001b[0m\u001b[31m has a large number \u001b[0m\u001b[1;31m(\u001b[0m\u001b[1;36m1.28e+05\u001b[0m\u001b[1;31m)\u001b[0m\u001b[31m of\u001b[0m\n",
       "\u001b[2;36m             \u001b[0m\u001b[31mgrid points. This can lead to solver slow-down and increased cost. \u001b[0m\n",
       "\u001b[2;36m             \u001b[0m\u001b[31mConsider making the size of the component smaller, as long as the  \u001b[0m\n",
       "\u001b[2;36m             \u001b[0m\u001b[31mmodes of interest decay by the plane boundaries.                   \u001b[0m\n"
      ]
     },
     "metadata": {},
     "output_type": "display_data"
    },
    {
     "data": {
      "text/html": [
       "<pre style=\"white-space:pre;overflow-x:auto;line-height:normal;font-family:Menlo,'DejaVu Sans Mono',consolas,'Courier New',monospace\"><span style=\"color: #7fbfbf; text-decoration-color: #7fbfbf\">             </span><span style=\"color: #800000; text-decoration-color: #800000\">WARNING: Mode monitor </span><span style=\"color: #008000; text-decoration-color: #008000\">'mode_fiber'</span><span style=\"color: #800000; text-decoration-color: #800000\"> has a large number </span><span style=\"color: #800000; text-decoration-color: #800000; font-weight: bold\">(</span><span style=\"color: #008080; text-decoration-color: #008080; font-weight: bold\">3.20e+05</span><span style=\"color: #800000; text-decoration-color: #800000; font-weight: bold\">)</span><span style=\"color: #800000; text-decoration-color: #800000\"> of</span>\n",
       "<span style=\"color: #7fbfbf; text-decoration-color: #7fbfbf\">             </span><span style=\"color: #800000; text-decoration-color: #800000\">grid points. This can lead to solver slow-down and increased cost. </span>\n",
       "<span style=\"color: #7fbfbf; text-decoration-color: #7fbfbf\">             </span><span style=\"color: #800000; text-decoration-color: #800000\">Consider making the size of the component smaller, as long as the  </span>\n",
       "<span style=\"color: #7fbfbf; text-decoration-color: #7fbfbf\">             </span><span style=\"color: #800000; text-decoration-color: #800000\">modes of interest decay by the plane boundaries.                   </span>\n",
       "</pre>\n"
      ],
      "text/plain": [
       "\u001b[2;36m            \u001b[0m\u001b[2;36m \u001b[0m\u001b[31mWARNING: Mode monitor \u001b[0m\u001b[32m'mode_fiber'\u001b[0m\u001b[31m has a large number \u001b[0m\u001b[1;31m(\u001b[0m\u001b[1;36m3.20e+05\u001b[0m\u001b[1;31m)\u001b[0m\u001b[31m of\u001b[0m\n",
       "\u001b[2;36m             \u001b[0m\u001b[31mgrid points. This can lead to solver slow-down and increased cost. \u001b[0m\n",
       "\u001b[2;36m             \u001b[0m\u001b[31mConsider making the size of the component smaller, as long as the  \u001b[0m\n",
       "\u001b[2;36m             \u001b[0m\u001b[31mmodes of interest decay by the plane boundaries.                   \u001b[0m\n"
      ]
     },
     "metadata": {},
     "output_type": "display_data"
    },
    {
     "data": {
      "text/html": [
       "<pre style=\"white-space:pre;overflow-x:auto;line-height:normal;font-family:Menlo,'DejaVu Sans Mono',consolas,'Courier New',monospace\"><span style=\"color: #7fbfbf; text-decoration-color: #7fbfbf\">             </span><span style=\"color: #800000; text-decoration-color: #800000\">WARNING: Mode monitor </span><span style=\"color: #008000; text-decoration-color: #008000\">'mode_fiber'</span><span style=\"color: #800000; text-decoration-color: #800000\"> has a large number </span><span style=\"color: #800000; text-decoration-color: #800000; font-weight: bold\">(</span><span style=\"color: #008080; text-decoration-color: #008080; font-weight: bold\">2.89e+05</span><span style=\"color: #800000; text-decoration-color: #800000; font-weight: bold\">)</span><span style=\"color: #800000; text-decoration-color: #800000\"> of</span>\n",
       "<span style=\"color: #7fbfbf; text-decoration-color: #7fbfbf\">             </span><span style=\"color: #800000; text-decoration-color: #800000\">grid points. This can lead to solver slow-down and increased cost. </span>\n",
       "<span style=\"color: #7fbfbf; text-decoration-color: #7fbfbf\">             </span><span style=\"color: #800000; text-decoration-color: #800000\">Consider making the size of the component smaller, as long as the  </span>\n",
       "<span style=\"color: #7fbfbf; text-decoration-color: #7fbfbf\">             </span><span style=\"color: #800000; text-decoration-color: #800000\">modes of interest decay by the plane boundaries.                   </span>\n",
       "</pre>\n"
      ],
      "text/plain": [
       "\u001b[2;36m            \u001b[0m\u001b[2;36m \u001b[0m\u001b[31mWARNING: Mode monitor \u001b[0m\u001b[32m'mode_fiber'\u001b[0m\u001b[31m has a large number \u001b[0m\u001b[1;31m(\u001b[0m\u001b[1;36m2.89e+05\u001b[0m\u001b[1;31m)\u001b[0m\u001b[31m of\u001b[0m\n",
       "\u001b[2;36m             \u001b[0m\u001b[31mgrid points. This can lead to solver slow-down and increased cost. \u001b[0m\n",
       "\u001b[2;36m             \u001b[0m\u001b[31mConsider making the size of the component smaller, as long as the  \u001b[0m\n",
       "\u001b[2;36m             \u001b[0m\u001b[31mmodes of interest decay by the plane boundaries.                   \u001b[0m\n"
      ]
     },
     "metadata": {},
     "output_type": "display_data"
    },
    {
     "data": {
      "text/html": [
       "<pre style=\"white-space:pre;overflow-x:auto;line-height:normal;font-family:Menlo,'DejaVu Sans Mono',consolas,'Courier New',monospace\"><span style=\"color: #7fbfbf; text-decoration-color: #7fbfbf\">             </span><span style=\"color: #800000; text-decoration-color: #800000\">WARNING: Mode monitor </span><span style=\"color: #008000; text-decoration-color: #008000\">'mode_fiber'</span><span style=\"color: #800000; text-decoration-color: #800000\"> has a large number </span><span style=\"color: #800000; text-decoration-color: #800000; font-weight: bold\">(</span><span style=\"color: #008080; text-decoration-color: #008080; font-weight: bold\">4.25e+05</span><span style=\"color: #800000; text-decoration-color: #800000; font-weight: bold\">)</span><span style=\"color: #800000; text-decoration-color: #800000\"> of</span>\n",
       "<span style=\"color: #7fbfbf; text-decoration-color: #7fbfbf\">             </span><span style=\"color: #800000; text-decoration-color: #800000\">grid points. This can lead to solver slow-down and increased cost. </span>\n",
       "<span style=\"color: #7fbfbf; text-decoration-color: #7fbfbf\">             </span><span style=\"color: #800000; text-decoration-color: #800000\">Consider making the size of the component smaller, as long as the  </span>\n",
       "<span style=\"color: #7fbfbf; text-decoration-color: #7fbfbf\">             </span><span style=\"color: #800000; text-decoration-color: #800000\">modes of interest decay by the plane boundaries.                   </span>\n",
       "</pre>\n"
      ],
      "text/plain": [
       "\u001b[2;36m            \u001b[0m\u001b[2;36m \u001b[0m\u001b[31mWARNING: Mode monitor \u001b[0m\u001b[32m'mode_fiber'\u001b[0m\u001b[31m has a large number \u001b[0m\u001b[1;31m(\u001b[0m\u001b[1;36m4.25e+05\u001b[0m\u001b[1;31m)\u001b[0m\u001b[31m of\u001b[0m\n",
       "\u001b[2;36m             \u001b[0m\u001b[31mgrid points. This can lead to solver slow-down and increased cost. \u001b[0m\n",
       "\u001b[2;36m             \u001b[0m\u001b[31mConsider making the size of the component smaller, as long as the  \u001b[0m\n",
       "\u001b[2;36m             \u001b[0m\u001b[31mmodes of interest decay by the plane boundaries.                   \u001b[0m\n"
      ]
     },
     "metadata": {},
     "output_type": "display_data"
    },
    {
     "data": {
      "text/html": [
       "<pre style=\"white-space:pre;overflow-x:auto;line-height:normal;font-family:Menlo,'DejaVu Sans Mono',consolas,'Courier New',monospace\"><span style=\"color: #7fbfbf; text-decoration-color: #7fbfbf\">12:12:32 BST </span><span style=\"color: #800000; text-decoration-color: #800000\">WARNING: Mode monitor </span><span style=\"color: #008000; text-decoration-color: #008000\">'mode_fiber'</span><span style=\"color: #800000; text-decoration-color: #800000\"> has a large number </span><span style=\"color: #800000; text-decoration-color: #800000; font-weight: bold\">(</span><span style=\"color: #008080; text-decoration-color: #008080; font-weight: bold\">3.46e+05</span><span style=\"color: #800000; text-decoration-color: #800000; font-weight: bold\">)</span><span style=\"color: #800000; text-decoration-color: #800000\"> of</span>\n",
       "<span style=\"color: #7fbfbf; text-decoration-color: #7fbfbf\">             </span><span style=\"color: #800000; text-decoration-color: #800000\">grid points. This can lead to solver slow-down and increased cost. </span>\n",
       "<span style=\"color: #7fbfbf; text-decoration-color: #7fbfbf\">             </span><span style=\"color: #800000; text-decoration-color: #800000\">Consider making the size of the component smaller, as long as the  </span>\n",
       "<span style=\"color: #7fbfbf; text-decoration-color: #7fbfbf\">             </span><span style=\"color: #800000; text-decoration-color: #800000\">modes of interest decay by the plane boundaries.                   </span>\n",
       "</pre>\n"
      ],
      "text/plain": [
       "\u001b[2;36m12:12:32 BST\u001b[0m\u001b[2;36m \u001b[0m\u001b[31mWARNING: Mode monitor \u001b[0m\u001b[32m'mode_fiber'\u001b[0m\u001b[31m has a large number \u001b[0m\u001b[1;31m(\u001b[0m\u001b[1;36m3.46e+05\u001b[0m\u001b[1;31m)\u001b[0m\u001b[31m of\u001b[0m\n",
       "\u001b[2;36m             \u001b[0m\u001b[31mgrid points. This can lead to solver slow-down and increased cost. \u001b[0m\n",
       "\u001b[2;36m             \u001b[0m\u001b[31mConsider making the size of the component smaller, as long as the  \u001b[0m\n",
       "\u001b[2;36m             \u001b[0m\u001b[31mmodes of interest decay by the plane boundaries.                   \u001b[0m\n"
      ]
     },
     "metadata": {},
     "output_type": "display_data"
    },
    {
     "data": {
      "text/html": [
       "<pre style=\"white-space:pre;overflow-x:auto;line-height:normal;font-family:Menlo,'DejaVu Sans Mono',consolas,'Courier New',monospace\"><span style=\"color: #7fbfbf; text-decoration-color: #7fbfbf\">             </span><span style=\"color: #800000; text-decoration-color: #800000\">WARNING: Mode monitor </span><span style=\"color: #008000; text-decoration-color: #008000\">'mode_fiber'</span><span style=\"color: #800000; text-decoration-color: #800000\"> has a large number </span><span style=\"color: #800000; text-decoration-color: #800000; font-weight: bold\">(</span><span style=\"color: #008080; text-decoration-color: #008080; font-weight: bold\">1.58e+05</span><span style=\"color: #800000; text-decoration-color: #800000; font-weight: bold\">)</span><span style=\"color: #800000; text-decoration-color: #800000\"> of</span>\n",
       "<span style=\"color: #7fbfbf; text-decoration-color: #7fbfbf\">             </span><span style=\"color: #800000; text-decoration-color: #800000\">grid points. This can lead to solver slow-down and increased cost. </span>\n",
       "<span style=\"color: #7fbfbf; text-decoration-color: #7fbfbf\">             </span><span style=\"color: #800000; text-decoration-color: #800000\">Consider making the size of the component smaller, as long as the  </span>\n",
       "<span style=\"color: #7fbfbf; text-decoration-color: #7fbfbf\">             </span><span style=\"color: #800000; text-decoration-color: #800000\">modes of interest decay by the plane boundaries.                   </span>\n",
       "</pre>\n"
      ],
      "text/plain": [
       "\u001b[2;36m            \u001b[0m\u001b[2;36m \u001b[0m\u001b[31mWARNING: Mode monitor \u001b[0m\u001b[32m'mode_fiber'\u001b[0m\u001b[31m has a large number \u001b[0m\u001b[1;31m(\u001b[0m\u001b[1;36m1.58e+05\u001b[0m\u001b[1;31m)\u001b[0m\u001b[31m of\u001b[0m\n",
       "\u001b[2;36m             \u001b[0m\u001b[31mgrid points. This can lead to solver slow-down and increased cost. \u001b[0m\n",
       "\u001b[2;36m             \u001b[0m\u001b[31mConsider making the size of the component smaller, as long as the  \u001b[0m\n",
       "\u001b[2;36m             \u001b[0m\u001b[31mmodes of interest decay by the plane boundaries.                   \u001b[0m\n"
      ]
     },
     "metadata": {},
     "output_type": "display_data"
    },
    {
     "data": {
      "text/html": [
       "<pre style=\"white-space:pre;overflow-x:auto;line-height:normal;font-family:Menlo,'DejaVu Sans Mono',consolas,'Courier New',monospace\"><span style=\"color: #7fbfbf; text-decoration-color: #7fbfbf\">             </span><span style=\"color: #800000; text-decoration-color: #800000\">WARNING: Mode monitor </span><span style=\"color: #008000; text-decoration-color: #008000\">'mode_fiber'</span><span style=\"color: #800000; text-decoration-color: #800000\"> has a large number </span><span style=\"color: #800000; text-decoration-color: #800000; font-weight: bold\">(</span><span style=\"color: #008080; text-decoration-color: #008080; font-weight: bold\">3.65e+05</span><span style=\"color: #800000; text-decoration-color: #800000; font-weight: bold\">)</span><span style=\"color: #800000; text-decoration-color: #800000\"> of</span>\n",
       "<span style=\"color: #7fbfbf; text-decoration-color: #7fbfbf\">             </span><span style=\"color: #800000; text-decoration-color: #800000\">grid points. This can lead to solver slow-down and increased cost. </span>\n",
       "<span style=\"color: #7fbfbf; text-decoration-color: #7fbfbf\">             </span><span style=\"color: #800000; text-decoration-color: #800000\">Consider making the size of the component smaller, as long as the  </span>\n",
       "<span style=\"color: #7fbfbf; text-decoration-color: #7fbfbf\">             </span><span style=\"color: #800000; text-decoration-color: #800000\">modes of interest decay by the plane boundaries.                   </span>\n",
       "</pre>\n"
      ],
      "text/plain": [
       "\u001b[2;36m            \u001b[0m\u001b[2;36m \u001b[0m\u001b[31mWARNING: Mode monitor \u001b[0m\u001b[32m'mode_fiber'\u001b[0m\u001b[31m has a large number \u001b[0m\u001b[1;31m(\u001b[0m\u001b[1;36m3.65e+05\u001b[0m\u001b[1;31m)\u001b[0m\u001b[31m of\u001b[0m\n",
       "\u001b[2;36m             \u001b[0m\u001b[31mgrid points. This can lead to solver slow-down and increased cost. \u001b[0m\n",
       "\u001b[2;36m             \u001b[0m\u001b[31mConsider making the size of the component smaller, as long as the  \u001b[0m\n",
       "\u001b[2;36m             \u001b[0m\u001b[31mmodes of interest decay by the plane boundaries.                   \u001b[0m\n"
      ]
     },
     "metadata": {},
     "output_type": "display_data"
    },
    {
     "data": {
      "text/html": [
       "<pre style=\"white-space:pre;overflow-x:auto;line-height:normal;font-family:Menlo,'DejaVu Sans Mono',consolas,'Courier New',monospace\"><span style=\"color: #7fbfbf; text-decoration-color: #7fbfbf\">12:12:33 BST </span><span style=\"color: #800000; text-decoration-color: #800000\">WARNING: Mode monitor </span><span style=\"color: #008000; text-decoration-color: #008000\">'mode_fiber'</span><span style=\"color: #800000; text-decoration-color: #800000\"> has a large number </span><span style=\"color: #800000; text-decoration-color: #800000; font-weight: bold\">(</span><span style=\"color: #008080; text-decoration-color: #008080; font-weight: bold\">1.09e+05</span><span style=\"color: #800000; text-decoration-color: #800000; font-weight: bold\">)</span><span style=\"color: #800000; text-decoration-color: #800000\"> of</span>\n",
       "<span style=\"color: #7fbfbf; text-decoration-color: #7fbfbf\">             </span><span style=\"color: #800000; text-decoration-color: #800000\">grid points. This can lead to solver slow-down and increased cost. </span>\n",
       "<span style=\"color: #7fbfbf; text-decoration-color: #7fbfbf\">             </span><span style=\"color: #800000; text-decoration-color: #800000\">Consider making the size of the component smaller, as long as the  </span>\n",
       "<span style=\"color: #7fbfbf; text-decoration-color: #7fbfbf\">             </span><span style=\"color: #800000; text-decoration-color: #800000\">modes of interest decay by the plane boundaries.                   </span>\n",
       "</pre>\n"
      ],
      "text/plain": [
       "\u001b[2;36m12:12:33 BST\u001b[0m\u001b[2;36m \u001b[0m\u001b[31mWARNING: Mode monitor \u001b[0m\u001b[32m'mode_fiber'\u001b[0m\u001b[31m has a large number \u001b[0m\u001b[1;31m(\u001b[0m\u001b[1;36m1.09e+05\u001b[0m\u001b[1;31m)\u001b[0m\u001b[31m of\u001b[0m\n",
       "\u001b[2;36m             \u001b[0m\u001b[31mgrid points. This can lead to solver slow-down and increased cost. \u001b[0m\n",
       "\u001b[2;36m             \u001b[0m\u001b[31mConsider making the size of the component smaller, as long as the  \u001b[0m\n",
       "\u001b[2;36m             \u001b[0m\u001b[31mmodes of interest decay by the plane boundaries.                   \u001b[0m\n"
      ]
     },
     "metadata": {},
     "output_type": "display_data"
    },
    {
     "data": {
      "text/html": [
       "<pre style=\"white-space:pre;overflow-x:auto;line-height:normal;font-family:Menlo,'DejaVu Sans Mono',consolas,'Courier New',monospace\"><span style=\"color: #7fbfbf; text-decoration-color: #7fbfbf\">             </span><span style=\"color: #800000; text-decoration-color: #800000\">WARNING: Mode monitor </span><span style=\"color: #008000; text-decoration-color: #008000\">'mode_fiber'</span><span style=\"color: #800000; text-decoration-color: #800000\"> has a large number </span><span style=\"color: #800000; text-decoration-color: #800000; font-weight: bold\">(</span><span style=\"color: #008080; text-decoration-color: #008080; font-weight: bold\">3.58e+05</span><span style=\"color: #800000; text-decoration-color: #800000; font-weight: bold\">)</span><span style=\"color: #800000; text-decoration-color: #800000\"> of</span>\n",
       "<span style=\"color: #7fbfbf; text-decoration-color: #7fbfbf\">             </span><span style=\"color: #800000; text-decoration-color: #800000\">grid points. This can lead to solver slow-down and increased cost. </span>\n",
       "<span style=\"color: #7fbfbf; text-decoration-color: #7fbfbf\">             </span><span style=\"color: #800000; text-decoration-color: #800000\">Consider making the size of the component smaller, as long as the  </span>\n",
       "<span style=\"color: #7fbfbf; text-decoration-color: #7fbfbf\">             </span><span style=\"color: #800000; text-decoration-color: #800000\">modes of interest decay by the plane boundaries.                   </span>\n",
       "</pre>\n"
      ],
      "text/plain": [
       "\u001b[2;36m            \u001b[0m\u001b[2;36m \u001b[0m\u001b[31mWARNING: Mode monitor \u001b[0m\u001b[32m'mode_fiber'\u001b[0m\u001b[31m has a large number \u001b[0m\u001b[1;31m(\u001b[0m\u001b[1;36m3.58e+05\u001b[0m\u001b[1;31m)\u001b[0m\u001b[31m of\u001b[0m\n",
       "\u001b[2;36m             \u001b[0m\u001b[31mgrid points. This can lead to solver slow-down and increased cost. \u001b[0m\n",
       "\u001b[2;36m             \u001b[0m\u001b[31mConsider making the size of the component smaller, as long as the  \u001b[0m\n",
       "\u001b[2;36m             \u001b[0m\u001b[31mmodes of interest decay by the plane boundaries.                   \u001b[0m\n"
      ]
     },
     "metadata": {},
     "output_type": "display_data"
    },
    {
     "data": {
      "text/html": [
       "<pre style=\"white-space:pre;overflow-x:auto;line-height:normal;font-family:Menlo,'DejaVu Sans Mono',consolas,'Courier New',monospace\"><span style=\"color: #7fbfbf; text-decoration-color: #7fbfbf\">             </span><span style=\"color: #800000; text-decoration-color: #800000\">WARNING: Mode monitor </span><span style=\"color: #008000; text-decoration-color: #008000\">'mode_fiber'</span><span style=\"color: #800000; text-decoration-color: #800000\"> has a large number </span><span style=\"color: #800000; text-decoration-color: #800000; font-weight: bold\">(</span><span style=\"color: #008080; text-decoration-color: #008080; font-weight: bold\">1.32e+05</span><span style=\"color: #800000; text-decoration-color: #800000; font-weight: bold\">)</span><span style=\"color: #800000; text-decoration-color: #800000\"> of</span>\n",
       "<span style=\"color: #7fbfbf; text-decoration-color: #7fbfbf\">             </span><span style=\"color: #800000; text-decoration-color: #800000\">grid points. This can lead to solver slow-down and increased cost. </span>\n",
       "<span style=\"color: #7fbfbf; text-decoration-color: #7fbfbf\">             </span><span style=\"color: #800000; text-decoration-color: #800000\">Consider making the size of the component smaller, as long as the  </span>\n",
       "<span style=\"color: #7fbfbf; text-decoration-color: #7fbfbf\">             </span><span style=\"color: #800000; text-decoration-color: #800000\">modes of interest decay by the plane boundaries.                   </span>\n",
       "</pre>\n"
      ],
      "text/plain": [
       "\u001b[2;36m            \u001b[0m\u001b[2;36m \u001b[0m\u001b[31mWARNING: Mode monitor \u001b[0m\u001b[32m'mode_fiber'\u001b[0m\u001b[31m has a large number \u001b[0m\u001b[1;31m(\u001b[0m\u001b[1;36m1.32e+05\u001b[0m\u001b[1;31m)\u001b[0m\u001b[31m of\u001b[0m\n",
       "\u001b[2;36m             \u001b[0m\u001b[31mgrid points. This can lead to solver slow-down and increased cost. \u001b[0m\n",
       "\u001b[2;36m             \u001b[0m\u001b[31mConsider making the size of the component smaller, as long as the  \u001b[0m\n",
       "\u001b[2;36m             \u001b[0m\u001b[31mmodes of interest decay by the plane boundaries.                   \u001b[0m\n"
      ]
     },
     "metadata": {},
     "output_type": "display_data"
    },
    {
     "data": {
      "text/html": [
       "<pre style=\"white-space:pre;overflow-x:auto;line-height:normal;font-family:Menlo,'DejaVu Sans Mono',consolas,'Courier New',monospace\"><span style=\"color: #7fbfbf; text-decoration-color: #7fbfbf\">             </span><span style=\"color: #800000; text-decoration-color: #800000\">WARNING: Mode monitor </span><span style=\"color: #008000; text-decoration-color: #008000\">'mode_fiber'</span><span style=\"color: #800000; text-decoration-color: #800000\"> has a large number </span><span style=\"color: #800000; text-decoration-color: #800000; font-weight: bold\">(</span><span style=\"color: #008080; text-decoration-color: #008080; font-weight: bold\">4.02e+05</span><span style=\"color: #800000; text-decoration-color: #800000; font-weight: bold\">)</span><span style=\"color: #800000; text-decoration-color: #800000\"> of</span>\n",
       "<span style=\"color: #7fbfbf; text-decoration-color: #7fbfbf\">             </span><span style=\"color: #800000; text-decoration-color: #800000\">grid points. This can lead to solver slow-down and increased cost. </span>\n",
       "<span style=\"color: #7fbfbf; text-decoration-color: #7fbfbf\">             </span><span style=\"color: #800000; text-decoration-color: #800000\">Consider making the size of the component smaller, as long as the  </span>\n",
       "<span style=\"color: #7fbfbf; text-decoration-color: #7fbfbf\">             </span><span style=\"color: #800000; text-decoration-color: #800000\">modes of interest decay by the plane boundaries.                   </span>\n",
       "</pre>\n"
      ],
      "text/plain": [
       "\u001b[2;36m            \u001b[0m\u001b[2;36m \u001b[0m\u001b[31mWARNING: Mode monitor \u001b[0m\u001b[32m'mode_fiber'\u001b[0m\u001b[31m has a large number \u001b[0m\u001b[1;31m(\u001b[0m\u001b[1;36m4.02e+05\u001b[0m\u001b[1;31m)\u001b[0m\u001b[31m of\u001b[0m\n",
       "\u001b[2;36m             \u001b[0m\u001b[31mgrid points. This can lead to solver slow-down and increased cost. \u001b[0m\n",
       "\u001b[2;36m             \u001b[0m\u001b[31mConsider making the size of the component smaller, as long as the  \u001b[0m\n",
       "\u001b[2;36m             \u001b[0m\u001b[31mmodes of interest decay by the plane boundaries.                   \u001b[0m\n"
      ]
     },
     "metadata": {},
     "output_type": "display_data"
    },
    {
     "data": {
      "text/html": [
       "<pre style=\"white-space:pre;overflow-x:auto;line-height:normal;font-family:Menlo,'DejaVu Sans Mono',consolas,'Courier New',monospace\"><span style=\"color: #7fbfbf; text-decoration-color: #7fbfbf\">             </span><span style=\"color: #800000; text-decoration-color: #800000\">WARNING: Mode monitor </span><span style=\"color: #008000; text-decoration-color: #008000\">'mode_fiber'</span><span style=\"color: #800000; text-decoration-color: #800000\"> has a large number </span><span style=\"color: #800000; text-decoration-color: #800000; font-weight: bold\">(</span><span style=\"color: #008080; text-decoration-color: #008080; font-weight: bold\">2.44e+05</span><span style=\"color: #800000; text-decoration-color: #800000; font-weight: bold\">)</span><span style=\"color: #800000; text-decoration-color: #800000\"> of</span>\n",
       "<span style=\"color: #7fbfbf; text-decoration-color: #7fbfbf\">             </span><span style=\"color: #800000; text-decoration-color: #800000\">grid points. This can lead to solver slow-down and increased cost. </span>\n",
       "<span style=\"color: #7fbfbf; text-decoration-color: #7fbfbf\">             </span><span style=\"color: #800000; text-decoration-color: #800000\">Consider making the size of the component smaller, as long as the  </span>\n",
       "<span style=\"color: #7fbfbf; text-decoration-color: #7fbfbf\">             </span><span style=\"color: #800000; text-decoration-color: #800000\">modes of interest decay by the plane boundaries.                   </span>\n",
       "</pre>\n"
      ],
      "text/plain": [
       "\u001b[2;36m            \u001b[0m\u001b[2;36m \u001b[0m\u001b[31mWARNING: Mode monitor \u001b[0m\u001b[32m'mode_fiber'\u001b[0m\u001b[31m has a large number \u001b[0m\u001b[1;31m(\u001b[0m\u001b[1;36m2.44e+05\u001b[0m\u001b[1;31m)\u001b[0m\u001b[31m of\u001b[0m\n",
       "\u001b[2;36m             \u001b[0m\u001b[31mgrid points. This can lead to solver slow-down and increased cost. \u001b[0m\n",
       "\u001b[2;36m             \u001b[0m\u001b[31mConsider making the size of the component smaller, as long as the  \u001b[0m\n",
       "\u001b[2;36m             \u001b[0m\u001b[31mmodes of interest decay by the plane boundaries.                   \u001b[0m\n"
      ]
     },
     "metadata": {},
     "output_type": "display_data"
    },
    {
     "data": {
      "text/html": [
       "<pre style=\"white-space:pre;overflow-x:auto;line-height:normal;font-family:Menlo,'DejaVu Sans Mono',consolas,'Courier New',monospace\"><span style=\"color: #7fbfbf; text-decoration-color: #7fbfbf\">             </span><span style=\"color: #800000; text-decoration-color: #800000\">WARNING: Mode monitor </span><span style=\"color: #008000; text-decoration-color: #008000\">'mode_fiber'</span><span style=\"color: #800000; text-decoration-color: #800000\"> has a large number </span><span style=\"color: #800000; text-decoration-color: #800000; font-weight: bold\">(</span><span style=\"color: #008080; text-decoration-color: #008080; font-weight: bold\">3.99e+05</span><span style=\"color: #800000; text-decoration-color: #800000; font-weight: bold\">)</span><span style=\"color: #800000; text-decoration-color: #800000\"> of</span>\n",
       "<span style=\"color: #7fbfbf; text-decoration-color: #7fbfbf\">             </span><span style=\"color: #800000; text-decoration-color: #800000\">grid points. This can lead to solver slow-down and increased cost. </span>\n",
       "<span style=\"color: #7fbfbf; text-decoration-color: #7fbfbf\">             </span><span style=\"color: #800000; text-decoration-color: #800000\">Consider making the size of the component smaller, as long as the  </span>\n",
       "<span style=\"color: #7fbfbf; text-decoration-color: #7fbfbf\">             </span><span style=\"color: #800000; text-decoration-color: #800000\">modes of interest decay by the plane boundaries.                   </span>\n",
       "</pre>\n"
      ],
      "text/plain": [
       "\u001b[2;36m            \u001b[0m\u001b[2;36m \u001b[0m\u001b[31mWARNING: Mode monitor \u001b[0m\u001b[32m'mode_fiber'\u001b[0m\u001b[31m has a large number \u001b[0m\u001b[1;31m(\u001b[0m\u001b[1;36m3.99e+05\u001b[0m\u001b[1;31m)\u001b[0m\u001b[31m of\u001b[0m\n",
       "\u001b[2;36m             \u001b[0m\u001b[31mgrid points. This can lead to solver slow-down and increased cost. \u001b[0m\n",
       "\u001b[2;36m             \u001b[0m\u001b[31mConsider making the size of the component smaller, as long as the  \u001b[0m\n",
       "\u001b[2;36m             \u001b[0m\u001b[31mmodes of interest decay by the plane boundaries.                   \u001b[0m\n"
      ]
     },
     "metadata": {},
     "output_type": "display_data"
    },
    {
     "data": {
      "text/html": [
       "<pre style=\"white-space:pre;overflow-x:auto;line-height:normal;font-family:Menlo,'DejaVu Sans Mono',consolas,'Courier New',monospace\"><span style=\"color: #7fbfbf; text-decoration-color: #7fbfbf\">             </span><span style=\"color: #800000; text-decoration-color: #800000\">WARNING: Mode monitor </span><span style=\"color: #008000; text-decoration-color: #008000\">'mode_fiber'</span><span style=\"color: #800000; text-decoration-color: #800000\"> has a large number </span><span style=\"color: #800000; text-decoration-color: #800000; font-weight: bold\">(</span><span style=\"color: #008080; text-decoration-color: #008080; font-weight: bold\">2.50e+05</span><span style=\"color: #800000; text-decoration-color: #800000; font-weight: bold\">)</span><span style=\"color: #800000; text-decoration-color: #800000\"> of</span>\n",
       "<span style=\"color: #7fbfbf; text-decoration-color: #7fbfbf\">             </span><span style=\"color: #800000; text-decoration-color: #800000\">grid points. This can lead to solver slow-down and increased cost. </span>\n",
       "<span style=\"color: #7fbfbf; text-decoration-color: #7fbfbf\">             </span><span style=\"color: #800000; text-decoration-color: #800000\">Consider making the size of the component smaller, as long as the  </span>\n",
       "<span style=\"color: #7fbfbf; text-decoration-color: #7fbfbf\">             </span><span style=\"color: #800000; text-decoration-color: #800000\">modes of interest decay by the plane boundaries.                   </span>\n",
       "</pre>\n"
      ],
      "text/plain": [
       "\u001b[2;36m            \u001b[0m\u001b[2;36m \u001b[0m\u001b[31mWARNING: Mode monitor \u001b[0m\u001b[32m'mode_fiber'\u001b[0m\u001b[31m has a large number \u001b[0m\u001b[1;31m(\u001b[0m\u001b[1;36m2.50e+05\u001b[0m\u001b[1;31m)\u001b[0m\u001b[31m of\u001b[0m\n",
       "\u001b[2;36m             \u001b[0m\u001b[31mgrid points. This can lead to solver slow-down and increased cost. \u001b[0m\n",
       "\u001b[2;36m             \u001b[0m\u001b[31mConsider making the size of the component smaller, as long as the  \u001b[0m\n",
       "\u001b[2;36m             \u001b[0m\u001b[31mmodes of interest decay by the plane boundaries.                   \u001b[0m\n"
      ]
     },
     "metadata": {},
     "output_type": "display_data"
    },
    {
     "data": {
      "text/html": [
       "<pre style=\"white-space:pre;overflow-x:auto;line-height:normal;font-family:Menlo,'DejaVu Sans Mono',consolas,'Courier New',monospace\"><span style=\"color: #7fbfbf; text-decoration-color: #7fbfbf\">             </span><span style=\"color: #800000; text-decoration-color: #800000\">WARNING: A structure has a nonzero dimension along axis z, which is</span>\n",
       "<span style=\"color: #7fbfbf; text-decoration-color: #7fbfbf\">             </span><span style=\"color: #800000; text-decoration-color: #800000\">however too small compared to the generated mesh step along that   </span>\n",
       "<span style=\"color: #7fbfbf; text-decoration-color: #7fbfbf\">             </span><span style=\"color: #800000; text-decoration-color: #800000\">direction. This could produce unpredictable results. We recommend  </span>\n",
       "<span style=\"color: #7fbfbf; text-decoration-color: #7fbfbf\">             </span><span style=\"color: #800000; text-decoration-color: #800000\">increasing the resolution, or adding a mesh override structure to  </span>\n",
       "<span style=\"color: #7fbfbf; text-decoration-color: #7fbfbf\">             </span><span style=\"color: #800000; text-decoration-color: #800000\">ensure that all geometries are at least one pixel thick along all  </span>\n",
       "<span style=\"color: #7fbfbf; text-decoration-color: #7fbfbf\">             </span><span style=\"color: #800000; text-decoration-color: #800000\">dimensions.                                                        </span>\n",
       "</pre>\n"
      ],
      "text/plain": [
       "\u001b[2;36m            \u001b[0m\u001b[2;36m \u001b[0m\u001b[31mWARNING: A structure has a nonzero dimension along axis z, which is\u001b[0m\n",
       "\u001b[2;36m             \u001b[0m\u001b[31mhowever too small compared to the generated mesh step along that   \u001b[0m\n",
       "\u001b[2;36m             \u001b[0m\u001b[31mdirection. This could produce unpredictable results. We recommend  \u001b[0m\n",
       "\u001b[2;36m             \u001b[0m\u001b[31mincreasing the resolution, or adding a mesh override structure to  \u001b[0m\n",
       "\u001b[2;36m             \u001b[0m\u001b[31mensure that all geometries are at least one pixel thick along all  \u001b[0m\n",
       "\u001b[2;36m             \u001b[0m\u001b[31mdimensions.                                                        \u001b[0m\n"
      ]
     },
     "metadata": {},
     "output_type": "display_data"
    },
    {
     "data": {
      "text/html": [
       "<pre style=\"white-space:pre;overflow-x:auto;line-height:normal;font-family:Menlo,'DejaVu Sans Mono',consolas,'Courier New',monospace\"><span style=\"color: #7fbfbf; text-decoration-color: #7fbfbf\">             </span><span style=\"color: #800000; text-decoration-color: #800000\">WARNING: Mode monitor </span><span style=\"color: #008000; text-decoration-color: #008000\">'mode_fiber'</span><span style=\"color: #800000; text-decoration-color: #800000\"> has a large number </span><span style=\"color: #800000; text-decoration-color: #800000; font-weight: bold\">(</span><span style=\"color: #008080; text-decoration-color: #008080; font-weight: bold\">2.19e+05</span><span style=\"color: #800000; text-decoration-color: #800000; font-weight: bold\">)</span><span style=\"color: #800000; text-decoration-color: #800000\"> of</span>\n",
       "<span style=\"color: #7fbfbf; text-decoration-color: #7fbfbf\">             </span><span style=\"color: #800000; text-decoration-color: #800000\">grid points. This can lead to solver slow-down and increased cost. </span>\n",
       "<span style=\"color: #7fbfbf; text-decoration-color: #7fbfbf\">             </span><span style=\"color: #800000; text-decoration-color: #800000\">Consider making the size of the component smaller, as long as the  </span>\n",
       "<span style=\"color: #7fbfbf; text-decoration-color: #7fbfbf\">             </span><span style=\"color: #800000; text-decoration-color: #800000\">modes of interest decay by the plane boundaries.                   </span>\n",
       "</pre>\n"
      ],
      "text/plain": [
       "\u001b[2;36m            \u001b[0m\u001b[2;36m \u001b[0m\u001b[31mWARNING: Mode monitor \u001b[0m\u001b[32m'mode_fiber'\u001b[0m\u001b[31m has a large number \u001b[0m\u001b[1;31m(\u001b[0m\u001b[1;36m2.19e+05\u001b[0m\u001b[1;31m)\u001b[0m\u001b[31m of\u001b[0m\n",
       "\u001b[2;36m             \u001b[0m\u001b[31mgrid points. This can lead to solver slow-down and increased cost. \u001b[0m\n",
       "\u001b[2;36m             \u001b[0m\u001b[31mConsider making the size of the component smaller, as long as the  \u001b[0m\n",
       "\u001b[2;36m             \u001b[0m\u001b[31mmodes of interest decay by the plane boundaries.                   \u001b[0m\n"
      ]
     },
     "metadata": {},
     "output_type": "display_data"
    },
    {
     "data": {
      "text/html": [
       "<pre style=\"white-space:pre;overflow-x:auto;line-height:normal;font-family:Menlo,'DejaVu Sans Mono',consolas,'Courier New',monospace\"><span style=\"color: #7fbfbf; text-decoration-color: #7fbfbf\">             </span><span style=\"color: #800000; text-decoration-color: #800000\">WARNING: Mode monitor </span><span style=\"color: #008000; text-decoration-color: #008000\">'mode_fiber'</span><span style=\"color: #800000; text-decoration-color: #800000\"> has a large number </span><span style=\"color: #800000; text-decoration-color: #800000; font-weight: bold\">(</span><span style=\"color: #008080; text-decoration-color: #008080; font-weight: bold\">1.24e+05</span><span style=\"color: #800000; text-decoration-color: #800000; font-weight: bold\">)</span><span style=\"color: #800000; text-decoration-color: #800000\"> of</span>\n",
       "<span style=\"color: #7fbfbf; text-decoration-color: #7fbfbf\">             </span><span style=\"color: #800000; text-decoration-color: #800000\">grid points. This can lead to solver slow-down and increased cost. </span>\n",
       "<span style=\"color: #7fbfbf; text-decoration-color: #7fbfbf\">             </span><span style=\"color: #800000; text-decoration-color: #800000\">Consider making the size of the component smaller, as long as the  </span>\n",
       "<span style=\"color: #7fbfbf; text-decoration-color: #7fbfbf\">             </span><span style=\"color: #800000; text-decoration-color: #800000\">modes of interest decay by the plane boundaries.                   </span>\n",
       "</pre>\n"
      ],
      "text/plain": [
       "\u001b[2;36m            \u001b[0m\u001b[2;36m \u001b[0m\u001b[31mWARNING: Mode monitor \u001b[0m\u001b[32m'mode_fiber'\u001b[0m\u001b[31m has a large number \u001b[0m\u001b[1;31m(\u001b[0m\u001b[1;36m1.24e+05\u001b[0m\u001b[1;31m)\u001b[0m\u001b[31m of\u001b[0m\n",
       "\u001b[2;36m             \u001b[0m\u001b[31mgrid points. This can lead to solver slow-down and increased cost. \u001b[0m\n",
       "\u001b[2;36m             \u001b[0m\u001b[31mConsider making the size of the component smaller, as long as the  \u001b[0m\n",
       "\u001b[2;36m             \u001b[0m\u001b[31mmodes of interest decay by the plane boundaries.                   \u001b[0m\n"
      ]
     },
     "metadata": {},
     "output_type": "display_data"
    },
    {
     "data": {
      "text/html": [
       "<pre style=\"white-space:pre;overflow-x:auto;line-height:normal;font-family:Menlo,'DejaVu Sans Mono',consolas,'Courier New',monospace\"><span style=\"color: #7fbfbf; text-decoration-color: #7fbfbf\">12:12:34 BST </span><span style=\"color: #800000; text-decoration-color: #800000\">WARNING: A structure has a nonzero dimension along axis z, which is</span>\n",
       "<span style=\"color: #7fbfbf; text-decoration-color: #7fbfbf\">             </span><span style=\"color: #800000; text-decoration-color: #800000\">however too small compared to the generated mesh step along that   </span>\n",
       "<span style=\"color: #7fbfbf; text-decoration-color: #7fbfbf\">             </span><span style=\"color: #800000; text-decoration-color: #800000\">direction. This could produce unpredictable results. We recommend  </span>\n",
       "<span style=\"color: #7fbfbf; text-decoration-color: #7fbfbf\">             </span><span style=\"color: #800000; text-decoration-color: #800000\">increasing the resolution, or adding a mesh override structure to  </span>\n",
       "<span style=\"color: #7fbfbf; text-decoration-color: #7fbfbf\">             </span><span style=\"color: #800000; text-decoration-color: #800000\">ensure that all geometries are at least one pixel thick along all  </span>\n",
       "<span style=\"color: #7fbfbf; text-decoration-color: #7fbfbf\">             </span><span style=\"color: #800000; text-decoration-color: #800000\">dimensions.                                                        </span>\n",
       "</pre>\n"
      ],
      "text/plain": [
       "\u001b[2;36m12:12:34 BST\u001b[0m\u001b[2;36m \u001b[0m\u001b[31mWARNING: A structure has a nonzero dimension along axis z, which is\u001b[0m\n",
       "\u001b[2;36m             \u001b[0m\u001b[31mhowever too small compared to the generated mesh step along that   \u001b[0m\n",
       "\u001b[2;36m             \u001b[0m\u001b[31mdirection. This could produce unpredictable results. We recommend  \u001b[0m\n",
       "\u001b[2;36m             \u001b[0m\u001b[31mincreasing the resolution, or adding a mesh override structure to  \u001b[0m\n",
       "\u001b[2;36m             \u001b[0m\u001b[31mensure that all geometries are at least one pixel thick along all  \u001b[0m\n",
       "\u001b[2;36m             \u001b[0m\u001b[31mdimensions.                                                        \u001b[0m\n"
      ]
     },
     "metadata": {},
     "output_type": "display_data"
    },
    {
     "data": {
      "text/html": [
       "<pre style=\"white-space:pre;overflow-x:auto;line-height:normal;font-family:Menlo,'DejaVu Sans Mono',consolas,'Courier New',monospace\"><span style=\"color: #7fbfbf; text-decoration-color: #7fbfbf\">             </span><span style=\"color: #800000; text-decoration-color: #800000\">WARNING: Mode monitor </span><span style=\"color: #008000; text-decoration-color: #008000\">'mode_fiber'</span><span style=\"color: #800000; text-decoration-color: #800000\"> has a large number </span><span style=\"color: #800000; text-decoration-color: #800000; font-weight: bold\">(</span><span style=\"color: #008080; text-decoration-color: #008080; font-weight: bold\">1.49e+05</span><span style=\"color: #800000; text-decoration-color: #800000; font-weight: bold\">)</span><span style=\"color: #800000; text-decoration-color: #800000\"> of</span>\n",
       "<span style=\"color: #7fbfbf; text-decoration-color: #7fbfbf\">             </span><span style=\"color: #800000; text-decoration-color: #800000\">grid points. This can lead to solver slow-down and increased cost. </span>\n",
       "<span style=\"color: #7fbfbf; text-decoration-color: #7fbfbf\">             </span><span style=\"color: #800000; text-decoration-color: #800000\">Consider making the size of the component smaller, as long as the  </span>\n",
       "<span style=\"color: #7fbfbf; text-decoration-color: #7fbfbf\">             </span><span style=\"color: #800000; text-decoration-color: #800000\">modes of interest decay by the plane boundaries.                   </span>\n",
       "</pre>\n"
      ],
      "text/plain": [
       "\u001b[2;36m            \u001b[0m\u001b[2;36m \u001b[0m\u001b[31mWARNING: Mode monitor \u001b[0m\u001b[32m'mode_fiber'\u001b[0m\u001b[31m has a large number \u001b[0m\u001b[1;31m(\u001b[0m\u001b[1;36m1.49e+05\u001b[0m\u001b[1;31m)\u001b[0m\u001b[31m of\u001b[0m\n",
       "\u001b[2;36m             \u001b[0m\u001b[31mgrid points. This can lead to solver slow-down and increased cost. \u001b[0m\n",
       "\u001b[2;36m             \u001b[0m\u001b[31mConsider making the size of the component smaller, as long as the  \u001b[0m\n",
       "\u001b[2;36m             \u001b[0m\u001b[31mmodes of interest decay by the plane boundaries.                   \u001b[0m\n"
      ]
     },
     "metadata": {},
     "output_type": "display_data"
    },
    {
     "data": {
      "text/html": [
       "<pre style=\"white-space:pre;overflow-x:auto;line-height:normal;font-family:Menlo,'DejaVu Sans Mono',consolas,'Courier New',monospace\"><span style=\"color: #7fbfbf; text-decoration-color: #7fbfbf\">             </span><span style=\"color: #800000; text-decoration-color: #800000\">WARNING: Mode monitor </span><span style=\"color: #008000; text-decoration-color: #008000\">'mode_fiber'</span><span style=\"color: #800000; text-decoration-color: #800000\"> has a large number </span><span style=\"color: #800000; text-decoration-color: #800000; font-weight: bold\">(</span><span style=\"color: #008080; text-decoration-color: #008080; font-weight: bold\">1.80e+05</span><span style=\"color: #800000; text-decoration-color: #800000; font-weight: bold\">)</span><span style=\"color: #800000; text-decoration-color: #800000\"> of</span>\n",
       "<span style=\"color: #7fbfbf; text-decoration-color: #7fbfbf\">             </span><span style=\"color: #800000; text-decoration-color: #800000\">grid points. This can lead to solver slow-down and increased cost. </span>\n",
       "<span style=\"color: #7fbfbf; text-decoration-color: #7fbfbf\">             </span><span style=\"color: #800000; text-decoration-color: #800000\">Consider making the size of the component smaller, as long as the  </span>\n",
       "<span style=\"color: #7fbfbf; text-decoration-color: #7fbfbf\">             </span><span style=\"color: #800000; text-decoration-color: #800000\">modes of interest decay by the plane boundaries.                   </span>\n",
       "</pre>\n"
      ],
      "text/plain": [
       "\u001b[2;36m            \u001b[0m\u001b[2;36m \u001b[0m\u001b[31mWARNING: Mode monitor \u001b[0m\u001b[32m'mode_fiber'\u001b[0m\u001b[31m has a large number \u001b[0m\u001b[1;31m(\u001b[0m\u001b[1;36m1.80e+05\u001b[0m\u001b[1;31m)\u001b[0m\u001b[31m of\u001b[0m\n",
       "\u001b[2;36m             \u001b[0m\u001b[31mgrid points. This can lead to solver slow-down and increased cost. \u001b[0m\n",
       "\u001b[2;36m             \u001b[0m\u001b[31mConsider making the size of the component smaller, as long as the  \u001b[0m\n",
       "\u001b[2;36m             \u001b[0m\u001b[31mmodes of interest decay by the plane boundaries.                   \u001b[0m\n"
      ]
     },
     "metadata": {},
     "output_type": "display_data"
    },
    {
     "data": {
      "text/html": [
       "<pre style=\"white-space:pre;overflow-x:auto;line-height:normal;font-family:Menlo,'DejaVu Sans Mono',consolas,'Courier New',monospace\"><span style=\"color: #7fbfbf; text-decoration-color: #7fbfbf\">12:12:35 BST </span><span style=\"color: #800000; text-decoration-color: #800000\">WARNING: Suppressed </span><span style=\"color: #008080; text-decoration-color: #008080; font-weight: bold\">1</span><span style=\"color: #800000; text-decoration-color: #800000\"> WARNING message.                             </span>\n",
       "</pre>\n"
      ],
      "text/plain": [
       "\u001b[2;36m12:12:35 BST\u001b[0m\u001b[2;36m \u001b[0m\u001b[31mWARNING: Suppressed \u001b[0m\u001b[1;36m1\u001b[0m\u001b[31m WARNING message.                             \u001b[0m\n"
      ]
     },
     "metadata": {},
     "output_type": "display_data"
    },
    {
     "data": {
      "text/html": [
       "<pre style=\"white-space:pre;overflow-x:auto;line-height:normal;font-family:Menlo,'DejaVu Sans Mono',consolas,'Courier New',monospace\"><span style=\"color: #7fbfbf; text-decoration-color: #7fbfbf\">             </span><span style=\"color: #800000; text-decoration-color: #800000\">WARNING: Mode monitor </span><span style=\"color: #008000; text-decoration-color: #008000\">'mode_fiber'</span><span style=\"color: #800000; text-decoration-color: #800000\"> has a large number </span><span style=\"color: #800000; text-decoration-color: #800000; font-weight: bold\">(</span><span style=\"color: #008080; text-decoration-color: #008080; font-weight: bold\">3.72e+05</span><span style=\"color: #800000; text-decoration-color: #800000; font-weight: bold\">)</span><span style=\"color: #800000; text-decoration-color: #800000\"> of</span>\n",
       "<span style=\"color: #7fbfbf; text-decoration-color: #7fbfbf\">             </span><span style=\"color: #800000; text-decoration-color: #800000\">grid points. This can lead to solver slow-down and increased cost. </span>\n",
       "<span style=\"color: #7fbfbf; text-decoration-color: #7fbfbf\">             </span><span style=\"color: #800000; text-decoration-color: #800000\">Consider making the size of the component smaller, as long as the  </span>\n",
       "<span style=\"color: #7fbfbf; text-decoration-color: #7fbfbf\">             </span><span style=\"color: #800000; text-decoration-color: #800000\">modes of interest decay by the plane boundaries.                   </span>\n",
       "</pre>\n"
      ],
      "text/plain": [
       "\u001b[2;36m            \u001b[0m\u001b[2;36m \u001b[0m\u001b[31mWARNING: Mode monitor \u001b[0m\u001b[32m'mode_fiber'\u001b[0m\u001b[31m has a large number \u001b[0m\u001b[1;31m(\u001b[0m\u001b[1;36m3.72e+05\u001b[0m\u001b[1;31m)\u001b[0m\u001b[31m of\u001b[0m\n",
       "\u001b[2;36m             \u001b[0m\u001b[31mgrid points. This can lead to solver slow-down and increased cost. \u001b[0m\n",
       "\u001b[2;36m             \u001b[0m\u001b[31mConsider making the size of the component smaller, as long as the  \u001b[0m\n",
       "\u001b[2;36m             \u001b[0m\u001b[31mmodes of interest decay by the plane boundaries.                   \u001b[0m\n"
      ]
     },
     "metadata": {},
     "output_type": "display_data"
    },
    {
     "data": {
      "text/html": [
       "<pre style=\"white-space:pre;overflow-x:auto;line-height:normal;font-family:Menlo,'DejaVu Sans Mono',consolas,'Courier New',monospace\"><span style=\"color: #7fbfbf; text-decoration-color: #7fbfbf\">             </span><span style=\"color: #800000; text-decoration-color: #800000\">WARNING: Mode monitor </span><span style=\"color: #008000; text-decoration-color: #008000\">'mode_fiber'</span><span style=\"color: #800000; text-decoration-color: #800000\"> has a large number </span><span style=\"color: #800000; text-decoration-color: #800000; font-weight: bold\">(</span><span style=\"color: #008080; text-decoration-color: #008080; font-weight: bold\">2.83e+05</span><span style=\"color: #800000; text-decoration-color: #800000; font-weight: bold\">)</span><span style=\"color: #800000; text-decoration-color: #800000\"> of</span>\n",
       "<span style=\"color: #7fbfbf; text-decoration-color: #7fbfbf\">             </span><span style=\"color: #800000; text-decoration-color: #800000\">grid points. This can lead to solver slow-down and increased cost. </span>\n",
       "<span style=\"color: #7fbfbf; text-decoration-color: #7fbfbf\">             </span><span style=\"color: #800000; text-decoration-color: #800000\">Consider making the size of the component smaller, as long as the  </span>\n",
       "<span style=\"color: #7fbfbf; text-decoration-color: #7fbfbf\">             </span><span style=\"color: #800000; text-decoration-color: #800000\">modes of interest decay by the plane boundaries.                   </span>\n",
       "</pre>\n"
      ],
      "text/plain": [
       "\u001b[2;36m            \u001b[0m\u001b[2;36m \u001b[0m\u001b[31mWARNING: Mode monitor \u001b[0m\u001b[32m'mode_fiber'\u001b[0m\u001b[31m has a large number \u001b[0m\u001b[1;31m(\u001b[0m\u001b[1;36m2.83e+05\u001b[0m\u001b[1;31m)\u001b[0m\u001b[31m of\u001b[0m\n",
       "\u001b[2;36m             \u001b[0m\u001b[31mgrid points. This can lead to solver slow-down and increased cost. \u001b[0m\n",
       "\u001b[2;36m             \u001b[0m\u001b[31mConsider making the size of the component smaller, as long as the  \u001b[0m\n",
       "\u001b[2;36m             \u001b[0m\u001b[31mmodes of interest decay by the plane boundaries.                   \u001b[0m\n"
      ]
     },
     "metadata": {},
     "output_type": "display_data"
    },
    {
     "data": {
      "text/html": [
       "<pre style=\"white-space:pre;overflow-x:auto;line-height:normal;font-family:Menlo,'DejaVu Sans Mono',consolas,'Courier New',monospace\"><span style=\"color: #7fbfbf; text-decoration-color: #7fbfbf\">             </span><span style=\"color: #800000; text-decoration-color: #800000\">WARNING: Mode monitor </span><span style=\"color: #008000; text-decoration-color: #008000\">'mode_fiber'</span><span style=\"color: #800000; text-decoration-color: #800000\"> has a large number </span><span style=\"color: #800000; text-decoration-color: #800000; font-weight: bold\">(</span><span style=\"color: #008080; text-decoration-color: #008080; font-weight: bold\">2.36e+05</span><span style=\"color: #800000; text-decoration-color: #800000; font-weight: bold\">)</span><span style=\"color: #800000; text-decoration-color: #800000\"> of</span>\n",
       "<span style=\"color: #7fbfbf; text-decoration-color: #7fbfbf\">             </span><span style=\"color: #800000; text-decoration-color: #800000\">grid points. This can lead to solver slow-down and increased cost. </span>\n",
       "<span style=\"color: #7fbfbf; text-decoration-color: #7fbfbf\">             </span><span style=\"color: #800000; text-decoration-color: #800000\">Consider making the size of the component smaller, as long as the  </span>\n",
       "<span style=\"color: #7fbfbf; text-decoration-color: #7fbfbf\">             </span><span style=\"color: #800000; text-decoration-color: #800000\">modes of interest decay by the plane boundaries.                   </span>\n",
       "</pre>\n"
      ],
      "text/plain": [
       "\u001b[2;36m            \u001b[0m\u001b[2;36m \u001b[0m\u001b[31mWARNING: Mode monitor \u001b[0m\u001b[32m'mode_fiber'\u001b[0m\u001b[31m has a large number \u001b[0m\u001b[1;31m(\u001b[0m\u001b[1;36m2.36e+05\u001b[0m\u001b[1;31m)\u001b[0m\u001b[31m of\u001b[0m\n",
       "\u001b[2;36m             \u001b[0m\u001b[31mgrid points. This can lead to solver slow-down and increased cost. \u001b[0m\n",
       "\u001b[2;36m             \u001b[0m\u001b[31mConsider making the size of the component smaller, as long as the  \u001b[0m\n",
       "\u001b[2;36m             \u001b[0m\u001b[31mmodes of interest decay by the plane boundaries.                   \u001b[0m\n"
      ]
     },
     "metadata": {},
     "output_type": "display_data"
    },
    {
     "data": {
      "text/html": [
       "<pre style=\"white-space:pre;overflow-x:auto;line-height:normal;font-family:Menlo,'DejaVu Sans Mono',consolas,'Courier New',monospace\"><span style=\"color: #7fbfbf; text-decoration-color: #7fbfbf\">             </span><span style=\"color: #800000; text-decoration-color: #800000\">WARNING: Mode monitor </span><span style=\"color: #008000; text-decoration-color: #008000\">'mode_fiber'</span><span style=\"color: #800000; text-decoration-color: #800000\"> has a large number </span><span style=\"color: #800000; text-decoration-color: #800000; font-weight: bold\">(</span><span style=\"color: #008080; text-decoration-color: #008080; font-weight: bold\">1.62e+05</span><span style=\"color: #800000; text-decoration-color: #800000; font-weight: bold\">)</span><span style=\"color: #800000; text-decoration-color: #800000\"> of</span>\n",
       "<span style=\"color: #7fbfbf; text-decoration-color: #7fbfbf\">             </span><span style=\"color: #800000; text-decoration-color: #800000\">grid points. This can lead to solver slow-down and increased cost. </span>\n",
       "<span style=\"color: #7fbfbf; text-decoration-color: #7fbfbf\">             </span><span style=\"color: #800000; text-decoration-color: #800000\">Consider making the size of the component smaller, as long as the  </span>\n",
       "<span style=\"color: #7fbfbf; text-decoration-color: #7fbfbf\">             </span><span style=\"color: #800000; text-decoration-color: #800000\">modes of interest decay by the plane boundaries.                   </span>\n",
       "</pre>\n"
      ],
      "text/plain": [
       "\u001b[2;36m            \u001b[0m\u001b[2;36m \u001b[0m\u001b[31mWARNING: Mode monitor \u001b[0m\u001b[32m'mode_fiber'\u001b[0m\u001b[31m has a large number \u001b[0m\u001b[1;31m(\u001b[0m\u001b[1;36m1.62e+05\u001b[0m\u001b[1;31m)\u001b[0m\u001b[31m of\u001b[0m\n",
       "\u001b[2;36m             \u001b[0m\u001b[31mgrid points. This can lead to solver slow-down and increased cost. \u001b[0m\n",
       "\u001b[2;36m             \u001b[0m\u001b[31mConsider making the size of the component smaller, as long as the  \u001b[0m\n",
       "\u001b[2;36m             \u001b[0m\u001b[31mmodes of interest decay by the plane boundaries.                   \u001b[0m\n"
      ]
     },
     "metadata": {},
     "output_type": "display_data"
    },
    {
     "data": {
      "text/html": [
       "<pre style=\"white-space:pre;overflow-x:auto;line-height:normal;font-family:Menlo,'DejaVu Sans Mono',consolas,'Courier New',monospace\"><span style=\"color: #7fbfbf; text-decoration-color: #7fbfbf\">             </span><span style=\"color: #800000; text-decoration-color: #800000\">WARNING: Suppressed </span><span style=\"color: #008080; text-decoration-color: #008080; font-weight: bold\">1</span><span style=\"color: #800000; text-decoration-color: #800000\"> WARNING message.                             </span>\n",
       "</pre>\n"
      ],
      "text/plain": [
       "\u001b[2;36m            \u001b[0m\u001b[2;36m \u001b[0m\u001b[31mWARNING: Suppressed \u001b[0m\u001b[1;36m1\u001b[0m\u001b[31m WARNING message.                             \u001b[0m\n"
      ]
     },
     "metadata": {},
     "output_type": "display_data"
    },
    {
     "data": {
      "text/html": [
       "<pre style=\"white-space:pre;overflow-x:auto;line-height:normal;font-family:Menlo,'DejaVu Sans Mono',consolas,'Courier New',monospace\"><span style=\"color: #7fbfbf; text-decoration-color: #7fbfbf\">             </span><span style=\"color: #800000; text-decoration-color: #800000\">WARNING: Mode monitor </span><span style=\"color: #008000; text-decoration-color: #008000\">'mode_fiber'</span><span style=\"color: #800000; text-decoration-color: #800000\"> has a large number </span><span style=\"color: #800000; text-decoration-color: #800000; font-weight: bold\">(</span><span style=\"color: #008080; text-decoration-color: #008080; font-weight: bold\">3.65e+05</span><span style=\"color: #800000; text-decoration-color: #800000; font-weight: bold\">)</span><span style=\"color: #800000; text-decoration-color: #800000\"> of</span>\n",
       "<span style=\"color: #7fbfbf; text-decoration-color: #7fbfbf\">             </span><span style=\"color: #800000; text-decoration-color: #800000\">grid points. This can lead to solver slow-down and increased cost. </span>\n",
       "<span style=\"color: #7fbfbf; text-decoration-color: #7fbfbf\">             </span><span style=\"color: #800000; text-decoration-color: #800000\">Consider making the size of the component smaller, as long as the  </span>\n",
       "<span style=\"color: #7fbfbf; text-decoration-color: #7fbfbf\">             </span><span style=\"color: #800000; text-decoration-color: #800000\">modes of interest decay by the plane boundaries.                   </span>\n",
       "</pre>\n"
      ],
      "text/plain": [
       "\u001b[2;36m            \u001b[0m\u001b[2;36m \u001b[0m\u001b[31mWARNING: Mode monitor \u001b[0m\u001b[32m'mode_fiber'\u001b[0m\u001b[31m has a large number \u001b[0m\u001b[1;31m(\u001b[0m\u001b[1;36m3.65e+05\u001b[0m\u001b[1;31m)\u001b[0m\u001b[31m of\u001b[0m\n",
       "\u001b[2;36m             \u001b[0m\u001b[31mgrid points. This can lead to solver slow-down and increased cost. \u001b[0m\n",
       "\u001b[2;36m             \u001b[0m\u001b[31mConsider making the size of the component smaller, as long as the  \u001b[0m\n",
       "\u001b[2;36m             \u001b[0m\u001b[31mmodes of interest decay by the plane boundaries.                   \u001b[0m\n"
      ]
     },
     "metadata": {},
     "output_type": "display_data"
    },
    {
     "data": {
      "text/html": [
       "<pre style=\"white-space:pre;overflow-x:auto;line-height:normal;font-family:Menlo,'DejaVu Sans Mono',consolas,'Courier New',monospace\"><span style=\"color: #7fbfbf; text-decoration-color: #7fbfbf\">             </span><span style=\"color: #800000; text-decoration-color: #800000\">WARNING: Mode monitor </span><span style=\"color: #008000; text-decoration-color: #008000\">'mode_fiber'</span><span style=\"color: #800000; text-decoration-color: #800000\"> has a large number </span><span style=\"color: #800000; text-decoration-color: #800000; font-weight: bold\">(</span><span style=\"color: #008080; text-decoration-color: #008080; font-weight: bold\">4.54e+05</span><span style=\"color: #800000; text-decoration-color: #800000; font-weight: bold\">)</span><span style=\"color: #800000; text-decoration-color: #800000\"> of</span>\n",
       "<span style=\"color: #7fbfbf; text-decoration-color: #7fbfbf\">             </span><span style=\"color: #800000; text-decoration-color: #800000\">grid points. This can lead to solver slow-down and increased cost. </span>\n",
       "<span style=\"color: #7fbfbf; text-decoration-color: #7fbfbf\">             </span><span style=\"color: #800000; text-decoration-color: #800000\">Consider making the size of the component smaller, as long as the  </span>\n",
       "<span style=\"color: #7fbfbf; text-decoration-color: #7fbfbf\">             </span><span style=\"color: #800000; text-decoration-color: #800000\">modes of interest decay by the plane boundaries.                   </span>\n",
       "</pre>\n"
      ],
      "text/plain": [
       "\u001b[2;36m            \u001b[0m\u001b[2;36m \u001b[0m\u001b[31mWARNING: Mode monitor \u001b[0m\u001b[32m'mode_fiber'\u001b[0m\u001b[31m has a large number \u001b[0m\u001b[1;31m(\u001b[0m\u001b[1;36m4.54e+05\u001b[0m\u001b[1;31m)\u001b[0m\u001b[31m of\u001b[0m\n",
       "\u001b[2;36m             \u001b[0m\u001b[31mgrid points. This can lead to solver slow-down and increased cost. \u001b[0m\n",
       "\u001b[2;36m             \u001b[0m\u001b[31mConsider making the size of the component smaller, as long as the  \u001b[0m\n",
       "\u001b[2;36m             \u001b[0m\u001b[31mmodes of interest decay by the plane boundaries.                   \u001b[0m\n"
      ]
     },
     "metadata": {},
     "output_type": "display_data"
    },
    {
     "data": {
      "text/html": [
       "<pre style=\"white-space:pre;overflow-x:auto;line-height:normal;font-family:Menlo,'DejaVu Sans Mono',consolas,'Courier New',monospace\"><span style=\"color: #7fbfbf; text-decoration-color: #7fbfbf\">12:12:36 BST </span><span style=\"color: #800000; text-decoration-color: #800000\">WARNING: A structure has a nonzero dimension along axis z, which is</span>\n",
       "<span style=\"color: #7fbfbf; text-decoration-color: #7fbfbf\">             </span><span style=\"color: #800000; text-decoration-color: #800000\">however too small compared to the generated mesh step along that   </span>\n",
       "<span style=\"color: #7fbfbf; text-decoration-color: #7fbfbf\">             </span><span style=\"color: #800000; text-decoration-color: #800000\">direction. This could produce unpredictable results. We recommend  </span>\n",
       "<span style=\"color: #7fbfbf; text-decoration-color: #7fbfbf\">             </span><span style=\"color: #800000; text-decoration-color: #800000\">increasing the resolution, or adding a mesh override structure to  </span>\n",
       "<span style=\"color: #7fbfbf; text-decoration-color: #7fbfbf\">             </span><span style=\"color: #800000; text-decoration-color: #800000\">ensure that all geometries are at least one pixel thick along all  </span>\n",
       "<span style=\"color: #7fbfbf; text-decoration-color: #7fbfbf\">             </span><span style=\"color: #800000; text-decoration-color: #800000\">dimensions.                                                        </span>\n",
       "</pre>\n"
      ],
      "text/plain": [
       "\u001b[2;36m12:12:36 BST\u001b[0m\u001b[2;36m \u001b[0m\u001b[31mWARNING: A structure has a nonzero dimension along axis z, which is\u001b[0m\n",
       "\u001b[2;36m             \u001b[0m\u001b[31mhowever too small compared to the generated mesh step along that   \u001b[0m\n",
       "\u001b[2;36m             \u001b[0m\u001b[31mdirection. This could produce unpredictable results. We recommend  \u001b[0m\n",
       "\u001b[2;36m             \u001b[0m\u001b[31mincreasing the resolution, or adding a mesh override structure to  \u001b[0m\n",
       "\u001b[2;36m             \u001b[0m\u001b[31mensure that all geometries are at least one pixel thick along all  \u001b[0m\n",
       "\u001b[2;36m             \u001b[0m\u001b[31mdimensions.                                                        \u001b[0m\n"
      ]
     },
     "metadata": {},
     "output_type": "display_data"
    },
    {
     "data": {
      "text/html": [
       "<pre style=\"white-space:pre;overflow-x:auto;line-height:normal;font-family:Menlo,'DejaVu Sans Mono',consolas,'Courier New',monospace\"><span style=\"color: #7fbfbf; text-decoration-color: #7fbfbf\">             </span><span style=\"color: #800000; text-decoration-color: #800000\">WARNING: Mode monitor </span><span style=\"color: #008000; text-decoration-color: #008000\">'mode_fiber'</span><span style=\"color: #800000; text-decoration-color: #800000\"> has a large number </span><span style=\"color: #800000; text-decoration-color: #800000; font-weight: bold\">(</span><span style=\"color: #008080; text-decoration-color: #008080; font-weight: bold\">2.64e+05</span><span style=\"color: #800000; text-decoration-color: #800000; font-weight: bold\">)</span><span style=\"color: #800000; text-decoration-color: #800000\"> of</span>\n",
       "<span style=\"color: #7fbfbf; text-decoration-color: #7fbfbf\">             </span><span style=\"color: #800000; text-decoration-color: #800000\">grid points. This can lead to solver slow-down and increased cost. </span>\n",
       "<span style=\"color: #7fbfbf; text-decoration-color: #7fbfbf\">             </span><span style=\"color: #800000; text-decoration-color: #800000\">Consider making the size of the component smaller, as long as the  </span>\n",
       "<span style=\"color: #7fbfbf; text-decoration-color: #7fbfbf\">             </span><span style=\"color: #800000; text-decoration-color: #800000\">modes of interest decay by the plane boundaries.                   </span>\n",
       "</pre>\n"
      ],
      "text/plain": [
       "\u001b[2;36m            \u001b[0m\u001b[2;36m \u001b[0m\u001b[31mWARNING: Mode monitor \u001b[0m\u001b[32m'mode_fiber'\u001b[0m\u001b[31m has a large number \u001b[0m\u001b[1;31m(\u001b[0m\u001b[1;36m2.64e+05\u001b[0m\u001b[1;31m)\u001b[0m\u001b[31m of\u001b[0m\n",
       "\u001b[2;36m             \u001b[0m\u001b[31mgrid points. This can lead to solver slow-down and increased cost. \u001b[0m\n",
       "\u001b[2;36m             \u001b[0m\u001b[31mConsider making the size of the component smaller, as long as the  \u001b[0m\n",
       "\u001b[2;36m             \u001b[0m\u001b[31mmodes of interest decay by the plane boundaries.                   \u001b[0m\n"
      ]
     },
     "metadata": {},
     "output_type": "display_data"
    },
    {
     "data": {
      "text/html": [
       "<pre style=\"white-space:pre;overflow-x:auto;line-height:normal;font-family:Menlo,'DejaVu Sans Mono',consolas,'Courier New',monospace\"><span style=\"color: #7fbfbf; text-decoration-color: #7fbfbf\">             </span><span style=\"color: #800000; text-decoration-color: #800000\">WARNING: Mode monitor </span><span style=\"color: #008000; text-decoration-color: #008000\">'mode_fiber'</span><span style=\"color: #800000; text-decoration-color: #800000\"> has a large number </span><span style=\"color: #800000; text-decoration-color: #800000; font-weight: bold\">(</span><span style=\"color: #008080; text-decoration-color: #008080; font-weight: bold\">2.50e+05</span><span style=\"color: #800000; text-decoration-color: #800000; font-weight: bold\">)</span><span style=\"color: #800000; text-decoration-color: #800000\"> of</span>\n",
       "<span style=\"color: #7fbfbf; text-decoration-color: #7fbfbf\">             </span><span style=\"color: #800000; text-decoration-color: #800000\">grid points. This can lead to solver slow-down and increased cost. </span>\n",
       "<span style=\"color: #7fbfbf; text-decoration-color: #7fbfbf\">             </span><span style=\"color: #800000; text-decoration-color: #800000\">Consider making the size of the component smaller, as long as the  </span>\n",
       "<span style=\"color: #7fbfbf; text-decoration-color: #7fbfbf\">             </span><span style=\"color: #800000; text-decoration-color: #800000\">modes of interest decay by the plane boundaries.                   </span>\n",
       "</pre>\n"
      ],
      "text/plain": [
       "\u001b[2;36m            \u001b[0m\u001b[2;36m \u001b[0m\u001b[31mWARNING: Mode monitor \u001b[0m\u001b[32m'mode_fiber'\u001b[0m\u001b[31m has a large number \u001b[0m\u001b[1;31m(\u001b[0m\u001b[1;36m2.50e+05\u001b[0m\u001b[1;31m)\u001b[0m\u001b[31m of\u001b[0m\n",
       "\u001b[2;36m             \u001b[0m\u001b[31mgrid points. This can lead to solver slow-down and increased cost. \u001b[0m\n",
       "\u001b[2;36m             \u001b[0m\u001b[31mConsider making the size of the component smaller, as long as the  \u001b[0m\n",
       "\u001b[2;36m             \u001b[0m\u001b[31mmodes of interest decay by the plane boundaries.                   \u001b[0m\n"
      ]
     },
     "metadata": {},
     "output_type": "display_data"
    },
    {
     "data": {
      "text/html": [
       "<pre style=\"white-space:pre;overflow-x:auto;line-height:normal;font-family:Menlo,'DejaVu Sans Mono',consolas,'Courier New',monospace\"><span style=\"color: #7fbfbf; text-decoration-color: #7fbfbf\">             </span><span style=\"color: #800000; text-decoration-color: #800000\">WARNING: Mode monitor </span><span style=\"color: #008000; text-decoration-color: #008000\">'mode_fiber'</span><span style=\"color: #800000; text-decoration-color: #800000\"> has a large number </span><span style=\"color: #800000; text-decoration-color: #800000; font-weight: bold\">(</span><span style=\"color: #008080; text-decoration-color: #008080; font-weight: bold\">2.89e+05</span><span style=\"color: #800000; text-decoration-color: #800000; font-weight: bold\">)</span><span style=\"color: #800000; text-decoration-color: #800000\"> of</span>\n",
       "<span style=\"color: #7fbfbf; text-decoration-color: #7fbfbf\">             </span><span style=\"color: #800000; text-decoration-color: #800000\">grid points. This can lead to solver slow-down and increased cost. </span>\n",
       "<span style=\"color: #7fbfbf; text-decoration-color: #7fbfbf\">             </span><span style=\"color: #800000; text-decoration-color: #800000\">Consider making the size of the component smaller, as long as the  </span>\n",
       "<span style=\"color: #7fbfbf; text-decoration-color: #7fbfbf\">             </span><span style=\"color: #800000; text-decoration-color: #800000\">modes of interest decay by the plane boundaries.                   </span>\n",
       "</pre>\n"
      ],
      "text/plain": [
       "\u001b[2;36m            \u001b[0m\u001b[2;36m \u001b[0m\u001b[31mWARNING: Mode monitor \u001b[0m\u001b[32m'mode_fiber'\u001b[0m\u001b[31m has a large number \u001b[0m\u001b[1;31m(\u001b[0m\u001b[1;36m2.89e+05\u001b[0m\u001b[1;31m)\u001b[0m\u001b[31m of\u001b[0m\n",
       "\u001b[2;36m             \u001b[0m\u001b[31mgrid points. This can lead to solver slow-down and increased cost. \u001b[0m\n",
       "\u001b[2;36m             \u001b[0m\u001b[31mConsider making the size of the component smaller, as long as the  \u001b[0m\n",
       "\u001b[2;36m             \u001b[0m\u001b[31mmodes of interest decay by the plane boundaries.                   \u001b[0m\n"
      ]
     },
     "metadata": {},
     "output_type": "display_data"
    },
    {
     "data": {
      "text/html": [
       "<pre style=\"white-space:pre;overflow-x:auto;line-height:normal;font-family:Menlo,'DejaVu Sans Mono',consolas,'Courier New',monospace\"><span style=\"color: #7fbfbf; text-decoration-color: #7fbfbf\">             </span><span style=\"color: #800000; text-decoration-color: #800000\">WARNING: Mode monitor </span><span style=\"color: #008000; text-decoration-color: #008000\">'mode_fiber'</span><span style=\"color: #800000; text-decoration-color: #800000\"> has a large number </span><span style=\"color: #800000; text-decoration-color: #800000; font-weight: bold\">(</span><span style=\"color: #008080; text-decoration-color: #008080; font-weight: bold\">1.47e+05</span><span style=\"color: #800000; text-decoration-color: #800000; font-weight: bold\">)</span><span style=\"color: #800000; text-decoration-color: #800000\"> of</span>\n",
       "<span style=\"color: #7fbfbf; text-decoration-color: #7fbfbf\">             </span><span style=\"color: #800000; text-decoration-color: #800000\">grid points. This can lead to solver slow-down and increased cost. </span>\n",
       "<span style=\"color: #7fbfbf; text-decoration-color: #7fbfbf\">             </span><span style=\"color: #800000; text-decoration-color: #800000\">Consider making the size of the component smaller, as long as the  </span>\n",
       "<span style=\"color: #7fbfbf; text-decoration-color: #7fbfbf\">             </span><span style=\"color: #800000; text-decoration-color: #800000\">modes of interest decay by the plane boundaries.                   </span>\n",
       "</pre>\n"
      ],
      "text/plain": [
       "\u001b[2;36m            \u001b[0m\u001b[2;36m \u001b[0m\u001b[31mWARNING: Mode monitor \u001b[0m\u001b[32m'mode_fiber'\u001b[0m\u001b[31m has a large number \u001b[0m\u001b[1;31m(\u001b[0m\u001b[1;36m1.47e+05\u001b[0m\u001b[1;31m)\u001b[0m\u001b[31m of\u001b[0m\n",
       "\u001b[2;36m             \u001b[0m\u001b[31mgrid points. This can lead to solver slow-down and increased cost. \u001b[0m\n",
       "\u001b[2;36m             \u001b[0m\u001b[31mConsider making the size of the component smaller, as long as the  \u001b[0m\n",
       "\u001b[2;36m             \u001b[0m\u001b[31mmodes of interest decay by the plane boundaries.                   \u001b[0m\n"
      ]
     },
     "metadata": {},
     "output_type": "display_data"
    },
    {
     "data": {
      "text/html": [
       "<pre style=\"white-space:pre;overflow-x:auto;line-height:normal;font-family:Menlo,'DejaVu Sans Mono',consolas,'Courier New',monospace\"><span style=\"color: #7fbfbf; text-decoration-color: #7fbfbf\">             </span><span style=\"color: #800000; text-decoration-color: #800000\">WARNING: Mode monitor </span><span style=\"color: #008000; text-decoration-color: #008000\">'mode_fiber'</span><span style=\"color: #800000; text-decoration-color: #800000\"> has a large number </span><span style=\"color: #800000; text-decoration-color: #800000; font-weight: bold\">(</span><span style=\"color: #008080; text-decoration-color: #008080; font-weight: bold\">1.25e+05</span><span style=\"color: #800000; text-decoration-color: #800000; font-weight: bold\">)</span><span style=\"color: #800000; text-decoration-color: #800000\"> of</span>\n",
       "<span style=\"color: #7fbfbf; text-decoration-color: #7fbfbf\">             </span><span style=\"color: #800000; text-decoration-color: #800000\">grid points. This can lead to solver slow-down and increased cost. </span>\n",
       "<span style=\"color: #7fbfbf; text-decoration-color: #7fbfbf\">             </span><span style=\"color: #800000; text-decoration-color: #800000\">Consider making the size of the component smaller, as long as the  </span>\n",
       "<span style=\"color: #7fbfbf; text-decoration-color: #7fbfbf\">             </span><span style=\"color: #800000; text-decoration-color: #800000\">modes of interest decay by the plane boundaries.                   </span>\n",
       "</pre>\n"
      ],
      "text/plain": [
       "\u001b[2;36m            \u001b[0m\u001b[2;36m \u001b[0m\u001b[31mWARNING: Mode monitor \u001b[0m\u001b[32m'mode_fiber'\u001b[0m\u001b[31m has a large number \u001b[0m\u001b[1;31m(\u001b[0m\u001b[1;36m1.25e+05\u001b[0m\u001b[1;31m)\u001b[0m\u001b[31m of\u001b[0m\n",
       "\u001b[2;36m             \u001b[0m\u001b[31mgrid points. This can lead to solver slow-down and increased cost. \u001b[0m\n",
       "\u001b[2;36m             \u001b[0m\u001b[31mConsider making the size of the component smaller, as long as the  \u001b[0m\n",
       "\u001b[2;36m             \u001b[0m\u001b[31mmodes of interest decay by the plane boundaries.                   \u001b[0m\n"
      ]
     },
     "metadata": {},
     "output_type": "display_data"
    },
    {
     "data": {
      "text/html": [
       "<pre style=\"white-space:pre;overflow-x:auto;line-height:normal;font-family:Menlo,'DejaVu Sans Mono',consolas,'Courier New',monospace\"><span style=\"color: #7fbfbf; text-decoration-color: #7fbfbf\">             </span><span style=\"color: #800000; text-decoration-color: #800000\">WARNING: Mode monitor </span><span style=\"color: #008000; text-decoration-color: #008000\">'mode_fiber'</span><span style=\"color: #800000; text-decoration-color: #800000\"> has a large number </span><span style=\"color: #800000; text-decoration-color: #800000; font-weight: bold\">(</span><span style=\"color: #008080; text-decoration-color: #008080; font-weight: bold\">3.16e+05</span><span style=\"color: #800000; text-decoration-color: #800000; font-weight: bold\">)</span><span style=\"color: #800000; text-decoration-color: #800000\"> of</span>\n",
       "<span style=\"color: #7fbfbf; text-decoration-color: #7fbfbf\">             </span><span style=\"color: #800000; text-decoration-color: #800000\">grid points. This can lead to solver slow-down and increased cost. </span>\n",
       "<span style=\"color: #7fbfbf; text-decoration-color: #7fbfbf\">             </span><span style=\"color: #800000; text-decoration-color: #800000\">Consider making the size of the component smaller, as long as the  </span>\n",
       "<span style=\"color: #7fbfbf; text-decoration-color: #7fbfbf\">             </span><span style=\"color: #800000; text-decoration-color: #800000\">modes of interest decay by the plane boundaries.                   </span>\n",
       "</pre>\n"
      ],
      "text/plain": [
       "\u001b[2;36m            \u001b[0m\u001b[2;36m \u001b[0m\u001b[31mWARNING: Mode monitor \u001b[0m\u001b[32m'mode_fiber'\u001b[0m\u001b[31m has a large number \u001b[0m\u001b[1;31m(\u001b[0m\u001b[1;36m3.16e+05\u001b[0m\u001b[1;31m)\u001b[0m\u001b[31m of\u001b[0m\n",
       "\u001b[2;36m             \u001b[0m\u001b[31mgrid points. This can lead to solver slow-down and increased cost. \u001b[0m\n",
       "\u001b[2;36m             \u001b[0m\u001b[31mConsider making the size of the component smaller, as long as the  \u001b[0m\n",
       "\u001b[2;36m             \u001b[0m\u001b[31mmodes of interest decay by the plane boundaries.                   \u001b[0m\n"
      ]
     },
     "metadata": {},
     "output_type": "display_data"
    },
    {
     "data": {
      "text/html": [
       "<pre style=\"white-space:pre;overflow-x:auto;line-height:normal;font-family:Menlo,'DejaVu Sans Mono',consolas,'Courier New',monospace\"><span style=\"color: #7fbfbf; text-decoration-color: #7fbfbf\">             </span><span style=\"color: #800000; text-decoration-color: #800000\">WARNING: Mode monitor </span><span style=\"color: #008000; text-decoration-color: #008000\">'mode_fiber'</span><span style=\"color: #800000; text-decoration-color: #800000\"> has a large number </span><span style=\"color: #800000; text-decoration-color: #800000; font-weight: bold\">(</span><span style=\"color: #008080; text-decoration-color: #008080; font-weight: bold\">1.27e+05</span><span style=\"color: #800000; text-decoration-color: #800000; font-weight: bold\">)</span><span style=\"color: #800000; text-decoration-color: #800000\"> of</span>\n",
       "<span style=\"color: #7fbfbf; text-decoration-color: #7fbfbf\">             </span><span style=\"color: #800000; text-decoration-color: #800000\">grid points. This can lead to solver slow-down and increased cost. </span>\n",
       "<span style=\"color: #7fbfbf; text-decoration-color: #7fbfbf\">             </span><span style=\"color: #800000; text-decoration-color: #800000\">Consider making the size of the component smaller, as long as the  </span>\n",
       "<span style=\"color: #7fbfbf; text-decoration-color: #7fbfbf\">             </span><span style=\"color: #800000; text-decoration-color: #800000\">modes of interest decay by the plane boundaries.                   </span>\n",
       "</pre>\n"
      ],
      "text/plain": [
       "\u001b[2;36m            \u001b[0m\u001b[2;36m \u001b[0m\u001b[31mWARNING: Mode monitor \u001b[0m\u001b[32m'mode_fiber'\u001b[0m\u001b[31m has a large number \u001b[0m\u001b[1;31m(\u001b[0m\u001b[1;36m1.27e+05\u001b[0m\u001b[1;31m)\u001b[0m\u001b[31m of\u001b[0m\n",
       "\u001b[2;36m             \u001b[0m\u001b[31mgrid points. This can lead to solver slow-down and increased cost. \u001b[0m\n",
       "\u001b[2;36m             \u001b[0m\u001b[31mConsider making the size of the component smaller, as long as the  \u001b[0m\n",
       "\u001b[2;36m             \u001b[0m\u001b[31mmodes of interest decay by the plane boundaries.                   \u001b[0m\n"
      ]
     },
     "metadata": {},
     "output_type": "display_data"
    },
    {
     "data": {
      "text/html": [
       "<pre style=\"white-space:pre;overflow-x:auto;line-height:normal;font-family:Menlo,'DejaVu Sans Mono',consolas,'Courier New',monospace\"><span style=\"color: #7fbfbf; text-decoration-color: #7fbfbf\">             </span><span style=\"color: #800000; text-decoration-color: #800000\">WARNING: Suppressed </span><span style=\"color: #008080; text-decoration-color: #008080; font-weight: bold\">1</span><span style=\"color: #800000; text-decoration-color: #800000\"> WARNING message.                             </span>\n",
       "</pre>\n"
      ],
      "text/plain": [
       "\u001b[2;36m            \u001b[0m\u001b[2;36m \u001b[0m\u001b[31mWARNING: Suppressed \u001b[0m\u001b[1;36m1\u001b[0m\u001b[31m WARNING message.                             \u001b[0m\n"
      ]
     },
     "metadata": {},
     "output_type": "display_data"
    },
    {
     "data": {
      "text/html": [
       "<pre style=\"white-space:pre;overflow-x:auto;line-height:normal;font-family:Menlo,'DejaVu Sans Mono',consolas,'Courier New',monospace\"><span style=\"color: #7fbfbf; text-decoration-color: #7fbfbf\">             </span><span style=\"color: #800000; text-decoration-color: #800000\">WARNING: Mode monitor </span><span style=\"color: #008000; text-decoration-color: #008000\">'mode_fiber'</span><span style=\"color: #800000; text-decoration-color: #800000\"> has a large number </span><span style=\"color: #800000; text-decoration-color: #800000; font-weight: bold\">(</span><span style=\"color: #008080; text-decoration-color: #008080; font-weight: bold\">2.19e+05</span><span style=\"color: #800000; text-decoration-color: #800000; font-weight: bold\">)</span><span style=\"color: #800000; text-decoration-color: #800000\"> of</span>\n",
       "<span style=\"color: #7fbfbf; text-decoration-color: #7fbfbf\">             </span><span style=\"color: #800000; text-decoration-color: #800000\">grid points. This can lead to solver slow-down and increased cost. </span>\n",
       "<span style=\"color: #7fbfbf; text-decoration-color: #7fbfbf\">             </span><span style=\"color: #800000; text-decoration-color: #800000\">Consider making the size of the component smaller, as long as the  </span>\n",
       "<span style=\"color: #7fbfbf; text-decoration-color: #7fbfbf\">             </span><span style=\"color: #800000; text-decoration-color: #800000\">modes of interest decay by the plane boundaries.                   </span>\n",
       "</pre>\n"
      ],
      "text/plain": [
       "\u001b[2;36m            \u001b[0m\u001b[2;36m \u001b[0m\u001b[31mWARNING: Mode monitor \u001b[0m\u001b[32m'mode_fiber'\u001b[0m\u001b[31m has a large number \u001b[0m\u001b[1;31m(\u001b[0m\u001b[1;36m2.19e+05\u001b[0m\u001b[1;31m)\u001b[0m\u001b[31m of\u001b[0m\n",
       "\u001b[2;36m             \u001b[0m\u001b[31mgrid points. This can lead to solver slow-down and increased cost. \u001b[0m\n",
       "\u001b[2;36m             \u001b[0m\u001b[31mConsider making the size of the component smaller, as long as the  \u001b[0m\n",
       "\u001b[2;36m             \u001b[0m\u001b[31mmodes of interest decay by the plane boundaries.                   \u001b[0m\n"
      ]
     },
     "metadata": {},
     "output_type": "display_data"
    },
    {
     "data": {
      "text/html": [
       "<pre style=\"white-space:pre;overflow-x:auto;line-height:normal;font-family:Menlo,'DejaVu Sans Mono',consolas,'Courier New',monospace\"><span style=\"color: #7fbfbf; text-decoration-color: #7fbfbf\">12:12:37 BST </span><span style=\"color: #800000; text-decoration-color: #800000\">WARNING: Mode monitor </span><span style=\"color: #008000; text-decoration-color: #008000\">'mode_fiber'</span><span style=\"color: #800000; text-decoration-color: #800000\"> has a large number </span><span style=\"color: #800000; text-decoration-color: #800000; font-weight: bold\">(</span><span style=\"color: #008080; text-decoration-color: #008080; font-weight: bold\">3.77e+05</span><span style=\"color: #800000; text-decoration-color: #800000; font-weight: bold\">)</span><span style=\"color: #800000; text-decoration-color: #800000\"> of</span>\n",
       "<span style=\"color: #7fbfbf; text-decoration-color: #7fbfbf\">             </span><span style=\"color: #800000; text-decoration-color: #800000\">grid points. This can lead to solver slow-down and increased cost. </span>\n",
       "<span style=\"color: #7fbfbf; text-decoration-color: #7fbfbf\">             </span><span style=\"color: #800000; text-decoration-color: #800000\">Consider making the size of the component smaller, as long as the  </span>\n",
       "<span style=\"color: #7fbfbf; text-decoration-color: #7fbfbf\">             </span><span style=\"color: #800000; text-decoration-color: #800000\">modes of interest decay by the plane boundaries.                   </span>\n",
       "</pre>\n"
      ],
      "text/plain": [
       "\u001b[2;36m12:12:37 BST\u001b[0m\u001b[2;36m \u001b[0m\u001b[31mWARNING: Mode monitor \u001b[0m\u001b[32m'mode_fiber'\u001b[0m\u001b[31m has a large number \u001b[0m\u001b[1;31m(\u001b[0m\u001b[1;36m3.77e+05\u001b[0m\u001b[1;31m)\u001b[0m\u001b[31m of\u001b[0m\n",
       "\u001b[2;36m             \u001b[0m\u001b[31mgrid points. This can lead to solver slow-down and increased cost. \u001b[0m\n",
       "\u001b[2;36m             \u001b[0m\u001b[31mConsider making the size of the component smaller, as long as the  \u001b[0m\n",
       "\u001b[2;36m             \u001b[0m\u001b[31mmodes of interest decay by the plane boundaries.                   \u001b[0m\n"
      ]
     },
     "metadata": {},
     "output_type": "display_data"
    },
    {
     "data": {
      "text/html": [
       "<pre style=\"white-space:pre;overflow-x:auto;line-height:normal;font-family:Menlo,'DejaVu Sans Mono',consolas,'Courier New',monospace\"><span style=\"color: #7fbfbf; text-decoration-color: #7fbfbf\">             </span><span style=\"color: #800000; text-decoration-color: #800000\">WARNING: Mode monitor </span><span style=\"color: #008000; text-decoration-color: #008000\">'mode_fiber'</span><span style=\"color: #800000; text-decoration-color: #800000\"> has a large number </span><span style=\"color: #800000; text-decoration-color: #800000; font-weight: bold\">(</span><span style=\"color: #008080; text-decoration-color: #008080; font-weight: bold\">2.87e+05</span><span style=\"color: #800000; text-decoration-color: #800000; font-weight: bold\">)</span><span style=\"color: #800000; text-decoration-color: #800000\"> of</span>\n",
       "<span style=\"color: #7fbfbf; text-decoration-color: #7fbfbf\">             </span><span style=\"color: #800000; text-decoration-color: #800000\">grid points. This can lead to solver slow-down and increased cost. </span>\n",
       "<span style=\"color: #7fbfbf; text-decoration-color: #7fbfbf\">             </span><span style=\"color: #800000; text-decoration-color: #800000\">Consider making the size of the component smaller, as long as the  </span>\n",
       "<span style=\"color: #7fbfbf; text-decoration-color: #7fbfbf\">             </span><span style=\"color: #800000; text-decoration-color: #800000\">modes of interest decay by the plane boundaries.                   </span>\n",
       "</pre>\n"
      ],
      "text/plain": [
       "\u001b[2;36m            \u001b[0m\u001b[2;36m \u001b[0m\u001b[31mWARNING: Mode monitor \u001b[0m\u001b[32m'mode_fiber'\u001b[0m\u001b[31m has a large number \u001b[0m\u001b[1;31m(\u001b[0m\u001b[1;36m2.87e+05\u001b[0m\u001b[1;31m)\u001b[0m\u001b[31m of\u001b[0m\n",
       "\u001b[2;36m             \u001b[0m\u001b[31mgrid points. This can lead to solver slow-down and increased cost. \u001b[0m\n",
       "\u001b[2;36m             \u001b[0m\u001b[31mConsider making the size of the component smaller, as long as the  \u001b[0m\n",
       "\u001b[2;36m             \u001b[0m\u001b[31mmodes of interest decay by the plane boundaries.                   \u001b[0m\n"
      ]
     },
     "metadata": {},
     "output_type": "display_data"
    },
    {
     "data": {
      "text/html": [
       "<pre style=\"white-space:pre;overflow-x:auto;line-height:normal;font-family:Menlo,'DejaVu Sans Mono',consolas,'Courier New',monospace\"><span style=\"color: #7fbfbf; text-decoration-color: #7fbfbf\">12:12:38 BST </span><span style=\"color: #800000; text-decoration-color: #800000\">WARNING: Mode monitor </span><span style=\"color: #008000; text-decoration-color: #008000\">'mode_fiber'</span><span style=\"color: #800000; text-decoration-color: #800000\"> has a large number </span><span style=\"color: #800000; text-decoration-color: #800000; font-weight: bold\">(</span><span style=\"color: #008080; text-decoration-color: #008080; font-weight: bold\">3.53e+05</span><span style=\"color: #800000; text-decoration-color: #800000; font-weight: bold\">)</span><span style=\"color: #800000; text-decoration-color: #800000\"> of</span>\n",
       "<span style=\"color: #7fbfbf; text-decoration-color: #7fbfbf\">             </span><span style=\"color: #800000; text-decoration-color: #800000\">grid points. This can lead to solver slow-down and increased cost. </span>\n",
       "<span style=\"color: #7fbfbf; text-decoration-color: #7fbfbf\">             </span><span style=\"color: #800000; text-decoration-color: #800000\">Consider making the size of the component smaller, as long as the  </span>\n",
       "<span style=\"color: #7fbfbf; text-decoration-color: #7fbfbf\">             </span><span style=\"color: #800000; text-decoration-color: #800000\">modes of interest decay by the plane boundaries.                   </span>\n",
       "</pre>\n"
      ],
      "text/plain": [
       "\u001b[2;36m12:12:38 BST\u001b[0m\u001b[2;36m \u001b[0m\u001b[31mWARNING: Mode monitor \u001b[0m\u001b[32m'mode_fiber'\u001b[0m\u001b[31m has a large number \u001b[0m\u001b[1;31m(\u001b[0m\u001b[1;36m3.53e+05\u001b[0m\u001b[1;31m)\u001b[0m\u001b[31m of\u001b[0m\n",
       "\u001b[2;36m             \u001b[0m\u001b[31mgrid points. This can lead to solver slow-down and increased cost. \u001b[0m\n",
       "\u001b[2;36m             \u001b[0m\u001b[31mConsider making the size of the component smaller, as long as the  \u001b[0m\n",
       "\u001b[2;36m             \u001b[0m\u001b[31mmodes of interest decay by the plane boundaries.                   \u001b[0m\n"
      ]
     },
     "metadata": {},
     "output_type": "display_data"
    },
    {
     "data": {
      "text/html": [
       "<pre style=\"white-space:pre;overflow-x:auto;line-height:normal;font-family:Menlo,'DejaVu Sans Mono',consolas,'Courier New',monospace\"><span style=\"color: #7fbfbf; text-decoration-color: #7fbfbf\">             </span><span style=\"color: #800000; text-decoration-color: #800000\">WARNING: A structure has a nonzero dimension along axis z, which is</span>\n",
       "<span style=\"color: #7fbfbf; text-decoration-color: #7fbfbf\">             </span><span style=\"color: #800000; text-decoration-color: #800000\">however too small compared to the generated mesh step along that   </span>\n",
       "<span style=\"color: #7fbfbf; text-decoration-color: #7fbfbf\">             </span><span style=\"color: #800000; text-decoration-color: #800000\">direction. This could produce unpredictable results. We recommend  </span>\n",
       "<span style=\"color: #7fbfbf; text-decoration-color: #7fbfbf\">             </span><span style=\"color: #800000; text-decoration-color: #800000\">increasing the resolution, or adding a mesh override structure to  </span>\n",
       "<span style=\"color: #7fbfbf; text-decoration-color: #7fbfbf\">             </span><span style=\"color: #800000; text-decoration-color: #800000\">ensure that all geometries are at least one pixel thick along all  </span>\n",
       "<span style=\"color: #7fbfbf; text-decoration-color: #7fbfbf\">             </span><span style=\"color: #800000; text-decoration-color: #800000\">dimensions.                                                        </span>\n",
       "</pre>\n"
      ],
      "text/plain": [
       "\u001b[2;36m            \u001b[0m\u001b[2;36m \u001b[0m\u001b[31mWARNING: A structure has a nonzero dimension along axis z, which is\u001b[0m\n",
       "\u001b[2;36m             \u001b[0m\u001b[31mhowever too small compared to the generated mesh step along that   \u001b[0m\n",
       "\u001b[2;36m             \u001b[0m\u001b[31mdirection. This could produce unpredictable results. We recommend  \u001b[0m\n",
       "\u001b[2;36m             \u001b[0m\u001b[31mincreasing the resolution, or adding a mesh override structure to  \u001b[0m\n",
       "\u001b[2;36m             \u001b[0m\u001b[31mensure that all geometries are at least one pixel thick along all  \u001b[0m\n",
       "\u001b[2;36m             \u001b[0m\u001b[31mdimensions.                                                        \u001b[0m\n"
      ]
     },
     "metadata": {},
     "output_type": "display_data"
    },
    {
     "data": {
      "text/html": [
       "<pre style=\"white-space:pre;overflow-x:auto;line-height:normal;font-family:Menlo,'DejaVu Sans Mono',consolas,'Courier New',monospace\"><span style=\"color: #7fbfbf; text-decoration-color: #7fbfbf\">             </span><span style=\"color: #800000; text-decoration-color: #800000\">WARNING: Mode monitor </span><span style=\"color: #008000; text-decoration-color: #008000\">'mode_fiber'</span><span style=\"color: #800000; text-decoration-color: #800000\"> has a large number </span><span style=\"color: #800000; text-decoration-color: #800000; font-weight: bold\">(</span><span style=\"color: #008080; text-decoration-color: #008080; font-weight: bold\">1.92e+05</span><span style=\"color: #800000; text-decoration-color: #800000; font-weight: bold\">)</span><span style=\"color: #800000; text-decoration-color: #800000\"> of</span>\n",
       "<span style=\"color: #7fbfbf; text-decoration-color: #7fbfbf\">             </span><span style=\"color: #800000; text-decoration-color: #800000\">grid points. This can lead to solver slow-down and increased cost. </span>\n",
       "<span style=\"color: #7fbfbf; text-decoration-color: #7fbfbf\">             </span><span style=\"color: #800000; text-decoration-color: #800000\">Consider making the size of the component smaller, as long as the  </span>\n",
       "<span style=\"color: #7fbfbf; text-decoration-color: #7fbfbf\">             </span><span style=\"color: #800000; text-decoration-color: #800000\">modes of interest decay by the plane boundaries.                   </span>\n",
       "</pre>\n"
      ],
      "text/plain": [
       "\u001b[2;36m            \u001b[0m\u001b[2;36m \u001b[0m\u001b[31mWARNING: Mode monitor \u001b[0m\u001b[32m'mode_fiber'\u001b[0m\u001b[31m has a large number \u001b[0m\u001b[1;31m(\u001b[0m\u001b[1;36m1.92e+05\u001b[0m\u001b[1;31m)\u001b[0m\u001b[31m of\u001b[0m\n",
       "\u001b[2;36m             \u001b[0m\u001b[31mgrid points. This can lead to solver slow-down and increased cost. \u001b[0m\n",
       "\u001b[2;36m             \u001b[0m\u001b[31mConsider making the size of the component smaller, as long as the  \u001b[0m\n",
       "\u001b[2;36m             \u001b[0m\u001b[31mmodes of interest decay by the plane boundaries.                   \u001b[0m\n"
      ]
     },
     "metadata": {},
     "output_type": "display_data"
    },
    {
     "data": {
      "text/html": [
       "<pre style=\"white-space:pre;overflow-x:auto;line-height:normal;font-family:Menlo,'DejaVu Sans Mono',consolas,'Courier New',monospace\"><span style=\"color: #7fbfbf; text-decoration-color: #7fbfbf\">             </span><span style=\"color: #800000; text-decoration-color: #800000\">WARNING: Mode monitor </span><span style=\"color: #008000; text-decoration-color: #008000\">'mode_fiber'</span><span style=\"color: #800000; text-decoration-color: #800000\"> has a large number </span><span style=\"color: #800000; text-decoration-color: #800000; font-weight: bold\">(</span><span style=\"color: #008080; text-decoration-color: #008080; font-weight: bold\">1.60e+05</span><span style=\"color: #800000; text-decoration-color: #800000; font-weight: bold\">)</span><span style=\"color: #800000; text-decoration-color: #800000\"> of</span>\n",
       "<span style=\"color: #7fbfbf; text-decoration-color: #7fbfbf\">             </span><span style=\"color: #800000; text-decoration-color: #800000\">grid points. This can lead to solver slow-down and increased cost. </span>\n",
       "<span style=\"color: #7fbfbf; text-decoration-color: #7fbfbf\">             </span><span style=\"color: #800000; text-decoration-color: #800000\">Consider making the size of the component smaller, as long as the  </span>\n",
       "<span style=\"color: #7fbfbf; text-decoration-color: #7fbfbf\">             </span><span style=\"color: #800000; text-decoration-color: #800000\">modes of interest decay by the plane boundaries.                   </span>\n",
       "</pre>\n"
      ],
      "text/plain": [
       "\u001b[2;36m            \u001b[0m\u001b[2;36m \u001b[0m\u001b[31mWARNING: Mode monitor \u001b[0m\u001b[32m'mode_fiber'\u001b[0m\u001b[31m has a large number \u001b[0m\u001b[1;31m(\u001b[0m\u001b[1;36m1.60e+05\u001b[0m\u001b[1;31m)\u001b[0m\u001b[31m of\u001b[0m\n",
       "\u001b[2;36m             \u001b[0m\u001b[31mgrid points. This can lead to solver slow-down and increased cost. \u001b[0m\n",
       "\u001b[2;36m             \u001b[0m\u001b[31mConsider making the size of the component smaller, as long as the  \u001b[0m\n",
       "\u001b[2;36m             \u001b[0m\u001b[31mmodes of interest decay by the plane boundaries.                   \u001b[0m\n"
      ]
     },
     "metadata": {},
     "output_type": "display_data"
    },
    {
     "data": {
      "text/html": [
       "<pre style=\"white-space:pre;overflow-x:auto;line-height:normal;font-family:Menlo,'DejaVu Sans Mono',consolas,'Courier New',monospace\"><span style=\"color: #7fbfbf; text-decoration-color: #7fbfbf\">             </span><span style=\"color: #800000; text-decoration-color: #800000\">WARNING: Mode monitor </span><span style=\"color: #008000; text-decoration-color: #008000\">'mode_fiber'</span><span style=\"color: #800000; text-decoration-color: #800000\"> has a large number </span><span style=\"color: #800000; text-decoration-color: #800000; font-weight: bold\">(</span><span style=\"color: #008080; text-decoration-color: #008080; font-weight: bold\">1.40e+05</span><span style=\"color: #800000; text-decoration-color: #800000; font-weight: bold\">)</span><span style=\"color: #800000; text-decoration-color: #800000\"> of</span>\n",
       "<span style=\"color: #7fbfbf; text-decoration-color: #7fbfbf\">             </span><span style=\"color: #800000; text-decoration-color: #800000\">grid points. This can lead to solver slow-down and increased cost. </span>\n",
       "<span style=\"color: #7fbfbf; text-decoration-color: #7fbfbf\">             </span><span style=\"color: #800000; text-decoration-color: #800000\">Consider making the size of the component smaller, as long as the  </span>\n",
       "<span style=\"color: #7fbfbf; text-decoration-color: #7fbfbf\">             </span><span style=\"color: #800000; text-decoration-color: #800000\">modes of interest decay by the plane boundaries.                   </span>\n",
       "</pre>\n"
      ],
      "text/plain": [
       "\u001b[2;36m            \u001b[0m\u001b[2;36m \u001b[0m\u001b[31mWARNING: Mode monitor \u001b[0m\u001b[32m'mode_fiber'\u001b[0m\u001b[31m has a large number \u001b[0m\u001b[1;31m(\u001b[0m\u001b[1;36m1.40e+05\u001b[0m\u001b[1;31m)\u001b[0m\u001b[31m of\u001b[0m\n",
       "\u001b[2;36m             \u001b[0m\u001b[31mgrid points. This can lead to solver slow-down and increased cost. \u001b[0m\n",
       "\u001b[2;36m             \u001b[0m\u001b[31mConsider making the size of the component smaller, as long as the  \u001b[0m\n",
       "\u001b[2;36m             \u001b[0m\u001b[31mmodes of interest decay by the plane boundaries.                   \u001b[0m\n"
      ]
     },
     "metadata": {},
     "output_type": "display_data"
    },
    {
     "data": {
      "text/html": [
       "<pre style=\"white-space:pre;overflow-x:auto;line-height:normal;font-family:Menlo,'DejaVu Sans Mono',consolas,'Courier New',monospace\"><span style=\"color: #7fbfbf; text-decoration-color: #7fbfbf\">             </span><span style=\"color: #800000; text-decoration-color: #800000\">WARNING: A structure has a nonzero dimension along axis z, which is</span>\n",
       "<span style=\"color: #7fbfbf; text-decoration-color: #7fbfbf\">             </span><span style=\"color: #800000; text-decoration-color: #800000\">however too small compared to the generated mesh step along that   </span>\n",
       "<span style=\"color: #7fbfbf; text-decoration-color: #7fbfbf\">             </span><span style=\"color: #800000; text-decoration-color: #800000\">direction. This could produce unpredictable results. We recommend  </span>\n",
       "<span style=\"color: #7fbfbf; text-decoration-color: #7fbfbf\">             </span><span style=\"color: #800000; text-decoration-color: #800000\">increasing the resolution, or adding a mesh override structure to  </span>\n",
       "<span style=\"color: #7fbfbf; text-decoration-color: #7fbfbf\">             </span><span style=\"color: #800000; text-decoration-color: #800000\">ensure that all geometries are at least one pixel thick along all  </span>\n",
       "<span style=\"color: #7fbfbf; text-decoration-color: #7fbfbf\">             </span><span style=\"color: #800000; text-decoration-color: #800000\">dimensions.                                                        </span>\n",
       "</pre>\n"
      ],
      "text/plain": [
       "\u001b[2;36m            \u001b[0m\u001b[2;36m \u001b[0m\u001b[31mWARNING: A structure has a nonzero dimension along axis z, which is\u001b[0m\n",
       "\u001b[2;36m             \u001b[0m\u001b[31mhowever too small compared to the generated mesh step along that   \u001b[0m\n",
       "\u001b[2;36m             \u001b[0m\u001b[31mdirection. This could produce unpredictable results. We recommend  \u001b[0m\n",
       "\u001b[2;36m             \u001b[0m\u001b[31mincreasing the resolution, or adding a mesh override structure to  \u001b[0m\n",
       "\u001b[2;36m             \u001b[0m\u001b[31mensure that all geometries are at least one pixel thick along all  \u001b[0m\n",
       "\u001b[2;36m             \u001b[0m\u001b[31mdimensions.                                                        \u001b[0m\n"
      ]
     },
     "metadata": {},
     "output_type": "display_data"
    },
    {
     "data": {
      "text/html": [
       "<pre style=\"white-space:pre;overflow-x:auto;line-height:normal;font-family:Menlo,'DejaVu Sans Mono',consolas,'Courier New',monospace\"><span style=\"color: #7fbfbf; text-decoration-color: #7fbfbf\">             </span><span style=\"color: #800000; text-decoration-color: #800000\">WARNING: Mode monitor </span><span style=\"color: #008000; text-decoration-color: #008000\">'mode_fiber'</span><span style=\"color: #800000; text-decoration-color: #800000\"> has a large number </span><span style=\"color: #800000; text-decoration-color: #800000; font-weight: bold\">(</span><span style=\"color: #008080; text-decoration-color: #008080; font-weight: bold\">2.12e+05</span><span style=\"color: #800000; text-decoration-color: #800000; font-weight: bold\">)</span><span style=\"color: #800000; text-decoration-color: #800000\"> of</span>\n",
       "<span style=\"color: #7fbfbf; text-decoration-color: #7fbfbf\">             </span><span style=\"color: #800000; text-decoration-color: #800000\">grid points. This can lead to solver slow-down and increased cost. </span>\n",
       "<span style=\"color: #7fbfbf; text-decoration-color: #7fbfbf\">             </span><span style=\"color: #800000; text-decoration-color: #800000\">Consider making the size of the component smaller, as long as the  </span>\n",
       "<span style=\"color: #7fbfbf; text-decoration-color: #7fbfbf\">             </span><span style=\"color: #800000; text-decoration-color: #800000\">modes of interest decay by the plane boundaries.                   </span>\n",
       "</pre>\n"
      ],
      "text/plain": [
       "\u001b[2;36m            \u001b[0m\u001b[2;36m \u001b[0m\u001b[31mWARNING: Mode monitor \u001b[0m\u001b[32m'mode_fiber'\u001b[0m\u001b[31m has a large number \u001b[0m\u001b[1;31m(\u001b[0m\u001b[1;36m2.12e+05\u001b[0m\u001b[1;31m)\u001b[0m\u001b[31m of\u001b[0m\n",
       "\u001b[2;36m             \u001b[0m\u001b[31mgrid points. This can lead to solver slow-down and increased cost. \u001b[0m\n",
       "\u001b[2;36m             \u001b[0m\u001b[31mConsider making the size of the component smaller, as long as the  \u001b[0m\n",
       "\u001b[2;36m             \u001b[0m\u001b[31mmodes of interest decay by the plane boundaries.                   \u001b[0m\n"
      ]
     },
     "metadata": {},
     "output_type": "display_data"
    },
    {
     "data": {
      "text/html": [
       "<pre style=\"white-space:pre;overflow-x:auto;line-height:normal;font-family:Menlo,'DejaVu Sans Mono',consolas,'Courier New',monospace\"><span style=\"color: #7fbfbf; text-decoration-color: #7fbfbf\">             </span><span style=\"color: #800000; text-decoration-color: #800000\">WARNING: Mode monitor </span><span style=\"color: #008000; text-decoration-color: #008000\">'mode_fiber'</span><span style=\"color: #800000; text-decoration-color: #800000\"> has a large number </span><span style=\"color: #800000; text-decoration-color: #800000; font-weight: bold\">(</span><span style=\"color: #008080; text-decoration-color: #008080; font-weight: bold\">3.70e+05</span><span style=\"color: #800000; text-decoration-color: #800000; font-weight: bold\">)</span><span style=\"color: #800000; text-decoration-color: #800000\"> of</span>\n",
       "<span style=\"color: #7fbfbf; text-decoration-color: #7fbfbf\">             </span><span style=\"color: #800000; text-decoration-color: #800000\">grid points. This can lead to solver slow-down and increased cost. </span>\n",
       "<span style=\"color: #7fbfbf; text-decoration-color: #7fbfbf\">             </span><span style=\"color: #800000; text-decoration-color: #800000\">Consider making the size of the component smaller, as long as the  </span>\n",
       "<span style=\"color: #7fbfbf; text-decoration-color: #7fbfbf\">             </span><span style=\"color: #800000; text-decoration-color: #800000\">modes of interest decay by the plane boundaries.                   </span>\n",
       "</pre>\n"
      ],
      "text/plain": [
       "\u001b[2;36m            \u001b[0m\u001b[2;36m \u001b[0m\u001b[31mWARNING: Mode monitor \u001b[0m\u001b[32m'mode_fiber'\u001b[0m\u001b[31m has a large number \u001b[0m\u001b[1;31m(\u001b[0m\u001b[1;36m3.70e+05\u001b[0m\u001b[1;31m)\u001b[0m\u001b[31m of\u001b[0m\n",
       "\u001b[2;36m             \u001b[0m\u001b[31mgrid points. This can lead to solver slow-down and increased cost. \u001b[0m\n",
       "\u001b[2;36m             \u001b[0m\u001b[31mConsider making the size of the component smaller, as long as the  \u001b[0m\n",
       "\u001b[2;36m             \u001b[0m\u001b[31mmodes of interest decay by the plane boundaries.                   \u001b[0m\n"
      ]
     },
     "metadata": {},
     "output_type": "display_data"
    },
    {
     "data": {
      "text/html": [
       "<pre style=\"white-space:pre;overflow-x:auto;line-height:normal;font-family:Menlo,'DejaVu Sans Mono',consolas,'Courier New',monospace\"><span style=\"color: #7fbfbf; text-decoration-color: #7fbfbf\">             </span><span style=\"color: #800000; text-decoration-color: #800000\">WARNING: Mode monitor </span><span style=\"color: #008000; text-decoration-color: #008000\">'mode_fiber'</span><span style=\"color: #800000; text-decoration-color: #800000\"> has a large number </span><span style=\"color: #800000; text-decoration-color: #800000; font-weight: bold\">(</span><span style=\"color: #008080; text-decoration-color: #008080; font-weight: bold\">2.08e+05</span><span style=\"color: #800000; text-decoration-color: #800000; font-weight: bold\">)</span><span style=\"color: #800000; text-decoration-color: #800000\"> of</span>\n",
       "<span style=\"color: #7fbfbf; text-decoration-color: #7fbfbf\">             </span><span style=\"color: #800000; text-decoration-color: #800000\">grid points. This can lead to solver slow-down and increased cost. </span>\n",
       "<span style=\"color: #7fbfbf; text-decoration-color: #7fbfbf\">             </span><span style=\"color: #800000; text-decoration-color: #800000\">Consider making the size of the component smaller, as long as the  </span>\n",
       "<span style=\"color: #7fbfbf; text-decoration-color: #7fbfbf\">             </span><span style=\"color: #800000; text-decoration-color: #800000\">modes of interest decay by the plane boundaries.                   </span>\n",
       "</pre>\n"
      ],
      "text/plain": [
       "\u001b[2;36m            \u001b[0m\u001b[2;36m \u001b[0m\u001b[31mWARNING: Mode monitor \u001b[0m\u001b[32m'mode_fiber'\u001b[0m\u001b[31m has a large number \u001b[0m\u001b[1;31m(\u001b[0m\u001b[1;36m2.08e+05\u001b[0m\u001b[1;31m)\u001b[0m\u001b[31m of\u001b[0m\n",
       "\u001b[2;36m             \u001b[0m\u001b[31mgrid points. This can lead to solver slow-down and increased cost. \u001b[0m\n",
       "\u001b[2;36m             \u001b[0m\u001b[31mConsider making the size of the component smaller, as long as the  \u001b[0m\n",
       "\u001b[2;36m             \u001b[0m\u001b[31mmodes of interest decay by the plane boundaries.                   \u001b[0m\n"
      ]
     },
     "metadata": {},
     "output_type": "display_data"
    },
    {
     "data": {
      "text/html": [
       "<pre style=\"white-space:pre;overflow-x:auto;line-height:normal;font-family:Menlo,'DejaVu Sans Mono',consolas,'Courier New',monospace\"><span style=\"color: #7fbfbf; text-decoration-color: #7fbfbf\">             </span><span style=\"color: #800000; text-decoration-color: #800000\">WARNING: Mode monitor </span><span style=\"color: #008000; text-decoration-color: #008000\">'mode_fiber'</span><span style=\"color: #800000; text-decoration-color: #800000\"> has a large number </span><span style=\"color: #800000; text-decoration-color: #800000; font-weight: bold\">(</span><span style=\"color: #008080; text-decoration-color: #008080; font-weight: bold\">1.85e+05</span><span style=\"color: #800000; text-decoration-color: #800000; font-weight: bold\">)</span><span style=\"color: #800000; text-decoration-color: #800000\"> of</span>\n",
       "<span style=\"color: #7fbfbf; text-decoration-color: #7fbfbf\">             </span><span style=\"color: #800000; text-decoration-color: #800000\">grid points. This can lead to solver slow-down and increased cost. </span>\n",
       "<span style=\"color: #7fbfbf; text-decoration-color: #7fbfbf\">             </span><span style=\"color: #800000; text-decoration-color: #800000\">Consider making the size of the component smaller, as long as the  </span>\n",
       "<span style=\"color: #7fbfbf; text-decoration-color: #7fbfbf\">             </span><span style=\"color: #800000; text-decoration-color: #800000\">modes of interest decay by the plane boundaries.                   </span>\n",
       "</pre>\n"
      ],
      "text/plain": [
       "\u001b[2;36m            \u001b[0m\u001b[2;36m \u001b[0m\u001b[31mWARNING: Mode monitor \u001b[0m\u001b[32m'mode_fiber'\u001b[0m\u001b[31m has a large number \u001b[0m\u001b[1;31m(\u001b[0m\u001b[1;36m1.85e+05\u001b[0m\u001b[1;31m)\u001b[0m\u001b[31m of\u001b[0m\n",
       "\u001b[2;36m             \u001b[0m\u001b[31mgrid points. This can lead to solver slow-down and increased cost. \u001b[0m\n",
       "\u001b[2;36m             \u001b[0m\u001b[31mConsider making the size of the component smaller, as long as the  \u001b[0m\n",
       "\u001b[2;36m             \u001b[0m\u001b[31mmodes of interest decay by the plane boundaries.                   \u001b[0m\n"
      ]
     },
     "metadata": {},
     "output_type": "display_data"
    },
    {
     "data": {
      "text/html": [
       "<pre style=\"white-space:pre;overflow-x:auto;line-height:normal;font-family:Menlo,'DejaVu Sans Mono',consolas,'Courier New',monospace\"><span style=\"color: #7fbfbf; text-decoration-color: #7fbfbf\">             </span><span style=\"color: #800000; text-decoration-color: #800000\">WARNING: Mode monitor </span><span style=\"color: #008000; text-decoration-color: #008000\">'mode_fiber'</span><span style=\"color: #800000; text-decoration-color: #800000\"> has a large number </span><span style=\"color: #800000; text-decoration-color: #800000; font-weight: bold\">(</span><span style=\"color: #008080; text-decoration-color: #008080; font-weight: bold\">1.68e+05</span><span style=\"color: #800000; text-decoration-color: #800000; font-weight: bold\">)</span><span style=\"color: #800000; text-decoration-color: #800000\"> of</span>\n",
       "<span style=\"color: #7fbfbf; text-decoration-color: #7fbfbf\">             </span><span style=\"color: #800000; text-decoration-color: #800000\">grid points. This can lead to solver slow-down and increased cost. </span>\n",
       "<span style=\"color: #7fbfbf; text-decoration-color: #7fbfbf\">             </span><span style=\"color: #800000; text-decoration-color: #800000\">Consider making the size of the component smaller, as long as the  </span>\n",
       "<span style=\"color: #7fbfbf; text-decoration-color: #7fbfbf\">             </span><span style=\"color: #800000; text-decoration-color: #800000\">modes of interest decay by the plane boundaries.                   </span>\n",
       "</pre>\n"
      ],
      "text/plain": [
       "\u001b[2;36m            \u001b[0m\u001b[2;36m \u001b[0m\u001b[31mWARNING: Mode monitor \u001b[0m\u001b[32m'mode_fiber'\u001b[0m\u001b[31m has a large number \u001b[0m\u001b[1;31m(\u001b[0m\u001b[1;36m1.68e+05\u001b[0m\u001b[1;31m)\u001b[0m\u001b[31m of\u001b[0m\n",
       "\u001b[2;36m             \u001b[0m\u001b[31mgrid points. This can lead to solver slow-down and increased cost. \u001b[0m\n",
       "\u001b[2;36m             \u001b[0m\u001b[31mConsider making the size of the component smaller, as long as the  \u001b[0m\n",
       "\u001b[2;36m             \u001b[0m\u001b[31mmodes of interest decay by the plane boundaries.                   \u001b[0m\n"
      ]
     },
     "metadata": {},
     "output_type": "display_data"
    },
    {
     "data": {
      "text/html": [
       "<pre style=\"white-space:pre;overflow-x:auto;line-height:normal;font-family:Menlo,'DejaVu Sans Mono',consolas,'Courier New',monospace\"><span style=\"color: #7fbfbf; text-decoration-color: #7fbfbf\">12:12:39 BST </span><span style=\"color: #800000; text-decoration-color: #800000\">WARNING: Mode monitor </span><span style=\"color: #008000; text-decoration-color: #008000\">'mode_fiber'</span><span style=\"color: #800000; text-decoration-color: #800000\"> has a large number </span><span style=\"color: #800000; text-decoration-color: #800000; font-weight: bold\">(</span><span style=\"color: #008080; text-decoration-color: #008080; font-weight: bold\">1.87e+05</span><span style=\"color: #800000; text-decoration-color: #800000; font-weight: bold\">)</span><span style=\"color: #800000; text-decoration-color: #800000\"> of</span>\n",
       "<span style=\"color: #7fbfbf; text-decoration-color: #7fbfbf\">             </span><span style=\"color: #800000; text-decoration-color: #800000\">grid points. This can lead to solver slow-down and increased cost. </span>\n",
       "<span style=\"color: #7fbfbf; text-decoration-color: #7fbfbf\">             </span><span style=\"color: #800000; text-decoration-color: #800000\">Consider making the size of the component smaller, as long as the  </span>\n",
       "<span style=\"color: #7fbfbf; text-decoration-color: #7fbfbf\">             </span><span style=\"color: #800000; text-decoration-color: #800000\">modes of interest decay by the plane boundaries.                   </span>\n",
       "</pre>\n"
      ],
      "text/plain": [
       "\u001b[2;36m12:12:39 BST\u001b[0m\u001b[2;36m \u001b[0m\u001b[31mWARNING: Mode monitor \u001b[0m\u001b[32m'mode_fiber'\u001b[0m\u001b[31m has a large number \u001b[0m\u001b[1;31m(\u001b[0m\u001b[1;36m1.87e+05\u001b[0m\u001b[1;31m)\u001b[0m\u001b[31m of\u001b[0m\n",
       "\u001b[2;36m             \u001b[0m\u001b[31mgrid points. This can lead to solver slow-down and increased cost. \u001b[0m\n",
       "\u001b[2;36m             \u001b[0m\u001b[31mConsider making the size of the component smaller, as long as the  \u001b[0m\n",
       "\u001b[2;36m             \u001b[0m\u001b[31mmodes of interest decay by the plane boundaries.                   \u001b[0m\n"
      ]
     },
     "metadata": {},
     "output_type": "display_data"
    },
    {
     "data": {
      "text/html": [
       "<pre style=\"white-space:pre;overflow-x:auto;line-height:normal;font-family:Menlo,'DejaVu Sans Mono',consolas,'Courier New',monospace\"><span style=\"color: #7fbfbf; text-decoration-color: #7fbfbf\">             </span><span style=\"color: #800000; text-decoration-color: #800000\">WARNING: Mode monitor </span><span style=\"color: #008000; text-decoration-color: #008000\">'mode_fiber'</span><span style=\"color: #800000; text-decoration-color: #800000\"> has a large number </span><span style=\"color: #800000; text-decoration-color: #800000; font-weight: bold\">(</span><span style=\"color: #008080; text-decoration-color: #008080; font-weight: bold\">2.06e+05</span><span style=\"color: #800000; text-decoration-color: #800000; font-weight: bold\">)</span><span style=\"color: #800000; text-decoration-color: #800000\"> of</span>\n",
       "<span style=\"color: #7fbfbf; text-decoration-color: #7fbfbf\">             </span><span style=\"color: #800000; text-decoration-color: #800000\">grid points. This can lead to solver slow-down and increased cost. </span>\n",
       "<span style=\"color: #7fbfbf; text-decoration-color: #7fbfbf\">             </span><span style=\"color: #800000; text-decoration-color: #800000\">Consider making the size of the component smaller, as long as the  </span>\n",
       "<span style=\"color: #7fbfbf; text-decoration-color: #7fbfbf\">             </span><span style=\"color: #800000; text-decoration-color: #800000\">modes of interest decay by the plane boundaries.                   </span>\n",
       "</pre>\n"
      ],
      "text/plain": [
       "\u001b[2;36m            \u001b[0m\u001b[2;36m \u001b[0m\u001b[31mWARNING: Mode monitor \u001b[0m\u001b[32m'mode_fiber'\u001b[0m\u001b[31m has a large number \u001b[0m\u001b[1;31m(\u001b[0m\u001b[1;36m2.06e+05\u001b[0m\u001b[1;31m)\u001b[0m\u001b[31m of\u001b[0m\n",
       "\u001b[2;36m             \u001b[0m\u001b[31mgrid points. This can lead to solver slow-down and increased cost. \u001b[0m\n",
       "\u001b[2;36m             \u001b[0m\u001b[31mConsider making the size of the component smaller, as long as the  \u001b[0m\n",
       "\u001b[2;36m             \u001b[0m\u001b[31mmodes of interest decay by the plane boundaries.                   \u001b[0m\n"
      ]
     },
     "metadata": {},
     "output_type": "display_data"
    },
    {
     "data": {
      "text/html": [
       "<pre style=\"white-space:pre;overflow-x:auto;line-height:normal;font-family:Menlo,'DejaVu Sans Mono',consolas,'Courier New',monospace\"><span style=\"color: #7fbfbf; text-decoration-color: #7fbfbf\">             </span><span style=\"color: #800000; text-decoration-color: #800000\">WARNING: Mode monitor </span><span style=\"color: #008000; text-decoration-color: #008000\">'mode_fiber'</span><span style=\"color: #800000; text-decoration-color: #800000\"> has a large number </span><span style=\"color: #800000; text-decoration-color: #800000; font-weight: bold\">(</span><span style=\"color: #008080; text-decoration-color: #008080; font-weight: bold\">1.97e+05</span><span style=\"color: #800000; text-decoration-color: #800000; font-weight: bold\">)</span><span style=\"color: #800000; text-decoration-color: #800000\"> of</span>\n",
       "<span style=\"color: #7fbfbf; text-decoration-color: #7fbfbf\">             </span><span style=\"color: #800000; text-decoration-color: #800000\">grid points. This can lead to solver slow-down and increased cost. </span>\n",
       "<span style=\"color: #7fbfbf; text-decoration-color: #7fbfbf\">             </span><span style=\"color: #800000; text-decoration-color: #800000\">Consider making the size of the component smaller, as long as the  </span>\n",
       "<span style=\"color: #7fbfbf; text-decoration-color: #7fbfbf\">             </span><span style=\"color: #800000; text-decoration-color: #800000\">modes of interest decay by the plane boundaries.                   </span>\n",
       "</pre>\n"
      ],
      "text/plain": [
       "\u001b[2;36m            \u001b[0m\u001b[2;36m \u001b[0m\u001b[31mWARNING: Mode monitor \u001b[0m\u001b[32m'mode_fiber'\u001b[0m\u001b[31m has a large number \u001b[0m\u001b[1;31m(\u001b[0m\u001b[1;36m1.97e+05\u001b[0m\u001b[1;31m)\u001b[0m\u001b[31m of\u001b[0m\n",
       "\u001b[2;36m             \u001b[0m\u001b[31mgrid points. This can lead to solver slow-down and increased cost. \u001b[0m\n",
       "\u001b[2;36m             \u001b[0m\u001b[31mConsider making the size of the component smaller, as long as the  \u001b[0m\n",
       "\u001b[2;36m             \u001b[0m\u001b[31mmodes of interest decay by the plane boundaries.                   \u001b[0m\n"
      ]
     },
     "metadata": {},
     "output_type": "display_data"
    },
    {
     "data": {
      "text/html": [
       "<pre style=\"white-space:pre;overflow-x:auto;line-height:normal;font-family:Menlo,'DejaVu Sans Mono',consolas,'Courier New',monospace\"><span style=\"color: #7fbfbf; text-decoration-color: #7fbfbf\">             </span><span style=\"color: #800000; text-decoration-color: #800000\">WARNING: Mode monitor </span><span style=\"color: #008000; text-decoration-color: #008000\">'mode_fiber'</span><span style=\"color: #800000; text-decoration-color: #800000\"> has a large number </span><span style=\"color: #800000; text-decoration-color: #800000; font-weight: bold\">(</span><span style=\"color: #008080; text-decoration-color: #008080; font-weight: bold\">2.81e+05</span><span style=\"color: #800000; text-decoration-color: #800000; font-weight: bold\">)</span><span style=\"color: #800000; text-decoration-color: #800000\"> of</span>\n",
       "<span style=\"color: #7fbfbf; text-decoration-color: #7fbfbf\">             </span><span style=\"color: #800000; text-decoration-color: #800000\">grid points. This can lead to solver slow-down and increased cost. </span>\n",
       "<span style=\"color: #7fbfbf; text-decoration-color: #7fbfbf\">             </span><span style=\"color: #800000; text-decoration-color: #800000\">Consider making the size of the component smaller, as long as the  </span>\n",
       "<span style=\"color: #7fbfbf; text-decoration-color: #7fbfbf\">             </span><span style=\"color: #800000; text-decoration-color: #800000\">modes of interest decay by the plane boundaries.                   </span>\n",
       "</pre>\n"
      ],
      "text/plain": [
       "\u001b[2;36m            \u001b[0m\u001b[2;36m \u001b[0m\u001b[31mWARNING: Mode monitor \u001b[0m\u001b[32m'mode_fiber'\u001b[0m\u001b[31m has a large number \u001b[0m\u001b[1;31m(\u001b[0m\u001b[1;36m2.81e+05\u001b[0m\u001b[1;31m)\u001b[0m\u001b[31m of\u001b[0m\n",
       "\u001b[2;36m             \u001b[0m\u001b[31mgrid points. This can lead to solver slow-down and increased cost. \u001b[0m\n",
       "\u001b[2;36m             \u001b[0m\u001b[31mConsider making the size of the component smaller, as long as the  \u001b[0m\n",
       "\u001b[2;36m             \u001b[0m\u001b[31mmodes of interest decay by the plane boundaries.                   \u001b[0m\n"
      ]
     },
     "metadata": {},
     "output_type": "display_data"
    },
    {
     "data": {
      "text/html": [
       "<pre style=\"white-space:pre;overflow-x:auto;line-height:normal;font-family:Menlo,'DejaVu Sans Mono',consolas,'Courier New',monospace\"><span style=\"color: #7fbfbf; text-decoration-color: #7fbfbf\">             </span><span style=\"color: #800000; text-decoration-color: #800000\">WARNING: Mode monitor </span><span style=\"color: #008000; text-decoration-color: #008000\">'mode_fiber'</span><span style=\"color: #800000; text-decoration-color: #800000\"> has a large number </span><span style=\"color: #800000; text-decoration-color: #800000; font-weight: bold\">(</span><span style=\"color: #008080; text-decoration-color: #008080; font-weight: bold\">1.13e+05</span><span style=\"color: #800000; text-decoration-color: #800000; font-weight: bold\">)</span><span style=\"color: #800000; text-decoration-color: #800000\"> of</span>\n",
       "<span style=\"color: #7fbfbf; text-decoration-color: #7fbfbf\">             </span><span style=\"color: #800000; text-decoration-color: #800000\">grid points. This can lead to solver slow-down and increased cost. </span>\n",
       "<span style=\"color: #7fbfbf; text-decoration-color: #7fbfbf\">             </span><span style=\"color: #800000; text-decoration-color: #800000\">Consider making the size of the component smaller, as long as the  </span>\n",
       "<span style=\"color: #7fbfbf; text-decoration-color: #7fbfbf\">             </span><span style=\"color: #800000; text-decoration-color: #800000\">modes of interest decay by the plane boundaries.                   </span>\n",
       "</pre>\n"
      ],
      "text/plain": [
       "\u001b[2;36m            \u001b[0m\u001b[2;36m \u001b[0m\u001b[31mWARNING: Mode monitor \u001b[0m\u001b[32m'mode_fiber'\u001b[0m\u001b[31m has a large number \u001b[0m\u001b[1;31m(\u001b[0m\u001b[1;36m1.13e+05\u001b[0m\u001b[1;31m)\u001b[0m\u001b[31m of\u001b[0m\n",
       "\u001b[2;36m             \u001b[0m\u001b[31mgrid points. This can lead to solver slow-down and increased cost. \u001b[0m\n",
       "\u001b[2;36m             \u001b[0m\u001b[31mConsider making the size of the component smaller, as long as the  \u001b[0m\n",
       "\u001b[2;36m             \u001b[0m\u001b[31mmodes of interest decay by the plane boundaries.                   \u001b[0m\n"
      ]
     },
     "metadata": {},
     "output_type": "display_data"
    },
    {
     "data": {
      "text/html": [
       "<pre style=\"white-space:pre;overflow-x:auto;line-height:normal;font-family:Menlo,'DejaVu Sans Mono',consolas,'Courier New',monospace\"><span style=\"color: #7fbfbf; text-decoration-color: #7fbfbf\">12:22:01 BST </span><span style=\"color: #800000; text-decoration-color: #800000\">WARNING: A structure has a nonzero dimension along axis z, which is</span>\n",
       "<span style=\"color: #7fbfbf; text-decoration-color: #7fbfbf\">             </span><span style=\"color: #800000; text-decoration-color: #800000\">however too small compared to the generated mesh step along that   </span>\n",
       "<span style=\"color: #7fbfbf; text-decoration-color: #7fbfbf\">             </span><span style=\"color: #800000; text-decoration-color: #800000\">direction. This could produce unpredictable results. We recommend  </span>\n",
       "<span style=\"color: #7fbfbf; text-decoration-color: #7fbfbf\">             </span><span style=\"color: #800000; text-decoration-color: #800000\">increasing the resolution, or adding a mesh override structure to  </span>\n",
       "<span style=\"color: #7fbfbf; text-decoration-color: #7fbfbf\">             </span><span style=\"color: #800000; text-decoration-color: #800000\">ensure that all geometries are at least one pixel thick along all  </span>\n",
       "<span style=\"color: #7fbfbf; text-decoration-color: #7fbfbf\">             </span><span style=\"color: #800000; text-decoration-color: #800000\">dimensions.                                                        </span>\n",
       "</pre>\n"
      ],
      "text/plain": [
       "\u001b[2;36m12:22:01 BST\u001b[0m\u001b[2;36m \u001b[0m\u001b[31mWARNING: A structure has a nonzero dimension along axis z, which is\u001b[0m\n",
       "\u001b[2;36m             \u001b[0m\u001b[31mhowever too small compared to the generated mesh step along that   \u001b[0m\n",
       "\u001b[2;36m             \u001b[0m\u001b[31mdirection. This could produce unpredictable results. We recommend  \u001b[0m\n",
       "\u001b[2;36m             \u001b[0m\u001b[31mincreasing the resolution, or adding a mesh override structure to  \u001b[0m\n",
       "\u001b[2;36m             \u001b[0m\u001b[31mensure that all geometries are at least one pixel thick along all  \u001b[0m\n",
       "\u001b[2;36m             \u001b[0m\u001b[31mdimensions.                                                        \u001b[0m\n"
      ]
     },
     "metadata": {},
     "output_type": "display_data"
    },
    {
     "data": {
      "text/html": [
       "<pre style=\"white-space:pre;overflow-x:auto;line-height:normal;font-family:Menlo,'DejaVu Sans Mono',consolas,'Courier New',monospace\"><span style=\"color: #7fbfbf; text-decoration-color: #7fbfbf\">             </span><span style=\"color: #800000; text-decoration-color: #800000\">WARNING: Warning messages were found in the solver log. For more   </span>\n",
       "<span style=\"color: #7fbfbf; text-decoration-color: #7fbfbf\">             </span><span style=\"color: #800000; text-decoration-color: #800000\">information, check </span><span style=\"color: #008000; text-decoration-color: #008000\">'SimulationData.log'</span><span style=\"color: #800000; text-decoration-color: #800000\"> or use                     </span>\n",
       "<span style=\"color: #7fbfbf; text-decoration-color: #7fbfbf\">             </span><span style=\"color: #008000; text-decoration-color: #008000\">'web.download_log(task_id)'</span><span style=\"color: #800000; text-decoration-color: #800000\">.                                       </span>\n",
       "</pre>\n"
      ],
      "text/plain": [
       "\u001b[2;36m            \u001b[0m\u001b[2;36m \u001b[0m\u001b[31mWARNING: Warning messages were found in the solver log. For more   \u001b[0m\n",
       "\u001b[2;36m             \u001b[0m\u001b[31minformation, check \u001b[0m\u001b[32m'SimulationData.log'\u001b[0m\u001b[31m or use                     \u001b[0m\n",
       "\u001b[2;36m             \u001b[0m\u001b[32m'web.download_log\u001b[0m\u001b[32m(\u001b[0m\u001b[32mtask_id\u001b[0m\u001b[32m)\u001b[0m\u001b[32m'\u001b[0m\u001b[31m.                                       \u001b[0m\n"
      ]
     },
     "metadata": {},
     "output_type": "display_data"
    },
    {
     "data": {
      "text/html": [
       "<pre style=\"white-space:pre;overflow-x:auto;line-height:normal;font-family:Menlo,'DejaVu Sans Mono',consolas,'Courier New',monospace\"><span style=\"color: #7fbfbf; text-decoration-color: #7fbfbf\">12:22:03 BST </span><span style=\"color: #800000; text-decoration-color: #800000\">WARNING: A structure has a nonzero dimension along axis z, which is</span>\n",
       "<span style=\"color: #7fbfbf; text-decoration-color: #7fbfbf\">             </span><span style=\"color: #800000; text-decoration-color: #800000\">however too small compared to the generated mesh step along that   </span>\n",
       "<span style=\"color: #7fbfbf; text-decoration-color: #7fbfbf\">             </span><span style=\"color: #800000; text-decoration-color: #800000\">direction. This could produce unpredictable results. We recommend  </span>\n",
       "<span style=\"color: #7fbfbf; text-decoration-color: #7fbfbf\">             </span><span style=\"color: #800000; text-decoration-color: #800000\">increasing the resolution, or adding a mesh override structure to  </span>\n",
       "<span style=\"color: #7fbfbf; text-decoration-color: #7fbfbf\">             </span><span style=\"color: #800000; text-decoration-color: #800000\">ensure that all geometries are at least one pixel thick along all  </span>\n",
       "<span style=\"color: #7fbfbf; text-decoration-color: #7fbfbf\">             </span><span style=\"color: #800000; text-decoration-color: #800000\">dimensions.                                                        </span>\n",
       "</pre>\n"
      ],
      "text/plain": [
       "\u001b[2;36m12:22:03 BST\u001b[0m\u001b[2;36m \u001b[0m\u001b[31mWARNING: A structure has a nonzero dimension along axis z, which is\u001b[0m\n",
       "\u001b[2;36m             \u001b[0m\u001b[31mhowever too small compared to the generated mesh step along that   \u001b[0m\n",
       "\u001b[2;36m             \u001b[0m\u001b[31mdirection. This could produce unpredictable results. We recommend  \u001b[0m\n",
       "\u001b[2;36m             \u001b[0m\u001b[31mincreasing the resolution, or adding a mesh override structure to  \u001b[0m\n",
       "\u001b[2;36m             \u001b[0m\u001b[31mensure that all geometries are at least one pixel thick along all  \u001b[0m\n",
       "\u001b[2;36m             \u001b[0m\u001b[31mdimensions.                                                        \u001b[0m\n"
      ]
     },
     "metadata": {},
     "output_type": "display_data"
    },
    {
     "data": {
      "text/html": [
       "<pre style=\"white-space:pre;overflow-x:auto;line-height:normal;font-family:Menlo,'DejaVu Sans Mono',consolas,'Courier New',monospace\"><span style=\"color: #7fbfbf; text-decoration-color: #7fbfbf\">             </span><span style=\"color: #800000; text-decoration-color: #800000\">WARNING: Warning messages were found in the solver log. For more   </span>\n",
       "<span style=\"color: #7fbfbf; text-decoration-color: #7fbfbf\">             </span><span style=\"color: #800000; text-decoration-color: #800000\">information, check </span><span style=\"color: #008000; text-decoration-color: #008000\">'SimulationData.log'</span><span style=\"color: #800000; text-decoration-color: #800000\"> or use                     </span>\n",
       "<span style=\"color: #7fbfbf; text-decoration-color: #7fbfbf\">             </span><span style=\"color: #008000; text-decoration-color: #008000\">'web.download_log(task_id)'</span><span style=\"color: #800000; text-decoration-color: #800000\">.                                       </span>\n",
       "</pre>\n"
      ],
      "text/plain": [
       "\u001b[2;36m            \u001b[0m\u001b[2;36m \u001b[0m\u001b[31mWARNING: Warning messages were found in the solver log. For more   \u001b[0m\n",
       "\u001b[2;36m             \u001b[0m\u001b[31minformation, check \u001b[0m\u001b[32m'SimulationData.log'\u001b[0m\u001b[31m or use                     \u001b[0m\n",
       "\u001b[2;36m             \u001b[0m\u001b[32m'web.download_log\u001b[0m\u001b[32m(\u001b[0m\u001b[32mtask_id\u001b[0m\u001b[32m)\u001b[0m\u001b[32m'\u001b[0m\u001b[31m.                                       \u001b[0m\n"
      ]
     },
     "metadata": {},
     "output_type": "display_data"
    },
    {
     "data": {
      "text/html": [
       "<pre style=\"white-space:pre;overflow-x:auto;line-height:normal;font-family:Menlo,'DejaVu Sans Mono',consolas,'Courier New',monospace\"><span style=\"color: #7fbfbf; text-decoration-color: #7fbfbf\">12:22:05 BST </span><span style=\"color: #800000; text-decoration-color: #800000\">WARNING: A structure has a nonzero dimension along axis z, which is</span>\n",
       "<span style=\"color: #7fbfbf; text-decoration-color: #7fbfbf\">             </span><span style=\"color: #800000; text-decoration-color: #800000\">however too small compared to the generated mesh step along that   </span>\n",
       "<span style=\"color: #7fbfbf; text-decoration-color: #7fbfbf\">             </span><span style=\"color: #800000; text-decoration-color: #800000\">direction. This could produce unpredictable results. We recommend  </span>\n",
       "<span style=\"color: #7fbfbf; text-decoration-color: #7fbfbf\">             </span><span style=\"color: #800000; text-decoration-color: #800000\">increasing the resolution, or adding a mesh override structure to  </span>\n",
       "<span style=\"color: #7fbfbf; text-decoration-color: #7fbfbf\">             </span><span style=\"color: #800000; text-decoration-color: #800000\">ensure that all geometries are at least one pixel thick along all  </span>\n",
       "<span style=\"color: #7fbfbf; text-decoration-color: #7fbfbf\">             </span><span style=\"color: #800000; text-decoration-color: #800000\">dimensions.                                                        </span>\n",
       "</pre>\n"
      ],
      "text/plain": [
       "\u001b[2;36m12:22:05 BST\u001b[0m\u001b[2;36m \u001b[0m\u001b[31mWARNING: A structure has a nonzero dimension along axis z, which is\u001b[0m\n",
       "\u001b[2;36m             \u001b[0m\u001b[31mhowever too small compared to the generated mesh step along that   \u001b[0m\n",
       "\u001b[2;36m             \u001b[0m\u001b[31mdirection. This could produce unpredictable results. We recommend  \u001b[0m\n",
       "\u001b[2;36m             \u001b[0m\u001b[31mincreasing the resolution, or adding a mesh override structure to  \u001b[0m\n",
       "\u001b[2;36m             \u001b[0m\u001b[31mensure that all geometries are at least one pixel thick along all  \u001b[0m\n",
       "\u001b[2;36m             \u001b[0m\u001b[31mdimensions.                                                        \u001b[0m\n"
      ]
     },
     "metadata": {},
     "output_type": "display_data"
    },
    {
     "data": {
      "text/html": [
       "<pre style=\"white-space:pre;overflow-x:auto;line-height:normal;font-family:Menlo,'DejaVu Sans Mono',consolas,'Courier New',monospace\"><span style=\"color: #7fbfbf; text-decoration-color: #7fbfbf\">             </span><span style=\"color: #800000; text-decoration-color: #800000\">WARNING: Warning messages were found in the solver log. For more   </span>\n",
       "<span style=\"color: #7fbfbf; text-decoration-color: #7fbfbf\">             </span><span style=\"color: #800000; text-decoration-color: #800000\">information, check </span><span style=\"color: #008000; text-decoration-color: #008000\">'SimulationData.log'</span><span style=\"color: #800000; text-decoration-color: #800000\"> or use                     </span>\n",
       "<span style=\"color: #7fbfbf; text-decoration-color: #7fbfbf\">             </span><span style=\"color: #008000; text-decoration-color: #008000\">'web.download_log(task_id)'</span><span style=\"color: #800000; text-decoration-color: #800000\">.                                       </span>\n",
       "</pre>\n"
      ],
      "text/plain": [
       "\u001b[2;36m            \u001b[0m\u001b[2;36m \u001b[0m\u001b[31mWARNING: Warning messages were found in the solver log. For more   \u001b[0m\n",
       "\u001b[2;36m             \u001b[0m\u001b[31minformation, check \u001b[0m\u001b[32m'SimulationData.log'\u001b[0m\u001b[31m or use                     \u001b[0m\n",
       "\u001b[2;36m             \u001b[0m\u001b[32m'web.download_log\u001b[0m\u001b[32m(\u001b[0m\u001b[32mtask_id\u001b[0m\u001b[32m)\u001b[0m\u001b[32m'\u001b[0m\u001b[31m.                                       \u001b[0m\n"
      ]
     },
     "metadata": {},
     "output_type": "display_data"
    },
    {
     "data": {
      "text/html": [
       "<pre style=\"white-space:pre;overflow-x:auto;line-height:normal;font-family:Menlo,'DejaVu Sans Mono',consolas,'Courier New',monospace\"><span style=\"color: #7fbfbf; text-decoration-color: #7fbfbf\">12:22:07 BST </span><span style=\"color: #800000; text-decoration-color: #800000\">WARNING: A structure has a nonzero dimension along axis z, which is</span>\n",
       "<span style=\"color: #7fbfbf; text-decoration-color: #7fbfbf\">             </span><span style=\"color: #800000; text-decoration-color: #800000\">however too small compared to the generated mesh step along that   </span>\n",
       "<span style=\"color: #7fbfbf; text-decoration-color: #7fbfbf\">             </span><span style=\"color: #800000; text-decoration-color: #800000\">direction. This could produce unpredictable results. We recommend  </span>\n",
       "<span style=\"color: #7fbfbf; text-decoration-color: #7fbfbf\">             </span><span style=\"color: #800000; text-decoration-color: #800000\">increasing the resolution, or adding a mesh override structure to  </span>\n",
       "<span style=\"color: #7fbfbf; text-decoration-color: #7fbfbf\">             </span><span style=\"color: #800000; text-decoration-color: #800000\">ensure that all geometries are at least one pixel thick along all  </span>\n",
       "<span style=\"color: #7fbfbf; text-decoration-color: #7fbfbf\">             </span><span style=\"color: #800000; text-decoration-color: #800000\">dimensions.                                                        </span>\n",
       "</pre>\n"
      ],
      "text/plain": [
       "\u001b[2;36m12:22:07 BST\u001b[0m\u001b[2;36m \u001b[0m\u001b[31mWARNING: A structure has a nonzero dimension along axis z, which is\u001b[0m\n",
       "\u001b[2;36m             \u001b[0m\u001b[31mhowever too small compared to the generated mesh step along that   \u001b[0m\n",
       "\u001b[2;36m             \u001b[0m\u001b[31mdirection. This could produce unpredictable results. We recommend  \u001b[0m\n",
       "\u001b[2;36m             \u001b[0m\u001b[31mincreasing the resolution, or adding a mesh override structure to  \u001b[0m\n",
       "\u001b[2;36m             \u001b[0m\u001b[31mensure that all geometries are at least one pixel thick along all  \u001b[0m\n",
       "\u001b[2;36m             \u001b[0m\u001b[31mdimensions.                                                        \u001b[0m\n"
      ]
     },
     "metadata": {},
     "output_type": "display_data"
    },
    {
     "data": {
      "text/html": [
       "<pre style=\"white-space:pre;overflow-x:auto;line-height:normal;font-family:Menlo,'DejaVu Sans Mono',consolas,'Courier New',monospace\"><span style=\"color: #7fbfbf; text-decoration-color: #7fbfbf\">             </span><span style=\"color: #800000; text-decoration-color: #800000\">WARNING: Warning messages were found in the solver log. For more   </span>\n",
       "<span style=\"color: #7fbfbf; text-decoration-color: #7fbfbf\">             </span><span style=\"color: #800000; text-decoration-color: #800000\">information, check </span><span style=\"color: #008000; text-decoration-color: #008000\">'SimulationData.log'</span><span style=\"color: #800000; text-decoration-color: #800000\"> or use                     </span>\n",
       "<span style=\"color: #7fbfbf; text-decoration-color: #7fbfbf\">             </span><span style=\"color: #008000; text-decoration-color: #008000\">'web.download_log(task_id)'</span><span style=\"color: #800000; text-decoration-color: #800000\">.                                       </span>\n",
       "</pre>\n"
      ],
      "text/plain": [
       "\u001b[2;36m            \u001b[0m\u001b[2;36m \u001b[0m\u001b[31mWARNING: Warning messages were found in the solver log. For more   \u001b[0m\n",
       "\u001b[2;36m             \u001b[0m\u001b[31minformation, check \u001b[0m\u001b[32m'SimulationData.log'\u001b[0m\u001b[31m or use                     \u001b[0m\n",
       "\u001b[2;36m             \u001b[0m\u001b[32m'web.download_log\u001b[0m\u001b[32m(\u001b[0m\u001b[32mtask_id\u001b[0m\u001b[32m)\u001b[0m\u001b[32m'\u001b[0m\u001b[31m.                                       \u001b[0m\n"
      ]
     },
     "metadata": {},
     "output_type": "display_data"
    },
    {
     "data": {
      "text/html": [
       "<pre style=\"white-space:pre;overflow-x:auto;line-height:normal;font-family:Menlo,'DejaVu Sans Mono',consolas,'Courier New',monospace\"><span style=\"color: #7fbfbf; text-decoration-color: #7fbfbf\">12:22:11 BST </span><span style=\"color: #800000; text-decoration-color: #800000\">WARNING: A structure has a nonzero dimension along axis z, which is</span>\n",
       "<span style=\"color: #7fbfbf; text-decoration-color: #7fbfbf\">             </span><span style=\"color: #800000; text-decoration-color: #800000\">however too small compared to the generated mesh step along that   </span>\n",
       "<span style=\"color: #7fbfbf; text-decoration-color: #7fbfbf\">             </span><span style=\"color: #800000; text-decoration-color: #800000\">direction. This could produce unpredictable results. We recommend  </span>\n",
       "<span style=\"color: #7fbfbf; text-decoration-color: #7fbfbf\">             </span><span style=\"color: #800000; text-decoration-color: #800000\">increasing the resolution, or adding a mesh override structure to  </span>\n",
       "<span style=\"color: #7fbfbf; text-decoration-color: #7fbfbf\">             </span><span style=\"color: #800000; text-decoration-color: #800000\">ensure that all geometries are at least one pixel thick along all  </span>\n",
       "<span style=\"color: #7fbfbf; text-decoration-color: #7fbfbf\">             </span><span style=\"color: #800000; text-decoration-color: #800000\">dimensions.                                                        </span>\n",
       "</pre>\n"
      ],
      "text/plain": [
       "\u001b[2;36m12:22:11 BST\u001b[0m\u001b[2;36m \u001b[0m\u001b[31mWARNING: A structure has a nonzero dimension along axis z, which is\u001b[0m\n",
       "\u001b[2;36m             \u001b[0m\u001b[31mhowever too small compared to the generated mesh step along that   \u001b[0m\n",
       "\u001b[2;36m             \u001b[0m\u001b[31mdirection. This could produce unpredictable results. We recommend  \u001b[0m\n",
       "\u001b[2;36m             \u001b[0m\u001b[31mincreasing the resolution, or adding a mesh override structure to  \u001b[0m\n",
       "\u001b[2;36m             \u001b[0m\u001b[31mensure that all geometries are at least one pixel thick along all  \u001b[0m\n",
       "\u001b[2;36m             \u001b[0m\u001b[31mdimensions.                                                        \u001b[0m\n"
      ]
     },
     "metadata": {},
     "output_type": "display_data"
    },
    {
     "data": {
      "text/html": [
       "<pre style=\"white-space:pre;overflow-x:auto;line-height:normal;font-family:Menlo,'DejaVu Sans Mono',consolas,'Courier New',monospace\"><span style=\"color: #7fbfbf; text-decoration-color: #7fbfbf\">             </span><span style=\"color: #800000; text-decoration-color: #800000\">WARNING: Warning messages were found in the solver log. For more   </span>\n",
       "<span style=\"color: #7fbfbf; text-decoration-color: #7fbfbf\">             </span><span style=\"color: #800000; text-decoration-color: #800000\">information, check </span><span style=\"color: #008000; text-decoration-color: #008000\">'SimulationData.log'</span><span style=\"color: #800000; text-decoration-color: #800000\"> or use                     </span>\n",
       "<span style=\"color: #7fbfbf; text-decoration-color: #7fbfbf\">             </span><span style=\"color: #008000; text-decoration-color: #008000\">'web.download_log(task_id)'</span><span style=\"color: #800000; text-decoration-color: #800000\">.                                       </span>\n",
       "</pre>\n"
      ],
      "text/plain": [
       "\u001b[2;36m            \u001b[0m\u001b[2;36m \u001b[0m\u001b[31mWARNING: Warning messages were found in the solver log. For more   \u001b[0m\n",
       "\u001b[2;36m             \u001b[0m\u001b[31minformation, check \u001b[0m\u001b[32m'SimulationData.log'\u001b[0m\u001b[31m or use                     \u001b[0m\n",
       "\u001b[2;36m             \u001b[0m\u001b[32m'web.download_log\u001b[0m\u001b[32m(\u001b[0m\u001b[32mtask_id\u001b[0m\u001b[32m)\u001b[0m\u001b[32m'\u001b[0m\u001b[31m.                                       \u001b[0m\n"
      ]
     },
     "metadata": {},
     "output_type": "display_data"
    },
    {
     "data": {
      "text/html": [
       "<pre style=\"white-space:pre;overflow-x:auto;line-height:normal;font-family:Menlo,'DejaVu Sans Mono',consolas,'Courier New',monospace\"><span style=\"color: #7fbfbf; text-decoration-color: #7fbfbf\">12:22:16 BST </span><span style=\"color: #800000; text-decoration-color: #800000\">WARNING: A structure has a nonzero dimension along axis z, which is</span>\n",
       "<span style=\"color: #7fbfbf; text-decoration-color: #7fbfbf\">             </span><span style=\"color: #800000; text-decoration-color: #800000\">however too small compared to the generated mesh step along that   </span>\n",
       "<span style=\"color: #7fbfbf; text-decoration-color: #7fbfbf\">             </span><span style=\"color: #800000; text-decoration-color: #800000\">direction. This could produce unpredictable results. We recommend  </span>\n",
       "<span style=\"color: #7fbfbf; text-decoration-color: #7fbfbf\">             </span><span style=\"color: #800000; text-decoration-color: #800000\">increasing the resolution, or adding a mesh override structure to  </span>\n",
       "<span style=\"color: #7fbfbf; text-decoration-color: #7fbfbf\">             </span><span style=\"color: #800000; text-decoration-color: #800000\">ensure that all geometries are at least one pixel thick along all  </span>\n",
       "<span style=\"color: #7fbfbf; text-decoration-color: #7fbfbf\">             </span><span style=\"color: #800000; text-decoration-color: #800000\">dimensions.                                                        </span>\n",
       "</pre>\n"
      ],
      "text/plain": [
       "\u001b[2;36m12:22:16 BST\u001b[0m\u001b[2;36m \u001b[0m\u001b[31mWARNING: A structure has a nonzero dimension along axis z, which is\u001b[0m\n",
       "\u001b[2;36m             \u001b[0m\u001b[31mhowever too small compared to the generated mesh step along that   \u001b[0m\n",
       "\u001b[2;36m             \u001b[0m\u001b[31mdirection. This could produce unpredictable results. We recommend  \u001b[0m\n",
       "\u001b[2;36m             \u001b[0m\u001b[31mincreasing the resolution, or adding a mesh override structure to  \u001b[0m\n",
       "\u001b[2;36m             \u001b[0m\u001b[31mensure that all geometries are at least one pixel thick along all  \u001b[0m\n",
       "\u001b[2;36m             \u001b[0m\u001b[31mdimensions.                                                        \u001b[0m\n"
      ]
     },
     "metadata": {},
     "output_type": "display_data"
    },
    {
     "data": {
      "text/html": [
       "<pre style=\"white-space:pre;overflow-x:auto;line-height:normal;font-family:Menlo,'DejaVu Sans Mono',consolas,'Courier New',monospace\"><span style=\"color: #7fbfbf; text-decoration-color: #7fbfbf\">             </span><span style=\"color: #800000; text-decoration-color: #800000\">WARNING: Warning messages were found in the solver log. For more   </span>\n",
       "<span style=\"color: #7fbfbf; text-decoration-color: #7fbfbf\">             </span><span style=\"color: #800000; text-decoration-color: #800000\">information, check </span><span style=\"color: #008000; text-decoration-color: #008000\">'SimulationData.log'</span><span style=\"color: #800000; text-decoration-color: #800000\"> or use                     </span>\n",
       "<span style=\"color: #7fbfbf; text-decoration-color: #7fbfbf\">             </span><span style=\"color: #008000; text-decoration-color: #008000\">'web.download_log(task_id)'</span><span style=\"color: #800000; text-decoration-color: #800000\">.                                       </span>\n",
       "</pre>\n"
      ],
      "text/plain": [
       "\u001b[2;36m            \u001b[0m\u001b[2;36m \u001b[0m\u001b[31mWARNING: Warning messages were found in the solver log. For more   \u001b[0m\n",
       "\u001b[2;36m             \u001b[0m\u001b[31minformation, check \u001b[0m\u001b[32m'SimulationData.log'\u001b[0m\u001b[31m or use                     \u001b[0m\n",
       "\u001b[2;36m             \u001b[0m\u001b[32m'web.download_log\u001b[0m\u001b[32m(\u001b[0m\u001b[32mtask_id\u001b[0m\u001b[32m)\u001b[0m\u001b[32m'\u001b[0m\u001b[31m.                                       \u001b[0m\n"
      ]
     },
     "metadata": {},
     "output_type": "display_data"
    },
    {
     "data": {
      "text/html": [
       "<pre style=\"white-space:pre;overflow-x:auto;line-height:normal;font-family:Menlo,'DejaVu Sans Mono',consolas,'Courier New',monospace\"><span style=\"color: #7fbfbf; text-decoration-color: #7fbfbf\">             </span><span style=\"color: #800000; text-decoration-color: #800000\">WARNING: A structure has a nonzero dimension along axis z, which is</span>\n",
       "<span style=\"color: #7fbfbf; text-decoration-color: #7fbfbf\">             </span><span style=\"color: #800000; text-decoration-color: #800000\">however too small compared to the generated mesh step along that   </span>\n",
       "<span style=\"color: #7fbfbf; text-decoration-color: #7fbfbf\">             </span><span style=\"color: #800000; text-decoration-color: #800000\">direction. This could produce unpredictable results. We recommend  </span>\n",
       "<span style=\"color: #7fbfbf; text-decoration-color: #7fbfbf\">             </span><span style=\"color: #800000; text-decoration-color: #800000\">increasing the resolution, or adding a mesh override structure to  </span>\n",
       "<span style=\"color: #7fbfbf; text-decoration-color: #7fbfbf\">             </span><span style=\"color: #800000; text-decoration-color: #800000\">ensure that all geometries are at least one pixel thick along all  </span>\n",
       "<span style=\"color: #7fbfbf; text-decoration-color: #7fbfbf\">             </span><span style=\"color: #800000; text-decoration-color: #800000\">dimensions.                                                        </span>\n",
       "</pre>\n"
      ],
      "text/plain": [
       "\u001b[2;36m            \u001b[0m\u001b[2;36m \u001b[0m\u001b[31mWARNING: A structure has a nonzero dimension along axis z, which is\u001b[0m\n",
       "\u001b[2;36m             \u001b[0m\u001b[31mhowever too small compared to the generated mesh step along that   \u001b[0m\n",
       "\u001b[2;36m             \u001b[0m\u001b[31mdirection. This could produce unpredictable results. We recommend  \u001b[0m\n",
       "\u001b[2;36m             \u001b[0m\u001b[31mincreasing the resolution, or adding a mesh override structure to  \u001b[0m\n",
       "\u001b[2;36m             \u001b[0m\u001b[31mensure that all geometries are at least one pixel thick along all  \u001b[0m\n",
       "\u001b[2;36m             \u001b[0m\u001b[31mdimensions.                                                        \u001b[0m\n"
      ]
     },
     "metadata": {},
     "output_type": "display_data"
    },
    {
     "data": {
      "text/html": [
       "<pre style=\"white-space:pre;overflow-x:auto;line-height:normal;font-family:Menlo,'DejaVu Sans Mono',consolas,'Courier New',monospace\"><span style=\"color: #7fbfbf; text-decoration-color: #7fbfbf\">             </span><span style=\"color: #800000; text-decoration-color: #800000\">WARNING: Warning messages were found in the solver log. For more   </span>\n",
       "<span style=\"color: #7fbfbf; text-decoration-color: #7fbfbf\">             </span><span style=\"color: #800000; text-decoration-color: #800000\">information, check </span><span style=\"color: #008000; text-decoration-color: #008000\">'SimulationData.log'</span><span style=\"color: #800000; text-decoration-color: #800000\"> or use                     </span>\n",
       "<span style=\"color: #7fbfbf; text-decoration-color: #7fbfbf\">             </span><span style=\"color: #008000; text-decoration-color: #008000\">'web.download_log(task_id)'</span><span style=\"color: #800000; text-decoration-color: #800000\">.                                       </span>\n",
       "</pre>\n"
      ],
      "text/plain": [
       "\u001b[2;36m            \u001b[0m\u001b[2;36m \u001b[0m\u001b[31mWARNING: Warning messages were found in the solver log. For more   \u001b[0m\n",
       "\u001b[2;36m             \u001b[0m\u001b[31minformation, check \u001b[0m\u001b[32m'SimulationData.log'\u001b[0m\u001b[31m or use                     \u001b[0m\n",
       "\u001b[2;36m             \u001b[0m\u001b[32m'web.download_log\u001b[0m\u001b[32m(\u001b[0m\u001b[32mtask_id\u001b[0m\u001b[32m)\u001b[0m\u001b[32m'\u001b[0m\u001b[31m.                                       \u001b[0m\n"
      ]
     },
     "metadata": {},
     "output_type": "display_data"
    },
    {
     "data": {
      "text/html": [
       "<pre style=\"white-space:pre;overflow-x:auto;line-height:normal;font-family:Menlo,'DejaVu Sans Mono',consolas,'Courier New',monospace\"><span style=\"color: #7fbfbf; text-decoration-color: #7fbfbf\">12:22:19 BST </span><span style=\"color: #800000; text-decoration-color: #800000\">WARNING: A structure has a nonzero dimension along axis z, which is</span>\n",
       "<span style=\"color: #7fbfbf; text-decoration-color: #7fbfbf\">             </span><span style=\"color: #800000; text-decoration-color: #800000\">however too small compared to the generated mesh step along that   </span>\n",
       "<span style=\"color: #7fbfbf; text-decoration-color: #7fbfbf\">             </span><span style=\"color: #800000; text-decoration-color: #800000\">direction. This could produce unpredictable results. We recommend  </span>\n",
       "<span style=\"color: #7fbfbf; text-decoration-color: #7fbfbf\">             </span><span style=\"color: #800000; text-decoration-color: #800000\">increasing the resolution, or adding a mesh override structure to  </span>\n",
       "<span style=\"color: #7fbfbf; text-decoration-color: #7fbfbf\">             </span><span style=\"color: #800000; text-decoration-color: #800000\">ensure that all geometries are at least one pixel thick along all  </span>\n",
       "<span style=\"color: #7fbfbf; text-decoration-color: #7fbfbf\">             </span><span style=\"color: #800000; text-decoration-color: #800000\">dimensions.                                                        </span>\n",
       "</pre>\n"
      ],
      "text/plain": [
       "\u001b[2;36m12:22:19 BST\u001b[0m\u001b[2;36m \u001b[0m\u001b[31mWARNING: A structure has a nonzero dimension along axis z, which is\u001b[0m\n",
       "\u001b[2;36m             \u001b[0m\u001b[31mhowever too small compared to the generated mesh step along that   \u001b[0m\n",
       "\u001b[2;36m             \u001b[0m\u001b[31mdirection. This could produce unpredictable results. We recommend  \u001b[0m\n",
       "\u001b[2;36m             \u001b[0m\u001b[31mincreasing the resolution, or adding a mesh override structure to  \u001b[0m\n",
       "\u001b[2;36m             \u001b[0m\u001b[31mensure that all geometries are at least one pixel thick along all  \u001b[0m\n",
       "\u001b[2;36m             \u001b[0m\u001b[31mdimensions.                                                        \u001b[0m\n"
      ]
     },
     "metadata": {},
     "output_type": "display_data"
    },
    {
     "data": {
      "text/html": [
       "<pre style=\"white-space:pre;overflow-x:auto;line-height:normal;font-family:Menlo,'DejaVu Sans Mono',consolas,'Courier New',monospace\"><span style=\"color: #7fbfbf; text-decoration-color: #7fbfbf\">             </span><span style=\"color: #800000; text-decoration-color: #800000\">WARNING: Warning messages were found in the solver log. For more   </span>\n",
       "<span style=\"color: #7fbfbf; text-decoration-color: #7fbfbf\">             </span><span style=\"color: #800000; text-decoration-color: #800000\">information, check </span><span style=\"color: #008000; text-decoration-color: #008000\">'SimulationData.log'</span><span style=\"color: #800000; text-decoration-color: #800000\"> or use                     </span>\n",
       "<span style=\"color: #7fbfbf; text-decoration-color: #7fbfbf\">             </span><span style=\"color: #008000; text-decoration-color: #008000\">'web.download_log(task_id)'</span><span style=\"color: #800000; text-decoration-color: #800000\">.                                       </span>\n",
       "</pre>\n"
      ],
      "text/plain": [
       "\u001b[2;36m            \u001b[0m\u001b[2;36m \u001b[0m\u001b[31mWARNING: Warning messages were found in the solver log. For more   \u001b[0m\n",
       "\u001b[2;36m             \u001b[0m\u001b[31minformation, check \u001b[0m\u001b[32m'SimulationData.log'\u001b[0m\u001b[31m or use                     \u001b[0m\n",
       "\u001b[2;36m             \u001b[0m\u001b[32m'web.download_log\u001b[0m\u001b[32m(\u001b[0m\u001b[32mtask_id\u001b[0m\u001b[32m)\u001b[0m\u001b[32m'\u001b[0m\u001b[31m.                                       \u001b[0m\n"
      ]
     },
     "metadata": {},
     "output_type": "display_data"
    },
    {
     "data": {
      "text/html": [
       "<pre style=\"white-space:pre;overflow-x:auto;line-height:normal;font-family:Menlo,'DejaVu Sans Mono',consolas,'Courier New',monospace\"><span style=\"color: #7fbfbf; text-decoration-color: #7fbfbf\">12:22:21 BST </span><span style=\"color: #800000; text-decoration-color: #800000\">WARNING: A structure has a nonzero dimension along axis z, which is</span>\n",
       "<span style=\"color: #7fbfbf; text-decoration-color: #7fbfbf\">             </span><span style=\"color: #800000; text-decoration-color: #800000\">however too small compared to the generated mesh step along that   </span>\n",
       "<span style=\"color: #7fbfbf; text-decoration-color: #7fbfbf\">             </span><span style=\"color: #800000; text-decoration-color: #800000\">direction. This could produce unpredictable results. We recommend  </span>\n",
       "<span style=\"color: #7fbfbf; text-decoration-color: #7fbfbf\">             </span><span style=\"color: #800000; text-decoration-color: #800000\">increasing the resolution, or adding a mesh override structure to  </span>\n",
       "<span style=\"color: #7fbfbf; text-decoration-color: #7fbfbf\">             </span><span style=\"color: #800000; text-decoration-color: #800000\">ensure that all geometries are at least one pixel thick along all  </span>\n",
       "<span style=\"color: #7fbfbf; text-decoration-color: #7fbfbf\">             </span><span style=\"color: #800000; text-decoration-color: #800000\">dimensions.                                                        </span>\n",
       "</pre>\n"
      ],
      "text/plain": [
       "\u001b[2;36m12:22:21 BST\u001b[0m\u001b[2;36m \u001b[0m\u001b[31mWARNING: A structure has a nonzero dimension along axis z, which is\u001b[0m\n",
       "\u001b[2;36m             \u001b[0m\u001b[31mhowever too small compared to the generated mesh step along that   \u001b[0m\n",
       "\u001b[2;36m             \u001b[0m\u001b[31mdirection. This could produce unpredictable results. We recommend  \u001b[0m\n",
       "\u001b[2;36m             \u001b[0m\u001b[31mincreasing the resolution, or adding a mesh override structure to  \u001b[0m\n",
       "\u001b[2;36m             \u001b[0m\u001b[31mensure that all geometries are at least one pixel thick along all  \u001b[0m\n",
       "\u001b[2;36m             \u001b[0m\u001b[31mdimensions.                                                        \u001b[0m\n"
      ]
     },
     "metadata": {},
     "output_type": "display_data"
    },
    {
     "data": {
      "text/html": [
       "<pre style=\"white-space:pre;overflow-x:auto;line-height:normal;font-family:Menlo,'DejaVu Sans Mono',consolas,'Courier New',monospace\"><span style=\"color: #7fbfbf; text-decoration-color: #7fbfbf\">             </span><span style=\"color: #800000; text-decoration-color: #800000\">WARNING: Warning messages were found in the solver log. For more   </span>\n",
       "<span style=\"color: #7fbfbf; text-decoration-color: #7fbfbf\">             </span><span style=\"color: #800000; text-decoration-color: #800000\">information, check </span><span style=\"color: #008000; text-decoration-color: #008000\">'SimulationData.log'</span><span style=\"color: #800000; text-decoration-color: #800000\"> or use                     </span>\n",
       "<span style=\"color: #7fbfbf; text-decoration-color: #7fbfbf\">             </span><span style=\"color: #008000; text-decoration-color: #008000\">'web.download_log(task_id)'</span><span style=\"color: #800000; text-decoration-color: #800000\">.                                       </span>\n",
       "</pre>\n"
      ],
      "text/plain": [
       "\u001b[2;36m            \u001b[0m\u001b[2;36m \u001b[0m\u001b[31mWARNING: Warning messages were found in the solver log. For more   \u001b[0m\n",
       "\u001b[2;36m             \u001b[0m\u001b[31minformation, check \u001b[0m\u001b[32m'SimulationData.log'\u001b[0m\u001b[31m or use                     \u001b[0m\n",
       "\u001b[2;36m             \u001b[0m\u001b[32m'web.download_log\u001b[0m\u001b[32m(\u001b[0m\u001b[32mtask_id\u001b[0m\u001b[32m)\u001b[0m\u001b[32m'\u001b[0m\u001b[31m.                                       \u001b[0m\n"
      ]
     },
     "metadata": {},
     "output_type": "display_data"
    },
    {
     "data": {
      "text/html": [
       "<pre style=\"white-space:pre;overflow-x:auto;line-height:normal;font-family:Menlo,'DejaVu Sans Mono',consolas,'Courier New',monospace\"><span style=\"color: #7fbfbf; text-decoration-color: #7fbfbf\">12:22:22 BST </span><span style=\"color: #800000; text-decoration-color: #800000\">WARNING: A structure has a nonzero dimension along axis z, which is</span>\n",
       "<span style=\"color: #7fbfbf; text-decoration-color: #7fbfbf\">             </span><span style=\"color: #800000; text-decoration-color: #800000\">however too small compared to the generated mesh step along that   </span>\n",
       "<span style=\"color: #7fbfbf; text-decoration-color: #7fbfbf\">             </span><span style=\"color: #800000; text-decoration-color: #800000\">direction. This could produce unpredictable results. We recommend  </span>\n",
       "<span style=\"color: #7fbfbf; text-decoration-color: #7fbfbf\">             </span><span style=\"color: #800000; text-decoration-color: #800000\">increasing the resolution, or adding a mesh override structure to  </span>\n",
       "<span style=\"color: #7fbfbf; text-decoration-color: #7fbfbf\">             </span><span style=\"color: #800000; text-decoration-color: #800000\">ensure that all geometries are at least one pixel thick along all  </span>\n",
       "<span style=\"color: #7fbfbf; text-decoration-color: #7fbfbf\">             </span><span style=\"color: #800000; text-decoration-color: #800000\">dimensions.                                                        </span>\n",
       "</pre>\n"
      ],
      "text/plain": [
       "\u001b[2;36m12:22:22 BST\u001b[0m\u001b[2;36m \u001b[0m\u001b[31mWARNING: A structure has a nonzero dimension along axis z, which is\u001b[0m\n",
       "\u001b[2;36m             \u001b[0m\u001b[31mhowever too small compared to the generated mesh step along that   \u001b[0m\n",
       "\u001b[2;36m             \u001b[0m\u001b[31mdirection. This could produce unpredictable results. We recommend  \u001b[0m\n",
       "\u001b[2;36m             \u001b[0m\u001b[31mincreasing the resolution, or adding a mesh override structure to  \u001b[0m\n",
       "\u001b[2;36m             \u001b[0m\u001b[31mensure that all geometries are at least one pixel thick along all  \u001b[0m\n",
       "\u001b[2;36m             \u001b[0m\u001b[31mdimensions.                                                        \u001b[0m\n"
      ]
     },
     "metadata": {},
     "output_type": "display_data"
    },
    {
     "data": {
      "text/html": [
       "<pre style=\"white-space:pre;overflow-x:auto;line-height:normal;font-family:Menlo,'DejaVu Sans Mono',consolas,'Courier New',monospace\"><span style=\"color: #7fbfbf; text-decoration-color: #7fbfbf\">             </span><span style=\"color: #800000; text-decoration-color: #800000\">WARNING: Warning messages were found in the solver log. For more   </span>\n",
       "<span style=\"color: #7fbfbf; text-decoration-color: #7fbfbf\">             </span><span style=\"color: #800000; text-decoration-color: #800000\">information, check </span><span style=\"color: #008000; text-decoration-color: #008000\">'SimulationData.log'</span><span style=\"color: #800000; text-decoration-color: #800000\"> or use                     </span>\n",
       "<span style=\"color: #7fbfbf; text-decoration-color: #7fbfbf\">             </span><span style=\"color: #008000; text-decoration-color: #008000\">'web.download_log(task_id)'</span><span style=\"color: #800000; text-decoration-color: #800000\">.                                       </span>\n",
       "</pre>\n"
      ],
      "text/plain": [
       "\u001b[2;36m            \u001b[0m\u001b[2;36m \u001b[0m\u001b[31mWARNING: Warning messages were found in the solver log. For more   \u001b[0m\n",
       "\u001b[2;36m             \u001b[0m\u001b[31minformation, check \u001b[0m\u001b[32m'SimulationData.log'\u001b[0m\u001b[31m or use                     \u001b[0m\n",
       "\u001b[2;36m             \u001b[0m\u001b[32m'web.download_log\u001b[0m\u001b[32m(\u001b[0m\u001b[32mtask_id\u001b[0m\u001b[32m)\u001b[0m\u001b[32m'\u001b[0m\u001b[31m.                                       \u001b[0m\n"
      ]
     },
     "metadata": {},
     "output_type": "display_data"
    }
   ],
   "source": [
    "# Run the MC\n",
    "results = design_space.run(fn_pre, fn_post, verbose=True)\n",
    "df = results.to_dataframe()"
   ]
  },
  {
   "cell_type": "code",
   "execution_count": 22,
   "metadata": {},
   "outputs": [],
   "source": [
    "# TESTING: Save off the df or load the df\n",
    "import pickle\n",
    "import os\n",
    "os.chdir(\"/home/matt/Documents/Flexcompute/bullseye/data\")\n",
    "# with open(\"result_100.pkl\", \"wb\") as out_file:\n",
    "#     pickle.dump(results, out_file)\n",
    "\n",
    "\n",
    "with open(\"result_100.pkl\", \"rb\") as in_file:\n",
    "    results = pickle.load(in_file)\n",
    "\n",
    "df = results.to_dataframe()"
   ]
  },
  {
   "cell_type": "code",
   "execution_count": null,
   "metadata": {},
   "outputs": [],
   "source": [
    "# Get ce across the range\n",
    "ce = []\n",
    "for task_path in results.task_paths:\n",
    "    sim_data = td.SimulationData.from_hdf5(task_path)\n",
    "    ce.append(get_coupling_eff(sim_data))"
   ]
  },
  {
   "cell_type": "markdown",
   "metadata": {},
   "source": [
    "## Surrogate"
   ]
  },
  {
   "cell_type": "code",
   "execution_count": 25,
   "metadata": {},
   "outputs": [],
   "source": [
    "# Expand the array by each frequency value\n",
    "df[\"ce\"] = ce\n",
    "df_expand = df.explode(\"ce\").reset_index(drop=True)\n",
    "df_expand[\"freq\"] = df_expand[\"ce\"].apply(lambda x: float(x.f))\n",
    "df_expand[\"ce\"] = df_expand[\"ce\"].apply(lambda x: float(x))\n",
    "\n",
    "\n",
    "# df_expanded_t1 = df.explode(\"T1\").reset_index(drop=True)\n",
    "# df_expanded_t2 = df.explode(\"T2\").reset_index(drop=True)\n",
    "# df_expanded_t1[\"freq\"] = df_expanded_t1[\"T1\"].apply(lambda x: float(x.f))\n",
    "# df_expanded_t1[\"T2\"] = df_expanded_t2[\"T2\"].apply(lambda x: float(x))\n",
    "# df_expanded_t1[\"T1\"] = df_expanded_t1[\"T1\"].apply(lambda x: float(x))\n",
    "\n",
    "# expanded_df = df_expanded_t1\n",
    "\n",
    "# Some shit to get couple eff and Purcell"
   ]
  },
  {
   "cell_type": "code",
   "execution_count": 27,
   "metadata": {},
   "outputs": [
    {
     "name": "stdout",
     "output_type": "stream",
     "text": [
      "Using existing directory at pickle_data\n",
      "Using existing directory at models\n",
      "Using device cuda:0\n"
     ]
    }
   ],
   "source": [
    "import torch\n",
    "import torch.nn as nn\n",
    "import torch.optim as optim\n",
    "\n",
    "from tidy3d.plugins.design.surrogate_object import AI_Model\n",
    "\n",
    "# Constants\n",
    "output_dir = \"/home/matt/Documents/Flexcompute/bullseye\"\n",
    "data_dir = [\"/home/matt/Documents/Flexcompute/bullseye/data/\"]\n",
    "\n",
    "test_percentage = 0.20\n",
    "valid_percentage = 0.20\n",
    "batch_size = 64\n",
    "epochs = 100\n",
    "\n",
    "trial_count = 20\n",
    "\n",
    "model = AI_Model(output_dir, data_dir, seed=1)\n",
    "\n",
    "model.load_data_from_df(\n",
    "    df=df_expand,\n",
    "    label_names=[\"ce\"],\n",
    "    feature_names=[\"r\", \"p\", \"w\", \"h\", \"t_sio2\", \"dcf\", \"freq\"],\n",
    "    test_percentage=test_percentage,\n",
    "    valid_percentage=valid_percentage,\n",
    "    batch_size=batch_size,\n",
    "    individual_feature_scaling=True\n",
    ")\n",
    "\n",
    "loss_fn = nn.MSELoss()\n"
   ]
  },
  {
   "cell_type": "code",
   "execution_count": 30,
   "metadata": {},
   "outputs": [],
   "source": [
    "# Define the model in PyTorch\n",
    "class VariableANN(nn.Module):\n",
    "    def __init__(self, input_size, neurons, dropout) -> None:\n",
    "        super().__init__()\n",
    "        self.layers = nn.ModuleList()\n",
    "        self.layers.append(nn.Linear(input_size, neurons[0]))\n",
    "\n",
    "        for i in range(1, len(neurons)):\n",
    "            self.layers.append(nn.Linear(neurons[i - 1], neurons[i]))\n",
    "\n",
    "        self.layers.append(nn.Linear(neurons[-1], 1))\n",
    "\n",
    "        self.drop = nn.Dropout(dropout)\n",
    "        self.relu = nn.ReLU()\n",
    "\n",
    "    def forward(self, x):\n",
    "        for layer in self.layers[:-1]:\n",
    "            x = self.drop(self.relu(layer(x)))\n",
    "\n",
    "        x = self.layers[-1](x)\n",
    "\n",
    "        return x"
   ]
  },
  {
   "cell_type": "code",
   "execution_count": 31,
   "metadata": {},
   "outputs": [
    {
     "name": "stdout",
     "output_type": "stream",
     "text": [
      "Using existing directory at Model1\n"
     ]
    },
    {
     "name": "stderr",
     "output_type": "stream",
     "text": [
      "  2%|▏         | 2/100 [00:00<00:06, 15.15it/s]"
     ]
    },
    {
     "name": "stdout",
     "output_type": "stream",
     "text": [
      "Best State Updated. Epoch: 0\n",
      "Best State Updated. Epoch: 1\n",
      "Best State Updated. Epoch: 2\n"
     ]
    },
    {
     "name": "stderr",
     "output_type": "stream",
     "text": [
      "  4%|▍         | 4/100 [00:00<00:05, 17.36it/s]"
     ]
    },
    {
     "name": "stdout",
     "output_type": "stream",
     "text": [
      "Best State Updated. Epoch: 3\n"
     ]
    },
    {
     "name": "stderr",
     "output_type": "stream",
     "text": [
      "  6%|▌         | 6/100 [00:00<00:05, 16.18it/s]"
     ]
    },
    {
     "name": "stdout",
     "output_type": "stream",
     "text": [
      "Best State Updated. Epoch: 4\n",
      "Best State Updated. Epoch: 5\n",
      "Best State Updated. Epoch: 6\n"
     ]
    },
    {
     "name": "stderr",
     "output_type": "stream",
     "text": [
      "  9%|▉         | 9/100 [00:00<00:05, 18.08it/s]"
     ]
    },
    {
     "name": "stdout",
     "output_type": "stream",
     "text": [
      "Best State Updated. Epoch: 7\n"
     ]
    },
    {
     "name": "stderr",
     "output_type": "stream",
     "text": [
      " 11%|█         | 11/100 [00:00<00:04, 17.83it/s]"
     ]
    },
    {
     "name": "stdout",
     "output_type": "stream",
     "text": [
      "Best State Updated. Epoch: 9\n"
     ]
    },
    {
     "name": "stderr",
     "output_type": "stream",
     "text": [
      " 13%|█▎        | 13/100 [00:00<00:04, 17.84it/s]"
     ]
    },
    {
     "name": "stdout",
     "output_type": "stream",
     "text": [
      "Best State Updated. Epoch: 11\n",
      "Best State Updated. Epoch: 12\n"
     ]
    },
    {
     "name": "stderr",
     "output_type": "stream",
     "text": [
      " 15%|█▌        | 15/100 [00:00<00:04, 17.75it/s]"
     ]
    },
    {
     "name": "stdout",
     "output_type": "stream",
     "text": [
      "Best State Updated. Epoch: 14\n"
     ]
    },
    {
     "name": "stderr",
     "output_type": "stream",
     "text": [
      " 17%|█▋        | 17/100 [00:00<00:04, 17.28it/s]"
     ]
    },
    {
     "name": "stdout",
     "output_type": "stream",
     "text": [
      "Best State Updated. Epoch: 15\n",
      "Best State Updated. Epoch: 17\n"
     ]
    },
    {
     "name": "stderr",
     "output_type": "stream",
     "text": [
      " 19%|█▉        | 19/100 [00:01<00:04, 18.02it/s]"
     ]
    },
    {
     "name": "stdout",
     "output_type": "stream",
     "text": [
      "Best State Updated. Epoch: 18\n"
     ]
    },
    {
     "name": "stderr",
     "output_type": "stream",
     "text": [
      " 21%|██        | 21/100 [00:01<00:04, 17.39it/s]"
     ]
    },
    {
     "name": "stdout",
     "output_type": "stream",
     "text": [
      "Best State Updated. Epoch: 19\n",
      "Best State Updated. Epoch: 21\n"
     ]
    },
    {
     "name": "stderr",
     "output_type": "stream",
     "text": [
      " 26%|██▌       | 26/100 [00:01<00:04, 18.21it/s]"
     ]
    },
    {
     "name": "stdout",
     "output_type": "stream",
     "text": [
      "Best State Updated. Epoch: 22\n",
      "Best State Updated. Epoch: 23\n",
      "Best State Updated. Epoch: 24\n",
      "Best State Updated. Epoch: 25\n",
      "Best State Updated. Epoch: 26\n"
     ]
    },
    {
     "name": "stderr",
     "output_type": "stream",
     "text": [
      " 31%|███       | 31/100 [00:01<00:03, 19.31it/s]"
     ]
    },
    {
     "name": "stdout",
     "output_type": "stream",
     "text": [
      "Best State Updated. Epoch: 27\n",
      "Best State Updated. Epoch: 28\n",
      "Best State Updated. Epoch: 29\n",
      "Best State Updated. Epoch: 30\n",
      "Best State Updated. Epoch: 31\n"
     ]
    },
    {
     "name": "stderr",
     "output_type": "stream",
     "text": [
      " 36%|███▌      | 36/100 [00:01<00:03, 20.13it/s]"
     ]
    },
    {
     "name": "stdout",
     "output_type": "stream",
     "text": [
      "Best State Updated. Epoch: 32\n",
      "Best State Updated. Epoch: 34\n"
     ]
    },
    {
     "name": "stderr",
     "output_type": "stream",
     "text": [
      " 41%|████      | 41/100 [00:02<00:03, 18.77it/s]"
     ]
    },
    {
     "name": "stdout",
     "output_type": "stream",
     "text": [
      "Best State Updated. Epoch: 37\n",
      "Best State Updated. Epoch: 39\n",
      "Best State Updated. Epoch: 40\n"
     ]
    },
    {
     "name": "stderr",
     "output_type": "stream",
     "text": [
      " 45%|████▌     | 45/100 [00:02<00:03, 18.24it/s]"
     ]
    },
    {
     "name": "stdout",
     "output_type": "stream",
     "text": [
      "Best State Updated. Epoch: 41\n",
      "Best State Updated. Epoch: 43\n"
     ]
    },
    {
     "name": "stderr",
     "output_type": "stream",
     "text": [
      " 48%|████▊     | 48/100 [00:02<00:02, 18.94it/s]"
     ]
    },
    {
     "name": "stdout",
     "output_type": "stream",
     "text": [
      "Best State Updated. Epoch: 45\n",
      "Best State Updated. Epoch: 46\n",
      "Best State Updated. Epoch: 49\n"
     ]
    },
    {
     "name": "stderr",
     "output_type": "stream",
     "text": [
      " 53%|█████▎    | 53/100 [00:02<00:02, 18.90it/s]"
     ]
    },
    {
     "name": "stdout",
     "output_type": "stream",
     "text": [
      "Best State Updated. Epoch: 50\n",
      "Best State Updated. Epoch: 53\n"
     ]
    },
    {
     "name": "stderr",
     "output_type": "stream",
     "text": [
      " 56%|█████▌    | 56/100 [00:03<00:02, 19.51it/s]"
     ]
    },
    {
     "name": "stdout",
     "output_type": "stream",
     "text": [
      "Best State Updated. Epoch: 54\n"
     ]
    },
    {
     "name": "stderr",
     "output_type": "stream",
     "text": [
      " 71%|███████   | 71/100 [00:03<00:01, 19.46it/s]"
     ]
    },
    {
     "name": "stdout",
     "output_type": "stream",
     "text": [
      "Best State Updated. Epoch: 67\n"
     ]
    },
    {
     "name": "stderr",
     "output_type": "stream",
     "text": [
      " 79%|███████▉  | 79/100 [00:04<00:01, 20.49it/s]"
     ]
    },
    {
     "name": "stdout",
     "output_type": "stream",
     "text": [
      "Best State Updated. Epoch: 76\n",
      "Best State Updated. Epoch: 79\n"
     ]
    },
    {
     "name": "stderr",
     "output_type": "stream",
     "text": [
      " 93%|█████████▎| 93/100 [00:04<00:00, 20.83it/s]"
     ]
    },
    {
     "name": "stdout",
     "output_type": "stream",
     "text": [
      "Best State Updated. Epoch: 88\n"
     ]
    },
    {
     "name": "stderr",
     "output_type": "stream",
     "text": [
      " 99%|█████████▉| 99/100 [00:05<00:00, 19.21it/s]"
     ]
    },
    {
     "data": {
      "image/png": "[encoded data removed]",
      "text/plain": [
       "<Figure size 640x480 with 2 Axes>"
      ]
     },
     "metadata": {},
     "output_type": "display_data"
    },
    {
     "name": "stderr",
     "output_type": "stream",
     "text": [
      "100%|██████████| 100/100 [00:05<00:00, 18.44it/s]"
     ]
    },
    {
     "name": "stdout",
     "output_type": "stream",
     "text": [
      " Best Test Loss: 0.2667745053768158\n",
      "RMSE: 0.036202\n",
      "MAE: 0.024547\n"
     ]
    },
    {
     "name": "stderr",
     "output_type": "stream",
     "text": [
      "\n"
     ]
    }
   ],
   "source": [
    "# Create single model\n",
    "network = VariableANN(7, [4, 4, 4], 0.2)\n",
    "opt = optim.Adam(network.parameters(), lr=0.001, weight_decay=0.0001)\n",
    "\n",
    "trained_net = model.train_model(\"Model1\", network, opt, loss_fn, epochs, plot_output=True)\n",
    "test_rmse, _, test_predictions = model.validate_model(trained_net, \"test\")"
   ]
  },
  {
   "cell_type": "code",
   "execution_count": 32,
   "metadata": {},
   "outputs": [
    {
     "name": "stderr",
     "output_type": "stream",
     "text": [
      "[I 2024-08-22 14:02:23,147] A new study created in memory with name: no-name-053265b4-ed69-470b-8a33-90eb362c3896\n"
     ]
    },
    {
     "name": "stdout",
     "output_type": "stream",
     "text": [
      "Making temp model folder\n"
     ]
    },
    {
     "name": "stderr",
     "output_type": "stream",
     "text": [
      "100%|██████████| 100/100 [00:06<00:00, 16.53it/s]\n",
      "[I 2024-08-22 14:02:29,211] Trial 0 finished with value: 0.033077 and parameters: {'dropout': 0.2, 'neurons0': 192, 'neurons1': 16, 'neurons2': 80, 'neurons3': 48, 'neurons4': 32, 'lr': 5.5595654267125665e-05, 'weight_decay': 4.9104518184659654e-05}. Best is trial 0 with value: 0.033077.\n"
     ]
    },
    {
     "name": "stdout",
     "output_type": "stream",
     "text": [
      " Best Test Loss: 0.22131243348121643\n",
      "RMSE: 0.033077\n",
      "MAE: 0.022237\n",
      "Making temp model folder\n",
      "Using existing directory at temp\n"
     ]
    },
    {
     "name": "stderr",
     "output_type": "stream",
     "text": [
      "100%|██████████| 100/100 [00:06<00:00, 16.28it/s]\n",
      "[I 2024-08-22 14:02:35,364] Trial 1 finished with value: 0.035378 and parameters: {'dropout': 0.2, 'neurons0': 144, 'neurons1': 112, 'neurons2': 176, 'neurons3': 64, 'neurons4': 240, 'lr': 1.2869165107815022e-05, 'weight_decay': 0.00021924768698806357}. Best is trial 0 with value: 0.033077.\n"
     ]
    },
    {
     "name": "stdout",
     "output_type": "stream",
     "text": [
      " Best Test Loss: 0.2520836293697357\n",
      "RMSE: 0.035378\n",
      "MAE: 0.023674\n",
      "Making temp model folder\n",
      "Using existing directory at temp\n"
     ]
    },
    {
     "name": "stderr",
     "output_type": "stream",
     "text": [
      "100%|██████████| 100/100 [00:06<00:00, 15.90it/s]\n",
      "[I 2024-08-22 14:02:41,663] Trial 2 finished with value: 0.01986 and parameters: {'dropout': 0.2, 'neurons0': 144, 'neurons1': 48, 'neurons2': 64, 'neurons3': 208, 'neurons4': 256, 'lr': 0.00017934807211789802, 'weight_decay': 0.00024246286430387818}. Best is trial 2 with value: 0.01986.\n"
     ]
    },
    {
     "name": "stdout",
     "output_type": "stream",
     "text": [
      " Best Test Loss: 0.07788965106010437\n",
      "RMSE: 0.01986\n",
      "MAE: 0.013231\n",
      "Making temp model folder\n",
      "Using existing directory at temp\n"
     ]
    },
    {
     "name": "stderr",
     "output_type": "stream",
     "text": [
      "100%|██████████| 100/100 [00:06<00:00, 16.42it/s]\n",
      "[I 2024-08-22 14:02:47,763] Trial 3 finished with value: 0.037447 and parameters: {'dropout': 0.45, 'neurons0': 240, 'neurons1': 32, 'neurons2': 16, 'neurons3': 48, 'neurons4': 240, 'lr': 2.473929591304018e-05, 'weight_decay': 6.953688788898672e-05}. Best is trial 2 with value: 0.01986.\n"
     ]
    },
    {
     "name": "stdout",
     "output_type": "stream",
     "text": [
      " Best Test Loss: 0.28670045733451843\n",
      "RMSE: 0.037447\n",
      "MAE: 0.025783\n",
      "Making temp model folder\n",
      "Using existing directory at temp\n"
     ]
    },
    {
     "name": "stderr",
     "output_type": "stream",
     "text": [
      "100%|██████████| 100/100 [00:06<00:00, 16.22it/s]\n",
      "[I 2024-08-22 14:02:53,941] Trial 4 finished with value: 0.038451 and parameters: {'dropout': 0.5, 'neurons0': 144, 'neurons1': 192, 'neurons2': 96, 'neurons3': 176, 'neurons4': 224, 'lr': 1.183458707441061e-05, 'weight_decay': 0.00031643799922388406}. Best is trial 2 with value: 0.01986.\n"
     ]
    },
    {
     "name": "stdout",
     "output_type": "stream",
     "text": [
      " Best Test Loss: 0.3031437397003174\n",
      "RMSE: 0.038451\n",
      "MAE: 0.026214\n",
      "Making temp model folder\n",
      "Using existing directory at temp\n"
     ]
    },
    {
     "name": "stderr",
     "output_type": "stream",
     "text": [
      "100%|██████████| 100/100 [00:06<00:00, 16.56it/s]\n",
      "[I 2024-08-22 14:02:59,988] Trial 5 finished with value: 0.038734 and parameters: {'dropout': 0.5, 'neurons0': 192, 'neurons1': 80, 'neurons2': 208, 'neurons3': 32, 'neurons4': 128, 'lr': 0.04309054751874313, 'weight_decay': 3.8657013301325196e-05}. Best is trial 2 with value: 0.01986.\n"
     ]
    },
    {
     "name": "stdout",
     "output_type": "stream",
     "text": [
      " Best Test Loss: 0.3075864315032959\n",
      "RMSE: 0.038734\n",
      "MAE: 0.026965\n",
      "Making temp model folder\n",
      "Using existing directory at temp\n"
     ]
    },
    {
     "name": "stderr",
     "output_type": "stream",
     "text": [
      "100%|██████████| 100/100 [00:06<00:00, 16.20it/s]\n",
      "[I 2024-08-22 14:03:06,172] Trial 6 finished with value: 0.017209 and parameters: {'dropout': 0.15000000000000002, 'neurons0': 48, 'neurons1': 16, 'neurons2': 176, 'neurons3': 64, 'neurons4': 80, 'lr': 0.0009253214657642581, 'weight_decay': 1.2785717080546074e-05}. Best is trial 6 with value: 0.017209.\n"
     ]
    },
    {
     "name": "stdout",
     "output_type": "stream",
     "text": [
      " Best Test Loss: 0.05886761099100113\n",
      "RMSE: 0.017209\n",
      "MAE: 0.011244\n",
      "Making temp model folder\n",
      "Using existing directory at temp\n"
     ]
    },
    {
     "name": "stderr",
     "output_type": "stream",
     "text": [
      "100%|██████████| 100/100 [00:05<00:00, 16.95it/s]\n",
      "[I 2024-08-22 14:03:12,080] Trial 7 finished with value: 0.038733 and parameters: {'dropout': 0.30000000000000004, 'neurons0': 48, 'neurons1': 160, 'neurons2': 192, 'neurons3': 32, 'neurons4': 112, 'lr': 0.005992397731141758, 'weight_decay': 6.735324727887574e-05}. Best is trial 6 with value: 0.017209.\n"
     ]
    },
    {
     "name": "stdout",
     "output_type": "stream",
     "text": [
      " Best Test Loss: 0.30756479501724243\n",
      "RMSE: 0.038733\n",
      "MAE: 0.026848\n",
      "Making temp model folder\n",
      "Using existing directory at temp\n"
     ]
    },
    {
     "name": "stderr",
     "output_type": "stream",
     "text": [
      "100%|██████████| 100/100 [00:05<00:00, 17.56it/s]\n",
      "[I 2024-08-22 14:03:17,787] Trial 8 finished with value: 0.034193 and parameters: {'dropout': 0.0, 'neurons0': 144, 'neurons1': 176, 'neurons2': 144, 'neurons3': 256, 'neurons4': 160, 'lr': 0.04107784588077006, 'weight_decay': 1.883429672763721e-05}. Best is trial 6 with value: 0.017209.\n"
     ]
    },
    {
     "name": "stdout",
     "output_type": "stream",
     "text": [
      " Best Test Loss: 0.23255525529384613\n",
      "RMSE: 0.034193\n",
      "MAE: 0.023163\n",
      "Making temp model folder\n",
      "Using existing directory at temp\n"
     ]
    },
    {
     "name": "stderr",
     "output_type": "stream",
     "text": [
      "100%|██████████| 100/100 [00:06<00:00, 16.36it/s]\n",
      "[I 2024-08-22 14:03:23,909] Trial 9 finished with value: 0.038733 and parameters: {'dropout': 0.05, 'neurons0': 208, 'neurons1': 112, 'neurons2': 48, 'neurons3': 240, 'neurons4': 96, 'lr': 0.010075077894785215, 'weight_decay': 0.00028313657268211513}. Best is trial 6 with value: 0.017209.\n"
     ]
    },
    {
     "name": "stdout",
     "output_type": "stream",
     "text": [
      " Best Test Loss: 0.3075679540634155\n",
      "RMSE: 0.038733\n",
      "MAE: 0.026804\n",
      "Making temp model folder\n",
      "Using existing directory at temp\n"
     ]
    },
    {
     "name": "stderr",
     "output_type": "stream",
     "text": [
      "100%|██████████| 100/100 [00:05<00:00, 16.68it/s]\n",
      "[I 2024-08-22 14:03:29,928] Trial 10 finished with value: 0.035233 and parameters: {'dropout': 0.1, 'neurons0': 32, 'neurons1': 256, 'neurons2': 256, 'neurons3': 112, 'neurons4': 48, 'lr': 0.0008170112233606854, 'weight_decay': 0.0009700201070951772}. Best is trial 6 with value: 0.017209.\n"
     ]
    },
    {
     "name": "stdout",
     "output_type": "stream",
     "text": [
      " Best Test Loss: 0.2521897256374359\n",
      "RMSE: 0.035233\n",
      "MAE: 0.023613\n",
      "Making temp model folder\n",
      "Using existing directory at temp\n"
     ]
    },
    {
     "name": "stderr",
     "output_type": "stream",
     "text": [
      "100%|██████████| 100/100 [00:06<00:00, 16.52it/s]\n",
      "[I 2024-08-22 14:03:36,004] Trial 11 finished with value: 0.016352 and parameters: {'dropout': 0.30000000000000004, 'neurons0': 80, 'neurons1': 64, 'neurons2': 112, 'neurons3': 176, 'neurons4': 192, 'lr': 0.00030114614593710655, 'weight_decay': 1.0249141173809982e-05}. Best is trial 11 with value: 0.016352.\n"
     ]
    },
    {
     "name": "stdout",
     "output_type": "stream",
     "text": [
      " Best Test Loss: 0.053996700793504715\n",
      "RMSE: 0.016352\n",
      "MAE: 0.011277\n",
      "Making temp model folder\n",
      "Using existing directory at temp\n"
     ]
    },
    {
     "name": "stderr",
     "output_type": "stream",
     "text": [
      "100%|██████████| 100/100 [00:06<00:00, 16.43it/s]\n",
      "[I 2024-08-22 14:03:42,113] Trial 12 finished with value: 0.015998 and parameters: {'dropout': 0.35000000000000003, 'neurons0': 80, 'neurons1': 64, 'neurons2': 128, 'neurons3': 128, 'neurons4': 176, 'lr': 0.0006095525865948753, 'weight_decay': 1.2181979705212937e-05}. Best is trial 12 with value: 0.015998.\n"
     ]
    },
    {
     "name": "stdout",
     "output_type": "stream",
     "text": [
      " Best Test Loss: 0.050856102257966995\n",
      "RMSE: 0.015998\n",
      "MAE: 0.011083\n",
      "Making temp model folder\n",
      "Using existing directory at temp\n"
     ]
    },
    {
     "name": "stderr",
     "output_type": "stream",
     "text": [
      "100%|██████████| 100/100 [00:06<00:00, 16.46it/s]\n",
      "[I 2024-08-22 14:03:48,210] Trial 13 finished with value: 0.019936 and parameters: {'dropout': 0.35000000000000003, 'neurons0': 96, 'neurons1': 80, 'neurons2': 128, 'neurons3': 144, 'neurons4': 176, 'lr': 0.00020357735816785424, 'weight_decay': 1.041482069293323e-05}. Best is trial 12 with value: 0.015998.\n"
     ]
    },
    {
     "name": "stdout",
     "output_type": "stream",
     "text": [
      " Best Test Loss: 0.07829782366752625\n",
      "RMSE: 0.019936\n",
      "MAE: 0.013609\n",
      "Making temp model folder\n",
      "Using existing directory at temp\n"
     ]
    },
    {
     "name": "stderr",
     "output_type": "stream",
     "text": [
      "100%|██████████| 100/100 [00:06<00:00, 16.49it/s]\n",
      "[I 2024-08-22 14:03:54,296] Trial 14 finished with value: 0.020954 and parameters: {'dropout': 0.35000000000000003, 'neurons0': 80, 'neurons1': 64, 'neurons2': 128, 'neurons3': 112, 'neurons4': 192, 'lr': 0.003223512352176769, 'weight_decay': 2.674289930704896e-05}. Best is trial 12 with value: 0.015998.\n"
     ]
    },
    {
     "name": "stdout",
     "output_type": "stream",
     "text": [
      " Best Test Loss: 0.0868239477276802\n",
      "RMSE: 0.020954\n",
      "MAE: 0.014416\n",
      "Making temp model folder\n",
      "Using existing directory at temp\n"
     ]
    },
    {
     "name": "stderr",
     "output_type": "stream",
     "text": [
      "100%|██████████| 100/100 [00:06<00:00, 16.10it/s]\n",
      "[I 2024-08-22 14:04:00,529] Trial 15 finished with value: 0.018762 and parameters: {'dropout': 0.4, 'neurons0': 96, 'neurons1': 112, 'neurons2': 112, 'neurons3': 160, 'neurons4': 208, 'lr': 0.00024807582738433986, 'weight_decay': 2.1419117725299177e-05}. Best is trial 12 with value: 0.015998.\n"
     ]
    },
    {
     "name": "stdout",
     "output_type": "stream",
     "text": [
      " Best Test Loss: 0.07222501188516617\n",
      "RMSE: 0.018762\n",
      "MAE: 0.012796\n",
      "Making temp model folder\n",
      "Using existing directory at temp\n"
     ]
    },
    {
     "name": "stderr",
     "output_type": "stream",
     "text": [
      "100%|██████████| 100/100 [00:06<00:00, 15.95it/s]\n",
      "[I 2024-08-22 14:04:06,820] Trial 16 finished with value: 0.025206 and parameters: {'dropout': 0.30000000000000004, 'neurons0': 16, 'neurons1': 144, 'neurons2': 144, 'neurons3': 192, 'neurons4': 160, 'lr': 0.0016545364821838528, 'weight_decay': 1.0602980650023242e-05}. Best is trial 12 with value: 0.015998.\n"
     ]
    },
    {
     "name": "stdout",
     "output_type": "stream",
     "text": [
      " Best Test Loss: 0.12485238164663315\n",
      "RMSE: 0.025206\n",
      "MAE: 0.018297\n",
      "Making temp model folder\n",
      "Using existing directory at temp\n"
     ]
    },
    {
     "name": "stderr",
     "output_type": "stream",
     "text": [
      "100%|██████████| 100/100 [00:06<00:00, 16.04it/s]\n",
      "[I 2024-08-22 14:04:13,076] Trial 17 finished with value: 0.029541 and parameters: {'dropout': 0.30000000000000004, 'neurons0': 80, 'neurons1': 64, 'neurons2': 224, 'neurons3': 112, 'neurons4': 144, 'lr': 7.78945766915267e-05, 'weight_decay': 0.00010645853260179363}. Best is trial 12 with value: 0.015998.\n"
     ]
    },
    {
     "name": "stdout",
     "output_type": "stream",
     "text": [
      " Best Test Loss: 0.17785799503326416\n",
      "RMSE: 0.029541\n",
      "MAE: 0.019064\n",
      "Making temp model folder\n",
      "Using existing directory at temp\n"
     ]
    },
    {
     "name": "stderr",
     "output_type": "stream",
     "text": [
      "100%|██████████| 100/100 [00:06<00:00, 16.08it/s]\n",
      "[I 2024-08-22 14:04:19,319] Trial 18 finished with value: 0.01531 and parameters: {'dropout': 0.4, 'neurons0': 112, 'neurons1': 96, 'neurons2': 160, 'neurons3': 208, 'neurons4': 192, 'lr': 0.0005150050983960436, 'weight_decay': 3.1022252129819e-05}. Best is trial 18 with value: 0.01531.\n"
     ]
    },
    {
     "name": "stdout",
     "output_type": "stream",
     "text": [
      " Best Test Loss: 0.047142982482910156\n",
      "RMSE: 0.01531\n",
      "MAE: 0.010559\n",
      "Making temp model folder\n",
      "Using existing directory at temp\n"
     ]
    },
    {
     "name": "stderr",
     "output_type": "stream",
     "text": [
      "100%|██████████| 100/100 [00:05<00:00, 16.74it/s]\n",
      "[I 2024-08-22 14:04:25,317] Trial 19 finished with value: 0.035808 and parameters: {'dropout': 0.4, 'neurons0': 128, 'neurons1': 208, 'neurons2': 160, 'neurons3': 224, 'neurons4': 208, 'lr': 0.012801733638169562, 'weight_decay': 3.165352957487329e-05}. Best is trial 18 with value: 0.01531.\n"
     ]
    },
    {
     "name": "stdout",
     "output_type": "stream",
     "text": [
      " Best Test Loss: 0.2578393816947937\n",
      "RMSE: 0.035808\n",
      "MAE: 0.024264\n",
      "Study statistics: \n",
      "  Number of finished trials:  20\n",
      "  Number of pruned trials:  0\n",
      "  Number of complete trials:  20\n",
      "Best trial:\n",
      "  Value:  0.01531\n",
      "  Params: \n",
      "    dropout: 0.4\n",
      "    neurons0: 112\n",
      "    neurons1: 96\n",
      "    neurons2: 160\n",
      "    neurons3: 208\n",
      "    neurons4: 192\n",
      "    lr: 0.0005150050983960436\n",
      "    weight_decay: 3.1022252129819e-05\n",
      "Using existing directory at Model1\n"
     ]
    },
    {
     "name": "stderr",
     "output_type": "stream",
     "text": [
      "  0%|          | 2/1000 [00:00<01:14, 13.36it/s]"
     ]
    },
    {
     "name": "stdout",
     "output_type": "stream",
     "text": [
      "Best State Updated. Epoch: 0\n",
      "Best State Updated. Epoch: 1\n",
      "Best State Updated. Epoch: 2\n"
     ]
    },
    {
     "name": "stderr",
     "output_type": "stream",
     "text": [
      "  0%|          | 4/1000 [00:00<01:14, 13.41it/s]"
     ]
    },
    {
     "name": "stdout",
     "output_type": "stream",
     "text": [
      "Best State Updated. Epoch: 3\n",
      "Best State Updated. Epoch: 4\n"
     ]
    },
    {
     "name": "stderr",
     "output_type": "stream",
     "text": [
      "  1%|          | 6/1000 [00:00<01:11, 13.99it/s]"
     ]
    },
    {
     "name": "stdout",
     "output_type": "stream",
     "text": [
      "Best State Updated. Epoch: 5\n"
     ]
    },
    {
     "name": "stderr",
     "output_type": "stream",
     "text": [
      "  1%|          | 8/1000 [00:00<01:15, 13.20it/s]"
     ]
    },
    {
     "name": "stdout",
     "output_type": "stream",
     "text": [
      "Best State Updated. Epoch: 6\n",
      "Best State Updated. Epoch: 7\n"
     ]
    },
    {
     "name": "stderr",
     "output_type": "stream",
     "text": [
      "  1%|          | 10/1000 [00:00<01:09, 14.17it/s]"
     ]
    },
    {
     "name": "stdout",
     "output_type": "stream",
     "text": [
      "Best State Updated. Epoch: 8\n",
      "Best State Updated. Epoch: 9\n"
     ]
    },
    {
     "name": "stderr",
     "output_type": "stream",
     "text": [
      "  1%|          | 12/1000 [00:00<01:05, 14.99it/s]"
     ]
    },
    {
     "name": "stdout",
     "output_type": "stream",
     "text": [
      "Best State Updated. Epoch: 10\n",
      "Best State Updated. Epoch: 11\n",
      "Best State Updated. Epoch: 12\n"
     ]
    },
    {
     "name": "stderr",
     "output_type": "stream",
     "text": [
      "  2%|▏         | 16/1000 [00:01<01:08, 14.36it/s]"
     ]
    },
    {
     "name": "stdout",
     "output_type": "stream",
     "text": [
      "Best State Updated. Epoch: 13\n",
      "Best State Updated. Epoch: 14\n",
      "Best State Updated. Epoch: 15\n",
      "Best State Updated. Epoch: 16\n"
     ]
    },
    {
     "name": "stderr",
     "output_type": "stream",
     "text": [
      "  2%|▏         | 20/1000 [00:01<01:02, 15.57it/s]"
     ]
    },
    {
     "name": "stdout",
     "output_type": "stream",
     "text": [
      "Best State Updated. Epoch: 17\n",
      "Best State Updated. Epoch: 18\n",
      "Best State Updated. Epoch: 19\n",
      "Best State Updated. Epoch: 20\n"
     ]
    },
    {
     "name": "stderr",
     "output_type": "stream",
     "text": [
      "  2%|▏         | 24/1000 [00:01<01:00, 16.07it/s]"
     ]
    },
    {
     "name": "stdout",
     "output_type": "stream",
     "text": [
      "Best State Updated. Epoch: 21\n",
      "Best State Updated. Epoch: 22\n",
      "Best State Updated. Epoch: 23\n",
      "Best State Updated. Epoch: 24\n"
     ]
    },
    {
     "name": "stderr",
     "output_type": "stream",
     "text": [
      "  3%|▎         | 26/1000 [00:01<01:03, 15.32it/s]"
     ]
    },
    {
     "name": "stdout",
     "output_type": "stream",
     "text": [
      "Best State Updated. Epoch: 25\n",
      "Best State Updated. Epoch: 26\n"
     ]
    },
    {
     "name": "stderr",
     "output_type": "stream",
     "text": [
      "  3%|▎         | 32/1000 [00:02<01:03, 15.25it/s]"
     ]
    },
    {
     "name": "stdout",
     "output_type": "stream",
     "text": [
      "Best State Updated. Epoch: 28\n",
      "Best State Updated. Epoch: 30\n",
      "Best State Updated. Epoch: 31\n"
     ]
    },
    {
     "name": "stderr",
     "output_type": "stream",
     "text": [
      "  3%|▎         | 34/1000 [00:02<01:04, 14.98it/s]"
     ]
    },
    {
     "name": "stdout",
     "output_type": "stream",
     "text": [
      "Best State Updated. Epoch: 32\n",
      "Best State Updated. Epoch: 33\n"
     ]
    },
    {
     "name": "stderr",
     "output_type": "stream",
     "text": [
      "  4%|▍         | 38/1000 [00:02<01:09, 13.80it/s]"
     ]
    },
    {
     "name": "stdout",
     "output_type": "stream",
     "text": [
      "Best State Updated. Epoch: 35\n",
      "Best State Updated. Epoch: 37\n"
     ]
    },
    {
     "name": "stderr",
     "output_type": "stream",
     "text": [
      "  4%|▍         | 42/1000 [00:02<01:04, 14.93it/s]"
     ]
    },
    {
     "name": "stdout",
     "output_type": "stream",
     "text": [
      "Best State Updated. Epoch: 38\n",
      "Best State Updated. Epoch: 39\n",
      "Best State Updated. Epoch: 40\n",
      "Best State Updated. Epoch: 41\n"
     ]
    },
    {
     "name": "stderr",
     "output_type": "stream",
     "text": [
      "  5%|▍         | 46/1000 [00:03<01:03, 14.95it/s]"
     ]
    },
    {
     "name": "stdout",
     "output_type": "stream",
     "text": [
      "Best State Updated. Epoch: 42\n",
      "Best State Updated. Epoch: 43\n",
      "Best State Updated. Epoch: 45\n"
     ]
    },
    {
     "name": "stderr",
     "output_type": "stream",
     "text": [
      "  5%|▌         | 50/1000 [00:03<01:00, 15.73it/s]"
     ]
    },
    {
     "name": "stdout",
     "output_type": "stream",
     "text": [
      "Best State Updated. Epoch: 46\n",
      "Best State Updated. Epoch: 47\n"
     ]
    },
    {
     "name": "stderr",
     "output_type": "stream",
     "text": [
      "  5%|▌         | 54/1000 [00:03<01:02, 15.04it/s]"
     ]
    },
    {
     "name": "stdout",
     "output_type": "stream",
     "text": [
      "Best State Updated. Epoch: 51\n",
      "Best State Updated. Epoch: 53\n"
     ]
    },
    {
     "name": "stderr",
     "output_type": "stream",
     "text": [
      "  6%|▌         | 58/1000 [00:03<01:03, 14.93it/s]"
     ]
    },
    {
     "name": "stdout",
     "output_type": "stream",
     "text": [
      "Best State Updated. Epoch: 54\n",
      "Best State Updated. Epoch: 56\n"
     ]
    },
    {
     "name": "stderr",
     "output_type": "stream",
     "text": [
      "  6%|▌         | 62/1000 [00:04<00:59, 15.73it/s]"
     ]
    },
    {
     "name": "stdout",
     "output_type": "stream",
     "text": [
      "Best State Updated. Epoch: 58\n",
      "Best State Updated. Epoch: 60\n"
     ]
    },
    {
     "name": "stderr",
     "output_type": "stream",
     "text": [
      "  7%|▋         | 66/1000 [00:04<01:00, 15.48it/s]"
     ]
    },
    {
     "name": "stdout",
     "output_type": "stream",
     "text": [
      "Best State Updated. Epoch: 62\n",
      "Best State Updated. Epoch: 64\n",
      "Best State Updated. Epoch: 65\n"
     ]
    },
    {
     "name": "stderr",
     "output_type": "stream",
     "text": [
      "  7%|▋         | 70/1000 [00:04<00:57, 16.18it/s]"
     ]
    },
    {
     "name": "stdout",
     "output_type": "stream",
     "text": [
      "Best State Updated. Epoch: 67\n",
      "Best State Updated. Epoch: 69\n"
     ]
    },
    {
     "name": "stderr",
     "output_type": "stream",
     "text": [
      "  8%|▊         | 78/1000 [00:05<00:54, 16.77it/s]"
     ]
    },
    {
     "name": "stdout",
     "output_type": "stream",
     "text": [
      "Best State Updated. Epoch: 74\n",
      "Best State Updated. Epoch: 75\n"
     ]
    },
    {
     "name": "stderr",
     "output_type": "stream",
     "text": [
      "  8%|▊         | 82/1000 [00:05<00:59, 15.52it/s]"
     ]
    },
    {
     "name": "stdout",
     "output_type": "stream",
     "text": [
      "Best State Updated. Epoch: 79\n",
      "Best State Updated. Epoch: 80\n"
     ]
    },
    {
     "name": "stderr",
     "output_type": "stream",
     "text": [
      "  9%|▉         | 88/1000 [00:05<00:55, 16.36it/s]"
     ]
    },
    {
     "name": "stdout",
     "output_type": "stream",
     "text": [
      "Best State Updated. Epoch: 84\n"
     ]
    },
    {
     "name": "stderr",
     "output_type": "stream",
     "text": [
      "  9%|▉         | 92/1000 [00:06<00:55, 16.37it/s]"
     ]
    },
    {
     "name": "stdout",
     "output_type": "stream",
     "text": [
      "Best State Updated. Epoch: 89\n",
      "Best State Updated. Epoch: 90\n",
      "Best State Updated. Epoch: 91\n"
     ]
    },
    {
     "name": "stderr",
     "output_type": "stream",
     "text": [
      " 10%|█         | 102/1000 [00:06<00:55, 16.07it/s]"
     ]
    },
    {
     "name": "stdout",
     "output_type": "stream",
     "text": [
      "Best State Updated. Epoch: 98\n",
      "Best State Updated. Epoch: 99\n"
     ]
    },
    {
     "name": "stderr",
     "output_type": "stream",
     "text": [
      " 11%|█         | 108/1000 [00:07<00:53, 16.70it/s]"
     ]
    },
    {
     "name": "stdout",
     "output_type": "stream",
     "text": [
      "Best State Updated. Epoch: 105\n"
     ]
    },
    {
     "name": "stderr",
     "output_type": "stream",
     "text": [
      " 11%|█         | 112/1000 [00:07<00:53, 16.55it/s]"
     ]
    },
    {
     "name": "stdout",
     "output_type": "stream",
     "text": [
      "Best State Updated. Epoch: 109\n",
      "Best State Updated. Epoch: 110\n",
      "Best State Updated. Epoch: 112\n"
     ]
    },
    {
     "name": "stderr",
     "output_type": "stream",
     "text": [
      " 12%|█▏        | 116/1000 [00:07<00:56, 15.78it/s]"
     ]
    },
    {
     "name": "stdout",
     "output_type": "stream",
     "text": [
      "Best State Updated. Epoch: 113\n",
      "Best State Updated. Epoch: 114\n"
     ]
    },
    {
     "name": "stderr",
     "output_type": "stream",
     "text": [
      " 12%|█▏        | 122/1000 [00:07<00:54, 16.24it/s]"
     ]
    },
    {
     "name": "stdout",
     "output_type": "stream",
     "text": [
      "Best State Updated. Epoch: 119\n"
     ]
    },
    {
     "name": "stderr",
     "output_type": "stream",
     "text": [
      " 15%|█▍        | 146/1000 [00:09<00:50, 17.01it/s]"
     ]
    },
    {
     "name": "stdout",
     "output_type": "stream",
     "text": [
      "Best State Updated. Epoch: 142\n",
      "Best State Updated. Epoch: 143\n"
     ]
    },
    {
     "name": "stderr",
     "output_type": "stream",
     "text": [
      " 16%|█▋        | 164/1000 [00:10<00:49, 16.75it/s]"
     ]
    },
    {
     "name": "stdout",
     "output_type": "stream",
     "text": [
      "Best State Updated. Epoch: 160\n"
     ]
    },
    {
     "name": "stderr",
     "output_type": "stream",
     "text": [
      " 18%|█▊        | 178/1000 [00:11<00:47, 17.25it/s]"
     ]
    },
    {
     "name": "stdout",
     "output_type": "stream",
     "text": [
      "Best State Updated. Epoch: 174\n"
     ]
    },
    {
     "name": "stderr",
     "output_type": "stream",
     "text": [
      " 18%|█▊        | 184/1000 [00:11<00:53, 15.38it/s]"
     ]
    },
    {
     "name": "stdout",
     "output_type": "stream",
     "text": [
      "Best State Updated. Epoch: 181\n"
     ]
    },
    {
     "name": "stderr",
     "output_type": "stream",
     "text": [
      " 19%|█▉        | 194/1000 [00:12<00:49, 16.15it/s]"
     ]
    },
    {
     "name": "stdout",
     "output_type": "stream",
     "text": [
      "Best State Updated. Epoch: 190\n"
     ]
    },
    {
     "name": "stderr",
     "output_type": "stream",
     "text": [
      " 20%|██        | 202/1000 [00:12<00:49, 16.22it/s]"
     ]
    },
    {
     "name": "stdout",
     "output_type": "stream",
     "text": [
      "Best State Updated. Epoch: 198\n"
     ]
    },
    {
     "name": "stderr",
     "output_type": "stream",
     "text": [
      " 21%|██        | 212/1000 [00:13<00:48, 16.40it/s]"
     ]
    },
    {
     "name": "stdout",
     "output_type": "stream",
     "text": [
      "Best State Updated. Epoch: 209\n",
      "Best State Updated. Epoch: 210\n"
     ]
    },
    {
     "name": "stderr",
     "output_type": "stream",
     "text": [
      " 23%|██▎       | 226/1000 [00:14<00:46, 16.51it/s]"
     ]
    },
    {
     "name": "stdout",
     "output_type": "stream",
     "text": [
      "Best State Updated. Epoch: 222\n"
     ]
    },
    {
     "name": "stderr",
     "output_type": "stream",
     "text": [
      " 25%|██▌       | 252/1000 [00:15<00:46, 16.03it/s]"
     ]
    },
    {
     "name": "stdout",
     "output_type": "stream",
     "text": [
      "Best State Updated. Epoch: 249\n"
     ]
    },
    {
     "name": "stderr",
     "output_type": "stream",
     "text": [
      " 26%|██▌       | 256/1000 [00:16<00:46, 16.00it/s]"
     ]
    },
    {
     "name": "stdout",
     "output_type": "stream",
     "text": [
      "Best State Updated. Epoch: 253\n"
     ]
    },
    {
     "name": "stderr",
     "output_type": "stream",
     "text": [
      " 35%|███▍      | 346/1000 [00:21<00:38, 16.98it/s]"
     ]
    },
    {
     "name": "stdout",
     "output_type": "stream",
     "text": [
      "Best State Updated. Epoch: 343\n"
     ]
    },
    {
     "name": "stderr",
     "output_type": "stream",
     "text": [
      " 36%|███▌      | 358/1000 [00:22<00:38, 16.61it/s]"
     ]
    },
    {
     "name": "stdout",
     "output_type": "stream",
     "text": [
      "Best State Updated. Epoch: 354\n"
     ]
    },
    {
     "name": "stderr",
     "output_type": "stream",
     "text": [
      " 36%|███▋      | 364/1000 [00:22<00:37, 16.82it/s]"
     ]
    },
    {
     "name": "stdout",
     "output_type": "stream",
     "text": [
      "Best State Updated. Epoch: 360\n"
     ]
    },
    {
     "name": "stderr",
     "output_type": "stream",
     "text": [
      " 37%|███▋      | 374/1000 [00:23<00:41, 15.20it/s]"
     ]
    },
    {
     "name": "stdout",
     "output_type": "stream",
     "text": [
      "Best State Updated. Epoch: 370\n"
     ]
    },
    {
     "name": "stderr",
     "output_type": "stream",
     "text": [
      " 38%|███▊      | 380/1000 [00:23<00:38, 16.10it/s]"
     ]
    },
    {
     "name": "stdout",
     "output_type": "stream",
     "text": [
      "Best State Updated. Epoch: 377\n"
     ]
    },
    {
     "name": "stderr",
     "output_type": "stream",
     "text": [
      " 41%|████      | 410/1000 [00:25<00:37, 15.87it/s]"
     ]
    },
    {
     "name": "stdout",
     "output_type": "stream",
     "text": [
      "Best State Updated. Epoch: 407\n"
     ]
    },
    {
     "name": "stderr",
     "output_type": "stream",
     "text": [
      " 41%|████▏     | 414/1000 [00:25<00:37, 15.52it/s]"
     ]
    },
    {
     "name": "stdout",
     "output_type": "stream",
     "text": [
      "Best State Updated. Epoch: 411\n"
     ]
    },
    {
     "name": "stderr",
     "output_type": "stream",
     "text": [
      " 47%|████▋     | 472/1000 [00:29<00:29, 17.81it/s]"
     ]
    },
    {
     "name": "stdout",
     "output_type": "stream",
     "text": [
      "Best State Updated. Epoch: 469\n"
     ]
    },
    {
     "name": "stderr",
     "output_type": "stream",
     "text": [
      " 51%|█████     | 506/1000 [00:31<00:29, 16.71it/s]"
     ]
    },
    {
     "name": "stdout",
     "output_type": "stream",
     "text": [
      "Best State Updated. Epoch: 503\n"
     ]
    },
    {
     "name": "stderr",
     "output_type": "stream",
     "text": [
      " 54%|█████▍    | 538/1000 [00:33<00:27, 16.72it/s]"
     ]
    },
    {
     "name": "stdout",
     "output_type": "stream",
     "text": [
      "Best State Updated. Epoch: 534\n"
     ]
    },
    {
     "name": "stderr",
     "output_type": "stream",
     "text": [
      " 54%|█████▍    | 544/1000 [00:33<00:27, 16.59it/s]"
     ]
    },
    {
     "name": "stdout",
     "output_type": "stream",
     "text": [
      "Best State Updated. Epoch: 541\n"
     ]
    },
    {
     "name": "stderr",
     "output_type": "stream",
     "text": [
      " 71%|███████   | 706/1000 [00:43<00:17, 16.55it/s]"
     ]
    },
    {
     "name": "stdout",
     "output_type": "stream",
     "text": [
      "Best State Updated. Epoch: 702\n"
     ]
    },
    {
     "name": "stderr",
     "output_type": "stream",
     "text": [
      " 71%|███████   | 710/1000 [00:43<00:18, 16.03it/s]"
     ]
    },
    {
     "name": "stdout",
     "output_type": "stream",
     "text": [
      "Best State Updated. Epoch: 707\n"
     ]
    },
    {
     "name": "stderr",
     "output_type": "stream",
     "text": [
      " 71%|███████▏  | 714/1000 [00:43<00:18, 15.59it/s]"
     ]
    },
    {
     "name": "stdout",
     "output_type": "stream",
     "text": [
      "Best State Updated. Epoch: 710\n"
     ]
    },
    {
     "name": "stderr",
     "output_type": "stream",
     "text": [
      " 78%|███████▊  | 784/1000 [00:48<00:12, 16.74it/s]"
     ]
    },
    {
     "name": "stdout",
     "output_type": "stream",
     "text": [
      "Best State Updated. Epoch: 780\n"
     ]
    },
    {
     "name": "stderr",
     "output_type": "stream",
     "text": [
      " 84%|████████▎ | 836/1000 [00:51<00:09, 16.63it/s]"
     ]
    },
    {
     "name": "stdout",
     "output_type": "stream",
     "text": [
      "Best State Updated. Epoch: 832\n"
     ]
    },
    {
     "name": "stderr",
     "output_type": "stream",
     "text": [
      "100%|██████████| 1000/1000 [01:01<00:00, 16.68it/s]"
     ]
    },
    {
     "data": {
      "image/png": "[encoded data removed]",
      "text/plain": [
       "<Figure size 640x480 with 2 Axes>"
      ]
     },
     "metadata": {},
     "output_type": "display_data"
    },
    {
     "name": "stderr",
     "output_type": "stream",
     "text": [
      "100%|██████████| 1000/1000 [01:02<00:00, 16.09it/s]"
     ]
    },
    {
     "name": "stdout",
     "output_type": "stream",
     "text": [
      " Best Test Loss: 0.027532480657100677\n"
     ]
    },
    {
     "name": "stderr",
     "output_type": "stream",
     "text": [
      "\n"
     ]
    }
   ],
   "source": [
    "# Optimize model\n",
    "\n",
    "network_dict = {\n",
    "    \"network\": VariableANN,\n",
    "    \"kwargs\": {\"input_size\": 7},\n",
    "    \"optimize_kwargs\": {\n",
    "        \"dropout\": {\"name\": \"dropout\", \"low\": 0.0, \"high\": 0.5, \"step\": 0.05},\n",
    "        \"neurons\": {\"name\": \"neurons\", \"low\": 16, \"high\": 256, \"step\": 16, \"multi\": np.random.randint(3, 6)},\n",
    "    },\n",
    "}\n",
    "\n",
    "\n",
    "optimizer_dict = {\n",
    "    \"optimizer\": optim.Adam,\n",
    "    \"kwargs\": {},\n",
    "    \"optimize_kwargs\": {\n",
    "        \"lr\": {\"name\": \"lr\", \"low\": 1e-5, \"high\": 1e-1, \"log\": True},\n",
    "        \"weight_decay\": {\"name\": \"weight_decay\", \"low\": 1e-5, \"high\": 1e-3, \"log\": True},\n",
    "    },\n",
    "}\n",
    "\n",
    "best_network, best_optimizer = model.optimize_network(\n",
    "    trial_count, \"minimize\", network_dict, optimizer_dict, loss_fn, epochs\n",
    ")\n",
    "\n",
    "trained_net = model.train_model(\"Model1\", best_network, best_optimizer, loss_fn, 1000, plot_output=True)"
   ]
  },
  {
   "cell_type": "code",
   "execution_count": 62,
   "metadata": {},
   "outputs": [
    {
     "name": "stdout",
     "output_type": "stream",
     "text": [
      "RMSE: 0.011779\n",
      "MAE: 0.008438\n",
      "\n"
     ]
    }
   ],
   "source": [
    "test_rmse, _, test_predictions = model.validate_model(trained_net, \"test\")"
   ]
  },
  {
   "cell_type": "markdown",
   "metadata": {},
   "source": [
    "## Optimize"
   ]
  },
  {
   "cell_type": "code",
   "execution_count": 57,
   "metadata": {},
   "outputs": [],
   "source": [
    "def run_fn(r, p, w, h, t_sio2, dcf, freq):\n",
    "    feature_array = np.array((r, p, w, h, t_sio2, dcf, freq))\n",
    "    feature_array = feature_array.reshape((1, -1))\n",
    "    prediction = model.make_prediction(trained_net, True, feature_array, 1)\n",
    "\n",
    "    return prediction[0]\n",
    "    # return -(abs(prediction[0] - 1.0)**2)"
   ]
  },
  {
   "cell_type": "code",
   "execution_count": 55,
   "metadata": {},
   "outputs": [],
   "source": [
    "method = tdd.MethodBayOpt(\n",
    "    initial_iter=500,\n",
    "    n_iter=100,\n",
    "    acq_func='ucb',\n",
    "    kappa=10,\n",
    "    xi=0.9,\n",
    "    seed=1,\n",
    ")\n",
    "\n",
    "predict_parameters = parameters + [tdd.ParameterFloat(name=\"freq\", span=(freq, freq))]\n",
    "\n",
    "output_dir = \"/home/matt/Documents/Flexcompute/mmi/data\"\n",
    "design_space = tdd.DesignSpace(\n",
    "    method=method,\n",
    "    parameters=predict_parameters,\n",
    "    task_name=\"bullseye_predict_1\",\n",
    "    folder_name=\"BSV1\",\n",
    "    path_dir=output_dir,\n",
    ")"
   ]
  },
  {
   "cell_type": "code",
   "execution_count": 58,
   "metadata": {},
   "outputs": [
    {
     "data": {
      "text/html": [
       "<pre style=\"white-space:pre;overflow-x:auto;line-height:normal;font-family:Menlo,'DejaVu Sans Mono',consolas,'Courier New',monospace\"><span style=\"color: #7fbfbf; text-decoration-color: #7fbfbf\">14:22:46 BST </span>Best Fit from Initial Solutions: <span style=\"color: #008080; text-decoration-color: #008080; font-weight: bold\">0.15</span>                              \n",
       "<span style=\"color: #7fbfbf; text-decoration-color: #7fbfbf\">             </span>                                                                   \n",
       "</pre>\n"
      ],
      "text/plain": [
       "\u001b[2;36m14:22:46 BST\u001b[0m\u001b[2;36m \u001b[0mBest Fit from Initial Solutions: \u001b[1;36m0.15\u001b[0m                              \n",
       "\u001b[2;36m             \u001b[0m                                                                   \n"
      ]
     },
     "metadata": {},
     "output_type": "display_data"
    },
    {
     "data": {
      "text/html": [
       "<pre style=\"white-space:pre;overflow-x:auto;line-height:normal;font-family:Menlo,'DejaVu Sans Mono',consolas,'Courier New',monospace\"><span style=\"color: #7fbfbf; text-decoration-color: #7fbfbf\">14:23:53 BST </span>Best Result: <span style=\"color: #008080; text-decoration-color: #008080; font-weight: bold\">0.149723619222641</span>                                     \n",
       "<span style=\"color: #7fbfbf; text-decoration-color: #7fbfbf\">             </span>Best Parameters: dcf: <span style=\"color: #008080; text-decoration-color: #008080; font-weight: bold\">2.5012486383503507</span> freq: <span style=\"color: #008080; text-decoration-color: #008080; font-weight: bold\">399723277333333.3</span> h:\n",
       "<span style=\"color: #7fbfbf; text-decoration-color: #7fbfbf\">             </span><span style=\"color: #008080; text-decoration-color: #008080; font-weight: bold\">0.4018659239678374</span> p: <span style=\"color: #008080; text-decoration-color: #008080; font-weight: bold\">0.5028693680910232</span> r: <span style=\"color: #008080; text-decoration-color: #008080; font-weight: bold\">0.4200992362840354</span>     \n",
       "<span style=\"color: #7fbfbf; text-decoration-color: #7fbfbf\">             </span>t_sio2: <span style=\"color: #008080; text-decoration-color: #008080; font-weight: bold\">0.5545800413252</span> w: <span style=\"color: #008080; text-decoration-color: #008080; font-weight: bold\">0.21644457338081124</span>                     \n",
       "<span style=\"color: #7fbfbf; text-decoration-color: #7fbfbf\">             </span>                                                                   \n",
       "</pre>\n"
      ],
      "text/plain": [
       "\u001b[2;36m14:23:53 BST\u001b[0m\u001b[2;36m \u001b[0mBest Result: \u001b[1;36m0.149723619222641\u001b[0m                                     \n",
       "\u001b[2;36m             \u001b[0mBest Parameters: dcf: \u001b[1;36m2.5012486383503507\u001b[0m freq: \u001b[1;36m399723277333333.3\u001b[0m h:\n",
       "\u001b[2;36m             \u001b[0m\u001b[1;36m0.4018659239678374\u001b[0m p: \u001b[1;36m0.5028693680910232\u001b[0m r: \u001b[1;36m0.4200992362840354\u001b[0m     \n",
       "\u001b[2;36m             \u001b[0mt_sio2: \u001b[1;36m0.5545800413252\u001b[0m w: \u001b[1;36m0.21644457338081124\u001b[0m                     \n",
       "\u001b[2;36m             \u001b[0m                                                                   \n"
      ]
     },
     "metadata": {},
     "output_type": "display_data"
    }
   ],
   "source": [
    "predict_results = design_space.run(run_fn, verbose=True)\n",
    "predict_df = predict_results.to_dataframe()"
   ]
  },
  {
   "cell_type": "code",
   "execution_count": 59,
   "metadata": {},
   "outputs": [
    {
     "data": {
      "text/html": [
       "<pre style=\"white-space:pre;overflow-x:auto;line-height:normal;font-family:Menlo,'DejaVu Sans Mono',consolas,'Courier New',monospace\"><span style=\"color: #7fbfbf; text-decoration-color: #7fbfbf\">14:31:37 BST </span><span style=\"color: #800000; text-decoration-color: #800000\">WARNING: Mode monitor </span><span style=\"color: #008000; text-decoration-color: #008000\">'mode_fiber'</span><span style=\"color: #800000; text-decoration-color: #800000\"> has a large number </span><span style=\"color: #800000; text-decoration-color: #800000; font-weight: bold\">(</span><span style=\"color: #008080; text-decoration-color: #008080; font-weight: bold\">2.60e+05</span><span style=\"color: #800000; text-decoration-color: #800000; font-weight: bold\">)</span><span style=\"color: #800000; text-decoration-color: #800000\"> of</span>\n",
       "<span style=\"color: #7fbfbf; text-decoration-color: #7fbfbf\">             </span><span style=\"color: #800000; text-decoration-color: #800000\">grid points. This can lead to solver slow-down and increased cost. </span>\n",
       "<span style=\"color: #7fbfbf; text-decoration-color: #7fbfbf\">             </span><span style=\"color: #800000; text-decoration-color: #800000\">Consider making the size of the component smaller, as long as the  </span>\n",
       "<span style=\"color: #7fbfbf; text-decoration-color: #7fbfbf\">             </span><span style=\"color: #800000; text-decoration-color: #800000\">modes of interest decay by the plane boundaries.                   </span>\n",
       "</pre>\n"
      ],
      "text/plain": [
       "\u001b[2;36m14:31:37 BST\u001b[0m\u001b[2;36m \u001b[0m\u001b[31mWARNING: Mode monitor \u001b[0m\u001b[32m'mode_fiber'\u001b[0m\u001b[31m has a large number \u001b[0m\u001b[1;31m(\u001b[0m\u001b[1;36m2.60e+05\u001b[0m\u001b[1;31m)\u001b[0m\u001b[31m of\u001b[0m\n",
       "\u001b[2;36m             \u001b[0m\u001b[31mgrid points. This can lead to solver slow-down and increased cost. \u001b[0m\n",
       "\u001b[2;36m             \u001b[0m\u001b[31mConsider making the size of the component smaller, as long as the  \u001b[0m\n",
       "\u001b[2;36m             \u001b[0m\u001b[31mmodes of interest decay by the plane boundaries.                   \u001b[0m\n"
      ]
     },
     "metadata": {},
     "output_type": "display_data"
    },
    {
     "data": {
      "text/html": [
       "<pre style=\"white-space:pre;overflow-x:auto;line-height:normal;font-family:Menlo,'DejaVu Sans Mono',consolas,'Courier New',monospace\"><span style=\"color: #7fbfbf; text-decoration-color: #7fbfbf\">             </span>Created task <span style=\"color: #008000; text-decoration-color: #008000\">'best_predicted'</span> with task_id                         \n",
       "<span style=\"color: #7fbfbf; text-decoration-color: #7fbfbf\">             </span><span style=\"color: #008000; text-decoration-color: #008000\">'fdve-071bd103-1629-4c6d-bcff-218eba69faa5'</span> and task_type <span style=\"color: #008000; text-decoration-color: #008000\">'FDTD'</span>.  \n",
       "</pre>\n"
      ],
      "text/plain": [
       "\u001b[2;36m            \u001b[0m\u001b[2;36m \u001b[0mCreated task \u001b[32m'best_predicted'\u001b[0m with task_id                         \n",
       "\u001b[2;36m             \u001b[0m\u001b[32m'fdve-071bd103-1629-4c6d-bcff-218eba69faa5'\u001b[0m and task_type \u001b[32m'FDTD'\u001b[0m.  \n"
      ]
     },
     "metadata": {},
     "output_type": "display_data"
    },
    {
     "data": {
      "text/html": [
       "<pre style=\"white-space:pre;overflow-x:auto;line-height:normal;font-family:Menlo,'DejaVu Sans Mono',consolas,'Courier New',monospace\"><span style=\"color: #7fbfbf; text-decoration-color: #7fbfbf\">             </span>View task using web UI at                                          \n",
       "<span style=\"color: #7fbfbf; text-decoration-color: #7fbfbf\">             </span><a href=\"https://tidy3d.simulation.cloud/workbench?taskId=fdve-071bd103-1629-4c6d-bcff-218eba69faa5\" target=\"_blank\"><span style=\"color: #008000; text-decoration-color: #008000\">'https://tidy3d.simulation.cloud/workbench?taskId=fdve-071bd103-162</span></a>\n",
       "<span style=\"color: #7fbfbf; text-decoration-color: #7fbfbf\">             </span><a href=\"https://tidy3d.simulation.cloud/workbench?taskId=fdve-071bd103-1629-4c6d-bcff-218eba69faa5\" target=\"_blank\"><span style=\"color: #008000; text-decoration-color: #008000\">9-4c6d-bcff-218eba69faa5'</span></a>.                                         \n",
       "</pre>\n"
      ],
      "text/plain": [
       "\u001b[2;36m            \u001b[0m\u001b[2;36m \u001b[0mView task using web UI at                                          \n",
       "\u001b[2;36m             \u001b[0m\u001b]8;id=68975;https://tidy3d.simulation.cloud/workbench?taskId=fdve-071bd103-1629-4c6d-bcff-218eba69faa5\u001b\\\u001b[32m'https://tidy3d.simulation.cloud/workbench?\u001b[0m\u001b]8;;\u001b\\\u001b]8;id=20416;https://tidy3d.simulation.cloud/workbench?taskId=fdve-071bd103-1629-4c6d-bcff-218eba69faa5\u001b\\\u001b[32mtaskId\u001b[0m\u001b]8;;\u001b\\\u001b]8;id=68975;https://tidy3d.simulation.cloud/workbench?taskId=fdve-071bd103-1629-4c6d-bcff-218eba69faa5\u001b\\\u001b[32m=\u001b[0m\u001b]8;;\u001b\\\u001b]8;id=291261;https://tidy3d.simulation.cloud/workbench?taskId=fdve-071bd103-1629-4c6d-bcff-218eba69faa5\u001b\\\u001b[32mfdve\u001b[0m\u001b]8;;\u001b\\\u001b]8;id=68975;https://tidy3d.simulation.cloud/workbench?taskId=fdve-071bd103-1629-4c6d-bcff-218eba69faa5\u001b\\\u001b[32m-071bd103-162\u001b[0m\u001b]8;;\u001b\\\n",
       "\u001b[2;36m             \u001b[0m\u001b]8;id=68975;https://tidy3d.simulation.cloud/workbench?taskId=fdve-071bd103-1629-4c6d-bcff-218eba69faa5\u001b\\\u001b[32m9-4c6d-bcff-218eba69faa5'\u001b[0m\u001b]8;;\u001b\\.                                         \n"
      ]
     },
     "metadata": {},
     "output_type": "display_data"
    },
    {
     "data": {
      "application/vnd.jupyter.widget-view+json": {
       "model_id": "52f701f13f0c4851832be91a504cbf13",
       "version_major": 2,
       "version_minor": 0
      },
      "text/plain": [
       "Output()"
      ]
     },
     "metadata": {},
     "output_type": "display_data"
    },
    {
     "data": {
      "text/html": [
       "<pre style=\"white-space:pre;overflow-x:auto;line-height:normal;font-family:Menlo,'DejaVu Sans Mono',consolas,'Courier New',monospace\"></pre>\n"
      ],
      "text/plain": []
     },
     "metadata": {},
     "output_type": "display_data"
    },
    {
     "data": {
      "text/html": [
       "<pre style=\"white-space:pre;overflow-x:auto;line-height:normal;font-family:Menlo,'DejaVu Sans Mono',consolas,'Courier New',monospace\">\n",
       "</pre>\n"
      ],
      "text/plain": [
       "\n"
      ]
     },
     "metadata": {},
     "output_type": "display_data"
    },
    {
     "data": {
      "text/html": [
       "<pre style=\"white-space:pre;overflow-x:auto;line-height:normal;font-family:Menlo,'DejaVu Sans Mono',consolas,'Courier New',monospace\"><span style=\"color: #7fbfbf; text-decoration-color: #7fbfbf\">14:31:40 BST </span>status = queued                                                    \n",
       "</pre>\n"
      ],
      "text/plain": [
       "\u001b[2;36m14:31:40 BST\u001b[0m\u001b[2;36m \u001b[0mstatus = queued                                                    \n"
      ]
     },
     "metadata": {},
     "output_type": "display_data"
    },
    {
     "data": {
      "text/html": [
       "<pre style=\"white-space:pre;overflow-x:auto;line-height:normal;font-family:Menlo,'DejaVu Sans Mono',consolas,'Courier New',monospace\"><span style=\"color: #7fbfbf; text-decoration-color: #7fbfbf\">             </span>To cancel the simulation, use <span style=\"color: #008000; text-decoration-color: #008000\">'web.abort(task_id)'</span> or              \n",
       "<span style=\"color: #7fbfbf; text-decoration-color: #7fbfbf\">             </span><span style=\"color: #008000; text-decoration-color: #008000\">'web.delete(task_id)'</span> or abort/delete the task in the web UI.      \n",
       "<span style=\"color: #7fbfbf; text-decoration-color: #7fbfbf\">             </span>Terminating the Python script will not stop the job running on the \n",
       "<span style=\"color: #7fbfbf; text-decoration-color: #7fbfbf\">             </span>cloud.                                                             \n",
       "</pre>\n"
      ],
      "text/plain": [
       "\u001b[2;36m            \u001b[0m\u001b[2;36m \u001b[0mTo cancel the simulation, use \u001b[32m'web.abort\u001b[0m\u001b[32m(\u001b[0m\u001b[32mtask_id\u001b[0m\u001b[32m)\u001b[0m\u001b[32m'\u001b[0m or              \n",
       "\u001b[2;36m             \u001b[0m\u001b[32m'web.delete\u001b[0m\u001b[32m(\u001b[0m\u001b[32mtask_id\u001b[0m\u001b[32m)\u001b[0m\u001b[32m'\u001b[0m or abort/delete the task in the web UI.      \n",
       "\u001b[2;36m             \u001b[0mTerminating the Python script will not stop the job running on the \n",
       "\u001b[2;36m             \u001b[0mcloud.                                                             \n"
      ]
     },
     "metadata": {},
     "output_type": "display_data"
    },
    {
     "data": {
      "application/vnd.jupyter.widget-view+json": {
       "model_id": "9a2a5d87a9734c8db260426aa931ed80",
       "version_major": 2,
       "version_minor": 0
      },
      "text/plain": [
       "Output()"
      ]
     },
     "metadata": {},
     "output_type": "display_data"
    },
    {
     "data": {
      "text/html": [
       "<pre style=\"white-space:pre;overflow-x:auto;line-height:normal;font-family:Menlo,'DejaVu Sans Mono',consolas,'Courier New',monospace\"><span style=\"color: #7fbfbf; text-decoration-color: #7fbfbf\">14:31:56 BST </span>status = preprocess                                                \n",
       "</pre>\n"
      ],
      "text/plain": [
       "\u001b[2;36m14:31:56 BST\u001b[0m\u001b[2;36m \u001b[0mstatus = preprocess                                                \n"
      ]
     },
     "metadata": {},
     "output_type": "display_data"
    },
    {
     "data": {
      "text/html": [
       "<pre style=\"white-space:pre;overflow-x:auto;line-height:normal;font-family:Menlo,'DejaVu Sans Mono',consolas,'Courier New',monospace\"></pre>\n"
      ],
      "text/plain": []
     },
     "metadata": {},
     "output_type": "display_data"
    },
    {
     "data": {
      "text/html": [
       "<pre style=\"white-space:pre;overflow-x:auto;line-height:normal;font-family:Menlo,'DejaVu Sans Mono',consolas,'Courier New',monospace\"><span style=\"color: #7fbfbf; text-decoration-color: #7fbfbf\">14:31:57 BST </span>Maximum FlexCredit cost: <span style=\"color: #008080; text-decoration-color: #008080; font-weight: bold\">0.510</span>. Use <span style=\"color: #008000; text-decoration-color: #008000\">'web.real_cost(task_id)'</span> to get\n",
       "<span style=\"color: #7fbfbf; text-decoration-color: #7fbfbf\">             </span>the billed FlexCredit cost after a simulation run.                 \n",
       "</pre>\n"
      ],
      "text/plain": [
       "\u001b[2;36m14:31:57 BST\u001b[0m\u001b[2;36m \u001b[0mMaximum FlexCredit cost: \u001b[1;36m0.510\u001b[0m. Use \u001b[32m'web.real_cost\u001b[0m\u001b[32m(\u001b[0m\u001b[32mtask_id\u001b[0m\u001b[32m)\u001b[0m\u001b[32m'\u001b[0m to get\n",
       "\u001b[2;36m             \u001b[0mthe billed FlexCredit cost after a simulation run.                 \n"
      ]
     },
     "metadata": {},
     "output_type": "display_data"
    },
    {
     "data": {
      "text/html": [
       "<pre style=\"white-space:pre;overflow-x:auto;line-height:normal;font-family:Menlo,'DejaVu Sans Mono',consolas,'Courier New',monospace\"><span style=\"color: #7fbfbf; text-decoration-color: #7fbfbf\">             </span>starting up solver                                                 \n",
       "</pre>\n"
      ],
      "text/plain": [
       "\u001b[2;36m            \u001b[0m\u001b[2;36m \u001b[0mstarting up solver                                                 \n"
      ]
     },
     "metadata": {},
     "output_type": "display_data"
    },
    {
     "data": {
      "text/html": [
       "<pre style=\"white-space:pre;overflow-x:auto;line-height:normal;font-family:Menlo,'DejaVu Sans Mono',consolas,'Courier New',monospace\"><span style=\"color: #7fbfbf; text-decoration-color: #7fbfbf\">14:31:58 BST </span>running solver                                                     \n",
       "</pre>\n"
      ],
      "text/plain": [
       "\u001b[2;36m14:31:58 BST\u001b[0m\u001b[2;36m \u001b[0mrunning solver                                                     \n"
      ]
     },
     "metadata": {},
     "output_type": "display_data"
    },
    {
     "data": {
      "application/vnd.jupyter.widget-view+json": {
       "model_id": "c0b0d0bd1805453cb9fa0cffe7d469a1",
       "version_major": 2,
       "version_minor": 0
      },
      "text/plain": [
       "Output()"
      ]
     },
     "metadata": {},
     "output_type": "display_data"
    },
    {
     "data": {
      "text/html": [
       "<pre style=\"white-space:pre;overflow-x:auto;line-height:normal;font-family:Menlo,'DejaVu Sans Mono',consolas,'Courier New',monospace\"><span style=\"color: #7fbfbf; text-decoration-color: #7fbfbf\">14:32:32 BST </span>early shutoff detected at <span style=\"color: #008080; text-decoration-color: #008080; font-weight: bold\">12</span>%, exiting.                            \n",
       "</pre>\n"
      ],
      "text/plain": [
       "\u001b[2;36m14:32:32 BST\u001b[0m\u001b[2;36m \u001b[0mearly shutoff detected at \u001b[1;36m12\u001b[0m%, exiting.                            \n"
      ]
     },
     "metadata": {},
     "output_type": "display_data"
    },
    {
     "data": {
      "text/html": [
       "<pre style=\"white-space:pre;overflow-x:auto;line-height:normal;font-family:Menlo,'DejaVu Sans Mono',consolas,'Courier New',monospace\"></pre>\n"
      ],
      "text/plain": []
     },
     "metadata": {},
     "output_type": "display_data"
    },
    {
     "data": {
      "text/html": [
       "<pre style=\"white-space:pre;overflow-x:auto;line-height:normal;font-family:Menlo,'DejaVu Sans Mono',consolas,'Courier New',monospace\">\n",
       "</pre>\n"
      ],
      "text/plain": [
       "\n"
      ]
     },
     "metadata": {},
     "output_type": "display_data"
    },
    {
     "data": {
      "text/html": [
       "<pre style=\"white-space:pre;overflow-x:auto;line-height:normal;font-family:Menlo,'DejaVu Sans Mono',consolas,'Courier New',monospace\"><span style=\"color: #7fbfbf; text-decoration-color: #7fbfbf\">             </span>status = postprocess                                               \n",
       "</pre>\n"
      ],
      "text/plain": [
       "\u001b[2;36m            \u001b[0m\u001b[2;36m \u001b[0mstatus = postprocess                                               \n"
      ]
     },
     "metadata": {},
     "output_type": "display_data"
    },
    {
     "data": {
      "application/vnd.jupyter.widget-view+json": {
       "model_id": "637a2e9befe543578b1694f59c5198ae",
       "version_major": 2,
       "version_minor": 0
      },
      "text/plain": [
       "Output()"
      ]
     },
     "metadata": {},
     "output_type": "display_data"
    },
    {
     "data": {
      "text/html": [
       "<pre style=\"white-space:pre;overflow-x:auto;line-height:normal;font-family:Menlo,'DejaVu Sans Mono',consolas,'Courier New',monospace\"><span style=\"color: #7fbfbf; text-decoration-color: #7fbfbf\">14:33:05 BST </span>status = success                                                   \n",
       "</pre>\n"
      ],
      "text/plain": [
       "\u001b[2;36m14:33:05 BST\u001b[0m\u001b[2;36m \u001b[0mstatus = success                                                   \n"
      ]
     },
     "metadata": {},
     "output_type": "display_data"
    },
    {
     "data": {
      "text/html": [
       "<pre style=\"white-space:pre;overflow-x:auto;line-height:normal;font-family:Menlo,'DejaVu Sans Mono',consolas,'Courier New',monospace\"></pre>\n"
      ],
      "text/plain": []
     },
     "metadata": {},
     "output_type": "display_data"
    },
    {
     "data": {
      "text/html": [
       "<pre style=\"white-space:pre;overflow-x:auto;line-height:normal;font-family:Menlo,'DejaVu Sans Mono',consolas,'Courier New',monospace\"><span style=\"color: #7fbfbf; text-decoration-color: #7fbfbf\">             </span>View simulation result at                                          \n",
       "<span style=\"color: #7fbfbf; text-decoration-color: #7fbfbf\">             </span><a href=\"https://tidy3d.simulation.cloud/workbench?taskId=fdve-071bd103-1629-4c6d-bcff-218eba69faa5\" target=\"_blank\"><span style=\"color: #000080; text-decoration-color: #000080; text-decoration: underline\">'https://tidy3d.simulation.cloud/workbench?taskId=fdve-071bd103-162</span></a>\n",
       "<span style=\"color: #7fbfbf; text-decoration-color: #7fbfbf\">             </span><a href=\"https://tidy3d.simulation.cloud/workbench?taskId=fdve-071bd103-1629-4c6d-bcff-218eba69faa5\" target=\"_blank\"><span style=\"color: #000080; text-decoration-color: #000080; text-decoration: underline\">9-4c6d-bcff-218eba69faa5'</span></a><span style=\"color: #000080; text-decoration-color: #000080; text-decoration: underline\">.</span>                                         \n",
       "</pre>\n"
      ],
      "text/plain": [
       "\u001b[2;36m            \u001b[0m\u001b[2;36m \u001b[0mView simulation result at                                          \n",
       "\u001b[2;36m             \u001b[0m\u001b]8;id=426017;https://tidy3d.simulation.cloud/workbench?taskId=fdve-071bd103-1629-4c6d-bcff-218eba69faa5\u001b\\\u001b[4;34m'https://tidy3d.simulation.cloud/workbench?\u001b[0m\u001b]8;;\u001b\\\u001b]8;id=695495;https://tidy3d.simulation.cloud/workbench?taskId=fdve-071bd103-1629-4c6d-bcff-218eba69faa5\u001b\\\u001b[4;34mtaskId\u001b[0m\u001b]8;;\u001b\\\u001b]8;id=426017;https://tidy3d.simulation.cloud/workbench?taskId=fdve-071bd103-1629-4c6d-bcff-218eba69faa5\u001b\\\u001b[4;34m=\u001b[0m\u001b]8;;\u001b\\\u001b]8;id=425205;https://tidy3d.simulation.cloud/workbench?taskId=fdve-071bd103-1629-4c6d-bcff-218eba69faa5\u001b\\\u001b[4;34mfdve\u001b[0m\u001b]8;;\u001b\\\u001b]8;id=426017;https://tidy3d.simulation.cloud/workbench?taskId=fdve-071bd103-1629-4c6d-bcff-218eba69faa5\u001b\\\u001b[4;34m-071bd103-162\u001b[0m\u001b]8;;\u001b\\\n",
       "\u001b[2;36m             \u001b[0m\u001b]8;id=426017;https://tidy3d.simulation.cloud/workbench?taskId=fdve-071bd103-1629-4c6d-bcff-218eba69faa5\u001b\\\u001b[4;34m9-4c6d-bcff-218eba69faa5'\u001b[0m\u001b]8;;\u001b\\\u001b[4;34m.\u001b[0m                                         \n"
      ]
     },
     "metadata": {},
     "output_type": "display_data"
    },
    {
     "data": {
      "application/vnd.jupyter.widget-view+json": {
       "model_id": "3a7342277a8b40dda8714e722ec3e0d8",
       "version_major": 2,
       "version_minor": 0
      },
      "text/plain": [
       "Output()"
      ]
     },
     "metadata": {},
     "output_type": "display_data"
    },
    {
     "data": {
      "text/html": [
       "<pre style=\"white-space:pre;overflow-x:auto;line-height:normal;font-family:Menlo,'DejaVu Sans Mono',consolas,'Courier New',monospace\"></pre>\n"
      ],
      "text/plain": []
     },
     "metadata": {},
     "output_type": "display_data"
    },
    {
     "data": {
      "text/html": [
       "<pre style=\"white-space:pre;overflow-x:auto;line-height:normal;font-family:Menlo,'DejaVu Sans Mono',consolas,'Courier New',monospace\">\n",
       "</pre>\n"
      ],
      "text/plain": [
       "\n"
      ]
     },
     "metadata": {},
     "output_type": "display_data"
    },
    {
     "data": {
      "text/html": [
       "<pre style=\"white-space:pre;overflow-x:auto;line-height:normal;font-family:Menlo,'DejaVu Sans Mono',consolas,'Courier New',monospace\"><span style=\"color: #7fbfbf; text-decoration-color: #7fbfbf\">14:33:08 BST </span>loading simulation from simulation_data.hdf5                       \n",
       "</pre>\n"
      ],
      "text/plain": [
       "\u001b[2;36m14:33:08 BST\u001b[0m\u001b[2;36m \u001b[0mloading simulation from simulation_data.hdf5                       \n"
      ]
     },
     "metadata": {},
     "output_type": "display_data"
    }
   ],
   "source": [
    "import tidy3d.web as web\n",
    "best_params = predict_results.optimizer.max['params']\n",
    "del best_params[\"freq\"]\n",
    "best_params[\"tsio2\"] = best_params[\"t_sio2\"]\n",
    "del best_params[\"t_sio2\"]\n",
    "sim = get_simulation(**best_params)\n",
    "sim_data = web.run(sim, task_name=\"best_predicted\")"
   ]
  },
  {
   "cell_type": "code",
   "execution_count": 60,
   "metadata": {},
   "outputs": [
    {
     "data": {
      "image/png": "[encoded data removed]",
      "text/plain": [
       "<Figure size 1000x400 with 1 Axes>"
      ]
     },
     "metadata": {},
     "output_type": "display_data"
    }
   ],
   "source": [
    "coup_eff = get_coupling_eff(sim_data)\n",
    "\n",
    "f, ax1 = plt.subplots(1, 1, figsize=(10, 4), tight_layout=True)\n",
    "ax1.plot(wl_range, coup_eff, \"-k\")\n",
    "ax1.set_xlabel(\"Wavelength (um)\")\n",
    "ax1.set_ylabel(\"Coupling Efficiency\")\n",
    "ax1.set_xlim(wl - bw / 2, wl + bw / 2)\n",
    "plt.show()"
   ]
  }
 ],
 "metadata": {
  "kernelspec": {
   "display_name": "tidy3d-dGIxMZW4-py3.10",
   "language": "python",
   "name": "python3"
  },
  "language_info": {
   "codemirror_mode": {
    "name": "ipython",
    "version": 3
   },
   "file_extension": ".py",
   "mimetype": "text/x-python",
   "name": "python",
   "nbconvert_exporter": "python",
   "pygments_lexer": "ipython3",
   "version": "3.10.12"
  }
 },
 "nbformat": 4,
 "nbformat_minor": 2
}
