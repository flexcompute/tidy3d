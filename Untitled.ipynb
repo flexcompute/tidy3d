{
 "cells": [
  {
   "cell_type": "code",
   "execution_count": 2,
   "id": "cd7b162c-38b8-493f-87eb-91e6c263f0fe",
   "metadata": {},
   "outputs": [],
   "source": [
    "import sys; sys.path.append('.')\n",
    "import tidy3d as td\n",
    "from tidy3d.components.base import Tidy3dBaseModel"
   ]
  },
  {
   "cell_type": "code",
   "execution_count": null,
   "id": "443f96c7-ae3a-4f6a-8963-e8e76abf7a76",
   "metadata": {},
   "outputs": [],
   "source": [
    "class Inf(Tidy3dBaseModel):\n",
    "\n",
    "    self.sign : bool = True\n",
    "    self.shift : \n",
    "    def __neg__(self):\n",
    "        if self.is_positive:\n",
    "            self.is_positive = False\n",
    "        else:\n",
    "            self.is_positive = True\n",
    "        return self\n",
    "\n",
    "    def __lt__(self, other):\n",
    "        return "
   ]
  }
 ],
 "metadata": {
  "kernelspec": {
   "display_name": "Python 3 (ipykernel)",
   "language": "python",
   "name": "python3"
  },
  "language_info": {
   "codemirror_mode": {
    "name": "ipython",
    "version": 3
   },
   "file_extension": ".py",
   "mimetype": "text/x-python",
   "name": "python",
   "nbconvert_exporter": "python",
   "pygments_lexer": "ipython3",
   "version": "3.9.7"
  }
 },
 "nbformat": 4,
 "nbformat_minor": 5
}
