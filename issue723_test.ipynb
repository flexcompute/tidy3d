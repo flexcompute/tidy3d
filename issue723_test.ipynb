{
 "cells": [
  {
   "cell_type": "code",
   "execution_count": null,
   "id": "1b6778dc-4e48-4562-887a-604e40aa1820",
   "metadata": {},
   "outputs": [],
   "source": [
    "# To update\n",
    "!python -m pip uninstall -q tidy3d --yes\n",
    "!pip install -q -e .\n",
    "import os\n",
    "os._exit(00)"
   ]
  },
  {
   "cell_type": "code",
   "execution_count": 1,
   "id": "f531b9fb-0569-4d28-af4f-5040b68f2124",
   "metadata": {},
   "outputs": [],
   "source": [
    "# standard python imports\n",
    "import numpy as np\n",
    "import matplotlib.pyplot as plt\n",
    "import matplotlib as mpl\n",
    "\n",
    "# tidy3D import\n",
    "import tidy3d as td\n",
    "from tidy3d import web\n",
    "from tidy3d.plugins.mode import ModeSolver"
   ]
  },
  {
   "cell_type": "code",
   "execution_count": 2,
   "id": "e8d83420-f5bf-48fc-be99-e167ede33dd2",
   "metadata": {},
   "outputs": [
    {
     "name": "stdout",
     "output_type": "stream",
     "text": [
      "for diameter of 10.0 um, have 23 cells per side\n",
      "full metalens has area of 100.0 um^2 and 529 total cells\n"
     ]
    }
   ],
   "source": [
    "# 1 nanometer in units of microns (for conversion)\n",
    "nm = 1e-3\n",
    "\n",
    "# free space central wavelength\n",
    "wavelength = 600 * nm\n",
    "\n",
    "# desired numerical aperture\n",
    "NA = 0.5\n",
    "\n",
    "# shape parameters of metalens unit cell (um) (refer to image above and see paper for details)\n",
    "W = 85 * nm\n",
    "L = 410 * nm\n",
    "H = 600 * nm\n",
    "S = 430 * nm\n",
    "\n",
    "# space between bottom PML and substrate (-z)\n",
    "space_below_sub = 1 * wavelength\n",
    "\n",
    "# thickness of substrate\n",
    "thickness_sub = 100 * nm\n",
    "\n",
    "# side length of entire metalens (um)\n",
    "side_length = 10\n",
    "\n",
    "# Number of unit cells in each x and y direction (NxN grid)\n",
    "N = int(side_length / S)\n",
    "print(f'for diameter of {side_length:.1f} um, have {N} cells per side')\n",
    "print(f'full metalens has area of {side_length**2:.1f} um^2 and {N*N} total cells')\n",
    "\n",
    "# Define material properties at 600 nm\n",
    "n_TiO2 = 2.40\n",
    "n_SiO2 = 1.46\n",
    "air = td.Medium(permittivity=1.0)\n",
    "SiO2 = td.Medium(permittivity=n_SiO2**2)\n",
    "TiO2 = td.Medium(permittivity=n_TiO2**2)"
   ]
  },
  {
   "cell_type": "code",
   "execution_count": 3,
   "id": "94216aa1-883e-4bae-af97-5d9267ad4bb9",
   "metadata": {},
   "outputs": [],
   "source": [
    "# using the wavelength in microns, one can use td.C_0 (um/s) to get frequency in Hz\n",
    "# wavelength_meters = wavelength * meters\n",
    "f0 = td.C_0 / wavelength\n",
    "\n",
    "# Compute the domain size in x, y (note: round down from side_length)\n",
    "length_xy = N * S\n",
    "\n",
    "# focal length given diameter and numerical aperture\n",
    "f = length_xy / 2 / NA * np.sqrt(1 - NA**2)\n",
    "\n",
    "# Function describing the theoretical best angle of each box at position (x,y).  see paper for details\n",
    "def theta(x, y):\n",
    "    return np.pi / wavelength * (f - np.sqrt(x ** 2 + y ** 2 + f ** 2))\n",
    "\n",
    "# total domain size in z: (space -> substrate -> unit cell -> 1.7 focal lengths)\n",
    "length_z = space_below_sub + thickness_sub + H + 1.7 * f\n",
    "\n",
    "# construct simulation size array\n",
    "sim_size = (length_xy, length_xy, length_z)"
   ]
  },
  {
   "cell_type": "code",
   "execution_count": 4,
   "id": "9446cf62-288b-4eda-a798-9a3318e51c74",
   "metadata": {},
   "outputs": [],
   "source": [
    "# define substrate\n",
    "substrate = td.Structure(\n",
    "    geometry=td.Box(\n",
    "        center=[0, 0, -length_z/2 + space_below_sub + thickness_sub / 2.0],\n",
    "        size=[td.inf, td.inf, thickness_sub],\n",
    "    ),\n",
    "    medium=SiO2\n",
    ")\n",
    "\n",
    "# define coordinates of each unit cell\n",
    "centers_x = S * np.arange(N) - length_xy / 2.0 + S / 2.0\n",
    "centers_y = S * np.arange(N) - length_xy / 2.0 + S / 2.0\n",
    "center_z = -length_z/2 + space_below_sub + thickness_sub + H / 2.0\n",
    "\n",
    "# x, y vertices of box of size (L, W) centered at the origin\n",
    "vertices_origin = np.array([[+L/2, +W/2],\n",
    "                            [-L/2, +W/2],\n",
    "                            [-L/2, -W/2],\n",
    "                            [+L/2, -W/2]])\n",
    "\n",
    "\n",
    "xs, ys = np.meshgrid(centers_x, centers_y, indexing='ij')\n",
    "xs = xs.flatten()\n",
    "ys = ys.flatten()\n",
    "\n",
    "angles = theta(xs, ys)\n",
    "\n",
    "# 2x2 rotation matrix angle `angle` with respect to x axis\n",
    "rotation_matrix = np.array([\n",
    "    [+np.cos(angles), -np.sin(angles)],\n",
    "    [+np.sin(angles), +np.cos(angles)]\n",
    "])\n",
    "\n",
    "# rotate the origin vertices by this angle\n",
    "vertices_rotated = np.einsum('ij, jkn -> nik', vertices_origin, rotation_matrix)\n",
    "\n",
    "# shift the rotated vertices to be centered at (xs, ys)\n",
    "vertices_shifted = vertices_rotated + np.stack([xs, ys], axis=-1)[:, None, :]\n",
    "\n",
    "metalens_geometry = []\n",
    "for vertices in vertices_shifted:\n",
    "    # create a tidy3D PolySlab with these rotated and shifted vertices and thickness `H`\n",
    "    metalens_geometry.append(\n",
    "        td.PolySlab(\n",
    "            vertices=vertices.tolist(),\n",
    "            slab_bounds=(center_z-H/2, center_z+H/2),\n",
    "            axis=2,\n",
    "        ),\n",
    "    )\n",
    "\n",
    "metalens = td.Structure(\n",
    "    geometry=td.GeometryGroup(geometries=metalens_geometry),\n",
    "    medium=TiO2\n",
    ")\n"
   ]
  },
  {
   "cell_type": "code",
   "execution_count": 5,
   "id": "1bab2960-bf9a-49d2-8bae-b27dc85606f0",
   "metadata": {},
   "outputs": [],
   "source": [
    "# steps per unit cell along x and y\n",
    "grids_per_unit_length = 20\n",
    "# uniform mesh in x and y\n",
    "grid_x = td.UniformGrid(dl=S / grids_per_unit_length)\n",
    "grid_y = td.UniformGrid(dl=S / grids_per_unit_length)\n",
    "# in z, use an automatic nonuniform mesh with the wavelength being the \"unit length\"\n",
    "grid_z = td.AutoGrid(min_steps_per_wvl=grids_per_unit_length)\n",
    "# we need to supply the wavelength because of the automatic mesh in z\n",
    "grid_spec = td.GridSpec(wavelength=wavelength, grid_x=grid_x, grid_y=grid_y, grid_z=grid_z)\n",
    "# put an override box over the pillars to avoid parsing a large amount of structures in the mesher\n",
    "grid_spec = grid_spec.copy(update=dict(override_structures = [\n",
    "    td.Structure(\n",
    "        geometry=td.Box.from_bounds(\n",
    "            rmin=(-td.inf, -td.inf, -length_z/2 + space_below_sub),\n",
    "            rmax=(td.inf, td.inf, center_z + H/2)\n",
    "        ),\n",
    "        medium=TiO2,\n",
    "    )\n",
    "]))"
   ]
  },
  {
   "cell_type": "code",
   "execution_count": 6,
   "id": "f5b9a316-1411-4328-924f-8883773f179b",
   "metadata": {},
   "outputs": [],
   "source": [
    "# Bandwidth in Hz\n",
    "fwidth = f0 / 10.0\n",
    "\n",
    "# time dependence of source\n",
    "gaussian = td.GaussianPulse(freq0=f0, fwidth=fwidth, phase=0)\n",
    "\n",
    "source = td.PlaneWave(\n",
    "    source_time=gaussian,\n",
    "    size=(td.inf, td.inf, 0),\n",
    "    center=(0,0,-length_z/2 + space_below_sub / 10.0),\n",
    "    direction='+',\n",
    "    pol_angle=0)\n",
    "\n",
    "run_time = 50 / fwidth"
   ]
  },
  {
   "cell_type": "code",
   "execution_count": 7,
   "id": "0cd9048e-ecd9-4705-b72b-77b87944ea62",
   "metadata": {},
   "outputs": [],
   "source": [
    "# To decrease the amount of data stored, only store the E field in 2D monitors\n",
    "fields = [\"Ex\", \"Ey\", \"Ez\"]\n",
    "\n",
    "# get fields along x=y=0 axis\n",
    "monitor_center = td.FieldMonitor(\n",
    "    center=[0., 0., 0],\n",
    "    size=[0, 0, td.inf],\n",
    "    freqs=[f0],\n",
    "    name='center'\n",
    ")\n",
    "\n",
    "# get the fields at a few cross-sectional planes\n",
    "monitor_xz = td.FieldMonitor(\n",
    "    center=[0., 0., 0.],\n",
    "    size=[td.inf, 0., td.inf],\n",
    "    freqs=[f0],\n",
    "    name='xz',\n",
    "    fields=fields,\n",
    ")\n",
    "\n",
    "monitor_yz = td.FieldMonitor(\n",
    "    center=[0., 0., 0.],\n",
    "    size=[0., td.inf, td.inf],\n",
    "    freqs=[f0],\n",
    "    name='yz',\n",
    "    fields=fields,\n",
    ")\n",
    "\n",
    "monitor_xy = td.FieldMonitor(\n",
    "    center=[0., 0., center_z + H/2 + f],\n",
    "    size=[td.inf, td.inf, 0],\n",
    "    freqs=[f0],\n",
    "    name='focal_plane',\n",
    "    fields=fields,\n",
    ")\n",
    "\n",
    "# put them into a single list\n",
    "monitors=[monitor_center, monitor_xz, monitor_yz, monitor_xy]"
   ]
  },
  {
   "cell_type": "code",
   "execution_count": 8,
   "id": "7ef1bb68-e96b-4467-bfe2-55baa2faf2c0",
   "metadata": {},
   "outputs": [
    {
     "data": {
      "text/html": [
       "<pre style=\"white-space:pre;overflow-x:auto;line-height:normal;font-family:Menlo,'DejaVu Sans Mono',consolas,'Courier New',monospace\"><span style=\"color: #7fbfbf; text-decoration-color: #7fbfbf\">[12:06:00] </span><span style=\"color: #800000; text-decoration-color: #800000\">WARNING: Override structures take no effect along x-axis. If intending to apply        </span> <a href=\"file:///home/hirako/tidy3d_dev/tidy3d/tidy3d/components/grid/grid_spec.py\" target=\"_blank\"><span style=\"color: #7f7f7f; text-decoration-color: #7f7f7f\">grid_spec.py</span></a><span style=\"color: #7f7f7f; text-decoration-color: #7f7f7f\">:</span><a href=\"file:///home/hirako/tidy3d_dev/tidy3d/tidy3d/components/grid/grid_spec.py#556\" target=\"_blank\"><span style=\"color: #7f7f7f; text-decoration-color: #7f7f7f\">556</span></a>\n",
       "<span style=\"color: #7fbfbf; text-decoration-color: #7fbfbf\">           </span><span style=\"color: #800000; text-decoration-color: #800000\">override structures to this axis, use </span><span style=\"color: #008000; text-decoration-color: #008000\">'AutoGrid'</span><span style=\"color: #800000; text-decoration-color: #800000\">.                                      </span> <span style=\"color: #7f7f7f; text-decoration-color: #7f7f7f\">                </span>\n",
       "</pre>\n"
      ],
      "text/plain": [
       "\u001b[2;36m[12:06:00]\u001b[0m\u001b[2;36m \u001b[0m\u001b[31mWARNING: Override structures take no effect along x-axis. If intending to apply        \u001b[0m \u001b]8;id=346862;file:///home/hirako/tidy3d_dev/tidy3d/tidy3d/components/grid/grid_spec.py\u001b\\\u001b[2mgrid_spec.py\u001b[0m\u001b]8;;\u001b\\\u001b[2m:\u001b[0m\u001b]8;id=735070;file:///home/hirako/tidy3d_dev/tidy3d/tidy3d/components/grid/grid_spec.py#556\u001b\\\u001b[2m556\u001b[0m\u001b]8;;\u001b\\\n",
       "\u001b[2;36m           \u001b[0m\u001b[31moverride structures to this axis, use \u001b[0m\u001b[32m'AutoGrid'\u001b[0m\u001b[31m.                                      \u001b[0m \u001b[2m                \u001b[0m\n"
      ]
     },
     "metadata": {},
     "output_type": "display_data"
    },
    {
     "data": {
      "text/html": [
       "<pre style=\"white-space:pre;overflow-x:auto;line-height:normal;font-family:Menlo,'DejaVu Sans Mono',consolas,'Courier New',monospace\"><span style=\"color: #7fbfbf; text-decoration-color: #7fbfbf\">           </span><span style=\"color: #800000; text-decoration-color: #800000\">WARNING: Override structures take no effect along y-axis. If intending to apply        </span> <a href=\"file:///home/hirako/tidy3d_dev/tidy3d/tidy3d/components/grid/grid_spec.py\" target=\"_blank\"><span style=\"color: #7f7f7f; text-decoration-color: #7f7f7f\">grid_spec.py</span></a><span style=\"color: #7f7f7f; text-decoration-color: #7f7f7f\">:</span><a href=\"file:///home/hirako/tidy3d_dev/tidy3d/tidy3d/components/grid/grid_spec.py#556\" target=\"_blank\"><span style=\"color: #7f7f7f; text-decoration-color: #7f7f7f\">556</span></a>\n",
       "<span style=\"color: #7fbfbf; text-decoration-color: #7fbfbf\">           </span><span style=\"color: #800000; text-decoration-color: #800000\">override structures to this axis, use </span><span style=\"color: #008000; text-decoration-color: #008000\">'AutoGrid'</span><span style=\"color: #800000; text-decoration-color: #800000\">.                                      </span> <span style=\"color: #7f7f7f; text-decoration-color: #7f7f7f\">                </span>\n",
       "</pre>\n"
      ],
      "text/plain": [
       "\u001b[2;36m          \u001b[0m\u001b[2;36m \u001b[0m\u001b[31mWARNING: Override structures take no effect along y-axis. If intending to apply        \u001b[0m \u001b]8;id=650119;file:///home/hirako/tidy3d_dev/tidy3d/tidy3d/components/grid/grid_spec.py\u001b\\\u001b[2mgrid_spec.py\u001b[0m\u001b]8;;\u001b\\\u001b[2m:\u001b[0m\u001b]8;id=351071;file:///home/hirako/tidy3d_dev/tidy3d/tidy3d/components/grid/grid_spec.py#556\u001b\\\u001b[2m556\u001b[0m\u001b]8;;\u001b\\\n",
       "\u001b[2;36m           \u001b[0m\u001b[31moverride structures to this axis, use \u001b[0m\u001b[32m'AutoGrid'\u001b[0m\u001b[31m.                                      \u001b[0m \u001b[2m                \u001b[0m\n"
      ]
     },
     "metadata": {},
     "output_type": "display_data"
    }
   ],
   "source": [
    "sim = td.Simulation(\n",
    "    size=sim_size,\n",
    "    grid_spec=grid_spec,\n",
    "    structures=[substrate, metalens],\n",
    "    sources=[source],\n",
    "    monitors=monitors,\n",
    "    run_time=run_time,\n",
    "    boundary_spec=td.BoundarySpec(\n",
    "        x=td.Boundary.absorber(),\n",
    "        y=td.Boundary.absorber(),\n",
    "        z=td.Boundary.pml()\n",
    "    )\n",
    ")"
   ]
  },
  {
   "cell_type": "code",
   "execution_count": 12,
   "id": "90b125b3-1149-4837-9e3a-29478e8a00d9",
   "metadata": {},
   "outputs": [
    {
     "name": "stdout",
     "output_type": "stream",
     "text": [
      "CPU times: user 2 µs, sys: 0 ns, total: 2 µs\n",
      "Wall time: 5.01 µs\n"
     ]
    },
    {
     "name": "stderr",
     "output_type": "stream",
     "text": [
      "/home/hirako/anaconda3/envs/tidy3d_dev/lib/python3.10/site-packages/shapely/set_operations.py:133: RuntimeWarning: invalid value encountered in intersection\n",
      "  return lib.intersection(a, b, **kwargs)\n"
     ]
    },
    {
     "data": {
      "image/png": "[encoded data removed]",
      "text/plain": [
       "<Figure size 1400x600 with 3 Axes>"
      ]
     },
     "metadata": {},
     "output_type": "display_data"
    }
   ],
   "source": [
    "fig, (ax1, ax2, ax3) = plt.subplots(1, 3, figsize=(14, 6))\n",
    "%time\n",
    "# Time the visualization of the 2D plane\n",
    "#sim.plot(x=0.1, hlim=[-4,4], ax=ax1);\n",
    "#sim.plot(y=0.1, vlim=[-8,-6], ax=ax2);\n",
    "sim.plot(z=-length_z/2 + space_below_sub + thickness_sub + H / 2, hlim=[-1,1], vlim=[-1,1], ax=ax3);"
   ]
  },
  {
   "cell_type": "code",
   "execution_count": 18,
   "id": "c938427b-e5fa-4a8b-a297-ca4b3b125501",
   "metadata": {},
   "outputs": [
    {
     "name": "stdout",
     "output_type": "stream",
     "text": [
      "None None 0.6543364524841309\n",
      "[-5, 5] [-5, 5] 0.7057754993438721\n",
      "[-4, 4] [-4, 4] 0.42323875427246094\n",
      "[-3, 3] [-3, 3] 0.3117983341217041\n",
      "[-2, 2] [-2, 2] 0.1963813304901123\n",
      "[-1, 1] [-1, 1] 0.13622021675109863\n",
      "[-0.5, 0.5] [-0.5, 0.5] 0.11279463768005371\n"
     ]
    },
    {
     "data": {
      "image/png": "[encoded data removed]",
      "text/plain": [
       "<Figure size 1400x600 with 1 Axes>"
      ]
     },
     "metadata": {},
     "output_type": "display_data"
    }
   ],
   "source": [
    "import time\n",
    "lims = [[None,None],\n",
    "        [[-5,5],[-5,5]],\n",
    "        [[-4,4],[-4,4]],\n",
    "        [[-3,3],[-3,3]],\n",
    "        [[-2,2],[-2,2]],\n",
    "        [[-1,1],[-1,1]],\n",
    "       [[-0.5,0.5],[-0.5,0.5]]]\n",
    "\n",
    "fig, ax = plt.subplots(1, 1, figsize=(14, 6))\n",
    "for l in lims:\n",
    "    start_time = time.time()\n",
    "    sim.plot(z=-length_z/2 + space_below_sub + thickness_sub + H / 2, hlim=l[0], vlim=l[1], ax=ax3);\n",
    "    time_to_plot = time.time() - start_time\n",
    "    print(l[0],l[1], time_to_plot)\n"
   ]
  },
  {
   "cell_type": "code",
   "execution_count": null,
   "id": "178a40da-91b7-40bc-bdb7-bc1951ea9bba",
   "metadata": {},
   "outputs": [],
   "source": []
  }
 ],
 "metadata": {
  "kernelspec": {
   "display_name": "Python 3 (ipykernel)",
   "language": "python",
   "name": "python3"
  },
  "language_info": {
   "codemirror_mode": {
    "name": "ipython",
    "version": 3
   },
   "file_extension": ".py",
   "mimetype": "text/x-python",
   "name": "python",
   "nbconvert_exporter": "python",
   "pygments_lexer": "ipython3",
   "version": "3.10.12"
  }
 },
 "nbformat": 4,
 "nbformat_minor": 5
}
