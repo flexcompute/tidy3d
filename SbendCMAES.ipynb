{
 "cells": [
  {
   "cell_type": "markdown",
   "id": "5885189d",
   "metadata": {},
   "source": [
    "# Optimization of an S-bend with CMA-ES"
   ]
  },
  {
   "cell_type": "markdown",
   "id": "23b42cf2",
   "metadata": {},
   "source": [
    "Note: the cost of running the entire notebook is larger than 1 FlexCredit.\n",
    "\n",
    "[Covariance Matrix Adaptation Evolution Strategy (CMA-ES)](https://en.wikipedia.org/wiki/CMA-ES) is a robust evolutionary algorithm used for solving optimization problems in continuous domains. It stands out for its ability to adaptively adjust the covariance matrix, which guides the generation of new solution candidates, enabling it to efficiently navigate complex, multimodal landscapes. Its self-adaptive mechanism and population-based approach make it a powerful tool for a wide range of applications.\n",
    "\n",
    "The steps in a CMA-ES are typically as follows:\n",
    "\n",
    "1. **Initialization**: Generate an initial population of candidate solutions randomly within the search space.\n",
    "\n",
    "2. **Initialize the parameters**: mean of the search distribution, covariance matrix, step size, etc.\n",
    "\n",
    "3. **Evaluation**: Assess each candidate in the current population using the objective function to determine its fitness.\n",
    "\n",
    "4. **Selection**: Select a subset of the best-performing candidates based on their fitness scores.\n",
    "\n",
    "5. **Update Mean**: Calculate the new mean of the selected candidates, which will be used to sample the next generation.\n",
    "\n",
    "6. **Adapt Covariance Matrix**: Update the covariance matrix based on the distribution of the selected candidates. This step is crucial as it adapts the sampling strategy to the shape of the objective function's landscape.\n",
    "\n",
    "7. **Adapt Step Size**: Adjust the step size, which controls the global scale of the search. This is typically done using a mechanism like path length control, which helps in maintaining an appropriate exploration-exploitation balance.\n",
    "\n",
    "8. **Generate New Population**: Sample a new population of candidates based on the updated mean, covariance matrix, and step size.\n",
    "\n",
    "9. **Termination Check**: Check for termination criteria (e.g., maximum number of iterations, satisfactory solution quality, or stagnation in improvement).\n",
    "\n",
    "10. **Repeat**: If termination criteria are not met, return to step 2 with the new population and continue the process.\n",
    "\n",
    "11. **Output**: Once termination criteria are met, output the best solution found or the final population depending on the specific requirements of the problem.\n",
    "\n",
    "CMA-ES can be effectively applied to the design optimization of photonic components.\n",
    "`Yuto Miyatake, Kasidit Toprasertpong, Shinichi Takagi, and Mitsuru Takenaka, \"Design of compact and low-loss S-bends by CMA-ES,\" Opt. Express 31, 43850-43863 (2023)` [DOI:10.1364/OE.504866](https://doi.org/10.1364/OE.504866) demonstrates the optimization of a compact, low-loss waveguide S-bend using CMA-ES. In this notebook, we follow this work and optimize a silicon waveguide S-bend. We use the CMA-ES optimizer from the open-source package [pycma](https://github.com/CMA-ES/pycma) so we can set up the optimization very quickly.\n",
    "\n",
    "<img src=\"img/optimized_sbend.png\" width=\"450\" alt=\"Schematic of the S-bend\">\n",
    "\n",
    "`Tidy3D` is a powerful tool for photonic design optimization due to its fast speed and high throughput. Besides CMA-ES, we have demonstrated particle swarm optimizations of a [polarization beam splitter](https://www.flexcompute.com/tidy3d/examples/notebooks/ParticleSwarmOptimizedPBS/) and a [bullseye cavity](https://www.flexcompute.com/tidy3d/examples/notebooks/BullseyeCavityPSO/), genetic algorithm optimization of an [on-chip reflector](https://www.flexcompute.com/tidy3d/examples/notebooks/GeneticAlgorithmReflector/), and direct binary search optimization of an [optical switch](https://www.flexcompute.com/tidy3d/examples/notebooks/OpticalSwitchDBS/). Furthermore, we also have a growing list of gradient-based adjoint optimization examples including\n",
    "\n",
    "1. [Mode converter](https://www.flexcompute.com/tidy3d/examples/notebooks/AdjointPlugin3InverseDesign/),\n",
    "\n",
    "2. [Waveguide taper](https://www.flexcompute.com/tidy3d/examples/notebooks/AdjointPlugin5BoundaryGradients/),\n",
    "\n",
    "3. [Metalens](https://www.flexcompute.com/tidy3d/examples/notebooks/AdjointPlugin7Metalens/),\n",
    "\n",
    "4. [Waveguide bend](https://www.flexcompute.com/tidy3d/examples/notebooks/AdjointPlugin8WaveguideBend/), \n",
    "\n",
    "5. [Multiplexer](https://www.flexcompute.com/tidy3d/examples/notebooks/AdjointPlugin9WDM/),\n",
    "\n",
    "6. [Y-branch](https://www.flexcompute.com/tidy3d/examples/notebooks/AdjointPlugin10YBranchLevelSet/),\n",
    "\n",
    "7. [MZI circuit](https://www.flexcompute.com/tidy3d/examples/notebooks/AdjointPlugin11CircuitMZI/),\n",
    "\n",
    "8. [Light extractor](https://www.flexcompute.com/tidy3d/examples/notebooks/AdjointPlugin12LightExtractor/)."
   ]
  },
  {
   "cell_type": "code",
   "execution_count": 1,
   "id": "a01f5f4e",
   "metadata": {},
   "outputs": [],
   "source": [
    "import numpy as np\n",
    "import matplotlib.pyplot as plt\n",
    "import math\n",
    "import cma\n",
    "\n",
    "import tidy3d as td\n",
    "import tidy3d.web as web"
   ]
  },
  {
   "cell_type": "markdown",
   "id": "1c94ab62",
   "metadata": {},
   "source": [
    "## Simulation Setup"
   ]
  },
  {
   "cell_type": "markdown",
   "id": "a5af4a78",
   "metadata": {},
   "source": [
    "The simulation wavelength range is 1500 nm to 1600 nm."
   ]
  },
  {
   "cell_type": "code",
   "execution_count": 2,
   "id": "9e53db36",
   "metadata": {},
   "outputs": [],
   "source": [
    "lda0 = 1.55  # central wavelength\n",
    "freq0 = td.C_0 / lda0  # central frequency\n",
    "\n",
    "n_freqs = 11\n",
    "ldas = np.linspace(1.5, 1.6, n_freqs)  # wavelength range\n",
    "freqs = td.C_0 / ldas  # frequency range\n",
    "fwidth = 0.5 * (np.max(freqs) - np.min(freqs))  # width of the source frequency range"
   ]
  },
  {
   "cell_type": "markdown",
   "id": "c8b75861",
   "metadata": {},
   "source": [
    "For simplicity, we will use the silicon and oxide media directly from the [material library](../api/material_library.html#)."
   ]
  },
  {
   "cell_type": "code",
   "execution_count": 3,
   "id": "9a19a01b",
   "metadata": {},
   "outputs": [],
   "source": [
    "si = td.material_library[\"cSi\"][\"Palik_Lossless\"]\n",
    "\n",
    "sio2 = td.material_library[\"SiO2\"][\"Palik_Lossless\"]"
   ]
  },
  {
   "cell_type": "markdown",
   "id": "f43ad711",
   "metadata": {},
   "source": [
    "The input and output straight waveguides have a 430 nm width and 220 nm thickness. The S-bend has a size of 3.5 µm and its boundaries are characterized by a Bezier curve with 7 control points. Therefore, the 14 parameters corresponding to the $xy$ coordinates of the control points tune the shape and width of the bend. The first and last points are fixed to ensure a smooth connection to the straight waveguides. The y coordinate of the middle control point is also fixed. Therefore, we have a total of 9 tunable parameters that can be optimized."
   ]
  },
  {
   "cell_type": "code",
   "execution_count": 4,
   "id": "9b2421cc",
   "metadata": {},
   "outputs": [],
   "source": [
    "s = 3.5  # s-bend size\n",
    "w = 0.43  # straight waveguide width\n",
    "t = 0.22  # waveguide thickness\n",
    "buffer = 1.5  # buffer spacing\n",
    "inf_eff = 1e2  # effective infinity\n",
    "\n",
    "# initial values of the tunable parameters corresponding to the coordinates of the control points\n",
    "x1 = 0.7675\n",
    "x2 = 0.215\n",
    "x3 = 0.215\n",
    "x4 = 0.215\n",
    "x5 = -0.9825\n",
    "y1 = 1.535\n",
    "y2 = 0.7675\n",
    "y4 = -0.9825\n",
    "y5 = -1.965\n",
    "\n",
    "# initial parameter vector\n",
    "x0 = [x1, x2, x3, x4, x5, y1, y2, y4, y5]"
   ]
  },
  {
   "cell_type": "markdown",
   "id": "5c668159",
   "metadata": {},
   "source": [
    "We define a function `bezier_curve` that takes the coordinates of the control points and returns the Bezier curve. To test it, we generate the Bezier curve that describes the bottom curve of the S-bend with the initial control points defined earlier and plot them."
   ]
  },
  {
   "cell_type": "code",
   "execution_count": 5,
   "id": "5ef29d64",
   "metadata": {},
   "outputs": [
    {
     "data": {
      "image/png": "[encoded data removed]",
      "text/plain": [
       "<Figure size 640x480 with 1 Axes>"
      ]
     },
     "metadata": {},
     "output_type": "display_data"
    }
   ],
   "source": [
    "def bezier_curve(control_points, num_points=100):\n",
    "    t = np.linspace(0, 1, num_points)\n",
    "    curve = np.zeros((num_points, 2))\n",
    "    n = len(control_points) - 1  # degree of the Bézier curve\n",
    "\n",
    "    for i in range(n + 1):\n",
    "        binomial_coeff = math.factorial(n) / (math.factorial(i) * math.factorial(n - i))\n",
    "        term = binomial_coeff * (1 - t) ** (n - i) * t**i\n",
    "        curve += np.outer(term, control_points[i])\n",
    "\n",
    "    return curve\n",
    "\n",
    "\n",
    "# define 7 control points\n",
    "control_points = np.array(\n",
    "    [\n",
    "        [-s / 2, -s / 2 - w / 2],\n",
    "        [x5, y5],\n",
    "        [x4, y4],\n",
    "        [x3, 0],\n",
    "        [x2, y2],\n",
    "        [x1, y1],\n",
    "        [s / 2, s / 2 - w / 2],\n",
    "    ]\n",
    ")\n",
    "\n",
    "# generate Bézier curve\n",
    "curve_bottom = bezier_curve(control_points)\n",
    "\n",
    "plt.plot(curve_bottom[:, 0], curve_bottom[:, 1], label=\"Bezier Curve\")\n",
    "plt.scatter(control_points[:, 0], control_points[:, 1], color=\"red\", label=\"Control Points\")\n",
    "plt.legend()\n",
    "plt.show()"
   ]
  },
  {
   "cell_type": "markdown",
   "id": "d52a06b4",
   "metadata": {},
   "source": [
    "The top curve of the S-bend is simply a 180 degree rotation of the bottom curve. With both curves, the bend can be simply defined as a [PolySlab](../api/_autosummary/tidy3d.PolySlab.html). The input and output straight waveguides can be defined using Box."
   ]
  },
  {
   "cell_type": "code",
   "execution_count": 6,
   "id": "28b13951",
   "metadata": {},
   "outputs": [
    {
     "data": {
      "image/png": "[encoded data removed]",
      "text/plain": [
       "<Figure size 640x480 with 1 Axes>"
      ]
     },
     "metadata": {},
     "output_type": "display_data"
    }
   ],
   "source": [
    "vertices = np.vstack((curve_bottom, -curve_bottom))\n",
    "\n",
    "sbend = td.Structure(\n",
    "    geometry=td.PolySlab(vertices=vertices, axis=2, slab_bounds=(-t / 2, t / 2)), medium=si\n",
    ")\n",
    "\n",
    "waveguide_in = td.Structure(\n",
    "    geometry=td.Box.from_bounds(\n",
    "        rmin=(-inf_eff, -s / 2 - w / 2, -t / 2), rmax=(-s / 2, -s / 2 + w / 2, t / 2)\n",
    "    ),\n",
    "    medium=si,\n",
    ")\n",
    "\n",
    "waveguide_out = td.Structure(\n",
    "    geometry=td.Box.from_bounds(\n",
    "        rmin=(s / 2, s / 2 - w / 2, -t / 2), rmax=(inf_eff, s / 2 + w / 2, t / 2)\n",
    "    ),\n",
    "    medium=si,\n",
    ")\n",
    "\n",
    "sbend.plot(z=0)\n",
    "plt.show()"
   ]
  },
  {
   "cell_type": "markdown",
   "id": "a2d22705",
   "metadata": {},
   "source": [
    "We will add a [ModeSource](../api/_autosummary/tidy3d.ModeSource.html) to launch the TE0 mode at the input waveguide and add a [ModeMonitor](../api/_autosummary/tidy3d.ModeMonitor.html) at the output waveguide to measure transmission efficiency."
   ]
  },
  {
   "cell_type": "code",
   "execution_count": 7,
   "id": "9e7ba506",
   "metadata": {},
   "outputs": [],
   "source": [
    "# add a mode source as excitation\n",
    "mode_spec = td.ModeSpec(num_modes=1, target_neff=3.5)\n",
    "mode_source = td.ModeSource(\n",
    "    center=(-s / 2 - buffer / 2, -s / 2, 0),\n",
    "    size=(0, 4 * w, 6 * t),\n",
    "    source_time=td.GaussianPulse(freq0=freq0, fwidth=fwidth),\n",
    "    direction=\"+\",\n",
    "    mode_spec=mode_spec,\n",
    "    mode_index=0,\n",
    ")\n",
    "\n",
    "# add a mode monitor to measure transmission at the output waveguide\n",
    "mode_monitor = td.ModeMonitor(\n",
    "    center=(s / 2 + buffer / 2, s / 2, 0),\n",
    "    size=mode_source.size,\n",
    "    freqs=freqs,\n",
    "    mode_spec=mode_spec,\n",
    "    name=\"mode\",\n",
    ")"
   ]
  },
  {
   "cell_type": "markdown",
   "id": "4cccd431",
   "metadata": {},
   "source": [
    "To facilitate the optimization, we define a function `make_sim` that takes the design parameter vector and returns a [Simulation](../api/_autosummary/tidy3d.Simulation.html)."
   ]
  },
  {
   "cell_type": "code",
   "execution_count": 8,
   "id": "7953ef34",
   "metadata": {},
   "outputs": [],
   "source": [
    "def make_sim(x):\n",
    "    control_points = np.array(\n",
    "        [\n",
    "            [-s / 2, -s / 2 - w / 2],\n",
    "            [x[4], x[8]],\n",
    "            [x[3], x[7]],\n",
    "            [x[2], 0],\n",
    "            [x[1], x[6]],\n",
    "            [x[0], x[5]],\n",
    "            [s / 2, s / 2 - w / 2],\n",
    "        ]\n",
    "    )\n",
    "\n",
    "    curve_bottom = bezier_curve(control_points)\n",
    "\n",
    "    vertices = np.vstack((curve_bottom, -curve_bottom))\n",
    "\n",
    "    sbend = td.Structure(\n",
    "        geometry=td.PolySlab(vertices=vertices, axis=2, slab_bounds=(-t / 2, t / 2)), medium=si\n",
    "    )\n",
    "\n",
    "    run_time = 5e-13  # simulation run time\n",
    "\n",
    "    return td.Simulation(\n",
    "        size=(s + 2 * buffer, s + 2 * buffer, 10 * t),\n",
    "        grid_spec=td.GridSpec.auto(min_steps_per_wvl=15, wavelength=lda0),\n",
    "        structures=[waveguide_in, waveguide_out, sbend],\n",
    "        sources=[mode_source],\n",
    "        monitors=[mode_monitor],\n",
    "        run_time=run_time,\n",
    "        boundary_spec=td.BoundarySpec.all_sides(boundary=td.PML()),\n",
    "        medium=sio2,\n",
    "        symmetry=(0, 0, 1),\n",
    "    )"
   ]
  },
  {
   "cell_type": "markdown",
   "id": "a36c8a6e",
   "metadata": {},
   "source": [
    "## Optimization Setup"
   ]
  },
  {
   "cell_type": "markdown",
   "id": "25d3d9de",
   "metadata": {},
   "source": [
    "The objective of the optimization is to reduce the loss at the S-bend. Therefore, the objective function is simply the transmission to the output waveguide. By default, the objective evaluation is sequential, i.e. in each generation the objective function is calculated for each population one at a time. To leverage the parallel run of Tidy3D, we want to evaluate the objective functions for all populations in the generation at once. To achieve this, we need to do some customization for the optimizer, which we will demonstrate later. For now, let's assume that the objective function takes a 2D array of parameter vectors instead of a single parameter vector and returns a 1D array of objective function values. Each row of the 2D array corresponds to one parameter vector in the generation and the number of rows equals the number of populations. "
   ]
  },
  {
   "cell_type": "code",
   "execution_count": 9,
   "id": "97353b32",
   "metadata": {},
   "outputs": [],
   "source": [
    "def compute_transmission(sim_data):\n",
    "    amps = sim_data[\"mode\"].amps.sel(mode_index=0, direction=\"+\").values\n",
    "    return np.abs(amps) ** 2\n",
    "\n",
    "\n",
    "def objective_function(xs):\n",
    "    sims = {}\n",
    "    for i, x in enumerate(xs):\n",
    "        sim = make_sim(x)\n",
    "        sims[f\"population_{i}\"] = sim\n",
    "\n",
    "    batch = web.Batch(simulations=sims, verbose=False)\n",
    "    batch_results = batch.run(path_dir=\"data\")\n",
    "\n",
    "    T = []\n",
    "    for i, _ in enumerate(xs):\n",
    "        sim_data = batch_results[f\"population_{i}\"]\n",
    "        T.append(-10 * np.log10(np.mean(compute_transmission(sim_data))))\n",
    "    return T"
   ]
  },
  {
   "cell_type": "markdown",
   "id": "6fe00357",
   "metadata": {},
   "source": [
    "Define the hyperparameters for the optimization. We use a population size of 10 and run the optimization for a total of 12 generations. The initial standard deviation is set to 0.05, which is empirically determined. This parameter determines the size of the explored parameter space initially. Too large of an initial standard deviation could lead to a self-intersecting [PolySlab](../api/_autosummary/tidy3d.PolySlab.html). For reproducibility, we also use a fixed random seed.\n",
    "\n",
    "With the hyperparameters, we define the CMA-ES optimizer."
   ]
  },
  {
   "cell_type": "code",
   "execution_count": 10,
   "id": "86757557",
   "metadata": {},
   "outputs": [
    {
     "name": "stdout",
     "output_type": "stream",
     "text": [
      "(5_w,10)-aCMA-ES (mu_w=3.2,w_1=45%) in dimension 9 (seed=12345, Wed Dec 20 17:40:44 2023)\n"
     ]
    }
   ],
   "source": [
    "dim = len(x0)\n",
    "population_size = 10\n",
    "max_generations = 12\n",
    "sigma0 = 0.05\n",
    "random_seed = 12345\n",
    "\n",
    "es = cma.CMAEvolutionStrategy(\n",
    "    x0, sigma0, {\"popsize\": population_size, \"maxiter\": max_generations, \"seed\": random_seed}\n",
    ")"
   ]
  },
  {
   "cell_type": "markdown",
   "id": "d7db1c05",
   "metadata": {},
   "source": [
    "## Run Optimization"
   ]
  },
  {
   "cell_type": "markdown",
   "id": "75ddda2e",
   "metadata": {},
   "source": [
    "With the objective function and optimizer set up, we can start the optimization. As we mentioned previously, we need to customize the optimization loop slightly such that the objective functions for the entire population can be evaluated in parallel. \n",
    "\n",
    "We also keep track of the best objective function value and display it at the end of each generation. We can see that the transmission improved from 0.271 dB in the first generation to 0.045 dB in the last generation, which is a significant improvement. "
   ]
  },
  {
   "cell_type": "code",
   "execution_count": 11,
   "id": "91a893aa",
   "metadata": {},
   "outputs": [
    {
     "name": "stdout",
     "output_type": "stream",
     "text": [
      "Generation 0: Best function value = 0.271\n",
      "Generation 1: Best function value = 0.235\n",
      "Generation 2: Best function value = 0.201\n",
      "Generation 3: Best function value = 0.164\n",
      "Generation 4: Best function value = 0.079\n",
      "Generation 5: Best function value = 0.059\n",
      "Generation 6: Best function value = 0.059\n",
      "Generation 7: Best function value = 0.059\n",
      "Generation 8: Best function value = 0.058\n",
      "Generation 9: Best function value = 0.045\n",
      "Generation 10: Best function value = 0.045\n",
      "Generation 11: Best function value = 0.045\n"
     ]
    }
   ],
   "source": [
    "best_values = []\n",
    "\n",
    "generation = 0\n",
    "while not es.stop():\n",
    "    solutions = es.ask()\n",
    "    function_values = objective_function(solutions)\n",
    "    es.tell(solutions, function_values)\n",
    "\n",
    "    best_values.append(es.result[1])\n",
    "\n",
    "    # Print message for each generation\n",
    "    print(f\"Generation {generation}: Best function value = {es.result[1]:.3f}\")\n",
    "\n",
    "    generation += 1"
   ]
  },
  {
   "cell_type": "markdown",
   "id": "8fa8a727",
   "metadata": {},
   "source": [
    "Plot the best objective value as a function of generation. "
   ]
  },
  {
   "cell_type": "code",
   "execution_count": 12,
   "id": "5366acc5",
   "metadata": {},
   "outputs": [
    {
     "data": {
      "image/png": "[encoded data removed]",
      "text/plain": [
       "<Figure size 640x480 with 1 Axes>"
      ]
     },
     "metadata": {},
     "output_type": "display_data"
    }
   ],
   "source": [
    "plt.plot(best_values)\n",
    "plt.xlabel(\"Generation\")\n",
    "plt.ylabel(\"Best objective function\")\n",
    "plt.show()"
   ]
  },
  {
   "cell_type": "markdown",
   "id": "5f6f81ea",
   "metadata": {},
   "source": [
    "## Final Design"
   ]
  },
  {
   "cell_type": "markdown",
   "id": "ca517cd8",
   "metadata": {},
   "source": [
    "After the optimization, we can inspect the optimized design more closely. First, extract the optimal parameter vector from the optimizer. Then define a [Simulation](../api/_autosummary/tidy3d.Simulation.html) and visualize it. "
   ]
  },
  {
   "cell_type": "code",
   "execution_count": 13,
   "id": "6a1b6ce9",
   "metadata": {},
   "outputs": [
    {
     "data": {
      "text/html": [
       "\n",
       "    <iframe id=\"simulation-viewer170311274598335367\" src=https://feature-simulation-viewer.d3a9gfg7glllfq.amplifyapp.com/simulation-viewer?uuid=170311274598335367 width=\"800\" height=\"800\" allowfullscreen=\"true\"></iframe>\n",
       "    <script>\n",
       "        \n",
       "    window.postMessageToViewer170311274598335367 = event => {\n",
       "        if(event.data.type === 'viewer'&&event.data.uuid==='170311274598335367'){\n",
       "            document.getElementById('simulation-viewer170311274598335367').contentWindow.postMessage({ type: 'jupyter', uuid:'170311274598335367', value:{\"type\": \"Simulation\", \"center\": [0.0, 0.0, 0.0], \"size\": [6.5, 6.5, 2.2], \"medium\": {\"name\": null, \"frequency_range\": [59958491600000.0, 1998616386666666.8], \"allow_gain\": false, \"nonlinear_spec\": null, \"modulation_spec\": null, \"heat_spec\": null, \"type\": \"PoleResidue\", \"eps_inf\": 1.5385442336875639, \"poles\": [[{\"real\": -11504139.374277674, \"imag\": -1.595196740783775e+16}, {\"real\": 7507685.43042605, \"imag\": 4535416182817100.0}], [{\"real\": -249390.3565044153, \"imag\": -172280738540723.53}, {\"real\": 46272.506981344035, \"imag\": 99704543223121.88}]]}, \"structures\": [{\"geometry\": {\"type\": \"Box\", \"center\": [-50.875, -1.75, 0.0], \"size\": [98.25, 0.43000000000000016, 0.22]}, \"name\": null, \"type\": \"Structure\", \"medium\": {\"name\": null, \"frequency_range\": [1199169832000.0, 249827048333333.34], \"allow_gain\": false, \"nonlinear_spec\": null, \"modulation_spec\": null, \"heat_spec\": null, \"type\": \"PoleResidue\", \"eps_inf\": 1.0, \"poles\": [[{\"real\": -1.7473849958109988, \"imag\": -6409829457220535.0}, {\"real\": 0.06947645444424029, \"imag\": 3.4268436708700284e+16}]]}}, {\"geometry\": {\"type\": \"Box\", \"center\": [50.875, 1.75, 0.0], \"size\": [98.25, 0.43000000000000016, 0.22]}, \"name\": null, \"type\": \"Structure\", \"medium\": {\"name\": null, \"frequency_range\": [1199169832000.0, 249827048333333.34], \"allow_gain\": false, \"nonlinear_spec\": null, \"modulation_spec\": null, \"heat_spec\": null, \"type\": \"PoleResidue\", \"eps_inf\": 1.0, \"poles\": [[{\"real\": -1.7473849958109988, \"imag\": -6409829457220535.0}, {\"real\": 0.06947645444424029, \"imag\": 3.4268436708700284e+16}]]}}, {\"geometry\": {\"type\": \"PolySlab\", \"axis\": 2, \"sidewall_angle\": 0.0, \"reference_plane\": \"middle\", \"slab_bounds\": [-0.11, 0.11], \"dilation\": 0.0, \"vertices\": [[-1.75, -1.965], [-1.6727623898503254, -1.9669873836511156], [-1.5968256450187805, -1.9663198907253847], [-1.5222869369400869, -1.9630646612844218], [-1.4492340671720871, -1.9572892308851646], [-1.3777457670581301, -1.9490614733817424], [-1.3078919942067677, -1.938449544845904], [-1.239734225788799, -1.9255218286060412], [-1.1733257486516453, -1.9103468814047893], [-1.1087119462510437, -1.8929933806751957], [-1.0459305824000964, -1.8735300729354925], [-0.9850120818356282, -1.8520257233024162], [-0.9259798076018966, -1.8285490661231447], [-0.868850335251619, -1.8031687567257793], [-0.8136337238643421, -1.7759533242884304], [-0.7603337838821411, -1.7469711258268776], [-0.708948341762647, -1.7162903013008], [-0.6594695014494144, -1.6839787298386013], [-0.611883902659613, -1.6501039870808014], [-0.5661729759890595, -1.6147333036420213], [-0.5223131948345752, -1.5779335246915325], [-0.4802763241336801, -1.5397710706524], [-0.4400296659216193, -1.5003118990192017], [-0.40153630170571825, -1.4596214672943195], [-0.36475533165707663, -1.4177646970428237], [-0.32964211061958676, -1.374805939065925], [-0.2961484809362921, -1.330808939693018], [-0.2642230020930724, -1.2858368081922926], [-0.23381117717966413, -1.2399519852999348], [-0.20485567616801442, -1.1932162128679054], [-0.17729655600796257, -1.1456905046302959], [-0.15107147754025954, -1.097435118088263], [-0.1261159192269168, -1.0485095275135525], [-0.10236338769888831, -0.9989723980705929], [-0.0797456251210839, -0.9488815610571714], [-0.05819281337471694, -0.8982939902636926], [-0.03763377505698371, -0.8472657794510194], [-0.017996171298073606, -0.7958521209468845], [0.0007933036044855662, -0.7441072853608908], [0.018808730734151975, -0.6920846024180888], [0.03612477828636071, -0.6398364429111335], [0.052816516482182864, -0.5874142017710203], [0.06895923566465176, -0.5348682822564031], [0.08462826757775707, -0.48224808126149404], [0.09989880982810628, -0.429601975742535], [0.11484575352925414, -0.37697731026285936], [0.12954351412869897, -0.3244203856565283], [0.14406586541754765, -0.2719764488105469], [0.15848577672284703, -0.2196896835656609], [0.1728752532825839, -0.16760320273573387], [0.1873051798033519, -0.11575904124570632], [0.2018451672006863, -0.06419815038812918], [0.21656340252206596, -0.012960393198284383], [0.23152650205258413, 0.03791545905212173], [0.2467993676032853, 0.08839172924267974], [0.26244504598217, 0.1384318356734187], [0.27852459164786836, 0.1880002922153734], [0.29509693254597935, 0.23706270734256296], [0.31221873912807985, 0.285585782045398], [0.3299442965533991, 0.3335373066255014], [0.3483253800731615, 0.38088615637195167], [0.36741113359759914, 0.4276022861189485], [0.38724795144562696, 0.4736567236848922], [0.4078793632771919, 0.5190215621928917], [0.42934592220828327, 0.5636699512726833], [0.45168509610861607, 0.6075760871439777], [0.47493116208197855, 0.6507152015812219], [0.49911510412924776, 0.6930635497597812], [0.5242645139940748, 0.7345983969835466], [0.5504034951912344, 0.7752980042939532], [0.5775525702176463, 0.815141612960429], [0.6057285909460582, 0.8541094278522532], [0.634944652201404, 0.8921825996918442], [0.665210008519822, 0.9293432061894611], [0.6965299940903462, 0.9655742320593267], [0.728905945879263, 1.0008595479171731], [0.7623351299371343, 1.0351838880592032], [0.7968106708884912, 1.0685328271224763], [0.8323214846041934, 1.1008927556267114], [0.8688522140564547, 1.132250854397508], [0.9063831683565409, 1.1625950678709964], [0.9448902649751286, 1.1919140762798934], [0.9843449751453391, 1.2201972667209935], [1.024714272448432, 1.2474347031040667], [1.0659605845821738, 1.2736170949821868], [1.108041748311869, 1.2987357652634737], [1.1509109676040599, 1.3227826168042562], [1.1945167749428967, 1.3457500978836576], [1.23880299582917, 1.3676311665595984], [1.283708716462018, 1.3884192539062217], [1.3291682546032924, 1.4081082261327356], [1.3751111336246007, 1.4266923455836782], [1.4214620597370107, 1.4441662306206025], [1.4681409024034227, 1.4605248143851783], [1.5150626779336138, 1.4757633024437182], [1.5621375362619416, 1.4898771293131203], [1.6092707509077264, 1.5028619138682342], [1.6563627121182904, 1.5147134136306433], [1.703308923194671, 1.5254274779388701], [1.75, 1.535], [1.75, 1.965], [1.6727623898503254, 1.9669873836511156], [1.5968256450187805, 1.9663198907253847], [1.5222869369400869, 1.9630646612844218], [1.4492340671720871, 1.9572892308851646], [1.3777457670581301, 1.9490614733817424], [1.3078919942067677, 1.938449544845904], [1.239734225788799, 1.9255218286060412], [1.1733257486516453, 1.9103468814047893], [1.1087119462510437, 1.8929933806751957], [1.0459305824000964, 1.8735300729354925], [0.9850120818356282, 1.8520257233024162], [0.9259798076018966, 1.8285490661231447], [0.868850335251619, 1.8031687567257793], [0.8136337238643421, 1.7759533242884304], [0.7603337838821411, 1.7469711258268776], [0.708948341762647, 1.7162903013008], [0.6594695014494144, 1.6839787298386013], [0.611883902659613, 1.6501039870808014], [0.5661729759890595, 1.6147333036420213], [0.5223131948345752, 1.5779335246915325], [0.4802763241336801, 1.5397710706524], [0.4400296659216193, 1.5003118990192017], [0.40153630170571825, 1.4596214672943195], [0.36475533165707663, 1.4177646970428237], [0.32964211061958676, 1.374805939065925], [0.2961484809362921, 1.330808939693018], [0.2642230020930724, 1.2858368081922926], [0.23381117717966413, 1.2399519852999348], [0.20485567616801442, 1.1932162128679054], [0.17729655600796257, 1.1456905046302959], [0.15107147754025954, 1.097435118088263], [0.1261159192269168, 1.0485095275135525], [0.10236338769888831, 0.9989723980705929], [0.0797456251210839, 0.9488815610571714], [0.05819281337471694, 0.8982939902636926], [0.03763377505698371, 0.8472657794510194], [0.017996171298073606, 0.7958521209468845], [-0.0007933036044855662, 0.7441072853608908], [-0.018808730734151975, 0.6920846024180888], [-0.03612477828636071, 0.6398364429111335], [-0.052816516482182864, 0.5874142017710203], [-0.06895923566465176, 0.5348682822564031], [-0.08462826757775707, 0.48224808126149404], [-0.09989880982810628, 0.429601975742535], [-0.11484575352925414, 0.37697731026285936], [-0.12954351412869897, 0.3244203856565283], [-0.14406586541754765, 0.2719764488105469], [-0.15848577672284703, 0.2196896835656609], [-0.1728752532825839, 0.16760320273573387], [-0.1873051798033519, 0.11575904124570632], [-0.2018451672006863, 0.06419815038812918], [-0.21656340252206596, 0.012960393198284383], [-0.23152650205258413, -0.03791545905212173], [-0.2467993676032853, -0.08839172924267974], [-0.26244504598217, -0.1384318356734187], [-0.27852459164786836, -0.1880002922153734], [-0.29509693254597935, -0.23706270734256296], [-0.31221873912807985, -0.285585782045398], [-0.3299442965533991, -0.3335373066255014], [-0.3483253800731615, -0.38088615637195167], [-0.36741113359759914, -0.4276022861189485], [-0.38724795144562696, -0.4736567236848922], [-0.4078793632771919, -0.5190215621928917], [-0.42934592220828327, -0.5636699512726833], [-0.45168509610861607, -0.6075760871439777], [-0.47493116208197855, -0.6507152015812219], [-0.49911510412924776, -0.6930635497597812], [-0.5242645139940748, -0.7345983969835466], [-0.5504034951912344, -0.7752980042939532], [-0.5775525702176463, -0.815141612960429], [-0.6057285909460582, -0.8541094278522532], [-0.634944652201404, -0.8921825996918442], [-0.665210008519822, -0.9293432061894611], [-0.6965299940903462, -0.9655742320593267], [-0.728905945879263, -1.0008595479171731], [-0.7623351299371343, -1.0351838880592032], [-0.7968106708884912, -1.0685328271224763], [-0.8323214846041934, -1.1008927556267114], [-0.8688522140564547, -1.132250854397508], [-0.9063831683565409, -1.1625950678709964], [-0.9448902649751286, -1.1919140762798934], [-0.9843449751453391, -1.2201972667209935], [-1.024714272448432, -1.2474347031040667], [-1.0659605845821738, -1.2736170949821868], [-1.108041748311869, -1.2987357652634737], [-1.1509109676040599, -1.3227826168042562], [-1.1945167749428967, -1.3457500978836576], [-1.23880299582917, -1.3676311665595984], [-1.283708716462018, -1.3884192539062217], [-1.3291682546032924, -1.4081082261327356], [-1.3751111336246007, -1.4266923455836782], [-1.4214620597370107, -1.4441662306206025], [-1.4681409024034227, -1.4605248143851783], [-1.5150626779336138, -1.4757633024437182], [-1.5621375362619416, -1.4898771293131203], [-1.6092707509077264, -1.5028619138682342], [-1.6563627121182904, -1.5147134136306433], [-1.703308923194671, -1.5254274779388701], [-1.75, -1.535]]}, \"name\": null, \"type\": \"Structure\", \"medium\": {\"name\": null, \"frequency_range\": [1199169832000.0, 249827048333333.34], \"allow_gain\": false, \"nonlinear_spec\": null, \"modulation_spec\": null, \"heat_spec\": null, \"type\": \"PoleResidue\", \"eps_inf\": 1.0, \"poles\": [[{\"real\": -1.7473849958109988, \"imag\": -6409829457220535.0}, {\"real\": 0.06947645444424029, \"imag\": 3.4268436708700284e+16}]]}}], \"symmetry\": [0, 0, 1], \"sources\": [{\"name\": null, \"type\": \"ModeSource\", \"center\": [-2.5, -1.75, 0.0], \"size\": [0.0, 1.72, 1.32], \"source_time\": {\"amplitude\": 1.0, \"phase\": 0.0, \"type\": \"GaussianPulse\", \"freq0\": 193414489032258.06, \"fwidth\": 6245676208333.328, \"offset\": 5.0, \"remove_dc_component\": true}, \"num_freqs\": 1, \"direction\": \"+\", \"mode_spec\": {\"num_modes\": 1, \"target_neff\": 3.5, \"num_pml\": [0, 0], \"filter_pol\": null, \"angle_theta\": 0.0, \"angle_phi\": 0.0, \"precision\": \"single\", \"bend_radius\": null, \"bend_axis\": null, \"track_freq\": \"central\", \"group_index_step\": false, \"type\": \"ModeSpec\"}, \"mode_index\": 0}], \"boundary_spec\": {\"x\": {\"plus\": {\"name\": null, \"type\": \"PML\", \"num_layers\": 12, \"parameters\": {\"sigma_order\": 3, \"sigma_min\": 0.0, \"sigma_max\": 1.5, \"type\": \"PMLParams\", \"kappa_order\": 3, \"kappa_min\": 1.0, \"kappa_max\": 3.0, \"alpha_order\": 1, \"alpha_min\": 0.0, \"alpha_max\": 0.0}}, \"minus\": {\"name\": null, \"type\": \"PML\", \"num_layers\": 12, \"parameters\": {\"sigma_order\": 3, \"sigma_min\": 0.0, \"sigma_max\": 1.5, \"type\": \"PMLParams\", \"kappa_order\": 3, \"kappa_min\": 1.0, \"kappa_max\": 3.0, \"alpha_order\": 1, \"alpha_min\": 0.0, \"alpha_max\": 0.0}}, \"type\": \"Boundary\"}, \"y\": {\"plus\": {\"name\": null, \"type\": \"PML\", \"num_layers\": 12, \"parameters\": {\"sigma_order\": 3, \"sigma_min\": 0.0, \"sigma_max\": 1.5, \"type\": \"PMLParams\", \"kappa_order\": 3, \"kappa_min\": 1.0, \"kappa_max\": 3.0, \"alpha_order\": 1, \"alpha_min\": 0.0, \"alpha_max\": 0.0}}, \"minus\": {\"name\": null, \"type\": \"PML\", \"num_layers\": 12, \"parameters\": {\"sigma_order\": 3, \"sigma_min\": 0.0, \"sigma_max\": 1.5, \"type\": \"PMLParams\", \"kappa_order\": 3, \"kappa_min\": 1.0, \"kappa_max\": 3.0, \"alpha_order\": 1, \"alpha_min\": 0.0, \"alpha_max\": 0.0}}, \"type\": \"Boundary\"}, \"z\": {\"plus\": {\"name\": null, \"type\": \"PML\", \"num_layers\": 12, \"parameters\": {\"sigma_order\": 3, \"sigma_min\": 0.0, \"sigma_max\": 1.5, \"type\": \"PMLParams\", \"kappa_order\": 3, \"kappa_min\": 1.0, \"kappa_max\": 3.0, \"alpha_order\": 1, \"alpha_min\": 0.0, \"alpha_max\": 0.0}}, \"minus\": {\"name\": null, \"type\": \"PML\", \"num_layers\": 12, \"parameters\": {\"sigma_order\": 3, \"sigma_min\": 0.0, \"sigma_max\": 1.5, \"type\": \"PMLParams\", \"kappa_order\": 3, \"kappa_min\": 1.0, \"kappa_max\": 3.0, \"alpha_order\": 1, \"alpha_min\": 0.0, \"alpha_max\": 0.0}}, \"type\": \"Boundary\"}, \"type\": \"BoundarySpec\"}, \"monitors\": [{\"type\": \"ModeMonitor\", \"center\": [2.5, 1.75, 0.0], \"size\": [0.0, 1.72, 1.32], \"name\": \"mode\", \"interval_space\": [1, 1, 1], \"colocate\": false, \"freqs\": [199861638666666.66, 198538051655629.12, 197231880263157.9, 195942783006535.94, 194670427272727.28, 193414489032258.06, 192174652564102.56, 190950610191082.78, 189742062025316.44, 188548715723270.44, 187370286250000.0], \"apodization\": {\"start\": null, \"end\": null, \"width\": null, \"type\": \"ApodizationSpec\"}, \"mode_spec\": {\"num_modes\": 1, \"target_neff\": 3.5, \"num_pml\": [0, 0], \"filter_pol\": null, \"angle_theta\": 0.0, \"angle_phi\": 0.0, \"precision\": \"single\", \"bend_radius\": null, \"bend_axis\": null, \"track_freq\": \"central\", \"group_index_step\": false, \"type\": \"ModeSpec\"}}], \"grid_spec\": {\"grid_x\": {\"type\": \"AutoGrid\", \"min_steps_per_wvl\": 15.0, \"max_scale\": 1.4, \"dl_min\": 0.0, \"mesher\": {\"type\": \"GradedMesher\"}}, \"grid_y\": {\"type\": \"AutoGrid\", \"min_steps_per_wvl\": 15.0, \"max_scale\": 1.4, \"dl_min\": 0.0, \"mesher\": {\"type\": \"GradedMesher\"}}, \"grid_z\": {\"type\": \"AutoGrid\", \"min_steps_per_wvl\": 15.0, \"max_scale\": 1.4, \"dl_min\": 0.0, \"mesher\": {\"type\": \"GradedMesher\"}}, \"wavelength\": 1.55, \"override_structures\": [], \"type\": \"GridSpec\"}, \"version\": \"2.5.0\", \"run_time\": 5e-13, \"shutoff\": 1e-05, \"subpixel\": true, \"normalize_index\": 0, \"courant\": 0.99}}, '*')\n",
       "        }\n",
       "    };\n",
       "    window.addEventListener(\n",
       "        'message',\n",
       "        window.postMessageToViewer170311274598335367,\n",
       "        false\n",
       "    );\n",
       "    \n",
       "    </script>\n",
       "    "
      ],
      "text/plain": [
       "<IPython.core.display.HTML object>"
      ]
     },
     "metadata": {},
     "output_type": "display_data"
    }
   ],
   "source": [
    "x_opt = es.result[0]\n",
    "sim_opt = make_sim(x_opt)\n",
    "sim_opt.plot_3d()"
   ]
  },
  {
   "cell_type": "markdown",
   "id": "140b1b02",
   "metadata": {},
   "source": [
    "To help visualize the field propagation, we add a [FieldMonitor](../api/_autosummary/tidy3d.FieldMonitor.html) to the simulation and run it again."
   ]
  },
  {
   "cell_type": "code",
   "execution_count": 14,
   "id": "3eeceebe",
   "metadata": {},
   "outputs": [
    {
     "data": {
      "text/html": [
       "<pre style=\"white-space:pre;overflow-x:auto;line-height:normal;font-family:Menlo,'DejaVu Sans Mono',consolas,'Courier New',monospace\"><span style=\"color: #7fbfbf; text-decoration-color: #7fbfbf\">17:52:26 Eastern Standard Time </span>Created task <span style=\"color: #008000; text-decoration-color: #008000\">'final_design'</span> with task_id         \n",
       "<span style=\"color: #7fbfbf; text-decoration-color: #7fbfbf\">                               </span><span style=\"color: #008000; text-decoration-color: #008000\">'fdve-92d29705-e9f2-485b-9d0a-2d7c06424d42'</span> and  \n",
       "<span style=\"color: #7fbfbf; text-decoration-color: #7fbfbf\">                               </span>task_type <span style=\"color: #008000; text-decoration-color: #008000\">'FDTD'</span>.                                \n",
       "</pre>\n"
      ],
      "text/plain": [
       "\u001b[2;36m17:52:26 Eastern Standard Time\u001b[0m\u001b[2;36m \u001b[0mCreated task \u001b[32m'final_design'\u001b[0m with task_id         \n",
       "\u001b[2;36m                               \u001b[0m\u001b[32m'fdve-92d29705-e9f2-485b-9d0a-2d7c06424d42'\u001b[0m and  \n",
       "\u001b[2;36m                               \u001b[0mtask_type \u001b[32m'FDTD'\u001b[0m.                                \n"
      ]
     },
     "metadata": {},
     "output_type": "display_data"
    },
    {
     "data": {
      "text/html": [
       "<pre style=\"white-space:pre;overflow-x:auto;line-height:normal;font-family:Menlo,'DejaVu Sans Mono',consolas,'Courier New',monospace\"><span style=\"color: #7fbfbf; text-decoration-color: #7fbfbf\">                               </span>View task using web UI at                        \n",
       "<span style=\"color: #7fbfbf; text-decoration-color: #7fbfbf\">                               </span><a href=\"https://tidy3d.simulation.cloud/workbench?taskId=fdve-92d29705-e9f2-485b-9d0a-2d7c06424d42\" target=\"_blank\"><span style=\"color: #008000; text-decoration-color: #008000\">'https://tidy3d.simulation.cloud/workbench?taskId</span></a>\n",
       "<span style=\"color: #7fbfbf; text-decoration-color: #7fbfbf\">                               </span><a href=\"https://tidy3d.simulation.cloud/workbench?taskId=fdve-92d29705-e9f2-485b-9d0a-2d7c06424d42\" target=\"_blank\"><span style=\"color: #008000; text-decoration-color: #008000\">=fdve-92d29705-e9f2-485b-9d0a-2d7c06424d42'</span></a>.     \n",
       "</pre>\n"
      ],
      "text/plain": [
       "\u001b[2;36m                              \u001b[0m\u001b[2;36m \u001b[0mView task using web UI at                        \n",
       "\u001b[2;36m                               \u001b[0m\u001b]8;id=331009;https://tidy3d.simulation.cloud/workbench?taskId=fdve-92d29705-e9f2-485b-9d0a-2d7c06424d42\u001b\\\u001b[32m'https://tidy3d.simulation.cloud/workbench?\u001b[0m\u001b]8;;\u001b\\\u001b]8;id=160586;https://tidy3d.simulation.cloud/workbench?taskId=fdve-92d29705-e9f2-485b-9d0a-2d7c06424d42\u001b\\\u001b[32mtaskId\u001b[0m\u001b]8;;\u001b\\\n",
       "\u001b[2;36m                               \u001b[0m\u001b]8;id=331009;https://tidy3d.simulation.cloud/workbench?taskId=fdve-92d29705-e9f2-485b-9d0a-2d7c06424d42\u001b\\\u001b[32m=\u001b[0m\u001b]8;;\u001b\\\u001b]8;id=435218;https://tidy3d.simulation.cloud/workbench?taskId=fdve-92d29705-e9f2-485b-9d0a-2d7c06424d42\u001b\\\u001b[32mfdve\u001b[0m\u001b]8;;\u001b\\\u001b]8;id=331009;https://tidy3d.simulation.cloud/workbench?taskId=fdve-92d29705-e9f2-485b-9d0a-2d7c06424d42\u001b\\\u001b[32m-92d29705-e9f2-485b-9d0a-2d7c06424d42'\u001b[0m\u001b]8;;\u001b\\.     \n"
      ]
     },
     "metadata": {},
     "output_type": "display_data"
    },
    {
     "data": {
      "application/vnd.jupyter.widget-view+json": {
       "model_id": "c068df566f24488995891b2525b9a655",
       "version_major": 2,
       "version_minor": 0
      },
      "text/plain": [
       "Output()"
      ]
     },
     "metadata": {},
     "output_type": "display_data"
    },
    {
     "data": {
      "text/html": [
       "<pre style=\"white-space:pre;overflow-x:auto;line-height:normal;font-family:Menlo,'DejaVu Sans Mono',consolas,'Courier New',monospace\"></pre>\n"
      ],
      "text/plain": []
     },
     "metadata": {},
     "output_type": "display_data"
    },
    {
     "data": {
      "text/html": [
       "<pre style=\"white-space:pre;overflow-x:auto;line-height:normal;font-family:Menlo,'DejaVu Sans Mono',consolas,'Courier New',monospace\">\n",
       "</pre>\n"
      ],
      "text/plain": [
       "\n"
      ]
     },
     "metadata": {},
     "output_type": "display_data"
    },
    {
     "data": {
      "text/html": [
       "<pre style=\"white-space:pre;overflow-x:auto;line-height:normal;font-family:Menlo,'DejaVu Sans Mono',consolas,'Courier New',monospace\"><span style=\"color: #7fbfbf; text-decoration-color: #7fbfbf\">17:52:27 Eastern Standard Time </span>status = queued                                  \n",
       "</pre>\n"
      ],
      "text/plain": [
       "\u001b[2;36m17:52:27 Eastern Standard Time\u001b[0m\u001b[2;36m \u001b[0mstatus = queued                                  \n"
      ]
     },
     "metadata": {},
     "output_type": "display_data"
    },
    {
     "data": {
      "application/vnd.jupyter.widget-view+json": {
       "model_id": "",
       "version_major": 2,
       "version_minor": 0
      },
      "text/plain": [
       "Output()"
      ]
     },
     "metadata": {},
     "output_type": "display_data"
    },
    {
     "data": {
      "text/html": [
       "<pre style=\"white-space:pre;overflow-x:auto;line-height:normal;font-family:Menlo,'DejaVu Sans Mono',consolas,'Courier New',monospace\"><span style=\"color: #7fbfbf; text-decoration-color: #7fbfbf\">17:52:31 Eastern Standard Time </span>status = preprocess                              \n",
       "</pre>\n"
      ],
      "text/plain": [
       "\u001b[2;36m17:52:31 Eastern Standard Time\u001b[0m\u001b[2;36m \u001b[0mstatus = preprocess                              \n"
      ]
     },
     "metadata": {},
     "output_type": "display_data"
    },
    {
     "data": {
      "text/html": [
       "<pre style=\"white-space:pre;overflow-x:auto;line-height:normal;font-family:Menlo,'DejaVu Sans Mono',consolas,'Courier New',monospace\"></pre>\n"
      ],
      "text/plain": []
     },
     "metadata": {},
     "output_type": "display_data"
    },
    {
     "data": {
      "text/html": [
       "<pre style=\"white-space:pre;overflow-x:auto;line-height:normal;font-family:Menlo,'DejaVu Sans Mono',consolas,'Courier New',monospace\"><span style=\"color: #7fbfbf; text-decoration-color: #7fbfbf\">17:52:35 Eastern Standard Time </span>Maximum FlexCredit cost: <span style=\"color: #008080; text-decoration-color: #008080; font-weight: bold\">0.025</span>. Use              \n",
       "<span style=\"color: #7fbfbf; text-decoration-color: #7fbfbf\">                               </span><span style=\"color: #008000; text-decoration-color: #008000\">'web.real_cost(task_id)'</span> to get the billed       \n",
       "<span style=\"color: #7fbfbf; text-decoration-color: #7fbfbf\">                               </span>FlexCredit cost after a simulation run.          \n",
       "</pre>\n"
      ],
      "text/plain": [
       "\u001b[2;36m17:52:35 Eastern Standard Time\u001b[0m\u001b[2;36m \u001b[0mMaximum FlexCredit cost: \u001b[1;36m0.025\u001b[0m. Use              \n",
       "\u001b[2;36m                               \u001b[0m\u001b[32m'web.real_cost\u001b[0m\u001b[32m(\u001b[0m\u001b[32mtask_id\u001b[0m\u001b[32m)\u001b[0m\u001b[32m'\u001b[0m to get the billed       \n",
       "\u001b[2;36m                               \u001b[0mFlexCredit cost after a simulation run.          \n"
      ]
     },
     "metadata": {},
     "output_type": "display_data"
    },
    {
     "data": {
      "text/html": [
       "<pre style=\"white-space:pre;overflow-x:auto;line-height:normal;font-family:Menlo,'DejaVu Sans Mono',consolas,'Courier New',monospace\"><span style=\"color: #7fbfbf; text-decoration-color: #7fbfbf\">                               </span>starting up solver                               \n",
       "</pre>\n"
      ],
      "text/plain": [
       "\u001b[2;36m                              \u001b[0m\u001b[2;36m \u001b[0mstarting up solver                               \n"
      ]
     },
     "metadata": {},
     "output_type": "display_data"
    },
    {
     "data": {
      "text/html": [
       "<pre style=\"white-space:pre;overflow-x:auto;line-height:normal;font-family:Menlo,'DejaVu Sans Mono',consolas,'Courier New',monospace\"><span style=\"color: #7fbfbf; text-decoration-color: #7fbfbf\">                               </span>running solver                                   \n",
       "</pre>\n"
      ],
      "text/plain": [
       "\u001b[2;36m                              \u001b[0m\u001b[2;36m \u001b[0mrunning solver                                   \n"
      ]
     },
     "metadata": {},
     "output_type": "display_data"
    },
    {
     "data": {
      "text/html": [
       "<pre style=\"white-space:pre;overflow-x:auto;line-height:normal;font-family:Menlo,'DejaVu Sans Mono',consolas,'Courier New',monospace\"><span style=\"color: #7fbfbf; text-decoration-color: #7fbfbf\">                               </span>To cancel the simulation, use                    \n",
       "<span style=\"color: #7fbfbf; text-decoration-color: #7fbfbf\">                               </span><span style=\"color: #008000; text-decoration-color: #008000\">'web.abort(task_id)'</span> or <span style=\"color: #008000; text-decoration-color: #008000\">'web.delete(task_id)'</span> or \n",
       "<span style=\"color: #7fbfbf; text-decoration-color: #7fbfbf\">                               </span>abort/delete the task in the web UI. Terminating \n",
       "<span style=\"color: #7fbfbf; text-decoration-color: #7fbfbf\">                               </span>the Python script will not stop the job running  \n",
       "<span style=\"color: #7fbfbf; text-decoration-color: #7fbfbf\">                               </span>on the cloud.                                    \n",
       "</pre>\n"
      ],
      "text/plain": [
       "\u001b[2;36m                              \u001b[0m\u001b[2;36m \u001b[0mTo cancel the simulation, use                    \n",
       "\u001b[2;36m                               \u001b[0m\u001b[32m'web.abort\u001b[0m\u001b[32m(\u001b[0m\u001b[32mtask_id\u001b[0m\u001b[32m)\u001b[0m\u001b[32m'\u001b[0m or \u001b[32m'web.delete\u001b[0m\u001b[32m(\u001b[0m\u001b[32mtask_id\u001b[0m\u001b[32m)\u001b[0m\u001b[32m'\u001b[0m or \n",
       "\u001b[2;36m                               \u001b[0mabort/delete the task in the web UI. Terminating \n",
       "\u001b[2;36m                               \u001b[0mthe Python script will not stop the job running  \n",
       "\u001b[2;36m                               \u001b[0mon the cloud.                                    \n"
      ]
     },
     "metadata": {},
     "output_type": "display_data"
    },
    {
     "data": {
      "application/vnd.jupyter.widget-view+json": {
       "model_id": "c886aa0bacc4415d8a62c6c7aa6aed8a",
       "version_major": 2,
       "version_minor": 0
      },
      "text/plain": [
       "Output()"
      ]
     },
     "metadata": {},
     "output_type": "display_data"
    },
    {
     "data": {
      "text/html": [
       "<pre style=\"white-space:pre;overflow-x:auto;line-height:normal;font-family:Menlo,'DejaVu Sans Mono',consolas,'Courier New',monospace\"><span style=\"color: #7fbfbf; text-decoration-color: #7fbfbf\">17:52:46 Eastern Standard Time </span>early shutoff detected at <span style=\"color: #008080; text-decoration-color: #008080; font-weight: bold\">64</span>%, exiting.          \n",
       "</pre>\n"
      ],
      "text/plain": [
       "\u001b[2;36m17:52:46 Eastern Standard Time\u001b[0m\u001b[2;36m \u001b[0mearly shutoff detected at \u001b[1;36m64\u001b[0m%, exiting.          \n"
      ]
     },
     "metadata": {},
     "output_type": "display_data"
    },
    {
     "data": {
      "text/html": [
       "<pre style=\"white-space:pre;overflow-x:auto;line-height:normal;font-family:Menlo,'DejaVu Sans Mono',consolas,'Courier New',monospace\"></pre>\n"
      ],
      "text/plain": []
     },
     "metadata": {},
     "output_type": "display_data"
    },
    {
     "data": {
      "text/html": [
       "<pre style=\"white-space:pre;overflow-x:auto;line-height:normal;font-family:Menlo,'DejaVu Sans Mono',consolas,'Courier New',monospace\">\n",
       "</pre>\n"
      ],
      "text/plain": [
       "\n"
      ]
     },
     "metadata": {},
     "output_type": "display_data"
    },
    {
     "data": {
      "text/html": [
       "<pre style=\"white-space:pre;overflow-x:auto;line-height:normal;font-family:Menlo,'DejaVu Sans Mono',consolas,'Courier New',monospace\"><span style=\"color: #7fbfbf; text-decoration-color: #7fbfbf\">                               </span>status = postprocess                             \n",
       "</pre>\n"
      ],
      "text/plain": [
       "\u001b[2;36m                              \u001b[0m\u001b[2;36m \u001b[0mstatus = postprocess                             \n"
      ]
     },
     "metadata": {},
     "output_type": "display_data"
    },
    {
     "data": {
      "application/vnd.jupyter.widget-view+json": {
       "model_id": "",
       "version_major": 2,
       "version_minor": 0
      },
      "text/plain": [
       "Output()"
      ]
     },
     "metadata": {},
     "output_type": "display_data"
    },
    {
     "data": {
      "text/html": [
       "<pre style=\"white-space:pre;overflow-x:auto;line-height:normal;font-family:Menlo,'DejaVu Sans Mono',consolas,'Courier New',monospace\"><span style=\"color: #7fbfbf; text-decoration-color: #7fbfbf\">17:52:49 Eastern Standard Time </span>status = success                                 \n",
       "</pre>\n"
      ],
      "text/plain": [
       "\u001b[2;36m17:52:49 Eastern Standard Time\u001b[0m\u001b[2;36m \u001b[0mstatus = success                                 \n"
      ]
     },
     "metadata": {},
     "output_type": "display_data"
    },
    {
     "data": {
      "text/html": [
       "<pre style=\"white-space:pre;overflow-x:auto;line-height:normal;font-family:Menlo,'DejaVu Sans Mono',consolas,'Courier New',monospace\"></pre>\n"
      ],
      "text/plain": []
     },
     "metadata": {},
     "output_type": "display_data"
    },
    {
     "data": {
      "text/html": [
       "<pre style=\"white-space:pre;overflow-x:auto;line-height:normal;font-family:Menlo,'DejaVu Sans Mono',consolas,'Courier New',monospace\"><span style=\"color: #7fbfbf; text-decoration-color: #7fbfbf\">17:52:50 Eastern Standard Time </span>View simulation result at                        \n",
       "<span style=\"color: #7fbfbf; text-decoration-color: #7fbfbf\">                               </span><a href=\"https://tidy3d.simulation.cloud/workbench?taskId=fdve-92d29705-e9f2-485b-9d0a-2d7c06424d42\" target=\"_blank\"><span style=\"color: #000080; text-decoration-color: #000080; text-decoration: underline\">'https://tidy3d.simulation.cloud/workbench?taskId</span></a>\n",
       "<span style=\"color: #7fbfbf; text-decoration-color: #7fbfbf\">                               </span><a href=\"https://tidy3d.simulation.cloud/workbench?taskId=fdve-92d29705-e9f2-485b-9d0a-2d7c06424d42\" target=\"_blank\"><span style=\"color: #000080; text-decoration-color: #000080; text-decoration: underline\">=fdve-92d29705-e9f2-485b-9d0a-2d7c06424d42'</span></a><span style=\"color: #000080; text-decoration-color: #000080; text-decoration: underline\">.</span>     \n",
       "</pre>\n"
      ],
      "text/plain": [
       "\u001b[2;36m17:52:50 Eastern Standard Time\u001b[0m\u001b[2;36m \u001b[0mView simulation result at                        \n",
       "\u001b[2;36m                               \u001b[0m\u001b]8;id=709662;https://tidy3d.simulation.cloud/workbench?taskId=fdve-92d29705-e9f2-485b-9d0a-2d7c06424d42\u001b\\\u001b[4;34m'https://tidy3d.simulation.cloud/workbench?\u001b[0m\u001b]8;;\u001b\\\u001b]8;id=366168;https://tidy3d.simulation.cloud/workbench?taskId=fdve-92d29705-e9f2-485b-9d0a-2d7c06424d42\u001b\\\u001b[4;34mtaskId\u001b[0m\u001b]8;;\u001b\\\n",
       "\u001b[2;36m                               \u001b[0m\u001b]8;id=709662;https://tidy3d.simulation.cloud/workbench?taskId=fdve-92d29705-e9f2-485b-9d0a-2d7c06424d42\u001b\\\u001b[4;34m=\u001b[0m\u001b]8;;\u001b\\\u001b]8;id=15950;https://tidy3d.simulation.cloud/workbench?taskId=fdve-92d29705-e9f2-485b-9d0a-2d7c06424d42\u001b\\\u001b[4;34mfdve\u001b[0m\u001b]8;;\u001b\\\u001b]8;id=709662;https://tidy3d.simulation.cloud/workbench?taskId=fdve-92d29705-e9f2-485b-9d0a-2d7c06424d42\u001b\\\u001b[4;34m-92d29705-e9f2-485b-9d0a-2d7c06424d42'\u001b[0m\u001b]8;;\u001b\\\u001b[4;34m.\u001b[0m     \n"
      ]
     },
     "metadata": {},
     "output_type": "display_data"
    },
    {
     "data": {
      "application/vnd.jupyter.widget-view+json": {
       "model_id": "d4f917b93d3b40ac89210d5f0bd52fcd",
       "version_major": 2,
       "version_minor": 0
      },
      "text/plain": [
       "Output()"
      ]
     },
     "metadata": {},
     "output_type": "display_data"
    },
    {
     "data": {
      "text/html": [
       "<pre style=\"white-space:pre;overflow-x:auto;line-height:normal;font-family:Menlo,'DejaVu Sans Mono',consolas,'Courier New',monospace\"></pre>\n"
      ],
      "text/plain": []
     },
     "metadata": {},
     "output_type": "display_data"
    },
    {
     "data": {
      "text/html": [
       "<pre style=\"white-space:pre;overflow-x:auto;line-height:normal;font-family:Menlo,'DejaVu Sans Mono',consolas,'Courier New',monospace\">\n",
       "</pre>\n"
      ],
      "text/plain": [
       "\n"
      ]
     },
     "metadata": {},
     "output_type": "display_data"
    },
    {
     "data": {
      "text/html": [
       "<pre style=\"white-space:pre;overflow-x:auto;line-height:normal;font-family:Menlo,'DejaVu Sans Mono',consolas,'Courier New',monospace\"><span style=\"color: #7fbfbf; text-decoration-color: #7fbfbf\">17:52:51 Eastern Standard Time </span>loading simulation from simulation_data.hdf5     \n",
       "</pre>\n"
      ],
      "text/plain": [
       "\u001b[2;36m17:52:51 Eastern Standard Time\u001b[0m\u001b[2;36m \u001b[0mloading simulation from simulation_data.hdf5     \n"
      ]
     },
     "metadata": {},
     "output_type": "display_data"
    }
   ],
   "source": [
    "# add a field monitor to visualize field distribution at z=0\n",
    "field_monitor = td.FieldMonitor(\n",
    "    center=(0, 0, 0), size=(td.inf, td.inf, 0), freqs=[freq0], name=\"field\"\n",
    ")\n",
    "\n",
    "sim_opt = sim_opt.copy(update={\"monitors\": [mode_monitor, field_monitor]})\n",
    "sim_data_opt = web.run(simulation=sim_opt, task_name=\"final_design\")"
   ]
  },
  {
   "cell_type": "markdown",
   "id": "3dd89f13",
   "metadata": {},
   "source": [
    "After the simulation is complete, plot the transmission spectrum, which shows a very low loss."
   ]
  },
  {
   "cell_type": "code",
   "execution_count": 15,
   "id": "f6358a39",
   "metadata": {},
   "outputs": [
    {
     "data": {
      "image/png": "[encoded data removed]",
      "text/plain": [
       "<Figure size 640x480 with 1 Axes>"
      ]
     },
     "metadata": {},
     "output_type": "display_data"
    }
   ],
   "source": [
    "T_opt = 10 * np.log10(compute_transmission(sim_data_opt))\n",
    "plt.plot(ldas * 1e3, T_opt, \"red\", linewidth=2)\n",
    "plt.ylim(-0.5, 0)\n",
    "plt.ylabel(\"Transmission (dB)\")\n",
    "plt.xlabel(\"Wavelength (nm)\")\n",
    "plt.show()"
   ]
  },
  {
   "cell_type": "markdown",
   "id": "46d6767a",
   "metadata": {},
   "source": [
    "Lastly, plot the field intensity distribution to visualize the energy flow. The optimized design allows a smooth mode transition at the two bends such that the loss is minimal. "
   ]
  },
  {
   "cell_type": "code",
   "execution_count": 16,
   "id": "f4d042b4",
   "metadata": {},
   "outputs": [
    {
     "data": {
      "image/png": "[encoded data removed]",
      "text/plain": [
       "<Figure size 640x480 with 2 Axes>"
      ]
     },
     "metadata": {},
     "output_type": "display_data"
    }
   ],
   "source": [
    "sim_data_opt.plot_field(field_monitor_name=\"field\", field_name=\"E\", val=\"abs^2\")\n",
    "plt.show()"
   ]
  },
  {
   "cell_type": "markdown",
   "id": "3f71f1d0",
   "metadata": {},
   "source": [
    "With the optimized design, we can directly export a GDS file of the S-bend for fabrication. "
   ]
  },
  {
   "cell_type": "code",
   "execution_count": 17,
   "id": "63efec65",
   "metadata": {},
   "outputs": [],
   "source": [
    "sim_opt.to_gds_file(fname=\"misc/optimized_sbend.gds\", z=0)"
   ]
  },
  {
   "cell_type": "code",
   "execution_count": null,
   "id": "7f981cf2",
   "metadata": {},
   "outputs": [],
   "source": []
  }
 ],
 "metadata": {
  "description": "This notebook demonstrates how to optimize a waveguide s-bend using the CMA-ES algorithm in Tidy3D FDTD.",
  "feature_image": "./img/optimized_sbend.png",
  "kernelspec": {
   "display_name": "Python 3 (ipykernel)",
   "language": "python",
   "name": "python3"
  },
  "keywords": "CMA-ES, optimization, S-bend, Tidy3D, FDTD",
  "language_info": {
   "codemirror_mode": {
    "name": "ipython",
    "version": 3
   },
   "file_extension": ".py",
   "mimetype": "text/x-python",
   "name": "python",
   "nbconvert_exporter": "python",
   "pygments_lexer": "ipython3",
   "version": "3.10.12"
  },
  "title": "Optimizing a Waveguide S-bend Using CMA-ES | Flexcompute"
 },
 "nbformat": 4,
 "nbformat_minor": 5
}
