{
 "cells": [
  {
   "cell_type": "markdown",
   "id": "32c6f6b4",
   "metadata": {},
   "source": [
    "# Tunable chiral metasurface based on phase change material"
   ]
  },
  {
   "cell_type": "markdown",
   "id": "4e0d0a39",
   "metadata": {},
   "source": [
    "Chiral optical structures, characterized by their absence of mirror symmetry, interact distinctively with left circularly polarized (LCP) and right circularly polarized (RCP) light, resulting in circular dichroism (CD) responses. This phenomenon is crucial in diverse research fields, such as drug synthesis, chiral sensing, and optical communication. However, natural optical materials exhibit very weak CD due to limited chiral light-matter interaction strength. In contrast, optical metasurfaces, as artificially engineered materials, can exhibit electromagnetic properties surpassing those of natural materials. Specifically, optical metasurfaces with chiral structures as unit cells can demonstrate strong chiroptical properties with high CD. \n",
    "\n",
    "In this notebook, we demonstrate a wavelength-tunable infrared chiral metasurface, incorporating the phase-change material GST-225, with a parallelogram-shaped resonator as its unit cell. The metasurface's resonance wavelength is tuned through the phase transition of GST-225. The design is based on `Haotian Tang, Liliana Stan, David A. Czaplewski, Xiaodong Yang, and Jie Gao, \"Wavelength-tunable infrared chiral metasurfaces with phase-change materials,\" Opt. Express 31, 21118-21127 (2023)` [DOI:10.1364/OE.489841](https://doi.org/10.1364/OE.489841).\n",
    "\n",
    "<img src=\"img/tunable_chiral_metasurface.png\" width=\"500\" alt=\"Schematic of the metasurface\">\n",
    "\n",
    "For more metamaterial and metasurface examples, please see the [dielectric metasurface absorber](https://www.flexcompute.com/tidy3d/examples/notebooks/DielectricMetasurfaceAbsorber/), the [graphene metamaterial absorber](https://www.flexcompute.com/tidy3d/examples/notebooks/GrapheneMetamaterial/), the [Fano metasurface](https://www.flexcompute.com/tidy3d/examples/notebooks/HighQGe/), and the [gradient metasurface reflector](https://www.flexcompute.com/tidy3d/examples/notebooks/GradientMetasurfaceReflector/)."
   ]
  },
  {
   "cell_type": "code",
   "execution_count": 1,
   "id": "53369c5c",
   "metadata": {},
   "outputs": [],
   "source": [
    "import numpy as np\n",
    "import matplotlib.pyplot as plt\n",
    "\n",
    "import tidy3d as td\n",
    "import tidy3d.web as web\n",
    "from tidy3d.plugins.dispersion import FastDispersionFitter, AdvancedFastFitterParam"
   ]
  },
  {
   "cell_type": "markdown",
   "id": "2d2b35fb",
   "metadata": {},
   "source": [
    "## Simulation Setup "
   ]
  },
  {
   "cell_type": "markdown",
   "id": "c770707c",
   "metadata": {},
   "source": [
    "In this example, we investigate the wavelength range of 2-3 µm."
   ]
  },
  {
   "cell_type": "code",
   "execution_count": 2,
   "id": "1e07a08b",
   "metadata": {},
   "outputs": [],
   "source": [
    "lda0 = 2.5  # central wavelength\n",
    "freq0 = td.C_0 / lda0  # central frequency\n",
    "ldas = np.linspace(2, 3, 101)  # wavelength range\n",
    "freqs = td.C_0 / ldas  # frequency range\n",
    "fwidth = 0.5 * (np.max(freqs) - np.min(freqs))  # width of the source frequency range"
   ]
  },
  {
   "cell_type": "markdown",
   "id": "be81fdfe",
   "metadata": {},
   "source": [
    "### Define Geometric Parameters\n",
    "\n",
    "The physical meaning of the parameters is schematically shown in Fig. 1(b) of the [paper](https://doi.org/10.1364/OE.489841)."
   ]
  },
  {
   "cell_type": "code",
   "execution_count": 3,
   "id": "3a43a9b2",
   "metadata": {},
   "outputs": [],
   "source": [
    "Px = 1.25  # unit cell period in the x direction\n",
    "Py = 0.4  # unit cell period in the y direction\n",
    "A = 0.24  # width of the Al resonator\n",
    "B = 0.21  # width of the slot\n",
    "alpha = 30 * np.pi / 180  # tilted angle of the slot\n",
    "t_gst = 0.075  # thickness of the GST layer\n",
    "t_al2o3 = 0.025  # thickness of the Al2O3 capping layer\n",
    "t_al = 0.06  # thickness of the Al layer"
   ]
  },
  {
   "cell_type": "markdown",
   "id": "02d340f5",
   "metadata": {},
   "source": [
    "### Define Material Media\n",
    "\n",
    "For aluminum, we directly use the predefined medium from the [material library](../material_library.html). Alumina is defined by a [Sellmeier](../_autosummary/tidy3d.Sellmeier.html) model.  "
   ]
  },
  {
   "cell_type": "code",
   "execution_count": 4,
   "id": "0f84df0b",
   "metadata": {},
   "outputs": [],
   "source": [
    "Al = td.material_library[\"Al\"][\"RakicLorentzDrude1998\"]\n",
    "\n",
    "coeffs = [(1.431, 0.0727**2), (0.651, 0.119**2), (5.341, 18.028**2)]\n",
    "Al2O3 = td.Sellmeier(coeffs=coeffs)"
   ]
  },
  {
   "cell_type": "markdown",
   "id": "076cbb25",
   "metadata": {},
   "source": [
    "The crystalline and amorphous states of GST are defined by using the [FastDispersionFitter](../_autosummary/tidy3d.plugins.dispersion.FastDispersionFitter.html) to fit wavelength-dependent refractive index profiles stored in CSV files."
   ]
  },
  {
   "cell_type": "code",
   "execution_count": 5,
   "id": "e50e4b12",
   "metadata": {},
   "outputs": [
    {
     "data": {
      "application/vnd.jupyter.widget-view+json": {
       "model_id": "6fc5d3407189463eb6298cd0b8a95bfa",
       "version_major": 2,
       "version_minor": 0
      },
      "text/plain": [
       "Output()"
      ]
     },
     "metadata": {},
     "output_type": "display_data"
    },
    {
     "data": {
      "text/html": [
       "<pre style=\"white-space:pre;overflow-x:auto;line-height:normal;font-family:Menlo,'DejaVu Sans Mono',consolas,'Courier New',monospace\"></pre>\n"
      ],
      "text/plain": []
     },
     "metadata": {},
     "output_type": "display_data"
    },
    {
     "data": {
      "text/html": [
       "<pre style=\"white-space:pre;overflow-x:auto;line-height:normal;font-family:Menlo,'DejaVu Sans Mono',consolas,'Courier New',monospace\">\n",
       "</pre>\n"
      ],
      "text/plain": [
       "\n"
      ]
     },
     "metadata": {},
     "output_type": "display_data"
    },
    {
     "data": {
      "text/html": [
       "<pre style=\"white-space:pre;overflow-x:auto;line-height:normal;font-family:Menlo,'DejaVu Sans Mono',consolas,'Courier New',monospace\"><span style=\"color: #7fbfbf; text-decoration-color: #7fbfbf\">[11:00:08] </span><span style=\"color: #800000; text-decoration-color: #800000\">WARNING: Unable to fit with weighted RMS error under </span><span style=\"color: #008000; text-decoration-color: #008000\">'tolerance_rms'</span><span style=\"color: #800000; text-decoration-color: #800000\"> </span>\n",
       "<span style=\"color: #7fbfbf; text-decoration-color: #7fbfbf\">           </span><span style=\"color: #800000; text-decoration-color: #800000\">of </span><span style=\"color: #008080; text-decoration-color: #008080; font-weight: bold\">0.05</span><span style=\"color: #800000; text-decoration-color: #800000\">                                                              </span>\n",
       "</pre>\n"
      ],
      "text/plain": [
       "\u001b[2;36m[11:00:08]\u001b[0m\u001b[2;36m \u001b[0m\u001b[31mWARNING: Unable to fit with weighted RMS error under \u001b[0m\u001b[32m'tolerance_rms'\u001b[0m\u001b[31m \u001b[0m\n",
       "\u001b[2;36m           \u001b[0m\u001b[31mof \u001b[0m\u001b[1;36m0.05\u001b[0m\u001b[31m                                                              \u001b[0m\n"
      ]
     },
     "metadata": {},
     "output_type": "display_data"
    },
    {
     "data": {
      "image/png": "[encoded data removed]",
      "text/plain": [
       "<Figure size 640x480 with 1 Axes>"
      ]
     },
     "metadata": {},
     "output_type": "display_data"
    }
   ],
   "source": [
    "fitter = FastDispersionFitter.from_file(\"misc/GST_A_nk.csv\", skiprows=0, delimiter=\",\")\n",
    "advanced_param = AdvancedFastFitterParam(weights=(1, 1))\n",
    "GST_A, _ = fitter.fit(max_num_poles=4, advanced_param=advanced_param, tolerance_rms=0.05)\n",
    "fitter.plot(GST_A)\n",
    "plt.show()"
   ]
  },
  {
   "cell_type": "code",
   "execution_count": 6,
   "id": "e8ae3954",
   "metadata": {},
   "outputs": [
    {
     "data": {
      "application/vnd.jupyter.widget-view+json": {
       "model_id": "c3a839f2f40b469e9bd1f15f2cd141e3",
       "version_major": 2,
       "version_minor": 0
      },
      "text/plain": [
       "Output()"
      ]
     },
     "metadata": {},
     "output_type": "display_data"
    },
    {
     "data": {
      "text/html": [
       "<pre style=\"white-space:pre;overflow-x:auto;line-height:normal;font-family:Menlo,'DejaVu Sans Mono',consolas,'Courier New',monospace\"></pre>\n"
      ],
      "text/plain": []
     },
     "metadata": {},
     "output_type": "display_data"
    },
    {
     "data": {
      "text/html": [
       "<pre style=\"white-space:pre;overflow-x:auto;line-height:normal;font-family:Menlo,'DejaVu Sans Mono',consolas,'Courier New',monospace\">\n",
       "</pre>\n"
      ],
      "text/plain": [
       "\n"
      ]
     },
     "metadata": {},
     "output_type": "display_data"
    },
    {
     "data": {
      "image/png": "[encoded data removed]",
      "text/plain": [
       "<Figure size 640x480 with 1 Axes>"
      ]
     },
     "metadata": {},
     "output_type": "display_data"
    }
   ],
   "source": [
    "fitter = FastDispersionFitter.from_file(\"misc/GST_C_nk.csv\", skiprows=0, delimiter=\",\")\n",
    "GST_C, _ = fitter.fit(max_num_poles=4, advanced_param=advanced_param, tolerance_rms=0.05)\n",
    "fitter.plot(GST_C)\n",
    "plt.show()"
   ]
  },
  {
   "cell_type": "markdown",
   "id": "a7a1c66c",
   "metadata": {},
   "source": [
    "### Define Structures in the Unit Cell\n",
    "\n",
    "The unit cell includes a 200 nm-thick aluminum mirror layer on a silicon substrate, followed by a 75 nm GST-225 spacer layer. Above this, there is a 25 nm-thick alumina capping layer, and the assembly is topped with a 60 nm-thick aluminum layer, patterned into parallelogram-shaped resonators. The resonators are defined as [PolySlabs](../_autosummary/tidy3d.PolySlab.html) with calculated vertices. Since we need to simulate the metasurface with the GST in two states, we define a `make_gst_layer(state)` function to construct the GST layer given the state."
   ]
  },
  {
   "cell_type": "code",
   "execution_count": 7,
   "id": "219afd33",
   "metadata": {},
   "outputs": [],
   "source": [
    "inf_eff = 1e2  # effective infinity\n",
    "\n",
    "# calculate the vertices of the resonator on the left\n",
    "vertices = [\n",
    "    (-inf_eff, A / 2),\n",
    "    (-inf_eff, -A / 2),\n",
    "    (-(B / np.cos(alpha) + A * np.tan(alpha)) / 2, -A / 2),\n",
    "    (-(B / np.cos(alpha) - A * np.tan(alpha)) / 2, A / 2),\n",
    "]\n",
    "\n",
    "# define the left resonator structure\n",
    "left_resonator = td.Structure(\n",
    "    geometry=td.PolySlab(vertices=vertices, axis=2, slab_bounds=(0, t_al)), medium=Al\n",
    ")\n",
    "\n",
    "# calculate the vertices of the resonator on the right\n",
    "vertices = [\n",
    "    (inf_eff, A / 2),\n",
    "    (inf_eff, -A / 2),\n",
    "    ((B / np.cos(alpha) - A * np.tan(alpha)) / 2, -A / 2),\n",
    "    ((B / np.cos(alpha) + A * np.tan(alpha)) / 2, A / 2),\n",
    "]\n",
    "\n",
    "# define the right resonator structure\n",
    "right_resonator = td.Structure(\n",
    "    geometry=td.PolySlab(vertices=vertices, axis=2, slab_bounds=(0, t_al)), medium=Al\n",
    ")\n",
    "\n",
    "# define the Al2O3 buffer layer\n",
    "buffer_layer = td.Structure(\n",
    "    geometry=td.Box(center=(0, 0, -t_al2o3 / 2), size=(td.inf, td.inf, t_al2o3)), medium=Al2O3\n",
    ")\n",
    "\n",
    "# define a function to construct the GST layer given the state\n",
    "def make_gst_layer(state):\n",
    "    if state == \"amorphous\":\n",
    "        medium = GST_A\n",
    "    elif state == \"crystalline\":\n",
    "        medium = GST_C\n",
    "    else:\n",
    "        raise ValueError(\"state must be `amorphous` or `crystalline`\")\n",
    "\n",
    "    gst_layer = td.Structure(\n",
    "        geometry=td.Box(center=(0, 0, -t_al2o3 - t_gst / 2), size=(td.inf, td.inf, t_gst)),\n",
    "        medium=medium,\n",
    "    )\n",
    "    return gst_layer\n",
    "\n",
    "\n",
    "# define the Al substrate\n",
    "al_substrate = td.Structure(\n",
    "    geometry=td.Box.from_bounds(\n",
    "        rmin=(-inf_eff, -inf_eff, -inf_eff), rmax=(inf_eff, inf_eff, -t_al2o3 - t_gst)\n",
    "    ),\n",
    "    medium=Al,\n",
    ")"
   ]
  },
  {
   "cell_type": "markdown",
   "id": "162c797a",
   "metadata": {},
   "source": [
    "### Define Source and Monitors\n",
    "\n",
    "A circularly polarized plane wave is just two perpendicularly linearly polarized plane waves with a 90 degree phase difference. Here we define a `circular_polarized_plane_wave(pol)` function to construct the circularly polarized plane wave given the polarization, either left or right.\n",
    "\n",
    "Since the metasurface is fabricated on a metal mirror, the transmission will be zero. We only need to define a [FluxMonitor](../_autosummary/tidy3d.FluxMonitor.html) to measure reflection ($R$). Absorption can be calculated simply by $A=1-R$. To further inspect the resonant field patterns, we define two [FieldMonitors](../_autosummary/tidy3d.FieldMonitor.html) in the $xz$ and $xy$ planes. To reduce the result data size, we only record fields at the resonant wavelength when GST is in the amorphous state, which is predetermined to be 2.4 µm."
   ]
  },
  {
   "cell_type": "code",
   "execution_count": 8,
   "id": "89a54dd9",
   "metadata": {},
   "outputs": [
    {
     "data": {
      "text/html": [
       "<pre style=\"white-space:pre;overflow-x:auto;line-height:normal;font-family:Menlo,'DejaVu Sans Mono',consolas,'Courier New',monospace\"><span style=\"color: #7fbfbf; text-decoration-color: #7fbfbf\">[11:00:10] </span><span style=\"color: #800000; text-decoration-color: #800000\">WARNING: Default value for the field monitor </span><span style=\"color: #008000; text-decoration-color: #008000\">'colocate'</span><span style=\"color: #800000; text-decoration-color: #800000\"> setting has  </span>\n",
       "<span style=\"color: #7fbfbf; text-decoration-color: #7fbfbf\">           </span><span style=\"color: #800000; text-decoration-color: #800000\">changed to </span><span style=\"color: #008000; text-decoration-color: #008000\">'True'</span><span style=\"color: #800000; text-decoration-color: #800000\"> in Tidy3D </span><span style=\"color: #008080; text-decoration-color: #008080; font-weight: bold\">2.4</span><span style=\"color: #800000; text-decoration-color: #800000\">.</span><span style=\"color: #008080; text-decoration-color: #008080; font-weight: bold\">0</span><span style=\"color: #800000; text-decoration-color: #800000\">. All field components will be      </span>\n",
       "<span style=\"color: #7fbfbf; text-decoration-color: #7fbfbf\">           </span><span style=\"color: #800000; text-decoration-color: #800000\">colocated to the grid boundaries. Set to </span><span style=\"color: #008000; text-decoration-color: #008000\">'False'</span><span style=\"color: #800000; text-decoration-color: #800000\"> to get the raw      </span>\n",
       "<span style=\"color: #7fbfbf; text-decoration-color: #7fbfbf\">           </span><span style=\"color: #800000; text-decoration-color: #800000\">fields on the Yee grid instead.                                      </span>\n",
       "</pre>\n"
      ],
      "text/plain": [
       "\u001b[2;36m[11:00:10]\u001b[0m\u001b[2;36m \u001b[0m\u001b[31mWARNING: Default value for the field monitor \u001b[0m\u001b[32m'colocate'\u001b[0m\u001b[31m setting has  \u001b[0m\n",
       "\u001b[2;36m           \u001b[0m\u001b[31mchanged to \u001b[0m\u001b[32m'True'\u001b[0m\u001b[31m in Tidy3D \u001b[0m\u001b[1;36m2.4\u001b[0m\u001b[31m.\u001b[0m\u001b[1;36m0\u001b[0m\u001b[31m. All field components will be      \u001b[0m\n",
       "\u001b[2;36m           \u001b[0m\u001b[31mcolocated to the grid boundaries. Set to \u001b[0m\u001b[32m'False'\u001b[0m\u001b[31m to get the raw      \u001b[0m\n",
       "\u001b[2;36m           \u001b[0m\u001b[31mfields on the Yee grid instead.                                      \u001b[0m\n"
      ]
     },
     "metadata": {},
     "output_type": "display_data"
    },
    {
     "data": {
      "text/html": [
       "<pre style=\"white-space:pre;overflow-x:auto;line-height:normal;font-family:Menlo,'DejaVu Sans Mono',consolas,'Courier New',monospace\"><span style=\"color: #7fbfbf; text-decoration-color: #7fbfbf\">           </span><span style=\"color: #800000; text-decoration-color: #800000\">WARNING: Default value for the field monitor </span><span style=\"color: #008000; text-decoration-color: #008000\">'colocate'</span><span style=\"color: #800000; text-decoration-color: #800000\"> setting has  </span>\n",
       "<span style=\"color: #7fbfbf; text-decoration-color: #7fbfbf\">           </span><span style=\"color: #800000; text-decoration-color: #800000\">changed to </span><span style=\"color: #008000; text-decoration-color: #008000\">'True'</span><span style=\"color: #800000; text-decoration-color: #800000\"> in Tidy3D </span><span style=\"color: #008080; text-decoration-color: #008080; font-weight: bold\">2.4</span><span style=\"color: #800000; text-decoration-color: #800000\">.</span><span style=\"color: #008080; text-decoration-color: #008080; font-weight: bold\">0</span><span style=\"color: #800000; text-decoration-color: #800000\">. All field components will be      </span>\n",
       "<span style=\"color: #7fbfbf; text-decoration-color: #7fbfbf\">           </span><span style=\"color: #800000; text-decoration-color: #800000\">colocated to the grid boundaries. Set to </span><span style=\"color: #008000; text-decoration-color: #008000\">'False'</span><span style=\"color: #800000; text-decoration-color: #800000\"> to get the raw      </span>\n",
       "<span style=\"color: #7fbfbf; text-decoration-color: #7fbfbf\">           </span><span style=\"color: #800000; text-decoration-color: #800000\">fields on the Yee grid instead.                                      </span>\n",
       "</pre>\n"
      ],
      "text/plain": [
       "\u001b[2;36m          \u001b[0m\u001b[2;36m \u001b[0m\u001b[31mWARNING: Default value for the field monitor \u001b[0m\u001b[32m'colocate'\u001b[0m\u001b[31m setting has  \u001b[0m\n",
       "\u001b[2;36m           \u001b[0m\u001b[31mchanged to \u001b[0m\u001b[32m'True'\u001b[0m\u001b[31m in Tidy3D \u001b[0m\u001b[1;36m2.4\u001b[0m\u001b[31m.\u001b[0m\u001b[1;36m0\u001b[0m\u001b[31m. All field components will be      \u001b[0m\n",
       "\u001b[2;36m           \u001b[0m\u001b[31mcolocated to the grid boundaries. Set to \u001b[0m\u001b[32m'False'\u001b[0m\u001b[31m to get the raw      \u001b[0m\n",
       "\u001b[2;36m           \u001b[0m\u001b[31mfields on the Yee grid instead.                                      \u001b[0m\n"
      ]
     },
     "metadata": {},
     "output_type": "display_data"
    }
   ],
   "source": [
    "def circular_polarized_plane_wave(pol):\n",
    "    # define a plane wave polarized in the x direction\n",
    "    plane_wave_x = td.PlaneWave(\n",
    "        source_time=td.GaussianPulse(freq0=freq0, fwidth=fwidth),\n",
    "        size=(td.inf, td.inf, 0),\n",
    "        center=(0, 0, 0.3 * lda0),\n",
    "        direction=\"-\",\n",
    "        pol_angle=0,\n",
    "    )\n",
    "    \n",
    "    # determine the phase difference given the polarization\n",
    "    if pol == \"left\":\n",
    "        phase = -np.pi / 2\n",
    "    elif pol == \"right\":\n",
    "        phase = np.pi / 2\n",
    "    else:\n",
    "        raise ValueError(\"pol must be `left` or `right`\")\n",
    "    \n",
    "    # define a plane wave polarized in the y direction with a phase difference\n",
    "    plane_wave_y = td.PlaneWave(\n",
    "        source_time=td.GaussianPulse(freq0=freq0, fwidth=fwidth, phase=phase),\n",
    "        size=(td.inf, td.inf, 0),\n",
    "        center=(0, 0, 0.3 * lda0),\n",
    "        direction=\"-\",\n",
    "        pol_angle=np.pi / 2,\n",
    "    )\n",
    "\n",
    "    return [plane_wave_x, plane_wave_y]\n",
    "\n",
    "\n",
    "# add a flux monitor to detect transmission\n",
    "monitor_r = td.FluxMonitor(\n",
    "    center=[0, 0, 0.5 * lda0], size=[td.inf, td.inf, 0], freqs=freqs, name=\"R\"\n",
    ")\n",
    "\n",
    "freq_res = td.C_0 / 2.4 # resonant frequency\n",
    "\n",
    "# add field monitors to see the field profiles at the absorption peak frequency when GST is in the amorphous state\n",
    "monitor_field_xz = td.FieldMonitor(\n",
    "    center=(0, 0, 0), size=(td.inf, 0, td.inf), freqs=[freq_res], name=\"field_xz\"\n",
    ")\n",
    "\n",
    "monitor_field_xy = td.FieldMonitor(\n",
    "    center=(0, 0, 0), size=(td.inf, td.inf, 0), freqs=[freq_res], name=\"field_xy\"\n",
    ")"
   ]
  },
  {
   "cell_type": "markdown",
   "id": "22eba7fa",
   "metadata": {},
   "source": [
    "### Define Simulation\n",
    "\n",
    "Now we are ready to set up the simulation. In total we need to run four simulations to cover both polarizations and GST states. To make it more convenient, we define a `make_sim(pol, state)` function."
   ]
  },
  {
   "cell_type": "code",
   "execution_count": 9,
   "id": "d4de3eec",
   "metadata": {},
   "outputs": [
    {
     "data": {
      "text/html": [
       "\n",
       "    <iframe id=\"simulation-viewer170205121025924377\" src=https://feature-simulation-viewer.d3a9gfg7glllfq.amplifyapp.com/simulation-viewer?uuid=170205121025924377 width=\"800\" height=\"800\" allowfullscreen=\"true\"></iframe>\n",
       "    <script>\n",
       "        \n",
       "    window.postMessageToViewer170205121025924377 = event => {\n",
       "        if(event.data.type === 'viewer'&&event.data.uuid==='170205121025924377'){\n",
       "            document.getElementById('simulation-viewer170205121025924377').contentWindow.postMessage({ type: 'jupyter', uuid:'170205121025924377', value:{\n",
       "    \"type\": \"Simulation\",\n",
       "    \"center\": [\n",
       "        0.0,\n",
       "        0.0,\n",
       "        -0.020000000000000018\n",
       "    ],\n",
       "    \"size\": [\n",
       "        1.25,\n",
       "        0.4,\n",
       "        2.66\n",
       "    ],\n",
       "    \"run_time\": 3e-13,\n",
       "    \"medium\": {\n",
       "        \"name\": null,\n",
       "        \"frequency_range\": null,\n",
       "        \"allow_gain\": false,\n",
       "        \"nonlinear_spec\": null,\n",
       "        \"type\": \"Medium\",\n",
       "        \"permittivity\": 1.0,\n",
       "        \"conductivity\": 0.0\n",
       "    },\n",
       "    \"symmetry\": [\n",
       "        0,\n",
       "        0,\n",
       "        0\n",
       "    ],\n",
       "    \"structures\": [\n",
       "        {\n",
       "            \"geometry\": {\n",
       "                \"type\": \"PolySlab\",\n",
       "                \"axis\": 2,\n",
       "                \"sidewall_angle\": 0.0,\n",
       "                \"reference_plane\": \"middle\",\n",
       "                \"slab_bounds\": [\n",
       "                    0.0,\n",
       "                    0.06\n",
       "                ],\n",
       "                \"dilation\": 0.0,\n",
       "                \"vertices\": [\n",
       "                    [\n",
       "                        -100.0,\n",
       "                        0.12\n",
       "                    ],\n",
       "                    [\n",
       "                        -100.0,\n",
       "                        -0.12\n",
       "                    ],\n",
       "                    [\n",
       "                        -0.19052558883257648,\n",
       "                        -0.12\n",
       "                    ],\n",
       "                    [\n",
       "                        -0.05196152422706632,\n",
       "                        0.12\n",
       "                    ]\n",
       "                ]\n",
       "            },\n",
       "            \"name\": null,\n",
       "            \"type\": \"Structure\",\n",
       "            \"medium\": {\n",
       "                \"name\": null,\n",
       "                \"frequency_range\": [\n",
       "                    1208986804855.426,\n",
       "                    4835986224028907.0\n",
       "                ],\n",
       "                \"allow_gain\": false,\n",
       "                \"nonlinear_spec\": null,\n",
       "                \"type\": \"PoleResidue\",\n",
       "                \"eps_inf\": 1.0,\n",
       "                \"poles\": [\n",
       "                    [\n",
       "                        {\n",
       "                            \"real\": 0.0,\n",
       "                            \"imag\": 0.0\n",
       "                        },\n",
       "                        {\n",
       "                            \"real\": 1.896844347324609e+18,\n",
       "                            \"imag\": 0.0\n",
       "                        }\n",
       "                    ],\n",
       "                    [\n",
       "                        {\n",
       "                            \"real\": -71405570055817.98,\n",
       "                            \"imag\": 0.0\n",
       "                        },\n",
       "                        {\n",
       "                            \"real\": -1.896844347324609e+18,\n",
       "                            \"imag\": 0.0\n",
       "                        }\n",
       "                    ],\n",
       "                    [\n",
       "                        {\n",
       "                            \"real\": -194545209645174.6,\n",
       "                            \"imag\": 0.0\n",
       "                        },\n",
       "                        {\n",
       "                            \"real\": 5.0321060071503546e+17,\n",
       "                            \"imag\": 0.0\n",
       "                        }\n",
       "                    ],\n",
       "                    [\n",
       "                        {\n",
       "                            \"real\": -311370850537535.75,\n",
       "                            \"imag\": 0.0\n",
       "                        },\n",
       "                        {\n",
       "                            \"real\": -5.0321060071503546e+17,\n",
       "                            \"imag\": 0.0\n",
       "                        }\n",
       "                    ],\n",
       "                    [\n",
       "                        {\n",
       "                            \"real\": -237005721887395.88,\n",
       "                            \"imag\": -2333745139453868.0\n",
       "                        },\n",
       "                        {\n",
       "                            \"real\": 0.0,\n",
       "                            \"imag\": 5548539400655871.0\n",
       "                        }\n",
       "                    ],\n",
       "                    [\n",
       "                        {\n",
       "                            \"real\": -1026265161121383.9,\n",
       "                            \"imag\": -2547917843202808.5\n",
       "                        },\n",
       "                        {\n",
       "                            \"real\": 0.0,\n",
       "                            \"imag\": 1.6872706975652862e+16\n",
       "                        }\n",
       "                    ],\n",
       "                    [\n",
       "                        {\n",
       "                            \"real\": -2569081254561451.5,\n",
       "                            \"imag\": -4608729293067524.0\n",
       "                        },\n",
       "                        {\n",
       "                            \"real\": 0.0,\n",
       "                            \"imag\": 1685784870483934.2\n",
       "                        }\n",
       "                    ]\n",
       "                ]\n",
       "            }\n",
       "        },\n",
       "        {\n",
       "            \"geometry\": {\n",
       "                \"type\": \"PolySlab\",\n",
       "                \"axis\": 2,\n",
       "                \"sidewall_angle\": 0.0,\n",
       "                \"reference_plane\": \"middle\",\n",
       "                \"slab_bounds\": [\n",
       "                    0.0,\n",
       "                    0.06\n",
       "                ],\n",
       "                \"dilation\": 0.0,\n",
       "                \"vertices\": [\n",
       "                    [\n",
       "                        100.0,\n",
       "                        0.12\n",
       "                    ],\n",
       "                    [\n",
       "                        100.0,\n",
       "                        -0.12\n",
       "                    ],\n",
       "                    [\n",
       "                        0.05196152422706632,\n",
       "                        -0.12\n",
       "                    ],\n",
       "                    [\n",
       "                        0.19052558883257648,\n",
       "                        0.12\n",
       "                    ]\n",
       "                ]\n",
       "            },\n",
       "            \"name\": null,\n",
       "            \"type\": \"Structure\",\n",
       "            \"medium\": {\n",
       "                \"name\": null,\n",
       "                \"frequency_range\": [\n",
       "                    1208986804855.426,\n",
       "                    4835986224028907.0\n",
       "                ],\n",
       "                \"allow_gain\": false,\n",
       "                \"nonlinear_spec\": null,\n",
       "                \"type\": \"PoleResidue\",\n",
       "                \"eps_inf\": 1.0,\n",
       "                \"poles\": [\n",
       "                    [\n",
       "                        {\n",
       "                            \"real\": 0.0,\n",
       "                            \"imag\": 0.0\n",
       "                        },\n",
       "                        {\n",
       "                            \"real\": 1.896844347324609e+18,\n",
       "                            \"imag\": 0.0\n",
       "                        }\n",
       "                    ],\n",
       "                    [\n",
       "                        {\n",
       "                            \"real\": -71405570055817.98,\n",
       "                            \"imag\": 0.0\n",
       "                        },\n",
       "                        {\n",
       "                            \"real\": -1.896844347324609e+18,\n",
       "                            \"imag\": 0.0\n",
       "                        }\n",
       "                    ],\n",
       "                    [\n",
       "                        {\n",
       "                            \"real\": -194545209645174.6,\n",
       "                            \"imag\": 0.0\n",
       "                        },\n",
       "                        {\n",
       "                            \"real\": 5.0321060071503546e+17,\n",
       "                            \"imag\": 0.0\n",
       "                        }\n",
       "                    ],\n",
       "                    [\n",
       "                        {\n",
       "                            \"real\": -311370850537535.75,\n",
       "                            \"imag\": 0.0\n",
       "                        },\n",
       "                        {\n",
       "                            \"real\": -5.0321060071503546e+17,\n",
       "                            \"imag\": 0.0\n",
       "                        }\n",
       "                    ],\n",
       "                    [\n",
       "                        {\n",
       "                            \"real\": -237005721887395.88,\n",
       "                            \"imag\": -2333745139453868.0\n",
       "                        },\n",
       "                        {\n",
       "                            \"real\": 0.0,\n",
       "                            \"imag\": 5548539400655871.0\n",
       "                        }\n",
       "                    ],\n",
       "                    [\n",
       "                        {\n",
       "                            \"real\": -1026265161121383.9,\n",
       "                            \"imag\": -2547917843202808.5\n",
       "                        },\n",
       "                        {\n",
       "                            \"real\": 0.0,\n",
       "                            \"imag\": 1.6872706975652862e+16\n",
       "                        }\n",
       "                    ],\n",
       "                    [\n",
       "                        {\n",
       "                            \"real\": -2569081254561451.5,\n",
       "                            \"imag\": -4608729293067524.0\n",
       "                        },\n",
       "                        {\n",
       "                            \"real\": 0.0,\n",
       "                            \"imag\": 1685784870483934.2\n",
       "                        }\n",
       "                    ]\n",
       "                ]\n",
       "            }\n",
       "        },\n",
       "        {\n",
       "            \"geometry\": {\n",
       "                \"type\": \"Box\",\n",
       "                \"center\": [\n",
       "                    0.0,\n",
       "                    0.0,\n",
       "                    -0.0125\n",
       "                ],\n",
       "                \"size\": [\n",
       "                    \"Infinity\",\n",
       "                    \"Infinity\",\n",
       "                    0.025\n",
       "                ]\n",
       "            },\n",
       "            \"name\": null,\n",
       "            \"type\": \"Structure\",\n",
       "            \"medium\": {\n",
       "                \"name\": null,\n",
       "                \"frequency_range\": null,\n",
       "                \"allow_gain\": false,\n",
       "                \"nonlinear_spec\": null,\n",
       "                \"type\": \"Sellmeier\",\n",
       "                \"coeffs\": [\n",
       "                    [\n",
       "                        1.431,\n",
       "                        0.00528529\n",
       "                    ],\n",
       "                    [\n",
       "                        0.651,\n",
       "                        0.014160999999999998\n",
       "                    ],\n",
       "                    [\n",
       "                        5.341,\n",
       "                        325.00878399999993\n",
       "                    ]\n",
       "                ]\n",
       "            }\n",
       "        },\n",
       "        {\n",
       "            \"geometry\": {\n",
       "                \"type\": \"Box\",\n",
       "                \"center\": [\n",
       "                    0.0,\n",
       "                    0.0,\n",
       "                    -0.0625\n",
       "                ],\n",
       "                \"size\": [\n",
       "                    \"Infinity\",\n",
       "                    \"Infinity\",\n",
       "                    0.075\n",
       "                ]\n",
       "            },\n",
       "            \"name\": null,\n",
       "            \"type\": \"Structure\",\n",
       "            \"medium\": {\n",
       "                \"name\": null,\n",
       "                \"frequency_range\": null,\n",
       "                \"allow_gain\": false,\n",
       "                \"nonlinear_spec\": null,\n",
       "                \"type\": \"PoleResidue\",\n",
       "                \"eps_inf\": 1.0,\n",
       "                \"poles\": [\n",
       "                    [\n",
       "                        {\n",
       "                            \"real\": -241517035804075.06,\n",
       "                            \"imag\": -2119127076058500.5\n",
       "                        },\n",
       "                        {\n",
       "                            \"real\": 3353421957284537.0,\n",
       "                            \"imag\": 1.4520779923859642e+16\n",
       "                        }\n",
       "                    ]\n",
       "                ]\n",
       "            }\n",
       "        },\n",
       "        {\n",
       "            \"geometry\": {\n",
       "                \"type\": \"Box\",\n",
       "                \"center\": [\n",
       "                    0.0,\n",
       "                    0.0,\n",
       "                    -50.05\n",
       "                ],\n",
       "                \"size\": [\n",
       "                    200.0,\n",
       "                    200.0,\n",
       "                    99.9\n",
       "                ]\n",
       "            },\n",
       "            \"name\": null,\n",
       "            \"type\": \"Structure\",\n",
       "            \"medium\": {\n",
       "                \"name\": null,\n",
       "                \"frequency_range\": [\n",
       "                    1208986804855.426,\n",
       "                    4835986224028907.0\n",
       "                ],\n",
       "                \"allow_gain\": false,\n",
       "                \"nonlinear_spec\": null,\n",
       "                \"type\": \"PoleResidue\",\n",
       "                \"eps_inf\": 1.0,\n",
       "                \"poles\": [\n",
       "                    [\n",
       "                        {\n",
       "                            \"real\": 0.0,\n",
       "                            \"imag\": 0.0\n",
       "                        },\n",
       "                        {\n",
       "                            \"real\": 1.896844347324609e+18,\n",
       "                            \"imag\": 0.0\n",
       "                        }\n",
       "                    ],\n",
       "                    [\n",
       "                        {\n",
       "                            \"real\": -71405570055817.98,\n",
       "                            \"imag\": 0.0\n",
       "                        },\n",
       "                        {\n",
       "                            \"real\": -1.896844347324609e+18,\n",
       "                            \"imag\": 0.0\n",
       "                        }\n",
       "                    ],\n",
       "                    [\n",
       "                        {\n",
       "                            \"real\": -194545209645174.6,\n",
       "                            \"imag\": 0.0\n",
       "                        },\n",
       "                        {\n",
       "                            \"real\": 5.0321060071503546e+17,\n",
       "                            \"imag\": 0.0\n",
       "                        }\n",
       "                    ],\n",
       "                    [\n",
       "                        {\n",
       "                            \"real\": -311370850537535.75,\n",
       "                            \"imag\": 0.0\n",
       "                        },\n",
       "                        {\n",
       "                            \"real\": -5.0321060071503546e+17,\n",
       "                            \"imag\": 0.0\n",
       "                        }\n",
       "                    ],\n",
       "                    [\n",
       "                        {\n",
       "                            \"real\": -237005721887395.88,\n",
       "                            \"imag\": -2333745139453868.0\n",
       "                        },\n",
       "                        {\n",
       "                            \"real\": 0.0,\n",
       "                            \"imag\": 5548539400655871.0\n",
       "                        }\n",
       "                    ],\n",
       "                    [\n",
       "                        {\n",
       "                            \"real\": -1026265161121383.9,\n",
       "                            \"imag\": -2547917843202808.5\n",
       "                        },\n",
       "                        {\n",
       "                            \"real\": 0.0,\n",
       "                            \"imag\": 1.6872706975652862e+16\n",
       "                        }\n",
       "                    ],\n",
       "                    [\n",
       "                        {\n",
       "                            \"real\": -2569081254561451.5,\n",
       "                            \"imag\": -4608729293067524.0\n",
       "                        },\n",
       "                        {\n",
       "                            \"real\": 0.0,\n",
       "                            \"imag\": 1685784870483934.2\n",
       "                        }\n",
       "                    ]\n",
       "                ]\n",
       "            }\n",
       "        }\n",
       "    ],\n",
       "    \"sources\": [\n",
       "        {\n",
       "            \"type\": \"PlaneWave\",\n",
       "            \"center\": [\n",
       "                0.0,\n",
       "                0.0,\n",
       "                0.75\n",
       "            ],\n",
       "            \"size\": [\n",
       "                \"Infinity\",\n",
       "                \"Infinity\",\n",
       "                0.0\n",
       "            ],\n",
       "            \"source_time\": {\n",
       "                \"amplitude\": 1.0,\n",
       "                \"phase\": 0.0,\n",
       "                \"type\": \"GaussianPulse\",\n",
       "                \"freq0\": 119916983200000.0,\n",
       "                \"fwidth\": 24982704833333.336,\n",
       "                \"offset\": 5.0,\n",
       "                \"remove_dc_component\": true\n",
       "            },\n",
       "            \"name\": null,\n",
       "            \"direction\": \"-\",\n",
       "            \"angle_theta\": 0.0,\n",
       "            \"angle_phi\": 0.0,\n",
       "            \"pol_angle\": 0.0\n",
       "        },\n",
       "        {\n",
       "            \"type\": \"PlaneWave\",\n",
       "            \"center\": [\n",
       "                0.0,\n",
       "                0.0,\n",
       "                0.75\n",
       "            ],\n",
       "            \"size\": [\n",
       "                \"Infinity\",\n",
       "                \"Infinity\",\n",
       "                0.0\n",
       "            ],\n",
       "            \"source_time\": {\n",
       "                \"amplitude\": 1.0,\n",
       "                \"phase\": -1.5707963267948966,\n",
       "                \"type\": \"GaussianPulse\",\n",
       "                \"freq0\": 119916983200000.0,\n",
       "                \"fwidth\": 24982704833333.336,\n",
       "                \"offset\": 5.0,\n",
       "                \"remove_dc_component\": true\n",
       "            },\n",
       "            \"name\": null,\n",
       "            \"direction\": \"-\",\n",
       "            \"angle_theta\": 0.0,\n",
       "            \"angle_phi\": 0.0,\n",
       "            \"pol_angle\": 1.5707963267948966\n",
       "        }\n",
       "    ],\n",
       "    \"boundary_spec\": {\n",
       "        \"x\": {\n",
       "            \"plus\": {\n",
       "                \"name\": null,\n",
       "                \"type\": \"Periodic\"\n",
       "            },\n",
       "            \"minus\": {\n",
       "                \"name\": null,\n",
       "                \"type\": \"Periodic\"\n",
       "            },\n",
       "            \"type\": \"Boundary\"\n",
       "        },\n",
       "        \"y\": {\n",
       "            \"plus\": {\n",
       "                \"name\": null,\n",
       "                \"type\": \"Periodic\"\n",
       "            },\n",
       "            \"minus\": {\n",
       "                \"name\": null,\n",
       "                \"type\": \"Periodic\"\n",
       "            },\n",
       "            \"type\": \"Boundary\"\n",
       "        },\n",
       "        \"z\": {\n",
       "            \"plus\": {\n",
       "                \"name\": null,\n",
       "                \"type\": \"PML\",\n",
       "                \"num_layers\": 12,\n",
       "                \"parameters\": {\n",
       "                    \"sigma_order\": 3,\n",
       "                    \"sigma_min\": 0.0,\n",
       "                    \"sigma_max\": 1.5,\n",
       "                    \"type\": \"PMLParams\",\n",
       "                    \"kappa_order\": 3,\n",
       "                    \"kappa_min\": 1.0,\n",
       "                    \"kappa_max\": 3.0,\n",
       "                    \"alpha_order\": 1,\n",
       "                    \"alpha_min\": 0.0,\n",
       "                    \"alpha_max\": 0.0\n",
       "                }\n",
       "            },\n",
       "            \"minus\": {\n",
       "                \"name\": null,\n",
       "                \"type\": \"PML\",\n",
       "                \"num_layers\": 12,\n",
       "                \"parameters\": {\n",
       "                    \"sigma_order\": 3,\n",
       "                    \"sigma_min\": 0.0,\n",
       "                    \"sigma_max\": 1.5,\n",
       "                    \"type\": \"PMLParams\",\n",
       "                    \"kappa_order\": 3,\n",
       "                    \"kappa_min\": 1.0,\n",
       "                    \"kappa_max\": 3.0,\n",
       "                    \"alpha_order\": 1,\n",
       "                    \"alpha_min\": 0.0,\n",
       "                    \"alpha_max\": 0.0\n",
       "                }\n",
       "            },\n",
       "            \"type\": \"Boundary\"\n",
       "        },\n",
       "        \"type\": \"BoundarySpec\"\n",
       "    },\n",
       "    \"monitors\": [\n",
       "        {\n",
       "            \"type\": \"FluxMonitor\",\n",
       "            \"center\": [\n",
       "                0.0,\n",
       "                0.0,\n",
       "                1.25\n",
       "            ],\n",
       "            \"size\": [\n",
       "                \"Infinity\",\n",
       "                \"Infinity\",\n",
       "                0.0\n",
       "            ],\n",
       "            \"name\": \"R\",\n",
       "            \"interval_space\": [\n",
       "                1,\n",
       "                1,\n",
       "                1\n",
       "            ],\n",
       "            \"colocate\": true,\n",
       "            \"freqs\": [\n",
       "                149896229000000.0,\n",
       "                149150476616915.44,\n",
       "                148412107920792.06,\n",
       "                147681013793103.47,\n",
       "                146957087254901.97,\n",
       "                146240223414634.16,\n",
       "                145530319417475.72,\n",
       "                144827274396135.28,\n",
       "                144130989423076.9,\n",
       "                143441367464114.84,\n",
       "                142758313333333.3,\n",
       "                142081733649289.1,\n",
       "                141411536792452.8,\n",
       "                140747632863849.78,\n",
       "                140089933644859.81,\n",
       "                139438352558139.55,\n",
       "                138792804629629.62,\n",
       "                138153206451612.9,\n",
       "                137519476146788.98,\n",
       "                136891533333333.34,\n",
       "                136269299090909.08,\n",
       "                135652695927601.81,\n",
       "                135041647747747.73,\n",
       "                134436079820627.8,\n",
       "                133835918749999.98,\n",
       "                133241092444444.44,\n",
       "                132651530088495.6,\n",
       "                132067162114537.44,\n",
       "                131487920175438.58,\n",
       "                130913737117903.92,\n",
       "                130344546956521.75,\n",
       "                129780284848484.84,\n",
       "                129220887068965.53,\n",
       "                128666290987124.45,\n",
       "                128116435042735.05,\n",
       "                127571258723404.25,\n",
       "                127030702542372.89,\n",
       "                126494708016877.62,\n",
       "                125963217647058.83,\n",
       "                125436174895397.48,\n",
       "                124913524166666.67,\n",
       "                124395210788381.73,\n",
       "                123881180991735.55,\n",
       "                123371381893004.11,\n",
       "                122865761475409.84,\n",
       "                122364268571428.56,\n",
       "                121866852845528.45,\n",
       "                121373464777327.92,\n",
       "                120884055645161.3,\n",
       "                120398577510040.16,\n",
       "                119916983200000.0,\n",
       "                119439226294820.73,\n",
       "                118965261111111.11,\n",
       "                118495042687747.03,\n",
       "                118028526771653.55,\n",
       "                117565669803921.58,\n",
       "                117106428906250.0,\n",
       "                116650761867704.27,\n",
       "                116198627131782.94,\n",
       "                115749983783783.8,\n",
       "                115304791538461.53,\n",
       "                114863010727969.36,\n",
       "                114424602290076.33,\n",
       "                113989527756654.0,\n",
       "                113557749242424.23,\n",
       "                113129229433962.27,\n",
       "                112703931578947.36,\n",
       "                112281819475655.44,\n",
       "                111862857462686.56,\n",
       "                111447010408921.94,\n",
       "                111034243703703.7,\n",
       "                110624523247232.47,\n",
       "                110217815441176.48,\n",
       "                109814087179487.19,\n",
       "                109413305839416.05,\n",
       "                109015439272727.27,\n",
       "                108620455797101.45,\n",
       "                108228324187725.62,\n",
       "                107839013669064.73,\n",
       "                107452493906810.03,\n",
       "                107068735000000.0,\n",
       "                106687707473309.61,\n",
       "                106309382269503.53,\n",
       "                105933730742049.47,\n",
       "                105560724647887.33,\n",
       "                105190336140350.88,\n",
       "                104822537762237.77,\n",
       "                104457302439024.39,\n",
       "                104094603472222.22,\n",
       "                103734414532871.97,\n",
       "                103376709655172.42,\n",
       "                103021463230240.55,\n",
       "                102668650000000.0,\n",
       "                102318245051194.53,\n",
       "                101970223809523.81,\n",
       "                101624562033898.3,\n",
       "                101281235810810.81,\n",
       "                100940221548821.56,\n",
       "                100601495973154.36,\n",
       "                100265036120401.33,\n",
       "                99930819333333.33\n",
       "            ],\n",
       "            \"apodization\": {\n",
       "                \"start\": null,\n",
       "                \"end\": null,\n",
       "                \"width\": null,\n",
       "                \"type\": \"ApodizationSpec\"\n",
       "            },\n",
       "            \"normal_dir\": \"+\",\n",
       "            \"exclude_surfaces\": null\n",
       "        },\n",
       "        {\n",
       "            \"type\": \"FieldMonitor\",\n",
       "            \"center\": [\n",
       "                0.0,\n",
       "                0.0,\n",
       "                0.0\n",
       "            ],\n",
       "            \"size\": [\n",
       "                \"Infinity\",\n",
       "                0.0,\n",
       "                \"Infinity\"\n",
       "            ],\n",
       "            \"name\": \"field_xz\",\n",
       "            \"interval_space\": [\n",
       "                1,\n",
       "                1,\n",
       "                1\n",
       "            ],\n",
       "            \"colocate\": true,\n",
       "            \"freqs\": [\n",
       "                124913524166666.67\n",
       "            ],\n",
       "            \"apodization\": {\n",
       "                \"start\": null,\n",
       "                \"end\": null,\n",
       "                \"width\": null,\n",
       "                \"type\": \"ApodizationSpec\"\n",
       "            },\n",
       "            \"fields\": [\n",
       "                \"Ex\",\n",
       "                \"Ey\",\n",
       "                \"Ez\",\n",
       "                \"Hx\",\n",
       "                \"Hy\",\n",
       "                \"Hz\"\n",
       "            ]\n",
       "        },\n",
       "        {\n",
       "            \"type\": \"FieldMonitor\",\n",
       "            \"center\": [\n",
       "                0.0,\n",
       "                0.0,\n",
       "                0.0\n",
       "            ],\n",
       "            \"size\": [\n",
       "                \"Infinity\",\n",
       "                \"Infinity\",\n",
       "                0.0\n",
       "            ],\n",
       "            \"name\": \"field_xy\",\n",
       "            \"interval_space\": [\n",
       "                1,\n",
       "                1,\n",
       "                1\n",
       "            ],\n",
       "            \"colocate\": true,\n",
       "            \"freqs\": [\n",
       "                124913524166666.67\n",
       "            ],\n",
       "            \"apodization\": {\n",
       "                \"start\": null,\n",
       "                \"end\": null,\n",
       "                \"width\": null,\n",
       "                \"type\": \"ApodizationSpec\"\n",
       "            },\n",
       "            \"fields\": [\n",
       "                \"Ex\",\n",
       "                \"Ey\",\n",
       "                \"Ez\",\n",
       "                \"Hx\",\n",
       "                \"Hy\",\n",
       "                \"Hz\"\n",
       "            ]\n",
       "        }\n",
       "    ],\n",
       "    \"grid_spec\": {\n",
       "        \"grid_x\": {\n",
       "            \"type\": \"AutoGrid\",\n",
       "            \"min_steps_per_wvl\": 20.0,\n",
       "            \"max_scale\": 1.4,\n",
       "            \"dl_min\": 0.0,\n",
       "            \"mesher\": {\n",
       "                \"type\": \"GradedMesher\"\n",
       "            }\n",
       "        },\n",
       "        \"grid_y\": {\n",
       "            \"type\": \"AutoGrid\",\n",
       "            \"min_steps_per_wvl\": 20.0,\n",
       "            \"max_scale\": 1.4,\n",
       "            \"dl_min\": 0.0,\n",
       "            \"mesher\": {\n",
       "                \"type\": \"GradedMesher\"\n",
       "            }\n",
       "        },\n",
       "        \"grid_z\": {\n",
       "            \"type\": \"AutoGrid\",\n",
       "            \"min_steps_per_wvl\": 20.0,\n",
       "            \"max_scale\": 1.4,\n",
       "            \"dl_min\": 0.0,\n",
       "            \"mesher\": {\n",
       "                \"type\": \"GradedMesher\"\n",
       "            }\n",
       "        },\n",
       "        \"wavelength\": 2.5,\n",
       "        \"override_structures\": [],\n",
       "        \"type\": \"GridSpec\"\n",
       "    },\n",
       "    \"shutoff\": 1e-05,\n",
       "    \"subpixel\": true,\n",
       "    \"normalize_index\": 0,\n",
       "    \"courant\": 0.99,\n",
       "    \"version\": \"2.4.3\"\n",
       "}}, '*')\n",
       "        }\n",
       "    };\n",
       "    window.addEventListener(\n",
       "        'message',\n",
       "        window.postMessageToViewer170205121025924377,\n",
       "        false\n",
       "    );\n",
       "    \n",
       "    </script>\n",
       "    "
      ],
      "text/plain": [
       "<IPython.core.display.HTML object>"
      ]
     },
     "metadata": {},
     "output_type": "display_data"
    }
   ],
   "source": [
    "run_time = 3e-13  # simulation run time\n",
    "\n",
    "# simulation domain box\n",
    "sim_box = td.Box.from_bounds(\n",
    "    rmin=(-Px / 2, -Py / 2, -t_al2o3 - t_gst - lda0 / 2), rmax=(Px / 2, Py / 2, t_al + lda0 / 2)\n",
    ")\n",
    "\n",
    "# define a function to construct a simulation given the polarization and GST state\n",
    "def make_sim(pol, state):\n",
    "    sim = td.Simulation(\n",
    "        center=sim_box.center,\n",
    "        size=sim_box.size,\n",
    "        grid_spec=td.GridSpec.auto(min_steps_per_wvl=20, wavelength=lda0),\n",
    "        structures=[\n",
    "            left_resonator,\n",
    "            right_resonator,\n",
    "            buffer_layer,\n",
    "            make_gst_layer(state),\n",
    "            al_substrate,\n",
    "        ],\n",
    "        sources=circular_polarized_plane_wave(pol),\n",
    "        monitors=[monitor_r, monitor_field_xz, monitor_field_xy],\n",
    "        run_time=run_time,\n",
    "        boundary_spec=td.BoundarySpec(\n",
    "            x=td.Boundary.periodic(), y=td.Boundary.periodic(), z=td.Boundary.pml()\n",
    "        ),\n",
    "    )\n",
    "    return sim\n",
    "\n",
    "\n",
    "# make one simulation and plot it to inspect\n",
    "sim_left_A = make_sim(\"left\", \"amorphous\")\n",
    "sim_left_A.plot_3d()"
   ]
  },
  {
   "cell_type": "markdown",
   "id": "2474780d",
   "metadata": {},
   "source": [
    "In addition, we can inspect the grid to ensure it is sufficiently fine."
   ]
  },
  {
   "cell_type": "code",
   "execution_count": 10,
   "id": "ca12725b",
   "metadata": {},
   "outputs": [
    {
     "data": {
      "image/png": "[encoded data removed]",
      "text/plain": [
       "<Figure size 640x480 with 1 Axes>"
      ]
     },
     "metadata": {},
     "output_type": "display_data"
    }
   ],
   "source": [
    "ax = sim_left_A.plot(y=0)\n",
    "sim_left_A.plot_grid(y=0, ax=ax)\n",
    "ax.set_ylim(-0.1, 0.1)\n",
    "ax.set_ylim(-0.2, 0.2)\n",
    "ax.set_aspect(\"auto\")"
   ]
  },
  {
   "cell_type": "markdown",
   "id": "ae0bd98d",
   "metadata": {},
   "source": [
    "### Run Simulation Batch\n",
    "\n",
    "To make the simulations more efficient, we define a [Batch](../_autosummary/tidy3d.web.Batch.html) and submit it to run all four simulations in parallel. "
   ]
  },
  {
   "cell_type": "code",
   "execution_count": 11,
   "id": "7843ff78",
   "metadata": {},
   "outputs": [
    {
     "data": {
      "text/html": [
       "<pre style=\"white-space:pre;overflow-x:auto;line-height:normal;font-family:Menlo,'DejaVu Sans Mono',consolas,'Courier New',monospace\"><span style=\"color: #7fbfbf; text-decoration-color: #7fbfbf\">[11:00:11] </span>Created task <span style=\"color: #008000; text-decoration-color: #008000\">'LCP_A'</span> with task_id                                    \n",
       "<span style=\"color: #7fbfbf; text-decoration-color: #7fbfbf\">           </span><span style=\"color: #008000; text-decoration-color: #008000\">'fdve-e17dcdf5-1304-490c-9588-3b73ad22e767'</span>.                         \n",
       "</pre>\n"
      ],
      "text/plain": [
       "\u001b[2;36m[11:00:11]\u001b[0m\u001b[2;36m \u001b[0mCreated task \u001b[32m'LCP_A'\u001b[0m with task_id                                    \n",
       "\u001b[2;36m           \u001b[0m\u001b[32m'fdve-e17dcdf5-1304-490c-9588-3b73ad22e767'\u001b[0m.                         \n"
      ]
     },
     "metadata": {},
     "output_type": "display_data"
    },
    {
     "data": {
      "text/html": [
       "<pre style=\"white-space:pre;overflow-x:auto;line-height:normal;font-family:Menlo,'DejaVu Sans Mono',consolas,'Courier New',monospace\"><span style=\"color: #7fbfbf; text-decoration-color: #7fbfbf\">           </span>View task using web UI at                                            \n",
       "<span style=\"color: #7fbfbf; text-decoration-color: #7fbfbf\">           </span><a href=\"https://tidy3d.simulation.cloud/workbench?taskId=fdve-e17dcdf5-1304-490c-9588-3b73ad22e767\" target=\"_blank\"><span style=\"color: #000080; text-decoration-color: #000080; text-decoration: underline\">'https://tidy3d.simulation.cloud/workbench?taskId=fdve-e17dcdf5-1304-</span></a>\n",
       "<span style=\"color: #7fbfbf; text-decoration-color: #7fbfbf\">           </span><a href=\"https://tidy3d.simulation.cloud/workbench?taskId=fdve-e17dcdf5-1304-490c-9588-3b73ad22e767\" target=\"_blank\"><span style=\"color: #000080; text-decoration-color: #000080; text-decoration: underline\">490c-9588-3b73ad22e767'</span></a><span style=\"color: #000080; text-decoration-color: #000080; text-decoration: underline\">.</span>                                             \n",
       "</pre>\n"
      ],
      "text/plain": [
       "\u001b[2;36m          \u001b[0m\u001b[2;36m \u001b[0mView task using web UI at                                            \n",
       "\u001b[2;36m           \u001b[0m\u001b]8;id=194410;https://tidy3d.simulation.cloud/workbench?taskId=fdve-e17dcdf5-1304-490c-9588-3b73ad22e767\u001b\\\u001b[4;34m'https://tidy3d.simulation.cloud/workbench?\u001b[0m\u001b]8;;\u001b\\\u001b]8;id=340896;https://tidy3d.simulation.cloud/workbench?taskId=fdve-e17dcdf5-1304-490c-9588-3b73ad22e767\u001b\\\u001b[4;34mtaskId\u001b[0m\u001b]8;;\u001b\\\u001b]8;id=194410;https://tidy3d.simulation.cloud/workbench?taskId=fdve-e17dcdf5-1304-490c-9588-3b73ad22e767\u001b\\\u001b[4;34m=\u001b[0m\u001b]8;;\u001b\\\u001b]8;id=130305;https://tidy3d.simulation.cloud/workbench?taskId=fdve-e17dcdf5-1304-490c-9588-3b73ad22e767\u001b\\\u001b[4;34mfdve\u001b[0m\u001b]8;;\u001b\\\u001b]8;id=194410;https://tidy3d.simulation.cloud/workbench?taskId=fdve-e17dcdf5-1304-490c-9588-3b73ad22e767\u001b\\\u001b[4;34m-e17dcdf5-1304-\u001b[0m\u001b]8;;\u001b\\\n",
       "\u001b[2;36m           \u001b[0m\u001b]8;id=194410;https://tidy3d.simulation.cloud/workbench?taskId=fdve-e17dcdf5-1304-490c-9588-3b73ad22e767\u001b\\\u001b[4;34m490c-9588-3b73ad22e767'\u001b[0m\u001b]8;;\u001b\\\u001b[4;34m.\u001b[0m                                             \n"
      ]
     },
     "metadata": {},
     "output_type": "display_data"
    },
    {
     "data": {
      "application/vnd.jupyter.widget-view+json": {
       "model_id": "6c97b354904f4adc998640e7196f75ff",
       "version_major": 2,
       "version_minor": 0
      },
      "text/plain": [
       "Output()"
      ]
     },
     "metadata": {},
     "output_type": "display_data"
    },
    {
     "data": {
      "text/html": [
       "<pre style=\"white-space:pre;overflow-x:auto;line-height:normal;font-family:Menlo,'DejaVu Sans Mono',consolas,'Courier New',monospace\"></pre>\n"
      ],
      "text/plain": []
     },
     "metadata": {},
     "output_type": "display_data"
    },
    {
     "data": {
      "text/html": [
       "<pre style=\"white-space:pre;overflow-x:auto;line-height:normal;font-family:Menlo,'DejaVu Sans Mono',consolas,'Courier New',monospace\">\n",
       "</pre>\n"
      ],
      "text/plain": [
       "\n"
      ]
     },
     "metadata": {},
     "output_type": "display_data"
    },
    {
     "data": {
      "text/html": [
       "<pre style=\"white-space:pre;overflow-x:auto;line-height:normal;font-family:Menlo,'DejaVu Sans Mono',consolas,'Courier New',monospace\"><span style=\"color: #7fbfbf; text-decoration-color: #7fbfbf\">[11:00:12] </span>Created task <span style=\"color: #008000; text-decoration-color: #008000\">'LCP_C'</span> with task_id                                    \n",
       "<span style=\"color: #7fbfbf; text-decoration-color: #7fbfbf\">           </span><span style=\"color: #008000; text-decoration-color: #008000\">'fdve-856e20a7-57ad-4dda-b52c-59002a7ff7c7'</span>.                         \n",
       "</pre>\n"
      ],
      "text/plain": [
       "\u001b[2;36m[11:00:12]\u001b[0m\u001b[2;36m \u001b[0mCreated task \u001b[32m'LCP_C'\u001b[0m with task_id                                    \n",
       "\u001b[2;36m           \u001b[0m\u001b[32m'fdve-856e20a7-57ad-4dda-b52c-59002a7ff7c7'\u001b[0m.                         \n"
      ]
     },
     "metadata": {},
     "output_type": "display_data"
    },
    {
     "data": {
      "text/html": [
       "<pre style=\"white-space:pre;overflow-x:auto;line-height:normal;font-family:Menlo,'DejaVu Sans Mono',consolas,'Courier New',monospace\"><span style=\"color: #7fbfbf; text-decoration-color: #7fbfbf\">           </span>View task using web UI at                                            \n",
       "<span style=\"color: #7fbfbf; text-decoration-color: #7fbfbf\">           </span><a href=\"https://tidy3d.simulation.cloud/workbench?taskId=fdve-856e20a7-57ad-4dda-b52c-59002a7ff7c7\" target=\"_blank\"><span style=\"color: #000080; text-decoration-color: #000080; text-decoration: underline\">'https://tidy3d.simulation.cloud/workbench?taskId=fdve-856e20a7-57ad-</span></a>\n",
       "<span style=\"color: #7fbfbf; text-decoration-color: #7fbfbf\">           </span><a href=\"https://tidy3d.simulation.cloud/workbench?taskId=fdve-856e20a7-57ad-4dda-b52c-59002a7ff7c7\" target=\"_blank\"><span style=\"color: #000080; text-decoration-color: #000080; text-decoration: underline\">4dda-b52c-59002a7ff7c7'</span></a><span style=\"color: #000080; text-decoration-color: #000080; text-decoration: underline\">.</span>                                             \n",
       "</pre>\n"
      ],
      "text/plain": [
       "\u001b[2;36m          \u001b[0m\u001b[2;36m \u001b[0mView task using web UI at                                            \n",
       "\u001b[2;36m           \u001b[0m\u001b]8;id=979626;https://tidy3d.simulation.cloud/workbench?taskId=fdve-856e20a7-57ad-4dda-b52c-59002a7ff7c7\u001b\\\u001b[4;34m'https://tidy3d.simulation.cloud/workbench?\u001b[0m\u001b]8;;\u001b\\\u001b]8;id=697772;https://tidy3d.simulation.cloud/workbench?taskId=fdve-856e20a7-57ad-4dda-b52c-59002a7ff7c7\u001b\\\u001b[4;34mtaskId\u001b[0m\u001b]8;;\u001b\\\u001b]8;id=979626;https://tidy3d.simulation.cloud/workbench?taskId=fdve-856e20a7-57ad-4dda-b52c-59002a7ff7c7\u001b\\\u001b[4;34m=\u001b[0m\u001b]8;;\u001b\\\u001b]8;id=476777;https://tidy3d.simulation.cloud/workbench?taskId=fdve-856e20a7-57ad-4dda-b52c-59002a7ff7c7\u001b\\\u001b[4;34mfdve\u001b[0m\u001b]8;;\u001b\\\u001b]8;id=979626;https://tidy3d.simulation.cloud/workbench?taskId=fdve-856e20a7-57ad-4dda-b52c-59002a7ff7c7\u001b\\\u001b[4;34m-856e20a7-57ad-\u001b[0m\u001b]8;;\u001b\\\n",
       "\u001b[2;36m           \u001b[0m\u001b]8;id=979626;https://tidy3d.simulation.cloud/workbench?taskId=fdve-856e20a7-57ad-4dda-b52c-59002a7ff7c7\u001b\\\u001b[4;34m4dda-b52c-59002a7ff7c7'\u001b[0m\u001b]8;;\u001b\\\u001b[4;34m.\u001b[0m                                             \n"
      ]
     },
     "metadata": {},
     "output_type": "display_data"
    },
    {
     "data": {
      "application/vnd.jupyter.widget-view+json": {
       "model_id": "d24a3c76f5e24732a68c11fedec7a877",
       "version_major": 2,
       "version_minor": 0
      },
      "text/plain": [
       "Output()"
      ]
     },
     "metadata": {},
     "output_type": "display_data"
    },
    {
     "data": {
      "text/html": [
       "<pre style=\"white-space:pre;overflow-x:auto;line-height:normal;font-family:Menlo,'DejaVu Sans Mono',consolas,'Courier New',monospace\"></pre>\n"
      ],
      "text/plain": []
     },
     "metadata": {},
     "output_type": "display_data"
    },
    {
     "data": {
      "text/html": [
       "<pre style=\"white-space:pre;overflow-x:auto;line-height:normal;font-family:Menlo,'DejaVu Sans Mono',consolas,'Courier New',monospace\">\n",
       "</pre>\n"
      ],
      "text/plain": [
       "\n"
      ]
     },
     "metadata": {},
     "output_type": "display_data"
    },
    {
     "data": {
      "text/html": [
       "<pre style=\"white-space:pre;overflow-x:auto;line-height:normal;font-family:Menlo,'DejaVu Sans Mono',consolas,'Courier New',monospace\"><span style=\"color: #7fbfbf; text-decoration-color: #7fbfbf\">           </span>Created task <span style=\"color: #008000; text-decoration-color: #008000\">'RCP_A'</span> with task_id                                    \n",
       "<span style=\"color: #7fbfbf; text-decoration-color: #7fbfbf\">           </span><span style=\"color: #008000; text-decoration-color: #008000\">'fdve-08307142-1135-4c42-9a46-2e7709c80479'</span>.                         \n",
       "</pre>\n"
      ],
      "text/plain": [
       "\u001b[2;36m          \u001b[0m\u001b[2;36m \u001b[0mCreated task \u001b[32m'RCP_A'\u001b[0m with task_id                                    \n",
       "\u001b[2;36m           \u001b[0m\u001b[32m'fdve-08307142-1135-4c42-9a46-2e7709c80479'\u001b[0m.                         \n"
      ]
     },
     "metadata": {},
     "output_type": "display_data"
    },
    {
     "data": {
      "text/html": [
       "<pre style=\"white-space:pre;overflow-x:auto;line-height:normal;font-family:Menlo,'DejaVu Sans Mono',consolas,'Courier New',monospace\"><span style=\"color: #7fbfbf; text-decoration-color: #7fbfbf\">           </span>View task using web UI at                                            \n",
       "<span style=\"color: #7fbfbf; text-decoration-color: #7fbfbf\">           </span><a href=\"https://tidy3d.simulation.cloud/workbench?taskId=fdve-08307142-1135-4c42-9a46-2e7709c80479\" target=\"_blank\"><span style=\"color: #000080; text-decoration-color: #000080; text-decoration: underline\">'https://tidy3d.simulation.cloud/workbench?taskId=fdve-08307142-1135-</span></a>\n",
       "<span style=\"color: #7fbfbf; text-decoration-color: #7fbfbf\">           </span><a href=\"https://tidy3d.simulation.cloud/workbench?taskId=fdve-08307142-1135-4c42-9a46-2e7709c80479\" target=\"_blank\"><span style=\"color: #000080; text-decoration-color: #000080; text-decoration: underline\">4c42-9a46-2e7709c80479'</span></a><span style=\"color: #000080; text-decoration-color: #000080; text-decoration: underline\">.</span>                                             \n",
       "</pre>\n"
      ],
      "text/plain": [
       "\u001b[2;36m          \u001b[0m\u001b[2;36m \u001b[0mView task using web UI at                                            \n",
       "\u001b[2;36m           \u001b[0m\u001b]8;id=819493;https://tidy3d.simulation.cloud/workbench?taskId=fdve-08307142-1135-4c42-9a46-2e7709c80479\u001b\\\u001b[4;34m'https://tidy3d.simulation.cloud/workbench?\u001b[0m\u001b]8;;\u001b\\\u001b]8;id=744733;https://tidy3d.simulation.cloud/workbench?taskId=fdve-08307142-1135-4c42-9a46-2e7709c80479\u001b\\\u001b[4;34mtaskId\u001b[0m\u001b]8;;\u001b\\\u001b]8;id=819493;https://tidy3d.simulation.cloud/workbench?taskId=fdve-08307142-1135-4c42-9a46-2e7709c80479\u001b\\\u001b[4;34m=\u001b[0m\u001b]8;;\u001b\\\u001b]8;id=563689;https://tidy3d.simulation.cloud/workbench?taskId=fdve-08307142-1135-4c42-9a46-2e7709c80479\u001b\\\u001b[4;34mfdve\u001b[0m\u001b]8;;\u001b\\\u001b]8;id=819493;https://tidy3d.simulation.cloud/workbench?taskId=fdve-08307142-1135-4c42-9a46-2e7709c80479\u001b\\\u001b[4;34m-08307142-1135-\u001b[0m\u001b]8;;\u001b\\\n",
       "\u001b[2;36m           \u001b[0m\u001b]8;id=819493;https://tidy3d.simulation.cloud/workbench?taskId=fdve-08307142-1135-4c42-9a46-2e7709c80479\u001b\\\u001b[4;34m4c42-9a46-2e7709c80479'\u001b[0m\u001b]8;;\u001b\\\u001b[4;34m.\u001b[0m                                             \n"
      ]
     },
     "metadata": {},
     "output_type": "display_data"
    },
    {
     "data": {
      "application/vnd.jupyter.widget-view+json": {
       "model_id": "0dcd688ebd57410f9c22f642572f6dde",
       "version_major": 2,
       "version_minor": 0
      },
      "text/plain": [
       "Output()"
      ]
     },
     "metadata": {},
     "output_type": "display_data"
    },
    {
     "data": {
      "text/html": [
       "<pre style=\"white-space:pre;overflow-x:auto;line-height:normal;font-family:Menlo,'DejaVu Sans Mono',consolas,'Courier New',monospace\"></pre>\n"
      ],
      "text/plain": []
     },
     "metadata": {},
     "output_type": "display_data"
    },
    {
     "data": {
      "text/html": [
       "<pre style=\"white-space:pre;overflow-x:auto;line-height:normal;font-family:Menlo,'DejaVu Sans Mono',consolas,'Courier New',monospace\">\n",
       "</pre>\n"
      ],
      "text/plain": [
       "\n"
      ]
     },
     "metadata": {},
     "output_type": "display_data"
    },
    {
     "data": {
      "text/html": [
       "<pre style=\"white-space:pre;overflow-x:auto;line-height:normal;font-family:Menlo,'DejaVu Sans Mono',consolas,'Courier New',monospace\"><span style=\"color: #7fbfbf; text-decoration-color: #7fbfbf\">[11:00:13] </span>Created task <span style=\"color: #008000; text-decoration-color: #008000\">'RCP_C'</span> with task_id                                    \n",
       "<span style=\"color: #7fbfbf; text-decoration-color: #7fbfbf\">           </span><span style=\"color: #008000; text-decoration-color: #008000\">'fdve-e49b61cc-8049-4a39-90cc-7d49004bb27f'</span>.                         \n",
       "</pre>\n"
      ],
      "text/plain": [
       "\u001b[2;36m[11:00:13]\u001b[0m\u001b[2;36m \u001b[0mCreated task \u001b[32m'RCP_C'\u001b[0m with task_id                                    \n",
       "\u001b[2;36m           \u001b[0m\u001b[32m'fdve-e49b61cc-8049-4a39-90cc-7d49004bb27f'\u001b[0m.                         \n"
      ]
     },
     "metadata": {},
     "output_type": "display_data"
    },
    {
     "data": {
      "text/html": [
       "<pre style=\"white-space:pre;overflow-x:auto;line-height:normal;font-family:Menlo,'DejaVu Sans Mono',consolas,'Courier New',monospace\"><span style=\"color: #7fbfbf; text-decoration-color: #7fbfbf\">           </span>View task using web UI at                                            \n",
       "<span style=\"color: #7fbfbf; text-decoration-color: #7fbfbf\">           </span><a href=\"https://tidy3d.simulation.cloud/workbench?taskId=fdve-e49b61cc-8049-4a39-90cc-7d49004bb27f\" target=\"_blank\"><span style=\"color: #000080; text-decoration-color: #000080; text-decoration: underline\">'https://tidy3d.simulation.cloud/workbench?taskId=fdve-e49b61cc-8049-</span></a>\n",
       "<span style=\"color: #7fbfbf; text-decoration-color: #7fbfbf\">           </span><a href=\"https://tidy3d.simulation.cloud/workbench?taskId=fdve-e49b61cc-8049-4a39-90cc-7d49004bb27f\" target=\"_blank\"><span style=\"color: #000080; text-decoration-color: #000080; text-decoration: underline\">4a39-90cc-7d49004bb27f'</span></a><span style=\"color: #000080; text-decoration-color: #000080; text-decoration: underline\">.</span>                                             \n",
       "</pre>\n"
      ],
      "text/plain": [
       "\u001b[2;36m          \u001b[0m\u001b[2;36m \u001b[0mView task using web UI at                                            \n",
       "\u001b[2;36m           \u001b[0m\u001b]8;id=741975;https://tidy3d.simulation.cloud/workbench?taskId=fdve-e49b61cc-8049-4a39-90cc-7d49004bb27f\u001b\\\u001b[4;34m'https://tidy3d.simulation.cloud/workbench?\u001b[0m\u001b]8;;\u001b\\\u001b]8;id=178693;https://tidy3d.simulation.cloud/workbench?taskId=fdve-e49b61cc-8049-4a39-90cc-7d49004bb27f\u001b\\\u001b[4;34mtaskId\u001b[0m\u001b]8;;\u001b\\\u001b]8;id=741975;https://tidy3d.simulation.cloud/workbench?taskId=fdve-e49b61cc-8049-4a39-90cc-7d49004bb27f\u001b\\\u001b[4;34m=\u001b[0m\u001b]8;;\u001b\\\u001b]8;id=652936;https://tidy3d.simulation.cloud/workbench?taskId=fdve-e49b61cc-8049-4a39-90cc-7d49004bb27f\u001b\\\u001b[4;34mfdve\u001b[0m\u001b]8;;\u001b\\\u001b]8;id=741975;https://tidy3d.simulation.cloud/workbench?taskId=fdve-e49b61cc-8049-4a39-90cc-7d49004bb27f\u001b\\\u001b[4;34m-e49b61cc-8049-\u001b[0m\u001b]8;;\u001b\\\n",
       "\u001b[2;36m           \u001b[0m\u001b]8;id=741975;https://tidy3d.simulation.cloud/workbench?taskId=fdve-e49b61cc-8049-4a39-90cc-7d49004bb27f\u001b\\\u001b[4;34m4a39-90cc-7d49004bb27f'\u001b[0m\u001b]8;;\u001b\\\u001b[4;34m.\u001b[0m                                             \n"
      ]
     },
     "metadata": {},
     "output_type": "display_data"
    },
    {
     "data": {
      "application/vnd.jupyter.widget-view+json": {
       "model_id": "fdcd6d44e8be46979a02daac81b6584c",
       "version_major": 2,
       "version_minor": 0
      },
      "text/plain": [
       "Output()"
      ]
     },
     "metadata": {},
     "output_type": "display_data"
    },
    {
     "data": {
      "text/html": [
       "<pre style=\"white-space:pre;overflow-x:auto;line-height:normal;font-family:Menlo,'DejaVu Sans Mono',consolas,'Courier New',monospace\"></pre>\n"
      ],
      "text/plain": []
     },
     "metadata": {},
     "output_type": "display_data"
    },
    {
     "data": {
      "text/html": [
       "<pre style=\"white-space:pre;overflow-x:auto;line-height:normal;font-family:Menlo,'DejaVu Sans Mono',consolas,'Courier New',monospace\">\n",
       "</pre>\n"
      ],
      "text/plain": [
       "\n"
      ]
     },
     "metadata": {},
     "output_type": "display_data"
    },
    {
     "data": {
      "text/html": [
       "<pre style=\"white-space:pre;overflow-x:auto;line-height:normal;font-family:Menlo,'DejaVu Sans Mono',consolas,'Courier New',monospace\"><span style=\"color: #7fbfbf; text-decoration-color: #7fbfbf\">[11:00:22] </span>Started working on Batch.                                            \n",
       "</pre>\n"
      ],
      "text/plain": [
       "\u001b[2;36m[11:00:22]\u001b[0m\u001b[2;36m \u001b[0mStarted working on Batch.                                            \n"
      ]
     },
     "metadata": {},
     "output_type": "display_data"
    },
    {
     "data": {
      "text/html": [
       "<pre style=\"white-space:pre;overflow-x:auto;line-height:normal;font-family:Menlo,'DejaVu Sans Mono',consolas,'Courier New',monospace\"><span style=\"color: #7fbfbf; text-decoration-color: #7fbfbf\">[11:00:24] </span>Maximum FlexCredit cost: <span style=\"color: #008080; text-decoration-color: #008080; font-weight: bold\">1.207</span> for the whole batch. Use              \n",
       "<span style=\"color: #7fbfbf; text-decoration-color: #7fbfbf\">           </span><span style=\"color: #008000; text-decoration-color: #008000\">'Batch.real_cost()'</span> to get the billed FlexCredit cost after the Batch\n",
       "<span style=\"color: #7fbfbf; text-decoration-color: #7fbfbf\">           </span>has completed.                                                       \n",
       "</pre>\n"
      ],
      "text/plain": [
       "\u001b[2;36m[11:00:24]\u001b[0m\u001b[2;36m \u001b[0mMaximum FlexCredit cost: \u001b[1;36m1.207\u001b[0m for the whole batch. Use              \n",
       "\u001b[2;36m           \u001b[0m\u001b[32m'Batch.real_cost\u001b[0m\u001b[32m(\u001b[0m\u001b[32m)\u001b[0m\u001b[32m'\u001b[0m to get the billed FlexCredit cost after the Batch\n",
       "\u001b[2;36m           \u001b[0mhas completed.                                                       \n"
      ]
     },
     "metadata": {},
     "output_type": "display_data"
    },
    {
     "data": {
      "application/vnd.jupyter.widget-view+json": {
       "model_id": "c3db18059a9745bfbd718e6b6876d2b9",
       "version_major": 2,
       "version_minor": 0
      },
      "text/plain": [
       "Output()"
      ]
     },
     "metadata": {},
     "output_type": "display_data"
    },
    {
     "data": {
      "text/html": [
       "<pre style=\"white-space:pre;overflow-x:auto;line-height:normal;font-family:Menlo,'DejaVu Sans Mono',consolas,'Courier New',monospace\"><span style=\"color: #7fbfbf; text-decoration-color: #7fbfbf\">[11:05:37] </span>Batch complete.                                                      \n",
       "</pre>\n"
      ],
      "text/plain": [
       "\u001b[2;36m[11:05:37]\u001b[0m\u001b[2;36m \u001b[0mBatch complete.                                                      \n"
      ]
     },
     "metadata": {},
     "output_type": "display_data"
    },
    {
     "data": {
      "text/html": [
       "<pre style=\"white-space:pre;overflow-x:auto;line-height:normal;font-family:Menlo,'DejaVu Sans Mono',consolas,'Courier New',monospace\"></pre>\n"
      ],
      "text/plain": []
     },
     "metadata": {},
     "output_type": "display_data"
    },
    {
     "data": {
      "text/html": [
       "<pre style=\"white-space:pre;overflow-x:auto;line-height:normal;font-family:Menlo,'DejaVu Sans Mono',consolas,'Courier New',monospace\">\n",
       "</pre>\n"
      ],
      "text/plain": [
       "\n"
      ]
     },
     "metadata": {},
     "output_type": "display_data"
    }
   ],
   "source": [
    "# define four simulations\n",
    "sims = {\n",
    "    \"LCP_A\": sim_left_A,\n",
    "    \"LCP_C\": make_sim(\"left\", \"crystalline\"),\n",
    "    \"RCP_A\": make_sim(\"right\", \"amorphous\"),\n",
    "    \"RCP_C\": make_sim(\"right\", \"crystalline\"),\n",
    "}\n",
    "\n",
    "# create a batch and run all sims in parallel\n",
    "batch = web.Batch(simulations=sims)\n",
    "batch_results = batch.run(path_dir=\"data\")"
   ]
  },
  {
   "cell_type": "markdown",
   "id": "c836569f",
   "metadata": {},
   "source": [
    "## Result Analysis"
   ]
  },
  {
   "cell_type": "markdown",
   "id": "e9fd369e",
   "metadata": {},
   "source": [
    "After the simulations are complete, we can extract the absorption spectra for all simulations."
   ]
  },
  {
   "cell_type": "code",
   "execution_count": 12,
   "id": "66c77096",
   "metadata": {},
   "outputs": [
    {
     "data": {
      "application/vnd.jupyter.widget-view+json": {
       "model_id": "bbf0501e47c54e6b9d2dce23300ad9d1",
       "version_major": 2,
       "version_minor": 0
      },
      "text/plain": [
       "Output()"
      ]
     },
     "metadata": {},
     "output_type": "display_data"
    },
    {
     "data": {
      "text/html": [
       "<pre style=\"white-space:pre;overflow-x:auto;line-height:normal;font-family:Menlo,'DejaVu Sans Mono',consolas,'Courier New',monospace\"></pre>\n"
      ],
      "text/plain": []
     },
     "metadata": {},
     "output_type": "display_data"
    },
    {
     "data": {
      "text/html": [
       "<pre style=\"white-space:pre;overflow-x:auto;line-height:normal;font-family:Menlo,'DejaVu Sans Mono',consolas,'Courier New',monospace\">\n",
       "</pre>\n"
      ],
      "text/plain": [
       "\n"
      ]
     },
     "metadata": {},
     "output_type": "display_data"
    },
    {
     "data": {
      "text/html": [
       "<pre style=\"white-space:pre;overflow-x:auto;line-height:normal;font-family:Menlo,'DejaVu Sans Mono',consolas,'Courier New',monospace\"><span style=\"color: #7fbfbf; text-decoration-color: #7fbfbf\">[11:05:43] </span>loading SimulationData from                                          \n",
       "<span style=\"color: #7fbfbf; text-decoration-color: #7fbfbf\">           </span>data\\fdve-<span style=\"color: #ffff00; text-decoration-color: #ffff00\">e17dcdf5-1304-490c-9588-3b73ad22e767</span>.hdf5                  \n",
       "</pre>\n"
      ],
      "text/plain": [
       "\u001b[2;36m[11:05:43]\u001b[0m\u001b[2;36m \u001b[0mloading SimulationData from                                          \n",
       "\u001b[2;36m           \u001b[0mdata\\fdve-\u001b[93me17dcdf5-1304-490c-9588-3b73ad22e767\u001b[0m.hdf5                  \n"
      ]
     },
     "metadata": {},
     "output_type": "display_data"
    },
    {
     "data": {
      "application/vnd.jupyter.widget-view+json": {
       "model_id": "fb86bdc05c944f4b964f786a80fface3",
       "version_major": 2,
       "version_minor": 0
      },
      "text/plain": [
       "Output()"
      ]
     },
     "metadata": {},
     "output_type": "display_data"
    },
    {
     "data": {
      "text/html": [
       "<pre style=\"white-space:pre;overflow-x:auto;line-height:normal;font-family:Menlo,'DejaVu Sans Mono',consolas,'Courier New',monospace\"></pre>\n"
      ],
      "text/plain": []
     },
     "metadata": {},
     "output_type": "display_data"
    },
    {
     "data": {
      "text/html": [
       "<pre style=\"white-space:pre;overflow-x:auto;line-height:normal;font-family:Menlo,'DejaVu Sans Mono',consolas,'Courier New',monospace\">\n",
       "</pre>\n"
      ],
      "text/plain": [
       "\n"
      ]
     },
     "metadata": {},
     "output_type": "display_data"
    },
    {
     "data": {
      "text/html": [
       "<pre style=\"white-space:pre;overflow-x:auto;line-height:normal;font-family:Menlo,'DejaVu Sans Mono',consolas,'Courier New',monospace\"><span style=\"color: #7fbfbf; text-decoration-color: #7fbfbf\">[11:05:45] </span>loading SimulationData from                                          \n",
       "<span style=\"color: #7fbfbf; text-decoration-color: #7fbfbf\">           </span>data\\fdve-<span style=\"color: #ffff00; text-decoration-color: #ffff00\">856e20a7-57ad-4dda-b52c-59002a7ff7c7</span>.hdf5                  \n",
       "</pre>\n"
      ],
      "text/plain": [
       "\u001b[2;36m[11:05:45]\u001b[0m\u001b[2;36m \u001b[0mloading SimulationData from                                          \n",
       "\u001b[2;36m           \u001b[0mdata\\fdve-\u001b[93m856e20a7-57ad-4dda-b52c-59002a7ff7c7\u001b[0m.hdf5                  \n"
      ]
     },
     "metadata": {},
     "output_type": "display_data"
    },
    {
     "data": {
      "application/vnd.jupyter.widget-view+json": {
       "model_id": "bea36b24112548cea98f0d14a81d1612",
       "version_major": 2,
       "version_minor": 0
      },
      "text/plain": [
       "Output()"
      ]
     },
     "metadata": {},
     "output_type": "display_data"
    },
    {
     "data": {
      "text/html": [
       "<pre style=\"white-space:pre;overflow-x:auto;line-height:normal;font-family:Menlo,'DejaVu Sans Mono',consolas,'Courier New',monospace\"></pre>\n"
      ],
      "text/plain": []
     },
     "metadata": {},
     "output_type": "display_data"
    },
    {
     "data": {
      "text/html": [
       "<pre style=\"white-space:pre;overflow-x:auto;line-height:normal;font-family:Menlo,'DejaVu Sans Mono',consolas,'Courier New',monospace\">\n",
       "</pre>\n"
      ],
      "text/plain": [
       "\n"
      ]
     },
     "metadata": {},
     "output_type": "display_data"
    },
    {
     "data": {
      "text/html": [
       "<pre style=\"white-space:pre;overflow-x:auto;line-height:normal;font-family:Menlo,'DejaVu Sans Mono',consolas,'Courier New',monospace\"><span style=\"color: #7fbfbf; text-decoration-color: #7fbfbf\">[11:05:47] </span>loading SimulationData from                                          \n",
       "<span style=\"color: #7fbfbf; text-decoration-color: #7fbfbf\">           </span>data\\fdve-<span style=\"color: #ffff00; text-decoration-color: #ffff00\">08307142-1135-4c42-9a46-2e7709c80479</span>.hdf5                  \n",
       "</pre>\n"
      ],
      "text/plain": [
       "\u001b[2;36m[11:05:47]\u001b[0m\u001b[2;36m \u001b[0mloading SimulationData from                                          \n",
       "\u001b[2;36m           \u001b[0mdata\\fdve-\u001b[93m08307142-1135-4c42-9a46-2e7709c80479\u001b[0m.hdf5                  \n"
      ]
     },
     "metadata": {},
     "output_type": "display_data"
    },
    {
     "data": {
      "application/vnd.jupyter.widget-view+json": {
       "model_id": "97bd73c3a8d24ebdbf8875e89bde3e7a",
       "version_major": 2,
       "version_minor": 0
      },
      "text/plain": [
       "Output()"
      ]
     },
     "metadata": {},
     "output_type": "display_data"
    },
    {
     "data": {
      "text/html": [
       "<pre style=\"white-space:pre;overflow-x:auto;line-height:normal;font-family:Menlo,'DejaVu Sans Mono',consolas,'Courier New',monospace\"></pre>\n"
      ],
      "text/plain": []
     },
     "metadata": {},
     "output_type": "display_data"
    },
    {
     "data": {
      "text/html": [
       "<pre style=\"white-space:pre;overflow-x:auto;line-height:normal;font-family:Menlo,'DejaVu Sans Mono',consolas,'Courier New',monospace\">\n",
       "</pre>\n"
      ],
      "text/plain": [
       "\n"
      ]
     },
     "metadata": {},
     "output_type": "display_data"
    },
    {
     "data": {
      "text/html": [
       "<pre style=\"white-space:pre;overflow-x:auto;line-height:normal;font-family:Menlo,'DejaVu Sans Mono',consolas,'Courier New',monospace\"><span style=\"color: #7fbfbf; text-decoration-color: #7fbfbf\">[11:05:49] </span>loading SimulationData from                                          \n",
       "<span style=\"color: #7fbfbf; text-decoration-color: #7fbfbf\">           </span>data\\fdve-<span style=\"color: #ffff00; text-decoration-color: #ffff00\">e49b61cc-8049-4a39-90cc-7d49004bb27f</span>.hdf5                  \n",
       "</pre>\n"
      ],
      "text/plain": [
       "\u001b[2;36m[11:05:49]\u001b[0m\u001b[2;36m \u001b[0mloading SimulationData from                                          \n",
       "\u001b[2;36m           \u001b[0mdata\\fdve-\u001b[93me49b61cc-8049-4a39-90cc-7d49004bb27f\u001b[0m.hdf5                  \n"
      ]
     },
     "metadata": {},
     "output_type": "display_data"
    },
    {
     "data": {
      "image/png": "[encoded data removed]",
      "text/plain": [
       "<Figure size 640x480 with 1 Axes>"
      ]
     },
     "metadata": {},
     "output_type": "display_data"
    }
   ],
   "source": [
    "# extract absorption from four simulations\n",
    "A_LCP_A = 1 - batch_results[\"LCP_A\"][\"R\"].flux / 2\n",
    "A_LCP_C = 1 - batch_results[\"LCP_C\"][\"R\"].flux / 2\n",
    "A_RCP_A = 1 - batch_results[\"RCP_A\"][\"R\"].flux / 2\n",
    "A_RCP_C = 1 - batch_results[\"RCP_C\"][\"R\"].flux / 2\n",
    "\n",
    "# plot absorption spectra\n",
    "plt.plot(ldas, A_LCP_A, \"red\", label=\"LCP_A\")\n",
    "plt.plot(ldas, A_RCP_A, \"red\", linestyle=\"--\", label=\"RCP_A\")\n",
    "plt.plot(ldas, A_LCP_C, \"blue\", label=\"LCP_C\")\n",
    "plt.plot(ldas, A_RCP_C, \"blue\", linestyle=\"--\", label=\"RCP_C\")\n",
    "plt.ylabel(\"Absorption\")\n",
    "plt.xlabel(\"Wavelength ($\\mu m$)\")\n",
    "plt.legend()\n",
    "plt.show()"
   ]
  },
  {
   "cell_type": "markdown",
   "id": "aab8d370",
   "metadata": {},
   "source": [
    "With the absorption spectra, we can further calculate CD for both GST states. Note that compared to the [publication](), the results are similar but not identical, which is likely due to the slightly different refractive indices for the materials."
   ]
  },
  {
   "cell_type": "code",
   "execution_count": 13,
   "id": "f13b358d",
   "metadata": {},
   "outputs": [
    {
     "data": {
      "image/png": "[encoded data removed]",
      "text/plain": [
       "<Figure size 640x480 with 1 Axes>"
      ]
     },
     "metadata": {},
     "output_type": "display_data"
    }
   ],
   "source": [
    "# plot CD spectra\n",
    "plt.plot(ldas, A_LCP_A - A_RCP_A, \"red\", label=\"A\")\n",
    "plt.plot(ldas, A_LCP_C - A_RCP_C, \"blue\", label=\"C\")\n",
    "plt.title(\"Circular dichroism (CD)\")\n",
    "plt.legend()\n",
    "plt.show()"
   ]
  },
  {
   "cell_type": "markdown",
   "id": "429ef077",
   "metadata": {},
   "source": [
    "Lastly, we can plot the field distributions at the resonant wavelength when GST is in the amorphous state to visualize the resonant mode. We can see that with the left circularly polarized incident, the response is much stronger, leading to a much higher absorption as seen above."
   ]
  },
  {
   "cell_type": "code",
   "execution_count": 14,
   "id": "e1b9c92f",
   "metadata": {},
   "outputs": [
    {
     "data": {
      "text/html": [
       "<pre style=\"white-space:pre;overflow-x:auto;line-height:normal;font-family:Menlo,'DejaVu Sans Mono',consolas,'Courier New',monospace\"><span style=\"color: #7fbfbf; text-decoration-color: #7fbfbf\">           </span>loading SimulationData from                                          \n",
       "<span style=\"color: #7fbfbf; text-decoration-color: #7fbfbf\">           </span>data\\fdve-<span style=\"color: #ffff00; text-decoration-color: #ffff00\">e17dcdf5-1304-490c-9588-3b73ad22e767</span>.hdf5                  \n",
       "</pre>\n"
      ],
      "text/plain": [
       "\u001b[2;36m          \u001b[0m\u001b[2;36m \u001b[0mloading SimulationData from                                          \n",
       "\u001b[2;36m           \u001b[0mdata\\fdve-\u001b[93me17dcdf5-1304-490c-9588-3b73ad22e767\u001b[0m.hdf5                  \n"
      ]
     },
     "metadata": {},
     "output_type": "display_data"
    },
    {
     "data": {
      "text/html": [
       "<pre style=\"white-space:pre;overflow-x:auto;line-height:normal;font-family:Menlo,'DejaVu Sans Mono',consolas,'Courier New',monospace\"><span style=\"color: #7fbfbf; text-decoration-color: #7fbfbf\">[11:05:50] </span>loading SimulationData from                                          \n",
       "<span style=\"color: #7fbfbf; text-decoration-color: #7fbfbf\">           </span>data\\fdve-<span style=\"color: #ffff00; text-decoration-color: #ffff00\">08307142-1135-4c42-9a46-2e7709c80479</span>.hdf5                  \n",
       "</pre>\n"
      ],
      "text/plain": [
       "\u001b[2;36m[11:05:50]\u001b[0m\u001b[2;36m \u001b[0mloading SimulationData from                                          \n",
       "\u001b[2;36m           \u001b[0mdata\\fdve-\u001b[93m08307142-1135-4c42-9a46-2e7709c80479\u001b[0m.hdf5                  \n"
      ]
     },
     "metadata": {},
     "output_type": "display_data"
    },
    {
     "data": {
      "image/png": "[encoded data removed]",
      "text/plain": [
       "<Figure size 640x480 with 4 Axes>"
      ]
     },
     "metadata": {},
     "output_type": "display_data"
    }
   ],
   "source": [
    "fig, ax = plt.subplots(2, 1, tight_layout=True)\n",
    "batch_results[\"LCP_A\"].plot_field(field_monitor_name=\"field_xy\", field_name=\"E\", val=\"abs\", vmin=0, vmax=500, ax=ax[0])\n",
    "batch_results[\"RCP_A\"].plot_field(field_monitor_name=\"field_xy\", field_name=\"E\", val=\"abs\", vmin=0, vmax=500, ax=ax[1])\n",
    "plt.show()"
   ]
  },
  {
   "cell_type": "markdown",
   "id": "31caddcc",
   "metadata": {},
   "source": [
    "Similarly, plot the field distributions in the $xz$ plane."
   ]
  },
  {
   "cell_type": "code",
   "execution_count": 15,
   "id": "f5d42178",
   "metadata": {},
   "outputs": [
    {
     "data": {
      "text/html": [
       "<pre style=\"white-space:pre;overflow-x:auto;line-height:normal;font-family:Menlo,'DejaVu Sans Mono',consolas,'Courier New',monospace\"><span style=\"color: #7fbfbf; text-decoration-color: #7fbfbf\">           </span>loading SimulationData from                                          \n",
       "<span style=\"color: #7fbfbf; text-decoration-color: #7fbfbf\">           </span>data\\fdve-<span style=\"color: #ffff00; text-decoration-color: #ffff00\">e17dcdf5-1304-490c-9588-3b73ad22e767</span>.hdf5                  \n",
       "</pre>\n"
      ],
      "text/plain": [
       "\u001b[2;36m          \u001b[0m\u001b[2;36m \u001b[0mloading SimulationData from                                          \n",
       "\u001b[2;36m           \u001b[0mdata\\fdve-\u001b[93me17dcdf5-1304-490c-9588-3b73ad22e767\u001b[0m.hdf5                  \n"
      ]
     },
     "metadata": {},
     "output_type": "display_data"
    },
    {
     "data": {
      "text/html": [
       "<pre style=\"white-space:pre;overflow-x:auto;line-height:normal;font-family:Menlo,'DejaVu Sans Mono',consolas,'Courier New',monospace\"><span style=\"color: #7fbfbf; text-decoration-color: #7fbfbf\">[11:05:51] </span>loading SimulationData from                                          \n",
       "<span style=\"color: #7fbfbf; text-decoration-color: #7fbfbf\">           </span>data\\fdve-<span style=\"color: #ffff00; text-decoration-color: #ffff00\">08307142-1135-4c42-9a46-2e7709c80479</span>.hdf5                  \n",
       "</pre>\n"
      ],
      "text/plain": [
       "\u001b[2;36m[11:05:51]\u001b[0m\u001b[2;36m \u001b[0mloading SimulationData from                                          \n",
       "\u001b[2;36m           \u001b[0mdata\\fdve-\u001b[93m08307142-1135-4c42-9a46-2e7709c80479\u001b[0m.hdf5                  \n"
      ]
     },
     "metadata": {},
     "output_type": "display_data"
    },
    {
     "data": {
      "image/png": "[encoded data removed]",
      "text/plain": [
       "<Figure size 800x300 with 4 Axes>"
      ]
     },
     "metadata": {},
     "output_type": "display_data"
    }
   ],
   "source": [
    "fig, ax = plt.subplots(1, 2, figsize=(8, 3), tight_layout=True)\n",
    "batch_results[\"LCP_A\"].plot_field(field_monitor_name=\"field_xz\", field_name=\"E\", val=\"abs\", vmin=0, vmax=500, ax=ax[0])\n",
    "ax[0].set_ylim(-0.2, 1)\n",
    "batch_results[\"RCP_A\"].plot_field(field_monitor_name=\"field_xz\", field_name=\"E\", val=\"abs\", vmin=0, vmax=500, ax=ax[1])\n",
    "ax[1].set_ylim(-0.2, 1)\n",
    "plt.show()"
   ]
  },
  {
   "cell_type": "code",
   "execution_count": null,
   "id": "fa56861c",
   "metadata": {},
   "outputs": [],
   "source": []
  }
 ],
 "metadata": {
  "description": "This notebook demonstrates how to model a chiral metasurface based on phase change material in Tidy3D FDTD.",
  "feature_image": "./img/tunable_chiral_metasurface.png",
  "kernelspec": {
   "display_name": "Python 3 (ipykernel)",
   "language": "python",
   "name": "python3"
  },
  "keywords": "chiral, metasurface, circular dichroism, GST, phase change, Tidy3D, FDTD",
  "language_info": {
   "codemirror_mode": {
    "name": "ipython",
    "version": 3
   },
   "file_extension": ".py",
   "mimetype": "text/x-python",
   "name": "python",
   "nbconvert_exporter": "python",
   "pygments_lexer": "ipython3",
   "version": "3.10.12"
  },
  "title": "Tunable Chiral Metasurface Based on Phase Change Material | Flexcompute"
 },
 "nbformat": 4,
 "nbformat_minor": 5
}
