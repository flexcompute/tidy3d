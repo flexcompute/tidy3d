{
 "cells": [
  {
   "cell_type": "markdown",
   "id": "f7ee7d45-4de6-4492-90ce-2134a76235d5",
   "metadata": {},
   "source": [
    "# Applying time modulation to materials"
   ]
  },
  {
   "cell_type": "markdown",
   "id": "a3add6f0-739b-4452-9700-eb20e31b5b2c",
   "metadata": {},
   "source": [
    "In active nanophotonic devices such as electro-optical modulators, materials can be modulated in both space and time. In `Tidy3D`, space-time modulations can be applied to a regular [Medium](../_autosummary/tidy3d.Medium.html), or a dispersive medium such as [Lorentz](../_autosummary/tidy3d.Lorentz.html), or even a spatially varying medium such as [CustomMedium](../_autosummary/tidy3d.CustomMedium.html).\n",
    "\n",
    "In this tutorial, we illustrate how to define such a modulated material with [ModulationSpec](../_autosummary/tidy3d.ModulationSpec.html) that allows us to apply spatio-temporal modulations to permittivity and electric conductivity. Specifically, we consider transmission spectrum of a harmonically modulated dielectric slab, and show the generation of sidebands in the spectrum."
   ]
  },
  {
   "cell_type": "code",
   "execution_count": 1,
   "id": "b75838e4",
   "metadata": {},
   "outputs": [],
   "source": [
    "# standard python imports\n",
    "import numpy as np\n",
    "import xarray as xr\n",
    "import matplotlib.pylab as plt\n",
    "\n",
    "# tidy3D import\n",
    "import tidy3d as td\n",
    "from tidy3d.constants import C_0\n",
    "from tidy3d import SpatialDataArray\n",
    "import tidy3d.web as web\n"
   ]
  },
  {
   "cell_type": "markdown",
   "id": "62e8f30e-943a-4ad7-98e0-9f0bdf7b9189",
   "metadata": {},
   "source": [
    "First, let us define some basic parameters. A narrow source bandwidth is used so that the sideband is visible."
   ]
  },
  {
   "cell_type": "code",
   "execution_count": 2,
   "id": "b454349d-33b2-4169-ad09-083eb3a94468",
   "metadata": {},
   "outputs": [],
   "source": [
    "wvl_um = 1\n",
    "freq0 = td.C_0 / wvl_um\n",
    "fwidth = freq0 / 100\n",
    "\n",
    "run_time = 10 / fwidth\n",
    "\n",
    "# Thicknesses of slab\n",
    "t_slab = 1  # um\n",
    "\n",
    "# space between slabs and sources and PML\n",
    "spacing = wvl_um\n",
    "\n",
    "# simulation size\n",
    "sim_size = Lx, Ly, Lz = (1.0, 1.0, 4 * spacing + t_slab)\n"
   ]
  },
  {
   "cell_type": "markdown",
   "id": "033e827c-f220-4887-860b-a08cdffbf4e9",
   "metadata": {},
   "source": [
    "## Introduction to space-time modulation"
   ]
  },
  {
   "cell_type": "markdown",
   "id": "89f5cbde-18cf-46a7-9474-0d7c55669672",
   "metadata": {},
   "source": [
    "Let's take an electro-optic modulator (**EOM**) as an example where the permittivity is modulated. Similar modulation can be applied to electric conductivity as well, leading to an electro-absorption modulator (**EAM**). Consider that the dielectric function of a passive medium is $\\epsilon_s$, once the active modulation is applied, the time-dependent dielectric function in space can be described as the follows,\n",
    "\n",
    "$$\\epsilon(\\mathbf{r},t) = \\epsilon_s + \\delta(\\mathbf{r}, t) $$\n",
    "where the dielectric function is the sum of the passive part $\\epsilon_s$ and the modulation function $\\delta(\\mathbf{r}, t)$. In `Tidy3D`, the modulation function $\\delta(\\mathbf{r}, t)$ must be separable in space and time, so that it can be written in the following form\n",
    "\n",
    "$$\\delta(\\mathbf{r}, t) = \\Re \\left[\\delta_t(t)\\delta_r(\\mathbf{r})\\right]$$\n",
    "\n",
    "- $\\delta_t(t)$ is the time dependence part. In the current `Tidy3D` version, only harmonic time dependence, or continuous waveform is supported. Custom time dependence is expected to be supported in the future. The harmonic time dependence is expressed as,\n",
    "$$\\delta_t(t) = A_t\\,\\mathrm{exp}(j\\phi_t - j2\\pi f t)$$\n",
    "where $A_t$ is modulation amplitude, $\\phi_t$ the phase offset, and $f$ the modulation frequency.\n",
    "\n",
    "- $\\delta_r(r)$ describes the spatial dependence, which can be either uniform, or take custom spatial distribution of phase and amplitude,\n",
    "$$\\delta_r(\\mathbf{r}) = A_r(\\mathbf{r})\\, \\mathrm{exp}[j\\phi_r(\\mathbf{r})]$$\n",
    "where $A_r(\\mathbf{r})$ is user-supplied modulation amplitude in space, and $\\phi_r(\\mathbf{r})$ the user-supplied phase offset in space.\n",
    "\n",
    "Note that since the modulation function $\\delta(\\mathbf{r}, t)$ takes the product of the time and space dependencies, the overall modulation amplitude is $A_t\\times A_r(\\mathbf{r})$, and phase offset $\\phi_t + \\phi_r(\\mathbf{r})$."
   ]
  },
  {
   "cell_type": "markdown",
   "id": "c2dabef6-ea68-469c-a240-010a1819107b",
   "metadata": {},
   "source": [
    "## Defining Space-Time Modulated Medium"
   ]
  },
  {
   "cell_type": "markdown",
   "id": "b34318ac-8fb7-4931-abdb-52003bdadd35",
   "metadata": {},
   "source": [
    "We start with a passive medium:"
   ]
  },
  {
   "cell_type": "code",
   "execution_count": 3,
   "id": "29018284-8090-49b6-8d94-75c3a20b0c11",
   "metadata": {},
   "outputs": [],
   "source": [
    "permittivity = 2\n",
    "mat_passive = td.Medium(permittivity=permittivity)\n"
   ]
  },
  {
   "cell_type": "markdown",
   "id": "caca496d-7cbd-4c1f-b69d-a8f31587c23e",
   "metadata": {},
   "source": [
    "### Time dependence\n",
    "\n",
    "Let's first define the time dependence part. For continuous wave modulation, it is defined through the class [ContinuousWaveTimeModulation](../_autosummary/tidy3d.ContinuousWaveTimeModulation.html) which takes the field `freq0` for modulation frequency, `amplitude` for modulation amplitude, and `phase` for the phase shift. As a proof of principle, we use a relatively high modulation speed in this tutorial."
   ]
  },
  {
   "cell_type": "code",
   "execution_count": 4,
   "id": "db89ed46-8c1d-4a9d-83bc-2292bd587cb1",
   "metadata": {},
   "outputs": [],
   "source": [
    "modulation_freq = 0.1 * freq0\n",
    "time_modulation = td.ContinuousWaveTimeModulation(\n",
    "    freq0=modulation_freq, amplitude=1, phase=0\n",
    ")\n"
   ]
  },
  {
   "cell_type": "markdown",
   "id": "adc2100b-18d4-4295-a144-94ddb27411cf",
   "metadata": {},
   "source": [
    "### Space dependence\n",
    "\n",
    "Next, let's define the space dependence part through [SpaceModulation](../_autosummary/tidy3d.SpaceModulation.html). It takes the fields `amplitude` and `phase`, both can be either a scalar float type, or [SpatialDataAarray](../_autosummary/tidy3d.SpatialDataArray.html). The former indicates that the field is uniform inside the medium, while the latter allows us to provide a custom spatial profile. Let's try the former first, and get to the latter later in the tutorial."
   ]
  },
  {
   "cell_type": "code",
   "execution_count": 5,
   "id": "687375a5-f45a-426c-959c-af3125d9df14",
   "metadata": {},
   "outputs": [],
   "source": [
    "modulation_amplitude = 0.4  # this is a relatively strong modulation to permittivity\n",
    "space_modulation = td.SpaceModulation(amplitude=modulation_amplitude, phase=0)\n"
   ]
  },
  {
   "cell_type": "markdown",
   "id": "882ff98a-cc53-48cc-82cd-5494393fd049",
   "metadata": {},
   "source": [
    "### Space-time modulation\n",
    "\n",
    "Now let's put them together to define [SpaceTimeModulation](../_autosummary/tidy3d.SpaceTimeModulation.html), which is then used to define [ModulationSpec](../_autosummary/tidy3d.ModulationSpec.html) to be supplied to the medium."
   ]
  },
  {
   "cell_type": "code",
   "execution_count": 6,
   "id": "9d060c52-c26a-4c66-95ba-ad9de48a6b43",
   "metadata": {},
   "outputs": [],
   "source": [
    "modulation = td.SpaceTimeModulation(\n",
    "    time_modulation=time_modulation, space_modulation=space_modulation\n",
    ")\n"
   ]
  },
  {
   "cell_type": "markdown",
   "id": "6a8cefcf-5465-45fe-8e36-52c762431a36",
   "metadata": {},
   "source": [
    "Let's modulate only the permittivity. With this space-time modulation profile, the modulation \n",
    "amplitude of the relative permittivity is the product of modulation amplitudes in space and time, which is $0.4 \\times 1 = 0.4$; and the phase offset is the sum of the phase offsets in space and time, which is $ 0 + 0 = 0$ rad."
   ]
  },
  {
   "cell_type": "code",
   "execution_count": 7,
   "id": "15f6bcfd-132e-4d78-9934-54579f49e27e",
   "metadata": {},
   "outputs": [],
   "source": [
    "modulation_spec = td.ModulationSpec(permittivity=modulation, conductivity=None)\n",
    "mat_modulated = td.Medium(permittivity=permittivity, modulation_spec=modulation_spec)\n"
   ]
  },
  {
   "cell_type": "markdown",
   "id": "c67af70f-ee9b-4cfb-a216-71f5073eb991",
   "metadata": {},
   "source": [
    "To summarize, the medium `mat_modulated` is under continuous wave modulation. The modulation is applied to permittivity uniformly in space. The relative permittivity, which takes the value \"2\" in its passive form, now varies between \"1.6\" and \"2.4\"."
   ]
  },
  {
   "cell_type": "markdown",
   "id": "141b5297-c9a9-472d-855e-d3080d71f8e3",
   "metadata": {},
   "source": [
    "## Create and Run Simulation\n",
    "\n",
    "Let's set up the rest of simulation in computing the transmission spectrum.\n",
    "\n",
    "First, we define the slab."
   ]
  },
  {
   "cell_type": "code",
   "execution_count": 8,
   "id": "ff653996-0277-4228-bf2c-1b25452c8594",
   "metadata": {},
   "outputs": [],
   "source": [
    "unmodulated_slab = td.Structure(\n",
    "    geometry=td.Box(\n",
    "        center=(0, 0, 0),\n",
    "        size=(td.inf, td.inf, t_slab),\n",
    "    ),\n",
    "    medium=mat_passive,\n",
    ")\n",
    "\n",
    "modulated_slab = unmodulated_slab.updated_copy(medium=mat_modulated)\n"
   ]
  },
  {
   "cell_type": "markdown",
   "id": "5bd26ba6-c63a-40ab-9c8d-2970a66bab21",
   "metadata": {},
   "source": [
    "Next, we define the excitation conditions . We will excite the slab using a normally incident (along z) planewave, polarized along the x direction."
   ]
  },
  {
   "cell_type": "code",
   "execution_count": 9,
   "id": "b64c9c57-c419-4c36-bd49-ee574453baf1",
   "metadata": {},
   "outputs": [],
   "source": [
    "# Here we define the planewave source, placed just in advance (towards negative z) of the slab\n",
    "source = td.PlaneWave(\n",
    "    source_time=td.GaussianPulse(freq0=freq0, fwidth=fwidth),\n",
    "    size=(td.inf, td.inf, 0),\n",
    "    center=(0, 0, -Lz / 2 + spacing),\n",
    "    direction=\"+\",\n",
    ")\n"
   ]
  },
  {
   "cell_type": "markdown",
   "id": "d8d5cd84-2fcd-430b-8e31-a1305993ed5c",
   "metadata": {},
   "source": [
    "Here we define the flux monitor, placed just past (towards positive z) of the slab."
   ]
  },
  {
   "cell_type": "code",
   "execution_count": 10,
   "id": "f1b45a91-c2bf-4c3f-915e-21390f547049",
   "metadata": {},
   "outputs": [],
   "source": [
    "# We are interested in measuring the transmitted flux, so we set it to be an oversized plane.\n",
    "# The monitor frequencies are set to span several sidebands.\n",
    "monitor_freqs = np.linspace(\n",
    "    freq0 - modulation_freq * 3, freq0 + modulation_freq * 3, 500\n",
    ")\n",
    "monitor = td.FluxMonitor(\n",
    "    center=(0, 0, Lz / 2 - spacing),\n",
    "    size=(td.inf, td.inf, 0),\n",
    "    freqs=monitor_freqs,\n",
    "    name=\"flux\",\n",
    ")\n"
   ]
  },
  {
   "cell_type": "markdown",
   "id": "0a9ae5e6-a4a1-4f09-8437-2dfefbc12f1e",
   "metadata": {},
   "source": [
    "Finally, let's define the simulation object.\n",
    "\n",
    "**Note** that in Tidy3D, by default the monitor data will be normalized against source spectrum. However, in many time modulation simulations, some of our monitor frequencies are way outside the source bandwidth, where the source spectrum is very close to 0. So it's a bad idea to use it to normalize. To obtain raw transmission data that are not normalized, here we set `normalize_index = None`. For more information about normalization, please refer to [here](https://docs.flexcompute.com/projects/tidy3d/en/latest/faq.html#how-are-results-normalized)."
   ]
  },
  {
   "cell_type": "code",
   "execution_count": 11,
   "id": "c7a46eea-9f68-4d15-bd43-a8d907f1bc93",
   "metadata": {},
   "outputs": [
    {
     "data": {
      "text/html": [
       "<pre style=\"white-space:pre;overflow-x:auto;line-height:normal;font-family:Menlo,'DejaVu Sans Mono',consolas,'Courier New',monospace\"><span style=\"color: #7fbfbf; text-decoration-color: #7fbfbf\">15:34:54 PDT </span><span style=\"color: #800000; text-decoration-color: #800000\">WARNING: monitors</span><span style=\"color: #800000; text-decoration-color: #800000; font-weight: bold\">[</span><span style=\"color: #008080; text-decoration-color: #008080; font-weight: bold\">0</span><span style=\"color: #800000; text-decoration-color: #800000; font-weight: bold\">]</span><span style=\"color: #800000; text-decoration-color: #800000\"> contains frequencies outside of the simulation</span>\n",
       "<span style=\"color: #7fbfbf; text-decoration-color: #7fbfbf\">             </span><span style=\"color: #800000; text-decoration-color: #800000\">frequency range </span><span style=\"color: #800000; text-decoration-color: #800000; font-weight: bold\">(</span><span style=\"color: #008080; text-decoration-color: #008080; font-weight: bold\">2.878008e+14</span><span style=\"color: #800000; text-decoration-color: #800000\">, </span><span style=\"color: #008080; text-decoration-color: #008080; font-weight: bold\">3.117842e+14</span><span style=\"color: #800000; text-decoration-color: #800000; font-weight: bold\">)(</span><span style=\"color: #800000; text-decoration-color: #800000\">Hz</span><span style=\"color: #800000; text-decoration-color: #800000; font-weight: bold\">)</span><span style=\"color: #800000; text-decoration-color: #800000\"> as defined by the </span>\n",
       "<span style=\"color: #7fbfbf; text-decoration-color: #7fbfbf\">             </span><span style=\"color: #800000; text-decoration-color: #800000\">sources.                                                           </span>\n",
       "</pre>\n"
      ],
      "text/plain": [
       "\u001b[2;36m15:34:54 PDT\u001b[0m\u001b[2;36m \u001b[0m\u001b[31mWARNING: monitors\u001b[0m\u001b[1;31m[\u001b[0m\u001b[1;36m0\u001b[0m\u001b[1;31m]\u001b[0m\u001b[31m contains frequencies outside of the simulation\u001b[0m\n",
       "\u001b[2;36m             \u001b[0m\u001b[31mfrequency range \u001b[0m\u001b[1;31m(\u001b[0m\u001b[1;36m2.878008e+14\u001b[0m\u001b[31m, \u001b[0m\u001b[1;36m3.117842e+14\u001b[0m\u001b[1;31m)\u001b[0m\u001b[1;31m(\u001b[0m\u001b[31mHz\u001b[0m\u001b[1;31m)\u001b[0m\u001b[31m as defined by the \u001b[0m\n",
       "\u001b[2;36m             \u001b[0m\u001b[31msources.                                                           \u001b[0m\n"
      ]
     },
     "metadata": {},
     "output_type": "display_data"
    },
    {
     "data": {
      "text/html": [
       "<pre style=\"white-space:pre;overflow-x:auto;line-height:normal;font-family:Menlo,'DejaVu Sans Mono',consolas,'Courier New',monospace\"><span style=\"color: #7fbfbf; text-decoration-color: #7fbfbf\">             </span><span style=\"color: #800000; text-decoration-color: #800000\">WARNING: monitors</span><span style=\"color: #800000; text-decoration-color: #800000; font-weight: bold\">[</span><span style=\"color: #008080; text-decoration-color: #008080; font-weight: bold\">0</span><span style=\"color: #800000; text-decoration-color: #800000; font-weight: bold\">]</span><span style=\"color: #800000; text-decoration-color: #800000\"> contains frequencies outside of the simulation</span>\n",
       "<span style=\"color: #7fbfbf; text-decoration-color: #7fbfbf\">             </span><span style=\"color: #800000; text-decoration-color: #800000\">frequency range </span><span style=\"color: #800000; text-decoration-color: #800000; font-weight: bold\">(</span><span style=\"color: #008080; text-decoration-color: #008080; font-weight: bold\">2.878008e+14</span><span style=\"color: #800000; text-decoration-color: #800000\">, </span><span style=\"color: #008080; text-decoration-color: #008080; font-weight: bold\">3.117842e+14</span><span style=\"color: #800000; text-decoration-color: #800000; font-weight: bold\">)(</span><span style=\"color: #800000; text-decoration-color: #800000\">Hz</span><span style=\"color: #800000; text-decoration-color: #800000; font-weight: bold\">)</span><span style=\"color: #800000; text-decoration-color: #800000\"> as defined by the </span>\n",
       "<span style=\"color: #7fbfbf; text-decoration-color: #7fbfbf\">             </span><span style=\"color: #800000; text-decoration-color: #800000\">sources.                                                           </span>\n",
       "</pre>\n"
      ],
      "text/plain": [
       "\u001b[2;36m            \u001b[0m\u001b[2;36m \u001b[0m\u001b[31mWARNING: monitors\u001b[0m\u001b[1;31m[\u001b[0m\u001b[1;36m0\u001b[0m\u001b[1;31m]\u001b[0m\u001b[31m contains frequencies outside of the simulation\u001b[0m\n",
       "\u001b[2;36m             \u001b[0m\u001b[31mfrequency range \u001b[0m\u001b[1;31m(\u001b[0m\u001b[1;36m2.878008e+14\u001b[0m\u001b[31m, \u001b[0m\u001b[1;36m3.117842e+14\u001b[0m\u001b[1;31m)\u001b[0m\u001b[1;31m(\u001b[0m\u001b[31mHz\u001b[0m\u001b[1;31m)\u001b[0m\u001b[31m as defined by the \u001b[0m\n",
       "\u001b[2;36m             \u001b[0m\u001b[31msources.                                                           \u001b[0m\n"
      ]
     },
     "metadata": {},
     "output_type": "display_data"
    }
   ],
   "source": [
    "sim_unmodulated = td.Simulation(\n",
    "    center=(0, 0, 0),\n",
    "    size=sim_size,\n",
    "    grid_spec=td.GridSpec.auto(min_steps_per_wvl=20),\n",
    "    structures=[unmodulated_slab],\n",
    "    sources=[source],\n",
    "    monitors=[monitor],\n",
    "    run_time=run_time,\n",
    "    boundary_spec=td.BoundarySpec.pml(x=False, y=False, z=True),\n",
    "    normalize_index=None,\n",
    ")\n",
    "\n",
    "sim_modulated = sim_unmodulated.updated_copy(structures=[modulated_slab])\n"
   ]
  },
  {
   "cell_type": "markdown",
   "id": "c42d3b2f-e89f-44df-a30b-22dc06439151",
   "metadata": {},
   "source": [
    "The warnings are just letting us know that the monitor contains frequencies outside the source bandwidth. This is on purpose. With active modulations, sidebands outside the source bandwidth will be generated. We can ignore them as this is intended."
   ]
  },
  {
   "cell_type": "markdown",
   "id": "cb6aff8f-7224-4b24-aa58-4c413fbd6209",
   "metadata": {},
   "source": [
    "### Visualize the structure"
   ]
  },
  {
   "cell_type": "markdown",
   "id": "b31c26ae-d5d5-4e37-a9c5-8e35364b7630",
   "metadata": {},
   "source": [
    "Let's now plot the structures to confirm that they are defined correctly. In the following figure, we compare the plot of the simulation for a passive slab to that of a modulated slab. As we can see in the plot in the right, the modulated part is marked differently.\n"
   ]
  },
  {
   "cell_type": "code",
   "execution_count": 12,
   "id": "3242524e-5847-4072-b208-a2d2853722be",
   "metadata": {},
   "outputs": [
    {
     "data": {
      "image/png": "[encoded data removed]",
      "text/plain": [
       "<Figure size 640x480 with 2 Axes>"
      ]
     },
     "metadata": {},
     "output_type": "display_data"
    }
   ],
   "source": [
    "fig, ax = plt.subplots(1, 2, tight_layout=True)\n",
    "sim_unmodulated.plot(x=0, ax=ax[0])\n",
    "ax[0].set_title(\"Passive slab\")\n",
    "\n",
    "sim_modulated.plot(x=0, ax=ax[1])\n",
    "ax[1].set_title(\"Modulated slab\")\n",
    "plt.show()\n"
   ]
  },
  {
   "cell_type": "markdown",
   "id": "c4bf955b-1ba0-41e1-8b4f-2c64d0aa284a",
   "metadata": {},
   "source": [
    "### Run the simulation"
   ]
  },
  {
   "cell_type": "code",
   "execution_count": 13,
   "id": "905894eb-e15e-490e-b481-1e8a3272d06b",
   "metadata": {
    "scrolled": true
   },
   "outputs": [
    {
     "data": {
      "text/html": [
       "<pre style=\"white-space:pre;overflow-x:auto;line-height:normal;font-family:Menlo,'DejaVu Sans Mono',consolas,'Courier New',monospace\"><span style=\"color: #7fbfbf; text-decoration-color: #7fbfbf\">             </span>Created task <span style=\"color: #008000; text-decoration-color: #008000\">'unmodulated'</span> with task_id                            \n",
       "<span style=\"color: #7fbfbf; text-decoration-color: #7fbfbf\">             </span><span style=\"color: #008000; text-decoration-color: #008000\">'fdve-9aec2409-f357-4f04-bd69-4eed3ff94767v1'</span> and task_type <span style=\"color: #008000; text-decoration-color: #008000\">'FDTD'</span>.\n",
       "</pre>\n"
      ],
      "text/plain": [
       "\u001b[2;36m            \u001b[0m\u001b[2;36m \u001b[0mCreated task \u001b[32m'unmodulated'\u001b[0m with task_id                            \n",
       "\u001b[2;36m             \u001b[0m\u001b[32m'fdve-9aec2409-f357-4f04-bd69-4eed3ff94767v1'\u001b[0m and task_type \u001b[32m'FDTD'\u001b[0m.\n"
      ]
     },
     "metadata": {},
     "output_type": "display_data"
    },
    {
     "data": {
      "text/html": [
       "<pre style=\"white-space:pre;overflow-x:auto;line-height:normal;font-family:Menlo,'DejaVu Sans Mono',consolas,'Courier New',monospace\"><span style=\"color: #7fbfbf; text-decoration-color: #7fbfbf\">             </span>View task using web UI at                                          \n",
       "<span style=\"color: #7fbfbf; text-decoration-color: #7fbfbf\">             </span><a href=\"https://tidy3d.simulation.cloud/workbench?taskId=fdve-9aec2409-f357-4f04-bd69-4eed3ff94767v1\" target=\"_blank\"><span style=\"color: #008000; text-decoration-color: #008000\">'https://tidy3d.simulation.cloud/workbench?taskId=fdve-9aec2409-f35</span></a>\n",
       "<span style=\"color: #7fbfbf; text-decoration-color: #7fbfbf\">             </span><a href=\"https://tidy3d.simulation.cloud/workbench?taskId=fdve-9aec2409-f357-4f04-bd69-4eed3ff94767v1\" target=\"_blank\"><span style=\"color: #008000; text-decoration-color: #008000\">7-4f04-bd69-4eed3ff94767v1'</span></a>.                                       \n",
       "</pre>\n"
      ],
      "text/plain": [
       "\u001b[2;36m            \u001b[0m\u001b[2;36m \u001b[0mView task using web UI at                                          \n",
       "\u001b[2;36m             \u001b[0m\u001b]8;id=503939;https://tidy3d.simulation.cloud/workbench?taskId=fdve-9aec2409-f357-4f04-bd69-4eed3ff94767v1\u001b\\\u001b[32m'https://tidy3d.simulation.cloud/workbench?\u001b[0m\u001b]8;;\u001b\\\u001b]8;id=928814;https://tidy3d.simulation.cloud/workbench?taskId=fdve-9aec2409-f357-4f04-bd69-4eed3ff94767v1\u001b\\\u001b[32mtaskId\u001b[0m\u001b]8;;\u001b\\\u001b]8;id=503939;https://tidy3d.simulation.cloud/workbench?taskId=fdve-9aec2409-f357-4f04-bd69-4eed3ff94767v1\u001b\\\u001b[32m=\u001b[0m\u001b]8;;\u001b\\\u001b]8;id=855657;https://tidy3d.simulation.cloud/workbench?taskId=fdve-9aec2409-f357-4f04-bd69-4eed3ff94767v1\u001b\\\u001b[32mfdve\u001b[0m\u001b]8;;\u001b\\\u001b]8;id=503939;https://tidy3d.simulation.cloud/workbench?taskId=fdve-9aec2409-f357-4f04-bd69-4eed3ff94767v1\u001b\\\u001b[32m-9aec2409-f35\u001b[0m\u001b]8;;\u001b\\\n",
       "\u001b[2;36m             \u001b[0m\u001b]8;id=503939;https://tidy3d.simulation.cloud/workbench?taskId=fdve-9aec2409-f357-4f04-bd69-4eed3ff94767v1\u001b\\\u001b[32m7-4f04-bd69-4eed3ff94767v1'\u001b[0m\u001b]8;;\u001b\\.                                       \n"
      ]
     },
     "metadata": {},
     "output_type": "display_data"
    },
    {
     "data": {
      "application/vnd.jupyter.widget-view+json": {
       "model_id": "f1db95c40e5b4a02ae2b7be3987111e0",
       "version_major": 2,
       "version_minor": 0
      },
      "text/plain": [
       "Output()"
      ]
     },
     "metadata": {},
     "output_type": "display_data"
    },
    {
     "data": {
      "text/html": [
       "<pre style=\"white-space:pre;overflow-x:auto;line-height:normal;font-family:Menlo,'DejaVu Sans Mono',consolas,'Courier New',monospace\"></pre>\n"
      ],
      "text/plain": []
     },
     "metadata": {},
     "output_type": "display_data"
    },
    {
     "data": {
      "text/html": [
       "<pre style=\"white-space:pre;overflow-x:auto;line-height:normal;font-family:Menlo,'DejaVu Sans Mono',consolas,'Courier New',monospace\">\n",
       "</pre>\n"
      ],
      "text/plain": [
       "\n"
      ]
     },
     "metadata": {},
     "output_type": "display_data"
    },
    {
     "data": {
      "text/html": [
       "<pre style=\"white-space:pre;overflow-x:auto;line-height:normal;font-family:Menlo,'DejaVu Sans Mono',consolas,'Courier New',monospace\"><span style=\"color: #7fbfbf; text-decoration-color: #7fbfbf\">15:34:56 PDT </span>status = queued                                                    \n",
       "</pre>\n"
      ],
      "text/plain": [
       "\u001b[2;36m15:34:56 PDT\u001b[0m\u001b[2;36m \u001b[0mstatus = queued                                                    \n"
      ]
     },
     "metadata": {},
     "output_type": "display_data"
    },
    {
     "data": {
      "application/vnd.jupyter.widget-view+json": {
       "model_id": "",
       "version_major": 2,
       "version_minor": 0
      },
      "text/plain": [
       "Output()"
      ]
     },
     "metadata": {},
     "output_type": "display_data"
    },
    {
     "data": {
      "text/html": [
       "<pre style=\"white-space:pre;overflow-x:auto;line-height:normal;font-family:Menlo,'DejaVu Sans Mono',consolas,'Courier New',monospace\"><span style=\"color: #7fbfbf; text-decoration-color: #7fbfbf\">15:35:05 PDT </span>status = preprocess                                                \n",
       "</pre>\n"
      ],
      "text/plain": [
       "\u001b[2;36m15:35:05 PDT\u001b[0m\u001b[2;36m \u001b[0mstatus = preprocess                                                \n"
      ]
     },
     "metadata": {},
     "output_type": "display_data"
    },
    {
     "data": {
      "text/html": [
       "<pre style=\"white-space:pre;overflow-x:auto;line-height:normal;font-family:Menlo,'DejaVu Sans Mono',consolas,'Courier New',monospace\"></pre>\n"
      ],
      "text/plain": []
     },
     "metadata": {},
     "output_type": "display_data"
    },
    {
     "data": {
      "text/html": [
       "<pre style=\"white-space:pre;overflow-x:auto;line-height:normal;font-family:Menlo,'DejaVu Sans Mono',consolas,'Courier New',monospace\"><span style=\"color: #7fbfbf; text-decoration-color: #7fbfbf\">15:35:12 PDT </span>Maximum FlexCredit cost: <span style=\"color: #008080; text-decoration-color: #008080; font-weight: bold\">0.025</span>. Use <span style=\"color: #008000; text-decoration-color: #008000\">'web.real_cost(task_id)'</span> to get\n",
       "<span style=\"color: #7fbfbf; text-decoration-color: #7fbfbf\">             </span>the billed FlexCredit cost after a simulation run.                 \n",
       "</pre>\n"
      ],
      "text/plain": [
       "\u001b[2;36m15:35:12 PDT\u001b[0m\u001b[2;36m \u001b[0mMaximum FlexCredit cost: \u001b[1;36m0.025\u001b[0m. Use \u001b[32m'web.real_cost\u001b[0m\u001b[32m(\u001b[0m\u001b[32mtask_id\u001b[0m\u001b[32m)\u001b[0m\u001b[32m'\u001b[0m to get\n",
       "\u001b[2;36m             \u001b[0mthe billed FlexCredit cost after a simulation run.                 \n"
      ]
     },
     "metadata": {},
     "output_type": "display_data"
    },
    {
     "data": {
      "text/html": [
       "<pre style=\"white-space:pre;overflow-x:auto;line-height:normal;font-family:Menlo,'DejaVu Sans Mono',consolas,'Courier New',monospace\"><span style=\"color: #7fbfbf; text-decoration-color: #7fbfbf\">             </span>starting up solver                                                 \n",
       "</pre>\n"
      ],
      "text/plain": [
       "\u001b[2;36m            \u001b[0m\u001b[2;36m \u001b[0mstarting up solver                                                 \n"
      ]
     },
     "metadata": {},
     "output_type": "display_data"
    },
    {
     "data": {
      "text/html": [
       "<pre style=\"white-space:pre;overflow-x:auto;line-height:normal;font-family:Menlo,'DejaVu Sans Mono',consolas,'Courier New',monospace\"><span style=\"color: #7fbfbf; text-decoration-color: #7fbfbf\">             </span>running solver                                                     \n",
       "</pre>\n"
      ],
      "text/plain": [
       "\u001b[2;36m            \u001b[0m\u001b[2;36m \u001b[0mrunning solver                                                     \n"
      ]
     },
     "metadata": {},
     "output_type": "display_data"
    },
    {
     "data": {
      "text/html": [
       "<pre style=\"white-space:pre;overflow-x:auto;line-height:normal;font-family:Menlo,'DejaVu Sans Mono',consolas,'Courier New',monospace\"><span style=\"color: #7fbfbf; text-decoration-color: #7fbfbf\">             </span>To cancel the simulation, use <span style=\"color: #008000; text-decoration-color: #008000\">'web.abort(task_id)'</span> or              \n",
       "<span style=\"color: #7fbfbf; text-decoration-color: #7fbfbf\">             </span><span style=\"color: #008000; text-decoration-color: #008000\">'web.delete(task_id)'</span> or abort/delete the task in the web UI.      \n",
       "<span style=\"color: #7fbfbf; text-decoration-color: #7fbfbf\">             </span>Terminating the Python script will not stop the job running on the \n",
       "<span style=\"color: #7fbfbf; text-decoration-color: #7fbfbf\">             </span>cloud.                                                             \n",
       "</pre>\n"
      ],
      "text/plain": [
       "\u001b[2;36m            \u001b[0m\u001b[2;36m \u001b[0mTo cancel the simulation, use \u001b[32m'web.abort\u001b[0m\u001b[32m(\u001b[0m\u001b[32mtask_id\u001b[0m\u001b[32m)\u001b[0m\u001b[32m'\u001b[0m or              \n",
       "\u001b[2;36m             \u001b[0m\u001b[32m'web.delete\u001b[0m\u001b[32m(\u001b[0m\u001b[32mtask_id\u001b[0m\u001b[32m)\u001b[0m\u001b[32m'\u001b[0m or abort/delete the task in the web UI.      \n",
       "\u001b[2;36m             \u001b[0mTerminating the Python script will not stop the job running on the \n",
       "\u001b[2;36m             \u001b[0mcloud.                                                             \n"
      ]
     },
     "metadata": {},
     "output_type": "display_data"
    },
    {
     "data": {
      "application/vnd.jupyter.widget-view+json": {
       "model_id": "3b9342fb1dd4451885eb0fe3a8afe600",
       "version_major": 2,
       "version_minor": 0
      },
      "text/plain": [
       "Output()"
      ]
     },
     "metadata": {},
     "output_type": "display_data"
    },
    {
     "data": {
      "text/html": [
       "<pre style=\"white-space:pre;overflow-x:auto;line-height:normal;font-family:Menlo,'DejaVu Sans Mono',consolas,'Courier New',monospace\"><span style=\"color: #7fbfbf; text-decoration-color: #7fbfbf\">15:35:19 PDT </span>early shutoff detected at <span style=\"color: #008080; text-decoration-color: #008080; font-weight: bold\">16</span>%, exiting.                            \n",
       "</pre>\n"
      ],
      "text/plain": [
       "\u001b[2;36m15:35:19 PDT\u001b[0m\u001b[2;36m \u001b[0mearly shutoff detected at \u001b[1;36m16\u001b[0m%, exiting.                            \n"
      ]
     },
     "metadata": {},
     "output_type": "display_data"
    },
    {
     "data": {
      "text/html": [
       "<pre style=\"white-space:pre;overflow-x:auto;line-height:normal;font-family:Menlo,'DejaVu Sans Mono',consolas,'Courier New',monospace\"></pre>\n"
      ],
      "text/plain": []
     },
     "metadata": {},
     "output_type": "display_data"
    },
    {
     "data": {
      "text/html": [
       "<pre style=\"white-space:pre;overflow-x:auto;line-height:normal;font-family:Menlo,'DejaVu Sans Mono',consolas,'Courier New',monospace\">\n",
       "</pre>\n"
      ],
      "text/plain": [
       "\n"
      ]
     },
     "metadata": {},
     "output_type": "display_data"
    },
    {
     "data": {
      "text/html": [
       "<pre style=\"white-space:pre;overflow-x:auto;line-height:normal;font-family:Menlo,'DejaVu Sans Mono',consolas,'Courier New',monospace\"><span style=\"color: #7fbfbf; text-decoration-color: #7fbfbf\">             </span>status = postprocess                                               \n",
       "</pre>\n"
      ],
      "text/plain": [
       "\u001b[2;36m            \u001b[0m\u001b[2;36m \u001b[0mstatus = postprocess                                               \n"
      ]
     },
     "metadata": {},
     "output_type": "display_data"
    },
    {
     "data": {
      "application/vnd.jupyter.widget-view+json": {
       "model_id": "",
       "version_major": 2,
       "version_minor": 0
      },
      "text/plain": [
       "Output()"
      ]
     },
     "metadata": {},
     "output_type": "display_data"
    },
    {
     "data": {
      "text/html": [
       "<pre style=\"white-space:pre;overflow-x:auto;line-height:normal;font-family:Menlo,'DejaVu Sans Mono',consolas,'Courier New',monospace\"><span style=\"color: #7fbfbf; text-decoration-color: #7fbfbf\">15:35:23 PDT </span>status = success                                                   \n",
       "</pre>\n"
      ],
      "text/plain": [
       "\u001b[2;36m15:35:23 PDT\u001b[0m\u001b[2;36m \u001b[0mstatus = success                                                   \n"
      ]
     },
     "metadata": {},
     "output_type": "display_data"
    },
    {
     "data": {
      "text/html": [
       "<pre style=\"white-space:pre;overflow-x:auto;line-height:normal;font-family:Menlo,'DejaVu Sans Mono',consolas,'Courier New',monospace\"></pre>\n"
      ],
      "text/plain": []
     },
     "metadata": {},
     "output_type": "display_data"
    },
    {
     "data": {
      "text/html": [
       "<pre style=\"white-space:pre;overflow-x:auto;line-height:normal;font-family:Menlo,'DejaVu Sans Mono',consolas,'Courier New',monospace\"><span style=\"color: #7fbfbf; text-decoration-color: #7fbfbf\">             </span>View simulation result at                                          \n",
       "<span style=\"color: #7fbfbf; text-decoration-color: #7fbfbf\">             </span><a href=\"https://tidy3d.simulation.cloud/workbench?taskId=fdve-9aec2409-f357-4f04-bd69-4eed3ff94767v1\" target=\"_blank\"><span style=\"color: #000080; text-decoration-color: #000080; text-decoration: underline\">'https://tidy3d.simulation.cloud/workbench?taskId=fdve-9aec2409-f35</span></a>\n",
       "<span style=\"color: #7fbfbf; text-decoration-color: #7fbfbf\">             </span><a href=\"https://tidy3d.simulation.cloud/workbench?taskId=fdve-9aec2409-f357-4f04-bd69-4eed3ff94767v1\" target=\"_blank\"><span style=\"color: #000080; text-decoration-color: #000080; text-decoration: underline\">7-4f04-bd69-4eed3ff94767v1'</span></a><span style=\"color: #000080; text-decoration-color: #000080; text-decoration: underline\">.</span>                                       \n",
       "</pre>\n"
      ],
      "text/plain": [
       "\u001b[2;36m            \u001b[0m\u001b[2;36m \u001b[0mView simulation result at                                          \n",
       "\u001b[2;36m             \u001b[0m\u001b]8;id=127825;https://tidy3d.simulation.cloud/workbench?taskId=fdve-9aec2409-f357-4f04-bd69-4eed3ff94767v1\u001b\\\u001b[4;34m'https://tidy3d.simulation.cloud/workbench?\u001b[0m\u001b]8;;\u001b\\\u001b]8;id=54272;https://tidy3d.simulation.cloud/workbench?taskId=fdve-9aec2409-f357-4f04-bd69-4eed3ff94767v1\u001b\\\u001b[4;34mtaskId\u001b[0m\u001b]8;;\u001b\\\u001b]8;id=127825;https://tidy3d.simulation.cloud/workbench?taskId=fdve-9aec2409-f357-4f04-bd69-4eed3ff94767v1\u001b\\\u001b[4;34m=\u001b[0m\u001b]8;;\u001b\\\u001b]8;id=760282;https://tidy3d.simulation.cloud/workbench?taskId=fdve-9aec2409-f357-4f04-bd69-4eed3ff94767v1\u001b\\\u001b[4;34mfdve\u001b[0m\u001b]8;;\u001b\\\u001b]8;id=127825;https://tidy3d.simulation.cloud/workbench?taskId=fdve-9aec2409-f357-4f04-bd69-4eed3ff94767v1\u001b\\\u001b[4;34m-9aec2409-f35\u001b[0m\u001b]8;;\u001b\\\n",
       "\u001b[2;36m             \u001b[0m\u001b]8;id=127825;https://tidy3d.simulation.cloud/workbench?taskId=fdve-9aec2409-f357-4f04-bd69-4eed3ff94767v1\u001b\\\u001b[4;34m7-4f04-bd69-4eed3ff94767v1'\u001b[0m\u001b]8;;\u001b\\\u001b[4;34m.\u001b[0m                                       \n"
      ]
     },
     "metadata": {},
     "output_type": "display_data"
    },
    {
     "data": {
      "application/vnd.jupyter.widget-view+json": {
       "model_id": "b6c36d8b047a4a89b98bcc4911946d4e",
       "version_major": 2,
       "version_minor": 0
      },
      "text/plain": [
       "Output()"
      ]
     },
     "metadata": {},
     "output_type": "display_data"
    },
    {
     "data": {
      "text/html": [
       "<pre style=\"white-space:pre;overflow-x:auto;line-height:normal;font-family:Menlo,'DejaVu Sans Mono',consolas,'Courier New',monospace\"></pre>\n"
      ],
      "text/plain": []
     },
     "metadata": {},
     "output_type": "display_data"
    },
    {
     "data": {
      "text/html": [
       "<pre style=\"white-space:pre;overflow-x:auto;line-height:normal;font-family:Menlo,'DejaVu Sans Mono',consolas,'Courier New',monospace\">\n",
       "</pre>\n"
      ],
      "text/plain": [
       "\n"
      ]
     },
     "metadata": {},
     "output_type": "display_data"
    },
    {
     "data": {
      "text/html": [
       "<pre style=\"white-space:pre;overflow-x:auto;line-height:normal;font-family:Menlo,'DejaVu Sans Mono',consolas,'Courier New',monospace\"><span style=\"color: #7fbfbf; text-decoration-color: #7fbfbf\">15:35:24 PDT </span>loading simulation from simulation_data.hdf5                       \n",
       "</pre>\n"
      ],
      "text/plain": [
       "\u001b[2;36m15:35:24 PDT\u001b[0m\u001b[2;36m \u001b[0mloading simulation from simulation_data.hdf5                       \n"
      ]
     },
     "metadata": {},
     "output_type": "display_data"
    },
    {
     "data": {
      "text/html": [
       "<pre style=\"white-space:pre;overflow-x:auto;line-height:normal;font-family:Menlo,'DejaVu Sans Mono',consolas,'Courier New',monospace\"><span style=\"color: #7fbfbf; text-decoration-color: #7fbfbf\">             </span><span style=\"color: #800000; text-decoration-color: #800000\">WARNING: monitors</span><span style=\"color: #800000; text-decoration-color: #800000; font-weight: bold\">[</span><span style=\"color: #008080; text-decoration-color: #008080; font-weight: bold\">0</span><span style=\"color: #800000; text-decoration-color: #800000; font-weight: bold\">]</span><span style=\"color: #800000; text-decoration-color: #800000\"> contains frequencies outside of the simulation</span>\n",
       "<span style=\"color: #7fbfbf; text-decoration-color: #7fbfbf\">             </span><span style=\"color: #800000; text-decoration-color: #800000\">frequency range </span><span style=\"color: #800000; text-decoration-color: #800000; font-weight: bold\">(</span><span style=\"color: #008080; text-decoration-color: #008080; font-weight: bold\">2.878008e+14</span><span style=\"color: #800000; text-decoration-color: #800000\">, </span><span style=\"color: #008080; text-decoration-color: #008080; font-weight: bold\">3.117842e+14</span><span style=\"color: #800000; text-decoration-color: #800000; font-weight: bold\">)(</span><span style=\"color: #800000; text-decoration-color: #800000\">Hz</span><span style=\"color: #800000; text-decoration-color: #800000; font-weight: bold\">)</span><span style=\"color: #800000; text-decoration-color: #800000\"> as defined by the </span>\n",
       "<span style=\"color: #7fbfbf; text-decoration-color: #7fbfbf\">             </span><span style=\"color: #800000; text-decoration-color: #800000\">sources.                                                           </span>\n",
       "</pre>\n"
      ],
      "text/plain": [
       "\u001b[2;36m            \u001b[0m\u001b[2;36m \u001b[0m\u001b[31mWARNING: monitors\u001b[0m\u001b[1;31m[\u001b[0m\u001b[1;36m0\u001b[0m\u001b[1;31m]\u001b[0m\u001b[31m contains frequencies outside of the simulation\u001b[0m\n",
       "\u001b[2;36m             \u001b[0m\u001b[31mfrequency range \u001b[0m\u001b[1;31m(\u001b[0m\u001b[1;36m2.878008e+14\u001b[0m\u001b[31m, \u001b[0m\u001b[1;36m3.117842e+14\u001b[0m\u001b[1;31m)\u001b[0m\u001b[1;31m(\u001b[0m\u001b[31mHz\u001b[0m\u001b[1;31m)\u001b[0m\u001b[31m as defined by the \u001b[0m\n",
       "\u001b[2;36m             \u001b[0m\u001b[31msources.                                                           \u001b[0m\n"
      ]
     },
     "metadata": {},
     "output_type": "display_data"
    },
    {
     "data": {
      "text/html": [
       "<pre style=\"white-space:pre;overflow-x:auto;line-height:normal;font-family:Menlo,'DejaVu Sans Mono',consolas,'Courier New',monospace\"><span style=\"color: #7fbfbf; text-decoration-color: #7fbfbf\">             </span>Created task <span style=\"color: #008000; text-decoration-color: #008000\">'modulated'</span> with task_id                              \n",
       "<span style=\"color: #7fbfbf; text-decoration-color: #7fbfbf\">             </span><span style=\"color: #008000; text-decoration-color: #008000\">'fdve-a0b394b0-5bb4-4314-adbc-007c20c63855v1'</span> and task_type <span style=\"color: #008000; text-decoration-color: #008000\">'FDTD'</span>.\n",
       "</pre>\n"
      ],
      "text/plain": [
       "\u001b[2;36m            \u001b[0m\u001b[2;36m \u001b[0mCreated task \u001b[32m'modulated'\u001b[0m with task_id                              \n",
       "\u001b[2;36m             \u001b[0m\u001b[32m'fdve-a0b394b0-5bb4-4314-adbc-007c20c63855v1'\u001b[0m and task_type \u001b[32m'FDTD'\u001b[0m.\n"
      ]
     },
     "metadata": {},
     "output_type": "display_data"
    },
    {
     "data": {
      "text/html": [
       "<pre style=\"white-space:pre;overflow-x:auto;line-height:normal;font-family:Menlo,'DejaVu Sans Mono',consolas,'Courier New',monospace\"><span style=\"color: #7fbfbf; text-decoration-color: #7fbfbf\">             </span>View task using web UI at                                          \n",
       "<span style=\"color: #7fbfbf; text-decoration-color: #7fbfbf\">             </span><a href=\"https://tidy3d.simulation.cloud/workbench?taskId=fdve-a0b394b0-5bb4-4314-adbc-007c20c63855v1\" target=\"_blank\"><span style=\"color: #008000; text-decoration-color: #008000\">'https://tidy3d.simulation.cloud/workbench?taskId=fdve-a0b394b0-5bb</span></a>\n",
       "<span style=\"color: #7fbfbf; text-decoration-color: #7fbfbf\">             </span><a href=\"https://tidy3d.simulation.cloud/workbench?taskId=fdve-a0b394b0-5bb4-4314-adbc-007c20c63855v1\" target=\"_blank\"><span style=\"color: #008000; text-decoration-color: #008000\">4-4314-adbc-007c20c63855v1'</span></a>.                                       \n",
       "</pre>\n"
      ],
      "text/plain": [
       "\u001b[2;36m            \u001b[0m\u001b[2;36m \u001b[0mView task using web UI at                                          \n",
       "\u001b[2;36m             \u001b[0m\u001b]8;id=625663;https://tidy3d.simulation.cloud/workbench?taskId=fdve-a0b394b0-5bb4-4314-adbc-007c20c63855v1\u001b\\\u001b[32m'https://tidy3d.simulation.cloud/workbench?\u001b[0m\u001b]8;;\u001b\\\u001b]8;id=384394;https://tidy3d.simulation.cloud/workbench?taskId=fdve-a0b394b0-5bb4-4314-adbc-007c20c63855v1\u001b\\\u001b[32mtaskId\u001b[0m\u001b]8;;\u001b\\\u001b]8;id=625663;https://tidy3d.simulation.cloud/workbench?taskId=fdve-a0b394b0-5bb4-4314-adbc-007c20c63855v1\u001b\\\u001b[32m=\u001b[0m\u001b]8;;\u001b\\\u001b]8;id=87714;https://tidy3d.simulation.cloud/workbench?taskId=fdve-a0b394b0-5bb4-4314-adbc-007c20c63855v1\u001b\\\u001b[32mfdve\u001b[0m\u001b]8;;\u001b\\\u001b]8;id=625663;https://tidy3d.simulation.cloud/workbench?taskId=fdve-a0b394b0-5bb4-4314-adbc-007c20c63855v1\u001b\\\u001b[32m-a0b394b0-5bb\u001b[0m\u001b]8;;\u001b\\\n",
       "\u001b[2;36m             \u001b[0m\u001b]8;id=625663;https://tidy3d.simulation.cloud/workbench?taskId=fdve-a0b394b0-5bb4-4314-adbc-007c20c63855v1\u001b\\\u001b[32m4-4314-adbc-007c20c63855v1'\u001b[0m\u001b]8;;\u001b\\.                                       \n"
      ]
     },
     "metadata": {},
     "output_type": "display_data"
    },
    {
     "data": {
      "application/vnd.jupyter.widget-view+json": {
       "model_id": "c070bdbca41d47849e3d3fb883d5dff0",
       "version_major": 2,
       "version_minor": 0
      },
      "text/plain": [
       "Output()"
      ]
     },
     "metadata": {},
     "output_type": "display_data"
    },
    {
     "data": {
      "text/html": [
       "<pre style=\"white-space:pre;overflow-x:auto;line-height:normal;font-family:Menlo,'DejaVu Sans Mono',consolas,'Courier New',monospace\"></pre>\n"
      ],
      "text/plain": []
     },
     "metadata": {},
     "output_type": "display_data"
    },
    {
     "data": {
      "text/html": [
       "<pre style=\"white-space:pre;overflow-x:auto;line-height:normal;font-family:Menlo,'DejaVu Sans Mono',consolas,'Courier New',monospace\">\n",
       "</pre>\n"
      ],
      "text/plain": [
       "\n"
      ]
     },
     "metadata": {},
     "output_type": "display_data"
    },
    {
     "data": {
      "text/html": [
       "<pre style=\"white-space:pre;overflow-x:auto;line-height:normal;font-family:Menlo,'DejaVu Sans Mono',consolas,'Courier New',monospace\"><span style=\"color: #7fbfbf; text-decoration-color: #7fbfbf\">15:35:25 PDT </span>status = queued                                                    \n",
       "</pre>\n"
      ],
      "text/plain": [
       "\u001b[2;36m15:35:25 PDT\u001b[0m\u001b[2;36m \u001b[0mstatus = queued                                                    \n"
      ]
     },
     "metadata": {},
     "output_type": "display_data"
    },
    {
     "data": {
      "application/vnd.jupyter.widget-view+json": {
       "model_id": "",
       "version_major": 2,
       "version_minor": 0
      },
      "text/plain": [
       "Output()"
      ]
     },
     "metadata": {},
     "output_type": "display_data"
    },
    {
     "data": {
      "text/html": [
       "<pre style=\"white-space:pre;overflow-x:auto;line-height:normal;font-family:Menlo,'DejaVu Sans Mono',consolas,'Courier New',monospace\"><span style=\"color: #7fbfbf; text-decoration-color: #7fbfbf\">15:35:34 PDT </span>status = preprocess                                                \n",
       "</pre>\n"
      ],
      "text/plain": [
       "\u001b[2;36m15:35:34 PDT\u001b[0m\u001b[2;36m \u001b[0mstatus = preprocess                                                \n"
      ]
     },
     "metadata": {},
     "output_type": "display_data"
    },
    {
     "data": {
      "text/html": [
       "<pre style=\"white-space:pre;overflow-x:auto;line-height:normal;font-family:Menlo,'DejaVu Sans Mono',consolas,'Courier New',monospace\"></pre>\n"
      ],
      "text/plain": []
     },
     "metadata": {},
     "output_type": "display_data"
    },
    {
     "data": {
      "text/html": [
       "<pre style=\"white-space:pre;overflow-x:auto;line-height:normal;font-family:Menlo,'DejaVu Sans Mono',consolas,'Courier New',monospace\"><span style=\"color: #7fbfbf; text-decoration-color: #7fbfbf\">15:35:40 PDT </span>Maximum FlexCredit cost: <span style=\"color: #008080; text-decoration-color: #008080; font-weight: bold\">0.025</span>. Use <span style=\"color: #008000; text-decoration-color: #008000\">'web.real_cost(task_id)'</span> to get\n",
       "<span style=\"color: #7fbfbf; text-decoration-color: #7fbfbf\">             </span>the billed FlexCredit cost after a simulation run.                 \n",
       "</pre>\n"
      ],
      "text/plain": [
       "\u001b[2;36m15:35:40 PDT\u001b[0m\u001b[2;36m \u001b[0mMaximum FlexCredit cost: \u001b[1;36m0.025\u001b[0m. Use \u001b[32m'web.real_cost\u001b[0m\u001b[32m(\u001b[0m\u001b[32mtask_id\u001b[0m\u001b[32m)\u001b[0m\u001b[32m'\u001b[0m to get\n",
       "\u001b[2;36m             \u001b[0mthe billed FlexCredit cost after a simulation run.                 \n"
      ]
     },
     "metadata": {},
     "output_type": "display_data"
    },
    {
     "data": {
      "text/html": [
       "<pre style=\"white-space:pre;overflow-x:auto;line-height:normal;font-family:Menlo,'DejaVu Sans Mono',consolas,'Courier New',monospace\"><span style=\"color: #7fbfbf; text-decoration-color: #7fbfbf\">             </span>starting up solver                                                 \n",
       "</pre>\n"
      ],
      "text/plain": [
       "\u001b[2;36m            \u001b[0m\u001b[2;36m \u001b[0mstarting up solver                                                 \n"
      ]
     },
     "metadata": {},
     "output_type": "display_data"
    },
    {
     "data": {
      "text/html": [
       "<pre style=\"white-space:pre;overflow-x:auto;line-height:normal;font-family:Menlo,'DejaVu Sans Mono',consolas,'Courier New',monospace\"><span style=\"color: #7fbfbf; text-decoration-color: #7fbfbf\">             </span>running solver                                                     \n",
       "</pre>\n"
      ],
      "text/plain": [
       "\u001b[2;36m            \u001b[0m\u001b[2;36m \u001b[0mrunning solver                                                     \n"
      ]
     },
     "metadata": {},
     "output_type": "display_data"
    },
    {
     "data": {
      "text/html": [
       "<pre style=\"white-space:pre;overflow-x:auto;line-height:normal;font-family:Menlo,'DejaVu Sans Mono',consolas,'Courier New',monospace\"><span style=\"color: #7fbfbf; text-decoration-color: #7fbfbf\">             </span>To cancel the simulation, use <span style=\"color: #008000; text-decoration-color: #008000\">'web.abort(task_id)'</span> or              \n",
       "<span style=\"color: #7fbfbf; text-decoration-color: #7fbfbf\">             </span><span style=\"color: #008000; text-decoration-color: #008000\">'web.delete(task_id)'</span> or abort/delete the task in the web UI.      \n",
       "<span style=\"color: #7fbfbf; text-decoration-color: #7fbfbf\">             </span>Terminating the Python script will not stop the job running on the \n",
       "<span style=\"color: #7fbfbf; text-decoration-color: #7fbfbf\">             </span>cloud.                                                             \n",
       "</pre>\n"
      ],
      "text/plain": [
       "\u001b[2;36m            \u001b[0m\u001b[2;36m \u001b[0mTo cancel the simulation, use \u001b[32m'web.abort\u001b[0m\u001b[32m(\u001b[0m\u001b[32mtask_id\u001b[0m\u001b[32m)\u001b[0m\u001b[32m'\u001b[0m or              \n",
       "\u001b[2;36m             \u001b[0m\u001b[32m'web.delete\u001b[0m\u001b[32m(\u001b[0m\u001b[32mtask_id\u001b[0m\u001b[32m)\u001b[0m\u001b[32m'\u001b[0m or abort/delete the task in the web UI.      \n",
       "\u001b[2;36m             \u001b[0mTerminating the Python script will not stop the job running on the \n",
       "\u001b[2;36m             \u001b[0mcloud.                                                             \n"
      ]
     },
     "metadata": {},
     "output_type": "display_data"
    },
    {
     "data": {
      "application/vnd.jupyter.widget-view+json": {
       "model_id": "cebb4ab47e8b436ca09162308301835b",
       "version_major": 2,
       "version_minor": 0
      },
      "text/plain": [
       "Output()"
      ]
     },
     "metadata": {},
     "output_type": "display_data"
    },
    {
     "data": {
      "text/html": [
       "<pre style=\"white-space:pre;overflow-x:auto;line-height:normal;font-family:Menlo,'DejaVu Sans Mono',consolas,'Courier New',monospace\"><span style=\"color: #7fbfbf; text-decoration-color: #7fbfbf\">15:35:48 PDT </span>early shutoff detected at <span style=\"color: #008080; text-decoration-color: #008080; font-weight: bold\">16</span>%, exiting.                            \n",
       "</pre>\n"
      ],
      "text/plain": [
       "\u001b[2;36m15:35:48 PDT\u001b[0m\u001b[2;36m \u001b[0mearly shutoff detected at \u001b[1;36m16\u001b[0m%, exiting.                            \n"
      ]
     },
     "metadata": {},
     "output_type": "display_data"
    },
    {
     "data": {
      "text/html": [
       "<pre style=\"white-space:pre;overflow-x:auto;line-height:normal;font-family:Menlo,'DejaVu Sans Mono',consolas,'Courier New',monospace\"></pre>\n"
      ],
      "text/plain": []
     },
     "metadata": {},
     "output_type": "display_data"
    },
    {
     "data": {
      "text/html": [
       "<pre style=\"white-space:pre;overflow-x:auto;line-height:normal;font-family:Menlo,'DejaVu Sans Mono',consolas,'Courier New',monospace\">\n",
       "</pre>\n"
      ],
      "text/plain": [
       "\n"
      ]
     },
     "metadata": {},
     "output_type": "display_data"
    },
    {
     "data": {
      "text/html": [
       "<pre style=\"white-space:pre;overflow-x:auto;line-height:normal;font-family:Menlo,'DejaVu Sans Mono',consolas,'Courier New',monospace\"><span style=\"color: #7fbfbf; text-decoration-color: #7fbfbf\">             </span>status = postprocess                                               \n",
       "</pre>\n"
      ],
      "text/plain": [
       "\u001b[2;36m            \u001b[0m\u001b[2;36m \u001b[0mstatus = postprocess                                               \n"
      ]
     },
     "metadata": {},
     "output_type": "display_data"
    },
    {
     "data": {
      "application/vnd.jupyter.widget-view+json": {
       "model_id": "",
       "version_major": 2,
       "version_minor": 0
      },
      "text/plain": [
       "Output()"
      ]
     },
     "metadata": {},
     "output_type": "display_data"
    },
    {
     "data": {
      "text/html": [
       "<pre style=\"white-space:pre;overflow-x:auto;line-height:normal;font-family:Menlo,'DejaVu Sans Mono',consolas,'Courier New',monospace\"><span style=\"color: #7fbfbf; text-decoration-color: #7fbfbf\">15:35:51 PDT </span>status = success                                                   \n",
       "</pre>\n"
      ],
      "text/plain": [
       "\u001b[2;36m15:35:51 PDT\u001b[0m\u001b[2;36m \u001b[0mstatus = success                                                   \n"
      ]
     },
     "metadata": {},
     "output_type": "display_data"
    },
    {
     "data": {
      "text/html": [
       "<pre style=\"white-space:pre;overflow-x:auto;line-height:normal;font-family:Menlo,'DejaVu Sans Mono',consolas,'Courier New',monospace\"></pre>\n"
      ],
      "text/plain": []
     },
     "metadata": {},
     "output_type": "display_data"
    },
    {
     "data": {
      "text/html": [
       "<pre style=\"white-space:pre;overflow-x:auto;line-height:normal;font-family:Menlo,'DejaVu Sans Mono',consolas,'Courier New',monospace\"><span style=\"color: #7fbfbf; text-decoration-color: #7fbfbf\">             </span>View simulation result at                                          \n",
       "<span style=\"color: #7fbfbf; text-decoration-color: #7fbfbf\">             </span><a href=\"https://tidy3d.simulation.cloud/workbench?taskId=fdve-a0b394b0-5bb4-4314-adbc-007c20c63855v1\" target=\"_blank\"><span style=\"color: #000080; text-decoration-color: #000080; text-decoration: underline\">'https://tidy3d.simulation.cloud/workbench?taskId=fdve-a0b394b0-5bb</span></a>\n",
       "<span style=\"color: #7fbfbf; text-decoration-color: #7fbfbf\">             </span><a href=\"https://tidy3d.simulation.cloud/workbench?taskId=fdve-a0b394b0-5bb4-4314-adbc-007c20c63855v1\" target=\"_blank\"><span style=\"color: #000080; text-decoration-color: #000080; text-decoration: underline\">4-4314-adbc-007c20c63855v1'</span></a><span style=\"color: #000080; text-decoration-color: #000080; text-decoration: underline\">.</span>                                       \n",
       "</pre>\n"
      ],
      "text/plain": [
       "\u001b[2;36m            \u001b[0m\u001b[2;36m \u001b[0mView simulation result at                                          \n",
       "\u001b[2;36m             \u001b[0m\u001b]8;id=48449;https://tidy3d.simulation.cloud/workbench?taskId=fdve-a0b394b0-5bb4-4314-adbc-007c20c63855v1\u001b\\\u001b[4;34m'https://tidy3d.simulation.cloud/workbench?\u001b[0m\u001b]8;;\u001b\\\u001b]8;id=477427;https://tidy3d.simulation.cloud/workbench?taskId=fdve-a0b394b0-5bb4-4314-adbc-007c20c63855v1\u001b\\\u001b[4;34mtaskId\u001b[0m\u001b]8;;\u001b\\\u001b]8;id=48449;https://tidy3d.simulation.cloud/workbench?taskId=fdve-a0b394b0-5bb4-4314-adbc-007c20c63855v1\u001b\\\u001b[4;34m=\u001b[0m\u001b]8;;\u001b\\\u001b]8;id=713954;https://tidy3d.simulation.cloud/workbench?taskId=fdve-a0b394b0-5bb4-4314-adbc-007c20c63855v1\u001b\\\u001b[4;34mfdve\u001b[0m\u001b]8;;\u001b\\\u001b]8;id=48449;https://tidy3d.simulation.cloud/workbench?taskId=fdve-a0b394b0-5bb4-4314-adbc-007c20c63855v1\u001b\\\u001b[4;34m-a0b394b0-5bb\u001b[0m\u001b]8;;\u001b\\\n",
       "\u001b[2;36m             \u001b[0m\u001b]8;id=48449;https://tidy3d.simulation.cloud/workbench?taskId=fdve-a0b394b0-5bb4-4314-adbc-007c20c63855v1\u001b\\\u001b[4;34m4-4314-adbc-007c20c63855v1'\u001b[0m\u001b]8;;\u001b\\\u001b[4;34m.\u001b[0m                                       \n"
      ]
     },
     "metadata": {},
     "output_type": "display_data"
    },
    {
     "data": {
      "application/vnd.jupyter.widget-view+json": {
       "model_id": "3ca2e03cf028495e8dcf6bd89fc82b9a",
       "version_major": 2,
       "version_minor": 0
      },
      "text/plain": [
       "Output()"
      ]
     },
     "metadata": {},
     "output_type": "display_data"
    },
    {
     "data": {
      "text/html": [
       "<pre style=\"white-space:pre;overflow-x:auto;line-height:normal;font-family:Menlo,'DejaVu Sans Mono',consolas,'Courier New',monospace\"></pre>\n"
      ],
      "text/plain": []
     },
     "metadata": {},
     "output_type": "display_data"
    },
    {
     "data": {
      "text/html": [
       "<pre style=\"white-space:pre;overflow-x:auto;line-height:normal;font-family:Menlo,'DejaVu Sans Mono',consolas,'Courier New',monospace\">\n",
       "</pre>\n"
      ],
      "text/plain": [
       "\n"
      ]
     },
     "metadata": {},
     "output_type": "display_data"
    },
    {
     "data": {
      "text/html": [
       "<pre style=\"white-space:pre;overflow-x:auto;line-height:normal;font-family:Menlo,'DejaVu Sans Mono',consolas,'Courier New',monospace\"><span style=\"color: #7fbfbf; text-decoration-color: #7fbfbf\">15:35:52 PDT </span>loading simulation from simulation_data.hdf5                       \n",
       "</pre>\n"
      ],
      "text/plain": [
       "\u001b[2;36m15:35:52 PDT\u001b[0m\u001b[2;36m \u001b[0mloading simulation from simulation_data.hdf5                       \n"
      ]
     },
     "metadata": {},
     "output_type": "display_data"
    },
    {
     "data": {
      "text/html": [
       "<pre style=\"white-space:pre;overflow-x:auto;line-height:normal;font-family:Menlo,'DejaVu Sans Mono',consolas,'Courier New',monospace\"><span style=\"color: #7fbfbf; text-decoration-color: #7fbfbf\">             </span><span style=\"color: #800000; text-decoration-color: #800000\">WARNING: monitors</span><span style=\"color: #800000; text-decoration-color: #800000; font-weight: bold\">[</span><span style=\"color: #008080; text-decoration-color: #008080; font-weight: bold\">0</span><span style=\"color: #800000; text-decoration-color: #800000; font-weight: bold\">]</span><span style=\"color: #800000; text-decoration-color: #800000\"> contains frequencies outside of the simulation</span>\n",
       "<span style=\"color: #7fbfbf; text-decoration-color: #7fbfbf\">             </span><span style=\"color: #800000; text-decoration-color: #800000\">frequency range </span><span style=\"color: #800000; text-decoration-color: #800000; font-weight: bold\">(</span><span style=\"color: #008080; text-decoration-color: #008080; font-weight: bold\">2.878008e+14</span><span style=\"color: #800000; text-decoration-color: #800000\">, </span><span style=\"color: #008080; text-decoration-color: #008080; font-weight: bold\">3.117842e+14</span><span style=\"color: #800000; text-decoration-color: #800000; font-weight: bold\">)(</span><span style=\"color: #800000; text-decoration-color: #800000\">Hz</span><span style=\"color: #800000; text-decoration-color: #800000; font-weight: bold\">)</span><span style=\"color: #800000; text-decoration-color: #800000\"> as defined by the </span>\n",
       "<span style=\"color: #7fbfbf; text-decoration-color: #7fbfbf\">             </span><span style=\"color: #800000; text-decoration-color: #800000\">sources.                                                           </span>\n",
       "</pre>\n"
      ],
      "text/plain": [
       "\u001b[2;36m            \u001b[0m\u001b[2;36m \u001b[0m\u001b[31mWARNING: monitors\u001b[0m\u001b[1;31m[\u001b[0m\u001b[1;36m0\u001b[0m\u001b[1;31m]\u001b[0m\u001b[31m contains frequencies outside of the simulation\u001b[0m\n",
       "\u001b[2;36m             \u001b[0m\u001b[31mfrequency range \u001b[0m\u001b[1;31m(\u001b[0m\u001b[1;36m2.878008e+14\u001b[0m\u001b[31m, \u001b[0m\u001b[1;36m3.117842e+14\u001b[0m\u001b[1;31m)\u001b[0m\u001b[1;31m(\u001b[0m\u001b[31mHz\u001b[0m\u001b[1;31m)\u001b[0m\u001b[31m as defined by the \u001b[0m\n",
       "\u001b[2;36m             \u001b[0m\u001b[31msources.                                                           \u001b[0m\n"
      ]
     },
     "metadata": {},
     "output_type": "display_data"
    }
   ],
   "source": [
    "sim_data_unmodulated = web.run(sim_unmodulated, task_name=\"unmodulated\", verbose=True)\n",
    "sim_data_modulated = web.run(sim_modulated, task_name=\"modulated\", verbose=True)\n"
   ]
  },
  {
   "cell_type": "markdown",
   "id": "fae1f255-107f-4489-a350-13b5caff940a",
   "metadata": {},
   "source": [
    "### Postprocess and plot\n",
    "\n",
    "Since photon number is proportional to the photon energy divided by photon frequency, in the following, we refer to the transmitted flux divided by frequency as photon number."
   ]
  },
  {
   "cell_type": "code",
   "execution_count": 14,
   "id": "e4230315-7b28-488d-89d3-85d751b7efb3",
   "metadata": {},
   "outputs": [],
   "source": [
    "photon_number_unmodulated = sim_data_unmodulated[\"flux\"].flux / monitor_freqs\n",
    "photon_number_modulated = sim_data_modulated[\"flux\"].flux / monitor_freqs\n"
   ]
  },
  {
   "cell_type": "code",
   "execution_count": 15,
   "id": "2ef7ecd9-67a7-4b7d-89e1-75d7de7a474e",
   "metadata": {},
   "outputs": [
    {
     "data": {
      "image/png": "[encoded data removed]",
      "text/plain": [
       "<Figure size 640x480 with 2 Axes>"
      ]
     },
     "metadata": {},
     "output_type": "display_data"
    }
   ],
   "source": [
    "fig, ax = plt.subplots(2, 1, tight_layout=True)\n",
    "ax[0].plot(monitor_freqs / freq0, photon_number_unmodulated, color=\"k\")\n",
    "ax[0].set_ylabel(\"Photon number (a.u.)\")\n",
    "ax[0].set_title(\"Unmodulated\")\n",
    "ax[1].plot(monitor_freqs / freq0, photon_number_modulated, color=\"r\")\n",
    "ax[1].set_ylabel(\"Photon number (a.u.)\")\n",
    "ax[1].set_title(\"Modulated\")\n",
    "ax[1].set_xlabel(\"Frequency (freq0)\")\n",
    "plt.show()\n"
   ]
  },
  {
   "cell_type": "markdown",
   "id": "1cd383f1-ffb5-45a8-893e-16b9ae50ec08",
   "metadata": {},
   "source": [
    "The 1st sideband is clearly visible. They are offsetted from the source frequency by the modulation frequency. The 2nd sideband is weak, but still visible.\n",
    "\n",
    "Next, let's examine if the photon number after the modulation is conserved."
   ]
  },
  {
   "cell_type": "markdown",
   "id": "ac87d03c-39d7-4e3c-85f5-4fc5b304e405",
   "metadata": {},
   "source": [
    "### Photon number conservation\n",
    "\n",
    "#### Photon number at peak frequencies\n",
    "Let's compare the photon number at the source frequency in the passive system, to the summed photon number at the source and sideband frequencies in the modulated system. To begin with, let's only count the photon number at peak frequencies.\n",
    "\n",
    "Since the 2nd sideband is already weak enough, let's ignore photon numbers beyond 2nd sidebands."
   ]
  },
  {
   "cell_type": "code",
   "execution_count": 16,
   "id": "71cde030-a658-4a8f-b789-042280e4b073",
   "metadata": {},
   "outputs": [],
   "source": [
    "# photon number at the peak source frequency in the passive system\n",
    "photon_number_peak_unmodulated = photon_number_unmodulated.interp(f=freq0)\n",
    "\n",
    "# photon number at the peak source frequency in the modulated system\n",
    "photon_number_peak_modulated = photon_number_modulated.interp(f=freq0)\n",
    "\n",
    "# 1st sideband\n",
    "photon_number_sideband1 = photon_number_modulated.interp(\n",
    "    f=freq0 - modulation_freq\n",
    ") + photon_number_modulated.interp(f=freq0 + modulation_freq)\n",
    "\n",
    "# 2nd sideband\n",
    "photon_number_sideband2 = photon_number_modulated.interp(\n",
    "    f=freq0 - 2 * modulation_freq\n",
    ") + photon_number_modulated.interp(f=freq0 + 2 * modulation_freq)\n",
    "\n",
    "# summed photon number in the modulated system\n",
    "photon_number_sum_modulation = (\n",
    "    photon_number_peak_modulated + photon_number_sideband1 + photon_number_sideband2\n",
    ")\n"
   ]
  },
  {
   "cell_type": "code",
   "execution_count": 17,
   "id": "ed392a0d-f2a8-440c-8410-859bf2980a32",
   "metadata": {},
   "outputs": [
    {
     "name": "stdout",
     "output_type": "stream",
     "text": [
      "The relative difference of photon number with modulation is -0.008978487924419219\n"
     ]
    }
   ],
   "source": [
    "photon_number_difference = photon_number_sum_modulation - photon_number_peak_unmodulated\n",
    "photon_number_rel = float(photon_number_difference / photon_number_peak_unmodulated)\n",
    "print(\n",
    "    f\"The relative difference of photon number with modulation is {photon_number_rel}\"\n",
    ")\n"
   ]
  },
  {
   "cell_type": "markdown",
   "id": "cc1ae988-6b13-4f09-951c-ce299956ef0a",
   "metadata": {},
   "source": [
    "As we can see, the photon number is roughly conserved. Less than $0.9$% photons is missing. The missing photons are attributed to the approximation that we are not counting photons in higher-order sidebands."
   ]
  },
  {
   "cell_type": "markdown",
   "id": "9d9b391a-54fc-4de6-8fda-ad1df0a7642e",
   "metadata": {},
   "source": [
    "#### Photon number integrated over frequencies\n",
    "\n",
    "The above analysis only counts the photon numbers at peak frequencies, which is valid when the bandwidths of the peaks are identical. Here let's perform a more rigorous analysis by integrating photon number over monitor frequencies to see if the photon number is indeed conserved."
   ]
  },
  {
   "cell_type": "code",
   "execution_count": 18,
   "id": "a8f59124-9e88-4c1f-8308-211eeaa12b5d",
   "metadata": {},
   "outputs": [],
   "source": [
    "integrated_photon_number_unmodulated = float(photon_number_unmodulated.integrate(\"f\"))\n",
    "integrated_photon_number_modulated = float(photon_number_modulated.integrate(\"f\"))\n"
   ]
  },
  {
   "cell_type": "code",
   "execution_count": 19,
   "id": "75c12f2c-a56a-4be5-8e19-63838f620789",
   "metadata": {},
   "outputs": [
    {
     "name": "stdout",
     "output_type": "stream",
     "text": [
      "The relative difference of photon number with modulation is -0.008746811484164705\n"
     ]
    }
   ],
   "source": [
    "photon_number_difference = (\n",
    "    integrated_photon_number_modulated - integrated_photon_number_unmodulated\n",
    ")\n",
    "photon_number_rel = float(\n",
    "    photon_number_difference / integrated_photon_number_unmodulated\n",
    ")\n",
    "print(\n",
    "    f\"The relative difference of photon number with modulation is {photon_number_rel}\"\n",
    ")\n"
   ]
  },
  {
   "cell_type": "markdown",
   "id": "63aa97ba-36e3-46a7-aba3-dd1fa33368b7",
   "metadata": {},
   "source": [
    "The result is the same as counting photon numbers only at peak frequencies."
   ]
  },
  {
   "cell_type": "markdown",
   "id": "a41e0779-cd5f-4f1d-9dd1-60f13fe967cc",
   "metadata": {},
   "source": [
    "## More Complicated Modulations\n",
    "\n",
    "Now just for fun, let's illustrate a more complicated modulation that mimics indirect transitions. On top of a dispersive medium, we apply space-time modulation that is a function of both time and $y$-coordinate:\n",
    "\n",
    "$$\\delta(y, t) = A \\cos(-2\\pi ft + q y)$$\n",
    "Where $f$ is the modulation frequency, and $q$ the wavevector.\n",
    "\n",
    "Below, as an example, we consider the wavevvector $q=\\frac{2\\pi}{\\lambda_0}$, where $\\lambda_0$ is the wavelength corresponding to source central frequency. With phase-matching condition, the wavevector along $y$-direction in the 1st sideband will take values $\\pm q$. Let's do a quick qualitative analysis of what is expected in the transmission spectrum regarding the 1st sideband:\n",
    "\n",
    "- The frequency of the lower branch is $f_0 - f$, where $f_0$ is the source central frequency. However, $\\frac{c}{2\\pi}|q| > (f_0-f)$, so the wave is evanescent and is confined to the slab. The transmission at this frequency is expected to be the same as the unmodulated medium;\n",
    "- The frequency of the upper branch is $f_0 + f$. Since $\\frac{c}{2\\pi}|q| < (f_0+f)$, the wave is propagating. It is expected to see up-converted photons in the transmission spectrum.\n",
    "\n",
    "To summarize, we expect to see only up-conversion in the transmission spectrum. Let's setup the simulation to verify our theory."
   ]
  },
  {
   "cell_type": "code",
   "execution_count": 20,
   "id": "7d5dcd13-6cba-4812-b973-c70e566d5dbb",
   "metadata": {},
   "outputs": [],
   "source": [
    "# let's consider passive dispersive medium described by Sellmeier model\n",
    "mat_passive = td.Sellmeier.from_dispersion(\n",
    "    n=np.sqrt(permittivity), freq=freq0, dn_dwvl=-0.2\n",
    ")\n",
    "unmodulated_slab = unmodulated_slab.updated_copy(medium=mat_passive)\n"
   ]
  },
  {
   "cell_type": "markdown",
   "id": "182f951b-8e28-403e-8b0b-6a5e92e7678d",
   "metadata": {},
   "source": [
    "Here we consider the same time dependence, but more complicated space dependence as described above."
   ]
  },
  {
   "cell_type": "code",
   "execution_count": 21,
   "id": "3ddb2d18-95a0-4445-bbfe-5fc9be6dca78",
   "metadata": {},
   "outputs": [],
   "source": [
    "Nx = 1\n",
    "Ny = 10\n",
    "Nz = 11\n",
    "x = [0]\n",
    "y = np.linspace(-Ly / 2, Ly / 2, Ny)\n",
    "z = [0]\n",
    "coords = dict(x=x, y=y, z=z)\n",
    "xgrid, ygrid, zgrid = np.meshgrid(x, y, z, indexing=\"ij\")\n",
    "\n",
    "phase = td.SpatialDataArray(2 * np.pi * ygrid / Ly, coords=coords)\n",
    "\n",
    "space_modulation = td.SpaceModulation(amplitude=modulation_amplitude, phase=phase)\n"
   ]
  },
  {
   "cell_type": "markdown",
   "id": "4470eb86-eda6-4c6d-9be8-70921a3d02b0",
   "metadata": {},
   "source": [
    "Finalize the modulated medium setup:"
   ]
  },
  {
   "cell_type": "code",
   "execution_count": 22,
   "id": "2e0a6fee-9c37-4a41-8bcb-31c8b5a0a3e0",
   "metadata": {},
   "outputs": [],
   "source": [
    "modulation = modulation.updated_copy(space_modulation=space_modulation)\n",
    "modulation_spec = td.ModulationSpec(permittivity=modulation)\n",
    "mat_modulated = mat_passive.updated_copy(modulation_spec=modulation_spec)\n",
    "modulated_slab = modulated_slab.updated_copy(medium=mat_modulated)\n"
   ]
  },
  {
   "cell_type": "markdown",
   "id": "aa3ce170-3880-4ea2-9b64-77b555df1171",
   "metadata": {},
   "source": [
    "### Setup and run simulation"
   ]
  },
  {
   "cell_type": "code",
   "execution_count": 23,
   "id": "64b69e41-3c95-4a3e-a9ec-01096dffa417",
   "metadata": {},
   "outputs": [
    {
     "data": {
      "text/html": [
       "<pre style=\"white-space:pre;overflow-x:auto;line-height:normal;font-family:Menlo,'DejaVu Sans Mono',consolas,'Courier New',monospace\"><span style=\"color: #7fbfbf; text-decoration-color: #7fbfbf\">             </span><span style=\"color: #800000; text-decoration-color: #800000\">WARNING: monitors</span><span style=\"color: #800000; text-decoration-color: #800000; font-weight: bold\">[</span><span style=\"color: #008080; text-decoration-color: #008080; font-weight: bold\">0</span><span style=\"color: #800000; text-decoration-color: #800000; font-weight: bold\">]</span><span style=\"color: #800000; text-decoration-color: #800000\"> contains frequencies outside of the simulation</span>\n",
       "<span style=\"color: #7fbfbf; text-decoration-color: #7fbfbf\">             </span><span style=\"color: #800000; text-decoration-color: #800000\">frequency range </span><span style=\"color: #800000; text-decoration-color: #800000; font-weight: bold\">(</span><span style=\"color: #008080; text-decoration-color: #008080; font-weight: bold\">2.878008e+14</span><span style=\"color: #800000; text-decoration-color: #800000\">, </span><span style=\"color: #008080; text-decoration-color: #008080; font-weight: bold\">3.117842e+14</span><span style=\"color: #800000; text-decoration-color: #800000; font-weight: bold\">)(</span><span style=\"color: #800000; text-decoration-color: #800000\">Hz</span><span style=\"color: #800000; text-decoration-color: #800000; font-weight: bold\">)</span><span style=\"color: #800000; text-decoration-color: #800000\"> as defined by the </span>\n",
       "<span style=\"color: #7fbfbf; text-decoration-color: #7fbfbf\">             </span><span style=\"color: #800000; text-decoration-color: #800000\">sources.                                                           </span>\n",
       "</pre>\n"
      ],
      "text/plain": [
       "\u001b[2;36m            \u001b[0m\u001b[2;36m \u001b[0m\u001b[31mWARNING: monitors\u001b[0m\u001b[1;31m[\u001b[0m\u001b[1;36m0\u001b[0m\u001b[1;31m]\u001b[0m\u001b[31m contains frequencies outside of the simulation\u001b[0m\n",
       "\u001b[2;36m             \u001b[0m\u001b[31mfrequency range \u001b[0m\u001b[1;31m(\u001b[0m\u001b[1;36m2.878008e+14\u001b[0m\u001b[31m, \u001b[0m\u001b[1;36m3.117842e+14\u001b[0m\u001b[1;31m)\u001b[0m\u001b[1;31m(\u001b[0m\u001b[31mHz\u001b[0m\u001b[1;31m)\u001b[0m\u001b[31m as defined by the \u001b[0m\n",
       "\u001b[2;36m             \u001b[0m\u001b[31msources.                                                           \u001b[0m\n"
      ]
     },
     "metadata": {},
     "output_type": "display_data"
    },
    {
     "data": {
      "text/html": [
       "<pre style=\"white-space:pre;overflow-x:auto;line-height:normal;font-family:Menlo,'DejaVu Sans Mono',consolas,'Courier New',monospace\"><span style=\"color: #7fbfbf; text-decoration-color: #7fbfbf\">             </span><span style=\"color: #800000; text-decoration-color: #800000\">WARNING: monitors</span><span style=\"color: #800000; text-decoration-color: #800000; font-weight: bold\">[</span><span style=\"color: #008080; text-decoration-color: #008080; font-weight: bold\">0</span><span style=\"color: #800000; text-decoration-color: #800000; font-weight: bold\">]</span><span style=\"color: #800000; text-decoration-color: #800000\"> contains frequencies outside of the simulation</span>\n",
       "<span style=\"color: #7fbfbf; text-decoration-color: #7fbfbf\">             </span><span style=\"color: #800000; text-decoration-color: #800000\">frequency range </span><span style=\"color: #800000; text-decoration-color: #800000; font-weight: bold\">(</span><span style=\"color: #008080; text-decoration-color: #008080; font-weight: bold\">2.878008e+14</span><span style=\"color: #800000; text-decoration-color: #800000\">, </span><span style=\"color: #008080; text-decoration-color: #008080; font-weight: bold\">3.117842e+14</span><span style=\"color: #800000; text-decoration-color: #800000; font-weight: bold\">)(</span><span style=\"color: #800000; text-decoration-color: #800000\">Hz</span><span style=\"color: #800000; text-decoration-color: #800000; font-weight: bold\">)</span><span style=\"color: #800000; text-decoration-color: #800000\"> as defined by the </span>\n",
       "<span style=\"color: #7fbfbf; text-decoration-color: #7fbfbf\">             </span><span style=\"color: #800000; text-decoration-color: #800000\">sources.                                                           </span>\n",
       "</pre>\n"
      ],
      "text/plain": [
       "\u001b[2;36m            \u001b[0m\u001b[2;36m \u001b[0m\u001b[31mWARNING: monitors\u001b[0m\u001b[1;31m[\u001b[0m\u001b[1;36m0\u001b[0m\u001b[1;31m]\u001b[0m\u001b[31m contains frequencies outside of the simulation\u001b[0m\n",
       "\u001b[2;36m             \u001b[0m\u001b[31mfrequency range \u001b[0m\u001b[1;31m(\u001b[0m\u001b[1;36m2.878008e+14\u001b[0m\u001b[31m, \u001b[0m\u001b[1;36m3.117842e+14\u001b[0m\u001b[1;31m)\u001b[0m\u001b[1;31m(\u001b[0m\u001b[31mHz\u001b[0m\u001b[1;31m)\u001b[0m\u001b[31m as defined by the \u001b[0m\n",
       "\u001b[2;36m             \u001b[0m\u001b[31msources.                                                           \u001b[0m\n"
      ]
     },
     "metadata": {},
     "output_type": "display_data"
    }
   ],
   "source": [
    "sim_unmodulated = sim_unmodulated.updated_copy(structures=[unmodulated_slab])\n",
    "sim_modulated = sim_modulated.updated_copy(structures=[modulated_slab])\n"
   ]
  },
  {
   "cell_type": "code",
   "execution_count": 24,
   "id": "33f3523b-5171-46b4-9dfa-1666be6c7547",
   "metadata": {
    "scrolled": true
   },
   "outputs": [
    {
     "data": {
      "text/html": [
       "<pre style=\"white-space:pre;overflow-x:auto;line-height:normal;font-family:Menlo,'DejaVu Sans Mono',consolas,'Courier New',monospace\"><span style=\"color: #7fbfbf; text-decoration-color: #7fbfbf\">15:35:53 PDT </span>Created task <span style=\"color: #008000; text-decoration-color: #008000\">'unmodulated_sellmeier'</span> with task_id                  \n",
       "<span style=\"color: #7fbfbf; text-decoration-color: #7fbfbf\">             </span><span style=\"color: #008000; text-decoration-color: #008000\">'fdve-24b5af63-da83-4464-9c80-1271190025e1v1'</span> and task_type <span style=\"color: #008000; text-decoration-color: #008000\">'FDTD'</span>.\n",
       "</pre>\n"
      ],
      "text/plain": [
       "\u001b[2;36m15:35:53 PDT\u001b[0m\u001b[2;36m \u001b[0mCreated task \u001b[32m'unmodulated_sellmeier'\u001b[0m with task_id                  \n",
       "\u001b[2;36m             \u001b[0m\u001b[32m'fdve-24b5af63-da83-4464-9c80-1271190025e1v1'\u001b[0m and task_type \u001b[32m'FDTD'\u001b[0m.\n"
      ]
     },
     "metadata": {},
     "output_type": "display_data"
    },
    {
     "data": {
      "text/html": [
       "<pre style=\"white-space:pre;overflow-x:auto;line-height:normal;font-family:Menlo,'DejaVu Sans Mono',consolas,'Courier New',monospace\"><span style=\"color: #7fbfbf; text-decoration-color: #7fbfbf\">             </span>View task using web UI at                                          \n",
       "<span style=\"color: #7fbfbf; text-decoration-color: #7fbfbf\">             </span><a href=\"https://tidy3d.simulation.cloud/workbench?taskId=fdve-24b5af63-da83-4464-9c80-1271190025e1v1\" target=\"_blank\"><span style=\"color: #008000; text-decoration-color: #008000\">'https://tidy3d.simulation.cloud/workbench?taskId=fdve-24b5af63-da8</span></a>\n",
       "<span style=\"color: #7fbfbf; text-decoration-color: #7fbfbf\">             </span><a href=\"https://tidy3d.simulation.cloud/workbench?taskId=fdve-24b5af63-da83-4464-9c80-1271190025e1v1\" target=\"_blank\"><span style=\"color: #008000; text-decoration-color: #008000\">3-4464-9c80-1271190025e1v1'</span></a>.                                       \n",
       "</pre>\n"
      ],
      "text/plain": [
       "\u001b[2;36m            \u001b[0m\u001b[2;36m \u001b[0mView task using web UI at                                          \n",
       "\u001b[2;36m             \u001b[0m\u001b]8;id=79961;https://tidy3d.simulation.cloud/workbench?taskId=fdve-24b5af63-da83-4464-9c80-1271190025e1v1\u001b\\\u001b[32m'https://tidy3d.simulation.cloud/workbench?\u001b[0m\u001b]8;;\u001b\\\u001b]8;id=178911;https://tidy3d.simulation.cloud/workbench?taskId=fdve-24b5af63-da83-4464-9c80-1271190025e1v1\u001b\\\u001b[32mtaskId\u001b[0m\u001b]8;;\u001b\\\u001b]8;id=79961;https://tidy3d.simulation.cloud/workbench?taskId=fdve-24b5af63-da83-4464-9c80-1271190025e1v1\u001b\\\u001b[32m=\u001b[0m\u001b]8;;\u001b\\\u001b]8;id=209127;https://tidy3d.simulation.cloud/workbench?taskId=fdve-24b5af63-da83-4464-9c80-1271190025e1v1\u001b\\\u001b[32mfdve\u001b[0m\u001b]8;;\u001b\\\u001b]8;id=79961;https://tidy3d.simulation.cloud/workbench?taskId=fdve-24b5af63-da83-4464-9c80-1271190025e1v1\u001b\\\u001b[32m-24b5af63-da8\u001b[0m\u001b]8;;\u001b\\\n",
       "\u001b[2;36m             \u001b[0m\u001b]8;id=79961;https://tidy3d.simulation.cloud/workbench?taskId=fdve-24b5af63-da83-4464-9c80-1271190025e1v1\u001b\\\u001b[32m3-4464-9c80-1271190025e1v1'\u001b[0m\u001b]8;;\u001b\\.                                       \n"
      ]
     },
     "metadata": {},
     "output_type": "display_data"
    },
    {
     "data": {
      "application/vnd.jupyter.widget-view+json": {
       "model_id": "6a04bd8f55be4ac48f169610884bb89c",
       "version_major": 2,
       "version_minor": 0
      },
      "text/plain": [
       "Output()"
      ]
     },
     "metadata": {},
     "output_type": "display_data"
    },
    {
     "data": {
      "text/html": [
       "<pre style=\"white-space:pre;overflow-x:auto;line-height:normal;font-family:Menlo,'DejaVu Sans Mono',consolas,'Courier New',monospace\"></pre>\n"
      ],
      "text/plain": []
     },
     "metadata": {},
     "output_type": "display_data"
    },
    {
     "data": {
      "text/html": [
       "<pre style=\"white-space:pre;overflow-x:auto;line-height:normal;font-family:Menlo,'DejaVu Sans Mono',consolas,'Courier New',monospace\">\n",
       "</pre>\n"
      ],
      "text/plain": [
       "\n"
      ]
     },
     "metadata": {},
     "output_type": "display_data"
    },
    {
     "data": {
      "text/html": [
       "<pre style=\"white-space:pre;overflow-x:auto;line-height:normal;font-family:Menlo,'DejaVu Sans Mono',consolas,'Courier New',monospace\"><span style=\"color: #7fbfbf; text-decoration-color: #7fbfbf\">             </span>status = queued                                                    \n",
       "</pre>\n"
      ],
      "text/plain": [
       "\u001b[2;36m            \u001b[0m\u001b[2;36m \u001b[0mstatus = queued                                                    \n"
      ]
     },
     "metadata": {},
     "output_type": "display_data"
    },
    {
     "data": {
      "application/vnd.jupyter.widget-view+json": {
       "model_id": "",
       "version_major": 2,
       "version_minor": 0
      },
      "text/plain": [
       "Output()"
      ]
     },
     "metadata": {},
     "output_type": "display_data"
    },
    {
     "data": {
      "text/html": [
       "<pre style=\"white-space:pre;overflow-x:auto;line-height:normal;font-family:Menlo,'DejaVu Sans Mono',consolas,'Courier New',monospace\"><span style=\"color: #7fbfbf; text-decoration-color: #7fbfbf\">15:36:02 PDT </span>status = preprocess                                                \n",
       "</pre>\n"
      ],
      "text/plain": [
       "\u001b[2;36m15:36:02 PDT\u001b[0m\u001b[2;36m \u001b[0mstatus = preprocess                                                \n"
      ]
     },
     "metadata": {},
     "output_type": "display_data"
    },
    {
     "data": {
      "text/html": [
       "<pre style=\"white-space:pre;overflow-x:auto;line-height:normal;font-family:Menlo,'DejaVu Sans Mono',consolas,'Courier New',monospace\"></pre>\n"
      ],
      "text/plain": []
     },
     "metadata": {},
     "output_type": "display_data"
    },
    {
     "data": {
      "text/html": [
       "<pre style=\"white-space:pre;overflow-x:auto;line-height:normal;font-family:Menlo,'DejaVu Sans Mono',consolas,'Courier New',monospace\"><span style=\"color: #7fbfbf; text-decoration-color: #7fbfbf\">15:36:06 PDT </span>Maximum FlexCredit cost: <span style=\"color: #008080; text-decoration-color: #008080; font-weight: bold\">0.025</span>. Use <span style=\"color: #008000; text-decoration-color: #008000\">'web.real_cost(task_id)'</span> to get\n",
       "<span style=\"color: #7fbfbf; text-decoration-color: #7fbfbf\">             </span>the billed FlexCredit cost after a simulation run.                 \n",
       "</pre>\n"
      ],
      "text/plain": [
       "\u001b[2;36m15:36:06 PDT\u001b[0m\u001b[2;36m \u001b[0mMaximum FlexCredit cost: \u001b[1;36m0.025\u001b[0m. Use \u001b[32m'web.real_cost\u001b[0m\u001b[32m(\u001b[0m\u001b[32mtask_id\u001b[0m\u001b[32m)\u001b[0m\u001b[32m'\u001b[0m to get\n",
       "\u001b[2;36m             \u001b[0mthe billed FlexCredit cost after a simulation run.                 \n"
      ]
     },
     "metadata": {},
     "output_type": "display_data"
    },
    {
     "data": {
      "text/html": [
       "<pre style=\"white-space:pre;overflow-x:auto;line-height:normal;font-family:Menlo,'DejaVu Sans Mono',consolas,'Courier New',monospace\"><span style=\"color: #7fbfbf; text-decoration-color: #7fbfbf\">             </span>starting up solver                                                 \n",
       "</pre>\n"
      ],
      "text/plain": [
       "\u001b[2;36m            \u001b[0m\u001b[2;36m \u001b[0mstarting up solver                                                 \n"
      ]
     },
     "metadata": {},
     "output_type": "display_data"
    },
    {
     "data": {
      "text/html": [
       "<pre style=\"white-space:pre;overflow-x:auto;line-height:normal;font-family:Menlo,'DejaVu Sans Mono',consolas,'Courier New',monospace\"><span style=\"color: #7fbfbf; text-decoration-color: #7fbfbf\">             </span>running solver                                                     \n",
       "</pre>\n"
      ],
      "text/plain": [
       "\u001b[2;36m            \u001b[0m\u001b[2;36m \u001b[0mrunning solver                                                     \n"
      ]
     },
     "metadata": {},
     "output_type": "display_data"
    },
    {
     "data": {
      "text/html": [
       "<pre style=\"white-space:pre;overflow-x:auto;line-height:normal;font-family:Menlo,'DejaVu Sans Mono',consolas,'Courier New',monospace\"><span style=\"color: #7fbfbf; text-decoration-color: #7fbfbf\">             </span>To cancel the simulation, use <span style=\"color: #008000; text-decoration-color: #008000\">'web.abort(task_id)'</span> or              \n",
       "<span style=\"color: #7fbfbf; text-decoration-color: #7fbfbf\">             </span><span style=\"color: #008000; text-decoration-color: #008000\">'web.delete(task_id)'</span> or abort/delete the task in the web UI.      \n",
       "<span style=\"color: #7fbfbf; text-decoration-color: #7fbfbf\">             </span>Terminating the Python script will not stop the job running on the \n",
       "<span style=\"color: #7fbfbf; text-decoration-color: #7fbfbf\">             </span>cloud.                                                             \n",
       "</pre>\n"
      ],
      "text/plain": [
       "\u001b[2;36m            \u001b[0m\u001b[2;36m \u001b[0mTo cancel the simulation, use \u001b[32m'web.abort\u001b[0m\u001b[32m(\u001b[0m\u001b[32mtask_id\u001b[0m\u001b[32m)\u001b[0m\u001b[32m'\u001b[0m or              \n",
       "\u001b[2;36m             \u001b[0m\u001b[32m'web.delete\u001b[0m\u001b[32m(\u001b[0m\u001b[32mtask_id\u001b[0m\u001b[32m)\u001b[0m\u001b[32m'\u001b[0m or abort/delete the task in the web UI.      \n",
       "\u001b[2;36m             \u001b[0mTerminating the Python script will not stop the job running on the \n",
       "\u001b[2;36m             \u001b[0mcloud.                                                             \n"
      ]
     },
     "metadata": {},
     "output_type": "display_data"
    },
    {
     "data": {
      "application/vnd.jupyter.widget-view+json": {
       "model_id": "b7f8359023d344e4a66cf541cfa6a4b0",
       "version_major": 2,
       "version_minor": 0
      },
      "text/plain": [
       "Output()"
      ]
     },
     "metadata": {},
     "output_type": "display_data"
    },
    {
     "data": {
      "text/html": [
       "<pre style=\"white-space:pre;overflow-x:auto;line-height:normal;font-family:Menlo,'DejaVu Sans Mono',consolas,'Courier New',monospace\"><span style=\"color: #7fbfbf; text-decoration-color: #7fbfbf\">15:36:14 PDT </span>early shutoff detected at <span style=\"color: #008080; text-decoration-color: #008080; font-weight: bold\">16</span>%, exiting.                            \n",
       "</pre>\n"
      ],
      "text/plain": [
       "\u001b[2;36m15:36:14 PDT\u001b[0m\u001b[2;36m \u001b[0mearly shutoff detected at \u001b[1;36m16\u001b[0m%, exiting.                            \n"
      ]
     },
     "metadata": {},
     "output_type": "display_data"
    },
    {
     "data": {
      "text/html": [
       "<pre style=\"white-space:pre;overflow-x:auto;line-height:normal;font-family:Menlo,'DejaVu Sans Mono',consolas,'Courier New',monospace\"></pre>\n"
      ],
      "text/plain": []
     },
     "metadata": {},
     "output_type": "display_data"
    },
    {
     "data": {
      "text/html": [
       "<pre style=\"white-space:pre;overflow-x:auto;line-height:normal;font-family:Menlo,'DejaVu Sans Mono',consolas,'Courier New',monospace\">\n",
       "</pre>\n"
      ],
      "text/plain": [
       "\n"
      ]
     },
     "metadata": {},
     "output_type": "display_data"
    },
    {
     "data": {
      "text/html": [
       "<pre style=\"white-space:pre;overflow-x:auto;line-height:normal;font-family:Menlo,'DejaVu Sans Mono',consolas,'Courier New',monospace\"><span style=\"color: #7fbfbf; text-decoration-color: #7fbfbf\">             </span>status = postprocess                                               \n",
       "</pre>\n"
      ],
      "text/plain": [
       "\u001b[2;36m            \u001b[0m\u001b[2;36m \u001b[0mstatus = postprocess                                               \n"
      ]
     },
     "metadata": {},
     "output_type": "display_data"
    },
    {
     "data": {
      "application/vnd.jupyter.widget-view+json": {
       "model_id": "",
       "version_major": 2,
       "version_minor": 0
      },
      "text/plain": [
       "Output()"
      ]
     },
     "metadata": {},
     "output_type": "display_data"
    },
    {
     "data": {
      "text/html": [
       "<pre style=\"white-space:pre;overflow-x:auto;line-height:normal;font-family:Menlo,'DejaVu Sans Mono',consolas,'Courier New',monospace\"><span style=\"color: #7fbfbf; text-decoration-color: #7fbfbf\">15:36:17 PDT </span>status = success                                                   \n",
       "</pre>\n"
      ],
      "text/plain": [
       "\u001b[2;36m15:36:17 PDT\u001b[0m\u001b[2;36m \u001b[0mstatus = success                                                   \n"
      ]
     },
     "metadata": {},
     "output_type": "display_data"
    },
    {
     "data": {
      "text/html": [
       "<pre style=\"white-space:pre;overflow-x:auto;line-height:normal;font-family:Menlo,'DejaVu Sans Mono',consolas,'Courier New',monospace\"></pre>\n"
      ],
      "text/plain": []
     },
     "metadata": {},
     "output_type": "display_data"
    },
    {
     "data": {
      "text/html": [
       "<pre style=\"white-space:pre;overflow-x:auto;line-height:normal;font-family:Menlo,'DejaVu Sans Mono',consolas,'Courier New',monospace\"><span style=\"color: #7fbfbf; text-decoration-color: #7fbfbf\">15:36:18 PDT </span>View simulation result at                                          \n",
       "<span style=\"color: #7fbfbf; text-decoration-color: #7fbfbf\">             </span><a href=\"https://tidy3d.simulation.cloud/workbench?taskId=fdve-24b5af63-da83-4464-9c80-1271190025e1v1\" target=\"_blank\"><span style=\"color: #000080; text-decoration-color: #000080; text-decoration: underline\">'https://tidy3d.simulation.cloud/workbench?taskId=fdve-24b5af63-da8</span></a>\n",
       "<span style=\"color: #7fbfbf; text-decoration-color: #7fbfbf\">             </span><a href=\"https://tidy3d.simulation.cloud/workbench?taskId=fdve-24b5af63-da83-4464-9c80-1271190025e1v1\" target=\"_blank\"><span style=\"color: #000080; text-decoration-color: #000080; text-decoration: underline\">3-4464-9c80-1271190025e1v1'</span></a><span style=\"color: #000080; text-decoration-color: #000080; text-decoration: underline\">.</span>                                       \n",
       "</pre>\n"
      ],
      "text/plain": [
       "\u001b[2;36m15:36:18 PDT\u001b[0m\u001b[2;36m \u001b[0mView simulation result at                                          \n",
       "\u001b[2;36m             \u001b[0m\u001b]8;id=476169;https://tidy3d.simulation.cloud/workbench?taskId=fdve-24b5af63-da83-4464-9c80-1271190025e1v1\u001b\\\u001b[4;34m'https://tidy3d.simulation.cloud/workbench?\u001b[0m\u001b]8;;\u001b\\\u001b]8;id=174910;https://tidy3d.simulation.cloud/workbench?taskId=fdve-24b5af63-da83-4464-9c80-1271190025e1v1\u001b\\\u001b[4;34mtaskId\u001b[0m\u001b]8;;\u001b\\\u001b]8;id=476169;https://tidy3d.simulation.cloud/workbench?taskId=fdve-24b5af63-da83-4464-9c80-1271190025e1v1\u001b\\\u001b[4;34m=\u001b[0m\u001b]8;;\u001b\\\u001b]8;id=484794;https://tidy3d.simulation.cloud/workbench?taskId=fdve-24b5af63-da83-4464-9c80-1271190025e1v1\u001b\\\u001b[4;34mfdve\u001b[0m\u001b]8;;\u001b\\\u001b]8;id=476169;https://tidy3d.simulation.cloud/workbench?taskId=fdve-24b5af63-da83-4464-9c80-1271190025e1v1\u001b\\\u001b[4;34m-24b5af63-da8\u001b[0m\u001b]8;;\u001b\\\n",
       "\u001b[2;36m             \u001b[0m\u001b]8;id=476169;https://tidy3d.simulation.cloud/workbench?taskId=fdve-24b5af63-da83-4464-9c80-1271190025e1v1\u001b\\\u001b[4;34m3-4464-9c80-1271190025e1v1'\u001b[0m\u001b]8;;\u001b\\\u001b[4;34m.\u001b[0m                                       \n"
      ]
     },
     "metadata": {},
     "output_type": "display_data"
    },
    {
     "data": {
      "application/vnd.jupyter.widget-view+json": {
       "model_id": "92ffcdd6637a4d19b2ddd8dd1a1041f8",
       "version_major": 2,
       "version_minor": 0
      },
      "text/plain": [
       "Output()"
      ]
     },
     "metadata": {},
     "output_type": "display_data"
    },
    {
     "data": {
      "text/html": [
       "<pre style=\"white-space:pre;overflow-x:auto;line-height:normal;font-family:Menlo,'DejaVu Sans Mono',consolas,'Courier New',monospace\"></pre>\n"
      ],
      "text/plain": []
     },
     "metadata": {},
     "output_type": "display_data"
    },
    {
     "data": {
      "text/html": [
       "<pre style=\"white-space:pre;overflow-x:auto;line-height:normal;font-family:Menlo,'DejaVu Sans Mono',consolas,'Courier New',monospace\">\n",
       "</pre>\n"
      ],
      "text/plain": [
       "\n"
      ]
     },
     "metadata": {},
     "output_type": "display_data"
    },
    {
     "data": {
      "text/html": [
       "<pre style=\"white-space:pre;overflow-x:auto;line-height:normal;font-family:Menlo,'DejaVu Sans Mono',consolas,'Courier New',monospace\"><span style=\"color: #7fbfbf; text-decoration-color: #7fbfbf\">             </span>loading simulation from simulation_data.hdf5                       \n",
       "</pre>\n"
      ],
      "text/plain": [
       "\u001b[2;36m            \u001b[0m\u001b[2;36m \u001b[0mloading simulation from simulation_data.hdf5                       \n"
      ]
     },
     "metadata": {},
     "output_type": "display_data"
    },
    {
     "data": {
      "text/html": [
       "<pre style=\"white-space:pre;overflow-x:auto;line-height:normal;font-family:Menlo,'DejaVu Sans Mono',consolas,'Courier New',monospace\"><span style=\"color: #7fbfbf; text-decoration-color: #7fbfbf\">             </span><span style=\"color: #800000; text-decoration-color: #800000\">WARNING: monitors</span><span style=\"color: #800000; text-decoration-color: #800000; font-weight: bold\">[</span><span style=\"color: #008080; text-decoration-color: #008080; font-weight: bold\">0</span><span style=\"color: #800000; text-decoration-color: #800000; font-weight: bold\">]</span><span style=\"color: #800000; text-decoration-color: #800000\"> contains frequencies outside of the simulation</span>\n",
       "<span style=\"color: #7fbfbf; text-decoration-color: #7fbfbf\">             </span><span style=\"color: #800000; text-decoration-color: #800000\">frequency range </span><span style=\"color: #800000; text-decoration-color: #800000; font-weight: bold\">(</span><span style=\"color: #008080; text-decoration-color: #008080; font-weight: bold\">2.878008e+14</span><span style=\"color: #800000; text-decoration-color: #800000\">, </span><span style=\"color: #008080; text-decoration-color: #008080; font-weight: bold\">3.117842e+14</span><span style=\"color: #800000; text-decoration-color: #800000; font-weight: bold\">)(</span><span style=\"color: #800000; text-decoration-color: #800000\">Hz</span><span style=\"color: #800000; text-decoration-color: #800000; font-weight: bold\">)</span><span style=\"color: #800000; text-decoration-color: #800000\"> as defined by the </span>\n",
       "<span style=\"color: #7fbfbf; text-decoration-color: #7fbfbf\">             </span><span style=\"color: #800000; text-decoration-color: #800000\">sources.                                                           </span>\n",
       "</pre>\n"
      ],
      "text/plain": [
       "\u001b[2;36m            \u001b[0m\u001b[2;36m \u001b[0m\u001b[31mWARNING: monitors\u001b[0m\u001b[1;31m[\u001b[0m\u001b[1;36m0\u001b[0m\u001b[1;31m]\u001b[0m\u001b[31m contains frequencies outside of the simulation\u001b[0m\n",
       "\u001b[2;36m             \u001b[0m\u001b[31mfrequency range \u001b[0m\u001b[1;31m(\u001b[0m\u001b[1;36m2.878008e+14\u001b[0m\u001b[31m, \u001b[0m\u001b[1;36m3.117842e+14\u001b[0m\u001b[1;31m)\u001b[0m\u001b[1;31m(\u001b[0m\u001b[31mHz\u001b[0m\u001b[1;31m)\u001b[0m\u001b[31m as defined by the \u001b[0m\n",
       "\u001b[2;36m             \u001b[0m\u001b[31msources.                                                           \u001b[0m\n"
      ]
     },
     "metadata": {},
     "output_type": "display_data"
    },
    {
     "data": {
      "text/html": [
       "<pre style=\"white-space:pre;overflow-x:auto;line-height:normal;font-family:Menlo,'DejaVu Sans Mono',consolas,'Courier New',monospace\"><span style=\"color: #7fbfbf; text-decoration-color: #7fbfbf\">             </span>Created task <span style=\"color: #008000; text-decoration-color: #008000\">'modulated_sellmeier'</span> with task_id                    \n",
       "<span style=\"color: #7fbfbf; text-decoration-color: #7fbfbf\">             </span><span style=\"color: #008000; text-decoration-color: #008000\">'fdve-82b3a3b4-c3a8-4c39-88e8-92b7dda67fe2v1'</span> and task_type <span style=\"color: #008000; text-decoration-color: #008000\">'FDTD'</span>.\n",
       "</pre>\n"
      ],
      "text/plain": [
       "\u001b[2;36m            \u001b[0m\u001b[2;36m \u001b[0mCreated task \u001b[32m'modulated_sellmeier'\u001b[0m with task_id                    \n",
       "\u001b[2;36m             \u001b[0m\u001b[32m'fdve-82b3a3b4-c3a8-4c39-88e8-92b7dda67fe2v1'\u001b[0m and task_type \u001b[32m'FDTD'\u001b[0m.\n"
      ]
     },
     "metadata": {},
     "output_type": "display_data"
    },
    {
     "data": {
      "text/html": [
       "<pre style=\"white-space:pre;overflow-x:auto;line-height:normal;font-family:Menlo,'DejaVu Sans Mono',consolas,'Courier New',monospace\"><span style=\"color: #7fbfbf; text-decoration-color: #7fbfbf\">             </span>View task using web UI at                                          \n",
       "<span style=\"color: #7fbfbf; text-decoration-color: #7fbfbf\">             </span><a href=\"https://tidy3d.simulation.cloud/workbench?taskId=fdve-82b3a3b4-c3a8-4c39-88e8-92b7dda67fe2v1\" target=\"_blank\"><span style=\"color: #008000; text-decoration-color: #008000\">'https://tidy3d.simulation.cloud/workbench?taskId=fdve-82b3a3b4-c3a</span></a>\n",
       "<span style=\"color: #7fbfbf; text-decoration-color: #7fbfbf\">             </span><a href=\"https://tidy3d.simulation.cloud/workbench?taskId=fdve-82b3a3b4-c3a8-4c39-88e8-92b7dda67fe2v1\" target=\"_blank\"><span style=\"color: #008000; text-decoration-color: #008000\">8-4c39-88e8-92b7dda67fe2v1'</span></a>.                                       \n",
       "</pre>\n"
      ],
      "text/plain": [
       "\u001b[2;36m            \u001b[0m\u001b[2;36m \u001b[0mView task using web UI at                                          \n",
       "\u001b[2;36m             \u001b[0m\u001b]8;id=938244;https://tidy3d.simulation.cloud/workbench?taskId=fdve-82b3a3b4-c3a8-4c39-88e8-92b7dda67fe2v1\u001b\\\u001b[32m'https://tidy3d.simulation.cloud/workbench?\u001b[0m\u001b]8;;\u001b\\\u001b]8;id=162297;https://tidy3d.simulation.cloud/workbench?taskId=fdve-82b3a3b4-c3a8-4c39-88e8-92b7dda67fe2v1\u001b\\\u001b[32mtaskId\u001b[0m\u001b]8;;\u001b\\\u001b]8;id=938244;https://tidy3d.simulation.cloud/workbench?taskId=fdve-82b3a3b4-c3a8-4c39-88e8-92b7dda67fe2v1\u001b\\\u001b[32m=\u001b[0m\u001b]8;;\u001b\\\u001b]8;id=960938;https://tidy3d.simulation.cloud/workbench?taskId=fdve-82b3a3b4-c3a8-4c39-88e8-92b7dda67fe2v1\u001b\\\u001b[32mfdve\u001b[0m\u001b]8;;\u001b\\\u001b]8;id=938244;https://tidy3d.simulation.cloud/workbench?taskId=fdve-82b3a3b4-c3a8-4c39-88e8-92b7dda67fe2v1\u001b\\\u001b[32m-82b3a3b4-c3a\u001b[0m\u001b]8;;\u001b\\\n",
       "\u001b[2;36m             \u001b[0m\u001b]8;id=938244;https://tidy3d.simulation.cloud/workbench?taskId=fdve-82b3a3b4-c3a8-4c39-88e8-92b7dda67fe2v1\u001b\\\u001b[32m8-4c39-88e8-92b7dda67fe2v1'\u001b[0m\u001b]8;;\u001b\\.                                       \n"
      ]
     },
     "metadata": {},
     "output_type": "display_data"
    },
    {
     "data": {
      "application/vnd.jupyter.widget-view+json": {
       "model_id": "0591c43c3a754bd6a715607aac062933",
       "version_major": 2,
       "version_minor": 0
      },
      "text/plain": [
       "Output()"
      ]
     },
     "metadata": {},
     "output_type": "display_data"
    },
    {
     "data": {
      "text/html": [
       "<pre style=\"white-space:pre;overflow-x:auto;line-height:normal;font-family:Menlo,'DejaVu Sans Mono',consolas,'Courier New',monospace\"></pre>\n"
      ],
      "text/plain": []
     },
     "metadata": {},
     "output_type": "display_data"
    },
    {
     "data": {
      "text/html": [
       "<pre style=\"white-space:pre;overflow-x:auto;line-height:normal;font-family:Menlo,'DejaVu Sans Mono',consolas,'Courier New',monospace\">\n",
       "</pre>\n"
      ],
      "text/plain": [
       "\n"
      ]
     },
     "metadata": {},
     "output_type": "display_data"
    },
    {
     "data": {
      "text/html": [
       "<pre style=\"white-space:pre;overflow-x:auto;line-height:normal;font-family:Menlo,'DejaVu Sans Mono',consolas,'Courier New',monospace\"><span style=\"color: #7fbfbf; text-decoration-color: #7fbfbf\">15:36:19 PDT </span>status = queued                                                    \n",
       "</pre>\n"
      ],
      "text/plain": [
       "\u001b[2;36m15:36:19 PDT\u001b[0m\u001b[2;36m \u001b[0mstatus = queued                                                    \n"
      ]
     },
     "metadata": {},
     "output_type": "display_data"
    },
    {
     "data": {
      "application/vnd.jupyter.widget-view+json": {
       "model_id": "",
       "version_major": 2,
       "version_minor": 0
      },
      "text/plain": [
       "Output()"
      ]
     },
     "metadata": {},
     "output_type": "display_data"
    },
    {
     "data": {
      "text/html": [
       "<pre style=\"white-space:pre;overflow-x:auto;line-height:normal;font-family:Menlo,'DejaVu Sans Mono',consolas,'Courier New',monospace\"><span style=\"color: #7fbfbf; text-decoration-color: #7fbfbf\">15:36:29 PDT </span>status = preprocess                                                \n",
       "</pre>\n"
      ],
      "text/plain": [
       "\u001b[2;36m15:36:29 PDT\u001b[0m\u001b[2;36m \u001b[0mstatus = preprocess                                                \n"
      ]
     },
     "metadata": {},
     "output_type": "display_data"
    },
    {
     "data": {
      "text/html": [
       "<pre style=\"white-space:pre;overflow-x:auto;line-height:normal;font-family:Menlo,'DejaVu Sans Mono',consolas,'Courier New',monospace\"></pre>\n"
      ],
      "text/plain": []
     },
     "metadata": {},
     "output_type": "display_data"
    },
    {
     "data": {
      "text/html": [
       "<pre style=\"white-space:pre;overflow-x:auto;line-height:normal;font-family:Menlo,'DejaVu Sans Mono',consolas,'Courier New',monospace\"><span style=\"color: #7fbfbf; text-decoration-color: #7fbfbf\">15:36:35 PDT </span>Maximum FlexCredit cost: <span style=\"color: #008080; text-decoration-color: #008080; font-weight: bold\">0.025</span>. Use <span style=\"color: #008000; text-decoration-color: #008000\">'web.real_cost(task_id)'</span> to get\n",
       "<span style=\"color: #7fbfbf; text-decoration-color: #7fbfbf\">             </span>the billed FlexCredit cost after a simulation run.                 \n",
       "</pre>\n"
      ],
      "text/plain": [
       "\u001b[2;36m15:36:35 PDT\u001b[0m\u001b[2;36m \u001b[0mMaximum FlexCredit cost: \u001b[1;36m0.025\u001b[0m. Use \u001b[32m'web.real_cost\u001b[0m\u001b[32m(\u001b[0m\u001b[32mtask_id\u001b[0m\u001b[32m)\u001b[0m\u001b[32m'\u001b[0m to get\n",
       "\u001b[2;36m             \u001b[0mthe billed FlexCredit cost after a simulation run.                 \n"
      ]
     },
     "metadata": {},
     "output_type": "display_data"
    },
    {
     "data": {
      "text/html": [
       "<pre style=\"white-space:pre;overflow-x:auto;line-height:normal;font-family:Menlo,'DejaVu Sans Mono',consolas,'Courier New',monospace\"><span style=\"color: #7fbfbf; text-decoration-color: #7fbfbf\">             </span>starting up solver                                                 \n",
       "</pre>\n"
      ],
      "text/plain": [
       "\u001b[2;36m            \u001b[0m\u001b[2;36m \u001b[0mstarting up solver                                                 \n"
      ]
     },
     "metadata": {},
     "output_type": "display_data"
    },
    {
     "data": {
      "text/html": [
       "<pre style=\"white-space:pre;overflow-x:auto;line-height:normal;font-family:Menlo,'DejaVu Sans Mono',consolas,'Courier New',monospace\"><span style=\"color: #7fbfbf; text-decoration-color: #7fbfbf\">             </span>running solver                                                     \n",
       "</pre>\n"
      ],
      "text/plain": [
       "\u001b[2;36m            \u001b[0m\u001b[2;36m \u001b[0mrunning solver                                                     \n"
      ]
     },
     "metadata": {},
     "output_type": "display_data"
    },
    {
     "data": {
      "text/html": [
       "<pre style=\"white-space:pre;overflow-x:auto;line-height:normal;font-family:Menlo,'DejaVu Sans Mono',consolas,'Courier New',monospace\"><span style=\"color: #7fbfbf; text-decoration-color: #7fbfbf\">             </span>To cancel the simulation, use <span style=\"color: #008000; text-decoration-color: #008000\">'web.abort(task_id)'</span> or              \n",
       "<span style=\"color: #7fbfbf; text-decoration-color: #7fbfbf\">             </span><span style=\"color: #008000; text-decoration-color: #008000\">'web.delete(task_id)'</span> or abort/delete the task in the web UI.      \n",
       "<span style=\"color: #7fbfbf; text-decoration-color: #7fbfbf\">             </span>Terminating the Python script will not stop the job running on the \n",
       "<span style=\"color: #7fbfbf; text-decoration-color: #7fbfbf\">             </span>cloud.                                                             \n",
       "</pre>\n"
      ],
      "text/plain": [
       "\u001b[2;36m            \u001b[0m\u001b[2;36m \u001b[0mTo cancel the simulation, use \u001b[32m'web.abort\u001b[0m\u001b[32m(\u001b[0m\u001b[32mtask_id\u001b[0m\u001b[32m)\u001b[0m\u001b[32m'\u001b[0m or              \n",
       "\u001b[2;36m             \u001b[0m\u001b[32m'web.delete\u001b[0m\u001b[32m(\u001b[0m\u001b[32mtask_id\u001b[0m\u001b[32m)\u001b[0m\u001b[32m'\u001b[0m or abort/delete the task in the web UI.      \n",
       "\u001b[2;36m             \u001b[0mTerminating the Python script will not stop the job running on the \n",
       "\u001b[2;36m             \u001b[0mcloud.                                                             \n"
      ]
     },
     "metadata": {},
     "output_type": "display_data"
    },
    {
     "data": {
      "application/vnd.jupyter.widget-view+json": {
       "model_id": "abf4edc6c0c6483293a63f3588e28335",
       "version_major": 2,
       "version_minor": 0
      },
      "text/plain": [
       "Output()"
      ]
     },
     "metadata": {},
     "output_type": "display_data"
    },
    {
     "data": {
      "text/html": [
       "<pre style=\"white-space:pre;overflow-x:auto;line-height:normal;font-family:Menlo,'DejaVu Sans Mono',consolas,'Courier New',monospace\"><span style=\"color: #7fbfbf; text-decoration-color: #7fbfbf\">15:36:47 PDT </span>early shutoff detected at <span style=\"color: #008080; text-decoration-color: #008080; font-weight: bold\">76</span>%, exiting.                            \n",
       "</pre>\n"
      ],
      "text/plain": [
       "\u001b[2;36m15:36:47 PDT\u001b[0m\u001b[2;36m \u001b[0mearly shutoff detected at \u001b[1;36m76\u001b[0m%, exiting.                            \n"
      ]
     },
     "metadata": {},
     "output_type": "display_data"
    },
    {
     "data": {
      "text/html": [
       "<pre style=\"white-space:pre;overflow-x:auto;line-height:normal;font-family:Menlo,'DejaVu Sans Mono',consolas,'Courier New',monospace\"></pre>\n"
      ],
      "text/plain": []
     },
     "metadata": {},
     "output_type": "display_data"
    },
    {
     "data": {
      "text/html": [
       "<pre style=\"white-space:pre;overflow-x:auto;line-height:normal;font-family:Menlo,'DejaVu Sans Mono',consolas,'Courier New',monospace\">\n",
       "</pre>\n"
      ],
      "text/plain": [
       "\n"
      ]
     },
     "metadata": {},
     "output_type": "display_data"
    },
    {
     "data": {
      "text/html": [
       "<pre style=\"white-space:pre;overflow-x:auto;line-height:normal;font-family:Menlo,'DejaVu Sans Mono',consolas,'Courier New',monospace\"><span style=\"color: #7fbfbf; text-decoration-color: #7fbfbf\">             </span>status = postprocess                                               \n",
       "</pre>\n"
      ],
      "text/plain": [
       "\u001b[2;36m            \u001b[0m\u001b[2;36m \u001b[0mstatus = postprocess                                               \n"
      ]
     },
     "metadata": {},
     "output_type": "display_data"
    },
    {
     "data": {
      "application/vnd.jupyter.widget-view+json": {
       "model_id": "",
       "version_major": 2,
       "version_minor": 0
      },
      "text/plain": [
       "Output()"
      ]
     },
     "metadata": {},
     "output_type": "display_data"
    },
    {
     "data": {
      "text/html": [
       "<pre style=\"white-space:pre;overflow-x:auto;line-height:normal;font-family:Menlo,'DejaVu Sans Mono',consolas,'Courier New',monospace\"><span style=\"color: #7fbfbf; text-decoration-color: #7fbfbf\">15:36:50 PDT </span>status = success                                                   \n",
       "</pre>\n"
      ],
      "text/plain": [
       "\u001b[2;36m15:36:50 PDT\u001b[0m\u001b[2;36m \u001b[0mstatus = success                                                   \n"
      ]
     },
     "metadata": {},
     "output_type": "display_data"
    },
    {
     "data": {
      "text/html": [
       "<pre style=\"white-space:pre;overflow-x:auto;line-height:normal;font-family:Menlo,'DejaVu Sans Mono',consolas,'Courier New',monospace\"></pre>\n"
      ],
      "text/plain": []
     },
     "metadata": {},
     "output_type": "display_data"
    },
    {
     "data": {
      "text/html": [
       "<pre style=\"white-space:pre;overflow-x:auto;line-height:normal;font-family:Menlo,'DejaVu Sans Mono',consolas,'Courier New',monospace\"><span style=\"color: #7fbfbf; text-decoration-color: #7fbfbf\">             </span>View simulation result at                                          \n",
       "<span style=\"color: #7fbfbf; text-decoration-color: #7fbfbf\">             </span><a href=\"https://tidy3d.simulation.cloud/workbench?taskId=fdve-82b3a3b4-c3a8-4c39-88e8-92b7dda67fe2v1\" target=\"_blank\"><span style=\"color: #000080; text-decoration-color: #000080; text-decoration: underline\">'https://tidy3d.simulation.cloud/workbench?taskId=fdve-82b3a3b4-c3a</span></a>\n",
       "<span style=\"color: #7fbfbf; text-decoration-color: #7fbfbf\">             </span><a href=\"https://tidy3d.simulation.cloud/workbench?taskId=fdve-82b3a3b4-c3a8-4c39-88e8-92b7dda67fe2v1\" target=\"_blank\"><span style=\"color: #000080; text-decoration-color: #000080; text-decoration: underline\">8-4c39-88e8-92b7dda67fe2v1'</span></a><span style=\"color: #000080; text-decoration-color: #000080; text-decoration: underline\">.</span>                                       \n",
       "</pre>\n"
      ],
      "text/plain": [
       "\u001b[2;36m            \u001b[0m\u001b[2;36m \u001b[0mView simulation result at                                          \n",
       "\u001b[2;36m             \u001b[0m\u001b]8;id=959758;https://tidy3d.simulation.cloud/workbench?taskId=fdve-82b3a3b4-c3a8-4c39-88e8-92b7dda67fe2v1\u001b\\\u001b[4;34m'https://tidy3d.simulation.cloud/workbench?\u001b[0m\u001b]8;;\u001b\\\u001b]8;id=518564;https://tidy3d.simulation.cloud/workbench?taskId=fdve-82b3a3b4-c3a8-4c39-88e8-92b7dda67fe2v1\u001b\\\u001b[4;34mtaskId\u001b[0m\u001b]8;;\u001b\\\u001b]8;id=959758;https://tidy3d.simulation.cloud/workbench?taskId=fdve-82b3a3b4-c3a8-4c39-88e8-92b7dda67fe2v1\u001b\\\u001b[4;34m=\u001b[0m\u001b]8;;\u001b\\\u001b]8;id=619446;https://tidy3d.simulation.cloud/workbench?taskId=fdve-82b3a3b4-c3a8-4c39-88e8-92b7dda67fe2v1\u001b\\\u001b[4;34mfdve\u001b[0m\u001b]8;;\u001b\\\u001b]8;id=959758;https://tidy3d.simulation.cloud/workbench?taskId=fdve-82b3a3b4-c3a8-4c39-88e8-92b7dda67fe2v1\u001b\\\u001b[4;34m-82b3a3b4-c3a\u001b[0m\u001b]8;;\u001b\\\n",
       "\u001b[2;36m             \u001b[0m\u001b]8;id=959758;https://tidy3d.simulation.cloud/workbench?taskId=fdve-82b3a3b4-c3a8-4c39-88e8-92b7dda67fe2v1\u001b\\\u001b[4;34m8-4c39-88e8-92b7dda67fe2v1'\u001b[0m\u001b]8;;\u001b\\\u001b[4;34m.\u001b[0m                                       \n"
      ]
     },
     "metadata": {},
     "output_type": "display_data"
    },
    {
     "data": {
      "application/vnd.jupyter.widget-view+json": {
       "model_id": "0c0ea280880845a882ff9bbb4207c774",
       "version_major": 2,
       "version_minor": 0
      },
      "text/plain": [
       "Output()"
      ]
     },
     "metadata": {},
     "output_type": "display_data"
    },
    {
     "data": {
      "text/html": [
       "<pre style=\"white-space:pre;overflow-x:auto;line-height:normal;font-family:Menlo,'DejaVu Sans Mono',consolas,'Courier New',monospace\"></pre>\n"
      ],
      "text/plain": []
     },
     "metadata": {},
     "output_type": "display_data"
    },
    {
     "data": {
      "text/html": [
       "<pre style=\"white-space:pre;overflow-x:auto;line-height:normal;font-family:Menlo,'DejaVu Sans Mono',consolas,'Courier New',monospace\">\n",
       "</pre>\n"
      ],
      "text/plain": [
       "\n"
      ]
     },
     "metadata": {},
     "output_type": "display_data"
    },
    {
     "data": {
      "text/html": [
       "<pre style=\"white-space:pre;overflow-x:auto;line-height:normal;font-family:Menlo,'DejaVu Sans Mono',consolas,'Courier New',monospace\"><span style=\"color: #7fbfbf; text-decoration-color: #7fbfbf\">15:36:51 PDT </span>loading simulation from simulation_data.hdf5                       \n",
       "</pre>\n"
      ],
      "text/plain": [
       "\u001b[2;36m15:36:51 PDT\u001b[0m\u001b[2;36m \u001b[0mloading simulation from simulation_data.hdf5                       \n"
      ]
     },
     "metadata": {},
     "output_type": "display_data"
    },
    {
     "data": {
      "text/html": [
       "<pre style=\"white-space:pre;overflow-x:auto;line-height:normal;font-family:Menlo,'DejaVu Sans Mono',consolas,'Courier New',monospace\"><span style=\"color: #7fbfbf; text-decoration-color: #7fbfbf\">             </span><span style=\"color: #800000; text-decoration-color: #800000\">WARNING: monitors</span><span style=\"color: #800000; text-decoration-color: #800000; font-weight: bold\">[</span><span style=\"color: #008080; text-decoration-color: #008080; font-weight: bold\">0</span><span style=\"color: #800000; text-decoration-color: #800000; font-weight: bold\">]</span><span style=\"color: #800000; text-decoration-color: #800000\"> contains frequencies outside of the simulation</span>\n",
       "<span style=\"color: #7fbfbf; text-decoration-color: #7fbfbf\">             </span><span style=\"color: #800000; text-decoration-color: #800000\">frequency range </span><span style=\"color: #800000; text-decoration-color: #800000; font-weight: bold\">(</span><span style=\"color: #008080; text-decoration-color: #008080; font-weight: bold\">2.878008e+14</span><span style=\"color: #800000; text-decoration-color: #800000\">, </span><span style=\"color: #008080; text-decoration-color: #008080; font-weight: bold\">3.117842e+14</span><span style=\"color: #800000; text-decoration-color: #800000; font-weight: bold\">)(</span><span style=\"color: #800000; text-decoration-color: #800000\">Hz</span><span style=\"color: #800000; text-decoration-color: #800000; font-weight: bold\">)</span><span style=\"color: #800000; text-decoration-color: #800000\"> as defined by the </span>\n",
       "<span style=\"color: #7fbfbf; text-decoration-color: #7fbfbf\">             </span><span style=\"color: #800000; text-decoration-color: #800000\">sources.                                                           </span>\n",
       "</pre>\n"
      ],
      "text/plain": [
       "\u001b[2;36m            \u001b[0m\u001b[2;36m \u001b[0m\u001b[31mWARNING: monitors\u001b[0m\u001b[1;31m[\u001b[0m\u001b[1;36m0\u001b[0m\u001b[1;31m]\u001b[0m\u001b[31m contains frequencies outside of the simulation\u001b[0m\n",
       "\u001b[2;36m             \u001b[0m\u001b[31mfrequency range \u001b[0m\u001b[1;31m(\u001b[0m\u001b[1;36m2.878008e+14\u001b[0m\u001b[31m, \u001b[0m\u001b[1;36m3.117842e+14\u001b[0m\u001b[1;31m)\u001b[0m\u001b[1;31m(\u001b[0m\u001b[31mHz\u001b[0m\u001b[1;31m)\u001b[0m\u001b[31m as defined by the \u001b[0m\n",
       "\u001b[2;36m             \u001b[0m\u001b[31msources.                                                           \u001b[0m\n"
      ]
     },
     "metadata": {},
     "output_type": "display_data"
    }
   ],
   "source": [
    "sim_data_unmodulated = web.run(\n",
    "    sim_unmodulated, task_name=\"unmodulated_sellmeier\", verbose=True\n",
    ")\n",
    "sim_data_modulated = web.run(\n",
    "    sim_modulated, task_name=\"modulated_sellmeier\", verbose=True\n",
    ")\n"
   ]
  },
  {
   "cell_type": "markdown",
   "id": "22d7ddfe-dede-4fef-9f98-e21e6db627b0",
   "metadata": {},
   "source": [
    "### Postprocess and plot\n",
    "Let's perform the same visualization of the results."
   ]
  },
  {
   "cell_type": "code",
   "execution_count": 25,
   "id": "486c3d77-a7c0-400d-8351-a7f9519127b7",
   "metadata": {},
   "outputs": [],
   "source": [
    "photon_number_unmodulated = sim_data_unmodulated[\"flux\"].flux / monitor_freqs\n",
    "photon_number_modulated = sim_data_modulated[\"flux\"].flux / monitor_freqs\n"
   ]
  },
  {
   "cell_type": "code",
   "execution_count": 26,
   "id": "98bcce55-c3c9-42b9-aa15-20e499a0510b",
   "metadata": {},
   "outputs": [
    {
     "data": {
      "image/png": "[encoded data removed]",
      "text/plain": [
       "<Figure size 640x480 with 2 Axes>"
      ]
     },
     "metadata": {},
     "output_type": "display_data"
    }
   ],
   "source": [
    "fig, ax = plt.subplots(2, 1, tight_layout=True)\n",
    "ax[0].plot(monitor_freqs / freq0, photon_number_unmodulated, color=\"k\")\n",
    "ax[0].set_ylabel(\"Photon number (a.u.)\")\n",
    "ax[0].set_title(\"Unmodulated\")\n",
    "ax[1].plot(monitor_freqs / freq0, photon_number_modulated, color=\"r\")\n",
    "ax[1].set_ylabel(\"Photon number (a.u.)\")\n",
    "ax[1].set_title(\"Modulated\")\n",
    "ax[1].set_xlabel(\"Frequency (freq0)\")\n",
    "plt.show()\n"
   ]
  },
  {
   "cell_type": "markdown",
   "id": "9acb07f6-f4a9-479a-b373-25dea7da1136",
   "metadata": {},
   "source": [
    "Indeed, we only see up-conversion in the 1st sideband."
   ]
  },
  {
   "cell_type": "markdown",
   "id": "a8406d96-ac31-4ab7-9825-914727dc9bb0",
   "metadata": {},
   "source": [
    "## Notes:\n",
    "- When subpixel averaging is on, it will be applied to the passive part of the medium, but not to the active modulation part.\n",
    "- In dispersive medium, modulation can be applied to relative permittivity at infinite frequency `eps_inf` and `conductivity`. Modulation to other fields such as dispersive coefficients is expected in the future.\n",
    "- When modulation is applied to relative permittivity at infinite frequency, `eps_inf` must be positive at any time. The time step will be adjusted accordingly to the minimum value of `eps_inf`to meet CFL condition; Similarly, when modulation is applied to conductivity, the conductivity must be non-negative at any time, unless `allow_gain` is set to be `True`."
   ]
  },
  {
   "cell_type": "code",
   "execution_count": null,
   "id": "d5062454-4ff6-4889-9133-7af787815dff",
   "metadata": {},
   "outputs": [],
   "source": []
  }
 ],
 "metadata": {
  "description": "This notebook demonstrate how to simulation actively modulated devices such as electro-optical modulators in Tidy3D.",
  "kernelspec": {
   "display_name": "Python 3 (ipykernel)",
   "language": "python",
   "name": "python3"
  },
  "keywords": "active devices, electro-optical, EOM, modulators, electro-absorption, EAM, Tidy3D, FDTD",
  "language_info": {
   "codemirror_mode": {
    "name": "ipython",
    "version": 3
   },
   "file_extension": ".py",
   "mimetype": "text/x-python",
   "name": "python",
   "nbconvert_exporter": "python",
   "pygments_lexer": "ipython3",
   "version": "3.10.9"
  },
  "title": "How to apply time modulation to materials in Tidy3D FDTD"
 },
 "nbformat": 4,
 "nbformat_minor": 5
}
