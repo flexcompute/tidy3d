{
 "cells": [
  {
   "cell_type": "markdown",
   "id": "0dff81f1-150e-4132-a41f-7d5b32dbae1d",
   "metadata": {},
   "source": [
    "# Jax, automatic differentiation, and adjoint optimization: basics\n",
    "\n",
    "> To install the `jax` module required for this feature, we recommend running `pip install \"tidy3d[jax]\"`.\n",
    "\n",
    "## Introduction\n",
    "\n",
    "In this notebook, we will introduce the `adjoint` plugin of Tidy3D.\n",
    "The `adjoint` plugin allows users to take derivatives of arbitrary functions involving Tidy3D simulations through the use of the \"adjoint method\".\n",
    "The advantage of the adjoint method is that the gradients can be computed using only **two** FDTD simulations, independent of the number of parameters.\n",
    "This makes it possible to do gradient-based optimization or sensitivity analysis of devices with enormous numbers of parameters with minimal computational overhead.\n",
    "For more information on the technical details of the adjoint method and what it can be used for, we recommend these references (with links to their pre-print versions):\n",
    "\n",
    "* [Gradient-based \"inverse design\" optimization in photonics](https://arxiv.org/pdf/1801.06715.pdf).\n",
    "\n",
    "* [Adjoint method for electromagnetics](https://arxiv.org/abs/1908.10507)\n",
    "\n",
    "If you want to skip to some case studies of the `adjoint` plugin being used for some applications, see the\n",
    "\n",
    "* [Gradient Checking Notebook](https://www.flexcompute.com/tidy3d/examples/notebooks/AdjointPlugin2GradientChecking/).\n",
    "\n",
    "* [Inverse Design Notebook](https://www.flexcompute.com/tidy3d/examples/notebooks/AdjointPlugin3InverseDesign/).\n",
    "\n",
    "* [Multi-Objective Gradient Notebook](https://www.flexcompute.com/tidy3d/examples/notebooks/AdjointPlugin4MultiObjective/).\n",
    "\n",
    "* [Boundary Gradients Notebook](https://www.flexcompute.com/tidy3d/examples/notebooks/AdjointPlugin5BoundaryGradients/).\n",
    "\n",
    "* [Grating Coupler Notebook](https://www.flexcompute.com/tidy3d/examples/notebooks/AdjointPlugin6GratingCoupler/).\n",
    "\n",
    "* [Metalens Notebook](https://www.flexcompute.com/tidy3d/examples/notebooks/AdjointPlugin7Metalens/).\n",
    "\n",
    "\n",
    "### Function differentiation\n",
    "\n",
    "The adjoint package enables users to take derivatives of functions that involve a Tidy3D simulation. For a bit of context, let's first talk about what we mean when we talk about differentiating functions in our programs.\n",
    "Say in our program we have programmatically defined a function of one variable $f(x)$. For example:\n",
    "```py\n",
    "def f(x):\n",
    "   return x**2\n",
    "```\n",
    "\n",
    "Now, we wish to evaluate $\\frac{df(x)}{dx}$.\n",
    "\n",
    "If we know $\\frac{df}{dx}$ analytically, this is just a matter of writing a new function to compute this derivative, for example:\n",
    "\n",
    "```py\n",
    "def df(x):\n",
    "    return 2*x\n",
    "```\n",
    "However, many of the more interesting and complex functions tend to compose several sub-functions together, for example\n",
    "$$f(x) = h(y) = h(g(x))$$\n",
    "might be written in a program as\n",
    "\n",
    "```py\n",
    "def f(x):\n",
    "    y = x**2\n",
    "    return 5 * y - y**3\n",
    "```\n",
    "\n",
    "As one can imagine, defining the derivative by hand can quickly become too daunting of a task as the complexity grows.\n",
    "\n",
    "However, we can simplify things greatly with knowledge of the derivatives of the simpler functions that make up $f$.\n",
    "Following the chain rule, we can write the derivative of $f$ above as\n",
    "$$\\frac{df}{dx}=\\frac{dh}{dy}\\frac{dg}{dx}(x)$$\n",
    "\n",
    "Thus, if we know the derivatives of the composite functions $h$ and $g$, we can construct the derivative of $f$ by multiplying all of the derivatives of the composite functions.\n",
    "This idea is straightforwardly generalized to functions of several inputs and outputs, and even functions that can be written more generally as a more complex \"computational graph\" rather than a sequence of operations.\n",
    "\n",
    "### Automatic differentiation\n",
    "\n",
    "The idea of a technique called \"automatic differentiation\" is to provide a way to compute these derivatives of composite functions in programming languages both efficiently and without the user needing to define anything by hand.\n",
    "\n",
    "Automatic differentiation works by defining \"derivative rules\" for each fundamental operation that the user might incorporate in his or her function. For example, derivative rules for `h` and `g`, in the example above may be used to help define the derivative for `f`. When the function is evaluated, all of the derivative information corresponding to each operation in the function are stitched together using the chain rule to construct a derivative for the entire function. Thus, functions of arbitrary complexity can be differentiated without deriving anything beyond just the derivative rules for the most basic operations contained within.\n",
    "\n",
    "This capability is provided by many programming packages, but we chose to utilize one from the [\"jax\"](https://jax.readthedocs.io/en/latest/) package as it provides the flexibility and extendibility we needed for integrating this functionality into Tidy3D.\n",
    "\n",
    "Using `jax`, we may write a function $f$ using most of the fundamental operations in python and `numpy`. In `jax` both the operations and their derivatives are tracked when the function is called. Thus, `jax` gives the option to apply `jax.grad` to this function, which uses all of the derivative information and the chain rule to construct a new function that gives the derivative of the function with respect to its input arguments.\n",
    "\n",
    "This brings us back to the `adjoint` plugin. The point of the `adjoint` plugin is to extend `jax`'s automatic differentiation capability to allow it to track functions **that involve Tidy3D simulations** in their computational graph. In essence, we privode the \"derivative\" of the `tidy3d.web.run()` function, using the adjoint method, to tell jax how to differentiate functions that might involve both the setting up and postprocessing of a tidy3d simulation and its data. The end result is a framework where users can set up modeling and optimizations and utilize jax automatic differentiation for optimization and sensitivity analysis efficiently and without needing to derive a single derivative rule.\n",
    "\n",
    "In his notebook, we will give an overview of how `jax` works for beginners and provide simple example of the plugin. More complex case studies and examples will be provided in other notebooks, linked here:\n",
    "\n",
    "\n",
    "* [Gradient Checking Notebook](https://www.flexcompute.com/tidy3d/examples/notebooks/AdjointPlugin2GradientChecking/).\n",
    "\n",
    "* [Inverse Design Notebook](https://www.flexcompute.com/tidy3d/examples/notebooks/AdjointPlugin3InverseDesign/).\n",
    "\n",
    "* [Multi-Objective Gradient Notebook](https://www.flexcompute.com/tidy3d/examples/notebooks/AdjointPlugin4MultiObjective/).\n",
    "\n",
    "* [Boundary Gradients Notebook](https://www.flexcompute.com/tidy3d/examples/notebooks/AdjointPlugin5BoundaryGradients/).\n",
    "\n",
    "* [Grating Coupler Notebook](https://www.flexcompute.com/tidy3d/examples/notebooks/AdjointPlugin6GratingCoupler/).\n",
    "\n",
    "* [Metalens Notebook](https://www.flexcompute.com/tidy3d/examples/notebooks/AdjointPlugin7Metalens/).\n"
   ]
  },
  {
   "cell_type": "markdown",
   "id": "87d26e12-3c03-432d-9cf4-61f0b03a8608",
   "metadata": {},
   "source": [
    "## Automatic Differentiation using `jax`\n",
    "\n",
    "Before jumping into any Tidy3D simulations, we will give a bit of a primer on using jax for automatic differentiation. For more details, we highly recommend checking out jax's [tutorial on the subject](https://jax.readthedocs.io/en/latest/notebooks/autodiff_cookbook.html), as we'll be covering a lot of the same topics but in less depth.\n",
    "\n",
    "First, we will import `jax` and its `numpy` wrapper, which provides most of the same functionality, but allows derivative tracking.\n",
    "\n",
    "Tip 1: if you run into an obscure error using `jax`, the first thing to check is whether you're using the `jax.numpy` wrapper instead of regular `numpy` in your function, as otherwise you will get errors from `jax` that are not super clear."
   ]
  },
  {
   "cell_type": "code",
   "execution_count": 1,
   "id": "d1ce429f-3183-4f7f-8b16-dda847239742",
   "metadata": {
    "execution": {
     "iopub.execute_input": "2023-08-17T23:06:44.182840Z",
     "iopub.status.busy": "2023-08-17T23:06:44.182571Z",
     "iopub.status.idle": "2023-08-17T23:06:45.262890Z",
     "shell.execute_reply": "2023-08-17T23:06:45.262309Z"
    }
   },
   "outputs": [],
   "source": [
    "import jax\n",
    "import jax.numpy as jnp\n",
    "import matplotlib.pylab as plt\n"
   ]
  },
  {
   "cell_type": "markdown",
   "id": "b5d017ba-6dc9-4cc0-b226-2b3c3438e0d5",
   "metadata": {},
   "source": [
    "Say we have a function $f$ that performs several operations on a single variable.\n",
    "\n",
    "We can define this function `f` in python and also derive its derivative for this simple case, which we write as a function `df`."
   ]
  },
  {
   "cell_type": "code",
   "execution_count": 2,
   "id": "c501ff19-8e46-4aaf-86dd-89a97732dfa0",
   "metadata": {
    "execution": {
     "iopub.execute_input": "2023-08-17T23:06:45.265535Z",
     "iopub.status.busy": "2023-08-17T23:06:45.265339Z",
     "iopub.status.idle": "2023-08-17T23:06:45.277891Z",
     "shell.execute_reply": "2023-08-17T23:06:45.277292Z"
    }
   },
   "outputs": [],
   "source": [
    "def f(x):\n",
    "    return 5 * jnp.sin(x) - x**2 + x\n",
    "\n",
    "\n",
    "def df(x):\n",
    "    return 5 * jnp.cos(x) - 2 * x + 1\n"
   ]
  },
  {
   "cell_type": "markdown",
   "id": "434d1841-45e5-48a3-986c-56e630badd2d",
   "metadata": {},
   "source": [
    "Let's evaluate these functions at several points and plot them."
   ]
  },
  {
   "cell_type": "code",
   "execution_count": 3,
   "id": "237ede5f-0a7d-45cf-927b-dcb2a9b57d9c",
   "metadata": {
    "execution": {
     "iopub.execute_input": "2023-08-17T23:06:45.280148Z",
     "iopub.status.busy": "2023-08-17T23:06:45.279974Z",
     "iopub.status.idle": "2023-08-17T23:06:46.023332Z",
     "shell.execute_reply": "2023-08-17T23:06:46.022669Z"
    }
   },
   "outputs": [
    {
     "name": "stderr",
     "output_type": "stream",
     "text": [
      "No GPU/TPU found, falling back to CPU. (Set TF_CPP_MIN_LOG_LEVEL=0 and rerun for more info.)\n"
     ]
    },
    {
     "data": {
      "image/png": "[encoded data removed]",
      "text/plain": [
       "<Figure size 640x480 with 1 Axes>"
      ]
     },
     "metadata": {},
     "output_type": "display_data"
    }
   ],
   "source": [
    "xs = jnp.linspace(-1, 3, 1001)\n",
    "plt.plot(xs, f(xs), label=\"f(x)\")\n",
    "plt.plot(xs, df(xs), label=\"df/dx(x)\")\n",
    "plt.xlabel(\"x\")\n",
    "plt.legend()\n",
    "plt.show()\n"
   ]
  },
  {
   "cell_type": "markdown",
   "id": "3e9915a8-59e9-4209-bf29-bd21dcda84a3",
   "metadata": {},
   "source": [
    "Now let's use jax to compute the derivative for us and see how it compares to our analytical derivative.\n",
    "\n",
    "We first call `jax.grad(f)`, which returns a new function that can be evaluated at `x` to give the derivative `df/dx(x)`.\n",
    "\n",
    "For more details on `jax.grad` and the various other inputs it can take, refer to its documentation [here](https://jax.readthedocs.io/en/latest/_autosummary/jax.grad.html)."
   ]
  },
  {
   "cell_type": "code",
   "execution_count": 4,
   "id": "f846ded9-26ac-4778-b637-56768b07dd6e",
   "metadata": {
    "execution": {
     "iopub.execute_input": "2023-08-17T23:06:46.025865Z",
     "iopub.status.busy": "2023-08-17T23:06:46.025693Z",
     "iopub.status.idle": "2023-08-17T23:06:46.497467Z",
     "shell.execute_reply": "2023-08-17T23:06:46.496908Z"
    }
   },
   "outputs": [
    {
     "data": {
      "image/png": "[encoded data removed]",
      "text/plain": [
       "<Figure size 640x480 with 1 Axes>"
      ]
     },
     "metadata": {},
     "output_type": "display_data"
    }
   ],
   "source": [
    "# get the gradient as a function of x\n",
    "df_jax = jax.grad(f)\n",
    "\n",
    "# get a set of points to feed the derivative function one by one (for now)\n",
    "xs_jax = jnp.linspace(-1, 3, 21)\n",
    "df_jax_eval = [df_jax(x) for x in xs_jax]\n",
    "\n",
    "plt.plot(xs, f(xs), label=\"f(x)\")\n",
    "plt.plot(xs, df(xs), label=\"df/dx(x) [analytical]\")\n",
    "plt.plot(xs_jax, df_jax_eval, \"k.\", label=\"df/dx(x) [using jax]\")\n",
    "plt.xlabel(\"x\")\n",
    "plt.legend()\n",
    "plt.show()\n"
   ]
  },
  {
   "cell_type": "markdown",
   "id": "be79405a-621a-4170-9799-ef65efc68335",
   "metadata": {},
   "source": [
    "Note: `jax` provides several other useful gradient wrappers, which can be used in different contexts. \n",
    "\n",
    "For example [jax.value_and_grad](https://jax.readthedocs.io/en/latest/_autosummary/jax.value_and_grad.html) returns both the function return value and the gradient value, which is useful to avoid repetitive computation if you need the value as the `jax.grad` call must evaluate `f`."
   ]
  },
  {
   "cell_type": "code",
   "execution_count": 5,
   "id": "9d26f7d1-124b-4e0d-9f34-75cbf4030ad9",
   "metadata": {
    "execution": {
     "iopub.execute_input": "2023-08-17T23:06:46.499610Z",
     "iopub.status.busy": "2023-08-17T23:06:46.499433Z",
     "iopub.status.idle": "2023-08-17T23:06:46.765046Z",
     "shell.execute_reply": "2023-08-17T23:06:46.764493Z"
    }
   },
   "outputs": [
    {
     "data": {
      "image/png": "[encoded data removed]",
      "text/plain": [
       "<Figure size 640x480 with 1 Axes>"
      ]
     },
     "metadata": {},
     "output_type": "display_data"
    }
   ],
   "source": [
    "f_and_df = jax.value_and_grad(f)\n",
    "vals_and_grads = [f_and_df(x) for x in xs_jax]\n",
    "fs, dfs = list(zip(*vals_and_grads))\n",
    "\n",
    "plt.plot(xs_jax, fs, label=\"f(x)\")\n",
    "plt.plot(xs, df(xs), label=\"df/dx(x) [analytical]\")\n",
    "plt.plot(xs_jax, df_jax_eval, \"k.\", label=\"df/dx(x) [using jax]\")\n",
    "plt.xlabel(\"x\")\n",
    "plt.legend()\n",
    "plt.show()\n"
   ]
  },
  {
   "cell_type": "markdown",
   "id": "a727c6f0-b26a-4b3e-9582-148098f136ec",
   "metadata": {},
   "source": [
    "We can also take an elementwise gradient using [jax.vmap](https://jax.readthedocs.io/en/latest/_autosummary/jax.vmap.html), which vectorizes our gradient function."
   ]
  },
  {
   "cell_type": "code",
   "execution_count": 6,
   "id": "9abb7392-9e0c-4cd6-8fd3-6ce78f563fce",
   "metadata": {
    "execution": {
     "iopub.execute_input": "2023-08-17T23:06:46.768237Z",
     "iopub.status.busy": "2023-08-17T23:06:46.767494Z",
     "iopub.status.idle": "2023-08-17T23:06:47.071598Z",
     "shell.execute_reply": "2023-08-17T23:06:47.071035Z"
    }
   },
   "outputs": [
    {
     "data": {
      "image/png": "[encoded data removed]",
      "text/plain": [
       "<Figure size 640x480 with 1 Axes>"
      ]
     },
     "metadata": {},
     "output_type": "display_data"
    }
   ],
   "source": [
    "df_jax_vectorized = jax.vmap(jax.grad(f))\n",
    "\n",
    "# get a set of points to feed the derivative function one by one (for now)\n",
    "df_jax_eval = df_jax_vectorized(xs)\n",
    "\n",
    "plt.plot(xs, f(xs), label=\"f(x)\")\n",
    "plt.plot(xs, df(xs), label=\"df/dx(x) [analytical]\")\n",
    "plt.plot(xs, df_jax_eval, \"k-.\", label=\"df/dx(x) [using jax]\")\n",
    "plt.xlabel(\"x\")\n",
    "plt.legend()\n",
    "plt.show()\n"
   ]
  },
  {
   "cell_type": "markdown",
   "id": "18a7936e-9919-4ace-85bf-d8c14d124649",
   "metadata": {},
   "source": [
    "Before we continue, there are a few things to watch out for when using jax for gradient calculation:\n",
    "\n",
    "1.  `jax.grad` outputs doesn't automatically convert input arguments from `int` to `float`, so avoid passing `int` types to your functions."
   ]
  },
  {
   "cell_type": "code",
   "execution_count": 7,
   "id": "d648c131-b674-49a7-b441-ca6569e6540d",
   "metadata": {
    "execution": {
     "iopub.execute_input": "2023-08-17T23:06:47.073751Z",
     "iopub.status.busy": "2023-08-17T23:06:47.073574Z",
     "iopub.status.idle": "2023-08-17T23:06:47.225991Z",
     "shell.execute_reply": "2023-08-17T23:06:47.225307Z"
    }
   },
   "outputs": [
    {
     "name": "stdout",
     "output_type": "stream",
     "text": [
      "1.7015114\n",
      "TypeError('grad requires real- or complex-valued inputs (input dtype that is a sub-dtype of np.inexact), but got int32. If you want to use Boolean- or integer-valued inputs, use vjp or set allow_int to True.')\n"
     ]
    }
   ],
   "source": [
    "# ok\n",
    "print(df_jax(1.0))\n",
    "\n",
    "# errors\n",
    "try:\n",
    "    df_jax(1)\n",
    "except TypeError as e:\n",
    "    print(repr(e))\n"
   ]
  },
  {
   "cell_type": "markdown",
   "id": "003ef198-e0a2-495f-844e-adeff0563c1d",
   "metadata": {},
   "source": [
    "2. When differentiating with respect to several arguments, you need to tell `jax.grad` which arguments you want to take the derivative with respect to as a tuple in indices. Otherwise it will take the derivative with respect to only the first argument."
   ]
  },
  {
   "cell_type": "code",
   "execution_count": 8,
   "id": "b42164ce-41df-4bb2-8e23-eb11b2a45547",
   "metadata": {
    "execution": {
     "iopub.execute_input": "2023-08-17T23:06:47.228297Z",
     "iopub.status.busy": "2023-08-17T23:06:47.228085Z",
     "iopub.status.idle": "2023-08-17T23:06:47.350710Z",
     "shell.execute_reply": "2023-08-17T23:06:47.350178Z"
    }
   },
   "outputs": [
    {
     "name": "stdout",
     "output_type": "stream",
     "text": [
      "dgdx=1.0\n",
      "dgdx=1.0, dgdy=1.0, dgdz=2.0\n"
     ]
    }
   ],
   "source": [
    "def g(x, y, z):\n",
    "    return x * y + z**2\n",
    "\n",
    "\n",
    "# only gives dg/dx\n",
    "dg = jax.grad(g)\n",
    "dgdx = dg(1.0, 1.0, 1.0)\n",
    "print(f\"dgdx={dgdx}\")\n",
    "\n",
    "# gives derivative w.r.t. all three args\n",
    "dg_all = jax.grad(g, argnums=(0, 1, 2))\n",
    "dgdx, dgdy, dgdz = dg_all(1.0, 1.0, 1.0)\n",
    "print(f\"dgdx={dgdx}, dgdy={dgdy}, dgdz={dgdz}\")\n"
   ]
  },
  {
   "cell_type": "markdown",
   "id": "cbb36cd5-fef1-47d1-b25f-1fb7cc0d882b",
   "metadata": {},
   "source": [
    "## Incorporating Automatic Differentiation in `Tidy3D`\n",
    "\n",
    "With that basic introduction to automatic differentiation using `jax`, we can now show how the `tidy3d.plugins.adjoint`lets us do the same thing but where our functions can now involve setting up, running, and postprocessing a `tidy3d.Simulation`.\n",
    "\n",
    "We'll need to import special `Jax` components from the adjoint plugin for this to work. These components are registered with `jax` so it knows how to handle them in its automatic differentiation pipeline.\n",
    "\n",
    "We'll also need to import a special `web.run()` wrapper from the plugin. This [tidy3d.plugins.adjoint.web.run](../_autosummary/tidy3d.plugins.adjoint.web.run.html) function operates the same as `web.run()`, except its derivative rules are defined in the backend using the adjoint method. Thus, `jax` will know how to \"differentiate\" [tidy3d.plugins.adjoint.web.run](../_autosummary/tidy3d.plugins.adjoint.web.run.html) and it can be used within a function that we want to take derivatives with respect to.\n",
    "\n",
    "\n",
    "Here is a diagram showing how the input arguments of our function `f` are related to the `JaxSimulation` and how the `JaxSimulationData` output of `tidy3d.plugins.adjoint.web.run` is related to the return value of `f`. This diagram can be a useful reference when moving through this section.\n",
    "\n",
    "<img src=\"img/AdjointPipeline.png\" width=800 alt=\"Diagram of the adjoint pipeline\">\n",
    "\n",
    "### Introducing `JaxSimuation`\n",
    "\n",
    "Now we will show how to set up a very simple function using the adjoint plugin and differentiate it.\n",
    "\n",
    "First, both our `Simulation` and some of its `.structures` may be dependent on the function arguments. Therefore, we need to use a special `Simulation` subclass called [JaxSimulation](../_autosummary/tidy3d.plugins.adjoint.JaxSimulation.html).\n",
    "\n",
    "[JaxSimulation](../_autosummary/tidy3d.plugins.adjoint.JaxSimulation.html) is just a `jax`-compatible stand in for `Simulation` and behaves almost entirely the same, except for a few important differences:\n",
    "\n",
    "1. it accepts an additional field `.input_structures`. These `input_structures` are tidy3d structures that can depend on the function arguments, and therefore need to be, `jax`-compatible, themselves. Thus, the structures used in this field must be of the `jax`-compatible type [JaxStructure](../_autosummary/tidy3d.plugins.adjoint.JaxStructure.html), which itself contains a `.medium` field of type [JaxMedium](../_autosummary/tidy3d.plugins.adjoint.JaxMedium.html) and a `.geometry` field that is of type [JaxBox](../_autosummary/tidy3d.plugins.adjoint.JaxBox.html). The `center`, `size`, and `permittivity` fields of these components may all depend on the function input arguments and the final gradients of the function will be given with respect to the values these fields.\n",
    "\n",
    "> At the time of publishing, only `JaxStructures` with geometry of `JaxBox` are supported. However, the medium may contain [JaxMedium](../_autosummary/tidy3d.plugins.adjoint.JaxMedium.html), [JaxAnisotropicMedium](../_autosummary/tidy3d.plugins.adjoint.JaxAnisotropicMedium.html), or [JaxCustomMedium](../_autosummary/tidy3d.plugins.adjoint.JaxCustomMedium.html). \n",
    "\n",
    "> Any extraneous `Structures` can be added to the `JaxSimulation.structures` as long as they don't depend on the funciton arguments. These structures will still influence the simulation result as normal, but are \"static\". \n",
    "\n",
    "> The `input_structures` are always assumed to be added *on top of* the existing `.structures`.\n",
    "\n",
    "2. it accepts another additional field `.output_monitors`, which define the set of monitors with corresponding data that the return value of our function will depend on. Note that at the time of writing, only `ModeMonitor` are supported.\n",
    "\n",
    "3. to convert a `JaxSimulation` to a `Simulation`, one may call `sim, info = JaxSimulation.to_simulation()` where the `sim` is the `Simulation` with all `structures` and `monitors` put together and `info` is just a special information container that is needed to reconstruct the `JaxSimulation` from `sim` using `JaxSimulation.from_simulation(sim, info)`.\n",
    "\n",
    "Let us now import these new `Jax` Tidy3d types and use them in an example."
   ]
  },
  {
   "cell_type": "code",
   "execution_count": 9,
   "id": "f304ea94-34df-4741-ab99-87003884eee7",
   "metadata": {
    "execution": {
     "iopub.execute_input": "2023-08-17T23:06:47.353341Z",
     "iopub.status.busy": "2023-08-17T23:06:47.353097Z",
     "iopub.status.idle": "2023-08-17T23:06:49.246131Z",
     "shell.execute_reply": "2023-08-17T23:06:49.245477Z"
    }
   },
   "outputs": [],
   "source": [
    "import tidy3d as td\n",
    "from tidy3d.plugins.adjoint import JaxSimulation, JaxStructure, JaxMedium, JaxBox\n"
   ]
  },
  {
   "cell_type": "markdown",
   "id": "e54cc9fa-b5f2-4f62-b31e-3a0e1fa7acac",
   "metadata": {},
   "source": [
    "### Simulation example\n",
    "\n",
    "In our example, we will set up a function that involves a simulation of transmission through a waveguide in the presence of a scatterer.\n",
    "\n",
    "This scatterer geometry and material properties will depend on the function input arguments.\n",
    "\n",
    "The output of the function will simply be the power transmitted into the 0th order mode.\n",
    "\n",
    "We will then take the gradient of the output of this function (power) with respect to the scatterer geometric and medium properties using `jax`.\n",
    "\n",
    "To start, it can often be helpful to break our function up into a few parts for debugging.\n",
    "\n",
    "Therefore, we will introduce one function to make the `JaxSimulation` given the input arguments and one function to postprocess the result."
   ]
  },
  {
   "cell_type": "code",
   "execution_count": 10,
   "id": "3cbe5188-a552-40db-a1e6-ddb4af0ead63",
   "metadata": {
    "execution": {
     "iopub.execute_input": "2023-08-17T23:06:49.249003Z",
     "iopub.status.busy": "2023-08-17T23:06:49.248691Z",
     "iopub.status.idle": "2023-08-17T23:06:49.275338Z",
     "shell.execute_reply": "2023-08-17T23:06:49.274709Z"
    }
   },
   "outputs": [],
   "source": [
    "def make_simulation(center: float, size: float, eps: float) -> JaxSimulation:\n",
    "    \"\"\"Makes a simulation with a variable scatter width, height, and relative permittivity.\"\"\"\n",
    "\n",
    "    wavelength = 1.0\n",
    "    freq0 = td.C_0 / wavelength\n",
    "    dl = 0.02\n",
    "\n",
    "    # a \"static\" structure\n",
    "    waveguide = td.Structure(\n",
    "        geometry=td.Box(size=(td.inf, 0.3, 0.2)), medium=td.Medium(permittivity=2.0)\n",
    "    )\n",
    "\n",
    "    # our \"forward\" soruce\n",
    "    mode_src = td.ModeSource(\n",
    "        size=(0, 1.5, 1.5),\n",
    "        center=(-0.9, 0, 0),\n",
    "        mode_index=0,\n",
    "        source_time=td.GaussianPulse(freq0=freq0, fwidth=freq0 / 10),\n",
    "        direction=\"+\",\n",
    "    )\n",
    "\n",
    "    # a monitor to store data that our overall function will depend on\n",
    "    mode_mnt = td.ModeMonitor(\n",
    "        size=(0, 1.5, 1.5),\n",
    "        center=(+0.9, 0, 0),\n",
    "        mode_spec=mode_src.mode_spec,\n",
    "        freqs=[freq0],\n",
    "        name=\"mode\",\n",
    "    )\n",
    "\n",
    "    # the structure that depends on the input parameters, which we will differentiate our function w.r.t\n",
    "    scatterer = JaxStructure(\n",
    "        geometry=JaxBox(\n",
    "            center=center,\n",
    "            size=size,\n",
    "        ),\n",
    "        medium=JaxMedium(permittivity=eps),\n",
    "    )\n",
    "\n",
    "    return JaxSimulation(\n",
    "        size=(2, 2, 2),\n",
    "        run_time=1e-12,\n",
    "        structures=[waveguide],\n",
    "        input_structures=[scatterer],\n",
    "        sources=[mode_src],\n",
    "        output_monitors=[mode_mnt],\n",
    "        boundary_spec=td.BoundarySpec.all_sides(td.PML()),\n",
    "        grid_spec=td.GridSpec.uniform(dl=dl),\n",
    "    )\n"
   ]
  },
  {
   "cell_type": "markdown",
   "id": "f4dcb88e-490f-4579-bb7d-4166bd6a3be5",
   "metadata": {},
   "source": [
    "> Note: adding `.monitors` to the `JaxSimulation` will work as intended, but the function being differentiated should not depend on data corresponding to these monitors. This can, however,be useful for debugging, for example by examining field patterns, as the data will still be accessible in the output data.\n",
    "\n",
    "Let's try setting up the simulation and plotting it for starters."
   ]
  },
  {
   "cell_type": "code",
   "execution_count": 11,
   "id": "f4da7dc4-b13b-4c62-8590-4877ed71422a",
   "metadata": {
    "execution": {
     "iopub.execute_input": "2023-08-17T23:06:49.278111Z",
     "iopub.status.busy": "2023-08-17T23:06:49.277951Z",
     "iopub.status.idle": "2023-08-17T23:06:49.797425Z",
     "shell.execute_reply": "2023-08-17T23:06:49.796862Z"
    }
   },
   "outputs": [
    {
     "data": {
      "image/png": "[encoded data removed]",
      "text/plain": [
       "<Figure size 1600x500 with 3 Axes>"
      ]
     },
     "metadata": {},
     "output_type": "display_data"
    }
   ],
   "source": [
    "# starting set of input parameters\n",
    "center0 = (0.0, 0.0, 0.0)\n",
    "size0 = (0.5, 1.0, 1.0)\n",
    "eps0 = 3.0\n",
    "\n",
    "jax_sim = make_simulation(center=center0, size=size0, eps=eps0)\n",
    "_, axes = plt.subplots(1, 3, figsize=(16, 5))\n",
    "\n",
    "# sim, _ = jax_sim.to_simulation()\n",
    "for ax, dim in zip(axes, \"xyz\"):\n",
    "    jax_sim.plot(**{dim: 0}, ax=ax)\n",
    "plt.show()\n"
   ]
  },
  {
   "cell_type": "markdown",
   "id": "a390df41-e293-4dbf-83e0-f5dff8e700cc",
   "metadata": {},
   "source": [
    "### Post-processing the output data\n",
    "\n",
    "After the simulation is run, it returns a [JaxSimulation](../_autosummary/tidy3d.plugins.adjoint.JaxSimulation.html), which is a jax-compatible subclass of `SimulationData`. In addition to the `.data` corresponding to the `.monitors` in the `JaxSimulation`, `JaxSimulationData` also stores a `.output_data`, which stores the data corresponding to `JaxSimulation.output_monitors`. It is the `.output_data` that our differentiable function should depend on. These output data objects are also `Jax` subclasses of `Tidy3d` data objects, so their functionality may be slightly different, but overall can be used in the same way.\n",
    "\n",
    "> Note: currently only `.sel()` selection is supported in jax-compatible DataArray objects. So you should use `.sel()` and pass the values you want to select instead of using `.interp()` or `isel()` \n",
    "\n",
    "Let's write a function that will postprocess our `JaxSimulationData` and return the power in the mode amplitude of our output mode monitor."
   ]
  },
  {
   "cell_type": "code",
   "execution_count": 12,
   "id": "5d5c14b9-cb22-4ced-aad8-834b29c5800b",
   "metadata": {
    "execution": {
     "iopub.execute_input": "2023-08-17T23:06:49.799869Z",
     "iopub.status.busy": "2023-08-17T23:06:49.799721Z",
     "iopub.status.idle": "2023-08-17T23:06:49.823824Z",
     "shell.execute_reply": "2023-08-17T23:06:49.823131Z"
    }
   },
   "outputs": [],
   "source": [
    "from tidy3d.plugins.adjoint import JaxSimulationData\n",
    "\n",
    "\n",
    "def compute_power(jax_sim_data: JaxSimulationData) -> float:\n",
    "    \"\"\"Post process the result of the JaxSimulation run to return the power in the mode at index=0.\"\"\"\n",
    "\n",
    "    freq0 = jax_sim_data.simulation.output_monitors[0].freqs[0]\n",
    "    jax_mode_data = jax_sim_data.output_monitor_data[\"mode\"]\n",
    "    mode_amps = jax_mode_data.amps\n",
    "    amp = mode_amps.sel(direction=\"+\", f=freq0, mode_index=0)\n",
    "    return abs(amp) ** 2\n"
   ]
  },
  {
   "cell_type": "markdown",
   "id": "a49d64c6-7591-4b8b-bfa3-d09c1501d4b0",
   "metadata": {},
   "source": [
    "### Defining the tidy3d simulation function for differentiation\n",
    "\n",
    "Next, we can import the `tidy3d.plugins.adjoint.web.run` function and put all the pieces together into a single function to compute the 0th order transmitted power as a function of `center`, `size`, and `eps` (relative permittivty) of the scatterer."
   ]
  },
  {
   "cell_type": "code",
   "execution_count": 13,
   "id": "7257472c-5db1-4b93-8cdb-24b3cc32775d",
   "metadata": {
    "execution": {
     "iopub.execute_input": "2023-08-17T23:06:49.826490Z",
     "iopub.status.busy": "2023-08-17T23:06:49.826325Z",
     "iopub.status.idle": "2023-08-17T23:06:49.848139Z",
     "shell.execute_reply": "2023-08-17T23:06:49.847216Z"
    },
    "tags": []
   },
   "outputs": [],
   "source": [
    "from tidy3d.plugins.adjoint.web import run as run_adjoint\n"
   ]
  },
  {
   "cell_type": "code",
   "execution_count": 14,
   "id": "946493e2-b10a-4824-aef0-2e8f1ec113f1",
   "metadata": {
    "execution": {
     "iopub.execute_input": "2023-08-17T23:06:49.850738Z",
     "iopub.status.busy": "2023-08-17T23:06:49.850282Z",
     "iopub.status.idle": "2023-08-17T23:06:49.873655Z",
     "shell.execute_reply": "2023-08-17T23:06:49.873106Z"
    }
   },
   "outputs": [],
   "source": [
    "def power(center: float, size: float, eps: float) -> float:\n",
    "    \"\"\"Compute power transmitted into 0th order mode given a set of scatterer parameters.\"\"\"\n",
    "    jax_sim = make_simulation(center=center, size=size, eps=eps)\n",
    "    jax_sim_data = run_adjoint(jax_sim, task_name=\"adjoint_power\", verbose=True)\n",
    "    return compute_power(jax_sim_data)\n"
   ]
  },
  {
   "cell_type": "markdown",
   "id": "90ee44c1-38a6-4dba-add5-9b36c43454cb",
   "metadata": {},
   "source": [
    "### Running and differentiating the simulation using `jax`\n",
    "\n",
    "Finally, using the `jax` tools described earlier, we can differentiate this `power` function. \n",
    "\n",
    "For demonstration, let's use `jax.value_and_grad` to both compute the power **and** the gradient w.r.t. each of the 3 input parameters."
   ]
  },
  {
   "cell_type": "code",
   "execution_count": 15,
   "id": "8a6518dd-c5a9-4826-95f6-7a0ed90e2f9a",
   "metadata": {
    "execution": {
     "iopub.execute_input": "2023-08-17T23:06:49.875904Z",
     "iopub.status.busy": "2023-08-17T23:06:49.875753Z",
     "iopub.status.idle": "2023-08-17T23:06:49.903884Z",
     "shell.execute_reply": "2023-08-17T23:06:49.903097Z"
    }
   },
   "outputs": [],
   "source": [
    "d_power = jax.value_and_grad(power, argnums=(0, 1, 2))\n"
   ]
  },
  {
   "cell_type": "markdown",
   "id": "6f787405-1c6e-40b1-81d2-1a64d667e009",
   "metadata": {},
   "source": [
    "We will run this function and assign variables to the power values and the gradients returned.\n",
    "\n",
    "Note that running this will set off **two** separate tasks, one after another, called, `\"adjoint_power_fwd\"` and `\"adjoint_power_adj\"`.\n",
    "\n",
    "The first is evaluating our simulation in \"forward mode\", computing the power and stashing information needed for gradient computation.\n",
    "\n",
    "The second step runs the \"adjoint\" simulation, in which the output monitor is converted to a source and the simulation is re-run.\n",
    "\n",
    "The results of both of these simulations runs are combined behind the scene to tell jax how to compute the gradient for us."
   ]
  },
  {
   "cell_type": "code",
   "execution_count": 16,
   "id": "68f34dce-3504-4dba-8012-436c4ff21ecc",
   "metadata": {
    "execution": {
     "iopub.execute_input": "2023-08-17T23:06:49.906918Z",
     "iopub.status.busy": "2023-08-17T23:06:49.906722Z",
     "iopub.status.idle": "2023-08-17T23:07:50.379369Z",
     "shell.execute_reply": "2023-08-17T23:07:50.378263Z"
    }
   },
   "outputs": [
    {
     "data": {
      "text/html": [
       "<pre style=\"white-space:pre;overflow-x:auto;line-height:normal;font-family:Menlo,'DejaVu Sans Mono',consolas,'Courier New',monospace\"><span style=\"color: #7fbfbf; text-decoration-color: #7fbfbf\">[16:06:50] </span>Created task <span style=\"color: #008000; text-decoration-color: #008000\">'adjoint_power'</span> with task_id               <a href=\"file:///home/momchil/Drive/flexcompute/tidy3d-docs/tidy3d/tidy3d/web/webapi.py\" target=\"_blank\"><span style=\"color: #7f7f7f; text-decoration-color: #7f7f7f\">webapi.py</span></a><span style=\"color: #7f7f7f; text-decoration-color: #7f7f7f\">:</span><a href=\"file:///home/momchil/Drive/flexcompute/tidy3d-docs/tidy3d/tidy3d/web/webapi.py#188\" target=\"_blank\"><span style=\"color: #7f7f7f; text-decoration-color: #7f7f7f\">188</span></a>\n",
       "<span style=\"color: #7fbfbf; text-decoration-color: #7fbfbf\">           </span><span style=\"color: #008000; text-decoration-color: #008000\">'fdve-839df1ff-f172-4262-a9d8-14662c3b548cv1'</span>.          <span style=\"color: #7f7f7f; text-decoration-color: #7f7f7f\">             </span>\n",
       "</pre>\n"
      ],
      "text/plain": [
       "\u001b[2;36m[16:06:50]\u001b[0m\u001b[2;36m \u001b[0mCreated task \u001b[32m'adjoint_power'\u001b[0m with task_id               \u001b]8;id=822786;file:///home/momchil/Drive/flexcompute/tidy3d-docs/tidy3d/tidy3d/web/webapi.py\u001b\\\u001b[2mwebapi.py\u001b[0m\u001b]8;;\u001b\\\u001b[2m:\u001b[0m\u001b]8;id=153630;file:///home/momchil/Drive/flexcompute/tidy3d-docs/tidy3d/tidy3d/web/webapi.py#188\u001b\\\u001b[2m188\u001b[0m\u001b]8;;\u001b\\\n",
       "\u001b[2;36m           \u001b[0m\u001b[32m'fdve-839df1ff-f172-4262-a9d8-14662c3b548cv1'\u001b[0m.          \u001b[2m             \u001b[0m\n"
      ]
     },
     "metadata": {},
     "output_type": "display_data"
    },
    {
     "data": {
      "text/html": [
       "<pre style=\"white-space:pre;overflow-x:auto;line-height:normal;font-family:Menlo,'DejaVu Sans Mono',consolas,'Courier New',monospace\"><span style=\"color: #7fbfbf; text-decoration-color: #7fbfbf\">           </span>View task using web UI at                               <a href=\"file:///home/momchil/Drive/flexcompute/tidy3d-docs/tidy3d/tidy3d/web/webapi.py\" target=\"_blank\"><span style=\"color: #7f7f7f; text-decoration-color: #7f7f7f\">webapi.py</span></a><span style=\"color: #7f7f7f; text-decoration-color: #7f7f7f\">:</span><a href=\"file:///home/momchil/Drive/flexcompute/tidy3d-docs/tidy3d/tidy3d/web/webapi.py#190\" target=\"_blank\"><span style=\"color: #7f7f7f; text-decoration-color: #7f7f7f\">190</span></a>\n",
       "<span style=\"color: #7fbfbf; text-decoration-color: #7fbfbf\">           </span><a href=\"https://tidy3d.simulation.cloud/workbench?taskId=fdve-839df1ff-f172-4262-a9d8-14662c3b548cv1\" target=\"_blank\"><span style=\"color: #008000; text-decoration-color: #008000\">'https://tidy3d.simulation.cloud/workbench?taskId=fdve-</span></a> <span style=\"color: #7f7f7f; text-decoration-color: #7f7f7f\">             </span>\n",
       "<span style=\"color: #7fbfbf; text-decoration-color: #7fbfbf\">           </span><a href=\"https://tidy3d.simulation.cloud/workbench?taskId=fdve-839df1ff-f172-4262-a9d8-14662c3b548cv1\" target=\"_blank\"><span style=\"color: #008000; text-decoration-color: #008000\">839df1ff-f172-4262-a9d8-14662c3b548cv1'</span></a>.                <span style=\"color: #7f7f7f; text-decoration-color: #7f7f7f\">             </span>\n",
       "</pre>\n"
      ],
      "text/plain": [
       "\u001b[2;36m          \u001b[0m\u001b[2;36m \u001b[0mView task using web UI at                               \u001b]8;id=444635;file:///home/momchil/Drive/flexcompute/tidy3d-docs/tidy3d/tidy3d/web/webapi.py\u001b\\\u001b[2mwebapi.py\u001b[0m\u001b]8;;\u001b\\\u001b[2m:\u001b[0m\u001b]8;id=788669;file:///home/momchil/Drive/flexcompute/tidy3d-docs/tidy3d/tidy3d/web/webapi.py#190\u001b\\\u001b[2m190\u001b[0m\u001b]8;;\u001b\\\n",
       "\u001b[2;36m           \u001b[0m\u001b]8;id=302324;https://tidy3d.simulation.cloud/workbench?taskId=fdve-839df1ff-f172-4262-a9d8-14662c3b548cv1\u001b\\\u001b[32m'https://tidy3d.simulation.cloud/workbench?\u001b[0m\u001b]8;;\u001b\\\u001b]8;id=113381;https://tidy3d.simulation.cloud/workbench?taskId=fdve-839df1ff-f172-4262-a9d8-14662c3b548cv1\u001b\\\u001b[32mtaskId\u001b[0m\u001b]8;;\u001b\\\u001b]8;id=302324;https://tidy3d.simulation.cloud/workbench?taskId=fdve-839df1ff-f172-4262-a9d8-14662c3b548cv1\u001b\\\u001b[32m=\u001b[0m\u001b]8;;\u001b\\\u001b]8;id=117360;https://tidy3d.simulation.cloud/workbench?taskId=fdve-839df1ff-f172-4262-a9d8-14662c3b548cv1\u001b\\\u001b[32mfdve\u001b[0m\u001b]8;;\u001b\\\u001b]8;id=302324;https://tidy3d.simulation.cloud/workbench?taskId=fdve-839df1ff-f172-4262-a9d8-14662c3b548cv1\u001b\\\u001b[32m-\u001b[0m\u001b]8;;\u001b\\ \u001b[2m             \u001b[0m\n",
       "\u001b[2;36m           \u001b[0m\u001b]8;id=302324;https://tidy3d.simulation.cloud/workbench?taskId=fdve-839df1ff-f172-4262-a9d8-14662c3b548cv1\u001b\\\u001b[32m839df1ff-f172-4262-a9d8-14662c3b548cv1'\u001b[0m\u001b]8;;\u001b\\.                \u001b[2m             \u001b[0m\n"
      ]
     },
     "metadata": {},
     "output_type": "display_data"
    },
    {
     "data": {
      "application/vnd.jupyter.widget-view+json": {
       "model_id": "ff0c8bf3b2c048468d3f4dcf57b26435",
       "version_major": 2,
       "version_minor": 0
      },
      "text/plain": [
       "Output()"
      ]
     },
     "metadata": {},
     "output_type": "display_data"
    },
    {
     "data": {
      "text/html": [
       "<pre style=\"white-space:pre;overflow-x:auto;line-height:normal;font-family:Menlo,'DejaVu Sans Mono',consolas,'Courier New',monospace\"></pre>\n"
      ],
      "text/plain": []
     },
     "metadata": {},
     "output_type": "display_data"
    },
    {
     "data": {
      "text/html": [
       "<pre style=\"white-space:pre;overflow-x:auto;line-height:normal;font-family:Menlo,'DejaVu Sans Mono',consolas,'Courier New',monospace\">\n",
       "</pre>\n"
      ],
      "text/plain": [
       "\n"
      ]
     },
     "metadata": {},
     "output_type": "display_data"
    },
    {
     "data": {
      "application/vnd.jupyter.widget-view+json": {
       "model_id": "6e8b3310f1864aa38f0e887693333e66",
       "version_major": 2,
       "version_minor": 0
      },
      "text/plain": [
       "Output()"
      ]
     },
     "metadata": {},
     "output_type": "display_data"
    },
    {
     "data": {
      "text/html": [
       "<pre style=\"white-space:pre;overflow-x:auto;line-height:normal;font-family:Menlo,'DejaVu Sans Mono',consolas,'Courier New',monospace\"></pre>\n"
      ],
      "text/plain": []
     },
     "metadata": {},
     "output_type": "display_data"
    },
    {
     "data": {
      "text/html": [
       "<pre style=\"white-space:pre;overflow-x:auto;line-height:normal;font-family:Menlo,'DejaVu Sans Mono',consolas,'Courier New',monospace\">\n",
       "</pre>\n"
      ],
      "text/plain": [
       "\n"
      ]
     },
     "metadata": {},
     "output_type": "display_data"
    },
    {
     "data": {
      "text/html": [
       "<pre style=\"white-space:pre;overflow-x:auto;line-height:normal;font-family:Menlo,'DejaVu Sans Mono',consolas,'Courier New',monospace\"><span style=\"color: #7fbfbf; text-decoration-color: #7fbfbf\">[16:06:51] </span>status = queued                                         <a href=\"file:///home/momchil/Drive/flexcompute/tidy3d-docs/tidy3d/tidy3d/web/webapi.py\" target=\"_blank\"><span style=\"color: #7f7f7f; text-decoration-color: #7f7f7f\">webapi.py</span></a><span style=\"color: #7f7f7f; text-decoration-color: #7f7f7f\">:</span><a href=\"file:///home/momchil/Drive/flexcompute/tidy3d-docs/tidy3d/tidy3d/web/webapi.py#361\" target=\"_blank\"><span style=\"color: #7f7f7f; text-decoration-color: #7f7f7f\">361</span></a>\n",
       "</pre>\n"
      ],
      "text/plain": [
       "\u001b[2;36m[16:06:51]\u001b[0m\u001b[2;36m \u001b[0mstatus = queued                                         \u001b]8;id=407249;file:///home/momchil/Drive/flexcompute/tidy3d-docs/tidy3d/tidy3d/web/webapi.py\u001b\\\u001b[2mwebapi.py\u001b[0m\u001b]8;;\u001b\\\u001b[2m:\u001b[0m\u001b]8;id=891297;file:///home/momchil/Drive/flexcompute/tidy3d-docs/tidy3d/tidy3d/web/webapi.py#361\u001b\\\u001b[2m361\u001b[0m\u001b]8;;\u001b\\\n"
      ]
     },
     "metadata": {},
     "output_type": "display_data"
    },
    {
     "data": {
      "application/vnd.jupyter.widget-view+json": {
       "model_id": "fb3c7358175547bab3a99f97cc568de2",
       "version_major": 2,
       "version_minor": 0
      },
      "text/plain": [
       "Output()"
      ]
     },
     "metadata": {},
     "output_type": "display_data"
    },
    {
     "data": {
      "text/html": [
       "<pre style=\"white-space:pre;overflow-x:auto;line-height:normal;font-family:Menlo,'DejaVu Sans Mono',consolas,'Courier New',monospace\"></pre>\n"
      ],
      "text/plain": []
     },
     "metadata": {},
     "output_type": "display_data"
    },
    {
     "data": {
      "text/html": [
       "<pre style=\"white-space:pre;overflow-x:auto;line-height:normal;font-family:Menlo,'DejaVu Sans Mono',consolas,'Courier New',monospace\"><span style=\"color: #7fbfbf; text-decoration-color: #7fbfbf\">[16:07:05] </span>Maximum FlexCredit cost: <span style=\"color: #008080; text-decoration-color: #008080; font-weight: bold\">0.025</span>. Use                     <a href=\"file:///home/momchil/Drive/flexcompute/tidy3d-docs/tidy3d/tidy3d/web/webapi.py\" target=\"_blank\"><span style=\"color: #7f7f7f; text-decoration-color: #7f7f7f\">webapi.py</span></a><span style=\"color: #7f7f7f; text-decoration-color: #7f7f7f\">:</span><a href=\"file:///home/momchil/Drive/flexcompute/tidy3d-docs/tidy3d/tidy3d/web/webapi.py#341\" target=\"_blank\"><span style=\"color: #7f7f7f; text-decoration-color: #7f7f7f\">341</span></a>\n",
       "<span style=\"color: #7fbfbf; text-decoration-color: #7fbfbf\">           </span><span style=\"color: #008000; text-decoration-color: #008000\">'web.real_cost(task_id)'</span> to get the billed FlexCredit   <span style=\"color: #7f7f7f; text-decoration-color: #7f7f7f\">             </span>\n",
       "<span style=\"color: #7fbfbf; text-decoration-color: #7fbfbf\">           </span>cost after a simulation run.                            <span style=\"color: #7f7f7f; text-decoration-color: #7f7f7f\">             </span>\n",
       "</pre>\n"
      ],
      "text/plain": [
       "\u001b[2;36m[16:07:05]\u001b[0m\u001b[2;36m \u001b[0mMaximum FlexCredit cost: \u001b[1;36m0.025\u001b[0m. Use                     \u001b]8;id=822369;file:///home/momchil/Drive/flexcompute/tidy3d-docs/tidy3d/tidy3d/web/webapi.py\u001b\\\u001b[2mwebapi.py\u001b[0m\u001b]8;;\u001b\\\u001b[2m:\u001b[0m\u001b]8;id=325501;file:///home/momchil/Drive/flexcompute/tidy3d-docs/tidy3d/tidy3d/web/webapi.py#341\u001b\\\u001b[2m341\u001b[0m\u001b]8;;\u001b\\\n",
       "\u001b[2;36m           \u001b[0m\u001b[32m'web.real_cost\u001b[0m\u001b[32m(\u001b[0m\u001b[32mtask_id\u001b[0m\u001b[32m)\u001b[0m\u001b[32m'\u001b[0m to get the billed FlexCredit   \u001b[2m             \u001b[0m\n",
       "\u001b[2;36m           \u001b[0mcost after a simulation run.                            \u001b[2m             \u001b[0m\n"
      ]
     },
     "metadata": {},
     "output_type": "display_data"
    },
    {
     "data": {
      "text/html": [
       "<pre style=\"white-space:pre;overflow-x:auto;line-height:normal;font-family:Menlo,'DejaVu Sans Mono',consolas,'Courier New',monospace\"><span style=\"color: #7fbfbf; text-decoration-color: #7fbfbf\">           </span>starting up solver                                      <a href=\"file:///home/momchil/Drive/flexcompute/tidy3d-docs/tidy3d/tidy3d/web/webapi.py\" target=\"_blank\"><span style=\"color: #7f7f7f; text-decoration-color: #7f7f7f\">webapi.py</span></a><span style=\"color: #7f7f7f; text-decoration-color: #7f7f7f\">:</span><a href=\"file:///home/momchil/Drive/flexcompute/tidy3d-docs/tidy3d/tidy3d/web/webapi.py#377\" target=\"_blank\"><span style=\"color: #7f7f7f; text-decoration-color: #7f7f7f\">377</span></a>\n",
       "</pre>\n"
      ],
      "text/plain": [
       "\u001b[2;36m          \u001b[0m\u001b[2;36m \u001b[0mstarting up solver                                      \u001b]8;id=596615;file:///home/momchil/Drive/flexcompute/tidy3d-docs/tidy3d/tidy3d/web/webapi.py\u001b\\\u001b[2mwebapi.py\u001b[0m\u001b]8;;\u001b\\\u001b[2m:\u001b[0m\u001b]8;id=246062;file:///home/momchil/Drive/flexcompute/tidy3d-docs/tidy3d/tidy3d/web/webapi.py#377\u001b\\\u001b[2m377\u001b[0m\u001b]8;;\u001b\\\n"
      ]
     },
     "metadata": {},
     "output_type": "display_data"
    },
    {
     "data": {
      "text/html": [
       "<pre style=\"white-space:pre;overflow-x:auto;line-height:normal;font-family:Menlo,'DejaVu Sans Mono',consolas,'Courier New',monospace\"><span style=\"color: #7fbfbf; text-decoration-color: #7fbfbf\">           </span>running solver                                          <a href=\"file:///home/momchil/Drive/flexcompute/tidy3d-docs/tidy3d/tidy3d/web/webapi.py\" target=\"_blank\"><span style=\"color: #7f7f7f; text-decoration-color: #7f7f7f\">webapi.py</span></a><span style=\"color: #7f7f7f; text-decoration-color: #7f7f7f\">:</span><a href=\"file:///home/momchil/Drive/flexcompute/tidy3d-docs/tidy3d/tidy3d/web/webapi.py#386\" target=\"_blank\"><span style=\"color: #7f7f7f; text-decoration-color: #7f7f7f\">386</span></a>\n",
       "</pre>\n"
      ],
      "text/plain": [
       "\u001b[2;36m          \u001b[0m\u001b[2;36m \u001b[0mrunning solver                                          \u001b]8;id=511320;file:///home/momchil/Drive/flexcompute/tidy3d-docs/tidy3d/tidy3d/web/webapi.py\u001b\\\u001b[2mwebapi.py\u001b[0m\u001b]8;;\u001b\\\u001b[2m:\u001b[0m\u001b]8;id=260572;file:///home/momchil/Drive/flexcompute/tidy3d-docs/tidy3d/tidy3d/web/webapi.py#386\u001b\\\u001b[2m386\u001b[0m\u001b]8;;\u001b\\\n"
      ]
     },
     "metadata": {},
     "output_type": "display_data"
    },
    {
     "data": {
      "text/html": [
       "<pre style=\"white-space:pre;overflow-x:auto;line-height:normal;font-family:Menlo,'DejaVu Sans Mono',consolas,'Courier New',monospace\"><span style=\"color: #7fbfbf; text-decoration-color: #7fbfbf\">           </span>To cancel the simulation, use <span style=\"color: #008000; text-decoration-color: #008000\">'web.abort(task_id)'</span> or   <a href=\"file:///home/momchil/Drive/flexcompute/tidy3d-docs/tidy3d/tidy3d/web/webapi.py\" target=\"_blank\"><span style=\"color: #7f7f7f; text-decoration-color: #7f7f7f\">webapi.py</span></a><span style=\"color: #7f7f7f; text-decoration-color: #7f7f7f\">:</span><a href=\"file:///home/momchil/Drive/flexcompute/tidy3d-docs/tidy3d/tidy3d/web/webapi.py#387\" target=\"_blank\"><span style=\"color: #7f7f7f; text-decoration-color: #7f7f7f\">387</span></a>\n",
       "<span style=\"color: #7fbfbf; text-decoration-color: #7fbfbf\">           </span><span style=\"color: #008000; text-decoration-color: #008000\">'web.delete(task_id)'</span> or abort/delete the task in the   <span style=\"color: #7f7f7f; text-decoration-color: #7f7f7f\">             </span>\n",
       "<span style=\"color: #7fbfbf; text-decoration-color: #7fbfbf\">           </span>web UI. Terminating the Python script will not stop the <span style=\"color: #7f7f7f; text-decoration-color: #7f7f7f\">             </span>\n",
       "<span style=\"color: #7fbfbf; text-decoration-color: #7fbfbf\">           </span>job running on the cloud.                               <span style=\"color: #7f7f7f; text-decoration-color: #7f7f7f\">             </span>\n",
       "</pre>\n"
      ],
      "text/plain": [
       "\u001b[2;36m          \u001b[0m\u001b[2;36m \u001b[0mTo cancel the simulation, use \u001b[32m'web.abort\u001b[0m\u001b[32m(\u001b[0m\u001b[32mtask_id\u001b[0m\u001b[32m)\u001b[0m\u001b[32m'\u001b[0m or   \u001b]8;id=331843;file:///home/momchil/Drive/flexcompute/tidy3d-docs/tidy3d/tidy3d/web/webapi.py\u001b\\\u001b[2mwebapi.py\u001b[0m\u001b]8;;\u001b\\\u001b[2m:\u001b[0m\u001b]8;id=933792;file:///home/momchil/Drive/flexcompute/tidy3d-docs/tidy3d/tidy3d/web/webapi.py#387\u001b\\\u001b[2m387\u001b[0m\u001b]8;;\u001b\\\n",
       "\u001b[2;36m           \u001b[0m\u001b[32m'web.delete\u001b[0m\u001b[32m(\u001b[0m\u001b[32mtask_id\u001b[0m\u001b[32m)\u001b[0m\u001b[32m'\u001b[0m or abort/delete the task in the   \u001b[2m             \u001b[0m\n",
       "\u001b[2;36m           \u001b[0mweb UI. Terminating the Python script will not stop the \u001b[2m             \u001b[0m\n",
       "\u001b[2;36m           \u001b[0mjob running on the cloud.                               \u001b[2m             \u001b[0m\n"
      ]
     },
     "metadata": {},
     "output_type": "display_data"
    },
    {
     "data": {
      "application/vnd.jupyter.widget-view+json": {
       "model_id": "5fab5073d62b4cf1a4cdfc6262104037",
       "version_major": 2,
       "version_minor": 0
      },
      "text/plain": [
       "Output()"
      ]
     },
     "metadata": {},
     "output_type": "display_data"
    },
    {
     "data": {
      "text/html": [
       "<pre style=\"white-space:pre;overflow-x:auto;line-height:normal;font-family:Menlo,'DejaVu Sans Mono',consolas,'Courier New',monospace\"><span style=\"color: #7fbfbf; text-decoration-color: #7fbfbf\">[16:07:12] </span>early shutoff detected, exiting.                        <a href=\"file:///home/momchil/Drive/flexcompute/tidy3d-docs/tidy3d/tidy3d/web/webapi.py\" target=\"_blank\"><span style=\"color: #7f7f7f; text-decoration-color: #7f7f7f\">webapi.py</span></a><span style=\"color: #7f7f7f; text-decoration-color: #7f7f7f\">:</span><a href=\"file:///home/momchil/Drive/flexcompute/tidy3d-docs/tidy3d/tidy3d/web/webapi.py#404\" target=\"_blank\"><span style=\"color: #7f7f7f; text-decoration-color: #7f7f7f\">404</span></a>\n",
       "</pre>\n"
      ],
      "text/plain": [
       "\u001b[2;36m[16:07:12]\u001b[0m\u001b[2;36m \u001b[0mearly shutoff detected, exiting.                        \u001b]8;id=407649;file:///home/momchil/Drive/flexcompute/tidy3d-docs/tidy3d/tidy3d/web/webapi.py\u001b\\\u001b[2mwebapi.py\u001b[0m\u001b]8;;\u001b\\\u001b[2m:\u001b[0m\u001b]8;id=32995;file:///home/momchil/Drive/flexcompute/tidy3d-docs/tidy3d/tidy3d/web/webapi.py#404\u001b\\\u001b[2m404\u001b[0m\u001b]8;;\u001b\\\n"
      ]
     },
     "metadata": {},
     "output_type": "display_data"
    },
    {
     "data": {
      "text/html": [
       "<pre style=\"white-space:pre;overflow-x:auto;line-height:normal;font-family:Menlo,'DejaVu Sans Mono',consolas,'Courier New',monospace\"></pre>\n"
      ],
      "text/plain": []
     },
     "metadata": {},
     "output_type": "display_data"
    },
    {
     "data": {
      "text/html": [
       "<pre style=\"white-space:pre;overflow-x:auto;line-height:normal;font-family:Menlo,'DejaVu Sans Mono',consolas,'Courier New',monospace\">\n",
       "</pre>\n"
      ],
      "text/plain": [
       "\n"
      ]
     },
     "metadata": {},
     "output_type": "display_data"
    },
    {
     "data": {
      "text/html": [
       "<pre style=\"white-space:pre;overflow-x:auto;line-height:normal;font-family:Menlo,'DejaVu Sans Mono',consolas,'Courier New',monospace\"><span style=\"color: #7fbfbf; text-decoration-color: #7fbfbf\">           </span>status = postprocess                                    <a href=\"file:///home/momchil/Drive/flexcompute/tidy3d-docs/tidy3d/tidy3d/web/webapi.py\" target=\"_blank\"><span style=\"color: #7f7f7f; text-decoration-color: #7f7f7f\">webapi.py</span></a><span style=\"color: #7f7f7f; text-decoration-color: #7f7f7f\">:</span><a href=\"file:///home/momchil/Drive/flexcompute/tidy3d-docs/tidy3d/tidy3d/web/webapi.py#419\" target=\"_blank\"><span style=\"color: #7f7f7f; text-decoration-color: #7f7f7f\">419</span></a>\n",
       "</pre>\n"
      ],
      "text/plain": [
       "\u001b[2;36m          \u001b[0m\u001b[2;36m \u001b[0mstatus = postprocess                                    \u001b]8;id=185792;file:///home/momchil/Drive/flexcompute/tidy3d-docs/tidy3d/tidy3d/web/webapi.py\u001b\\\u001b[2mwebapi.py\u001b[0m\u001b]8;;\u001b\\\u001b[2m:\u001b[0m\u001b]8;id=109385;file:///home/momchil/Drive/flexcompute/tidy3d-docs/tidy3d/tidy3d/web/webapi.py#419\u001b\\\u001b[2m419\u001b[0m\u001b]8;;\u001b\\\n"
      ]
     },
     "metadata": {},
     "output_type": "display_data"
    },
    {
     "data": {
      "application/vnd.jupyter.widget-view+json": {
       "model_id": "f73f20b25e7641e1993293a18fa4ca62",
       "version_major": 2,
       "version_minor": 0
      },
      "text/plain": [
       "Output()"
      ]
     },
     "metadata": {},
     "output_type": "display_data"
    },
    {
     "data": {
      "text/html": [
       "<pre style=\"white-space:pre;overflow-x:auto;line-height:normal;font-family:Menlo,'DejaVu Sans Mono',consolas,'Courier New',monospace\"><span style=\"color: #7fbfbf; text-decoration-color: #7fbfbf\">[16:07:20] </span>status = success                                        <a href=\"file:///home/momchil/Drive/flexcompute/tidy3d-docs/tidy3d/tidy3d/web/webapi.py\" target=\"_blank\"><span style=\"color: #7f7f7f; text-decoration-color: #7f7f7f\">webapi.py</span></a><span style=\"color: #7f7f7f; text-decoration-color: #7f7f7f\">:</span><a href=\"file:///home/momchil/Drive/flexcompute/tidy3d-docs/tidy3d/tidy3d/web/webapi.py#426\" target=\"_blank\"><span style=\"color: #7f7f7f; text-decoration-color: #7f7f7f\">426</span></a>\n",
       "</pre>\n"
      ],
      "text/plain": [
       "\u001b[2;36m[16:07:20]\u001b[0m\u001b[2;36m \u001b[0mstatus = success                                        \u001b]8;id=255409;file:///home/momchil/Drive/flexcompute/tidy3d-docs/tidy3d/tidy3d/web/webapi.py\u001b\\\u001b[2mwebapi.py\u001b[0m\u001b]8;;\u001b\\\u001b[2m:\u001b[0m\u001b]8;id=117967;file:///home/momchil/Drive/flexcompute/tidy3d-docs/tidy3d/tidy3d/web/webapi.py#426\u001b\\\u001b[2m426\u001b[0m\u001b]8;;\u001b\\\n"
      ]
     },
     "metadata": {},
     "output_type": "display_data"
    },
    {
     "data": {
      "text/html": [
       "<pre style=\"white-space:pre;overflow-x:auto;line-height:normal;font-family:Menlo,'DejaVu Sans Mono',consolas,'Courier New',monospace\"></pre>\n"
      ],
      "text/plain": []
     },
     "metadata": {},
     "output_type": "display_data"
    },
    {
     "data": {
      "application/vnd.jupyter.widget-view+json": {
       "model_id": "447a8d8268d9466099cfe6df0d5e58cd",
       "version_major": 2,
       "version_minor": 0
      },
      "text/plain": [
       "Output()"
      ]
     },
     "metadata": {},
     "output_type": "display_data"
    },
    {
     "data": {
      "text/html": [
       "<pre style=\"white-space:pre;overflow-x:auto;line-height:normal;font-family:Menlo,'DejaVu Sans Mono',consolas,'Courier New',monospace\"></pre>\n"
      ],
      "text/plain": []
     },
     "metadata": {},
     "output_type": "display_data"
    },
    {
     "data": {
      "text/html": [
       "<pre style=\"white-space:pre;overflow-x:auto;line-height:normal;font-family:Menlo,'DejaVu Sans Mono',consolas,'Courier New',monospace\">\n",
       "</pre>\n"
      ],
      "text/plain": [
       "\n"
      ]
     },
     "metadata": {},
     "output_type": "display_data"
    },
    {
     "data": {
      "text/html": [
       "<pre style=\"white-space:pre;overflow-x:auto;line-height:normal;font-family:Menlo,'DejaVu Sans Mono',consolas,'Courier New',monospace\"><span style=\"color: #7fbfbf; text-decoration-color: #7fbfbf\">           </span>loading SimulationData from simulation_data.hdf5        <a href=\"file:///home/momchil/Drive/flexcompute/tidy3d-docs/tidy3d/tidy3d/web/webapi.py\" target=\"_blank\"><span style=\"color: #7f7f7f; text-decoration-color: #7f7f7f\">webapi.py</span></a><span style=\"color: #7f7f7f; text-decoration-color: #7f7f7f\">:</span><a href=\"file:///home/momchil/Drive/flexcompute/tidy3d-docs/tidy3d/tidy3d/web/webapi.py#590\" target=\"_blank\"><span style=\"color: #7f7f7f; text-decoration-color: #7f7f7f\">590</span></a>\n",
       "</pre>\n"
      ],
      "text/plain": [
       "\u001b[2;36m          \u001b[0m\u001b[2;36m \u001b[0mloading SimulationData from simulation_data.hdf5        \u001b]8;id=832424;file:///home/momchil/Drive/flexcompute/tidy3d-docs/tidy3d/tidy3d/web/webapi.py\u001b\\\u001b[2mwebapi.py\u001b[0m\u001b]8;;\u001b\\\u001b[2m:\u001b[0m\u001b]8;id=699793;file:///home/momchil/Drive/flexcompute/tidy3d-docs/tidy3d/tidy3d/web/webapi.py#590\u001b\\\u001b[2m590\u001b[0m\u001b]8;;\u001b\\\n"
      ]
     },
     "metadata": {},
     "output_type": "display_data"
    },
    {
     "data": {
      "text/html": [
       "<pre style=\"white-space:pre;overflow-x:auto;line-height:normal;font-family:Menlo,'DejaVu Sans Mono',consolas,'Courier New',monospace\"><span style=\"color: #7fbfbf; text-decoration-color: #7fbfbf\">[16:07:21] </span>Created task <span style=\"color: #008000; text-decoration-color: #008000\">'adjoint_power_adj'</span> with task_id           <a href=\"file:///home/momchil/Drive/flexcompute/tidy3d-docs/tidy3d/tidy3d/web/webapi.py\" target=\"_blank\"><span style=\"color: #7f7f7f; text-decoration-color: #7f7f7f\">webapi.py</span></a><span style=\"color: #7f7f7f; text-decoration-color: #7f7f7f\">:</span><a href=\"file:///home/momchil/Drive/flexcompute/tidy3d-docs/tidy3d/tidy3d/web/webapi.py#188\" target=\"_blank\"><span style=\"color: #7f7f7f; text-decoration-color: #7f7f7f\">188</span></a>\n",
       "<span style=\"color: #7fbfbf; text-decoration-color: #7fbfbf\">           </span><span style=\"color: #008000; text-decoration-color: #008000\">'fdve-854fa346-8a7f-43d0-bdc8-657c177248c4v1'</span>.          <span style=\"color: #7f7f7f; text-decoration-color: #7f7f7f\">             </span>\n",
       "</pre>\n"
      ],
      "text/plain": [
       "\u001b[2;36m[16:07:21]\u001b[0m\u001b[2;36m \u001b[0mCreated task \u001b[32m'adjoint_power_adj'\u001b[0m with task_id           \u001b]8;id=645284;file:///home/momchil/Drive/flexcompute/tidy3d-docs/tidy3d/tidy3d/web/webapi.py\u001b\\\u001b[2mwebapi.py\u001b[0m\u001b]8;;\u001b\\\u001b[2m:\u001b[0m\u001b]8;id=842231;file:///home/momchil/Drive/flexcompute/tidy3d-docs/tidy3d/tidy3d/web/webapi.py#188\u001b\\\u001b[2m188\u001b[0m\u001b]8;;\u001b\\\n",
       "\u001b[2;36m           \u001b[0m\u001b[32m'fdve-854fa346-8a7f-43d0-bdc8-657c177248c4v1'\u001b[0m.          \u001b[2m             \u001b[0m\n"
      ]
     },
     "metadata": {},
     "output_type": "display_data"
    },
    {
     "data": {
      "text/html": [
       "<pre style=\"white-space:pre;overflow-x:auto;line-height:normal;font-family:Menlo,'DejaVu Sans Mono',consolas,'Courier New',monospace\"><span style=\"color: #7fbfbf; text-decoration-color: #7fbfbf\">           </span>View task using web UI at                               <a href=\"file:///home/momchil/Drive/flexcompute/tidy3d-docs/tidy3d/tidy3d/web/webapi.py\" target=\"_blank\"><span style=\"color: #7f7f7f; text-decoration-color: #7f7f7f\">webapi.py</span></a><span style=\"color: #7f7f7f; text-decoration-color: #7f7f7f\">:</span><a href=\"file:///home/momchil/Drive/flexcompute/tidy3d-docs/tidy3d/tidy3d/web/webapi.py#190\" target=\"_blank\"><span style=\"color: #7f7f7f; text-decoration-color: #7f7f7f\">190</span></a>\n",
       "<span style=\"color: #7fbfbf; text-decoration-color: #7fbfbf\">           </span><a href=\"https://tidy3d.simulation.cloud/workbench?taskId=fdve-854fa346-8a7f-43d0-bdc8-657c177248c4v1\" target=\"_blank\"><span style=\"color: #008000; text-decoration-color: #008000\">'https://tidy3d.simulation.cloud/workbench?taskId=fdve-</span></a> <span style=\"color: #7f7f7f; text-decoration-color: #7f7f7f\">             </span>\n",
       "<span style=\"color: #7fbfbf; text-decoration-color: #7fbfbf\">           </span><a href=\"https://tidy3d.simulation.cloud/workbench?taskId=fdve-854fa346-8a7f-43d0-bdc8-657c177248c4v1\" target=\"_blank\"><span style=\"color: #008000; text-decoration-color: #008000\">854fa346-8a7f-43d0-bdc8-657c177248c4v1'</span></a>.                <span style=\"color: #7f7f7f; text-decoration-color: #7f7f7f\">             </span>\n",
       "</pre>\n"
      ],
      "text/plain": [
       "\u001b[2;36m          \u001b[0m\u001b[2;36m \u001b[0mView task using web UI at                               \u001b]8;id=794764;file:///home/momchil/Drive/flexcompute/tidy3d-docs/tidy3d/tidy3d/web/webapi.py\u001b\\\u001b[2mwebapi.py\u001b[0m\u001b]8;;\u001b\\\u001b[2m:\u001b[0m\u001b]8;id=764728;file:///home/momchil/Drive/flexcompute/tidy3d-docs/tidy3d/tidy3d/web/webapi.py#190\u001b\\\u001b[2m190\u001b[0m\u001b]8;;\u001b\\\n",
       "\u001b[2;36m           \u001b[0m\u001b]8;id=862072;https://tidy3d.simulation.cloud/workbench?taskId=fdve-854fa346-8a7f-43d0-bdc8-657c177248c4v1\u001b\\\u001b[32m'https://tidy3d.simulation.cloud/workbench?\u001b[0m\u001b]8;;\u001b\\\u001b]8;id=738016;https://tidy3d.simulation.cloud/workbench?taskId=fdve-854fa346-8a7f-43d0-bdc8-657c177248c4v1\u001b\\\u001b[32mtaskId\u001b[0m\u001b]8;;\u001b\\\u001b]8;id=862072;https://tidy3d.simulation.cloud/workbench?taskId=fdve-854fa346-8a7f-43d0-bdc8-657c177248c4v1\u001b\\\u001b[32m=\u001b[0m\u001b]8;;\u001b\\\u001b]8;id=191141;https://tidy3d.simulation.cloud/workbench?taskId=fdve-854fa346-8a7f-43d0-bdc8-657c177248c4v1\u001b\\\u001b[32mfdve\u001b[0m\u001b]8;;\u001b\\\u001b]8;id=862072;https://tidy3d.simulation.cloud/workbench?taskId=fdve-854fa346-8a7f-43d0-bdc8-657c177248c4v1\u001b\\\u001b[32m-\u001b[0m\u001b]8;;\u001b\\ \u001b[2m             \u001b[0m\n",
       "\u001b[2;36m           \u001b[0m\u001b]8;id=862072;https://tidy3d.simulation.cloud/workbench?taskId=fdve-854fa346-8a7f-43d0-bdc8-657c177248c4v1\u001b\\\u001b[32m854fa346-8a7f-43d0-bdc8-657c177248c4v1'\u001b[0m\u001b]8;;\u001b\\.                \u001b[2m             \u001b[0m\n"
      ]
     },
     "metadata": {},
     "output_type": "display_data"
    },
    {
     "data": {
      "application/vnd.jupyter.widget-view+json": {
       "model_id": "40839ca026d94a15960f76567a908e3b",
       "version_major": 2,
       "version_minor": 0
      },
      "text/plain": [
       "Output()"
      ]
     },
     "metadata": {},
     "output_type": "display_data"
    },
    {
     "data": {
      "text/html": [
       "<pre style=\"white-space:pre;overflow-x:auto;line-height:normal;font-family:Menlo,'DejaVu Sans Mono',consolas,'Courier New',monospace\"></pre>\n"
      ],
      "text/plain": []
     },
     "metadata": {},
     "output_type": "display_data"
    },
    {
     "data": {
      "text/html": [
       "<pre style=\"white-space:pre;overflow-x:auto;line-height:normal;font-family:Menlo,'DejaVu Sans Mono',consolas,'Courier New',monospace\">\n",
       "</pre>\n"
      ],
      "text/plain": [
       "\n"
      ]
     },
     "metadata": {},
     "output_type": "display_data"
    },
    {
     "data": {
      "application/vnd.jupyter.widget-view+json": {
       "model_id": "7a0191f382bb4f5d830dc50257de6041",
       "version_major": 2,
       "version_minor": 0
      },
      "text/plain": [
       "Output()"
      ]
     },
     "metadata": {},
     "output_type": "display_data"
    },
    {
     "data": {
      "text/html": [
       "<pre style=\"white-space:pre;overflow-x:auto;line-height:normal;font-family:Menlo,'DejaVu Sans Mono',consolas,'Courier New',monospace\"></pre>\n"
      ],
      "text/plain": []
     },
     "metadata": {},
     "output_type": "display_data"
    },
    {
     "data": {
      "text/html": [
       "<pre style=\"white-space:pre;overflow-x:auto;line-height:normal;font-family:Menlo,'DejaVu Sans Mono',consolas,'Courier New',monospace\">\n",
       "</pre>\n"
      ],
      "text/plain": [
       "\n"
      ]
     },
     "metadata": {},
     "output_type": "display_data"
    },
    {
     "data": {
      "text/html": [
       "<pre style=\"white-space:pre;overflow-x:auto;line-height:normal;font-family:Menlo,'DejaVu Sans Mono',consolas,'Courier New',monospace\"><span style=\"color: #7fbfbf; text-decoration-color: #7fbfbf\">[16:07:22] </span>status = queued                                         <a href=\"file:///home/momchil/Drive/flexcompute/tidy3d-docs/tidy3d/tidy3d/web/webapi.py\" target=\"_blank\"><span style=\"color: #7f7f7f; text-decoration-color: #7f7f7f\">webapi.py</span></a><span style=\"color: #7f7f7f; text-decoration-color: #7f7f7f\">:</span><a href=\"file:///home/momchil/Drive/flexcompute/tidy3d-docs/tidy3d/tidy3d/web/webapi.py#361\" target=\"_blank\"><span style=\"color: #7f7f7f; text-decoration-color: #7f7f7f\">361</span></a>\n",
       "</pre>\n"
      ],
      "text/plain": [
       "\u001b[2;36m[16:07:22]\u001b[0m\u001b[2;36m \u001b[0mstatus = queued                                         \u001b]8;id=30110;file:///home/momchil/Drive/flexcompute/tidy3d-docs/tidy3d/tidy3d/web/webapi.py\u001b\\\u001b[2mwebapi.py\u001b[0m\u001b]8;;\u001b\\\u001b[2m:\u001b[0m\u001b]8;id=683989;file:///home/momchil/Drive/flexcompute/tidy3d-docs/tidy3d/tidy3d/web/webapi.py#361\u001b\\\u001b[2m361\u001b[0m\u001b]8;;\u001b\\\n"
      ]
     },
     "metadata": {},
     "output_type": "display_data"
    },
    {
     "data": {
      "application/vnd.jupyter.widget-view+json": {
       "model_id": "5cfda64f2b63446fa44ee6b885e80d56",
       "version_major": 2,
       "version_minor": 0
      },
      "text/plain": [
       "Output()"
      ]
     },
     "metadata": {},
     "output_type": "display_data"
    },
    {
     "data": {
      "text/html": [
       "<pre style=\"white-space:pre;overflow-x:auto;line-height:normal;font-family:Menlo,'DejaVu Sans Mono',consolas,'Courier New',monospace\"><span style=\"color: #7fbfbf; text-decoration-color: #7fbfbf\">[16:07:31] </span>status = preprocess                                     <a href=\"file:///home/momchil/Drive/flexcompute/tidy3d-docs/tidy3d/tidy3d/web/webapi.py\" target=\"_blank\"><span style=\"color: #7f7f7f; text-decoration-color: #7f7f7f\">webapi.py</span></a><span style=\"color: #7f7f7f; text-decoration-color: #7f7f7f\">:</span><a href=\"file:///home/momchil/Drive/flexcompute/tidy3d-docs/tidy3d/tidy3d/web/webapi.py#355\" target=\"_blank\"><span style=\"color: #7f7f7f; text-decoration-color: #7f7f7f\">355</span></a>\n",
       "</pre>\n"
      ],
      "text/plain": [
       "\u001b[2;36m[16:07:31]\u001b[0m\u001b[2;36m \u001b[0mstatus = preprocess                                     \u001b]8;id=460162;file:///home/momchil/Drive/flexcompute/tidy3d-docs/tidy3d/tidy3d/web/webapi.py\u001b\\\u001b[2mwebapi.py\u001b[0m\u001b]8;;\u001b\\\u001b[2m:\u001b[0m\u001b]8;id=38062;file:///home/momchil/Drive/flexcompute/tidy3d-docs/tidy3d/tidy3d/web/webapi.py#355\u001b\\\u001b[2m355\u001b[0m\u001b]8;;\u001b\\\n"
      ]
     },
     "metadata": {},
     "output_type": "display_data"
    },
    {
     "data": {
      "text/html": [
       "<pre style=\"white-space:pre;overflow-x:auto;line-height:normal;font-family:Menlo,'DejaVu Sans Mono',consolas,'Courier New',monospace\"></pre>\n"
      ],
      "text/plain": []
     },
     "metadata": {},
     "output_type": "display_data"
    },
    {
     "data": {
      "text/html": [
       "<pre style=\"white-space:pre;overflow-x:auto;line-height:normal;font-family:Menlo,'DejaVu Sans Mono',consolas,'Courier New',monospace\"><span style=\"color: #7fbfbf; text-decoration-color: #7fbfbf\">[16:07:35] </span>Maximum FlexCredit cost: <span style=\"color: #008080; text-decoration-color: #008080; font-weight: bold\">0.025</span>. Use                     <a href=\"file:///home/momchil/Drive/flexcompute/tidy3d-docs/tidy3d/tidy3d/web/webapi.py\" target=\"_blank\"><span style=\"color: #7f7f7f; text-decoration-color: #7f7f7f\">webapi.py</span></a><span style=\"color: #7f7f7f; text-decoration-color: #7f7f7f\">:</span><a href=\"file:///home/momchil/Drive/flexcompute/tidy3d-docs/tidy3d/tidy3d/web/webapi.py#341\" target=\"_blank\"><span style=\"color: #7f7f7f; text-decoration-color: #7f7f7f\">341</span></a>\n",
       "<span style=\"color: #7fbfbf; text-decoration-color: #7fbfbf\">           </span><span style=\"color: #008000; text-decoration-color: #008000\">'web.real_cost(task_id)'</span> to get the billed FlexCredit   <span style=\"color: #7f7f7f; text-decoration-color: #7f7f7f\">             </span>\n",
       "<span style=\"color: #7fbfbf; text-decoration-color: #7fbfbf\">           </span>cost after a simulation run.                            <span style=\"color: #7f7f7f; text-decoration-color: #7f7f7f\">             </span>\n",
       "</pre>\n"
      ],
      "text/plain": [
       "\u001b[2;36m[16:07:35]\u001b[0m\u001b[2;36m \u001b[0mMaximum FlexCredit cost: \u001b[1;36m0.025\u001b[0m. Use                     \u001b]8;id=355894;file:///home/momchil/Drive/flexcompute/tidy3d-docs/tidy3d/tidy3d/web/webapi.py\u001b\\\u001b[2mwebapi.py\u001b[0m\u001b]8;;\u001b\\\u001b[2m:\u001b[0m\u001b]8;id=371550;file:///home/momchil/Drive/flexcompute/tidy3d-docs/tidy3d/tidy3d/web/webapi.py#341\u001b\\\u001b[2m341\u001b[0m\u001b]8;;\u001b\\\n",
       "\u001b[2;36m           \u001b[0m\u001b[32m'web.real_cost\u001b[0m\u001b[32m(\u001b[0m\u001b[32mtask_id\u001b[0m\u001b[32m)\u001b[0m\u001b[32m'\u001b[0m to get the billed FlexCredit   \u001b[2m             \u001b[0m\n",
       "\u001b[2;36m           \u001b[0mcost after a simulation run.                            \u001b[2m             \u001b[0m\n"
      ]
     },
     "metadata": {},
     "output_type": "display_data"
    },
    {
     "data": {
      "text/html": [
       "<pre style=\"white-space:pre;overflow-x:auto;line-height:normal;font-family:Menlo,'DejaVu Sans Mono',consolas,'Courier New',monospace\"><span style=\"color: #7fbfbf; text-decoration-color: #7fbfbf\">[16:07:36] </span>starting up solver                                      <a href=\"file:///home/momchil/Drive/flexcompute/tidy3d-docs/tidy3d/tidy3d/web/webapi.py\" target=\"_blank\"><span style=\"color: #7f7f7f; text-decoration-color: #7f7f7f\">webapi.py</span></a><span style=\"color: #7f7f7f; text-decoration-color: #7f7f7f\">:</span><a href=\"file:///home/momchil/Drive/flexcompute/tidy3d-docs/tidy3d/tidy3d/web/webapi.py#377\" target=\"_blank\"><span style=\"color: #7f7f7f; text-decoration-color: #7f7f7f\">377</span></a>\n",
       "</pre>\n"
      ],
      "text/plain": [
       "\u001b[2;36m[16:07:36]\u001b[0m\u001b[2;36m \u001b[0mstarting up solver                                      \u001b]8;id=92020;file:///home/momchil/Drive/flexcompute/tidy3d-docs/tidy3d/tidy3d/web/webapi.py\u001b\\\u001b[2mwebapi.py\u001b[0m\u001b]8;;\u001b\\\u001b[2m:\u001b[0m\u001b]8;id=906687;file:///home/momchil/Drive/flexcompute/tidy3d-docs/tidy3d/tidy3d/web/webapi.py#377\u001b\\\u001b[2m377\u001b[0m\u001b]8;;\u001b\\\n"
      ]
     },
     "metadata": {},
     "output_type": "display_data"
    },
    {
     "data": {
      "text/html": [
       "<pre style=\"white-space:pre;overflow-x:auto;line-height:normal;font-family:Menlo,'DejaVu Sans Mono',consolas,'Courier New',monospace\"><span style=\"color: #7fbfbf; text-decoration-color: #7fbfbf\">           </span>running solver                                          <a href=\"file:///home/momchil/Drive/flexcompute/tidy3d-docs/tidy3d/tidy3d/web/webapi.py\" target=\"_blank\"><span style=\"color: #7f7f7f; text-decoration-color: #7f7f7f\">webapi.py</span></a><span style=\"color: #7f7f7f; text-decoration-color: #7f7f7f\">:</span><a href=\"file:///home/momchil/Drive/flexcompute/tidy3d-docs/tidy3d/tidy3d/web/webapi.py#386\" target=\"_blank\"><span style=\"color: #7f7f7f; text-decoration-color: #7f7f7f\">386</span></a>\n",
       "</pre>\n"
      ],
      "text/plain": [
       "\u001b[2;36m          \u001b[0m\u001b[2;36m \u001b[0mrunning solver                                          \u001b]8;id=794840;file:///home/momchil/Drive/flexcompute/tidy3d-docs/tidy3d/tidy3d/web/webapi.py\u001b\\\u001b[2mwebapi.py\u001b[0m\u001b]8;;\u001b\\\u001b[2m:\u001b[0m\u001b]8;id=548701;file:///home/momchil/Drive/flexcompute/tidy3d-docs/tidy3d/tidy3d/web/webapi.py#386\u001b\\\u001b[2m386\u001b[0m\u001b]8;;\u001b\\\n"
      ]
     },
     "metadata": {},
     "output_type": "display_data"
    },
    {
     "data": {
      "text/html": [
       "<pre style=\"white-space:pre;overflow-x:auto;line-height:normal;font-family:Menlo,'DejaVu Sans Mono',consolas,'Courier New',monospace\"><span style=\"color: #7fbfbf; text-decoration-color: #7fbfbf\">           </span>To cancel the simulation, use <span style=\"color: #008000; text-decoration-color: #008000\">'web.abort(task_id)'</span> or   <a href=\"file:///home/momchil/Drive/flexcompute/tidy3d-docs/tidy3d/tidy3d/web/webapi.py\" target=\"_blank\"><span style=\"color: #7f7f7f; text-decoration-color: #7f7f7f\">webapi.py</span></a><span style=\"color: #7f7f7f; text-decoration-color: #7f7f7f\">:</span><a href=\"file:///home/momchil/Drive/flexcompute/tidy3d-docs/tidy3d/tidy3d/web/webapi.py#387\" target=\"_blank\"><span style=\"color: #7f7f7f; text-decoration-color: #7f7f7f\">387</span></a>\n",
       "<span style=\"color: #7fbfbf; text-decoration-color: #7fbfbf\">           </span><span style=\"color: #008000; text-decoration-color: #008000\">'web.delete(task_id)'</span> or abort/delete the task in the   <span style=\"color: #7f7f7f; text-decoration-color: #7f7f7f\">             </span>\n",
       "<span style=\"color: #7fbfbf; text-decoration-color: #7fbfbf\">           </span>web UI. Terminating the Python script will not stop the <span style=\"color: #7f7f7f; text-decoration-color: #7f7f7f\">             </span>\n",
       "<span style=\"color: #7fbfbf; text-decoration-color: #7fbfbf\">           </span>job running on the cloud.                               <span style=\"color: #7f7f7f; text-decoration-color: #7f7f7f\">             </span>\n",
       "</pre>\n"
      ],
      "text/plain": [
       "\u001b[2;36m          \u001b[0m\u001b[2;36m \u001b[0mTo cancel the simulation, use \u001b[32m'web.abort\u001b[0m\u001b[32m(\u001b[0m\u001b[32mtask_id\u001b[0m\u001b[32m)\u001b[0m\u001b[32m'\u001b[0m or   \u001b]8;id=141942;file:///home/momchil/Drive/flexcompute/tidy3d-docs/tidy3d/tidy3d/web/webapi.py\u001b\\\u001b[2mwebapi.py\u001b[0m\u001b]8;;\u001b\\\u001b[2m:\u001b[0m\u001b]8;id=236476;file:///home/momchil/Drive/flexcompute/tidy3d-docs/tidy3d/tidy3d/web/webapi.py#387\u001b\\\u001b[2m387\u001b[0m\u001b]8;;\u001b\\\n",
       "\u001b[2;36m           \u001b[0m\u001b[32m'web.delete\u001b[0m\u001b[32m(\u001b[0m\u001b[32mtask_id\u001b[0m\u001b[32m)\u001b[0m\u001b[32m'\u001b[0m or abort/delete the task in the   \u001b[2m             \u001b[0m\n",
       "\u001b[2;36m           \u001b[0mweb UI. Terminating the Python script will not stop the \u001b[2m             \u001b[0m\n",
       "\u001b[2;36m           \u001b[0mjob running on the cloud.                               \u001b[2m             \u001b[0m\n"
      ]
     },
     "metadata": {},
     "output_type": "display_data"
    },
    {
     "data": {
      "application/vnd.jupyter.widget-view+json": {
       "model_id": "6c01a97d1bd243b5989e53e99737620b",
       "version_major": 2,
       "version_minor": 0
      },
      "text/plain": [
       "Output()"
      ]
     },
     "metadata": {},
     "output_type": "display_data"
    },
    {
     "data": {
      "text/html": [
       "<pre style=\"white-space:pre;overflow-x:auto;line-height:normal;font-family:Menlo,'DejaVu Sans Mono',consolas,'Courier New',monospace\"></pre>\n"
      ],
      "text/plain": []
     },
     "metadata": {},
     "output_type": "display_data"
    },
    {
     "data": {
      "text/html": [
       "<pre style=\"white-space:pre;overflow-x:auto;line-height:normal;font-family:Menlo,'DejaVu Sans Mono',consolas,'Courier New',monospace\">\n",
       "</pre>\n"
      ],
      "text/plain": [
       "\n"
      ]
     },
     "metadata": {},
     "output_type": "display_data"
    },
    {
     "data": {
      "text/html": [
       "<pre style=\"white-space:pre;overflow-x:auto;line-height:normal;font-family:Menlo,'DejaVu Sans Mono',consolas,'Courier New',monospace\"><span style=\"color: #7fbfbf; text-decoration-color: #7fbfbf\">[16:07:41] </span>status = postprocess                                    <a href=\"file:///home/momchil/Drive/flexcompute/tidy3d-docs/tidy3d/tidy3d/web/webapi.py\" target=\"_blank\"><span style=\"color: #7f7f7f; text-decoration-color: #7f7f7f\">webapi.py</span></a><span style=\"color: #7f7f7f; text-decoration-color: #7f7f7f\">:</span><a href=\"file:///home/momchil/Drive/flexcompute/tidy3d-docs/tidy3d/tidy3d/web/webapi.py#419\" target=\"_blank\"><span style=\"color: #7f7f7f; text-decoration-color: #7f7f7f\">419</span></a>\n",
       "</pre>\n"
      ],
      "text/plain": [
       "\u001b[2;36m[16:07:41]\u001b[0m\u001b[2;36m \u001b[0mstatus = postprocess                                    \u001b]8;id=736174;file:///home/momchil/Drive/flexcompute/tidy3d-docs/tidy3d/tidy3d/web/webapi.py\u001b\\\u001b[2mwebapi.py\u001b[0m\u001b]8;;\u001b\\\u001b[2m:\u001b[0m\u001b]8;id=849899;file:///home/momchil/Drive/flexcompute/tidy3d-docs/tidy3d/tidy3d/web/webapi.py#419\u001b\\\u001b[2m419\u001b[0m\u001b]8;;\u001b\\\n"
      ]
     },
     "metadata": {},
     "output_type": "display_data"
    },
    {
     "data": {
      "application/vnd.jupyter.widget-view+json": {
       "model_id": "442b09ebc99b4619a025f6ebf46eb4df",
       "version_major": 2,
       "version_minor": 0
      },
      "text/plain": [
       "Output()"
      ]
     },
     "metadata": {},
     "output_type": "display_data"
    },
    {
     "data": {
      "text/html": [
       "<pre style=\"white-space:pre;overflow-x:auto;line-height:normal;font-family:Menlo,'DejaVu Sans Mono',consolas,'Courier New',monospace\"><span style=\"color: #7fbfbf; text-decoration-color: #7fbfbf\">[16:07:49] </span>status = success                                        <a href=\"file:///home/momchil/Drive/flexcompute/tidy3d-docs/tidy3d/tidy3d/web/webapi.py\" target=\"_blank\"><span style=\"color: #7f7f7f; text-decoration-color: #7f7f7f\">webapi.py</span></a><span style=\"color: #7f7f7f; text-decoration-color: #7f7f7f\">:</span><a href=\"file:///home/momchil/Drive/flexcompute/tidy3d-docs/tidy3d/tidy3d/web/webapi.py#426\" target=\"_blank\"><span style=\"color: #7f7f7f; text-decoration-color: #7f7f7f\">426</span></a>\n",
       "</pre>\n"
      ],
      "text/plain": [
       "\u001b[2;36m[16:07:49]\u001b[0m\u001b[2;36m \u001b[0mstatus = success                                        \u001b]8;id=198350;file:///home/momchil/Drive/flexcompute/tidy3d-docs/tidy3d/tidy3d/web/webapi.py\u001b\\\u001b[2mwebapi.py\u001b[0m\u001b]8;;\u001b\\\u001b[2m:\u001b[0m\u001b]8;id=224827;file:///home/momchil/Drive/flexcompute/tidy3d-docs/tidy3d/tidy3d/web/webapi.py#426\u001b\\\u001b[2m426\u001b[0m\u001b]8;;\u001b\\\n"
      ]
     },
     "metadata": {},
     "output_type": "display_data"
    },
    {
     "data": {
      "text/html": [
       "<pre style=\"white-space:pre;overflow-x:auto;line-height:normal;font-family:Menlo,'DejaVu Sans Mono',consolas,'Courier New',monospace\"></pre>\n"
      ],
      "text/plain": []
     },
     "metadata": {},
     "output_type": "display_data"
    },
    {
     "data": {
      "application/vnd.jupyter.widget-view+json": {
       "model_id": "b53c68ddd8fd4415ab2e76a8c41c917e",
       "version_major": 2,
       "version_minor": 0
      },
      "text/plain": [
       "Output()"
      ]
     },
     "metadata": {},
     "output_type": "display_data"
    },
    {
     "data": {
      "text/html": [
       "<pre style=\"white-space:pre;overflow-x:auto;line-height:normal;font-family:Menlo,'DejaVu Sans Mono',consolas,'Courier New',monospace\"></pre>\n"
      ],
      "text/plain": []
     },
     "metadata": {},
     "output_type": "display_data"
    },
    {
     "data": {
      "text/html": [
       "<pre style=\"white-space:pre;overflow-x:auto;line-height:normal;font-family:Menlo,'DejaVu Sans Mono',consolas,'Courier New',monospace\">\n",
       "</pre>\n"
      ],
      "text/plain": [
       "\n"
      ]
     },
     "metadata": {},
     "output_type": "display_data"
    }
   ],
   "source": [
    "power_value, (dp_center, dp_dsize, dp_deps) = d_power(center0, size0, eps0)\n"
   ]
  },
  {
   "cell_type": "markdown",
   "id": "0ac63a75-89de-42c5-929d-f46da6f22864",
   "metadata": {},
   "source": [
    "> Note: the gradient evaluation functions returned by `jax.grad()` do not accept keyword arguments (ie. `center=(0.,0.,0.)`) and instead accept positional arguments (without the argument name). You may run across this when trying to evaluate gradients so it's a good idea to keep in mind.\n",
    "\n",
    "We can take a look at our computed power and gradient information. "
   ]
  },
  {
   "cell_type": "code",
   "execution_count": 17,
   "id": "f0a786d2-88c7-406a-a6cd-956e6cfb904c",
   "metadata": {
    "execution": {
     "iopub.execute_input": "2023-08-17T23:07:53.253199Z",
     "iopub.status.busy": "2023-08-17T23:07:53.252606Z",
     "iopub.status.idle": "2023-08-17T23:07:53.665180Z",
     "shell.execute_reply": "2023-08-17T23:07:53.663789Z"
    }
   },
   "outputs": [
    {
     "name": "stdout",
     "output_type": "stream",
     "text": [
      "power = 0.552\n",
      "d_power/d_center = (-0.006310250610113144, 1.163780689239502e-05, -0.0005402117967605591)\n",
      "d_power/d_size = (-0.02708817459642887, 0.13217857480049133, -0.1335647702217102)\n",
      "d_power/d_eps = -0.16805993680478554\n"
     ]
    }
   ],
   "source": [
    "print(f\"power = {power_value:.3f}\")\n",
    "print(f\"d_power/d_center = {dp_center}\")\n",
    "print(f\"d_power/d_size = {dp_dsize}\")\n",
    "print(f\"d_power/d_eps = {dp_deps}\")\n"
   ]
  },
  {
   "cell_type": "markdown",
   "id": "a20619d4-d14b-431f-b543-7f0f0bc2907a",
   "metadata": {},
   "source": [
    "From this, we can infer several things that fit our intuition, for example that:\n",
    "* the transmitted power should **decrease** if we increase the permittivity of our scatterer.\n",
    "* the transmitted power does not depend strongly on the position of the scatterer along the propagation direction.\n",
    "\n",
    "## Conclusion & Next Steps\n",
    "\n",
    "This gives the most basic introduction to the principles behind the adjoint plugin.\n",
    "\n",
    "In subsequent notebooks, we will show how to:\n",
    " * Check the gradients returned by this method against brute force computed gradients for accuracy.\n",
    " * Perform gradient-based optimization using the adjoint plugin."
   ]
  },
  {
   "cell_type": "code",
   "execution_count": null,
   "id": "07afec21-48ce-444c-a0a8-4d8251f1caee",
   "metadata": {},
   "outputs": [],
   "source": []
  }
 ],
 "metadata": {
  "description": "This notebook introduces the basics of Jax, automatic differentiation, and the adjoint plugin in Tidy3D FDTD.",
  "feature_image": "",
  "kernelspec": {
   "display_name": "Python 3 (ipykernel)",
   "language": "python",
   "name": "python3"
  },
  "keywords": "adjoint optimization, Jax, automatic differentiation, Tidy3D, FDTD",
  "language_info": {
   "codemirror_mode": {
    "name": "ipython",
    "version": 3
   },
   "file_extension": ".py",
   "mimetype": "text/x-python",
   "name": "python",
   "nbconvert_exporter": "python",
   "pygments_lexer": "ipython3",
   "version": "3.9.16"
  },
  "title": "FDTD Adjoint Optimization Basics | Flexcompute",
  "vscode": {
   "interpreter": {
    "hash": "9e43a20ef2440406ea6cbfb61ead7c471aba2de37f508addf1f0635fad81ef64"
   }
  },
  "widgets": {
   "application/vnd.jupyter.widget-state+json": {
    "state": {
     "0c38b4d069434f9a8da8dab1582e8691": {
      "model_module": "@jupyter-widgets/base",
      "model_module_version": "2.0.0",
      "model_name": "LayoutModel",
      "state": {
       "_model_module": "@jupyter-widgets/base",
       "_model_module_version": "2.0.0",
       "_model_name": "LayoutModel",
       "_view_count": null,
       "_view_module": "@jupyter-widgets/base",
       "_view_module_version": "2.0.0",
       "_view_name": "LayoutView",
       "align_content": null,
       "align_items": null,
       "align_self": null,
       "border_bottom": null,
       "border_left": null,
       "border_right": null,
       "border_top": null,
       "bottom": null,
       "display": null,
       "flex": null,
       "flex_flow": null,
       "grid_area": null,
       "grid_auto_columns": null,
       "grid_auto_flow": null,
       "grid_auto_rows": null,
       "grid_column": null,
       "grid_gap": null,
       "grid_row": null,
       "grid_template_areas": null,
       "grid_template_columns": null,
       "grid_template_rows": null,
       "height": null,
       "justify_content": null,
       "justify_items": null,
       "left": null,
       "margin": null,
       "max_height": null,
       "max_width": null,
       "min_height": null,
       "min_width": null,
       "object_fit": null,
       "object_position": null,
       "order": null,
       "overflow": null,
       "padding": null,
       "right": null,
       "top": null,
       "visibility": null,
       "width": null
      }
     },
     "22263ab07b714e918b3f7631c2d1d235": {
      "model_module": "@jupyter-widgets/base",
      "model_module_version": "2.0.0",
      "model_name": "LayoutModel",
      "state": {
       "_model_module": "@jupyter-widgets/base",
       "_model_module_version": "2.0.0",
       "_model_name": "LayoutModel",
       "_view_count": null,
       "_view_module": "@jupyter-widgets/base",
       "_view_module_version": "2.0.0",
       "_view_name": "LayoutView",
       "align_content": null,
       "align_items": null,
       "align_self": null,
       "border_bottom": null,
       "border_left": null,
       "border_right": null,
       "border_top": null,
       "bottom": null,
       "display": null,
       "flex": null,
       "flex_flow": null,
       "grid_area": null,
       "grid_auto_columns": null,
       "grid_auto_flow": null,
       "grid_auto_rows": null,
       "grid_column": null,
       "grid_gap": null,
       "grid_row": null,
       "grid_template_areas": null,
       "grid_template_columns": null,
       "grid_template_rows": null,
       "height": null,
       "justify_content": null,
       "justify_items": null,
       "left": null,
       "margin": null,
       "max_height": null,
       "max_width": null,
       "min_height": null,
       "min_width": null,
       "object_fit": null,
       "object_position": null,
       "order": null,
       "overflow": null,
       "padding": null,
       "right": null,
       "top": null,
       "visibility": null,
       "width": null
      }
     },
     "3e4b0212997349e4b94f6258bab4bbff": {
      "model_module": "@jupyter-widgets/base",
      "model_module_version": "2.0.0",
      "model_name": "LayoutModel",
      "state": {
       "_model_module": "@jupyter-widgets/base",
       "_model_module_version": "2.0.0",
       "_model_name": "LayoutModel",
       "_view_count": null,
       "_view_module": "@jupyter-widgets/base",
       "_view_module_version": "2.0.0",
       "_view_name": "LayoutView",
       "align_content": null,
       "align_items": null,
       "align_self": null,
       "border_bottom": null,
       "border_left": null,
       "border_right": null,
       "border_top": null,
       "bottom": null,
       "display": null,
       "flex": null,
       "flex_flow": null,
       "grid_area": null,
       "grid_auto_columns": null,
       "grid_auto_flow": null,
       "grid_auto_rows": null,
       "grid_column": null,
       "grid_gap": null,
       "grid_row": null,
       "grid_template_areas": null,
       "grid_template_columns": null,
       "grid_template_rows": null,
       "height": null,
       "justify_content": null,
       "justify_items": null,
       "left": null,
       "margin": null,
       "max_height": null,
       "max_width": null,
       "min_height": null,
       "min_width": null,
       "object_fit": null,
       "object_position": null,
       "order": null,
       "overflow": null,
       "padding": null,
       "right": null,
       "top": null,
       "visibility": null,
       "width": null
      }
     },
     "40839ca026d94a15960f76567a908e3b": {
      "model_module": "@jupyter-widgets/output",
      "model_module_version": "1.0.0",
      "model_name": "OutputModel",
      "state": {
       "_dom_classes": [],
       "_model_module": "@jupyter-widgets/output",
       "_model_module_version": "1.0.0",
       "_model_name": "OutputModel",
       "_view_count": null,
       "_view_module": "@jupyter-widgets/output",
       "_view_module_version": "1.0.0",
       "_view_name": "OutputView",
       "layout": "IPY_MODEL_59dd7a78d761479f95a37d185520b758",
       "msg_id": "",
       "outputs": [
        {
         "data": {
          "text/html": "<pre style=\"white-space:pre;overflow-x:auto;line-height:normal;font-family:Menlo,'DejaVu Sans Mono',consolas,'Courier New',monospace\"><span style=\"color: #800000; text-decoration-color: #800000; font-weight: bold\">↑</span> <span style=\"color: #000080; text-decoration-color: #000080; font-weight: bold\">simulation.hdf5.gz</span> <span style=\"color: #729c1f; text-decoration-color: #729c1f\">━━━━━━━━━━━━━━━━━━━━━━━━━</span> <span style=\"color: #800080; text-decoration-color: #800080\">100.0%</span> • <span style=\"color: #008000; text-decoration-color: #008000\">1.3/1.3 kB</span> • <span style=\"color: #800000; text-decoration-color: #800000\">?</span> • <span style=\"color: #008080; text-decoration-color: #008080\">0:00:00</span>\n</pre>\n",
          "text/plain": "\u001b[1;31m↑\u001b[0m \u001b[1;34msimulation.hdf5.gz\u001b[0m \u001b[38;2;114;156;31m━━━━━━━━━━━━━━━━━━━━━━━━━\u001b[0m \u001b[35m100.0%\u001b[0m • \u001b[32m1.3/1.3 kB\u001b[0m • \u001b[31m?\u001b[0m • \u001b[36m0:00:00\u001b[0m\n"
         },
         "metadata": {},
         "output_type": "display_data"
        }
       ],
       "tabbable": null,
       "tooltip": null
      }
     },
     "442b09ebc99b4619a025f6ebf46eb4df": {
      "model_module": "@jupyter-widgets/output",
      "model_module_version": "1.0.0",
      "model_name": "OutputModel",
      "state": {
       "_dom_classes": [],
       "_model_module": "@jupyter-widgets/output",
       "_model_module_version": "1.0.0",
       "_model_name": "OutputModel",
       "_view_count": null,
       "_view_module": "@jupyter-widgets/output",
       "_view_module_version": "1.0.0",
       "_view_name": "OutputView",
       "layout": "IPY_MODEL_3e4b0212997349e4b94f6258bab4bbff",
       "msg_id": "",
       "outputs": [
        {
         "data": {
          "text/html": "<pre style=\"white-space:pre;overflow-x:auto;line-height:normal;font-family:Menlo,'DejaVu Sans Mono',consolas,'Courier New',monospace\"><span style=\"color: #008000; text-decoration-color: #008000\">🚶 </span> <span style=\"color: #008000; text-decoration-color: #008000; font-weight: bold\">Finishing 'adjoint_power_adj'...</span>\n</pre>\n",
          "text/plain": "\u001b[32m🚶 \u001b[0m \u001b[1;32mFinishing 'adjoint_power_adj'...\u001b[0m\n"
         },
         "metadata": {},
         "output_type": "display_data"
        }
       ],
       "tabbable": null,
       "tooltip": null
      }
     },
     "447a8d8268d9466099cfe6df0d5e58cd": {
      "model_module": "@jupyter-widgets/output",
      "model_module_version": "1.0.0",
      "model_name": "OutputModel",
      "state": {
       "_dom_classes": [],
       "_model_module": "@jupyter-widgets/output",
       "_model_module_version": "1.0.0",
       "_model_name": "OutputModel",
       "_view_count": null,
       "_view_module": "@jupyter-widgets/output",
       "_view_module_version": "1.0.0",
       "_view_name": "OutputView",
       "layout": "IPY_MODEL_22263ab07b714e918b3f7631c2d1d235",
       "msg_id": "",
       "outputs": [
        {
         "data": {
          "text/html": "<pre style=\"white-space:pre;overflow-x:auto;line-height:normal;font-family:Menlo,'DejaVu Sans Mono',consolas,'Courier New',monospace\"><span style=\"color: #008000; text-decoration-color: #008000; font-weight: bold\">↓</span> <span style=\"color: #000080; text-decoration-color: #000080; font-weight: bold\">monitor_data.hdf5</span> <span style=\"color: #729c1f; text-decoration-color: #729c1f\">━━━━━━━━━━━━━━━━━━━━━━━━</span> <span style=\"color: #800080; text-decoration-color: #800080\">100.0%</span> • <span style=\"color: #008000; text-decoration-color: #008000\">26.0/26.0 kB</span> • <span style=\"color: #800000; text-decoration-color: #800000\">?</span> • <span style=\"color: #008080; text-decoration-color: #008080\">0:00:00</span>\n</pre>\n",
          "text/plain": "\u001b[1;32m↓\u001b[0m \u001b[1;34mmonitor_data.hdf5\u001b[0m \u001b[38;2;114;156;31m━━━━━━━━━━━━━━━━━━━━━━━━\u001b[0m \u001b[35m100.0%\u001b[0m • \u001b[32m26.0/26.0 kB\u001b[0m • \u001b[31m?\u001b[0m • \u001b[36m0:00:00\u001b[0m\n"
         },
         "metadata": {},
         "output_type": "display_data"
        }
       ],
       "tabbable": null,
       "tooltip": null
      }
     },
     "59dd7a78d761479f95a37d185520b758": {
      "model_module": "@jupyter-widgets/base",
      "model_module_version": "2.0.0",
      "model_name": "LayoutModel",
      "state": {
       "_model_module": "@jupyter-widgets/base",
       "_model_module_version": "2.0.0",
       "_model_name": "LayoutModel",
       "_view_count": null,
       "_view_module": "@jupyter-widgets/base",
       "_view_module_version": "2.0.0",
       "_view_name": "LayoutView",
       "align_content": null,
       "align_items": null,
       "align_self": null,
       "border_bottom": null,
       "border_left": null,
       "border_right": null,
       "border_top": null,
       "bottom": null,
       "display": null,
       "flex": null,
       "flex_flow": null,
       "grid_area": null,
       "grid_auto_columns": null,
       "grid_auto_flow": null,
       "grid_auto_rows": null,
       "grid_column": null,
       "grid_gap": null,
       "grid_row": null,
       "grid_template_areas": null,
       "grid_template_columns": null,
       "grid_template_rows": null,
       "height": null,
       "justify_content": null,
       "justify_items": null,
       "left": null,
       "margin": null,
       "max_height": null,
       "max_width": null,
       "min_height": null,
       "min_width": null,
       "object_fit": null,
       "object_position": null,
       "order": null,
       "overflow": null,
       "padding": null,
       "right": null,
       "top": null,
       "visibility": null,
       "width": null
      }
     },
     "5cfda64f2b63446fa44ee6b885e80d56": {
      "model_module": "@jupyter-widgets/output",
      "model_module_version": "1.0.0",
      "model_name": "OutputModel",
      "state": {
       "_dom_classes": [],
       "_model_module": "@jupyter-widgets/output",
       "_model_module_version": "1.0.0",
       "_model_name": "OutputModel",
       "_view_count": null,
       "_view_module": "@jupyter-widgets/output",
       "_view_module_version": "1.0.0",
       "_view_name": "OutputView",
       "layout": "IPY_MODEL_689be44a1feb4f15806ffd340363f7c6",
       "msg_id": "",
       "outputs": [
        {
         "data": {
          "text/html": "<pre style=\"white-space:pre;overflow-x:auto;line-height:normal;font-family:Menlo,'DejaVu Sans Mono',consolas,'Courier New',monospace\"><span style=\"color: #008000; text-decoration-color: #008000\">🚶 </span> <span style=\"color: #008000; text-decoration-color: #008000; font-weight: bold\">Starting 'adjoint_power_adj'...</span>\n</pre>\n",
          "text/plain": "\u001b[32m🚶 \u001b[0m \u001b[1;32mStarting 'adjoint_power_adj'...\u001b[0m\n"
         },
         "metadata": {},
         "output_type": "display_data"
        }
       ],
       "tabbable": null,
       "tooltip": null
      }
     },
     "5fab5073d62b4cf1a4cdfc6262104037": {
      "model_module": "@jupyter-widgets/output",
      "model_module_version": "1.0.0",
      "model_name": "OutputModel",
      "state": {
       "_dom_classes": [],
       "_model_module": "@jupyter-widgets/output",
       "_model_module_version": "1.0.0",
       "_model_name": "OutputModel",
       "_view_count": null,
       "_view_module": "@jupyter-widgets/output",
       "_view_module_version": "1.0.0",
       "_view_name": "OutputView",
       "layout": "IPY_MODEL_73e9899282044647881f883f74bf4b62",
       "msg_id": "",
       "outputs": [
        {
         "data": {
          "text/html": "<pre style=\"white-space:pre;overflow-x:auto;line-height:normal;font-family:Menlo,'DejaVu Sans Mono',consolas,'Courier New',monospace\">solver progress (field decay = 0.00e+00) <span style=\"color: #729c1f; text-decoration-color: #729c1f\">━━━━━━━━━━━━━━━━━━━━━━━━━━</span> <span style=\"color: #800080; text-decoration-color: #800080\">100%</span> <span style=\"color: #008080; text-decoration-color: #008080\">0:00:00</span>\n</pre>\n",
          "text/plain": "solver progress (field decay = 0.00e+00) \u001b[38;2;114;156;31m━━━━━━━━━━━━━━━━━━━━━━━━━━\u001b[0m \u001b[35m100%\u001b[0m \u001b[36m0:00:00\u001b[0m\n"
         },
         "metadata": {},
         "output_type": "display_data"
        }
       ],
       "tabbable": null,
       "tooltip": null
      }
     },
     "61b34c9f786a417e85b5f36aa7579868": {
      "model_module": "@jupyter-widgets/base",
      "model_module_version": "2.0.0",
      "model_name": "LayoutModel",
      "state": {
       "_model_module": "@jupyter-widgets/base",
       "_model_module_version": "2.0.0",
       "_model_name": "LayoutModel",
       "_view_count": null,
       "_view_module": "@jupyter-widgets/base",
       "_view_module_version": "2.0.0",
       "_view_name": "LayoutView",
       "align_content": null,
       "align_items": null,
       "align_self": null,
       "border_bottom": null,
       "border_left": null,
       "border_right": null,
       "border_top": null,
       "bottom": null,
       "display": null,
       "flex": null,
       "flex_flow": null,
       "grid_area": null,
       "grid_auto_columns": null,
       "grid_auto_flow": null,
       "grid_auto_rows": null,
       "grid_column": null,
       "grid_gap": null,
       "grid_row": null,
       "grid_template_areas": null,
       "grid_template_columns": null,
       "grid_template_rows": null,
       "height": null,
       "justify_content": null,
       "justify_items": null,
       "left": null,
       "margin": null,
       "max_height": null,
       "max_width": null,
       "min_height": null,
       "min_width": null,
       "object_fit": null,
       "object_position": null,
       "order": null,
       "overflow": null,
       "padding": null,
       "right": null,
       "top": null,
       "visibility": null,
       "width": null
      }
     },
     "689be44a1feb4f15806ffd340363f7c6": {
      "model_module": "@jupyter-widgets/base",
      "model_module_version": "2.0.0",
      "model_name": "LayoutModel",
      "state": {
       "_model_module": "@jupyter-widgets/base",
       "_model_module_version": "2.0.0",
       "_model_name": "LayoutModel",
       "_view_count": null,
       "_view_module": "@jupyter-widgets/base",
       "_view_module_version": "2.0.0",
       "_view_name": "LayoutView",
       "align_content": null,
       "align_items": null,
       "align_self": null,
       "border_bottom": null,
       "border_left": null,
       "border_right": null,
       "border_top": null,
       "bottom": null,
       "display": null,
       "flex": null,
       "flex_flow": null,
       "grid_area": null,
       "grid_auto_columns": null,
       "grid_auto_flow": null,
       "grid_auto_rows": null,
       "grid_column": null,
       "grid_gap": null,
       "grid_row": null,
       "grid_template_areas": null,
       "grid_template_columns": null,
       "grid_template_rows": null,
       "height": null,
       "justify_content": null,
       "justify_items": null,
       "left": null,
       "margin": null,
       "max_height": null,
       "max_width": null,
       "min_height": null,
       "min_width": null,
       "object_fit": null,
       "object_position": null,
       "order": null,
       "overflow": null,
       "padding": null,
       "right": null,
       "top": null,
       "visibility": null,
       "width": null
      }
     },
     "6c01a97d1bd243b5989e53e99737620b": {
      "model_module": "@jupyter-widgets/output",
      "model_module_version": "1.0.0",
      "model_name": "OutputModel",
      "state": {
       "_dom_classes": [],
       "_model_module": "@jupyter-widgets/output",
       "_model_module_version": "1.0.0",
       "_model_name": "OutputModel",
       "_view_count": null,
       "_view_module": "@jupyter-widgets/output",
       "_view_module_version": "1.0.0",
       "_view_name": "OutputView",
       "layout": "IPY_MODEL_0c38b4d069434f9a8da8dab1582e8691",
       "msg_id": "",
       "outputs": [
        {
         "data": {
          "text/html": "<pre style=\"white-space:pre;overflow-x:auto;line-height:normal;font-family:Menlo,'DejaVu Sans Mono',consolas,'Courier New',monospace\">solver progress (field decay = 0.00e+00) <span style=\"color: #729c1f; text-decoration-color: #729c1f\">━━━━━━━━━━━━━━━━━━━━━━━━━━</span> <span style=\"color: #800080; text-decoration-color: #800080\">100%</span> <span style=\"color: #008080; text-decoration-color: #008080\">0:00:00</span>\n</pre>\n",
          "text/plain": "solver progress (field decay = 0.00e+00) \u001b[38;2;114;156;31m━━━━━━━━━━━━━━━━━━━━━━━━━━\u001b[0m \u001b[35m100%\u001b[0m \u001b[36m0:00:00\u001b[0m\n"
         },
         "metadata": {},
         "output_type": "display_data"
        }
       ],
       "tabbable": null,
       "tooltip": null
      }
     },
     "6e8b3310f1864aa38f0e887693333e66": {
      "model_module": "@jupyter-widgets/output",
      "model_module_version": "1.0.0",
      "model_name": "OutputModel",
      "state": {
       "_dom_classes": [],
       "_model_module": "@jupyter-widgets/output",
       "_model_module_version": "1.0.0",
       "_model_name": "OutputModel",
       "_view_count": null,
       "_view_module": "@jupyter-widgets/output",
       "_view_module_version": "1.0.0",
       "_view_name": "OutputView",
       "layout": "IPY_MODEL_c56924fa669d49bfa83333df3c73ca89",
       "msg_id": "",
       "outputs": [
        {
         "data": {
          "text/html": "<pre style=\"white-space:pre;overflow-x:auto;line-height:normal;font-family:Menlo,'DejaVu Sans Mono',consolas,'Courier New',monospace\"><span style=\"color: #800000; text-decoration-color: #800000; font-weight: bold\">↑</span> <span style=\"color: #000080; text-decoration-color: #000080; font-weight: bold\">jax_info.json</span> <span style=\"color: #729c1f; text-decoration-color: #729c1f\">━━━━━━━━━━━━━━━━━━━━━━━━━━━</span> <span style=\"color: #800080; text-decoration-color: #800080\">100.0%</span> • <span style=\"color: #008000; text-decoration-color: #008000\">174/174 bytes</span> • <span style=\"color: #800000; text-decoration-color: #800000\">?</span> • <span style=\"color: #008080; text-decoration-color: #008080\">0:00:00</span>\n</pre>\n",
          "text/plain": "\u001b[1;31m↑\u001b[0m \u001b[1;34mjax_info.json\u001b[0m \u001b[38;2;114;156;31m━━━━━━━━━━━━━━━━━━━━━━━━━━━\u001b[0m \u001b[35m100.0%\u001b[0m • \u001b[32m174/174 bytes\u001b[0m • \u001b[31m?\u001b[0m • \u001b[36m0:00:00\u001b[0m\n"
         },
         "metadata": {},
         "output_type": "display_data"
        }
       ],
       "tabbable": null,
       "tooltip": null
      }
     },
     "73e9899282044647881f883f74bf4b62": {
      "model_module": "@jupyter-widgets/base",
      "model_module_version": "2.0.0",
      "model_name": "LayoutModel",
      "state": {
       "_model_module": "@jupyter-widgets/base",
       "_model_module_version": "2.0.0",
       "_model_name": "LayoutModel",
       "_view_count": null,
       "_view_module": "@jupyter-widgets/base",
       "_view_module_version": "2.0.0",
       "_view_name": "LayoutView",
       "align_content": null,
       "align_items": null,
       "align_self": null,
       "border_bottom": null,
       "border_left": null,
       "border_right": null,
       "border_top": null,
       "bottom": null,
       "display": null,
       "flex": null,
       "flex_flow": null,
       "grid_area": null,
       "grid_auto_columns": null,
       "grid_auto_flow": null,
       "grid_auto_rows": null,
       "grid_column": null,
       "grid_gap": null,
       "grid_row": null,
       "grid_template_areas": null,
       "grid_template_columns": null,
       "grid_template_rows": null,
       "height": null,
       "justify_content": null,
       "justify_items": null,
       "left": null,
       "margin": null,
       "max_height": null,
       "max_width": null,
       "min_height": null,
       "min_width": null,
       "object_fit": null,
       "object_position": null,
       "order": null,
       "overflow": null,
       "padding": null,
       "right": null,
       "top": null,
       "visibility": null,
       "width": null
      }
     },
     "7a0191f382bb4f5d830dc50257de6041": {
      "model_module": "@jupyter-widgets/output",
      "model_module_version": "1.0.0",
      "model_name": "OutputModel",
      "state": {
       "_dom_classes": [],
       "_model_module": "@jupyter-widgets/output",
       "_model_module_version": "1.0.0",
       "_model_name": "OutputModel",
       "_view_count": null,
       "_view_module": "@jupyter-widgets/output",
       "_view_module_version": "1.0.0",
       "_view_name": "OutputView",
       "layout": "IPY_MODEL_db5f56f6df544ef4a0b1f92a78a4e656",
       "msg_id": "",
       "outputs": [
        {
         "data": {
          "text/html": "<pre style=\"white-space:pre;overflow-x:auto;line-height:normal;font-family:Menlo,'DejaVu Sans Mono',consolas,'Courier New',monospace\"><span style=\"color: #800000; text-decoration-color: #800000; font-weight: bold\">↑</span> <span style=\"color: #000080; text-decoration-color: #000080; font-weight: bold\">jax_info.json</span> <span style=\"color: #729c1f; text-decoration-color: #729c1f\">━━━━━━━━━━━━━━━━━━━━━━━━━━━</span> <span style=\"color: #800080; text-decoration-color: #800080\">100.0%</span> • <span style=\"color: #008000; text-decoration-color: #008000\">174/174 bytes</span> • <span style=\"color: #800000; text-decoration-color: #800000\">?</span> • <span style=\"color: #008080; text-decoration-color: #008080\">0:00:00</span>\n</pre>\n",
          "text/plain": "\u001b[1;31m↑\u001b[0m \u001b[1;34mjax_info.json\u001b[0m \u001b[38;2;114;156;31m━━━━━━━━━━━━━━━━━━━━━━━━━━━\u001b[0m \u001b[35m100.0%\u001b[0m • \u001b[32m174/174 bytes\u001b[0m • \u001b[31m?\u001b[0m • \u001b[36m0:00:00\u001b[0m\n"
         },
         "metadata": {},
         "output_type": "display_data"
        }
       ],
       "tabbable": null,
       "tooltip": null
      }
     },
     "b53c68ddd8fd4415ab2e76a8c41c917e": {
      "model_module": "@jupyter-widgets/output",
      "model_module_version": "1.0.0",
      "model_name": "OutputModel",
      "state": {
       "_dom_classes": [],
       "_model_module": "@jupyter-widgets/output",
       "_model_module_version": "1.0.0",
       "_model_name": "OutputModel",
       "_view_count": null,
       "_view_module": "@jupyter-widgets/output",
       "_view_module_version": "1.0.0",
       "_view_name": "OutputView",
       "layout": "IPY_MODEL_ffb1092616b54fbe9e86418b8843fb6d",
       "msg_id": "",
       "outputs": [
        {
         "data": {
          "text/html": "<pre style=\"white-space:pre;overflow-x:auto;line-height:normal;font-family:Menlo,'DejaVu Sans Mono',consolas,'Courier New',monospace\"><span style=\"color: #008000; text-decoration-color: #008000; font-weight: bold\">↓</span> <span style=\"color: #000080; text-decoration-color: #000080; font-weight: bold\">jax_sim_vjp.hdf5</span> <span style=\"color: #729c1f; text-decoration-color: #729c1f\">━━━━━━━━━━━━━━━━━━━━━━━━━━━</span> <span style=\"color: #800080; text-decoration-color: #800080\">100.0%</span> • <span style=\"color: #008000; text-decoration-color: #008000\">6.2/6.2 kB</span> • <span style=\"color: #800000; text-decoration-color: #800000\">?</span> • <span style=\"color: #008080; text-decoration-color: #008080\">0:00:00</span>\n</pre>\n",
          "text/plain": "\u001b[1;32m↓\u001b[0m \u001b[1;34mjax_sim_vjp.hdf5\u001b[0m \u001b[38;2;114;156;31m━━━━━━━━━━━━━━━━━━━━━━━━━━━\u001b[0m \u001b[35m100.0%\u001b[0m • \u001b[32m6.2/6.2 kB\u001b[0m • \u001b[31m?\u001b[0m • \u001b[36m0:00:00\u001b[0m\n"
         },
         "metadata": {},
         "output_type": "display_data"
        }
       ],
       "tabbable": null,
       "tooltip": null
      }
     },
     "c56924fa669d49bfa83333df3c73ca89": {
      "model_module": "@jupyter-widgets/base",
      "model_module_version": "2.0.0",
      "model_name": "LayoutModel",
      "state": {
       "_model_module": "@jupyter-widgets/base",
       "_model_module_version": "2.0.0",
       "_model_name": "LayoutModel",
       "_view_count": null,
       "_view_module": "@jupyter-widgets/base",
       "_view_module_version": "2.0.0",
       "_view_name": "LayoutView",
       "align_content": null,
       "align_items": null,
       "align_self": null,
       "border_bottom": null,
       "border_left": null,
       "border_right": null,
       "border_top": null,
       "bottom": null,
       "display": null,
       "flex": null,
       "flex_flow": null,
       "grid_area": null,
       "grid_auto_columns": null,
       "grid_auto_flow": null,
       "grid_auto_rows": null,
       "grid_column": null,
       "grid_gap": null,
       "grid_row": null,
       "grid_template_areas": null,
       "grid_template_columns": null,
       "grid_template_rows": null,
       "height": null,
       "justify_content": null,
       "justify_items": null,
       "left": null,
       "margin": null,
       "max_height": null,
       "max_width": null,
       "min_height": null,
       "min_width": null,
       "object_fit": null,
       "object_position": null,
       "order": null,
       "overflow": null,
       "padding": null,
       "right": null,
       "top": null,
       "visibility": null,
       "width": null
      }
     },
     "c580b49c32bb430a834f30515c9339d6": {
      "model_module": "@jupyter-widgets/base",
      "model_module_version": "2.0.0",
      "model_name": "LayoutModel",
      "state": {
       "_model_module": "@jupyter-widgets/base",
       "_model_module_version": "2.0.0",
       "_model_name": "LayoutModel",
       "_view_count": null,
       "_view_module": "@jupyter-widgets/base",
       "_view_module_version": "2.0.0",
       "_view_name": "LayoutView",
       "align_content": null,
       "align_items": null,
       "align_self": null,
       "border_bottom": null,
       "border_left": null,
       "border_right": null,
       "border_top": null,
       "bottom": null,
       "display": null,
       "flex": null,
       "flex_flow": null,
       "grid_area": null,
       "grid_auto_columns": null,
       "grid_auto_flow": null,
       "grid_auto_rows": null,
       "grid_column": null,
       "grid_gap": null,
       "grid_row": null,
       "grid_template_areas": null,
       "grid_template_columns": null,
       "grid_template_rows": null,
       "height": null,
       "justify_content": null,
       "justify_items": null,
       "left": null,
       "margin": null,
       "max_height": null,
       "max_width": null,
       "min_height": null,
       "min_width": null,
       "object_fit": null,
       "object_position": null,
       "order": null,
       "overflow": null,
       "padding": null,
       "right": null,
       "top": null,
       "visibility": null,
       "width": null
      }
     },
     "db5f56f6df544ef4a0b1f92a78a4e656": {
      "model_module": "@jupyter-widgets/base",
      "model_module_version": "2.0.0",
      "model_name": "LayoutModel",
      "state": {
       "_model_module": "@jupyter-widgets/base",
       "_model_module_version": "2.0.0",
       "_model_name": "LayoutModel",
       "_view_count": null,
       "_view_module": "@jupyter-widgets/base",
       "_view_module_version": "2.0.0",
       "_view_name": "LayoutView",
       "align_content": null,
       "align_items": null,
       "align_self": null,
       "border_bottom": null,
       "border_left": null,
       "border_right": null,
       "border_top": null,
       "bottom": null,
       "display": null,
       "flex": null,
       "flex_flow": null,
       "grid_area": null,
       "grid_auto_columns": null,
       "grid_auto_flow": null,
       "grid_auto_rows": null,
       "grid_column": null,
       "grid_gap": null,
       "grid_row": null,
       "grid_template_areas": null,
       "grid_template_columns": null,
       "grid_template_rows": null,
       "height": null,
       "justify_content": null,
       "justify_items": null,
       "left": null,
       "margin": null,
       "max_height": null,
       "max_width": null,
       "min_height": null,
       "min_width": null,
       "object_fit": null,
       "object_position": null,
       "order": null,
       "overflow": null,
       "padding": null,
       "right": null,
       "top": null,
       "visibility": null,
       "width": null
      }
     },
     "f73f20b25e7641e1993293a18fa4ca62": {
      "model_module": "@jupyter-widgets/output",
      "model_module_version": "1.0.0",
      "model_name": "OutputModel",
      "state": {
       "_dom_classes": [],
       "_model_module": "@jupyter-widgets/output",
       "_model_module_version": "1.0.0",
       "_model_name": "OutputModel",
       "_view_count": null,
       "_view_module": "@jupyter-widgets/output",
       "_view_module_version": "1.0.0",
       "_view_name": "OutputView",
       "layout": "IPY_MODEL_c580b49c32bb430a834f30515c9339d6",
       "msg_id": "",
       "outputs": [
        {
         "data": {
          "text/html": "<pre style=\"white-space:pre;overflow-x:auto;line-height:normal;font-family:Menlo,'DejaVu Sans Mono',consolas,'Courier New',monospace\"><span style=\"color: #008000; text-decoration-color: #008000\">🏃 </span> <span style=\"color: #008000; text-decoration-color: #008000; font-weight: bold\">Finishing 'adjoint_power'...</span>\n</pre>\n",
          "text/plain": "\u001b[32m🏃 \u001b[0m \u001b[1;32mFinishing 'adjoint_power'...\u001b[0m\n"
         },
         "metadata": {},
         "output_type": "display_data"
        }
       ],
       "tabbable": null,
       "tooltip": null
      }
     },
     "fb3c7358175547bab3a99f97cc568de2": {
      "model_module": "@jupyter-widgets/output",
      "model_module_version": "1.0.0",
      "model_name": "OutputModel",
      "state": {
       "_dom_classes": [],
       "_model_module": "@jupyter-widgets/output",
       "_model_module_version": "1.0.0",
       "_model_name": "OutputModel",
       "_view_count": null,
       "_view_module": "@jupyter-widgets/output",
       "_view_module_version": "1.0.0",
       "_view_name": "OutputView",
       "layout": "IPY_MODEL_fd940ff710d34afe9824c2ae7eb5038f",
       "msg_id": "",
       "outputs": [
        {
         "data": {
          "text/html": "<pre style=\"white-space:pre;overflow-x:auto;line-height:normal;font-family:Menlo,'DejaVu Sans Mono',consolas,'Courier New',monospace\"><span style=\"color: #008000; text-decoration-color: #008000\">🏃 </span> <span style=\"color: #008000; text-decoration-color: #008000; font-weight: bold\">Starting 'adjoint_power'...</span>\n</pre>\n",
          "text/plain": "\u001b[32m🏃 \u001b[0m \u001b[1;32mStarting 'adjoint_power'...\u001b[0m\n"
         },
         "metadata": {},
         "output_type": "display_data"
        }
       ],
       "tabbable": null,
       "tooltip": null
      }
     },
     "fd940ff710d34afe9824c2ae7eb5038f": {
      "model_module": "@jupyter-widgets/base",
      "model_module_version": "2.0.0",
      "model_name": "LayoutModel",
      "state": {
       "_model_module": "@jupyter-widgets/base",
       "_model_module_version": "2.0.0",
       "_model_name": "LayoutModel",
       "_view_count": null,
       "_view_module": "@jupyter-widgets/base",
       "_view_module_version": "2.0.0",
       "_view_name": "LayoutView",
       "align_content": null,
       "align_items": null,
       "align_self": null,
       "border_bottom": null,
       "border_left": null,
       "border_right": null,
       "border_top": null,
       "bottom": null,
       "display": null,
       "flex": null,
       "flex_flow": null,
       "grid_area": null,
       "grid_auto_columns": null,
       "grid_auto_flow": null,
       "grid_auto_rows": null,
       "grid_column": null,
       "grid_gap": null,
       "grid_row": null,
       "grid_template_areas": null,
       "grid_template_columns": null,
       "grid_template_rows": null,
       "height": null,
       "justify_content": null,
       "justify_items": null,
       "left": null,
       "margin": null,
       "max_height": null,
       "max_width": null,
       "min_height": null,
       "min_width": null,
       "object_fit": null,
       "object_position": null,
       "order": null,
       "overflow": null,
       "padding": null,
       "right": null,
       "top": null,
       "visibility": null,
       "width": null
      }
     },
     "ff0c8bf3b2c048468d3f4dcf57b26435": {
      "model_module": "@jupyter-widgets/output",
      "model_module_version": "1.0.0",
      "model_name": "OutputModel",
      "state": {
       "_dom_classes": [],
       "_model_module": "@jupyter-widgets/output",
       "_model_module_version": "1.0.0",
       "_model_name": "OutputModel",
       "_view_count": null,
       "_view_module": "@jupyter-widgets/output",
       "_view_module_version": "1.0.0",
       "_view_name": "OutputView",
       "layout": "IPY_MODEL_61b34c9f786a417e85b5f36aa7579868",
       "msg_id": "",
       "outputs": [
        {
         "data": {
          "text/html": "<pre style=\"white-space:pre;overflow-x:auto;line-height:normal;font-family:Menlo,'DejaVu Sans Mono',consolas,'Courier New',monospace\"><span style=\"color: #800000; text-decoration-color: #800000; font-weight: bold\">↑</span> <span style=\"color: #000080; text-decoration-color: #000080; font-weight: bold\">simulation.hdf5.gz</span> <span style=\"color: #729c1f; text-decoration-color: #729c1f\">━━━━━━━━━━━━━━━━━━━━━━━━━</span> <span style=\"color: #800080; text-decoration-color: #800080\">100.0%</span> • <span style=\"color: #008000; text-decoration-color: #008000\">1.4/1.4 kB</span> • <span style=\"color: #800000; text-decoration-color: #800000\">?</span> • <span style=\"color: #008080; text-decoration-color: #008080\">0:00:00</span>\n</pre>\n",
          "text/plain": "\u001b[1;31m↑\u001b[0m \u001b[1;34msimulation.hdf5.gz\u001b[0m \u001b[38;2;114;156;31m━━━━━━━━━━━━━━━━━━━━━━━━━\u001b[0m \u001b[35m100.0%\u001b[0m • \u001b[32m1.4/1.4 kB\u001b[0m • \u001b[31m?\u001b[0m • \u001b[36m0:00:00\u001b[0m\n"
         },
         "metadata": {},
         "output_type": "display_data"
        }
       ],
       "tabbable": null,
       "tooltip": null
      }
     },
     "ffb1092616b54fbe9e86418b8843fb6d": {
      "model_module": "@jupyter-widgets/base",
      "model_module_version": "2.0.0",
      "model_name": "LayoutModel",
      "state": {
       "_model_module": "@jupyter-widgets/base",
       "_model_module_version": "2.0.0",
       "_model_name": "LayoutModel",
       "_view_count": null,
       "_view_module": "@jupyter-widgets/base",
       "_view_module_version": "2.0.0",
       "_view_name": "LayoutView",
       "align_content": null,
       "align_items": null,
       "align_self": null,
       "border_bottom": null,
       "border_left": null,
       "border_right": null,
       "border_top": null,
       "bottom": null,
       "display": null,
       "flex": null,
       "flex_flow": null,
       "grid_area": null,
       "grid_auto_columns": null,
       "grid_auto_flow": null,
       "grid_auto_rows": null,
       "grid_column": null,
       "grid_gap": null,
       "grid_row": null,
       "grid_template_areas": null,
       "grid_template_columns": null,
       "grid_template_rows": null,
       "height": null,
       "justify_content": null,
       "justify_items": null,
       "left": null,
       "margin": null,
       "max_height": null,
       "max_width": null,
       "min_height": null,
       "min_width": null,
       "object_fit": null,
       "object_position": null,
       "order": null,
       "overflow": null,
       "padding": null,
       "right": null,
       "top": null,
       "visibility": null,
       "width": null
      }
     }
    },
    "version_major": 2,
    "version_minor": 0
   }
  }
 },
 "nbformat": 4,
 "nbformat_minor": 5
}
