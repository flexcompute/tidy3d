{
 "cells": [
  {
   "cell_type": "markdown",
   "id": "89f983f5",
   "metadata": {},
   "source": [
    "# Genetic algorithm optimization of a silicon on-chip reflector"
   ]
  },
  {
   "cell_type": "markdown",
   "id": "c129793b",
   "metadata": {},
   "source": [
    "**Note: the cost of running the entire notebook is larger than 10 FlexCredits.**\n",
    "\n",
    "A [genetic algorithm](https://en.wikipedia.org/wiki/Genetic_algorithm) (GA) is a search heuristic that mimics the process of natural selection. This algorithm reflects the process of natural evolution where the fittest individuals are selected for reproduction in order to produce offspring of the next generation.\n",
    "\n",
    "The steps in a GA are typically as follows:\n",
    "\n",
    "1. **Initial Population**: The process begins with a set of individuals which is called a population. Each individual is a solution to the problem you want to solve.\n",
    "\n",
    "2. **Fitness Function**: Each individual in the population has a fitness score which indicates how good it is at solving the problem.\n",
    "\n",
    "3. **Selection**: The algorithm selects individuals, often the fittest among the population, to breed a new generation. The selection can be done in various ways, such as roulette wheel selection, tournament selection, etc.\n",
    "\n",
    "4. **Crossover**: During crossover, parts of two individuals' chromosome strings are swapped to get a new offspring, which may contain some parts of both parents' strings. This simulates reproduction and biological crossover.\n",
    "\n",
    "5. **Mutation**: In some new offspring, random genes are mutated or changed to maintain diversity within the population and to avoid premature convergence.\n",
    "\n",
    "6. **New Generation**: The new generation of population is formed by the offspring. This new generation is then used in the next iteration of the algorithm.\n",
    "\n",
    "7. **Termination**: The algorithm terminates if the population has converged (does not produce offspring that are significantly different from the previous generation), or a satisfactory solution has been found, or a set number of generations have been produced.\n",
    "\n",
    "GAs have become a powerful tool for optimizing photonic components, leveraging their ability to efficiently search large and complex design spaces. In photonics, where the performance of components like waveguides, photonic crystals, and fibers can be highly sensitive to geometrical and material parameters, GAs offer a way to find optimal solutions that might be difficult to discover using traditional design methods. \n",
    "\n",
    "In this notebook, we demonstrate the optimization of a compact silicon waveguide reflector using GA, utilizing the open source Python library [pyGAD](https://pygad.readthedocs.io/en/latest/). The idea follows `Zejie Yu, Haoran Cui, and Xiankai Sun, \"Genetically optimized on-chip wideband ultracompact reflectors and Fabry–Perot cavities,\" Photon. Res. 5, B15-B19 (2017)` [DOI:10.1364/PRJ.5.000B15](https://doi.org/10.1364/PRJ.5.000B15). The design region of the reflector consists of a grid divided into 18x18 pixels. Each pixel is a square measuring 120 nm by 120 nm. \n",
    "\n",
    "<img src=\"img/optimized_reflector.png\" width=\"450\" alt=\"Schematic of the reflector\">\n",
    "\n",
    "`Tidy3D` is a powerful tool for photonic design optimization due to its fast speed and high throughput. Besides GA, we have demonstrated particle swarm optimizations of a [polarization beam splitter](https://www.flexcompute.com/tidy3d/examples/notebooks/ParticleSwarmOptimizedPBS/) and a [bullseye cavity](https://www.flexcompute.com/tidy3d/examples/notebooks/BullseyeCavityPSO/), CMA-ES optimization of an [waveguide S-bend](https://www.flexcompute.com/tidy3d/examples/notebooks/SbendCMAES/), and direct binary search optimization of an [optical switch](https://www.flexcompute.com/tidy3d/examples/notebooks/OpticalSwitchDBS/). Furthermore, we also have a growing list of gradient-based adjoint optimization examples including\n",
    "\n",
    "1. [Mode converter](https://www.flexcompute.com/tidy3d/examples/notebooks/AdjointPlugin3InverseDesign/),\n",
    "\n",
    "2. [Waveguide taper](https://www.flexcompute.com/tidy3d/examples/notebooks/AdjointPlugin5BoundaryGradients/),\n",
    "\n",
    "3. [Metalens](https://www.flexcompute.com/tidy3d/examples/notebooks/AdjointPlugin7Metalens/),\n",
    "\n",
    "4. [Waveguide bend](https://www.flexcompute.com/tidy3d/examples/notebooks/AdjointPlugin8WaveguideBend/), \n",
    "\n",
    "5. [Multiplexer](https://www.flexcompute.com/tidy3d/examples/notebooks/AdjointPlugin9WDM/),\n",
    "\n",
    "6. [Y-branch](https://www.flexcompute.com/tidy3d/examples/notebooks/AdjointPlugin10YBranchLevelSet/),\n",
    "\n",
    "7. [MZI circuit](https://www.flexcompute.com/tidy3d/examples/notebooks/AdjointPlugin11CircuitMZI/),\n",
    "\n",
    "8. [Light extractor](https://www.flexcompute.com/tidy3d/examples/notebooks/AdjointPlugin12LightExtractor/)."
   ]
  },
  {
   "cell_type": "code",
   "execution_count": 1,
   "id": "b9979b1b",
   "metadata": {},
   "outputs": [],
   "source": [
    "import pygad\n",
    "import numpy as np\n",
    "import matplotlib.pyplot as plt\n",
    "\n",
    "import tidy3d as td\n",
    "import tidy3d.web as web"
   ]
  },
  {
   "cell_type": "markdown",
   "id": "fb19411a",
   "metadata": {},
   "source": [
    "## Simulation Setup"
   ]
  },
  {
   "cell_type": "markdown",
   "id": "21fd3302",
   "metadata": {},
   "source": [
    "For simplicity, we will use the silicon and oxide media directly from the [material library](../api/material_library.html#)."
   ]
  },
  {
   "cell_type": "code",
   "execution_count": 2,
   "id": "3e01ad5e",
   "metadata": {},
   "outputs": [],
   "source": [
    "Si = td.material_library[\"cSi\"][\"Palik_Lossless\"]\n",
    "SiO2 = td.material_library[\"SiO2\"][\"Palik_Lossless\"]"
   ]
  },
  {
   "cell_type": "markdown",
   "id": "eb7a4663",
   "metadata": {},
   "source": [
    "The simulation wavelength range is 1450 nm to 1650 nm."
   ]
  },
  {
   "cell_type": "code",
   "execution_count": 3,
   "id": "531341c1",
   "metadata": {},
   "outputs": [],
   "source": [
    "lda0 = 1.55  # central wavelength\n",
    "freq0 = td.C_0 / lda0  # central frequency\n",
    "ldas = np.linspace(1.45, 1.65, 101)  # wavelength range\n",
    "freqs = td.C_0 / ldas  # frequency range\n",
    "fwidth = 0.5 * (np.max(freqs) - np.min(freqs))  # width of the source frequency range"
   ]
  },
  {
   "cell_type": "markdown",
   "id": "c58826ce",
   "metadata": {},
   "source": [
    "The waveguide has a 500 nm width and 220 nm thickness. The design region consists of 18 by 18 pixels. Each pixel is 120 nm by 120 nm. Due to the symmetry, we only consider symmetric design so the total number of tunable pixels is 18*9=162."
   ]
  },
  {
   "cell_type": "code",
   "execution_count": 4,
   "id": "70707ef4",
   "metadata": {},
   "outputs": [],
   "source": [
    "w = 0.5  # width of the waveguide\n",
    "t = 0.22  # thickness of the silicon\n",
    "l = 1  # length of the waveguide in the simulation\n",
    "Px = Py = 0.12  # pixel sizes in the x and y directions\n",
    "Nx = 18  # number of pixels in the x direction\n",
    "Ny = 9  # numbre of pixels in the y direction\n",
    "buffer = 0.8  # buffer spacing"
   ]
  },
  {
   "cell_type": "markdown",
   "id": "7f6e1510",
   "metadata": {},
   "source": [
    "We will an array of length 162 to represent a design. Each element corresponds to each pixel in the design region. An element value of 1 means the pixel is silicon while an element value of 0 means the pixel is void. To facilitate the optimization, we define a helper function `create_design(pixels)` that takes the pixel array and creates the [Structures](../api/_autosummary/tidy3d.Structure.html) of the simulation, inlcuding the waveguide and the design region. "
   ]
  },
  {
   "cell_type": "code",
   "execution_count": 5,
   "id": "04b74f92",
   "metadata": {},
   "outputs": [],
   "source": [
    "def create_design(pixels):\n",
    "    geo = 0\n",
    "    for i, pixel in enumerate(pixels):\n",
    "        if pixel == 1:\n",
    "            geo += td.Box(\n",
    "                center=(l + Px / 2 + Px * (i % Nx), Py * Ny - Py / 2 - Py * (i // Nx), t / 2),\n",
    "                size=(Px, Py, t),\n",
    "            )\n",
    "            geo += td.Box(\n",
    "                center=(l + Px / 2 + Px * (i % Nx), -(Py * Ny - Py / 2 - Py * (i // Nx)), t / 2),\n",
    "                size=(Px, Py, t),\n",
    "            )\n",
    "    geo = geo + td.Box(center=(0, 0, t / 2), size=(2 * l, w, t))\n",
    "\n",
    "    design = td.Structure(geometry=geo, medium=Si)\n",
    "\n",
    "    return design"
   ]
  },
  {
   "cell_type": "markdown",
   "id": "d4a87700",
   "metadata": {},
   "source": [
    "As a quick check, we create a random array and plot the created structures."
   ]
  },
  {
   "cell_type": "code",
   "execution_count": 6,
   "id": "3fc9d4e5",
   "metadata": {},
   "outputs": [
    {
     "data": {
      "image/png": "[encoded data removed]",
      "text/plain": [
       "<Figure size 640x480 with 1 Axes>"
      ]
     },
     "metadata": {},
     "output_type": "display_data"
    }
   ],
   "source": [
    "pixels = np.random.choice([0, 1], size=Nx * Ny)\n",
    "design = create_design(pixels)\n",
    "design.plot(z=t / 2)\n",
    "plt.show()"
   ]
  },
  {
   "cell_type": "markdown",
   "id": "93cfd3ca",
   "metadata": {},
   "source": [
    "Furthermore, we define a `make_sim(pixels)` function to define the entire simulation given the pixel array. The simulation includes a [ModeSource](../api/_autosummary/tidy3d.ModeSource.html) to launch the TE0 mode at the waveguide and a [ModeMonitor](../api/_autosummary/tidy3d.ModeMonitor.html) next to the source to measure the reflection. To minimize data download during the optimization, we will only record the reflection at the central wavelength of 1550 nm since the objective is to maximize this value. "
   ]
  },
  {
   "cell_type": "code",
   "execution_count": 7,
   "id": "cd22e367",
   "metadata": {},
   "outputs": [],
   "source": [
    "def make_sim(pixels):\n",
    "\n",
    "    design = create_design(pixels)\n",
    "\n",
    "    # add a mode source as excitation\n",
    "    mode_spec = td.ModeSpec(num_modes=1, target_neff=3.5)\n",
    "    mode_source = td.ModeSource(\n",
    "        center=(l / 2, 0, t / 2),\n",
    "        size=(0, 4 * w, 6 * t),\n",
    "        source_time=td.GaussianPulse(freq0=freq0, fwidth=fwidth),\n",
    "        direction=\"+\",\n",
    "        mode_spec=mode_spec,\n",
    "        mode_index=0,\n",
    "    )\n",
    "\n",
    "    # add a mode monitor to measure transmission at the output waveguide\n",
    "    mode_monitor = td.ModeMonitor(\n",
    "        center=(l / 4, 0, t / 2),\n",
    "        size=mode_source.size,\n",
    "        freqs=[freq0],\n",
    "        mode_spec=mode_spec,\n",
    "        name=\"mode\",\n",
    "    )\n",
    "\n",
    "    # define simulation domain size\n",
    "    Lx = l + Nx * Px + buffer\n",
    "    Ly = 2 * Ny * Py + 2 * buffer\n",
    "    Lz = 10 * t\n",
    "\n",
    "    eff_inf = 1e2  # effective infinity\n",
    "\n",
    "    # define substrate structure\n",
    "    substrate = td.Structure(\n",
    "        geometry=td.Box.from_bounds(\n",
    "            rmin=(-eff_inf, -eff_inf, -eff_inf), rmax=(eff_inf, eff_inf, 0)\n",
    "        ),\n",
    "        medium=SiO2,\n",
    "    )\n",
    "\n",
    "    run_time = 5e-13  # simulation run time\n",
    "\n",
    "    # simulation box\n",
    "    sim_box = td.Box.from_bounds(rmin=(0, -Ly / 2, -Lz / 2), rmax=(Lx, Ly / 2, Lz / 2))\n",
    "\n",
    "    # define simulation\n",
    "    sim = td.Simulation(\n",
    "        center=sim_box.center,\n",
    "        size=sim_box.size,\n",
    "        grid_spec=td.GridSpec.auto(min_steps_per_wvl=15, wavelength=lda0),\n",
    "        structures=[design, substrate],\n",
    "        sources=[mode_source],\n",
    "        monitors=[mode_monitor],\n",
    "        run_time=run_time,\n",
    "        boundary_spec=td.BoundarySpec.all_sides(boundary=td.PML()),\n",
    "        symmetry=(0, -1, 0),\n",
    "    )\n",
    "\n",
    "    return sim"
   ]
  },
  {
   "cell_type": "markdown",
   "id": "174fe54c",
   "metadata": {},
   "source": [
    "Again, we test it by defining a simulation with a random pixel array. From the 3D view, we confirm that the simulation setup is correct."
   ]
  },
  {
   "cell_type": "code",
   "execution_count": 8,
   "id": "cc3e6ad7",
   "metadata": {},
   "outputs": [
    {
     "data": {
      "text/html": [
       "\n",
       "    <iframe id=\"simulation-viewer170311529632396429\" src=https://feature-simulation-viewer.d3a9gfg7glllfq.amplifyapp.com/simulation-viewer?uuid=170311529632396429 width=\"800\" height=\"800\" allowfullscreen=\"true\"></iframe>\n",
       "    <script>\n",
       "        \n",
       "    window.postMessageToViewer170311529632396429 = event => {\n",
       "        if(event.data.type === 'viewer'&&event.data.uuid==='170311529632396429'){\n",
       "            document.getElementById('simulation-viewer170311529632396429').contentWindow.postMessage({ type: 'jupyter', uuid:'170311529632396429', value:{\"type\": \"Simulation\", \"center\": [1.98, 0.0, 0.0], \"size\": [3.96, 3.7600000000000002, 2.2], \"medium\": {\"name\": null, \"frequency_range\": null, \"allow_gain\": false, \"nonlinear_spec\": null, \"modulation_spec\": null, \"heat_spec\": null, \"type\": \"Medium\", \"permittivity\": 1.0, \"conductivity\": 0.0}, \"structures\": [{\"geometry\": {\"type\": \"GeometryGroup\", \"geometries\": [{\"type\": \"Box\", \"center\": [1.1800000000000002, 1.02, 0.11], \"size\": [0.12, 0.12, 0.22]}, {\"type\": \"Box\", \"center\": [1.1800000000000002, -1.02, 0.11], \"size\": [0.12, 0.12, 0.22]}, {\"type\": \"Box\", \"center\": [1.6600000000000001, 1.02, 0.11], \"size\": [0.12, 0.12, 0.22]}, {\"type\": \"Box\", \"center\": [1.6600000000000001, -1.02, 0.11], \"size\": [0.12, 0.12, 0.22]}, {\"type\": \"Box\", \"center\": [1.9, 1.02, 0.11], \"size\": [0.12, 0.12, 0.22]}, {\"type\": \"Box\", \"center\": [1.9, -1.02, 0.11], \"size\": [0.12, 0.12, 0.22]}, {\"type\": \"Box\", \"center\": [2.38, 1.02, 0.11], \"size\": [0.12, 0.12, 0.22]}, {\"type\": \"Box\", \"center\": [2.38, -1.02, 0.11], \"size\": [0.12, 0.12, 0.22]}, {\"type\": \"Box\", \"center\": [2.5, 1.02, 0.11], \"size\": [0.12, 0.12, 0.22]}, {\"type\": \"Box\", \"center\": [2.5, -1.02, 0.11], \"size\": [0.12, 0.12, 0.22]}, {\"type\": \"Box\", \"center\": [2.74, 1.02, 0.11], \"size\": [0.12, 0.12, 0.22]}, {\"type\": \"Box\", \"center\": [2.74, -1.02, 0.11], \"size\": [0.12, 0.12, 0.22]}, {\"type\": \"Box\", \"center\": [3.1, 1.02, 0.11], \"size\": [0.12, 0.12, 0.22]}, {\"type\": \"Box\", \"center\": [3.1, -1.02, 0.11], \"size\": [0.12, 0.12, 0.22]}, {\"type\": \"Box\", \"center\": [1.06, 0.9, 0.11], \"size\": [0.12, 0.12, 0.22]}, {\"type\": \"Box\", \"center\": [1.06, -0.9, 0.11], \"size\": [0.12, 0.12, 0.22]}, {\"type\": \"Box\", \"center\": [1.42, 0.9, 0.11], \"size\": [0.12, 0.12, 0.22]}, {\"type\": \"Box\", \"center\": [1.42, -0.9, 0.11], \"size\": [0.12, 0.12, 0.22]}, {\"type\": \"Box\", \"center\": [1.6600000000000001, 0.9, 0.11], \"size\": [0.12, 0.12, 0.22]}, {\"type\": \"Box\", \"center\": [1.6600000000000001, -0.9, 0.11], \"size\": [0.12, 0.12, 0.22]}, {\"type\": \"Box\", \"center\": [1.9, 0.9, 0.11], \"size\": [0.12, 0.12, 0.22]}, {\"type\": \"Box\", \"center\": [1.9, -0.9, 0.11], \"size\": [0.12, 0.12, 0.22]}, {\"type\": \"Box\", \"center\": [2.02, 0.9, 0.11], \"size\": [0.12, 0.12, 0.22]}, {\"type\": \"Box\", \"center\": [2.02, -0.9, 0.11], \"size\": [0.12, 0.12, 0.22]}, {\"type\": \"Box\", \"center\": [2.74, 0.9, 0.11], \"size\": [0.12, 0.12, 0.22]}, {\"type\": \"Box\", \"center\": [2.74, -0.9, 0.11], \"size\": [0.12, 0.12, 0.22]}, {\"type\": \"Box\", \"center\": [2.86, 0.9, 0.11], \"size\": [0.12, 0.12, 0.22]}, {\"type\": \"Box\", \"center\": [2.86, -0.9, 0.11], \"size\": [0.12, 0.12, 0.22]}, {\"type\": \"Box\", \"center\": [1.06, 0.78, 0.11], \"size\": [0.12, 0.12, 0.22]}, {\"type\": \"Box\", \"center\": [1.06, -0.78, 0.11], \"size\": [0.12, 0.12, 0.22]}, {\"type\": \"Box\", \"center\": [1.6600000000000001, 0.78, 0.11], \"size\": [0.12, 0.12, 0.22]}, {\"type\": \"Box\", \"center\": [1.6600000000000001, -0.78, 0.11], \"size\": [0.12, 0.12, 0.22]}, {\"type\": \"Box\", \"center\": [1.78, 0.78, 0.11], \"size\": [0.12, 0.12, 0.22]}, {\"type\": \"Box\", \"center\": [1.78, -0.78, 0.11], \"size\": [0.12, 0.12, 0.22]}, {\"type\": \"Box\", \"center\": [2.02, 0.78, 0.11], \"size\": [0.12, 0.12, 0.22]}, {\"type\": \"Box\", \"center\": [2.02, -0.78, 0.11], \"size\": [0.12, 0.12, 0.22]}, {\"type\": \"Box\", \"center\": [2.14, 0.78, 0.11], \"size\": [0.12, 0.12, 0.22]}, {\"type\": \"Box\", \"center\": [2.14, -0.78, 0.11], \"size\": [0.12, 0.12, 0.22]}, {\"type\": \"Box\", \"center\": [2.38, 0.78, 0.11], \"size\": [0.12, 0.12, 0.22]}, {\"type\": \"Box\", \"center\": [2.38, -0.78, 0.11], \"size\": [0.12, 0.12, 0.22]}, {\"type\": \"Box\", \"center\": [2.5, 0.78, 0.11], \"size\": [0.12, 0.12, 0.22]}, {\"type\": \"Box\", \"center\": [2.5, -0.78, 0.11], \"size\": [0.12, 0.12, 0.22]}, {\"type\": \"Box\", \"center\": [2.74, 0.78, 0.11], \"size\": [0.12, 0.12, 0.22]}, {\"type\": \"Box\", \"center\": [2.74, -0.78, 0.11], \"size\": [0.12, 0.12, 0.22]}, {\"type\": \"Box\", \"center\": [3.1, 0.78, 0.11], \"size\": [0.12, 0.12, 0.22]}, {\"type\": \"Box\", \"center\": [3.1, -0.78, 0.11], \"size\": [0.12, 0.12, 0.22]}, {\"type\": \"Box\", \"center\": [1.06, 0.66, 0.11], \"size\": [0.12, 0.12, 0.22]}, {\"type\": \"Box\", \"center\": [1.06, -0.66, 0.11], \"size\": [0.12, 0.12, 0.22]}, {\"type\": \"Box\", \"center\": [1.1800000000000002, 0.66, 0.11], \"size\": [0.12, 0.12, 0.22]}, {\"type\": \"Box\", \"center\": [1.1800000000000002, -0.66, 0.11], \"size\": [0.12, 0.12, 0.22]}, {\"type\": \"Box\", \"center\": [1.6600000000000001, 0.66, 0.11], \"size\": [0.12, 0.12, 0.22]}, {\"type\": \"Box\", \"center\": [1.6600000000000001, -0.66, 0.11], \"size\": [0.12, 0.12, 0.22]}, {\"type\": \"Box\", \"center\": [1.9, 0.66, 0.11], \"size\": [0.12, 0.12, 0.22]}, {\"type\": \"Box\", \"center\": [1.9, -0.66, 0.11], \"size\": [0.12, 0.12, 0.22]}, {\"type\": \"Box\", \"center\": [2.14, 0.66, 0.11], \"size\": [0.12, 0.12, 0.22]}, {\"type\": \"Box\", \"center\": [2.14, -0.66, 0.11], \"size\": [0.12, 0.12, 0.22]}, {\"type\": \"Box\", \"center\": [2.38, 0.66, 0.11], \"size\": [0.12, 0.12, 0.22]}, {\"type\": \"Box\", \"center\": [2.38, -0.66, 0.11], \"size\": [0.12, 0.12, 0.22]}, {\"type\": \"Box\", \"center\": [2.5, 0.66, 0.11], \"size\": [0.12, 0.12, 0.22]}, {\"type\": \"Box\", \"center\": [2.5, -0.66, 0.11], \"size\": [0.12, 0.12, 0.22]}, {\"type\": \"Box\", \"center\": [2.98, 0.66, 0.11], \"size\": [0.12, 0.12, 0.22]}, {\"type\": \"Box\", \"center\": [2.98, -0.66, 0.11], \"size\": [0.12, 0.12, 0.22]}, {\"type\": \"Box\", \"center\": [3.1, 0.66, 0.11], \"size\": [0.12, 0.12, 0.22]}, {\"type\": \"Box\", \"center\": [3.1, -0.66, 0.11], \"size\": [0.12, 0.12, 0.22]}, {\"type\": \"Box\", \"center\": [1.1800000000000002, 0.54, 0.11], \"size\": [0.12, 0.12, 0.22]}, {\"type\": \"Box\", \"center\": [1.1800000000000002, -0.54, 0.11], \"size\": [0.12, 0.12, 0.22]}, {\"type\": \"Box\", \"center\": [1.3, 0.54, 0.11], \"size\": [0.12, 0.12, 0.22]}, {\"type\": \"Box\", \"center\": [1.3, -0.54, 0.11], \"size\": [0.12, 0.12, 0.22]}, {\"type\": \"Box\", \"center\": [2.02, 0.54, 0.11], \"size\": [0.12, 0.12, 0.22]}, {\"type\": \"Box\", \"center\": [2.02, -0.54, 0.11], \"size\": [0.12, 0.12, 0.22]}, {\"type\": \"Box\", \"center\": [2.14, 0.54, 0.11], \"size\": [0.12, 0.12, 0.22]}, {\"type\": \"Box\", \"center\": [2.14, -0.54, 0.11], \"size\": [0.12, 0.12, 0.22]}, {\"type\": \"Box\", \"center\": [2.26, 0.54, 0.11], \"size\": [0.12, 0.12, 0.22]}, {\"type\": \"Box\", \"center\": [2.26, -0.54, 0.11], \"size\": [0.12, 0.12, 0.22]}, {\"type\": \"Box\", \"center\": [2.62, 0.54, 0.11], \"size\": [0.12, 0.12, 0.22]}, {\"type\": \"Box\", \"center\": [2.62, -0.54, 0.11], \"size\": [0.12, 0.12, 0.22]}, {\"type\": \"Box\", \"center\": [2.74, 0.54, 0.11], \"size\": [0.12, 0.12, 0.22]}, {\"type\": \"Box\", \"center\": [2.74, -0.54, 0.11], \"size\": [0.12, 0.12, 0.22]}, {\"type\": \"Box\", \"center\": [2.86, 0.54, 0.11], \"size\": [0.12, 0.12, 0.22]}, {\"type\": \"Box\", \"center\": [2.86, -0.54, 0.11], \"size\": [0.12, 0.12, 0.22]}, {\"type\": \"Box\", \"center\": [3.1, 0.54, 0.11], \"size\": [0.12, 0.12, 0.22]}, {\"type\": \"Box\", \"center\": [3.1, -0.54, 0.11], \"size\": [0.12, 0.12, 0.22]}, {\"type\": \"Box\", \"center\": [1.1800000000000002, 0.42000000000000004, 0.11], \"size\": [0.12, 0.12, 0.22]}, {\"type\": \"Box\", \"center\": [1.1800000000000002, -0.42000000000000004, 0.11], \"size\": [0.12, 0.12, 0.22]}, {\"type\": \"Box\", \"center\": [1.42, 0.42000000000000004, 0.11], \"size\": [0.12, 0.12, 0.22]}, {\"type\": \"Box\", \"center\": [1.42, -0.42000000000000004, 0.11], \"size\": [0.12, 0.12, 0.22]}, {\"type\": \"Box\", \"center\": [1.54, 0.42000000000000004, 0.11], \"size\": [0.12, 0.12, 0.22]}, {\"type\": \"Box\", \"center\": [1.54, -0.42000000000000004, 0.11], \"size\": [0.12, 0.12, 0.22]}, {\"type\": \"Box\", \"center\": [2.26, 0.42000000000000004, 0.11], \"size\": [0.12, 0.12, 0.22]}, {\"type\": \"Box\", \"center\": [2.26, -0.42000000000000004, 0.11], \"size\": [0.12, 0.12, 0.22]}, {\"type\": \"Box\", \"center\": [2.74, 0.42000000000000004, 0.11], \"size\": [0.12, 0.12, 0.22]}, {\"type\": \"Box\", \"center\": [2.74, -0.42000000000000004, 0.11], \"size\": [0.12, 0.12, 0.22]}, {\"type\": \"Box\", \"center\": [2.86, 0.42000000000000004, 0.11], \"size\": [0.12, 0.12, 0.22]}, {\"type\": \"Box\", \"center\": [2.86, -0.42000000000000004, 0.11], \"size\": [0.12, 0.12, 0.22]}, {\"type\": \"Box\", \"center\": [2.98, 0.42000000000000004, 0.11], \"size\": [0.12, 0.12, 0.22]}, {\"type\": \"Box\", \"center\": [2.98, -0.42000000000000004, 0.11], \"size\": [0.12, 0.12, 0.22]}, {\"type\": \"Box\", \"center\": [3.1, 0.42000000000000004, 0.11], \"size\": [0.12, 0.12, 0.22]}, {\"type\": \"Box\", \"center\": [3.1, -0.42000000000000004, 0.11], \"size\": [0.12, 0.12, 0.22]}, {\"type\": \"Box\", \"center\": [1.3, 0.30000000000000004, 0.11], \"size\": [0.12, 0.12, 0.22]}, {\"type\": \"Box\", \"center\": [1.3, -0.30000000000000004, 0.11], \"size\": [0.12, 0.12, 0.22]}, {\"type\": \"Box\", \"center\": [1.42, 0.30000000000000004, 0.11], \"size\": [0.12, 0.12, 0.22]}, {\"type\": \"Box\", \"center\": [1.42, -0.30000000000000004, 0.11], \"size\": [0.12, 0.12, 0.22]}, {\"type\": \"Box\", \"center\": [1.54, 0.30000000000000004, 0.11], \"size\": [0.12, 0.12, 0.22]}, {\"type\": \"Box\", \"center\": [1.54, -0.30000000000000004, 0.11], \"size\": [0.12, 0.12, 0.22]}, {\"type\": \"Box\", \"center\": [1.6600000000000001, 0.30000000000000004, 0.11], \"size\": [0.12, 0.12, 0.22]}, {\"type\": \"Box\", \"center\": [1.6600000000000001, -0.30000000000000004, 0.11], \"size\": [0.12, 0.12, 0.22]}, {\"type\": \"Box\", \"center\": [1.78, 0.30000000000000004, 0.11], \"size\": [0.12, 0.12, 0.22]}, {\"type\": \"Box\", \"center\": [1.78, -0.30000000000000004, 0.11], \"size\": [0.12, 0.12, 0.22]}, {\"type\": \"Box\", \"center\": [1.9, 0.30000000000000004, 0.11], \"size\": [0.12, 0.12, 0.22]}, {\"type\": \"Box\", \"center\": [1.9, -0.30000000000000004, 0.11], \"size\": [0.12, 0.12, 0.22]}, {\"type\": \"Box\", \"center\": [2.14, 0.30000000000000004, 0.11], \"size\": [0.12, 0.12, 0.22]}, {\"type\": \"Box\", \"center\": [2.14, -0.30000000000000004, 0.11], \"size\": [0.12, 0.12, 0.22]}, {\"type\": \"Box\", \"center\": [2.26, 0.30000000000000004, 0.11], \"size\": [0.12, 0.12, 0.22]}, {\"type\": \"Box\", \"center\": [2.26, -0.30000000000000004, 0.11], \"size\": [0.12, 0.12, 0.22]}, {\"type\": \"Box\", \"center\": [2.5, 0.30000000000000004, 0.11], \"size\": [0.12, 0.12, 0.22]}, {\"type\": \"Box\", \"center\": [2.5, -0.30000000000000004, 0.11], \"size\": [0.12, 0.12, 0.22]}, {\"type\": \"Box\", \"center\": [2.98, 0.30000000000000004, 0.11], \"size\": [0.12, 0.12, 0.22]}, {\"type\": \"Box\", \"center\": [2.98, -0.30000000000000004, 0.11], \"size\": [0.12, 0.12, 0.22]}, {\"type\": \"Box\", \"center\": [3.1, 0.30000000000000004, 0.11], \"size\": [0.12, 0.12, 0.22]}, {\"type\": \"Box\", \"center\": [3.1, -0.30000000000000004, 0.11], \"size\": [0.12, 0.12, 0.22]}, {\"type\": \"Box\", \"center\": [1.06, 0.18000000000000005, 0.11], \"size\": [0.12, 0.12, 0.22]}, {\"type\": \"Box\", \"center\": [1.06, -0.18000000000000005, 0.11], \"size\": [0.12, 0.12, 0.22]}, {\"type\": \"Box\", \"center\": [1.1800000000000002, 0.18000000000000005, 0.11], \"size\": [0.12, 0.12, 0.22]}, {\"type\": \"Box\", \"center\": [1.1800000000000002, -0.18000000000000005, 0.11], \"size\": [0.12, 0.12, 0.22]}, {\"type\": \"Box\", \"center\": [1.42, 0.18000000000000005, 0.11], \"size\": [0.12, 0.12, 0.22]}, {\"type\": \"Box\", \"center\": [1.42, -0.18000000000000005, 0.11], \"size\": [0.12, 0.12, 0.22]}, {\"type\": \"Box\", \"center\": [1.78, 0.18000000000000005, 0.11], \"size\": [0.12, 0.12, 0.22]}, {\"type\": \"Box\", \"center\": [1.78, -0.18000000000000005, 0.11], \"size\": [0.12, 0.12, 0.22]}, {\"type\": \"Box\", \"center\": [2.26, 0.18000000000000005, 0.11], \"size\": [0.12, 0.12, 0.22]}, {\"type\": \"Box\", \"center\": [2.26, -0.18000000000000005, 0.11], \"size\": [0.12, 0.12, 0.22]}, {\"type\": \"Box\", \"center\": [2.38, 0.18000000000000005, 0.11], \"size\": [0.12, 0.12, 0.22]}, {\"type\": \"Box\", \"center\": [2.38, -0.18000000000000005, 0.11], \"size\": [0.12, 0.12, 0.22]}, {\"type\": \"Box\", \"center\": [2.62, 0.18000000000000005, 0.11], \"size\": [0.12, 0.12, 0.22]}, {\"type\": \"Box\", \"center\": [2.62, -0.18000000000000005, 0.11], \"size\": [0.12, 0.12, 0.22]}, {\"type\": \"Box\", \"center\": [2.74, 0.18000000000000005, 0.11], \"size\": [0.12, 0.12, 0.22]}, {\"type\": \"Box\", \"center\": [2.74, -0.18000000000000005, 0.11], \"size\": [0.12, 0.12, 0.22]}, {\"type\": \"Box\", \"center\": [2.86, 0.18000000000000005, 0.11], \"size\": [0.12, 0.12, 0.22]}, {\"type\": \"Box\", \"center\": [2.86, -0.18000000000000005, 0.11], \"size\": [0.12, 0.12, 0.22]}, {\"type\": \"Box\", \"center\": [2.98, 0.18000000000000005, 0.11], \"size\": [0.12, 0.12, 0.22]}, {\"type\": \"Box\", \"center\": [2.98, -0.18000000000000005, 0.11], \"size\": [0.12, 0.12, 0.22]}, {\"type\": \"Box\", \"center\": [3.1, 0.18000000000000005, 0.11], \"size\": [0.12, 0.12, 0.22]}, {\"type\": \"Box\", \"center\": [3.1, -0.18000000000000005, 0.11], \"size\": [0.12, 0.12, 0.22]}, {\"type\": \"Box\", \"center\": [1.78, 0.06000000000000005, 0.11], \"size\": [0.12, 0.12, 0.22]}, {\"type\": \"Box\", \"center\": [1.78, -0.06000000000000005, 0.11], \"size\": [0.12, 0.12, 0.22]}, {\"type\": \"Box\", \"center\": [2.14, 0.06000000000000005, 0.11], \"size\": [0.12, 0.12, 0.22]}, {\"type\": \"Box\", \"center\": [2.14, -0.06000000000000005, 0.11], \"size\": [0.12, 0.12, 0.22]}, {\"type\": \"Box\", \"center\": [2.5, 0.06000000000000005, 0.11], \"size\": [0.12, 0.12, 0.22]}, {\"type\": \"Box\", \"center\": [2.5, -0.06000000000000005, 0.11], \"size\": [0.12, 0.12, 0.22]}, {\"type\": \"Box\", \"center\": [2.86, 0.06000000000000005, 0.11], \"size\": [0.12, 0.12, 0.22]}, {\"type\": \"Box\", \"center\": [2.86, -0.06000000000000005, 0.11], \"size\": [0.12, 0.12, 0.22]}, {\"type\": \"Box\", \"center\": [2.98, 0.06000000000000005, 0.11], \"size\": [0.12, 0.12, 0.22]}, {\"type\": \"Box\", \"center\": [2.98, -0.06000000000000005, 0.11], \"size\": [0.12, 0.12, 0.22]}, {\"type\": \"Box\", \"center\": [3.1, 0.06000000000000005, 0.11], \"size\": [0.12, 0.12, 0.22]}, {\"type\": \"Box\", \"center\": [3.1, -0.06000000000000005, 0.11], \"size\": [0.12, 0.12, 0.22]}, {\"type\": \"Box\", \"center\": [0.0, 0.0, 0.11], \"size\": [2.0, 0.5, 0.22]}]}, \"name\": null, \"type\": \"Structure\", \"medium\": {\"name\": null, \"frequency_range\": [1199169832000.0, 249827048333333.34], \"allow_gain\": false, \"nonlinear_spec\": null, \"modulation_spec\": null, \"heat_spec\": null, \"type\": \"PoleResidue\", \"eps_inf\": 1.0, \"poles\": [[{\"real\": -1.7473849958109988, \"imag\": -6409829457220535.0}, {\"real\": 0.06947645444424029, \"imag\": 3.4268436708700284e+16}]]}}, {\"geometry\": {\"type\": \"Box\", \"center\": [0.0, 0.0, -50.0], \"size\": [200.0, 200.0, 100.0]}, \"name\": null, \"type\": \"Structure\", \"medium\": {\"name\": null, \"frequency_range\": [59958491600000.0, 1998616386666666.8], \"allow_gain\": false, \"nonlinear_spec\": null, \"modulation_spec\": null, \"heat_spec\": null, \"type\": \"PoleResidue\", \"eps_inf\": 1.5385442336875639, \"poles\": [[{\"real\": -11504139.374277674, \"imag\": -1.595196740783775e+16}, {\"real\": 7507685.43042605, \"imag\": 4535416182817100.0}], [{\"real\": -249390.3565044153, \"imag\": -172280738540723.53}, {\"real\": 46272.506981344035, \"imag\": 99704543223121.88}]]}}], \"symmetry\": [0, -1, 0], \"sources\": [{\"name\": null, \"type\": \"ModeSource\", \"center\": [0.5, 0.0, 0.11], \"size\": [0.0, 2.0, 1.32], \"source_time\": {\"amplitude\": 1.0, \"phase\": 0.0, \"type\": \"GaussianPulse\", \"freq0\": 193414489032258.06, \"fwidth\": 12530510261233.016, \"offset\": 5.0, \"remove_dc_component\": true}, \"num_freqs\": 1, \"direction\": \"+\", \"mode_spec\": {\"num_modes\": 1, \"target_neff\": 3.5, \"num_pml\": [0, 0], \"filter_pol\": null, \"angle_theta\": 0.0, \"angle_phi\": 0.0, \"precision\": \"single\", \"bend_radius\": null, \"bend_axis\": null, \"track_freq\": \"central\", \"group_index_step\": false, \"type\": \"ModeSpec\"}, \"mode_index\": 0}], \"boundary_spec\": {\"x\": {\"plus\": {\"name\": null, \"type\": \"PML\", \"num_layers\": 12, \"parameters\": {\"sigma_order\": 3, \"sigma_min\": 0.0, \"sigma_max\": 1.5, \"type\": \"PMLParams\", \"kappa_order\": 3, \"kappa_min\": 1.0, \"kappa_max\": 3.0, \"alpha_order\": 1, \"alpha_min\": 0.0, \"alpha_max\": 0.0}}, \"minus\": {\"name\": null, \"type\": \"PML\", \"num_layers\": 12, \"parameters\": {\"sigma_order\": 3, \"sigma_min\": 0.0, \"sigma_max\": 1.5, \"type\": \"PMLParams\", \"kappa_order\": 3, \"kappa_min\": 1.0, \"kappa_max\": 3.0, \"alpha_order\": 1, \"alpha_min\": 0.0, \"alpha_max\": 0.0}}, \"type\": \"Boundary\"}, \"y\": {\"plus\": {\"name\": null, \"type\": \"PML\", \"num_layers\": 12, \"parameters\": {\"sigma_order\": 3, \"sigma_min\": 0.0, \"sigma_max\": 1.5, \"type\": \"PMLParams\", \"kappa_order\": 3, \"kappa_min\": 1.0, \"kappa_max\": 3.0, \"alpha_order\": 1, \"alpha_min\": 0.0, \"alpha_max\": 0.0}}, \"minus\": {\"name\": null, \"type\": \"PML\", \"num_layers\": 12, \"parameters\": {\"sigma_order\": 3, \"sigma_min\": 0.0, \"sigma_max\": 1.5, \"type\": \"PMLParams\", \"kappa_order\": 3, \"kappa_min\": 1.0, \"kappa_max\": 3.0, \"alpha_order\": 1, \"alpha_min\": 0.0, \"alpha_max\": 0.0}}, \"type\": \"Boundary\"}, \"z\": {\"plus\": {\"name\": null, \"type\": \"PML\", \"num_layers\": 12, \"parameters\": {\"sigma_order\": 3, \"sigma_min\": 0.0, \"sigma_max\": 1.5, \"type\": \"PMLParams\", \"kappa_order\": 3, \"kappa_min\": 1.0, \"kappa_max\": 3.0, \"alpha_order\": 1, \"alpha_min\": 0.0, \"alpha_max\": 0.0}}, \"minus\": {\"name\": null, \"type\": \"PML\", \"num_layers\": 12, \"parameters\": {\"sigma_order\": 3, \"sigma_min\": 0.0, \"sigma_max\": 1.5, \"type\": \"PMLParams\", \"kappa_order\": 3, \"kappa_min\": 1.0, \"kappa_max\": 3.0, \"alpha_order\": 1, \"alpha_min\": 0.0, \"alpha_max\": 0.0}}, \"type\": \"Boundary\"}, \"type\": \"BoundarySpec\"}, \"monitors\": [{\"type\": \"ModeMonitor\", \"center\": [0.25, 0.0, 0.11], \"size\": [0.0, 2.0, 1.32], \"name\": \"mode\", \"interval_space\": [1, 1, 1], \"colocate\": false, \"freqs\": [193414489032258.06], \"apodization\": {\"start\": null, \"end\": null, \"width\": null, \"type\": \"ApodizationSpec\"}, \"mode_spec\": {\"num_modes\": 1, \"target_neff\": 3.5, \"num_pml\": [0, 0], \"filter_pol\": null, \"angle_theta\": 0.0, \"angle_phi\": 0.0, \"precision\": \"single\", \"bend_radius\": null, \"bend_axis\": null, \"track_freq\": \"central\", \"group_index_step\": false, \"type\": \"ModeSpec\"}}], \"grid_spec\": {\"grid_x\": {\"type\": \"AutoGrid\", \"min_steps_per_wvl\": 15.0, \"max_scale\": 1.4, \"dl_min\": 0.0, \"mesher\": {\"type\": \"GradedMesher\"}}, \"grid_y\": {\"type\": \"AutoGrid\", \"min_steps_per_wvl\": 15.0, \"max_scale\": 1.4, \"dl_min\": 0.0, \"mesher\": {\"type\": \"GradedMesher\"}}, \"grid_z\": {\"type\": \"AutoGrid\", \"min_steps_per_wvl\": 15.0, \"max_scale\": 1.4, \"dl_min\": 0.0, \"mesher\": {\"type\": \"GradedMesher\"}}, \"wavelength\": 1.55, \"override_structures\": [], \"type\": \"GridSpec\"}, \"version\": \"2.5.0\", \"run_time\": 5e-13, \"shutoff\": 1e-05, \"subpixel\": true, \"normalize_index\": 0, \"courant\": 0.99}}, '*')\n",
       "        }\n",
       "    };\n",
       "    window.addEventListener(\n",
       "        'message',\n",
       "        window.postMessageToViewer170311529632396429,\n",
       "        false\n",
       "    );\n",
       "    \n",
       "    </script>\n",
       "    "
      ],
      "text/plain": [
       "<IPython.core.display.HTML object>"
      ]
     },
     "metadata": {},
     "output_type": "display_data"
    }
   ],
   "source": [
    "sim = make_sim(pixels)\n",
    "sim.plot_3d()"
   ]
  },
  {
   "cell_type": "markdown",
   "id": "6ada207d",
   "metadata": {},
   "source": [
    "## Fitness Function"
   ]
  },
  {
   "cell_type": "markdown",
   "id": "940dae3a",
   "metadata": {},
   "source": [
    "An important step in any optimization is to define the objective function, which is often called the fitness function in the context of GA. Here we define the fitness function according to the convention in [pyGAD](https://pygad.readthedocs.io/en/latest/). By default, the evaluation of the fitness function in each generation of the GA is done sequentially. To harness the concurrent run in Tidy3D, we will submit all simulations in each generation as a batch. In `fitness_function`, the argument `pixels_array` is a 2D array, where each row is a pixel array of size 162. The number of columns is the number of solutions in the population, which we will define later. \n",
    "\n",
    "In addition, we define the `on_generation` function, which is called after each generation, to provide a real time update on the optimization. "
   ]
  },
  {
   "cell_type": "code",
   "execution_count": 9,
   "id": "e1340e47",
   "metadata": {},
   "outputs": [],
   "source": [
    "def fitness_function(ga_instance, pixels_array, solution_indices):\n",
    "    sims = {}\n",
    "    R = []\n",
    "\n",
    "    # define all simulations in the generation\n",
    "    for i in range(pixels_array.shape[0]):\n",
    "        pixels = pixels_array[i]\n",
    "        sim = make_sim(pixels)\n",
    "        sims[f\"sim_{i}\"] = sim\n",
    "\n",
    "    # define and submit a batch\n",
    "    batch = web.Batch(simulations=sims, verbose=False)\n",
    "    batch_results = batch.run(path_dir=\"data\")\n",
    "\n",
    "    # extract reflection results from all simulations\n",
    "    for i in range(pixels_array.shape[0]):\n",
    "        sim_data = batch_results[f\"sim_{i}\"]\n",
    "        R.append(abs(sim_data[\"mode\"].amps.sel(direction=\"-\").squeeze(drop=True).values) ** 2)\n",
    "    return R\n",
    "\n",
    "\n",
    "# function to be called in each generation\n",
    "def on_generation(ga_instance):\n",
    "    best_fitness = ga_instance.best_solution()[1]\n",
    "    print(f\"Generation {ga_instance.generations_completed}: Best Fitness = {best_fitness:.3f}\")"
   ]
  },
  {
   "cell_type": "markdown",
   "id": "a25227f1",
   "metadata": {},
   "source": [
    "## GA Optimizer"
   ]
  },
  {
   "cell_type": "markdown",
   "id": "e62a2da5",
   "metadata": {},
   "source": [
    "Now we are ready to create a GA optimizer. First we need to define some hyper-parameters. In this particular example, we will use 30 solutions per population and run the optimization for a total of 25 generations. There are a number of parameters we can tune to change the selection, crossover, and mutation processes. We only change a few and leave the most to the default settings. Users are encouraged to explore these settings and fine tune them for better results. For reproducibility, we also set a fixed random seed."
   ]
  },
  {
   "cell_type": "code",
   "execution_count": 10,
   "id": "f20c82cf",
   "metadata": {},
   "outputs": [],
   "source": [
    "sol_per_pop = 30  # number of solutions in the population\n",
    "num_generations = 25  # number of generation\n",
    "\n",
    "num_parents_mating = 10  # number of mating parents\n",
    "parent_selection_type = \"sss\"  # parent selection rule\n",
    "\n",
    "crossover_type = \"single_point\"  # crossover rule\n",
    "crossover_probability = 0.7  # cross over probability\n",
    "\n",
    "mutation_type = \"inversion\"  # mutation rule\n",
    "\n",
    "# define the optimizer\n",
    "ga_instance = pygad.GA(\n",
    "    num_generations=num_generations,\n",
    "    num_parents_mating=num_parents_mating,\n",
    "    fitness_func=fitness_function,\n",
    "    parent_selection_type=parent_selection_type,\n",
    "    mutation_type=mutation_type,\n",
    "    crossover_type=crossover_type,\n",
    "    crossover_probability=crossover_probability,\n",
    "    sol_per_pop=sol_per_pop,\n",
    "    num_genes=Nx * Ny,\n",
    "    init_range_low=0,\n",
    "    init_range_high=2,\n",
    "    gene_type=int,\n",
    "    fitness_batch_size=sol_per_pop,\n",
    "    on_generation=on_generation,\n",
    "    random_seed=1,\n",
    ")"
   ]
  },
  {
   "cell_type": "markdown",
   "id": "0b67c427",
   "metadata": {},
   "source": [
    "## Optimization and Results"
   ]
  },
  {
   "cell_type": "markdown",
   "id": "ce8d115d",
   "metadata": {},
   "source": [
    "With the optimizer defined, we are ready to start the optimization. With the defined `on_generation` function, we will print out the best fitness in each generation. We should see a steady increase of the fitness function as the population evolves."
   ]
  },
  {
   "cell_type": "code",
   "execution_count": 11,
   "id": "71f251d6",
   "metadata": {},
   "outputs": [
    {
     "name": "stdout",
     "output_type": "stream",
     "text": [
      "Generation 1: Best Fitness = 0.641\n",
      "Generation 2: Best Fitness = 0.716\n",
      "Generation 3: Best Fitness = 0.737\n",
      "Generation 4: Best Fitness = 0.776\n",
      "Generation 5: Best Fitness = 0.809\n",
      "Generation 6: Best Fitness = 0.809\n",
      "Generation 7: Best Fitness = 0.809\n",
      "Generation 8: Best Fitness = 0.809\n",
      "Generation 9: Best Fitness = 0.809\n",
      "Generation 10: Best Fitness = 0.809\n"
     ]
    },
    {
     "data": {
      "text/html": [
       "<pre style=\"white-space:pre;overflow-x:auto;line-height:normal;font-family:Menlo,'DejaVu Sans Mono',consolas,'Courier New',monospace\"><span style=\"color: #7fbfbf; text-decoration-color: #7fbfbf\">19:22:23 Eastern Standard Time </span><span style=\"color: #800000; text-decoration-color: #800000\">WARNING: No connection: Retrying for </span><span style=\"color: #008080; text-decoration-color: #008080; font-weight: bold\">180</span><span style=\"color: #800000; text-decoration-color: #800000\"> seconds.</span>\n",
       "</pre>\n"
      ],
      "text/plain": [
       "\u001b[2;36m19:22:23 Eastern Standard Time\u001b[0m\u001b[2;36m \u001b[0m\u001b[31mWARNING: No connection: Retrying for \u001b[0m\u001b[1;36m180\u001b[0m\u001b[31m seconds.\u001b[0m\n"
      ]
     },
     "metadata": {},
     "output_type": "display_data"
    },
    {
     "name": "stdout",
     "output_type": "stream",
     "text": [
      "Generation 11: Best Fitness = 0.863\n",
      "Generation 12: Best Fitness = 0.863\n",
      "Generation 13: Best Fitness = 0.863\n",
      "Generation 14: Best Fitness = 0.863\n",
      "Generation 15: Best Fitness = 0.863\n",
      "Generation 16: Best Fitness = 0.863\n"
     ]
    },
    {
     "data": {
      "text/html": [
       "<pre style=\"white-space:pre;overflow-x:auto;line-height:normal;font-family:Menlo,'DejaVu Sans Mono',consolas,'Courier New',monospace\"><span style=\"color: #7fbfbf; text-decoration-color: #7fbfbf\">19:49:37 Eastern Standard Time </span><span style=\"color: #800000; text-decoration-color: #800000\">WARNING: No connection: Retrying for </span><span style=\"color: #008080; text-decoration-color: #008080; font-weight: bold\">180</span><span style=\"color: #800000; text-decoration-color: #800000\"> seconds.</span>\n",
       "</pre>\n"
      ],
      "text/plain": [
       "\u001b[2;36m19:49:37 Eastern Standard Time\u001b[0m\u001b[2;36m \u001b[0m\u001b[31mWARNING: No connection: Retrying for \u001b[0m\u001b[1;36m180\u001b[0m\u001b[31m seconds.\u001b[0m\n"
      ]
     },
     "metadata": {},
     "output_type": "display_data"
    },
    {
     "name": "stdout",
     "output_type": "stream",
     "text": [
      "Generation 17: Best Fitness = 0.863\n",
      "Generation 18: Best Fitness = 0.898\n",
      "Generation 19: Best Fitness = 0.898\n",
      "Generation 20: Best Fitness = 0.898\n",
      "Generation 21: Best Fitness = 0.898\n",
      "Generation 22: Best Fitness = 0.898\n",
      "Generation 23: Best Fitness = 0.928\n",
      "Generation 24: Best Fitness = 0.928\n",
      "Generation 25: Best Fitness = 0.928\n"
     ]
    }
   ],
   "source": [
    "ga_instance.run()"
   ]
  },
  {
   "cell_type": "markdown",
   "id": "296adb3a",
   "metadata": {},
   "source": [
    "After the optimization is complete, we see that we achieved the best fitness (reflection) of 0.928. We can plot the best fitness as a function of generation to better visualize the improvement. "
   ]
  },
  {
   "cell_type": "code",
   "execution_count": 12,
   "id": "8dfdc377",
   "metadata": {},
   "outputs": [
    {
     "data": {
      "image/png": "[encoded data removed]",
      "text/plain": [
       "<Figure size 640x480 with 1 Axes>"
      ]
     },
     "metadata": {},
     "output_type": "display_data"
    },
    {
     "name": "stdout",
     "output_type": "stream",
     "text": [
      "Fitness value of the best solution = 0.928\n"
     ]
    }
   ],
   "source": [
    "# Plotting the best fitness over generations\n",
    "best_fitness = ga_instance.best_solutions_fitness\n",
    "generations = range(len(best_fitness))\n",
    "\n",
    "plt.plot(generations, best_fitness)\n",
    "plt.title(\"Best Fitness over Generations\")\n",
    "plt.xlabel(\"Generation\")\n",
    "plt.ylabel(\"Best Fitness\")\n",
    "plt.show()\n",
    "\n",
    "pixels_final, solution_fitness, solution_idx = ga_instance.best_solution()\n",
    "print(f\"Fitness value of the best solution = {solution_fitness:.3f}\")"
   ]
  },
  {
   "cell_type": "markdown",
   "id": "bd16ffaf",
   "metadata": {},
   "source": [
    "Now that we have an optimized design, we will grab the best pixel array and re-simulate the design with a broadband [ModeMonitor](../api/_autosummary/tidy3d.ModeMonitor.html) and a [FieldMonitor](../api/_autosummary/tidy3d.FieldMonitor.html) at the central wavelength. This final simulation can be defined by copying the original simulation and updating the monitors."
   ]
  },
  {
   "cell_type": "code",
   "execution_count": 13,
   "id": "2024c056",
   "metadata": {},
   "outputs": [
    {
     "data": {
      "text/html": [
       "<pre style=\"white-space:pre;overflow-x:auto;line-height:normal;font-family:Menlo,'DejaVu Sans Mono',consolas,'Courier New',monospace\"><span style=\"color: #7fbfbf; text-decoration-color: #7fbfbf\">20:27:40 Eastern Standard Time </span>Created task <span style=\"color: #008000; text-decoration-color: #008000\">'final design'</span> with task_id         \n",
       "<span style=\"color: #7fbfbf; text-decoration-color: #7fbfbf\">                               </span><span style=\"color: #008000; text-decoration-color: #008000\">'fdve-ae750257-c733-40c8-894e-881c6249f90f'</span> and  \n",
       "<span style=\"color: #7fbfbf; text-decoration-color: #7fbfbf\">                               </span>task_type <span style=\"color: #008000; text-decoration-color: #008000\">'FDTD'</span>.                                \n",
       "</pre>\n"
      ],
      "text/plain": [
       "\u001b[2;36m20:27:40 Eastern Standard Time\u001b[0m\u001b[2;36m \u001b[0mCreated task \u001b[32m'final design'\u001b[0m with task_id         \n",
       "\u001b[2;36m                               \u001b[0m\u001b[32m'fdve-ae750257-c733-40c8-894e-881c6249f90f'\u001b[0m and  \n",
       "\u001b[2;36m                               \u001b[0mtask_type \u001b[32m'FDTD'\u001b[0m.                                \n"
      ]
     },
     "metadata": {},
     "output_type": "display_data"
    },
    {
     "data": {
      "text/html": [
       "<pre style=\"white-space:pre;overflow-x:auto;line-height:normal;font-family:Menlo,'DejaVu Sans Mono',consolas,'Courier New',monospace\"><span style=\"color: #7fbfbf; text-decoration-color: #7fbfbf\">                               </span>View task using web UI at                        \n",
       "<span style=\"color: #7fbfbf; text-decoration-color: #7fbfbf\">                               </span><a href=\"https://tidy3d.simulation.cloud/workbench?taskId=fdve-ae750257-c733-40c8-894e-881c6249f90f\" target=\"_blank\"><span style=\"color: #008000; text-decoration-color: #008000\">'https://tidy3d.simulation.cloud/workbench?taskId</span></a>\n",
       "<span style=\"color: #7fbfbf; text-decoration-color: #7fbfbf\">                               </span><a href=\"https://tidy3d.simulation.cloud/workbench?taskId=fdve-ae750257-c733-40c8-894e-881c6249f90f\" target=\"_blank\"><span style=\"color: #008000; text-decoration-color: #008000\">=fdve-ae750257-c733-40c8-894e-881c6249f90f'</span></a>.     \n",
       "</pre>\n"
      ],
      "text/plain": [
       "\u001b[2;36m                              \u001b[0m\u001b[2;36m \u001b[0mView task using web UI at                        \n",
       "\u001b[2;36m                               \u001b[0m\u001b]8;id=951623;https://tidy3d.simulation.cloud/workbench?taskId=fdve-ae750257-c733-40c8-894e-881c6249f90f\u001b\\\u001b[32m'https://tidy3d.simulation.cloud/workbench?\u001b[0m\u001b]8;;\u001b\\\u001b]8;id=57626;https://tidy3d.simulation.cloud/workbench?taskId=fdve-ae750257-c733-40c8-894e-881c6249f90f\u001b\\\u001b[32mtaskId\u001b[0m\u001b]8;;\u001b\\\n",
       "\u001b[2;36m                               \u001b[0m\u001b]8;id=951623;https://tidy3d.simulation.cloud/workbench?taskId=fdve-ae750257-c733-40c8-894e-881c6249f90f\u001b\\\u001b[32m=\u001b[0m\u001b]8;;\u001b\\\u001b]8;id=508252;https://tidy3d.simulation.cloud/workbench?taskId=fdve-ae750257-c733-40c8-894e-881c6249f90f\u001b\\\u001b[32mfdve\u001b[0m\u001b]8;;\u001b\\\u001b]8;id=951623;https://tidy3d.simulation.cloud/workbench?taskId=fdve-ae750257-c733-40c8-894e-881c6249f90f\u001b\\\u001b[32m-ae750257-c733-40c8-894e-881c6249f90f'\u001b[0m\u001b]8;;\u001b\\.     \n"
      ]
     },
     "metadata": {},
     "output_type": "display_data"
    },
    {
     "data": {
      "application/vnd.jupyter.widget-view+json": {
       "model_id": "5269361c68f34f628cb7ffdd3f547f40",
       "version_major": 2,
       "version_minor": 0
      },
      "text/plain": [
       "Output()"
      ]
     },
     "metadata": {},
     "output_type": "display_data"
    },
    {
     "data": {
      "text/html": [
       "<pre style=\"white-space:pre;overflow-x:auto;line-height:normal;font-family:Menlo,'DejaVu Sans Mono',consolas,'Courier New',monospace\"></pre>\n"
      ],
      "text/plain": []
     },
     "metadata": {},
     "output_type": "display_data"
    },
    {
     "data": {
      "text/html": [
       "<pre style=\"white-space:pre;overflow-x:auto;line-height:normal;font-family:Menlo,'DejaVu Sans Mono',consolas,'Courier New',monospace\">\n",
       "</pre>\n"
      ],
      "text/plain": [
       "\n"
      ]
     },
     "metadata": {},
     "output_type": "display_data"
    },
    {
     "data": {
      "text/html": [
       "<pre style=\"white-space:pre;overflow-x:auto;line-height:normal;font-family:Menlo,'DejaVu Sans Mono',consolas,'Courier New',monospace\"><span style=\"color: #7fbfbf; text-decoration-color: #7fbfbf\">20:27:42 Eastern Standard Time </span>status = queued                                  \n",
       "</pre>\n"
      ],
      "text/plain": [
       "\u001b[2;36m20:27:42 Eastern Standard Time\u001b[0m\u001b[2;36m \u001b[0mstatus = queued                                  \n"
      ]
     },
     "metadata": {},
     "output_type": "display_data"
    },
    {
     "data": {
      "application/vnd.jupyter.widget-view+json": {
       "model_id": "",
       "version_major": 2,
       "version_minor": 0
      },
      "text/plain": [
       "Output()"
      ]
     },
     "metadata": {},
     "output_type": "display_data"
    },
    {
     "data": {
      "text/html": [
       "<pre style=\"white-space:pre;overflow-x:auto;line-height:normal;font-family:Menlo,'DejaVu Sans Mono',consolas,'Courier New',monospace\"><span style=\"color: #7fbfbf; text-decoration-color: #7fbfbf\">20:27:46 Eastern Standard Time </span>status = preprocess                              \n",
       "</pre>\n"
      ],
      "text/plain": [
       "\u001b[2;36m20:27:46 Eastern Standard Time\u001b[0m\u001b[2;36m \u001b[0mstatus = preprocess                              \n"
      ]
     },
     "metadata": {},
     "output_type": "display_data"
    },
    {
     "data": {
      "text/html": [
       "<pre style=\"white-space:pre;overflow-x:auto;line-height:normal;font-family:Menlo,'DejaVu Sans Mono',consolas,'Courier New',monospace\"></pre>\n"
      ],
      "text/plain": []
     },
     "metadata": {},
     "output_type": "display_data"
    },
    {
     "data": {
      "text/html": [
       "<pre style=\"white-space:pre;overflow-x:auto;line-height:normal;font-family:Menlo,'DejaVu Sans Mono',consolas,'Courier New',monospace\"><span style=\"color: #7fbfbf; text-decoration-color: #7fbfbf\">20:27:51 Eastern Standard Time </span>Maximum FlexCredit cost: <span style=\"color: #008080; text-decoration-color: #008080; font-weight: bold\">0.025</span>. Use              \n",
       "<span style=\"color: #7fbfbf; text-decoration-color: #7fbfbf\">                               </span><span style=\"color: #008000; text-decoration-color: #008000\">'web.real_cost(task_id)'</span> to get the billed       \n",
       "<span style=\"color: #7fbfbf; text-decoration-color: #7fbfbf\">                               </span>FlexCredit cost after a simulation run.          \n",
       "</pre>\n"
      ],
      "text/plain": [
       "\u001b[2;36m20:27:51 Eastern Standard Time\u001b[0m\u001b[2;36m \u001b[0mMaximum FlexCredit cost: \u001b[1;36m0.025\u001b[0m. Use              \n",
       "\u001b[2;36m                               \u001b[0m\u001b[32m'web.real_cost\u001b[0m\u001b[32m(\u001b[0m\u001b[32mtask_id\u001b[0m\u001b[32m)\u001b[0m\u001b[32m'\u001b[0m to get the billed       \n",
       "\u001b[2;36m                               \u001b[0mFlexCredit cost after a simulation run.          \n"
      ]
     },
     "metadata": {},
     "output_type": "display_data"
    },
    {
     "data": {
      "text/html": [
       "<pre style=\"white-space:pre;overflow-x:auto;line-height:normal;font-family:Menlo,'DejaVu Sans Mono',consolas,'Courier New',monospace\"><span style=\"color: #7fbfbf; text-decoration-color: #7fbfbf\">                               </span>starting up solver                               \n",
       "</pre>\n"
      ],
      "text/plain": [
       "\u001b[2;36m                              \u001b[0m\u001b[2;36m \u001b[0mstarting up solver                               \n"
      ]
     },
     "metadata": {},
     "output_type": "display_data"
    },
    {
     "data": {
      "text/html": [
       "<pre style=\"white-space:pre;overflow-x:auto;line-height:normal;font-family:Menlo,'DejaVu Sans Mono',consolas,'Courier New',monospace\"><span style=\"color: #7fbfbf; text-decoration-color: #7fbfbf\">                               </span>running solver                                   \n",
       "</pre>\n"
      ],
      "text/plain": [
       "\u001b[2;36m                              \u001b[0m\u001b[2;36m \u001b[0mrunning solver                                   \n"
      ]
     },
     "metadata": {},
     "output_type": "display_data"
    },
    {
     "data": {
      "text/html": [
       "<pre style=\"white-space:pre;overflow-x:auto;line-height:normal;font-family:Menlo,'DejaVu Sans Mono',consolas,'Courier New',monospace\"><span style=\"color: #7fbfbf; text-decoration-color: #7fbfbf\">                               </span>To cancel the simulation, use                    \n",
       "<span style=\"color: #7fbfbf; text-decoration-color: #7fbfbf\">                               </span><span style=\"color: #008000; text-decoration-color: #008000\">'web.abort(task_id)'</span> or <span style=\"color: #008000; text-decoration-color: #008000\">'web.delete(task_id)'</span> or \n",
       "<span style=\"color: #7fbfbf; text-decoration-color: #7fbfbf\">                               </span>abort/delete the task in the web UI. Terminating \n",
       "<span style=\"color: #7fbfbf; text-decoration-color: #7fbfbf\">                               </span>the Python script will not stop the job running  \n",
       "<span style=\"color: #7fbfbf; text-decoration-color: #7fbfbf\">                               </span>on the cloud.                                    \n",
       "</pre>\n"
      ],
      "text/plain": [
       "\u001b[2;36m                              \u001b[0m\u001b[2;36m \u001b[0mTo cancel the simulation, use                    \n",
       "\u001b[2;36m                               \u001b[0m\u001b[32m'web.abort\u001b[0m\u001b[32m(\u001b[0m\u001b[32mtask_id\u001b[0m\u001b[32m)\u001b[0m\u001b[32m'\u001b[0m or \u001b[32m'web.delete\u001b[0m\u001b[32m(\u001b[0m\u001b[32mtask_id\u001b[0m\u001b[32m)\u001b[0m\u001b[32m'\u001b[0m or \n",
       "\u001b[2;36m                               \u001b[0mabort/delete the task in the web UI. Terminating \n",
       "\u001b[2;36m                               \u001b[0mthe Python script will not stop the job running  \n",
       "\u001b[2;36m                               \u001b[0mon the cloud.                                    \n"
      ]
     },
     "metadata": {},
     "output_type": "display_data"
    },
    {
     "data": {
      "application/vnd.jupyter.widget-view+json": {
       "model_id": "731d237a46ef44a6b1906c03ba88fe3a",
       "version_major": 2,
       "version_minor": 0
      },
      "text/plain": [
       "Output()"
      ]
     },
     "metadata": {},
     "output_type": "display_data"
    },
    {
     "data": {
      "text/html": [
       "<pre style=\"white-space:pre;overflow-x:auto;line-height:normal;font-family:Menlo,'DejaVu Sans Mono',consolas,'Courier New',monospace\"><span style=\"color: #7fbfbf; text-decoration-color: #7fbfbf\">20:28:04 Eastern Standard Time </span>early shutoff detected at <span style=\"color: #008080; text-decoration-color: #008080; font-weight: bold\">40</span>%, exiting.          \n",
       "</pre>\n"
      ],
      "text/plain": [
       "\u001b[2;36m20:28:04 Eastern Standard Time\u001b[0m\u001b[2;36m \u001b[0mearly shutoff detected at \u001b[1;36m40\u001b[0m%, exiting.          \n"
      ]
     },
     "metadata": {},
     "output_type": "display_data"
    },
    {
     "data": {
      "text/html": [
       "<pre style=\"white-space:pre;overflow-x:auto;line-height:normal;font-family:Menlo,'DejaVu Sans Mono',consolas,'Courier New',monospace\"></pre>\n"
      ],
      "text/plain": []
     },
     "metadata": {},
     "output_type": "display_data"
    },
    {
     "data": {
      "text/html": [
       "<pre style=\"white-space:pre;overflow-x:auto;line-height:normal;font-family:Menlo,'DejaVu Sans Mono',consolas,'Courier New',monospace\">\n",
       "</pre>\n"
      ],
      "text/plain": [
       "\n"
      ]
     },
     "metadata": {},
     "output_type": "display_data"
    },
    {
     "data": {
      "text/html": [
       "<pre style=\"white-space:pre;overflow-x:auto;line-height:normal;font-family:Menlo,'DejaVu Sans Mono',consolas,'Courier New',monospace\"><span style=\"color: #7fbfbf; text-decoration-color: #7fbfbf\">                               </span>status = postprocess                             \n",
       "</pre>\n"
      ],
      "text/plain": [
       "\u001b[2;36m                              \u001b[0m\u001b[2;36m \u001b[0mstatus = postprocess                             \n"
      ]
     },
     "metadata": {},
     "output_type": "display_data"
    },
    {
     "data": {
      "application/vnd.jupyter.widget-view+json": {
       "model_id": "",
       "version_major": 2,
       "version_minor": 0
      },
      "text/plain": [
       "Output()"
      ]
     },
     "metadata": {},
     "output_type": "display_data"
    },
    {
     "data": {
      "text/html": [
       "<pre style=\"white-space:pre;overflow-x:auto;line-height:normal;font-family:Menlo,'DejaVu Sans Mono',consolas,'Courier New',monospace\"><span style=\"color: #7fbfbf; text-decoration-color: #7fbfbf\">20:28:08 Eastern Standard Time </span>status = success                                 \n",
       "</pre>\n"
      ],
      "text/plain": [
       "\u001b[2;36m20:28:08 Eastern Standard Time\u001b[0m\u001b[2;36m \u001b[0mstatus = success                                 \n"
      ]
     },
     "metadata": {},
     "output_type": "display_data"
    },
    {
     "data": {
      "text/html": [
       "<pre style=\"white-space:pre;overflow-x:auto;line-height:normal;font-family:Menlo,'DejaVu Sans Mono',consolas,'Courier New',monospace\"></pre>\n"
      ],
      "text/plain": []
     },
     "metadata": {},
     "output_type": "display_data"
    },
    {
     "data": {
      "text/html": [
       "<pre style=\"white-space:pre;overflow-x:auto;line-height:normal;font-family:Menlo,'DejaVu Sans Mono',consolas,'Courier New',monospace\"><span style=\"color: #7fbfbf; text-decoration-color: #7fbfbf\">                               </span>View simulation result at                        \n",
       "<span style=\"color: #7fbfbf; text-decoration-color: #7fbfbf\">                               </span><a href=\"https://tidy3d.simulation.cloud/workbench?taskId=fdve-ae750257-c733-40c8-894e-881c6249f90f\" target=\"_blank\"><span style=\"color: #000080; text-decoration-color: #000080; text-decoration: underline\">'https://tidy3d.simulation.cloud/workbench?taskId</span></a>\n",
       "<span style=\"color: #7fbfbf; text-decoration-color: #7fbfbf\">                               </span><a href=\"https://tidy3d.simulation.cloud/workbench?taskId=fdve-ae750257-c733-40c8-894e-881c6249f90f\" target=\"_blank\"><span style=\"color: #000080; text-decoration-color: #000080; text-decoration: underline\">=fdve-ae750257-c733-40c8-894e-881c6249f90f'</span></a><span style=\"color: #000080; text-decoration-color: #000080; text-decoration: underline\">.</span>     \n",
       "</pre>\n"
      ],
      "text/plain": [
       "\u001b[2;36m                              \u001b[0m\u001b[2;36m \u001b[0mView simulation result at                        \n",
       "\u001b[2;36m                               \u001b[0m\u001b]8;id=547297;https://tidy3d.simulation.cloud/workbench?taskId=fdve-ae750257-c733-40c8-894e-881c6249f90f\u001b\\\u001b[4;34m'https://tidy3d.simulation.cloud/workbench?\u001b[0m\u001b]8;;\u001b\\\u001b]8;id=121908;https://tidy3d.simulation.cloud/workbench?taskId=fdve-ae750257-c733-40c8-894e-881c6249f90f\u001b\\\u001b[4;34mtaskId\u001b[0m\u001b]8;;\u001b\\\n",
       "\u001b[2;36m                               \u001b[0m\u001b]8;id=547297;https://tidy3d.simulation.cloud/workbench?taskId=fdve-ae750257-c733-40c8-894e-881c6249f90f\u001b\\\u001b[4;34m=\u001b[0m\u001b]8;;\u001b\\\u001b]8;id=16219;https://tidy3d.simulation.cloud/workbench?taskId=fdve-ae750257-c733-40c8-894e-881c6249f90f\u001b\\\u001b[4;34mfdve\u001b[0m\u001b]8;;\u001b\\\u001b]8;id=547297;https://tidy3d.simulation.cloud/workbench?taskId=fdve-ae750257-c733-40c8-894e-881c6249f90f\u001b\\\u001b[4;34m-ae750257-c733-40c8-894e-881c6249f90f'\u001b[0m\u001b]8;;\u001b\\\u001b[4;34m.\u001b[0m     \n"
      ]
     },
     "metadata": {},
     "output_type": "display_data"
    },
    {
     "data": {
      "application/vnd.jupyter.widget-view+json": {
       "model_id": "8718aff741994172b435e813aac47e77",
       "version_major": 2,
       "version_minor": 0
      },
      "text/plain": [
       "Output()"
      ]
     },
     "metadata": {},
     "output_type": "display_data"
    },
    {
     "data": {
      "text/html": [
       "<pre style=\"white-space:pre;overflow-x:auto;line-height:normal;font-family:Menlo,'DejaVu Sans Mono',consolas,'Courier New',monospace\"></pre>\n"
      ],
      "text/plain": []
     },
     "metadata": {},
     "output_type": "display_data"
    },
    {
     "data": {
      "text/html": [
       "<pre style=\"white-space:pre;overflow-x:auto;line-height:normal;font-family:Menlo,'DejaVu Sans Mono',consolas,'Courier New',monospace\">\n",
       "</pre>\n"
      ],
      "text/plain": [
       "\n"
      ]
     },
     "metadata": {},
     "output_type": "display_data"
    },
    {
     "data": {
      "text/html": [
       "<pre style=\"white-space:pre;overflow-x:auto;line-height:normal;font-family:Menlo,'DejaVu Sans Mono',consolas,'Courier New',monospace\"><span style=\"color: #7fbfbf; text-decoration-color: #7fbfbf\">20:28:09 Eastern Standard Time </span>loading simulation from simulation_data.hdf5     \n",
       "</pre>\n"
      ],
      "text/plain": [
       "\u001b[2;36m20:28:09 Eastern Standard Time\u001b[0m\u001b[2;36m \u001b[0mloading simulation from simulation_data.hdf5     \n"
      ]
     },
     "metadata": {},
     "output_type": "display_data"
    }
   ],
   "source": [
    "sim_final = make_sim(pixels_final)\n",
    "\n",
    "# update mode monitor's recording frequencies\n",
    "mode_monitor = sim.monitors[0].copy(update={\"freqs\": freqs})\n",
    "\n",
    "# add a field monitor to visualize field distribution\n",
    "field_monitor = td.FieldMonitor(\n",
    "    center=(0, 0, t / 2), size=(td.inf, td.inf, 0), freqs=[freq0], name=\"field\"\n",
    ")\n",
    "\n",
    "# update simulation to use the new monitors\n",
    "sim_final = sim_final.copy(update={\"monitors\": [mode_monitor, field_monitor]})\n",
    "\n",
    "# submit the simulation to the server\n",
    "sim_data_final = web.run(simulation=sim_final, task_name=\"final design\")"
   ]
  },
  {
   "cell_type": "markdown",
   "id": "645d4052",
   "metadata": {},
   "source": [
    "After the simulation, we visualize the electric field norm at the central wavelength. As expected, a strong reflection is observed. "
   ]
  },
  {
   "cell_type": "code",
   "execution_count": 14,
   "id": "0eff6f90",
   "metadata": {},
   "outputs": [
    {
     "data": {
      "image/png": "[encoded data removed]",
      "text/plain": [
       "<Figure size 640x480 with 2 Axes>"
      ]
     },
     "metadata": {},
     "output_type": "display_data"
    }
   ],
   "source": [
    "sim_data_final.plot_field(\"field\", \"Ey\", \"abs\", vmin=0, vmax=1e2)\n",
    "plt.show()"
   ]
  },
  {
   "cell_type": "markdown",
   "id": "89311128",
   "metadata": {},
   "source": [
    "Finally plot the reflection spectrum, where we see a broadband reflection. Considering the very compact footprint, the performance is very good. With this reflector design, we can further construct other devices such as high-quality-factor Fabry–Perot cavities as demonstrated in the [publication](https://doi.org/10.1364/PRJ.5.000B15)."
   ]
  },
  {
   "cell_type": "code",
   "execution_count": 15,
   "id": "20e9667f",
   "metadata": {},
   "outputs": [
    {
     "data": {
      "image/png": "[encoded data removed]",
      "text/plain": [
       "<Figure size 640x480 with 1 Axes>"
      ]
     },
     "metadata": {},
     "output_type": "display_data"
    }
   ],
   "source": [
    "R = abs(sim_data_final[\"mode\"].amps.sel(direction=\"-\").squeeze(drop=True).values) ** 2\n",
    "\n",
    "plt.plot(ldas, R, \"red\", linewidth=2)\n",
    "plt.xlim(min(ldas), max(ldas))\n",
    "plt.ylim(0, 1)\n",
    "plt.xlabel(\"Wavelength (µm)\")\n",
    "plt.ylabel(\"Reflectivity\")\n",
    "plt.show()"
   ]
  },
  {
   "cell_type": "markdown",
   "id": "6cf44ce8",
   "metadata": {},
   "source": [
    "With the optimized design, we can directly export a GDS file of the reflector for fabrication. "
   ]
  },
  {
   "cell_type": "code",
   "execution_count": 16,
   "id": "26cf87f5",
   "metadata": {},
   "outputs": [],
   "source": [
    "sim_final.to_gds_file(fname=\"misc/optimized_reflector.gds\", z=t / 2)"
   ]
  }
 ],
 "metadata": {
  "description": "This notebook demonstrates how to use genetic algorithm (GA) to optimize an on-chip reflector.",
  "feature_image": "./img/optimized_reflector.png",
  "kernelspec": {
   "display_name": "Python 3 (ipykernel)",
   "language": "python",
   "name": "python3"
  },
  "keywords": "genetic algorithm, optimization, Tidy3D, FDTD",
  "language_info": {
   "codemirror_mode": {
    "name": "ipython",
    "version": 3
   },
   "file_extension": ".py",
   "mimetype": "text/x-python",
   "name": "python",
   "nbconvert_exporter": "python",
   "pygments_lexer": "ipython3",
   "version": "3.10.12"
  },
  "title": "Genetic Algorithm Optimization of a Reflector | Flexcompute"
 },
 "nbformat": 4,
 "nbformat_minor": 5
}
