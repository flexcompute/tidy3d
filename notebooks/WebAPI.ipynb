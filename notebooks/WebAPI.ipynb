{
 "cells": [
  {
   "cell_type": "code",
   "execution_count": 1,
   "id": "c74a3e68-6780-4a97-be19-4e0c8959cca6",
   "metadata": {},
   "outputs": [],
   "source": [
    "%load_ext autoreload\n",
    "%autoreload 2\n",
    "\n",
    "import matplotlib.pylab as plt\n",
    "\n",
    "import sys\n",
    "sys.path.append('..')\n",
    "\n",
    "import tidy3d as td\n",
    "import tidy3d.web as web"
   ]
  },
  {
   "cell_type": "code",
   "execution_count": 2,
   "id": "50a8c93b-40a0-457f-866c-afcdfbe843ef",
   "metadata": {},
   "outputs": [],
   "source": [
    "# set up parameters of simulation\n",
    "dl = 0.05\n",
    "pml = td.PMLLayer(profile='standard', num_layers=10)\n",
    "sim_size = [4, 4, 4]\n",
    "freq0 = 3e14\n",
    "fwidth = 1e13\n",
    "run_time = 1/fwidth\n",
    "\n",
    "# create structure\n",
    "dielectric = td.nk_to_medium(n=2, k=0, freq=freq0)\n",
    "square = td.Structure(\n",
    "    geometry=td.Box(center=[0, 0, 0], size=[1.5, 1.5, 1.5]),\n",
    "    medium=dielectric)\n",
    "\n",
    "# create source\n",
    "source = td.VolumeSource(\n",
    "    center=(-1.5, 0, 0),\n",
    "    size=(0, 0.4, 0.4),\n",
    "    source_time = td.GaussianPulse(\n",
    "        freq0=freq0,\n",
    "        fwidth=fwidth),\n",
    "    polarization='Jx')\n",
    "\n",
    "# create monitor\n",
    "monitor = td.FieldMonitor(\n",
    "    fields=['Ex', 'Hy'],\n",
    "    center=(0, 0, 0),\n",
    "    size=(4, 4, 0),\n",
    "    freqs=[freq0])\n",
    "\n",
    "# Initialize simulation\n",
    "sim = td.Simulation(size=sim_size,\n",
    "                    grid_size=(dl, dl, dl),\n",
    "                    structures=[square],\n",
    "                    sources={'source': source},\n",
    "                    monitors={'monitor': monitor},\n",
    "                    run_time=run_time,\n",
    "                    pml_layers=(pml, pml, pml))"
   ]
  },
  {
   "cell_type": "code",
   "execution_count": 8,
   "id": "5e6b9f51-2b07-45bf-a75e-8f33490d6921",
   "metadata": {},
   "outputs": [
    {
     "data": {
      "text/html": [
       "<pre style=\"white-space:pre;overflow-x:auto;line-height:normal;font-family:Menlo,'DejaVu Sans Mono',consolas,'Courier New',monospace\"><span style=\"color: #7fbfbf; text-decoration-color: #7fbfbf\">[12:19:39] </span><span style=\"color: #000080; text-decoration-color: #000080\">INFO    </span> Creating task.                                              <a href=\"file:///Users/twhughes/Documents/Flexcompute/Tidy3D-client-revamp/notebooks/../tidy3d/web/webapi.py\"><span style=\"color: #7f7f7f; text-decoration-color: #7f7f7f\">webapi.py</span></a><span style=\"color: #7f7f7f; text-decoration-color: #7f7f7f\">:313</span>\n",
       "</pre>\n"
      ],
      "text/plain": [
       "\u001b[2;36m[12:19:39]\u001b[0m\u001b[2;36m \u001b[0m\u001b[34mINFO    \u001b[0m Creating task.                                              \u001b]8;id=71042;file:///Users/twhughes/Documents/Flexcompute/Tidy3D-client-revamp/notebooks/../tidy3d/web/webapi.py\u001b\\\u001b[2mwebapi.py\u001b[0m\u001b]8;;\u001b\\\u001b[2m:313\u001b[0m\n"
      ]
     },
     "metadata": {},
     "output_type": "display_data"
    },
    {
     "data": {
      "text/html": [
       "<pre style=\"white-space:pre;overflow-x:auto;line-height:normal;font-family:Menlo,'DejaVu Sans Mono',consolas,'Courier New',monospace\"><span style=\"color: #7fbfbf; text-decoration-color: #7fbfbf\">[12:19:40] </span><span style=\"color: #000080; text-decoration-color: #000080\">INFO    </span> Uploading the json file                                     <a href=\"file:///Users/twhughes/Documents/Flexcompute/Tidy3D-client-revamp/notebooks/../tidy3d/web/webapi.py\"><span style=\"color: #7f7f7f; text-decoration-color: #7f7f7f\">webapi.py</span></a><span style=\"color: #7f7f7f; text-decoration-color: #7f7f7f\">:322</span>\n",
       "</pre>\n"
      ],
      "text/plain": [
       "\u001b[2;36m[12:19:40]\u001b[0m\u001b[2;36m \u001b[0m\u001b[34mINFO    \u001b[0m Uploading the json file                                     \u001b]8;id=765584;file:///Users/twhughes/Documents/Flexcompute/Tidy3D-client-revamp/notebooks/../tidy3d/web/webapi.py\u001b\\\u001b[2mwebapi.py\u001b[0m\u001b]8;;\u001b\\\u001b[2m:322\u001b[0m\n"
      ]
     },
     "metadata": {},
     "output_type": "display_data"
    },
    {
     "data": {
      "application/vnd.jupyter.widget-view+json": {
       "model_id": "",
       "version_major": 2,
       "version_minor": 0
      },
      "text/plain": [
       "Output()"
      ]
     },
     "metadata": {},
     "output_type": "display_data"
    },
    {
     "data": {
      "text/html": [
       "<pre style=\"white-space:pre;overflow-x:auto;line-height:normal;font-family:Menlo,'DejaVu Sans Mono',consolas,'Courier New',monospace\"><span style=\"color: #7fbfbf; text-decoration-color: #7fbfbf\">[12:19:55] </span>status = preprocess                                                <a href=\"file:///Users/twhughes/Documents/Flexcompute/Tidy3D-client-revamp/tidy3d/web/container.py\"><span style=\"color: #7f7f7f; text-decoration-color: #7f7f7f\">container.py</span></a><span style=\"color: #7f7f7f; text-decoration-color: #7f7f7f\">:89</span>\n",
       "</pre>\n"
      ],
      "text/plain": [
       "\u001b[2;36m[12:19:55]\u001b[0m\u001b[2;36m \u001b[0mstatus = preprocess                                                \u001b]8;id=758877;file:///Users/twhughes/Documents/Flexcompute/Tidy3D-client-revamp/tidy3d/web/container.py\u001b\\\u001b[2mcontainer.py\u001b[0m\u001b]8;;\u001b\\\u001b[2m:89\u001b[0m\n"
      ]
     },
     "metadata": {},
     "output_type": "display_data"
    },
    {
     "data": {
      "text/html": [
       "<pre style=\"white-space:pre;overflow-x:auto;line-height:normal;font-family:Menlo,'DejaVu Sans Mono',consolas,'Courier New',monospace\"><span style=\"color: #7fbfbf; text-decoration-color: #7fbfbf\">[12:20:18] </span>status = running                                                   <a href=\"file:///Users/twhughes/Documents/Flexcompute/Tidy3D-client-revamp/tidy3d/web/container.py\"><span style=\"color: #7f7f7f; text-decoration-color: #7f7f7f\">container.py</span></a><span style=\"color: #7f7f7f; text-decoration-color: #7f7f7f\">:89</span>\n",
       "</pre>\n"
      ],
      "text/plain": [
       "\u001b[2;36m[12:20:18]\u001b[0m\u001b[2;36m \u001b[0mstatus = running                                                   \u001b]8;id=243923;file:///Users/twhughes/Documents/Flexcompute/Tidy3D-client-revamp/tidy3d/web/container.py\u001b\\\u001b[2mcontainer.py\u001b[0m\u001b]8;;\u001b\\\u001b[2m:89\u001b[0m\n"
      ]
     },
     "metadata": {},
     "output_type": "display_data"
    },
    {
     "data": {
      "text/html": [
       "<pre style=\"white-space:pre;overflow-x:auto;line-height:normal;font-family:Menlo,'DejaVu Sans Mono',consolas,'Courier New',monospace\"><span style=\"color: #7fbfbf; text-decoration-color: #7fbfbf\">[12:21:27] </span>status = postprocess                                               <a href=\"file:///Users/twhughes/Documents/Flexcompute/Tidy3D-client-revamp/tidy3d/web/container.py\"><span style=\"color: #7f7f7f; text-decoration-color: #7f7f7f\">container.py</span></a><span style=\"color: #7f7f7f; text-decoration-color: #7f7f7f\">:89</span>\n",
       "</pre>\n"
      ],
      "text/plain": [
       "\u001b[2;36m[12:21:27]\u001b[0m\u001b[2;36m \u001b[0mstatus = postprocess                                               \u001b]8;id=872040;file:///Users/twhughes/Documents/Flexcompute/Tidy3D-client-revamp/tidy3d/web/container.py\u001b\\\u001b[2mcontainer.py\u001b[0m\u001b]8;;\u001b\\\u001b[2m:89\u001b[0m\n"
      ]
     },
     "metadata": {},
     "output_type": "display_data"
    },
    {
     "data": {
      "text/html": [
       "<pre style=\"white-space:pre;overflow-x:auto;line-height:normal;font-family:Menlo,'DejaVu Sans Mono',consolas,'Courier New',monospace\"><span style=\"color: #7fbfbf; text-decoration-color: #7fbfbf\">[12:21:28] </span>status = visualize                                                 <a href=\"file:///Users/twhughes/Documents/Flexcompute/Tidy3D-client-revamp/tidy3d/web/container.py\"><span style=\"color: #7f7f7f; text-decoration-color: #7f7f7f\">container.py</span></a><span style=\"color: #7f7f7f; text-decoration-color: #7f7f7f\">:89</span>\n",
       "</pre>\n"
      ],
      "text/plain": [
       "\u001b[2;36m[12:21:28]\u001b[0m\u001b[2;36m \u001b[0mstatus = visualize                                                 \u001b]8;id=740618;file:///Users/twhughes/Documents/Flexcompute/Tidy3D-client-revamp/tidy3d/web/container.py\u001b\\\u001b[2mcontainer.py\u001b[0m\u001b]8;;\u001b\\\u001b[2m:89\u001b[0m\n"
      ]
     },
     "metadata": {},
     "output_type": "display_data"
    },
    {
     "data": {
      "text/html": [
       "<pre style=\"white-space:pre;overflow-x:auto;line-height:normal;font-family:Menlo,'DejaVu Sans Mono',consolas,'Courier New',monospace\"><span style=\"color: #7fbfbf; text-decoration-color: #7fbfbf\">[12:21:32] </span>status = success                                                   <a href=\"file:///Users/twhughes/Documents/Flexcompute/Tidy3D-client-revamp/tidy3d/web/container.py\"><span style=\"color: #7f7f7f; text-decoration-color: #7f7f7f\">container.py</span></a><span style=\"color: #7f7f7f; text-decoration-color: #7f7f7f\">:89</span>\n",
       "</pre>\n"
      ],
      "text/plain": [
       "\u001b[2;36m[12:21:32]\u001b[0m\u001b[2;36m \u001b[0mstatus = success                                                   \u001b]8;id=53827;file:///Users/twhughes/Documents/Flexcompute/Tidy3D-client-revamp/tidy3d/web/container.py\u001b\\\u001b[2mcontainer.py\u001b[0m\u001b]8;;\u001b\\\u001b[2m:89\u001b[0m\n"
      ]
     },
     "metadata": {},
     "output_type": "display_data"
    },
    {
     "data": {
      "text/html": [
       "<pre style=\"white-space:pre;overflow-x:auto;line-height:normal;font-family:Menlo,'DejaVu Sans Mono',consolas,'Courier New',monospace\"></pre>\n"
      ],
      "text/plain": []
     },
     "metadata": {},
     "output_type": "display_data"
    },
    {
     "data": {
      "text/html": [
       "<pre style=\"white-space:pre;overflow-x:auto;line-height:normal;font-family:Menlo,'DejaVu Sans Mono',consolas,'Courier New',monospace\"><span style=\"color: #7fbfbf; text-decoration-color: #7fbfbf\">[12:21:32] </span><span style=\"color: #000080; text-decoration-color: #000080\">INFO    </span> clearing existing files before downloading                  <a href=\"file:///Users/twhughes/Documents/Flexcompute/Tidy3D-client-revamp/notebooks/../tidy3d/web/webapi.py\"><span style=\"color: #7f7f7f; text-decoration-color: #7f7f7f\">webapi.py</span></a><span style=\"color: #7f7f7f; text-decoration-color: #7f7f7f\">:216</span>\n",
       "</pre>\n"
      ],
      "text/plain": [
       "\u001b[2;36m[12:21:32]\u001b[0m\u001b[2;36m \u001b[0m\u001b[34mINFO    \u001b[0m clearing existing files before downloading                  \u001b]8;id=863928;file:///Users/twhughes/Documents/Flexcompute/Tidy3D-client-revamp/notebooks/../tidy3d/web/webapi.py\u001b\\\u001b[2mwebapi.py\u001b[0m\u001b]8;;\u001b\\\u001b[2m:216\u001b[0m\n"
      ]
     },
     "metadata": {},
     "output_type": "display_data"
    },
    {
     "data": {
      "text/html": [
       "<pre style=\"white-space:pre;overflow-x:auto;line-height:normal;font-family:Menlo,'DejaVu Sans Mono',consolas,'Courier New',monospace\"><span style=\"color: #7fbfbf; text-decoration-color: #7fbfbf\">           </span><span style=\"color: #000080; text-decoration-color: #000080\">INFO    </span> downloading file <span style=\"color: #008000; text-decoration-color: #008000\">\"simulation.json\"</span> to <span style=\"color: #008000; text-decoration-color: #008000\">\"simulation.json\"</span>     <a href=\"file:///Users/twhughes/Documents/Flexcompute/Tidy3D-client-revamp/notebooks/../tidy3d/web/webapi.py\"><span style=\"color: #7f7f7f; text-decoration-color: #7f7f7f\">webapi.py</span></a><span style=\"color: #7f7f7f; text-decoration-color: #7f7f7f\">:354</span>\n",
       "</pre>\n"
      ],
      "text/plain": [
       "\u001b[2;36m          \u001b[0m\u001b[2;36m \u001b[0m\u001b[34mINFO    \u001b[0m downloading file \u001b[32m\"simulation.json\"\u001b[0m to \u001b[32m\"simulation.json\"\u001b[0m     \u001b]8;id=387990;file:///Users/twhughes/Documents/Flexcompute/Tidy3D-client-revamp/notebooks/../tidy3d/web/webapi.py\u001b\\\u001b[2mwebapi.py\u001b[0m\u001b]8;;\u001b\\\u001b[2m:354\u001b[0m\n"
      ]
     },
     "metadata": {},
     "output_type": "display_data"
    },
    {
     "data": {
      "application/vnd.jupyter.widget-view+json": {
       "model_id": "c835a28faf944f1c8e623226d431c2e9",
       "version_major": 2,
       "version_minor": 0
      },
      "text/plain": [
       "Output()"
      ]
     },
     "metadata": {},
     "output_type": "display_data"
    },
    {
     "data": {
      "text/html": [
       "<pre style=\"white-space:pre;overflow-x:auto;line-height:normal;font-family:Menlo,'DejaVu Sans Mono',consolas,'Courier New',monospace\"><span style=\"color: #7fbfbf; text-decoration-color: #7fbfbf\">[12:21:33] </span><span style=\"color: #000080; text-decoration-color: #000080\">INFO    </span> downloading file <span style=\"color: #008000; text-decoration-color: #008000\">\"monitor_data.hdf5\"</span> to <span style=\"color: #008000; text-decoration-color: #008000\">\"monitor_data.hdf5\"</span> <a href=\"file:///Users/twhughes/Documents/Flexcompute/Tidy3D-client-revamp/notebooks/../tidy3d/web/webapi.py\"><span style=\"color: #7f7f7f; text-decoration-color: #7f7f7f\">webapi.py</span></a><span style=\"color: #7f7f7f; text-decoration-color: #7f7f7f\">:354</span>\n",
       "</pre>\n"
      ],
      "text/plain": [
       "\u001b[2;36m[12:21:33]\u001b[0m\u001b[2;36m \u001b[0m\u001b[34mINFO    \u001b[0m downloading file \u001b[32m\"monitor_data.hdf5\"\u001b[0m to \u001b[32m\"monitor_data.hdf5\"\u001b[0m \u001b]8;id=978002;file:///Users/twhughes/Documents/Flexcompute/Tidy3D-client-revamp/notebooks/../tidy3d/web/webapi.py\u001b\\\u001b[2mwebapi.py\u001b[0m\u001b]8;;\u001b\\\u001b[2m:354\u001b[0m\n"
      ]
     },
     "metadata": {},
     "output_type": "display_data"
    },
    {
     "data": {
      "application/vnd.jupyter.widget-view+json": {
       "model_id": "4668b1f669614012a4f7146610959d87",
       "version_major": 2,
       "version_minor": 0
      },
      "text/plain": [
       "Output()"
      ]
     },
     "metadata": {},
     "output_type": "display_data"
    },
    {
     "data": {
      "text/html": [
       "<pre style=\"white-space:pre;overflow-x:auto;line-height:normal;font-family:Menlo,'DejaVu Sans Mono',consolas,'Courier New',monospace\"><span style=\"color: #7fbfbf; text-decoration-color: #7fbfbf\">[12:21:35] </span><span style=\"color: #000080; text-decoration-color: #000080\">INFO    </span> getting log string                                          <a href=\"file:///Users/twhughes/Documents/Flexcompute/Tidy3D-client-revamp/notebooks/../tidy3d/web/webapi.py\"><span style=\"color: #7f7f7f; text-decoration-color: #7f7f7f\">webapi.py</span></a><span style=\"color: #7f7f7f; text-decoration-color: #7f7f7f\">:225</span>\n",
       "</pre>\n"
      ],
      "text/plain": [
       "\u001b[2;36m[12:21:35]\u001b[0m\u001b[2;36m \u001b[0m\u001b[34mINFO    \u001b[0m getting log string                                          \u001b]8;id=647933;file:///Users/twhughes/Documents/Flexcompute/Tidy3D-client-revamp/notebooks/../tidy3d/web/webapi.py\u001b\\\u001b[2mwebapi.py\u001b[0m\u001b]8;;\u001b\\\u001b[2m:225\u001b[0m\n"
      ]
     },
     "metadata": {},
     "output_type": "display_data"
    },
    {
     "data": {
      "text/html": [
       "<pre style=\"white-space:pre;overflow-x:auto;line-height:normal;font-family:Menlo,'DejaVu Sans Mono',consolas,'Courier New',monospace\"><span style=\"color: #7fbfbf; text-decoration-color: #7fbfbf\">           </span><span style=\"color: #000080; text-decoration-color: #000080\">INFO    </span> downloading file <span style=\"color: #008000; text-decoration-color: #008000\">\"tidy3d.log\"</span> to <span style=\"color: #008000; text-decoration-color: #008000\">\"tidy3d.log\"</span>               <a href=\"file:///Users/twhughes/Documents/Flexcompute/Tidy3D-client-revamp/notebooks/../tidy3d/web/webapi.py\"><span style=\"color: #7f7f7f; text-decoration-color: #7f7f7f\">webapi.py</span></a><span style=\"color: #7f7f7f; text-decoration-color: #7f7f7f\">:354</span>\n",
       "</pre>\n"
      ],
      "text/plain": [
       "\u001b[2;36m          \u001b[0m\u001b[2;36m \u001b[0m\u001b[34mINFO    \u001b[0m downloading file \u001b[32m\"tidy3d.log\"\u001b[0m to \u001b[32m\"tidy3d.log\"\u001b[0m               \u001b]8;id=168365;file:///Users/twhughes/Documents/Flexcompute/Tidy3D-client-revamp/notebooks/../tidy3d/web/webapi.py\u001b\\\u001b[2mwebapi.py\u001b[0m\u001b]8;;\u001b\\\u001b[2m:354\u001b[0m\n"
      ]
     },
     "metadata": {},
     "output_type": "display_data"
    },
    {
     "data": {
      "application/vnd.jupyter.widget-view+json": {
       "model_id": "3fcb4cdc6957460cb16c70a5998c3a34",
       "version_major": 2,
       "version_minor": 0
      },
      "text/plain": [
       "Output()"
      ]
     },
     "metadata": {},
     "output_type": "display_data"
    },
    {
     "data": {
      "text/html": [
       "<pre style=\"white-space:pre;overflow-x:auto;line-height:normal;font-family:Menlo,'DejaVu Sans Mono',consolas,'Courier New',monospace\"><span style=\"color: #7fbfbf; text-decoration-color: #7fbfbf\">           </span><span style=\"color: #000080; text-decoration-color: #000080\">INFO    </span> loading old monitor data to data dict                       <a href=\"file:///Users/twhughes/Documents/Flexcompute/Tidy3D-client-revamp/notebooks/../tidy3d/web/webapi.py\"><span style=\"color: #7f7f7f; text-decoration-color: #7f7f7f\">webapi.py</span></a><span style=\"color: #7f7f7f; text-decoration-color: #7f7f7f\">:231</span>\n",
       "</pre>\n"
      ],
      "text/plain": [
       "\u001b[2;36m          \u001b[0m\u001b[2;36m \u001b[0m\u001b[34mINFO    \u001b[0m loading old monitor data to data dict                       \u001b]8;id=556164;file:///Users/twhughes/Documents/Flexcompute/Tidy3D-client-revamp/notebooks/../tidy3d/web/webapi.py\u001b\\\u001b[2mwebapi.py\u001b[0m\u001b]8;;\u001b\\\u001b[2m:231\u001b[0m\n"
      ]
     },
     "metadata": {},
     "output_type": "display_data"
    },
    {
     "data": {
      "text/html": [
       "<pre style=\"white-space:pre;overflow-x:auto;line-height:normal;font-family:Menlo,'DejaVu Sans Mono',consolas,'Courier New',monospace\"><span style=\"color: #7fbfbf; text-decoration-color: #7fbfbf\">           </span><span style=\"color: #000080; text-decoration-color: #000080\">INFO    </span> creating SimulationData from monitor data dict              <a href=\"file:///Users/twhughes/Documents/Flexcompute/Tidy3D-client-revamp/notebooks/../tidy3d/web/webapi.py\"><span style=\"color: #7f7f7f; text-decoration-color: #7f7f7f\">webapi.py</span></a><span style=\"color: #7f7f7f; text-decoration-color: #7f7f7f\">:236</span>\n",
       "</pre>\n"
      ],
      "text/plain": [
       "\u001b[2;36m          \u001b[0m\u001b[2;36m \u001b[0m\u001b[34mINFO    \u001b[0m creating SimulationData from monitor data dict              \u001b]8;id=706318;file:///Users/twhughes/Documents/Flexcompute/Tidy3D-client-revamp/notebooks/../tidy3d/web/webapi.py\u001b\\\u001b[2mwebapi.py\u001b[0m\u001b]8;;\u001b\\\u001b[2m:236\u001b[0m\n"
      ]
     },
     "metadata": {},
     "output_type": "display_data"
    },
    {
     "data": {
      "text/html": [
       "<pre style=\"white-space:pre;overflow-x:auto;line-height:normal;font-family:Menlo,'DejaVu Sans Mono',consolas,'Courier New',monospace\"><span style=\"color: #7fbfbf; text-decoration-color: #7fbfbf\">           </span><span style=\"color: #000080; text-decoration-color: #000080\">INFO    </span> exporting SimulationData to simulation_data.hdf5            <a href=\"file:///Users/twhughes/Documents/Flexcompute/Tidy3D-client-revamp/notebooks/../tidy3d/web/webapi.py\"><span style=\"color: #7f7f7f; text-decoration-color: #7f7f7f\">webapi.py</span></a><span style=\"color: #7f7f7f; text-decoration-color: #7f7f7f\">:239</span>\n",
       "</pre>\n"
      ],
      "text/plain": [
       "\u001b[2;36m          \u001b[0m\u001b[2;36m \u001b[0m\u001b[34mINFO    \u001b[0m exporting SimulationData to simulation_data.hdf5            \u001b]8;id=704392;file:///Users/twhughes/Documents/Flexcompute/Tidy3D-client-revamp/notebooks/../tidy3d/web/webapi.py\u001b\\\u001b[2mwebapi.py\u001b[0m\u001b]8;;\u001b\\\u001b[2m:239\u001b[0m\n"
      ]
     },
     "metadata": {},
     "output_type": "display_data"
    },
    {
     "data": {
      "text/html": [
       "<pre style=\"white-space:pre;overflow-x:auto;line-height:normal;font-family:Menlo,'DejaVu Sans Mono',consolas,'Courier New',monospace\"><span style=\"color: #7fbfbf; text-decoration-color: #7fbfbf\">           </span><span style=\"color: #000080; text-decoration-color: #000080\">INFO    </span> clearing extraneous files                                   <a href=\"file:///Users/twhughes/Documents/Flexcompute/Tidy3D-client-revamp/notebooks/../tidy3d/web/webapi.py\"><span style=\"color: #7f7f7f; text-decoration-color: #7f7f7f\">webapi.py</span></a><span style=\"color: #7f7f7f; text-decoration-color: #7f7f7f\">:242</span>\n",
       "</pre>\n"
      ],
      "text/plain": [
       "\u001b[2;36m          \u001b[0m\u001b[2;36m \u001b[0m\u001b[34mINFO    \u001b[0m clearing extraneous files                                   \u001b]8;id=266367;file:///Users/twhughes/Documents/Flexcompute/Tidy3D-client-revamp/notebooks/../tidy3d/web/webapi.py\u001b\\\u001b[2mwebapi.py\u001b[0m\u001b]8;;\u001b\\\u001b[2m:242\u001b[0m\n"
      ]
     },
     "metadata": {},
     "output_type": "display_data"
    },
    {
     "data": {
      "text/html": [
       "<pre style=\"white-space:pre;overflow-x:auto;line-height:normal;font-family:Menlo,'DejaVu Sans Mono',consolas,'Courier New',monospace\"><span style=\"color: #7fbfbf; text-decoration-color: #7fbfbf\">           </span><span style=\"color: #000080; text-decoration-color: #000080\">INFO    </span> removing file simulation.json                               <a href=\"file:///Users/twhughes/Documents/Flexcompute/Tidy3D-client-revamp/notebooks/../tidy3d/web/webapi.py\"><span style=\"color: #7f7f7f; text-decoration-color: #7f7f7f\">webapi.py</span></a><span style=\"color: #7f7f7f; text-decoration-color: #7f7f7f\">:385</span>\n",
       "</pre>\n"
      ],
      "text/plain": [
       "\u001b[2;36m          \u001b[0m\u001b[2;36m \u001b[0m\u001b[34mINFO    \u001b[0m removing file simulation.json                               \u001b]8;id=220809;file:///Users/twhughes/Documents/Flexcompute/Tidy3D-client-revamp/notebooks/../tidy3d/web/webapi.py\u001b\\\u001b[2mwebapi.py\u001b[0m\u001b]8;;\u001b\\\u001b[2m:385\u001b[0m\n"
      ]
     },
     "metadata": {},
     "output_type": "display_data"
    },
    {
     "data": {
      "text/html": [
       "<pre style=\"white-space:pre;overflow-x:auto;line-height:normal;font-family:Menlo,'DejaVu Sans Mono',consolas,'Courier New',monospace\"><span style=\"color: #7fbfbf; text-decoration-color: #7fbfbf\">           </span><span style=\"color: #000080; text-decoration-color: #000080\">INFO    </span> removing file monitor_data.hdf5                             <a href=\"file:///Users/twhughes/Documents/Flexcompute/Tidy3D-client-revamp/notebooks/../tidy3d/web/webapi.py\"><span style=\"color: #7f7f7f; text-decoration-color: #7f7f7f\">webapi.py</span></a><span style=\"color: #7f7f7f; text-decoration-color: #7f7f7f\">:385</span>\n",
       "</pre>\n"
      ],
      "text/plain": [
       "\u001b[2;36m          \u001b[0m\u001b[2;36m \u001b[0m\u001b[34mINFO    \u001b[0m removing file monitor_data.hdf5                             \u001b]8;id=914653;file:///Users/twhughes/Documents/Flexcompute/Tidy3D-client-revamp/notebooks/../tidy3d/web/webapi.py\u001b\\\u001b[2mwebapi.py\u001b[0m\u001b]8;;\u001b\\\u001b[2m:385\u001b[0m\n"
      ]
     },
     "metadata": {},
     "output_type": "display_data"
    },
    {
     "data": {
      "text/html": [
       "<pre style=\"white-space:pre;overflow-x:auto;line-height:normal;font-family:Menlo,'DejaVu Sans Mono',consolas,'Courier New',monospace\"><span style=\"color: #7fbfbf; text-decoration-color: #7fbfbf\">           </span><span style=\"color: #000080; text-decoration-color: #000080\">INFO    </span> removing file tidy3d.log                                    <a href=\"file:///Users/twhughes/Documents/Flexcompute/Tidy3D-client-revamp/notebooks/../tidy3d/web/webapi.py\"><span style=\"color: #7f7f7f; text-decoration-color: #7f7f7f\">webapi.py</span></a><span style=\"color: #7f7f7f; text-decoration-color: #7f7f7f\">:385</span>\n",
       "</pre>\n"
      ],
      "text/plain": [
       "\u001b[2;36m          \u001b[0m\u001b[2;36m \u001b[0m\u001b[34mINFO    \u001b[0m removing file tidy3d.log                                    \u001b]8;id=129891;file:///Users/twhughes/Documents/Flexcompute/Tidy3D-client-revamp/notebooks/../tidy3d/web/webapi.py\u001b\\\u001b[2mwebapi.py\u001b[0m\u001b]8;;\u001b\\\u001b[2m:385\u001b[0m\n"
      ]
     },
     "metadata": {},
     "output_type": "display_data"
    },
    {
     "data": {
      "text/html": [
       "<pre style=\"white-space:pre;overflow-x:auto;line-height:normal;font-family:Menlo,'DejaVu Sans Mono',consolas,'Courier New',monospace\"><span style=\"color: #7fbfbf; text-decoration-color: #7fbfbf\">           </span><span style=\"color: #000080; text-decoration-color: #000080\">INFO    </span> loading SimulationData from simulation_data.hdf5            <a href=\"file:///Users/twhughes/Documents/Flexcompute/Tidy3D-client-revamp/notebooks/../tidy3d/web/webapi.py\"><span style=\"color: #7f7f7f; text-decoration-color: #7f7f7f\">webapi.py</span></a><span style=\"color: #7f7f7f; text-decoration-color: #7f7f7f\">:266</span>\n",
       "</pre>\n"
      ],
      "text/plain": [
       "\u001b[2;36m          \u001b[0m\u001b[2;36m \u001b[0m\u001b[34mINFO    \u001b[0m loading SimulationData from simulation_data.hdf5            \u001b]8;id=745173;file:///Users/twhughes/Documents/Flexcompute/Tidy3D-client-revamp/notebooks/../tidy3d/web/webapi.py\u001b\\\u001b[2mwebapi.py\u001b[0m\u001b]8;;\u001b\\\u001b[2m:266\u001b[0m\n"
      ]
     },
     "metadata": {},
     "output_type": "display_data"
    },
    {
     "data": {
      "text/html": [
       "<pre style=\"white-space:pre;overflow-x:auto;line-height:normal;font-family:Menlo,'DejaVu Sans Mono',consolas,'Courier New',monospace\">\n",
       "<span style=\"color: #800080; text-decoration-color: #800080; font-weight: bold\">SimulationData</span><span style=\"font-weight: bold\">(</span><span style=\"color: #808000; text-decoration-color: #808000\">simulation</span>=<span style=\"color: #800080; text-decoration-color: #800080; font-weight: bold\">Simulation</span><span style=\"font-weight: bold\">(</span><span style=\"color: #808000; text-decoration-color: #808000\">center</span>=<span style=\"font-weight: bold\">(</span><span style=\"color: #008080; text-decoration-color: #008080; font-weight: bold\">0.0</span>, <span style=\"color: #008080; text-decoration-color: #008080; font-weight: bold\">0.0</span>, <span style=\"color: #008080; text-decoration-color: #008080; font-weight: bold\">0.0</span><span style=\"font-weight: bold\">)</span>, <span style=\"color: #808000; text-decoration-color: #808000\">size</span>=<span style=\"font-weight: bold\">(</span><span style=\"color: #008080; text-decoration-color: #008080; font-weight: bold\">4.0</span>, <span style=\"color: #008080; text-decoration-color: #008080; font-weight: bold\">4.0</span>, <span style=\"color: #008080; text-decoration-color: #008080; font-weight: bold\">4.0</span><span style=\"font-weight: bold\">)</span>, <span style=\"color: #808000; text-decoration-color: #808000\">grid_size</span>=<span style=\"font-weight: bold\">(</span><span style=\"color: #008080; text-decoration-color: #008080; font-weight: bold\">0.01</span>, <span style=\"color: #008080; text-decoration-color: #008080; font-weight: bold\">0.01</span>, <span style=\"color: #008080; text-decoration-color: #008080; font-weight: bold\">0.01</span><span style=\"font-weight: bold\">)</span>, <span style=\"color: #808000; text-decoration-color: #808000\">medium</span>=<span style=\"color: #800080; text-decoration-color: #800080; font-weight: bold\">Medium</span><span style=\"font-weight: bold\">(</span><span style=\"color: #808000; text-decoration-color: #808000\">frequency_range</span>=<span style=\"font-weight: bold\">(</span><span style=\"color: #008080; text-decoration-color: #008080; font-weight: bold\">-10000000000.0</span>, <span style=\"color: #008080; text-decoration-color: #008080; font-weight: bold\">10000000000.0</span><span style=\"font-weight: bold\">)</span>, <span style=\"color: #808000; text-decoration-color: #808000\">permittivity</span>=<span style=\"color: #008080; text-decoration-color: #008080; font-weight: bold\">1.0</span>, <span style=\"color: #808000; text-decoration-color: #808000\">conductivity</span>=<span style=\"color: #008080; text-decoration-color: #008080; font-weight: bold\">0.0</span>, <span style=\"color: #808000; text-decoration-color: #808000\">type</span>=<span style=\"color: #008000; text-decoration-color: #008000\">'Medium'</span><span style=\"font-weight: bold\">)</span>, <span style=\"color: #808000; text-decoration-color: #808000\">run_time</span>=<span style=\"color: #008080; text-decoration-color: #008080; font-weight: bold\">1e-12</span>, <span style=\"color: #808000; text-decoration-color: #808000\">structures</span>=<span style=\"font-weight: bold\">[</span><span style=\"color: #800080; text-decoration-color: #800080; font-weight: bold\">Structure</span><span style=\"font-weight: bold\">(</span><span style=\"color: #808000; text-decoration-color: #808000\">geometry</span>=<span style=\"color: #800080; text-decoration-color: #800080; font-weight: bold\">Box</span><span style=\"font-weight: bold\">(</span><span style=\"color: #808000; text-decoration-color: #808000\">center</span>=<span style=\"font-weight: bold\">(</span><span style=\"color: #008080; text-decoration-color: #008080; font-weight: bold\">0.0</span>, <span style=\"color: #008080; text-decoration-color: #008080; font-weight: bold\">0.0</span>, <span style=\"color: #008080; text-decoration-color: #008080; font-weight: bold\">0.0</span><span style=\"font-weight: bold\">)</span>, <span style=\"color: #808000; text-decoration-color: #808000\">size</span>=<span style=\"font-weight: bold\">(</span><span style=\"color: #008080; text-decoration-color: #008080; font-weight: bold\">1.5</span>, <span style=\"color: #008080; text-decoration-color: #008080; font-weight: bold\">1.5</span>, <span style=\"color: #008080; text-decoration-color: #008080; font-weight: bold\">1.5</span><span style=\"font-weight: bold\">))</span>, <span style=\"color: #808000; text-decoration-color: #808000\">medium</span>=<span style=\"color: #800080; text-decoration-color: #800080; font-weight: bold\">Medium</span><span style=\"font-weight: bold\">(</span><span style=\"color: #808000; text-decoration-color: #808000\">frequency_range</span>=<span style=\"font-weight: bold\">(</span><span style=\"color: #008080; text-decoration-color: #008080; font-weight: bold\">-10000000000.0</span>, <span style=\"color: #008080; text-decoration-color: #008080; font-weight: bold\">10000000000.0</span><span style=\"font-weight: bold\">)</span>, <span style=\"color: #808000; text-decoration-color: #808000\">permittivity</span>=<span style=\"color: #008080; text-decoration-color: #008080; font-weight: bold\">4.0</span>, <span style=\"color: #808000; text-decoration-color: #808000\">conductivity</span>=<span style=\"color: #008080; text-decoration-color: #008080; font-weight: bold\">0.0</span>, <span style=\"color: #808000; text-decoration-color: #808000\">type</span>=<span style=\"color: #008000; text-decoration-color: #008000\">'Medium'</span><span style=\"font-weight: bold\">))]</span>, <span style=\"color: #808000; text-decoration-color: #808000\">sources</span>=<span style=\"font-weight: bold\">{</span><span style=\"color: #008000; text-decoration-color: #008000\">'source'</span>: <span style=\"color: #800080; text-decoration-color: #800080; font-weight: bold\">VolumeSource</span><span style=\"font-weight: bold\">(</span><span style=\"color: #808000; text-decoration-color: #808000\">center</span>=<span style=\"font-weight: bold\">(</span><span style=\"color: #008080; text-decoration-color: #008080; font-weight: bold\">-1.5</span>, <span style=\"color: #008080; text-decoration-color: #008080; font-weight: bold\">0.0</span>, <span style=\"color: #008080; text-decoration-color: #008080; font-weight: bold\">0.0</span><span style=\"font-weight: bold\">)</span>, <span style=\"color: #808000; text-decoration-color: #808000\">size</span>=<span style=\"font-weight: bold\">(</span><span style=\"color: #008080; text-decoration-color: #008080; font-weight: bold\">0.0</span>, <span style=\"color: #008080; text-decoration-color: #008080; font-weight: bold\">0.4</span>, <span style=\"color: #008080; text-decoration-color: #008080; font-weight: bold\">0.4</span><span style=\"font-weight: bold\">)</span>, <span style=\"color: #808000; text-decoration-color: #808000\">source_time</span>=<span style=\"color: #800080; text-decoration-color: #800080; font-weight: bold\">GaussianPulse</span><span style=\"font-weight: bold\">(</span><span style=\"color: #808000; text-decoration-color: #808000\">amplitude</span>=<span style=\"color: #008080; text-decoration-color: #008080; font-weight: bold\">1.0</span>, <span style=\"color: #808000; text-decoration-color: #808000\">phase</span>=<span style=\"color: #008080; text-decoration-color: #008080; font-weight: bold\">0.0</span>, <span style=\"color: #808000; text-decoration-color: #808000\">freq0</span>=<span style=\"color: #008080; text-decoration-color: #008080; font-weight: bold\">300000000000000.0</span>, <span style=\"color: #808000; text-decoration-color: #808000\">fwidth</span>=<span style=\"color: #008080; text-decoration-color: #008080; font-weight: bold\">10000000000000.0</span>, <span style=\"color: #808000; text-decoration-color: #808000\">offset</span>=<span style=\"color: #008080; text-decoration-color: #008080; font-weight: bold\">5.0</span><span style=\"font-weight: bold\">)</span>, <span style=\"color: #808000; text-decoration-color: #808000\">polarization</span>=<span style=\"color: #008000; text-decoration-color: #008000\">'Jx'</span>, <span style=\"color: #808000; text-decoration-color: #808000\">type</span>=<span style=\"color: #008000; text-decoration-color: #008000\">'VolumeSource'</span><span style=\"font-weight: bold\">)}</span>, <span style=\"color: #808000; text-decoration-color: #808000\">monitors</span>=<span style=\"font-weight: bold\">{</span><span style=\"color: #008000; text-decoration-color: #008000\">'monitor'</span>: <span style=\"color: #800080; text-decoration-color: #800080; font-weight: bold\">FieldMonitor</span><span style=\"font-weight: bold\">(</span><span style=\"color: #808000; text-decoration-color: #808000\">center</span>=<span style=\"font-weight: bold\">(</span><span style=\"color: #008080; text-decoration-color: #008080; font-weight: bold\">0.0</span>, <span style=\"color: #008080; text-decoration-color: #008080; font-weight: bold\">0.0</span>, <span style=\"color: #008080; text-decoration-color: #008080; font-weight: bold\">0.0</span><span style=\"font-weight: bold\">)</span>, <span style=\"color: #808000; text-decoration-color: #808000\">size</span>=<span style=\"font-weight: bold\">(</span><span style=\"color: #008080; text-decoration-color: #008080; font-weight: bold\">4.0</span>, <span style=\"color: #008080; text-decoration-color: #008080; font-weight: bold\">4.0</span>, <span style=\"color: #008080; text-decoration-color: #008080; font-weight: bold\">0.0</span><span style=\"font-weight: bold\">)</span>, <span style=\"color: #808000; text-decoration-color: #808000\">freqs</span>=<span style=\"font-weight: bold\">[</span><span style=\"color: #008080; text-decoration-color: #008080; font-weight: bold\">300000000000000.0</span><span style=\"font-weight: bold\">]</span>, <span style=\"color: #808000; text-decoration-color: #808000\">fields</span>=<span style=\"font-weight: bold\">[</span><span style=\"color: #008000; text-decoration-color: #008000\">'Ex'</span>, <span style=\"color: #008000; text-decoration-color: #008000\">'Hy'</span><span style=\"font-weight: bold\">]</span>, <span style=\"color: #808000; text-decoration-color: #808000\">type</span>=<span style=\"color: #008000; text-decoration-color: #008000\">'FieldMonitor'</span><span style=\"font-weight: bold\">)}</span>, <span style=\"color: #808000; text-decoration-color: #808000\">pml_layers</span>=<span style=\"font-weight: bold\">(</span><span style=\"color: #800080; text-decoration-color: #800080; font-weight: bold\">PMLLayer</span><span style=\"font-weight: bold\">(</span><span style=\"color: #808000; text-decoration-color: #808000\">profile</span>=<span style=\"color: #008000; text-decoration-color: #008000\">'standard'</span>, <span style=\"color: #808000; text-decoration-color: #808000\">num_layers</span>=<span style=\"color: #008080; text-decoration-color: #008080; font-weight: bold\">10</span><span style=\"font-weight: bold\">)</span>, <span style=\"color: #800080; text-decoration-color: #800080; font-weight: bold\">PMLLayer</span><span style=\"font-weight: bold\">(</span><span style=\"color: #808000; text-decoration-color: #808000\">profile</span>=<span style=\"color: #008000; text-decoration-color: #008000\">'standard'</span>, <span style=\"color: #808000; text-decoration-color: #808000\">num_layers</span>=<span style=\"color: #008080; text-decoration-color: #008080; font-weight: bold\">10</span><span style=\"font-weight: bold\">)</span>, <span style=\"color: #800080; text-decoration-color: #800080; font-weight: bold\">PMLLayer</span><span style=\"font-weight: bold\">(</span><span style=\"color: #808000; text-decoration-color: #808000\">profile</span>=<span style=\"color: #008000; text-decoration-color: #008000\">'standard'</span>, <span style=\"color: #808000; text-decoration-color: #808000\">num_layers</span>=<span style=\"color: #008080; text-decoration-color: #008080; font-weight: bold\">10</span><span style=\"font-weight: bold\">))</span>, <span style=\"color: #808000; text-decoration-color: #808000\">symmetry</span>=<span style=\"font-weight: bold\">(</span><span style=\"color: #008080; text-decoration-color: #008080; font-weight: bold\">0</span>, <span style=\"color: #008080; text-decoration-color: #008080; font-weight: bold\">0</span>, <span style=\"color: #008080; text-decoration-color: #008080; font-weight: bold\">0</span><span style=\"font-weight: bold\">)</span>, <span style=\"color: #808000; text-decoration-color: #808000\">shutoff</span>=<span style=\"color: #008080; text-decoration-color: #008080; font-weight: bold\">1e-05</span>, <span style=\"color: #808000; text-decoration-color: #808000\">courant</span>=<span style=\"color: #008080; text-decoration-color: #008080; font-weight: bold\">0.9</span>, <span style=\"color: #808000; text-decoration-color: #808000\">subpixel</span>=<span style=\"color: #00ff00; text-decoration-color: #00ff00; font-style: italic\">True</span><span style=\"font-weight: bold\">)</span>, <span style=\"color: #808000; text-decoration-color: #808000\">monitor_data</span>=<span style=\"font-weight: bold\">{</span><span style=\"color: #008000; text-decoration-color: #008000\">'monitor'</span>: <span style=\"color: #800080; text-decoration-color: #800080; font-weight: bold\">FieldData</span><span style=\"font-weight: bold\">(</span><span style=\"color: #808000; text-decoration-color: #808000\">monitor_name</span>=<span style=\"color: #008000; text-decoration-color: #008000\">\"b'monitor'\"</span>, <span style=\"color: #808000; text-decoration-color: #808000\">monitor</span>=<span style=\"color: #800080; text-decoration-color: #800080; font-weight: bold\">FieldMonitor</span><span style=\"font-weight: bold\">(</span><span style=\"color: #808000; text-decoration-color: #808000\">center</span>=<span style=\"font-weight: bold\">(</span><span style=\"color: #008080; text-decoration-color: #008080; font-weight: bold\">0.0</span>, <span style=\"color: #008080; text-decoration-color: #008080; font-weight: bold\">0.0</span>, <span style=\"color: #008080; text-decoration-color: #008080; font-weight: bold\">0.0</span><span style=\"font-weight: bold\">)</span>, <span style=\"color: #808000; text-decoration-color: #808000\">size</span>=<span style=\"font-weight: bold\">(</span><span style=\"color: #008080; text-decoration-color: #008080; font-weight: bold\">4.0</span>, <span style=\"color: #008080; text-decoration-color: #008080; font-weight: bold\">4.0</span>, <span style=\"color: #008080; text-decoration-color: #008080; font-weight: bold\">0.0</span><span style=\"font-weight: bold\">)</span>, <span style=\"color: #808000; text-decoration-color: #808000\">freqs</span>=<span style=\"font-weight: bold\">[</span><span style=\"color: #008080; text-decoration-color: #008080; font-weight: bold\">300000000000000.0</span><span style=\"font-weight: bold\">]</span>, <span style=\"color: #808000; text-decoration-color: #808000\">fields</span>=<span style=\"font-weight: bold\">[</span><span style=\"color: #008000; text-decoration-color: #008000\">'Ex'</span>, <span style=\"color: #008000; text-decoration-color: #008000\">'Hy'</span><span style=\"font-weight: bold\">]</span>, <span style=\"color: #808000; text-decoration-color: #808000\">type</span>=<span style=\"color: #008000; text-decoration-color: #008000\">'FieldMonitor'</span><span style=\"font-weight: bold\">)</span>, <span style=\"color: #808000; text-decoration-color: #808000\">values</span>=<span style=\"font-weight: bold\">[</span><span style=\"color: #800080; text-decoration-color: #800080; font-weight: bold\">array</span><span style=\"font-weight: bold\">([[[[</span><span style=\"color: #008080; text-decoration-color: #008080; font-weight: bold\">-7.40295276e-14</span>-<span style=\"color: #008080; text-decoration-color: #008080; font-weight: bold\">3.</span>93818109e-14j<span style=\"font-weight: bold\">]]</span>,\n",
       "\n",
       "        <span style=\"font-weight: bold\">[[</span><span style=\"color: #008080; text-decoration-color: #008080; font-weight: bold\">-7.64953083e-14</span>-<span style=\"color: #008080; text-decoration-color: #008080; font-weight: bold\">3.</span>48371471e-14j<span style=\"font-weight: bold\">]]</span>,\n",
       "\n",
       "        <span style=\"font-weight: bold\">[[</span><span style=\"color: #008080; text-decoration-color: #008080; font-weight: bold\">-7.86911294e-14</span>-<span style=\"color: #008080; text-decoration-color: #008080; font-weight: bold\">3.</span>01350945e-14j<span style=\"font-weight: bold\">]]</span>,\n",
       "\n",
       "        <span style=\"color: #808000; text-decoration-color: #808000\">...</span>,\n",
       "\n",
       "        <span style=\"font-weight: bold\">[[</span><span style=\"color: #008080; text-decoration-color: #008080; font-weight: bold\">-7.70611737e-14</span>-<span style=\"color: #008080; text-decoration-color: #008080; font-weight: bold\">3.</span>44744442e-14j<span style=\"font-weight: bold\">]]</span>,\n",
       "\n",
       "        <span style=\"font-weight: bold\">[[</span><span style=\"color: #008080; text-decoration-color: #008080; font-weight: bold\">-7.46162165e-14</span>-<span style=\"color: #008080; text-decoration-color: #008080; font-weight: bold\">3.</span>90454169e-14j<span style=\"font-weight: bold\">]]</span>,\n",
       "\n",
       "        <span style=\"font-weight: bold\">[[</span><span style=\"color: #008080; text-decoration-color: #008080; font-weight: bold\">-7.19094719e-14</span>-<span style=\"color: #008080; text-decoration-color: #008080; font-weight: bold\">4.</span>34451771e-14j<span style=\"font-weight: bold\">]]]</span>,\n",
       "\n",
       "\n",
       "       <span style=\"font-weight: bold\">[[[</span><span style=\"color: #008080; text-decoration-color: #008080; font-weight: bold\">-7.50398008e-14</span>-<span style=\"color: #008080; text-decoration-color: #008080; font-weight: bold\">3.</span>84562072e-14j<span style=\"font-weight: bold\">]]</span>,\n",
       "\n",
       "        <span style=\"font-weight: bold\">[[</span><span style=\"color: #008080; text-decoration-color: #008080; font-weight: bold\">-7.74474275e-14</span>-<span style=\"color: #008080; text-decoration-color: #008080; font-weight: bold\">3.</span>38477551e-14j<span style=\"font-weight: bold\">]]</span>,\n",
       "\n",
       "        <span style=\"font-weight: bold\">[[</span><span style=\"color: #008080; text-decoration-color: #008080; font-weight: bold\">-7.95805140e-14</span>-<span style=\"color: #008080; text-decoration-color: #008080; font-weight: bold\">2.</span>90852615e-14j<span style=\"font-weight: bold\">]]</span>,\n",
       "\n",
       "        <span style=\"color: #808000; text-decoration-color: #808000\">...</span>,\n",
       "\n",
       "        <span style=\"font-weight: bold\">[[</span><span style=\"color: #008080; text-decoration-color: #008080; font-weight: bold\">-7.80032777e-14</span>-<span style=\"color: #008080; text-decoration-color: #008080; font-weight: bold\">3.</span>34615995e-14j<span style=\"font-weight: bold\">]]</span>,\n",
       "\n",
       "        <span style=\"font-weight: bold\">[[</span><span style=\"color: #008080; text-decoration-color: #008080; font-weight: bold\">-7.56173688e-14</span>-<span style=\"color: #008080; text-decoration-color: #008080; font-weight: bold\">3.</span>80958218e-14j<span style=\"font-weight: bold\">]]</span>,\n",
       "\n",
       "        <span style=\"font-weight: bold\">[[</span><span style=\"color: #008080; text-decoration-color: #008080; font-weight: bold\">-7.29657423e-14</span>-<span style=\"color: #008080; text-decoration-color: #008080; font-weight: bold\">4.</span>25612033e-14j<span style=\"font-weight: bold\">]]]</span>,\n",
       "\n",
       "\n",
       "       <span style=\"font-weight: bold\">[[[</span><span style=\"color: #008080; text-decoration-color: #008080; font-weight: bold\">-7.60273734e-14</span>-<span style=\"color: #008080; text-decoration-color: #008080; font-weight: bold\">3.</span>75249792e-14j<span style=\"font-weight: bold\">]]</span>,\n",
       "\n",
       "        <span style=\"font-weight: bold\">[[</span><span style=\"color: #008080; text-decoration-color: #008080; font-weight: bold\">-7.83770360e-14</span>-<span style=\"color: #008080; text-decoration-color: #008080; font-weight: bold\">3.</span>28548427e-14j<span style=\"font-weight: bold\">]]</span>,\n",
       "\n",
       "        <span style=\"font-weight: bold\">[[</span><span style=\"color: #008080; text-decoration-color: #008080; font-weight: bold\">-8.04468390e-14</span>-<span style=\"color: #008080; text-decoration-color: #008080; font-weight: bold\">2.</span>80339530e-14j<span style=\"font-weight: bold\">]]</span>,\n",
       "\n",
       "        <span style=\"color: #808000; text-decoration-color: #808000\">...</span>,\n",
       "\n",
       "        <span style=\"font-weight: bold\">[[</span><span style=\"color: #008080; text-decoration-color: #008080; font-weight: bold\">-7.89219425e-14</span>-<span style=\"color: #008080; text-decoration-color: #008080; font-weight: bold\">3.</span>24455157e-14j<span style=\"font-weight: bold\">]]</span>,\n",
       "\n",
       "        <span style=\"font-weight: bold\">[[</span><span style=\"color: #008080; text-decoration-color: #008080; font-weight: bold\">-7.65951904e-14</span>-<span style=\"color: #008080; text-decoration-color: #008080; font-weight: bold\">3.</span>71409412e-14j<span style=\"font-weight: bold\">]]</span>,\n",
       "\n",
       "        <span style=\"font-weight: bold\">[[</span><span style=\"color: #008080; text-decoration-color: #008080; font-weight: bold\">-7.39985262e-14</span>-<span style=\"color: #008080; text-decoration-color: #008080; font-weight: bold\">4.</span>16701653e-14j<span style=\"font-weight: bold\">]]]</span>,\n",
       "\n",
       "\n",
       "       <span style=\"color: #808000; text-decoration-color: #808000\">...</span>,\n",
       "\n",
       "\n",
       "       <span style=\"font-weight: bold\">[[[</span><span style=\"color: #008080; text-decoration-color: #008080; font-weight: bold\">-1.11062249e-14</span>+<span style=\"color: #008080; text-decoration-color: #008080; font-weight: bold\">1.</span>80410784e-14j<span style=\"font-weight: bold\">]]</span>,\n",
       "\n",
       "        <span style=\"font-weight: bold\">[[</span><span style=\"color: #008080; text-decoration-color: #008080; font-weight: bold\">-9.84215185e-15</span>+<span style=\"color: #008080; text-decoration-color: #008080; font-weight: bold\">1.</span>85316833e-14j<span style=\"font-weight: bold\">]]</span>,\n",
       "\n",
       "        <span style=\"font-weight: bold\">[[</span><span style=\"color: #008080; text-decoration-color: #008080; font-weight: bold\">-8.55451438e-15</span>+<span style=\"color: #008080; text-decoration-color: #008080; font-weight: bold\">1.</span>89469429e-14j<span style=\"font-weight: bold\">]]</span>,\n",
       "\n",
       "        <span style=\"color: #808000; text-decoration-color: #808000\">...</span>,\n",
       "\n",
       "        <span style=\"font-weight: bold\">[[</span><span style=\"color: #008080; text-decoration-color: #008080; font-weight: bold\">-7.91727117e-15</span>+<span style=\"color: #008080; text-decoration-color: #008080; font-weight: bold\">1.</span>92134076e-14j<span style=\"font-weight: bold\">]]</span>,\n",
       "\n",
       "        <span style=\"font-weight: bold\">[[</span><span style=\"color: #008080; text-decoration-color: #008080; font-weight: bold\">-9.21852977e-15</span>+<span style=\"color: #008080; text-decoration-color: #008080; font-weight: bold\">1.</span>88217379e-14j<span style=\"font-weight: bold\">]]</span>,\n",
       "\n",
       "        <span style=\"font-weight: bold\">[[</span><span style=\"color: #008080; text-decoration-color: #008080; font-weight: bold\">-1.04975614e-14</span>+<span style=\"color: #008080; text-decoration-color: #008080; font-weight: bold\">1.</span>83543807e-14j<span style=\"font-weight: bold\">]]]</span>,\n",
       "\n",
       "\n",
       "       <span style=\"font-weight: bold\">[[[</span><span style=\"color: #008080; text-decoration-color: #008080; font-weight: bold\">-1.13165973e-14</span>+<span style=\"color: #008080; text-decoration-color: #008080; font-weight: bold\">1.</span>74969546e-14j<span style=\"font-weight: bold\">]]</span>,\n",
       "\n",
       "        <span style=\"font-weight: bold\">[[</span><span style=\"color: #008080; text-decoration-color: #008080; font-weight: bold\">-1.00786477e-14</span>+<span style=\"color: #008080; text-decoration-color: #008080; font-weight: bold\">1.</span>80148475e-14j<span style=\"font-weight: bold\">]]</span>,\n",
       "\n",
       "        <span style=\"font-weight: bold\">[[</span><span style=\"color: #008080; text-decoration-color: #008080; font-weight: bold\">-8.81540900e-15</span>+<span style=\"color: #008080; text-decoration-color: #008080; font-weight: bold\">1.</span>84589282e-14j<span style=\"font-weight: bold\">]]</span>,\n",
       "\n",
       "        <span style=\"color: #808000; text-decoration-color: #808000\">...</span>,\n",
       "\n",
       "        <span style=\"font-weight: bold\">[[</span><span style=\"color: #008080; text-decoration-color: #008080; font-weight: bold\">-8.19053416e-15</span>+<span style=\"color: #008080; text-decoration-color: #008080; font-weight: bold\">1.</span>87501737e-14j<span style=\"font-weight: bold\">]]</span>,\n",
       "\n",
       "        <span style=\"font-weight: bold\">[[</span><span style=\"color: #008080; text-decoration-color: #008080; font-weight: bold\">-9.46813767e-15</span>+<span style=\"color: #008080; text-decoration-color: #008080; font-weight: bold\">1.</span>83291594e-14j<span style=\"font-weight: bold\">]]</span>,\n",
       "\n",
       "        <span style=\"font-weight: bold\">[[</span><span style=\"color: #008080; text-decoration-color: #008080; font-weight: bold\">-1.07215542e-14</span>+<span style=\"color: #008080; text-decoration-color: #008080; font-weight: bold\">1.</span>78338399e-14j<span style=\"font-weight: bold\">]]]</span>,\n",
       "\n",
       "\n",
       "       <span style=\"font-weight: bold\">[[[</span><span style=\"color: #008080; text-decoration-color: #008080; font-weight: bold\">-1.15084639e-14</span>+<span style=\"color: #008080; text-decoration-color: #008080; font-weight: bold\">1.</span>69627411e-14j<span style=\"font-weight: bold\">]]</span>,\n",
       "\n",
       "        <span style=\"font-weight: bold\">[[</span><span style=\"color: #008080; text-decoration-color: #008080; font-weight: bold\">-1.02970890e-14</span>+<span style=\"color: #008080; text-decoration-color: #008080; font-weight: bold\">1.</span>75071732e-14j<span style=\"font-weight: bold\">]]</span>,\n",
       "\n",
       "        <span style=\"font-weight: bold\">[[</span><span style=\"color: #008080; text-decoration-color: #008080; font-weight: bold\">-9.05869211e-15</span>+<span style=\"color: #008080; text-decoration-color: #008080; font-weight: bold\">1.</span>79792315e-14j<span style=\"font-weight: bold\">]]</span>,\n",
       "\n",
       "        <span style=\"color: #808000; text-decoration-color: #808000\">...</span>,\n",
       "\n",
       "        <span style=\"font-weight: bold\">[[</span><span style=\"color: #008080; text-decoration-color: #008080; font-weight: bold\">-8.44741215e-15</span>+<span style=\"color: #008080; text-decoration-color: #008080; font-weight: bold\">1.</span>82949681e-14j<span style=\"font-weight: bold\">]]</span>,\n",
       "\n",
       "        <span style=\"font-weight: bold\">[[</span><span style=\"color: #008080; text-decoration-color: #008080; font-weight: bold\">-9.70089216e-15</span>+<span style=\"color: #008080; text-decoration-color: #008080; font-weight: bold\">1.</span>78453731e-14j<span style=\"font-weight: bold\">]]</span>,\n",
       "\n",
       "        <span style=\"font-weight: bold\">[[</span><span style=\"color: #008080; text-decoration-color: #008080; font-weight: bold\">-1.09283005e-14</span>+<span style=\"color: #008080; text-decoration-color: #008080; font-weight: bold\">1.</span>73228758e-14j<span style=\"font-weight: bold\">]]]])</span>, <span style=\"color: #800080; text-decoration-color: #800080; font-weight: bold\">array</span><span style=\"font-weight: bold\">([[[[</span><span style=\"color: #008080; text-decoration-color: #008080; font-weight: bold\">-1.01167829e-18</span>-<span style=\"color: #008080; text-decoration-color: #008080; font-weight: bold\">5.</span>85048769e-19j<span style=\"font-weight: bold\">]]</span>,\n",
       "\n",
       "        <span style=\"font-weight: bold\">[[</span><span style=\"color: #008080; text-decoration-color: #008080; font-weight: bold\">-1.05049653e-18</span>-<span style=\"color: #008080; text-decoration-color: #008080; font-weight: bold\">5.</span>28097229e-19j<span style=\"font-weight: bold\">]]</span>,\n",
       "\n",
       "        <span style=\"font-weight: bold\">[[</span><span style=\"color: #008080; text-decoration-color: #008080; font-weight: bold\">-1.08615814e-18</span>-<span style=\"color: #008080; text-decoration-color: #008080; font-weight: bold\">4.</span>68466761e-19j<span style=\"font-weight: bold\">]]</span>,\n",
       "\n",
       "        <span style=\"color: #808000; text-decoration-color: #808000\">...</span>,\n",
       "\n",
       "        <span style=\"font-weight: bold\">[[</span><span style=\"color: #008080; text-decoration-color: #008080; font-weight: bold\">-1.06989288e-18</span>-<span style=\"color: #008080; text-decoration-color: #008080; font-weight: bold\">5.</span>33852441e-19j<span style=\"font-weight: bold\">]]</span>,\n",
       "\n",
       "        <span style=\"font-weight: bold\">[[</span><span style=\"color: #008080; text-decoration-color: #008080; font-weight: bold\">-1.03062506e-18</span>-<span style=\"color: #008080; text-decoration-color: #008080; font-weight: bold\">5.</span>91379958e-19j<span style=\"font-weight: bold\">]]</span>,\n",
       "\n",
       "        <span style=\"font-weight: bold\">[[</span><span style=\"color: #008080; text-decoration-color: #008080; font-weight: bold\">-9.88376090e-19</span>-<span style=\"color: #008080; text-decoration-color: #008080; font-weight: bold\">6.</span>46054993e-19j<span style=\"font-weight: bold\">]]]</span>,\n",
       "\n",
       "\n",
       "       <span style=\"font-weight: bold\">[[[</span><span style=\"color: #008080; text-decoration-color: #008080; font-weight: bold\">-1.02854657e-18</span>-<span style=\"color: #008080; text-decoration-color: #008080; font-weight: bold\">5.</span>66792272e-19j<span style=\"font-weight: bold\">]]</span>,\n",
       "\n",
       "        <span style=\"font-weight: bold\">[[</span><span style=\"color: #008080; text-decoration-color: #008080; font-weight: bold\">-1.06648376e-18</span>-<span style=\"color: #008080; text-decoration-color: #008080; font-weight: bold\">5.</span>08850855e-19j<span style=\"font-weight: bold\">]]</span>,\n",
       "\n",
       "        <span style=\"font-weight: bold\">[[</span><span style=\"color: #008080; text-decoration-color: #008080; font-weight: bold\">-1.10119660e-18</span>-<span style=\"color: #008080; text-decoration-color: #008080; font-weight: bold\">4.</span>48282520e-19j<span style=\"font-weight: bold\">]]</span>,\n",
       "\n",
       "        <span style=\"color: #808000; text-decoration-color: #808000\">...</span>,\n",
       "\n",
       "        <span style=\"font-weight: bold\">[[</span><span style=\"color: #008080; text-decoration-color: #008080; font-weight: bold\">-1.08601628e-18</span>-<span style=\"color: #008080; text-decoration-color: #008080; font-weight: bold\">5.</span>13624618e-19j<span style=\"font-weight: bold\">]]</span>,\n",
       "\n",
       "        <span style=\"font-weight: bold\">[[</span><span style=\"color: #008080; text-decoration-color: #008080; font-weight: bold\">-1.04765599e-18</span>-<span style=\"color: #008080; text-decoration-color: #008080; font-weight: bold\">5.</span>72150076e-19j<span style=\"font-weight: bold\">]]</span>,\n",
       "\n",
       "        <span style=\"font-weight: bold\">[[</span><span style=\"color: #008080; text-decoration-color: #008080; font-weight: bold\">-1.00625777e-18</span>-<span style=\"color: #008080; text-decoration-color: #008080; font-weight: bold\">6.</span>27864827e-19j<span style=\"font-weight: bold\">]]]</span>,\n",
       "\n",
       "\n",
       "       <span style=\"font-weight: bold\">[[[</span><span style=\"color: #008080; text-decoration-color: #008080; font-weight: bold\">-1.04477006e-18</span>-<span style=\"color: #008080; text-decoration-color: #008080; font-weight: bold\">5.</span>48205576e-19j<span style=\"font-weight: bold\">]]</span>,\n",
       "\n",
       "        <span style=\"font-weight: bold\">[[</span><span style=\"color: #008080; text-decoration-color: #008080; font-weight: bold\">-1.08180666e-18</span>-<span style=\"color: #008080; text-decoration-color: #008080; font-weight: bold\">4.</span>89317089e-19j<span style=\"font-weight: bold\">]]</span>,\n",
       "\n",
       "        <span style=\"font-weight: bold\">[[</span><span style=\"color: #008080; text-decoration-color: #008080; font-weight: bold\">-1.11557165e-18</span>-<span style=\"color: #008080; text-decoration-color: #008080; font-weight: bold\">4.</span>27839578e-19j<span style=\"font-weight: bold\">]]</span>,\n",
       "\n",
       "        <span style=\"color: #808000; text-decoration-color: #808000\">...</span>,\n",
       "\n",
       "        <span style=\"font-weight: bold\">[[</span><span style=\"color: #008080; text-decoration-color: #008080; font-weight: bold\">-1.10142697e-18</span>-<span style=\"color: #008080; text-decoration-color: #008080; font-weight: bold\">4.</span>93101854e-19j<span style=\"font-weight: bold\">]]</span>,\n",
       "\n",
       "        <span style=\"font-weight: bold\">[[</span><span style=\"color: #008080; text-decoration-color: #008080; font-weight: bold\">-1.06398929e-18</span>-<span style=\"color: #008080; text-decoration-color: #008080; font-weight: bold\">5.</span>52590874e-19j<span style=\"font-weight: bold\">]]</span>,\n",
       "\n",
       "        <span style=\"font-weight: bold\">[[</span><span style=\"color: #008080; text-decoration-color: #008080; font-weight: bold\">-1.02345155e-18</span>-<span style=\"color: #008080; text-decoration-color: #008080; font-weight: bold\">6.</span>09308787e-19j<span style=\"font-weight: bold\">]]]</span>,\n",
       "\n",
       "\n",
       "       <span style=\"color: #808000; text-decoration-color: #808000\">...</span>,\n",
       "\n",
       "\n",
       "       <span style=\"font-weight: bold\">[[[</span> <span style=\"color: #008080; text-decoration-color: #008080; font-weight: bold\">2.44661827e-19</span>+<span style=\"color: #008080; text-decoration-color: #008080; font-weight: bold\">5.</span>31459408e-19j<span style=\"font-weight: bold\">]]</span>,\n",
       "\n",
       "        <span style=\"font-weight: bold\">[[</span> <span style=\"color: #008080; text-decoration-color: #008080; font-weight: bold\">2.66307257e-19</span>+<span style=\"color: #008080; text-decoration-color: #008080; font-weight: bold\">5.</span>24522102e-19j<span style=\"font-weight: bold\">]]</span>,\n",
       "\n",
       "        <span style=\"font-weight: bold\">[[</span> <span style=\"color: #008080; text-decoration-color: #008080; font-weight: bold\">2.87622176e-19</span>+<span style=\"color: #008080; text-decoration-color: #008080; font-weight: bold\">5.</span>16762631e-19j<span style=\"font-weight: bold\">]]</span>,\n",
       "\n",
       "        <span style=\"color: #808000; text-decoration-color: #808000\">...</span>,\n",
       "\n",
       "        <span style=\"font-weight: bold\">[[</span> <span style=\"color: #008080; text-decoration-color: #008080; font-weight: bold\">2.96023695e-19</span>+<span style=\"color: #008080; text-decoration-color: #008080; font-weight: bold\">5.</span>05307524e-19j<span style=\"font-weight: bold\">]]</span>,\n",
       "\n",
       "        <span style=\"font-weight: bold\">[[</span> <span style=\"color: #008080; text-decoration-color: #008080; font-weight: bold\">2.75279995e-19</span>+<span style=\"color: #008080; text-decoration-color: #008080; font-weight: bold\">5.</span>13311220e-19j<span style=\"font-weight: bold\">]]</span>,\n",
       "\n",
       "        <span style=\"font-weight: bold\">[[</span> <span style=\"color: #008080; text-decoration-color: #008080; font-weight: bold\">2.54197669e-19</span>+<span style=\"color: #008080; text-decoration-color: #008080; font-weight: bold\">5.</span>20521650e-19j<span style=\"font-weight: bold\">]]]</span>,\n",
       "\n",
       "\n",
       "       <span style=\"font-weight: bold\">[[[</span> <span style=\"color: #008080; text-decoration-color: #008080; font-weight: bold\">2.19370082e-19</span>+<span style=\"color: #008080; text-decoration-color: #008080; font-weight: bold\">5.</span>40812287e-19j<span style=\"font-weight: bold\">]]</span>,\n",
       "\n",
       "        <span style=\"font-weight: bold\">[[</span> <span style=\"color: #008080; text-decoration-color: #008080; font-weight: bold\">2.41111646e-19</span>+<span style=\"color: #008080; text-decoration-color: #008080; font-weight: bold\">5.</span>34890915e-19j<span style=\"font-weight: bold\">]]</span>,\n",
       "\n",
       "        <span style=\"font-weight: bold\">[[</span> <span style=\"color: #008080; text-decoration-color: #008080; font-weight: bold\">2.62557931e-19</span>+<span style=\"color: #008080; text-decoration-color: #008080; font-weight: bold\">5.</span>28142258e-19j<span style=\"font-weight: bold\">]]</span>,\n",
       "\n",
       "        <span style=\"color: #808000; text-decoration-color: #808000\">...</span>,\n",
       "\n",
       "        <span style=\"font-weight: bold\">[[</span> <span style=\"color: #008080; text-decoration-color: #008080; font-weight: bold\">2.71207113e-19</span>+<span style=\"color: #008080; text-decoration-color: #008080; font-weight: bold\">5.</span>17212669e-19j<span style=\"font-weight: bold\">]]</span>,\n",
       "\n",
       "        <span style=\"font-weight: bold\">[[</span> <span style=\"color: #008080; text-decoration-color: #008080; font-weight: bold\">2.50315658e-19</span>+<span style=\"color: #008080; text-decoration-color: #008080; font-weight: bold\">5.</span>24217596e-19j<span style=\"font-weight: bold\">]]</span>,\n",
       "\n",
       "        <span style=\"font-weight: bold\">[[</span> <span style=\"color: #008080; text-decoration-color: #008080; font-weight: bold\">2.29121818e-19</span>+<span style=\"color: #008080; text-decoration-color: #008080; font-weight: bold\">5.</span>30426828e-19j<span style=\"font-weight: bold\">]]]</span>,\n",
       "\n",
       "\n",
       "       <span style=\"font-weight: bold\">[[[</span> <span style=\"color: #008080; text-decoration-color: #008080; font-weight: bold\">1.93571004e-19</span>+<span style=\"color: #008080; text-decoration-color: #008080; font-weight: bold\">5.</span>48954536e-19j<span style=\"font-weight: bold\">]]</span>,\n",
       "\n",
       "        <span style=\"font-weight: bold\">[[</span> <span style=\"color: #008080; text-decoration-color: #008080; font-weight: bold\">2.15363982e-19</span>+<span style=\"color: #008080; text-decoration-color: #008080; font-weight: bold\">5.</span>44046925e-19j<span style=\"font-weight: bold\">]]</span>,\n",
       "\n",
       "        <span style=\"font-weight: bold\">[[</span> <span style=\"color: #008080; text-decoration-color: #008080; font-weight: bold\">2.36897186e-19</span>+<span style=\"color: #008080; text-decoration-color: #008080; font-weight: bold\">5.</span>38311307e-19j<span style=\"font-weight: bold\">]]</span>,\n",
       "\n",
       "        <span style=\"color: #808000; text-decoration-color: #808000\">...</span>,\n",
       "\n",
       "        <span style=\"font-weight: bold\">[[</span> <span style=\"color: #008080; text-decoration-color: #008080; font-weight: bold\">2.45763735e-19</span>+<span style=\"color: #008080; text-decoration-color: #008080; font-weight: bold\">5.</span>27914215e-19j<span style=\"font-weight: bold\">]]</span>,\n",
       "\n",
       "        <span style=\"font-weight: bold\">[[</span> <span style=\"color: #008080; text-decoration-color: #008080; font-weight: bold\">2.24770098e-19</span>+<span style=\"color: #008080; text-decoration-color: #008080; font-weight: bold\">5.</span>33913549e-19j<span style=\"font-weight: bold\">]]</span>,\n",
       "\n",
       "        <span style=\"font-weight: bold\">[[</span> <span style=\"color: #008080; text-decoration-color: #008080; font-weight: bold\">2.03511078e-19</span>+<span style=\"color: #008080; text-decoration-color: #008080; font-weight: bold\">5.</span>39117136e-19j<span style=\"font-weight: bold\">]]]])]</span>, <span style=\"color: #808000; text-decoration-color: #808000\">field</span>=<span style=\"font-weight: bold\">[</span><span style=\"color: #008000; text-decoration-color: #008000\">'Ex'</span>, <span style=\"color: #008000; text-decoration-color: #008000\">'Hy'</span><span style=\"font-weight: bold\">]</span>, <span style=\"color: #808000; text-decoration-color: #808000\">x</span>=<span style=\"font-weight: bold\">[</span><span style=\"color: #800080; text-decoration-color: #800080; font-weight: bold\">array</span><span style=\"font-weight: bold\">([</span><span style=\"color: #008080; text-decoration-color: #008080; font-weight: bold\">-2</span>.        , <span style=\"color: #008080; text-decoration-color: #008080; font-weight: bold\">-1.98997494</span>, <span style=\"color: #008080; text-decoration-color: #008080; font-weight: bold\">-1.97994987</span>, <span style=\"color: #008080; text-decoration-color: #008080; font-weight: bold\">-1.96992481</span>, <span style=\"color: #008080; text-decoration-color: #008080; font-weight: bold\">-1.95989975</span>,\n",
       "       <span style=\"color: #008080; text-decoration-color: #008080; font-weight: bold\">-1.94987469</span>, <span style=\"color: #008080; text-decoration-color: #008080; font-weight: bold\">-1.93984962</span>, <span style=\"color: #008080; text-decoration-color: #008080; font-weight: bold\">-1.92982456</span>, <span style=\"color: #008080; text-decoration-color: #008080; font-weight: bold\">-1.9197995</span> , <span style=\"color: #008080; text-decoration-color: #008080; font-weight: bold\">-1.90977444</span>,\n",
       "       <span style=\"color: #008080; text-decoration-color: #008080; font-weight: bold\">-1.89974937</span>, <span style=\"color: #008080; text-decoration-color: #008080; font-weight: bold\">-1.88972431</span>, <span style=\"color: #008080; text-decoration-color: #008080; font-weight: bold\">-1.87969925</span>, <span style=\"color: #008080; text-decoration-color: #008080; font-weight: bold\">-1.86967419</span>, <span style=\"color: #008080; text-decoration-color: #008080; font-weight: bold\">-1.85964912</span>,\n",
       "       <span style=\"color: #008080; text-decoration-color: #008080; font-weight: bold\">-1.84962406</span>, <span style=\"color: #008080; text-decoration-color: #008080; font-weight: bold\">-1.839599</span>  , <span style=\"color: #008080; text-decoration-color: #008080; font-weight: bold\">-1.82957393</span>, <span style=\"color: #008080; text-decoration-color: #008080; font-weight: bold\">-1.81954887</span>, <span style=\"color: #008080; text-decoration-color: #008080; font-weight: bold\">-1.80952381</span>,\n",
       "       <span style=\"color: #008080; text-decoration-color: #008080; font-weight: bold\">-1.79949875</span>, <span style=\"color: #008080; text-decoration-color: #008080; font-weight: bold\">-1.78947368</span>, <span style=\"color: #008080; text-decoration-color: #008080; font-weight: bold\">-1.77944862</span>, <span style=\"color: #008080; text-decoration-color: #008080; font-weight: bold\">-1.76942356</span>, <span style=\"color: #008080; text-decoration-color: #008080; font-weight: bold\">-1.7593985</span> ,\n",
       "       <span style=\"color: #008080; text-decoration-color: #008080; font-weight: bold\">-1.74937343</span>, <span style=\"color: #008080; text-decoration-color: #008080; font-weight: bold\">-1.73934837</span>, <span style=\"color: #008080; text-decoration-color: #008080; font-weight: bold\">-1.72932331</span>, <span style=\"color: #008080; text-decoration-color: #008080; font-weight: bold\">-1.71929825</span>, <span style=\"color: #008080; text-decoration-color: #008080; font-weight: bold\">-1.70927318</span>,\n",
       "       <span style=\"color: #008080; text-decoration-color: #008080; font-weight: bold\">-1.69924812</span>, <span style=\"color: #008080; text-decoration-color: #008080; font-weight: bold\">-1.68922306</span>, <span style=\"color: #008080; text-decoration-color: #008080; font-weight: bold\">-1.67919799</span>, <span style=\"color: #008080; text-decoration-color: #008080; font-weight: bold\">-1.66917293</span>, <span style=\"color: #008080; text-decoration-color: #008080; font-weight: bold\">-1.65914787</span>,\n",
       "       <span style=\"color: #008080; text-decoration-color: #008080; font-weight: bold\">-1.64912281</span>, <span style=\"color: #008080; text-decoration-color: #008080; font-weight: bold\">-1.63909774</span>, <span style=\"color: #008080; text-decoration-color: #008080; font-weight: bold\">-1.62907268</span>, <span style=\"color: #008080; text-decoration-color: #008080; font-weight: bold\">-1.61904762</span>, <span style=\"color: #008080; text-decoration-color: #008080; font-weight: bold\">-1.60902256</span>,\n",
       "       <span style=\"color: #008080; text-decoration-color: #008080; font-weight: bold\">-1.59899749</span>, <span style=\"color: #008080; text-decoration-color: #008080; font-weight: bold\">-1.58897243</span>, <span style=\"color: #008080; text-decoration-color: #008080; font-weight: bold\">-1.57894737</span>, <span style=\"color: #008080; text-decoration-color: #008080; font-weight: bold\">-1.56892231</span>, <span style=\"color: #008080; text-decoration-color: #008080; font-weight: bold\">-1.55889724</span>,\n",
       "       <span style=\"color: #008080; text-decoration-color: #008080; font-weight: bold\">-1.54887218</span>, <span style=\"color: #008080; text-decoration-color: #008080; font-weight: bold\">-1.53884712</span>, <span style=\"color: #008080; text-decoration-color: #008080; font-weight: bold\">-1.52882206</span>, <span style=\"color: #008080; text-decoration-color: #008080; font-weight: bold\">-1.51879699</span>, <span style=\"color: #008080; text-decoration-color: #008080; font-weight: bold\">-1.50877193</span>,\n",
       "       <span style=\"color: #008080; text-decoration-color: #008080; font-weight: bold\">-1.49874687</span>, <span style=\"color: #008080; text-decoration-color: #008080; font-weight: bold\">-1.4887218</span> , <span style=\"color: #008080; text-decoration-color: #008080; font-weight: bold\">-1.47869674</span>, <span style=\"color: #008080; text-decoration-color: #008080; font-weight: bold\">-1.46867168</span>, <span style=\"color: #008080; text-decoration-color: #008080; font-weight: bold\">-1.45864662</span>,\n",
       "       <span style=\"color: #008080; text-decoration-color: #008080; font-weight: bold\">-1.44862155</span>, <span style=\"color: #008080; text-decoration-color: #008080; font-weight: bold\">-1.43859649</span>, <span style=\"color: #008080; text-decoration-color: #008080; font-weight: bold\">-1.42857143</span>, <span style=\"color: #008080; text-decoration-color: #008080; font-weight: bold\">-1.41854637</span>, <span style=\"color: #008080; text-decoration-color: #008080; font-weight: bold\">-1.4085213</span> ,\n",
       "       <span style=\"color: #008080; text-decoration-color: #008080; font-weight: bold\">-1.39849624</span>, <span style=\"color: #008080; text-decoration-color: #008080; font-weight: bold\">-1.38847118</span>, <span style=\"color: #008080; text-decoration-color: #008080; font-weight: bold\">-1.37844612</span>, <span style=\"color: #008080; text-decoration-color: #008080; font-weight: bold\">-1.36842105</span>, <span style=\"color: #008080; text-decoration-color: #008080; font-weight: bold\">-1.35839599</span>,\n",
       "       <span style=\"color: #008080; text-decoration-color: #008080; font-weight: bold\">-1.34837093</span>, <span style=\"color: #008080; text-decoration-color: #008080; font-weight: bold\">-1.33834586</span>, <span style=\"color: #008080; text-decoration-color: #008080; font-weight: bold\">-1.3283208</span> , <span style=\"color: #008080; text-decoration-color: #008080; font-weight: bold\">-1.31829574</span>, <span style=\"color: #008080; text-decoration-color: #008080; font-weight: bold\">-1.30827068</span>,\n",
       "       <span style=\"color: #008080; text-decoration-color: #008080; font-weight: bold\">-1.29824561</span>, <span style=\"color: #008080; text-decoration-color: #008080; font-weight: bold\">-1.28822055</span>, <span style=\"color: #008080; text-decoration-color: #008080; font-weight: bold\">-1.27819549</span>, <span style=\"color: #008080; text-decoration-color: #008080; font-weight: bold\">-1.26817043</span>, <span style=\"color: #008080; text-decoration-color: #008080; font-weight: bold\">-1.25814536</span>,\n",
       "       <span style=\"color: #008080; text-decoration-color: #008080; font-weight: bold\">-1.2481203</span> , <span style=\"color: #008080; text-decoration-color: #008080; font-weight: bold\">-1.23809524</span>, <span style=\"color: #008080; text-decoration-color: #008080; font-weight: bold\">-1.22807018</span>, <span style=\"color: #008080; text-decoration-color: #008080; font-weight: bold\">-1.21804511</span>, <span style=\"color: #008080; text-decoration-color: #008080; font-weight: bold\">-1.20802005</span>,\n",
       "       <span style=\"color: #008080; text-decoration-color: #008080; font-weight: bold\">-1.19799499</span>, <span style=\"color: #008080; text-decoration-color: #008080; font-weight: bold\">-1.18796992</span>, <span style=\"color: #008080; text-decoration-color: #008080; font-weight: bold\">-1.17794486</span>, <span style=\"color: #008080; text-decoration-color: #008080; font-weight: bold\">-1.1679198</span> , <span style=\"color: #008080; text-decoration-color: #008080; font-weight: bold\">-1.15789474</span>,\n",
       "       <span style=\"color: #008080; text-decoration-color: #008080; font-weight: bold\">-1.14786967</span>, <span style=\"color: #008080; text-decoration-color: #008080; font-weight: bold\">-1.13784461</span>, <span style=\"color: #008080; text-decoration-color: #008080; font-weight: bold\">-1.12781955</span>, <span style=\"color: #008080; text-decoration-color: #008080; font-weight: bold\">-1.11779449</span>, <span style=\"color: #008080; text-decoration-color: #008080; font-weight: bold\">-1.10776942</span>,\n",
       "       <span style=\"color: #008080; text-decoration-color: #008080; font-weight: bold\">-1.09774436</span>, <span style=\"color: #008080; text-decoration-color: #008080; font-weight: bold\">-1.0877193</span> , <span style=\"color: #008080; text-decoration-color: #008080; font-weight: bold\">-1.07769424</span>, <span style=\"color: #008080; text-decoration-color: #008080; font-weight: bold\">-1.06766917</span>, <span style=\"color: #008080; text-decoration-color: #008080; font-weight: bold\">-1.05764411</span>,\n",
       "       <span style=\"color: #008080; text-decoration-color: #008080; font-weight: bold\">-1.04761905</span>, <span style=\"color: #008080; text-decoration-color: #008080; font-weight: bold\">-1.03759398</span>, <span style=\"color: #008080; text-decoration-color: #008080; font-weight: bold\">-1.02756892</span>, <span style=\"color: #008080; text-decoration-color: #008080; font-weight: bold\">-1.01754386</span>, <span style=\"color: #008080; text-decoration-color: #008080; font-weight: bold\">-1.0075188</span> ,\n",
       "       <span style=\"color: #008080; text-decoration-color: #008080; font-weight: bold\">-0.99749373</span>, <span style=\"color: #008080; text-decoration-color: #008080; font-weight: bold\">-0.98746867</span>, <span style=\"color: #008080; text-decoration-color: #008080; font-weight: bold\">-0.97744361</span>, <span style=\"color: #008080; text-decoration-color: #008080; font-weight: bold\">-0.96741855</span>, <span style=\"color: #008080; text-decoration-color: #008080; font-weight: bold\">-0.95739348</span>,\n",
       "       <span style=\"color: #008080; text-decoration-color: #008080; font-weight: bold\">-0.94736842</span>, <span style=\"color: #008080; text-decoration-color: #008080; font-weight: bold\">-0.93734336</span>, <span style=\"color: #008080; text-decoration-color: #008080; font-weight: bold\">-0.9273183</span> , <span style=\"color: #008080; text-decoration-color: #008080; font-weight: bold\">-0.91729323</span>, <span style=\"color: #008080; text-decoration-color: #008080; font-weight: bold\">-0.90726817</span>,\n",
       "       <span style=\"color: #008080; text-decoration-color: #008080; font-weight: bold\">-0.89724311</span>, <span style=\"color: #008080; text-decoration-color: #008080; font-weight: bold\">-0.88721805</span>, <span style=\"color: #008080; text-decoration-color: #008080; font-weight: bold\">-0.87719298</span>, <span style=\"color: #008080; text-decoration-color: #008080; font-weight: bold\">-0.86716792</span>, <span style=\"color: #008080; text-decoration-color: #008080; font-weight: bold\">-0.85714286</span>,\n",
       "       <span style=\"color: #008080; text-decoration-color: #008080; font-weight: bold\">-0.84711779</span>, <span style=\"color: #008080; text-decoration-color: #008080; font-weight: bold\">-0.83709273</span>, <span style=\"color: #008080; text-decoration-color: #008080; font-weight: bold\">-0.82706767</span>, <span style=\"color: #008080; text-decoration-color: #008080; font-weight: bold\">-0.81704261</span>, <span style=\"color: #008080; text-decoration-color: #008080; font-weight: bold\">-0.80701754</span>,\n",
       "       <span style=\"color: #008080; text-decoration-color: #008080; font-weight: bold\">-0.79699248</span>, <span style=\"color: #008080; text-decoration-color: #008080; font-weight: bold\">-0.78696742</span>, <span style=\"color: #008080; text-decoration-color: #008080; font-weight: bold\">-0.77694236</span>, <span style=\"color: #008080; text-decoration-color: #008080; font-weight: bold\">-0.76691729</span>, <span style=\"color: #008080; text-decoration-color: #008080; font-weight: bold\">-0.75689223</span>,\n",
       "       <span style=\"color: #008080; text-decoration-color: #008080; font-weight: bold\">-0.74686717</span>, <span style=\"color: #008080; text-decoration-color: #008080; font-weight: bold\">-0.73684211</span>, <span style=\"color: #008080; text-decoration-color: #008080; font-weight: bold\">-0.72681704</span>, <span style=\"color: #008080; text-decoration-color: #008080; font-weight: bold\">-0.71679198</span>, <span style=\"color: #008080; text-decoration-color: #008080; font-weight: bold\">-0.70676692</span>,\n",
       "       <span style=\"color: #008080; text-decoration-color: #008080; font-weight: bold\">-0.69674185</span>, <span style=\"color: #008080; text-decoration-color: #008080; font-weight: bold\">-0.68671679</span>, <span style=\"color: #008080; text-decoration-color: #008080; font-weight: bold\">-0.67669173</span>, <span style=\"color: #008080; text-decoration-color: #008080; font-weight: bold\">-0.66666667</span>, <span style=\"color: #008080; text-decoration-color: #008080; font-weight: bold\">-0.6566416</span> ,\n",
       "       <span style=\"color: #008080; text-decoration-color: #008080; font-weight: bold\">-0.64661654</span>, <span style=\"color: #008080; text-decoration-color: #008080; font-weight: bold\">-0.63659148</span>, <span style=\"color: #008080; text-decoration-color: #008080; font-weight: bold\">-0.62656642</span>, <span style=\"color: #008080; text-decoration-color: #008080; font-weight: bold\">-0.61654135</span>, <span style=\"color: #008080; text-decoration-color: #008080; font-weight: bold\">-0.60651629</span>,\n",
       "       <span style=\"color: #008080; text-decoration-color: #008080; font-weight: bold\">-0.59649123</span>, <span style=\"color: #008080; text-decoration-color: #008080; font-weight: bold\">-0.58646617</span>, <span style=\"color: #008080; text-decoration-color: #008080; font-weight: bold\">-0.5764411</span> , <span style=\"color: #008080; text-decoration-color: #008080; font-weight: bold\">-0.56641604</span>, <span style=\"color: #008080; text-decoration-color: #008080; font-weight: bold\">-0.55639098</span>,\n",
       "       <span style=\"color: #008080; text-decoration-color: #008080; font-weight: bold\">-0.54636591</span>, <span style=\"color: #008080; text-decoration-color: #008080; font-weight: bold\">-0.53634085</span>, <span style=\"color: #008080; text-decoration-color: #008080; font-weight: bold\">-0.52631579</span>, <span style=\"color: #008080; text-decoration-color: #008080; font-weight: bold\">-0.51629073</span>, <span style=\"color: #008080; text-decoration-color: #008080; font-weight: bold\">-0.50626566</span>,\n",
       "       <span style=\"color: #008080; text-decoration-color: #008080; font-weight: bold\">-0.4962406</span> , <span style=\"color: #008080; text-decoration-color: #008080; font-weight: bold\">-0.48621554</span>, <span style=\"color: #008080; text-decoration-color: #008080; font-weight: bold\">-0.47619048</span>, <span style=\"color: #008080; text-decoration-color: #008080; font-weight: bold\">-0.46616541</span>, <span style=\"color: #008080; text-decoration-color: #008080; font-weight: bold\">-0.45614035</span>,\n",
       "       <span style=\"color: #008080; text-decoration-color: #008080; font-weight: bold\">-0.44611529</span>, <span style=\"color: #008080; text-decoration-color: #008080; font-weight: bold\">-0.43609023</span>, <span style=\"color: #008080; text-decoration-color: #008080; font-weight: bold\">-0.42606516</span>, <span style=\"color: #008080; text-decoration-color: #008080; font-weight: bold\">-0.4160401</span> , <span style=\"color: #008080; text-decoration-color: #008080; font-weight: bold\">-0.40601504</span>,\n",
       "       <span style=\"color: #008080; text-decoration-color: #008080; font-weight: bold\">-0.39598997</span>, <span style=\"color: #008080; text-decoration-color: #008080; font-weight: bold\">-0.38596491</span>, <span style=\"color: #008080; text-decoration-color: #008080; font-weight: bold\">-0.37593985</span>, <span style=\"color: #008080; text-decoration-color: #008080; font-weight: bold\">-0.36591479</span>, <span style=\"color: #008080; text-decoration-color: #008080; font-weight: bold\">-0.35588972</span>,\n",
       "       <span style=\"color: #008080; text-decoration-color: #008080; font-weight: bold\">-0.34586466</span>, <span style=\"color: #008080; text-decoration-color: #008080; font-weight: bold\">-0.3358396</span> , <span style=\"color: #008080; text-decoration-color: #008080; font-weight: bold\">-0.32581454</span>, <span style=\"color: #008080; text-decoration-color: #008080; font-weight: bold\">-0.31578947</span>, <span style=\"color: #008080; text-decoration-color: #008080; font-weight: bold\">-0.30576441</span>,\n",
       "       <span style=\"color: #008080; text-decoration-color: #008080; font-weight: bold\">-0.29573935</span>, <span style=\"color: #008080; text-decoration-color: #008080; font-weight: bold\">-0.28571429</span>, <span style=\"color: #008080; text-decoration-color: #008080; font-weight: bold\">-0.27568922</span>, <span style=\"color: #008080; text-decoration-color: #008080; font-weight: bold\">-0.26566416</span>, <span style=\"color: #008080; text-decoration-color: #008080; font-weight: bold\">-0.2556391</span> ,\n",
       "       <span style=\"color: #008080; text-decoration-color: #008080; font-weight: bold\">-0.24561404</span>, <span style=\"color: #008080; text-decoration-color: #008080; font-weight: bold\">-0.23558897</span>, <span style=\"color: #008080; text-decoration-color: #008080; font-weight: bold\">-0.22556391</span>, <span style=\"color: #008080; text-decoration-color: #008080; font-weight: bold\">-0.21553885</span>, <span style=\"color: #008080; text-decoration-color: #008080; font-weight: bold\">-0.20551378</span>,\n",
       "       <span style=\"color: #008080; text-decoration-color: #008080; font-weight: bold\">-0.19548872</span>, <span style=\"color: #008080; text-decoration-color: #008080; font-weight: bold\">-0.18546366</span>, <span style=\"color: #008080; text-decoration-color: #008080; font-weight: bold\">-0.1754386</span> , <span style=\"color: #008080; text-decoration-color: #008080; font-weight: bold\">-0.16541353</span>, <span style=\"color: #008080; text-decoration-color: #008080; font-weight: bold\">-0.15538847</span>,\n",
       "       <span style=\"color: #008080; text-decoration-color: #008080; font-weight: bold\">-0.14536341</span>, <span style=\"color: #008080; text-decoration-color: #008080; font-weight: bold\">-0.13533835</span>, <span style=\"color: #008080; text-decoration-color: #008080; font-weight: bold\">-0.12531328</span>, <span style=\"color: #008080; text-decoration-color: #008080; font-weight: bold\">-0.11528822</span>, <span style=\"color: #008080; text-decoration-color: #008080; font-weight: bold\">-0.10526316</span>,\n",
       "       <span style=\"color: #008080; text-decoration-color: #008080; font-weight: bold\">-0.0952381</span> , <span style=\"color: #008080; text-decoration-color: #008080; font-weight: bold\">-0.08521303</span>, <span style=\"color: #008080; text-decoration-color: #008080; font-weight: bold\">-0.07518797</span>, <span style=\"color: #008080; text-decoration-color: #008080; font-weight: bold\">-0.06516291</span>, <span style=\"color: #008080; text-decoration-color: #008080; font-weight: bold\">-0.05513784</span>,\n",
       "       <span style=\"color: #008080; text-decoration-color: #008080; font-weight: bold\">-0.04511278</span>, <span style=\"color: #008080; text-decoration-color: #008080; font-weight: bold\">-0.03508772</span>, <span style=\"color: #008080; text-decoration-color: #008080; font-weight: bold\">-0.02506266</span>, <span style=\"color: #008080; text-decoration-color: #008080; font-weight: bold\">-0.01503759</span>, <span style=\"color: #008080; text-decoration-color: #008080; font-weight: bold\">-0.00501253</span>,\n",
       "        <span style=\"color: #008080; text-decoration-color: #008080; font-weight: bold\">0.00501253</span>,  <span style=\"color: #008080; text-decoration-color: #008080; font-weight: bold\">0.01503759</span>,  <span style=\"color: #008080; text-decoration-color: #008080; font-weight: bold\">0.02506266</span>,  <span style=\"color: #008080; text-decoration-color: #008080; font-weight: bold\">0.03508772</span>,  <span style=\"color: #008080; text-decoration-color: #008080; font-weight: bold\">0.04511278</span>,\n",
       "        <span style=\"color: #008080; text-decoration-color: #008080; font-weight: bold\">0.05513784</span>,  <span style=\"color: #008080; text-decoration-color: #008080; font-weight: bold\">0.06516291</span>,  <span style=\"color: #008080; text-decoration-color: #008080; font-weight: bold\">0.07518797</span>,  <span style=\"color: #008080; text-decoration-color: #008080; font-weight: bold\">0.08521303</span>,  <span style=\"color: #008080; text-decoration-color: #008080; font-weight: bold\">0.0952381</span> ,\n",
       "        <span style=\"color: #008080; text-decoration-color: #008080; font-weight: bold\">0.10526316</span>,  <span style=\"color: #008080; text-decoration-color: #008080; font-weight: bold\">0.11528822</span>,  <span style=\"color: #008080; text-decoration-color: #008080; font-weight: bold\">0.12531328</span>,  <span style=\"color: #008080; text-decoration-color: #008080; font-weight: bold\">0.13533835</span>,  <span style=\"color: #008080; text-decoration-color: #008080; font-weight: bold\">0.14536341</span>,\n",
       "        <span style=\"color: #008080; text-decoration-color: #008080; font-weight: bold\">0.15538847</span>,  <span style=\"color: #008080; text-decoration-color: #008080; font-weight: bold\">0.16541353</span>,  <span style=\"color: #008080; text-decoration-color: #008080; font-weight: bold\">0.1754386</span> ,  <span style=\"color: #008080; text-decoration-color: #008080; font-weight: bold\">0.18546366</span>,  <span style=\"color: #008080; text-decoration-color: #008080; font-weight: bold\">0.19548872</span>,\n",
       "        <span style=\"color: #008080; text-decoration-color: #008080; font-weight: bold\">0.20551378</span>,  <span style=\"color: #008080; text-decoration-color: #008080; font-weight: bold\">0.21553885</span>,  <span style=\"color: #008080; text-decoration-color: #008080; font-weight: bold\">0.22556391</span>,  <span style=\"color: #008080; text-decoration-color: #008080; font-weight: bold\">0.23558897</span>,  <span style=\"color: #008080; text-decoration-color: #008080; font-weight: bold\">0.24561404</span>,\n",
       "        <span style=\"color: #008080; text-decoration-color: #008080; font-weight: bold\">0.2556391</span> ,  <span style=\"color: #008080; text-decoration-color: #008080; font-weight: bold\">0.26566416</span>,  <span style=\"color: #008080; text-decoration-color: #008080; font-weight: bold\">0.27568922</span>,  <span style=\"color: #008080; text-decoration-color: #008080; font-weight: bold\">0.28571429</span>,  <span style=\"color: #008080; text-decoration-color: #008080; font-weight: bold\">0.29573935</span>,\n",
       "        <span style=\"color: #008080; text-decoration-color: #008080; font-weight: bold\">0.30576441</span>,  <span style=\"color: #008080; text-decoration-color: #008080; font-weight: bold\">0.31578947</span>,  <span style=\"color: #008080; text-decoration-color: #008080; font-weight: bold\">0.32581454</span>,  <span style=\"color: #008080; text-decoration-color: #008080; font-weight: bold\">0.3358396</span> ,  <span style=\"color: #008080; text-decoration-color: #008080; font-weight: bold\">0.34586466</span>,\n",
       "        <span style=\"color: #008080; text-decoration-color: #008080; font-weight: bold\">0.35588972</span>,  <span style=\"color: #008080; text-decoration-color: #008080; font-weight: bold\">0.36591479</span>,  <span style=\"color: #008080; text-decoration-color: #008080; font-weight: bold\">0.37593985</span>,  <span style=\"color: #008080; text-decoration-color: #008080; font-weight: bold\">0.38596491</span>,  <span style=\"color: #008080; text-decoration-color: #008080; font-weight: bold\">0.39598997</span>,\n",
       "        <span style=\"color: #008080; text-decoration-color: #008080; font-weight: bold\">0.40601504</span>,  <span style=\"color: #008080; text-decoration-color: #008080; font-weight: bold\">0.4160401</span> ,  <span style=\"color: #008080; text-decoration-color: #008080; font-weight: bold\">0.42606516</span>,  <span style=\"color: #008080; text-decoration-color: #008080; font-weight: bold\">0.43609023</span>,  <span style=\"color: #008080; text-decoration-color: #008080; font-weight: bold\">0.44611529</span>,\n",
       "        <span style=\"color: #008080; text-decoration-color: #008080; font-weight: bold\">0.45614035</span>,  <span style=\"color: #008080; text-decoration-color: #008080; font-weight: bold\">0.46616541</span>,  <span style=\"color: #008080; text-decoration-color: #008080; font-weight: bold\">0.47619048</span>,  <span style=\"color: #008080; text-decoration-color: #008080; font-weight: bold\">0.48621554</span>,  <span style=\"color: #008080; text-decoration-color: #008080; font-weight: bold\">0.4962406</span> ,\n",
       "        <span style=\"color: #008080; text-decoration-color: #008080; font-weight: bold\">0.50626566</span>,  <span style=\"color: #008080; text-decoration-color: #008080; font-weight: bold\">0.51629073</span>,  <span style=\"color: #008080; text-decoration-color: #008080; font-weight: bold\">0.52631579</span>,  <span style=\"color: #008080; text-decoration-color: #008080; font-weight: bold\">0.53634085</span>,  <span style=\"color: #008080; text-decoration-color: #008080; font-weight: bold\">0.54636591</span>,\n",
       "        <span style=\"color: #008080; text-decoration-color: #008080; font-weight: bold\">0.55639098</span>,  <span style=\"color: #008080; text-decoration-color: #008080; font-weight: bold\">0.56641604</span>,  <span style=\"color: #008080; text-decoration-color: #008080; font-weight: bold\">0.5764411</span> ,  <span style=\"color: #008080; text-decoration-color: #008080; font-weight: bold\">0.58646617</span>,  <span style=\"color: #008080; text-decoration-color: #008080; font-weight: bold\">0.59649123</span>,\n",
       "        <span style=\"color: #008080; text-decoration-color: #008080; font-weight: bold\">0.60651629</span>,  <span style=\"color: #008080; text-decoration-color: #008080; font-weight: bold\">0.61654135</span>,  <span style=\"color: #008080; text-decoration-color: #008080; font-weight: bold\">0.62656642</span>,  <span style=\"color: #008080; text-decoration-color: #008080; font-weight: bold\">0.63659148</span>,  <span style=\"color: #008080; text-decoration-color: #008080; font-weight: bold\">0.64661654</span>,\n",
       "        <span style=\"color: #008080; text-decoration-color: #008080; font-weight: bold\">0.6566416</span> ,  <span style=\"color: #008080; text-decoration-color: #008080; font-weight: bold\">0.66666667</span>,  <span style=\"color: #008080; text-decoration-color: #008080; font-weight: bold\">0.67669173</span>,  <span style=\"color: #008080; text-decoration-color: #008080; font-weight: bold\">0.68671679</span>,  <span style=\"color: #008080; text-decoration-color: #008080; font-weight: bold\">0.69674185</span>,\n",
       "        <span style=\"color: #008080; text-decoration-color: #008080; font-weight: bold\">0.70676692</span>,  <span style=\"color: #008080; text-decoration-color: #008080; font-weight: bold\">0.71679198</span>,  <span style=\"color: #008080; text-decoration-color: #008080; font-weight: bold\">0.72681704</span>,  <span style=\"color: #008080; text-decoration-color: #008080; font-weight: bold\">0.73684211</span>,  <span style=\"color: #008080; text-decoration-color: #008080; font-weight: bold\">0.74686717</span>,\n",
       "        <span style=\"color: #008080; text-decoration-color: #008080; font-weight: bold\">0.75689223</span>,  <span style=\"color: #008080; text-decoration-color: #008080; font-weight: bold\">0.76691729</span>,  <span style=\"color: #008080; text-decoration-color: #008080; font-weight: bold\">0.77694236</span>,  <span style=\"color: #008080; text-decoration-color: #008080; font-weight: bold\">0.78696742</span>,  <span style=\"color: #008080; text-decoration-color: #008080; font-weight: bold\">0.79699248</span>,\n",
       "        <span style=\"color: #008080; text-decoration-color: #008080; font-weight: bold\">0.80701754</span>,  <span style=\"color: #008080; text-decoration-color: #008080; font-weight: bold\">0.81704261</span>,  <span style=\"color: #008080; text-decoration-color: #008080; font-weight: bold\">0.82706767</span>,  <span style=\"color: #008080; text-decoration-color: #008080; font-weight: bold\">0.83709273</span>,  <span style=\"color: #008080; text-decoration-color: #008080; font-weight: bold\">0.84711779</span>,\n",
       "        <span style=\"color: #008080; text-decoration-color: #008080; font-weight: bold\">0.85714286</span>,  <span style=\"color: #008080; text-decoration-color: #008080; font-weight: bold\">0.86716792</span>,  <span style=\"color: #008080; text-decoration-color: #008080; font-weight: bold\">0.87719298</span>,  <span style=\"color: #008080; text-decoration-color: #008080; font-weight: bold\">0.88721805</span>,  <span style=\"color: #008080; text-decoration-color: #008080; font-weight: bold\">0.89724311</span>,\n",
       "        <span style=\"color: #008080; text-decoration-color: #008080; font-weight: bold\">0.90726817</span>,  <span style=\"color: #008080; text-decoration-color: #008080; font-weight: bold\">0.91729323</span>,  <span style=\"color: #008080; text-decoration-color: #008080; font-weight: bold\">0.9273183</span> ,  <span style=\"color: #008080; text-decoration-color: #008080; font-weight: bold\">0.93734336</span>,  <span style=\"color: #008080; text-decoration-color: #008080; font-weight: bold\">0.94736842</span>,\n",
       "        <span style=\"color: #008080; text-decoration-color: #008080; font-weight: bold\">0.95739348</span>,  <span style=\"color: #008080; text-decoration-color: #008080; font-weight: bold\">0.96741855</span>,  <span style=\"color: #008080; text-decoration-color: #008080; font-weight: bold\">0.97744361</span>,  <span style=\"color: #008080; text-decoration-color: #008080; font-weight: bold\">0.98746867</span>,  <span style=\"color: #008080; text-decoration-color: #008080; font-weight: bold\">0.99749373</span>,\n",
       "        <span style=\"color: #008080; text-decoration-color: #008080; font-weight: bold\">1.0075188</span> ,  <span style=\"color: #008080; text-decoration-color: #008080; font-weight: bold\">1.01754386</span>,  <span style=\"color: #008080; text-decoration-color: #008080; font-weight: bold\">1.02756892</span>,  <span style=\"color: #008080; text-decoration-color: #008080; font-weight: bold\">1.03759398</span>,  <span style=\"color: #008080; text-decoration-color: #008080; font-weight: bold\">1.04761905</span>,\n",
       "        <span style=\"color: #008080; text-decoration-color: #008080; font-weight: bold\">1.05764411</span>,  <span style=\"color: #008080; text-decoration-color: #008080; font-weight: bold\">1.06766917</span>,  <span style=\"color: #008080; text-decoration-color: #008080; font-weight: bold\">1.07769424</span>,  <span style=\"color: #008080; text-decoration-color: #008080; font-weight: bold\">1.0877193</span> ,  <span style=\"color: #008080; text-decoration-color: #008080; font-weight: bold\">1.09774436</span>,\n",
       "        <span style=\"color: #008080; text-decoration-color: #008080; font-weight: bold\">1.10776942</span>,  <span style=\"color: #008080; text-decoration-color: #008080; font-weight: bold\">1.11779449</span>,  <span style=\"color: #008080; text-decoration-color: #008080; font-weight: bold\">1.12781955</span>,  <span style=\"color: #008080; text-decoration-color: #008080; font-weight: bold\">1.13784461</span>,  <span style=\"color: #008080; text-decoration-color: #008080; font-weight: bold\">1.14786967</span>,\n",
       "        <span style=\"color: #008080; text-decoration-color: #008080; font-weight: bold\">1.15789474</span>,  <span style=\"color: #008080; text-decoration-color: #008080; font-weight: bold\">1.1679198</span> ,  <span style=\"color: #008080; text-decoration-color: #008080; font-weight: bold\">1.17794486</span>,  <span style=\"color: #008080; text-decoration-color: #008080; font-weight: bold\">1.18796992</span>,  <span style=\"color: #008080; text-decoration-color: #008080; font-weight: bold\">1.19799499</span>,\n",
       "        <span style=\"color: #008080; text-decoration-color: #008080; font-weight: bold\">1.20802005</span>,  <span style=\"color: #008080; text-decoration-color: #008080; font-weight: bold\">1.21804511</span>,  <span style=\"color: #008080; text-decoration-color: #008080; font-weight: bold\">1.22807018</span>,  <span style=\"color: #008080; text-decoration-color: #008080; font-weight: bold\">1.23809524</span>,  <span style=\"color: #008080; text-decoration-color: #008080; font-weight: bold\">1.2481203</span> ,\n",
       "        <span style=\"color: #008080; text-decoration-color: #008080; font-weight: bold\">1.25814536</span>,  <span style=\"color: #008080; text-decoration-color: #008080; font-weight: bold\">1.26817043</span>,  <span style=\"color: #008080; text-decoration-color: #008080; font-weight: bold\">1.27819549</span>,  <span style=\"color: #008080; text-decoration-color: #008080; font-weight: bold\">1.28822055</span>,  <span style=\"color: #008080; text-decoration-color: #008080; font-weight: bold\">1.29824561</span>,\n",
       "        <span style=\"color: #008080; text-decoration-color: #008080; font-weight: bold\">1.30827068</span>,  <span style=\"color: #008080; text-decoration-color: #008080; font-weight: bold\">1.31829574</span>,  <span style=\"color: #008080; text-decoration-color: #008080; font-weight: bold\">1.3283208</span> ,  <span style=\"color: #008080; text-decoration-color: #008080; font-weight: bold\">1.33834586</span>,  <span style=\"color: #008080; text-decoration-color: #008080; font-weight: bold\">1.34837093</span>,\n",
       "        <span style=\"color: #008080; text-decoration-color: #008080; font-weight: bold\">1.35839599</span>,  <span style=\"color: #008080; text-decoration-color: #008080; font-weight: bold\">1.36842105</span>,  <span style=\"color: #008080; text-decoration-color: #008080; font-weight: bold\">1.37844612</span>,  <span style=\"color: #008080; text-decoration-color: #008080; font-weight: bold\">1.38847118</span>,  <span style=\"color: #008080; text-decoration-color: #008080; font-weight: bold\">1.39849624</span>,\n",
       "        <span style=\"color: #008080; text-decoration-color: #008080; font-weight: bold\">1.4085213</span> ,  <span style=\"color: #008080; text-decoration-color: #008080; font-weight: bold\">1.41854637</span>,  <span style=\"color: #008080; text-decoration-color: #008080; font-weight: bold\">1.42857143</span>,  <span style=\"color: #008080; text-decoration-color: #008080; font-weight: bold\">1.43859649</span>,  <span style=\"color: #008080; text-decoration-color: #008080; font-weight: bold\">1.44862155</span>,\n",
       "        <span style=\"color: #008080; text-decoration-color: #008080; font-weight: bold\">1.45864662</span>,  <span style=\"color: #008080; text-decoration-color: #008080; font-weight: bold\">1.46867168</span>,  <span style=\"color: #008080; text-decoration-color: #008080; font-weight: bold\">1.47869674</span>,  <span style=\"color: #008080; text-decoration-color: #008080; font-weight: bold\">1.4887218</span> ,  <span style=\"color: #008080; text-decoration-color: #008080; font-weight: bold\">1.49874687</span>,\n",
       "        <span style=\"color: #008080; text-decoration-color: #008080; font-weight: bold\">1.50877193</span>,  <span style=\"color: #008080; text-decoration-color: #008080; font-weight: bold\">1.51879699</span>,  <span style=\"color: #008080; text-decoration-color: #008080; font-weight: bold\">1.52882206</span>,  <span style=\"color: #008080; text-decoration-color: #008080; font-weight: bold\">1.53884712</span>,  <span style=\"color: #008080; text-decoration-color: #008080; font-weight: bold\">1.54887218</span>,\n",
       "        <span style=\"color: #008080; text-decoration-color: #008080; font-weight: bold\">1.55889724</span>,  <span style=\"color: #008080; text-decoration-color: #008080; font-weight: bold\">1.56892231</span>,  <span style=\"color: #008080; text-decoration-color: #008080; font-weight: bold\">1.57894737</span>,  <span style=\"color: #008080; text-decoration-color: #008080; font-weight: bold\">1.58897243</span>,  <span style=\"color: #008080; text-decoration-color: #008080; font-weight: bold\">1.59899749</span>,\n",
       "        <span style=\"color: #008080; text-decoration-color: #008080; font-weight: bold\">1.60902256</span>,  <span style=\"color: #008080; text-decoration-color: #008080; font-weight: bold\">1.61904762</span>,  <span style=\"color: #008080; text-decoration-color: #008080; font-weight: bold\">1.62907268</span>,  <span style=\"color: #008080; text-decoration-color: #008080; font-weight: bold\">1.63909774</span>,  <span style=\"color: #008080; text-decoration-color: #008080; font-weight: bold\">1.64912281</span>,\n",
       "        <span style=\"color: #008080; text-decoration-color: #008080; font-weight: bold\">1.65914787</span>,  <span style=\"color: #008080; text-decoration-color: #008080; font-weight: bold\">1.66917293</span>,  <span style=\"color: #008080; text-decoration-color: #008080; font-weight: bold\">1.67919799</span>,  <span style=\"color: #008080; text-decoration-color: #008080; font-weight: bold\">1.68922306</span>,  <span style=\"color: #008080; text-decoration-color: #008080; font-weight: bold\">1.69924812</span>,\n",
       "        <span style=\"color: #008080; text-decoration-color: #008080; font-weight: bold\">1.70927318</span>,  <span style=\"color: #008080; text-decoration-color: #008080; font-weight: bold\">1.71929825</span>,  <span style=\"color: #008080; text-decoration-color: #008080; font-weight: bold\">1.72932331</span>,  <span style=\"color: #008080; text-decoration-color: #008080; font-weight: bold\">1.73934837</span>,  <span style=\"color: #008080; text-decoration-color: #008080; font-weight: bold\">1.74937343</span>,\n",
       "        <span style=\"color: #008080; text-decoration-color: #008080; font-weight: bold\">1.7593985</span> ,  <span style=\"color: #008080; text-decoration-color: #008080; font-weight: bold\">1.76942356</span>,  <span style=\"color: #008080; text-decoration-color: #008080; font-weight: bold\">1.77944862</span>,  <span style=\"color: #008080; text-decoration-color: #008080; font-weight: bold\">1.78947368</span>,  <span style=\"color: #008080; text-decoration-color: #008080; font-weight: bold\">1.79949875</span>,\n",
       "        <span style=\"color: #008080; text-decoration-color: #008080; font-weight: bold\">1.80952381</span>,  <span style=\"color: #008080; text-decoration-color: #008080; font-weight: bold\">1.81954887</span>,  <span style=\"color: #008080; text-decoration-color: #008080; font-weight: bold\">1.82957393</span>,  <span style=\"color: #008080; text-decoration-color: #008080; font-weight: bold\">1.839599</span>  ,  <span style=\"color: #008080; text-decoration-color: #008080; font-weight: bold\">1.84962406</span>,\n",
       "        <span style=\"color: #008080; text-decoration-color: #008080; font-weight: bold\">1.85964912</span>,  <span style=\"color: #008080; text-decoration-color: #008080; font-weight: bold\">1.86967419</span>,  <span style=\"color: #008080; text-decoration-color: #008080; font-weight: bold\">1.87969925</span>,  <span style=\"color: #008080; text-decoration-color: #008080; font-weight: bold\">1.88972431</span>,  <span style=\"color: #008080; text-decoration-color: #008080; font-weight: bold\">1.89974937</span>,\n",
       "        <span style=\"color: #008080; text-decoration-color: #008080; font-weight: bold\">1.90977444</span>,  <span style=\"color: #008080; text-decoration-color: #008080; font-weight: bold\">1.9197995</span> ,  <span style=\"color: #008080; text-decoration-color: #008080; font-weight: bold\">1.92982456</span>,  <span style=\"color: #008080; text-decoration-color: #008080; font-weight: bold\">1.93984962</span>,  <span style=\"color: #008080; text-decoration-color: #008080; font-weight: bold\">1.94987469</span>,\n",
       "        <span style=\"color: #008080; text-decoration-color: #008080; font-weight: bold\">1.95989975</span>,  <span style=\"color: #008080; text-decoration-color: #008080; font-weight: bold\">1.96992481</span>,  <span style=\"color: #008080; text-decoration-color: #008080; font-weight: bold\">1.97994987</span>,  <span style=\"color: #008080; text-decoration-color: #008080; font-weight: bold\">1.98997494</span>,  <span style=\"color: #008080; text-decoration-color: #008080; font-weight: bold\">2</span>.        <span style=\"font-weight: bold\">])</span>, <span style=\"color: #800080; text-decoration-color: #800080; font-weight: bold\">array</span><span style=\"font-weight: bold\">([</span><span style=\"color: #008080; text-decoration-color: #008080; font-weight: bold\">-2</span>.        , <span style=\"color: #008080; text-decoration-color: #008080; font-weight: bold\">-1.98997494</span>, <span style=\"color: #008080; text-decoration-color: #008080; font-weight: bold\">-1.97994987</span>, <span style=\"color: #008080; text-decoration-color: #008080; font-weight: bold\">-1.96992481</span>, <span style=\"color: #008080; text-decoration-color: #008080; font-weight: bold\">-1.95989975</span>,\n",
       "       <span style=\"color: #008080; text-decoration-color: #008080; font-weight: bold\">-1.94987469</span>, <span style=\"color: #008080; text-decoration-color: #008080; font-weight: bold\">-1.93984962</span>, <span style=\"color: #008080; text-decoration-color: #008080; font-weight: bold\">-1.92982456</span>, <span style=\"color: #008080; text-decoration-color: #008080; font-weight: bold\">-1.9197995</span> , <span style=\"color: #008080; text-decoration-color: #008080; font-weight: bold\">-1.90977444</span>,\n",
       "       <span style=\"color: #008080; text-decoration-color: #008080; font-weight: bold\">-1.89974937</span>, <span style=\"color: #008080; text-decoration-color: #008080; font-weight: bold\">-1.88972431</span>, <span style=\"color: #008080; text-decoration-color: #008080; font-weight: bold\">-1.87969925</span>, <span style=\"color: #008080; text-decoration-color: #008080; font-weight: bold\">-1.86967419</span>, <span style=\"color: #008080; text-decoration-color: #008080; font-weight: bold\">-1.85964912</span>,\n",
       "       <span style=\"color: #008080; text-decoration-color: #008080; font-weight: bold\">-1.84962406</span>, <span style=\"color: #008080; text-decoration-color: #008080; font-weight: bold\">-1.839599</span>  , <span style=\"color: #008080; text-decoration-color: #008080; font-weight: bold\">-1.82957393</span>, <span style=\"color: #008080; text-decoration-color: #008080; font-weight: bold\">-1.81954887</span>, <span style=\"color: #008080; text-decoration-color: #008080; font-weight: bold\">-1.80952381</span>,\n",
       "       <span style=\"color: #008080; text-decoration-color: #008080; font-weight: bold\">-1.79949875</span>, <span style=\"color: #008080; text-decoration-color: #008080; font-weight: bold\">-1.78947368</span>, <span style=\"color: #008080; text-decoration-color: #008080; font-weight: bold\">-1.77944862</span>, <span style=\"color: #008080; text-decoration-color: #008080; font-weight: bold\">-1.76942356</span>, <span style=\"color: #008080; text-decoration-color: #008080; font-weight: bold\">-1.7593985</span> ,\n",
       "       <span style=\"color: #008080; text-decoration-color: #008080; font-weight: bold\">-1.74937343</span>, <span style=\"color: #008080; text-decoration-color: #008080; font-weight: bold\">-1.73934837</span>, <span style=\"color: #008080; text-decoration-color: #008080; font-weight: bold\">-1.72932331</span>, <span style=\"color: #008080; text-decoration-color: #008080; font-weight: bold\">-1.71929825</span>, <span style=\"color: #008080; text-decoration-color: #008080; font-weight: bold\">-1.70927318</span>,\n",
       "       <span style=\"color: #008080; text-decoration-color: #008080; font-weight: bold\">-1.69924812</span>, <span style=\"color: #008080; text-decoration-color: #008080; font-weight: bold\">-1.68922306</span>, <span style=\"color: #008080; text-decoration-color: #008080; font-weight: bold\">-1.67919799</span>, <span style=\"color: #008080; text-decoration-color: #008080; font-weight: bold\">-1.66917293</span>, <span style=\"color: #008080; text-decoration-color: #008080; font-weight: bold\">-1.65914787</span>,\n",
       "       <span style=\"color: #008080; text-decoration-color: #008080; font-weight: bold\">-1.64912281</span>, <span style=\"color: #008080; text-decoration-color: #008080; font-weight: bold\">-1.63909774</span>, <span style=\"color: #008080; text-decoration-color: #008080; font-weight: bold\">-1.62907268</span>, <span style=\"color: #008080; text-decoration-color: #008080; font-weight: bold\">-1.61904762</span>, <span style=\"color: #008080; text-decoration-color: #008080; font-weight: bold\">-1.60902256</span>,\n",
       "       <span style=\"color: #008080; text-decoration-color: #008080; font-weight: bold\">-1.59899749</span>, <span style=\"color: #008080; text-decoration-color: #008080; font-weight: bold\">-1.58897243</span>, <span style=\"color: #008080; text-decoration-color: #008080; font-weight: bold\">-1.57894737</span>, <span style=\"color: #008080; text-decoration-color: #008080; font-weight: bold\">-1.56892231</span>, <span style=\"color: #008080; text-decoration-color: #008080; font-weight: bold\">-1.55889724</span>,\n",
       "       <span style=\"color: #008080; text-decoration-color: #008080; font-weight: bold\">-1.54887218</span>, <span style=\"color: #008080; text-decoration-color: #008080; font-weight: bold\">-1.53884712</span>, <span style=\"color: #008080; text-decoration-color: #008080; font-weight: bold\">-1.52882206</span>, <span style=\"color: #008080; text-decoration-color: #008080; font-weight: bold\">-1.51879699</span>, <span style=\"color: #008080; text-decoration-color: #008080; font-weight: bold\">-1.50877193</span>,\n",
       "       <span style=\"color: #008080; text-decoration-color: #008080; font-weight: bold\">-1.49874687</span>, <span style=\"color: #008080; text-decoration-color: #008080; font-weight: bold\">-1.4887218</span> , <span style=\"color: #008080; text-decoration-color: #008080; font-weight: bold\">-1.47869674</span>, <span style=\"color: #008080; text-decoration-color: #008080; font-weight: bold\">-1.46867168</span>, <span style=\"color: #008080; text-decoration-color: #008080; font-weight: bold\">-1.45864662</span>,\n",
       "       <span style=\"color: #008080; text-decoration-color: #008080; font-weight: bold\">-1.44862155</span>, <span style=\"color: #008080; text-decoration-color: #008080; font-weight: bold\">-1.43859649</span>, <span style=\"color: #008080; text-decoration-color: #008080; font-weight: bold\">-1.42857143</span>, <span style=\"color: #008080; text-decoration-color: #008080; font-weight: bold\">-1.41854637</span>, <span style=\"color: #008080; text-decoration-color: #008080; font-weight: bold\">-1.4085213</span> ,\n",
       "       <span style=\"color: #008080; text-decoration-color: #008080; font-weight: bold\">-1.39849624</span>, <span style=\"color: #008080; text-decoration-color: #008080; font-weight: bold\">-1.38847118</span>, <span style=\"color: #008080; text-decoration-color: #008080; font-weight: bold\">-1.37844612</span>, <span style=\"color: #008080; text-decoration-color: #008080; font-weight: bold\">-1.36842105</span>, <span style=\"color: #008080; text-decoration-color: #008080; font-weight: bold\">-1.35839599</span>,\n",
       "       <span style=\"color: #008080; text-decoration-color: #008080; font-weight: bold\">-1.34837093</span>, <span style=\"color: #008080; text-decoration-color: #008080; font-weight: bold\">-1.33834586</span>, <span style=\"color: #008080; text-decoration-color: #008080; font-weight: bold\">-1.3283208</span> , <span style=\"color: #008080; text-decoration-color: #008080; font-weight: bold\">-1.31829574</span>, <span style=\"color: #008080; text-decoration-color: #008080; font-weight: bold\">-1.30827068</span>,\n",
       "       <span style=\"color: #008080; text-decoration-color: #008080; font-weight: bold\">-1.29824561</span>, <span style=\"color: #008080; text-decoration-color: #008080; font-weight: bold\">-1.28822055</span>, <span style=\"color: #008080; text-decoration-color: #008080; font-weight: bold\">-1.27819549</span>, <span style=\"color: #008080; text-decoration-color: #008080; font-weight: bold\">-1.26817043</span>, <span style=\"color: #008080; text-decoration-color: #008080; font-weight: bold\">-1.25814536</span>,\n",
       "       <span style=\"color: #008080; text-decoration-color: #008080; font-weight: bold\">-1.2481203</span> , <span style=\"color: #008080; text-decoration-color: #008080; font-weight: bold\">-1.23809524</span>, <span style=\"color: #008080; text-decoration-color: #008080; font-weight: bold\">-1.22807018</span>, <span style=\"color: #008080; text-decoration-color: #008080; font-weight: bold\">-1.21804511</span>, <span style=\"color: #008080; text-decoration-color: #008080; font-weight: bold\">-1.20802005</span>,\n",
       "       <span style=\"color: #008080; text-decoration-color: #008080; font-weight: bold\">-1.19799499</span>, <span style=\"color: #008080; text-decoration-color: #008080; font-weight: bold\">-1.18796992</span>, <span style=\"color: #008080; text-decoration-color: #008080; font-weight: bold\">-1.17794486</span>, <span style=\"color: #008080; text-decoration-color: #008080; font-weight: bold\">-1.1679198</span> , <span style=\"color: #008080; text-decoration-color: #008080; font-weight: bold\">-1.15789474</span>,\n",
       "       <span style=\"color: #008080; text-decoration-color: #008080; font-weight: bold\">-1.14786967</span>, <span style=\"color: #008080; text-decoration-color: #008080; font-weight: bold\">-1.13784461</span>, <span style=\"color: #008080; text-decoration-color: #008080; font-weight: bold\">-1.12781955</span>, <span style=\"color: #008080; text-decoration-color: #008080; font-weight: bold\">-1.11779449</span>, <span style=\"color: #008080; text-decoration-color: #008080; font-weight: bold\">-1.10776942</span>,\n",
       "       <span style=\"color: #008080; text-decoration-color: #008080; font-weight: bold\">-1.09774436</span>, <span style=\"color: #008080; text-decoration-color: #008080; font-weight: bold\">-1.0877193</span> , <span style=\"color: #008080; text-decoration-color: #008080; font-weight: bold\">-1.07769424</span>, <span style=\"color: #008080; text-decoration-color: #008080; font-weight: bold\">-1.06766917</span>, <span style=\"color: #008080; text-decoration-color: #008080; font-weight: bold\">-1.05764411</span>,\n",
       "       <span style=\"color: #008080; text-decoration-color: #008080; font-weight: bold\">-1.04761905</span>, <span style=\"color: #008080; text-decoration-color: #008080; font-weight: bold\">-1.03759398</span>, <span style=\"color: #008080; text-decoration-color: #008080; font-weight: bold\">-1.02756892</span>, <span style=\"color: #008080; text-decoration-color: #008080; font-weight: bold\">-1.01754386</span>, <span style=\"color: #008080; text-decoration-color: #008080; font-weight: bold\">-1.0075188</span> ,\n",
       "       <span style=\"color: #008080; text-decoration-color: #008080; font-weight: bold\">-0.99749373</span>, <span style=\"color: #008080; text-decoration-color: #008080; font-weight: bold\">-0.98746867</span>, <span style=\"color: #008080; text-decoration-color: #008080; font-weight: bold\">-0.97744361</span>, <span style=\"color: #008080; text-decoration-color: #008080; font-weight: bold\">-0.96741855</span>, <span style=\"color: #008080; text-decoration-color: #008080; font-weight: bold\">-0.95739348</span>,\n",
       "       <span style=\"color: #008080; text-decoration-color: #008080; font-weight: bold\">-0.94736842</span>, <span style=\"color: #008080; text-decoration-color: #008080; font-weight: bold\">-0.93734336</span>, <span style=\"color: #008080; text-decoration-color: #008080; font-weight: bold\">-0.9273183</span> , <span style=\"color: #008080; text-decoration-color: #008080; font-weight: bold\">-0.91729323</span>, <span style=\"color: #008080; text-decoration-color: #008080; font-weight: bold\">-0.90726817</span>,\n",
       "       <span style=\"color: #008080; text-decoration-color: #008080; font-weight: bold\">-0.89724311</span>, <span style=\"color: #008080; text-decoration-color: #008080; font-weight: bold\">-0.88721805</span>, <span style=\"color: #008080; text-decoration-color: #008080; font-weight: bold\">-0.87719298</span>, <span style=\"color: #008080; text-decoration-color: #008080; font-weight: bold\">-0.86716792</span>, <span style=\"color: #008080; text-decoration-color: #008080; font-weight: bold\">-0.85714286</span>,\n",
       "       <span style=\"color: #008080; text-decoration-color: #008080; font-weight: bold\">-0.84711779</span>, <span style=\"color: #008080; text-decoration-color: #008080; font-weight: bold\">-0.83709273</span>, <span style=\"color: #008080; text-decoration-color: #008080; font-weight: bold\">-0.82706767</span>, <span style=\"color: #008080; text-decoration-color: #008080; font-weight: bold\">-0.81704261</span>, <span style=\"color: #008080; text-decoration-color: #008080; font-weight: bold\">-0.80701754</span>,\n",
       "       <span style=\"color: #008080; text-decoration-color: #008080; font-weight: bold\">-0.79699248</span>, <span style=\"color: #008080; text-decoration-color: #008080; font-weight: bold\">-0.78696742</span>, <span style=\"color: #008080; text-decoration-color: #008080; font-weight: bold\">-0.77694236</span>, <span style=\"color: #008080; text-decoration-color: #008080; font-weight: bold\">-0.76691729</span>, <span style=\"color: #008080; text-decoration-color: #008080; font-weight: bold\">-0.75689223</span>,\n",
       "       <span style=\"color: #008080; text-decoration-color: #008080; font-weight: bold\">-0.74686717</span>, <span style=\"color: #008080; text-decoration-color: #008080; font-weight: bold\">-0.73684211</span>, <span style=\"color: #008080; text-decoration-color: #008080; font-weight: bold\">-0.72681704</span>, <span style=\"color: #008080; text-decoration-color: #008080; font-weight: bold\">-0.71679198</span>, <span style=\"color: #008080; text-decoration-color: #008080; font-weight: bold\">-0.70676692</span>,\n",
       "       <span style=\"color: #008080; text-decoration-color: #008080; font-weight: bold\">-0.69674185</span>, <span style=\"color: #008080; text-decoration-color: #008080; font-weight: bold\">-0.68671679</span>, <span style=\"color: #008080; text-decoration-color: #008080; font-weight: bold\">-0.67669173</span>, <span style=\"color: #008080; text-decoration-color: #008080; font-weight: bold\">-0.66666667</span>, <span style=\"color: #008080; text-decoration-color: #008080; font-weight: bold\">-0.6566416</span> ,\n",
       "       <span style=\"color: #008080; text-decoration-color: #008080; font-weight: bold\">-0.64661654</span>, <span style=\"color: #008080; text-decoration-color: #008080; font-weight: bold\">-0.63659148</span>, <span style=\"color: #008080; text-decoration-color: #008080; font-weight: bold\">-0.62656642</span>, <span style=\"color: #008080; text-decoration-color: #008080; font-weight: bold\">-0.61654135</span>, <span style=\"color: #008080; text-decoration-color: #008080; font-weight: bold\">-0.60651629</span>,\n",
       "       <span style=\"color: #008080; text-decoration-color: #008080; font-weight: bold\">-0.59649123</span>, <span style=\"color: #008080; text-decoration-color: #008080; font-weight: bold\">-0.58646617</span>, <span style=\"color: #008080; text-decoration-color: #008080; font-weight: bold\">-0.5764411</span> , <span style=\"color: #008080; text-decoration-color: #008080; font-weight: bold\">-0.56641604</span>, <span style=\"color: #008080; text-decoration-color: #008080; font-weight: bold\">-0.55639098</span>,\n",
       "       <span style=\"color: #008080; text-decoration-color: #008080; font-weight: bold\">-0.54636591</span>, <span style=\"color: #008080; text-decoration-color: #008080; font-weight: bold\">-0.53634085</span>, <span style=\"color: #008080; text-decoration-color: #008080; font-weight: bold\">-0.52631579</span>, <span style=\"color: #008080; text-decoration-color: #008080; font-weight: bold\">-0.51629073</span>, <span style=\"color: #008080; text-decoration-color: #008080; font-weight: bold\">-0.50626566</span>,\n",
       "       <span style=\"color: #008080; text-decoration-color: #008080; font-weight: bold\">-0.4962406</span> , <span style=\"color: #008080; text-decoration-color: #008080; font-weight: bold\">-0.48621554</span>, <span style=\"color: #008080; text-decoration-color: #008080; font-weight: bold\">-0.47619048</span>, <span style=\"color: #008080; text-decoration-color: #008080; font-weight: bold\">-0.46616541</span>, <span style=\"color: #008080; text-decoration-color: #008080; font-weight: bold\">-0.45614035</span>,\n",
       "       <span style=\"color: #008080; text-decoration-color: #008080; font-weight: bold\">-0.44611529</span>, <span style=\"color: #008080; text-decoration-color: #008080; font-weight: bold\">-0.43609023</span>, <span style=\"color: #008080; text-decoration-color: #008080; font-weight: bold\">-0.42606516</span>, <span style=\"color: #008080; text-decoration-color: #008080; font-weight: bold\">-0.4160401</span> , <span style=\"color: #008080; text-decoration-color: #008080; font-weight: bold\">-0.40601504</span>,\n",
       "       <span style=\"color: #008080; text-decoration-color: #008080; font-weight: bold\">-0.39598997</span>, <span style=\"color: #008080; text-decoration-color: #008080; font-weight: bold\">-0.38596491</span>, <span style=\"color: #008080; text-decoration-color: #008080; font-weight: bold\">-0.37593985</span>, <span style=\"color: #008080; text-decoration-color: #008080; font-weight: bold\">-0.36591479</span>, <span style=\"color: #008080; text-decoration-color: #008080; font-weight: bold\">-0.35588972</span>,\n",
       "       <span style=\"color: #008080; text-decoration-color: #008080; font-weight: bold\">-0.34586466</span>, <span style=\"color: #008080; text-decoration-color: #008080; font-weight: bold\">-0.3358396</span> , <span style=\"color: #008080; text-decoration-color: #008080; font-weight: bold\">-0.32581454</span>, <span style=\"color: #008080; text-decoration-color: #008080; font-weight: bold\">-0.31578947</span>, <span style=\"color: #008080; text-decoration-color: #008080; font-weight: bold\">-0.30576441</span>,\n",
       "       <span style=\"color: #008080; text-decoration-color: #008080; font-weight: bold\">-0.29573935</span>, <span style=\"color: #008080; text-decoration-color: #008080; font-weight: bold\">-0.28571429</span>, <span style=\"color: #008080; text-decoration-color: #008080; font-weight: bold\">-0.27568922</span>, <span style=\"color: #008080; text-decoration-color: #008080; font-weight: bold\">-0.26566416</span>, <span style=\"color: #008080; text-decoration-color: #008080; font-weight: bold\">-0.2556391</span> ,\n",
       "       <span style=\"color: #008080; text-decoration-color: #008080; font-weight: bold\">-0.24561404</span>, <span style=\"color: #008080; text-decoration-color: #008080; font-weight: bold\">-0.23558897</span>, <span style=\"color: #008080; text-decoration-color: #008080; font-weight: bold\">-0.22556391</span>, <span style=\"color: #008080; text-decoration-color: #008080; font-weight: bold\">-0.21553885</span>, <span style=\"color: #008080; text-decoration-color: #008080; font-weight: bold\">-0.20551378</span>,\n",
       "       <span style=\"color: #008080; text-decoration-color: #008080; font-weight: bold\">-0.19548872</span>, <span style=\"color: #008080; text-decoration-color: #008080; font-weight: bold\">-0.18546366</span>, <span style=\"color: #008080; text-decoration-color: #008080; font-weight: bold\">-0.1754386</span> , <span style=\"color: #008080; text-decoration-color: #008080; font-weight: bold\">-0.16541353</span>, <span style=\"color: #008080; text-decoration-color: #008080; font-weight: bold\">-0.15538847</span>,\n",
       "       <span style=\"color: #008080; text-decoration-color: #008080; font-weight: bold\">-0.14536341</span>, <span style=\"color: #008080; text-decoration-color: #008080; font-weight: bold\">-0.13533835</span>, <span style=\"color: #008080; text-decoration-color: #008080; font-weight: bold\">-0.12531328</span>, <span style=\"color: #008080; text-decoration-color: #008080; font-weight: bold\">-0.11528822</span>, <span style=\"color: #008080; text-decoration-color: #008080; font-weight: bold\">-0.10526316</span>,\n",
       "       <span style=\"color: #008080; text-decoration-color: #008080; font-weight: bold\">-0.0952381</span> , <span style=\"color: #008080; text-decoration-color: #008080; font-weight: bold\">-0.08521303</span>, <span style=\"color: #008080; text-decoration-color: #008080; font-weight: bold\">-0.07518797</span>, <span style=\"color: #008080; text-decoration-color: #008080; font-weight: bold\">-0.06516291</span>, <span style=\"color: #008080; text-decoration-color: #008080; font-weight: bold\">-0.05513784</span>,\n",
       "       <span style=\"color: #008080; text-decoration-color: #008080; font-weight: bold\">-0.04511278</span>, <span style=\"color: #008080; text-decoration-color: #008080; font-weight: bold\">-0.03508772</span>, <span style=\"color: #008080; text-decoration-color: #008080; font-weight: bold\">-0.02506266</span>, <span style=\"color: #008080; text-decoration-color: #008080; font-weight: bold\">-0.01503759</span>, <span style=\"color: #008080; text-decoration-color: #008080; font-weight: bold\">-0.00501253</span>,\n",
       "        <span style=\"color: #008080; text-decoration-color: #008080; font-weight: bold\">0.00501253</span>,  <span style=\"color: #008080; text-decoration-color: #008080; font-weight: bold\">0.01503759</span>,  <span style=\"color: #008080; text-decoration-color: #008080; font-weight: bold\">0.02506266</span>,  <span style=\"color: #008080; text-decoration-color: #008080; font-weight: bold\">0.03508772</span>,  <span style=\"color: #008080; text-decoration-color: #008080; font-weight: bold\">0.04511278</span>,\n",
       "        <span style=\"color: #008080; text-decoration-color: #008080; font-weight: bold\">0.05513784</span>,  <span style=\"color: #008080; text-decoration-color: #008080; font-weight: bold\">0.06516291</span>,  <span style=\"color: #008080; text-decoration-color: #008080; font-weight: bold\">0.07518797</span>,  <span style=\"color: #008080; text-decoration-color: #008080; font-weight: bold\">0.08521303</span>,  <span style=\"color: #008080; text-decoration-color: #008080; font-weight: bold\">0.0952381</span> ,\n",
       "        <span style=\"color: #008080; text-decoration-color: #008080; font-weight: bold\">0.10526316</span>,  <span style=\"color: #008080; text-decoration-color: #008080; font-weight: bold\">0.11528822</span>,  <span style=\"color: #008080; text-decoration-color: #008080; font-weight: bold\">0.12531328</span>,  <span style=\"color: #008080; text-decoration-color: #008080; font-weight: bold\">0.13533835</span>,  <span style=\"color: #008080; text-decoration-color: #008080; font-weight: bold\">0.14536341</span>,\n",
       "        <span style=\"color: #008080; text-decoration-color: #008080; font-weight: bold\">0.15538847</span>,  <span style=\"color: #008080; text-decoration-color: #008080; font-weight: bold\">0.16541353</span>,  <span style=\"color: #008080; text-decoration-color: #008080; font-weight: bold\">0.1754386</span> ,  <span style=\"color: #008080; text-decoration-color: #008080; font-weight: bold\">0.18546366</span>,  <span style=\"color: #008080; text-decoration-color: #008080; font-weight: bold\">0.19548872</span>,\n",
       "        <span style=\"color: #008080; text-decoration-color: #008080; font-weight: bold\">0.20551378</span>,  <span style=\"color: #008080; text-decoration-color: #008080; font-weight: bold\">0.21553885</span>,  <span style=\"color: #008080; text-decoration-color: #008080; font-weight: bold\">0.22556391</span>,  <span style=\"color: #008080; text-decoration-color: #008080; font-weight: bold\">0.23558897</span>,  <span style=\"color: #008080; text-decoration-color: #008080; font-weight: bold\">0.24561404</span>,\n",
       "        <span style=\"color: #008080; text-decoration-color: #008080; font-weight: bold\">0.2556391</span> ,  <span style=\"color: #008080; text-decoration-color: #008080; font-weight: bold\">0.26566416</span>,  <span style=\"color: #008080; text-decoration-color: #008080; font-weight: bold\">0.27568922</span>,  <span style=\"color: #008080; text-decoration-color: #008080; font-weight: bold\">0.28571429</span>,  <span style=\"color: #008080; text-decoration-color: #008080; font-weight: bold\">0.29573935</span>,\n",
       "        <span style=\"color: #008080; text-decoration-color: #008080; font-weight: bold\">0.30576441</span>,  <span style=\"color: #008080; text-decoration-color: #008080; font-weight: bold\">0.31578947</span>,  <span style=\"color: #008080; text-decoration-color: #008080; font-weight: bold\">0.32581454</span>,  <span style=\"color: #008080; text-decoration-color: #008080; font-weight: bold\">0.3358396</span> ,  <span style=\"color: #008080; text-decoration-color: #008080; font-weight: bold\">0.34586466</span>,\n",
       "        <span style=\"color: #008080; text-decoration-color: #008080; font-weight: bold\">0.35588972</span>,  <span style=\"color: #008080; text-decoration-color: #008080; font-weight: bold\">0.36591479</span>,  <span style=\"color: #008080; text-decoration-color: #008080; font-weight: bold\">0.37593985</span>,  <span style=\"color: #008080; text-decoration-color: #008080; font-weight: bold\">0.38596491</span>,  <span style=\"color: #008080; text-decoration-color: #008080; font-weight: bold\">0.39598997</span>,\n",
       "        <span style=\"color: #008080; text-decoration-color: #008080; font-weight: bold\">0.40601504</span>,  <span style=\"color: #008080; text-decoration-color: #008080; font-weight: bold\">0.4160401</span> ,  <span style=\"color: #008080; text-decoration-color: #008080; font-weight: bold\">0.42606516</span>,  <span style=\"color: #008080; text-decoration-color: #008080; font-weight: bold\">0.43609023</span>,  <span style=\"color: #008080; text-decoration-color: #008080; font-weight: bold\">0.44611529</span>,\n",
       "        <span style=\"color: #008080; text-decoration-color: #008080; font-weight: bold\">0.45614035</span>,  <span style=\"color: #008080; text-decoration-color: #008080; font-weight: bold\">0.46616541</span>,  <span style=\"color: #008080; text-decoration-color: #008080; font-weight: bold\">0.47619048</span>,  <span style=\"color: #008080; text-decoration-color: #008080; font-weight: bold\">0.48621554</span>,  <span style=\"color: #008080; text-decoration-color: #008080; font-weight: bold\">0.4962406</span> ,\n",
       "        <span style=\"color: #008080; text-decoration-color: #008080; font-weight: bold\">0.50626566</span>,  <span style=\"color: #008080; text-decoration-color: #008080; font-weight: bold\">0.51629073</span>,  <span style=\"color: #008080; text-decoration-color: #008080; font-weight: bold\">0.52631579</span>,  <span style=\"color: #008080; text-decoration-color: #008080; font-weight: bold\">0.53634085</span>,  <span style=\"color: #008080; text-decoration-color: #008080; font-weight: bold\">0.54636591</span>,\n",
       "        <span style=\"color: #008080; text-decoration-color: #008080; font-weight: bold\">0.55639098</span>,  <span style=\"color: #008080; text-decoration-color: #008080; font-weight: bold\">0.56641604</span>,  <span style=\"color: #008080; text-decoration-color: #008080; font-weight: bold\">0.5764411</span> ,  <span style=\"color: #008080; text-decoration-color: #008080; font-weight: bold\">0.58646617</span>,  <span style=\"color: #008080; text-decoration-color: #008080; font-weight: bold\">0.59649123</span>,\n",
       "        <span style=\"color: #008080; text-decoration-color: #008080; font-weight: bold\">0.60651629</span>,  <span style=\"color: #008080; text-decoration-color: #008080; font-weight: bold\">0.61654135</span>,  <span style=\"color: #008080; text-decoration-color: #008080; font-weight: bold\">0.62656642</span>,  <span style=\"color: #008080; text-decoration-color: #008080; font-weight: bold\">0.63659148</span>,  <span style=\"color: #008080; text-decoration-color: #008080; font-weight: bold\">0.64661654</span>,\n",
       "        <span style=\"color: #008080; text-decoration-color: #008080; font-weight: bold\">0.6566416</span> ,  <span style=\"color: #008080; text-decoration-color: #008080; font-weight: bold\">0.66666667</span>,  <span style=\"color: #008080; text-decoration-color: #008080; font-weight: bold\">0.67669173</span>,  <span style=\"color: #008080; text-decoration-color: #008080; font-weight: bold\">0.68671679</span>,  <span style=\"color: #008080; text-decoration-color: #008080; font-weight: bold\">0.69674185</span>,\n",
       "        <span style=\"color: #008080; text-decoration-color: #008080; font-weight: bold\">0.70676692</span>,  <span style=\"color: #008080; text-decoration-color: #008080; font-weight: bold\">0.71679198</span>,  <span style=\"color: #008080; text-decoration-color: #008080; font-weight: bold\">0.72681704</span>,  <span style=\"color: #008080; text-decoration-color: #008080; font-weight: bold\">0.73684211</span>,  <span style=\"color: #008080; text-decoration-color: #008080; font-weight: bold\">0.74686717</span>,\n",
       "        <span style=\"color: #008080; text-decoration-color: #008080; font-weight: bold\">0.75689223</span>,  <span style=\"color: #008080; text-decoration-color: #008080; font-weight: bold\">0.76691729</span>,  <span style=\"color: #008080; text-decoration-color: #008080; font-weight: bold\">0.77694236</span>,  <span style=\"color: #008080; text-decoration-color: #008080; font-weight: bold\">0.78696742</span>,  <span style=\"color: #008080; text-decoration-color: #008080; font-weight: bold\">0.79699248</span>,\n",
       "        <span style=\"color: #008080; text-decoration-color: #008080; font-weight: bold\">0.80701754</span>,  <span style=\"color: #008080; text-decoration-color: #008080; font-weight: bold\">0.81704261</span>,  <span style=\"color: #008080; text-decoration-color: #008080; font-weight: bold\">0.82706767</span>,  <span style=\"color: #008080; text-decoration-color: #008080; font-weight: bold\">0.83709273</span>,  <span style=\"color: #008080; text-decoration-color: #008080; font-weight: bold\">0.84711779</span>,\n",
       "        <span style=\"color: #008080; text-decoration-color: #008080; font-weight: bold\">0.85714286</span>,  <span style=\"color: #008080; text-decoration-color: #008080; font-weight: bold\">0.86716792</span>,  <span style=\"color: #008080; text-decoration-color: #008080; font-weight: bold\">0.87719298</span>,  <span style=\"color: #008080; text-decoration-color: #008080; font-weight: bold\">0.88721805</span>,  <span style=\"color: #008080; text-decoration-color: #008080; font-weight: bold\">0.89724311</span>,\n",
       "        <span style=\"color: #008080; text-decoration-color: #008080; font-weight: bold\">0.90726817</span>,  <span style=\"color: #008080; text-decoration-color: #008080; font-weight: bold\">0.91729323</span>,  <span style=\"color: #008080; text-decoration-color: #008080; font-weight: bold\">0.9273183</span> ,  <span style=\"color: #008080; text-decoration-color: #008080; font-weight: bold\">0.93734336</span>,  <span style=\"color: #008080; text-decoration-color: #008080; font-weight: bold\">0.94736842</span>,\n",
       "        <span style=\"color: #008080; text-decoration-color: #008080; font-weight: bold\">0.95739348</span>,  <span style=\"color: #008080; text-decoration-color: #008080; font-weight: bold\">0.96741855</span>,  <span style=\"color: #008080; text-decoration-color: #008080; font-weight: bold\">0.97744361</span>,  <span style=\"color: #008080; text-decoration-color: #008080; font-weight: bold\">0.98746867</span>,  <span style=\"color: #008080; text-decoration-color: #008080; font-weight: bold\">0.99749373</span>,\n",
       "        <span style=\"color: #008080; text-decoration-color: #008080; font-weight: bold\">1.0075188</span> ,  <span style=\"color: #008080; text-decoration-color: #008080; font-weight: bold\">1.01754386</span>,  <span style=\"color: #008080; text-decoration-color: #008080; font-weight: bold\">1.02756892</span>,  <span style=\"color: #008080; text-decoration-color: #008080; font-weight: bold\">1.03759398</span>,  <span style=\"color: #008080; text-decoration-color: #008080; font-weight: bold\">1.04761905</span>,\n",
       "        <span style=\"color: #008080; text-decoration-color: #008080; font-weight: bold\">1.05764411</span>,  <span style=\"color: #008080; text-decoration-color: #008080; font-weight: bold\">1.06766917</span>,  <span style=\"color: #008080; text-decoration-color: #008080; font-weight: bold\">1.07769424</span>,  <span style=\"color: #008080; text-decoration-color: #008080; font-weight: bold\">1.0877193</span> ,  <span style=\"color: #008080; text-decoration-color: #008080; font-weight: bold\">1.09774436</span>,\n",
       "        <span style=\"color: #008080; text-decoration-color: #008080; font-weight: bold\">1.10776942</span>,  <span style=\"color: #008080; text-decoration-color: #008080; font-weight: bold\">1.11779449</span>,  <span style=\"color: #008080; text-decoration-color: #008080; font-weight: bold\">1.12781955</span>,  <span style=\"color: #008080; text-decoration-color: #008080; font-weight: bold\">1.13784461</span>,  <span style=\"color: #008080; text-decoration-color: #008080; font-weight: bold\">1.14786967</span>,\n",
       "        <span style=\"color: #008080; text-decoration-color: #008080; font-weight: bold\">1.15789474</span>,  <span style=\"color: #008080; text-decoration-color: #008080; font-weight: bold\">1.1679198</span> ,  <span style=\"color: #008080; text-decoration-color: #008080; font-weight: bold\">1.17794486</span>,  <span style=\"color: #008080; text-decoration-color: #008080; font-weight: bold\">1.18796992</span>,  <span style=\"color: #008080; text-decoration-color: #008080; font-weight: bold\">1.19799499</span>,\n",
       "        <span style=\"color: #008080; text-decoration-color: #008080; font-weight: bold\">1.20802005</span>,  <span style=\"color: #008080; text-decoration-color: #008080; font-weight: bold\">1.21804511</span>,  <span style=\"color: #008080; text-decoration-color: #008080; font-weight: bold\">1.22807018</span>,  <span style=\"color: #008080; text-decoration-color: #008080; font-weight: bold\">1.23809524</span>,  <span style=\"color: #008080; text-decoration-color: #008080; font-weight: bold\">1.2481203</span> ,\n",
       "        <span style=\"color: #008080; text-decoration-color: #008080; font-weight: bold\">1.25814536</span>,  <span style=\"color: #008080; text-decoration-color: #008080; font-weight: bold\">1.26817043</span>,  <span style=\"color: #008080; text-decoration-color: #008080; font-weight: bold\">1.27819549</span>,  <span style=\"color: #008080; text-decoration-color: #008080; font-weight: bold\">1.28822055</span>,  <span style=\"color: #008080; text-decoration-color: #008080; font-weight: bold\">1.29824561</span>,\n",
       "        <span style=\"color: #008080; text-decoration-color: #008080; font-weight: bold\">1.30827068</span>,  <span style=\"color: #008080; text-decoration-color: #008080; font-weight: bold\">1.31829574</span>,  <span style=\"color: #008080; text-decoration-color: #008080; font-weight: bold\">1.3283208</span> ,  <span style=\"color: #008080; text-decoration-color: #008080; font-weight: bold\">1.33834586</span>,  <span style=\"color: #008080; text-decoration-color: #008080; font-weight: bold\">1.34837093</span>,\n",
       "        <span style=\"color: #008080; text-decoration-color: #008080; font-weight: bold\">1.35839599</span>,  <span style=\"color: #008080; text-decoration-color: #008080; font-weight: bold\">1.36842105</span>,  <span style=\"color: #008080; text-decoration-color: #008080; font-weight: bold\">1.37844612</span>,  <span style=\"color: #008080; text-decoration-color: #008080; font-weight: bold\">1.38847118</span>,  <span style=\"color: #008080; text-decoration-color: #008080; font-weight: bold\">1.39849624</span>,\n",
       "        <span style=\"color: #008080; text-decoration-color: #008080; font-weight: bold\">1.4085213</span> ,  <span style=\"color: #008080; text-decoration-color: #008080; font-weight: bold\">1.41854637</span>,  <span style=\"color: #008080; text-decoration-color: #008080; font-weight: bold\">1.42857143</span>,  <span style=\"color: #008080; text-decoration-color: #008080; font-weight: bold\">1.43859649</span>,  <span style=\"color: #008080; text-decoration-color: #008080; font-weight: bold\">1.44862155</span>,\n",
       "        <span style=\"color: #008080; text-decoration-color: #008080; font-weight: bold\">1.45864662</span>,  <span style=\"color: #008080; text-decoration-color: #008080; font-weight: bold\">1.46867168</span>,  <span style=\"color: #008080; text-decoration-color: #008080; font-weight: bold\">1.47869674</span>,  <span style=\"color: #008080; text-decoration-color: #008080; font-weight: bold\">1.4887218</span> ,  <span style=\"color: #008080; text-decoration-color: #008080; font-weight: bold\">1.49874687</span>,\n",
       "        <span style=\"color: #008080; text-decoration-color: #008080; font-weight: bold\">1.50877193</span>,  <span style=\"color: #008080; text-decoration-color: #008080; font-weight: bold\">1.51879699</span>,  <span style=\"color: #008080; text-decoration-color: #008080; font-weight: bold\">1.52882206</span>,  <span style=\"color: #008080; text-decoration-color: #008080; font-weight: bold\">1.53884712</span>,  <span style=\"color: #008080; text-decoration-color: #008080; font-weight: bold\">1.54887218</span>,\n",
       "        <span style=\"color: #008080; text-decoration-color: #008080; font-weight: bold\">1.55889724</span>,  <span style=\"color: #008080; text-decoration-color: #008080; font-weight: bold\">1.56892231</span>,  <span style=\"color: #008080; text-decoration-color: #008080; font-weight: bold\">1.57894737</span>,  <span style=\"color: #008080; text-decoration-color: #008080; font-weight: bold\">1.58897243</span>,  <span style=\"color: #008080; text-decoration-color: #008080; font-weight: bold\">1.59899749</span>,\n",
       "        <span style=\"color: #008080; text-decoration-color: #008080; font-weight: bold\">1.60902256</span>,  <span style=\"color: #008080; text-decoration-color: #008080; font-weight: bold\">1.61904762</span>,  <span style=\"color: #008080; text-decoration-color: #008080; font-weight: bold\">1.62907268</span>,  <span style=\"color: #008080; text-decoration-color: #008080; font-weight: bold\">1.63909774</span>,  <span style=\"color: #008080; text-decoration-color: #008080; font-weight: bold\">1.64912281</span>,\n",
       "        <span style=\"color: #008080; text-decoration-color: #008080; font-weight: bold\">1.65914787</span>,  <span style=\"color: #008080; text-decoration-color: #008080; font-weight: bold\">1.66917293</span>,  <span style=\"color: #008080; text-decoration-color: #008080; font-weight: bold\">1.67919799</span>,  <span style=\"color: #008080; text-decoration-color: #008080; font-weight: bold\">1.68922306</span>,  <span style=\"color: #008080; text-decoration-color: #008080; font-weight: bold\">1.69924812</span>,\n",
       "        <span style=\"color: #008080; text-decoration-color: #008080; font-weight: bold\">1.70927318</span>,  <span style=\"color: #008080; text-decoration-color: #008080; font-weight: bold\">1.71929825</span>,  <span style=\"color: #008080; text-decoration-color: #008080; font-weight: bold\">1.72932331</span>,  <span style=\"color: #008080; text-decoration-color: #008080; font-weight: bold\">1.73934837</span>,  <span style=\"color: #008080; text-decoration-color: #008080; font-weight: bold\">1.74937343</span>,\n",
       "        <span style=\"color: #008080; text-decoration-color: #008080; font-weight: bold\">1.7593985</span> ,  <span style=\"color: #008080; text-decoration-color: #008080; font-weight: bold\">1.76942356</span>,  <span style=\"color: #008080; text-decoration-color: #008080; font-weight: bold\">1.77944862</span>,  <span style=\"color: #008080; text-decoration-color: #008080; font-weight: bold\">1.78947368</span>,  <span style=\"color: #008080; text-decoration-color: #008080; font-weight: bold\">1.79949875</span>,\n",
       "        <span style=\"color: #008080; text-decoration-color: #008080; font-weight: bold\">1.80952381</span>,  <span style=\"color: #008080; text-decoration-color: #008080; font-weight: bold\">1.81954887</span>,  <span style=\"color: #008080; text-decoration-color: #008080; font-weight: bold\">1.82957393</span>,  <span style=\"color: #008080; text-decoration-color: #008080; font-weight: bold\">1.839599</span>  ,  <span style=\"color: #008080; text-decoration-color: #008080; font-weight: bold\">1.84962406</span>,\n",
       "        <span style=\"color: #008080; text-decoration-color: #008080; font-weight: bold\">1.85964912</span>,  <span style=\"color: #008080; text-decoration-color: #008080; font-weight: bold\">1.86967419</span>,  <span style=\"color: #008080; text-decoration-color: #008080; font-weight: bold\">1.87969925</span>,  <span style=\"color: #008080; text-decoration-color: #008080; font-weight: bold\">1.88972431</span>,  <span style=\"color: #008080; text-decoration-color: #008080; font-weight: bold\">1.89974937</span>,\n",
       "        <span style=\"color: #008080; text-decoration-color: #008080; font-weight: bold\">1.90977444</span>,  <span style=\"color: #008080; text-decoration-color: #008080; font-weight: bold\">1.9197995</span> ,  <span style=\"color: #008080; text-decoration-color: #008080; font-weight: bold\">1.92982456</span>,  <span style=\"color: #008080; text-decoration-color: #008080; font-weight: bold\">1.93984962</span>,  <span style=\"color: #008080; text-decoration-color: #008080; font-weight: bold\">1.94987469</span>,\n",
       "        <span style=\"color: #008080; text-decoration-color: #008080; font-weight: bold\">1.95989975</span>,  <span style=\"color: #008080; text-decoration-color: #008080; font-weight: bold\">1.96992481</span>,  <span style=\"color: #008080; text-decoration-color: #008080; font-weight: bold\">1.97994987</span>,  <span style=\"color: #008080; text-decoration-color: #008080; font-weight: bold\">1.98997494</span>,  <span style=\"color: #008080; text-decoration-color: #008080; font-weight: bold\">2</span>.        <span style=\"font-weight: bold\">])]</span>, <span style=\"color: #808000; text-decoration-color: #808000\">y</span>=<span style=\"font-weight: bold\">[</span><span style=\"color: #800080; text-decoration-color: #800080; font-weight: bold\">array</span><span style=\"font-weight: bold\">([</span><span style=\"color: #008080; text-decoration-color: #008080; font-weight: bold\">-2</span>.        , <span style=\"color: #008080; text-decoration-color: #008080; font-weight: bold\">-1.98997494</span>, <span style=\"color: #008080; text-decoration-color: #008080; font-weight: bold\">-1.97994987</span>, <span style=\"color: #008080; text-decoration-color: #008080; font-weight: bold\">-1.96992481</span>, <span style=\"color: #008080; text-decoration-color: #008080; font-weight: bold\">-1.95989975</span>,\n",
       "       <span style=\"color: #008080; text-decoration-color: #008080; font-weight: bold\">-1.94987469</span>, <span style=\"color: #008080; text-decoration-color: #008080; font-weight: bold\">-1.93984962</span>, <span style=\"color: #008080; text-decoration-color: #008080; font-weight: bold\">-1.92982456</span>, <span style=\"color: #008080; text-decoration-color: #008080; font-weight: bold\">-1.9197995</span> , <span style=\"color: #008080; text-decoration-color: #008080; font-weight: bold\">-1.90977444</span>,\n",
       "       <span style=\"color: #008080; text-decoration-color: #008080; font-weight: bold\">-1.89974937</span>, <span style=\"color: #008080; text-decoration-color: #008080; font-weight: bold\">-1.88972431</span>, <span style=\"color: #008080; text-decoration-color: #008080; font-weight: bold\">-1.87969925</span>, <span style=\"color: #008080; text-decoration-color: #008080; font-weight: bold\">-1.86967419</span>, <span style=\"color: #008080; text-decoration-color: #008080; font-weight: bold\">-1.85964912</span>,\n",
       "       <span style=\"color: #008080; text-decoration-color: #008080; font-weight: bold\">-1.84962406</span>, <span style=\"color: #008080; text-decoration-color: #008080; font-weight: bold\">-1.839599</span>  , <span style=\"color: #008080; text-decoration-color: #008080; font-weight: bold\">-1.82957393</span>, <span style=\"color: #008080; text-decoration-color: #008080; font-weight: bold\">-1.81954887</span>, <span style=\"color: #008080; text-decoration-color: #008080; font-weight: bold\">-1.80952381</span>,\n",
       "       <span style=\"color: #008080; text-decoration-color: #008080; font-weight: bold\">-1.79949875</span>, <span style=\"color: #008080; text-decoration-color: #008080; font-weight: bold\">-1.78947368</span>, <span style=\"color: #008080; text-decoration-color: #008080; font-weight: bold\">-1.77944862</span>, <span style=\"color: #008080; text-decoration-color: #008080; font-weight: bold\">-1.76942356</span>, <span style=\"color: #008080; text-decoration-color: #008080; font-weight: bold\">-1.7593985</span> ,\n",
       "       <span style=\"color: #008080; text-decoration-color: #008080; font-weight: bold\">-1.74937343</span>, <span style=\"color: #008080; text-decoration-color: #008080; font-weight: bold\">-1.73934837</span>, <span style=\"color: #008080; text-decoration-color: #008080; font-weight: bold\">-1.72932331</span>, <span style=\"color: #008080; text-decoration-color: #008080; font-weight: bold\">-1.71929825</span>, <span style=\"color: #008080; text-decoration-color: #008080; font-weight: bold\">-1.70927318</span>,\n",
       "       <span style=\"color: #008080; text-decoration-color: #008080; font-weight: bold\">-1.69924812</span>, <span style=\"color: #008080; text-decoration-color: #008080; font-weight: bold\">-1.68922306</span>, <span style=\"color: #008080; text-decoration-color: #008080; font-weight: bold\">-1.67919799</span>, <span style=\"color: #008080; text-decoration-color: #008080; font-weight: bold\">-1.66917293</span>, <span style=\"color: #008080; text-decoration-color: #008080; font-weight: bold\">-1.65914787</span>,\n",
       "       <span style=\"color: #008080; text-decoration-color: #008080; font-weight: bold\">-1.64912281</span>, <span style=\"color: #008080; text-decoration-color: #008080; font-weight: bold\">-1.63909774</span>, <span style=\"color: #008080; text-decoration-color: #008080; font-weight: bold\">-1.62907268</span>, <span style=\"color: #008080; text-decoration-color: #008080; font-weight: bold\">-1.61904762</span>, <span style=\"color: #008080; text-decoration-color: #008080; font-weight: bold\">-1.60902256</span>,\n",
       "       <span style=\"color: #008080; text-decoration-color: #008080; font-weight: bold\">-1.59899749</span>, <span style=\"color: #008080; text-decoration-color: #008080; font-weight: bold\">-1.58897243</span>, <span style=\"color: #008080; text-decoration-color: #008080; font-weight: bold\">-1.57894737</span>, <span style=\"color: #008080; text-decoration-color: #008080; font-weight: bold\">-1.56892231</span>, <span style=\"color: #008080; text-decoration-color: #008080; font-weight: bold\">-1.55889724</span>,\n",
       "       <span style=\"color: #008080; text-decoration-color: #008080; font-weight: bold\">-1.54887218</span>, <span style=\"color: #008080; text-decoration-color: #008080; font-weight: bold\">-1.53884712</span>, <span style=\"color: #008080; text-decoration-color: #008080; font-weight: bold\">-1.52882206</span>, <span style=\"color: #008080; text-decoration-color: #008080; font-weight: bold\">-1.51879699</span>, <span style=\"color: #008080; text-decoration-color: #008080; font-weight: bold\">-1.50877193</span>,\n",
       "       <span style=\"color: #008080; text-decoration-color: #008080; font-weight: bold\">-1.49874687</span>, <span style=\"color: #008080; text-decoration-color: #008080; font-weight: bold\">-1.4887218</span> , <span style=\"color: #008080; text-decoration-color: #008080; font-weight: bold\">-1.47869674</span>, <span style=\"color: #008080; text-decoration-color: #008080; font-weight: bold\">-1.46867168</span>, <span style=\"color: #008080; text-decoration-color: #008080; font-weight: bold\">-1.45864662</span>,\n",
       "       <span style=\"color: #008080; text-decoration-color: #008080; font-weight: bold\">-1.44862155</span>, <span style=\"color: #008080; text-decoration-color: #008080; font-weight: bold\">-1.43859649</span>, <span style=\"color: #008080; text-decoration-color: #008080; font-weight: bold\">-1.42857143</span>, <span style=\"color: #008080; text-decoration-color: #008080; font-weight: bold\">-1.41854637</span>, <span style=\"color: #008080; text-decoration-color: #008080; font-weight: bold\">-1.4085213</span> ,\n",
       "       <span style=\"color: #008080; text-decoration-color: #008080; font-weight: bold\">-1.39849624</span>, <span style=\"color: #008080; text-decoration-color: #008080; font-weight: bold\">-1.38847118</span>, <span style=\"color: #008080; text-decoration-color: #008080; font-weight: bold\">-1.37844612</span>, <span style=\"color: #008080; text-decoration-color: #008080; font-weight: bold\">-1.36842105</span>, <span style=\"color: #008080; text-decoration-color: #008080; font-weight: bold\">-1.35839599</span>,\n",
       "       <span style=\"color: #008080; text-decoration-color: #008080; font-weight: bold\">-1.34837093</span>, <span style=\"color: #008080; text-decoration-color: #008080; font-weight: bold\">-1.33834586</span>, <span style=\"color: #008080; text-decoration-color: #008080; font-weight: bold\">-1.3283208</span> , <span style=\"color: #008080; text-decoration-color: #008080; font-weight: bold\">-1.31829574</span>, <span style=\"color: #008080; text-decoration-color: #008080; font-weight: bold\">-1.30827068</span>,\n",
       "       <span style=\"color: #008080; text-decoration-color: #008080; font-weight: bold\">-1.29824561</span>, <span style=\"color: #008080; text-decoration-color: #008080; font-weight: bold\">-1.28822055</span>, <span style=\"color: #008080; text-decoration-color: #008080; font-weight: bold\">-1.27819549</span>, <span style=\"color: #008080; text-decoration-color: #008080; font-weight: bold\">-1.26817043</span>, <span style=\"color: #008080; text-decoration-color: #008080; font-weight: bold\">-1.25814536</span>,\n",
       "       <span style=\"color: #008080; text-decoration-color: #008080; font-weight: bold\">-1.2481203</span> , <span style=\"color: #008080; text-decoration-color: #008080; font-weight: bold\">-1.23809524</span>, <span style=\"color: #008080; text-decoration-color: #008080; font-weight: bold\">-1.22807018</span>, <span style=\"color: #008080; text-decoration-color: #008080; font-weight: bold\">-1.21804511</span>, <span style=\"color: #008080; text-decoration-color: #008080; font-weight: bold\">-1.20802005</span>,\n",
       "       <span style=\"color: #008080; text-decoration-color: #008080; font-weight: bold\">-1.19799499</span>, <span style=\"color: #008080; text-decoration-color: #008080; font-weight: bold\">-1.18796992</span>, <span style=\"color: #008080; text-decoration-color: #008080; font-weight: bold\">-1.17794486</span>, <span style=\"color: #008080; text-decoration-color: #008080; font-weight: bold\">-1.1679198</span> , <span style=\"color: #008080; text-decoration-color: #008080; font-weight: bold\">-1.15789474</span>,\n",
       "       <span style=\"color: #008080; text-decoration-color: #008080; font-weight: bold\">-1.14786967</span>, <span style=\"color: #008080; text-decoration-color: #008080; font-weight: bold\">-1.13784461</span>, <span style=\"color: #008080; text-decoration-color: #008080; font-weight: bold\">-1.12781955</span>, <span style=\"color: #008080; text-decoration-color: #008080; font-weight: bold\">-1.11779449</span>, <span style=\"color: #008080; text-decoration-color: #008080; font-weight: bold\">-1.10776942</span>,\n",
       "       <span style=\"color: #008080; text-decoration-color: #008080; font-weight: bold\">-1.09774436</span>, <span style=\"color: #008080; text-decoration-color: #008080; font-weight: bold\">-1.0877193</span> , <span style=\"color: #008080; text-decoration-color: #008080; font-weight: bold\">-1.07769424</span>, <span style=\"color: #008080; text-decoration-color: #008080; font-weight: bold\">-1.06766917</span>, <span style=\"color: #008080; text-decoration-color: #008080; font-weight: bold\">-1.05764411</span>,\n",
       "       <span style=\"color: #008080; text-decoration-color: #008080; font-weight: bold\">-1.04761905</span>, <span style=\"color: #008080; text-decoration-color: #008080; font-weight: bold\">-1.03759398</span>, <span style=\"color: #008080; text-decoration-color: #008080; font-weight: bold\">-1.02756892</span>, <span style=\"color: #008080; text-decoration-color: #008080; font-weight: bold\">-1.01754386</span>, <span style=\"color: #008080; text-decoration-color: #008080; font-weight: bold\">-1.0075188</span> ,\n",
       "       <span style=\"color: #008080; text-decoration-color: #008080; font-weight: bold\">-0.99749373</span>, <span style=\"color: #008080; text-decoration-color: #008080; font-weight: bold\">-0.98746867</span>, <span style=\"color: #008080; text-decoration-color: #008080; font-weight: bold\">-0.97744361</span>, <span style=\"color: #008080; text-decoration-color: #008080; font-weight: bold\">-0.96741855</span>, <span style=\"color: #008080; text-decoration-color: #008080; font-weight: bold\">-0.95739348</span>,\n",
       "       <span style=\"color: #008080; text-decoration-color: #008080; font-weight: bold\">-0.94736842</span>, <span style=\"color: #008080; text-decoration-color: #008080; font-weight: bold\">-0.93734336</span>, <span style=\"color: #008080; text-decoration-color: #008080; font-weight: bold\">-0.9273183</span> , <span style=\"color: #008080; text-decoration-color: #008080; font-weight: bold\">-0.91729323</span>, <span style=\"color: #008080; text-decoration-color: #008080; font-weight: bold\">-0.90726817</span>,\n",
       "       <span style=\"color: #008080; text-decoration-color: #008080; font-weight: bold\">-0.89724311</span>, <span style=\"color: #008080; text-decoration-color: #008080; font-weight: bold\">-0.88721805</span>, <span style=\"color: #008080; text-decoration-color: #008080; font-weight: bold\">-0.87719298</span>, <span style=\"color: #008080; text-decoration-color: #008080; font-weight: bold\">-0.86716792</span>, <span style=\"color: #008080; text-decoration-color: #008080; font-weight: bold\">-0.85714286</span>,\n",
       "       <span style=\"color: #008080; text-decoration-color: #008080; font-weight: bold\">-0.84711779</span>, <span style=\"color: #008080; text-decoration-color: #008080; font-weight: bold\">-0.83709273</span>, <span style=\"color: #008080; text-decoration-color: #008080; font-weight: bold\">-0.82706767</span>, <span style=\"color: #008080; text-decoration-color: #008080; font-weight: bold\">-0.81704261</span>, <span style=\"color: #008080; text-decoration-color: #008080; font-weight: bold\">-0.80701754</span>,\n",
       "       <span style=\"color: #008080; text-decoration-color: #008080; font-weight: bold\">-0.79699248</span>, <span style=\"color: #008080; text-decoration-color: #008080; font-weight: bold\">-0.78696742</span>, <span style=\"color: #008080; text-decoration-color: #008080; font-weight: bold\">-0.77694236</span>, <span style=\"color: #008080; text-decoration-color: #008080; font-weight: bold\">-0.76691729</span>, <span style=\"color: #008080; text-decoration-color: #008080; font-weight: bold\">-0.75689223</span>,\n",
       "       <span style=\"color: #008080; text-decoration-color: #008080; font-weight: bold\">-0.74686717</span>, <span style=\"color: #008080; text-decoration-color: #008080; font-weight: bold\">-0.73684211</span>, <span style=\"color: #008080; text-decoration-color: #008080; font-weight: bold\">-0.72681704</span>, <span style=\"color: #008080; text-decoration-color: #008080; font-weight: bold\">-0.71679198</span>, <span style=\"color: #008080; text-decoration-color: #008080; font-weight: bold\">-0.70676692</span>,\n",
       "       <span style=\"color: #008080; text-decoration-color: #008080; font-weight: bold\">-0.69674185</span>, <span style=\"color: #008080; text-decoration-color: #008080; font-weight: bold\">-0.68671679</span>, <span style=\"color: #008080; text-decoration-color: #008080; font-weight: bold\">-0.67669173</span>, <span style=\"color: #008080; text-decoration-color: #008080; font-weight: bold\">-0.66666667</span>, <span style=\"color: #008080; text-decoration-color: #008080; font-weight: bold\">-0.6566416</span> ,\n",
       "       <span style=\"color: #008080; text-decoration-color: #008080; font-weight: bold\">-0.64661654</span>, <span style=\"color: #008080; text-decoration-color: #008080; font-weight: bold\">-0.63659148</span>, <span style=\"color: #008080; text-decoration-color: #008080; font-weight: bold\">-0.62656642</span>, <span style=\"color: #008080; text-decoration-color: #008080; font-weight: bold\">-0.61654135</span>, <span style=\"color: #008080; text-decoration-color: #008080; font-weight: bold\">-0.60651629</span>,\n",
       "       <span style=\"color: #008080; text-decoration-color: #008080; font-weight: bold\">-0.59649123</span>, <span style=\"color: #008080; text-decoration-color: #008080; font-weight: bold\">-0.58646617</span>, <span style=\"color: #008080; text-decoration-color: #008080; font-weight: bold\">-0.5764411</span> , <span style=\"color: #008080; text-decoration-color: #008080; font-weight: bold\">-0.56641604</span>, <span style=\"color: #008080; text-decoration-color: #008080; font-weight: bold\">-0.55639098</span>,\n",
       "       <span style=\"color: #008080; text-decoration-color: #008080; font-weight: bold\">-0.54636591</span>, <span style=\"color: #008080; text-decoration-color: #008080; font-weight: bold\">-0.53634085</span>, <span style=\"color: #008080; text-decoration-color: #008080; font-weight: bold\">-0.52631579</span>, <span style=\"color: #008080; text-decoration-color: #008080; font-weight: bold\">-0.51629073</span>, <span style=\"color: #008080; text-decoration-color: #008080; font-weight: bold\">-0.50626566</span>,\n",
       "       <span style=\"color: #008080; text-decoration-color: #008080; font-weight: bold\">-0.4962406</span> , <span style=\"color: #008080; text-decoration-color: #008080; font-weight: bold\">-0.48621554</span>, <span style=\"color: #008080; text-decoration-color: #008080; font-weight: bold\">-0.47619048</span>, <span style=\"color: #008080; text-decoration-color: #008080; font-weight: bold\">-0.46616541</span>, <span style=\"color: #008080; text-decoration-color: #008080; font-weight: bold\">-0.45614035</span>,\n",
       "       <span style=\"color: #008080; text-decoration-color: #008080; font-weight: bold\">-0.44611529</span>, <span style=\"color: #008080; text-decoration-color: #008080; font-weight: bold\">-0.43609023</span>, <span style=\"color: #008080; text-decoration-color: #008080; font-weight: bold\">-0.42606516</span>, <span style=\"color: #008080; text-decoration-color: #008080; font-weight: bold\">-0.4160401</span> , <span style=\"color: #008080; text-decoration-color: #008080; font-weight: bold\">-0.40601504</span>,\n",
       "       <span style=\"color: #008080; text-decoration-color: #008080; font-weight: bold\">-0.39598997</span>, <span style=\"color: #008080; text-decoration-color: #008080; font-weight: bold\">-0.38596491</span>, <span style=\"color: #008080; text-decoration-color: #008080; font-weight: bold\">-0.37593985</span>, <span style=\"color: #008080; text-decoration-color: #008080; font-weight: bold\">-0.36591479</span>, <span style=\"color: #008080; text-decoration-color: #008080; font-weight: bold\">-0.35588972</span>,\n",
       "       <span style=\"color: #008080; text-decoration-color: #008080; font-weight: bold\">-0.34586466</span>, <span style=\"color: #008080; text-decoration-color: #008080; font-weight: bold\">-0.3358396</span> , <span style=\"color: #008080; text-decoration-color: #008080; font-weight: bold\">-0.32581454</span>, <span style=\"color: #008080; text-decoration-color: #008080; font-weight: bold\">-0.31578947</span>, <span style=\"color: #008080; text-decoration-color: #008080; font-weight: bold\">-0.30576441</span>,\n",
       "       <span style=\"color: #008080; text-decoration-color: #008080; font-weight: bold\">-0.29573935</span>, <span style=\"color: #008080; text-decoration-color: #008080; font-weight: bold\">-0.28571429</span>, <span style=\"color: #008080; text-decoration-color: #008080; font-weight: bold\">-0.27568922</span>, <span style=\"color: #008080; text-decoration-color: #008080; font-weight: bold\">-0.26566416</span>, <span style=\"color: #008080; text-decoration-color: #008080; font-weight: bold\">-0.2556391</span> ,\n",
       "       <span style=\"color: #008080; text-decoration-color: #008080; font-weight: bold\">-0.24561404</span>, <span style=\"color: #008080; text-decoration-color: #008080; font-weight: bold\">-0.23558897</span>, <span style=\"color: #008080; text-decoration-color: #008080; font-weight: bold\">-0.22556391</span>, <span style=\"color: #008080; text-decoration-color: #008080; font-weight: bold\">-0.21553885</span>, <span style=\"color: #008080; text-decoration-color: #008080; font-weight: bold\">-0.20551378</span>,\n",
       "       <span style=\"color: #008080; text-decoration-color: #008080; font-weight: bold\">-0.19548872</span>, <span style=\"color: #008080; text-decoration-color: #008080; font-weight: bold\">-0.18546366</span>, <span style=\"color: #008080; text-decoration-color: #008080; font-weight: bold\">-0.1754386</span> , <span style=\"color: #008080; text-decoration-color: #008080; font-weight: bold\">-0.16541353</span>, <span style=\"color: #008080; text-decoration-color: #008080; font-weight: bold\">-0.15538847</span>,\n",
       "       <span style=\"color: #008080; text-decoration-color: #008080; font-weight: bold\">-0.14536341</span>, <span style=\"color: #008080; text-decoration-color: #008080; font-weight: bold\">-0.13533835</span>, <span style=\"color: #008080; text-decoration-color: #008080; font-weight: bold\">-0.12531328</span>, <span style=\"color: #008080; text-decoration-color: #008080; font-weight: bold\">-0.11528822</span>, <span style=\"color: #008080; text-decoration-color: #008080; font-weight: bold\">-0.10526316</span>,\n",
       "       <span style=\"color: #008080; text-decoration-color: #008080; font-weight: bold\">-0.0952381</span> , <span style=\"color: #008080; text-decoration-color: #008080; font-weight: bold\">-0.08521303</span>, <span style=\"color: #008080; text-decoration-color: #008080; font-weight: bold\">-0.07518797</span>, <span style=\"color: #008080; text-decoration-color: #008080; font-weight: bold\">-0.06516291</span>, <span style=\"color: #008080; text-decoration-color: #008080; font-weight: bold\">-0.05513784</span>,\n",
       "       <span style=\"color: #008080; text-decoration-color: #008080; font-weight: bold\">-0.04511278</span>, <span style=\"color: #008080; text-decoration-color: #008080; font-weight: bold\">-0.03508772</span>, <span style=\"color: #008080; text-decoration-color: #008080; font-weight: bold\">-0.02506266</span>, <span style=\"color: #008080; text-decoration-color: #008080; font-weight: bold\">-0.01503759</span>, <span style=\"color: #008080; text-decoration-color: #008080; font-weight: bold\">-0.00501253</span>,\n",
       "        <span style=\"color: #008080; text-decoration-color: #008080; font-weight: bold\">0.00501253</span>,  <span style=\"color: #008080; text-decoration-color: #008080; font-weight: bold\">0.01503759</span>,  <span style=\"color: #008080; text-decoration-color: #008080; font-weight: bold\">0.02506266</span>,  <span style=\"color: #008080; text-decoration-color: #008080; font-weight: bold\">0.03508772</span>,  <span style=\"color: #008080; text-decoration-color: #008080; font-weight: bold\">0.04511278</span>,\n",
       "        <span style=\"color: #008080; text-decoration-color: #008080; font-weight: bold\">0.05513784</span>,  <span style=\"color: #008080; text-decoration-color: #008080; font-weight: bold\">0.06516291</span>,  <span style=\"color: #008080; text-decoration-color: #008080; font-weight: bold\">0.07518797</span>,  <span style=\"color: #008080; text-decoration-color: #008080; font-weight: bold\">0.08521303</span>,  <span style=\"color: #008080; text-decoration-color: #008080; font-weight: bold\">0.0952381</span> ,\n",
       "        <span style=\"color: #008080; text-decoration-color: #008080; font-weight: bold\">0.10526316</span>,  <span style=\"color: #008080; text-decoration-color: #008080; font-weight: bold\">0.11528822</span>,  <span style=\"color: #008080; text-decoration-color: #008080; font-weight: bold\">0.12531328</span>,  <span style=\"color: #008080; text-decoration-color: #008080; font-weight: bold\">0.13533835</span>,  <span style=\"color: #008080; text-decoration-color: #008080; font-weight: bold\">0.14536341</span>,\n",
       "        <span style=\"color: #008080; text-decoration-color: #008080; font-weight: bold\">0.15538847</span>,  <span style=\"color: #008080; text-decoration-color: #008080; font-weight: bold\">0.16541353</span>,  <span style=\"color: #008080; text-decoration-color: #008080; font-weight: bold\">0.1754386</span> ,  <span style=\"color: #008080; text-decoration-color: #008080; font-weight: bold\">0.18546366</span>,  <span style=\"color: #008080; text-decoration-color: #008080; font-weight: bold\">0.19548872</span>,\n",
       "        <span style=\"color: #008080; text-decoration-color: #008080; font-weight: bold\">0.20551378</span>,  <span style=\"color: #008080; text-decoration-color: #008080; font-weight: bold\">0.21553885</span>,  <span style=\"color: #008080; text-decoration-color: #008080; font-weight: bold\">0.22556391</span>,  <span style=\"color: #008080; text-decoration-color: #008080; font-weight: bold\">0.23558897</span>,  <span style=\"color: #008080; text-decoration-color: #008080; font-weight: bold\">0.24561404</span>,\n",
       "        <span style=\"color: #008080; text-decoration-color: #008080; font-weight: bold\">0.2556391</span> ,  <span style=\"color: #008080; text-decoration-color: #008080; font-weight: bold\">0.26566416</span>,  <span style=\"color: #008080; text-decoration-color: #008080; font-weight: bold\">0.27568922</span>,  <span style=\"color: #008080; text-decoration-color: #008080; font-weight: bold\">0.28571429</span>,  <span style=\"color: #008080; text-decoration-color: #008080; font-weight: bold\">0.29573935</span>,\n",
       "        <span style=\"color: #008080; text-decoration-color: #008080; font-weight: bold\">0.30576441</span>,  <span style=\"color: #008080; text-decoration-color: #008080; font-weight: bold\">0.31578947</span>,  <span style=\"color: #008080; text-decoration-color: #008080; font-weight: bold\">0.32581454</span>,  <span style=\"color: #008080; text-decoration-color: #008080; font-weight: bold\">0.3358396</span> ,  <span style=\"color: #008080; text-decoration-color: #008080; font-weight: bold\">0.34586466</span>,\n",
       "        <span style=\"color: #008080; text-decoration-color: #008080; font-weight: bold\">0.35588972</span>,  <span style=\"color: #008080; text-decoration-color: #008080; font-weight: bold\">0.36591479</span>,  <span style=\"color: #008080; text-decoration-color: #008080; font-weight: bold\">0.37593985</span>,  <span style=\"color: #008080; text-decoration-color: #008080; font-weight: bold\">0.38596491</span>,  <span style=\"color: #008080; text-decoration-color: #008080; font-weight: bold\">0.39598997</span>,\n",
       "        <span style=\"color: #008080; text-decoration-color: #008080; font-weight: bold\">0.40601504</span>,  <span style=\"color: #008080; text-decoration-color: #008080; font-weight: bold\">0.4160401</span> ,  <span style=\"color: #008080; text-decoration-color: #008080; font-weight: bold\">0.42606516</span>,  <span style=\"color: #008080; text-decoration-color: #008080; font-weight: bold\">0.43609023</span>,  <span style=\"color: #008080; text-decoration-color: #008080; font-weight: bold\">0.44611529</span>,\n",
       "        <span style=\"color: #008080; text-decoration-color: #008080; font-weight: bold\">0.45614035</span>,  <span style=\"color: #008080; text-decoration-color: #008080; font-weight: bold\">0.46616541</span>,  <span style=\"color: #008080; text-decoration-color: #008080; font-weight: bold\">0.47619048</span>,  <span style=\"color: #008080; text-decoration-color: #008080; font-weight: bold\">0.48621554</span>,  <span style=\"color: #008080; text-decoration-color: #008080; font-weight: bold\">0.4962406</span> ,\n",
       "        <span style=\"color: #008080; text-decoration-color: #008080; font-weight: bold\">0.50626566</span>,  <span style=\"color: #008080; text-decoration-color: #008080; font-weight: bold\">0.51629073</span>,  <span style=\"color: #008080; text-decoration-color: #008080; font-weight: bold\">0.52631579</span>,  <span style=\"color: #008080; text-decoration-color: #008080; font-weight: bold\">0.53634085</span>,  <span style=\"color: #008080; text-decoration-color: #008080; font-weight: bold\">0.54636591</span>,\n",
       "        <span style=\"color: #008080; text-decoration-color: #008080; font-weight: bold\">0.55639098</span>,  <span style=\"color: #008080; text-decoration-color: #008080; font-weight: bold\">0.56641604</span>,  <span style=\"color: #008080; text-decoration-color: #008080; font-weight: bold\">0.5764411</span> ,  <span style=\"color: #008080; text-decoration-color: #008080; font-weight: bold\">0.58646617</span>,  <span style=\"color: #008080; text-decoration-color: #008080; font-weight: bold\">0.59649123</span>,\n",
       "        <span style=\"color: #008080; text-decoration-color: #008080; font-weight: bold\">0.60651629</span>,  <span style=\"color: #008080; text-decoration-color: #008080; font-weight: bold\">0.61654135</span>,  <span style=\"color: #008080; text-decoration-color: #008080; font-weight: bold\">0.62656642</span>,  <span style=\"color: #008080; text-decoration-color: #008080; font-weight: bold\">0.63659148</span>,  <span style=\"color: #008080; text-decoration-color: #008080; font-weight: bold\">0.64661654</span>,\n",
       "        <span style=\"color: #008080; text-decoration-color: #008080; font-weight: bold\">0.6566416</span> ,  <span style=\"color: #008080; text-decoration-color: #008080; font-weight: bold\">0.66666667</span>,  <span style=\"color: #008080; text-decoration-color: #008080; font-weight: bold\">0.67669173</span>,  <span style=\"color: #008080; text-decoration-color: #008080; font-weight: bold\">0.68671679</span>,  <span style=\"color: #008080; text-decoration-color: #008080; font-weight: bold\">0.69674185</span>,\n",
       "        <span style=\"color: #008080; text-decoration-color: #008080; font-weight: bold\">0.70676692</span>,  <span style=\"color: #008080; text-decoration-color: #008080; font-weight: bold\">0.71679198</span>,  <span style=\"color: #008080; text-decoration-color: #008080; font-weight: bold\">0.72681704</span>,  <span style=\"color: #008080; text-decoration-color: #008080; font-weight: bold\">0.73684211</span>,  <span style=\"color: #008080; text-decoration-color: #008080; font-weight: bold\">0.74686717</span>,\n",
       "        <span style=\"color: #008080; text-decoration-color: #008080; font-weight: bold\">0.75689223</span>,  <span style=\"color: #008080; text-decoration-color: #008080; font-weight: bold\">0.76691729</span>,  <span style=\"color: #008080; text-decoration-color: #008080; font-weight: bold\">0.77694236</span>,  <span style=\"color: #008080; text-decoration-color: #008080; font-weight: bold\">0.78696742</span>,  <span style=\"color: #008080; text-decoration-color: #008080; font-weight: bold\">0.79699248</span>,\n",
       "        <span style=\"color: #008080; text-decoration-color: #008080; font-weight: bold\">0.80701754</span>,  <span style=\"color: #008080; text-decoration-color: #008080; font-weight: bold\">0.81704261</span>,  <span style=\"color: #008080; text-decoration-color: #008080; font-weight: bold\">0.82706767</span>,  <span style=\"color: #008080; text-decoration-color: #008080; font-weight: bold\">0.83709273</span>,  <span style=\"color: #008080; text-decoration-color: #008080; font-weight: bold\">0.84711779</span>,\n",
       "        <span style=\"color: #008080; text-decoration-color: #008080; font-weight: bold\">0.85714286</span>,  <span style=\"color: #008080; text-decoration-color: #008080; font-weight: bold\">0.86716792</span>,  <span style=\"color: #008080; text-decoration-color: #008080; font-weight: bold\">0.87719298</span>,  <span style=\"color: #008080; text-decoration-color: #008080; font-weight: bold\">0.88721805</span>,  <span style=\"color: #008080; text-decoration-color: #008080; font-weight: bold\">0.89724311</span>,\n",
       "        <span style=\"color: #008080; text-decoration-color: #008080; font-weight: bold\">0.90726817</span>,  <span style=\"color: #008080; text-decoration-color: #008080; font-weight: bold\">0.91729323</span>,  <span style=\"color: #008080; text-decoration-color: #008080; font-weight: bold\">0.9273183</span> ,  <span style=\"color: #008080; text-decoration-color: #008080; font-weight: bold\">0.93734336</span>,  <span style=\"color: #008080; text-decoration-color: #008080; font-weight: bold\">0.94736842</span>,\n",
       "        <span style=\"color: #008080; text-decoration-color: #008080; font-weight: bold\">0.95739348</span>,  <span style=\"color: #008080; text-decoration-color: #008080; font-weight: bold\">0.96741855</span>,  <span style=\"color: #008080; text-decoration-color: #008080; font-weight: bold\">0.97744361</span>,  <span style=\"color: #008080; text-decoration-color: #008080; font-weight: bold\">0.98746867</span>,  <span style=\"color: #008080; text-decoration-color: #008080; font-weight: bold\">0.99749373</span>,\n",
       "        <span style=\"color: #008080; text-decoration-color: #008080; font-weight: bold\">1.0075188</span> ,  <span style=\"color: #008080; text-decoration-color: #008080; font-weight: bold\">1.01754386</span>,  <span style=\"color: #008080; text-decoration-color: #008080; font-weight: bold\">1.02756892</span>,  <span style=\"color: #008080; text-decoration-color: #008080; font-weight: bold\">1.03759398</span>,  <span style=\"color: #008080; text-decoration-color: #008080; font-weight: bold\">1.04761905</span>,\n",
       "        <span style=\"color: #008080; text-decoration-color: #008080; font-weight: bold\">1.05764411</span>,  <span style=\"color: #008080; text-decoration-color: #008080; font-weight: bold\">1.06766917</span>,  <span style=\"color: #008080; text-decoration-color: #008080; font-weight: bold\">1.07769424</span>,  <span style=\"color: #008080; text-decoration-color: #008080; font-weight: bold\">1.0877193</span> ,  <span style=\"color: #008080; text-decoration-color: #008080; font-weight: bold\">1.09774436</span>,\n",
       "        <span style=\"color: #008080; text-decoration-color: #008080; font-weight: bold\">1.10776942</span>,  <span style=\"color: #008080; text-decoration-color: #008080; font-weight: bold\">1.11779449</span>,  <span style=\"color: #008080; text-decoration-color: #008080; font-weight: bold\">1.12781955</span>,  <span style=\"color: #008080; text-decoration-color: #008080; font-weight: bold\">1.13784461</span>,  <span style=\"color: #008080; text-decoration-color: #008080; font-weight: bold\">1.14786967</span>,\n",
       "        <span style=\"color: #008080; text-decoration-color: #008080; font-weight: bold\">1.15789474</span>,  <span style=\"color: #008080; text-decoration-color: #008080; font-weight: bold\">1.1679198</span> ,  <span style=\"color: #008080; text-decoration-color: #008080; font-weight: bold\">1.17794486</span>,  <span style=\"color: #008080; text-decoration-color: #008080; font-weight: bold\">1.18796992</span>,  <span style=\"color: #008080; text-decoration-color: #008080; font-weight: bold\">1.19799499</span>,\n",
       "        <span style=\"color: #008080; text-decoration-color: #008080; font-weight: bold\">1.20802005</span>,  <span style=\"color: #008080; text-decoration-color: #008080; font-weight: bold\">1.21804511</span>,  <span style=\"color: #008080; text-decoration-color: #008080; font-weight: bold\">1.22807018</span>,  <span style=\"color: #008080; text-decoration-color: #008080; font-weight: bold\">1.23809524</span>,  <span style=\"color: #008080; text-decoration-color: #008080; font-weight: bold\">1.2481203</span> ,\n",
       "        <span style=\"color: #008080; text-decoration-color: #008080; font-weight: bold\">1.25814536</span>,  <span style=\"color: #008080; text-decoration-color: #008080; font-weight: bold\">1.26817043</span>,  <span style=\"color: #008080; text-decoration-color: #008080; font-weight: bold\">1.27819549</span>,  <span style=\"color: #008080; text-decoration-color: #008080; font-weight: bold\">1.28822055</span>,  <span style=\"color: #008080; text-decoration-color: #008080; font-weight: bold\">1.29824561</span>,\n",
       "        <span style=\"color: #008080; text-decoration-color: #008080; font-weight: bold\">1.30827068</span>,  <span style=\"color: #008080; text-decoration-color: #008080; font-weight: bold\">1.31829574</span>,  <span style=\"color: #008080; text-decoration-color: #008080; font-weight: bold\">1.3283208</span> ,  <span style=\"color: #008080; text-decoration-color: #008080; font-weight: bold\">1.33834586</span>,  <span style=\"color: #008080; text-decoration-color: #008080; font-weight: bold\">1.34837093</span>,\n",
       "        <span style=\"color: #008080; text-decoration-color: #008080; font-weight: bold\">1.35839599</span>,  <span style=\"color: #008080; text-decoration-color: #008080; font-weight: bold\">1.36842105</span>,  <span style=\"color: #008080; text-decoration-color: #008080; font-weight: bold\">1.37844612</span>,  <span style=\"color: #008080; text-decoration-color: #008080; font-weight: bold\">1.38847118</span>,  <span style=\"color: #008080; text-decoration-color: #008080; font-weight: bold\">1.39849624</span>,\n",
       "        <span style=\"color: #008080; text-decoration-color: #008080; font-weight: bold\">1.4085213</span> ,  <span style=\"color: #008080; text-decoration-color: #008080; font-weight: bold\">1.41854637</span>,  <span style=\"color: #008080; text-decoration-color: #008080; font-weight: bold\">1.42857143</span>,  <span style=\"color: #008080; text-decoration-color: #008080; font-weight: bold\">1.43859649</span>,  <span style=\"color: #008080; text-decoration-color: #008080; font-weight: bold\">1.44862155</span>,\n",
       "        <span style=\"color: #008080; text-decoration-color: #008080; font-weight: bold\">1.45864662</span>,  <span style=\"color: #008080; text-decoration-color: #008080; font-weight: bold\">1.46867168</span>,  <span style=\"color: #008080; text-decoration-color: #008080; font-weight: bold\">1.47869674</span>,  <span style=\"color: #008080; text-decoration-color: #008080; font-weight: bold\">1.4887218</span> ,  <span style=\"color: #008080; text-decoration-color: #008080; font-weight: bold\">1.49874687</span>,\n",
       "        <span style=\"color: #008080; text-decoration-color: #008080; font-weight: bold\">1.50877193</span>,  <span style=\"color: #008080; text-decoration-color: #008080; font-weight: bold\">1.51879699</span>,  <span style=\"color: #008080; text-decoration-color: #008080; font-weight: bold\">1.52882206</span>,  <span style=\"color: #008080; text-decoration-color: #008080; font-weight: bold\">1.53884712</span>,  <span style=\"color: #008080; text-decoration-color: #008080; font-weight: bold\">1.54887218</span>,\n",
       "        <span style=\"color: #008080; text-decoration-color: #008080; font-weight: bold\">1.55889724</span>,  <span style=\"color: #008080; text-decoration-color: #008080; font-weight: bold\">1.56892231</span>,  <span style=\"color: #008080; text-decoration-color: #008080; font-weight: bold\">1.57894737</span>,  <span style=\"color: #008080; text-decoration-color: #008080; font-weight: bold\">1.58897243</span>,  <span style=\"color: #008080; text-decoration-color: #008080; font-weight: bold\">1.59899749</span>,\n",
       "        <span style=\"color: #008080; text-decoration-color: #008080; font-weight: bold\">1.60902256</span>,  <span style=\"color: #008080; text-decoration-color: #008080; font-weight: bold\">1.61904762</span>,  <span style=\"color: #008080; text-decoration-color: #008080; font-weight: bold\">1.62907268</span>,  <span style=\"color: #008080; text-decoration-color: #008080; font-weight: bold\">1.63909774</span>,  <span style=\"color: #008080; text-decoration-color: #008080; font-weight: bold\">1.64912281</span>,\n",
       "        <span style=\"color: #008080; text-decoration-color: #008080; font-weight: bold\">1.65914787</span>,  <span style=\"color: #008080; text-decoration-color: #008080; font-weight: bold\">1.66917293</span>,  <span style=\"color: #008080; text-decoration-color: #008080; font-weight: bold\">1.67919799</span>,  <span style=\"color: #008080; text-decoration-color: #008080; font-weight: bold\">1.68922306</span>,  <span style=\"color: #008080; text-decoration-color: #008080; font-weight: bold\">1.69924812</span>,\n",
       "        <span style=\"color: #008080; text-decoration-color: #008080; font-weight: bold\">1.70927318</span>,  <span style=\"color: #008080; text-decoration-color: #008080; font-weight: bold\">1.71929825</span>,  <span style=\"color: #008080; text-decoration-color: #008080; font-weight: bold\">1.72932331</span>,  <span style=\"color: #008080; text-decoration-color: #008080; font-weight: bold\">1.73934837</span>,  <span style=\"color: #008080; text-decoration-color: #008080; font-weight: bold\">1.74937343</span>,\n",
       "        <span style=\"color: #008080; text-decoration-color: #008080; font-weight: bold\">1.7593985</span> ,  <span style=\"color: #008080; text-decoration-color: #008080; font-weight: bold\">1.76942356</span>,  <span style=\"color: #008080; text-decoration-color: #008080; font-weight: bold\">1.77944862</span>,  <span style=\"color: #008080; text-decoration-color: #008080; font-weight: bold\">1.78947368</span>,  <span style=\"color: #008080; text-decoration-color: #008080; font-weight: bold\">1.79949875</span>,\n",
       "        <span style=\"color: #008080; text-decoration-color: #008080; font-weight: bold\">1.80952381</span>,  <span style=\"color: #008080; text-decoration-color: #008080; font-weight: bold\">1.81954887</span>,  <span style=\"color: #008080; text-decoration-color: #008080; font-weight: bold\">1.82957393</span>,  <span style=\"color: #008080; text-decoration-color: #008080; font-weight: bold\">1.839599</span>  ,  <span style=\"color: #008080; text-decoration-color: #008080; font-weight: bold\">1.84962406</span>,\n",
       "        <span style=\"color: #008080; text-decoration-color: #008080; font-weight: bold\">1.85964912</span>,  <span style=\"color: #008080; text-decoration-color: #008080; font-weight: bold\">1.86967419</span>,  <span style=\"color: #008080; text-decoration-color: #008080; font-weight: bold\">1.87969925</span>,  <span style=\"color: #008080; text-decoration-color: #008080; font-weight: bold\">1.88972431</span>,  <span style=\"color: #008080; text-decoration-color: #008080; font-weight: bold\">1.89974937</span>,\n",
       "        <span style=\"color: #008080; text-decoration-color: #008080; font-weight: bold\">1.90977444</span>,  <span style=\"color: #008080; text-decoration-color: #008080; font-weight: bold\">1.9197995</span> ,  <span style=\"color: #008080; text-decoration-color: #008080; font-weight: bold\">1.92982456</span>,  <span style=\"color: #008080; text-decoration-color: #008080; font-weight: bold\">1.93984962</span>,  <span style=\"color: #008080; text-decoration-color: #008080; font-weight: bold\">1.94987469</span>,\n",
       "        <span style=\"color: #008080; text-decoration-color: #008080; font-weight: bold\">1.95989975</span>,  <span style=\"color: #008080; text-decoration-color: #008080; font-weight: bold\">1.96992481</span>,  <span style=\"color: #008080; text-decoration-color: #008080; font-weight: bold\">1.97994987</span>,  <span style=\"color: #008080; text-decoration-color: #008080; font-weight: bold\">1.98997494</span>,  <span style=\"color: #008080; text-decoration-color: #008080; font-weight: bold\">2</span>.        <span style=\"font-weight: bold\">])</span>, <span style=\"color: #800080; text-decoration-color: #800080; font-weight: bold\">array</span><span style=\"font-weight: bold\">([</span><span style=\"color: #008080; text-decoration-color: #008080; font-weight: bold\">-2</span>.        , <span style=\"color: #008080; text-decoration-color: #008080; font-weight: bold\">-1.98997494</span>, <span style=\"color: #008080; text-decoration-color: #008080; font-weight: bold\">-1.97994987</span>, <span style=\"color: #008080; text-decoration-color: #008080; font-weight: bold\">-1.96992481</span>, <span style=\"color: #008080; text-decoration-color: #008080; font-weight: bold\">-1.95989975</span>,\n",
       "       <span style=\"color: #008080; text-decoration-color: #008080; font-weight: bold\">-1.94987469</span>, <span style=\"color: #008080; text-decoration-color: #008080; font-weight: bold\">-1.93984962</span>, <span style=\"color: #008080; text-decoration-color: #008080; font-weight: bold\">-1.92982456</span>, <span style=\"color: #008080; text-decoration-color: #008080; font-weight: bold\">-1.9197995</span> , <span style=\"color: #008080; text-decoration-color: #008080; font-weight: bold\">-1.90977444</span>,\n",
       "       <span style=\"color: #008080; text-decoration-color: #008080; font-weight: bold\">-1.89974937</span>, <span style=\"color: #008080; text-decoration-color: #008080; font-weight: bold\">-1.88972431</span>, <span style=\"color: #008080; text-decoration-color: #008080; font-weight: bold\">-1.87969925</span>, <span style=\"color: #008080; text-decoration-color: #008080; font-weight: bold\">-1.86967419</span>, <span style=\"color: #008080; text-decoration-color: #008080; font-weight: bold\">-1.85964912</span>,\n",
       "       <span style=\"color: #008080; text-decoration-color: #008080; font-weight: bold\">-1.84962406</span>, <span style=\"color: #008080; text-decoration-color: #008080; font-weight: bold\">-1.839599</span>  , <span style=\"color: #008080; text-decoration-color: #008080; font-weight: bold\">-1.82957393</span>, <span style=\"color: #008080; text-decoration-color: #008080; font-weight: bold\">-1.81954887</span>, <span style=\"color: #008080; text-decoration-color: #008080; font-weight: bold\">-1.80952381</span>,\n",
       "       <span style=\"color: #008080; text-decoration-color: #008080; font-weight: bold\">-1.79949875</span>, <span style=\"color: #008080; text-decoration-color: #008080; font-weight: bold\">-1.78947368</span>, <span style=\"color: #008080; text-decoration-color: #008080; font-weight: bold\">-1.77944862</span>, <span style=\"color: #008080; text-decoration-color: #008080; font-weight: bold\">-1.76942356</span>, <span style=\"color: #008080; text-decoration-color: #008080; font-weight: bold\">-1.7593985</span> ,\n",
       "       <span style=\"color: #008080; text-decoration-color: #008080; font-weight: bold\">-1.74937343</span>, <span style=\"color: #008080; text-decoration-color: #008080; font-weight: bold\">-1.73934837</span>, <span style=\"color: #008080; text-decoration-color: #008080; font-weight: bold\">-1.72932331</span>, <span style=\"color: #008080; text-decoration-color: #008080; font-weight: bold\">-1.71929825</span>, <span style=\"color: #008080; text-decoration-color: #008080; font-weight: bold\">-1.70927318</span>,\n",
       "       <span style=\"color: #008080; text-decoration-color: #008080; font-weight: bold\">-1.69924812</span>, <span style=\"color: #008080; text-decoration-color: #008080; font-weight: bold\">-1.68922306</span>, <span style=\"color: #008080; text-decoration-color: #008080; font-weight: bold\">-1.67919799</span>, <span style=\"color: #008080; text-decoration-color: #008080; font-weight: bold\">-1.66917293</span>, <span style=\"color: #008080; text-decoration-color: #008080; font-weight: bold\">-1.65914787</span>,\n",
       "       <span style=\"color: #008080; text-decoration-color: #008080; font-weight: bold\">-1.64912281</span>, <span style=\"color: #008080; text-decoration-color: #008080; font-weight: bold\">-1.63909774</span>, <span style=\"color: #008080; text-decoration-color: #008080; font-weight: bold\">-1.62907268</span>, <span style=\"color: #008080; text-decoration-color: #008080; font-weight: bold\">-1.61904762</span>, <span style=\"color: #008080; text-decoration-color: #008080; font-weight: bold\">-1.60902256</span>,\n",
       "       <span style=\"color: #008080; text-decoration-color: #008080; font-weight: bold\">-1.59899749</span>, <span style=\"color: #008080; text-decoration-color: #008080; font-weight: bold\">-1.58897243</span>, <span style=\"color: #008080; text-decoration-color: #008080; font-weight: bold\">-1.57894737</span>, <span style=\"color: #008080; text-decoration-color: #008080; font-weight: bold\">-1.56892231</span>, <span style=\"color: #008080; text-decoration-color: #008080; font-weight: bold\">-1.55889724</span>,\n",
       "       <span style=\"color: #008080; text-decoration-color: #008080; font-weight: bold\">-1.54887218</span>, <span style=\"color: #008080; text-decoration-color: #008080; font-weight: bold\">-1.53884712</span>, <span style=\"color: #008080; text-decoration-color: #008080; font-weight: bold\">-1.52882206</span>, <span style=\"color: #008080; text-decoration-color: #008080; font-weight: bold\">-1.51879699</span>, <span style=\"color: #008080; text-decoration-color: #008080; font-weight: bold\">-1.50877193</span>,\n",
       "       <span style=\"color: #008080; text-decoration-color: #008080; font-weight: bold\">-1.49874687</span>, <span style=\"color: #008080; text-decoration-color: #008080; font-weight: bold\">-1.4887218</span> , <span style=\"color: #008080; text-decoration-color: #008080; font-weight: bold\">-1.47869674</span>, <span style=\"color: #008080; text-decoration-color: #008080; font-weight: bold\">-1.46867168</span>, <span style=\"color: #008080; text-decoration-color: #008080; font-weight: bold\">-1.45864662</span>,\n",
       "       <span style=\"color: #008080; text-decoration-color: #008080; font-weight: bold\">-1.44862155</span>, <span style=\"color: #008080; text-decoration-color: #008080; font-weight: bold\">-1.43859649</span>, <span style=\"color: #008080; text-decoration-color: #008080; font-weight: bold\">-1.42857143</span>, <span style=\"color: #008080; text-decoration-color: #008080; font-weight: bold\">-1.41854637</span>, <span style=\"color: #008080; text-decoration-color: #008080; font-weight: bold\">-1.4085213</span> ,\n",
       "       <span style=\"color: #008080; text-decoration-color: #008080; font-weight: bold\">-1.39849624</span>, <span style=\"color: #008080; text-decoration-color: #008080; font-weight: bold\">-1.38847118</span>, <span style=\"color: #008080; text-decoration-color: #008080; font-weight: bold\">-1.37844612</span>, <span style=\"color: #008080; text-decoration-color: #008080; font-weight: bold\">-1.36842105</span>, <span style=\"color: #008080; text-decoration-color: #008080; font-weight: bold\">-1.35839599</span>,\n",
       "       <span style=\"color: #008080; text-decoration-color: #008080; font-weight: bold\">-1.34837093</span>, <span style=\"color: #008080; text-decoration-color: #008080; font-weight: bold\">-1.33834586</span>, <span style=\"color: #008080; text-decoration-color: #008080; font-weight: bold\">-1.3283208</span> , <span style=\"color: #008080; text-decoration-color: #008080; font-weight: bold\">-1.31829574</span>, <span style=\"color: #008080; text-decoration-color: #008080; font-weight: bold\">-1.30827068</span>,\n",
       "       <span style=\"color: #008080; text-decoration-color: #008080; font-weight: bold\">-1.29824561</span>, <span style=\"color: #008080; text-decoration-color: #008080; font-weight: bold\">-1.28822055</span>, <span style=\"color: #008080; text-decoration-color: #008080; font-weight: bold\">-1.27819549</span>, <span style=\"color: #008080; text-decoration-color: #008080; font-weight: bold\">-1.26817043</span>, <span style=\"color: #008080; text-decoration-color: #008080; font-weight: bold\">-1.25814536</span>,\n",
       "       <span style=\"color: #008080; text-decoration-color: #008080; font-weight: bold\">-1.2481203</span> , <span style=\"color: #008080; text-decoration-color: #008080; font-weight: bold\">-1.23809524</span>, <span style=\"color: #008080; text-decoration-color: #008080; font-weight: bold\">-1.22807018</span>, <span style=\"color: #008080; text-decoration-color: #008080; font-weight: bold\">-1.21804511</span>, <span style=\"color: #008080; text-decoration-color: #008080; font-weight: bold\">-1.20802005</span>,\n",
       "       <span style=\"color: #008080; text-decoration-color: #008080; font-weight: bold\">-1.19799499</span>, <span style=\"color: #008080; text-decoration-color: #008080; font-weight: bold\">-1.18796992</span>, <span style=\"color: #008080; text-decoration-color: #008080; font-weight: bold\">-1.17794486</span>, <span style=\"color: #008080; text-decoration-color: #008080; font-weight: bold\">-1.1679198</span> , <span style=\"color: #008080; text-decoration-color: #008080; font-weight: bold\">-1.15789474</span>,\n",
       "       <span style=\"color: #008080; text-decoration-color: #008080; font-weight: bold\">-1.14786967</span>, <span style=\"color: #008080; text-decoration-color: #008080; font-weight: bold\">-1.13784461</span>, <span style=\"color: #008080; text-decoration-color: #008080; font-weight: bold\">-1.12781955</span>, <span style=\"color: #008080; text-decoration-color: #008080; font-weight: bold\">-1.11779449</span>, <span style=\"color: #008080; text-decoration-color: #008080; font-weight: bold\">-1.10776942</span>,\n",
       "       <span style=\"color: #008080; text-decoration-color: #008080; font-weight: bold\">-1.09774436</span>, <span style=\"color: #008080; text-decoration-color: #008080; font-weight: bold\">-1.0877193</span> , <span style=\"color: #008080; text-decoration-color: #008080; font-weight: bold\">-1.07769424</span>, <span style=\"color: #008080; text-decoration-color: #008080; font-weight: bold\">-1.06766917</span>, <span style=\"color: #008080; text-decoration-color: #008080; font-weight: bold\">-1.05764411</span>,\n",
       "       <span style=\"color: #008080; text-decoration-color: #008080; font-weight: bold\">-1.04761905</span>, <span style=\"color: #008080; text-decoration-color: #008080; font-weight: bold\">-1.03759398</span>, <span style=\"color: #008080; text-decoration-color: #008080; font-weight: bold\">-1.02756892</span>, <span style=\"color: #008080; text-decoration-color: #008080; font-weight: bold\">-1.01754386</span>, <span style=\"color: #008080; text-decoration-color: #008080; font-weight: bold\">-1.0075188</span> ,\n",
       "       <span style=\"color: #008080; text-decoration-color: #008080; font-weight: bold\">-0.99749373</span>, <span style=\"color: #008080; text-decoration-color: #008080; font-weight: bold\">-0.98746867</span>, <span style=\"color: #008080; text-decoration-color: #008080; font-weight: bold\">-0.97744361</span>, <span style=\"color: #008080; text-decoration-color: #008080; font-weight: bold\">-0.96741855</span>, <span style=\"color: #008080; text-decoration-color: #008080; font-weight: bold\">-0.95739348</span>,\n",
       "       <span style=\"color: #008080; text-decoration-color: #008080; font-weight: bold\">-0.94736842</span>, <span style=\"color: #008080; text-decoration-color: #008080; font-weight: bold\">-0.93734336</span>, <span style=\"color: #008080; text-decoration-color: #008080; font-weight: bold\">-0.9273183</span> , <span style=\"color: #008080; text-decoration-color: #008080; font-weight: bold\">-0.91729323</span>, <span style=\"color: #008080; text-decoration-color: #008080; font-weight: bold\">-0.90726817</span>,\n",
       "       <span style=\"color: #008080; text-decoration-color: #008080; font-weight: bold\">-0.89724311</span>, <span style=\"color: #008080; text-decoration-color: #008080; font-weight: bold\">-0.88721805</span>, <span style=\"color: #008080; text-decoration-color: #008080; font-weight: bold\">-0.87719298</span>, <span style=\"color: #008080; text-decoration-color: #008080; font-weight: bold\">-0.86716792</span>, <span style=\"color: #008080; text-decoration-color: #008080; font-weight: bold\">-0.85714286</span>,\n",
       "       <span style=\"color: #008080; text-decoration-color: #008080; font-weight: bold\">-0.84711779</span>, <span style=\"color: #008080; text-decoration-color: #008080; font-weight: bold\">-0.83709273</span>, <span style=\"color: #008080; text-decoration-color: #008080; font-weight: bold\">-0.82706767</span>, <span style=\"color: #008080; text-decoration-color: #008080; font-weight: bold\">-0.81704261</span>, <span style=\"color: #008080; text-decoration-color: #008080; font-weight: bold\">-0.80701754</span>,\n",
       "       <span style=\"color: #008080; text-decoration-color: #008080; font-weight: bold\">-0.79699248</span>, <span style=\"color: #008080; text-decoration-color: #008080; font-weight: bold\">-0.78696742</span>, <span style=\"color: #008080; text-decoration-color: #008080; font-weight: bold\">-0.77694236</span>, <span style=\"color: #008080; text-decoration-color: #008080; font-weight: bold\">-0.76691729</span>, <span style=\"color: #008080; text-decoration-color: #008080; font-weight: bold\">-0.75689223</span>,\n",
       "       <span style=\"color: #008080; text-decoration-color: #008080; font-weight: bold\">-0.74686717</span>, <span style=\"color: #008080; text-decoration-color: #008080; font-weight: bold\">-0.73684211</span>, <span style=\"color: #008080; text-decoration-color: #008080; font-weight: bold\">-0.72681704</span>, <span style=\"color: #008080; text-decoration-color: #008080; font-weight: bold\">-0.71679198</span>, <span style=\"color: #008080; text-decoration-color: #008080; font-weight: bold\">-0.70676692</span>,\n",
       "       <span style=\"color: #008080; text-decoration-color: #008080; font-weight: bold\">-0.69674185</span>, <span style=\"color: #008080; text-decoration-color: #008080; font-weight: bold\">-0.68671679</span>, <span style=\"color: #008080; text-decoration-color: #008080; font-weight: bold\">-0.67669173</span>, <span style=\"color: #008080; text-decoration-color: #008080; font-weight: bold\">-0.66666667</span>, <span style=\"color: #008080; text-decoration-color: #008080; font-weight: bold\">-0.6566416</span> ,\n",
       "       <span style=\"color: #008080; text-decoration-color: #008080; font-weight: bold\">-0.64661654</span>, <span style=\"color: #008080; text-decoration-color: #008080; font-weight: bold\">-0.63659148</span>, <span style=\"color: #008080; text-decoration-color: #008080; font-weight: bold\">-0.62656642</span>, <span style=\"color: #008080; text-decoration-color: #008080; font-weight: bold\">-0.61654135</span>, <span style=\"color: #008080; text-decoration-color: #008080; font-weight: bold\">-0.60651629</span>,\n",
       "       <span style=\"color: #008080; text-decoration-color: #008080; font-weight: bold\">-0.59649123</span>, <span style=\"color: #008080; text-decoration-color: #008080; font-weight: bold\">-0.58646617</span>, <span style=\"color: #008080; text-decoration-color: #008080; font-weight: bold\">-0.5764411</span> , <span style=\"color: #008080; text-decoration-color: #008080; font-weight: bold\">-0.56641604</span>, <span style=\"color: #008080; text-decoration-color: #008080; font-weight: bold\">-0.55639098</span>,\n",
       "       <span style=\"color: #008080; text-decoration-color: #008080; font-weight: bold\">-0.54636591</span>, <span style=\"color: #008080; text-decoration-color: #008080; font-weight: bold\">-0.53634085</span>, <span style=\"color: #008080; text-decoration-color: #008080; font-weight: bold\">-0.52631579</span>, <span style=\"color: #008080; text-decoration-color: #008080; font-weight: bold\">-0.51629073</span>, <span style=\"color: #008080; text-decoration-color: #008080; font-weight: bold\">-0.50626566</span>,\n",
       "       <span style=\"color: #008080; text-decoration-color: #008080; font-weight: bold\">-0.4962406</span> , <span style=\"color: #008080; text-decoration-color: #008080; font-weight: bold\">-0.48621554</span>, <span style=\"color: #008080; text-decoration-color: #008080; font-weight: bold\">-0.47619048</span>, <span style=\"color: #008080; text-decoration-color: #008080; font-weight: bold\">-0.46616541</span>, <span style=\"color: #008080; text-decoration-color: #008080; font-weight: bold\">-0.45614035</span>,\n",
       "       <span style=\"color: #008080; text-decoration-color: #008080; font-weight: bold\">-0.44611529</span>, <span style=\"color: #008080; text-decoration-color: #008080; font-weight: bold\">-0.43609023</span>, <span style=\"color: #008080; text-decoration-color: #008080; font-weight: bold\">-0.42606516</span>, <span style=\"color: #008080; text-decoration-color: #008080; font-weight: bold\">-0.4160401</span> , <span style=\"color: #008080; text-decoration-color: #008080; font-weight: bold\">-0.40601504</span>,\n",
       "       <span style=\"color: #008080; text-decoration-color: #008080; font-weight: bold\">-0.39598997</span>, <span style=\"color: #008080; text-decoration-color: #008080; font-weight: bold\">-0.38596491</span>, <span style=\"color: #008080; text-decoration-color: #008080; font-weight: bold\">-0.37593985</span>, <span style=\"color: #008080; text-decoration-color: #008080; font-weight: bold\">-0.36591479</span>, <span style=\"color: #008080; text-decoration-color: #008080; font-weight: bold\">-0.35588972</span>,\n",
       "       <span style=\"color: #008080; text-decoration-color: #008080; font-weight: bold\">-0.34586466</span>, <span style=\"color: #008080; text-decoration-color: #008080; font-weight: bold\">-0.3358396</span> , <span style=\"color: #008080; text-decoration-color: #008080; font-weight: bold\">-0.32581454</span>, <span style=\"color: #008080; text-decoration-color: #008080; font-weight: bold\">-0.31578947</span>, <span style=\"color: #008080; text-decoration-color: #008080; font-weight: bold\">-0.30576441</span>,\n",
       "       <span style=\"color: #008080; text-decoration-color: #008080; font-weight: bold\">-0.29573935</span>, <span style=\"color: #008080; text-decoration-color: #008080; font-weight: bold\">-0.28571429</span>, <span style=\"color: #008080; text-decoration-color: #008080; font-weight: bold\">-0.27568922</span>, <span style=\"color: #008080; text-decoration-color: #008080; font-weight: bold\">-0.26566416</span>, <span style=\"color: #008080; text-decoration-color: #008080; font-weight: bold\">-0.2556391</span> ,\n",
       "       <span style=\"color: #008080; text-decoration-color: #008080; font-weight: bold\">-0.24561404</span>, <span style=\"color: #008080; text-decoration-color: #008080; font-weight: bold\">-0.23558897</span>, <span style=\"color: #008080; text-decoration-color: #008080; font-weight: bold\">-0.22556391</span>, <span style=\"color: #008080; text-decoration-color: #008080; font-weight: bold\">-0.21553885</span>, <span style=\"color: #008080; text-decoration-color: #008080; font-weight: bold\">-0.20551378</span>,\n",
       "       <span style=\"color: #008080; text-decoration-color: #008080; font-weight: bold\">-0.19548872</span>, <span style=\"color: #008080; text-decoration-color: #008080; font-weight: bold\">-0.18546366</span>, <span style=\"color: #008080; text-decoration-color: #008080; font-weight: bold\">-0.1754386</span> , <span style=\"color: #008080; text-decoration-color: #008080; font-weight: bold\">-0.16541353</span>, <span style=\"color: #008080; text-decoration-color: #008080; font-weight: bold\">-0.15538847</span>,\n",
       "       <span style=\"color: #008080; text-decoration-color: #008080; font-weight: bold\">-0.14536341</span>, <span style=\"color: #008080; text-decoration-color: #008080; font-weight: bold\">-0.13533835</span>, <span style=\"color: #008080; text-decoration-color: #008080; font-weight: bold\">-0.12531328</span>, <span style=\"color: #008080; text-decoration-color: #008080; font-weight: bold\">-0.11528822</span>, <span style=\"color: #008080; text-decoration-color: #008080; font-weight: bold\">-0.10526316</span>,\n",
       "       <span style=\"color: #008080; text-decoration-color: #008080; font-weight: bold\">-0.0952381</span> , <span style=\"color: #008080; text-decoration-color: #008080; font-weight: bold\">-0.08521303</span>, <span style=\"color: #008080; text-decoration-color: #008080; font-weight: bold\">-0.07518797</span>, <span style=\"color: #008080; text-decoration-color: #008080; font-weight: bold\">-0.06516291</span>, <span style=\"color: #008080; text-decoration-color: #008080; font-weight: bold\">-0.05513784</span>,\n",
       "       <span style=\"color: #008080; text-decoration-color: #008080; font-weight: bold\">-0.04511278</span>, <span style=\"color: #008080; text-decoration-color: #008080; font-weight: bold\">-0.03508772</span>, <span style=\"color: #008080; text-decoration-color: #008080; font-weight: bold\">-0.02506266</span>, <span style=\"color: #008080; text-decoration-color: #008080; font-weight: bold\">-0.01503759</span>, <span style=\"color: #008080; text-decoration-color: #008080; font-weight: bold\">-0.00501253</span>,\n",
       "        <span style=\"color: #008080; text-decoration-color: #008080; font-weight: bold\">0.00501253</span>,  <span style=\"color: #008080; text-decoration-color: #008080; font-weight: bold\">0.01503759</span>,  <span style=\"color: #008080; text-decoration-color: #008080; font-weight: bold\">0.02506266</span>,  <span style=\"color: #008080; text-decoration-color: #008080; font-weight: bold\">0.03508772</span>,  <span style=\"color: #008080; text-decoration-color: #008080; font-weight: bold\">0.04511278</span>,\n",
       "        <span style=\"color: #008080; text-decoration-color: #008080; font-weight: bold\">0.05513784</span>,  <span style=\"color: #008080; text-decoration-color: #008080; font-weight: bold\">0.06516291</span>,  <span style=\"color: #008080; text-decoration-color: #008080; font-weight: bold\">0.07518797</span>,  <span style=\"color: #008080; text-decoration-color: #008080; font-weight: bold\">0.08521303</span>,  <span style=\"color: #008080; text-decoration-color: #008080; font-weight: bold\">0.0952381</span> ,\n",
       "        <span style=\"color: #008080; text-decoration-color: #008080; font-weight: bold\">0.10526316</span>,  <span style=\"color: #008080; text-decoration-color: #008080; font-weight: bold\">0.11528822</span>,  <span style=\"color: #008080; text-decoration-color: #008080; font-weight: bold\">0.12531328</span>,  <span style=\"color: #008080; text-decoration-color: #008080; font-weight: bold\">0.13533835</span>,  <span style=\"color: #008080; text-decoration-color: #008080; font-weight: bold\">0.14536341</span>,\n",
       "        <span style=\"color: #008080; text-decoration-color: #008080; font-weight: bold\">0.15538847</span>,  <span style=\"color: #008080; text-decoration-color: #008080; font-weight: bold\">0.16541353</span>,  <span style=\"color: #008080; text-decoration-color: #008080; font-weight: bold\">0.1754386</span> ,  <span style=\"color: #008080; text-decoration-color: #008080; font-weight: bold\">0.18546366</span>,  <span style=\"color: #008080; text-decoration-color: #008080; font-weight: bold\">0.19548872</span>,\n",
       "        <span style=\"color: #008080; text-decoration-color: #008080; font-weight: bold\">0.20551378</span>,  <span style=\"color: #008080; text-decoration-color: #008080; font-weight: bold\">0.21553885</span>,  <span style=\"color: #008080; text-decoration-color: #008080; font-weight: bold\">0.22556391</span>,  <span style=\"color: #008080; text-decoration-color: #008080; font-weight: bold\">0.23558897</span>,  <span style=\"color: #008080; text-decoration-color: #008080; font-weight: bold\">0.24561404</span>,\n",
       "        <span style=\"color: #008080; text-decoration-color: #008080; font-weight: bold\">0.2556391</span> ,  <span style=\"color: #008080; text-decoration-color: #008080; font-weight: bold\">0.26566416</span>,  <span style=\"color: #008080; text-decoration-color: #008080; font-weight: bold\">0.27568922</span>,  <span style=\"color: #008080; text-decoration-color: #008080; font-weight: bold\">0.28571429</span>,  <span style=\"color: #008080; text-decoration-color: #008080; font-weight: bold\">0.29573935</span>,\n",
       "        <span style=\"color: #008080; text-decoration-color: #008080; font-weight: bold\">0.30576441</span>,  <span style=\"color: #008080; text-decoration-color: #008080; font-weight: bold\">0.31578947</span>,  <span style=\"color: #008080; text-decoration-color: #008080; font-weight: bold\">0.32581454</span>,  <span style=\"color: #008080; text-decoration-color: #008080; font-weight: bold\">0.3358396</span> ,  <span style=\"color: #008080; text-decoration-color: #008080; font-weight: bold\">0.34586466</span>,\n",
       "        <span style=\"color: #008080; text-decoration-color: #008080; font-weight: bold\">0.35588972</span>,  <span style=\"color: #008080; text-decoration-color: #008080; font-weight: bold\">0.36591479</span>,  <span style=\"color: #008080; text-decoration-color: #008080; font-weight: bold\">0.37593985</span>,  <span style=\"color: #008080; text-decoration-color: #008080; font-weight: bold\">0.38596491</span>,  <span style=\"color: #008080; text-decoration-color: #008080; font-weight: bold\">0.39598997</span>,\n",
       "        <span style=\"color: #008080; text-decoration-color: #008080; font-weight: bold\">0.40601504</span>,  <span style=\"color: #008080; text-decoration-color: #008080; font-weight: bold\">0.4160401</span> ,  <span style=\"color: #008080; text-decoration-color: #008080; font-weight: bold\">0.42606516</span>,  <span style=\"color: #008080; text-decoration-color: #008080; font-weight: bold\">0.43609023</span>,  <span style=\"color: #008080; text-decoration-color: #008080; font-weight: bold\">0.44611529</span>,\n",
       "        <span style=\"color: #008080; text-decoration-color: #008080; font-weight: bold\">0.45614035</span>,  <span style=\"color: #008080; text-decoration-color: #008080; font-weight: bold\">0.46616541</span>,  <span style=\"color: #008080; text-decoration-color: #008080; font-weight: bold\">0.47619048</span>,  <span style=\"color: #008080; text-decoration-color: #008080; font-weight: bold\">0.48621554</span>,  <span style=\"color: #008080; text-decoration-color: #008080; font-weight: bold\">0.4962406</span> ,\n",
       "        <span style=\"color: #008080; text-decoration-color: #008080; font-weight: bold\">0.50626566</span>,  <span style=\"color: #008080; text-decoration-color: #008080; font-weight: bold\">0.51629073</span>,  <span style=\"color: #008080; text-decoration-color: #008080; font-weight: bold\">0.52631579</span>,  <span style=\"color: #008080; text-decoration-color: #008080; font-weight: bold\">0.53634085</span>,  <span style=\"color: #008080; text-decoration-color: #008080; font-weight: bold\">0.54636591</span>,\n",
       "        <span style=\"color: #008080; text-decoration-color: #008080; font-weight: bold\">0.55639098</span>,  <span style=\"color: #008080; text-decoration-color: #008080; font-weight: bold\">0.56641604</span>,  <span style=\"color: #008080; text-decoration-color: #008080; font-weight: bold\">0.5764411</span> ,  <span style=\"color: #008080; text-decoration-color: #008080; font-weight: bold\">0.58646617</span>,  <span style=\"color: #008080; text-decoration-color: #008080; font-weight: bold\">0.59649123</span>,\n",
       "        <span style=\"color: #008080; text-decoration-color: #008080; font-weight: bold\">0.60651629</span>,  <span style=\"color: #008080; text-decoration-color: #008080; font-weight: bold\">0.61654135</span>,  <span style=\"color: #008080; text-decoration-color: #008080; font-weight: bold\">0.62656642</span>,  <span style=\"color: #008080; text-decoration-color: #008080; font-weight: bold\">0.63659148</span>,  <span style=\"color: #008080; text-decoration-color: #008080; font-weight: bold\">0.64661654</span>,\n",
       "        <span style=\"color: #008080; text-decoration-color: #008080; font-weight: bold\">0.6566416</span> ,  <span style=\"color: #008080; text-decoration-color: #008080; font-weight: bold\">0.66666667</span>,  <span style=\"color: #008080; text-decoration-color: #008080; font-weight: bold\">0.67669173</span>,  <span style=\"color: #008080; text-decoration-color: #008080; font-weight: bold\">0.68671679</span>,  <span style=\"color: #008080; text-decoration-color: #008080; font-weight: bold\">0.69674185</span>,\n",
       "        <span style=\"color: #008080; text-decoration-color: #008080; font-weight: bold\">0.70676692</span>,  <span style=\"color: #008080; text-decoration-color: #008080; font-weight: bold\">0.71679198</span>,  <span style=\"color: #008080; text-decoration-color: #008080; font-weight: bold\">0.72681704</span>,  <span style=\"color: #008080; text-decoration-color: #008080; font-weight: bold\">0.73684211</span>,  <span style=\"color: #008080; text-decoration-color: #008080; font-weight: bold\">0.74686717</span>,\n",
       "        <span style=\"color: #008080; text-decoration-color: #008080; font-weight: bold\">0.75689223</span>,  <span style=\"color: #008080; text-decoration-color: #008080; font-weight: bold\">0.76691729</span>,  <span style=\"color: #008080; text-decoration-color: #008080; font-weight: bold\">0.77694236</span>,  <span style=\"color: #008080; text-decoration-color: #008080; font-weight: bold\">0.78696742</span>,  <span style=\"color: #008080; text-decoration-color: #008080; font-weight: bold\">0.79699248</span>,\n",
       "        <span style=\"color: #008080; text-decoration-color: #008080; font-weight: bold\">0.80701754</span>,  <span style=\"color: #008080; text-decoration-color: #008080; font-weight: bold\">0.81704261</span>,  <span style=\"color: #008080; text-decoration-color: #008080; font-weight: bold\">0.82706767</span>,  <span style=\"color: #008080; text-decoration-color: #008080; font-weight: bold\">0.83709273</span>,  <span style=\"color: #008080; text-decoration-color: #008080; font-weight: bold\">0.84711779</span>,\n",
       "        <span style=\"color: #008080; text-decoration-color: #008080; font-weight: bold\">0.85714286</span>,  <span style=\"color: #008080; text-decoration-color: #008080; font-weight: bold\">0.86716792</span>,  <span style=\"color: #008080; text-decoration-color: #008080; font-weight: bold\">0.87719298</span>,  <span style=\"color: #008080; text-decoration-color: #008080; font-weight: bold\">0.88721805</span>,  <span style=\"color: #008080; text-decoration-color: #008080; font-weight: bold\">0.89724311</span>,\n",
       "        <span style=\"color: #008080; text-decoration-color: #008080; font-weight: bold\">0.90726817</span>,  <span style=\"color: #008080; text-decoration-color: #008080; font-weight: bold\">0.91729323</span>,  <span style=\"color: #008080; text-decoration-color: #008080; font-weight: bold\">0.9273183</span> ,  <span style=\"color: #008080; text-decoration-color: #008080; font-weight: bold\">0.93734336</span>,  <span style=\"color: #008080; text-decoration-color: #008080; font-weight: bold\">0.94736842</span>,\n",
       "        <span style=\"color: #008080; text-decoration-color: #008080; font-weight: bold\">0.95739348</span>,  <span style=\"color: #008080; text-decoration-color: #008080; font-weight: bold\">0.96741855</span>,  <span style=\"color: #008080; text-decoration-color: #008080; font-weight: bold\">0.97744361</span>,  <span style=\"color: #008080; text-decoration-color: #008080; font-weight: bold\">0.98746867</span>,  <span style=\"color: #008080; text-decoration-color: #008080; font-weight: bold\">0.99749373</span>,\n",
       "        <span style=\"color: #008080; text-decoration-color: #008080; font-weight: bold\">1.0075188</span> ,  <span style=\"color: #008080; text-decoration-color: #008080; font-weight: bold\">1.01754386</span>,  <span style=\"color: #008080; text-decoration-color: #008080; font-weight: bold\">1.02756892</span>,  <span style=\"color: #008080; text-decoration-color: #008080; font-weight: bold\">1.03759398</span>,  <span style=\"color: #008080; text-decoration-color: #008080; font-weight: bold\">1.04761905</span>,\n",
       "        <span style=\"color: #008080; text-decoration-color: #008080; font-weight: bold\">1.05764411</span>,  <span style=\"color: #008080; text-decoration-color: #008080; font-weight: bold\">1.06766917</span>,  <span style=\"color: #008080; text-decoration-color: #008080; font-weight: bold\">1.07769424</span>,  <span style=\"color: #008080; text-decoration-color: #008080; font-weight: bold\">1.0877193</span> ,  <span style=\"color: #008080; text-decoration-color: #008080; font-weight: bold\">1.09774436</span>,\n",
       "        <span style=\"color: #008080; text-decoration-color: #008080; font-weight: bold\">1.10776942</span>,  <span style=\"color: #008080; text-decoration-color: #008080; font-weight: bold\">1.11779449</span>,  <span style=\"color: #008080; text-decoration-color: #008080; font-weight: bold\">1.12781955</span>,  <span style=\"color: #008080; text-decoration-color: #008080; font-weight: bold\">1.13784461</span>,  <span style=\"color: #008080; text-decoration-color: #008080; font-weight: bold\">1.14786967</span>,\n",
       "        <span style=\"color: #008080; text-decoration-color: #008080; font-weight: bold\">1.15789474</span>,  <span style=\"color: #008080; text-decoration-color: #008080; font-weight: bold\">1.1679198</span> ,  <span style=\"color: #008080; text-decoration-color: #008080; font-weight: bold\">1.17794486</span>,  <span style=\"color: #008080; text-decoration-color: #008080; font-weight: bold\">1.18796992</span>,  <span style=\"color: #008080; text-decoration-color: #008080; font-weight: bold\">1.19799499</span>,\n",
       "        <span style=\"color: #008080; text-decoration-color: #008080; font-weight: bold\">1.20802005</span>,  <span style=\"color: #008080; text-decoration-color: #008080; font-weight: bold\">1.21804511</span>,  <span style=\"color: #008080; text-decoration-color: #008080; font-weight: bold\">1.22807018</span>,  <span style=\"color: #008080; text-decoration-color: #008080; font-weight: bold\">1.23809524</span>,  <span style=\"color: #008080; text-decoration-color: #008080; font-weight: bold\">1.2481203</span> ,\n",
       "        <span style=\"color: #008080; text-decoration-color: #008080; font-weight: bold\">1.25814536</span>,  <span style=\"color: #008080; text-decoration-color: #008080; font-weight: bold\">1.26817043</span>,  <span style=\"color: #008080; text-decoration-color: #008080; font-weight: bold\">1.27819549</span>,  <span style=\"color: #008080; text-decoration-color: #008080; font-weight: bold\">1.28822055</span>,  <span style=\"color: #008080; text-decoration-color: #008080; font-weight: bold\">1.29824561</span>,\n",
       "        <span style=\"color: #008080; text-decoration-color: #008080; font-weight: bold\">1.30827068</span>,  <span style=\"color: #008080; text-decoration-color: #008080; font-weight: bold\">1.31829574</span>,  <span style=\"color: #008080; text-decoration-color: #008080; font-weight: bold\">1.3283208</span> ,  <span style=\"color: #008080; text-decoration-color: #008080; font-weight: bold\">1.33834586</span>,  <span style=\"color: #008080; text-decoration-color: #008080; font-weight: bold\">1.34837093</span>,\n",
       "        <span style=\"color: #008080; text-decoration-color: #008080; font-weight: bold\">1.35839599</span>,  <span style=\"color: #008080; text-decoration-color: #008080; font-weight: bold\">1.36842105</span>,  <span style=\"color: #008080; text-decoration-color: #008080; font-weight: bold\">1.37844612</span>,  <span style=\"color: #008080; text-decoration-color: #008080; font-weight: bold\">1.38847118</span>,  <span style=\"color: #008080; text-decoration-color: #008080; font-weight: bold\">1.39849624</span>,\n",
       "        <span style=\"color: #008080; text-decoration-color: #008080; font-weight: bold\">1.4085213</span> ,  <span style=\"color: #008080; text-decoration-color: #008080; font-weight: bold\">1.41854637</span>,  <span style=\"color: #008080; text-decoration-color: #008080; font-weight: bold\">1.42857143</span>,  <span style=\"color: #008080; text-decoration-color: #008080; font-weight: bold\">1.43859649</span>,  <span style=\"color: #008080; text-decoration-color: #008080; font-weight: bold\">1.44862155</span>,\n",
       "        <span style=\"color: #008080; text-decoration-color: #008080; font-weight: bold\">1.45864662</span>,  <span style=\"color: #008080; text-decoration-color: #008080; font-weight: bold\">1.46867168</span>,  <span style=\"color: #008080; text-decoration-color: #008080; font-weight: bold\">1.47869674</span>,  <span style=\"color: #008080; text-decoration-color: #008080; font-weight: bold\">1.4887218</span> ,  <span style=\"color: #008080; text-decoration-color: #008080; font-weight: bold\">1.49874687</span>,\n",
       "        <span style=\"color: #008080; text-decoration-color: #008080; font-weight: bold\">1.50877193</span>,  <span style=\"color: #008080; text-decoration-color: #008080; font-weight: bold\">1.51879699</span>,  <span style=\"color: #008080; text-decoration-color: #008080; font-weight: bold\">1.52882206</span>,  <span style=\"color: #008080; text-decoration-color: #008080; font-weight: bold\">1.53884712</span>,  <span style=\"color: #008080; text-decoration-color: #008080; font-weight: bold\">1.54887218</span>,\n",
       "        <span style=\"color: #008080; text-decoration-color: #008080; font-weight: bold\">1.55889724</span>,  <span style=\"color: #008080; text-decoration-color: #008080; font-weight: bold\">1.56892231</span>,  <span style=\"color: #008080; text-decoration-color: #008080; font-weight: bold\">1.57894737</span>,  <span style=\"color: #008080; text-decoration-color: #008080; font-weight: bold\">1.58897243</span>,  <span style=\"color: #008080; text-decoration-color: #008080; font-weight: bold\">1.59899749</span>,\n",
       "        <span style=\"color: #008080; text-decoration-color: #008080; font-weight: bold\">1.60902256</span>,  <span style=\"color: #008080; text-decoration-color: #008080; font-weight: bold\">1.61904762</span>,  <span style=\"color: #008080; text-decoration-color: #008080; font-weight: bold\">1.62907268</span>,  <span style=\"color: #008080; text-decoration-color: #008080; font-weight: bold\">1.63909774</span>,  <span style=\"color: #008080; text-decoration-color: #008080; font-weight: bold\">1.64912281</span>,\n",
       "        <span style=\"color: #008080; text-decoration-color: #008080; font-weight: bold\">1.65914787</span>,  <span style=\"color: #008080; text-decoration-color: #008080; font-weight: bold\">1.66917293</span>,  <span style=\"color: #008080; text-decoration-color: #008080; font-weight: bold\">1.67919799</span>,  <span style=\"color: #008080; text-decoration-color: #008080; font-weight: bold\">1.68922306</span>,  <span style=\"color: #008080; text-decoration-color: #008080; font-weight: bold\">1.69924812</span>,\n",
       "        <span style=\"color: #008080; text-decoration-color: #008080; font-weight: bold\">1.70927318</span>,  <span style=\"color: #008080; text-decoration-color: #008080; font-weight: bold\">1.71929825</span>,  <span style=\"color: #008080; text-decoration-color: #008080; font-weight: bold\">1.72932331</span>,  <span style=\"color: #008080; text-decoration-color: #008080; font-weight: bold\">1.73934837</span>,  <span style=\"color: #008080; text-decoration-color: #008080; font-weight: bold\">1.74937343</span>,\n",
       "        <span style=\"color: #008080; text-decoration-color: #008080; font-weight: bold\">1.7593985</span> ,  <span style=\"color: #008080; text-decoration-color: #008080; font-weight: bold\">1.76942356</span>,  <span style=\"color: #008080; text-decoration-color: #008080; font-weight: bold\">1.77944862</span>,  <span style=\"color: #008080; text-decoration-color: #008080; font-weight: bold\">1.78947368</span>,  <span style=\"color: #008080; text-decoration-color: #008080; font-weight: bold\">1.79949875</span>,\n",
       "        <span style=\"color: #008080; text-decoration-color: #008080; font-weight: bold\">1.80952381</span>,  <span style=\"color: #008080; text-decoration-color: #008080; font-weight: bold\">1.81954887</span>,  <span style=\"color: #008080; text-decoration-color: #008080; font-weight: bold\">1.82957393</span>,  <span style=\"color: #008080; text-decoration-color: #008080; font-weight: bold\">1.839599</span>  ,  <span style=\"color: #008080; text-decoration-color: #008080; font-weight: bold\">1.84962406</span>,\n",
       "        <span style=\"color: #008080; text-decoration-color: #008080; font-weight: bold\">1.85964912</span>,  <span style=\"color: #008080; text-decoration-color: #008080; font-weight: bold\">1.86967419</span>,  <span style=\"color: #008080; text-decoration-color: #008080; font-weight: bold\">1.87969925</span>,  <span style=\"color: #008080; text-decoration-color: #008080; font-weight: bold\">1.88972431</span>,  <span style=\"color: #008080; text-decoration-color: #008080; font-weight: bold\">1.89974937</span>,\n",
       "        <span style=\"color: #008080; text-decoration-color: #008080; font-weight: bold\">1.90977444</span>,  <span style=\"color: #008080; text-decoration-color: #008080; font-weight: bold\">1.9197995</span> ,  <span style=\"color: #008080; text-decoration-color: #008080; font-weight: bold\">1.92982456</span>,  <span style=\"color: #008080; text-decoration-color: #008080; font-weight: bold\">1.93984962</span>,  <span style=\"color: #008080; text-decoration-color: #008080; font-weight: bold\">1.94987469</span>,\n",
       "        <span style=\"color: #008080; text-decoration-color: #008080; font-weight: bold\">1.95989975</span>,  <span style=\"color: #008080; text-decoration-color: #008080; font-weight: bold\">1.96992481</span>,  <span style=\"color: #008080; text-decoration-color: #008080; font-weight: bold\">1.97994987</span>,  <span style=\"color: #008080; text-decoration-color: #008080; font-weight: bold\">1.98997494</span>,  <span style=\"color: #008080; text-decoration-color: #008080; font-weight: bold\">2</span>.        <span style=\"font-weight: bold\">])]</span>, <span style=\"color: #808000; text-decoration-color: #808000\">z</span>=<span style=\"font-weight: bold\">[</span><span style=\"color: #800080; text-decoration-color: #800080; font-weight: bold\">array</span><span style=\"font-weight: bold\">([</span><span style=\"color: #008080; text-decoration-color: #008080; font-weight: bold\">0</span>.<span style=\"font-weight: bold\">])</span>, <span style=\"color: #800080; text-decoration-color: #800080; font-weight: bold\">array</span><span style=\"font-weight: bold\">([</span><span style=\"color: #008080; text-decoration-color: #008080; font-weight: bold\">0</span>.<span style=\"font-weight: bold\">])]</span>, <span style=\"color: #808000; text-decoration-color: #808000\">f</span>=<span style=\"color: #800080; text-decoration-color: #800080; font-weight: bold\">array</span><span style=\"font-weight: bold\">([</span><span style=\"color: #008080; text-decoration-color: #008080; font-weight: bold\">3.e+14</span><span style=\"font-weight: bold\">])</span>, <span style=\"color: #808000; text-decoration-color: #808000\">data</span>=<span style=\"font-weight: bold\">&lt;</span><span style=\"color: #ff00ff; text-decoration-color: #ff00ff; font-weight: bold\">xarray.Dataset</span><span style=\"font-weight: bold\">&gt;</span>\n",
       "Dimensions:  <span style=\"font-weight: bold\">(</span>x: <span style=\"color: #008080; text-decoration-color: #008080; font-weight: bold\">400</span>, y: <span style=\"color: #008080; text-decoration-color: #008080; font-weight: bold\">400</span>, z: <span style=\"color: #008080; text-decoration-color: #008080; font-weight: bold\">1</span>, f: <span style=\"color: #008080; text-decoration-color: #008080; font-weight: bold\">1</span><span style=\"font-weight: bold\">)</span>\n",
       "Coordinates:\n",
       "  * x        <span style=\"font-weight: bold\">(</span>x<span style=\"font-weight: bold\">)</span> float64 <span style=\"color: #008080; text-decoration-color: #008080; font-weight: bold\">-2.0</span> <span style=\"color: #008080; text-decoration-color: #008080; font-weight: bold\">-1.99</span> <span style=\"color: #008080; text-decoration-color: #008080; font-weight: bold\">-1.98</span> <span style=\"color: #008080; text-decoration-color: #008080; font-weight: bold\">-1.97</span> <span style=\"color: #008080; text-decoration-color: #008080; font-weight: bold\">-1.96</span> <span style=\"color: #808000; text-decoration-color: #808000\">...</span> <span style=\"color: #008080; text-decoration-color: #008080; font-weight: bold\">1.97</span> <span style=\"color: #008080; text-decoration-color: #008080; font-weight: bold\">1.98</span> <span style=\"color: #008080; text-decoration-color: #008080; font-weight: bold\">1.99</span> <span style=\"color: #008080; text-decoration-color: #008080; font-weight: bold\">2.0</span>\n",
       "  * y        <span style=\"font-weight: bold\">(</span>y<span style=\"font-weight: bold\">)</span> float64 <span style=\"color: #008080; text-decoration-color: #008080; font-weight: bold\">-2.0</span> <span style=\"color: #008080; text-decoration-color: #008080; font-weight: bold\">-1.99</span> <span style=\"color: #008080; text-decoration-color: #008080; font-weight: bold\">-1.98</span> <span style=\"color: #008080; text-decoration-color: #008080; font-weight: bold\">-1.97</span> <span style=\"color: #008080; text-decoration-color: #008080; font-weight: bold\">-1.96</span> <span style=\"color: #808000; text-decoration-color: #808000\">...</span> <span style=\"color: #008080; text-decoration-color: #008080; font-weight: bold\">1.97</span> <span style=\"color: #008080; text-decoration-color: #008080; font-weight: bold\">1.98</span> <span style=\"color: #008080; text-decoration-color: #008080; font-weight: bold\">1.99</span> <span style=\"color: #008080; text-decoration-color: #008080; font-weight: bold\">2.0</span>\n",
       "  * z        <span style=\"font-weight: bold\">(</span>z<span style=\"font-weight: bold\">)</span> float64 <span style=\"color: #008080; text-decoration-color: #008080; font-weight: bold\">0.0</span>\n",
       "  * f        <span style=\"font-weight: bold\">(</span>f<span style=\"font-weight: bold\">)</span> float64 <span style=\"color: #008080; text-decoration-color: #008080; font-weight: bold\">3e+14</span>\n",
       "Data variables:\n",
       "    Ex       <span style=\"font-weight: bold\">(</span>x, y, z, f<span style=\"font-weight: bold\">)</span> complex128 <span style=\"font-weight: bold\">(</span><span style=\"color: #008080; text-decoration-color: #008080; font-weight: bold\">-7.402952762521758e-14</span>-<span style=\"color: #008080; text-decoration-color: #008080; font-weight: bold\">3.93818109362380</span><span style=\"color: #808000; text-decoration-color: #808000\">...</span>\n",
       "    Hy       <span style=\"font-weight: bold\">(</span>x, y, z, f<span style=\"font-weight: bold\">)</span> complex128 <span style=\"font-weight: bold\">(</span><span style=\"color: #008080; text-decoration-color: #008080; font-weight: bold\">-1.0116782850993052e-18</span>-<span style=\"color: #008080; text-decoration-color: #008080; font-weight: bold\">5.</span>850487689356e<span style=\"color: #808000; text-decoration-color: #808000\">...</span><span style=\"font-weight: bold\">)}</span>, <span style=\"color: #808000; text-decoration-color: #808000\">task_info</span>=<span style=\"font-weight: bold\">{</span><span style=\"color: #008000; text-decoration-color: #008000\">'execCount'</span>: <span style=\"color: #008080; text-decoration-color: #008080; font-weight: bold\">1</span>, <span style=\"color: #008000; text-decoration-color: #008000\">'s3Storage'</span>: <span style=\"color: #008080; text-decoration-color: #008080; font-weight: bold\">7919184.0</span>, <span style=\"color: #008000; text-decoration-color: #008000\">'userEmail'</span>: <span style=\"color: #800080; text-decoration-color: #800080; font-style: italic\">None</span>, <span style=\"color: #008000; text-decoration-color: #008000\">'coreDuration'</span>: <span style=\"color: #008080; text-decoration-color: #008080; font-weight: bold\">49.0</span>, <span style=\"color: #008000; text-decoration-color: #008000\">'coreStartTime'</span>: <span style=\"color: #008000; text-decoration-color: #008000\">'1634584820530552912'</span>, <span style=\"color: #008000; text-decoration-color: #008000\">'rankCount'</span>: <span style=\"color: #008080; text-decoration-color: #008080; font-weight: bold\">30</span>, <span style=\"color: #008000; text-decoration-color: #008000\">'submitTime'</span>: <span style=\"color: #008000; text-decoration-color: #008000\">'2021:10:18:19:19:41'</span>, <span style=\"color: #008000; text-decoration-color: #008000\">'updateTime'</span>: <span style=\"color: #800080; text-decoration-color: #800080; font-style: italic\">None</span>, <span style=\"color: #008000; text-decoration-color: #008000\">'status'</span>: <span style=\"color: #008000; text-decoration-color: #008000\">'success'</span>, <span style=\"color: #008000; text-decoration-color: #008000\">'taskParam'</span>: <span style=\"color: #800080; text-decoration-color: #800080; font-style: italic\">None</span>, <span style=\"color: #008000; text-decoration-color: #008000\">'objectId'</span>: <span style=\"color: #008000; text-decoration-color: #008000\">'default'</span>, <span style=\"color: #008000; text-decoration-color: #008000\">'folderId'</span>: <span style=\"color: #008000; text-decoration-color: #008000\">'default'</span>, <span style=\"color: #008000; text-decoration-color: #008000\">'solverVersion'</span>: <span style=\"color: #008000; text-decoration-color: #008000\">'release-21.3.1.6'</span>, <span style=\"color: #008000; text-decoration-color: #008000\">'worker'</span>: <span style=\"color: #008000; text-decoration-color: #008000\">'base'</span>, <span style=\"color: #008000; text-decoration-color: #008000\">'userId'</span>: <span style=\"color: #008000; text-decoration-color: #008000\">'AIDAXWCOWJGJBISZJPJQZ'</span>, <span style=\"color: #008000; text-decoration-color: #008000\">'taskType'</span>: <span style=\"color: #008000; text-decoration-color: #008000\">'em'</span>, <span style=\"color: #008000; text-decoration-color: #008000\">'objectType'</span>: <span style=\"color: #008000; text-decoration-color: #008000\">'FDTD'</span>, <span style=\"color: #008000; text-decoration-color: #008000\">'taskName'</span>: <span style=\"color: #008000; text-decoration-color: #008000\">'simple_simulation-16af3632da7c8e00'</span>, <span style=\"color: #008000; text-decoration-color: #008000\">'errorMessages'</span>: <span style=\"color: #800080; text-decoration-color: #800080; font-style: italic\">None</span>, <span style=\"color: #008000; text-decoration-color: #008000\">'nodeSize'</span>: <span style=\"color: #008080; text-decoration-color: #008080; font-weight: bold\">74088000</span>, <span style=\"color: #008000; text-decoration-color: #008000\">'timeSteps'</span>: <span style=\"color: #008080; text-decoration-color: #008080; font-weight: bold\">57696</span>, <span style=\"color: #008000; text-decoration-color: #008000\">'computeWeight'</span>: <span style=\"color: #008080; text-decoration-color: #008080; font-weight: bold\">2137.290624</span>, <span style=\"color: #008000; text-decoration-color: #008000\">'solverStartTime'</span>: <span style=\"color: #008000; text-decoration-color: #008000\">'2021:10:18:19:20:18'</span>, <span style=\"color: #008000; text-decoration-color: #008000\">'solverEndTime'</span>: <span style=\"color: #008000; text-decoration-color: #008000\">'2021:10:18:19:21:12'</span>, <span style=\"color: #008000; text-decoration-color: #008000\">'taskId'</span>: <span style=\"color: #008000; text-decoration-color: #008000\">'f1507d56-1680-42aa-bf25-a4c3665e467b'</span>, <span style=\"color: #008000; text-decoration-color: #008000\">'workerGroup'</span>: <span style=\"color: #008000; text-decoration-color: #008000\">'flow360cluster'</span>, <span style=\"color: #008000; text-decoration-color: #008000\">'realCost'</span>: <span style=\"color: #008080; text-decoration-color: #008080; font-weight: bold\">1.2460474617796802</span>, <span style=\"color: #008000; text-decoration-color: #008000\">'cloudInstanceSize'</span>: <span style=\"color: #800080; text-decoration-color: #800080; font-style: italic\">None</span>, <span style=\"color: #008000; text-decoration-color: #008000\">'flow360InstanceSize'</span>: <span style=\"color: #800080; text-decoration-color: #800080; font-style: italic\">None</span>, <span style=\"color: #008000; text-decoration-color: #008000\">'estCostMin'</span>: <span style=\"color: #008080; text-decoration-color: #008080; font-weight: bold\">2.2655622580899846</span>, <span style=\"color: #008000; text-decoration-color: #008000\">'estCostMax'</span>: <span style=\"color: #008080; text-decoration-color: #008080; font-weight: bold\">5.663905645224961</span>, <span style=\"color: #008000; text-decoration-color: #008000\">'running'</span>: <span style=\"color: #ff0000; text-decoration-color: #ff0000; font-style: italic\">False</span>, <span style=\"color: #008000; text-decoration-color: #008000\">'objectRefId'</span>: <span style=\"color: #800080; text-decoration-color: #800080; font-style: italic\">None</span>, <span style=\"color: #008000; text-decoration-color: #008000\">'metdataProcessed'</span>: <span style=\"color: #00ff00; text-decoration-color: #00ff00; font-style: italic\">True</span>, <span style=\"color: #008000; text-decoration-color: #008000\">'optSolverUnit'</span>: <span style=\"color: #008080; text-decoration-color: #008080; font-weight: bold\">0.0</span>, <span style=\"color: #008000; text-decoration-color: #008000\">'minSolverUnit'</span>: <span style=\"color: #008080; text-decoration-color: #008080; font-weight: bold\">0.0</span>, <span style=\"color: #008000; text-decoration-color: #008000\">'maxSolverUnit'</span>: <span style=\"color: #008080; text-decoration-color: #008080; font-weight: bold\">4.0</span><span style=\"font-weight: bold\">}</span>, <span style=\"color: #808000; text-decoration-color: #808000\">log_string</span>=<span style=\"color: #008000; text-decoration-color: #008000\">'Simulation domain Nx, Ny, Nz: [420, 420, 420]\\nApplied symmetries: [0, 0, 0]\\nNumber of computational grid points: 7.4088e+07.\\nUsing subpixel averaging: True\\nNumber of time steps: 57696\\nAutomatic shutoff factor: 1.00e-05\\nTime step (s): 1.7332e-17\\n\\nGet source modes time (s):    0.1126\\nGet monitor modes time (s):   0.0355\\nRest of setup time (s):       0.0818\\n\\nStarting solver...\\n- Time step   2307 / time 4.00e-14s (  4 % done), field decay: 1.00e+00\\n- Time step   4591 / time 7.96e-14s (  7 % done), field decay: 1.00e+00\\n- Time step   4615 / time 8.00e-14s (  8 % done), field decay: 1.00e+00\\n- Time step   6923 / time 1.20e-13s ( 12 % done), field decay: 8.07e-03\\n- Time step   9231 / time 1.60e-13s ( 16 % done), field decay: 2.86e-03\\n- Time step  11539 / time 2.00e-13s ( 20 % done), field decay: 1.32e-03\\n- Time step  13847 / time 2.40e-13s ( 24 % done), field decay: 3.15e-04\\n- Time step  16154 / time 2.80e-13s ( 28 % done), field decay: 1.88e-04\\n- Time step  18462 / time 3.20e-13s ( 32 % done), field decay: 7.38e-05\\n- Time step  20770 / time 3.60e-13s ( 36 % done), field decay: 1.89e-05\\n- Time step  23078 / time 4.00e-13s ( 40 % done), field decay: 1.16e-05\\n- Time step  25386 / time 4.40e-13s ( 44 % done), field decay: 3.45e-06\\nField decay smaller than shutoff factor, exiting solver.\\n\\nSolver time (s):              49.2908\\nPost-processing time (s):     0.0668\\n'</span><span style=\"font-weight: bold\">)</span>\n",
       "</pre>\n"
      ],
      "text/plain": [
       "\n",
       "\u001b[1;35mSimulationData\u001b[0m\u001b[1m(\u001b[0m\u001b[33msimulation\u001b[0m=\u001b[1;35mSimulation\u001b[0m\u001b[1m(\u001b[0m\u001b[33mcenter\u001b[0m=\u001b[1m(\u001b[0m\u001b[1;36m0.0\u001b[0m, \u001b[1;36m0.0\u001b[0m, \u001b[1;36m0.0\u001b[0m\u001b[1m)\u001b[0m, \u001b[33msize\u001b[0m=\u001b[1m(\u001b[0m\u001b[1;36m4.0\u001b[0m, \u001b[1;36m4.0\u001b[0m, \u001b[1;36m4.0\u001b[0m\u001b[1m)\u001b[0m, \u001b[33mgrid_size\u001b[0m=\u001b[1m(\u001b[0m\u001b[1;36m0.01\u001b[0m, \u001b[1;36m0.01\u001b[0m, \u001b[1;36m0.01\u001b[0m\u001b[1m)\u001b[0m, \u001b[33mmedium\u001b[0m=\u001b[1;35mMedium\u001b[0m\u001b[1m(\u001b[0m\u001b[33mfrequency_range\u001b[0m=\u001b[1m(\u001b[0m\u001b[1;36m-10000000000.0\u001b[0m, \u001b[1;36m10000000000.0\u001b[0m\u001b[1m)\u001b[0m, \u001b[33mpermittivity\u001b[0m=\u001b[1;36m1\u001b[0m\u001b[1;36m.0\u001b[0m, \u001b[33mconductivity\u001b[0m=\u001b[1;36m0\u001b[0m\u001b[1;36m.0\u001b[0m, \u001b[33mtype\u001b[0m=\u001b[32m'Medium'\u001b[0m\u001b[1m)\u001b[0m, \u001b[33mrun_time\u001b[0m=\u001b[1;36m1e\u001b[0m\u001b[1;36m-12\u001b[0m, \u001b[33mstructures\u001b[0m=\u001b[1m[\u001b[0m\u001b[1;35mStructure\u001b[0m\u001b[1m(\u001b[0m\u001b[33mgeometry\u001b[0m=\u001b[1;35mBox\u001b[0m\u001b[1m(\u001b[0m\u001b[33mcenter\u001b[0m=\u001b[1m(\u001b[0m\u001b[1;36m0.0\u001b[0m, \u001b[1;36m0.0\u001b[0m, \u001b[1;36m0.0\u001b[0m\u001b[1m)\u001b[0m, \u001b[33msize\u001b[0m=\u001b[1m(\u001b[0m\u001b[1;36m1.5\u001b[0m, \u001b[1;36m1.5\u001b[0m, \u001b[1;36m1.5\u001b[0m\u001b[1m)\u001b[0m\u001b[1m)\u001b[0m, \u001b[33mmedium\u001b[0m=\u001b[1;35mMedium\u001b[0m\u001b[1m(\u001b[0m\u001b[33mfrequency_range\u001b[0m=\u001b[1m(\u001b[0m\u001b[1;36m-10000000000.0\u001b[0m, \u001b[1;36m10000000000.0\u001b[0m\u001b[1m)\u001b[0m, \u001b[33mpermittivity\u001b[0m=\u001b[1;36m4\u001b[0m\u001b[1;36m.0\u001b[0m, \u001b[33mconductivity\u001b[0m=\u001b[1;36m0\u001b[0m\u001b[1;36m.0\u001b[0m, \u001b[33mtype\u001b[0m=\u001b[32m'Medium'\u001b[0m\u001b[1m)\u001b[0m\u001b[1m)\u001b[0m\u001b[1m]\u001b[0m, \u001b[33msources\u001b[0m=\u001b[1m{\u001b[0m\u001b[32m'source'\u001b[0m: \u001b[1;35mVolumeSource\u001b[0m\u001b[1m(\u001b[0m\u001b[33mcenter\u001b[0m=\u001b[1m(\u001b[0m\u001b[1;36m-1.5\u001b[0m, \u001b[1;36m0.0\u001b[0m, \u001b[1;36m0.0\u001b[0m\u001b[1m)\u001b[0m, \u001b[33msize\u001b[0m=\u001b[1m(\u001b[0m\u001b[1;36m0.0\u001b[0m, \u001b[1;36m0.4\u001b[0m, \u001b[1;36m0.4\u001b[0m\u001b[1m)\u001b[0m, \u001b[33msource_time\u001b[0m=\u001b[1;35mGaussianPulse\u001b[0m\u001b[1m(\u001b[0m\u001b[33mamplitude\u001b[0m=\u001b[1;36m1\u001b[0m\u001b[1;36m.0\u001b[0m, \u001b[33mphase\u001b[0m=\u001b[1;36m0\u001b[0m\u001b[1;36m.0\u001b[0m, \u001b[33mfreq0\u001b[0m=\u001b[1;36m300000000000000\u001b[0m\u001b[1;36m.0\u001b[0m, \u001b[33mfwidth\u001b[0m=\u001b[1;36m10000000000000\u001b[0m\u001b[1;36m.0\u001b[0m, \u001b[33moffset\u001b[0m=\u001b[1;36m5\u001b[0m\u001b[1;36m.0\u001b[0m\u001b[1m)\u001b[0m, \u001b[33mpolarization\u001b[0m=\u001b[32m'Jx'\u001b[0m, \u001b[33mtype\u001b[0m=\u001b[32m'VolumeSource'\u001b[0m\u001b[1m)\u001b[0m\u001b[1m}\u001b[0m, \u001b[33mmonitors\u001b[0m=\u001b[1m{\u001b[0m\u001b[32m'monitor'\u001b[0m: \u001b[1;35mFieldMonitor\u001b[0m\u001b[1m(\u001b[0m\u001b[33mcenter\u001b[0m=\u001b[1m(\u001b[0m\u001b[1;36m0.0\u001b[0m, \u001b[1;36m0.0\u001b[0m, \u001b[1;36m0.0\u001b[0m\u001b[1m)\u001b[0m, \u001b[33msize\u001b[0m=\u001b[1m(\u001b[0m\u001b[1;36m4.0\u001b[0m, \u001b[1;36m4.0\u001b[0m, \u001b[1;36m0.0\u001b[0m\u001b[1m)\u001b[0m, \u001b[33mfreqs\u001b[0m=\u001b[1m[\u001b[0m\u001b[1;36m300000000000000.0\u001b[0m\u001b[1m]\u001b[0m, \u001b[33mfields\u001b[0m=\u001b[1m[\u001b[0m\u001b[32m'Ex'\u001b[0m, \u001b[32m'Hy'\u001b[0m\u001b[1m]\u001b[0m, \u001b[33mtype\u001b[0m=\u001b[32m'FieldMonitor'\u001b[0m\u001b[1m)\u001b[0m\u001b[1m}\u001b[0m, \u001b[33mpml_layers\u001b[0m=\u001b[1m(\u001b[0m\u001b[1;35mPMLLayer\u001b[0m\u001b[1m(\u001b[0m\u001b[33mprofile\u001b[0m=\u001b[32m'standard'\u001b[0m, \u001b[33mnum_layers\u001b[0m=\u001b[1;36m10\u001b[0m\u001b[1m)\u001b[0m, \u001b[1;35mPMLLayer\u001b[0m\u001b[1m(\u001b[0m\u001b[33mprofile\u001b[0m=\u001b[32m'standard'\u001b[0m, \u001b[33mnum_layers\u001b[0m=\u001b[1;36m10\u001b[0m\u001b[1m)\u001b[0m, \u001b[1;35mPMLLayer\u001b[0m\u001b[1m(\u001b[0m\u001b[33mprofile\u001b[0m=\u001b[32m'standard'\u001b[0m, \u001b[33mnum_layers\u001b[0m=\u001b[1;36m10\u001b[0m\u001b[1m)\u001b[0m\u001b[1m)\u001b[0m, \u001b[33msymmetry\u001b[0m=\u001b[1m(\u001b[0m\u001b[1;36m0\u001b[0m, \u001b[1;36m0\u001b[0m, \u001b[1;36m0\u001b[0m\u001b[1m)\u001b[0m, \u001b[33mshutoff\u001b[0m=\u001b[1;36m1e\u001b[0m\u001b[1;36m-05\u001b[0m, \u001b[33mcourant\u001b[0m=\u001b[1;36m0\u001b[0m\u001b[1;36m.9\u001b[0m, \u001b[33msubpixel\u001b[0m=\u001b[3;92mTrue\u001b[0m\u001b[1m)\u001b[0m, \u001b[33mmonitor_data\u001b[0m=\u001b[1m{\u001b[0m\u001b[32m'monitor'\u001b[0m: \u001b[1;35mFieldData\u001b[0m\u001b[1m(\u001b[0m\u001b[33mmonitor_name\u001b[0m=\u001b[32m\"b\u001b[0m\u001b[32m'monitor'\"\u001b[0m, \u001b[33mmonitor\u001b[0m=\u001b[1;35mFieldMonitor\u001b[0m\u001b[1m(\u001b[0m\u001b[33mcenter\u001b[0m=\u001b[1m(\u001b[0m\u001b[1;36m0.0\u001b[0m, \u001b[1;36m0.0\u001b[0m, \u001b[1;36m0.0\u001b[0m\u001b[1m)\u001b[0m, \u001b[33msize\u001b[0m=\u001b[1m(\u001b[0m\u001b[1;36m4.0\u001b[0m, \u001b[1;36m4.0\u001b[0m, \u001b[1;36m0.0\u001b[0m\u001b[1m)\u001b[0m, \u001b[33mfreqs\u001b[0m=\u001b[1m[\u001b[0m\u001b[1;36m300000000000000.0\u001b[0m\u001b[1m]\u001b[0m, \u001b[33mfields\u001b[0m=\u001b[1m[\u001b[0m\u001b[32m'Ex'\u001b[0m, \u001b[32m'Hy'\u001b[0m\u001b[1m]\u001b[0m, \u001b[33mtype\u001b[0m=\u001b[32m'FieldMonitor'\u001b[0m\u001b[1m)\u001b[0m, \u001b[33mvalues\u001b[0m=\u001b[1m[\u001b[0m\u001b[1;35marray\u001b[0m\u001b[1m(\u001b[0m\u001b[1m[\u001b[0m\u001b[1m[\u001b[0m\u001b[1m[\u001b[0m\u001b[1m[\u001b[0m\u001b[1;36m-7.40295276e-14\u001b[0m-\u001b[1;36m3.\u001b[0m93818109e-14j\u001b[1m]\u001b[0m\u001b[1m]\u001b[0m,\n",
       "\n",
       "        \u001b[1m[\u001b[0m\u001b[1m[\u001b[0m\u001b[1;36m-7.64953083e-14\u001b[0m-\u001b[1;36m3.\u001b[0m48371471e-14j\u001b[1m]\u001b[0m\u001b[1m]\u001b[0m,\n",
       "\n",
       "        \u001b[1m[\u001b[0m\u001b[1m[\u001b[0m\u001b[1;36m-7.86911294e-14\u001b[0m-\u001b[1;36m3.\u001b[0m01350945e-14j\u001b[1m]\u001b[0m\u001b[1m]\u001b[0m,\n",
       "\n",
       "        \u001b[33m...\u001b[0m,\n",
       "\n",
       "        \u001b[1m[\u001b[0m\u001b[1m[\u001b[0m\u001b[1;36m-7.70611737e-14\u001b[0m-\u001b[1;36m3.\u001b[0m44744442e-14j\u001b[1m]\u001b[0m\u001b[1m]\u001b[0m,\n",
       "\n",
       "        \u001b[1m[\u001b[0m\u001b[1m[\u001b[0m\u001b[1;36m-7.46162165e-14\u001b[0m-\u001b[1;36m3.\u001b[0m90454169e-14j\u001b[1m]\u001b[0m\u001b[1m]\u001b[0m,\n",
       "\n",
       "        \u001b[1m[\u001b[0m\u001b[1m[\u001b[0m\u001b[1;36m-7.19094719e-14\u001b[0m-\u001b[1;36m4.\u001b[0m34451771e-14j\u001b[1m]\u001b[0m\u001b[1m]\u001b[0m\u001b[1m]\u001b[0m,\n",
       "\n",
       "\n",
       "       \u001b[1m[\u001b[0m\u001b[1m[\u001b[0m\u001b[1m[\u001b[0m\u001b[1;36m-7.50398008e-14\u001b[0m-\u001b[1;36m3.\u001b[0m84562072e-14j\u001b[1m]\u001b[0m\u001b[1m]\u001b[0m,\n",
       "\n",
       "        \u001b[1m[\u001b[0m\u001b[1m[\u001b[0m\u001b[1;36m-7.74474275e-14\u001b[0m-\u001b[1;36m3.\u001b[0m38477551e-14j\u001b[1m]\u001b[0m\u001b[1m]\u001b[0m,\n",
       "\n",
       "        \u001b[1m[\u001b[0m\u001b[1m[\u001b[0m\u001b[1;36m-7.95805140e-14\u001b[0m-\u001b[1;36m2.\u001b[0m90852615e-14j\u001b[1m]\u001b[0m\u001b[1m]\u001b[0m,\n",
       "\n",
       "        \u001b[33m...\u001b[0m,\n",
       "\n",
       "        \u001b[1m[\u001b[0m\u001b[1m[\u001b[0m\u001b[1;36m-7.80032777e-14\u001b[0m-\u001b[1;36m3.\u001b[0m34615995e-14j\u001b[1m]\u001b[0m\u001b[1m]\u001b[0m,\n",
       "\n",
       "        \u001b[1m[\u001b[0m\u001b[1m[\u001b[0m\u001b[1;36m-7.56173688e-14\u001b[0m-\u001b[1;36m3.\u001b[0m80958218e-14j\u001b[1m]\u001b[0m\u001b[1m]\u001b[0m,\n",
       "\n",
       "        \u001b[1m[\u001b[0m\u001b[1m[\u001b[0m\u001b[1;36m-7.29657423e-14\u001b[0m-\u001b[1;36m4.\u001b[0m25612033e-14j\u001b[1m]\u001b[0m\u001b[1m]\u001b[0m\u001b[1m]\u001b[0m,\n",
       "\n",
       "\n",
       "       \u001b[1m[\u001b[0m\u001b[1m[\u001b[0m\u001b[1m[\u001b[0m\u001b[1;36m-7.60273734e-14\u001b[0m-\u001b[1;36m3.\u001b[0m75249792e-14j\u001b[1m]\u001b[0m\u001b[1m]\u001b[0m,\n",
       "\n",
       "        \u001b[1m[\u001b[0m\u001b[1m[\u001b[0m\u001b[1;36m-7.83770360e-14\u001b[0m-\u001b[1;36m3.\u001b[0m28548427e-14j\u001b[1m]\u001b[0m\u001b[1m]\u001b[0m,\n",
       "\n",
       "        \u001b[1m[\u001b[0m\u001b[1m[\u001b[0m\u001b[1;36m-8.04468390e-14\u001b[0m-\u001b[1;36m2.\u001b[0m80339530e-14j\u001b[1m]\u001b[0m\u001b[1m]\u001b[0m,\n",
       "\n",
       "        \u001b[33m...\u001b[0m,\n",
       "\n",
       "        \u001b[1m[\u001b[0m\u001b[1m[\u001b[0m\u001b[1;36m-7.89219425e-14\u001b[0m-\u001b[1;36m3.\u001b[0m24455157e-14j\u001b[1m]\u001b[0m\u001b[1m]\u001b[0m,\n",
       "\n",
       "        \u001b[1m[\u001b[0m\u001b[1m[\u001b[0m\u001b[1;36m-7.65951904e-14\u001b[0m-\u001b[1;36m3.\u001b[0m71409412e-14j\u001b[1m]\u001b[0m\u001b[1m]\u001b[0m,\n",
       "\n",
       "        \u001b[1m[\u001b[0m\u001b[1m[\u001b[0m\u001b[1;36m-7.39985262e-14\u001b[0m-\u001b[1;36m4.\u001b[0m16701653e-14j\u001b[1m]\u001b[0m\u001b[1m]\u001b[0m\u001b[1m]\u001b[0m,\n",
       "\n",
       "\n",
       "       \u001b[33m...\u001b[0m,\n",
       "\n",
       "\n",
       "       \u001b[1m[\u001b[0m\u001b[1m[\u001b[0m\u001b[1m[\u001b[0m\u001b[1;36m-1.11062249e-14\u001b[0m+\u001b[1;36m1.\u001b[0m80410784e-14j\u001b[1m]\u001b[0m\u001b[1m]\u001b[0m,\n",
       "\n",
       "        \u001b[1m[\u001b[0m\u001b[1m[\u001b[0m\u001b[1;36m-9.84215185e-15\u001b[0m+\u001b[1;36m1.\u001b[0m85316833e-14j\u001b[1m]\u001b[0m\u001b[1m]\u001b[0m,\n",
       "\n",
       "        \u001b[1m[\u001b[0m\u001b[1m[\u001b[0m\u001b[1;36m-8.55451438e-15\u001b[0m+\u001b[1;36m1.\u001b[0m89469429e-14j\u001b[1m]\u001b[0m\u001b[1m]\u001b[0m,\n",
       "\n",
       "        \u001b[33m...\u001b[0m,\n",
       "\n",
       "        \u001b[1m[\u001b[0m\u001b[1m[\u001b[0m\u001b[1;36m-7.91727117e-15\u001b[0m+\u001b[1;36m1.\u001b[0m92134076e-14j\u001b[1m]\u001b[0m\u001b[1m]\u001b[0m,\n",
       "\n",
       "        \u001b[1m[\u001b[0m\u001b[1m[\u001b[0m\u001b[1;36m-9.21852977e-15\u001b[0m+\u001b[1;36m1.\u001b[0m88217379e-14j\u001b[1m]\u001b[0m\u001b[1m]\u001b[0m,\n",
       "\n",
       "        \u001b[1m[\u001b[0m\u001b[1m[\u001b[0m\u001b[1;36m-1.04975614e-14\u001b[0m+\u001b[1;36m1.\u001b[0m83543807e-14j\u001b[1m]\u001b[0m\u001b[1m]\u001b[0m\u001b[1m]\u001b[0m,\n",
       "\n",
       "\n",
       "       \u001b[1m[\u001b[0m\u001b[1m[\u001b[0m\u001b[1m[\u001b[0m\u001b[1;36m-1.13165973e-14\u001b[0m+\u001b[1;36m1.\u001b[0m74969546e-14j\u001b[1m]\u001b[0m\u001b[1m]\u001b[0m,\n",
       "\n",
       "        \u001b[1m[\u001b[0m\u001b[1m[\u001b[0m\u001b[1;36m-1.00786477e-14\u001b[0m+\u001b[1;36m1.\u001b[0m80148475e-14j\u001b[1m]\u001b[0m\u001b[1m]\u001b[0m,\n",
       "\n",
       "        \u001b[1m[\u001b[0m\u001b[1m[\u001b[0m\u001b[1;36m-8.81540900e-15\u001b[0m+\u001b[1;36m1.\u001b[0m84589282e-14j\u001b[1m]\u001b[0m\u001b[1m]\u001b[0m,\n",
       "\n",
       "        \u001b[33m...\u001b[0m,\n",
       "\n",
       "        \u001b[1m[\u001b[0m\u001b[1m[\u001b[0m\u001b[1;36m-8.19053416e-15\u001b[0m+\u001b[1;36m1.\u001b[0m87501737e-14j\u001b[1m]\u001b[0m\u001b[1m]\u001b[0m,\n",
       "\n",
       "        \u001b[1m[\u001b[0m\u001b[1m[\u001b[0m\u001b[1;36m-9.46813767e-15\u001b[0m+\u001b[1;36m1.\u001b[0m83291594e-14j\u001b[1m]\u001b[0m\u001b[1m]\u001b[0m,\n",
       "\n",
       "        \u001b[1m[\u001b[0m\u001b[1m[\u001b[0m\u001b[1;36m-1.07215542e-14\u001b[0m+\u001b[1;36m1.\u001b[0m78338399e-14j\u001b[1m]\u001b[0m\u001b[1m]\u001b[0m\u001b[1m]\u001b[0m,\n",
       "\n",
       "\n",
       "       \u001b[1m[\u001b[0m\u001b[1m[\u001b[0m\u001b[1m[\u001b[0m\u001b[1;36m-1.15084639e-14\u001b[0m+\u001b[1;36m1.\u001b[0m69627411e-14j\u001b[1m]\u001b[0m\u001b[1m]\u001b[0m,\n",
       "\n",
       "        \u001b[1m[\u001b[0m\u001b[1m[\u001b[0m\u001b[1;36m-1.02970890e-14\u001b[0m+\u001b[1;36m1.\u001b[0m75071732e-14j\u001b[1m]\u001b[0m\u001b[1m]\u001b[0m,\n",
       "\n",
       "        \u001b[1m[\u001b[0m\u001b[1m[\u001b[0m\u001b[1;36m-9.05869211e-15\u001b[0m+\u001b[1;36m1.\u001b[0m79792315e-14j\u001b[1m]\u001b[0m\u001b[1m]\u001b[0m,\n",
       "\n",
       "        \u001b[33m...\u001b[0m,\n",
       "\n",
       "        \u001b[1m[\u001b[0m\u001b[1m[\u001b[0m\u001b[1;36m-8.44741215e-15\u001b[0m+\u001b[1;36m1.\u001b[0m82949681e-14j\u001b[1m]\u001b[0m\u001b[1m]\u001b[0m,\n",
       "\n",
       "        \u001b[1m[\u001b[0m\u001b[1m[\u001b[0m\u001b[1;36m-9.70089216e-15\u001b[0m+\u001b[1;36m1.\u001b[0m78453731e-14j\u001b[1m]\u001b[0m\u001b[1m]\u001b[0m,\n",
       "\n",
       "        \u001b[1m[\u001b[0m\u001b[1m[\u001b[0m\u001b[1;36m-1.09283005e-14\u001b[0m+\u001b[1;36m1.\u001b[0m73228758e-14j\u001b[1m]\u001b[0m\u001b[1m]\u001b[0m\u001b[1m]\u001b[0m\u001b[1m]\u001b[0m\u001b[1m)\u001b[0m, \u001b[1;35marray\u001b[0m\u001b[1m(\u001b[0m\u001b[1m[\u001b[0m\u001b[1m[\u001b[0m\u001b[1m[\u001b[0m\u001b[1m[\u001b[0m\u001b[1;36m-1.01167829e-18\u001b[0m-\u001b[1;36m5.\u001b[0m85048769e-19j\u001b[1m]\u001b[0m\u001b[1m]\u001b[0m,\n",
       "\n",
       "        \u001b[1m[\u001b[0m\u001b[1m[\u001b[0m\u001b[1;36m-1.05049653e-18\u001b[0m-\u001b[1;36m5.\u001b[0m28097229e-19j\u001b[1m]\u001b[0m\u001b[1m]\u001b[0m,\n",
       "\n",
       "        \u001b[1m[\u001b[0m\u001b[1m[\u001b[0m\u001b[1;36m-1.08615814e-18\u001b[0m-\u001b[1;36m4.\u001b[0m68466761e-19j\u001b[1m]\u001b[0m\u001b[1m]\u001b[0m,\n",
       "\n",
       "        \u001b[33m...\u001b[0m,\n",
       "\n",
       "        \u001b[1m[\u001b[0m\u001b[1m[\u001b[0m\u001b[1;36m-1.06989288e-18\u001b[0m-\u001b[1;36m5.\u001b[0m33852441e-19j\u001b[1m]\u001b[0m\u001b[1m]\u001b[0m,\n",
       "\n",
       "        \u001b[1m[\u001b[0m\u001b[1m[\u001b[0m\u001b[1;36m-1.03062506e-18\u001b[0m-\u001b[1;36m5.\u001b[0m91379958e-19j\u001b[1m]\u001b[0m\u001b[1m]\u001b[0m,\n",
       "\n",
       "        \u001b[1m[\u001b[0m\u001b[1m[\u001b[0m\u001b[1;36m-9.88376090e-19\u001b[0m-\u001b[1;36m6.\u001b[0m46054993e-19j\u001b[1m]\u001b[0m\u001b[1m]\u001b[0m\u001b[1m]\u001b[0m,\n",
       "\n",
       "\n",
       "       \u001b[1m[\u001b[0m\u001b[1m[\u001b[0m\u001b[1m[\u001b[0m\u001b[1;36m-1.02854657e-18\u001b[0m-\u001b[1;36m5.\u001b[0m66792272e-19j\u001b[1m]\u001b[0m\u001b[1m]\u001b[0m,\n",
       "\n",
       "        \u001b[1m[\u001b[0m\u001b[1m[\u001b[0m\u001b[1;36m-1.06648376e-18\u001b[0m-\u001b[1;36m5.\u001b[0m08850855e-19j\u001b[1m]\u001b[0m\u001b[1m]\u001b[0m,\n",
       "\n",
       "        \u001b[1m[\u001b[0m\u001b[1m[\u001b[0m\u001b[1;36m-1.10119660e-18\u001b[0m-\u001b[1;36m4.\u001b[0m48282520e-19j\u001b[1m]\u001b[0m\u001b[1m]\u001b[0m,\n",
       "\n",
       "        \u001b[33m...\u001b[0m,\n",
       "\n",
       "        \u001b[1m[\u001b[0m\u001b[1m[\u001b[0m\u001b[1;36m-1.08601628e-18\u001b[0m-\u001b[1;36m5.\u001b[0m13624618e-19j\u001b[1m]\u001b[0m\u001b[1m]\u001b[0m,\n",
       "\n",
       "        \u001b[1m[\u001b[0m\u001b[1m[\u001b[0m\u001b[1;36m-1.04765599e-18\u001b[0m-\u001b[1;36m5.\u001b[0m72150076e-19j\u001b[1m]\u001b[0m\u001b[1m]\u001b[0m,\n",
       "\n",
       "        \u001b[1m[\u001b[0m\u001b[1m[\u001b[0m\u001b[1;36m-1.00625777e-18\u001b[0m-\u001b[1;36m6.\u001b[0m27864827e-19j\u001b[1m]\u001b[0m\u001b[1m]\u001b[0m\u001b[1m]\u001b[0m,\n",
       "\n",
       "\n",
       "       \u001b[1m[\u001b[0m\u001b[1m[\u001b[0m\u001b[1m[\u001b[0m\u001b[1;36m-1.04477006e-18\u001b[0m-\u001b[1;36m5.\u001b[0m48205576e-19j\u001b[1m]\u001b[0m\u001b[1m]\u001b[0m,\n",
       "\n",
       "        \u001b[1m[\u001b[0m\u001b[1m[\u001b[0m\u001b[1;36m-1.08180666e-18\u001b[0m-\u001b[1;36m4.\u001b[0m89317089e-19j\u001b[1m]\u001b[0m\u001b[1m]\u001b[0m,\n",
       "\n",
       "        \u001b[1m[\u001b[0m\u001b[1m[\u001b[0m\u001b[1;36m-1.11557165e-18\u001b[0m-\u001b[1;36m4.\u001b[0m27839578e-19j\u001b[1m]\u001b[0m\u001b[1m]\u001b[0m,\n",
       "\n",
       "        \u001b[33m...\u001b[0m,\n",
       "\n",
       "        \u001b[1m[\u001b[0m\u001b[1m[\u001b[0m\u001b[1;36m-1.10142697e-18\u001b[0m-\u001b[1;36m4.\u001b[0m93101854e-19j\u001b[1m]\u001b[0m\u001b[1m]\u001b[0m,\n",
       "\n",
       "        \u001b[1m[\u001b[0m\u001b[1m[\u001b[0m\u001b[1;36m-1.06398929e-18\u001b[0m-\u001b[1;36m5.\u001b[0m52590874e-19j\u001b[1m]\u001b[0m\u001b[1m]\u001b[0m,\n",
       "\n",
       "        \u001b[1m[\u001b[0m\u001b[1m[\u001b[0m\u001b[1;36m-1.02345155e-18\u001b[0m-\u001b[1;36m6.\u001b[0m09308787e-19j\u001b[1m]\u001b[0m\u001b[1m]\u001b[0m\u001b[1m]\u001b[0m,\n",
       "\n",
       "\n",
       "       \u001b[33m...\u001b[0m,\n",
       "\n",
       "\n",
       "       \u001b[1m[\u001b[0m\u001b[1m[\u001b[0m\u001b[1m[\u001b[0m \u001b[1;36m2.44661827e-19\u001b[0m+\u001b[1;36m5.\u001b[0m31459408e-19j\u001b[1m]\u001b[0m\u001b[1m]\u001b[0m,\n",
       "\n",
       "        \u001b[1m[\u001b[0m\u001b[1m[\u001b[0m \u001b[1;36m2.66307257e-19\u001b[0m+\u001b[1;36m5.\u001b[0m24522102e-19j\u001b[1m]\u001b[0m\u001b[1m]\u001b[0m,\n",
       "\n",
       "        \u001b[1m[\u001b[0m\u001b[1m[\u001b[0m \u001b[1;36m2.87622176e-19\u001b[0m+\u001b[1;36m5.\u001b[0m16762631e-19j\u001b[1m]\u001b[0m\u001b[1m]\u001b[0m,\n",
       "\n",
       "        \u001b[33m...\u001b[0m,\n",
       "\n",
       "        \u001b[1m[\u001b[0m\u001b[1m[\u001b[0m \u001b[1;36m2.96023695e-19\u001b[0m+\u001b[1;36m5.\u001b[0m05307524e-19j\u001b[1m]\u001b[0m\u001b[1m]\u001b[0m,\n",
       "\n",
       "        \u001b[1m[\u001b[0m\u001b[1m[\u001b[0m \u001b[1;36m2.75279995e-19\u001b[0m+\u001b[1;36m5.\u001b[0m13311220e-19j\u001b[1m]\u001b[0m\u001b[1m]\u001b[0m,\n",
       "\n",
       "        \u001b[1m[\u001b[0m\u001b[1m[\u001b[0m \u001b[1;36m2.54197669e-19\u001b[0m+\u001b[1;36m5.\u001b[0m20521650e-19j\u001b[1m]\u001b[0m\u001b[1m]\u001b[0m\u001b[1m]\u001b[0m,\n",
       "\n",
       "\n",
       "       \u001b[1m[\u001b[0m\u001b[1m[\u001b[0m\u001b[1m[\u001b[0m \u001b[1;36m2.19370082e-19\u001b[0m+\u001b[1;36m5.\u001b[0m40812287e-19j\u001b[1m]\u001b[0m\u001b[1m]\u001b[0m,\n",
       "\n",
       "        \u001b[1m[\u001b[0m\u001b[1m[\u001b[0m \u001b[1;36m2.41111646e-19\u001b[0m+\u001b[1;36m5.\u001b[0m34890915e-19j\u001b[1m]\u001b[0m\u001b[1m]\u001b[0m,\n",
       "\n",
       "        \u001b[1m[\u001b[0m\u001b[1m[\u001b[0m \u001b[1;36m2.62557931e-19\u001b[0m+\u001b[1;36m5.\u001b[0m28142258e-19j\u001b[1m]\u001b[0m\u001b[1m]\u001b[0m,\n",
       "\n",
       "        \u001b[33m...\u001b[0m,\n",
       "\n",
       "        \u001b[1m[\u001b[0m\u001b[1m[\u001b[0m \u001b[1;36m2.71207113e-19\u001b[0m+\u001b[1;36m5.\u001b[0m17212669e-19j\u001b[1m]\u001b[0m\u001b[1m]\u001b[0m,\n",
       "\n",
       "        \u001b[1m[\u001b[0m\u001b[1m[\u001b[0m \u001b[1;36m2.50315658e-19\u001b[0m+\u001b[1;36m5.\u001b[0m24217596e-19j\u001b[1m]\u001b[0m\u001b[1m]\u001b[0m,\n",
       "\n",
       "        \u001b[1m[\u001b[0m\u001b[1m[\u001b[0m \u001b[1;36m2.29121818e-19\u001b[0m+\u001b[1;36m5.\u001b[0m30426828e-19j\u001b[1m]\u001b[0m\u001b[1m]\u001b[0m\u001b[1m]\u001b[0m,\n",
       "\n",
       "\n",
       "       \u001b[1m[\u001b[0m\u001b[1m[\u001b[0m\u001b[1m[\u001b[0m \u001b[1;36m1.93571004e-19\u001b[0m+\u001b[1;36m5.\u001b[0m48954536e-19j\u001b[1m]\u001b[0m\u001b[1m]\u001b[0m,\n",
       "\n",
       "        \u001b[1m[\u001b[0m\u001b[1m[\u001b[0m \u001b[1;36m2.15363982e-19\u001b[0m+\u001b[1;36m5.\u001b[0m44046925e-19j\u001b[1m]\u001b[0m\u001b[1m]\u001b[0m,\n",
       "\n",
       "        \u001b[1m[\u001b[0m\u001b[1m[\u001b[0m \u001b[1;36m2.36897186e-19\u001b[0m+\u001b[1;36m5.\u001b[0m38311307e-19j\u001b[1m]\u001b[0m\u001b[1m]\u001b[0m,\n",
       "\n",
       "        \u001b[33m...\u001b[0m,\n",
       "\n",
       "        \u001b[1m[\u001b[0m\u001b[1m[\u001b[0m \u001b[1;36m2.45763735e-19\u001b[0m+\u001b[1;36m5.\u001b[0m27914215e-19j\u001b[1m]\u001b[0m\u001b[1m]\u001b[0m,\n",
       "\n",
       "        \u001b[1m[\u001b[0m\u001b[1m[\u001b[0m \u001b[1;36m2.24770098e-19\u001b[0m+\u001b[1;36m5.\u001b[0m33913549e-19j\u001b[1m]\u001b[0m\u001b[1m]\u001b[0m,\n",
       "\n",
       "        \u001b[1m[\u001b[0m\u001b[1m[\u001b[0m \u001b[1;36m2.03511078e-19\u001b[0m+\u001b[1;36m5.\u001b[0m39117136e-19j\u001b[1m]\u001b[0m\u001b[1m]\u001b[0m\u001b[1m]\u001b[0m\u001b[1m]\u001b[0m\u001b[1m)\u001b[0m\u001b[1m]\u001b[0m, \u001b[33mfield\u001b[0m=\u001b[1m[\u001b[0m\u001b[32m'Ex'\u001b[0m, \u001b[32m'Hy'\u001b[0m\u001b[1m]\u001b[0m, \u001b[33mx\u001b[0m=\u001b[1m[\u001b[0m\u001b[1;35marray\u001b[0m\u001b[1m(\u001b[0m\u001b[1m[\u001b[0m\u001b[1;36m-2\u001b[0m.        , \u001b[1;36m-1.98997494\u001b[0m, \u001b[1;36m-1.97994987\u001b[0m, \u001b[1;36m-1.96992481\u001b[0m, \u001b[1;36m-1.95989975\u001b[0m,\n",
       "       \u001b[1;36m-1.94987469\u001b[0m, \u001b[1;36m-1.93984962\u001b[0m, \u001b[1;36m-1.92982456\u001b[0m, \u001b[1;36m-1.9197995\u001b[0m , \u001b[1;36m-1.90977444\u001b[0m,\n",
       "       \u001b[1;36m-1.89974937\u001b[0m, \u001b[1;36m-1.88972431\u001b[0m, \u001b[1;36m-1.87969925\u001b[0m, \u001b[1;36m-1.86967419\u001b[0m, \u001b[1;36m-1.85964912\u001b[0m,\n",
       "       \u001b[1;36m-1.84962406\u001b[0m, \u001b[1;36m-1.839599\u001b[0m  , \u001b[1;36m-1.82957393\u001b[0m, \u001b[1;36m-1.81954887\u001b[0m, \u001b[1;36m-1.80952381\u001b[0m,\n",
       "       \u001b[1;36m-1.79949875\u001b[0m, \u001b[1;36m-1.78947368\u001b[0m, \u001b[1;36m-1.77944862\u001b[0m, \u001b[1;36m-1.76942356\u001b[0m, \u001b[1;36m-1.7593985\u001b[0m ,\n",
       "       \u001b[1;36m-1.74937343\u001b[0m, \u001b[1;36m-1.73934837\u001b[0m, \u001b[1;36m-1.72932331\u001b[0m, \u001b[1;36m-1.71929825\u001b[0m, \u001b[1;36m-1.70927318\u001b[0m,\n",
       "       \u001b[1;36m-1.69924812\u001b[0m, \u001b[1;36m-1.68922306\u001b[0m, \u001b[1;36m-1.67919799\u001b[0m, \u001b[1;36m-1.66917293\u001b[0m, \u001b[1;36m-1.65914787\u001b[0m,\n",
       "       \u001b[1;36m-1.64912281\u001b[0m, \u001b[1;36m-1.63909774\u001b[0m, \u001b[1;36m-1.62907268\u001b[0m, \u001b[1;36m-1.61904762\u001b[0m, \u001b[1;36m-1.60902256\u001b[0m,\n",
       "       \u001b[1;36m-1.59899749\u001b[0m, \u001b[1;36m-1.58897243\u001b[0m, \u001b[1;36m-1.57894737\u001b[0m, \u001b[1;36m-1.56892231\u001b[0m, \u001b[1;36m-1.55889724\u001b[0m,\n",
       "       \u001b[1;36m-1.54887218\u001b[0m, \u001b[1;36m-1.53884712\u001b[0m, \u001b[1;36m-1.52882206\u001b[0m, \u001b[1;36m-1.51879699\u001b[0m, \u001b[1;36m-1.50877193\u001b[0m,\n",
       "       \u001b[1;36m-1.49874687\u001b[0m, \u001b[1;36m-1.4887218\u001b[0m , \u001b[1;36m-1.47869674\u001b[0m, \u001b[1;36m-1.46867168\u001b[0m, \u001b[1;36m-1.45864662\u001b[0m,\n",
       "       \u001b[1;36m-1.44862155\u001b[0m, \u001b[1;36m-1.43859649\u001b[0m, \u001b[1;36m-1.42857143\u001b[0m, \u001b[1;36m-1.41854637\u001b[0m, \u001b[1;36m-1.4085213\u001b[0m ,\n",
       "       \u001b[1;36m-1.39849624\u001b[0m, \u001b[1;36m-1.38847118\u001b[0m, \u001b[1;36m-1.37844612\u001b[0m, \u001b[1;36m-1.36842105\u001b[0m, \u001b[1;36m-1.35839599\u001b[0m,\n",
       "       \u001b[1;36m-1.34837093\u001b[0m, \u001b[1;36m-1.33834586\u001b[0m, \u001b[1;36m-1.3283208\u001b[0m , \u001b[1;36m-1.31829574\u001b[0m, \u001b[1;36m-1.30827068\u001b[0m,\n",
       "       \u001b[1;36m-1.29824561\u001b[0m, \u001b[1;36m-1.28822055\u001b[0m, \u001b[1;36m-1.27819549\u001b[0m, \u001b[1;36m-1.26817043\u001b[0m, \u001b[1;36m-1.25814536\u001b[0m,\n",
       "       \u001b[1;36m-1.2481203\u001b[0m , \u001b[1;36m-1.23809524\u001b[0m, \u001b[1;36m-1.22807018\u001b[0m, \u001b[1;36m-1.21804511\u001b[0m, \u001b[1;36m-1.20802005\u001b[0m,\n",
       "       \u001b[1;36m-1.19799499\u001b[0m, \u001b[1;36m-1.18796992\u001b[0m, \u001b[1;36m-1.17794486\u001b[0m, \u001b[1;36m-1.1679198\u001b[0m , \u001b[1;36m-1.15789474\u001b[0m,\n",
       "       \u001b[1;36m-1.14786967\u001b[0m, \u001b[1;36m-1.13784461\u001b[0m, \u001b[1;36m-1.12781955\u001b[0m, \u001b[1;36m-1.11779449\u001b[0m, \u001b[1;36m-1.10776942\u001b[0m,\n",
       "       \u001b[1;36m-1.09774436\u001b[0m, \u001b[1;36m-1.0877193\u001b[0m , \u001b[1;36m-1.07769424\u001b[0m, \u001b[1;36m-1.06766917\u001b[0m, \u001b[1;36m-1.05764411\u001b[0m,\n",
       "       \u001b[1;36m-1.04761905\u001b[0m, \u001b[1;36m-1.03759398\u001b[0m, \u001b[1;36m-1.02756892\u001b[0m, \u001b[1;36m-1.01754386\u001b[0m, \u001b[1;36m-1.0075188\u001b[0m ,\n",
       "       \u001b[1;36m-0.99749373\u001b[0m, \u001b[1;36m-0.98746867\u001b[0m, \u001b[1;36m-0.97744361\u001b[0m, \u001b[1;36m-0.96741855\u001b[0m, \u001b[1;36m-0.95739348\u001b[0m,\n",
       "       \u001b[1;36m-0.94736842\u001b[0m, \u001b[1;36m-0.93734336\u001b[0m, \u001b[1;36m-0.9273183\u001b[0m , \u001b[1;36m-0.91729323\u001b[0m, \u001b[1;36m-0.90726817\u001b[0m,\n",
       "       \u001b[1;36m-0.89724311\u001b[0m, \u001b[1;36m-0.88721805\u001b[0m, \u001b[1;36m-0.87719298\u001b[0m, \u001b[1;36m-0.86716792\u001b[0m, \u001b[1;36m-0.85714286\u001b[0m,\n",
       "       \u001b[1;36m-0.84711779\u001b[0m, \u001b[1;36m-0.83709273\u001b[0m, \u001b[1;36m-0.82706767\u001b[0m, \u001b[1;36m-0.81704261\u001b[0m, \u001b[1;36m-0.80701754\u001b[0m,\n",
       "       \u001b[1;36m-0.79699248\u001b[0m, \u001b[1;36m-0.78696742\u001b[0m, \u001b[1;36m-0.77694236\u001b[0m, \u001b[1;36m-0.76691729\u001b[0m, \u001b[1;36m-0.75689223\u001b[0m,\n",
       "       \u001b[1;36m-0.74686717\u001b[0m, \u001b[1;36m-0.73684211\u001b[0m, \u001b[1;36m-0.72681704\u001b[0m, \u001b[1;36m-0.71679198\u001b[0m, \u001b[1;36m-0.70676692\u001b[0m,\n",
       "       \u001b[1;36m-0.69674185\u001b[0m, \u001b[1;36m-0.68671679\u001b[0m, \u001b[1;36m-0.67669173\u001b[0m, \u001b[1;36m-0.66666667\u001b[0m, \u001b[1;36m-0.6566416\u001b[0m ,\n",
       "       \u001b[1;36m-0.64661654\u001b[0m, \u001b[1;36m-0.63659148\u001b[0m, \u001b[1;36m-0.62656642\u001b[0m, \u001b[1;36m-0.61654135\u001b[0m, \u001b[1;36m-0.60651629\u001b[0m,\n",
       "       \u001b[1;36m-0.59649123\u001b[0m, \u001b[1;36m-0.58646617\u001b[0m, \u001b[1;36m-0.5764411\u001b[0m , \u001b[1;36m-0.56641604\u001b[0m, \u001b[1;36m-0.55639098\u001b[0m,\n",
       "       \u001b[1;36m-0.54636591\u001b[0m, \u001b[1;36m-0.53634085\u001b[0m, \u001b[1;36m-0.52631579\u001b[0m, \u001b[1;36m-0.51629073\u001b[0m, \u001b[1;36m-0.50626566\u001b[0m,\n",
       "       \u001b[1;36m-0.4962406\u001b[0m , \u001b[1;36m-0.48621554\u001b[0m, \u001b[1;36m-0.47619048\u001b[0m, \u001b[1;36m-0.46616541\u001b[0m, \u001b[1;36m-0.45614035\u001b[0m,\n",
       "       \u001b[1;36m-0.44611529\u001b[0m, \u001b[1;36m-0.43609023\u001b[0m, \u001b[1;36m-0.42606516\u001b[0m, \u001b[1;36m-0.4160401\u001b[0m , \u001b[1;36m-0.40601504\u001b[0m,\n",
       "       \u001b[1;36m-0.39598997\u001b[0m, \u001b[1;36m-0.38596491\u001b[0m, \u001b[1;36m-0.37593985\u001b[0m, \u001b[1;36m-0.36591479\u001b[0m, \u001b[1;36m-0.35588972\u001b[0m,\n",
       "       \u001b[1;36m-0.34586466\u001b[0m, \u001b[1;36m-0.3358396\u001b[0m , \u001b[1;36m-0.32581454\u001b[0m, \u001b[1;36m-0.31578947\u001b[0m, \u001b[1;36m-0.30576441\u001b[0m,\n",
       "       \u001b[1;36m-0.29573935\u001b[0m, \u001b[1;36m-0.28571429\u001b[0m, \u001b[1;36m-0.27568922\u001b[0m, \u001b[1;36m-0.26566416\u001b[0m, \u001b[1;36m-0.2556391\u001b[0m ,\n",
       "       \u001b[1;36m-0.24561404\u001b[0m, \u001b[1;36m-0.23558897\u001b[0m, \u001b[1;36m-0.22556391\u001b[0m, \u001b[1;36m-0.21553885\u001b[0m, \u001b[1;36m-0.20551378\u001b[0m,\n",
       "       \u001b[1;36m-0.19548872\u001b[0m, \u001b[1;36m-0.18546366\u001b[0m, \u001b[1;36m-0.1754386\u001b[0m , \u001b[1;36m-0.16541353\u001b[0m, \u001b[1;36m-0.15538847\u001b[0m,\n",
       "       \u001b[1;36m-0.14536341\u001b[0m, \u001b[1;36m-0.13533835\u001b[0m, \u001b[1;36m-0.12531328\u001b[0m, \u001b[1;36m-0.11528822\u001b[0m, \u001b[1;36m-0.10526316\u001b[0m,\n",
       "       \u001b[1;36m-0.0952381\u001b[0m , \u001b[1;36m-0.08521303\u001b[0m, \u001b[1;36m-0.07518797\u001b[0m, \u001b[1;36m-0.06516291\u001b[0m, \u001b[1;36m-0.05513784\u001b[0m,\n",
       "       \u001b[1;36m-0.04511278\u001b[0m, \u001b[1;36m-0.03508772\u001b[0m, \u001b[1;36m-0.02506266\u001b[0m, \u001b[1;36m-0.01503759\u001b[0m, \u001b[1;36m-0.00501253\u001b[0m,\n",
       "        \u001b[1;36m0.00501253\u001b[0m,  \u001b[1;36m0.01503759\u001b[0m,  \u001b[1;36m0.02506266\u001b[0m,  \u001b[1;36m0.03508772\u001b[0m,  \u001b[1;36m0.04511278\u001b[0m,\n",
       "        \u001b[1;36m0.05513784\u001b[0m,  \u001b[1;36m0.06516291\u001b[0m,  \u001b[1;36m0.07518797\u001b[0m,  \u001b[1;36m0.08521303\u001b[0m,  \u001b[1;36m0.0952381\u001b[0m ,\n",
       "        \u001b[1;36m0.10526316\u001b[0m,  \u001b[1;36m0.11528822\u001b[0m,  \u001b[1;36m0.12531328\u001b[0m,  \u001b[1;36m0.13533835\u001b[0m,  \u001b[1;36m0.14536341\u001b[0m,\n",
       "        \u001b[1;36m0.15538847\u001b[0m,  \u001b[1;36m0.16541353\u001b[0m,  \u001b[1;36m0.1754386\u001b[0m ,  \u001b[1;36m0.18546366\u001b[0m,  \u001b[1;36m0.19548872\u001b[0m,\n",
       "        \u001b[1;36m0.20551378\u001b[0m,  \u001b[1;36m0.21553885\u001b[0m,  \u001b[1;36m0.22556391\u001b[0m,  \u001b[1;36m0.23558897\u001b[0m,  \u001b[1;36m0.24561404\u001b[0m,\n",
       "        \u001b[1;36m0.2556391\u001b[0m ,  \u001b[1;36m0.26566416\u001b[0m,  \u001b[1;36m0.27568922\u001b[0m,  \u001b[1;36m0.28571429\u001b[0m,  \u001b[1;36m0.29573935\u001b[0m,\n",
       "        \u001b[1;36m0.30576441\u001b[0m,  \u001b[1;36m0.31578947\u001b[0m,  \u001b[1;36m0.32581454\u001b[0m,  \u001b[1;36m0.3358396\u001b[0m ,  \u001b[1;36m0.34586466\u001b[0m,\n",
       "        \u001b[1;36m0.35588972\u001b[0m,  \u001b[1;36m0.36591479\u001b[0m,  \u001b[1;36m0.37593985\u001b[0m,  \u001b[1;36m0.38596491\u001b[0m,  \u001b[1;36m0.39598997\u001b[0m,\n",
       "        \u001b[1;36m0.40601504\u001b[0m,  \u001b[1;36m0.4160401\u001b[0m ,  \u001b[1;36m0.42606516\u001b[0m,  \u001b[1;36m0.43609023\u001b[0m,  \u001b[1;36m0.44611529\u001b[0m,\n",
       "        \u001b[1;36m0.45614035\u001b[0m,  \u001b[1;36m0.46616541\u001b[0m,  \u001b[1;36m0.47619048\u001b[0m,  \u001b[1;36m0.48621554\u001b[0m,  \u001b[1;36m0.4962406\u001b[0m ,\n",
       "        \u001b[1;36m0.50626566\u001b[0m,  \u001b[1;36m0.51629073\u001b[0m,  \u001b[1;36m0.52631579\u001b[0m,  \u001b[1;36m0.53634085\u001b[0m,  \u001b[1;36m0.54636591\u001b[0m,\n",
       "        \u001b[1;36m0.55639098\u001b[0m,  \u001b[1;36m0.56641604\u001b[0m,  \u001b[1;36m0.5764411\u001b[0m ,  \u001b[1;36m0.58646617\u001b[0m,  \u001b[1;36m0.59649123\u001b[0m,\n",
       "        \u001b[1;36m0.60651629\u001b[0m,  \u001b[1;36m0.61654135\u001b[0m,  \u001b[1;36m0.62656642\u001b[0m,  \u001b[1;36m0.63659148\u001b[0m,  \u001b[1;36m0.64661654\u001b[0m,\n",
       "        \u001b[1;36m0.6566416\u001b[0m ,  \u001b[1;36m0.66666667\u001b[0m,  \u001b[1;36m0.67669173\u001b[0m,  \u001b[1;36m0.68671679\u001b[0m,  \u001b[1;36m0.69674185\u001b[0m,\n",
       "        \u001b[1;36m0.70676692\u001b[0m,  \u001b[1;36m0.71679198\u001b[0m,  \u001b[1;36m0.72681704\u001b[0m,  \u001b[1;36m0.73684211\u001b[0m,  \u001b[1;36m0.74686717\u001b[0m,\n",
       "        \u001b[1;36m0.75689223\u001b[0m,  \u001b[1;36m0.76691729\u001b[0m,  \u001b[1;36m0.77694236\u001b[0m,  \u001b[1;36m0.78696742\u001b[0m,  \u001b[1;36m0.79699248\u001b[0m,\n",
       "        \u001b[1;36m0.80701754\u001b[0m,  \u001b[1;36m0.81704261\u001b[0m,  \u001b[1;36m0.82706767\u001b[0m,  \u001b[1;36m0.83709273\u001b[0m,  \u001b[1;36m0.84711779\u001b[0m,\n",
       "        \u001b[1;36m0.85714286\u001b[0m,  \u001b[1;36m0.86716792\u001b[0m,  \u001b[1;36m0.87719298\u001b[0m,  \u001b[1;36m0.88721805\u001b[0m,  \u001b[1;36m0.89724311\u001b[0m,\n",
       "        \u001b[1;36m0.90726817\u001b[0m,  \u001b[1;36m0.91729323\u001b[0m,  \u001b[1;36m0.9273183\u001b[0m ,  \u001b[1;36m0.93734336\u001b[0m,  \u001b[1;36m0.94736842\u001b[0m,\n",
       "        \u001b[1;36m0.95739348\u001b[0m,  \u001b[1;36m0.96741855\u001b[0m,  \u001b[1;36m0.97744361\u001b[0m,  \u001b[1;36m0.98746867\u001b[0m,  \u001b[1;36m0.99749373\u001b[0m,\n",
       "        \u001b[1;36m1.0075188\u001b[0m ,  \u001b[1;36m1.01754386\u001b[0m,  \u001b[1;36m1.02756892\u001b[0m,  \u001b[1;36m1.03759398\u001b[0m,  \u001b[1;36m1.04761905\u001b[0m,\n",
       "        \u001b[1;36m1.05764411\u001b[0m,  \u001b[1;36m1.06766917\u001b[0m,  \u001b[1;36m1.07769424\u001b[0m,  \u001b[1;36m1.0877193\u001b[0m ,  \u001b[1;36m1.09774436\u001b[0m,\n",
       "        \u001b[1;36m1.10776942\u001b[0m,  \u001b[1;36m1.11779449\u001b[0m,  \u001b[1;36m1.12781955\u001b[0m,  \u001b[1;36m1.13784461\u001b[0m,  \u001b[1;36m1.14786967\u001b[0m,\n",
       "        \u001b[1;36m1.15789474\u001b[0m,  \u001b[1;36m1.1679198\u001b[0m ,  \u001b[1;36m1.17794486\u001b[0m,  \u001b[1;36m1.18796992\u001b[0m,  \u001b[1;36m1.19799499\u001b[0m,\n",
       "        \u001b[1;36m1.20802005\u001b[0m,  \u001b[1;36m1.21804511\u001b[0m,  \u001b[1;36m1.22807018\u001b[0m,  \u001b[1;36m1.23809524\u001b[0m,  \u001b[1;36m1.2481203\u001b[0m ,\n",
       "        \u001b[1;36m1.25814536\u001b[0m,  \u001b[1;36m1.26817043\u001b[0m,  \u001b[1;36m1.27819549\u001b[0m,  \u001b[1;36m1.28822055\u001b[0m,  \u001b[1;36m1.29824561\u001b[0m,\n",
       "        \u001b[1;36m1.30827068\u001b[0m,  \u001b[1;36m1.31829574\u001b[0m,  \u001b[1;36m1.3283208\u001b[0m ,  \u001b[1;36m1.33834586\u001b[0m,  \u001b[1;36m1.34837093\u001b[0m,\n",
       "        \u001b[1;36m1.35839599\u001b[0m,  \u001b[1;36m1.36842105\u001b[0m,  \u001b[1;36m1.37844612\u001b[0m,  \u001b[1;36m1.38847118\u001b[0m,  \u001b[1;36m1.39849624\u001b[0m,\n",
       "        \u001b[1;36m1.4085213\u001b[0m ,  \u001b[1;36m1.41854637\u001b[0m,  \u001b[1;36m1.42857143\u001b[0m,  \u001b[1;36m1.43859649\u001b[0m,  \u001b[1;36m1.44862155\u001b[0m,\n",
       "        \u001b[1;36m1.45864662\u001b[0m,  \u001b[1;36m1.46867168\u001b[0m,  \u001b[1;36m1.47869674\u001b[0m,  \u001b[1;36m1.4887218\u001b[0m ,  \u001b[1;36m1.49874687\u001b[0m,\n",
       "        \u001b[1;36m1.50877193\u001b[0m,  \u001b[1;36m1.51879699\u001b[0m,  \u001b[1;36m1.52882206\u001b[0m,  \u001b[1;36m1.53884712\u001b[0m,  \u001b[1;36m1.54887218\u001b[0m,\n",
       "        \u001b[1;36m1.55889724\u001b[0m,  \u001b[1;36m1.56892231\u001b[0m,  \u001b[1;36m1.57894737\u001b[0m,  \u001b[1;36m1.58897243\u001b[0m,  \u001b[1;36m1.59899749\u001b[0m,\n",
       "        \u001b[1;36m1.60902256\u001b[0m,  \u001b[1;36m1.61904762\u001b[0m,  \u001b[1;36m1.62907268\u001b[0m,  \u001b[1;36m1.63909774\u001b[0m,  \u001b[1;36m1.64912281\u001b[0m,\n",
       "        \u001b[1;36m1.65914787\u001b[0m,  \u001b[1;36m1.66917293\u001b[0m,  \u001b[1;36m1.67919799\u001b[0m,  \u001b[1;36m1.68922306\u001b[0m,  \u001b[1;36m1.69924812\u001b[0m,\n",
       "        \u001b[1;36m1.70927318\u001b[0m,  \u001b[1;36m1.71929825\u001b[0m,  \u001b[1;36m1.72932331\u001b[0m,  \u001b[1;36m1.73934837\u001b[0m,  \u001b[1;36m1.74937343\u001b[0m,\n",
       "        \u001b[1;36m1.7593985\u001b[0m ,  \u001b[1;36m1.76942356\u001b[0m,  \u001b[1;36m1.77944862\u001b[0m,  \u001b[1;36m1.78947368\u001b[0m,  \u001b[1;36m1.79949875\u001b[0m,\n",
       "        \u001b[1;36m1.80952381\u001b[0m,  \u001b[1;36m1.81954887\u001b[0m,  \u001b[1;36m1.82957393\u001b[0m,  \u001b[1;36m1.839599\u001b[0m  ,  \u001b[1;36m1.84962406\u001b[0m,\n",
       "        \u001b[1;36m1.85964912\u001b[0m,  \u001b[1;36m1.86967419\u001b[0m,  \u001b[1;36m1.87969925\u001b[0m,  \u001b[1;36m1.88972431\u001b[0m,  \u001b[1;36m1.89974937\u001b[0m,\n",
       "        \u001b[1;36m1.90977444\u001b[0m,  \u001b[1;36m1.9197995\u001b[0m ,  \u001b[1;36m1.92982456\u001b[0m,  \u001b[1;36m1.93984962\u001b[0m,  \u001b[1;36m1.94987469\u001b[0m,\n",
       "        \u001b[1;36m1.95989975\u001b[0m,  \u001b[1;36m1.96992481\u001b[0m,  \u001b[1;36m1.97994987\u001b[0m,  \u001b[1;36m1.98997494\u001b[0m,  \u001b[1;36m2\u001b[0m.        \u001b[1m]\u001b[0m\u001b[1m)\u001b[0m, \u001b[1;35marray\u001b[0m\u001b[1m(\u001b[0m\u001b[1m[\u001b[0m\u001b[1;36m-2\u001b[0m.        , \u001b[1;36m-1.98997494\u001b[0m, \u001b[1;36m-1.97994987\u001b[0m, \u001b[1;36m-1.96992481\u001b[0m, \u001b[1;36m-1.95989975\u001b[0m,\n",
       "       \u001b[1;36m-1.94987469\u001b[0m, \u001b[1;36m-1.93984962\u001b[0m, \u001b[1;36m-1.92982456\u001b[0m, \u001b[1;36m-1.9197995\u001b[0m , \u001b[1;36m-1.90977444\u001b[0m,\n",
       "       \u001b[1;36m-1.89974937\u001b[0m, \u001b[1;36m-1.88972431\u001b[0m, \u001b[1;36m-1.87969925\u001b[0m, \u001b[1;36m-1.86967419\u001b[0m, \u001b[1;36m-1.85964912\u001b[0m,\n",
       "       \u001b[1;36m-1.84962406\u001b[0m, \u001b[1;36m-1.839599\u001b[0m  , \u001b[1;36m-1.82957393\u001b[0m, \u001b[1;36m-1.81954887\u001b[0m, \u001b[1;36m-1.80952381\u001b[0m,\n",
       "       \u001b[1;36m-1.79949875\u001b[0m, \u001b[1;36m-1.78947368\u001b[0m, \u001b[1;36m-1.77944862\u001b[0m, \u001b[1;36m-1.76942356\u001b[0m, \u001b[1;36m-1.7593985\u001b[0m ,\n",
       "       \u001b[1;36m-1.74937343\u001b[0m, \u001b[1;36m-1.73934837\u001b[0m, \u001b[1;36m-1.72932331\u001b[0m, \u001b[1;36m-1.71929825\u001b[0m, \u001b[1;36m-1.70927318\u001b[0m,\n",
       "       \u001b[1;36m-1.69924812\u001b[0m, \u001b[1;36m-1.68922306\u001b[0m, \u001b[1;36m-1.67919799\u001b[0m, \u001b[1;36m-1.66917293\u001b[0m, \u001b[1;36m-1.65914787\u001b[0m,\n",
       "       \u001b[1;36m-1.64912281\u001b[0m, \u001b[1;36m-1.63909774\u001b[0m, \u001b[1;36m-1.62907268\u001b[0m, \u001b[1;36m-1.61904762\u001b[0m, \u001b[1;36m-1.60902256\u001b[0m,\n",
       "       \u001b[1;36m-1.59899749\u001b[0m, \u001b[1;36m-1.58897243\u001b[0m, \u001b[1;36m-1.57894737\u001b[0m, \u001b[1;36m-1.56892231\u001b[0m, \u001b[1;36m-1.55889724\u001b[0m,\n",
       "       \u001b[1;36m-1.54887218\u001b[0m, \u001b[1;36m-1.53884712\u001b[0m, \u001b[1;36m-1.52882206\u001b[0m, \u001b[1;36m-1.51879699\u001b[0m, \u001b[1;36m-1.50877193\u001b[0m,\n",
       "       \u001b[1;36m-1.49874687\u001b[0m, \u001b[1;36m-1.4887218\u001b[0m , \u001b[1;36m-1.47869674\u001b[0m, \u001b[1;36m-1.46867168\u001b[0m, \u001b[1;36m-1.45864662\u001b[0m,\n",
       "       \u001b[1;36m-1.44862155\u001b[0m, \u001b[1;36m-1.43859649\u001b[0m, \u001b[1;36m-1.42857143\u001b[0m, \u001b[1;36m-1.41854637\u001b[0m, \u001b[1;36m-1.4085213\u001b[0m ,\n",
       "       \u001b[1;36m-1.39849624\u001b[0m, \u001b[1;36m-1.38847118\u001b[0m, \u001b[1;36m-1.37844612\u001b[0m, \u001b[1;36m-1.36842105\u001b[0m, \u001b[1;36m-1.35839599\u001b[0m,\n",
       "       \u001b[1;36m-1.34837093\u001b[0m, \u001b[1;36m-1.33834586\u001b[0m, \u001b[1;36m-1.3283208\u001b[0m , \u001b[1;36m-1.31829574\u001b[0m, \u001b[1;36m-1.30827068\u001b[0m,\n",
       "       \u001b[1;36m-1.29824561\u001b[0m, \u001b[1;36m-1.28822055\u001b[0m, \u001b[1;36m-1.27819549\u001b[0m, \u001b[1;36m-1.26817043\u001b[0m, \u001b[1;36m-1.25814536\u001b[0m,\n",
       "       \u001b[1;36m-1.2481203\u001b[0m , \u001b[1;36m-1.23809524\u001b[0m, \u001b[1;36m-1.22807018\u001b[0m, \u001b[1;36m-1.21804511\u001b[0m, \u001b[1;36m-1.20802005\u001b[0m,\n",
       "       \u001b[1;36m-1.19799499\u001b[0m, \u001b[1;36m-1.18796992\u001b[0m, \u001b[1;36m-1.17794486\u001b[0m, \u001b[1;36m-1.1679198\u001b[0m , \u001b[1;36m-1.15789474\u001b[0m,\n",
       "       \u001b[1;36m-1.14786967\u001b[0m, \u001b[1;36m-1.13784461\u001b[0m, \u001b[1;36m-1.12781955\u001b[0m, \u001b[1;36m-1.11779449\u001b[0m, \u001b[1;36m-1.10776942\u001b[0m,\n",
       "       \u001b[1;36m-1.09774436\u001b[0m, \u001b[1;36m-1.0877193\u001b[0m , \u001b[1;36m-1.07769424\u001b[0m, \u001b[1;36m-1.06766917\u001b[0m, \u001b[1;36m-1.05764411\u001b[0m,\n",
       "       \u001b[1;36m-1.04761905\u001b[0m, \u001b[1;36m-1.03759398\u001b[0m, \u001b[1;36m-1.02756892\u001b[0m, \u001b[1;36m-1.01754386\u001b[0m, \u001b[1;36m-1.0075188\u001b[0m ,\n",
       "       \u001b[1;36m-0.99749373\u001b[0m, \u001b[1;36m-0.98746867\u001b[0m, \u001b[1;36m-0.97744361\u001b[0m, \u001b[1;36m-0.96741855\u001b[0m, \u001b[1;36m-0.95739348\u001b[0m,\n",
       "       \u001b[1;36m-0.94736842\u001b[0m, \u001b[1;36m-0.93734336\u001b[0m, \u001b[1;36m-0.9273183\u001b[0m , \u001b[1;36m-0.91729323\u001b[0m, \u001b[1;36m-0.90726817\u001b[0m,\n",
       "       \u001b[1;36m-0.89724311\u001b[0m, \u001b[1;36m-0.88721805\u001b[0m, \u001b[1;36m-0.87719298\u001b[0m, \u001b[1;36m-0.86716792\u001b[0m, \u001b[1;36m-0.85714286\u001b[0m,\n",
       "       \u001b[1;36m-0.84711779\u001b[0m, \u001b[1;36m-0.83709273\u001b[0m, \u001b[1;36m-0.82706767\u001b[0m, \u001b[1;36m-0.81704261\u001b[0m, \u001b[1;36m-0.80701754\u001b[0m,\n",
       "       \u001b[1;36m-0.79699248\u001b[0m, \u001b[1;36m-0.78696742\u001b[0m, \u001b[1;36m-0.77694236\u001b[0m, \u001b[1;36m-0.76691729\u001b[0m, \u001b[1;36m-0.75689223\u001b[0m,\n",
       "       \u001b[1;36m-0.74686717\u001b[0m, \u001b[1;36m-0.73684211\u001b[0m, \u001b[1;36m-0.72681704\u001b[0m, \u001b[1;36m-0.71679198\u001b[0m, \u001b[1;36m-0.70676692\u001b[0m,\n",
       "       \u001b[1;36m-0.69674185\u001b[0m, \u001b[1;36m-0.68671679\u001b[0m, \u001b[1;36m-0.67669173\u001b[0m, \u001b[1;36m-0.66666667\u001b[0m, \u001b[1;36m-0.6566416\u001b[0m ,\n",
       "       \u001b[1;36m-0.64661654\u001b[0m, \u001b[1;36m-0.63659148\u001b[0m, \u001b[1;36m-0.62656642\u001b[0m, \u001b[1;36m-0.61654135\u001b[0m, \u001b[1;36m-0.60651629\u001b[0m,\n",
       "       \u001b[1;36m-0.59649123\u001b[0m, \u001b[1;36m-0.58646617\u001b[0m, \u001b[1;36m-0.5764411\u001b[0m , \u001b[1;36m-0.56641604\u001b[0m, \u001b[1;36m-0.55639098\u001b[0m,\n",
       "       \u001b[1;36m-0.54636591\u001b[0m, \u001b[1;36m-0.53634085\u001b[0m, \u001b[1;36m-0.52631579\u001b[0m, \u001b[1;36m-0.51629073\u001b[0m, \u001b[1;36m-0.50626566\u001b[0m,\n",
       "       \u001b[1;36m-0.4962406\u001b[0m , \u001b[1;36m-0.48621554\u001b[0m, \u001b[1;36m-0.47619048\u001b[0m, \u001b[1;36m-0.46616541\u001b[0m, \u001b[1;36m-0.45614035\u001b[0m,\n",
       "       \u001b[1;36m-0.44611529\u001b[0m, \u001b[1;36m-0.43609023\u001b[0m, \u001b[1;36m-0.42606516\u001b[0m, \u001b[1;36m-0.4160401\u001b[0m , \u001b[1;36m-0.40601504\u001b[0m,\n",
       "       \u001b[1;36m-0.39598997\u001b[0m, \u001b[1;36m-0.38596491\u001b[0m, \u001b[1;36m-0.37593985\u001b[0m, \u001b[1;36m-0.36591479\u001b[0m, \u001b[1;36m-0.35588972\u001b[0m,\n",
       "       \u001b[1;36m-0.34586466\u001b[0m, \u001b[1;36m-0.3358396\u001b[0m , \u001b[1;36m-0.32581454\u001b[0m, \u001b[1;36m-0.31578947\u001b[0m, \u001b[1;36m-0.30576441\u001b[0m,\n",
       "       \u001b[1;36m-0.29573935\u001b[0m, \u001b[1;36m-0.28571429\u001b[0m, \u001b[1;36m-0.27568922\u001b[0m, \u001b[1;36m-0.26566416\u001b[0m, \u001b[1;36m-0.2556391\u001b[0m ,\n",
       "       \u001b[1;36m-0.24561404\u001b[0m, \u001b[1;36m-0.23558897\u001b[0m, \u001b[1;36m-0.22556391\u001b[0m, \u001b[1;36m-0.21553885\u001b[0m, \u001b[1;36m-0.20551378\u001b[0m,\n",
       "       \u001b[1;36m-0.19548872\u001b[0m, \u001b[1;36m-0.18546366\u001b[0m, \u001b[1;36m-0.1754386\u001b[0m , \u001b[1;36m-0.16541353\u001b[0m, \u001b[1;36m-0.15538847\u001b[0m,\n",
       "       \u001b[1;36m-0.14536341\u001b[0m, \u001b[1;36m-0.13533835\u001b[0m, \u001b[1;36m-0.12531328\u001b[0m, \u001b[1;36m-0.11528822\u001b[0m, \u001b[1;36m-0.10526316\u001b[0m,\n",
       "       \u001b[1;36m-0.0952381\u001b[0m , \u001b[1;36m-0.08521303\u001b[0m, \u001b[1;36m-0.07518797\u001b[0m, \u001b[1;36m-0.06516291\u001b[0m, \u001b[1;36m-0.05513784\u001b[0m,\n",
       "       \u001b[1;36m-0.04511278\u001b[0m, \u001b[1;36m-0.03508772\u001b[0m, \u001b[1;36m-0.02506266\u001b[0m, \u001b[1;36m-0.01503759\u001b[0m, \u001b[1;36m-0.00501253\u001b[0m,\n",
       "        \u001b[1;36m0.00501253\u001b[0m,  \u001b[1;36m0.01503759\u001b[0m,  \u001b[1;36m0.02506266\u001b[0m,  \u001b[1;36m0.03508772\u001b[0m,  \u001b[1;36m0.04511278\u001b[0m,\n",
       "        \u001b[1;36m0.05513784\u001b[0m,  \u001b[1;36m0.06516291\u001b[0m,  \u001b[1;36m0.07518797\u001b[0m,  \u001b[1;36m0.08521303\u001b[0m,  \u001b[1;36m0.0952381\u001b[0m ,\n",
       "        \u001b[1;36m0.10526316\u001b[0m,  \u001b[1;36m0.11528822\u001b[0m,  \u001b[1;36m0.12531328\u001b[0m,  \u001b[1;36m0.13533835\u001b[0m,  \u001b[1;36m0.14536341\u001b[0m,\n",
       "        \u001b[1;36m0.15538847\u001b[0m,  \u001b[1;36m0.16541353\u001b[0m,  \u001b[1;36m0.1754386\u001b[0m ,  \u001b[1;36m0.18546366\u001b[0m,  \u001b[1;36m0.19548872\u001b[0m,\n",
       "        \u001b[1;36m0.20551378\u001b[0m,  \u001b[1;36m0.21553885\u001b[0m,  \u001b[1;36m0.22556391\u001b[0m,  \u001b[1;36m0.23558897\u001b[0m,  \u001b[1;36m0.24561404\u001b[0m,\n",
       "        \u001b[1;36m0.2556391\u001b[0m ,  \u001b[1;36m0.26566416\u001b[0m,  \u001b[1;36m0.27568922\u001b[0m,  \u001b[1;36m0.28571429\u001b[0m,  \u001b[1;36m0.29573935\u001b[0m,\n",
       "        \u001b[1;36m0.30576441\u001b[0m,  \u001b[1;36m0.31578947\u001b[0m,  \u001b[1;36m0.32581454\u001b[0m,  \u001b[1;36m0.3358396\u001b[0m ,  \u001b[1;36m0.34586466\u001b[0m,\n",
       "        \u001b[1;36m0.35588972\u001b[0m,  \u001b[1;36m0.36591479\u001b[0m,  \u001b[1;36m0.37593985\u001b[0m,  \u001b[1;36m0.38596491\u001b[0m,  \u001b[1;36m0.39598997\u001b[0m,\n",
       "        \u001b[1;36m0.40601504\u001b[0m,  \u001b[1;36m0.4160401\u001b[0m ,  \u001b[1;36m0.42606516\u001b[0m,  \u001b[1;36m0.43609023\u001b[0m,  \u001b[1;36m0.44611529\u001b[0m,\n",
       "        \u001b[1;36m0.45614035\u001b[0m,  \u001b[1;36m0.46616541\u001b[0m,  \u001b[1;36m0.47619048\u001b[0m,  \u001b[1;36m0.48621554\u001b[0m,  \u001b[1;36m0.4962406\u001b[0m ,\n",
       "        \u001b[1;36m0.50626566\u001b[0m,  \u001b[1;36m0.51629073\u001b[0m,  \u001b[1;36m0.52631579\u001b[0m,  \u001b[1;36m0.53634085\u001b[0m,  \u001b[1;36m0.54636591\u001b[0m,\n",
       "        \u001b[1;36m0.55639098\u001b[0m,  \u001b[1;36m0.56641604\u001b[0m,  \u001b[1;36m0.5764411\u001b[0m ,  \u001b[1;36m0.58646617\u001b[0m,  \u001b[1;36m0.59649123\u001b[0m,\n",
       "        \u001b[1;36m0.60651629\u001b[0m,  \u001b[1;36m0.61654135\u001b[0m,  \u001b[1;36m0.62656642\u001b[0m,  \u001b[1;36m0.63659148\u001b[0m,  \u001b[1;36m0.64661654\u001b[0m,\n",
       "        \u001b[1;36m0.6566416\u001b[0m ,  \u001b[1;36m0.66666667\u001b[0m,  \u001b[1;36m0.67669173\u001b[0m,  \u001b[1;36m0.68671679\u001b[0m,  \u001b[1;36m0.69674185\u001b[0m,\n",
       "        \u001b[1;36m0.70676692\u001b[0m,  \u001b[1;36m0.71679198\u001b[0m,  \u001b[1;36m0.72681704\u001b[0m,  \u001b[1;36m0.73684211\u001b[0m,  \u001b[1;36m0.74686717\u001b[0m,\n",
       "        \u001b[1;36m0.75689223\u001b[0m,  \u001b[1;36m0.76691729\u001b[0m,  \u001b[1;36m0.77694236\u001b[0m,  \u001b[1;36m0.78696742\u001b[0m,  \u001b[1;36m0.79699248\u001b[0m,\n",
       "        \u001b[1;36m0.80701754\u001b[0m,  \u001b[1;36m0.81704261\u001b[0m,  \u001b[1;36m0.82706767\u001b[0m,  \u001b[1;36m0.83709273\u001b[0m,  \u001b[1;36m0.84711779\u001b[0m,\n",
       "        \u001b[1;36m0.85714286\u001b[0m,  \u001b[1;36m0.86716792\u001b[0m,  \u001b[1;36m0.87719298\u001b[0m,  \u001b[1;36m0.88721805\u001b[0m,  \u001b[1;36m0.89724311\u001b[0m,\n",
       "        \u001b[1;36m0.90726817\u001b[0m,  \u001b[1;36m0.91729323\u001b[0m,  \u001b[1;36m0.9273183\u001b[0m ,  \u001b[1;36m0.93734336\u001b[0m,  \u001b[1;36m0.94736842\u001b[0m,\n",
       "        \u001b[1;36m0.95739348\u001b[0m,  \u001b[1;36m0.96741855\u001b[0m,  \u001b[1;36m0.97744361\u001b[0m,  \u001b[1;36m0.98746867\u001b[0m,  \u001b[1;36m0.99749373\u001b[0m,\n",
       "        \u001b[1;36m1.0075188\u001b[0m ,  \u001b[1;36m1.01754386\u001b[0m,  \u001b[1;36m1.02756892\u001b[0m,  \u001b[1;36m1.03759398\u001b[0m,  \u001b[1;36m1.04761905\u001b[0m,\n",
       "        \u001b[1;36m1.05764411\u001b[0m,  \u001b[1;36m1.06766917\u001b[0m,  \u001b[1;36m1.07769424\u001b[0m,  \u001b[1;36m1.0877193\u001b[0m ,  \u001b[1;36m1.09774436\u001b[0m,\n",
       "        \u001b[1;36m1.10776942\u001b[0m,  \u001b[1;36m1.11779449\u001b[0m,  \u001b[1;36m1.12781955\u001b[0m,  \u001b[1;36m1.13784461\u001b[0m,  \u001b[1;36m1.14786967\u001b[0m,\n",
       "        \u001b[1;36m1.15789474\u001b[0m,  \u001b[1;36m1.1679198\u001b[0m ,  \u001b[1;36m1.17794486\u001b[0m,  \u001b[1;36m1.18796992\u001b[0m,  \u001b[1;36m1.19799499\u001b[0m,\n",
       "        \u001b[1;36m1.20802005\u001b[0m,  \u001b[1;36m1.21804511\u001b[0m,  \u001b[1;36m1.22807018\u001b[0m,  \u001b[1;36m1.23809524\u001b[0m,  \u001b[1;36m1.2481203\u001b[0m ,\n",
       "        \u001b[1;36m1.25814536\u001b[0m,  \u001b[1;36m1.26817043\u001b[0m,  \u001b[1;36m1.27819549\u001b[0m,  \u001b[1;36m1.28822055\u001b[0m,  \u001b[1;36m1.29824561\u001b[0m,\n",
       "        \u001b[1;36m1.30827068\u001b[0m,  \u001b[1;36m1.31829574\u001b[0m,  \u001b[1;36m1.3283208\u001b[0m ,  \u001b[1;36m1.33834586\u001b[0m,  \u001b[1;36m1.34837093\u001b[0m,\n",
       "        \u001b[1;36m1.35839599\u001b[0m,  \u001b[1;36m1.36842105\u001b[0m,  \u001b[1;36m1.37844612\u001b[0m,  \u001b[1;36m1.38847118\u001b[0m,  \u001b[1;36m1.39849624\u001b[0m,\n",
       "        \u001b[1;36m1.4085213\u001b[0m ,  \u001b[1;36m1.41854637\u001b[0m,  \u001b[1;36m1.42857143\u001b[0m,  \u001b[1;36m1.43859649\u001b[0m,  \u001b[1;36m1.44862155\u001b[0m,\n",
       "        \u001b[1;36m1.45864662\u001b[0m,  \u001b[1;36m1.46867168\u001b[0m,  \u001b[1;36m1.47869674\u001b[0m,  \u001b[1;36m1.4887218\u001b[0m ,  \u001b[1;36m1.49874687\u001b[0m,\n",
       "        \u001b[1;36m1.50877193\u001b[0m,  \u001b[1;36m1.51879699\u001b[0m,  \u001b[1;36m1.52882206\u001b[0m,  \u001b[1;36m1.53884712\u001b[0m,  \u001b[1;36m1.54887218\u001b[0m,\n",
       "        \u001b[1;36m1.55889724\u001b[0m,  \u001b[1;36m1.56892231\u001b[0m,  \u001b[1;36m1.57894737\u001b[0m,  \u001b[1;36m1.58897243\u001b[0m,  \u001b[1;36m1.59899749\u001b[0m,\n",
       "        \u001b[1;36m1.60902256\u001b[0m,  \u001b[1;36m1.61904762\u001b[0m,  \u001b[1;36m1.62907268\u001b[0m,  \u001b[1;36m1.63909774\u001b[0m,  \u001b[1;36m1.64912281\u001b[0m,\n",
       "        \u001b[1;36m1.65914787\u001b[0m,  \u001b[1;36m1.66917293\u001b[0m,  \u001b[1;36m1.67919799\u001b[0m,  \u001b[1;36m1.68922306\u001b[0m,  \u001b[1;36m1.69924812\u001b[0m,\n",
       "        \u001b[1;36m1.70927318\u001b[0m,  \u001b[1;36m1.71929825\u001b[0m,  \u001b[1;36m1.72932331\u001b[0m,  \u001b[1;36m1.73934837\u001b[0m,  \u001b[1;36m1.74937343\u001b[0m,\n",
       "        \u001b[1;36m1.7593985\u001b[0m ,  \u001b[1;36m1.76942356\u001b[0m,  \u001b[1;36m1.77944862\u001b[0m,  \u001b[1;36m1.78947368\u001b[0m,  \u001b[1;36m1.79949875\u001b[0m,\n",
       "        \u001b[1;36m1.80952381\u001b[0m,  \u001b[1;36m1.81954887\u001b[0m,  \u001b[1;36m1.82957393\u001b[0m,  \u001b[1;36m1.839599\u001b[0m  ,  \u001b[1;36m1.84962406\u001b[0m,\n",
       "        \u001b[1;36m1.85964912\u001b[0m,  \u001b[1;36m1.86967419\u001b[0m,  \u001b[1;36m1.87969925\u001b[0m,  \u001b[1;36m1.88972431\u001b[0m,  \u001b[1;36m1.89974937\u001b[0m,\n",
       "        \u001b[1;36m1.90977444\u001b[0m,  \u001b[1;36m1.9197995\u001b[0m ,  \u001b[1;36m1.92982456\u001b[0m,  \u001b[1;36m1.93984962\u001b[0m,  \u001b[1;36m1.94987469\u001b[0m,\n",
       "        \u001b[1;36m1.95989975\u001b[0m,  \u001b[1;36m1.96992481\u001b[0m,  \u001b[1;36m1.97994987\u001b[0m,  \u001b[1;36m1.98997494\u001b[0m,  \u001b[1;36m2\u001b[0m.        \u001b[1m]\u001b[0m\u001b[1m)\u001b[0m\u001b[1m]\u001b[0m, \u001b[33my\u001b[0m=\u001b[1m[\u001b[0m\u001b[1;35marray\u001b[0m\u001b[1m(\u001b[0m\u001b[1m[\u001b[0m\u001b[1;36m-2\u001b[0m.        , \u001b[1;36m-1.98997494\u001b[0m, \u001b[1;36m-1.97994987\u001b[0m, \u001b[1;36m-1.96992481\u001b[0m, \u001b[1;36m-1.95989975\u001b[0m,\n",
       "       \u001b[1;36m-1.94987469\u001b[0m, \u001b[1;36m-1.93984962\u001b[0m, \u001b[1;36m-1.92982456\u001b[0m, \u001b[1;36m-1.9197995\u001b[0m , \u001b[1;36m-1.90977444\u001b[0m,\n",
       "       \u001b[1;36m-1.89974937\u001b[0m, \u001b[1;36m-1.88972431\u001b[0m, \u001b[1;36m-1.87969925\u001b[0m, \u001b[1;36m-1.86967419\u001b[0m, \u001b[1;36m-1.85964912\u001b[0m,\n",
       "       \u001b[1;36m-1.84962406\u001b[0m, \u001b[1;36m-1.839599\u001b[0m  , \u001b[1;36m-1.82957393\u001b[0m, \u001b[1;36m-1.81954887\u001b[0m, \u001b[1;36m-1.80952381\u001b[0m,\n",
       "       \u001b[1;36m-1.79949875\u001b[0m, \u001b[1;36m-1.78947368\u001b[0m, \u001b[1;36m-1.77944862\u001b[0m, \u001b[1;36m-1.76942356\u001b[0m, \u001b[1;36m-1.7593985\u001b[0m ,\n",
       "       \u001b[1;36m-1.74937343\u001b[0m, \u001b[1;36m-1.73934837\u001b[0m, \u001b[1;36m-1.72932331\u001b[0m, \u001b[1;36m-1.71929825\u001b[0m, \u001b[1;36m-1.70927318\u001b[0m,\n",
       "       \u001b[1;36m-1.69924812\u001b[0m, \u001b[1;36m-1.68922306\u001b[0m, \u001b[1;36m-1.67919799\u001b[0m, \u001b[1;36m-1.66917293\u001b[0m, \u001b[1;36m-1.65914787\u001b[0m,\n",
       "       \u001b[1;36m-1.64912281\u001b[0m, \u001b[1;36m-1.63909774\u001b[0m, \u001b[1;36m-1.62907268\u001b[0m, \u001b[1;36m-1.61904762\u001b[0m, \u001b[1;36m-1.60902256\u001b[0m,\n",
       "       \u001b[1;36m-1.59899749\u001b[0m, \u001b[1;36m-1.58897243\u001b[0m, \u001b[1;36m-1.57894737\u001b[0m, \u001b[1;36m-1.56892231\u001b[0m, \u001b[1;36m-1.55889724\u001b[0m,\n",
       "       \u001b[1;36m-1.54887218\u001b[0m, \u001b[1;36m-1.53884712\u001b[0m, \u001b[1;36m-1.52882206\u001b[0m, \u001b[1;36m-1.51879699\u001b[0m, \u001b[1;36m-1.50877193\u001b[0m,\n",
       "       \u001b[1;36m-1.49874687\u001b[0m, \u001b[1;36m-1.4887218\u001b[0m , \u001b[1;36m-1.47869674\u001b[0m, \u001b[1;36m-1.46867168\u001b[0m, \u001b[1;36m-1.45864662\u001b[0m,\n",
       "       \u001b[1;36m-1.44862155\u001b[0m, \u001b[1;36m-1.43859649\u001b[0m, \u001b[1;36m-1.42857143\u001b[0m, \u001b[1;36m-1.41854637\u001b[0m, \u001b[1;36m-1.4085213\u001b[0m ,\n",
       "       \u001b[1;36m-1.39849624\u001b[0m, \u001b[1;36m-1.38847118\u001b[0m, \u001b[1;36m-1.37844612\u001b[0m, \u001b[1;36m-1.36842105\u001b[0m, \u001b[1;36m-1.35839599\u001b[0m,\n",
       "       \u001b[1;36m-1.34837093\u001b[0m, \u001b[1;36m-1.33834586\u001b[0m, \u001b[1;36m-1.3283208\u001b[0m , \u001b[1;36m-1.31829574\u001b[0m, \u001b[1;36m-1.30827068\u001b[0m,\n",
       "       \u001b[1;36m-1.29824561\u001b[0m, \u001b[1;36m-1.28822055\u001b[0m, \u001b[1;36m-1.27819549\u001b[0m, \u001b[1;36m-1.26817043\u001b[0m, \u001b[1;36m-1.25814536\u001b[0m,\n",
       "       \u001b[1;36m-1.2481203\u001b[0m , \u001b[1;36m-1.23809524\u001b[0m, \u001b[1;36m-1.22807018\u001b[0m, \u001b[1;36m-1.21804511\u001b[0m, \u001b[1;36m-1.20802005\u001b[0m,\n",
       "       \u001b[1;36m-1.19799499\u001b[0m, \u001b[1;36m-1.18796992\u001b[0m, \u001b[1;36m-1.17794486\u001b[0m, \u001b[1;36m-1.1679198\u001b[0m , \u001b[1;36m-1.15789474\u001b[0m,\n",
       "       \u001b[1;36m-1.14786967\u001b[0m, \u001b[1;36m-1.13784461\u001b[0m, \u001b[1;36m-1.12781955\u001b[0m, \u001b[1;36m-1.11779449\u001b[0m, \u001b[1;36m-1.10776942\u001b[0m,\n",
       "       \u001b[1;36m-1.09774436\u001b[0m, \u001b[1;36m-1.0877193\u001b[0m , \u001b[1;36m-1.07769424\u001b[0m, \u001b[1;36m-1.06766917\u001b[0m, \u001b[1;36m-1.05764411\u001b[0m,\n",
       "       \u001b[1;36m-1.04761905\u001b[0m, \u001b[1;36m-1.03759398\u001b[0m, \u001b[1;36m-1.02756892\u001b[0m, \u001b[1;36m-1.01754386\u001b[0m, \u001b[1;36m-1.0075188\u001b[0m ,\n",
       "       \u001b[1;36m-0.99749373\u001b[0m, \u001b[1;36m-0.98746867\u001b[0m, \u001b[1;36m-0.97744361\u001b[0m, \u001b[1;36m-0.96741855\u001b[0m, \u001b[1;36m-0.95739348\u001b[0m,\n",
       "       \u001b[1;36m-0.94736842\u001b[0m, \u001b[1;36m-0.93734336\u001b[0m, \u001b[1;36m-0.9273183\u001b[0m , \u001b[1;36m-0.91729323\u001b[0m, \u001b[1;36m-0.90726817\u001b[0m,\n",
       "       \u001b[1;36m-0.89724311\u001b[0m, \u001b[1;36m-0.88721805\u001b[0m, \u001b[1;36m-0.87719298\u001b[0m, \u001b[1;36m-0.86716792\u001b[0m, \u001b[1;36m-0.85714286\u001b[0m,\n",
       "       \u001b[1;36m-0.84711779\u001b[0m, \u001b[1;36m-0.83709273\u001b[0m, \u001b[1;36m-0.82706767\u001b[0m, \u001b[1;36m-0.81704261\u001b[0m, \u001b[1;36m-0.80701754\u001b[0m,\n",
       "       \u001b[1;36m-0.79699248\u001b[0m, \u001b[1;36m-0.78696742\u001b[0m, \u001b[1;36m-0.77694236\u001b[0m, \u001b[1;36m-0.76691729\u001b[0m, \u001b[1;36m-0.75689223\u001b[0m,\n",
       "       \u001b[1;36m-0.74686717\u001b[0m, \u001b[1;36m-0.73684211\u001b[0m, \u001b[1;36m-0.72681704\u001b[0m, \u001b[1;36m-0.71679198\u001b[0m, \u001b[1;36m-0.70676692\u001b[0m,\n",
       "       \u001b[1;36m-0.69674185\u001b[0m, \u001b[1;36m-0.68671679\u001b[0m, \u001b[1;36m-0.67669173\u001b[0m, \u001b[1;36m-0.66666667\u001b[0m, \u001b[1;36m-0.6566416\u001b[0m ,\n",
       "       \u001b[1;36m-0.64661654\u001b[0m, \u001b[1;36m-0.63659148\u001b[0m, \u001b[1;36m-0.62656642\u001b[0m, \u001b[1;36m-0.61654135\u001b[0m, \u001b[1;36m-0.60651629\u001b[0m,\n",
       "       \u001b[1;36m-0.59649123\u001b[0m, \u001b[1;36m-0.58646617\u001b[0m, \u001b[1;36m-0.5764411\u001b[0m , \u001b[1;36m-0.56641604\u001b[0m, \u001b[1;36m-0.55639098\u001b[0m,\n",
       "       \u001b[1;36m-0.54636591\u001b[0m, \u001b[1;36m-0.53634085\u001b[0m, \u001b[1;36m-0.52631579\u001b[0m, \u001b[1;36m-0.51629073\u001b[0m, \u001b[1;36m-0.50626566\u001b[0m,\n",
       "       \u001b[1;36m-0.4962406\u001b[0m , \u001b[1;36m-0.48621554\u001b[0m, \u001b[1;36m-0.47619048\u001b[0m, \u001b[1;36m-0.46616541\u001b[0m, \u001b[1;36m-0.45614035\u001b[0m,\n",
       "       \u001b[1;36m-0.44611529\u001b[0m, \u001b[1;36m-0.43609023\u001b[0m, \u001b[1;36m-0.42606516\u001b[0m, \u001b[1;36m-0.4160401\u001b[0m , \u001b[1;36m-0.40601504\u001b[0m,\n",
       "       \u001b[1;36m-0.39598997\u001b[0m, \u001b[1;36m-0.38596491\u001b[0m, \u001b[1;36m-0.37593985\u001b[0m, \u001b[1;36m-0.36591479\u001b[0m, \u001b[1;36m-0.35588972\u001b[0m,\n",
       "       \u001b[1;36m-0.34586466\u001b[0m, \u001b[1;36m-0.3358396\u001b[0m , \u001b[1;36m-0.32581454\u001b[0m, \u001b[1;36m-0.31578947\u001b[0m, \u001b[1;36m-0.30576441\u001b[0m,\n",
       "       \u001b[1;36m-0.29573935\u001b[0m, \u001b[1;36m-0.28571429\u001b[0m, \u001b[1;36m-0.27568922\u001b[0m, \u001b[1;36m-0.26566416\u001b[0m, \u001b[1;36m-0.2556391\u001b[0m ,\n",
       "       \u001b[1;36m-0.24561404\u001b[0m, \u001b[1;36m-0.23558897\u001b[0m, \u001b[1;36m-0.22556391\u001b[0m, \u001b[1;36m-0.21553885\u001b[0m, \u001b[1;36m-0.20551378\u001b[0m,\n",
       "       \u001b[1;36m-0.19548872\u001b[0m, \u001b[1;36m-0.18546366\u001b[0m, \u001b[1;36m-0.1754386\u001b[0m , \u001b[1;36m-0.16541353\u001b[0m, \u001b[1;36m-0.15538847\u001b[0m,\n",
       "       \u001b[1;36m-0.14536341\u001b[0m, \u001b[1;36m-0.13533835\u001b[0m, \u001b[1;36m-0.12531328\u001b[0m, \u001b[1;36m-0.11528822\u001b[0m, \u001b[1;36m-0.10526316\u001b[0m,\n",
       "       \u001b[1;36m-0.0952381\u001b[0m , \u001b[1;36m-0.08521303\u001b[0m, \u001b[1;36m-0.07518797\u001b[0m, \u001b[1;36m-0.06516291\u001b[0m, \u001b[1;36m-0.05513784\u001b[0m,\n",
       "       \u001b[1;36m-0.04511278\u001b[0m, \u001b[1;36m-0.03508772\u001b[0m, \u001b[1;36m-0.02506266\u001b[0m, \u001b[1;36m-0.01503759\u001b[0m, \u001b[1;36m-0.00501253\u001b[0m,\n",
       "        \u001b[1;36m0.00501253\u001b[0m,  \u001b[1;36m0.01503759\u001b[0m,  \u001b[1;36m0.02506266\u001b[0m,  \u001b[1;36m0.03508772\u001b[0m,  \u001b[1;36m0.04511278\u001b[0m,\n",
       "        \u001b[1;36m0.05513784\u001b[0m,  \u001b[1;36m0.06516291\u001b[0m,  \u001b[1;36m0.07518797\u001b[0m,  \u001b[1;36m0.08521303\u001b[0m,  \u001b[1;36m0.0952381\u001b[0m ,\n",
       "        \u001b[1;36m0.10526316\u001b[0m,  \u001b[1;36m0.11528822\u001b[0m,  \u001b[1;36m0.12531328\u001b[0m,  \u001b[1;36m0.13533835\u001b[0m,  \u001b[1;36m0.14536341\u001b[0m,\n",
       "        \u001b[1;36m0.15538847\u001b[0m,  \u001b[1;36m0.16541353\u001b[0m,  \u001b[1;36m0.1754386\u001b[0m ,  \u001b[1;36m0.18546366\u001b[0m,  \u001b[1;36m0.19548872\u001b[0m,\n",
       "        \u001b[1;36m0.20551378\u001b[0m,  \u001b[1;36m0.21553885\u001b[0m,  \u001b[1;36m0.22556391\u001b[0m,  \u001b[1;36m0.23558897\u001b[0m,  \u001b[1;36m0.24561404\u001b[0m,\n",
       "        \u001b[1;36m0.2556391\u001b[0m ,  \u001b[1;36m0.26566416\u001b[0m,  \u001b[1;36m0.27568922\u001b[0m,  \u001b[1;36m0.28571429\u001b[0m,  \u001b[1;36m0.29573935\u001b[0m,\n",
       "        \u001b[1;36m0.30576441\u001b[0m,  \u001b[1;36m0.31578947\u001b[0m,  \u001b[1;36m0.32581454\u001b[0m,  \u001b[1;36m0.3358396\u001b[0m ,  \u001b[1;36m0.34586466\u001b[0m,\n",
       "        \u001b[1;36m0.35588972\u001b[0m,  \u001b[1;36m0.36591479\u001b[0m,  \u001b[1;36m0.37593985\u001b[0m,  \u001b[1;36m0.38596491\u001b[0m,  \u001b[1;36m0.39598997\u001b[0m,\n",
       "        \u001b[1;36m0.40601504\u001b[0m,  \u001b[1;36m0.4160401\u001b[0m ,  \u001b[1;36m0.42606516\u001b[0m,  \u001b[1;36m0.43609023\u001b[0m,  \u001b[1;36m0.44611529\u001b[0m,\n",
       "        \u001b[1;36m0.45614035\u001b[0m,  \u001b[1;36m0.46616541\u001b[0m,  \u001b[1;36m0.47619048\u001b[0m,  \u001b[1;36m0.48621554\u001b[0m,  \u001b[1;36m0.4962406\u001b[0m ,\n",
       "        \u001b[1;36m0.50626566\u001b[0m,  \u001b[1;36m0.51629073\u001b[0m,  \u001b[1;36m0.52631579\u001b[0m,  \u001b[1;36m0.53634085\u001b[0m,  \u001b[1;36m0.54636591\u001b[0m,\n",
       "        \u001b[1;36m0.55639098\u001b[0m,  \u001b[1;36m0.56641604\u001b[0m,  \u001b[1;36m0.5764411\u001b[0m ,  \u001b[1;36m0.58646617\u001b[0m,  \u001b[1;36m0.59649123\u001b[0m,\n",
       "        \u001b[1;36m0.60651629\u001b[0m,  \u001b[1;36m0.61654135\u001b[0m,  \u001b[1;36m0.62656642\u001b[0m,  \u001b[1;36m0.63659148\u001b[0m,  \u001b[1;36m0.64661654\u001b[0m,\n",
       "        \u001b[1;36m0.6566416\u001b[0m ,  \u001b[1;36m0.66666667\u001b[0m,  \u001b[1;36m0.67669173\u001b[0m,  \u001b[1;36m0.68671679\u001b[0m,  \u001b[1;36m0.69674185\u001b[0m,\n",
       "        \u001b[1;36m0.70676692\u001b[0m,  \u001b[1;36m0.71679198\u001b[0m,  \u001b[1;36m0.72681704\u001b[0m,  \u001b[1;36m0.73684211\u001b[0m,  \u001b[1;36m0.74686717\u001b[0m,\n",
       "        \u001b[1;36m0.75689223\u001b[0m,  \u001b[1;36m0.76691729\u001b[0m,  \u001b[1;36m0.77694236\u001b[0m,  \u001b[1;36m0.78696742\u001b[0m,  \u001b[1;36m0.79699248\u001b[0m,\n",
       "        \u001b[1;36m0.80701754\u001b[0m,  \u001b[1;36m0.81704261\u001b[0m,  \u001b[1;36m0.82706767\u001b[0m,  \u001b[1;36m0.83709273\u001b[0m,  \u001b[1;36m0.84711779\u001b[0m,\n",
       "        \u001b[1;36m0.85714286\u001b[0m,  \u001b[1;36m0.86716792\u001b[0m,  \u001b[1;36m0.87719298\u001b[0m,  \u001b[1;36m0.88721805\u001b[0m,  \u001b[1;36m0.89724311\u001b[0m,\n",
       "        \u001b[1;36m0.90726817\u001b[0m,  \u001b[1;36m0.91729323\u001b[0m,  \u001b[1;36m0.9273183\u001b[0m ,  \u001b[1;36m0.93734336\u001b[0m,  \u001b[1;36m0.94736842\u001b[0m,\n",
       "        \u001b[1;36m0.95739348\u001b[0m,  \u001b[1;36m0.96741855\u001b[0m,  \u001b[1;36m0.97744361\u001b[0m,  \u001b[1;36m0.98746867\u001b[0m,  \u001b[1;36m0.99749373\u001b[0m,\n",
       "        \u001b[1;36m1.0075188\u001b[0m ,  \u001b[1;36m1.01754386\u001b[0m,  \u001b[1;36m1.02756892\u001b[0m,  \u001b[1;36m1.03759398\u001b[0m,  \u001b[1;36m1.04761905\u001b[0m,\n",
       "        \u001b[1;36m1.05764411\u001b[0m,  \u001b[1;36m1.06766917\u001b[0m,  \u001b[1;36m1.07769424\u001b[0m,  \u001b[1;36m1.0877193\u001b[0m ,  \u001b[1;36m1.09774436\u001b[0m,\n",
       "        \u001b[1;36m1.10776942\u001b[0m,  \u001b[1;36m1.11779449\u001b[0m,  \u001b[1;36m1.12781955\u001b[0m,  \u001b[1;36m1.13784461\u001b[0m,  \u001b[1;36m1.14786967\u001b[0m,\n",
       "        \u001b[1;36m1.15789474\u001b[0m,  \u001b[1;36m1.1679198\u001b[0m ,  \u001b[1;36m1.17794486\u001b[0m,  \u001b[1;36m1.18796992\u001b[0m,  \u001b[1;36m1.19799499\u001b[0m,\n",
       "        \u001b[1;36m1.20802005\u001b[0m,  \u001b[1;36m1.21804511\u001b[0m,  \u001b[1;36m1.22807018\u001b[0m,  \u001b[1;36m1.23809524\u001b[0m,  \u001b[1;36m1.2481203\u001b[0m ,\n",
       "        \u001b[1;36m1.25814536\u001b[0m,  \u001b[1;36m1.26817043\u001b[0m,  \u001b[1;36m1.27819549\u001b[0m,  \u001b[1;36m1.28822055\u001b[0m,  \u001b[1;36m1.29824561\u001b[0m,\n",
       "        \u001b[1;36m1.30827068\u001b[0m,  \u001b[1;36m1.31829574\u001b[0m,  \u001b[1;36m1.3283208\u001b[0m ,  \u001b[1;36m1.33834586\u001b[0m,  \u001b[1;36m1.34837093\u001b[0m,\n",
       "        \u001b[1;36m1.35839599\u001b[0m,  \u001b[1;36m1.36842105\u001b[0m,  \u001b[1;36m1.37844612\u001b[0m,  \u001b[1;36m1.38847118\u001b[0m,  \u001b[1;36m1.39849624\u001b[0m,\n",
       "        \u001b[1;36m1.4085213\u001b[0m ,  \u001b[1;36m1.41854637\u001b[0m,  \u001b[1;36m1.42857143\u001b[0m,  \u001b[1;36m1.43859649\u001b[0m,  \u001b[1;36m1.44862155\u001b[0m,\n",
       "        \u001b[1;36m1.45864662\u001b[0m,  \u001b[1;36m1.46867168\u001b[0m,  \u001b[1;36m1.47869674\u001b[0m,  \u001b[1;36m1.4887218\u001b[0m ,  \u001b[1;36m1.49874687\u001b[0m,\n",
       "        \u001b[1;36m1.50877193\u001b[0m,  \u001b[1;36m1.51879699\u001b[0m,  \u001b[1;36m1.52882206\u001b[0m,  \u001b[1;36m1.53884712\u001b[0m,  \u001b[1;36m1.54887218\u001b[0m,\n",
       "        \u001b[1;36m1.55889724\u001b[0m,  \u001b[1;36m1.56892231\u001b[0m,  \u001b[1;36m1.57894737\u001b[0m,  \u001b[1;36m1.58897243\u001b[0m,  \u001b[1;36m1.59899749\u001b[0m,\n",
       "        \u001b[1;36m1.60902256\u001b[0m,  \u001b[1;36m1.61904762\u001b[0m,  \u001b[1;36m1.62907268\u001b[0m,  \u001b[1;36m1.63909774\u001b[0m,  \u001b[1;36m1.64912281\u001b[0m,\n",
       "        \u001b[1;36m1.65914787\u001b[0m,  \u001b[1;36m1.66917293\u001b[0m,  \u001b[1;36m1.67919799\u001b[0m,  \u001b[1;36m1.68922306\u001b[0m,  \u001b[1;36m1.69924812\u001b[0m,\n",
       "        \u001b[1;36m1.70927318\u001b[0m,  \u001b[1;36m1.71929825\u001b[0m,  \u001b[1;36m1.72932331\u001b[0m,  \u001b[1;36m1.73934837\u001b[0m,  \u001b[1;36m1.74937343\u001b[0m,\n",
       "        \u001b[1;36m1.7593985\u001b[0m ,  \u001b[1;36m1.76942356\u001b[0m,  \u001b[1;36m1.77944862\u001b[0m,  \u001b[1;36m1.78947368\u001b[0m,  \u001b[1;36m1.79949875\u001b[0m,\n",
       "        \u001b[1;36m1.80952381\u001b[0m,  \u001b[1;36m1.81954887\u001b[0m,  \u001b[1;36m1.82957393\u001b[0m,  \u001b[1;36m1.839599\u001b[0m  ,  \u001b[1;36m1.84962406\u001b[0m,\n",
       "        \u001b[1;36m1.85964912\u001b[0m,  \u001b[1;36m1.86967419\u001b[0m,  \u001b[1;36m1.87969925\u001b[0m,  \u001b[1;36m1.88972431\u001b[0m,  \u001b[1;36m1.89974937\u001b[0m,\n",
       "        \u001b[1;36m1.90977444\u001b[0m,  \u001b[1;36m1.9197995\u001b[0m ,  \u001b[1;36m1.92982456\u001b[0m,  \u001b[1;36m1.93984962\u001b[0m,  \u001b[1;36m1.94987469\u001b[0m,\n",
       "        \u001b[1;36m1.95989975\u001b[0m,  \u001b[1;36m1.96992481\u001b[0m,  \u001b[1;36m1.97994987\u001b[0m,  \u001b[1;36m1.98997494\u001b[0m,  \u001b[1;36m2\u001b[0m.        \u001b[1m]\u001b[0m\u001b[1m)\u001b[0m, \u001b[1;35marray\u001b[0m\u001b[1m(\u001b[0m\u001b[1m[\u001b[0m\u001b[1;36m-2\u001b[0m.        , \u001b[1;36m-1.98997494\u001b[0m, \u001b[1;36m-1.97994987\u001b[0m, \u001b[1;36m-1.96992481\u001b[0m, \u001b[1;36m-1.95989975\u001b[0m,\n",
       "       \u001b[1;36m-1.94987469\u001b[0m, \u001b[1;36m-1.93984962\u001b[0m, \u001b[1;36m-1.92982456\u001b[0m, \u001b[1;36m-1.9197995\u001b[0m , \u001b[1;36m-1.90977444\u001b[0m,\n",
       "       \u001b[1;36m-1.89974937\u001b[0m, \u001b[1;36m-1.88972431\u001b[0m, \u001b[1;36m-1.87969925\u001b[0m, \u001b[1;36m-1.86967419\u001b[0m, \u001b[1;36m-1.85964912\u001b[0m,\n",
       "       \u001b[1;36m-1.84962406\u001b[0m, \u001b[1;36m-1.839599\u001b[0m  , \u001b[1;36m-1.82957393\u001b[0m, \u001b[1;36m-1.81954887\u001b[0m, \u001b[1;36m-1.80952381\u001b[0m,\n",
       "       \u001b[1;36m-1.79949875\u001b[0m, \u001b[1;36m-1.78947368\u001b[0m, \u001b[1;36m-1.77944862\u001b[0m, \u001b[1;36m-1.76942356\u001b[0m, \u001b[1;36m-1.7593985\u001b[0m ,\n",
       "       \u001b[1;36m-1.74937343\u001b[0m, \u001b[1;36m-1.73934837\u001b[0m, \u001b[1;36m-1.72932331\u001b[0m, \u001b[1;36m-1.71929825\u001b[0m, \u001b[1;36m-1.70927318\u001b[0m,\n",
       "       \u001b[1;36m-1.69924812\u001b[0m, \u001b[1;36m-1.68922306\u001b[0m, \u001b[1;36m-1.67919799\u001b[0m, \u001b[1;36m-1.66917293\u001b[0m, \u001b[1;36m-1.65914787\u001b[0m,\n",
       "       \u001b[1;36m-1.64912281\u001b[0m, \u001b[1;36m-1.63909774\u001b[0m, \u001b[1;36m-1.62907268\u001b[0m, \u001b[1;36m-1.61904762\u001b[0m, \u001b[1;36m-1.60902256\u001b[0m,\n",
       "       \u001b[1;36m-1.59899749\u001b[0m, \u001b[1;36m-1.58897243\u001b[0m, \u001b[1;36m-1.57894737\u001b[0m, \u001b[1;36m-1.56892231\u001b[0m, \u001b[1;36m-1.55889724\u001b[0m,\n",
       "       \u001b[1;36m-1.54887218\u001b[0m, \u001b[1;36m-1.53884712\u001b[0m, \u001b[1;36m-1.52882206\u001b[0m, \u001b[1;36m-1.51879699\u001b[0m, \u001b[1;36m-1.50877193\u001b[0m,\n",
       "       \u001b[1;36m-1.49874687\u001b[0m, \u001b[1;36m-1.4887218\u001b[0m , \u001b[1;36m-1.47869674\u001b[0m, \u001b[1;36m-1.46867168\u001b[0m, \u001b[1;36m-1.45864662\u001b[0m,\n",
       "       \u001b[1;36m-1.44862155\u001b[0m, \u001b[1;36m-1.43859649\u001b[0m, \u001b[1;36m-1.42857143\u001b[0m, \u001b[1;36m-1.41854637\u001b[0m, \u001b[1;36m-1.4085213\u001b[0m ,\n",
       "       \u001b[1;36m-1.39849624\u001b[0m, \u001b[1;36m-1.38847118\u001b[0m, \u001b[1;36m-1.37844612\u001b[0m, \u001b[1;36m-1.36842105\u001b[0m, \u001b[1;36m-1.35839599\u001b[0m,\n",
       "       \u001b[1;36m-1.34837093\u001b[0m, \u001b[1;36m-1.33834586\u001b[0m, \u001b[1;36m-1.3283208\u001b[0m , \u001b[1;36m-1.31829574\u001b[0m, \u001b[1;36m-1.30827068\u001b[0m,\n",
       "       \u001b[1;36m-1.29824561\u001b[0m, \u001b[1;36m-1.28822055\u001b[0m, \u001b[1;36m-1.27819549\u001b[0m, \u001b[1;36m-1.26817043\u001b[0m, \u001b[1;36m-1.25814536\u001b[0m,\n",
       "       \u001b[1;36m-1.2481203\u001b[0m , \u001b[1;36m-1.23809524\u001b[0m, \u001b[1;36m-1.22807018\u001b[0m, \u001b[1;36m-1.21804511\u001b[0m, \u001b[1;36m-1.20802005\u001b[0m,\n",
       "       \u001b[1;36m-1.19799499\u001b[0m, \u001b[1;36m-1.18796992\u001b[0m, \u001b[1;36m-1.17794486\u001b[0m, \u001b[1;36m-1.1679198\u001b[0m , \u001b[1;36m-1.15789474\u001b[0m,\n",
       "       \u001b[1;36m-1.14786967\u001b[0m, \u001b[1;36m-1.13784461\u001b[0m, \u001b[1;36m-1.12781955\u001b[0m, \u001b[1;36m-1.11779449\u001b[0m, \u001b[1;36m-1.10776942\u001b[0m,\n",
       "       \u001b[1;36m-1.09774436\u001b[0m, \u001b[1;36m-1.0877193\u001b[0m , \u001b[1;36m-1.07769424\u001b[0m, \u001b[1;36m-1.06766917\u001b[0m, \u001b[1;36m-1.05764411\u001b[0m,\n",
       "       \u001b[1;36m-1.04761905\u001b[0m, \u001b[1;36m-1.03759398\u001b[0m, \u001b[1;36m-1.02756892\u001b[0m, \u001b[1;36m-1.01754386\u001b[0m, \u001b[1;36m-1.0075188\u001b[0m ,\n",
       "       \u001b[1;36m-0.99749373\u001b[0m, \u001b[1;36m-0.98746867\u001b[0m, \u001b[1;36m-0.97744361\u001b[0m, \u001b[1;36m-0.96741855\u001b[0m, \u001b[1;36m-0.95739348\u001b[0m,\n",
       "       \u001b[1;36m-0.94736842\u001b[0m, \u001b[1;36m-0.93734336\u001b[0m, \u001b[1;36m-0.9273183\u001b[0m , \u001b[1;36m-0.91729323\u001b[0m, \u001b[1;36m-0.90726817\u001b[0m,\n",
       "       \u001b[1;36m-0.89724311\u001b[0m, \u001b[1;36m-0.88721805\u001b[0m, \u001b[1;36m-0.87719298\u001b[0m, \u001b[1;36m-0.86716792\u001b[0m, \u001b[1;36m-0.85714286\u001b[0m,\n",
       "       \u001b[1;36m-0.84711779\u001b[0m, \u001b[1;36m-0.83709273\u001b[0m, \u001b[1;36m-0.82706767\u001b[0m, \u001b[1;36m-0.81704261\u001b[0m, \u001b[1;36m-0.80701754\u001b[0m,\n",
       "       \u001b[1;36m-0.79699248\u001b[0m, \u001b[1;36m-0.78696742\u001b[0m, \u001b[1;36m-0.77694236\u001b[0m, \u001b[1;36m-0.76691729\u001b[0m, \u001b[1;36m-0.75689223\u001b[0m,\n",
       "       \u001b[1;36m-0.74686717\u001b[0m, \u001b[1;36m-0.73684211\u001b[0m, \u001b[1;36m-0.72681704\u001b[0m, \u001b[1;36m-0.71679198\u001b[0m, \u001b[1;36m-0.70676692\u001b[0m,\n",
       "       \u001b[1;36m-0.69674185\u001b[0m, \u001b[1;36m-0.68671679\u001b[0m, \u001b[1;36m-0.67669173\u001b[0m, \u001b[1;36m-0.66666667\u001b[0m, \u001b[1;36m-0.6566416\u001b[0m ,\n",
       "       \u001b[1;36m-0.64661654\u001b[0m, \u001b[1;36m-0.63659148\u001b[0m, \u001b[1;36m-0.62656642\u001b[0m, \u001b[1;36m-0.61654135\u001b[0m, \u001b[1;36m-0.60651629\u001b[0m,\n",
       "       \u001b[1;36m-0.59649123\u001b[0m, \u001b[1;36m-0.58646617\u001b[0m, \u001b[1;36m-0.5764411\u001b[0m , \u001b[1;36m-0.56641604\u001b[0m, \u001b[1;36m-0.55639098\u001b[0m,\n",
       "       \u001b[1;36m-0.54636591\u001b[0m, \u001b[1;36m-0.53634085\u001b[0m, \u001b[1;36m-0.52631579\u001b[0m, \u001b[1;36m-0.51629073\u001b[0m, \u001b[1;36m-0.50626566\u001b[0m,\n",
       "       \u001b[1;36m-0.4962406\u001b[0m , \u001b[1;36m-0.48621554\u001b[0m, \u001b[1;36m-0.47619048\u001b[0m, \u001b[1;36m-0.46616541\u001b[0m, \u001b[1;36m-0.45614035\u001b[0m,\n",
       "       \u001b[1;36m-0.44611529\u001b[0m, \u001b[1;36m-0.43609023\u001b[0m, \u001b[1;36m-0.42606516\u001b[0m, \u001b[1;36m-0.4160401\u001b[0m , \u001b[1;36m-0.40601504\u001b[0m,\n",
       "       \u001b[1;36m-0.39598997\u001b[0m, \u001b[1;36m-0.38596491\u001b[0m, \u001b[1;36m-0.37593985\u001b[0m, \u001b[1;36m-0.36591479\u001b[0m, \u001b[1;36m-0.35588972\u001b[0m,\n",
       "       \u001b[1;36m-0.34586466\u001b[0m, \u001b[1;36m-0.3358396\u001b[0m , \u001b[1;36m-0.32581454\u001b[0m, \u001b[1;36m-0.31578947\u001b[0m, \u001b[1;36m-0.30576441\u001b[0m,\n",
       "       \u001b[1;36m-0.29573935\u001b[0m, \u001b[1;36m-0.28571429\u001b[0m, \u001b[1;36m-0.27568922\u001b[0m, \u001b[1;36m-0.26566416\u001b[0m, \u001b[1;36m-0.2556391\u001b[0m ,\n",
       "       \u001b[1;36m-0.24561404\u001b[0m, \u001b[1;36m-0.23558897\u001b[0m, \u001b[1;36m-0.22556391\u001b[0m, \u001b[1;36m-0.21553885\u001b[0m, \u001b[1;36m-0.20551378\u001b[0m,\n",
       "       \u001b[1;36m-0.19548872\u001b[0m, \u001b[1;36m-0.18546366\u001b[0m, \u001b[1;36m-0.1754386\u001b[0m , \u001b[1;36m-0.16541353\u001b[0m, \u001b[1;36m-0.15538847\u001b[0m,\n",
       "       \u001b[1;36m-0.14536341\u001b[0m, \u001b[1;36m-0.13533835\u001b[0m, \u001b[1;36m-0.12531328\u001b[0m, \u001b[1;36m-0.11528822\u001b[0m, \u001b[1;36m-0.10526316\u001b[0m,\n",
       "       \u001b[1;36m-0.0952381\u001b[0m , \u001b[1;36m-0.08521303\u001b[0m, \u001b[1;36m-0.07518797\u001b[0m, \u001b[1;36m-0.06516291\u001b[0m, \u001b[1;36m-0.05513784\u001b[0m,\n",
       "       \u001b[1;36m-0.04511278\u001b[0m, \u001b[1;36m-0.03508772\u001b[0m, \u001b[1;36m-0.02506266\u001b[0m, \u001b[1;36m-0.01503759\u001b[0m, \u001b[1;36m-0.00501253\u001b[0m,\n",
       "        \u001b[1;36m0.00501253\u001b[0m,  \u001b[1;36m0.01503759\u001b[0m,  \u001b[1;36m0.02506266\u001b[0m,  \u001b[1;36m0.03508772\u001b[0m,  \u001b[1;36m0.04511278\u001b[0m,\n",
       "        \u001b[1;36m0.05513784\u001b[0m,  \u001b[1;36m0.06516291\u001b[0m,  \u001b[1;36m0.07518797\u001b[0m,  \u001b[1;36m0.08521303\u001b[0m,  \u001b[1;36m0.0952381\u001b[0m ,\n",
       "        \u001b[1;36m0.10526316\u001b[0m,  \u001b[1;36m0.11528822\u001b[0m,  \u001b[1;36m0.12531328\u001b[0m,  \u001b[1;36m0.13533835\u001b[0m,  \u001b[1;36m0.14536341\u001b[0m,\n",
       "        \u001b[1;36m0.15538847\u001b[0m,  \u001b[1;36m0.16541353\u001b[0m,  \u001b[1;36m0.1754386\u001b[0m ,  \u001b[1;36m0.18546366\u001b[0m,  \u001b[1;36m0.19548872\u001b[0m,\n",
       "        \u001b[1;36m0.20551378\u001b[0m,  \u001b[1;36m0.21553885\u001b[0m,  \u001b[1;36m0.22556391\u001b[0m,  \u001b[1;36m0.23558897\u001b[0m,  \u001b[1;36m0.24561404\u001b[0m,\n",
       "        \u001b[1;36m0.2556391\u001b[0m ,  \u001b[1;36m0.26566416\u001b[0m,  \u001b[1;36m0.27568922\u001b[0m,  \u001b[1;36m0.28571429\u001b[0m,  \u001b[1;36m0.29573935\u001b[0m,\n",
       "        \u001b[1;36m0.30576441\u001b[0m,  \u001b[1;36m0.31578947\u001b[0m,  \u001b[1;36m0.32581454\u001b[0m,  \u001b[1;36m0.3358396\u001b[0m ,  \u001b[1;36m0.34586466\u001b[0m,\n",
       "        \u001b[1;36m0.35588972\u001b[0m,  \u001b[1;36m0.36591479\u001b[0m,  \u001b[1;36m0.37593985\u001b[0m,  \u001b[1;36m0.38596491\u001b[0m,  \u001b[1;36m0.39598997\u001b[0m,\n",
       "        \u001b[1;36m0.40601504\u001b[0m,  \u001b[1;36m0.4160401\u001b[0m ,  \u001b[1;36m0.42606516\u001b[0m,  \u001b[1;36m0.43609023\u001b[0m,  \u001b[1;36m0.44611529\u001b[0m,\n",
       "        \u001b[1;36m0.45614035\u001b[0m,  \u001b[1;36m0.46616541\u001b[0m,  \u001b[1;36m0.47619048\u001b[0m,  \u001b[1;36m0.48621554\u001b[0m,  \u001b[1;36m0.4962406\u001b[0m ,\n",
       "        \u001b[1;36m0.50626566\u001b[0m,  \u001b[1;36m0.51629073\u001b[0m,  \u001b[1;36m0.52631579\u001b[0m,  \u001b[1;36m0.53634085\u001b[0m,  \u001b[1;36m0.54636591\u001b[0m,\n",
       "        \u001b[1;36m0.55639098\u001b[0m,  \u001b[1;36m0.56641604\u001b[0m,  \u001b[1;36m0.5764411\u001b[0m ,  \u001b[1;36m0.58646617\u001b[0m,  \u001b[1;36m0.59649123\u001b[0m,\n",
       "        \u001b[1;36m0.60651629\u001b[0m,  \u001b[1;36m0.61654135\u001b[0m,  \u001b[1;36m0.62656642\u001b[0m,  \u001b[1;36m0.63659148\u001b[0m,  \u001b[1;36m0.64661654\u001b[0m,\n",
       "        \u001b[1;36m0.6566416\u001b[0m ,  \u001b[1;36m0.66666667\u001b[0m,  \u001b[1;36m0.67669173\u001b[0m,  \u001b[1;36m0.68671679\u001b[0m,  \u001b[1;36m0.69674185\u001b[0m,\n",
       "        \u001b[1;36m0.70676692\u001b[0m,  \u001b[1;36m0.71679198\u001b[0m,  \u001b[1;36m0.72681704\u001b[0m,  \u001b[1;36m0.73684211\u001b[0m,  \u001b[1;36m0.74686717\u001b[0m,\n",
       "        \u001b[1;36m0.75689223\u001b[0m,  \u001b[1;36m0.76691729\u001b[0m,  \u001b[1;36m0.77694236\u001b[0m,  \u001b[1;36m0.78696742\u001b[0m,  \u001b[1;36m0.79699248\u001b[0m,\n",
       "        \u001b[1;36m0.80701754\u001b[0m,  \u001b[1;36m0.81704261\u001b[0m,  \u001b[1;36m0.82706767\u001b[0m,  \u001b[1;36m0.83709273\u001b[0m,  \u001b[1;36m0.84711779\u001b[0m,\n",
       "        \u001b[1;36m0.85714286\u001b[0m,  \u001b[1;36m0.86716792\u001b[0m,  \u001b[1;36m0.87719298\u001b[0m,  \u001b[1;36m0.88721805\u001b[0m,  \u001b[1;36m0.89724311\u001b[0m,\n",
       "        \u001b[1;36m0.90726817\u001b[0m,  \u001b[1;36m0.91729323\u001b[0m,  \u001b[1;36m0.9273183\u001b[0m ,  \u001b[1;36m0.93734336\u001b[0m,  \u001b[1;36m0.94736842\u001b[0m,\n",
       "        \u001b[1;36m0.95739348\u001b[0m,  \u001b[1;36m0.96741855\u001b[0m,  \u001b[1;36m0.97744361\u001b[0m,  \u001b[1;36m0.98746867\u001b[0m,  \u001b[1;36m0.99749373\u001b[0m,\n",
       "        \u001b[1;36m1.0075188\u001b[0m ,  \u001b[1;36m1.01754386\u001b[0m,  \u001b[1;36m1.02756892\u001b[0m,  \u001b[1;36m1.03759398\u001b[0m,  \u001b[1;36m1.04761905\u001b[0m,\n",
       "        \u001b[1;36m1.05764411\u001b[0m,  \u001b[1;36m1.06766917\u001b[0m,  \u001b[1;36m1.07769424\u001b[0m,  \u001b[1;36m1.0877193\u001b[0m ,  \u001b[1;36m1.09774436\u001b[0m,\n",
       "        \u001b[1;36m1.10776942\u001b[0m,  \u001b[1;36m1.11779449\u001b[0m,  \u001b[1;36m1.12781955\u001b[0m,  \u001b[1;36m1.13784461\u001b[0m,  \u001b[1;36m1.14786967\u001b[0m,\n",
       "        \u001b[1;36m1.15789474\u001b[0m,  \u001b[1;36m1.1679198\u001b[0m ,  \u001b[1;36m1.17794486\u001b[0m,  \u001b[1;36m1.18796992\u001b[0m,  \u001b[1;36m1.19799499\u001b[0m,\n",
       "        \u001b[1;36m1.20802005\u001b[0m,  \u001b[1;36m1.21804511\u001b[0m,  \u001b[1;36m1.22807018\u001b[0m,  \u001b[1;36m1.23809524\u001b[0m,  \u001b[1;36m1.2481203\u001b[0m ,\n",
       "        \u001b[1;36m1.25814536\u001b[0m,  \u001b[1;36m1.26817043\u001b[0m,  \u001b[1;36m1.27819549\u001b[0m,  \u001b[1;36m1.28822055\u001b[0m,  \u001b[1;36m1.29824561\u001b[0m,\n",
       "        \u001b[1;36m1.30827068\u001b[0m,  \u001b[1;36m1.31829574\u001b[0m,  \u001b[1;36m1.3283208\u001b[0m ,  \u001b[1;36m1.33834586\u001b[0m,  \u001b[1;36m1.34837093\u001b[0m,\n",
       "        \u001b[1;36m1.35839599\u001b[0m,  \u001b[1;36m1.36842105\u001b[0m,  \u001b[1;36m1.37844612\u001b[0m,  \u001b[1;36m1.38847118\u001b[0m,  \u001b[1;36m1.39849624\u001b[0m,\n",
       "        \u001b[1;36m1.4085213\u001b[0m ,  \u001b[1;36m1.41854637\u001b[0m,  \u001b[1;36m1.42857143\u001b[0m,  \u001b[1;36m1.43859649\u001b[0m,  \u001b[1;36m1.44862155\u001b[0m,\n",
       "        \u001b[1;36m1.45864662\u001b[0m,  \u001b[1;36m1.46867168\u001b[0m,  \u001b[1;36m1.47869674\u001b[0m,  \u001b[1;36m1.4887218\u001b[0m ,  \u001b[1;36m1.49874687\u001b[0m,\n",
       "        \u001b[1;36m1.50877193\u001b[0m,  \u001b[1;36m1.51879699\u001b[0m,  \u001b[1;36m1.52882206\u001b[0m,  \u001b[1;36m1.53884712\u001b[0m,  \u001b[1;36m1.54887218\u001b[0m,\n",
       "        \u001b[1;36m1.55889724\u001b[0m,  \u001b[1;36m1.56892231\u001b[0m,  \u001b[1;36m1.57894737\u001b[0m,  \u001b[1;36m1.58897243\u001b[0m,  \u001b[1;36m1.59899749\u001b[0m,\n",
       "        \u001b[1;36m1.60902256\u001b[0m,  \u001b[1;36m1.61904762\u001b[0m,  \u001b[1;36m1.62907268\u001b[0m,  \u001b[1;36m1.63909774\u001b[0m,  \u001b[1;36m1.64912281\u001b[0m,\n",
       "        \u001b[1;36m1.65914787\u001b[0m,  \u001b[1;36m1.66917293\u001b[0m,  \u001b[1;36m1.67919799\u001b[0m,  \u001b[1;36m1.68922306\u001b[0m,  \u001b[1;36m1.69924812\u001b[0m,\n",
       "        \u001b[1;36m1.70927318\u001b[0m,  \u001b[1;36m1.71929825\u001b[0m,  \u001b[1;36m1.72932331\u001b[0m,  \u001b[1;36m1.73934837\u001b[0m,  \u001b[1;36m1.74937343\u001b[0m,\n",
       "        \u001b[1;36m1.7593985\u001b[0m ,  \u001b[1;36m1.76942356\u001b[0m,  \u001b[1;36m1.77944862\u001b[0m,  \u001b[1;36m1.78947368\u001b[0m,  \u001b[1;36m1.79949875\u001b[0m,\n",
       "        \u001b[1;36m1.80952381\u001b[0m,  \u001b[1;36m1.81954887\u001b[0m,  \u001b[1;36m1.82957393\u001b[0m,  \u001b[1;36m1.839599\u001b[0m  ,  \u001b[1;36m1.84962406\u001b[0m,\n",
       "        \u001b[1;36m1.85964912\u001b[0m,  \u001b[1;36m1.86967419\u001b[0m,  \u001b[1;36m1.87969925\u001b[0m,  \u001b[1;36m1.88972431\u001b[0m,  \u001b[1;36m1.89974937\u001b[0m,\n",
       "        \u001b[1;36m1.90977444\u001b[0m,  \u001b[1;36m1.9197995\u001b[0m ,  \u001b[1;36m1.92982456\u001b[0m,  \u001b[1;36m1.93984962\u001b[0m,  \u001b[1;36m1.94987469\u001b[0m,\n",
       "        \u001b[1;36m1.95989975\u001b[0m,  \u001b[1;36m1.96992481\u001b[0m,  \u001b[1;36m1.97994987\u001b[0m,  \u001b[1;36m1.98997494\u001b[0m,  \u001b[1;36m2\u001b[0m.        \u001b[1m]\u001b[0m\u001b[1m)\u001b[0m\u001b[1m]\u001b[0m, \u001b[33mz\u001b[0m=\u001b[1m[\u001b[0m\u001b[1;35marray\u001b[0m\u001b[1m(\u001b[0m\u001b[1m[\u001b[0m\u001b[1;36m0\u001b[0m.\u001b[1m]\u001b[0m\u001b[1m)\u001b[0m, \u001b[1;35marray\u001b[0m\u001b[1m(\u001b[0m\u001b[1m[\u001b[0m\u001b[1;36m0\u001b[0m.\u001b[1m]\u001b[0m\u001b[1m)\u001b[0m\u001b[1m]\u001b[0m, \u001b[33mf\u001b[0m=\u001b[1;35marray\u001b[0m\u001b[1m(\u001b[0m\u001b[1m[\u001b[0m\u001b[1;36m3.e+14\u001b[0m\u001b[1m]\u001b[0m\u001b[1m)\u001b[0m, \u001b[33mdata\u001b[0m=\u001b[1m<\u001b[0m\u001b[1;95mxarray.Dataset\u001b[0m\u001b[1m>\u001b[0m\n",
       "Dimensions:  \u001b[1m(\u001b[0mx: \u001b[1;36m400\u001b[0m, y: \u001b[1;36m400\u001b[0m, z: \u001b[1;36m1\u001b[0m, f: \u001b[1;36m1\u001b[0m\u001b[1m)\u001b[0m\n",
       "Coordinates:\n",
       "  * x        \u001b[1m(\u001b[0mx\u001b[1m)\u001b[0m float64 \u001b[1;36m-2.0\u001b[0m \u001b[1;36m-1.99\u001b[0m \u001b[1;36m-1.98\u001b[0m \u001b[1;36m-1.97\u001b[0m \u001b[1;36m-1.96\u001b[0m \u001b[33m...\u001b[0m \u001b[1;36m1.97\u001b[0m \u001b[1;36m1.98\u001b[0m \u001b[1;36m1.99\u001b[0m \u001b[1;36m2.0\u001b[0m\n",
       "  * y        \u001b[1m(\u001b[0my\u001b[1m)\u001b[0m float64 \u001b[1;36m-2.0\u001b[0m \u001b[1;36m-1.99\u001b[0m \u001b[1;36m-1.98\u001b[0m \u001b[1;36m-1.97\u001b[0m \u001b[1;36m-1.96\u001b[0m \u001b[33m...\u001b[0m \u001b[1;36m1.97\u001b[0m \u001b[1;36m1.98\u001b[0m \u001b[1;36m1.99\u001b[0m \u001b[1;36m2.0\u001b[0m\n",
       "  * z        \u001b[1m(\u001b[0mz\u001b[1m)\u001b[0m float64 \u001b[1;36m0.0\u001b[0m\n",
       "  * f        \u001b[1m(\u001b[0mf\u001b[1m)\u001b[0m float64 \u001b[1;36m3e+14\u001b[0m\n",
       "Data variables:\n",
       "    Ex       \u001b[1m(\u001b[0mx, y, z, f\u001b[1m)\u001b[0m complex128 \u001b[1m(\u001b[0m\u001b[1;36m-7.402952762521758e-14\u001b[0m-\u001b[1;36m3.93818109362380\u001b[0m\u001b[33m...\u001b[0m\n",
       "    Hy       \u001b[1m(\u001b[0mx, y, z, f\u001b[1m)\u001b[0m complex128 \u001b[1m(\u001b[0m\u001b[1;36m-1.0116782850993052e-18\u001b[0m-\u001b[1;36m5.\u001b[0m850487689356e\u001b[33m...\u001b[0m\u001b[1m)\u001b[0m\u001b[1m}\u001b[0m, \u001b[33mtask_info\u001b[0m=\u001b[1m{\u001b[0m\u001b[32m'execCount'\u001b[0m: \u001b[1;36m1\u001b[0m, \u001b[32m's3Storage'\u001b[0m: \u001b[1;36m7919184.0\u001b[0m, \u001b[32m'userEmail'\u001b[0m: \u001b[3;35mNone\u001b[0m, \u001b[32m'coreDuration'\u001b[0m: \u001b[1;36m49.0\u001b[0m, \u001b[32m'coreStartTime'\u001b[0m: \u001b[32m'1634584820530552912'\u001b[0m, \u001b[32m'rankCount'\u001b[0m: \u001b[1;36m30\u001b[0m, \u001b[32m'submitTime'\u001b[0m: \u001b[32m'2021:10:18:19:19:41'\u001b[0m, \u001b[32m'updateTime'\u001b[0m: \u001b[3;35mNone\u001b[0m, \u001b[32m'status'\u001b[0m: \u001b[32m'success'\u001b[0m, \u001b[32m'taskParam'\u001b[0m: \u001b[3;35mNone\u001b[0m, \u001b[32m'objectId'\u001b[0m: \u001b[32m'default'\u001b[0m, \u001b[32m'folderId'\u001b[0m: \u001b[32m'default'\u001b[0m, \u001b[32m'solverVersion'\u001b[0m: \u001b[32m'release-21.3.1.6'\u001b[0m, \u001b[32m'worker'\u001b[0m: \u001b[32m'base'\u001b[0m, \u001b[32m'userId'\u001b[0m: \u001b[32m'AIDAXWCOWJGJBISZJPJQZ'\u001b[0m, \u001b[32m'taskType'\u001b[0m: \u001b[32m'em'\u001b[0m, \u001b[32m'objectType'\u001b[0m: \u001b[32m'FDTD'\u001b[0m, \u001b[32m'taskName'\u001b[0m: \u001b[32m'simple_simulation-16af3632da7c8e00'\u001b[0m, \u001b[32m'errorMessages'\u001b[0m: \u001b[3;35mNone\u001b[0m, \u001b[32m'nodeSize'\u001b[0m: \u001b[1;36m74088000\u001b[0m, \u001b[32m'timeSteps'\u001b[0m: \u001b[1;36m57696\u001b[0m, \u001b[32m'computeWeight'\u001b[0m: \u001b[1;36m2137.290624\u001b[0m, \u001b[32m'solverStartTime'\u001b[0m: \u001b[32m'2021:10:18:19:20:18'\u001b[0m, \u001b[32m'solverEndTime'\u001b[0m: \u001b[32m'2021:10:18:19:21:12'\u001b[0m, \u001b[32m'taskId'\u001b[0m: \u001b[32m'f1507d56-1680-42aa-bf25-a4c3665e467b'\u001b[0m, \u001b[32m'workerGroup'\u001b[0m: \u001b[32m'flow360cluster'\u001b[0m, \u001b[32m'realCost'\u001b[0m: \u001b[1;36m1.2460474617796802\u001b[0m, \u001b[32m'cloudInstanceSize'\u001b[0m: \u001b[3;35mNone\u001b[0m, \u001b[32m'flow360InstanceSize'\u001b[0m: \u001b[3;35mNone\u001b[0m, \u001b[32m'estCostMin'\u001b[0m: \u001b[1;36m2.2655622580899846\u001b[0m, \u001b[32m'estCostMax'\u001b[0m: \u001b[1;36m5.663905645224961\u001b[0m, \u001b[32m'running'\u001b[0m: \u001b[3;91mFalse\u001b[0m, \u001b[32m'objectRefId'\u001b[0m: \u001b[3;35mNone\u001b[0m, \u001b[32m'metdataProcessed'\u001b[0m: \u001b[3;92mTrue\u001b[0m, \u001b[32m'optSolverUnit'\u001b[0m: \u001b[1;36m0.0\u001b[0m, \u001b[32m'minSolverUnit'\u001b[0m: \u001b[1;36m0.0\u001b[0m, \u001b[32m'maxSolverUnit'\u001b[0m: \u001b[1;36m4.0\u001b[0m\u001b[1m}\u001b[0m, \u001b[33mlog_string\u001b[0m=\u001b[32m'Simulation domain Nx, Ny, Nz: \u001b[0m\u001b[32m[\u001b[0m\u001b[32m420, 420, 420\u001b[0m\u001b[32m]\u001b[0m\u001b[32m\\nApplied symmetries: \u001b[0m\u001b[32m[\u001b[0m\u001b[32m0, 0, 0\u001b[0m\u001b[32m]\u001b[0m\u001b[32m\\nNumber of computational grid points: 7.4088e+07.\\nUsing subpixel averaging: True\\nNumber of time steps: 57696\\nAutomatic shutoff factor: 1.00e-05\\nTime step \u001b[0m\u001b[32m(\u001b[0m\u001b[32ms\u001b[0m\u001b[32m)\u001b[0m\u001b[32m: 1.7332e-17\\n\\nGet source modes time \u001b[0m\u001b[32m(\u001b[0m\u001b[32ms\u001b[0m\u001b[32m)\u001b[0m\u001b[32m:    0.1126\\nGet monitor modes time \u001b[0m\u001b[32m(\u001b[0m\u001b[32ms\u001b[0m\u001b[32m)\u001b[0m\u001b[32m:   0.0355\\nRest of setup time \u001b[0m\u001b[32m(\u001b[0m\u001b[32ms\u001b[0m\u001b[32m)\u001b[0m\u001b[32m:       0.0818\\n\\nStarting solver...\\n- Time step   2307 / time 4.00e-14s \u001b[0m\u001b[32m(\u001b[0m\u001b[32m  4 % done\u001b[0m\u001b[32m)\u001b[0m\u001b[32m, field decay: 1.00e+00\\n- Time step   4591 / time 7.96e-14s \u001b[0m\u001b[32m(\u001b[0m\u001b[32m  7 % done\u001b[0m\u001b[32m)\u001b[0m\u001b[32m, field decay: 1.00e+00\\n- Time step   4615 / time 8.00e-14s \u001b[0m\u001b[32m(\u001b[0m\u001b[32m  8 % done\u001b[0m\u001b[32m)\u001b[0m\u001b[32m, field decay: 1.00e+00\\n- Time step   6923 / time 1.20e-13s \u001b[0m\u001b[32m(\u001b[0m\u001b[32m 12 % done\u001b[0m\u001b[32m)\u001b[0m\u001b[32m, field decay: 8.07e-03\\n- Time step   9231 / time 1.60e-13s \u001b[0m\u001b[32m(\u001b[0m\u001b[32m 16 % done\u001b[0m\u001b[32m)\u001b[0m\u001b[32m, field decay: 2.86e-03\\n- Time step  11539 / time 2.00e-13s \u001b[0m\u001b[32m(\u001b[0m\u001b[32m 20 % done\u001b[0m\u001b[32m)\u001b[0m\u001b[32m, field decay: 1.32e-03\\n- Time step  13847 / time 2.40e-13s \u001b[0m\u001b[32m(\u001b[0m\u001b[32m 24 % done\u001b[0m\u001b[32m)\u001b[0m\u001b[32m, field decay: 3.15e-04\\n- Time step  16154 / time 2.80e-13s \u001b[0m\u001b[32m(\u001b[0m\u001b[32m 28 % done\u001b[0m\u001b[32m)\u001b[0m\u001b[32m, field decay: 1.88e-04\\n- Time step  18462 / time 3.20e-13s \u001b[0m\u001b[32m(\u001b[0m\u001b[32m 32 % done\u001b[0m\u001b[32m)\u001b[0m\u001b[32m, field decay: 7.38e-05\\n- Time step  20770 / time 3.60e-13s \u001b[0m\u001b[32m(\u001b[0m\u001b[32m 36 % done\u001b[0m\u001b[32m)\u001b[0m\u001b[32m, field decay: 1.89e-05\\n- Time step  23078 / time 4.00e-13s \u001b[0m\u001b[32m(\u001b[0m\u001b[32m 40 % done\u001b[0m\u001b[32m)\u001b[0m\u001b[32m, field decay: 1.16e-05\\n- Time step  25386 / time 4.40e-13s \u001b[0m\u001b[32m(\u001b[0m\u001b[32m 44 % done\u001b[0m\u001b[32m)\u001b[0m\u001b[32m, field decay: 3.45e-06\\nField decay smaller than shutoff factor, exiting solver.\\n\\nSolver time \u001b[0m\u001b[32m(\u001b[0m\u001b[32ms\u001b[0m\u001b[32m)\u001b[0m\u001b[32m:              49.2908\\nPost-processing time \u001b[0m\u001b[32m(\u001b[0m\u001b[32ms\u001b[0m\u001b[32m)\u001b[0m\u001b[32m:     0.0668\\n'\u001b[0m\u001b[1m)\u001b[0m\n"
      ]
     },
     "metadata": {},
     "output_type": "display_data"
    }
   ],
   "source": [
    "job = web.Job(simulation=sim, task_name='simple_simulation')\n",
    "sim_data = job.run()"
   ]
  },
  {
   "cell_type": "code",
   "execution_count": 3,
   "id": "809846e6-0500-4955-bcce-a4fc00ddc829",
   "metadata": {},
   "outputs": [
    {
     "data": {
      "text/html": [
       "<pre style=\"white-space:pre;overflow-x:auto;line-height:normal;font-family:Menlo,'DejaVu Sans Mono',consolas,'Courier New',monospace\"><span style=\"color: #7fbfbf; text-decoration-color: #7fbfbf\">[12:40:58] </span><span style=\"color: #000080; text-decoration-color: #000080\">INFO    </span> Creating task.                                              <a href=\"file:///Users/twhughes/Documents/Flexcompute/Tidy3D-client-revamp/notebooks/../tidy3d/web/webapi.py\"><span style=\"color: #7f7f7f; text-decoration-color: #7f7f7f\">webapi.py</span></a><span style=\"color: #7f7f7f; text-decoration-color: #7f7f7f\">:313</span>\n",
       "</pre>\n"
      ],
      "text/plain": [
       "\u001b[2;36m[12:40:58]\u001b[0m\u001b[2;36m \u001b[0m\u001b[34mINFO    \u001b[0m Creating task.                                              \u001b]8;id=462076;file:///Users/twhughes/Documents/Flexcompute/Tidy3D-client-revamp/notebooks/../tidy3d/web/webapi.py\u001b\\\u001b[2mwebapi.py\u001b[0m\u001b]8;;\u001b\\\u001b[2m:313\u001b[0m\n"
      ]
     },
     "metadata": {},
     "output_type": "display_data"
    },
    {
     "data": {
      "text/html": [
       "<pre style=\"white-space:pre;overflow-x:auto;line-height:normal;font-family:Menlo,'DejaVu Sans Mono',consolas,'Courier New',monospace\"><span style=\"color: #7fbfbf; text-decoration-color: #7fbfbf\">           </span><span style=\"color: #000080; text-decoration-color: #000080\">INFO    </span> Uploading the json file                                     <a href=\"file:///Users/twhughes/Documents/Flexcompute/Tidy3D-client-revamp/notebooks/../tidy3d/web/webapi.py\"><span style=\"color: #7f7f7f; text-decoration-color: #7f7f7f\">webapi.py</span></a><span style=\"color: #7f7f7f; text-decoration-color: #7f7f7f\">:322</span>\n",
       "</pre>\n"
      ],
      "text/plain": [
       "\u001b[2;36m          \u001b[0m\u001b[2;36m \u001b[0m\u001b[34mINFO    \u001b[0m Uploading the json file                                     \u001b]8;id=630412;file:///Users/twhughes/Documents/Flexcompute/Tidy3D-client-revamp/notebooks/../tidy3d/web/webapi.py\u001b\\\u001b[2mwebapi.py\u001b[0m\u001b]8;;\u001b\\\u001b[2m:322\u001b[0m\n"
      ]
     },
     "metadata": {},
     "output_type": "display_data"
    },
    {
     "data": {
      "text/html": [
       "<pre style=\"white-space:pre;overflow-x:auto;line-height:normal;font-family:Menlo,'DejaVu Sans Mono',consolas,'Courier New',monospace\"><span style=\"color: #7fbfbf; text-decoration-color: #7fbfbf\">           </span><span style=\"color: #000080; text-decoration-color: #000080\">INFO    </span> Creating task.                                              <a href=\"file:///Users/twhughes/Documents/Flexcompute/Tidy3D-client-revamp/notebooks/../tidy3d/web/webapi.py\"><span style=\"color: #7f7f7f; text-decoration-color: #7f7f7f\">webapi.py</span></a><span style=\"color: #7f7f7f; text-decoration-color: #7f7f7f\">:313</span>\n",
       "</pre>\n"
      ],
      "text/plain": [
       "\u001b[2;36m          \u001b[0m\u001b[2;36m \u001b[0m\u001b[34mINFO    \u001b[0m Creating task.                                              \u001b]8;id=102232;file:///Users/twhughes/Documents/Flexcompute/Tidy3D-client-revamp/notebooks/../tidy3d/web/webapi.py\u001b\\\u001b[2mwebapi.py\u001b[0m\u001b]8;;\u001b\\\u001b[2m:313\u001b[0m\n"
      ]
     },
     "metadata": {},
     "output_type": "display_data"
    },
    {
     "data": {
      "text/html": [
       "<pre style=\"white-space:pre;overflow-x:auto;line-height:normal;font-family:Menlo,'DejaVu Sans Mono',consolas,'Courier New',monospace\"><span style=\"color: #7fbfbf; text-decoration-color: #7fbfbf\">[12:40:59] </span><span style=\"color: #000080; text-decoration-color: #000080\">INFO    </span> Uploading the json file                                     <a href=\"file:///Users/twhughes/Documents/Flexcompute/Tidy3D-client-revamp/notebooks/../tidy3d/web/webapi.py\"><span style=\"color: #7f7f7f; text-decoration-color: #7f7f7f\">webapi.py</span></a><span style=\"color: #7f7f7f; text-decoration-color: #7f7f7f\">:322</span>\n",
       "</pre>\n"
      ],
      "text/plain": [
       "\u001b[2;36m[12:40:59]\u001b[0m\u001b[2;36m \u001b[0m\u001b[34mINFO    \u001b[0m Uploading the json file                                     \u001b]8;id=911;file:///Users/twhughes/Documents/Flexcompute/Tidy3D-client-revamp/notebooks/../tidy3d/web/webapi.py\u001b\\\u001b[2mwebapi.py\u001b[0m\u001b]8;;\u001b\\\u001b[2m:322\u001b[0m\n"
      ]
     },
     "metadata": {},
     "output_type": "display_data"
    },
    {
     "data": {
      "text/html": [
       "<pre style=\"white-space:pre;overflow-x:auto;line-height:normal;font-family:Menlo,'DejaVu Sans Mono',consolas,'Courier New',monospace\"><span style=\"color: #7fbfbf; text-decoration-color: #7fbfbf\">           </span><span style=\"color: #000080; text-decoration-color: #000080\">INFO    </span> Creating task.                                              <a href=\"file:///Users/twhughes/Documents/Flexcompute/Tidy3D-client-revamp/notebooks/../tidy3d/web/webapi.py\"><span style=\"color: #7f7f7f; text-decoration-color: #7f7f7f\">webapi.py</span></a><span style=\"color: #7f7f7f; text-decoration-color: #7f7f7f\">:313</span>\n",
       "</pre>\n"
      ],
      "text/plain": [
       "\u001b[2;36m          \u001b[0m\u001b[2;36m \u001b[0m\u001b[34mINFO    \u001b[0m Creating task.                                              \u001b]8;id=921578;file:///Users/twhughes/Documents/Flexcompute/Tidy3D-client-revamp/notebooks/../tidy3d/web/webapi.py\u001b\\\u001b[2mwebapi.py\u001b[0m\u001b]8;;\u001b\\\u001b[2m:313\u001b[0m\n"
      ]
     },
     "metadata": {},
     "output_type": "display_data"
    },
    {
     "data": {
      "text/html": [
       "<pre style=\"white-space:pre;overflow-x:auto;line-height:normal;font-family:Menlo,'DejaVu Sans Mono',consolas,'Courier New',monospace\"><span style=\"color: #7fbfbf; text-decoration-color: #7fbfbf\">[12:41:00] </span><span style=\"color: #000080; text-decoration-color: #000080\">INFO    </span> Uploading the json file                                     <a href=\"file:///Users/twhughes/Documents/Flexcompute/Tidy3D-client-revamp/notebooks/../tidy3d/web/webapi.py\"><span style=\"color: #7f7f7f; text-decoration-color: #7f7f7f\">webapi.py</span></a><span style=\"color: #7f7f7f; text-decoration-color: #7f7f7f\">:322</span>\n",
       "</pre>\n"
      ],
      "text/plain": [
       "\u001b[2;36m[12:41:00]\u001b[0m\u001b[2;36m \u001b[0m\u001b[34mINFO    \u001b[0m Uploading the json file                                     \u001b]8;id=381282;file:///Users/twhughes/Documents/Flexcompute/Tidy3D-client-revamp/notebooks/../tidy3d/web/webapi.py\u001b\\\u001b[2mwebapi.py\u001b[0m\u001b]8;;\u001b\\\u001b[2m:322\u001b[0m\n"
      ]
     },
     "metadata": {},
     "output_type": "display_data"
    },
    {
     "data": {
      "text/html": [
       "<pre style=\"white-space:pre;overflow-x:auto;line-height:normal;font-family:Menlo,'DejaVu Sans Mono',consolas,'Courier New',monospace\"><span style=\"color: #7fbfbf; text-decoration-color: #7fbfbf\">           </span><span style=\"color: #000080; text-decoration-color: #000080\">INFO    </span> Creating task.                                              <a href=\"file:///Users/twhughes/Documents/Flexcompute/Tidy3D-client-revamp/notebooks/../tidy3d/web/webapi.py\"><span style=\"color: #7f7f7f; text-decoration-color: #7f7f7f\">webapi.py</span></a><span style=\"color: #7f7f7f; text-decoration-color: #7f7f7f\">:313</span>\n",
       "</pre>\n"
      ],
      "text/plain": [
       "\u001b[2;36m          \u001b[0m\u001b[2;36m \u001b[0m\u001b[34mINFO    \u001b[0m Creating task.                                              \u001b]8;id=416044;file:///Users/twhughes/Documents/Flexcompute/Tidy3D-client-revamp/notebooks/../tidy3d/web/webapi.py\u001b\\\u001b[2mwebapi.py\u001b[0m\u001b]8;;\u001b\\\u001b[2m:313\u001b[0m\n"
      ]
     },
     "metadata": {},
     "output_type": "display_data"
    },
    {
     "data": {
      "text/html": [
       "<pre style=\"white-space:pre;overflow-x:auto;line-height:normal;font-family:Menlo,'DejaVu Sans Mono',consolas,'Courier New',monospace\"><span style=\"color: #7fbfbf; text-decoration-color: #7fbfbf\">[12:41:01] </span><span style=\"color: #000080; text-decoration-color: #000080\">INFO    </span> Uploading the json file                                     <a href=\"file:///Users/twhughes/Documents/Flexcompute/Tidy3D-client-revamp/notebooks/../tidy3d/web/webapi.py\"><span style=\"color: #7f7f7f; text-decoration-color: #7f7f7f\">webapi.py</span></a><span style=\"color: #7f7f7f; text-decoration-color: #7f7f7f\">:322</span>\n",
       "</pre>\n"
      ],
      "text/plain": [
       "\u001b[2;36m[12:41:01]\u001b[0m\u001b[2;36m \u001b[0m\u001b[34mINFO    \u001b[0m Uploading the json file                                     \u001b]8;id=842449;file:///Users/twhughes/Documents/Flexcompute/Tidy3D-client-revamp/notebooks/../tidy3d/web/webapi.py\u001b\\\u001b[2mwebapi.py\u001b[0m\u001b]8;;\u001b\\\u001b[2m:322\u001b[0m\n"
      ]
     },
     "metadata": {},
     "output_type": "display_data"
    },
    {
     "data": {
      "text/html": [
       "<pre style=\"white-space:pre;overflow-x:auto;line-height:normal;font-family:Menlo,'DejaVu Sans Mono',consolas,'Courier New',monospace\"><span style=\"color: #7fbfbf; text-decoration-color: #7fbfbf\">           </span><span style=\"color: #000080; text-decoration-color: #000080\">INFO    </span> Creating task.                                              <a href=\"file:///Users/twhughes/Documents/Flexcompute/Tidy3D-client-revamp/notebooks/../tidy3d/web/webapi.py\"><span style=\"color: #7f7f7f; text-decoration-color: #7f7f7f\">webapi.py</span></a><span style=\"color: #7f7f7f; text-decoration-color: #7f7f7f\">:313</span>\n",
       "</pre>\n"
      ],
      "text/plain": [
       "\u001b[2;36m          \u001b[0m\u001b[2;36m \u001b[0m\u001b[34mINFO    \u001b[0m Creating task.                                              \u001b]8;id=54743;file:///Users/twhughes/Documents/Flexcompute/Tidy3D-client-revamp/notebooks/../tidy3d/web/webapi.py\u001b\\\u001b[2mwebapi.py\u001b[0m\u001b]8;;\u001b\\\u001b[2m:313\u001b[0m\n"
      ]
     },
     "metadata": {},
     "output_type": "display_data"
    },
    {
     "data": {
      "text/html": [
       "<pre style=\"white-space:pre;overflow-x:auto;line-height:normal;font-family:Menlo,'DejaVu Sans Mono',consolas,'Courier New',monospace\"><span style=\"color: #7fbfbf; text-decoration-color: #7fbfbf\">[12:41:02] </span><span style=\"color: #000080; text-decoration-color: #000080\">INFO    </span> Uploading the json file                                     <a href=\"file:///Users/twhughes/Documents/Flexcompute/Tidy3D-client-revamp/notebooks/../tidy3d/web/webapi.py\"><span style=\"color: #7f7f7f; text-decoration-color: #7f7f7f\">webapi.py</span></a><span style=\"color: #7f7f7f; text-decoration-color: #7f7f7f\">:322</span>\n",
       "</pre>\n"
      ],
      "text/plain": [
       "\u001b[2;36m[12:41:02]\u001b[0m\u001b[2;36m \u001b[0m\u001b[34mINFO    \u001b[0m Uploading the json file                                     \u001b]8;id=488671;file:///Users/twhughes/Documents/Flexcompute/Tidy3D-client-revamp/notebooks/../tidy3d/web/webapi.py\u001b\\\u001b[2mwebapi.py\u001b[0m\u001b]8;;\u001b\\\u001b[2m:322\u001b[0m\n"
      ]
     },
     "metadata": {},
     "output_type": "display_data"
    },
    {
     "data": {
      "application/vnd.jupyter.widget-view+json": {
       "model_id": "950e62b08d4e4d41a2c318f22c64d669",
       "version_major": 2,
       "version_minor": 0
      },
      "text/plain": [
       "Output()"
      ]
     },
     "metadata": {},
     "output_type": "display_data"
    },
    {
     "data": {
      "text/html": [
       "<pre style=\"white-space:pre;overflow-x:auto;line-height:normal;font-family:Menlo,'DejaVu Sans Mono',consolas,'Courier New',monospace\"><span style=\"color: #7fbfbf; text-decoration-color: #7fbfbf\">[12:45:58] </span><span style=\"color: #000080; text-decoration-color: #000080\">INFO    </span> clearing existing files before downloading                  <a href=\"file:///Users/twhughes/Documents/Flexcompute/Tidy3D-client-revamp/notebooks/../tidy3d/web/webapi.py\"><span style=\"color: #7f7f7f; text-decoration-color: #7f7f7f\">webapi.py</span></a><span style=\"color: #7f7f7f; text-decoration-color: #7f7f7f\">:216</span>\n",
       "</pre>\n"
      ],
      "text/plain": [
       "\u001b[2;36m[12:45:58]\u001b[0m\u001b[2;36m \u001b[0m\u001b[34mINFO    \u001b[0m clearing existing files before downloading                  \u001b]8;id=162198;file:///Users/twhughes/Documents/Flexcompute/Tidy3D-client-revamp/notebooks/../tidy3d/web/webapi.py\u001b\\\u001b[2mwebapi.py\u001b[0m\u001b]8;;\u001b\\\u001b[2m:216\u001b[0m\n"
      ]
     },
     "metadata": {},
     "output_type": "display_data"
    },
    {
     "data": {
      "text/html": [
       "<pre style=\"white-space:pre;overflow-x:auto;line-height:normal;font-family:Menlo,'DejaVu Sans Mono',consolas,'Courier New',monospace\"><span style=\"color: #7fbfbf; text-decoration-color: #7fbfbf\">           </span><span style=\"color: #000080; text-decoration-color: #000080\">INFO    </span> removing file .<span style=\"color: #800080; text-decoration-color: #800080\">/</span><span style=\"color: #ff00ff; text-decoration-color: #ff00ff\">sim_0.hdf5</span>                                  <a href=\"file:///Users/twhughes/Documents/Flexcompute/Tidy3D-client-revamp/notebooks/../tidy3d/web/webapi.py\"><span style=\"color: #7f7f7f; text-decoration-color: #7f7f7f\">webapi.py</span></a><span style=\"color: #7f7f7f; text-decoration-color: #7f7f7f\">:385</span>\n",
       "</pre>\n"
      ],
      "text/plain": [
       "\u001b[2;36m          \u001b[0m\u001b[2;36m \u001b[0m\u001b[34mINFO    \u001b[0m removing file .\u001b[35m/\u001b[0m\u001b[95msim_0.hdf5\u001b[0m                                  \u001b]8;id=196559;file:///Users/twhughes/Documents/Flexcompute/Tidy3D-client-revamp/notebooks/../tidy3d/web/webapi.py\u001b\\\u001b[2mwebapi.py\u001b[0m\u001b]8;;\u001b\\\u001b[2m:385\u001b[0m\n"
      ]
     },
     "metadata": {},
     "output_type": "display_data"
    },
    {
     "data": {
      "text/html": [
       "<pre style=\"white-space:pre;overflow-x:auto;line-height:normal;font-family:Menlo,'DejaVu Sans Mono',consolas,'Courier New',monospace\"><span style=\"color: #7fbfbf; text-decoration-color: #7fbfbf\">           </span><span style=\"color: #000080; text-decoration-color: #000080\">INFO    </span> downloading file <span style=\"color: #008000; text-decoration-color: #008000\">\"simulation.json\"</span> to <span style=\"color: #008000; text-decoration-color: #008000\">\"./simulation.json\"</span>   <a href=\"file:///Users/twhughes/Documents/Flexcompute/Tidy3D-client-revamp/notebooks/../tidy3d/web/webapi.py\"><span style=\"color: #7f7f7f; text-decoration-color: #7f7f7f\">webapi.py</span></a><span style=\"color: #7f7f7f; text-decoration-color: #7f7f7f\">:354</span>\n",
       "</pre>\n"
      ],
      "text/plain": [
       "\u001b[2;36m          \u001b[0m\u001b[2;36m \u001b[0m\u001b[34mINFO    \u001b[0m downloading file \u001b[32m\"simulation.json\"\u001b[0m to \u001b[32m\"./simulation.json\"\u001b[0m   \u001b]8;id=638052;file:///Users/twhughes/Documents/Flexcompute/Tidy3D-client-revamp/notebooks/../tidy3d/web/webapi.py\u001b\\\u001b[2mwebapi.py\u001b[0m\u001b]8;;\u001b\\\u001b[2m:354\u001b[0m\n"
      ]
     },
     "metadata": {},
     "output_type": "display_data"
    },
    {
     "data": {
      "application/vnd.jupyter.widget-view+json": {
       "model_id": "752c8767c4424338998faa4df7f4b783",
       "version_major": 2,
       "version_minor": 0
      },
      "text/plain": [
       "Output()"
      ]
     },
     "metadata": {},
     "output_type": "display_data"
    },
    {
     "data": {
      "text/html": [
       "<pre style=\"white-space:pre;overflow-x:auto;line-height:normal;font-family:Menlo,'DejaVu Sans Mono',consolas,'Courier New',monospace\"><span style=\"color: #7fbfbf; text-decoration-color: #7fbfbf\">[12:45:59] </span><span style=\"color: #000080; text-decoration-color: #000080\">INFO    </span> downloading file <span style=\"color: #008000; text-decoration-color: #008000\">\"monitor_data.hdf5\"</span> to                     <a href=\"file:///Users/twhughes/Documents/Flexcompute/Tidy3D-client-revamp/notebooks/../tidy3d/web/webapi.py\"><span style=\"color: #7f7f7f; text-decoration-color: #7f7f7f\">webapi.py</span></a><span style=\"color: #7f7f7f; text-decoration-color: #7f7f7f\">:354</span>\n",
       "                    <span style=\"color: #008000; text-decoration-color: #008000\">\"./monitor_data.hdf5\"</span>                                                    \n",
       "</pre>\n"
      ],
      "text/plain": [
       "\u001b[2;36m[12:45:59]\u001b[0m\u001b[2;36m \u001b[0m\u001b[34mINFO    \u001b[0m downloading file \u001b[32m\"monitor_data.hdf5\"\u001b[0m to                     \u001b]8;id=197071;file:///Users/twhughes/Documents/Flexcompute/Tidy3D-client-revamp/notebooks/../tidy3d/web/webapi.py\u001b\\\u001b[2mwebapi.py\u001b[0m\u001b]8;;\u001b\\\u001b[2m:354\u001b[0m\n",
       "                    \u001b[32m\"./monitor_data.hdf5\"\u001b[0m                                                    \n"
      ]
     },
     "metadata": {},
     "output_type": "display_data"
    },
    {
     "data": {
      "application/vnd.jupyter.widget-view+json": {
       "model_id": "6dcf67a11c714988a141a1eb1464578d",
       "version_major": 2,
       "version_minor": 0
      },
      "text/plain": [
       "Output()"
      ]
     },
     "metadata": {},
     "output_type": "display_data"
    },
    {
     "data": {
      "text/html": [
       "<pre style=\"white-space:pre;overflow-x:auto;line-height:normal;font-family:Menlo,'DejaVu Sans Mono',consolas,'Courier New',monospace\"><span style=\"color: #7fbfbf; text-decoration-color: #7fbfbf\">           </span><span style=\"color: #000080; text-decoration-color: #000080\">INFO    </span> getting log string                                          <a href=\"file:///Users/twhughes/Documents/Flexcompute/Tidy3D-client-revamp/notebooks/../tidy3d/web/webapi.py\"><span style=\"color: #7f7f7f; text-decoration-color: #7f7f7f\">webapi.py</span></a><span style=\"color: #7f7f7f; text-decoration-color: #7f7f7f\">:225</span>\n",
       "</pre>\n"
      ],
      "text/plain": [
       "\u001b[2;36m          \u001b[0m\u001b[2;36m \u001b[0m\u001b[34mINFO    \u001b[0m getting log string                                          \u001b]8;id=268664;file:///Users/twhughes/Documents/Flexcompute/Tidy3D-client-revamp/notebooks/../tidy3d/web/webapi.py\u001b\\\u001b[2mwebapi.py\u001b[0m\u001b]8;;\u001b\\\u001b[2m:225\u001b[0m\n"
      ]
     },
     "metadata": {},
     "output_type": "display_data"
    },
    {
     "data": {
      "text/html": [
       "<pre style=\"white-space:pre;overflow-x:auto;line-height:normal;font-family:Menlo,'DejaVu Sans Mono',consolas,'Courier New',monospace\"><span style=\"color: #7fbfbf; text-decoration-color: #7fbfbf\">           </span><span style=\"color: #000080; text-decoration-color: #000080\">INFO    </span> downloading file <span style=\"color: #008000; text-decoration-color: #008000\">\"tidy3d.log\"</span> to <span style=\"color: #008000; text-decoration-color: #008000\">\"./tidy3d.log\"</span>             <a href=\"file:///Users/twhughes/Documents/Flexcompute/Tidy3D-client-revamp/notebooks/../tidy3d/web/webapi.py\"><span style=\"color: #7f7f7f; text-decoration-color: #7f7f7f\">webapi.py</span></a><span style=\"color: #7f7f7f; text-decoration-color: #7f7f7f\">:354</span>\n",
       "</pre>\n"
      ],
      "text/plain": [
       "\u001b[2;36m          \u001b[0m\u001b[2;36m \u001b[0m\u001b[34mINFO    \u001b[0m downloading file \u001b[32m\"tidy3d.log\"\u001b[0m to \u001b[32m\"./tidy3d.log\"\u001b[0m             \u001b]8;id=813396;file:///Users/twhughes/Documents/Flexcompute/Tidy3D-client-revamp/notebooks/../tidy3d/web/webapi.py\u001b\\\u001b[2mwebapi.py\u001b[0m\u001b]8;;\u001b\\\u001b[2m:354\u001b[0m\n"
      ]
     },
     "metadata": {},
     "output_type": "display_data"
    },
    {
     "data": {
      "application/vnd.jupyter.widget-view+json": {
       "model_id": "fd61b786f4b54cd0bbae07502d60c2bc",
       "version_major": 2,
       "version_minor": 0
      },
      "text/plain": [
       "Output()"
      ]
     },
     "metadata": {},
     "output_type": "display_data"
    },
    {
     "data": {
      "text/html": [
       "<pre style=\"white-space:pre;overflow-x:auto;line-height:normal;font-family:Menlo,'DejaVu Sans Mono',consolas,'Courier New',monospace\"><span style=\"color: #7fbfbf; text-decoration-color: #7fbfbf\">           </span><span style=\"color: #000080; text-decoration-color: #000080\">INFO    </span> loading old monitor data to data dict                       <a href=\"file:///Users/twhughes/Documents/Flexcompute/Tidy3D-client-revamp/notebooks/../tidy3d/web/webapi.py\"><span style=\"color: #7f7f7f; text-decoration-color: #7f7f7f\">webapi.py</span></a><span style=\"color: #7f7f7f; text-decoration-color: #7f7f7f\">:231</span>\n",
       "</pre>\n"
      ],
      "text/plain": [
       "\u001b[2;36m          \u001b[0m\u001b[2;36m \u001b[0m\u001b[34mINFO    \u001b[0m loading old monitor data to data dict                       \u001b]8;id=26802;file:///Users/twhughes/Documents/Flexcompute/Tidy3D-client-revamp/notebooks/../tidy3d/web/webapi.py\u001b\\\u001b[2mwebapi.py\u001b[0m\u001b]8;;\u001b\\\u001b[2m:231\u001b[0m\n"
      ]
     },
     "metadata": {},
     "output_type": "display_data"
    },
    {
     "data": {
      "text/html": [
       "<pre style=\"white-space:pre;overflow-x:auto;line-height:normal;font-family:Menlo,'DejaVu Sans Mono',consolas,'Courier New',monospace\"><span style=\"color: #7fbfbf; text-decoration-color: #7fbfbf\">           </span><span style=\"color: #000080; text-decoration-color: #000080\">INFO    </span> creating SimulationData from monitor data dict              <a href=\"file:///Users/twhughes/Documents/Flexcompute/Tidy3D-client-revamp/notebooks/../tidy3d/web/webapi.py\"><span style=\"color: #7f7f7f; text-decoration-color: #7f7f7f\">webapi.py</span></a><span style=\"color: #7f7f7f; text-decoration-color: #7f7f7f\">:236</span>\n",
       "</pre>\n"
      ],
      "text/plain": [
       "\u001b[2;36m          \u001b[0m\u001b[2;36m \u001b[0m\u001b[34mINFO    \u001b[0m creating SimulationData from monitor data dict              \u001b]8;id=196229;file:///Users/twhughes/Documents/Flexcompute/Tidy3D-client-revamp/notebooks/../tidy3d/web/webapi.py\u001b\\\u001b[2mwebapi.py\u001b[0m\u001b]8;;\u001b\\\u001b[2m:236\u001b[0m\n"
      ]
     },
     "metadata": {},
     "output_type": "display_data"
    },
    {
     "data": {
      "text/html": [
       "<pre style=\"white-space:pre;overflow-x:auto;line-height:normal;font-family:Menlo,'DejaVu Sans Mono',consolas,'Courier New',monospace\"><span style=\"color: #7fbfbf; text-decoration-color: #7fbfbf\">           </span><span style=\"color: #000080; text-decoration-color: #000080\">INFO    </span> exporting SimulationData to .<span style=\"color: #800080; text-decoration-color: #800080\">/</span><span style=\"color: #ff00ff; text-decoration-color: #ff00ff\">sim_0.hdf5</span>                    <a href=\"file:///Users/twhughes/Documents/Flexcompute/Tidy3D-client-revamp/notebooks/../tidy3d/web/webapi.py\"><span style=\"color: #7f7f7f; text-decoration-color: #7f7f7f\">webapi.py</span></a><span style=\"color: #7f7f7f; text-decoration-color: #7f7f7f\">:239</span>\n",
       "</pre>\n"
      ],
      "text/plain": [
       "\u001b[2;36m          \u001b[0m\u001b[2;36m \u001b[0m\u001b[34mINFO    \u001b[0m exporting SimulationData to .\u001b[35m/\u001b[0m\u001b[95msim_0.hdf5\u001b[0m                    \u001b]8;id=272059;file:///Users/twhughes/Documents/Flexcompute/Tidy3D-client-revamp/notebooks/../tidy3d/web/webapi.py\u001b\\\u001b[2mwebapi.py\u001b[0m\u001b]8;;\u001b\\\u001b[2m:239\u001b[0m\n"
      ]
     },
     "metadata": {},
     "output_type": "display_data"
    },
    {
     "data": {
      "text/html": [
       "<pre style=\"white-space:pre;overflow-x:auto;line-height:normal;font-family:Menlo,'DejaVu Sans Mono',consolas,'Courier New',monospace\"><span style=\"color: #7fbfbf; text-decoration-color: #7fbfbf\">           </span><span style=\"color: #000080; text-decoration-color: #000080\">INFO    </span> clearing extraneous files                                   <a href=\"file:///Users/twhughes/Documents/Flexcompute/Tidy3D-client-revamp/notebooks/../tidy3d/web/webapi.py\"><span style=\"color: #7f7f7f; text-decoration-color: #7f7f7f\">webapi.py</span></a><span style=\"color: #7f7f7f; text-decoration-color: #7f7f7f\">:242</span>\n",
       "</pre>\n"
      ],
      "text/plain": [
       "\u001b[2;36m          \u001b[0m\u001b[2;36m \u001b[0m\u001b[34mINFO    \u001b[0m clearing extraneous files                                   \u001b]8;id=201296;file:///Users/twhughes/Documents/Flexcompute/Tidy3D-client-revamp/notebooks/../tidy3d/web/webapi.py\u001b\\\u001b[2mwebapi.py\u001b[0m\u001b]8;;\u001b\\\u001b[2m:242\u001b[0m\n"
      ]
     },
     "metadata": {},
     "output_type": "display_data"
    },
    {
     "data": {
      "text/html": [
       "<pre style=\"white-space:pre;overflow-x:auto;line-height:normal;font-family:Menlo,'DejaVu Sans Mono',consolas,'Courier New',monospace\"><span style=\"color: #7fbfbf; text-decoration-color: #7fbfbf\">           </span><span style=\"color: #000080; text-decoration-color: #000080\">INFO    </span> removing file .<span style=\"color: #800080; text-decoration-color: #800080\">/</span><span style=\"color: #ff00ff; text-decoration-color: #ff00ff\">simulation.json</span>                             <a href=\"file:///Users/twhughes/Documents/Flexcompute/Tidy3D-client-revamp/notebooks/../tidy3d/web/webapi.py\"><span style=\"color: #7f7f7f; text-decoration-color: #7f7f7f\">webapi.py</span></a><span style=\"color: #7f7f7f; text-decoration-color: #7f7f7f\">:385</span>\n",
       "</pre>\n"
      ],
      "text/plain": [
       "\u001b[2;36m          \u001b[0m\u001b[2;36m \u001b[0m\u001b[34mINFO    \u001b[0m removing file .\u001b[35m/\u001b[0m\u001b[95msimulation.json\u001b[0m                             \u001b]8;id=768713;file:///Users/twhughes/Documents/Flexcompute/Tidy3D-client-revamp/notebooks/../tidy3d/web/webapi.py\u001b\\\u001b[2mwebapi.py\u001b[0m\u001b]8;;\u001b\\\u001b[2m:385\u001b[0m\n"
      ]
     },
     "metadata": {},
     "output_type": "display_data"
    },
    {
     "data": {
      "text/html": [
       "<pre style=\"white-space:pre;overflow-x:auto;line-height:normal;font-family:Menlo,'DejaVu Sans Mono',consolas,'Courier New',monospace\"><span style=\"color: #7fbfbf; text-decoration-color: #7fbfbf\">           </span><span style=\"color: #000080; text-decoration-color: #000080\">INFO    </span> removing file .<span style=\"color: #800080; text-decoration-color: #800080\">/</span><span style=\"color: #ff00ff; text-decoration-color: #ff00ff\">monitor_data.hdf5</span>                           <a href=\"file:///Users/twhughes/Documents/Flexcompute/Tidy3D-client-revamp/notebooks/../tidy3d/web/webapi.py\"><span style=\"color: #7f7f7f; text-decoration-color: #7f7f7f\">webapi.py</span></a><span style=\"color: #7f7f7f; text-decoration-color: #7f7f7f\">:385</span>\n",
       "</pre>\n"
      ],
      "text/plain": [
       "\u001b[2;36m          \u001b[0m\u001b[2;36m \u001b[0m\u001b[34mINFO    \u001b[0m removing file .\u001b[35m/\u001b[0m\u001b[95mmonitor_data.hdf5\u001b[0m                           \u001b]8;id=110365;file:///Users/twhughes/Documents/Flexcompute/Tidy3D-client-revamp/notebooks/../tidy3d/web/webapi.py\u001b\\\u001b[2mwebapi.py\u001b[0m\u001b]8;;\u001b\\\u001b[2m:385\u001b[0m\n"
      ]
     },
     "metadata": {},
     "output_type": "display_data"
    },
    {
     "data": {
      "text/html": [
       "<pre style=\"white-space:pre;overflow-x:auto;line-height:normal;font-family:Menlo,'DejaVu Sans Mono',consolas,'Courier New',monospace\"><span style=\"color: #7fbfbf; text-decoration-color: #7fbfbf\">           </span><span style=\"color: #000080; text-decoration-color: #000080\">INFO    </span> removing file .<span style=\"color: #800080; text-decoration-color: #800080\">/</span><span style=\"color: #ff00ff; text-decoration-color: #ff00ff\">tidy3d.log</span>                                  <a href=\"file:///Users/twhughes/Documents/Flexcompute/Tidy3D-client-revamp/notebooks/../tidy3d/web/webapi.py\"><span style=\"color: #7f7f7f; text-decoration-color: #7f7f7f\">webapi.py</span></a><span style=\"color: #7f7f7f; text-decoration-color: #7f7f7f\">:385</span>\n",
       "</pre>\n"
      ],
      "text/plain": [
       "\u001b[2;36m          \u001b[0m\u001b[2;36m \u001b[0m\u001b[34mINFO    \u001b[0m removing file .\u001b[35m/\u001b[0m\u001b[95mtidy3d.log\u001b[0m                                  \u001b]8;id=89938;file:///Users/twhughes/Documents/Flexcompute/Tidy3D-client-revamp/notebooks/../tidy3d/web/webapi.py\u001b\\\u001b[2mwebapi.py\u001b[0m\u001b]8;;\u001b\\\u001b[2m:385\u001b[0m\n"
      ]
     },
     "metadata": {},
     "output_type": "display_data"
    },
    {
     "data": {
      "text/html": [
       "<pre style=\"white-space:pre;overflow-x:auto;line-height:normal;font-family:Menlo,'DejaVu Sans Mono',consolas,'Courier New',monospace\"><span style=\"color: #7fbfbf; text-decoration-color: #7fbfbf\">[12:46:00] </span><span style=\"color: #000080; text-decoration-color: #000080\">INFO    </span> clearing existing files before downloading                  <a href=\"file:///Users/twhughes/Documents/Flexcompute/Tidy3D-client-revamp/notebooks/../tidy3d/web/webapi.py\"><span style=\"color: #7f7f7f; text-decoration-color: #7f7f7f\">webapi.py</span></a><span style=\"color: #7f7f7f; text-decoration-color: #7f7f7f\">:216</span>\n",
       "</pre>\n"
      ],
      "text/plain": [
       "\u001b[2;36m[12:46:00]\u001b[0m\u001b[2;36m \u001b[0m\u001b[34mINFO    \u001b[0m clearing existing files before downloading                  \u001b]8;id=182968;file:///Users/twhughes/Documents/Flexcompute/Tidy3D-client-revamp/notebooks/../tidy3d/web/webapi.py\u001b\\\u001b[2mwebapi.py\u001b[0m\u001b]8;;\u001b\\\u001b[2m:216\u001b[0m\n"
      ]
     },
     "metadata": {},
     "output_type": "display_data"
    },
    {
     "data": {
      "text/html": [
       "<pre style=\"white-space:pre;overflow-x:auto;line-height:normal;font-family:Menlo,'DejaVu Sans Mono',consolas,'Courier New',monospace\"><span style=\"color: #7fbfbf; text-decoration-color: #7fbfbf\">           </span><span style=\"color: #000080; text-decoration-color: #000080\">INFO    </span> removing file .<span style=\"color: #800080; text-decoration-color: #800080\">/</span><span style=\"color: #ff00ff; text-decoration-color: #ff00ff\">sim_1.hdf5</span>                                  <a href=\"file:///Users/twhughes/Documents/Flexcompute/Tidy3D-client-revamp/notebooks/../tidy3d/web/webapi.py\"><span style=\"color: #7f7f7f; text-decoration-color: #7f7f7f\">webapi.py</span></a><span style=\"color: #7f7f7f; text-decoration-color: #7f7f7f\">:385</span>\n",
       "</pre>\n"
      ],
      "text/plain": [
       "\u001b[2;36m          \u001b[0m\u001b[2;36m \u001b[0m\u001b[34mINFO    \u001b[0m removing file .\u001b[35m/\u001b[0m\u001b[95msim_1.hdf5\u001b[0m                                  \u001b]8;id=117619;file:///Users/twhughes/Documents/Flexcompute/Tidy3D-client-revamp/notebooks/../tidy3d/web/webapi.py\u001b\\\u001b[2mwebapi.py\u001b[0m\u001b]8;;\u001b\\\u001b[2m:385\u001b[0m\n"
      ]
     },
     "metadata": {},
     "output_type": "display_data"
    },
    {
     "data": {
      "text/html": [
       "<pre style=\"white-space:pre;overflow-x:auto;line-height:normal;font-family:Menlo,'DejaVu Sans Mono',consolas,'Courier New',monospace\"><span style=\"color: #7fbfbf; text-decoration-color: #7fbfbf\">           </span><span style=\"color: #000080; text-decoration-color: #000080\">INFO    </span> downloading file <span style=\"color: #008000; text-decoration-color: #008000\">\"simulation.json\"</span> to <span style=\"color: #008000; text-decoration-color: #008000\">\"./simulation.json\"</span>   <a href=\"file:///Users/twhughes/Documents/Flexcompute/Tidy3D-client-revamp/notebooks/../tidy3d/web/webapi.py\"><span style=\"color: #7f7f7f; text-decoration-color: #7f7f7f\">webapi.py</span></a><span style=\"color: #7f7f7f; text-decoration-color: #7f7f7f\">:354</span>\n",
       "</pre>\n"
      ],
      "text/plain": [
       "\u001b[2;36m          \u001b[0m\u001b[2;36m \u001b[0m\u001b[34mINFO    \u001b[0m downloading file \u001b[32m\"simulation.json\"\u001b[0m to \u001b[32m\"./simulation.json\"\u001b[0m   \u001b]8;id=441988;file:///Users/twhughes/Documents/Flexcompute/Tidy3D-client-revamp/notebooks/../tidy3d/web/webapi.py\u001b\\\u001b[2mwebapi.py\u001b[0m\u001b]8;;\u001b\\\u001b[2m:354\u001b[0m\n"
      ]
     },
     "metadata": {},
     "output_type": "display_data"
    },
    {
     "data": {
      "application/vnd.jupyter.widget-view+json": {
       "model_id": "1a3c3081177d451a8aa23971dd81e7ec",
       "version_major": 2,
       "version_minor": 0
      },
      "text/plain": [
       "Output()"
      ]
     },
     "metadata": {},
     "output_type": "display_data"
    },
    {
     "data": {
      "text/html": [
       "<pre style=\"white-space:pre;overflow-x:auto;line-height:normal;font-family:Menlo,'DejaVu Sans Mono',consolas,'Courier New',monospace\"><span style=\"color: #7fbfbf; text-decoration-color: #7fbfbf\">           </span><span style=\"color: #000080; text-decoration-color: #000080\">INFO    </span> downloading file <span style=\"color: #008000; text-decoration-color: #008000\">\"monitor_data.hdf5\"</span> to                     <a href=\"file:///Users/twhughes/Documents/Flexcompute/Tidy3D-client-revamp/notebooks/../tidy3d/web/webapi.py\"><span style=\"color: #7f7f7f; text-decoration-color: #7f7f7f\">webapi.py</span></a><span style=\"color: #7f7f7f; text-decoration-color: #7f7f7f\">:354</span>\n",
       "                    <span style=\"color: #008000; text-decoration-color: #008000\">\"./monitor_data.hdf5\"</span>                                                    \n",
       "</pre>\n"
      ],
      "text/plain": [
       "\u001b[2;36m          \u001b[0m\u001b[2;36m \u001b[0m\u001b[34mINFO    \u001b[0m downloading file \u001b[32m\"monitor_data.hdf5\"\u001b[0m to                     \u001b]8;id=976932;file:///Users/twhughes/Documents/Flexcompute/Tidy3D-client-revamp/notebooks/../tidy3d/web/webapi.py\u001b\\\u001b[2mwebapi.py\u001b[0m\u001b]8;;\u001b\\\u001b[2m:354\u001b[0m\n",
       "                    \u001b[32m\"./monitor_data.hdf5\"\u001b[0m                                                    \n"
      ]
     },
     "metadata": {},
     "output_type": "display_data"
    },
    {
     "data": {
      "application/vnd.jupyter.widget-view+json": {
       "model_id": "063587e952ed4708a8937fda311bb600",
       "version_major": 2,
       "version_minor": 0
      },
      "text/plain": [
       "Output()"
      ]
     },
     "metadata": {},
     "output_type": "display_data"
    },
    {
     "data": {
      "text/html": [
       "<pre style=\"white-space:pre;overflow-x:auto;line-height:normal;font-family:Menlo,'DejaVu Sans Mono',consolas,'Courier New',monospace\"><span style=\"color: #7fbfbf; text-decoration-color: #7fbfbf\">           </span><span style=\"color: #000080; text-decoration-color: #000080\">INFO    </span> getting log string                                          <a href=\"file:///Users/twhughes/Documents/Flexcompute/Tidy3D-client-revamp/notebooks/../tidy3d/web/webapi.py\"><span style=\"color: #7f7f7f; text-decoration-color: #7f7f7f\">webapi.py</span></a><span style=\"color: #7f7f7f; text-decoration-color: #7f7f7f\">:225</span>\n",
       "</pre>\n"
      ],
      "text/plain": [
       "\u001b[2;36m          \u001b[0m\u001b[2;36m \u001b[0m\u001b[34mINFO    \u001b[0m getting log string                                          \u001b]8;id=697035;file:///Users/twhughes/Documents/Flexcompute/Tidy3D-client-revamp/notebooks/../tidy3d/web/webapi.py\u001b\\\u001b[2mwebapi.py\u001b[0m\u001b]8;;\u001b\\\u001b[2m:225\u001b[0m\n"
      ]
     },
     "metadata": {},
     "output_type": "display_data"
    },
    {
     "data": {
      "text/html": [
       "<pre style=\"white-space:pre;overflow-x:auto;line-height:normal;font-family:Menlo,'DejaVu Sans Mono',consolas,'Courier New',monospace\"><span style=\"color: #7fbfbf; text-decoration-color: #7fbfbf\">           </span><span style=\"color: #000080; text-decoration-color: #000080\">INFO    </span> downloading file <span style=\"color: #008000; text-decoration-color: #008000\">\"tidy3d.log\"</span> to <span style=\"color: #008000; text-decoration-color: #008000\">\"./tidy3d.log\"</span>             <a href=\"file:///Users/twhughes/Documents/Flexcompute/Tidy3D-client-revamp/notebooks/../tidy3d/web/webapi.py\"><span style=\"color: #7f7f7f; text-decoration-color: #7f7f7f\">webapi.py</span></a><span style=\"color: #7f7f7f; text-decoration-color: #7f7f7f\">:354</span>\n",
       "</pre>\n"
      ],
      "text/plain": [
       "\u001b[2;36m          \u001b[0m\u001b[2;36m \u001b[0m\u001b[34mINFO    \u001b[0m downloading file \u001b[32m\"tidy3d.log\"\u001b[0m to \u001b[32m\"./tidy3d.log\"\u001b[0m             \u001b]8;id=356817;file:///Users/twhughes/Documents/Flexcompute/Tidy3D-client-revamp/notebooks/../tidy3d/web/webapi.py\u001b\\\u001b[2mwebapi.py\u001b[0m\u001b]8;;\u001b\\\u001b[2m:354\u001b[0m\n"
      ]
     },
     "metadata": {},
     "output_type": "display_data"
    },
    {
     "data": {
      "application/vnd.jupyter.widget-view+json": {
       "model_id": "737daec3939947b787bf2b74837b9d8a",
       "version_major": 2,
       "version_minor": 0
      },
      "text/plain": [
       "Output()"
      ]
     },
     "metadata": {},
     "output_type": "display_data"
    },
    {
     "data": {
      "text/html": [
       "<pre style=\"white-space:pre;overflow-x:auto;line-height:normal;font-family:Menlo,'DejaVu Sans Mono',consolas,'Courier New',monospace\"><span style=\"color: #7fbfbf; text-decoration-color: #7fbfbf\">           </span><span style=\"color: #000080; text-decoration-color: #000080\">INFO    </span> loading old monitor data to data dict                       <a href=\"file:///Users/twhughes/Documents/Flexcompute/Tidy3D-client-revamp/notebooks/../tidy3d/web/webapi.py\"><span style=\"color: #7f7f7f; text-decoration-color: #7f7f7f\">webapi.py</span></a><span style=\"color: #7f7f7f; text-decoration-color: #7f7f7f\">:231</span>\n",
       "</pre>\n"
      ],
      "text/plain": [
       "\u001b[2;36m          \u001b[0m\u001b[2;36m \u001b[0m\u001b[34mINFO    \u001b[0m loading old monitor data to data dict                       \u001b]8;id=68097;file:///Users/twhughes/Documents/Flexcompute/Tidy3D-client-revamp/notebooks/../tidy3d/web/webapi.py\u001b\\\u001b[2mwebapi.py\u001b[0m\u001b]8;;\u001b\\\u001b[2m:231\u001b[0m\n"
      ]
     },
     "metadata": {},
     "output_type": "display_data"
    },
    {
     "data": {
      "text/html": [
       "<pre style=\"white-space:pre;overflow-x:auto;line-height:normal;font-family:Menlo,'DejaVu Sans Mono',consolas,'Courier New',monospace\"><span style=\"color: #7fbfbf; text-decoration-color: #7fbfbf\">           </span><span style=\"color: #000080; text-decoration-color: #000080\">INFO    </span> creating SimulationData from monitor data dict              <a href=\"file:///Users/twhughes/Documents/Flexcompute/Tidy3D-client-revamp/notebooks/../tidy3d/web/webapi.py\"><span style=\"color: #7f7f7f; text-decoration-color: #7f7f7f\">webapi.py</span></a><span style=\"color: #7f7f7f; text-decoration-color: #7f7f7f\">:236</span>\n",
       "</pre>\n"
      ],
      "text/plain": [
       "\u001b[2;36m          \u001b[0m\u001b[2;36m \u001b[0m\u001b[34mINFO    \u001b[0m creating SimulationData from monitor data dict              \u001b]8;id=92852;file:///Users/twhughes/Documents/Flexcompute/Tidy3D-client-revamp/notebooks/../tidy3d/web/webapi.py\u001b\\\u001b[2mwebapi.py\u001b[0m\u001b]8;;\u001b\\\u001b[2m:236\u001b[0m\n"
      ]
     },
     "metadata": {},
     "output_type": "display_data"
    },
    {
     "data": {
      "text/html": [
       "<pre style=\"white-space:pre;overflow-x:auto;line-height:normal;font-family:Menlo,'DejaVu Sans Mono',consolas,'Courier New',monospace\"><span style=\"color: #7fbfbf; text-decoration-color: #7fbfbf\">           </span><span style=\"color: #000080; text-decoration-color: #000080\">INFO    </span> exporting SimulationData to .<span style=\"color: #800080; text-decoration-color: #800080\">/</span><span style=\"color: #ff00ff; text-decoration-color: #ff00ff\">sim_1.hdf5</span>                    <a href=\"file:///Users/twhughes/Documents/Flexcompute/Tidy3D-client-revamp/notebooks/../tidy3d/web/webapi.py\"><span style=\"color: #7f7f7f; text-decoration-color: #7f7f7f\">webapi.py</span></a><span style=\"color: #7f7f7f; text-decoration-color: #7f7f7f\">:239</span>\n",
       "</pre>\n"
      ],
      "text/plain": [
       "\u001b[2;36m          \u001b[0m\u001b[2;36m \u001b[0m\u001b[34mINFO    \u001b[0m exporting SimulationData to .\u001b[35m/\u001b[0m\u001b[95msim_1.hdf5\u001b[0m                    \u001b]8;id=516039;file:///Users/twhughes/Documents/Flexcompute/Tidy3D-client-revamp/notebooks/../tidy3d/web/webapi.py\u001b\\\u001b[2mwebapi.py\u001b[0m\u001b]8;;\u001b\\\u001b[2m:239\u001b[0m\n"
      ]
     },
     "metadata": {},
     "output_type": "display_data"
    },
    {
     "data": {
      "text/html": [
       "<pre style=\"white-space:pre;overflow-x:auto;line-height:normal;font-family:Menlo,'DejaVu Sans Mono',consolas,'Courier New',monospace\"><span style=\"color: #7fbfbf; text-decoration-color: #7fbfbf\">           </span><span style=\"color: #000080; text-decoration-color: #000080\">INFO    </span> clearing extraneous files                                   <a href=\"file:///Users/twhughes/Documents/Flexcompute/Tidy3D-client-revamp/notebooks/../tidy3d/web/webapi.py\"><span style=\"color: #7f7f7f; text-decoration-color: #7f7f7f\">webapi.py</span></a><span style=\"color: #7f7f7f; text-decoration-color: #7f7f7f\">:242</span>\n",
       "</pre>\n"
      ],
      "text/plain": [
       "\u001b[2;36m          \u001b[0m\u001b[2;36m \u001b[0m\u001b[34mINFO    \u001b[0m clearing extraneous files                                   \u001b]8;id=922229;file:///Users/twhughes/Documents/Flexcompute/Tidy3D-client-revamp/notebooks/../tidy3d/web/webapi.py\u001b\\\u001b[2mwebapi.py\u001b[0m\u001b]8;;\u001b\\\u001b[2m:242\u001b[0m\n"
      ]
     },
     "metadata": {},
     "output_type": "display_data"
    },
    {
     "data": {
      "text/html": [
       "<pre style=\"white-space:pre;overflow-x:auto;line-height:normal;font-family:Menlo,'DejaVu Sans Mono',consolas,'Courier New',monospace\"><span style=\"color: #7fbfbf; text-decoration-color: #7fbfbf\">           </span><span style=\"color: #000080; text-decoration-color: #000080\">INFO    </span> removing file .<span style=\"color: #800080; text-decoration-color: #800080\">/</span><span style=\"color: #ff00ff; text-decoration-color: #ff00ff\">simulation.json</span>                             <a href=\"file:///Users/twhughes/Documents/Flexcompute/Tidy3D-client-revamp/notebooks/../tidy3d/web/webapi.py\"><span style=\"color: #7f7f7f; text-decoration-color: #7f7f7f\">webapi.py</span></a><span style=\"color: #7f7f7f; text-decoration-color: #7f7f7f\">:385</span>\n",
       "</pre>\n"
      ],
      "text/plain": [
       "\u001b[2;36m          \u001b[0m\u001b[2;36m \u001b[0m\u001b[34mINFO    \u001b[0m removing file .\u001b[35m/\u001b[0m\u001b[95msimulation.json\u001b[0m                             \u001b]8;id=802570;file:///Users/twhughes/Documents/Flexcompute/Tidy3D-client-revamp/notebooks/../tidy3d/web/webapi.py\u001b\\\u001b[2mwebapi.py\u001b[0m\u001b]8;;\u001b\\\u001b[2m:385\u001b[0m\n"
      ]
     },
     "metadata": {},
     "output_type": "display_data"
    },
    {
     "data": {
      "text/html": [
       "<pre style=\"white-space:pre;overflow-x:auto;line-height:normal;font-family:Menlo,'DejaVu Sans Mono',consolas,'Courier New',monospace\"><span style=\"color: #7fbfbf; text-decoration-color: #7fbfbf\">           </span><span style=\"color: #000080; text-decoration-color: #000080\">INFO    </span> removing file .<span style=\"color: #800080; text-decoration-color: #800080\">/</span><span style=\"color: #ff00ff; text-decoration-color: #ff00ff\">monitor_data.hdf5</span>                           <a href=\"file:///Users/twhughes/Documents/Flexcompute/Tidy3D-client-revamp/notebooks/../tidy3d/web/webapi.py\"><span style=\"color: #7f7f7f; text-decoration-color: #7f7f7f\">webapi.py</span></a><span style=\"color: #7f7f7f; text-decoration-color: #7f7f7f\">:385</span>\n",
       "</pre>\n"
      ],
      "text/plain": [
       "\u001b[2;36m          \u001b[0m\u001b[2;36m \u001b[0m\u001b[34mINFO    \u001b[0m removing file .\u001b[35m/\u001b[0m\u001b[95mmonitor_data.hdf5\u001b[0m                           \u001b]8;id=234319;file:///Users/twhughes/Documents/Flexcompute/Tidy3D-client-revamp/notebooks/../tidy3d/web/webapi.py\u001b\\\u001b[2mwebapi.py\u001b[0m\u001b]8;;\u001b\\\u001b[2m:385\u001b[0m\n"
      ]
     },
     "metadata": {},
     "output_type": "display_data"
    },
    {
     "data": {
      "text/html": [
       "<pre style=\"white-space:pre;overflow-x:auto;line-height:normal;font-family:Menlo,'DejaVu Sans Mono',consolas,'Courier New',monospace\"><span style=\"color: #7fbfbf; text-decoration-color: #7fbfbf\">           </span><span style=\"color: #000080; text-decoration-color: #000080\">INFO    </span> removing file .<span style=\"color: #800080; text-decoration-color: #800080\">/</span><span style=\"color: #ff00ff; text-decoration-color: #ff00ff\">tidy3d.log</span>                                  <a href=\"file:///Users/twhughes/Documents/Flexcompute/Tidy3D-client-revamp/notebooks/../tidy3d/web/webapi.py\"><span style=\"color: #7f7f7f; text-decoration-color: #7f7f7f\">webapi.py</span></a><span style=\"color: #7f7f7f; text-decoration-color: #7f7f7f\">:385</span>\n",
       "</pre>\n"
      ],
      "text/plain": [
       "\u001b[2;36m          \u001b[0m\u001b[2;36m \u001b[0m\u001b[34mINFO    \u001b[0m removing file .\u001b[35m/\u001b[0m\u001b[95mtidy3d.log\u001b[0m                                  \u001b]8;id=948319;file:///Users/twhughes/Documents/Flexcompute/Tidy3D-client-revamp/notebooks/../tidy3d/web/webapi.py\u001b\\\u001b[2mwebapi.py\u001b[0m\u001b]8;;\u001b\\\u001b[2m:385\u001b[0m\n"
      ]
     },
     "metadata": {},
     "output_type": "display_data"
    },
    {
     "data": {
      "text/html": [
       "<pre style=\"white-space:pre;overflow-x:auto;line-height:normal;font-family:Menlo,'DejaVu Sans Mono',consolas,'Courier New',monospace\"><span style=\"color: #7fbfbf; text-decoration-color: #7fbfbf\">[12:46:01] </span><span style=\"color: #000080; text-decoration-color: #000080\">INFO    </span> clearing existing files before downloading                  <a href=\"file:///Users/twhughes/Documents/Flexcompute/Tidy3D-client-revamp/notebooks/../tidy3d/web/webapi.py\"><span style=\"color: #7f7f7f; text-decoration-color: #7f7f7f\">webapi.py</span></a><span style=\"color: #7f7f7f; text-decoration-color: #7f7f7f\">:216</span>\n",
       "</pre>\n"
      ],
      "text/plain": [
       "\u001b[2;36m[12:46:01]\u001b[0m\u001b[2;36m \u001b[0m\u001b[34mINFO    \u001b[0m clearing existing files before downloading                  \u001b]8;id=114950;file:///Users/twhughes/Documents/Flexcompute/Tidy3D-client-revamp/notebooks/../tidy3d/web/webapi.py\u001b\\\u001b[2mwebapi.py\u001b[0m\u001b]8;;\u001b\\\u001b[2m:216\u001b[0m\n"
      ]
     },
     "metadata": {},
     "output_type": "display_data"
    },
    {
     "data": {
      "text/html": [
       "<pre style=\"white-space:pre;overflow-x:auto;line-height:normal;font-family:Menlo,'DejaVu Sans Mono',consolas,'Courier New',monospace\"><span style=\"color: #7fbfbf; text-decoration-color: #7fbfbf\">           </span><span style=\"color: #000080; text-decoration-color: #000080\">INFO    </span> removing file .<span style=\"color: #800080; text-decoration-color: #800080\">/</span><span style=\"color: #ff00ff; text-decoration-color: #ff00ff\">sim_2.hdf5</span>                                  <a href=\"file:///Users/twhughes/Documents/Flexcompute/Tidy3D-client-revamp/notebooks/../tidy3d/web/webapi.py\"><span style=\"color: #7f7f7f; text-decoration-color: #7f7f7f\">webapi.py</span></a><span style=\"color: #7f7f7f; text-decoration-color: #7f7f7f\">:385</span>\n",
       "</pre>\n"
      ],
      "text/plain": [
       "\u001b[2;36m          \u001b[0m\u001b[2;36m \u001b[0m\u001b[34mINFO    \u001b[0m removing file .\u001b[35m/\u001b[0m\u001b[95msim_2.hdf5\u001b[0m                                  \u001b]8;id=12748;file:///Users/twhughes/Documents/Flexcompute/Tidy3D-client-revamp/notebooks/../tidy3d/web/webapi.py\u001b\\\u001b[2mwebapi.py\u001b[0m\u001b]8;;\u001b\\\u001b[2m:385\u001b[0m\n"
      ]
     },
     "metadata": {},
     "output_type": "display_data"
    },
    {
     "data": {
      "text/html": [
       "<pre style=\"white-space:pre;overflow-x:auto;line-height:normal;font-family:Menlo,'DejaVu Sans Mono',consolas,'Courier New',monospace\"><span style=\"color: #7fbfbf; text-decoration-color: #7fbfbf\">           </span><span style=\"color: #000080; text-decoration-color: #000080\">INFO    </span> downloading file <span style=\"color: #008000; text-decoration-color: #008000\">\"simulation.json\"</span> to <span style=\"color: #008000; text-decoration-color: #008000\">\"./simulation.json\"</span>   <a href=\"file:///Users/twhughes/Documents/Flexcompute/Tidy3D-client-revamp/notebooks/../tidy3d/web/webapi.py\"><span style=\"color: #7f7f7f; text-decoration-color: #7f7f7f\">webapi.py</span></a><span style=\"color: #7f7f7f; text-decoration-color: #7f7f7f\">:354</span>\n",
       "</pre>\n"
      ],
      "text/plain": [
       "\u001b[2;36m          \u001b[0m\u001b[2;36m \u001b[0m\u001b[34mINFO    \u001b[0m downloading file \u001b[32m\"simulation.json\"\u001b[0m to \u001b[32m\"./simulation.json\"\u001b[0m   \u001b]8;id=354899;file:///Users/twhughes/Documents/Flexcompute/Tidy3D-client-revamp/notebooks/../tidy3d/web/webapi.py\u001b\\\u001b[2mwebapi.py\u001b[0m\u001b]8;;\u001b\\\u001b[2m:354\u001b[0m\n"
      ]
     },
     "metadata": {},
     "output_type": "display_data"
    },
    {
     "data": {
      "application/vnd.jupyter.widget-view+json": {
       "model_id": "e9c4811b9b0c4e5dbf35944948fcb3b1",
       "version_major": 2,
       "version_minor": 0
      },
      "text/plain": [
       "Output()"
      ]
     },
     "metadata": {},
     "output_type": "display_data"
    },
    {
     "data": {
      "text/html": [
       "<pre style=\"white-space:pre;overflow-x:auto;line-height:normal;font-family:Menlo,'DejaVu Sans Mono',consolas,'Courier New',monospace\"><span style=\"color: #7fbfbf; text-decoration-color: #7fbfbf\">           </span><span style=\"color: #000080; text-decoration-color: #000080\">INFO    </span> downloading file <span style=\"color: #008000; text-decoration-color: #008000\">\"monitor_data.hdf5\"</span> to                     <a href=\"file:///Users/twhughes/Documents/Flexcompute/Tidy3D-client-revamp/notebooks/../tidy3d/web/webapi.py\"><span style=\"color: #7f7f7f; text-decoration-color: #7f7f7f\">webapi.py</span></a><span style=\"color: #7f7f7f; text-decoration-color: #7f7f7f\">:354</span>\n",
       "                    <span style=\"color: #008000; text-decoration-color: #008000\">\"./monitor_data.hdf5\"</span>                                                    \n",
       "</pre>\n"
      ],
      "text/plain": [
       "\u001b[2;36m          \u001b[0m\u001b[2;36m \u001b[0m\u001b[34mINFO    \u001b[0m downloading file \u001b[32m\"monitor_data.hdf5\"\u001b[0m to                     \u001b]8;id=645352;file:///Users/twhughes/Documents/Flexcompute/Tidy3D-client-revamp/notebooks/../tidy3d/web/webapi.py\u001b\\\u001b[2mwebapi.py\u001b[0m\u001b]8;;\u001b\\\u001b[2m:354\u001b[0m\n",
       "                    \u001b[32m\"./monitor_data.hdf5\"\u001b[0m                                                    \n"
      ]
     },
     "metadata": {},
     "output_type": "display_data"
    },
    {
     "data": {
      "application/vnd.jupyter.widget-view+json": {
       "model_id": "6b5e23cf5898433cbf56421bc0f5b71b",
       "version_major": 2,
       "version_minor": 0
      },
      "text/plain": [
       "Output()"
      ]
     },
     "metadata": {},
     "output_type": "display_data"
    },
    {
     "data": {
      "text/html": [
       "<pre style=\"white-space:pre;overflow-x:auto;line-height:normal;font-family:Menlo,'DejaVu Sans Mono',consolas,'Courier New',monospace\"><span style=\"color: #7fbfbf; text-decoration-color: #7fbfbf\">           </span><span style=\"color: #000080; text-decoration-color: #000080\">INFO    </span> getting log string                                          <a href=\"file:///Users/twhughes/Documents/Flexcompute/Tidy3D-client-revamp/notebooks/../tidy3d/web/webapi.py\"><span style=\"color: #7f7f7f; text-decoration-color: #7f7f7f\">webapi.py</span></a><span style=\"color: #7f7f7f; text-decoration-color: #7f7f7f\">:225</span>\n",
       "</pre>\n"
      ],
      "text/plain": [
       "\u001b[2;36m          \u001b[0m\u001b[2;36m \u001b[0m\u001b[34mINFO    \u001b[0m getting log string                                          \u001b]8;id=343245;file:///Users/twhughes/Documents/Flexcompute/Tidy3D-client-revamp/notebooks/../tidy3d/web/webapi.py\u001b\\\u001b[2mwebapi.py\u001b[0m\u001b]8;;\u001b\\\u001b[2m:225\u001b[0m\n"
      ]
     },
     "metadata": {},
     "output_type": "display_data"
    },
    {
     "data": {
      "text/html": [
       "<pre style=\"white-space:pre;overflow-x:auto;line-height:normal;font-family:Menlo,'DejaVu Sans Mono',consolas,'Courier New',monospace\"><span style=\"color: #7fbfbf; text-decoration-color: #7fbfbf\">           </span><span style=\"color: #000080; text-decoration-color: #000080\">INFO    </span> downloading file <span style=\"color: #008000; text-decoration-color: #008000\">\"tidy3d.log\"</span> to <span style=\"color: #008000; text-decoration-color: #008000\">\"./tidy3d.log\"</span>             <a href=\"file:///Users/twhughes/Documents/Flexcompute/Tidy3D-client-revamp/notebooks/../tidy3d/web/webapi.py\"><span style=\"color: #7f7f7f; text-decoration-color: #7f7f7f\">webapi.py</span></a><span style=\"color: #7f7f7f; text-decoration-color: #7f7f7f\">:354</span>\n",
       "</pre>\n"
      ],
      "text/plain": [
       "\u001b[2;36m          \u001b[0m\u001b[2;36m \u001b[0m\u001b[34mINFO    \u001b[0m downloading file \u001b[32m\"tidy3d.log\"\u001b[0m to \u001b[32m\"./tidy3d.log\"\u001b[0m             \u001b]8;id=579524;file:///Users/twhughes/Documents/Flexcompute/Tidy3D-client-revamp/notebooks/../tidy3d/web/webapi.py\u001b\\\u001b[2mwebapi.py\u001b[0m\u001b]8;;\u001b\\\u001b[2m:354\u001b[0m\n"
      ]
     },
     "metadata": {},
     "output_type": "display_data"
    },
    {
     "data": {
      "application/vnd.jupyter.widget-view+json": {
       "model_id": "f71f1ee1f1584277ac59a4feb6157d48",
       "version_major": 2,
       "version_minor": 0
      },
      "text/plain": [
       "Output()"
      ]
     },
     "metadata": {},
     "output_type": "display_data"
    },
    {
     "data": {
      "text/html": [
       "<pre style=\"white-space:pre;overflow-x:auto;line-height:normal;font-family:Menlo,'DejaVu Sans Mono',consolas,'Courier New',monospace\"><span style=\"color: #7fbfbf; text-decoration-color: #7fbfbf\">[12:46:02] </span><span style=\"color: #000080; text-decoration-color: #000080\">INFO    </span> loading old monitor data to data dict                       <a href=\"file:///Users/twhughes/Documents/Flexcompute/Tidy3D-client-revamp/notebooks/../tidy3d/web/webapi.py\"><span style=\"color: #7f7f7f; text-decoration-color: #7f7f7f\">webapi.py</span></a><span style=\"color: #7f7f7f; text-decoration-color: #7f7f7f\">:231</span>\n",
       "</pre>\n"
      ],
      "text/plain": [
       "\u001b[2;36m[12:46:02]\u001b[0m\u001b[2;36m \u001b[0m\u001b[34mINFO    \u001b[0m loading old monitor data to data dict                       \u001b]8;id=997511;file:///Users/twhughes/Documents/Flexcompute/Tidy3D-client-revamp/notebooks/../tidy3d/web/webapi.py\u001b\\\u001b[2mwebapi.py\u001b[0m\u001b]8;;\u001b\\\u001b[2m:231\u001b[0m\n"
      ]
     },
     "metadata": {},
     "output_type": "display_data"
    },
    {
     "data": {
      "text/html": [
       "<pre style=\"white-space:pre;overflow-x:auto;line-height:normal;font-family:Menlo,'DejaVu Sans Mono',consolas,'Courier New',monospace\"><span style=\"color: #7fbfbf; text-decoration-color: #7fbfbf\">           </span><span style=\"color: #000080; text-decoration-color: #000080\">INFO    </span> creating SimulationData from monitor data dict              <a href=\"file:///Users/twhughes/Documents/Flexcompute/Tidy3D-client-revamp/notebooks/../tidy3d/web/webapi.py\"><span style=\"color: #7f7f7f; text-decoration-color: #7f7f7f\">webapi.py</span></a><span style=\"color: #7f7f7f; text-decoration-color: #7f7f7f\">:236</span>\n",
       "</pre>\n"
      ],
      "text/plain": [
       "\u001b[2;36m          \u001b[0m\u001b[2;36m \u001b[0m\u001b[34mINFO    \u001b[0m creating SimulationData from monitor data dict              \u001b]8;id=634599;file:///Users/twhughes/Documents/Flexcompute/Tidy3D-client-revamp/notebooks/../tidy3d/web/webapi.py\u001b\\\u001b[2mwebapi.py\u001b[0m\u001b]8;;\u001b\\\u001b[2m:236\u001b[0m\n"
      ]
     },
     "metadata": {},
     "output_type": "display_data"
    },
    {
     "data": {
      "text/html": [
       "<pre style=\"white-space:pre;overflow-x:auto;line-height:normal;font-family:Menlo,'DejaVu Sans Mono',consolas,'Courier New',monospace\"><span style=\"color: #7fbfbf; text-decoration-color: #7fbfbf\">           </span><span style=\"color: #000080; text-decoration-color: #000080\">INFO    </span> exporting SimulationData to .<span style=\"color: #800080; text-decoration-color: #800080\">/</span><span style=\"color: #ff00ff; text-decoration-color: #ff00ff\">sim_2.hdf5</span>                    <a href=\"file:///Users/twhughes/Documents/Flexcompute/Tidy3D-client-revamp/notebooks/../tidy3d/web/webapi.py\"><span style=\"color: #7f7f7f; text-decoration-color: #7f7f7f\">webapi.py</span></a><span style=\"color: #7f7f7f; text-decoration-color: #7f7f7f\">:239</span>\n",
       "</pre>\n"
      ],
      "text/plain": [
       "\u001b[2;36m          \u001b[0m\u001b[2;36m \u001b[0m\u001b[34mINFO    \u001b[0m exporting SimulationData to .\u001b[35m/\u001b[0m\u001b[95msim_2.hdf5\u001b[0m                    \u001b]8;id=229927;file:///Users/twhughes/Documents/Flexcompute/Tidy3D-client-revamp/notebooks/../tidy3d/web/webapi.py\u001b\\\u001b[2mwebapi.py\u001b[0m\u001b]8;;\u001b\\\u001b[2m:239\u001b[0m\n"
      ]
     },
     "metadata": {},
     "output_type": "display_data"
    },
    {
     "data": {
      "text/html": [
       "<pre style=\"white-space:pre;overflow-x:auto;line-height:normal;font-family:Menlo,'DejaVu Sans Mono',consolas,'Courier New',monospace\"><span style=\"color: #7fbfbf; text-decoration-color: #7fbfbf\">           </span><span style=\"color: #000080; text-decoration-color: #000080\">INFO    </span> clearing extraneous files                                   <a href=\"file:///Users/twhughes/Documents/Flexcompute/Tidy3D-client-revamp/notebooks/../tidy3d/web/webapi.py\"><span style=\"color: #7f7f7f; text-decoration-color: #7f7f7f\">webapi.py</span></a><span style=\"color: #7f7f7f; text-decoration-color: #7f7f7f\">:242</span>\n",
       "</pre>\n"
      ],
      "text/plain": [
       "\u001b[2;36m          \u001b[0m\u001b[2;36m \u001b[0m\u001b[34mINFO    \u001b[0m clearing extraneous files                                   \u001b]8;id=292247;file:///Users/twhughes/Documents/Flexcompute/Tidy3D-client-revamp/notebooks/../tidy3d/web/webapi.py\u001b\\\u001b[2mwebapi.py\u001b[0m\u001b]8;;\u001b\\\u001b[2m:242\u001b[0m\n"
      ]
     },
     "metadata": {},
     "output_type": "display_data"
    },
    {
     "data": {
      "text/html": [
       "<pre style=\"white-space:pre;overflow-x:auto;line-height:normal;font-family:Menlo,'DejaVu Sans Mono',consolas,'Courier New',monospace\"><span style=\"color: #7fbfbf; text-decoration-color: #7fbfbf\">           </span><span style=\"color: #000080; text-decoration-color: #000080\">INFO    </span> removing file .<span style=\"color: #800080; text-decoration-color: #800080\">/</span><span style=\"color: #ff00ff; text-decoration-color: #ff00ff\">simulation.json</span>                             <a href=\"file:///Users/twhughes/Documents/Flexcompute/Tidy3D-client-revamp/notebooks/../tidy3d/web/webapi.py\"><span style=\"color: #7f7f7f; text-decoration-color: #7f7f7f\">webapi.py</span></a><span style=\"color: #7f7f7f; text-decoration-color: #7f7f7f\">:385</span>\n",
       "</pre>\n"
      ],
      "text/plain": [
       "\u001b[2;36m          \u001b[0m\u001b[2;36m \u001b[0m\u001b[34mINFO    \u001b[0m removing file .\u001b[35m/\u001b[0m\u001b[95msimulation.json\u001b[0m                             \u001b]8;id=569747;file:///Users/twhughes/Documents/Flexcompute/Tidy3D-client-revamp/notebooks/../tidy3d/web/webapi.py\u001b\\\u001b[2mwebapi.py\u001b[0m\u001b]8;;\u001b\\\u001b[2m:385\u001b[0m\n"
      ]
     },
     "metadata": {},
     "output_type": "display_data"
    },
    {
     "data": {
      "text/html": [
       "<pre style=\"white-space:pre;overflow-x:auto;line-height:normal;font-family:Menlo,'DejaVu Sans Mono',consolas,'Courier New',monospace\"><span style=\"color: #7fbfbf; text-decoration-color: #7fbfbf\">           </span><span style=\"color: #000080; text-decoration-color: #000080\">INFO    </span> removing file .<span style=\"color: #800080; text-decoration-color: #800080\">/</span><span style=\"color: #ff00ff; text-decoration-color: #ff00ff\">monitor_data.hdf5</span>                           <a href=\"file:///Users/twhughes/Documents/Flexcompute/Tidy3D-client-revamp/notebooks/../tidy3d/web/webapi.py\"><span style=\"color: #7f7f7f; text-decoration-color: #7f7f7f\">webapi.py</span></a><span style=\"color: #7f7f7f; text-decoration-color: #7f7f7f\">:385</span>\n",
       "</pre>\n"
      ],
      "text/plain": [
       "\u001b[2;36m          \u001b[0m\u001b[2;36m \u001b[0m\u001b[34mINFO    \u001b[0m removing file .\u001b[35m/\u001b[0m\u001b[95mmonitor_data.hdf5\u001b[0m                           \u001b]8;id=96381;file:///Users/twhughes/Documents/Flexcompute/Tidy3D-client-revamp/notebooks/../tidy3d/web/webapi.py\u001b\\\u001b[2mwebapi.py\u001b[0m\u001b]8;;\u001b\\\u001b[2m:385\u001b[0m\n"
      ]
     },
     "metadata": {},
     "output_type": "display_data"
    },
    {
     "data": {
      "text/html": [
       "<pre style=\"white-space:pre;overflow-x:auto;line-height:normal;font-family:Menlo,'DejaVu Sans Mono',consolas,'Courier New',monospace\"><span style=\"color: #7fbfbf; text-decoration-color: #7fbfbf\">           </span><span style=\"color: #000080; text-decoration-color: #000080\">INFO    </span> removing file .<span style=\"color: #800080; text-decoration-color: #800080\">/</span><span style=\"color: #ff00ff; text-decoration-color: #ff00ff\">tidy3d.log</span>                                  <a href=\"file:///Users/twhughes/Documents/Flexcompute/Tidy3D-client-revamp/notebooks/../tidy3d/web/webapi.py\"><span style=\"color: #7f7f7f; text-decoration-color: #7f7f7f\">webapi.py</span></a><span style=\"color: #7f7f7f; text-decoration-color: #7f7f7f\">:385</span>\n",
       "</pre>\n"
      ],
      "text/plain": [
       "\u001b[2;36m          \u001b[0m\u001b[2;36m \u001b[0m\u001b[34mINFO    \u001b[0m removing file .\u001b[35m/\u001b[0m\u001b[95mtidy3d.log\u001b[0m                                  \u001b]8;id=803345;file:///Users/twhughes/Documents/Flexcompute/Tidy3D-client-revamp/notebooks/../tidy3d/web/webapi.py\u001b\\\u001b[2mwebapi.py\u001b[0m\u001b]8;;\u001b\\\u001b[2m:385\u001b[0m\n"
      ]
     },
     "metadata": {},
     "output_type": "display_data"
    },
    {
     "data": {
      "text/html": [
       "<pre style=\"white-space:pre;overflow-x:auto;line-height:normal;font-family:Menlo,'DejaVu Sans Mono',consolas,'Courier New',monospace\"><span style=\"color: #7fbfbf; text-decoration-color: #7fbfbf\">           </span><span style=\"color: #000080; text-decoration-color: #000080\">INFO    </span> clearing existing files before downloading                  <a href=\"file:///Users/twhughes/Documents/Flexcompute/Tidy3D-client-revamp/notebooks/../tidy3d/web/webapi.py\"><span style=\"color: #7f7f7f; text-decoration-color: #7f7f7f\">webapi.py</span></a><span style=\"color: #7f7f7f; text-decoration-color: #7f7f7f\">:216</span>\n",
       "</pre>\n"
      ],
      "text/plain": [
       "\u001b[2;36m          \u001b[0m\u001b[2;36m \u001b[0m\u001b[34mINFO    \u001b[0m clearing existing files before downloading                  \u001b]8;id=150982;file:///Users/twhughes/Documents/Flexcompute/Tidy3D-client-revamp/notebooks/../tidy3d/web/webapi.py\u001b\\\u001b[2mwebapi.py\u001b[0m\u001b]8;;\u001b\\\u001b[2m:216\u001b[0m\n"
      ]
     },
     "metadata": {},
     "output_type": "display_data"
    },
    {
     "data": {
      "text/html": [
       "<pre style=\"white-space:pre;overflow-x:auto;line-height:normal;font-family:Menlo,'DejaVu Sans Mono',consolas,'Courier New',monospace\"><span style=\"color: #7fbfbf; text-decoration-color: #7fbfbf\">           </span><span style=\"color: #000080; text-decoration-color: #000080\">INFO    </span> removing file .<span style=\"color: #800080; text-decoration-color: #800080\">/</span><span style=\"color: #ff00ff; text-decoration-color: #ff00ff\">sim_3.hdf5</span>                                  <a href=\"file:///Users/twhughes/Documents/Flexcompute/Tidy3D-client-revamp/notebooks/../tidy3d/web/webapi.py\"><span style=\"color: #7f7f7f; text-decoration-color: #7f7f7f\">webapi.py</span></a><span style=\"color: #7f7f7f; text-decoration-color: #7f7f7f\">:385</span>\n",
       "</pre>\n"
      ],
      "text/plain": [
       "\u001b[2;36m          \u001b[0m\u001b[2;36m \u001b[0m\u001b[34mINFO    \u001b[0m removing file .\u001b[35m/\u001b[0m\u001b[95msim_3.hdf5\u001b[0m                                  \u001b]8;id=270162;file:///Users/twhughes/Documents/Flexcompute/Tidy3D-client-revamp/notebooks/../tidy3d/web/webapi.py\u001b\\\u001b[2mwebapi.py\u001b[0m\u001b]8;;\u001b\\\u001b[2m:385\u001b[0m\n"
      ]
     },
     "metadata": {},
     "output_type": "display_data"
    },
    {
     "data": {
      "text/html": [
       "<pre style=\"white-space:pre;overflow-x:auto;line-height:normal;font-family:Menlo,'DejaVu Sans Mono',consolas,'Courier New',monospace\"><span style=\"color: #7fbfbf; text-decoration-color: #7fbfbf\">           </span><span style=\"color: #000080; text-decoration-color: #000080\">INFO    </span> downloading file <span style=\"color: #008000; text-decoration-color: #008000\">\"simulation.json\"</span> to <span style=\"color: #008000; text-decoration-color: #008000\">\"./simulation.json\"</span>   <a href=\"file:///Users/twhughes/Documents/Flexcompute/Tidy3D-client-revamp/notebooks/../tidy3d/web/webapi.py\"><span style=\"color: #7f7f7f; text-decoration-color: #7f7f7f\">webapi.py</span></a><span style=\"color: #7f7f7f; text-decoration-color: #7f7f7f\">:354</span>\n",
       "</pre>\n"
      ],
      "text/plain": [
       "\u001b[2;36m          \u001b[0m\u001b[2;36m \u001b[0m\u001b[34mINFO    \u001b[0m downloading file \u001b[32m\"simulation.json\"\u001b[0m to \u001b[32m\"./simulation.json\"\u001b[0m   \u001b]8;id=787697;file:///Users/twhughes/Documents/Flexcompute/Tidy3D-client-revamp/notebooks/../tidy3d/web/webapi.py\u001b\\\u001b[2mwebapi.py\u001b[0m\u001b]8;;\u001b\\\u001b[2m:354\u001b[0m\n"
      ]
     },
     "metadata": {},
     "output_type": "display_data"
    },
    {
     "data": {
      "application/vnd.jupyter.widget-view+json": {
       "model_id": "95081fa553244410ada6efe24a77e778",
       "version_major": 2,
       "version_minor": 0
      },
      "text/plain": [
       "Output()"
      ]
     },
     "metadata": {},
     "output_type": "display_data"
    },
    {
     "data": {
      "text/html": [
       "<pre style=\"white-space:pre;overflow-x:auto;line-height:normal;font-family:Menlo,'DejaVu Sans Mono',consolas,'Courier New',monospace\"><span style=\"color: #7fbfbf; text-decoration-color: #7fbfbf\">           </span><span style=\"color: #000080; text-decoration-color: #000080\">INFO    </span> downloading file <span style=\"color: #008000; text-decoration-color: #008000\">\"monitor_data.hdf5\"</span> to                     <a href=\"file:///Users/twhughes/Documents/Flexcompute/Tidy3D-client-revamp/notebooks/../tidy3d/web/webapi.py\"><span style=\"color: #7f7f7f; text-decoration-color: #7f7f7f\">webapi.py</span></a><span style=\"color: #7f7f7f; text-decoration-color: #7f7f7f\">:354</span>\n",
       "                    <span style=\"color: #008000; text-decoration-color: #008000\">\"./monitor_data.hdf5\"</span>                                                    \n",
       "</pre>\n"
      ],
      "text/plain": [
       "\u001b[2;36m          \u001b[0m\u001b[2;36m \u001b[0m\u001b[34mINFO    \u001b[0m downloading file \u001b[32m\"monitor_data.hdf5\"\u001b[0m to                     \u001b]8;id=260670;file:///Users/twhughes/Documents/Flexcompute/Tidy3D-client-revamp/notebooks/../tidy3d/web/webapi.py\u001b\\\u001b[2mwebapi.py\u001b[0m\u001b]8;;\u001b\\\u001b[2m:354\u001b[0m\n",
       "                    \u001b[32m\"./monitor_data.hdf5\"\u001b[0m                                                    \n"
      ]
     },
     "metadata": {},
     "output_type": "display_data"
    },
    {
     "data": {
      "application/vnd.jupyter.widget-view+json": {
       "model_id": "fa4ae90b310a431eaa51ec7b232770e8",
       "version_major": 2,
       "version_minor": 0
      },
      "text/plain": [
       "Output()"
      ]
     },
     "metadata": {},
     "output_type": "display_data"
    },
    {
     "data": {
      "text/html": [
       "<pre style=\"white-space:pre;overflow-x:auto;line-height:normal;font-family:Menlo,'DejaVu Sans Mono',consolas,'Courier New',monospace\"><span style=\"color: #7fbfbf; text-decoration-color: #7fbfbf\">[12:46:03] </span><span style=\"color: #000080; text-decoration-color: #000080\">INFO    </span> getting log string                                          <a href=\"file:///Users/twhughes/Documents/Flexcompute/Tidy3D-client-revamp/notebooks/../tidy3d/web/webapi.py\"><span style=\"color: #7f7f7f; text-decoration-color: #7f7f7f\">webapi.py</span></a><span style=\"color: #7f7f7f; text-decoration-color: #7f7f7f\">:225</span>\n",
       "</pre>\n"
      ],
      "text/plain": [
       "\u001b[2;36m[12:46:03]\u001b[0m\u001b[2;36m \u001b[0m\u001b[34mINFO    \u001b[0m getting log string                                          \u001b]8;id=654349;file:///Users/twhughes/Documents/Flexcompute/Tidy3D-client-revamp/notebooks/../tidy3d/web/webapi.py\u001b\\\u001b[2mwebapi.py\u001b[0m\u001b]8;;\u001b\\\u001b[2m:225\u001b[0m\n"
      ]
     },
     "metadata": {},
     "output_type": "display_data"
    },
    {
     "data": {
      "text/html": [
       "<pre style=\"white-space:pre;overflow-x:auto;line-height:normal;font-family:Menlo,'DejaVu Sans Mono',consolas,'Courier New',monospace\"><span style=\"color: #7fbfbf; text-decoration-color: #7fbfbf\">           </span><span style=\"color: #000080; text-decoration-color: #000080\">INFO    </span> downloading file <span style=\"color: #008000; text-decoration-color: #008000\">\"tidy3d.log\"</span> to <span style=\"color: #008000; text-decoration-color: #008000\">\"./tidy3d.log\"</span>             <a href=\"file:///Users/twhughes/Documents/Flexcompute/Tidy3D-client-revamp/notebooks/../tidy3d/web/webapi.py\"><span style=\"color: #7f7f7f; text-decoration-color: #7f7f7f\">webapi.py</span></a><span style=\"color: #7f7f7f; text-decoration-color: #7f7f7f\">:354</span>\n",
       "</pre>\n"
      ],
      "text/plain": [
       "\u001b[2;36m          \u001b[0m\u001b[2;36m \u001b[0m\u001b[34mINFO    \u001b[0m downloading file \u001b[32m\"tidy3d.log\"\u001b[0m to \u001b[32m\"./tidy3d.log\"\u001b[0m             \u001b]8;id=779477;file:///Users/twhughes/Documents/Flexcompute/Tidy3D-client-revamp/notebooks/../tidy3d/web/webapi.py\u001b\\\u001b[2mwebapi.py\u001b[0m\u001b]8;;\u001b\\\u001b[2m:354\u001b[0m\n"
      ]
     },
     "metadata": {},
     "output_type": "display_data"
    },
    {
     "data": {
      "application/vnd.jupyter.widget-view+json": {
       "model_id": "d1c2cc9b63994396a629ebd6810cea1a",
       "version_major": 2,
       "version_minor": 0
      },
      "text/plain": [
       "Output()"
      ]
     },
     "metadata": {},
     "output_type": "display_data"
    },
    {
     "data": {
      "text/html": [
       "<pre style=\"white-space:pre;overflow-x:auto;line-height:normal;font-family:Menlo,'DejaVu Sans Mono',consolas,'Courier New',monospace\"><span style=\"color: #7fbfbf; text-decoration-color: #7fbfbf\">           </span><span style=\"color: #000080; text-decoration-color: #000080\">INFO    </span> loading old monitor data to data dict                       <a href=\"file:///Users/twhughes/Documents/Flexcompute/Tidy3D-client-revamp/notebooks/../tidy3d/web/webapi.py\"><span style=\"color: #7f7f7f; text-decoration-color: #7f7f7f\">webapi.py</span></a><span style=\"color: #7f7f7f; text-decoration-color: #7f7f7f\">:231</span>\n",
       "</pre>\n"
      ],
      "text/plain": [
       "\u001b[2;36m          \u001b[0m\u001b[2;36m \u001b[0m\u001b[34mINFO    \u001b[0m loading old monitor data to data dict                       \u001b]8;id=77521;file:///Users/twhughes/Documents/Flexcompute/Tidy3D-client-revamp/notebooks/../tidy3d/web/webapi.py\u001b\\\u001b[2mwebapi.py\u001b[0m\u001b]8;;\u001b\\\u001b[2m:231\u001b[0m\n"
      ]
     },
     "metadata": {},
     "output_type": "display_data"
    },
    {
     "data": {
      "text/html": [
       "<pre style=\"white-space:pre;overflow-x:auto;line-height:normal;font-family:Menlo,'DejaVu Sans Mono',consolas,'Courier New',monospace\"><span style=\"color: #7fbfbf; text-decoration-color: #7fbfbf\">           </span><span style=\"color: #000080; text-decoration-color: #000080\">INFO    </span> creating SimulationData from monitor data dict              <a href=\"file:///Users/twhughes/Documents/Flexcompute/Tidy3D-client-revamp/notebooks/../tidy3d/web/webapi.py\"><span style=\"color: #7f7f7f; text-decoration-color: #7f7f7f\">webapi.py</span></a><span style=\"color: #7f7f7f; text-decoration-color: #7f7f7f\">:236</span>\n",
       "</pre>\n"
      ],
      "text/plain": [
       "\u001b[2;36m          \u001b[0m\u001b[2;36m \u001b[0m\u001b[34mINFO    \u001b[0m creating SimulationData from monitor data dict              \u001b]8;id=971176;file:///Users/twhughes/Documents/Flexcompute/Tidy3D-client-revamp/notebooks/../tidy3d/web/webapi.py\u001b\\\u001b[2mwebapi.py\u001b[0m\u001b]8;;\u001b\\\u001b[2m:236\u001b[0m\n"
      ]
     },
     "metadata": {},
     "output_type": "display_data"
    },
    {
     "data": {
      "text/html": [
       "<pre style=\"white-space:pre;overflow-x:auto;line-height:normal;font-family:Menlo,'DejaVu Sans Mono',consolas,'Courier New',monospace\"><span style=\"color: #7fbfbf; text-decoration-color: #7fbfbf\">           </span><span style=\"color: #000080; text-decoration-color: #000080\">INFO    </span> exporting SimulationData to .<span style=\"color: #800080; text-decoration-color: #800080\">/</span><span style=\"color: #ff00ff; text-decoration-color: #ff00ff\">sim_3.hdf5</span>                    <a href=\"file:///Users/twhughes/Documents/Flexcompute/Tidy3D-client-revamp/notebooks/../tidy3d/web/webapi.py\"><span style=\"color: #7f7f7f; text-decoration-color: #7f7f7f\">webapi.py</span></a><span style=\"color: #7f7f7f; text-decoration-color: #7f7f7f\">:239</span>\n",
       "</pre>\n"
      ],
      "text/plain": [
       "\u001b[2;36m          \u001b[0m\u001b[2;36m \u001b[0m\u001b[34mINFO    \u001b[0m exporting SimulationData to .\u001b[35m/\u001b[0m\u001b[95msim_3.hdf5\u001b[0m                    \u001b]8;id=823779;file:///Users/twhughes/Documents/Flexcompute/Tidy3D-client-revamp/notebooks/../tidy3d/web/webapi.py\u001b\\\u001b[2mwebapi.py\u001b[0m\u001b]8;;\u001b\\\u001b[2m:239\u001b[0m\n"
      ]
     },
     "metadata": {},
     "output_type": "display_data"
    },
    {
     "data": {
      "text/html": [
       "<pre style=\"white-space:pre;overflow-x:auto;line-height:normal;font-family:Menlo,'DejaVu Sans Mono',consolas,'Courier New',monospace\"><span style=\"color: #7fbfbf; text-decoration-color: #7fbfbf\">           </span><span style=\"color: #000080; text-decoration-color: #000080\">INFO    </span> clearing extraneous files                                   <a href=\"file:///Users/twhughes/Documents/Flexcompute/Tidy3D-client-revamp/notebooks/../tidy3d/web/webapi.py\"><span style=\"color: #7f7f7f; text-decoration-color: #7f7f7f\">webapi.py</span></a><span style=\"color: #7f7f7f; text-decoration-color: #7f7f7f\">:242</span>\n",
       "</pre>\n"
      ],
      "text/plain": [
       "\u001b[2;36m          \u001b[0m\u001b[2;36m \u001b[0m\u001b[34mINFO    \u001b[0m clearing extraneous files                                   \u001b]8;id=319353;file:///Users/twhughes/Documents/Flexcompute/Tidy3D-client-revamp/notebooks/../tidy3d/web/webapi.py\u001b\\\u001b[2mwebapi.py\u001b[0m\u001b]8;;\u001b\\\u001b[2m:242\u001b[0m\n"
      ]
     },
     "metadata": {},
     "output_type": "display_data"
    },
    {
     "data": {
      "text/html": [
       "<pre style=\"white-space:pre;overflow-x:auto;line-height:normal;font-family:Menlo,'DejaVu Sans Mono',consolas,'Courier New',monospace\"><span style=\"color: #7fbfbf; text-decoration-color: #7fbfbf\">           </span><span style=\"color: #000080; text-decoration-color: #000080\">INFO    </span> removing file .<span style=\"color: #800080; text-decoration-color: #800080\">/</span><span style=\"color: #ff00ff; text-decoration-color: #ff00ff\">simulation.json</span>                             <a href=\"file:///Users/twhughes/Documents/Flexcompute/Tidy3D-client-revamp/notebooks/../tidy3d/web/webapi.py\"><span style=\"color: #7f7f7f; text-decoration-color: #7f7f7f\">webapi.py</span></a><span style=\"color: #7f7f7f; text-decoration-color: #7f7f7f\">:385</span>\n",
       "</pre>\n"
      ],
      "text/plain": [
       "\u001b[2;36m          \u001b[0m\u001b[2;36m \u001b[0m\u001b[34mINFO    \u001b[0m removing file .\u001b[35m/\u001b[0m\u001b[95msimulation.json\u001b[0m                             \u001b]8;id=969537;file:///Users/twhughes/Documents/Flexcompute/Tidy3D-client-revamp/notebooks/../tidy3d/web/webapi.py\u001b\\\u001b[2mwebapi.py\u001b[0m\u001b]8;;\u001b\\\u001b[2m:385\u001b[0m\n"
      ]
     },
     "metadata": {},
     "output_type": "display_data"
    },
    {
     "data": {
      "text/html": [
       "<pre style=\"white-space:pre;overflow-x:auto;line-height:normal;font-family:Menlo,'DejaVu Sans Mono',consolas,'Courier New',monospace\"><span style=\"color: #7fbfbf; text-decoration-color: #7fbfbf\">           </span><span style=\"color: #000080; text-decoration-color: #000080\">INFO    </span> removing file .<span style=\"color: #800080; text-decoration-color: #800080\">/</span><span style=\"color: #ff00ff; text-decoration-color: #ff00ff\">monitor_data.hdf5</span>                           <a href=\"file:///Users/twhughes/Documents/Flexcompute/Tidy3D-client-revamp/notebooks/../tidy3d/web/webapi.py\"><span style=\"color: #7f7f7f; text-decoration-color: #7f7f7f\">webapi.py</span></a><span style=\"color: #7f7f7f; text-decoration-color: #7f7f7f\">:385</span>\n",
       "</pre>\n"
      ],
      "text/plain": [
       "\u001b[2;36m          \u001b[0m\u001b[2;36m \u001b[0m\u001b[34mINFO    \u001b[0m removing file .\u001b[35m/\u001b[0m\u001b[95mmonitor_data.hdf5\u001b[0m                           \u001b]8;id=419732;file:///Users/twhughes/Documents/Flexcompute/Tidy3D-client-revamp/notebooks/../tidy3d/web/webapi.py\u001b\\\u001b[2mwebapi.py\u001b[0m\u001b]8;;\u001b\\\u001b[2m:385\u001b[0m\n"
      ]
     },
     "metadata": {},
     "output_type": "display_data"
    },
    {
     "data": {
      "text/html": [
       "<pre style=\"white-space:pre;overflow-x:auto;line-height:normal;font-family:Menlo,'DejaVu Sans Mono',consolas,'Courier New',monospace\"><span style=\"color: #7fbfbf; text-decoration-color: #7fbfbf\">           </span><span style=\"color: #000080; text-decoration-color: #000080\">INFO    </span> removing file .<span style=\"color: #800080; text-decoration-color: #800080\">/</span><span style=\"color: #ff00ff; text-decoration-color: #ff00ff\">tidy3d.log</span>                                  <a href=\"file:///Users/twhughes/Documents/Flexcompute/Tidy3D-client-revamp/notebooks/../tidy3d/web/webapi.py\"><span style=\"color: #7f7f7f; text-decoration-color: #7f7f7f\">webapi.py</span></a><span style=\"color: #7f7f7f; text-decoration-color: #7f7f7f\">:385</span>\n",
       "</pre>\n"
      ],
      "text/plain": [
       "\u001b[2;36m          \u001b[0m\u001b[2;36m \u001b[0m\u001b[34mINFO    \u001b[0m removing file .\u001b[35m/\u001b[0m\u001b[95mtidy3d.log\u001b[0m                                  \u001b]8;id=516615;file:///Users/twhughes/Documents/Flexcompute/Tidy3D-client-revamp/notebooks/../tidy3d/web/webapi.py\u001b\\\u001b[2mwebapi.py\u001b[0m\u001b]8;;\u001b\\\u001b[2m:385\u001b[0m\n"
      ]
     },
     "metadata": {},
     "output_type": "display_data"
    },
    {
     "data": {
      "text/html": [
       "<pre style=\"white-space:pre;overflow-x:auto;line-height:normal;font-family:Menlo,'DejaVu Sans Mono',consolas,'Courier New',monospace\"><span style=\"color: #7fbfbf; text-decoration-color: #7fbfbf\">           </span><span style=\"color: #000080; text-decoration-color: #000080\">INFO    </span> clearing existing files before downloading                  <a href=\"file:///Users/twhughes/Documents/Flexcompute/Tidy3D-client-revamp/notebooks/../tidy3d/web/webapi.py\"><span style=\"color: #7f7f7f; text-decoration-color: #7f7f7f\">webapi.py</span></a><span style=\"color: #7f7f7f; text-decoration-color: #7f7f7f\">:216</span>\n",
       "</pre>\n"
      ],
      "text/plain": [
       "\u001b[2;36m          \u001b[0m\u001b[2;36m \u001b[0m\u001b[34mINFO    \u001b[0m clearing existing files before downloading                  \u001b]8;id=35891;file:///Users/twhughes/Documents/Flexcompute/Tidy3D-client-revamp/notebooks/../tidy3d/web/webapi.py\u001b\\\u001b[2mwebapi.py\u001b[0m\u001b]8;;\u001b\\\u001b[2m:216\u001b[0m\n"
      ]
     },
     "metadata": {},
     "output_type": "display_data"
    },
    {
     "data": {
      "text/html": [
       "<pre style=\"white-space:pre;overflow-x:auto;line-height:normal;font-family:Menlo,'DejaVu Sans Mono',consolas,'Courier New',monospace\"><span style=\"color: #7fbfbf; text-decoration-color: #7fbfbf\">           </span><span style=\"color: #000080; text-decoration-color: #000080\">INFO    </span> removing file .<span style=\"color: #800080; text-decoration-color: #800080\">/</span><span style=\"color: #ff00ff; text-decoration-color: #ff00ff\">sim_4.hdf5</span>                                  <a href=\"file:///Users/twhughes/Documents/Flexcompute/Tidy3D-client-revamp/notebooks/../tidy3d/web/webapi.py\"><span style=\"color: #7f7f7f; text-decoration-color: #7f7f7f\">webapi.py</span></a><span style=\"color: #7f7f7f; text-decoration-color: #7f7f7f\">:385</span>\n",
       "</pre>\n"
      ],
      "text/plain": [
       "\u001b[2;36m          \u001b[0m\u001b[2;36m \u001b[0m\u001b[34mINFO    \u001b[0m removing file .\u001b[35m/\u001b[0m\u001b[95msim_4.hdf5\u001b[0m                                  \u001b]8;id=191106;file:///Users/twhughes/Documents/Flexcompute/Tidy3D-client-revamp/notebooks/../tidy3d/web/webapi.py\u001b\\\u001b[2mwebapi.py\u001b[0m\u001b]8;;\u001b\\\u001b[2m:385\u001b[0m\n"
      ]
     },
     "metadata": {},
     "output_type": "display_data"
    },
    {
     "data": {
      "text/html": [
       "<pre style=\"white-space:pre;overflow-x:auto;line-height:normal;font-family:Menlo,'DejaVu Sans Mono',consolas,'Courier New',monospace\"><span style=\"color: #7fbfbf; text-decoration-color: #7fbfbf\">           </span><span style=\"color: #000080; text-decoration-color: #000080\">INFO    </span> downloading file <span style=\"color: #008000; text-decoration-color: #008000\">\"simulation.json\"</span> to <span style=\"color: #008000; text-decoration-color: #008000\">\"./simulation.json\"</span>   <a href=\"file:///Users/twhughes/Documents/Flexcompute/Tidy3D-client-revamp/notebooks/../tidy3d/web/webapi.py\"><span style=\"color: #7f7f7f; text-decoration-color: #7f7f7f\">webapi.py</span></a><span style=\"color: #7f7f7f; text-decoration-color: #7f7f7f\">:354</span>\n",
       "</pre>\n"
      ],
      "text/plain": [
       "\u001b[2;36m          \u001b[0m\u001b[2;36m \u001b[0m\u001b[34mINFO    \u001b[0m downloading file \u001b[32m\"simulation.json\"\u001b[0m to \u001b[32m\"./simulation.json\"\u001b[0m   \u001b]8;id=862693;file:///Users/twhughes/Documents/Flexcompute/Tidy3D-client-revamp/notebooks/../tidy3d/web/webapi.py\u001b\\\u001b[2mwebapi.py\u001b[0m\u001b]8;;\u001b\\\u001b[2m:354\u001b[0m\n"
      ]
     },
     "metadata": {},
     "output_type": "display_data"
    },
    {
     "data": {
      "application/vnd.jupyter.widget-view+json": {
       "model_id": "cdf2609152334e2a8d2a5ffb64762ff6",
       "version_major": 2,
       "version_minor": 0
      },
      "text/plain": [
       "Output()"
      ]
     },
     "metadata": {},
     "output_type": "display_data"
    },
    {
     "data": {
      "text/html": [
       "<pre style=\"white-space:pre;overflow-x:auto;line-height:normal;font-family:Menlo,'DejaVu Sans Mono',consolas,'Courier New',monospace\"><span style=\"color: #7fbfbf; text-decoration-color: #7fbfbf\">[12:46:04] </span><span style=\"color: #000080; text-decoration-color: #000080\">INFO    </span> downloading file <span style=\"color: #008000; text-decoration-color: #008000\">\"monitor_data.hdf5\"</span> to                     <a href=\"file:///Users/twhughes/Documents/Flexcompute/Tidy3D-client-revamp/notebooks/../tidy3d/web/webapi.py\"><span style=\"color: #7f7f7f; text-decoration-color: #7f7f7f\">webapi.py</span></a><span style=\"color: #7f7f7f; text-decoration-color: #7f7f7f\">:354</span>\n",
       "                    <span style=\"color: #008000; text-decoration-color: #008000\">\"./monitor_data.hdf5\"</span>                                                    \n",
       "</pre>\n"
      ],
      "text/plain": [
       "\u001b[2;36m[12:46:04]\u001b[0m\u001b[2;36m \u001b[0m\u001b[34mINFO    \u001b[0m downloading file \u001b[32m\"monitor_data.hdf5\"\u001b[0m to                     \u001b]8;id=241941;file:///Users/twhughes/Documents/Flexcompute/Tidy3D-client-revamp/notebooks/../tidy3d/web/webapi.py\u001b\\\u001b[2mwebapi.py\u001b[0m\u001b]8;;\u001b\\\u001b[2m:354\u001b[0m\n",
       "                    \u001b[32m\"./monitor_data.hdf5\"\u001b[0m                                                    \n"
      ]
     },
     "metadata": {},
     "output_type": "display_data"
    },
    {
     "data": {
      "application/vnd.jupyter.widget-view+json": {
       "model_id": "8d96c21b7df54e54920b0e87f4fbec34",
       "version_major": 2,
       "version_minor": 0
      },
      "text/plain": [
       "Output()"
      ]
     },
     "metadata": {},
     "output_type": "display_data"
    },
    {
     "data": {
      "text/html": [
       "<pre style=\"white-space:pre;overflow-x:auto;line-height:normal;font-family:Menlo,'DejaVu Sans Mono',consolas,'Courier New',monospace\"><span style=\"color: #7fbfbf; text-decoration-color: #7fbfbf\">           </span><span style=\"color: #000080; text-decoration-color: #000080\">INFO    </span> getting log string                                          <a href=\"file:///Users/twhughes/Documents/Flexcompute/Tidy3D-client-revamp/notebooks/../tidy3d/web/webapi.py\"><span style=\"color: #7f7f7f; text-decoration-color: #7f7f7f\">webapi.py</span></a><span style=\"color: #7f7f7f; text-decoration-color: #7f7f7f\">:225</span>\n",
       "</pre>\n"
      ],
      "text/plain": [
       "\u001b[2;36m          \u001b[0m\u001b[2;36m \u001b[0m\u001b[34mINFO    \u001b[0m getting log string                                          \u001b]8;id=697518;file:///Users/twhughes/Documents/Flexcompute/Tidy3D-client-revamp/notebooks/../tidy3d/web/webapi.py\u001b\\\u001b[2mwebapi.py\u001b[0m\u001b]8;;\u001b\\\u001b[2m:225\u001b[0m\n"
      ]
     },
     "metadata": {},
     "output_type": "display_data"
    },
    {
     "data": {
      "text/html": [
       "<pre style=\"white-space:pre;overflow-x:auto;line-height:normal;font-family:Menlo,'DejaVu Sans Mono',consolas,'Courier New',monospace\"><span style=\"color: #7fbfbf; text-decoration-color: #7fbfbf\">           </span><span style=\"color: #000080; text-decoration-color: #000080\">INFO    </span> downloading file <span style=\"color: #008000; text-decoration-color: #008000\">\"tidy3d.log\"</span> to <span style=\"color: #008000; text-decoration-color: #008000\">\"./tidy3d.log\"</span>             <a href=\"file:///Users/twhughes/Documents/Flexcompute/Tidy3D-client-revamp/notebooks/../tidy3d/web/webapi.py\"><span style=\"color: #7f7f7f; text-decoration-color: #7f7f7f\">webapi.py</span></a><span style=\"color: #7f7f7f; text-decoration-color: #7f7f7f\">:354</span>\n",
       "</pre>\n"
      ],
      "text/plain": [
       "\u001b[2;36m          \u001b[0m\u001b[2;36m \u001b[0m\u001b[34mINFO    \u001b[0m downloading file \u001b[32m\"tidy3d.log\"\u001b[0m to \u001b[32m\"./tidy3d.log\"\u001b[0m             \u001b]8;id=275363;file:///Users/twhughes/Documents/Flexcompute/Tidy3D-client-revamp/notebooks/../tidy3d/web/webapi.py\u001b\\\u001b[2mwebapi.py\u001b[0m\u001b]8;;\u001b\\\u001b[2m:354\u001b[0m\n"
      ]
     },
     "metadata": {},
     "output_type": "display_data"
    },
    {
     "data": {
      "application/vnd.jupyter.widget-view+json": {
       "model_id": "e057f00b43e241629838cf72cb00bf30",
       "version_major": 2,
       "version_minor": 0
      },
      "text/plain": [
       "Output()"
      ]
     },
     "metadata": {},
     "output_type": "display_data"
    },
    {
     "data": {
      "text/html": [
       "<pre style=\"white-space:pre;overflow-x:auto;line-height:normal;font-family:Menlo,'DejaVu Sans Mono',consolas,'Courier New',monospace\"><span style=\"color: #7fbfbf; text-decoration-color: #7fbfbf\">           </span><span style=\"color: #000080; text-decoration-color: #000080\">INFO    </span> loading old monitor data to data dict                       <a href=\"file:///Users/twhughes/Documents/Flexcompute/Tidy3D-client-revamp/notebooks/../tidy3d/web/webapi.py\"><span style=\"color: #7f7f7f; text-decoration-color: #7f7f7f\">webapi.py</span></a><span style=\"color: #7f7f7f; text-decoration-color: #7f7f7f\">:231</span>\n",
       "</pre>\n"
      ],
      "text/plain": [
       "\u001b[2;36m          \u001b[0m\u001b[2;36m \u001b[0m\u001b[34mINFO    \u001b[0m loading old monitor data to data dict                       \u001b]8;id=782684;file:///Users/twhughes/Documents/Flexcompute/Tidy3D-client-revamp/notebooks/../tidy3d/web/webapi.py\u001b\\\u001b[2mwebapi.py\u001b[0m\u001b]8;;\u001b\\\u001b[2m:231\u001b[0m\n"
      ]
     },
     "metadata": {},
     "output_type": "display_data"
    },
    {
     "data": {
      "text/html": [
       "<pre style=\"white-space:pre;overflow-x:auto;line-height:normal;font-family:Menlo,'DejaVu Sans Mono',consolas,'Courier New',monospace\"><span style=\"color: #7fbfbf; text-decoration-color: #7fbfbf\">           </span><span style=\"color: #000080; text-decoration-color: #000080\">INFO    </span> creating SimulationData from monitor data dict              <a href=\"file:///Users/twhughes/Documents/Flexcompute/Tidy3D-client-revamp/notebooks/../tidy3d/web/webapi.py\"><span style=\"color: #7f7f7f; text-decoration-color: #7f7f7f\">webapi.py</span></a><span style=\"color: #7f7f7f; text-decoration-color: #7f7f7f\">:236</span>\n",
       "</pre>\n"
      ],
      "text/plain": [
       "\u001b[2;36m          \u001b[0m\u001b[2;36m \u001b[0m\u001b[34mINFO    \u001b[0m creating SimulationData from monitor data dict              \u001b]8;id=472293;file:///Users/twhughes/Documents/Flexcompute/Tidy3D-client-revamp/notebooks/../tidy3d/web/webapi.py\u001b\\\u001b[2mwebapi.py\u001b[0m\u001b]8;;\u001b\\\u001b[2m:236\u001b[0m\n"
      ]
     },
     "metadata": {},
     "output_type": "display_data"
    },
    {
     "data": {
      "text/html": [
       "<pre style=\"white-space:pre;overflow-x:auto;line-height:normal;font-family:Menlo,'DejaVu Sans Mono',consolas,'Courier New',monospace\"><span style=\"color: #7fbfbf; text-decoration-color: #7fbfbf\">           </span><span style=\"color: #000080; text-decoration-color: #000080\">INFO    </span> exporting SimulationData to .<span style=\"color: #800080; text-decoration-color: #800080\">/</span><span style=\"color: #ff00ff; text-decoration-color: #ff00ff\">sim_4.hdf5</span>                    <a href=\"file:///Users/twhughes/Documents/Flexcompute/Tidy3D-client-revamp/notebooks/../tidy3d/web/webapi.py\"><span style=\"color: #7f7f7f; text-decoration-color: #7f7f7f\">webapi.py</span></a><span style=\"color: #7f7f7f; text-decoration-color: #7f7f7f\">:239</span>\n",
       "</pre>\n"
      ],
      "text/plain": [
       "\u001b[2;36m          \u001b[0m\u001b[2;36m \u001b[0m\u001b[34mINFO    \u001b[0m exporting SimulationData to .\u001b[35m/\u001b[0m\u001b[95msim_4.hdf5\u001b[0m                    \u001b]8;id=434983;file:///Users/twhughes/Documents/Flexcompute/Tidy3D-client-revamp/notebooks/../tidy3d/web/webapi.py\u001b\\\u001b[2mwebapi.py\u001b[0m\u001b]8;;\u001b\\\u001b[2m:239\u001b[0m\n"
      ]
     },
     "metadata": {},
     "output_type": "display_data"
    },
    {
     "data": {
      "text/html": [
       "<pre style=\"white-space:pre;overflow-x:auto;line-height:normal;font-family:Menlo,'DejaVu Sans Mono',consolas,'Courier New',monospace\"><span style=\"color: #7fbfbf; text-decoration-color: #7fbfbf\">           </span><span style=\"color: #000080; text-decoration-color: #000080\">INFO    </span> clearing extraneous files                                   <a href=\"file:///Users/twhughes/Documents/Flexcompute/Tidy3D-client-revamp/notebooks/../tidy3d/web/webapi.py\"><span style=\"color: #7f7f7f; text-decoration-color: #7f7f7f\">webapi.py</span></a><span style=\"color: #7f7f7f; text-decoration-color: #7f7f7f\">:242</span>\n",
       "</pre>\n"
      ],
      "text/plain": [
       "\u001b[2;36m          \u001b[0m\u001b[2;36m \u001b[0m\u001b[34mINFO    \u001b[0m clearing extraneous files                                   \u001b]8;id=348953;file:///Users/twhughes/Documents/Flexcompute/Tidy3D-client-revamp/notebooks/../tidy3d/web/webapi.py\u001b\\\u001b[2mwebapi.py\u001b[0m\u001b]8;;\u001b\\\u001b[2m:242\u001b[0m\n"
      ]
     },
     "metadata": {},
     "output_type": "display_data"
    },
    {
     "data": {
      "text/html": [
       "<pre style=\"white-space:pre;overflow-x:auto;line-height:normal;font-family:Menlo,'DejaVu Sans Mono',consolas,'Courier New',monospace\"><span style=\"color: #7fbfbf; text-decoration-color: #7fbfbf\">           </span><span style=\"color: #000080; text-decoration-color: #000080\">INFO    </span> removing file .<span style=\"color: #800080; text-decoration-color: #800080\">/</span><span style=\"color: #ff00ff; text-decoration-color: #ff00ff\">simulation.json</span>                             <a href=\"file:///Users/twhughes/Documents/Flexcompute/Tidy3D-client-revamp/notebooks/../tidy3d/web/webapi.py\"><span style=\"color: #7f7f7f; text-decoration-color: #7f7f7f\">webapi.py</span></a><span style=\"color: #7f7f7f; text-decoration-color: #7f7f7f\">:385</span>\n",
       "</pre>\n"
      ],
      "text/plain": [
       "\u001b[2;36m          \u001b[0m\u001b[2;36m \u001b[0m\u001b[34mINFO    \u001b[0m removing file .\u001b[35m/\u001b[0m\u001b[95msimulation.json\u001b[0m                             \u001b]8;id=622308;file:///Users/twhughes/Documents/Flexcompute/Tidy3D-client-revamp/notebooks/../tidy3d/web/webapi.py\u001b\\\u001b[2mwebapi.py\u001b[0m\u001b]8;;\u001b\\\u001b[2m:385\u001b[0m\n"
      ]
     },
     "metadata": {},
     "output_type": "display_data"
    },
    {
     "data": {
      "text/html": [
       "<pre style=\"white-space:pre;overflow-x:auto;line-height:normal;font-family:Menlo,'DejaVu Sans Mono',consolas,'Courier New',monospace\"><span style=\"color: #7fbfbf; text-decoration-color: #7fbfbf\">           </span><span style=\"color: #000080; text-decoration-color: #000080\">INFO    </span> removing file .<span style=\"color: #800080; text-decoration-color: #800080\">/</span><span style=\"color: #ff00ff; text-decoration-color: #ff00ff\">monitor_data.hdf5</span>                           <a href=\"file:///Users/twhughes/Documents/Flexcompute/Tidy3D-client-revamp/notebooks/../tidy3d/web/webapi.py\"><span style=\"color: #7f7f7f; text-decoration-color: #7f7f7f\">webapi.py</span></a><span style=\"color: #7f7f7f; text-decoration-color: #7f7f7f\">:385</span>\n",
       "</pre>\n"
      ],
      "text/plain": [
       "\u001b[2;36m          \u001b[0m\u001b[2;36m \u001b[0m\u001b[34mINFO    \u001b[0m removing file .\u001b[35m/\u001b[0m\u001b[95mmonitor_data.hdf5\u001b[0m                           \u001b]8;id=837326;file:///Users/twhughes/Documents/Flexcompute/Tidy3D-client-revamp/notebooks/../tidy3d/web/webapi.py\u001b\\\u001b[2mwebapi.py\u001b[0m\u001b]8;;\u001b\\\u001b[2m:385\u001b[0m\n"
      ]
     },
     "metadata": {},
     "output_type": "display_data"
    },
    {
     "data": {
      "text/html": [
       "<pre style=\"white-space:pre;overflow-x:auto;line-height:normal;font-family:Menlo,'DejaVu Sans Mono',consolas,'Courier New',monospace\"><span style=\"color: #7fbfbf; text-decoration-color: #7fbfbf\">           </span><span style=\"color: #000080; text-decoration-color: #000080\">INFO    </span> removing file .<span style=\"color: #800080; text-decoration-color: #800080\">/</span><span style=\"color: #ff00ff; text-decoration-color: #ff00ff\">tidy3d.log</span>                                  <a href=\"file:///Users/twhughes/Documents/Flexcompute/Tidy3D-client-revamp/notebooks/../tidy3d/web/webapi.py\"><span style=\"color: #7f7f7f; text-decoration-color: #7f7f7f\">webapi.py</span></a><span style=\"color: #7f7f7f; text-decoration-color: #7f7f7f\">:385</span>\n",
       "</pre>\n"
      ],
      "text/plain": [
       "\u001b[2;36m          \u001b[0m\u001b[2;36m \u001b[0m\u001b[34mINFO    \u001b[0m removing file .\u001b[35m/\u001b[0m\u001b[95mtidy3d.log\u001b[0m                                  \u001b]8;id=42164;file:///Users/twhughes/Documents/Flexcompute/Tidy3D-client-revamp/notebooks/../tidy3d/web/webapi.py\u001b\\\u001b[2mwebapi.py\u001b[0m\u001b]8;;\u001b\\\u001b[2m:385\u001b[0m\n"
      ]
     },
     "metadata": {},
     "output_type": "display_data"
    },
    {
     "data": {
      "text/html": [
       "<pre style=\"white-space:pre;overflow-x:auto;line-height:normal;font-family:Menlo,'DejaVu Sans Mono',consolas,'Courier New',monospace\"><span style=\"font-weight: bold\">&lt;</span><span style=\"color: #ff00ff; text-decoration-color: #ff00ff; font-weight: bold\">generator</span><span style=\"color: #000000; text-decoration-color: #000000\"> object Batch.items at </span><span style=\"color: #008080; text-decoration-color: #008080; font-weight: bold\">0x125947d60</span><span style=\"font-weight: bold\">&gt;</span>\n",
       "</pre>\n"
      ],
      "text/plain": [
       "\u001b[1m<\u001b[0m\u001b[1;95mgenerator\u001b[0m\u001b[39m object Batch.items at \u001b[0m\u001b[1;36m0x125947d60\u001b[0m\u001b[1m>\u001b[0m\n"
      ]
     },
     "metadata": {},
     "output_type": "display_data"
    }
   ],
   "source": [
    "sims = {f'sim_{i}': sim for i in range(5)}\n",
    "batch = web.Batch(simulations=sims)\n",
    "batch.run()"
   ]
  },
  {
   "cell_type": "code",
   "execution_count": null,
   "id": "2cdac056-4693-4068-9003-52bcd601de8f",
   "metadata": {},
   "outputs": [],
   "source": []
  }
 ],
 "metadata": {
  "kernelspec": {
   "display_name": "Python 3 (ipykernel)",
   "language": "python",
   "name": "python3"
  },
  "language_info": {
   "codemirror_mode": {
    "name": "ipython",
    "version": 3
   },
   "file_extension": ".py",
   "mimetype": "text/x-python",
   "name": "python",
   "nbconvert_exporter": "python",
   "pygments_lexer": "ipython3",
   "version": "3.9.7"
  }
 },
 "nbformat": 4,
 "nbformat_minor": 5
}
