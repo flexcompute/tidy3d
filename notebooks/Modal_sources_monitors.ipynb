{
 "cells": [
  {
   "cell_type": "markdown",
   "metadata": {},
   "source": [
    "## Mode sources and mode monitors\n",
    "\n",
    "See on [github](https://github.com/flexcompute/tidy3d-notebooks/blob/main/Modal_sources_monitors.ipynb), run on [colab](https://colab.research.google.com/github/flexcompute/tidy3d-notebooks/blob/main/Modal_sources_monitors.ipynb), or just follow along with the output below.\n",
    "\n",
    "Here, we look at a simple demonstration of how to excite a specific waveguide mode, and how to decompose the fields recorded in a monitor on the basis of waveguide modes, i.e. how to compute the power carried in each mode."
   ]
  },
  {
   "cell_type": "code",
   "execution_count": 1,
   "metadata": {
    "scrolled": true,
    "tags": []
   },
   "outputs": [],
   "source": [
    "# get the most recent version of tidy3d\n",
    "# !pip install -q --upgrade tidy3d\n",
    "\n",
    "# make sure notebook plots inline\n",
    "# %matplotlib inline\n",
    "\n",
    "import sys\n",
    "sys.path.append('..')\n",
    "\n",
    "# standard python imports\n",
    "import numpy as np\n",
    "import matplotlib.pyplot as plt\n",
    "import matplotlib as mpl\n",
    "\n",
    "# tidy3D import\n",
    "import tidy3d as td\n",
    "from tidy3d import web\n",
    "td.log.setLevel(30)"
   ]
  },
  {
   "cell_type": "markdown",
   "metadata": {},
   "source": [
    "### Straight waveguide simulation\n",
    "\n",
    "First, we will do a simulation of a straight waveguide, using a silicon ridge waveguide on a silicon oxide substrate. We begin by defining some general parameters."
   ]
  },
  {
   "cell_type": "code",
   "execution_count": 2,
   "metadata": {
    "tags": []
   },
   "outputs": [],
   "source": [
    "# Unit length is micron.\n",
    "wg_height = 0.22\n",
    "wg_width = 0.45\n",
    "\n",
    "# Permittivity of waveguide and substrate\n",
    "si_eps = 3.48**2\n",
    "sio_eps = 1.45**2\n",
    "\n",
    "# Free-space wavelength (in um) and frequency (in Hz)\n",
    "lambda0 = 1.55\n",
    "freq0 = td.C_0/lambda0\n",
    "fwidth = freq0/10\n",
    "\n",
    "# Simulation size inside the PML along propagation direction\n",
    "sim_length = 5\n",
    "resolution = 32\n",
    "\n",
    "# PML layers\n",
    "Npml = 15\n",
    "\n",
    "# Simulation domain size and total run time\n",
    "sim_size = [4, 2, sim_length]\n",
    "run_time = 20/fwidth"
   ]
  },
  {
   "cell_type": "markdown",
   "metadata": {},
   "source": [
    "### Initialize structures, mode source, and mode monitor\n",
    "\n",
    "When initializing `ModeSource` and `ModeMonitor` objects, one of the three values of the `size` parameter must be zero. This implicitly defines the propagation direction for the mode decomposition. In this example, the waveguide is oriented along the x-axis, and the mode is injected along the positive-x direction (\"forward\"). Below, we add a mode monitor that will show us the waveguide transmission at a range of frequencies, as well as a simple frequency monitor to examine the fields in the xy-plane at the central frequency."
   ]
  },
  {
   "cell_type": "code",
   "execution_count": 3,
   "metadata": {
    "tags": []
   },
   "outputs": [],
   "source": [
    "# Waveguide and substrate materials\n",
    "mat_wg = td.Medium(permittivity=si_eps)\n",
    "mat_sub = td.Medium(permittivity=sio_eps)\n",
    "\n",
    "# Substrate\n",
    "substrate = td.Structure(\n",
    "    geometry=td.Box(\n",
    "        center=[0, -sim_size[1], 0],\n",
    "        size=[td.inf, 2*sim_size[1], td.inf],\n",
    "    ),\n",
    "    medium=mat_sub)\n",
    "\n",
    "# Waveguide\n",
    "waveguide = td.Structure(\n",
    "    geometry=td.Box(\n",
    "        center=[0, wg_height/2, 0],\n",
    "        size=[wg_width, wg_height, 100],\n",
    "    ),\n",
    "    medium=mat_wg)\n",
    "\n",
    "# Modal source parameters\n",
    "src_pos = -sim_size[0]/2 + 0.5\n",
    "src_plane = td.Box(center=[0, 0, src_pos], size=[3, 2, 0])\n",
    "\n",
    "# xy-plane frequency-domain field monitor at central frequency\n",
    "freq_mnt = td.FieldMonitor(\n",
    "    center=[0, wg_height/2, 0],\n",
    "    size=[100, 0, 100],\n",
    "    freqs=[freq0])\n",
    "\n",
    "\n",
    "# frequencies\n",
    "mon_plane = td.Box(center=[0, 0, -src_pos], size=[3, 2, 0])\n",
    "Nfreqs = 21\n",
    "freqs = np.linspace(freq0 - fwidth, freq0 + fwidth, Nfreqs)\n",
    "fcent_ind = Nfreqs // 2 # index of the central frequency\n",
    "\n",
    "# flux monitor\n",
    "flux_mnt = td.FluxMonitor(\n",
    "    center=mon_plane.center,\n",
    "    size=mon_plane.size,\n",
    "    freqs=list(freqs),\n",
    ")\n",
    "\n",
    "# Modal monitor at a range of frequencies\n",
    "mode_mnt = td.ModeMonitor(\n",
    "    center=mon_plane.center,\n",
    "    size=mon_plane.size,\n",
    "    freqs=list(freqs),\n",
    "    modes=[td.Mode(mode_index=i, num_modes=3) for i in range(3)])"
   ]
  },
  {
   "cell_type": "markdown",
   "metadata": {},
   "source": [
    "Initialize simulation and visualize two cross-sections to make sure we have set up the device correctly."
   ]
  },
  {
   "cell_type": "code",
   "execution_count": 4,
   "metadata": {
    "tags": []
   },
   "outputs": [
    {
     "data": {
      "image/png": "[encoded data removed]"
     },
     "metadata": {
      "needs_background": "light"
     },
     "output_type": "display_data"
    }
   ],
   "source": [
    "# Simulation\n",
    "sim = td.Simulation(\n",
    "    size=sim_size,\n",
    "    grid_size=3*[1/resolution], \n",
    "    structures=[substrate, waveguide], \n",
    "    sources=[], \n",
    "    monitors={'fields': freq_mnt, 'modes': mode_mnt, 'flux': flux_mnt},\n",
    "    run_time=run_time,\n",
    "    pml_layers=[td.PML(num_layers=Npml)]*3)\n",
    "\n",
    "fig = plt.figure(figsize=(11, 4))\n",
    "gs = mpl.gridspec.GridSpec(1, 2, figure=fig, width_ratios=[1, 1.4])\n",
    "ax1 = fig.add_subplot(gs[0, 0])\n",
    "ax2 = fig.add_subplot(gs[0, 1])\n",
    "sim.plot(z=0.1, ax=ax1);\n",
    "sim.plot(y=0.1, ax=ax2);"
   ]
  },
  {
   "cell_type": "markdown",
   "metadata": {},
   "source": [
    "### Mode source\n",
    "\n",
    "Before we can run a simulation with a mode source, we have to select which of the eigenmodes we would like to inject. To do that, we can first visualize the modes using the in-built eigenmode solver and plotting functions. The modes are computed at the central frequency of the source, and in order of decreasing effective index `n`, such that the modes that are fully below light-line (if any) should appear first. The solver assumes periodic boundary conditions at the boundaries of the 2D plane. Thus, for accurate results, the plane should be large enough for the fields do decay at the edges."
   ]
  },
  {
   "cell_type": "code",
   "execution_count": 5,
   "metadata": {
    "tags": []
   },
   "outputs": [
    {
     "data": {
      "text/html": [
       "<pre style=\"white-space:pre;overflow-x:auto;line-height:normal;font-family:Menlo,'DejaVu Sans Mono',consolas,'Courier New',monospace\"><span style=\"color: #7fbfbf; text-decoration-color: #7fbfbf\">[15:10:58] </span><span style=\"color: #800000; text-decoration-color: #800000\">WARNING </span> frequency passed to `<span style=\"color: #800080; text-decoration-color: #800080; font-weight: bold\">Medium.eps_model</span><span style=\"font-weight: bold\">()</span>`is outside of        <a href=\"file:///Users/twhughes/Documents/Flexcompute/Tidy3D-client-revamp/notebooks/../tidy3d/components/medium.py\"><span style=\"color: #7f7f7f; text-decoration-color: #7f7f7f\">medium.py</span></a><span style=\"color: #7f7f7f; text-decoration-color: #7f7f7f\">:52</span>\n",
       "                    `Medium.frequency_range` = <span style=\"font-weight: bold\">(</span><span style=\"color: #008080; text-decoration-color: #008080; font-weight: bold\">-10000000000.0</span>, <span style=\"color: #008080; text-decoration-color: #008080; font-weight: bold\">10000000000.0</span><span style=\"font-weight: bold\">)</span>               \n",
       "</pre>\n"
      ],
      "text/plain": [
       "\u001b[2;36m[15:10:58]\u001b[0m\u001b[2;36m \u001b[0m\u001b[31mWARNING \u001b[0m frequency passed to `\u001b[1;35mMedium.eps_model\u001b[0m\u001b[1m(\u001b[0m\u001b[1m)\u001b[0m`is outside of        \u001b]8;id=526657;file:///Users/twhughes/Documents/Flexcompute/Tidy3D-client-revamp/notebooks/../tidy3d/components/medium.py\u001b\\\u001b[2mmedium.py\u001b[0m\u001b]8;;\u001b\\\u001b[2m:52\u001b[0m\n",
       "                    `Medium.frequency_range` = \u001b[1m(\u001b[0m\u001b[1;36m-10000000000.0\u001b[0m, \u001b[1;36m10000000000.0\u001b[0m\u001b[1m)\u001b[0m               \n"
      ]
     },
     "metadata": {},
     "output_type": "display_data"
    },
    {
     "data": {
      "text/html": [
       "<pre style=\"white-space:pre;overflow-x:auto;line-height:normal;font-family:Menlo,'DejaVu Sans Mono',consolas,'Courier New',monospace\"><span style=\"color: #7fbfbf; text-decoration-color: #7fbfbf\">           </span><span style=\"color: #800000; text-decoration-color: #800000\">WARNING </span> frequency passed to `<span style=\"color: #800080; text-decoration-color: #800080; font-weight: bold\">Medium.eps_model</span><span style=\"font-weight: bold\">()</span>`is outside of        <a href=\"file:///Users/twhughes/Documents/Flexcompute/Tidy3D-client-revamp/notebooks/../tidy3d/components/medium.py\"><span style=\"color: #7f7f7f; text-decoration-color: #7f7f7f\">medium.py</span></a><span style=\"color: #7f7f7f; text-decoration-color: #7f7f7f\">:52</span>\n",
       "                    `Medium.frequency_range` = <span style=\"font-weight: bold\">(</span><span style=\"color: #008080; text-decoration-color: #008080; font-weight: bold\">-10000000000.0</span>, <span style=\"color: #008080; text-decoration-color: #008080; font-weight: bold\">10000000000.0</span><span style=\"font-weight: bold\">)</span>               \n",
       "</pre>\n"
      ],
      "text/plain": [
       "\u001b[2;36m          \u001b[0m\u001b[2;36m \u001b[0m\u001b[31mWARNING \u001b[0m frequency passed to `\u001b[1;35mMedium.eps_model\u001b[0m\u001b[1m(\u001b[0m\u001b[1m)\u001b[0m`is outside of        \u001b]8;id=387064;file:///Users/twhughes/Documents/Flexcompute/Tidy3D-client-revamp/notebooks/../tidy3d/components/medium.py\u001b\\\u001b[2mmedium.py\u001b[0m\u001b]8;;\u001b\\\u001b[2m:52\u001b[0m\n",
       "                    `Medium.frequency_range` = \u001b[1m(\u001b[0m\u001b[1;36m-10000000000.0\u001b[0m, \u001b[1;36m10000000000.0\u001b[0m\u001b[1m)\u001b[0m               \n"
      ]
     },
     "metadata": {},
     "output_type": "display_data"
    },
    {
     "data": {
      "text/html": [
       "<pre style=\"white-space:pre;overflow-x:auto;line-height:normal;font-family:Menlo,'DejaVu Sans Mono',consolas,'Courier New',monospace\"><span style=\"color: #7fbfbf; text-decoration-color: #7fbfbf\">           </span><span style=\"color: #800000; text-decoration-color: #800000\">WARNING </span> frequency passed to `<span style=\"color: #800080; text-decoration-color: #800080; font-weight: bold\">Medium.eps_model</span><span style=\"font-weight: bold\">()</span>`is outside of        <a href=\"file:///Users/twhughes/Documents/Flexcompute/Tidy3D-client-revamp/notebooks/../tidy3d/components/medium.py\"><span style=\"color: #7f7f7f; text-decoration-color: #7f7f7f\">medium.py</span></a><span style=\"color: #7f7f7f; text-decoration-color: #7f7f7f\">:52</span>\n",
       "                    `Medium.frequency_range` = <span style=\"font-weight: bold\">(</span><span style=\"color: #008080; text-decoration-color: #008080; font-weight: bold\">-10000000000.0</span>, <span style=\"color: #008080; text-decoration-color: #008080; font-weight: bold\">10000000000.0</span><span style=\"font-weight: bold\">)</span>               \n",
       "</pre>\n"
      ],
      "text/plain": [
       "\u001b[2;36m          \u001b[0m\u001b[2;36m \u001b[0m\u001b[31mWARNING \u001b[0m frequency passed to `\u001b[1;35mMedium.eps_model\u001b[0m\u001b[1m(\u001b[0m\u001b[1m)\u001b[0m`is outside of        \u001b]8;id=583053;file:///Users/twhughes/Documents/Flexcompute/Tidy3D-client-revamp/notebooks/../tidy3d/components/medium.py\u001b\\\u001b[2mmedium.py\u001b[0m\u001b]8;;\u001b\\\u001b[2m:52\u001b[0m\n",
       "                    `Medium.frequency_range` = \u001b[1m(\u001b[0m\u001b[1;36m-10000000000.0\u001b[0m, \u001b[1;36m10000000000.0\u001b[0m\u001b[1m)\u001b[0m               \n"
      ]
     },
     "metadata": {},
     "output_type": "display_data"
    },
    {
     "data": {
      "text/html": [
       "<pre style=\"white-space:pre;overflow-x:auto;line-height:normal;font-family:Menlo,'DejaVu Sans Mono',consolas,'Courier New',monospace\"><span style=\"color: #7fbfbf; text-decoration-color: #7fbfbf\">           </span><span style=\"color: #800000; text-decoration-color: #800000\">WARNING </span> frequency passed to `<span style=\"color: #800080; text-decoration-color: #800080; font-weight: bold\">Medium.eps_model</span><span style=\"font-weight: bold\">()</span>`is outside of        <a href=\"file:///Users/twhughes/Documents/Flexcompute/Tidy3D-client-revamp/notebooks/../tidy3d/components/medium.py\"><span style=\"color: #7f7f7f; text-decoration-color: #7f7f7f\">medium.py</span></a><span style=\"color: #7f7f7f; text-decoration-color: #7f7f7f\">:52</span>\n",
       "                    `Medium.frequency_range` = <span style=\"font-weight: bold\">(</span><span style=\"color: #008080; text-decoration-color: #008080; font-weight: bold\">-10000000000.0</span>, <span style=\"color: #008080; text-decoration-color: #008080; font-weight: bold\">10000000000.0</span><span style=\"font-weight: bold\">)</span>               \n",
       "</pre>\n"
      ],
      "text/plain": [
       "\u001b[2;36m          \u001b[0m\u001b[2;36m \u001b[0m\u001b[31mWARNING \u001b[0m frequency passed to `\u001b[1;35mMedium.eps_model\u001b[0m\u001b[1m(\u001b[0m\u001b[1m)\u001b[0m`is outside of        \u001b]8;id=637736;file:///Users/twhughes/Documents/Flexcompute/Tidy3D-client-revamp/notebooks/../tidy3d/components/medium.py\u001b\\\u001b[2mmedium.py\u001b[0m\u001b]8;;\u001b\\\u001b[2m:52\u001b[0m\n",
       "                    `Medium.frequency_range` = \u001b[1m(\u001b[0m\u001b[1;36m-10000000000.0\u001b[0m, \u001b[1;36m10000000000.0\u001b[0m\u001b[1m)\u001b[0m               \n"
      ]
     },
     "metadata": {},
     "output_type": "display_data"
    },
    {
     "data": {
      "text/html": [
       "<pre style=\"white-space:pre;overflow-x:auto;line-height:normal;font-family:Menlo,'DejaVu Sans Mono',consolas,'Courier New',monospace\"><span style=\"color: #7fbfbf; text-decoration-color: #7fbfbf\">           </span><span style=\"color: #800000; text-decoration-color: #800000\">WARNING </span> frequency passed to `<span style=\"color: #800080; text-decoration-color: #800080; font-weight: bold\">Medium.eps_model</span><span style=\"font-weight: bold\">()</span>`is outside of        <a href=\"file:///Users/twhughes/Documents/Flexcompute/Tidy3D-client-revamp/notebooks/../tidy3d/components/medium.py\"><span style=\"color: #7f7f7f; text-decoration-color: #7f7f7f\">medium.py</span></a><span style=\"color: #7f7f7f; text-decoration-color: #7f7f7f\">:52</span>\n",
       "                    `Medium.frequency_range` = <span style=\"font-weight: bold\">(</span><span style=\"color: #008080; text-decoration-color: #008080; font-weight: bold\">-10000000000.0</span>, <span style=\"color: #008080; text-decoration-color: #008080; font-weight: bold\">10000000000.0</span><span style=\"font-weight: bold\">)</span>               \n",
       "</pre>\n"
      ],
      "text/plain": [
       "\u001b[2;36m          \u001b[0m\u001b[2;36m \u001b[0m\u001b[31mWARNING \u001b[0m frequency passed to `\u001b[1;35mMedium.eps_model\u001b[0m\u001b[1m(\u001b[0m\u001b[1m)\u001b[0m`is outside of        \u001b]8;id=958058;file:///Users/twhughes/Documents/Flexcompute/Tidy3D-client-revamp/notebooks/../tidy3d/components/medium.py\u001b\\\u001b[2mmedium.py\u001b[0m\u001b]8;;\u001b\\\u001b[2m:52\u001b[0m\n",
       "                    `Medium.frequency_range` = \u001b[1m(\u001b[0m\u001b[1;36m-10000000000.0\u001b[0m, \u001b[1;36m10000000000.0\u001b[0m\u001b[1m)\u001b[0m               \n"
      ]
     },
     "metadata": {},
     "output_type": "display_data"
    },
    {
     "data": {
      "text/html": [
       "<pre style=\"white-space:pre;overflow-x:auto;line-height:normal;font-family:Menlo,'DejaVu Sans Mono',consolas,'Courier New',monospace\"><span style=\"color: #7fbfbf; text-decoration-color: #7fbfbf\">           </span><span style=\"color: #800000; text-decoration-color: #800000\">WARNING </span> frequency passed to `<span style=\"color: #800080; text-decoration-color: #800080; font-weight: bold\">Medium.eps_model</span><span style=\"font-weight: bold\">()</span>`is outside of        <a href=\"file:///Users/twhughes/Documents/Flexcompute/Tidy3D-client-revamp/notebooks/../tidy3d/components/medium.py\"><span style=\"color: #7f7f7f; text-decoration-color: #7f7f7f\">medium.py</span></a><span style=\"color: #7f7f7f; text-decoration-color: #7f7f7f\">:52</span>\n",
       "                    `Medium.frequency_range` = <span style=\"font-weight: bold\">(</span><span style=\"color: #008080; text-decoration-color: #008080; font-weight: bold\">-10000000000.0</span>, <span style=\"color: #008080; text-decoration-color: #008080; font-weight: bold\">10000000000.0</span><span style=\"font-weight: bold\">)</span>               \n",
       "</pre>\n"
      ],
      "text/plain": [
       "\u001b[2;36m          \u001b[0m\u001b[2;36m \u001b[0m\u001b[31mWARNING \u001b[0m frequency passed to `\u001b[1;35mMedium.eps_model\u001b[0m\u001b[1m(\u001b[0m\u001b[1m)\u001b[0m`is outside of        \u001b]8;id=396004;file:///Users/twhughes/Documents/Flexcompute/Tidy3D-client-revamp/notebooks/../tidy3d/components/medium.py\u001b\\\u001b[2mmedium.py\u001b[0m\u001b]8;;\u001b\\\u001b[2m:52\u001b[0m\n",
       "                    `Medium.frequency_range` = \u001b[1m(\u001b[0m\u001b[1;36m-10000000000.0\u001b[0m, \u001b[1;36m10000000000.0\u001b[0m\u001b[1m)\u001b[0m               \n"
      ]
     },
     "metadata": {},
     "output_type": "display_data"
    },
    {
     "data": {
      "text/html": [
       "<pre style=\"white-space:pre;overflow-x:auto;line-height:normal;font-family:Menlo,'DejaVu Sans Mono',consolas,'Courier New',monospace\"><span style=\"color: #7fbfbf; text-decoration-color: #7fbfbf\">           </span><span style=\"color: #800000; text-decoration-color: #800000\">WARNING </span> frequency passed to `<span style=\"color: #800080; text-decoration-color: #800080; font-weight: bold\">Medium.eps_model</span><span style=\"font-weight: bold\">()</span>`is outside of        <a href=\"file:///Users/twhughes/Documents/Flexcompute/Tidy3D-client-revamp/notebooks/../tidy3d/components/medium.py\"><span style=\"color: #7f7f7f; text-decoration-color: #7f7f7f\">medium.py</span></a><span style=\"color: #7f7f7f; text-decoration-color: #7f7f7f\">:52</span>\n",
       "                    `Medium.frequency_range` = <span style=\"font-weight: bold\">(</span><span style=\"color: #008080; text-decoration-color: #008080; font-weight: bold\">-10000000000.0</span>, <span style=\"color: #008080; text-decoration-color: #008080; font-weight: bold\">10000000000.0</span><span style=\"font-weight: bold\">)</span>               \n",
       "</pre>\n"
      ],
      "text/plain": [
       "\u001b[2;36m          \u001b[0m\u001b[2;36m \u001b[0m\u001b[31mWARNING \u001b[0m frequency passed to `\u001b[1;35mMedium.eps_model\u001b[0m\u001b[1m(\u001b[0m\u001b[1m)\u001b[0m`is outside of        \u001b]8;id=644348;file:///Users/twhughes/Documents/Flexcompute/Tidy3D-client-revamp/notebooks/../tidy3d/components/medium.py\u001b\\\u001b[2mmedium.py\u001b[0m\u001b]8;;\u001b\\\u001b[2m:52\u001b[0m\n",
       "                    `Medium.frequency_range` = \u001b[1m(\u001b[0m\u001b[1;36m-10000000000.0\u001b[0m, \u001b[1;36m10000000000.0\u001b[0m\u001b[1m)\u001b[0m               \n"
      ]
     },
     "metadata": {},
     "output_type": "display_data"
    },
    {
     "data": {
      "text/html": [
       "<pre style=\"white-space:pre;overflow-x:auto;line-height:normal;font-family:Menlo,'DejaVu Sans Mono',consolas,'Courier New',monospace\"><span style=\"color: #7fbfbf; text-decoration-color: #7fbfbf\">           </span><span style=\"color: #800000; text-decoration-color: #800000\">WARNING </span> frequency passed to `<span style=\"color: #800080; text-decoration-color: #800080; font-weight: bold\">Medium.eps_model</span><span style=\"font-weight: bold\">()</span>`is outside of        <a href=\"file:///Users/twhughes/Documents/Flexcompute/Tidy3D-client-revamp/notebooks/../tidy3d/components/medium.py\"><span style=\"color: #7f7f7f; text-decoration-color: #7f7f7f\">medium.py</span></a><span style=\"color: #7f7f7f; text-decoration-color: #7f7f7f\">:52</span>\n",
       "                    `Medium.frequency_range` = <span style=\"font-weight: bold\">(</span><span style=\"color: #008080; text-decoration-color: #008080; font-weight: bold\">-10000000000.0</span>, <span style=\"color: #008080; text-decoration-color: #008080; font-weight: bold\">10000000000.0</span><span style=\"font-weight: bold\">)</span>               \n",
       "</pre>\n"
      ],
      "text/plain": [
       "\u001b[2;36m          \u001b[0m\u001b[2;36m \u001b[0m\u001b[31mWARNING \u001b[0m frequency passed to `\u001b[1;35mMedium.eps_model\u001b[0m\u001b[1m(\u001b[0m\u001b[1m)\u001b[0m`is outside of        \u001b]8;id=288942;file:///Users/twhughes/Documents/Flexcompute/Tidy3D-client-revamp/notebooks/../tidy3d/components/medium.py\u001b\\\u001b[2mmedium.py\u001b[0m\u001b]8;;\u001b\\\u001b[2m:52\u001b[0m\n",
       "                    `Medium.frequency_range` = \u001b[1m(\u001b[0m\u001b[1;36m-10000000000.0\u001b[0m, \u001b[1;36m10000000000.0\u001b[0m\u001b[1m)\u001b[0m               \n"
      ]
     },
     "metadata": {},
     "output_type": "display_data"
    },
    {
     "data": {
      "text/html": [
       "<pre style=\"white-space:pre;overflow-x:auto;line-height:normal;font-family:Menlo,'DejaVu Sans Mono',consolas,'Courier New',monospace\"><span style=\"color: #7fbfbf; text-decoration-color: #7fbfbf\">           </span><span style=\"color: #800000; text-decoration-color: #800000\">WARNING </span> frequency passed to `<span style=\"color: #800080; text-decoration-color: #800080; font-weight: bold\">Medium.eps_model</span><span style=\"font-weight: bold\">()</span>`is outside of        <a href=\"file:///Users/twhughes/Documents/Flexcompute/Tidy3D-client-revamp/notebooks/../tidy3d/components/medium.py\"><span style=\"color: #7f7f7f; text-decoration-color: #7f7f7f\">medium.py</span></a><span style=\"color: #7f7f7f; text-decoration-color: #7f7f7f\">:52</span>\n",
       "                    `Medium.frequency_range` = <span style=\"font-weight: bold\">(</span><span style=\"color: #008080; text-decoration-color: #008080; font-weight: bold\">-10000000000.0</span>, <span style=\"color: #008080; text-decoration-color: #008080; font-weight: bold\">10000000000.0</span><span style=\"font-weight: bold\">)</span>               \n",
       "</pre>\n"
      ],
      "text/plain": [
       "\u001b[2;36m          \u001b[0m\u001b[2;36m \u001b[0m\u001b[31mWARNING \u001b[0m frequency passed to `\u001b[1;35mMedium.eps_model\u001b[0m\u001b[1m(\u001b[0m\u001b[1m)\u001b[0m`is outside of        \u001b]8;id=551531;file:///Users/twhughes/Documents/Flexcompute/Tidy3D-client-revamp/notebooks/../tidy3d/components/medium.py\u001b\\\u001b[2mmedium.py\u001b[0m\u001b]8;;\u001b\\\u001b[2m:52\u001b[0m\n",
       "                    `Medium.frequency_range` = \u001b[1m(\u001b[0m\u001b[1;36m-10000000000.0\u001b[0m, \u001b[1;36m10000000000.0\u001b[0m\u001b[1m)\u001b[0m               \n"
      ]
     },
     "metadata": {},
     "output_type": "display_data"
    },
    {
     "data": {
      "text/html": [
       "<pre style=\"white-space:pre;overflow-x:auto;line-height:normal;font-family:Menlo,'DejaVu Sans Mono',consolas,'Courier New',monospace\"><span style=\"color: #7fbfbf; text-decoration-color: #7fbfbf\">           </span><span style=\"color: #800000; text-decoration-color: #800000\">WARNING </span> frequency passed to `<span style=\"color: #800080; text-decoration-color: #800080; font-weight: bold\">Medium.eps_model</span><span style=\"font-weight: bold\">()</span>`is outside of        <a href=\"file:///Users/twhughes/Documents/Flexcompute/Tidy3D-client-revamp/notebooks/../tidy3d/components/medium.py\"><span style=\"color: #7f7f7f; text-decoration-color: #7f7f7f\">medium.py</span></a><span style=\"color: #7f7f7f; text-decoration-color: #7f7f7f\">:52</span>\n",
       "                    `Medium.frequency_range` = <span style=\"font-weight: bold\">(</span><span style=\"color: #008080; text-decoration-color: #008080; font-weight: bold\">-10000000000.0</span>, <span style=\"color: #008080; text-decoration-color: #008080; font-weight: bold\">10000000000.0</span><span style=\"font-weight: bold\">)</span>               \n",
       "</pre>\n"
      ],
      "text/plain": [
       "\u001b[2;36m          \u001b[0m\u001b[2;36m \u001b[0m\u001b[31mWARNING \u001b[0m frequency passed to `\u001b[1;35mMedium.eps_model\u001b[0m\u001b[1m(\u001b[0m\u001b[1m)\u001b[0m`is outside of        \u001b]8;id=30811;file:///Users/twhughes/Documents/Flexcompute/Tidy3D-client-revamp/notebooks/../tidy3d/components/medium.py\u001b\\\u001b[2mmedium.py\u001b[0m\u001b]8;;\u001b\\\u001b[2m:52\u001b[0m\n",
       "                    `Medium.frequency_range` = \u001b[1m(\u001b[0m\u001b[1;36m-10000000000.0\u001b[0m, \u001b[1;36m10000000000.0\u001b[0m\u001b[1m)\u001b[0m               \n"
      ]
     },
     "metadata": {},
     "output_type": "display_data"
    },
    {
     "data": {
      "text/html": [
       "<pre style=\"white-space:pre;overflow-x:auto;line-height:normal;font-family:Menlo,'DejaVu Sans Mono',consolas,'Courier New',monospace\"><span style=\"color: #7fbfbf; text-decoration-color: #7fbfbf\">           </span><span style=\"color: #800000; text-decoration-color: #800000\">WARNING </span> frequency passed to `<span style=\"color: #800080; text-decoration-color: #800080; font-weight: bold\">Medium.eps_model</span><span style=\"font-weight: bold\">()</span>`is outside of        <a href=\"file:///Users/twhughes/Documents/Flexcompute/Tidy3D-client-revamp/notebooks/../tidy3d/components/medium.py\"><span style=\"color: #7f7f7f; text-decoration-color: #7f7f7f\">medium.py</span></a><span style=\"color: #7f7f7f; text-decoration-color: #7f7f7f\">:52</span>\n",
       "                    `Medium.frequency_range` = <span style=\"font-weight: bold\">(</span><span style=\"color: #008080; text-decoration-color: #008080; font-weight: bold\">-10000000000.0</span>, <span style=\"color: #008080; text-decoration-color: #008080; font-weight: bold\">10000000000.0</span><span style=\"font-weight: bold\">)</span>               \n",
       "</pre>\n"
      ],
      "text/plain": [
       "\u001b[2;36m          \u001b[0m\u001b[2;36m \u001b[0m\u001b[31mWARNING \u001b[0m frequency passed to `\u001b[1;35mMedium.eps_model\u001b[0m\u001b[1m(\u001b[0m\u001b[1m)\u001b[0m`is outside of        \u001b]8;id=28391;file:///Users/twhughes/Documents/Flexcompute/Tidy3D-client-revamp/notebooks/../tidy3d/components/medium.py\u001b\\\u001b[2mmedium.py\u001b[0m\u001b]8;;\u001b\\\u001b[2m:52\u001b[0m\n",
       "                    `Medium.frequency_range` = \u001b[1m(\u001b[0m\u001b[1;36m-10000000000.0\u001b[0m, \u001b[1;36m10000000000.0\u001b[0m\u001b[1m)\u001b[0m               \n"
      ]
     },
     "metadata": {},
     "output_type": "display_data"
    },
    {
     "data": {
      "text/html": [
       "<pre style=\"white-space:pre;overflow-x:auto;line-height:normal;font-family:Menlo,'DejaVu Sans Mono',consolas,'Courier New',monospace\"><span style=\"color: #7fbfbf; text-decoration-color: #7fbfbf\">           </span><span style=\"color: #800000; text-decoration-color: #800000\">WARNING </span> frequency passed to `<span style=\"color: #800080; text-decoration-color: #800080; font-weight: bold\">Medium.eps_model</span><span style=\"font-weight: bold\">()</span>`is outside of        <a href=\"file:///Users/twhughes/Documents/Flexcompute/Tidy3D-client-revamp/notebooks/../tidy3d/components/medium.py\"><span style=\"color: #7f7f7f; text-decoration-color: #7f7f7f\">medium.py</span></a><span style=\"color: #7f7f7f; text-decoration-color: #7f7f7f\">:52</span>\n",
       "                    `Medium.frequency_range` = <span style=\"font-weight: bold\">(</span><span style=\"color: #008080; text-decoration-color: #008080; font-weight: bold\">-10000000000.0</span>, <span style=\"color: #008080; text-decoration-color: #008080; font-weight: bold\">10000000000.0</span><span style=\"font-weight: bold\">)</span>               \n",
       "</pre>\n"
      ],
      "text/plain": [
       "\u001b[2;36m          \u001b[0m\u001b[2;36m \u001b[0m\u001b[31mWARNING \u001b[0m frequency passed to `\u001b[1;35mMedium.eps_model\u001b[0m\u001b[1m(\u001b[0m\u001b[1m)\u001b[0m`is outside of        \u001b]8;id=359058;file:///Users/twhughes/Documents/Flexcompute/Tidy3D-client-revamp/notebooks/../tidy3d/components/medium.py\u001b\\\u001b[2mmedium.py\u001b[0m\u001b]8;;\u001b\\\u001b[2m:52\u001b[0m\n",
       "                    `Medium.frequency_range` = \u001b[1m(\u001b[0m\u001b[1;36m-10000000000.0\u001b[0m, \u001b[1;36m10000000000.0\u001b[0m\u001b[1m)\u001b[0m               \n"
      ]
     },
     "metadata": {},
     "output_type": "display_data"
    },
    {
     "data": {
      "text/html": [
       "<pre style=\"white-space:pre;overflow-x:auto;line-height:normal;font-family:Menlo,'DejaVu Sans Mono',consolas,'Courier New',monospace\"><span style=\"color: #7fbfbf; text-decoration-color: #7fbfbf\">           </span><span style=\"color: #800000; text-decoration-color: #800000\">WARNING </span> frequency passed to `<span style=\"color: #800080; text-decoration-color: #800080; font-weight: bold\">Medium.eps_model</span><span style=\"font-weight: bold\">()</span>`is outside of        <a href=\"file:///Users/twhughes/Documents/Flexcompute/Tidy3D-client-revamp/notebooks/../tidy3d/components/medium.py\"><span style=\"color: #7f7f7f; text-decoration-color: #7f7f7f\">medium.py</span></a><span style=\"color: #7f7f7f; text-decoration-color: #7f7f7f\">:52</span>\n",
       "                    `Medium.frequency_range` = <span style=\"font-weight: bold\">(</span><span style=\"color: #008080; text-decoration-color: #008080; font-weight: bold\">-10000000000.0</span>, <span style=\"color: #008080; text-decoration-color: #008080; font-weight: bold\">10000000000.0</span><span style=\"font-weight: bold\">)</span>               \n",
       "</pre>\n"
      ],
      "text/plain": [
       "\u001b[2;36m          \u001b[0m\u001b[2;36m \u001b[0m\u001b[31mWARNING \u001b[0m frequency passed to `\u001b[1;35mMedium.eps_model\u001b[0m\u001b[1m(\u001b[0m\u001b[1m)\u001b[0m`is outside of        \u001b]8;id=496089;file:///Users/twhughes/Documents/Flexcompute/Tidy3D-client-revamp/notebooks/../tidy3d/components/medium.py\u001b\\\u001b[2mmedium.py\u001b[0m\u001b]8;;\u001b\\\u001b[2m:52\u001b[0m\n",
       "                    `Medium.frequency_range` = \u001b[1m(\u001b[0m\u001b[1;36m-10000000000.0\u001b[0m, \u001b[1;36m10000000000.0\u001b[0m\u001b[1m)\u001b[0m               \n"
      ]
     },
     "metadata": {},
     "output_type": "display_data"
    },
    {
     "data": {
      "text/html": [
       "<pre style=\"white-space:pre;overflow-x:auto;line-height:normal;font-family:Menlo,'DejaVu Sans Mono',consolas,'Courier New',monospace\"><span style=\"color: #7fbfbf; text-decoration-color: #7fbfbf\">           </span><span style=\"color: #800000; text-decoration-color: #800000\">WARNING </span> frequency passed to `<span style=\"color: #800080; text-decoration-color: #800080; font-weight: bold\">Medium.eps_model</span><span style=\"font-weight: bold\">()</span>`is outside of        <a href=\"file:///Users/twhughes/Documents/Flexcompute/Tidy3D-client-revamp/notebooks/../tidy3d/components/medium.py\"><span style=\"color: #7f7f7f; text-decoration-color: #7f7f7f\">medium.py</span></a><span style=\"color: #7f7f7f; text-decoration-color: #7f7f7f\">:52</span>\n",
       "                    `Medium.frequency_range` = <span style=\"font-weight: bold\">(</span><span style=\"color: #008080; text-decoration-color: #008080; font-weight: bold\">-10000000000.0</span>, <span style=\"color: #008080; text-decoration-color: #008080; font-weight: bold\">10000000000.0</span><span style=\"font-weight: bold\">)</span>               \n",
       "</pre>\n"
      ],
      "text/plain": [
       "\u001b[2;36m          \u001b[0m\u001b[2;36m \u001b[0m\u001b[31mWARNING \u001b[0m frequency passed to `\u001b[1;35mMedium.eps_model\u001b[0m\u001b[1m(\u001b[0m\u001b[1m)\u001b[0m`is outside of        \u001b]8;id=842688;file:///Users/twhughes/Documents/Flexcompute/Tidy3D-client-revamp/notebooks/../tidy3d/components/medium.py\u001b\\\u001b[2mmedium.py\u001b[0m\u001b]8;;\u001b\\\u001b[2m:52\u001b[0m\n",
       "                    `Medium.frequency_range` = \u001b[1m(\u001b[0m\u001b[1;36m-10000000000.0\u001b[0m, \u001b[1;36m10000000000.0\u001b[0m\u001b[1m)\u001b[0m               \n"
      ]
     },
     "metadata": {},
     "output_type": "display_data"
    },
    {
     "data": {
      "text/html": [
       "<pre style=\"white-space:pre;overflow-x:auto;line-height:normal;font-family:Menlo,'DejaVu Sans Mono',consolas,'Courier New',monospace\"><span style=\"color: #7fbfbf; text-decoration-color: #7fbfbf\">           </span><span style=\"color: #800000; text-decoration-color: #800000\">WARNING </span> frequency passed to `<span style=\"color: #800080; text-decoration-color: #800080; font-weight: bold\">Medium.eps_model</span><span style=\"font-weight: bold\">()</span>`is outside of        <a href=\"file:///Users/twhughes/Documents/Flexcompute/Tidy3D-client-revamp/notebooks/../tidy3d/components/medium.py\"><span style=\"color: #7f7f7f; text-decoration-color: #7f7f7f\">medium.py</span></a><span style=\"color: #7f7f7f; text-decoration-color: #7f7f7f\">:52</span>\n",
       "                    `Medium.frequency_range` = <span style=\"font-weight: bold\">(</span><span style=\"color: #008080; text-decoration-color: #008080; font-weight: bold\">-10000000000.0</span>, <span style=\"color: #008080; text-decoration-color: #008080; font-weight: bold\">10000000000.0</span><span style=\"font-weight: bold\">)</span>               \n",
       "</pre>\n"
      ],
      "text/plain": [
       "\u001b[2;36m          \u001b[0m\u001b[2;36m \u001b[0m\u001b[31mWARNING \u001b[0m frequency passed to `\u001b[1;35mMedium.eps_model\u001b[0m\u001b[1m(\u001b[0m\u001b[1m)\u001b[0m`is outside of        \u001b]8;id=397395;file:///Users/twhughes/Documents/Flexcompute/Tidy3D-client-revamp/notebooks/../tidy3d/components/medium.py\u001b\\\u001b[2mmedium.py\u001b[0m\u001b]8;;\u001b\\\u001b[2m:52\u001b[0m\n",
       "                    `Medium.frequency_range` = \u001b[1m(\u001b[0m\u001b[1;36m-10000000000.0\u001b[0m, \u001b[1;36m10000000000.0\u001b[0m\u001b[1m)\u001b[0m               \n"
      ]
     },
     "metadata": {},
     "output_type": "display_data"
    },
    {
     "data": {
      "text/html": [
       "<pre style=\"white-space:pre;overflow-x:auto;line-height:normal;font-family:Menlo,'DejaVu Sans Mono',consolas,'Courier New',monospace\"><span style=\"color: #7fbfbf; text-decoration-color: #7fbfbf\">           </span><span style=\"color: #800000; text-decoration-color: #800000\">WARNING </span> frequency passed to `<span style=\"color: #800080; text-decoration-color: #800080; font-weight: bold\">Medium.eps_model</span><span style=\"font-weight: bold\">()</span>`is outside of        <a href=\"file:///Users/twhughes/Documents/Flexcompute/Tidy3D-client-revamp/notebooks/../tidy3d/components/medium.py\"><span style=\"color: #7f7f7f; text-decoration-color: #7f7f7f\">medium.py</span></a><span style=\"color: #7f7f7f; text-decoration-color: #7f7f7f\">:52</span>\n",
       "                    `Medium.frequency_range` = <span style=\"font-weight: bold\">(</span><span style=\"color: #008080; text-decoration-color: #008080; font-weight: bold\">-10000000000.0</span>, <span style=\"color: #008080; text-decoration-color: #008080; font-weight: bold\">10000000000.0</span><span style=\"font-weight: bold\">)</span>               \n",
       "</pre>\n"
      ],
      "text/plain": [
       "\u001b[2;36m          \u001b[0m\u001b[2;36m \u001b[0m\u001b[31mWARNING \u001b[0m frequency passed to `\u001b[1;35mMedium.eps_model\u001b[0m\u001b[1m(\u001b[0m\u001b[1m)\u001b[0m`is outside of        \u001b]8;id=463062;file:///Users/twhughes/Documents/Flexcompute/Tidy3D-client-revamp/notebooks/../tidy3d/components/medium.py\u001b\\\u001b[2mmedium.py\u001b[0m\u001b]8;;\u001b\\\u001b[2m:52\u001b[0m\n",
       "                    `Medium.frequency_range` = \u001b[1m(\u001b[0m\u001b[1;36m-10000000000.0\u001b[0m, \u001b[1;36m10000000000.0\u001b[0m\u001b[1m)\u001b[0m               \n"
      ]
     },
     "metadata": {},
     "output_type": "display_data"
    },
    {
     "data": {
      "text/html": [
       "<pre style=\"white-space:pre;overflow-x:auto;line-height:normal;font-family:Menlo,'DejaVu Sans Mono',consolas,'Courier New',monospace\"><span style=\"color: #7fbfbf; text-decoration-color: #7fbfbf\">           </span><span style=\"color: #800000; text-decoration-color: #800000\">WARNING </span> frequency passed to `<span style=\"color: #800080; text-decoration-color: #800080; font-weight: bold\">Medium.eps_model</span><span style=\"font-weight: bold\">()</span>`is outside of        <a href=\"file:///Users/twhughes/Documents/Flexcompute/Tidy3D-client-revamp/notebooks/../tidy3d/components/medium.py\"><span style=\"color: #7f7f7f; text-decoration-color: #7f7f7f\">medium.py</span></a><span style=\"color: #7f7f7f; text-decoration-color: #7f7f7f\">:52</span>\n",
       "                    `Medium.frequency_range` = <span style=\"font-weight: bold\">(</span><span style=\"color: #008080; text-decoration-color: #008080; font-weight: bold\">-10000000000.0</span>, <span style=\"color: #008080; text-decoration-color: #008080; font-weight: bold\">10000000000.0</span><span style=\"font-weight: bold\">)</span>               \n",
       "</pre>\n"
      ],
      "text/plain": [
       "\u001b[2;36m          \u001b[0m\u001b[2;36m \u001b[0m\u001b[31mWARNING \u001b[0m frequency passed to `\u001b[1;35mMedium.eps_model\u001b[0m\u001b[1m(\u001b[0m\u001b[1m)\u001b[0m`is outside of        \u001b]8;id=373248;file:///Users/twhughes/Documents/Flexcompute/Tidy3D-client-revamp/notebooks/../tidy3d/components/medium.py\u001b\\\u001b[2mmedium.py\u001b[0m\u001b]8;;\u001b\\\u001b[2m:52\u001b[0m\n",
       "                    `Medium.frequency_range` = \u001b[1m(\u001b[0m\u001b[1;36m-10000000000.0\u001b[0m, \u001b[1;36m10000000000.0\u001b[0m\u001b[1m)\u001b[0m               \n"
      ]
     },
     "metadata": {},
     "output_type": "display_data"
    },
    {
     "data": {
      "image/png": "[encoded data removed]"
     },
     "metadata": {
      "needs_background": "light"
     },
     "output_type": "display_data"
    }
   ],
   "source": [
    "# Visualize the modes. The mode computation is called internally.\n",
    "ms = td.plugins.ModeSolver(simulation=sim, plane=src_plane, freq=freq0)\n",
    "mode = td.Mode(mode_index=0, num_modes=3)\n",
    "mode_info = ms.solve(mode=mode)\n",
    "abs(mode_info.field_data.Ex.T).plot(cmap='magma')\n",
    "mode_source = ms.make_source(mode=mode, direction=\"+\", fwidth=freq0/10)\n",
    "sim.sources['modal_source'] = mode_source"
   ]
  },
  {
   "cell_type": "markdown",
   "metadata": {},
   "source": [
    "The waveguide has a single guided TE mode, as well as a TM mode which is very close to the light line (effective index close to substrate index). Finally, the last mode shown here, Mode 2, is below the light-line of the substrate and is mostly localized in that region. However, modes like these should always be considered unphysical, because of the periodic boundary conditions at the edges that are used in the mode solver. Thus, for meaningful results, only Mode 0 and Mode 1 should be used by the mode source."
   ]
  },
  {
   "cell_type": "markdown",
   "metadata": {},
   "source": [
    "### Run simulation\n",
    "\n",
    "We set the mode source to the fundamental TE mode. Then, we run the simulation as usual through the web API, wait for it to finish, and download and load the results."
   ]
  },
  {
   "cell_type": "code",
   "execution_count": 6,
   "metadata": {
    "tags": []
   },
   "outputs": [
    {
     "data": {
      "application/vnd.jupyter.widget-view+json": {
       "model_id": "",
       "version_major": 2,
       "version_minor": 0
      },
      "text/plain": [
       "Output()"
      ]
     },
     "metadata": {},
     "output_type": "display_data"
    },
    {
     "data": {
      "text/html": [
       "<pre style=\"white-space:pre;overflow-x:auto;line-height:normal;font-family:Menlo,'DejaVu Sans Mono',consolas,'Courier New',monospace\"><span style=\"color: #7fbfbf; text-decoration-color: #7fbfbf\">[15:11:36] </span>status = preprocess                                               <a href=\"file:///Users/twhughes/Documents/Flexcompute/Tidy3D-client-revamp/tidy3d/web/container.py\"><span style=\"color: #7f7f7f; text-decoration-color: #7f7f7f\">container.py</span></a><span style=\"color: #7f7f7f; text-decoration-color: #7f7f7f\">:101</span>\n",
       "</pre>\n"
      ],
      "text/plain": [
       "\u001b[2;36m[15:11:36]\u001b[0m\u001b[2;36m \u001b[0mstatus = preprocess                                               \u001b]8;id=606237;file:///Users/twhughes/Documents/Flexcompute/Tidy3D-client-revamp/tidy3d/web/container.py\u001b\\\u001b[2mcontainer.py\u001b[0m\u001b]8;;\u001b\\\u001b[2m:101\u001b[0m\n"
      ]
     },
     "metadata": {},
     "output_type": "display_data"
    },
    {
     "data": {
      "text/html": [
       "<pre style=\"white-space:pre;overflow-x:auto;line-height:normal;font-family:Menlo,'DejaVu Sans Mono',consolas,'Courier New',monospace\"><span style=\"color: #7fbfbf; text-decoration-color: #7fbfbf\">[15:12:00] </span>status = running                                                  <a href=\"file:///Users/twhughes/Documents/Flexcompute/Tidy3D-client-revamp/tidy3d/web/container.py\"><span style=\"color: #7f7f7f; text-decoration-color: #7f7f7f\">container.py</span></a><span style=\"color: #7f7f7f; text-decoration-color: #7f7f7f\">:101</span>\n",
       "</pre>\n"
      ],
      "text/plain": [
       "\u001b[2;36m[15:12:00]\u001b[0m\u001b[2;36m \u001b[0mstatus = running                                                  \u001b]8;id=928710;file:///Users/twhughes/Documents/Flexcompute/Tidy3D-client-revamp/tidy3d/web/container.py\u001b\\\u001b[2mcontainer.py\u001b[0m\u001b]8;;\u001b\\\u001b[2m:101\u001b[0m\n"
      ]
     },
     "metadata": {},
     "output_type": "display_data"
    },
    {
     "data": {
      "text/html": [
       "<pre style=\"white-space:pre;overflow-x:auto;line-height:normal;font-family:Menlo,'DejaVu Sans Mono',consolas,'Courier New',monospace\"><span style=\"color: #7fbfbf; text-decoration-color: #7fbfbf\">[15:12:21] </span>status = postprocess                                              <a href=\"file:///Users/twhughes/Documents/Flexcompute/Tidy3D-client-revamp/tidy3d/web/container.py\"><span style=\"color: #7f7f7f; text-decoration-color: #7f7f7f\">container.py</span></a><span style=\"color: #7f7f7f; text-decoration-color: #7f7f7f\">:101</span>\n",
       "</pre>\n"
      ],
      "text/plain": [
       "\u001b[2;36m[15:12:21]\u001b[0m\u001b[2;36m \u001b[0mstatus = postprocess                                              \u001b]8;id=63305;file:///Users/twhughes/Documents/Flexcompute/Tidy3D-client-revamp/tidy3d/web/container.py\u001b\\\u001b[2mcontainer.py\u001b[0m\u001b]8;;\u001b\\\u001b[2m:101\u001b[0m\n"
      ]
     },
     "metadata": {},
     "output_type": "display_data"
    },
    {
     "data": {
      "text/html": [
       "<pre style=\"white-space:pre;overflow-x:auto;line-height:normal;font-family:Menlo,'DejaVu Sans Mono',consolas,'Courier New',monospace\"><span style=\"color: #7fbfbf; text-decoration-color: #7fbfbf\">[15:12:22] </span>status = visualize                                                <a href=\"file:///Users/twhughes/Documents/Flexcompute/Tidy3D-client-revamp/tidy3d/web/container.py\"><span style=\"color: #7f7f7f; text-decoration-color: #7f7f7f\">container.py</span></a><span style=\"color: #7f7f7f; text-decoration-color: #7f7f7f\">:101</span>\n",
       "</pre>\n"
      ],
      "text/plain": [
       "\u001b[2;36m[15:12:22]\u001b[0m\u001b[2;36m \u001b[0mstatus = visualize                                                \u001b]8;id=438419;file:///Users/twhughes/Documents/Flexcompute/Tidy3D-client-revamp/tidy3d/web/container.py\u001b\\\u001b[2mcontainer.py\u001b[0m\u001b]8;;\u001b\\\u001b[2m:101\u001b[0m\n"
      ]
     },
     "metadata": {},
     "output_type": "display_data"
    },
    {
     "data": {
      "text/html": [
       "<pre style=\"white-space:pre;overflow-x:auto;line-height:normal;font-family:Menlo,'DejaVu Sans Mono',consolas,'Courier New',monospace\"><span style=\"color: #7fbfbf; text-decoration-color: #7fbfbf\">[15:12:40] </span>status = success                                                  <a href=\"file:///Users/twhughes/Documents/Flexcompute/Tidy3D-client-revamp/tidy3d/web/container.py\"><span style=\"color: #7f7f7f; text-decoration-color: #7f7f7f\">container.py</span></a><span style=\"color: #7f7f7f; text-decoration-color: #7f7f7f\">:101</span>\n",
       "</pre>\n"
      ],
      "text/plain": [
       "\u001b[2;36m[15:12:40]\u001b[0m\u001b[2;36m \u001b[0mstatus = success                                                  \u001b]8;id=580256;file:///Users/twhughes/Documents/Flexcompute/Tidy3D-client-revamp/tidy3d/web/container.py\u001b\\\u001b[2mcontainer.py\u001b[0m\u001b]8;;\u001b\\\u001b[2m:101\u001b[0m\n"
      ]
     },
     "metadata": {},
     "output_type": "display_data"
    },
    {
     "data": {
      "text/html": [
       "<pre style=\"white-space:pre;overflow-x:auto;line-height:normal;font-family:Menlo,'DejaVu Sans Mono',consolas,'Courier New',monospace\"></pre>\n"
      ],
      "text/plain": []
     },
     "metadata": {},
     "output_type": "display_data"
    },
    {
     "data": {
      "application/vnd.jupyter.widget-view+json": {
       "model_id": "a78d693f8f0b427ea1123a9a4e5a30b7",
       "version_major": 2,
       "version_minor": 0
      },
      "text/plain": [
       "Output()"
      ]
     },
     "metadata": {},
     "output_type": "display_data"
    },
    {
     "data": {
      "application/vnd.jupyter.widget-view+json": {
       "model_id": "a35458e37bf9418c93d02e1365380de7",
       "version_major": 2,
       "version_minor": 0
      },
      "text/plain": [
       "Output()"
      ]
     },
     "metadata": {},
     "output_type": "display_data"
    },
    {
     "data": {
      "application/vnd.jupyter.widget-view+json": {
       "model_id": "af1dff948bad4cd48b4238a5ef837392",
       "version_major": 2,
       "version_minor": 0
      },
      "text/plain": [
       "Output()"
      ]
     },
     "metadata": {},
     "output_type": "display_data"
    }
   ],
   "source": [
    "job = web.Job(simulation=sim, task_name='mode_tutorial')\n",
    "sim_data = job.run(path='data/simulation.hdf5')"
   ]
  },
  {
   "cell_type": "markdown",
   "metadata": {},
   "source": [
    "Let's first examine the in-plane fields recorded by the frequency monitor. We can already see how the source emits all of its power in the desired direction and waveguide mode."
   ]
  },
  {
   "cell_type": "code",
   "execution_count": 7,
   "metadata": {
    "scrolled": true
   },
   "outputs": [
    {
     "data": {
      "image/png": "[encoded data removed]"
     },
     "metadata": {
      "needs_background": "light"
     },
     "output_type": "display_data"
    }
   ],
   "source": [
    "f, ax = plt.subplots()\n",
    "sim_data['fields'].Ex.real.plot(ax=ax)\n",
    "sim.plot\n",
    "plt.show()"
   ]
  },
  {
   "cell_type": "markdown",
   "metadata": {},
   "source": [
    "### Mode monitors"
   ]
  },
  {
   "cell_type": "markdown",
   "metadata": {},
   "source": [
    "Mode monitors allow us to decompose the frequency-domain fields recorded in a simulation into the propagating modes of a waveguide. Specifically, we can write the modes of the waveguide at angular frequency $\\omega$ that are propagating in the *forward* direction, i.e. in the positive `x` direction in the example above, as\n",
    "\n",
    "$$\n",
    "\\mathbf{E}_p^f(\\omega, x) = \\mathbf{E}_p^f(\\omega) e^{i k_p x}, \\quad \\quad \\mathbf{H}_p^f(\\omega, x) = \\mathbf{H}_p^f(\\omega) e^{i k_p x},\n",
    "$$\n",
    "\n",
    "where $p$ is a discrete mode index, $k_p = n_p \\omega/c$ is the wave-vector, $n_p$ is the effective index of the $p$-th mode, and superscript $f$ specifies forward propagation. The fields in the backward direction can be obtained, in the axes of the simulation, as $k_p \\rightarrow -k_p$ and $\\mathbf{E}_{p}^b(\\omega) = (-E_{p,x}^{f*}, E_{p,y}^{f*}, E_{p,z}^{f*})$, $\\mathbf{H}_{p}^b(\\omega) = (H_{p,x}^{f*}, -H_{p,y}^{f*}, -H_{p,z}^{f*})$, with $*$ denoting the complex conjugate.\n",
    "\n",
    "The fields stored in a monitor can then be decomposed on the basis of these waveguide modes. Following [1](https://journals.aps.org/pre/abstract/10.1103/PhysRevE.66.066608), [2](https://arxiv.org/abs/1301.5366), we can define an inner product between fields in the 2D plane as\n",
    "\n",
    "$$\n",
    "(\\mathbf{u}_1, \\mathbf{u}_2) = \\frac{1}{4} \\int_A \\left(\\mathbf{E}_1^* \\times \\mathbf{H}_2 + \\mathbf{E}_2 \\times \\mathbf{H}_1^* \\right) \\cdot \\mathrm{d}\\mathbf{A},\n",
    "$$\n",
    "\n",
    "where $\\mathbf{u} = (\\mathbf{E}, \\mathbf{H})$ combines both electromagnetic fields, the integration is over the plane area $A$, and $\\mathrm{d}\\mathbf{A}$ is the surface normal. If a waveguide mode is normalized such that $(\\mathbf{u}_p, \\mathbf{u}_p) = 1$, and we denote the fields stored in the mode monitor by $\\mathbf{u}_s$, then the power amplitude carried by mode $p$ is given by the complex coefficient\n",
    "\n",
    "$$\n",
    "c_p = (\\mathbf{u}_p, \\mathbf{u}_s),\n",
    "$$\n",
    "\n",
    "while the power is given by $|c_p|^2$."
   ]
  },
  {
   "cell_type": "markdown",
   "metadata": {},
   "source": [
    "In ``Tidy3D``, the decomposition coefficients at each frequency and for each of the first ``Nmodes`` modes of the monitor are automatically computed during the simulation run. Both the expansion coefficients and the modes are loaded when the monitor data is loaded in the simulation. We can thus directly plot the monitor modes without needing to pre-compute them as we did for the source."
   ]
  },
  {
   "cell_type": "code",
   "execution_count": null,
   "metadata": {},
   "outputs": [
    {
     "data": {
      "text/html": [
       "<pre style=\"white-space:pre;overflow-x:auto;line-height:normal;font-family:Menlo,'DejaVu Sans Mono',consolas,'Courier New',monospace\"><span style=\"color: #7fbfbf; text-decoration-color: #7fbfbf\">[15:12:43] </span><span style=\"color: #800000; text-decoration-color: #800000\">WARNING </span> frequency passed to `<span style=\"color: #800080; text-decoration-color: #800080; font-weight: bold\">Medium.eps_model</span><span style=\"font-weight: bold\">()</span>`is outside of        <a href=\"file:///Users/twhughes/Documents/Flexcompute/Tidy3D-client-revamp/notebooks/../tidy3d/components/medium.py\"><span style=\"color: #7f7f7f; text-decoration-color: #7f7f7f\">medium.py</span></a><span style=\"color: #7f7f7f; text-decoration-color: #7f7f7f\">:52</span>\n",
       "                    `Medium.frequency_range` = <span style=\"font-weight: bold\">(</span><span style=\"color: #008080; text-decoration-color: #008080; font-weight: bold\">-10000000000.0</span>, <span style=\"color: #008080; text-decoration-color: #008080; font-weight: bold\">10000000000.0</span><span style=\"font-weight: bold\">)</span>               \n",
       "</pre>\n"
      ],
      "text/plain": [
       "\u001b[2;36m[15:12:43]\u001b[0m\u001b[2;36m \u001b[0m\u001b[31mWARNING \u001b[0m frequency passed to `\u001b[1;35mMedium.eps_model\u001b[0m\u001b[1m(\u001b[0m\u001b[1m)\u001b[0m`is outside of        \u001b]8;id=366118;file:///Users/twhughes/Documents/Flexcompute/Tidy3D-client-revamp/notebooks/../tidy3d/components/medium.py\u001b\\\u001b[2mmedium.py\u001b[0m\u001b]8;;\u001b\\\u001b[2m:52\u001b[0m\n",
       "                    `Medium.frequency_range` = \u001b[1m(\u001b[0m\u001b[1;36m-10000000000.0\u001b[0m, \u001b[1;36m10000000000.0\u001b[0m\u001b[1m)\u001b[0m               \n"
      ]
     },
     "metadata": {},
     "output_type": "display_data"
    },
    {
     "data": {
      "text/html": [
       "<pre style=\"white-space:pre;overflow-x:auto;line-height:normal;font-family:Menlo,'DejaVu Sans Mono',consolas,'Courier New',monospace\"><span style=\"color: #7fbfbf; text-decoration-color: #7fbfbf\">           </span><span style=\"color: #800000; text-decoration-color: #800000\">WARNING </span> frequency passed to `<span style=\"color: #800080; text-decoration-color: #800080; font-weight: bold\">Medium.eps_model</span><span style=\"font-weight: bold\">()</span>`is outside of        <a href=\"file:///Users/twhughes/Documents/Flexcompute/Tidy3D-client-revamp/notebooks/../tidy3d/components/medium.py\"><span style=\"color: #7f7f7f; text-decoration-color: #7f7f7f\">medium.py</span></a><span style=\"color: #7f7f7f; text-decoration-color: #7f7f7f\">:52</span>\n",
       "                    `Medium.frequency_range` = <span style=\"font-weight: bold\">(</span><span style=\"color: #008080; text-decoration-color: #008080; font-weight: bold\">-10000000000.0</span>, <span style=\"color: #008080; text-decoration-color: #008080; font-weight: bold\">10000000000.0</span><span style=\"font-weight: bold\">)</span>               \n",
       "</pre>\n"
      ],
      "text/plain": [
       "\u001b[2;36m          \u001b[0m\u001b[2;36m \u001b[0m\u001b[31mWARNING \u001b[0m frequency passed to `\u001b[1;35mMedium.eps_model\u001b[0m\u001b[1m(\u001b[0m\u001b[1m)\u001b[0m`is outside of        \u001b]8;id=12002;file:///Users/twhughes/Documents/Flexcompute/Tidy3D-client-revamp/notebooks/../tidy3d/components/medium.py\u001b\\\u001b[2mmedium.py\u001b[0m\u001b]8;;\u001b\\\u001b[2m:52\u001b[0m\n",
       "                    `Medium.frequency_range` = \u001b[1m(\u001b[0m\u001b[1;36m-10000000000.0\u001b[0m, \u001b[1;36m10000000000.0\u001b[0m\u001b[1m)\u001b[0m               \n"
      ]
     },
     "metadata": {},
     "output_type": "display_data"
    },
    {
     "data": {
      "text/html": [
       "<pre style=\"white-space:pre;overflow-x:auto;line-height:normal;font-family:Menlo,'DejaVu Sans Mono',consolas,'Courier New',monospace\"><span style=\"color: #7fbfbf; text-decoration-color: #7fbfbf\">           </span><span style=\"color: #800000; text-decoration-color: #800000\">WARNING </span> frequency passed to `<span style=\"color: #800080; text-decoration-color: #800080; font-weight: bold\">Medium.eps_model</span><span style=\"font-weight: bold\">()</span>`is outside of        <a href=\"file:///Users/twhughes/Documents/Flexcompute/Tidy3D-client-revamp/notebooks/../tidy3d/components/medium.py\"><span style=\"color: #7f7f7f; text-decoration-color: #7f7f7f\">medium.py</span></a><span style=\"color: #7f7f7f; text-decoration-color: #7f7f7f\">:52</span>\n",
       "                    `Medium.frequency_range` = <span style=\"font-weight: bold\">(</span><span style=\"color: #008080; text-decoration-color: #008080; font-weight: bold\">-10000000000.0</span>, <span style=\"color: #008080; text-decoration-color: #008080; font-weight: bold\">10000000000.0</span><span style=\"font-weight: bold\">)</span>               \n",
       "</pre>\n"
      ],
      "text/plain": [
       "\u001b[2;36m          \u001b[0m\u001b[2;36m \u001b[0m\u001b[31mWARNING \u001b[0m frequency passed to `\u001b[1;35mMedium.eps_model\u001b[0m\u001b[1m(\u001b[0m\u001b[1m)\u001b[0m`is outside of        \u001b]8;id=667271;file:///Users/twhughes/Documents/Flexcompute/Tidy3D-client-revamp/notebooks/../tidy3d/components/medium.py\u001b\\\u001b[2mmedium.py\u001b[0m\u001b]8;;\u001b\\\u001b[2m:52\u001b[0m\n",
       "                    `Medium.frequency_range` = \u001b[1m(\u001b[0m\u001b[1;36m-10000000000.0\u001b[0m, \u001b[1;36m10000000000.0\u001b[0m\u001b[1m)\u001b[0m               \n"
      ]
     },
     "metadata": {},
     "output_type": "display_data"
    },
    {
     "data": {
      "text/html": [
       "<pre style=\"white-space:pre;overflow-x:auto;line-height:normal;font-family:Menlo,'DejaVu Sans Mono',consolas,'Courier New',monospace\"><span style=\"color: #7fbfbf; text-decoration-color: #7fbfbf\">           </span><span style=\"color: #800000; text-decoration-color: #800000\">WARNING </span> frequency passed to `<span style=\"color: #800080; text-decoration-color: #800080; font-weight: bold\">Medium.eps_model</span><span style=\"font-weight: bold\">()</span>`is outside of        <a href=\"file:///Users/twhughes/Documents/Flexcompute/Tidy3D-client-revamp/notebooks/../tidy3d/components/medium.py\"><span style=\"color: #7f7f7f; text-decoration-color: #7f7f7f\">medium.py</span></a><span style=\"color: #7f7f7f; text-decoration-color: #7f7f7f\">:52</span>\n",
       "                    `Medium.frequency_range` = <span style=\"font-weight: bold\">(</span><span style=\"color: #008080; text-decoration-color: #008080; font-weight: bold\">-10000000000.0</span>, <span style=\"color: #008080; text-decoration-color: #008080; font-weight: bold\">10000000000.0</span><span style=\"font-weight: bold\">)</span>               \n",
       "</pre>\n"
      ],
      "text/plain": [
       "\u001b[2;36m          \u001b[0m\u001b[2;36m \u001b[0m\u001b[31mWARNING \u001b[0m frequency passed to `\u001b[1;35mMedium.eps_model\u001b[0m\u001b[1m(\u001b[0m\u001b[1m)\u001b[0m`is outside of        \u001b]8;id=209738;file:///Users/twhughes/Documents/Flexcompute/Tidy3D-client-revamp/notebooks/../tidy3d/components/medium.py\u001b\\\u001b[2mmedium.py\u001b[0m\u001b]8;;\u001b\\\u001b[2m:52\u001b[0m\n",
       "                    `Medium.frequency_range` = \u001b[1m(\u001b[0m\u001b[1;36m-10000000000.0\u001b[0m, \u001b[1;36m10000000000.0\u001b[0m\u001b[1m)\u001b[0m               \n"
      ]
     },
     "metadata": {},
     "output_type": "display_data"
    },
    {
     "data": {
      "text/html": [
       "<pre style=\"white-space:pre;overflow-x:auto;line-height:normal;font-family:Menlo,'DejaVu Sans Mono',consolas,'Courier New',monospace\"><span style=\"color: #7fbfbf; text-decoration-color: #7fbfbf\">           </span><span style=\"color: #800000; text-decoration-color: #800000\">WARNING </span> frequency passed to `<span style=\"color: #800080; text-decoration-color: #800080; font-weight: bold\">Medium.eps_model</span><span style=\"font-weight: bold\">()</span>`is outside of        <a href=\"file:///Users/twhughes/Documents/Flexcompute/Tidy3D-client-revamp/notebooks/../tidy3d/components/medium.py\"><span style=\"color: #7f7f7f; text-decoration-color: #7f7f7f\">medium.py</span></a><span style=\"color: #7f7f7f; text-decoration-color: #7f7f7f\">:52</span>\n",
       "                    `Medium.frequency_range` = <span style=\"font-weight: bold\">(</span><span style=\"color: #008080; text-decoration-color: #008080; font-weight: bold\">-10000000000.0</span>, <span style=\"color: #008080; text-decoration-color: #008080; font-weight: bold\">10000000000.0</span><span style=\"font-weight: bold\">)</span>               \n",
       "</pre>\n"
      ],
      "text/plain": [
       "\u001b[2;36m          \u001b[0m\u001b[2;36m \u001b[0m\u001b[31mWARNING \u001b[0m frequency passed to `\u001b[1;35mMedium.eps_model\u001b[0m\u001b[1m(\u001b[0m\u001b[1m)\u001b[0m`is outside of        \u001b]8;id=216080;file:///Users/twhughes/Documents/Flexcompute/Tidy3D-client-revamp/notebooks/../tidy3d/components/medium.py\u001b\\\u001b[2mmedium.py\u001b[0m\u001b]8;;\u001b\\\u001b[2m:52\u001b[0m\n",
       "                    `Medium.frequency_range` = \u001b[1m(\u001b[0m\u001b[1;36m-10000000000.0\u001b[0m, \u001b[1;36m10000000000.0\u001b[0m\u001b[1m)\u001b[0m               \n"
      ]
     },
     "metadata": {},
     "output_type": "display_data"
    },
    {
     "data": {
      "text/html": [
       "<pre style=\"white-space:pre;overflow-x:auto;line-height:normal;font-family:Menlo,'DejaVu Sans Mono',consolas,'Courier New',monospace\"><span style=\"color: #7fbfbf; text-decoration-color: #7fbfbf\">           </span><span style=\"color: #800000; text-decoration-color: #800000\">WARNING </span> frequency passed to `<span style=\"color: #800080; text-decoration-color: #800080; font-weight: bold\">Medium.eps_model</span><span style=\"font-weight: bold\">()</span>`is outside of        <a href=\"file:///Users/twhughes/Documents/Flexcompute/Tidy3D-client-revamp/notebooks/../tidy3d/components/medium.py\"><span style=\"color: #7f7f7f; text-decoration-color: #7f7f7f\">medium.py</span></a><span style=\"color: #7f7f7f; text-decoration-color: #7f7f7f\">:52</span>\n",
       "                    `Medium.frequency_range` = <span style=\"font-weight: bold\">(</span><span style=\"color: #008080; text-decoration-color: #008080; font-weight: bold\">-10000000000.0</span>, <span style=\"color: #008080; text-decoration-color: #008080; font-weight: bold\">10000000000.0</span><span style=\"font-weight: bold\">)</span>               \n",
       "</pre>\n"
      ],
      "text/plain": [
       "\u001b[2;36m          \u001b[0m\u001b[2;36m \u001b[0m\u001b[31mWARNING \u001b[0m frequency passed to `\u001b[1;35mMedium.eps_model\u001b[0m\u001b[1m(\u001b[0m\u001b[1m)\u001b[0m`is outside of        \u001b]8;id=915762;file:///Users/twhughes/Documents/Flexcompute/Tidy3D-client-revamp/notebooks/../tidy3d/components/medium.py\u001b\\\u001b[2mmedium.py\u001b[0m\u001b]8;;\u001b\\\u001b[2m:52\u001b[0m\n",
       "                    `Medium.frequency_range` = \u001b[1m(\u001b[0m\u001b[1;36m-10000000000.0\u001b[0m, \u001b[1;36m10000000000.0\u001b[0m\u001b[1m)\u001b[0m               \n"
      ]
     },
     "metadata": {},
     "output_type": "display_data"
    },
    {
     "data": {
      "text/html": [
       "<pre style=\"white-space:pre;overflow-x:auto;line-height:normal;font-family:Menlo,'DejaVu Sans Mono',consolas,'Courier New',monospace\"><span style=\"color: #7fbfbf; text-decoration-color: #7fbfbf\">           </span><span style=\"color: #800000; text-decoration-color: #800000\">WARNING </span> frequency passed to `<span style=\"color: #800080; text-decoration-color: #800080; font-weight: bold\">Medium.eps_model</span><span style=\"font-weight: bold\">()</span>`is outside of        <a href=\"file:///Users/twhughes/Documents/Flexcompute/Tidy3D-client-revamp/notebooks/../tidy3d/components/medium.py\"><span style=\"color: #7f7f7f; text-decoration-color: #7f7f7f\">medium.py</span></a><span style=\"color: #7f7f7f; text-decoration-color: #7f7f7f\">:52</span>\n",
       "                    `Medium.frequency_range` = <span style=\"font-weight: bold\">(</span><span style=\"color: #008080; text-decoration-color: #008080; font-weight: bold\">-10000000000.0</span>, <span style=\"color: #008080; text-decoration-color: #008080; font-weight: bold\">10000000000.0</span><span style=\"font-weight: bold\">)</span>               \n",
       "</pre>\n"
      ],
      "text/plain": [
       "\u001b[2;36m          \u001b[0m\u001b[2;36m \u001b[0m\u001b[31mWARNING \u001b[0m frequency passed to `\u001b[1;35mMedium.eps_model\u001b[0m\u001b[1m(\u001b[0m\u001b[1m)\u001b[0m`is outside of        \u001b]8;id=78490;file:///Users/twhughes/Documents/Flexcompute/Tidy3D-client-revamp/notebooks/../tidy3d/components/medium.py\u001b\\\u001b[2mmedium.py\u001b[0m\u001b]8;;\u001b\\\u001b[2m:52\u001b[0m\n",
       "                    `Medium.frequency_range` = \u001b[1m(\u001b[0m\u001b[1;36m-10000000000.0\u001b[0m, \u001b[1;36m10000000000.0\u001b[0m\u001b[1m)\u001b[0m               \n"
      ]
     },
     "metadata": {},
     "output_type": "display_data"
    },
    {
     "data": {
      "text/html": [
       "<pre style=\"white-space:pre;overflow-x:auto;line-height:normal;font-family:Menlo,'DejaVu Sans Mono',consolas,'Courier New',monospace\"><span style=\"color: #7fbfbf; text-decoration-color: #7fbfbf\">           </span><span style=\"color: #800000; text-decoration-color: #800000\">WARNING </span> frequency passed to `<span style=\"color: #800080; text-decoration-color: #800080; font-weight: bold\">Medium.eps_model</span><span style=\"font-weight: bold\">()</span>`is outside of        <a href=\"file:///Users/twhughes/Documents/Flexcompute/Tidy3D-client-revamp/notebooks/../tidy3d/components/medium.py\"><span style=\"color: #7f7f7f; text-decoration-color: #7f7f7f\">medium.py</span></a><span style=\"color: #7f7f7f; text-decoration-color: #7f7f7f\">:52</span>\n",
       "                    `Medium.frequency_range` = <span style=\"font-weight: bold\">(</span><span style=\"color: #008080; text-decoration-color: #008080; font-weight: bold\">-10000000000.0</span>, <span style=\"color: #008080; text-decoration-color: #008080; font-weight: bold\">10000000000.0</span><span style=\"font-weight: bold\">)</span>               \n",
       "</pre>\n"
      ],
      "text/plain": [
       "\u001b[2;36m          \u001b[0m\u001b[2;36m \u001b[0m\u001b[31mWARNING \u001b[0m frequency passed to `\u001b[1;35mMedium.eps_model\u001b[0m\u001b[1m(\u001b[0m\u001b[1m)\u001b[0m`is outside of        \u001b]8;id=111855;file:///Users/twhughes/Documents/Flexcompute/Tidy3D-client-revamp/notebooks/../tidy3d/components/medium.py\u001b\\\u001b[2mmedium.py\u001b[0m\u001b]8;;\u001b\\\u001b[2m:52\u001b[0m\n",
       "                    `Medium.frequency_range` = \u001b[1m(\u001b[0m\u001b[1;36m-10000000000.0\u001b[0m, \u001b[1;36m10000000000.0\u001b[0m\u001b[1m)\u001b[0m               \n"
      ]
     },
     "metadata": {},
     "output_type": "display_data"
    },
    {
     "data": {
      "text/html": [
       "<pre style=\"white-space:pre;overflow-x:auto;line-height:normal;font-family:Menlo,'DejaVu Sans Mono',consolas,'Courier New',monospace\"><span style=\"color: #7fbfbf; text-decoration-color: #7fbfbf\">           </span><span style=\"color: #800000; text-decoration-color: #800000\">WARNING </span> frequency passed to `<span style=\"color: #800080; text-decoration-color: #800080; font-weight: bold\">Medium.eps_model</span><span style=\"font-weight: bold\">()</span>`is outside of        <a href=\"file:///Users/twhughes/Documents/Flexcompute/Tidy3D-client-revamp/notebooks/../tidy3d/components/medium.py\"><span style=\"color: #7f7f7f; text-decoration-color: #7f7f7f\">medium.py</span></a><span style=\"color: #7f7f7f; text-decoration-color: #7f7f7f\">:52</span>\n",
       "                    `Medium.frequency_range` = <span style=\"font-weight: bold\">(</span><span style=\"color: #008080; text-decoration-color: #008080; font-weight: bold\">-10000000000.0</span>, <span style=\"color: #008080; text-decoration-color: #008080; font-weight: bold\">10000000000.0</span><span style=\"font-weight: bold\">)</span>               \n",
       "</pre>\n"
      ],
      "text/plain": [
       "\u001b[2;36m          \u001b[0m\u001b[2;36m \u001b[0m\u001b[31mWARNING \u001b[0m frequency passed to `\u001b[1;35mMedium.eps_model\u001b[0m\u001b[1m(\u001b[0m\u001b[1m)\u001b[0m`is outside of        \u001b]8;id=150678;file:///Users/twhughes/Documents/Flexcompute/Tidy3D-client-revamp/notebooks/../tidy3d/components/medium.py\u001b\\\u001b[2mmedium.py\u001b[0m\u001b]8;;\u001b\\\u001b[2m:52\u001b[0m\n",
       "                    `Medium.frequency_range` = \u001b[1m(\u001b[0m\u001b[1;36m-10000000000.0\u001b[0m, \u001b[1;36m10000000000.0\u001b[0m\u001b[1m)\u001b[0m               \n"
      ]
     },
     "metadata": {},
     "output_type": "display_data"
    },
    {
     "data": {
      "text/html": [
       "<pre style=\"white-space:pre;overflow-x:auto;line-height:normal;font-family:Menlo,'DejaVu Sans Mono',consolas,'Courier New',monospace\"><span style=\"color: #7fbfbf; text-decoration-color: #7fbfbf\">           </span><span style=\"color: #800000; text-decoration-color: #800000\">WARNING </span> frequency passed to `<span style=\"color: #800080; text-decoration-color: #800080; font-weight: bold\">Medium.eps_model</span><span style=\"font-weight: bold\">()</span>`is outside of        <a href=\"file:///Users/twhughes/Documents/Flexcompute/Tidy3D-client-revamp/notebooks/../tidy3d/components/medium.py\"><span style=\"color: #7f7f7f; text-decoration-color: #7f7f7f\">medium.py</span></a><span style=\"color: #7f7f7f; text-decoration-color: #7f7f7f\">:52</span>\n",
       "                    `Medium.frequency_range` = <span style=\"font-weight: bold\">(</span><span style=\"color: #008080; text-decoration-color: #008080; font-weight: bold\">-10000000000.0</span>, <span style=\"color: #008080; text-decoration-color: #008080; font-weight: bold\">10000000000.0</span><span style=\"font-weight: bold\">)</span>               \n",
       "</pre>\n"
      ],
      "text/plain": [
       "\u001b[2;36m          \u001b[0m\u001b[2;36m \u001b[0m\u001b[31mWARNING \u001b[0m frequency passed to `\u001b[1;35mMedium.eps_model\u001b[0m\u001b[1m(\u001b[0m\u001b[1m)\u001b[0m`is outside of        \u001b]8;id=919989;file:///Users/twhughes/Documents/Flexcompute/Tidy3D-client-revamp/notebooks/../tidy3d/components/medium.py\u001b\\\u001b[2mmedium.py\u001b[0m\u001b]8;;\u001b\\\u001b[2m:52\u001b[0m\n",
       "                    `Medium.frequency_range` = \u001b[1m(\u001b[0m\u001b[1;36m-10000000000.0\u001b[0m, \u001b[1;36m10000000000.0\u001b[0m\u001b[1m)\u001b[0m               \n"
      ]
     },
     "metadata": {},
     "output_type": "display_data"
    },
    {
     "data": {
      "text/html": [
       "<pre style=\"white-space:pre;overflow-x:auto;line-height:normal;font-family:Menlo,'DejaVu Sans Mono',consolas,'Courier New',monospace\"><span style=\"color: #7fbfbf; text-decoration-color: #7fbfbf\">           </span><span style=\"color: #800000; text-decoration-color: #800000\">WARNING </span> frequency passed to `<span style=\"color: #800080; text-decoration-color: #800080; font-weight: bold\">Medium.eps_model</span><span style=\"font-weight: bold\">()</span>`is outside of        <a href=\"file:///Users/twhughes/Documents/Flexcompute/Tidy3D-client-revamp/notebooks/../tidy3d/components/medium.py\"><span style=\"color: #7f7f7f; text-decoration-color: #7f7f7f\">medium.py</span></a><span style=\"color: #7f7f7f; text-decoration-color: #7f7f7f\">:52</span>\n",
       "                    `Medium.frequency_range` = <span style=\"font-weight: bold\">(</span><span style=\"color: #008080; text-decoration-color: #008080; font-weight: bold\">-10000000000.0</span>, <span style=\"color: #008080; text-decoration-color: #008080; font-weight: bold\">10000000000.0</span><span style=\"font-weight: bold\">)</span>               \n",
       "</pre>\n"
      ],
      "text/plain": [
       "\u001b[2;36m          \u001b[0m\u001b[2;36m \u001b[0m\u001b[31mWARNING \u001b[0m frequency passed to `\u001b[1;35mMedium.eps_model\u001b[0m\u001b[1m(\u001b[0m\u001b[1m)\u001b[0m`is outside of        \u001b]8;id=661564;file:///Users/twhughes/Documents/Flexcompute/Tidy3D-client-revamp/notebooks/../tidy3d/components/medium.py\u001b\\\u001b[2mmedium.py\u001b[0m\u001b]8;;\u001b\\\u001b[2m:52\u001b[0m\n",
       "                    `Medium.frequency_range` = \u001b[1m(\u001b[0m\u001b[1;36m-10000000000.0\u001b[0m, \u001b[1;36m10000000000.0\u001b[0m\u001b[1m)\u001b[0m               \n"
      ]
     },
     "metadata": {},
     "output_type": "display_data"
    },
    {
     "data": {
      "text/html": [
       "<pre style=\"white-space:pre;overflow-x:auto;line-height:normal;font-family:Menlo,'DejaVu Sans Mono',consolas,'Courier New',monospace\"><span style=\"color: #7fbfbf; text-decoration-color: #7fbfbf\">           </span><span style=\"color: #800000; text-decoration-color: #800000\">WARNING </span> frequency passed to `<span style=\"color: #800080; text-decoration-color: #800080; font-weight: bold\">Medium.eps_model</span><span style=\"font-weight: bold\">()</span>`is outside of        <a href=\"file:///Users/twhughes/Documents/Flexcompute/Tidy3D-client-revamp/notebooks/../tidy3d/components/medium.py\"><span style=\"color: #7f7f7f; text-decoration-color: #7f7f7f\">medium.py</span></a><span style=\"color: #7f7f7f; text-decoration-color: #7f7f7f\">:52</span>\n",
       "                    `Medium.frequency_range` = <span style=\"font-weight: bold\">(</span><span style=\"color: #008080; text-decoration-color: #008080; font-weight: bold\">-10000000000.0</span>, <span style=\"color: #008080; text-decoration-color: #008080; font-weight: bold\">10000000000.0</span><span style=\"font-weight: bold\">)</span>               \n",
       "</pre>\n"
      ],
      "text/plain": [
       "\u001b[2;36m          \u001b[0m\u001b[2;36m \u001b[0m\u001b[31mWARNING \u001b[0m frequency passed to `\u001b[1;35mMedium.eps_model\u001b[0m\u001b[1m(\u001b[0m\u001b[1m)\u001b[0m`is outside of        \u001b]8;id=383120;file:///Users/twhughes/Documents/Flexcompute/Tidy3D-client-revamp/notebooks/../tidy3d/components/medium.py\u001b\\\u001b[2mmedium.py\u001b[0m\u001b]8;;\u001b\\\u001b[2m:52\u001b[0m\n",
       "                    `Medium.frequency_range` = \u001b[1m(\u001b[0m\u001b[1;36m-10000000000.0\u001b[0m, \u001b[1;36m10000000000.0\u001b[0m\u001b[1m)\u001b[0m               \n"
      ]
     },
     "metadata": {},
     "output_type": "display_data"
    },
    {
     "data": {
      "text/html": [
       "<pre style=\"white-space:pre;overflow-x:auto;line-height:normal;font-family:Menlo,'DejaVu Sans Mono',consolas,'Courier New',monospace\"><span style=\"color: #7fbfbf; text-decoration-color: #7fbfbf\">           </span><span style=\"color: #800000; text-decoration-color: #800000\">WARNING </span> frequency passed to `<span style=\"color: #800080; text-decoration-color: #800080; font-weight: bold\">Medium.eps_model</span><span style=\"font-weight: bold\">()</span>`is outside of        <a href=\"file:///Users/twhughes/Documents/Flexcompute/Tidy3D-client-revamp/notebooks/../tidy3d/components/medium.py\"><span style=\"color: #7f7f7f; text-decoration-color: #7f7f7f\">medium.py</span></a><span style=\"color: #7f7f7f; text-decoration-color: #7f7f7f\">:52</span>\n",
       "                    `Medium.frequency_range` = <span style=\"font-weight: bold\">(</span><span style=\"color: #008080; text-decoration-color: #008080; font-weight: bold\">-10000000000.0</span>, <span style=\"color: #008080; text-decoration-color: #008080; font-weight: bold\">10000000000.0</span><span style=\"font-weight: bold\">)</span>               \n",
       "</pre>\n"
      ],
      "text/plain": [
       "\u001b[2;36m          \u001b[0m\u001b[2;36m \u001b[0m\u001b[31mWARNING \u001b[0m frequency passed to `\u001b[1;35mMedium.eps_model\u001b[0m\u001b[1m(\u001b[0m\u001b[1m)\u001b[0m`is outside of        \u001b]8;id=915763;file:///Users/twhughes/Documents/Flexcompute/Tidy3D-client-revamp/notebooks/../tidy3d/components/medium.py\u001b\\\u001b[2mmedium.py\u001b[0m\u001b]8;;\u001b\\\u001b[2m:52\u001b[0m\n",
       "                    `Medium.frequency_range` = \u001b[1m(\u001b[0m\u001b[1;36m-10000000000.0\u001b[0m, \u001b[1;36m10000000000.0\u001b[0m\u001b[1m)\u001b[0m               \n"
      ]
     },
     "metadata": {},
     "output_type": "display_data"
    },
    {
     "data": {
      "text/html": [
       "<pre style=\"white-space:pre;overflow-x:auto;line-height:normal;font-family:Menlo,'DejaVu Sans Mono',consolas,'Courier New',monospace\"><span style=\"color: #7fbfbf; text-decoration-color: #7fbfbf\">           </span><span style=\"color: #800000; text-decoration-color: #800000\">WARNING </span> frequency passed to `<span style=\"color: #800080; text-decoration-color: #800080; font-weight: bold\">Medium.eps_model</span><span style=\"font-weight: bold\">()</span>`is outside of        <a href=\"file:///Users/twhughes/Documents/Flexcompute/Tidy3D-client-revamp/notebooks/../tidy3d/components/medium.py\"><span style=\"color: #7f7f7f; text-decoration-color: #7f7f7f\">medium.py</span></a><span style=\"color: #7f7f7f; text-decoration-color: #7f7f7f\">:52</span>\n",
       "                    `Medium.frequency_range` = <span style=\"font-weight: bold\">(</span><span style=\"color: #008080; text-decoration-color: #008080; font-weight: bold\">-10000000000.0</span>, <span style=\"color: #008080; text-decoration-color: #008080; font-weight: bold\">10000000000.0</span><span style=\"font-weight: bold\">)</span>               \n",
       "</pre>\n"
      ],
      "text/plain": [
       "\u001b[2;36m          \u001b[0m\u001b[2;36m \u001b[0m\u001b[31mWARNING \u001b[0m frequency passed to `\u001b[1;35mMedium.eps_model\u001b[0m\u001b[1m(\u001b[0m\u001b[1m)\u001b[0m`is outside of        \u001b]8;id=207734;file:///Users/twhughes/Documents/Flexcompute/Tidy3D-client-revamp/notebooks/../tidy3d/components/medium.py\u001b\\\u001b[2mmedium.py\u001b[0m\u001b]8;;\u001b\\\u001b[2m:52\u001b[0m\n",
       "                    `Medium.frequency_range` = \u001b[1m(\u001b[0m\u001b[1;36m-10000000000.0\u001b[0m, \u001b[1;36m10000000000.0\u001b[0m\u001b[1m)\u001b[0m               \n"
      ]
     },
     "metadata": {},
     "output_type": "display_data"
    },
    {
     "data": {
      "text/html": [
       "<pre style=\"white-space:pre;overflow-x:auto;line-height:normal;font-family:Menlo,'DejaVu Sans Mono',consolas,'Courier New',monospace\"><span style=\"color: #7fbfbf; text-decoration-color: #7fbfbf\">           </span><span style=\"color: #800000; text-decoration-color: #800000\">WARNING </span> frequency passed to `<span style=\"color: #800080; text-decoration-color: #800080; font-weight: bold\">Medium.eps_model</span><span style=\"font-weight: bold\">()</span>`is outside of        <a href=\"file:///Users/twhughes/Documents/Flexcompute/Tidy3D-client-revamp/notebooks/../tidy3d/components/medium.py\"><span style=\"color: #7f7f7f; text-decoration-color: #7f7f7f\">medium.py</span></a><span style=\"color: #7f7f7f; text-decoration-color: #7f7f7f\">:52</span>\n",
       "                    `Medium.frequency_range` = <span style=\"font-weight: bold\">(</span><span style=\"color: #008080; text-decoration-color: #008080; font-weight: bold\">-10000000000.0</span>, <span style=\"color: #008080; text-decoration-color: #008080; font-weight: bold\">10000000000.0</span><span style=\"font-weight: bold\">)</span>               \n",
       "</pre>\n"
      ],
      "text/plain": [
       "\u001b[2;36m          \u001b[0m\u001b[2;36m \u001b[0m\u001b[31mWARNING \u001b[0m frequency passed to `\u001b[1;35mMedium.eps_model\u001b[0m\u001b[1m(\u001b[0m\u001b[1m)\u001b[0m`is outside of        \u001b]8;id=550542;file:///Users/twhughes/Documents/Flexcompute/Tidy3D-client-revamp/notebooks/../tidy3d/components/medium.py\u001b\\\u001b[2mmedium.py\u001b[0m\u001b]8;;\u001b\\\u001b[2m:52\u001b[0m\n",
       "                    `Medium.frequency_range` = \u001b[1m(\u001b[0m\u001b[1;36m-10000000000.0\u001b[0m, \u001b[1;36m10000000000.0\u001b[0m\u001b[1m)\u001b[0m               \n"
      ]
     },
     "metadata": {},
     "output_type": "display_data"
    },
    {
     "data": {
      "text/html": [
       "<pre style=\"white-space:pre;overflow-x:auto;line-height:normal;font-family:Menlo,'DejaVu Sans Mono',consolas,'Courier New',monospace\"><span style=\"color: #7fbfbf; text-decoration-color: #7fbfbf\">           </span><span style=\"color: #800000; text-decoration-color: #800000\">WARNING </span> frequency passed to `<span style=\"color: #800080; text-decoration-color: #800080; font-weight: bold\">Medium.eps_model</span><span style=\"font-weight: bold\">()</span>`is outside of        <a href=\"file:///Users/twhughes/Documents/Flexcompute/Tidy3D-client-revamp/notebooks/../tidy3d/components/medium.py\"><span style=\"color: #7f7f7f; text-decoration-color: #7f7f7f\">medium.py</span></a><span style=\"color: #7f7f7f; text-decoration-color: #7f7f7f\">:52</span>\n",
       "                    `Medium.frequency_range` = <span style=\"font-weight: bold\">(</span><span style=\"color: #008080; text-decoration-color: #008080; font-weight: bold\">-10000000000.0</span>, <span style=\"color: #008080; text-decoration-color: #008080; font-weight: bold\">10000000000.0</span><span style=\"font-weight: bold\">)</span>               \n",
       "</pre>\n"
      ],
      "text/plain": [
       "\u001b[2;36m          \u001b[0m\u001b[2;36m \u001b[0m\u001b[31mWARNING \u001b[0m frequency passed to `\u001b[1;35mMedium.eps_model\u001b[0m\u001b[1m(\u001b[0m\u001b[1m)\u001b[0m`is outside of        \u001b]8;id=760955;file:///Users/twhughes/Documents/Flexcompute/Tidy3D-client-revamp/notebooks/../tidy3d/components/medium.py\u001b\\\u001b[2mmedium.py\u001b[0m\u001b]8;;\u001b\\\u001b[2m:52\u001b[0m\n",
       "                    `Medium.frequency_range` = \u001b[1m(\u001b[0m\u001b[1;36m-10000000000.0\u001b[0m, \u001b[1;36m10000000000.0\u001b[0m\u001b[1m)\u001b[0m               \n"
      ]
     },
     "metadata": {},
     "output_type": "display_data"
    },
    {
     "data": {
      "text/html": [
       "<pre style=\"white-space:pre;overflow-x:auto;line-height:normal;font-family:Menlo,'DejaVu Sans Mono',consolas,'Courier New',monospace\"><span style=\"color: #7fbfbf; text-decoration-color: #7fbfbf\">           </span><span style=\"color: #800000; text-decoration-color: #800000\">WARNING </span> frequency passed to `<span style=\"color: #800080; text-decoration-color: #800080; font-weight: bold\">Medium.eps_model</span><span style=\"font-weight: bold\">()</span>`is outside of        <a href=\"file:///Users/twhughes/Documents/Flexcompute/Tidy3D-client-revamp/notebooks/../tidy3d/components/medium.py\"><span style=\"color: #7f7f7f; text-decoration-color: #7f7f7f\">medium.py</span></a><span style=\"color: #7f7f7f; text-decoration-color: #7f7f7f\">:52</span>\n",
       "                    `Medium.frequency_range` = <span style=\"font-weight: bold\">(</span><span style=\"color: #008080; text-decoration-color: #008080; font-weight: bold\">-10000000000.0</span>, <span style=\"color: #008080; text-decoration-color: #008080; font-weight: bold\">10000000000.0</span><span style=\"font-weight: bold\">)</span>               \n",
       "</pre>\n"
      ],
      "text/plain": [
       "\u001b[2;36m          \u001b[0m\u001b[2;36m \u001b[0m\u001b[31mWARNING \u001b[0m frequency passed to `\u001b[1;35mMedium.eps_model\u001b[0m\u001b[1m(\u001b[0m\u001b[1m)\u001b[0m`is outside of        \u001b]8;id=41539;file:///Users/twhughes/Documents/Flexcompute/Tidy3D-client-revamp/notebooks/../tidy3d/components/medium.py\u001b\\\u001b[2mmedium.py\u001b[0m\u001b]8;;\u001b\\\u001b[2m:52\u001b[0m\n",
       "                    `Medium.frequency_range` = \u001b[1m(\u001b[0m\u001b[1;36m-10000000000.0\u001b[0m, \u001b[1;36m10000000000.0\u001b[0m\u001b[1m)\u001b[0m               \n"
      ]
     },
     "metadata": {},
     "output_type": "display_data"
    },
    {
     "data": {
      "text/html": [
       "<pre style=\"white-space:pre;overflow-x:auto;line-height:normal;font-family:Menlo,'DejaVu Sans Mono',consolas,'Courier New',monospace\"><span style=\"color: #7fbfbf; text-decoration-color: #7fbfbf\">[15:12:44] </span><span style=\"color: #800000; text-decoration-color: #800000\">WARNING </span> frequency passed to `<span style=\"color: #800080; text-decoration-color: #800080; font-weight: bold\">Medium.eps_model</span><span style=\"font-weight: bold\">()</span>`is outside of        <a href=\"file:///Users/twhughes/Documents/Flexcompute/Tidy3D-client-revamp/notebooks/../tidy3d/components/medium.py\"><span style=\"color: #7f7f7f; text-decoration-color: #7f7f7f\">medium.py</span></a><span style=\"color: #7f7f7f; text-decoration-color: #7f7f7f\">:52</span>\n",
       "                    `Medium.frequency_range` = <span style=\"font-weight: bold\">(</span><span style=\"color: #008080; text-decoration-color: #008080; font-weight: bold\">-10000000000.0</span>, <span style=\"color: #008080; text-decoration-color: #008080; font-weight: bold\">10000000000.0</span><span style=\"font-weight: bold\">)</span>               \n",
       "</pre>\n"
      ],
      "text/plain": [
       "\u001b[2;36m[15:12:44]\u001b[0m\u001b[2;36m \u001b[0m\u001b[31mWARNING \u001b[0m frequency passed to `\u001b[1;35mMedium.eps_model\u001b[0m\u001b[1m(\u001b[0m\u001b[1m)\u001b[0m`is outside of        \u001b]8;id=255412;file:///Users/twhughes/Documents/Flexcompute/Tidy3D-client-revamp/notebooks/../tidy3d/components/medium.py\u001b\\\u001b[2mmedium.py\u001b[0m\u001b]8;;\u001b\\\u001b[2m:52\u001b[0m\n",
       "                    `Medium.frequency_range` = \u001b[1m(\u001b[0m\u001b[1;36m-10000000000.0\u001b[0m, \u001b[1;36m10000000000.0\u001b[0m\u001b[1m)\u001b[0m               \n"
      ]
     },
     "metadata": {},
     "output_type": "display_data"
    },
    {
     "data": {
      "text/html": [
       "<pre style=\"white-space:pre;overflow-x:auto;line-height:normal;font-family:Menlo,'DejaVu Sans Mono',consolas,'Courier New',monospace\"><span style=\"color: #7fbfbf; text-decoration-color: #7fbfbf\">           </span><span style=\"color: #800000; text-decoration-color: #800000\">WARNING </span> frequency passed to `<span style=\"color: #800080; text-decoration-color: #800080; font-weight: bold\">Medium.eps_model</span><span style=\"font-weight: bold\">()</span>`is outside of        <a href=\"file:///Users/twhughes/Documents/Flexcompute/Tidy3D-client-revamp/notebooks/../tidy3d/components/medium.py\"><span style=\"color: #7f7f7f; text-decoration-color: #7f7f7f\">medium.py</span></a><span style=\"color: #7f7f7f; text-decoration-color: #7f7f7f\">:52</span>\n",
       "                    `Medium.frequency_range` = <span style=\"font-weight: bold\">(</span><span style=\"color: #008080; text-decoration-color: #008080; font-weight: bold\">-10000000000.0</span>, <span style=\"color: #008080; text-decoration-color: #008080; font-weight: bold\">10000000000.0</span><span style=\"font-weight: bold\">)</span>               \n",
       "</pre>\n"
      ],
      "text/plain": [
       "\u001b[2;36m          \u001b[0m\u001b[2;36m \u001b[0m\u001b[31mWARNING \u001b[0m frequency passed to `\u001b[1;35mMedium.eps_model\u001b[0m\u001b[1m(\u001b[0m\u001b[1m)\u001b[0m`is outside of        \u001b]8;id=384356;file:///Users/twhughes/Documents/Flexcompute/Tidy3D-client-revamp/notebooks/../tidy3d/components/medium.py\u001b\\\u001b[2mmedium.py\u001b[0m\u001b]8;;\u001b\\\u001b[2m:52\u001b[0m\n",
       "                    `Medium.frequency_range` = \u001b[1m(\u001b[0m\u001b[1;36m-10000000000.0\u001b[0m, \u001b[1;36m10000000000.0\u001b[0m\u001b[1m)\u001b[0m               \n"
      ]
     },
     "metadata": {},
     "output_type": "display_data"
    },
    {
     "data": {
      "text/html": [
       "<pre style=\"white-space:pre;overflow-x:auto;line-height:normal;font-family:Menlo,'DejaVu Sans Mono',consolas,'Courier New',monospace\"><span style=\"color: #7fbfbf; text-decoration-color: #7fbfbf\">           </span><span style=\"color: #800000; text-decoration-color: #800000\">WARNING </span> frequency passed to `<span style=\"color: #800080; text-decoration-color: #800080; font-weight: bold\">Medium.eps_model</span><span style=\"font-weight: bold\">()</span>`is outside of        <a href=\"file:///Users/twhughes/Documents/Flexcompute/Tidy3D-client-revamp/notebooks/../tidy3d/components/medium.py\"><span style=\"color: #7f7f7f; text-decoration-color: #7f7f7f\">medium.py</span></a><span style=\"color: #7f7f7f; text-decoration-color: #7f7f7f\">:52</span>\n",
       "                    `Medium.frequency_range` = <span style=\"font-weight: bold\">(</span><span style=\"color: #008080; text-decoration-color: #008080; font-weight: bold\">-10000000000.0</span>, <span style=\"color: #008080; text-decoration-color: #008080; font-weight: bold\">10000000000.0</span><span style=\"font-weight: bold\">)</span>               \n",
       "</pre>\n"
      ],
      "text/plain": [
       "\u001b[2;36m          \u001b[0m\u001b[2;36m \u001b[0m\u001b[31mWARNING \u001b[0m frequency passed to `\u001b[1;35mMedium.eps_model\u001b[0m\u001b[1m(\u001b[0m\u001b[1m)\u001b[0m`is outside of        \u001b]8;id=269492;file:///Users/twhughes/Documents/Flexcompute/Tidy3D-client-revamp/notebooks/../tidy3d/components/medium.py\u001b\\\u001b[2mmedium.py\u001b[0m\u001b]8;;\u001b\\\u001b[2m:52\u001b[0m\n",
       "                    `Medium.frequency_range` = \u001b[1m(\u001b[0m\u001b[1;36m-10000000000.0\u001b[0m, \u001b[1;36m10000000000.0\u001b[0m\u001b[1m)\u001b[0m               \n"
      ]
     },
     "metadata": {},
     "output_type": "display_data"
    },
    {
     "data": {
      "text/html": [
       "<pre style=\"white-space:pre;overflow-x:auto;line-height:normal;font-family:Menlo,'DejaVu Sans Mono',consolas,'Courier New',monospace\"><span style=\"color: #7fbfbf; text-decoration-color: #7fbfbf\">           </span><span style=\"color: #800000; text-decoration-color: #800000\">WARNING </span> frequency passed to `<span style=\"color: #800080; text-decoration-color: #800080; font-weight: bold\">Medium.eps_model</span><span style=\"font-weight: bold\">()</span>`is outside of        <a href=\"file:///Users/twhughes/Documents/Flexcompute/Tidy3D-client-revamp/notebooks/../tidy3d/components/medium.py\"><span style=\"color: #7f7f7f; text-decoration-color: #7f7f7f\">medium.py</span></a><span style=\"color: #7f7f7f; text-decoration-color: #7f7f7f\">:52</span>\n",
       "                    `Medium.frequency_range` = <span style=\"font-weight: bold\">(</span><span style=\"color: #008080; text-decoration-color: #008080; font-weight: bold\">-10000000000.0</span>, <span style=\"color: #008080; text-decoration-color: #008080; font-weight: bold\">10000000000.0</span><span style=\"font-weight: bold\">)</span>               \n",
       "</pre>\n"
      ],
      "text/plain": [
       "\u001b[2;36m          \u001b[0m\u001b[2;36m \u001b[0m\u001b[31mWARNING \u001b[0m frequency passed to `\u001b[1;35mMedium.eps_model\u001b[0m\u001b[1m(\u001b[0m\u001b[1m)\u001b[0m`is outside of        \u001b]8;id=323601;file:///Users/twhughes/Documents/Flexcompute/Tidy3D-client-revamp/notebooks/../tidy3d/components/medium.py\u001b\\\u001b[2mmedium.py\u001b[0m\u001b]8;;\u001b\\\u001b[2m:52\u001b[0m\n",
       "                    `Medium.frequency_range` = \u001b[1m(\u001b[0m\u001b[1;36m-10000000000.0\u001b[0m, \u001b[1;36m10000000000.0\u001b[0m\u001b[1m)\u001b[0m               \n"
      ]
     },
     "metadata": {},
     "output_type": "display_data"
    },
    {
     "data": {
      "text/html": [
       "<pre style=\"white-space:pre;overflow-x:auto;line-height:normal;font-family:Menlo,'DejaVu Sans Mono',consolas,'Courier New',monospace\"><span style=\"color: #7fbfbf; text-decoration-color: #7fbfbf\">           </span><span style=\"color: #800000; text-decoration-color: #800000\">WARNING </span> frequency passed to `<span style=\"color: #800080; text-decoration-color: #800080; font-weight: bold\">Medium.eps_model</span><span style=\"font-weight: bold\">()</span>`is outside of        <a href=\"file:///Users/twhughes/Documents/Flexcompute/Tidy3D-client-revamp/notebooks/../tidy3d/components/medium.py\"><span style=\"color: #7f7f7f; text-decoration-color: #7f7f7f\">medium.py</span></a><span style=\"color: #7f7f7f; text-decoration-color: #7f7f7f\">:52</span>\n",
       "                    `Medium.frequency_range` = <span style=\"font-weight: bold\">(</span><span style=\"color: #008080; text-decoration-color: #008080; font-weight: bold\">-10000000000.0</span>, <span style=\"color: #008080; text-decoration-color: #008080; font-weight: bold\">10000000000.0</span><span style=\"font-weight: bold\">)</span>               \n",
       "</pre>\n"
      ],
      "text/plain": [
       "\u001b[2;36m          \u001b[0m\u001b[2;36m \u001b[0m\u001b[31mWARNING \u001b[0m frequency passed to `\u001b[1;35mMedium.eps_model\u001b[0m\u001b[1m(\u001b[0m\u001b[1m)\u001b[0m`is outside of        \u001b]8;id=470261;file:///Users/twhughes/Documents/Flexcompute/Tidy3D-client-revamp/notebooks/../tidy3d/components/medium.py\u001b\\\u001b[2mmedium.py\u001b[0m\u001b]8;;\u001b\\\u001b[2m:52\u001b[0m\n",
       "                    `Medium.frequency_range` = \u001b[1m(\u001b[0m\u001b[1;36m-10000000000.0\u001b[0m, \u001b[1;36m10000000000.0\u001b[0m\u001b[1m)\u001b[0m               \n"
      ]
     },
     "metadata": {},
     "output_type": "display_data"
    },
    {
     "data": {
      "text/html": [
       "<pre style=\"white-space:pre;overflow-x:auto;line-height:normal;font-family:Menlo,'DejaVu Sans Mono',consolas,'Courier New',monospace\"><span style=\"color: #7fbfbf; text-decoration-color: #7fbfbf\">           </span><span style=\"color: #800000; text-decoration-color: #800000\">WARNING </span> frequency passed to `<span style=\"color: #800080; text-decoration-color: #800080; font-weight: bold\">Medium.eps_model</span><span style=\"font-weight: bold\">()</span>`is outside of        <a href=\"file:///Users/twhughes/Documents/Flexcompute/Tidy3D-client-revamp/notebooks/../tidy3d/components/medium.py\"><span style=\"color: #7f7f7f; text-decoration-color: #7f7f7f\">medium.py</span></a><span style=\"color: #7f7f7f; text-decoration-color: #7f7f7f\">:52</span>\n",
       "                    `Medium.frequency_range` = <span style=\"font-weight: bold\">(</span><span style=\"color: #008080; text-decoration-color: #008080; font-weight: bold\">-10000000000.0</span>, <span style=\"color: #008080; text-decoration-color: #008080; font-weight: bold\">10000000000.0</span><span style=\"font-weight: bold\">)</span>               \n",
       "</pre>\n"
      ],
      "text/plain": [
       "\u001b[2;36m          \u001b[0m\u001b[2;36m \u001b[0m\u001b[31mWARNING \u001b[0m frequency passed to `\u001b[1;35mMedium.eps_model\u001b[0m\u001b[1m(\u001b[0m\u001b[1m)\u001b[0m`is outside of        \u001b]8;id=20285;file:///Users/twhughes/Documents/Flexcompute/Tidy3D-client-revamp/notebooks/../tidy3d/components/medium.py\u001b\\\u001b[2mmedium.py\u001b[0m\u001b]8;;\u001b\\\u001b[2m:52\u001b[0m\n",
       "                    `Medium.frequency_range` = \u001b[1m(\u001b[0m\u001b[1;36m-10000000000.0\u001b[0m, \u001b[1;36m10000000000.0\u001b[0m\u001b[1m)\u001b[0m               \n"
      ]
     },
     "metadata": {},
     "output_type": "display_data"
    },
    {
     "data": {
      "text/html": [
       "<pre style=\"white-space:pre;overflow-x:auto;line-height:normal;font-family:Menlo,'DejaVu Sans Mono',consolas,'Courier New',monospace\"><span style=\"color: #7fbfbf; text-decoration-color: #7fbfbf\">           </span><span style=\"color: #800000; text-decoration-color: #800000\">WARNING </span> frequency passed to `<span style=\"color: #800080; text-decoration-color: #800080; font-weight: bold\">Medium.eps_model</span><span style=\"font-weight: bold\">()</span>`is outside of        <a href=\"file:///Users/twhughes/Documents/Flexcompute/Tidy3D-client-revamp/notebooks/../tidy3d/components/medium.py\"><span style=\"color: #7f7f7f; text-decoration-color: #7f7f7f\">medium.py</span></a><span style=\"color: #7f7f7f; text-decoration-color: #7f7f7f\">:52</span>\n",
       "                    `Medium.frequency_range` = <span style=\"font-weight: bold\">(</span><span style=\"color: #008080; text-decoration-color: #008080; font-weight: bold\">-10000000000.0</span>, <span style=\"color: #008080; text-decoration-color: #008080; font-weight: bold\">10000000000.0</span><span style=\"font-weight: bold\">)</span>               \n",
       "</pre>\n"
      ],
      "text/plain": [
       "\u001b[2;36m          \u001b[0m\u001b[2;36m \u001b[0m\u001b[31mWARNING \u001b[0m frequency passed to `\u001b[1;35mMedium.eps_model\u001b[0m\u001b[1m(\u001b[0m\u001b[1m)\u001b[0m`is outside of        \u001b]8;id=146375;file:///Users/twhughes/Documents/Flexcompute/Tidy3D-client-revamp/notebooks/../tidy3d/components/medium.py\u001b\\\u001b[2mmedium.py\u001b[0m\u001b]8;;\u001b\\\u001b[2m:52\u001b[0m\n",
       "                    `Medium.frequency_range` = \u001b[1m(\u001b[0m\u001b[1;36m-10000000000.0\u001b[0m, \u001b[1;36m10000000000.0\u001b[0m\u001b[1m)\u001b[0m               \n"
      ]
     },
     "metadata": {},
     "output_type": "display_data"
    },
    {
     "data": {
      "text/html": [
       "<pre style=\"white-space:pre;overflow-x:auto;line-height:normal;font-family:Menlo,'DejaVu Sans Mono',consolas,'Courier New',monospace\"><span style=\"color: #7fbfbf; text-decoration-color: #7fbfbf\">           </span><span style=\"color: #800000; text-decoration-color: #800000\">WARNING </span> frequency passed to `<span style=\"color: #800080; text-decoration-color: #800080; font-weight: bold\">Medium.eps_model</span><span style=\"font-weight: bold\">()</span>`is outside of        <a href=\"file:///Users/twhughes/Documents/Flexcompute/Tidy3D-client-revamp/notebooks/../tidy3d/components/medium.py\"><span style=\"color: #7f7f7f; text-decoration-color: #7f7f7f\">medium.py</span></a><span style=\"color: #7f7f7f; text-decoration-color: #7f7f7f\">:52</span>\n",
       "                    `Medium.frequency_range` = <span style=\"font-weight: bold\">(</span><span style=\"color: #008080; text-decoration-color: #008080; font-weight: bold\">-10000000000.0</span>, <span style=\"color: #008080; text-decoration-color: #008080; font-weight: bold\">10000000000.0</span><span style=\"font-weight: bold\">)</span>               \n",
       "</pre>\n"
      ],
      "text/plain": [
       "\u001b[2;36m          \u001b[0m\u001b[2;36m \u001b[0m\u001b[31mWARNING \u001b[0m frequency passed to `\u001b[1;35mMedium.eps_model\u001b[0m\u001b[1m(\u001b[0m\u001b[1m)\u001b[0m`is outside of        \u001b]8;id=338015;file:///Users/twhughes/Documents/Flexcompute/Tidy3D-client-revamp/notebooks/../tidy3d/components/medium.py\u001b\\\u001b[2mmedium.py\u001b[0m\u001b]8;;\u001b\\\u001b[2m:52\u001b[0m\n",
       "                    `Medium.frequency_range` = \u001b[1m(\u001b[0m\u001b[1;36m-10000000000.0\u001b[0m, \u001b[1;36m10000000000.0\u001b[0m\u001b[1m)\u001b[0m               \n"
      ]
     },
     "metadata": {},
     "output_type": "display_data"
    },
    {
     "data": {
      "text/html": [
       "<pre style=\"white-space:pre;overflow-x:auto;line-height:normal;font-family:Menlo,'DejaVu Sans Mono',consolas,'Courier New',monospace\"><span style=\"color: #7fbfbf; text-decoration-color: #7fbfbf\">           </span><span style=\"color: #800000; text-decoration-color: #800000\">WARNING </span> frequency passed to `<span style=\"color: #800080; text-decoration-color: #800080; font-weight: bold\">Medium.eps_model</span><span style=\"font-weight: bold\">()</span>`is outside of        <a href=\"file:///Users/twhughes/Documents/Flexcompute/Tidy3D-client-revamp/notebooks/../tidy3d/components/medium.py\"><span style=\"color: #7f7f7f; text-decoration-color: #7f7f7f\">medium.py</span></a><span style=\"color: #7f7f7f; text-decoration-color: #7f7f7f\">:52</span>\n",
       "                    `Medium.frequency_range` = <span style=\"font-weight: bold\">(</span><span style=\"color: #008080; text-decoration-color: #008080; font-weight: bold\">-10000000000.0</span>, <span style=\"color: #008080; text-decoration-color: #008080; font-weight: bold\">10000000000.0</span><span style=\"font-weight: bold\">)</span>               \n",
       "</pre>\n"
      ],
      "text/plain": [
       "\u001b[2;36m          \u001b[0m\u001b[2;36m \u001b[0m\u001b[31mWARNING \u001b[0m frequency passed to `\u001b[1;35mMedium.eps_model\u001b[0m\u001b[1m(\u001b[0m\u001b[1m)\u001b[0m`is outside of        \u001b]8;id=73583;file:///Users/twhughes/Documents/Flexcompute/Tidy3D-client-revamp/notebooks/../tidy3d/components/medium.py\u001b\\\u001b[2mmedium.py\u001b[0m\u001b]8;;\u001b\\\u001b[2m:52\u001b[0m\n",
       "                    `Medium.frequency_range` = \u001b[1m(\u001b[0m\u001b[1;36m-10000000000.0\u001b[0m, \u001b[1;36m10000000000.0\u001b[0m\u001b[1m)\u001b[0m               \n"
      ]
     },
     "metadata": {},
     "output_type": "display_data"
    },
    {
     "data": {
      "text/html": [
       "<pre style=\"white-space:pre;overflow-x:auto;line-height:normal;font-family:Menlo,'DejaVu Sans Mono',consolas,'Courier New',monospace\"><span style=\"color: #7fbfbf; text-decoration-color: #7fbfbf\">           </span><span style=\"color: #800000; text-decoration-color: #800000\">WARNING </span> frequency passed to `<span style=\"color: #800080; text-decoration-color: #800080; font-weight: bold\">Medium.eps_model</span><span style=\"font-weight: bold\">()</span>`is outside of        <a href=\"file:///Users/twhughes/Documents/Flexcompute/Tidy3D-client-revamp/notebooks/../tidy3d/components/medium.py\"><span style=\"color: #7f7f7f; text-decoration-color: #7f7f7f\">medium.py</span></a><span style=\"color: #7f7f7f; text-decoration-color: #7f7f7f\">:52</span>\n",
       "                    `Medium.frequency_range` = <span style=\"font-weight: bold\">(</span><span style=\"color: #008080; text-decoration-color: #008080; font-weight: bold\">-10000000000.0</span>, <span style=\"color: #008080; text-decoration-color: #008080; font-weight: bold\">10000000000.0</span><span style=\"font-weight: bold\">)</span>               \n",
       "</pre>\n"
      ],
      "text/plain": [
       "\u001b[2;36m          \u001b[0m\u001b[2;36m \u001b[0m\u001b[31mWARNING \u001b[0m frequency passed to `\u001b[1;35mMedium.eps_model\u001b[0m\u001b[1m(\u001b[0m\u001b[1m)\u001b[0m`is outside of        \u001b]8;id=566342;file:///Users/twhughes/Documents/Flexcompute/Tidy3D-client-revamp/notebooks/../tidy3d/components/medium.py\u001b\\\u001b[2mmedium.py\u001b[0m\u001b]8;;\u001b\\\u001b[2m:52\u001b[0m\n",
       "                    `Medium.frequency_range` = \u001b[1m(\u001b[0m\u001b[1;36m-10000000000.0\u001b[0m, \u001b[1;36m10000000000.0\u001b[0m\u001b[1m)\u001b[0m               \n"
      ]
     },
     "metadata": {},
     "output_type": "display_data"
    },
    {
     "data": {
      "text/html": [
       "<pre style=\"white-space:pre;overflow-x:auto;line-height:normal;font-family:Menlo,'DejaVu Sans Mono',consolas,'Courier New',monospace\"><span style=\"color: #7fbfbf; text-decoration-color: #7fbfbf\">           </span><span style=\"color: #800000; text-decoration-color: #800000\">WARNING </span> frequency passed to `<span style=\"color: #800080; text-decoration-color: #800080; font-weight: bold\">Medium.eps_model</span><span style=\"font-weight: bold\">()</span>`is outside of        <a href=\"file:///Users/twhughes/Documents/Flexcompute/Tidy3D-client-revamp/notebooks/../tidy3d/components/medium.py\"><span style=\"color: #7f7f7f; text-decoration-color: #7f7f7f\">medium.py</span></a><span style=\"color: #7f7f7f; text-decoration-color: #7f7f7f\">:52</span>\n",
       "                    `Medium.frequency_range` = <span style=\"font-weight: bold\">(</span><span style=\"color: #008080; text-decoration-color: #008080; font-weight: bold\">-10000000000.0</span>, <span style=\"color: #008080; text-decoration-color: #008080; font-weight: bold\">10000000000.0</span><span style=\"font-weight: bold\">)</span>               \n",
       "</pre>\n"
      ],
      "text/plain": [
       "\u001b[2;36m          \u001b[0m\u001b[2;36m \u001b[0m\u001b[31mWARNING \u001b[0m frequency passed to `\u001b[1;35mMedium.eps_model\u001b[0m\u001b[1m(\u001b[0m\u001b[1m)\u001b[0m`is outside of        \u001b]8;id=796192;file:///Users/twhughes/Documents/Flexcompute/Tidy3D-client-revamp/notebooks/../tidy3d/components/medium.py\u001b\\\u001b[2mmedium.py\u001b[0m\u001b]8;;\u001b\\\u001b[2m:52\u001b[0m\n",
       "                    `Medium.frequency_range` = \u001b[1m(\u001b[0m\u001b[1;36m-10000000000.0\u001b[0m, \u001b[1;36m10000000000.0\u001b[0m\u001b[1m)\u001b[0m               \n"
      ]
     },
     "metadata": {},
     "output_type": "display_data"
    },
    {
     "data": {
      "text/html": [
       "<pre style=\"white-space:pre;overflow-x:auto;line-height:normal;font-family:Menlo,'DejaVu Sans Mono',consolas,'Courier New',monospace\"><span style=\"color: #7fbfbf; text-decoration-color: #7fbfbf\">           </span><span style=\"color: #800000; text-decoration-color: #800000\">WARNING </span> frequency passed to `<span style=\"color: #800080; text-decoration-color: #800080; font-weight: bold\">Medium.eps_model</span><span style=\"font-weight: bold\">()</span>`is outside of        <a href=\"file:///Users/twhughes/Documents/Flexcompute/Tidy3D-client-revamp/notebooks/../tidy3d/components/medium.py\"><span style=\"color: #7f7f7f; text-decoration-color: #7f7f7f\">medium.py</span></a><span style=\"color: #7f7f7f; text-decoration-color: #7f7f7f\">:52</span>\n",
       "                    `Medium.frequency_range` = <span style=\"font-weight: bold\">(</span><span style=\"color: #008080; text-decoration-color: #008080; font-weight: bold\">-10000000000.0</span>, <span style=\"color: #008080; text-decoration-color: #008080; font-weight: bold\">10000000000.0</span><span style=\"font-weight: bold\">)</span>               \n",
       "</pre>\n"
      ],
      "text/plain": [
       "\u001b[2;36m          \u001b[0m\u001b[2;36m \u001b[0m\u001b[31mWARNING \u001b[0m frequency passed to `\u001b[1;35mMedium.eps_model\u001b[0m\u001b[1m(\u001b[0m\u001b[1m)\u001b[0m`is outside of        \u001b]8;id=277089;file:///Users/twhughes/Documents/Flexcompute/Tidy3D-client-revamp/notebooks/../tidy3d/components/medium.py\u001b\\\u001b[2mmedium.py\u001b[0m\u001b]8;;\u001b\\\u001b[2m:52\u001b[0m\n",
       "                    `Medium.frequency_range` = \u001b[1m(\u001b[0m\u001b[1;36m-10000000000.0\u001b[0m, \u001b[1;36m10000000000.0\u001b[0m\u001b[1m)\u001b[0m               \n"
      ]
     },
     "metadata": {},
     "output_type": "display_data"
    },
    {
     "data": {
      "text/html": [
       "<pre style=\"white-space:pre;overflow-x:auto;line-height:normal;font-family:Menlo,'DejaVu Sans Mono',consolas,'Courier New',monospace\"><span style=\"color: #7fbfbf; text-decoration-color: #7fbfbf\">           </span><span style=\"color: #800000; text-decoration-color: #800000\">WARNING </span> frequency passed to `<span style=\"color: #800080; text-decoration-color: #800080; font-weight: bold\">Medium.eps_model</span><span style=\"font-weight: bold\">()</span>`is outside of        <a href=\"file:///Users/twhughes/Documents/Flexcompute/Tidy3D-client-revamp/notebooks/../tidy3d/components/medium.py\"><span style=\"color: #7f7f7f; text-decoration-color: #7f7f7f\">medium.py</span></a><span style=\"color: #7f7f7f; text-decoration-color: #7f7f7f\">:52</span>\n",
       "                    `Medium.frequency_range` = <span style=\"font-weight: bold\">(</span><span style=\"color: #008080; text-decoration-color: #008080; font-weight: bold\">-10000000000.0</span>, <span style=\"color: #008080; text-decoration-color: #008080; font-weight: bold\">10000000000.0</span><span style=\"font-weight: bold\">)</span>               \n",
       "</pre>\n"
      ],
      "text/plain": [
       "\u001b[2;36m          \u001b[0m\u001b[2;36m \u001b[0m\u001b[31mWARNING \u001b[0m frequency passed to `\u001b[1;35mMedium.eps_model\u001b[0m\u001b[1m(\u001b[0m\u001b[1m)\u001b[0m`is outside of        \u001b]8;id=151999;file:///Users/twhughes/Documents/Flexcompute/Tidy3D-client-revamp/notebooks/../tidy3d/components/medium.py\u001b\\\u001b[2mmedium.py\u001b[0m\u001b]8;;\u001b\\\u001b[2m:52\u001b[0m\n",
       "                    `Medium.frequency_range` = \u001b[1m(\u001b[0m\u001b[1;36m-10000000000.0\u001b[0m, \u001b[1;36m10000000000.0\u001b[0m\u001b[1m)\u001b[0m               \n"
      ]
     },
     "metadata": {},
     "output_type": "display_data"
    },
    {
     "data": {
      "text/html": [
       "<pre style=\"white-space:pre;overflow-x:auto;line-height:normal;font-family:Menlo,'DejaVu Sans Mono',consolas,'Courier New',monospace\"><span style=\"color: #7fbfbf; text-decoration-color: #7fbfbf\">           </span><span style=\"color: #800000; text-decoration-color: #800000\">WARNING </span> frequency passed to `<span style=\"color: #800080; text-decoration-color: #800080; font-weight: bold\">Medium.eps_model</span><span style=\"font-weight: bold\">()</span>`is outside of        <a href=\"file:///Users/twhughes/Documents/Flexcompute/Tidy3D-client-revamp/notebooks/../tidy3d/components/medium.py\"><span style=\"color: #7f7f7f; text-decoration-color: #7f7f7f\">medium.py</span></a><span style=\"color: #7f7f7f; text-decoration-color: #7f7f7f\">:52</span>\n",
       "                    `Medium.frequency_range` = <span style=\"font-weight: bold\">(</span><span style=\"color: #008080; text-decoration-color: #008080; font-weight: bold\">-10000000000.0</span>, <span style=\"color: #008080; text-decoration-color: #008080; font-weight: bold\">10000000000.0</span><span style=\"font-weight: bold\">)</span>               \n",
       "</pre>\n"
      ],
      "text/plain": [
       "\u001b[2;36m          \u001b[0m\u001b[2;36m \u001b[0m\u001b[31mWARNING \u001b[0m frequency passed to `\u001b[1;35mMedium.eps_model\u001b[0m\u001b[1m(\u001b[0m\u001b[1m)\u001b[0m`is outside of        \u001b]8;id=81082;file:///Users/twhughes/Documents/Flexcompute/Tidy3D-client-revamp/notebooks/../tidy3d/components/medium.py\u001b\\\u001b[2mmedium.py\u001b[0m\u001b]8;;\u001b\\\u001b[2m:52\u001b[0m\n",
       "                    `Medium.frequency_range` = \u001b[1m(\u001b[0m\u001b[1;36m-10000000000.0\u001b[0m, \u001b[1;36m10000000000.0\u001b[0m\u001b[1m)\u001b[0m               \n"
      ]
     },
     "metadata": {},
     "output_type": "display_data"
    },
    {
     "data": {
      "text/html": [
       "<pre style=\"white-space:pre;overflow-x:auto;line-height:normal;font-family:Menlo,'DejaVu Sans Mono',consolas,'Courier New',monospace\"><span style=\"color: #7fbfbf; text-decoration-color: #7fbfbf\">           </span><span style=\"color: #800000; text-decoration-color: #800000\">WARNING </span> frequency passed to `<span style=\"color: #800080; text-decoration-color: #800080; font-weight: bold\">Medium.eps_model</span><span style=\"font-weight: bold\">()</span>`is outside of        <a href=\"file:///Users/twhughes/Documents/Flexcompute/Tidy3D-client-revamp/notebooks/../tidy3d/components/medium.py\"><span style=\"color: #7f7f7f; text-decoration-color: #7f7f7f\">medium.py</span></a><span style=\"color: #7f7f7f; text-decoration-color: #7f7f7f\">:52</span>\n",
       "                    `Medium.frequency_range` = <span style=\"font-weight: bold\">(</span><span style=\"color: #008080; text-decoration-color: #008080; font-weight: bold\">-10000000000.0</span>, <span style=\"color: #008080; text-decoration-color: #008080; font-weight: bold\">10000000000.0</span><span style=\"font-weight: bold\">)</span>               \n",
       "</pre>\n"
      ],
      "text/plain": [
       "\u001b[2;36m          \u001b[0m\u001b[2;36m \u001b[0m\u001b[31mWARNING \u001b[0m frequency passed to `\u001b[1;35mMedium.eps_model\u001b[0m\u001b[1m(\u001b[0m\u001b[1m)\u001b[0m`is outside of        \u001b]8;id=966239;file:///Users/twhughes/Documents/Flexcompute/Tidy3D-client-revamp/notebooks/../tidy3d/components/medium.py\u001b\\\u001b[2mmedium.py\u001b[0m\u001b]8;;\u001b\\\u001b[2m:52\u001b[0m\n",
       "                    `Medium.frequency_range` = \u001b[1m(\u001b[0m\u001b[1;36m-10000000000.0\u001b[0m, \u001b[1;36m10000000000.0\u001b[0m\u001b[1m)\u001b[0m               \n"
      ]
     },
     "metadata": {},
     "output_type": "display_data"
    },
    {
     "data": {
      "text/html": [
       "<pre style=\"white-space:pre;overflow-x:auto;line-height:normal;font-family:Menlo,'DejaVu Sans Mono',consolas,'Courier New',monospace\"><span style=\"color: #7fbfbf; text-decoration-color: #7fbfbf\">           </span><span style=\"color: #800000; text-decoration-color: #800000\">WARNING </span> frequency passed to `<span style=\"color: #800080; text-decoration-color: #800080; font-weight: bold\">Medium.eps_model</span><span style=\"font-weight: bold\">()</span>`is outside of        <a href=\"file:///Users/twhughes/Documents/Flexcompute/Tidy3D-client-revamp/notebooks/../tidy3d/components/medium.py\"><span style=\"color: #7f7f7f; text-decoration-color: #7f7f7f\">medium.py</span></a><span style=\"color: #7f7f7f; text-decoration-color: #7f7f7f\">:52</span>\n",
       "                    `Medium.frequency_range` = <span style=\"font-weight: bold\">(</span><span style=\"color: #008080; text-decoration-color: #008080; font-weight: bold\">-10000000000.0</span>, <span style=\"color: #008080; text-decoration-color: #008080; font-weight: bold\">10000000000.0</span><span style=\"font-weight: bold\">)</span>               \n",
       "</pre>\n"
      ],
      "text/plain": [
       "\u001b[2;36m          \u001b[0m\u001b[2;36m \u001b[0m\u001b[31mWARNING \u001b[0m frequency passed to `\u001b[1;35mMedium.eps_model\u001b[0m\u001b[1m(\u001b[0m\u001b[1m)\u001b[0m`is outside of        \u001b]8;id=911401;file:///Users/twhughes/Documents/Flexcompute/Tidy3D-client-revamp/notebooks/../tidy3d/components/medium.py\u001b\\\u001b[2mmedium.py\u001b[0m\u001b]8;;\u001b\\\u001b[2m:52\u001b[0m\n",
       "                    `Medium.frequency_range` = \u001b[1m(\u001b[0m\u001b[1;36m-10000000000.0\u001b[0m, \u001b[1;36m10000000000.0\u001b[0m\u001b[1m)\u001b[0m               \n"
      ]
     },
     "metadata": {},
     "output_type": "display_data"
    },
    {
     "data": {
      "text/html": [
       "<pre style=\"white-space:pre;overflow-x:auto;line-height:normal;font-family:Menlo,'DejaVu Sans Mono',consolas,'Courier New',monospace\"><span style=\"color: #7fbfbf; text-decoration-color: #7fbfbf\">           </span><span style=\"color: #800000; text-decoration-color: #800000\">WARNING </span> frequency passed to `<span style=\"color: #800080; text-decoration-color: #800080; font-weight: bold\">Medium.eps_model</span><span style=\"font-weight: bold\">()</span>`is outside of        <a href=\"file:///Users/twhughes/Documents/Flexcompute/Tidy3D-client-revamp/notebooks/../tidy3d/components/medium.py\"><span style=\"color: #7f7f7f; text-decoration-color: #7f7f7f\">medium.py</span></a><span style=\"color: #7f7f7f; text-decoration-color: #7f7f7f\">:52</span>\n",
       "                    `Medium.frequency_range` = <span style=\"font-weight: bold\">(</span><span style=\"color: #008080; text-decoration-color: #008080; font-weight: bold\">-10000000000.0</span>, <span style=\"color: #008080; text-decoration-color: #008080; font-weight: bold\">10000000000.0</span><span style=\"font-weight: bold\">)</span>               \n",
       "</pre>\n"
      ],
      "text/plain": [
       "\u001b[2;36m          \u001b[0m\u001b[2;36m \u001b[0m\u001b[31mWARNING \u001b[0m frequency passed to `\u001b[1;35mMedium.eps_model\u001b[0m\u001b[1m(\u001b[0m\u001b[1m)\u001b[0m`is outside of        \u001b]8;id=196705;file:///Users/twhughes/Documents/Flexcompute/Tidy3D-client-revamp/notebooks/../tidy3d/components/medium.py\u001b\\\u001b[2mmedium.py\u001b[0m\u001b]8;;\u001b\\\u001b[2m:52\u001b[0m\n",
       "                    `Medium.frequency_range` = \u001b[1m(\u001b[0m\u001b[1;36m-10000000000.0\u001b[0m, \u001b[1;36m10000000000.0\u001b[0m\u001b[1m)\u001b[0m               \n"
      ]
     },
     "metadata": {},
     "output_type": "display_data"
    },
    {
     "data": {
      "text/html": [
       "<pre style=\"white-space:pre;overflow-x:auto;line-height:normal;font-family:Menlo,'DejaVu Sans Mono',consolas,'Courier New',monospace\"><span style=\"color: #7fbfbf; text-decoration-color: #7fbfbf\">[15:12:45] </span><span style=\"color: #800000; text-decoration-color: #800000\">WARNING </span> frequency passed to `<span style=\"color: #800080; text-decoration-color: #800080; font-weight: bold\">Medium.eps_model</span><span style=\"font-weight: bold\">()</span>`is outside of        <a href=\"file:///Users/twhughes/Documents/Flexcompute/Tidy3D-client-revamp/notebooks/../tidy3d/components/medium.py\"><span style=\"color: #7f7f7f; text-decoration-color: #7f7f7f\">medium.py</span></a><span style=\"color: #7f7f7f; text-decoration-color: #7f7f7f\">:52</span>\n",
       "                    `Medium.frequency_range` = <span style=\"font-weight: bold\">(</span><span style=\"color: #008080; text-decoration-color: #008080; font-weight: bold\">-10000000000.0</span>, <span style=\"color: #008080; text-decoration-color: #008080; font-weight: bold\">10000000000.0</span><span style=\"font-weight: bold\">)</span>               \n",
       "</pre>\n"
      ],
      "text/plain": [
       "\u001b[2;36m[15:12:45]\u001b[0m\u001b[2;36m \u001b[0m\u001b[31mWARNING \u001b[0m frequency passed to `\u001b[1;35mMedium.eps_model\u001b[0m\u001b[1m(\u001b[0m\u001b[1m)\u001b[0m`is outside of        \u001b]8;id=926255;file:///Users/twhughes/Documents/Flexcompute/Tidy3D-client-revamp/notebooks/../tidy3d/components/medium.py\u001b\\\u001b[2mmedium.py\u001b[0m\u001b]8;;\u001b\\\u001b[2m:52\u001b[0m\n",
       "                    `Medium.frequency_range` = \u001b[1m(\u001b[0m\u001b[1;36m-10000000000.0\u001b[0m, \u001b[1;36m10000000000.0\u001b[0m\u001b[1m)\u001b[0m               \n"
      ]
     },
     "metadata": {},
     "output_type": "display_data"
    },
    {
     "data": {
      "text/html": [
       "<pre style=\"white-space:pre;overflow-x:auto;line-height:normal;font-family:Menlo,'DejaVu Sans Mono',consolas,'Courier New',monospace\"><span style=\"color: #7fbfbf; text-decoration-color: #7fbfbf\">           </span><span style=\"color: #800000; text-decoration-color: #800000\">WARNING </span> frequency passed to `<span style=\"color: #800080; text-decoration-color: #800080; font-weight: bold\">Medium.eps_model</span><span style=\"font-weight: bold\">()</span>`is outside of        <a href=\"file:///Users/twhughes/Documents/Flexcompute/Tidy3D-client-revamp/notebooks/../tidy3d/components/medium.py\"><span style=\"color: #7f7f7f; text-decoration-color: #7f7f7f\">medium.py</span></a><span style=\"color: #7f7f7f; text-decoration-color: #7f7f7f\">:52</span>\n",
       "                    `Medium.frequency_range` = <span style=\"font-weight: bold\">(</span><span style=\"color: #008080; text-decoration-color: #008080; font-weight: bold\">-10000000000.0</span>, <span style=\"color: #008080; text-decoration-color: #008080; font-weight: bold\">10000000000.0</span><span style=\"font-weight: bold\">)</span>               \n",
       "</pre>\n"
      ],
      "text/plain": [
       "\u001b[2;36m          \u001b[0m\u001b[2;36m \u001b[0m\u001b[31mWARNING \u001b[0m frequency passed to `\u001b[1;35mMedium.eps_model\u001b[0m\u001b[1m(\u001b[0m\u001b[1m)\u001b[0m`is outside of        \u001b]8;id=89470;file:///Users/twhughes/Documents/Flexcompute/Tidy3D-client-revamp/notebooks/../tidy3d/components/medium.py\u001b\\\u001b[2mmedium.py\u001b[0m\u001b]8;;\u001b\\\u001b[2m:52\u001b[0m\n",
       "                    `Medium.frequency_range` = \u001b[1m(\u001b[0m\u001b[1;36m-10000000000.0\u001b[0m, \u001b[1;36m10000000000.0\u001b[0m\u001b[1m)\u001b[0m               \n"
      ]
     },
     "metadata": {},
     "output_type": "display_data"
    },
    {
     "data": {
      "text/html": [
       "<pre style=\"white-space:pre;overflow-x:auto;line-height:normal;font-family:Menlo,'DejaVu Sans Mono',consolas,'Courier New',monospace\"><span style=\"color: #7fbfbf; text-decoration-color: #7fbfbf\">           </span><span style=\"color: #800000; text-decoration-color: #800000\">WARNING </span> frequency passed to `<span style=\"color: #800080; text-decoration-color: #800080; font-weight: bold\">Medium.eps_model</span><span style=\"font-weight: bold\">()</span>`is outside of        <a href=\"file:///Users/twhughes/Documents/Flexcompute/Tidy3D-client-revamp/notebooks/../tidy3d/components/medium.py\"><span style=\"color: #7f7f7f; text-decoration-color: #7f7f7f\">medium.py</span></a><span style=\"color: #7f7f7f; text-decoration-color: #7f7f7f\">:52</span>\n",
       "                    `Medium.frequency_range` = <span style=\"font-weight: bold\">(</span><span style=\"color: #008080; text-decoration-color: #008080; font-weight: bold\">-10000000000.0</span>, <span style=\"color: #008080; text-decoration-color: #008080; font-weight: bold\">10000000000.0</span><span style=\"font-weight: bold\">)</span>               \n",
       "</pre>\n"
      ],
      "text/plain": [
       "\u001b[2;36m          \u001b[0m\u001b[2;36m \u001b[0m\u001b[31mWARNING \u001b[0m frequency passed to `\u001b[1;35mMedium.eps_model\u001b[0m\u001b[1m(\u001b[0m\u001b[1m)\u001b[0m`is outside of        \u001b]8;id=994985;file:///Users/twhughes/Documents/Flexcompute/Tidy3D-client-revamp/notebooks/../tidy3d/components/medium.py\u001b\\\u001b[2mmedium.py\u001b[0m\u001b]8;;\u001b\\\u001b[2m:52\u001b[0m\n",
       "                    `Medium.frequency_range` = \u001b[1m(\u001b[0m\u001b[1;36m-10000000000.0\u001b[0m, \u001b[1;36m10000000000.0\u001b[0m\u001b[1m)\u001b[0m               \n"
      ]
     },
     "metadata": {},
     "output_type": "display_data"
    },
    {
     "data": {
      "text/html": [
       "<pre style=\"white-space:pre;overflow-x:auto;line-height:normal;font-family:Menlo,'DejaVu Sans Mono',consolas,'Courier New',monospace\"><span style=\"color: #7fbfbf; text-decoration-color: #7fbfbf\">           </span><span style=\"color: #800000; text-decoration-color: #800000\">WARNING </span> frequency passed to `<span style=\"color: #800080; text-decoration-color: #800080; font-weight: bold\">Medium.eps_model</span><span style=\"font-weight: bold\">()</span>`is outside of        <a href=\"file:///Users/twhughes/Documents/Flexcompute/Tidy3D-client-revamp/notebooks/../tidy3d/components/medium.py\"><span style=\"color: #7f7f7f; text-decoration-color: #7f7f7f\">medium.py</span></a><span style=\"color: #7f7f7f; text-decoration-color: #7f7f7f\">:52</span>\n",
       "                    `Medium.frequency_range` = <span style=\"font-weight: bold\">(</span><span style=\"color: #008080; text-decoration-color: #008080; font-weight: bold\">-10000000000.0</span>, <span style=\"color: #008080; text-decoration-color: #008080; font-weight: bold\">10000000000.0</span><span style=\"font-weight: bold\">)</span>               \n",
       "</pre>\n"
      ],
      "text/plain": [
       "\u001b[2;36m          \u001b[0m\u001b[2;36m \u001b[0m\u001b[31mWARNING \u001b[0m frequency passed to `\u001b[1;35mMedium.eps_model\u001b[0m\u001b[1m(\u001b[0m\u001b[1m)\u001b[0m`is outside of        \u001b]8;id=755106;file:///Users/twhughes/Documents/Flexcompute/Tidy3D-client-revamp/notebooks/../tidy3d/components/medium.py\u001b\\\u001b[2mmedium.py\u001b[0m\u001b]8;;\u001b\\\u001b[2m:52\u001b[0m\n",
       "                    `Medium.frequency_range` = \u001b[1m(\u001b[0m\u001b[1;36m-10000000000.0\u001b[0m, \u001b[1;36m10000000000.0\u001b[0m\u001b[1m)\u001b[0m               \n"
      ]
     },
     "metadata": {},
     "output_type": "display_data"
    },
    {
     "data": {
      "text/html": [
       "<pre style=\"white-space:pre;overflow-x:auto;line-height:normal;font-family:Menlo,'DejaVu Sans Mono',consolas,'Courier New',monospace\"><span style=\"color: #7fbfbf; text-decoration-color: #7fbfbf\">           </span><span style=\"color: #800000; text-decoration-color: #800000\">WARNING </span> frequency passed to `<span style=\"color: #800080; text-decoration-color: #800080; font-weight: bold\">Medium.eps_model</span><span style=\"font-weight: bold\">()</span>`is outside of        <a href=\"file:///Users/twhughes/Documents/Flexcompute/Tidy3D-client-revamp/notebooks/../tidy3d/components/medium.py\"><span style=\"color: #7f7f7f; text-decoration-color: #7f7f7f\">medium.py</span></a><span style=\"color: #7f7f7f; text-decoration-color: #7f7f7f\">:52</span>\n",
       "                    `Medium.frequency_range` = <span style=\"font-weight: bold\">(</span><span style=\"color: #008080; text-decoration-color: #008080; font-weight: bold\">-10000000000.0</span>, <span style=\"color: #008080; text-decoration-color: #008080; font-weight: bold\">10000000000.0</span><span style=\"font-weight: bold\">)</span>               \n",
       "</pre>\n"
      ],
      "text/plain": [
       "\u001b[2;36m          \u001b[0m\u001b[2;36m \u001b[0m\u001b[31mWARNING \u001b[0m frequency passed to `\u001b[1;35mMedium.eps_model\u001b[0m\u001b[1m(\u001b[0m\u001b[1m)\u001b[0m`is outside of        \u001b]8;id=175900;file:///Users/twhughes/Documents/Flexcompute/Tidy3D-client-revamp/notebooks/../tidy3d/components/medium.py\u001b\\\u001b[2mmedium.py\u001b[0m\u001b]8;;\u001b\\\u001b[2m:52\u001b[0m\n",
       "                    `Medium.frequency_range` = \u001b[1m(\u001b[0m\u001b[1;36m-10000000000.0\u001b[0m, \u001b[1;36m10000000000.0\u001b[0m\u001b[1m)\u001b[0m               \n"
      ]
     },
     "metadata": {},
     "output_type": "display_data"
    },
    {
     "data": {
      "text/html": [
       "<pre style=\"white-space:pre;overflow-x:auto;line-height:normal;font-family:Menlo,'DejaVu Sans Mono',consolas,'Courier New',monospace\"><span style=\"color: #7fbfbf; text-decoration-color: #7fbfbf\">           </span><span style=\"color: #800000; text-decoration-color: #800000\">WARNING </span> frequency passed to `<span style=\"color: #800080; text-decoration-color: #800080; font-weight: bold\">Medium.eps_model</span><span style=\"font-weight: bold\">()</span>`is outside of        <a href=\"file:///Users/twhughes/Documents/Flexcompute/Tidy3D-client-revamp/notebooks/../tidy3d/components/medium.py\"><span style=\"color: #7f7f7f; text-decoration-color: #7f7f7f\">medium.py</span></a><span style=\"color: #7f7f7f; text-decoration-color: #7f7f7f\">:52</span>\n",
       "                    `Medium.frequency_range` = <span style=\"font-weight: bold\">(</span><span style=\"color: #008080; text-decoration-color: #008080; font-weight: bold\">-10000000000.0</span>, <span style=\"color: #008080; text-decoration-color: #008080; font-weight: bold\">10000000000.0</span><span style=\"font-weight: bold\">)</span>               \n",
       "</pre>\n"
      ],
      "text/plain": [
       "\u001b[2;36m          \u001b[0m\u001b[2;36m \u001b[0m\u001b[31mWARNING \u001b[0m frequency passed to `\u001b[1;35mMedium.eps_model\u001b[0m\u001b[1m(\u001b[0m\u001b[1m)\u001b[0m`is outside of        \u001b]8;id=750872;file:///Users/twhughes/Documents/Flexcompute/Tidy3D-client-revamp/notebooks/../tidy3d/components/medium.py\u001b\\\u001b[2mmedium.py\u001b[0m\u001b]8;;\u001b\\\u001b[2m:52\u001b[0m\n",
       "                    `Medium.frequency_range` = \u001b[1m(\u001b[0m\u001b[1;36m-10000000000.0\u001b[0m, \u001b[1;36m10000000000.0\u001b[0m\u001b[1m)\u001b[0m               \n"
      ]
     },
     "metadata": {},
     "output_type": "display_data"
    },
    {
     "data": {
      "text/html": [
       "<pre style=\"white-space:pre;overflow-x:auto;line-height:normal;font-family:Menlo,'DejaVu Sans Mono',consolas,'Courier New',monospace\"><span style=\"color: #7fbfbf; text-decoration-color: #7fbfbf\">           </span><span style=\"color: #800000; text-decoration-color: #800000\">WARNING </span> frequency passed to `<span style=\"color: #800080; text-decoration-color: #800080; font-weight: bold\">Medium.eps_model</span><span style=\"font-weight: bold\">()</span>`is outside of        <a href=\"file:///Users/twhughes/Documents/Flexcompute/Tidy3D-client-revamp/notebooks/../tidy3d/components/medium.py\"><span style=\"color: #7f7f7f; text-decoration-color: #7f7f7f\">medium.py</span></a><span style=\"color: #7f7f7f; text-decoration-color: #7f7f7f\">:52</span>\n",
       "                    `Medium.frequency_range` = <span style=\"font-weight: bold\">(</span><span style=\"color: #008080; text-decoration-color: #008080; font-weight: bold\">-10000000000.0</span>, <span style=\"color: #008080; text-decoration-color: #008080; font-weight: bold\">10000000000.0</span><span style=\"font-weight: bold\">)</span>               \n",
       "</pre>\n"
      ],
      "text/plain": [
       "\u001b[2;36m          \u001b[0m\u001b[2;36m \u001b[0m\u001b[31mWARNING \u001b[0m frequency passed to `\u001b[1;35mMedium.eps_model\u001b[0m\u001b[1m(\u001b[0m\u001b[1m)\u001b[0m`is outside of        \u001b]8;id=379383;file:///Users/twhughes/Documents/Flexcompute/Tidy3D-client-revamp/notebooks/../tidy3d/components/medium.py\u001b\\\u001b[2mmedium.py\u001b[0m\u001b]8;;\u001b\\\u001b[2m:52\u001b[0m\n",
       "                    `Medium.frequency_range` = \u001b[1m(\u001b[0m\u001b[1;36m-10000000000.0\u001b[0m, \u001b[1;36m10000000000.0\u001b[0m\u001b[1m)\u001b[0m               \n"
      ]
     },
     "metadata": {},
     "output_type": "display_data"
    },
    {
     "data": {
      "text/html": [
       "<pre style=\"white-space:pre;overflow-x:auto;line-height:normal;font-family:Menlo,'DejaVu Sans Mono',consolas,'Courier New',monospace\"><span style=\"color: #7fbfbf; text-decoration-color: #7fbfbf\">           </span><span style=\"color: #800000; text-decoration-color: #800000\">WARNING </span> frequency passed to `<span style=\"color: #800080; text-decoration-color: #800080; font-weight: bold\">Medium.eps_model</span><span style=\"font-weight: bold\">()</span>`is outside of        <a href=\"file:///Users/twhughes/Documents/Flexcompute/Tidy3D-client-revamp/notebooks/../tidy3d/components/medium.py\"><span style=\"color: #7f7f7f; text-decoration-color: #7f7f7f\">medium.py</span></a><span style=\"color: #7f7f7f; text-decoration-color: #7f7f7f\">:52</span>\n",
       "                    `Medium.frequency_range` = <span style=\"font-weight: bold\">(</span><span style=\"color: #008080; text-decoration-color: #008080; font-weight: bold\">-10000000000.0</span>, <span style=\"color: #008080; text-decoration-color: #008080; font-weight: bold\">10000000000.0</span><span style=\"font-weight: bold\">)</span>               \n",
       "</pre>\n"
      ],
      "text/plain": [
       "\u001b[2;36m          \u001b[0m\u001b[2;36m \u001b[0m\u001b[31mWARNING \u001b[0m frequency passed to `\u001b[1;35mMedium.eps_model\u001b[0m\u001b[1m(\u001b[0m\u001b[1m)\u001b[0m`is outside of        \u001b]8;id=7276;file:///Users/twhughes/Documents/Flexcompute/Tidy3D-client-revamp/notebooks/../tidy3d/components/medium.py\u001b\\\u001b[2mmedium.py\u001b[0m\u001b]8;;\u001b\\\u001b[2m:52\u001b[0m\n",
       "                    `Medium.frequency_range` = \u001b[1m(\u001b[0m\u001b[1;36m-10000000000.0\u001b[0m, \u001b[1;36m10000000000.0\u001b[0m\u001b[1m)\u001b[0m               \n"
      ]
     },
     "metadata": {},
     "output_type": "display_data"
    },
    {
     "data": {
      "text/html": [
       "<pre style=\"white-space:pre;overflow-x:auto;line-height:normal;font-family:Menlo,'DejaVu Sans Mono',consolas,'Courier New',monospace\"><span style=\"color: #7fbfbf; text-decoration-color: #7fbfbf\">           </span><span style=\"color: #800000; text-decoration-color: #800000\">WARNING </span> frequency passed to `<span style=\"color: #800080; text-decoration-color: #800080; font-weight: bold\">Medium.eps_model</span><span style=\"font-weight: bold\">()</span>`is outside of        <a href=\"file:///Users/twhughes/Documents/Flexcompute/Tidy3D-client-revamp/notebooks/../tidy3d/components/medium.py\"><span style=\"color: #7f7f7f; text-decoration-color: #7f7f7f\">medium.py</span></a><span style=\"color: #7f7f7f; text-decoration-color: #7f7f7f\">:52</span>\n",
       "                    `Medium.frequency_range` = <span style=\"font-weight: bold\">(</span><span style=\"color: #008080; text-decoration-color: #008080; font-weight: bold\">-10000000000.0</span>, <span style=\"color: #008080; text-decoration-color: #008080; font-weight: bold\">10000000000.0</span><span style=\"font-weight: bold\">)</span>               \n",
       "</pre>\n"
      ],
      "text/plain": [
       "\u001b[2;36m          \u001b[0m\u001b[2;36m \u001b[0m\u001b[31mWARNING \u001b[0m frequency passed to `\u001b[1;35mMedium.eps_model\u001b[0m\u001b[1m(\u001b[0m\u001b[1m)\u001b[0m`is outside of        \u001b]8;id=357346;file:///Users/twhughes/Documents/Flexcompute/Tidy3D-client-revamp/notebooks/../tidy3d/components/medium.py\u001b\\\u001b[2mmedium.py\u001b[0m\u001b]8;;\u001b\\\u001b[2m:52\u001b[0m\n",
       "                    `Medium.frequency_range` = \u001b[1m(\u001b[0m\u001b[1;36m-10000000000.0\u001b[0m, \u001b[1;36m10000000000.0\u001b[0m\u001b[1m)\u001b[0m               \n"
      ]
     },
     "metadata": {},
     "output_type": "display_data"
    },
    {
     "data": {
      "text/html": [
       "<pre style=\"white-space:pre;overflow-x:auto;line-height:normal;font-family:Menlo,'DejaVu Sans Mono',consolas,'Courier New',monospace\"><span style=\"color: #7fbfbf; text-decoration-color: #7fbfbf\">           </span><span style=\"color: #800000; text-decoration-color: #800000\">WARNING </span> frequency passed to `<span style=\"color: #800080; text-decoration-color: #800080; font-weight: bold\">Medium.eps_model</span><span style=\"font-weight: bold\">()</span>`is outside of        <a href=\"file:///Users/twhughes/Documents/Flexcompute/Tidy3D-client-revamp/notebooks/../tidy3d/components/medium.py\"><span style=\"color: #7f7f7f; text-decoration-color: #7f7f7f\">medium.py</span></a><span style=\"color: #7f7f7f; text-decoration-color: #7f7f7f\">:52</span>\n",
       "                    `Medium.frequency_range` = <span style=\"font-weight: bold\">(</span><span style=\"color: #008080; text-decoration-color: #008080; font-weight: bold\">-10000000000.0</span>, <span style=\"color: #008080; text-decoration-color: #008080; font-weight: bold\">10000000000.0</span><span style=\"font-weight: bold\">)</span>               \n",
       "</pre>\n"
      ],
      "text/plain": [
       "\u001b[2;36m          \u001b[0m\u001b[2;36m \u001b[0m\u001b[31mWARNING \u001b[0m frequency passed to `\u001b[1;35mMedium.eps_model\u001b[0m\u001b[1m(\u001b[0m\u001b[1m)\u001b[0m`is outside of        \u001b]8;id=563957;file:///Users/twhughes/Documents/Flexcompute/Tidy3D-client-revamp/notebooks/../tidy3d/components/medium.py\u001b\\\u001b[2mmedium.py\u001b[0m\u001b]8;;\u001b\\\u001b[2m:52\u001b[0m\n",
       "                    `Medium.frequency_range` = \u001b[1m(\u001b[0m\u001b[1;36m-10000000000.0\u001b[0m, \u001b[1;36m10000000000.0\u001b[0m\u001b[1m)\u001b[0m               \n"
      ]
     },
     "metadata": {},
     "output_type": "display_data"
    },
    {
     "data": {
      "text/html": [
       "<pre style=\"white-space:pre;overflow-x:auto;line-height:normal;font-family:Menlo,'DejaVu Sans Mono',consolas,'Courier New',monospace\"><span style=\"color: #7fbfbf; text-decoration-color: #7fbfbf\">           </span><span style=\"color: #800000; text-decoration-color: #800000\">WARNING </span> frequency passed to `<span style=\"color: #800080; text-decoration-color: #800080; font-weight: bold\">Medium.eps_model</span><span style=\"font-weight: bold\">()</span>`is outside of        <a href=\"file:///Users/twhughes/Documents/Flexcompute/Tidy3D-client-revamp/notebooks/../tidy3d/components/medium.py\"><span style=\"color: #7f7f7f; text-decoration-color: #7f7f7f\">medium.py</span></a><span style=\"color: #7f7f7f; text-decoration-color: #7f7f7f\">:52</span>\n",
       "                    `Medium.frequency_range` = <span style=\"font-weight: bold\">(</span><span style=\"color: #008080; text-decoration-color: #008080; font-weight: bold\">-10000000000.0</span>, <span style=\"color: #008080; text-decoration-color: #008080; font-weight: bold\">10000000000.0</span><span style=\"font-weight: bold\">)</span>               \n",
       "</pre>\n"
      ],
      "text/plain": [
       "\u001b[2;36m          \u001b[0m\u001b[2;36m \u001b[0m\u001b[31mWARNING \u001b[0m frequency passed to `\u001b[1;35mMedium.eps_model\u001b[0m\u001b[1m(\u001b[0m\u001b[1m)\u001b[0m`is outside of        \u001b]8;id=229939;file:///Users/twhughes/Documents/Flexcompute/Tidy3D-client-revamp/notebooks/../tidy3d/components/medium.py\u001b\\\u001b[2mmedium.py\u001b[0m\u001b]8;;\u001b\\\u001b[2m:52\u001b[0m\n",
       "                    `Medium.frequency_range` = \u001b[1m(\u001b[0m\u001b[1;36m-10000000000.0\u001b[0m, \u001b[1;36m10000000000.0\u001b[0m\u001b[1m)\u001b[0m               \n"
      ]
     },
     "metadata": {},
     "output_type": "display_data"
    },
    {
     "data": {
      "text/html": [
       "<pre style=\"white-space:pre;overflow-x:auto;line-height:normal;font-family:Menlo,'DejaVu Sans Mono',consolas,'Courier New',monospace\"><span style=\"color: #7fbfbf; text-decoration-color: #7fbfbf\">           </span><span style=\"color: #800000; text-decoration-color: #800000\">WARNING </span> frequency passed to `<span style=\"color: #800080; text-decoration-color: #800080; font-weight: bold\">Medium.eps_model</span><span style=\"font-weight: bold\">()</span>`is outside of        <a href=\"file:///Users/twhughes/Documents/Flexcompute/Tidy3D-client-revamp/notebooks/../tidy3d/components/medium.py\"><span style=\"color: #7f7f7f; text-decoration-color: #7f7f7f\">medium.py</span></a><span style=\"color: #7f7f7f; text-decoration-color: #7f7f7f\">:52</span>\n",
       "                    `Medium.frequency_range` = <span style=\"font-weight: bold\">(</span><span style=\"color: #008080; text-decoration-color: #008080; font-weight: bold\">-10000000000.0</span>, <span style=\"color: #008080; text-decoration-color: #008080; font-weight: bold\">10000000000.0</span><span style=\"font-weight: bold\">)</span>               \n",
       "</pre>\n"
      ],
      "text/plain": [
       "\u001b[2;36m          \u001b[0m\u001b[2;36m \u001b[0m\u001b[31mWARNING \u001b[0m frequency passed to `\u001b[1;35mMedium.eps_model\u001b[0m\u001b[1m(\u001b[0m\u001b[1m)\u001b[0m`is outside of        \u001b]8;id=798433;file:///Users/twhughes/Documents/Flexcompute/Tidy3D-client-revamp/notebooks/../tidy3d/components/medium.py\u001b\\\u001b[2mmedium.py\u001b[0m\u001b]8;;\u001b\\\u001b[2m:52\u001b[0m\n",
       "                    `Medium.frequency_range` = \u001b[1m(\u001b[0m\u001b[1;36m-10000000000.0\u001b[0m, \u001b[1;36m10000000000.0\u001b[0m\u001b[1m)\u001b[0m               \n"
      ]
     },
     "metadata": {},
     "output_type": "display_data"
    },
    {
     "data": {
      "text/html": [
       "<pre style=\"white-space:pre;overflow-x:auto;line-height:normal;font-family:Menlo,'DejaVu Sans Mono',consolas,'Courier New',monospace\"><span style=\"color: #7fbfbf; text-decoration-color: #7fbfbf\">           </span><span style=\"color: #800000; text-decoration-color: #800000\">WARNING </span> frequency passed to `<span style=\"color: #800080; text-decoration-color: #800080; font-weight: bold\">Medium.eps_model</span><span style=\"font-weight: bold\">()</span>`is outside of        <a href=\"file:///Users/twhughes/Documents/Flexcompute/Tidy3D-client-revamp/notebooks/../tidy3d/components/medium.py\"><span style=\"color: #7f7f7f; text-decoration-color: #7f7f7f\">medium.py</span></a><span style=\"color: #7f7f7f; text-decoration-color: #7f7f7f\">:52</span>\n",
       "                    `Medium.frequency_range` = <span style=\"font-weight: bold\">(</span><span style=\"color: #008080; text-decoration-color: #008080; font-weight: bold\">-10000000000.0</span>, <span style=\"color: #008080; text-decoration-color: #008080; font-weight: bold\">10000000000.0</span><span style=\"font-weight: bold\">)</span>               \n",
       "</pre>\n"
      ],
      "text/plain": [
       "\u001b[2;36m          \u001b[0m\u001b[2;36m \u001b[0m\u001b[31mWARNING \u001b[0m frequency passed to `\u001b[1;35mMedium.eps_model\u001b[0m\u001b[1m(\u001b[0m\u001b[1m)\u001b[0m`is outside of        \u001b]8;id=169281;file:///Users/twhughes/Documents/Flexcompute/Tidy3D-client-revamp/notebooks/../tidy3d/components/medium.py\u001b\\\u001b[2mmedium.py\u001b[0m\u001b]8;;\u001b\\\u001b[2m:52\u001b[0m\n",
       "                    `Medium.frequency_range` = \u001b[1m(\u001b[0m\u001b[1;36m-10000000000.0\u001b[0m, \u001b[1;36m10000000000.0\u001b[0m\u001b[1m)\u001b[0m               \n"
      ]
     },
     "metadata": {},
     "output_type": "display_data"
    },
    {
     "data": {
      "text/html": [
       "<pre style=\"white-space:pre;overflow-x:auto;line-height:normal;font-family:Menlo,'DejaVu Sans Mono',consolas,'Courier New',monospace\"><span style=\"color: #7fbfbf; text-decoration-color: #7fbfbf\">           </span><span style=\"color: #800000; text-decoration-color: #800000\">WARNING </span> frequency passed to `<span style=\"color: #800080; text-decoration-color: #800080; font-weight: bold\">Medium.eps_model</span><span style=\"font-weight: bold\">()</span>`is outside of        <a href=\"file:///Users/twhughes/Documents/Flexcompute/Tidy3D-client-revamp/notebooks/../tidy3d/components/medium.py\"><span style=\"color: #7f7f7f; text-decoration-color: #7f7f7f\">medium.py</span></a><span style=\"color: #7f7f7f; text-decoration-color: #7f7f7f\">:52</span>\n",
       "                    `Medium.frequency_range` = <span style=\"font-weight: bold\">(</span><span style=\"color: #008080; text-decoration-color: #008080; font-weight: bold\">-10000000000.0</span>, <span style=\"color: #008080; text-decoration-color: #008080; font-weight: bold\">10000000000.0</span><span style=\"font-weight: bold\">)</span>               \n",
       "</pre>\n"
      ],
      "text/plain": [
       "\u001b[2;36m          \u001b[0m\u001b[2;36m \u001b[0m\u001b[31mWARNING \u001b[0m frequency passed to `\u001b[1;35mMedium.eps_model\u001b[0m\u001b[1m(\u001b[0m\u001b[1m)\u001b[0m`is outside of        \u001b]8;id=183537;file:///Users/twhughes/Documents/Flexcompute/Tidy3D-client-revamp/notebooks/../tidy3d/components/medium.py\u001b\\\u001b[2mmedium.py\u001b[0m\u001b]8;;\u001b\\\u001b[2m:52\u001b[0m\n",
       "                    `Medium.frequency_range` = \u001b[1m(\u001b[0m\u001b[1;36m-10000000000.0\u001b[0m, \u001b[1;36m10000000000.0\u001b[0m\u001b[1m)\u001b[0m               \n"
      ]
     },
     "metadata": {},
     "output_type": "display_data"
    },
    {
     "data": {
      "text/html": [
       "<pre style=\"white-space:pre;overflow-x:auto;line-height:normal;font-family:Menlo,'DejaVu Sans Mono',consolas,'Courier New',monospace\"><span style=\"color: #7fbfbf; text-decoration-color: #7fbfbf\">           </span><span style=\"color: #800000; text-decoration-color: #800000\">WARNING </span> frequency passed to `<span style=\"color: #800080; text-decoration-color: #800080; font-weight: bold\">Medium.eps_model</span><span style=\"font-weight: bold\">()</span>`is outside of        <a href=\"file:///Users/twhughes/Documents/Flexcompute/Tidy3D-client-revamp/notebooks/../tidy3d/components/medium.py\"><span style=\"color: #7f7f7f; text-decoration-color: #7f7f7f\">medium.py</span></a><span style=\"color: #7f7f7f; text-decoration-color: #7f7f7f\">:52</span>\n",
       "                    `Medium.frequency_range` = <span style=\"font-weight: bold\">(</span><span style=\"color: #008080; text-decoration-color: #008080; font-weight: bold\">-10000000000.0</span>, <span style=\"color: #008080; text-decoration-color: #008080; font-weight: bold\">10000000000.0</span><span style=\"font-weight: bold\">)</span>               \n",
       "</pre>\n"
      ],
      "text/plain": [
       "\u001b[2;36m          \u001b[0m\u001b[2;36m \u001b[0m\u001b[31mWARNING \u001b[0m frequency passed to `\u001b[1;35mMedium.eps_model\u001b[0m\u001b[1m(\u001b[0m\u001b[1m)\u001b[0m`is outside of        \u001b]8;id=922864;file:///Users/twhughes/Documents/Flexcompute/Tidy3D-client-revamp/notebooks/../tidy3d/components/medium.py\u001b\\\u001b[2mmedium.py\u001b[0m\u001b]8;;\u001b\\\u001b[2m:52\u001b[0m\n",
       "                    `Medium.frequency_range` = \u001b[1m(\u001b[0m\u001b[1;36m-10000000000.0\u001b[0m, \u001b[1;36m10000000000.0\u001b[0m\u001b[1m)\u001b[0m               \n"
      ]
     },
     "metadata": {},
     "output_type": "display_data"
    },
    {
     "data": {
      "text/html": [
       "<pre style=\"white-space:pre;overflow-x:auto;line-height:normal;font-family:Menlo,'DejaVu Sans Mono',consolas,'Courier New',monospace\"><span style=\"color: #7fbfbf; text-decoration-color: #7fbfbf\">           </span><span style=\"color: #800000; text-decoration-color: #800000\">WARNING </span> frequency passed to `<span style=\"color: #800080; text-decoration-color: #800080; font-weight: bold\">Medium.eps_model</span><span style=\"font-weight: bold\">()</span>`is outside of        <a href=\"file:///Users/twhughes/Documents/Flexcompute/Tidy3D-client-revamp/notebooks/../tidy3d/components/medium.py\"><span style=\"color: #7f7f7f; text-decoration-color: #7f7f7f\">medium.py</span></a><span style=\"color: #7f7f7f; text-decoration-color: #7f7f7f\">:52</span>\n",
       "                    `Medium.frequency_range` = <span style=\"font-weight: bold\">(</span><span style=\"color: #008080; text-decoration-color: #008080; font-weight: bold\">-10000000000.0</span>, <span style=\"color: #008080; text-decoration-color: #008080; font-weight: bold\">10000000000.0</span><span style=\"font-weight: bold\">)</span>               \n",
       "</pre>\n"
      ],
      "text/plain": [
       "\u001b[2;36m          \u001b[0m\u001b[2;36m \u001b[0m\u001b[31mWARNING \u001b[0m frequency passed to `\u001b[1;35mMedium.eps_model\u001b[0m\u001b[1m(\u001b[0m\u001b[1m)\u001b[0m`is outside of        \u001b]8;id=918931;file:///Users/twhughes/Documents/Flexcompute/Tidy3D-client-revamp/notebooks/../tidy3d/components/medium.py\u001b\\\u001b[2mmedium.py\u001b[0m\u001b]8;;\u001b\\\u001b[2m:52\u001b[0m\n",
       "                    `Medium.frequency_range` = \u001b[1m(\u001b[0m\u001b[1;36m-10000000000.0\u001b[0m, \u001b[1;36m10000000000.0\u001b[0m\u001b[1m)\u001b[0m               \n"
      ]
     },
     "metadata": {},
     "output_type": "display_data"
    },
    {
     "data": {
      "text/html": [
       "<pre style=\"white-space:pre;overflow-x:auto;line-height:normal;font-family:Menlo,'DejaVu Sans Mono',consolas,'Courier New',monospace\"><span style=\"color: #7fbfbf; text-decoration-color: #7fbfbf\">           </span><span style=\"color: #800000; text-decoration-color: #800000\">WARNING </span> frequency passed to `<span style=\"color: #800080; text-decoration-color: #800080; font-weight: bold\">Medium.eps_model</span><span style=\"font-weight: bold\">()</span>`is outside of        <a href=\"file:///Users/twhughes/Documents/Flexcompute/Tidy3D-client-revamp/notebooks/../tidy3d/components/medium.py\"><span style=\"color: #7f7f7f; text-decoration-color: #7f7f7f\">medium.py</span></a><span style=\"color: #7f7f7f; text-decoration-color: #7f7f7f\">:52</span>\n",
       "                    `Medium.frequency_range` = <span style=\"font-weight: bold\">(</span><span style=\"color: #008080; text-decoration-color: #008080; font-weight: bold\">-10000000000.0</span>, <span style=\"color: #008080; text-decoration-color: #008080; font-weight: bold\">10000000000.0</span><span style=\"font-weight: bold\">)</span>               \n",
       "</pre>\n"
      ],
      "text/plain": [
       "\u001b[2;36m          \u001b[0m\u001b[2;36m \u001b[0m\u001b[31mWARNING \u001b[0m frequency passed to `\u001b[1;35mMedium.eps_model\u001b[0m\u001b[1m(\u001b[0m\u001b[1m)\u001b[0m`is outside of        \u001b]8;id=147284;file:///Users/twhughes/Documents/Flexcompute/Tidy3D-client-revamp/notebooks/../tidy3d/components/medium.py\u001b\\\u001b[2mmedium.py\u001b[0m\u001b]8;;\u001b\\\u001b[2m:52\u001b[0m\n",
       "                    `Medium.frequency_range` = \u001b[1m(\u001b[0m\u001b[1;36m-10000000000.0\u001b[0m, \u001b[1;36m10000000000.0\u001b[0m\u001b[1m)\u001b[0m               \n"
      ]
     },
     "metadata": {},
     "output_type": "display_data"
    }
   ],
   "source": [
    "fig, axes = plt.subplots(3, 2, tight_layout=True, figsize=(8, 10))\n",
    "for mode_index, _ax in enumerate(axes):\n",
    "    mode = td.Mode(mode_index=mode_index, num_modes=3)\n",
    "    mode_info = ms.solve(mode=mode)\n",
    "    Ex = mode_info.field_data.Ex\n",
    "    Ey = mode_info.field_data.Ey\n",
    "    for ax, field in zip(_ax, (Ex, Ey)):\n",
    "        abs(field.T).plot(cmap='magma', ax=ax)"
   ]
  },
  {
   "cell_type": "markdown",
   "metadata": {},
   "source": [
    "The modes look exactly as those of the source, since the waveguide cross-section is the same in the two planes. Now, we can use ``Simulation.data(mode_monitor)[\"mode_amps\"]``, which returns an array of size ``(2, Nfreqs, Nmodes)`` with the decomposition coefficients into forward- and backward-propagating modes, respectively.\n",
    "\n",
    "We note that in ``Tidy3D``, the fields recorded by frequency monitors (and thus also mode monitors) are automatically normalized by the power amplitude spectrum of the source (for multiple sources, the user can select which source to use for the normalization). Furthermore, mode sources are normalized to inject exactly 1W of power at the central frequency."
   ]
  },
  {
   "cell_type": "code",
   "execution_count": null,
   "metadata": {},
   "outputs": [],
   "source": [
    "# Flux in the mode monitor (total power through the cross-section)\n",
    "flux_wg = sim_data['flux']\n",
    "print(\"Flux at central frequency: \", flux_wg.isel(f=fcent_ind).values)"
   ]
  },
  {
   "cell_type": "code",
   "execution_count": null,
   "metadata": {},
   "outputs": [],
   "source": [
    "# Forward and backward power amplitude coefficients\n",
    "mode_amps = sim_data['modes']\n",
    "coeffs_f = mode_amps.sel(direction=\"+\") / np.sqrt(flux_wg)\n",
    "coeffs_b = mode_amps.sel(direction=\"-\") / np.sqrt(flux_wg)\n",
    "\n",
    "print(\"Power distribution at central frequency in first three modes\", )\n",
    "print(\"  positive dir. \", np.abs(coeffs_f.isel(f=fcent_ind)**2).values)\n",
    "print(\"  negative dir. \", np.abs(coeffs_b.isel(f=fcent_ind)**2).values)\n",
    "\n",
    "# Free-space wavelength corresponding to the monitor frequencies\n",
    "lambdas = td.C_0 / freqs\n",
    "\n",
    "fig, ax = plt.subplots(1, figsize=(6, 4))\n",
    "(abs(coeffs_f)**2).plot.line(x='f', ax=ax)\n",
    "# ax.plot(lambdas, np.abs(coeffs_f)**2)\n",
    "ax.set_xlabel(\"frequency (Hz)\")\n",
    "ax.set_ylabel(\"Power in mode (W)\")\n",
    "ax.set_title(\"Mode decomposition (+ propagating)\")\n",
    "ax.legend([\"Mode 0\", \"Mode 1\", \"Mode 2\"])\n",
    "plt.show()"
   ]
  },
  {
   "cell_type": "markdown",
   "metadata": {},
   "source": [
    "As we would expect, all of the power is injected into the fundamental waveguide mode, in the forward direction. More precisely, this is true up to some numerical precision that decreases with increasing simulation resolution. We can examine the frequency dependence of the results a bit more closely, and compare them to the total power flux, which can be computed for any frequency monitor. The flux is the area-integrated time-averaged Poynting vector and gives the (signed) total power flowing through the surface."
   ]
  },
  {
   "cell_type": "markdown",
   "metadata": {},
   "source": [
    "The flux computation and the modal decomposition are done in a completely different way, but because all the power is in the fundamental mode here, the flux matches really well the zero-mode power from the power decomposition. Finally, let's also compare these two in the full frequency range."
   ]
  },
  {
   "cell_type": "code",
   "execution_count": null,
   "metadata": {},
   "outputs": [],
   "source": [
    "fig, ax = plt.subplots(1, figsize=(6, 4))\n",
    "\n",
    "flux_wg.plot(ax=ax)\n",
    "abs(coeffs_f.sel(mode_index=0)**2).plot(ax=ax)\n",
    "ax.set_xlabel(\"frequency (Hz)\")\n",
    "ax.set_ylabel(\"Power (W)\")\n",
    "ax.set_title(\"Power in mode monitor\")\n",
    "ax.legend([\"Total\", \"Mode 0\"])\n",
    "\n",
    "plt.show()"
   ]
  },
  {
   "cell_type": "markdown",
   "metadata": {},
   "source": [
    "As we already saw, at the central frequency, the source power is extremely well directed in the waveguide mode. Since the source mode is computed at the central frequency only, away from that it is not perfectly matched, leading to a small decrease of the total radiated power. In certain situations, it is even possible to observe injected power larger than one away from the central frequency. That said, we see that all the radiated power is still emitted into the desired waveguide mode, especially within the typical range of interest $1.5\\mu m < \\lambda < 1.6 \\mu m$. For best accuracy when computing scattering parameters away from the central frequency, we then just need to do a \"normalization\" run like this one to account for the small frequency dependence of the total radiated power."
   ]
  },
  {
   "cell_type": "markdown",
   "metadata": {},
   "source": [
    "### Waveguide junction\n",
    "\n",
    "Finally, we repeat the simulation, but this time introduce a much bigger waveguide in the second half of the domain."
   ]
  },
  {
   "cell_type": "code",
   "execution_count": null,
   "metadata": {},
   "outputs": [],
   "source": [
    "# Output waveguide\n",
    "wgout_width = 1.4\n",
    "\n",
    "waveguide_out = td.Structure(\n",
    "    geometry=td.Box(\n",
    "        center=[0, wg_height/2, 2],\n",
    "        size=[wgout_width, wg_height, 4],\n",
    "    ),\n",
    "    medium=mat_wg)"
   ]
  },
  {
   "cell_type": "code",
   "execution_count": null,
   "metadata": {},
   "outputs": [],
   "source": [
    "sim = td.Simulation(\n",
    "    size=sim_size,\n",
    "    grid_size=3*[1/resolution], \n",
    "    structures=[substrate, waveguide, waveguide_out], \n",
    "    sources={'mode': mode_source}, \n",
    "    monitors={'fields': freq_mnt, 'modes': mode_mnt, 'flux': flux_mnt},\n",
    "    run_time=run_time,\n",
    "    pml_layers=[td.PML(num_layers=Npml)]*3)\n",
    "\n",
    "fig = plt.figure(figsize=(11, 4))\n",
    "gs = mpl.gridspec.GridSpec(1, 2, figure=fig, width_ratios=[1, 1.4])\n",
    "ax1 = fig.add_subplot(gs[0, 0])\n",
    "ax2 = fig.add_subplot(gs[0, 1])\n",
    "sim.plot(z=0.1, ax=ax1);\n",
    "sim.plot(y=0.1, ax=ax2);"
   ]
  },
  {
   "cell_type": "markdown",
   "metadata": {},
   "source": [
    "We injected the same mode source, this time setting it directly in the simulation initialization."
   ]
  },
  {
   "cell_type": "code",
   "execution_count": null,
   "metadata": {},
   "outputs": [],
   "source": [
    "job = web.Job(simulation=sim, task_name='mode_converter')\n",
    "sim_data = job.run(path='data/mode_converter.hdf5')"
   ]
  },
  {
   "cell_type": "code",
   "execution_count": null,
   "metadata": {},
   "outputs": [],
   "source": [
    "f, ax = plt.subplots()\n",
    "sim_data['fields'].Ex.real.plot(ax=ax)\n",
    "sim.plot\n",
    "plt.show()"
   ]
  },
  {
   "cell_type": "markdown",
   "metadata": {},
   "source": [
    "This time, the output waveguide is multi-mode, and there is obviously some mode-mixing happening. We can use the mode monitor to exactly quantify this."
   ]
  },
  {
   "cell_type": "code",
   "execution_count": null,
   "metadata": {},
   "outputs": [],
   "source": [
    "# Forward and backward power amplitude coefficients\n",
    "mode_amps = sim_data['modes']\n",
    "coeffs_f = mode_amps.sel(direction=\"+\") / np.sqrt(flux_wg)\n",
    "coeffs_b = mode_amps.sel(direction=\"-\") / np.sqrt(flux_wg)\n",
    "\n",
    "print(\"Power distribution at central frequency in first three modes\", )\n",
    "print(\"  positive dir. \", np.abs(coeffs_f.isel(f=fcent_ind)**2).values)\n",
    "print(\"  negative dir. \", np.abs(coeffs_b.isel(f=fcent_ind)**2).values)\n",
    "\n",
    "# Free-space wavelength corresponding to the monitor frequencies\n",
    "lambdas = td.C_0 / freqs\n",
    "\n",
    "fig, ax = plt.subplots(1, figsize=(6, 4))\n",
    "(abs(coeffs_f)**2).plot.line(x='f', ax=ax)\n",
    "# ax.plot(lambdas, np.abs(coeffs_f)**2)\n",
    "ax.set_xlabel(\"frequency (Hz)\")\n",
    "ax.set_ylabel(\"Power in mode (W)\")\n",
    "ax.set_title(\"Mode decomposition (+ propagating)\")\n",
    "ax.legend([\"Mode 0\", \"Mode 1\", \"Mode 2\"])\n",
    "plt.show()"
   ]
  },
  {
   "cell_type": "markdown",
   "metadata": {},
   "source": [
    "Because of the symmetry with respect to the $y=0$ plane, the power in Mode 0 cannot be converted to Mode 1, but a significant amount of power is converted to Mode 3. Note also that the combined power in the computed modes is smaller than 1W. The missing part is most likely lost in scattering at the sharp waveguide interface."
   ]
  }
 ],
 "metadata": {
  "kernelspec": {
   "display_name": "Python 3 (ipykernel)",
   "language": "python",
   "name": "python3"
  },
  "language_info": {
   "codemirror_mode": {
    "name": "ipython",
    "version": 3
   },
   "file_extension": ".py",
   "mimetype": "text/x-python",
   "name": "python",
   "nbconvert_exporter": "python",
   "pygments_lexer": "ipython3",
   "version": "3.9.7"
  }
 },
 "nbformat": 4,
 "nbformat_minor": 4
}
