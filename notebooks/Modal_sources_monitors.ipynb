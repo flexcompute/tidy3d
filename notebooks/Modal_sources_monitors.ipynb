{
 "cells": [
  {
   "cell_type": "markdown",
   "metadata": {},
   "source": [
    "## Mode sources and mode monitors\n",
    "\n",
    "See on [github](https://github.com/flexcompute/tidy3d-notebooks/blob/main/Modal_sources_monitors.ipynb), run on [colab](https://colab.research.google.com/github/flexcompute/tidy3d-notebooks/blob/main/Modal_sources_monitors.ipynb), or just follow along with the output below.\n",
    "\n",
    "Here, we look at a simple demonstration of how to excite a specific waveguide mode, and how to decompose the fields recorded in a monitor on the basis of waveguide modes, i.e. how to compute the power carried in each mode."
   ]
  },
  {
   "cell_type": "code",
   "execution_count": 1,
   "metadata": {
    "scrolled": true,
    "tags": []
   },
   "outputs": [],
   "source": [
    "# get the most recent version of tidy3d\n",
    "# !pip install -q --upgrade tidy3d\n",
    "\n",
    "# make sure notebook plots inline\n",
    "%matplotlib inline\n",
    "\n",
    "import sys\n",
    "sys.path.append('..')\n",
    "# standard python imports\n",
    "import numpy as np\n",
    "import matplotlib.pyplot as plt\n",
    "import matplotlib as mpl\n",
    "\n",
    "# tidy3D import\n",
    "import tidy3d as td\n",
    "from tidy3d import web"
   ]
  },
  {
   "cell_type": "markdown",
   "metadata": {},
   "source": [
    "### Straight waveguide simulation\n",
    "\n",
    "First, we will do a simulation of a straight waveguide, using a silicon ridge waveguide on a silicon oxide substrate. We begin by defining some general parameters."
   ]
  },
  {
   "cell_type": "code",
   "execution_count": 2,
   "metadata": {
    "tags": []
   },
   "outputs": [],
   "source": [
    "# Unit length is micron.\n",
    "wg_height = 0.22\n",
    "wg_width = 0.45\n",
    "\n",
    "# Permittivity of waveguide and substrate\n",
    "si_eps = 3.48**2\n",
    "sio_eps = 1.45**2\n",
    "\n",
    "# Free-space wavelength (in um) and frequency (in Hz)\n",
    "lambda0 = 1.55\n",
    "freq0 = td.C_0/lambda0\n",
    "fwidth = freq0/10\n",
    "\n",
    "# Simulation size inside the PML along propagation direction\n",
    "sim_length = 5\n",
    "resolution = 32\n",
    "\n",
    "# PML layers\n",
    "Npml = 15\n",
    "\n",
    "# Simulation domain size and total run time\n",
    "sim_size = [4, 2, sim_length]\n",
    "run_time = 20/fwidth"
   ]
  },
  {
   "cell_type": "markdown",
   "metadata": {},
   "source": [
    "### Initialize structures, mode source, and mode monitor\n",
    "\n",
    "When initializing `ModeSource` and `ModeMonitor` objects, one of the three values of the `size` parameter must be zero. This implicitly defines the propagation direction for the mode decomposition. In this example, the waveguide is oriented along the x-axis, and the mode is injected along the positive-x direction (\"forward\"). Below, we add a mode monitor that will show us the waveguide transmission at a range of frequencies, as well as a simple frequency monitor to examine the fields in the xy-plane at the central frequency."
   ]
  },
  {
   "cell_type": "code",
   "execution_count": 3,
   "metadata": {
    "tags": []
   },
   "outputs": [],
   "source": [
    "# Waveguide and substrate materials\n",
    "mat_wg = td.Medium(permittivity=si_eps)\n",
    "mat_sub = td.Medium(permittivity=sio_eps)\n",
    "\n",
    "# Substrate\n",
    "substrate = td.Structure(\n",
    "    geometry=td.Box(\n",
    "        center=[0, -sim_size[1], 0],\n",
    "        size=[td.inf, 2*sim_size[1], td.inf],\n",
    "    ),\n",
    "    medium=mat_sub)\n",
    "\n",
    "# Waveguide\n",
    "waveguide = td.Structure(\n",
    "    geometry=td.Box(\n",
    "        center=[0, wg_height/2, 0],\n",
    "        size=[wg_width, wg_height, 100],\n",
    "    ),\n",
    "    medium=mat_wg)\n",
    "\n",
    "# Modal source\n",
    "src_pos = -sim_size[0]/2 + 0.5\n",
    "plane = td.Box(center=[0, 0, src_pos], size=[3,2, 0])\n",
    "# src_pos = -sim_size[0]/2 + 0.5\n",
    "# msource = td.ModeSource(\n",
    "#     center=[src_pos, 0, 0],\n",
    "#     size=[0, 3, 2],\n",
    "#     source_time = td.GaussianPulse(\n",
    "#         frequency=freq0,\n",
    "#         fwidth=fwidth),\n",
    "#     direction='forward')\n",
    "\n",
    "# xy-plane frequency-domain field monitor at central frequency\n",
    "freq_mnt = td.FieldMonitor(\n",
    "    center=[wg_height/2, 0, 0],\n",
    "    size=[100, 0, 100],\n",
    "    freqs=[freq0])\n",
    "\n",
    "# Modal monitor at a range of frequencies\n",
    "# Nfreqs = 21\n",
    "# freqs = np.linspace(freq0 - fwidth, freq0 + fwidth, Nfreqs)\n",
    "# fcent_ind = Nfreqs // 2 # index of the central frequency\n",
    "# mode_mnt = td.ModeMonitor(\n",
    "#     center=[-src_pos, 0, 0],\n",
    "#     size=[0, 3, 2],\n",
    "#     freqs=freqs,\n",
    "#     Nmodes=3)"
   ]
  },
  {
   "cell_type": "markdown",
   "metadata": {},
   "source": [
    "Initialize simulation and visualize two cross-sections to make sure we have set up the device correctly."
   ]
  },
  {
   "cell_type": "code",
   "execution_count": 4,
   "metadata": {
    "tags": []
   },
   "outputs": [
    {
     "data": {
      "image/png": "[encoded data removed]"
     },
     "metadata": {
      "needs_background": "light"
     },
     "output_type": "display_data"
    }
   ],
   "source": [
    "# Simulation\n",
    "sim = td.Simulation(\n",
    "    size=sim_size,\n",
    "    grid_size=3*[1/resolution], \n",
    "    structures=[substrate, waveguide], \n",
    "    sources=[], \n",
    "    monitors={'fields': freq_mnt},\n",
    "    run_time=run_time,\n",
    "    pml_layers=[td.PMLLayer(num_layers=Npml)]*3)\n",
    "\n",
    "fig = plt.figure(figsize=(11, 4))\n",
    "gs = mpl.gridspec.GridSpec(1, 2, figure=fig, width_ratios=[1, 1.4])\n",
    "ax1 = fig.add_subplot(gs[0, 0])\n",
    "ax2 = fig.add_subplot(gs[0, 1])\n",
    "sim.plot(z=0.1, ax=ax1);\n",
    "sim.plot(y=0.1, ax=ax2);"
   ]
  },
  {
   "cell_type": "markdown",
   "metadata": {},
   "source": [
    "### Mode source\n",
    "\n",
    "Before we can run a simulation with a mode source, we have to select which of the eigenmodes we would like to inject. To do that, we can first visualize the modes using the in-built eigenmode solver and plotting functions. The modes are computed at the central frequency of the source, and in order of decreasing effective index `n`, such that the modes that are fully below light-line (if any) should appear first. The solver assumes periodic boundary conditions at the boundaries of the 2D plane. Thus, for accurate results, the plane should be large enough for the fields do decay at the edges."
   ]
  },
  {
   "cell_type": "code",
   "execution_count": 5,
   "metadata": {
    "tags": []
   },
   "outputs": [
    {
     "data": {
      "image/png": "[encoded data removed]"
     },
     "metadata": {
      "needs_background": "light"
     },
     "output_type": "display_data"
    }
   ],
   "source": [
    "# Visualize the modes. The mode computation is called internally.\n",
    "ms = td.plugins.ModeSolver(simulation=sim, plane=plane, freq=freq0)\n",
    "mode = td.Mode(mode_index=0, num_modes=3)\n",
    "mode_info = ms.solve(mode=mode)\n",
    "abs(mode_info.field_data.Ex.T).plot(cmap='magma')\n",
    "mode_source = ms.make_source(mode=mode, direction=\"+\", fwidth=freq0/10)\n",
    "sim.sources['modalsource'] = mode_source"
   ]
  },
  {
   "cell_type": "markdown",
   "metadata": {},
   "source": [
    "The waveguide has a single guided TE mode, as well as a TM mode which is very close to the light line (effective index close to substrate index). Finally, the last mode shown here, Mode 2, is below the light-line of the substrate and is mostly localized in that region. However, modes like these should always be considered unphysical, because of the periodic boundary conditions at the edges that are used in the mode solver. Thus, for meaningful results, only Mode 0 and Mode 1 should be used by the mode source."
   ]
  },
  {
   "cell_type": "markdown",
   "metadata": {},
   "source": [
    "### Run simulation\n",
    "\n",
    "We set the mode source to the fundamental TE mode. Then, we run the simulation as usual through the web API, wait for it to finish, and download and load the results."
   ]
  },
  {
   "cell_type": "code",
   "execution_count": 6,
   "metadata": {
    "tags": []
   },
   "outputs": [
    {
     "data": {
      "text/html": [
       "<pre style=\"white-space:pre;overflow-x:auto;line-height:normal;font-family:Menlo,'DejaVu Sans Mono',consolas,'Courier New',monospace\"><span style=\"color: #7fbfbf; text-decoration-color: #7fbfbf\">[16:46:29] </span><span style=\"color: #000080; text-decoration-color: #000080\">INFO    </span> Creating task.                                              <a href=\"file:///Users/twhughes/Documents/Flexcompute/Tidy3D-client-revamp/notebooks/../tidy3d/web/webapi.py\"><span style=\"color: #7f7f7f; text-decoration-color: #7f7f7f\">webapi.py</span></a><span style=\"color: #7f7f7f; text-decoration-color: #7f7f7f\">:324</span>\n",
       "</pre>\n"
      ],
      "text/plain": [
       "\u001b[2;36m[16:46:29]\u001b[0m\u001b[2;36m \u001b[0m\u001b[34mINFO    \u001b[0m Creating task.                                              \u001b]8;id=868173;file:///Users/twhughes/Documents/Flexcompute/Tidy3D-client-revamp/notebooks/../tidy3d/web/webapi.py\u001b\\\u001b[2mwebapi.py\u001b[0m\u001b]8;;\u001b\\\u001b[2m:324\u001b[0m\n"
      ]
     },
     "metadata": {},
     "output_type": "display_data"
    },
    {
     "data": {
      "text/html": [
       "<pre style=\"white-space:pre;overflow-x:auto;line-height:normal;font-family:Menlo,'DejaVu Sans Mono',consolas,'Courier New',monospace\"><span style=\"color: #7fbfbf; text-decoration-color: #7fbfbf\">[16:46:30] </span><span style=\"color: #000080; text-decoration-color: #000080\">INFO    </span> Uploading the json file                                     <a href=\"file:///Users/twhughes/Documents/Flexcompute/Tidy3D-client-revamp/notebooks/../tidy3d/web/webapi.py\"><span style=\"color: #7f7f7f; text-decoration-color: #7f7f7f\">webapi.py</span></a><span style=\"color: #7f7f7f; text-decoration-color: #7f7f7f\">:333</span>\n",
       "</pre>\n"
      ],
      "text/plain": [
       "\u001b[2;36m[16:46:30]\u001b[0m\u001b[2;36m \u001b[0m\u001b[34mINFO    \u001b[0m Uploading the json file                                     \u001b]8;id=675730;file:///Users/twhughes/Documents/Flexcompute/Tidy3D-client-revamp/notebooks/../tidy3d/web/webapi.py\u001b\\\u001b[2mwebapi.py\u001b[0m\u001b]8;;\u001b\\\u001b[2m:333\u001b[0m\n"
      ]
     },
     "metadata": {},
     "output_type": "display_data"
    },
    {
     "data": {
      "text/html": [
       "<pre style=\"white-space:pre;overflow-x:auto;line-height:normal;font-family:Menlo,'DejaVu Sans Mono',consolas,'Courier New',monospace\"><span style=\"color: #7fbfbf; text-decoration-color: #7fbfbf\">           </span><span style=\"color: #000080; text-decoration-color: #000080\">INFO    </span> json = <span style=\"font-weight: bold\">{</span>                                                    <a href=\"file:///Users/twhughes/Documents/Flexcompute/Tidy3D-client-revamp/notebooks/../tidy3d/web/webapi.py\"><span style=\"color: #7f7f7f; text-decoration-color: #7f7f7f\">webapi.py</span></a><span style=\"color: #7f7f7f; text-decoration-color: #7f7f7f\">:343</span>\n",
       "                        <span style=\"color: #008000; text-decoration-color: #008000\">\"parameters\"</span>: <span style=\"font-weight: bold\">{</span>                                                      \n",
       "                            <span style=\"color: #008000; text-decoration-color: #008000\">\"unit_length\"</span>: <span style=\"color: #008000; text-decoration-color: #008000\">\"um\"</span>,                                             \n",
       "                            <span style=\"color: #008000; text-decoration-color: #008000\">\"unit_frequency\"</span>: <span style=\"color: #008000; text-decoration-color: #008000\">\"THz\"</span>,                                         \n",
       "                            <span style=\"color: #008000; text-decoration-color: #008000\">\"unit_time\"</span>: <span style=\"color: #008000; text-decoration-color: #008000\">\"ps\"</span>,                                               \n",
       "                            <span style=\"color: #008000; text-decoration-color: #008000\">\"x_cent\"</span>: <span style=\"color: #008080; text-decoration-color: #008080; font-weight: bold\">0.0</span>,                                                   \n",
       "                            <span style=\"color: #008000; text-decoration-color: #008000\">\"y_cent\"</span>: <span style=\"color: #008080; text-decoration-color: #008080; font-weight: bold\">0.0</span>,                                                   \n",
       "                            <span style=\"color: #008000; text-decoration-color: #008000\">\"z_cent\"</span>: <span style=\"color: #008080; text-decoration-color: #008080; font-weight: bold\">0.0</span>,                                                   \n",
       "                            <span style=\"color: #008000; text-decoration-color: #008000\">\"x_span\"</span>: <span style=\"color: #008080; text-decoration-color: #008080; font-weight: bold\">4.0</span>,                                                   \n",
       "                            <span style=\"color: #008000; text-decoration-color: #008000\">\"y_span\"</span>: <span style=\"color: #008080; text-decoration-color: #008080; font-weight: bold\">2.0</span>,                                                   \n",
       "                            <span style=\"color: #008000; text-decoration-color: #008000\">\"z_span\"</span>: <span style=\"color: #008080; text-decoration-color: #008080; font-weight: bold\">5.0</span>,                                                   \n",
       "                            <span style=\"color: #008000; text-decoration-color: #008000\">\"mesh_step\"</span>: <span style=\"font-weight: bold\">[</span>                                                   \n",
       "                                <span style=\"color: #008080; text-decoration-color: #008080; font-weight: bold\">0.03125</span>,                                                     \n",
       "                                <span style=\"color: #008080; text-decoration-color: #008080; font-weight: bold\">0.03125</span>,                                                     \n",
       "                                <span style=\"color: #008080; text-decoration-color: #008080; font-weight: bold\">0.03125</span>                                                      \n",
       "                            <span style=\"font-weight: bold\">]</span>,                                                               \n",
       "                            <span style=\"color: #008000; text-decoration-color: #008000\">\"symmetries\"</span>: <span style=\"font-weight: bold\">[</span>                                                  \n",
       "                                <span style=\"color: #008080; text-decoration-color: #008080; font-weight: bold\">0</span>,                                                           \n",
       "                                <span style=\"color: #008080; text-decoration-color: #008080; font-weight: bold\">0</span>,                                                           \n",
       "                                <span style=\"color: #008080; text-decoration-color: #008080; font-weight: bold\">0</span>                                                            \n",
       "                            <span style=\"font-weight: bold\">]</span>,                                                               \n",
       "                            <span style=\"color: #008000; text-decoration-color: #008000\">\"pml_layers\"</span>: <span style=\"font-weight: bold\">[</span>                                                  \n",
       "                                <span style=\"font-weight: bold\">{</span>                                                            \n",
       "                                    <span style=\"color: #008000; text-decoration-color: #008000\">\"profile\"</span>: <span style=\"color: #008000; text-decoration-color: #008000\">\"standard\"</span>,                                   \n",
       "                                    <span style=\"color: #008000; text-decoration-color: #008000\">\"Nlayers\"</span>: <span style=\"color: #008080; text-decoration-color: #008080; font-weight: bold\">15</span>                                            \n",
       "                                <span style=\"font-weight: bold\">}</span>,                                                           \n",
       "                                <span style=\"font-weight: bold\">{</span>                                                            \n",
       "                                    <span style=\"color: #008000; text-decoration-color: #008000\">\"profile\"</span>: <span style=\"color: #008000; text-decoration-color: #008000\">\"standard\"</span>,                                   \n",
       "                                    <span style=\"color: #008000; text-decoration-color: #008000\">\"Nlayers\"</span>: <span style=\"color: #008080; text-decoration-color: #008080; font-weight: bold\">15</span>                                            \n",
       "                                <span style=\"font-weight: bold\">}</span>,                                                           \n",
       "                                <span style=\"font-weight: bold\">{</span>                                                            \n",
       "                                    <span style=\"color: #008000; text-decoration-color: #008000\">\"profile\"</span>: <span style=\"color: #008000; text-decoration-color: #008000\">\"standard\"</span>,                                   \n",
       "                                    <span style=\"color: #008000; text-decoration-color: #008000\">\"Nlayers\"</span>: <span style=\"color: #008080; text-decoration-color: #008080; font-weight: bold\">15</span>                                            \n",
       "                                <span style=\"font-weight: bold\">}</span>                                                            \n",
       "                            <span style=\"font-weight: bold\">]</span>,                                                               \n",
       "                            <span style=\"color: #008000; text-decoration-color: #008000\">\"run_time\"</span>: <span style=\"color: #008080; text-decoration-color: #008080; font-weight: bold\">1.0340486931104609</span>,                                  \n",
       "                            <span style=\"color: #008000; text-decoration-color: #008000\">\"courant\"</span>: <span style=\"color: #008080; text-decoration-color: #008080; font-weight: bold\">0.9</span>,                                                  \n",
       "                            <span style=\"color: #008000; text-decoration-color: #008000\">\"shutoff\"</span>: <span style=\"color: #008080; text-decoration-color: #008080; font-weight: bold\">1e-05</span>,                                                \n",
       "                            <span style=\"color: #008000; text-decoration-color: #008000\">\"subpixel\"</span>: true,                                                \n",
       "                            <span style=\"color: #008000; text-decoration-color: #008000\">\"time_steps\"</span>: <span style=\"color: #008080; text-decoration-color: #008080; font-weight: bold\">100</span>,                                               \n",
       "                            <span style=\"color: #008000; text-decoration-color: #008000\">\"nodes\"</span>: <span style=\"color: #008080; text-decoration-color: #008080; font-weight: bold\">100</span>,                                                    \n",
       "                            <span style=\"color: #008000; text-decoration-color: #008000\">\"compute_weight\"</span>: <span style=\"color: #008080; text-decoration-color: #008080; font-weight: bold\">1.0</span>                                            \n",
       "                        <span style=\"font-weight: bold\">}</span>,                                                                   \n",
       "                        <span style=\"color: #008000; text-decoration-color: #008000\">\"materials\"</span>: <span style=\"font-weight: bold\">[</span>                                                       \n",
       "                            <span style=\"font-weight: bold\">{</span>                                                                \n",
       "                                <span style=\"color: #008000; text-decoration-color: #008000\">\"name\"</span>: <span style=\"color: #008000; text-decoration-color: #008000\">\"mat_0\"</span>,                                             \n",
       "                                <span style=\"color: #008000; text-decoration-color: #008000\">\"type\"</span>: <span style=\"color: #008000; text-decoration-color: #008000\">\"Medium\"</span>,                                            \n",
       "                                <span style=\"color: #008000; text-decoration-color: #008000\">\"permittivity\"</span>: <span style=\"font-weight: bold\">[</span>                                            \n",
       "                                    <span style=\"color: #008080; text-decoration-color: #008080; font-weight: bold\">12.1104</span>,                                                 \n",
       "                                    <span style=\"color: #008080; text-decoration-color: #008080; font-weight: bold\">12.1104</span>,                                                 \n",
       "                                    <span style=\"color: #008080; text-decoration-color: #008080; font-weight: bold\">12.1104</span>                                                  \n",
       "                                <span style=\"font-weight: bold\">]</span>,                                                           \n",
       "                                <span style=\"color: #008000; text-decoration-color: #008000\">\"conductivity\"</span>: <span style=\"font-weight: bold\">[</span>                                            \n",
       "                                    <span style=\"color: #008080; text-decoration-color: #008080; font-weight: bold\">0.0</span>,                                                     \n",
       "                                    <span style=\"color: #008080; text-decoration-color: #008080; font-weight: bold\">0.0</span>,                                                     \n",
       "                                    <span style=\"color: #008080; text-decoration-color: #008080; font-weight: bold\">0.0</span>                                                      \n",
       "                                <span style=\"font-weight: bold\">]</span>,                                                           \n",
       "                                <span style=\"color: #008000; text-decoration-color: #008000\">\"poles\"</span>: <span style=\"font-weight: bold\">[]</span>                                                  \n",
       "                            <span style=\"font-weight: bold\">}</span>,                                                               \n",
       "                            <span style=\"font-weight: bold\">{</span>                                                                \n",
       "                                <span style=\"color: #008000; text-decoration-color: #008000\">\"name\"</span>: <span style=\"color: #008000; text-decoration-color: #008000\">\"mat_1\"</span>,                                             \n",
       "                                <span style=\"color: #008000; text-decoration-color: #008000\">\"type\"</span>: <span style=\"color: #008000; text-decoration-color: #008000\">\"Medium\"</span>,                                            \n",
       "                                <span style=\"color: #008000; text-decoration-color: #008000\">\"permittivity\"</span>: <span style=\"font-weight: bold\">[</span>                                            \n",
       "                                    <span style=\"color: #008080; text-decoration-color: #008080; font-weight: bold\">2.1025</span>,                                                  \n",
       "                                    <span style=\"color: #008080; text-decoration-color: #008080; font-weight: bold\">2.1025</span>,                                                  \n",
       "                                    <span style=\"color: #008080; text-decoration-color: #008080; font-weight: bold\">2.1025</span>                                                   \n",
       "                                <span style=\"font-weight: bold\">]</span>,                                                           \n",
       "                                <span style=\"color: #008000; text-decoration-color: #008000\">\"conductivity\"</span>: <span style=\"font-weight: bold\">[</span>                                            \n",
       "                                    <span style=\"color: #008080; text-decoration-color: #008080; font-weight: bold\">0.0</span>,                                                     \n",
       "                                    <span style=\"color: #008080; text-decoration-color: #008080; font-weight: bold\">0.0</span>,                                                     \n",
       "                                    <span style=\"color: #008080; text-decoration-color: #008080; font-weight: bold\">0.0</span>                                                      \n",
       "                                <span style=\"font-weight: bold\">]</span>,                                                           \n",
       "                                <span style=\"color: #008000; text-decoration-color: #008000\">\"poles\"</span>: <span style=\"font-weight: bold\">[]</span>                                                  \n",
       "                            <span style=\"font-weight: bold\">}</span>                                                                \n",
       "                        <span style=\"font-weight: bold\">]</span>,                                                                   \n",
       "                        <span style=\"color: #008000; text-decoration-color: #008000\">\"structures\"</span>: <span style=\"font-weight: bold\">[</span>                                                      \n",
       "                            <span style=\"font-weight: bold\">{</span>                                                                \n",
       "                                <span style=\"color: #008000; text-decoration-color: #008000\">\"name\"</span>: <span style=\"color: #008000; text-decoration-color: #008000\">\"struct_0\"</span>,                                          \n",
       "                                <span style=\"color: #008000; text-decoration-color: #008000\">\"mat_index\"</span>: <span style=\"color: #008080; text-decoration-color: #008080; font-weight: bold\">1</span>,                                              \n",
       "                                <span style=\"color: #008000; text-decoration-color: #008000\">\"type\"</span>: <span style=\"color: #008000; text-decoration-color: #008000\">\"Box\"</span>,                                               \n",
       "                                <span style=\"color: #008000; text-decoration-color: #008000\">\"x_cent\"</span>: <span style=\"color: #008080; text-decoration-color: #008080; font-weight: bold\">0.0</span>,                                               \n",
       "                                <span style=\"color: #008000; text-decoration-color: #008000\">\"y_cent\"</span>: <span style=\"color: #008080; text-decoration-color: #008080; font-weight: bold\">-2.0</span>,                                              \n",
       "                                <span style=\"color: #008000; text-decoration-color: #008000\">\"z_cent\"</span>: <span style=\"color: #008080; text-decoration-color: #008080; font-weight: bold\">0.0</span>,                                               \n",
       "                                <span style=\"color: #008000; text-decoration-color: #008000\">\"x_span\"</span>: <span style=\"color: #008080; text-decoration-color: #008080; font-weight: bold\">10000000000.0</span>,                                     \n",
       "                                <span style=\"color: #008000; text-decoration-color: #008000\">\"y_span\"</span>: <span style=\"color: #008080; text-decoration-color: #008080; font-weight: bold\">4.0</span>,                                               \n",
       "                                <span style=\"color: #008000; text-decoration-color: #008000\">\"z_span\"</span>: <span style=\"color: #008080; text-decoration-color: #008080; font-weight: bold\">10000000000.0</span>                                      \n",
       "                            <span style=\"font-weight: bold\">}</span>,                                                               \n",
       "                            <span style=\"font-weight: bold\">{</span>                                                                \n",
       "                                <span style=\"color: #008000; text-decoration-color: #008000\">\"name\"</span>: <span style=\"color: #008000; text-decoration-color: #008000\">\"struct_1\"</span>,                                          \n",
       "                                <span style=\"color: #008000; text-decoration-color: #008000\">\"mat_index\"</span>: <span style=\"color: #008080; text-decoration-color: #008080; font-weight: bold\">0</span>,                                              \n",
       "                                <span style=\"color: #008000; text-decoration-color: #008000\">\"type\"</span>: <span style=\"color: #008000; text-decoration-color: #008000\">\"Box\"</span>,                                               \n",
       "                                <span style=\"color: #008000; text-decoration-color: #008000\">\"x_cent\"</span>: <span style=\"color: #008080; text-decoration-color: #008080; font-weight: bold\">0.0</span>,                                               \n",
       "                                <span style=\"color: #008000; text-decoration-color: #008000\">\"y_cent\"</span>: <span style=\"color: #008080; text-decoration-color: #008080; font-weight: bold\">0.11</span>,                                              \n",
       "                                <span style=\"color: #008000; text-decoration-color: #008000\">\"z_cent\"</span>: <span style=\"color: #008080; text-decoration-color: #008080; font-weight: bold\">0.0</span>,                                               \n",
       "                                <span style=\"color: #008000; text-decoration-color: #008000\">\"x_span\"</span>: <span style=\"color: #008080; text-decoration-color: #008080; font-weight: bold\">0.45</span>,                                              \n",
       "                                <span style=\"color: #008000; text-decoration-color: #008000\">\"y_span\"</span>: <span style=\"color: #008080; text-decoration-color: #008080; font-weight: bold\">0.22</span>,                                              \n",
       "                                <span style=\"color: #008000; text-decoration-color: #008000\">\"z_span\"</span>: <span style=\"color: #008080; text-decoration-color: #008080; font-weight: bold\">100.0</span>                                              \n",
       "                            <span style=\"font-weight: bold\">}</span>                                                                \n",
       "                        <span style=\"font-weight: bold\">]</span>,                                                                   \n",
       "                        <span style=\"color: #008000; text-decoration-color: #008000\">\"sources\"</span>: <span style=\"font-weight: bold\">[</span>                                                         \n",
       "                            <span style=\"font-weight: bold\">{</span>                                                                \n",
       "                                <span style=\"color: #008000; text-decoration-color: #008000\">\"name\"</span>: <span style=\"color: #008000; text-decoration-color: #008000\">\"modalsource\"</span>,                                       \n",
       "                                <span style=\"color: #008000; text-decoration-color: #008000\">\"type\"</span>: <span style=\"color: #008000; text-decoration-color: #008000\">\"ModeSource\"</span>,                                        \n",
       "                                <span style=\"color: #008000; text-decoration-color: #008000\">\"source_time\"</span>: <span style=\"font-weight: bold\">{</span>                                             \n",
       "                                    <span style=\"color: #008000; text-decoration-color: #008000\">\"type\"</span>: <span style=\"color: #008000; text-decoration-color: #008000\">\"GaussianPulse\"</span>,                                 \n",
       "                                    <span style=\"color: #008000; text-decoration-color: #008000\">\"frequency\"</span>: <span style=\"color: #008080; text-decoration-color: #008080; font-weight: bold\">193.41448940706246</span>,                         \n",
       "                                    <span style=\"color: #008000; text-decoration-color: #008000\">\"fwidth\"</span>: <span style=\"color: #008080; text-decoration-color: #008080; font-weight: bold\">19.341448940706247</span>,                            \n",
       "                                    <span style=\"color: #008000; text-decoration-color: #008000\">\"offset\"</span>: <span style=\"color: #008080; text-decoration-color: #008080; font-weight: bold\">5.0</span>,                                           \n",
       "                                    <span style=\"color: #008000; text-decoration-color: #008000\">\"phase\"</span>: <span style=\"color: #008080; text-decoration-color: #008080; font-weight: bold\">0.0</span>                                             \n",
       "                                <span style=\"font-weight: bold\">}</span>,                                                           \n",
       "                                <span style=\"color: #008000; text-decoration-color: #008000\">\"center\"</span>: <span style=\"font-weight: bold\">[</span>                                                  \n",
       "                                    <span style=\"color: #008080; text-decoration-color: #008080; font-weight: bold\">0.0</span>,                                                     \n",
       "                                    <span style=\"color: #008080; text-decoration-color: #008080; font-weight: bold\">0.0</span>,                                                     \n",
       "                                    <span style=\"color: #008080; text-decoration-color: #008080; font-weight: bold\">-1.5</span>                                                     \n",
       "                                <span style=\"font-weight: bold\">]</span>,                                                           \n",
       "                                <span style=\"color: #008000; text-decoration-color: #008000\">\"size\"</span>: <span style=\"font-weight: bold\">[</span>                                                    \n",
       "                                    <span style=\"color: #008080; text-decoration-color: #008080; font-weight: bold\">3.0</span>,                                                     \n",
       "                                    <span style=\"color: #008080; text-decoration-color: #008080; font-weight: bold\">2.0</span>,                                                     \n",
       "                                    <span style=\"color: #008080; text-decoration-color: #008080; font-weight: bold\">0.0</span>                                                      \n",
       "                                <span style=\"font-weight: bold\">]</span>,                                                           \n",
       "                                <span style=\"color: #008000; text-decoration-color: #008000\">\"direction\"</span>: <span style=\"color: #008000; text-decoration-color: #008000\">\"forward\"</span>,                                      \n",
       "                                <span style=\"color: #008000; text-decoration-color: #008000\">\"amplitude\"</span>: <span style=\"color: #008080; text-decoration-color: #008080; font-weight: bold\">1.0</span>,                                            \n",
       "                                <span style=\"color: #008000; text-decoration-color: #008000\">\"mode_ind\"</span>: <span style=\"color: #008080; text-decoration-color: #008080; font-weight: bold\">0</span>,                                               \n",
       "                                <span style=\"color: #008000; text-decoration-color: #008000\">\"target_neff\"</span>: null,                                         \n",
       "                                <span style=\"color: #008000; text-decoration-color: #008000\">\"Nmodes\"</span>: <span style=\"color: #008080; text-decoration-color: #008080; font-weight: bold\">3</span>                                                  \n",
       "                            <span style=\"font-weight: bold\">}</span>                                                                \n",
       "                        <span style=\"font-weight: bold\">]</span>,                                                                   \n",
       "                        <span style=\"color: #008000; text-decoration-color: #008000\">\"monitors\"</span>: <span style=\"font-weight: bold\">[</span>                                                        \n",
       "                            <span style=\"font-weight: bold\">{</span>                                                                \n",
       "                                <span style=\"color: #008000; text-decoration-color: #008000\">\"name\"</span>: <span style=\"color: #008000; text-decoration-color: #008000\">\"fields\"</span>,                                            \n",
       "                                <span style=\"color: #008000; text-decoration-color: #008000\">\"x_cent\"</span>: <span style=\"color: #008080; text-decoration-color: #008080; font-weight: bold\">0.11</span>,                                              \n",
       "                                <span style=\"color: #008000; text-decoration-color: #008000\">\"y_cent\"</span>: <span style=\"color: #008080; text-decoration-color: #008080; font-weight: bold\">0.0</span>,                                               \n",
       "                                <span style=\"color: #008000; text-decoration-color: #008000\">\"z_cent\"</span>: <span style=\"color: #008080; text-decoration-color: #008080; font-weight: bold\">0.0</span>,                                               \n",
       "                                <span style=\"color: #008000; text-decoration-color: #008000\">\"x_span\"</span>: <span style=\"color: #008080; text-decoration-color: #008080; font-weight: bold\">100.0</span>,                                             \n",
       "                                <span style=\"color: #008000; text-decoration-color: #008000\">\"y_span\"</span>: <span style=\"color: #008080; text-decoration-color: #008080; font-weight: bold\">0.0</span>,                                               \n",
       "                                <span style=\"color: #008000; text-decoration-color: #008000\">\"z_span\"</span>: <span style=\"color: #008080; text-decoration-color: #008080; font-weight: bold\">100.0</span>,                                             \n",
       "                                <span style=\"color: #008000; text-decoration-color: #008000\">\"type\"</span>: <span style=\"color: #008000; text-decoration-color: #008000\">\"FrequencyMonitor\"</span>,                                  \n",
       "                                <span style=\"color: #008000; text-decoration-color: #008000\">\"frequency\"</span>: <span style=\"font-weight: bold\">[</span>                                               \n",
       "                                    <span style=\"color: #008080; text-decoration-color: #008080; font-weight: bold\">193.41448940706246</span>                                       \n",
       "                                <span style=\"font-weight: bold\">]</span>,                                                           \n",
       "                                <span style=\"color: #008000; text-decoration-color: #008000\">\"store\"</span>: <span style=\"font-weight: bold\">[</span>                                                   \n",
       "                                    <span style=\"color: #008000; text-decoration-color: #008000\">\"E\"</span>,                                                     \n",
       "                                    <span style=\"color: #008000; text-decoration-color: #008000\">\"H\"</span>                                                      \n",
       "                                <span style=\"font-weight: bold\">]</span>,                                                           \n",
       "                                <span style=\"color: #008000; text-decoration-color: #008000\">\"interpolate\"</span>: true                                          \n",
       "                            <span style=\"font-weight: bold\">}</span>                                                                \n",
       "                        <span style=\"font-weight: bold\">]</span>                                                                    \n",
       "                    <span style=\"font-weight: bold\">}</span>                                                                        \n",
       "</pre>\n"
      ],
      "text/plain": [
       "\u001b[2;36m          \u001b[0m\u001b[2;36m \u001b[0m\u001b[34mINFO    \u001b[0m json = \u001b[1m{\u001b[0m                                                    \u001b]8;id=282441;file:///Users/twhughes/Documents/Flexcompute/Tidy3D-client-revamp/notebooks/../tidy3d/web/webapi.py\u001b\\\u001b[2mwebapi.py\u001b[0m\u001b]8;;\u001b\\\u001b[2m:343\u001b[0m\n",
       "                        \u001b[32m\"parameters\"\u001b[0m: \u001b[1m{\u001b[0m                                                      \n",
       "                            \u001b[32m\"unit_length\"\u001b[0m: \u001b[32m\"um\"\u001b[0m,                                             \n",
       "                            \u001b[32m\"unit_frequency\"\u001b[0m: \u001b[32m\"THz\"\u001b[0m,                                         \n",
       "                            \u001b[32m\"unit_time\"\u001b[0m: \u001b[32m\"ps\"\u001b[0m,                                               \n",
       "                            \u001b[32m\"x_cent\"\u001b[0m: \u001b[1;36m0.0\u001b[0m,                                                   \n",
       "                            \u001b[32m\"y_cent\"\u001b[0m: \u001b[1;36m0.0\u001b[0m,                                                   \n",
       "                            \u001b[32m\"z_cent\"\u001b[0m: \u001b[1;36m0.0\u001b[0m,                                                   \n",
       "                            \u001b[32m\"x_span\"\u001b[0m: \u001b[1;36m4.0\u001b[0m,                                                   \n",
       "                            \u001b[32m\"y_span\"\u001b[0m: \u001b[1;36m2.0\u001b[0m,                                                   \n",
       "                            \u001b[32m\"z_span\"\u001b[0m: \u001b[1;36m5.0\u001b[0m,                                                   \n",
       "                            \u001b[32m\"mesh_step\"\u001b[0m: \u001b[1m[\u001b[0m                                                   \n",
       "                                \u001b[1;36m0.03125\u001b[0m,                                                     \n",
       "                                \u001b[1;36m0.03125\u001b[0m,                                                     \n",
       "                                \u001b[1;36m0.03125\u001b[0m                                                      \n",
       "                            \u001b[1m]\u001b[0m,                                                               \n",
       "                            \u001b[32m\"symmetries\"\u001b[0m: \u001b[1m[\u001b[0m                                                  \n",
       "                                \u001b[1;36m0\u001b[0m,                                                           \n",
       "                                \u001b[1;36m0\u001b[0m,                                                           \n",
       "                                \u001b[1;36m0\u001b[0m                                                            \n",
       "                            \u001b[1m]\u001b[0m,                                                               \n",
       "                            \u001b[32m\"pml_layers\"\u001b[0m: \u001b[1m[\u001b[0m                                                  \n",
       "                                \u001b[1m{\u001b[0m                                                            \n",
       "                                    \u001b[32m\"profile\"\u001b[0m: \u001b[32m\"standard\"\u001b[0m,                                   \n",
       "                                    \u001b[32m\"Nlayers\"\u001b[0m: \u001b[1;36m15\u001b[0m                                            \n",
       "                                \u001b[1m}\u001b[0m,                                                           \n",
       "                                \u001b[1m{\u001b[0m                                                            \n",
       "                                    \u001b[32m\"profile\"\u001b[0m: \u001b[32m\"standard\"\u001b[0m,                                   \n",
       "                                    \u001b[32m\"Nlayers\"\u001b[0m: \u001b[1;36m15\u001b[0m                                            \n",
       "                                \u001b[1m}\u001b[0m,                                                           \n",
       "                                \u001b[1m{\u001b[0m                                                            \n",
       "                                    \u001b[32m\"profile\"\u001b[0m: \u001b[32m\"standard\"\u001b[0m,                                   \n",
       "                                    \u001b[32m\"Nlayers\"\u001b[0m: \u001b[1;36m15\u001b[0m                                            \n",
       "                                \u001b[1m}\u001b[0m                                                            \n",
       "                            \u001b[1m]\u001b[0m,                                                               \n",
       "                            \u001b[32m\"run_time\"\u001b[0m: \u001b[1;36m1.0340486931104609\u001b[0m,                                  \n",
       "                            \u001b[32m\"courant\"\u001b[0m: \u001b[1;36m0.9\u001b[0m,                                                  \n",
       "                            \u001b[32m\"shutoff\"\u001b[0m: \u001b[1;36m1e-05\u001b[0m,                                                \n",
       "                            \u001b[32m\"subpixel\"\u001b[0m: true,                                                \n",
       "                            \u001b[32m\"time_steps\"\u001b[0m: \u001b[1;36m100\u001b[0m,                                               \n",
       "                            \u001b[32m\"nodes\"\u001b[0m: \u001b[1;36m100\u001b[0m,                                                    \n",
       "                            \u001b[32m\"compute_weight\"\u001b[0m: \u001b[1;36m1.0\u001b[0m                                            \n",
       "                        \u001b[1m}\u001b[0m,                                                                   \n",
       "                        \u001b[32m\"materials\"\u001b[0m: \u001b[1m[\u001b[0m                                                       \n",
       "                            \u001b[1m{\u001b[0m                                                                \n",
       "                                \u001b[32m\"name\"\u001b[0m: \u001b[32m\"mat_0\"\u001b[0m,                                             \n",
       "                                \u001b[32m\"type\"\u001b[0m: \u001b[32m\"Medium\"\u001b[0m,                                            \n",
       "                                \u001b[32m\"permittivity\"\u001b[0m: \u001b[1m[\u001b[0m                                            \n",
       "                                    \u001b[1;36m12.1104\u001b[0m,                                                 \n",
       "                                    \u001b[1;36m12.1104\u001b[0m,                                                 \n",
       "                                    \u001b[1;36m12.1104\u001b[0m                                                  \n",
       "                                \u001b[1m]\u001b[0m,                                                           \n",
       "                                \u001b[32m\"conductivity\"\u001b[0m: \u001b[1m[\u001b[0m                                            \n",
       "                                    \u001b[1;36m0.0\u001b[0m,                                                     \n",
       "                                    \u001b[1;36m0.0\u001b[0m,                                                     \n",
       "                                    \u001b[1;36m0.0\u001b[0m                                                      \n",
       "                                \u001b[1m]\u001b[0m,                                                           \n",
       "                                \u001b[32m\"poles\"\u001b[0m: \u001b[1m[\u001b[0m\u001b[1m]\u001b[0m                                                  \n",
       "                            \u001b[1m}\u001b[0m,                                                               \n",
       "                            \u001b[1m{\u001b[0m                                                                \n",
       "                                \u001b[32m\"name\"\u001b[0m: \u001b[32m\"mat_1\"\u001b[0m,                                             \n",
       "                                \u001b[32m\"type\"\u001b[0m: \u001b[32m\"Medium\"\u001b[0m,                                            \n",
       "                                \u001b[32m\"permittivity\"\u001b[0m: \u001b[1m[\u001b[0m                                            \n",
       "                                    \u001b[1;36m2.1025\u001b[0m,                                                  \n",
       "                                    \u001b[1;36m2.1025\u001b[0m,                                                  \n",
       "                                    \u001b[1;36m2.1025\u001b[0m                                                   \n",
       "                                \u001b[1m]\u001b[0m,                                                           \n",
       "                                \u001b[32m\"conductivity\"\u001b[0m: \u001b[1m[\u001b[0m                                            \n",
       "                                    \u001b[1;36m0.0\u001b[0m,                                                     \n",
       "                                    \u001b[1;36m0.0\u001b[0m,                                                     \n",
       "                                    \u001b[1;36m0.0\u001b[0m                                                      \n",
       "                                \u001b[1m]\u001b[0m,                                                           \n",
       "                                \u001b[32m\"poles\"\u001b[0m: \u001b[1m[\u001b[0m\u001b[1m]\u001b[0m                                                  \n",
       "                            \u001b[1m}\u001b[0m                                                                \n",
       "                        \u001b[1m]\u001b[0m,                                                                   \n",
       "                        \u001b[32m\"structures\"\u001b[0m: \u001b[1m[\u001b[0m                                                      \n",
       "                            \u001b[1m{\u001b[0m                                                                \n",
       "                                \u001b[32m\"name\"\u001b[0m: \u001b[32m\"struct_0\"\u001b[0m,                                          \n",
       "                                \u001b[32m\"mat_index\"\u001b[0m: \u001b[1;36m1\u001b[0m,                                              \n",
       "                                \u001b[32m\"type\"\u001b[0m: \u001b[32m\"Box\"\u001b[0m,                                               \n",
       "                                \u001b[32m\"x_cent\"\u001b[0m: \u001b[1;36m0.0\u001b[0m,                                               \n",
       "                                \u001b[32m\"y_cent\"\u001b[0m: \u001b[1;36m-2.0\u001b[0m,                                              \n",
       "                                \u001b[32m\"z_cent\"\u001b[0m: \u001b[1;36m0.0\u001b[0m,                                               \n",
       "                                \u001b[32m\"x_span\"\u001b[0m: \u001b[1;36m10000000000.0\u001b[0m,                                     \n",
       "                                \u001b[32m\"y_span\"\u001b[0m: \u001b[1;36m4.0\u001b[0m,                                               \n",
       "                                \u001b[32m\"z_span\"\u001b[0m: \u001b[1;36m10000000000.0\u001b[0m                                      \n",
       "                            \u001b[1m}\u001b[0m,                                                               \n",
       "                            \u001b[1m{\u001b[0m                                                                \n",
       "                                \u001b[32m\"name\"\u001b[0m: \u001b[32m\"struct_1\"\u001b[0m,                                          \n",
       "                                \u001b[32m\"mat_index\"\u001b[0m: \u001b[1;36m0\u001b[0m,                                              \n",
       "                                \u001b[32m\"type\"\u001b[0m: \u001b[32m\"Box\"\u001b[0m,                                               \n",
       "                                \u001b[32m\"x_cent\"\u001b[0m: \u001b[1;36m0.0\u001b[0m,                                               \n",
       "                                \u001b[32m\"y_cent\"\u001b[0m: \u001b[1;36m0.11\u001b[0m,                                              \n",
       "                                \u001b[32m\"z_cent\"\u001b[0m: \u001b[1;36m0.0\u001b[0m,                                               \n",
       "                                \u001b[32m\"x_span\"\u001b[0m: \u001b[1;36m0.45\u001b[0m,                                              \n",
       "                                \u001b[32m\"y_span\"\u001b[0m: \u001b[1;36m0.22\u001b[0m,                                              \n",
       "                                \u001b[32m\"z_span\"\u001b[0m: \u001b[1;36m100.0\u001b[0m                                              \n",
       "                            \u001b[1m}\u001b[0m                                                                \n",
       "                        \u001b[1m]\u001b[0m,                                                                   \n",
       "                        \u001b[32m\"sources\"\u001b[0m: \u001b[1m[\u001b[0m                                                         \n",
       "                            \u001b[1m{\u001b[0m                                                                \n",
       "                                \u001b[32m\"name\"\u001b[0m: \u001b[32m\"modalsource\"\u001b[0m,                                       \n",
       "                                \u001b[32m\"type\"\u001b[0m: \u001b[32m\"ModeSource\"\u001b[0m,                                        \n",
       "                                \u001b[32m\"source_time\"\u001b[0m: \u001b[1m{\u001b[0m                                             \n",
       "                                    \u001b[32m\"type\"\u001b[0m: \u001b[32m\"GaussianPulse\"\u001b[0m,                                 \n",
       "                                    \u001b[32m\"frequency\"\u001b[0m: \u001b[1;36m193.41448940706246\u001b[0m,                         \n",
       "                                    \u001b[32m\"fwidth\"\u001b[0m: \u001b[1;36m19.341448940706247\u001b[0m,                            \n",
       "                                    \u001b[32m\"offset\"\u001b[0m: \u001b[1;36m5.0\u001b[0m,                                           \n",
       "                                    \u001b[32m\"phase\"\u001b[0m: \u001b[1;36m0.0\u001b[0m                                             \n",
       "                                \u001b[1m}\u001b[0m,                                                           \n",
       "                                \u001b[32m\"center\"\u001b[0m: \u001b[1m[\u001b[0m                                                  \n",
       "                                    \u001b[1;36m0.0\u001b[0m,                                                     \n",
       "                                    \u001b[1;36m0.0\u001b[0m,                                                     \n",
       "                                    \u001b[1;36m-1.5\u001b[0m                                                     \n",
       "                                \u001b[1m]\u001b[0m,                                                           \n",
       "                                \u001b[32m\"size\"\u001b[0m: \u001b[1m[\u001b[0m                                                    \n",
       "                                    \u001b[1;36m3.0\u001b[0m,                                                     \n",
       "                                    \u001b[1;36m2.0\u001b[0m,                                                     \n",
       "                                    \u001b[1;36m0.0\u001b[0m                                                      \n",
       "                                \u001b[1m]\u001b[0m,                                                           \n",
       "                                \u001b[32m\"direction\"\u001b[0m: \u001b[32m\"forward\"\u001b[0m,                                      \n",
       "                                \u001b[32m\"amplitude\"\u001b[0m: \u001b[1;36m1.0\u001b[0m,                                            \n",
       "                                \u001b[32m\"mode_ind\"\u001b[0m: \u001b[1;36m0\u001b[0m,                                               \n",
       "                                \u001b[32m\"target_neff\"\u001b[0m: null,                                         \n",
       "                                \u001b[32m\"Nmodes\"\u001b[0m: \u001b[1;36m3\u001b[0m                                                  \n",
       "                            \u001b[1m}\u001b[0m                                                                \n",
       "                        \u001b[1m]\u001b[0m,                                                                   \n",
       "                        \u001b[32m\"monitors\"\u001b[0m: \u001b[1m[\u001b[0m                                                        \n",
       "                            \u001b[1m{\u001b[0m                                                                \n",
       "                                \u001b[32m\"name\"\u001b[0m: \u001b[32m\"fields\"\u001b[0m,                                            \n",
       "                                \u001b[32m\"x_cent\"\u001b[0m: \u001b[1;36m0.11\u001b[0m,                                              \n",
       "                                \u001b[32m\"y_cent\"\u001b[0m: \u001b[1;36m0.0\u001b[0m,                                               \n",
       "                                \u001b[32m\"z_cent\"\u001b[0m: \u001b[1;36m0.0\u001b[0m,                                               \n",
       "                                \u001b[32m\"x_span\"\u001b[0m: \u001b[1;36m100.0\u001b[0m,                                             \n",
       "                                \u001b[32m\"y_span\"\u001b[0m: \u001b[1;36m0.0\u001b[0m,                                               \n",
       "                                \u001b[32m\"z_span\"\u001b[0m: \u001b[1;36m100.0\u001b[0m,                                             \n",
       "                                \u001b[32m\"type\"\u001b[0m: \u001b[32m\"FrequencyMonitor\"\u001b[0m,                                  \n",
       "                                \u001b[32m\"frequency\"\u001b[0m: \u001b[1m[\u001b[0m                                               \n",
       "                                    \u001b[1;36m193.41448940706246\u001b[0m                                       \n",
       "                                \u001b[1m]\u001b[0m,                                                           \n",
       "                                \u001b[32m\"store\"\u001b[0m: \u001b[1m[\u001b[0m                                                   \n",
       "                                    \u001b[32m\"E\"\u001b[0m,                                                     \n",
       "                                    \u001b[32m\"H\"\u001b[0m                                                      \n",
       "                                \u001b[1m]\u001b[0m,                                                           \n",
       "                                \u001b[32m\"interpolate\"\u001b[0m: true                                          \n",
       "                            \u001b[1m}\u001b[0m                                                                \n",
       "                        \u001b[1m]\u001b[0m                                                                    \n",
       "                    \u001b[1m}\u001b[0m                                                                        \n"
      ]
     },
     "metadata": {},
     "output_type": "display_data"
    },
    {
     "data": {
      "application/vnd.jupyter.widget-view+json": {
       "model_id": "",
       "version_major": 2,
       "version_minor": 0
      },
      "text/plain": [
       "Output()"
      ]
     },
     "metadata": {},
     "output_type": "display_data"
    },
    {
     "data": {
      "text/html": [
       "<pre style=\"white-space:pre;overflow-x:auto;line-height:normal;font-family:Menlo,'DejaVu Sans Mono',consolas,'Courier New',monospace\"><span style=\"color: #7fbfbf; text-decoration-color: #7fbfbf\">[16:46:43] </span>status = preprocess                                               <a href=\"file:///Users/twhughes/Documents/Flexcompute/Tidy3D-client-revamp/tidy3d/web/container.py\"><span style=\"color: #7f7f7f; text-decoration-color: #7f7f7f\">container.py</span></a><span style=\"color: #7f7f7f; text-decoration-color: #7f7f7f\">:101</span>\n",
       "</pre>\n"
      ],
      "text/plain": [
       "\u001b[2;36m[16:46:43]\u001b[0m\u001b[2;36m \u001b[0mstatus = preprocess                                               \u001b]8;id=988891;file:///Users/twhughes/Documents/Flexcompute/Tidy3D-client-revamp/tidy3d/web/container.py\u001b\\\u001b[2mcontainer.py\u001b[0m\u001b]8;;\u001b\\\u001b[2m:101\u001b[0m\n"
      ]
     },
     "metadata": {},
     "output_type": "display_data"
    },
    {
     "data": {
      "text/html": [
       "<pre style=\"white-space:pre;overflow-x:auto;line-height:normal;font-family:Menlo,'DejaVu Sans Mono',consolas,'Courier New',monospace\"><span style=\"color: #7fbfbf; text-decoration-color: #7fbfbf\">[16:47:08] </span>status = running                                                  <a href=\"file:///Users/twhughes/Documents/Flexcompute/Tidy3D-client-revamp/tidy3d/web/container.py\"><span style=\"color: #7f7f7f; text-decoration-color: #7f7f7f\">container.py</span></a><span style=\"color: #7f7f7f; text-decoration-color: #7f7f7f\">:101</span>\n",
       "</pre>\n"
      ],
      "text/plain": [
       "\u001b[2;36m[16:47:08]\u001b[0m\u001b[2;36m \u001b[0mstatus = running                                                  \u001b]8;id=167022;file:///Users/twhughes/Documents/Flexcompute/Tidy3D-client-revamp/tidy3d/web/container.py\u001b\\\u001b[2mcontainer.py\u001b[0m\u001b]8;;\u001b\\\u001b[2m:101\u001b[0m\n"
      ]
     },
     "metadata": {},
     "output_type": "display_data"
    },
    {
     "data": {
      "text/html": [
       "<pre style=\"white-space:pre;overflow-x:auto;line-height:normal;font-family:Menlo,'DejaVu Sans Mono',consolas,'Courier New',monospace\"><span style=\"color: #7fbfbf; text-decoration-color: #7fbfbf\">[16:47:29] </span>status = postprocess                                              <a href=\"file:///Users/twhughes/Documents/Flexcompute/Tidy3D-client-revamp/tidy3d/web/container.py\"><span style=\"color: #7f7f7f; text-decoration-color: #7f7f7f\">container.py</span></a><span style=\"color: #7f7f7f; text-decoration-color: #7f7f7f\">:101</span>\n",
       "</pre>\n"
      ],
      "text/plain": [
       "\u001b[2;36m[16:47:29]\u001b[0m\u001b[2;36m \u001b[0mstatus = postprocess                                              \u001b]8;id=143221;file:///Users/twhughes/Documents/Flexcompute/Tidy3D-client-revamp/tidy3d/web/container.py\u001b\\\u001b[2mcontainer.py\u001b[0m\u001b]8;;\u001b\\\u001b[2m:101\u001b[0m\n"
      ]
     },
     "metadata": {},
     "output_type": "display_data"
    },
    {
     "data": {
      "text/html": [
       "<pre style=\"white-space:pre;overflow-x:auto;line-height:normal;font-family:Menlo,'DejaVu Sans Mono',consolas,'Courier New',monospace\"><span style=\"color: #7fbfbf; text-decoration-color: #7fbfbf\">           </span>status = visualize                                                <a href=\"file:///Users/twhughes/Documents/Flexcompute/Tidy3D-client-revamp/tidy3d/web/container.py\"><span style=\"color: #7f7f7f; text-decoration-color: #7f7f7f\">container.py</span></a><span style=\"color: #7f7f7f; text-decoration-color: #7f7f7f\">:101</span>\n",
       "</pre>\n"
      ],
      "text/plain": [
       "\u001b[2;36m          \u001b[0m\u001b[2;36m \u001b[0mstatus = visualize                                                \u001b]8;id=646730;file:///Users/twhughes/Documents/Flexcompute/Tidy3D-client-revamp/tidy3d/web/container.py\u001b\\\u001b[2mcontainer.py\u001b[0m\u001b]8;;\u001b\\\u001b[2m:101\u001b[0m\n"
      ]
     },
     "metadata": {},
     "output_type": "display_data"
    },
    {
     "data": {
      "text/html": [
       "<pre style=\"white-space:pre;overflow-x:auto;line-height:normal;font-family:Menlo,'DejaVu Sans Mono',consolas,'Courier New',monospace\"><span style=\"color: #7fbfbf; text-decoration-color: #7fbfbf\">[16:47:34] </span>status = success                                                  <a href=\"file:///Users/twhughes/Documents/Flexcompute/Tidy3D-client-revamp/tidy3d/web/container.py\"><span style=\"color: #7f7f7f; text-decoration-color: #7f7f7f\">container.py</span></a><span style=\"color: #7f7f7f; text-decoration-color: #7f7f7f\">:101</span>\n",
       "</pre>\n"
      ],
      "text/plain": [
       "\u001b[2;36m[16:47:34]\u001b[0m\u001b[2;36m \u001b[0mstatus = success                                                  \u001b]8;id=346224;file:///Users/twhughes/Documents/Flexcompute/Tidy3D-client-revamp/tidy3d/web/container.py\u001b\\\u001b[2mcontainer.py\u001b[0m\u001b]8;;\u001b\\\u001b[2m:101\u001b[0m\n"
      ]
     },
     "metadata": {},
     "output_type": "display_data"
    },
    {
     "data": {
      "text/html": [
       "<pre style=\"white-space:pre;overflow-x:auto;line-height:normal;font-family:Menlo,'DejaVu Sans Mono',consolas,'Courier New',monospace\"></pre>\n"
      ],
      "text/plain": []
     },
     "metadata": {},
     "output_type": "display_data"
    },
    {
     "data": {
      "text/html": [
       "<pre style=\"white-space:pre;overflow-x:auto;line-height:normal;font-family:Menlo,'DejaVu Sans Mono',consolas,'Courier New',monospace\"><span style=\"color: #7fbfbf; text-decoration-color: #7fbfbf\">[16:47:34] </span><span style=\"color: #000080; text-decoration-color: #000080\">INFO    </span> clearing existing files before downloading                  <a href=\"file:///Users/twhughes/Documents/Flexcompute/Tidy3D-client-revamp/notebooks/../tidy3d/web/webapi.py\"><span style=\"color: #7f7f7f; text-decoration-color: #7f7f7f\">webapi.py</span></a><span style=\"color: #7f7f7f; text-decoration-color: #7f7f7f\">:220</span>\n",
       "</pre>\n"
      ],
      "text/plain": [
       "\u001b[2;36m[16:47:34]\u001b[0m\u001b[2;36m \u001b[0m\u001b[34mINFO    \u001b[0m clearing existing files before downloading                  \u001b]8;id=169673;file:///Users/twhughes/Documents/Flexcompute/Tidy3D-client-revamp/notebooks/../tidy3d/web/webapi.py\u001b\\\u001b[2mwebapi.py\u001b[0m\u001b]8;;\u001b\\\u001b[2m:220\u001b[0m\n"
      ]
     },
     "metadata": {},
     "output_type": "display_data"
    },
    {
     "data": {
      "text/html": [
       "<pre style=\"white-space:pre;overflow-x:auto;line-height:normal;font-family:Menlo,'DejaVu Sans Mono',consolas,'Courier New',monospace\"><span style=\"color: #7fbfbf; text-decoration-color: #7fbfbf\">           </span><span style=\"color: #000080; text-decoration-color: #000080\">INFO    </span> downloading file <span style=\"color: #008000; text-decoration-color: #008000\">\"simulation.json\"</span> to                       <a href=\"file:///Users/twhughes/Documents/Flexcompute/Tidy3D-client-revamp/notebooks/../tidy3d/web/webapi.py\"><span style=\"color: #7f7f7f; text-decoration-color: #7f7f7f\">webapi.py</span></a><span style=\"color: #7f7f7f; text-decoration-color: #7f7f7f\">:366</span>\n",
       "                    <span style=\"color: #008000; text-decoration-color: #008000\">\"data/simulation.json\"</span>                                                   \n",
       "</pre>\n"
      ],
      "text/plain": [
       "\u001b[2;36m          \u001b[0m\u001b[2;36m \u001b[0m\u001b[34mINFO    \u001b[0m downloading file \u001b[32m\"simulation.json\"\u001b[0m to                       \u001b]8;id=281566;file:///Users/twhughes/Documents/Flexcompute/Tidy3D-client-revamp/notebooks/../tidy3d/web/webapi.py\u001b\\\u001b[2mwebapi.py\u001b[0m\u001b]8;;\u001b\\\u001b[2m:366\u001b[0m\n",
       "                    \u001b[32m\"data/simulation.json\"\u001b[0m                                                   \n"
      ]
     },
     "metadata": {},
     "output_type": "display_data"
    },
    {
     "data": {
      "application/vnd.jupyter.widget-view+json": {
       "model_id": "d0b6de56e8d343f88431d26aaadcedd1",
       "version_major": 2,
       "version_minor": 0
      },
      "text/plain": [
       "Output()"
      ]
     },
     "metadata": {},
     "output_type": "display_data"
    },
    {
     "data": {
      "text/html": [
       "<pre style=\"white-space:pre;overflow-x:auto;line-height:normal;font-family:Menlo,'DejaVu Sans Mono',consolas,'Courier New',monospace\"><span style=\"color: #7fbfbf; text-decoration-color: #7fbfbf\">           </span><span style=\"color: #000080; text-decoration-color: #000080\">INFO    </span> downloading file <span style=\"color: #008000; text-decoration-color: #008000\">\"monitor_data.hdf5\"</span> to                     <a href=\"file:///Users/twhughes/Documents/Flexcompute/Tidy3D-client-revamp/notebooks/../tidy3d/web/webapi.py\"><span style=\"color: #7f7f7f; text-decoration-color: #7f7f7f\">webapi.py</span></a><span style=\"color: #7f7f7f; text-decoration-color: #7f7f7f\">:366</span>\n",
       "                    <span style=\"color: #008000; text-decoration-color: #008000\">\"data/monitor_data.hdf5\"</span>                                                 \n",
       "</pre>\n"
      ],
      "text/plain": [
       "\u001b[2;36m          \u001b[0m\u001b[2;36m \u001b[0m\u001b[34mINFO    \u001b[0m downloading file \u001b[32m\"monitor_data.hdf5\"\u001b[0m to                     \u001b]8;id=939570;file:///Users/twhughes/Documents/Flexcompute/Tidy3D-client-revamp/notebooks/../tidy3d/web/webapi.py\u001b\\\u001b[2mwebapi.py\u001b[0m\u001b]8;;\u001b\\\u001b[2m:366\u001b[0m\n",
       "                    \u001b[32m\"data/monitor_data.hdf5\"\u001b[0m                                                 \n"
      ]
     },
     "metadata": {},
     "output_type": "display_data"
    },
    {
     "data": {
      "application/vnd.jupyter.widget-view+json": {
       "model_id": "74763d740e5e47239226d37ac6199869",
       "version_major": 2,
       "version_minor": 0
      },
      "text/plain": [
       "Output()"
      ]
     },
     "metadata": {},
     "output_type": "display_data"
    },
    {
     "data": {
      "text/html": [
       "<pre style=\"white-space:pre;overflow-x:auto;line-height:normal;font-family:Menlo,'DejaVu Sans Mono',consolas,'Courier New',monospace\"><span style=\"color: #7fbfbf; text-decoration-color: #7fbfbf\">[16:47:35] </span><span style=\"color: #000080; text-decoration-color: #000080\">INFO    </span> getting log string                                          <a href=\"file:///Users/twhughes/Documents/Flexcompute/Tidy3D-client-revamp/notebooks/../tidy3d/web/webapi.py\"><span style=\"color: #7f7f7f; text-decoration-color: #7f7f7f\">webapi.py</span></a><span style=\"color: #7f7f7f; text-decoration-color: #7f7f7f\">:229</span>\n",
       "</pre>\n"
      ],
      "text/plain": [
       "\u001b[2;36m[16:47:35]\u001b[0m\u001b[2;36m \u001b[0m\u001b[34mINFO    \u001b[0m getting log string                                          \u001b]8;id=295520;file:///Users/twhughes/Documents/Flexcompute/Tidy3D-client-revamp/notebooks/../tidy3d/web/webapi.py\u001b\\\u001b[2mwebapi.py\u001b[0m\u001b]8;;\u001b\\\u001b[2m:229\u001b[0m\n"
      ]
     },
     "metadata": {},
     "output_type": "display_data"
    },
    {
     "data": {
      "text/html": [
       "<pre style=\"white-space:pre;overflow-x:auto;line-height:normal;font-family:Menlo,'DejaVu Sans Mono',consolas,'Courier New',monospace\"><span style=\"color: #7fbfbf; text-decoration-color: #7fbfbf\">           </span><span style=\"color: #000080; text-decoration-color: #000080\">INFO    </span> downloading file <span style=\"color: #008000; text-decoration-color: #008000\">\"tidy3d.log\"</span> to <span style=\"color: #008000; text-decoration-color: #008000\">\"data/tidy3d.log\"</span>          <a href=\"file:///Users/twhughes/Documents/Flexcompute/Tidy3D-client-revamp/notebooks/../tidy3d/web/webapi.py\"><span style=\"color: #7f7f7f; text-decoration-color: #7f7f7f\">webapi.py</span></a><span style=\"color: #7f7f7f; text-decoration-color: #7f7f7f\">:366</span>\n",
       "</pre>\n"
      ],
      "text/plain": [
       "\u001b[2;36m          \u001b[0m\u001b[2;36m \u001b[0m\u001b[34mINFO    \u001b[0m downloading file \u001b[32m\"tidy3d.log\"\u001b[0m to \u001b[32m\"data/tidy3d.log\"\u001b[0m          \u001b]8;id=103862;file:///Users/twhughes/Documents/Flexcompute/Tidy3D-client-revamp/notebooks/../tidy3d/web/webapi.py\u001b\\\u001b[2mwebapi.py\u001b[0m\u001b]8;;\u001b\\\u001b[2m:366\u001b[0m\n"
      ]
     },
     "metadata": {},
     "output_type": "display_data"
    },
    {
     "data": {
      "application/vnd.jupyter.widget-view+json": {
       "model_id": "7277991ff85148908ba670891d399fef",
       "version_major": 2,
       "version_minor": 0
      },
      "text/plain": [
       "Output()"
      ]
     },
     "metadata": {},
     "output_type": "display_data"
    },
    {
     "data": {
      "text/html": [
       "<pre style=\"white-space:pre;overflow-x:auto;line-height:normal;font-family:Menlo,'DejaVu Sans Mono',consolas,'Courier New',monospace\"><span style=\"color: #7fbfbf; text-decoration-color: #7fbfbf\">           </span><span style=\"color: #000080; text-decoration-color: #000080\">INFO    </span> loading old monitor data to data dict                       <a href=\"file:///Users/twhughes/Documents/Flexcompute/Tidy3D-client-revamp/notebooks/../tidy3d/web/webapi.py\"><span style=\"color: #7f7f7f; text-decoration-color: #7f7f7f\">webapi.py</span></a><span style=\"color: #7f7f7f; text-decoration-color: #7f7f7f\">:234</span>\n",
       "</pre>\n"
      ],
      "text/plain": [
       "\u001b[2;36m          \u001b[0m\u001b[2;36m \u001b[0m\u001b[34mINFO    \u001b[0m loading old monitor data to data dict                       \u001b]8;id=816752;file:///Users/twhughes/Documents/Flexcompute/Tidy3D-client-revamp/notebooks/../tidy3d/web/webapi.py\u001b\\\u001b[2mwebapi.py\u001b[0m\u001b]8;;\u001b\\\u001b[2m:234\u001b[0m\n"
      ]
     },
     "metadata": {},
     "output_type": "display_data"
    },
    {
     "data": {
      "text/html": [
       "<pre style=\"white-space:pre;overflow-x:auto;line-height:normal;font-family:Menlo,'DejaVu Sans Mono',consolas,'Courier New',monospace\"><span style=\"color: #7fbfbf; text-decoration-color: #7fbfbf\">           </span><span style=\"color: #000080; text-decoration-color: #000080\">INFO    </span> creating SimulationData from monitor data dict              <a href=\"file:///Users/twhughes/Documents/Flexcompute/Tidy3D-client-revamp/notebooks/../tidy3d/web/webapi.py\"><span style=\"color: #7f7f7f; text-decoration-color: #7f7f7f\">webapi.py</span></a><span style=\"color: #7f7f7f; text-decoration-color: #7f7f7f\">:239</span>\n",
       "</pre>\n"
      ],
      "text/plain": [
       "\u001b[2;36m          \u001b[0m\u001b[2;36m \u001b[0m\u001b[34mINFO    \u001b[0m creating SimulationData from monitor data dict              \u001b]8;id=274718;file:///Users/twhughes/Documents/Flexcompute/Tidy3D-client-revamp/notebooks/../tidy3d/web/webapi.py\u001b\\\u001b[2mwebapi.py\u001b[0m\u001b]8;;\u001b\\\u001b[2m:239\u001b[0m\n"
      ]
     },
     "metadata": {},
     "output_type": "display_data"
    },
    {
     "data": {
      "text/html": [
       "<pre style=\"white-space:pre;overflow-x:auto;line-height:normal;font-family:Menlo,'DejaVu Sans Mono',consolas,'Courier New',monospace\"><span style=\"color: #7fbfbf; text-decoration-color: #7fbfbf\">           </span><span style=\"color: #000080; text-decoration-color: #000080\">INFO    </span> exporting SimulationData to data/simulation.hdf5            <a href=\"file:///Users/twhughes/Documents/Flexcompute/Tidy3D-client-revamp/notebooks/../tidy3d/web/webapi.py\"><span style=\"color: #7f7f7f; text-decoration-color: #7f7f7f\">webapi.py</span></a><span style=\"color: #7f7f7f; text-decoration-color: #7f7f7f\">:246</span>\n",
       "</pre>\n"
      ],
      "text/plain": [
       "\u001b[2;36m          \u001b[0m\u001b[2;36m \u001b[0m\u001b[34mINFO    \u001b[0m exporting SimulationData to data/simulation.hdf5            \u001b]8;id=913723;file:///Users/twhughes/Documents/Flexcompute/Tidy3D-client-revamp/notebooks/../tidy3d/web/webapi.py\u001b\\\u001b[2mwebapi.py\u001b[0m\u001b]8;;\u001b\\\u001b[2m:246\u001b[0m\n"
      ]
     },
     "metadata": {},
     "output_type": "display_data"
    },
    {
     "data": {
      "text/html": [
       "<pre style=\"white-space:pre;overflow-x:auto;line-height:normal;font-family:Menlo,'DejaVu Sans Mono',consolas,'Courier New',monospace\"><span style=\"color: #7fbfbf; text-decoration-color: #7fbfbf\">           </span><span style=\"color: #000080; text-decoration-color: #000080\">INFO    </span> clearing extraneous files                                   <a href=\"file:///Users/twhughes/Documents/Flexcompute/Tidy3D-client-revamp/notebooks/../tidy3d/web/webapi.py\"><span style=\"color: #7f7f7f; text-decoration-color: #7f7f7f\">webapi.py</span></a><span style=\"color: #7f7f7f; text-decoration-color: #7f7f7f\">:249</span>\n",
       "</pre>\n"
      ],
      "text/plain": [
       "\u001b[2;36m          \u001b[0m\u001b[2;36m \u001b[0m\u001b[34mINFO    \u001b[0m clearing extraneous files                                   \u001b]8;id=2734;file:///Users/twhughes/Documents/Flexcompute/Tidy3D-client-revamp/notebooks/../tidy3d/web/webapi.py\u001b\\\u001b[2mwebapi.py\u001b[0m\u001b]8;;\u001b\\\u001b[2m:249\u001b[0m\n"
      ]
     },
     "metadata": {},
     "output_type": "display_data"
    },
    {
     "data": {
      "text/html": [
       "<pre style=\"white-space:pre;overflow-x:auto;line-height:normal;font-family:Menlo,'DejaVu Sans Mono',consolas,'Courier New',monospace\"><span style=\"color: #7fbfbf; text-decoration-color: #7fbfbf\">           </span><span style=\"color: #000080; text-decoration-color: #000080\">INFO    </span> removing file data/simulation.json                          <a href=\"file:///Users/twhughes/Documents/Flexcompute/Tidy3D-client-revamp/notebooks/../tidy3d/web/webapi.py\"><span style=\"color: #7f7f7f; text-decoration-color: #7f7f7f\">webapi.py</span></a><span style=\"color: #7f7f7f; text-decoration-color: #7f7f7f\">:397</span>\n",
       "</pre>\n"
      ],
      "text/plain": [
       "\u001b[2;36m          \u001b[0m\u001b[2;36m \u001b[0m\u001b[34mINFO    \u001b[0m removing file data/simulation.json                          \u001b]8;id=869607;file:///Users/twhughes/Documents/Flexcompute/Tidy3D-client-revamp/notebooks/../tidy3d/web/webapi.py\u001b\\\u001b[2mwebapi.py\u001b[0m\u001b]8;;\u001b\\\u001b[2m:397\u001b[0m\n"
      ]
     },
     "metadata": {},
     "output_type": "display_data"
    },
    {
     "data": {
      "text/html": [
       "<pre style=\"white-space:pre;overflow-x:auto;line-height:normal;font-family:Menlo,'DejaVu Sans Mono',consolas,'Courier New',monospace\"><span style=\"color: #7fbfbf; text-decoration-color: #7fbfbf\">           </span><span style=\"color: #000080; text-decoration-color: #000080\">INFO    </span> removing file data/monitor_data.hdf5                        <a href=\"file:///Users/twhughes/Documents/Flexcompute/Tidy3D-client-revamp/notebooks/../tidy3d/web/webapi.py\"><span style=\"color: #7f7f7f; text-decoration-color: #7f7f7f\">webapi.py</span></a><span style=\"color: #7f7f7f; text-decoration-color: #7f7f7f\">:397</span>\n",
       "</pre>\n"
      ],
      "text/plain": [
       "\u001b[2;36m          \u001b[0m\u001b[2;36m \u001b[0m\u001b[34mINFO    \u001b[0m removing file data/monitor_data.hdf5                        \u001b]8;id=279472;file:///Users/twhughes/Documents/Flexcompute/Tidy3D-client-revamp/notebooks/../tidy3d/web/webapi.py\u001b\\\u001b[2mwebapi.py\u001b[0m\u001b]8;;\u001b\\\u001b[2m:397\u001b[0m\n"
      ]
     },
     "metadata": {},
     "output_type": "display_data"
    },
    {
     "data": {
      "text/html": [
       "<pre style=\"white-space:pre;overflow-x:auto;line-height:normal;font-family:Menlo,'DejaVu Sans Mono',consolas,'Courier New',monospace\"><span style=\"color: #7fbfbf; text-decoration-color: #7fbfbf\">           </span><span style=\"color: #000080; text-decoration-color: #000080\">INFO    </span> removing file data/tidy3d.log                               <a href=\"file:///Users/twhughes/Documents/Flexcompute/Tidy3D-client-revamp/notebooks/../tidy3d/web/webapi.py\"><span style=\"color: #7f7f7f; text-decoration-color: #7f7f7f\">webapi.py</span></a><span style=\"color: #7f7f7f; text-decoration-color: #7f7f7f\">:397</span>\n",
       "</pre>\n"
      ],
      "text/plain": [
       "\u001b[2;36m          \u001b[0m\u001b[2;36m \u001b[0m\u001b[34mINFO    \u001b[0m removing file data/tidy3d.log                               \u001b]8;id=790763;file:///Users/twhughes/Documents/Flexcompute/Tidy3D-client-revamp/notebooks/../tidy3d/web/webapi.py\u001b\\\u001b[2mwebapi.py\u001b[0m\u001b]8;;\u001b\\\u001b[2m:397\u001b[0m\n"
      ]
     },
     "metadata": {},
     "output_type": "display_data"
    },
    {
     "data": {
      "text/html": [
       "<pre style=\"white-space:pre;overflow-x:auto;line-height:normal;font-family:Menlo,'DejaVu Sans Mono',consolas,'Courier New',monospace\"><span style=\"color: #7fbfbf; text-decoration-color: #7fbfbf\">           </span><span style=\"color: #000080; text-decoration-color: #000080\">INFO    </span> loading SimulationData from data/simulation.hdf5            <a href=\"file:///Users/twhughes/Documents/Flexcompute/Tidy3D-client-revamp/notebooks/../tidy3d/web/webapi.py\"><span style=\"color: #7f7f7f; text-decoration-color: #7f7f7f\">webapi.py</span></a><span style=\"color: #7f7f7f; text-decoration-color: #7f7f7f\">:275</span>\n",
       "</pre>\n"
      ],
      "text/plain": [
       "\u001b[2;36m          \u001b[0m\u001b[2;36m \u001b[0m\u001b[34mINFO    \u001b[0m loading SimulationData from data/simulation.hdf5            \u001b]8;id=232200;file:///Users/twhughes/Documents/Flexcompute/Tidy3D-client-revamp/notebooks/../tidy3d/web/webapi.py\u001b\\\u001b[2mwebapi.py\u001b[0m\u001b]8;;\u001b\\\u001b[2m:275\u001b[0m\n"
      ]
     },
     "metadata": {},
     "output_type": "display_data"
    }
   ],
   "source": [
    "job = web.Job(simulation=sim, task_name='mode_tutorial')\n",
    "sim_data = job.run(path='data/simulation.hdf5')"
   ]
  },
  {
   "cell_type": "markdown",
   "metadata": {},
   "source": [
    "Let's first examine the in-plane fields recorded by the frequency monitor. We can already see how the source emits all of its power in the desired direction and waveguide mode."
   ]
  },
  {
   "cell_type": "code",
   "execution_count": 11,
   "metadata": {
    "scrolled": true
   },
   "outputs": [
    {
     "data": {
      "image/png": "[encoded data removed]"
     },
     "metadata": {
      "needs_background": "light"
     },
     "output_type": "display_data"
    }
   ],
   "source": [
    "sim_data['fields'].Ex.real.plot()\n",
    "plt.show()"
   ]
  },
  {
   "cell_type": "markdown",
   "metadata": {},
   "source": [
    "### Mode monitors"
   ]
  },
  {
   "cell_type": "markdown",
   "metadata": {},
   "source": [
    "Mode monitors allow us to decompose the frequency-domain fields recorded in a simulation into the propagating modes of a waveguide. Specifically, we can write the modes of the waveguide at angular frequency $\\omega$ that are propagating in the *forward* direction, i.e. in the positive `x` direction in the example above, as\n",
    "\n",
    "$$\n",
    "\\mathbf{E}_p^f(\\omega, x) = \\mathbf{E}_p^f(\\omega) e^{i k_p x}, \\quad \\quad \\mathbf{H}_p^f(\\omega, x) = \\mathbf{H}_p^f(\\omega) e^{i k_p x},\n",
    "$$\n",
    "\n",
    "where $p$ is a discrete mode index, $k_p = n_p \\omega/c$ is the wave-vector, $n_p$ is the effective index of the $p$-th mode, and superscript $f$ specifies forward propagation. The fields in the backward direction can be obtained, in the axes of the simulation, as $k_p \\rightarrow -k_p$ and $\\mathbf{E}_{p}^b(\\omega) = (-E_{p,x}^{f*}, E_{p,y}^{f*}, E_{p,z}^{f*})$, $\\mathbf{H}_{p}^b(\\omega) = (H_{p,x}^{f*}, -H_{p,y}^{f*}, -H_{p,z}^{f*})$, with $*$ denoting the complex conjugate.\n",
    "\n",
    "The fields stored in a monitor can then be decomposed on the basis of these waveguide modes. Following [1](https://journals.aps.org/pre/abstract/10.1103/PhysRevE.66.066608), [2](https://arxiv.org/abs/1301.5366), we can define an inner product between fields in the 2D plane as\n",
    "\n",
    "$$\n",
    "(\\mathbf{u}_1, \\mathbf{u}_2) = \\frac{1}{4} \\int_A \\left(\\mathbf{E}_1^* \\times \\mathbf{H}_2 + \\mathbf{E}_2 \\times \\mathbf{H}_1^* \\right) \\cdot \\mathrm{d}\\mathbf{A},\n",
    "$$\n",
    "\n",
    "where $\\mathbf{u} = (\\mathbf{E}, \\mathbf{H})$ combines both electromagnetic fields, the integration is over the plane area $A$, and $\\mathrm{d}\\mathbf{A}$ is the surface normal. If a waveguide mode is normalized such that $(\\mathbf{u}_p, \\mathbf{u}_p) = 1$, and we denote the fields stored in the mode monitor by $\\mathbf{u}_s$, then the power amplitude carried by mode $p$ is given by the complex coefficient\n",
    "\n",
    "$$\n",
    "c_p = (\\mathbf{u}_p, \\mathbf{u}_s),\n",
    "$$\n",
    "\n",
    "while the power is given by $|c_p|^2$."
   ]
  },
  {
   "cell_type": "markdown",
   "metadata": {},
   "source": [
    "In ``Tidy3D``, the decomposition coefficients at each frequency and for each of the first ``Nmodes`` modes of the monitor are automatically computed during the simulation run. Both the expansion coefficients and the modes are loaded when the monitor data is loaded in the simulation. We can thus directly plot the monitor modes without needing to pre-compute them as we did for the source."
   ]
  },
  {
   "cell_type": "code",
   "execution_count": null,
   "metadata": {},
   "outputs": [],
   "source": [
    "# Visualize the modes at the central frequency. They have already been computed during the solver run.\n",
    "sim.viz_modes(mode_mnt, freq_ind=fcent_ind, cbar=True)\n",
    "plt.show()"
   ]
  },
  {
   "cell_type": "markdown",
   "metadata": {},
   "source": [
    "The modes look exactly as those of the source, since the waveguide cross-section is the same in the two planes. Now, we can use ``Simulation.data(mode_monitor)[\"mode_amps\"]``, which returns an array of size ``(2, Nfreqs, Nmodes)`` with the decomposition coefficients into forward- and backward-propagating modes, respectively.\n",
    "\n",
    "We note that in ``Tidy3D``, the fields recorded by frequency monitors (and thus also mode monitors) are automatically normalized by the power amplitude spectrum of the source (for multiple sources, the user can select which source to use for the normalization). Furthermore, mode sources are normalized to inject exactly 1W of power at the central frequency."
   ]
  },
  {
   "cell_type": "code",
   "execution_count": null,
   "metadata": {},
   "outputs": [],
   "source": [
    "# Forward and backward power amplitude coefficients\n",
    "coeffs_f, coeffs_b = sim.data(mode_mnt)[\"mode_amps\"]\n",
    "\n",
    "print(\"Power distribution at central frequency in first three modes\", )\n",
    "print(\"  positive dir. \", np.abs(coeffs_f[fcent_ind, :])**2)\n",
    "print(\"  negative dir. \", np.abs(coeffs_b[fcent_ind, :])**2)\n",
    "\n",
    "# Free-space wavelength corresponding to the monitor frequencies\n",
    "lambdas = mode_mnt.lambdas\n",
    "\n",
    "fig, ax = plt.subplots(1, figsize=(6, 4))\n",
    "ax.plot(lambdas, np.abs(coeffs_f)**2)\n",
    "ax.set_xlim([lambdas[-1], lambdas[0]])\n",
    "ax.set_xlabel(\"Wavelength (um)\")\n",
    "ax.set_ylabel(\"Power in mode (W)\")\n",
    "ax.set_title(\"Mode decomposition (forward-propagating modes)\")\n",
    "ax.legend([\"Mode 0\", \"Mode 1\", \"Mode 2\"])\n",
    "plt.show()"
   ]
  },
  {
   "cell_type": "markdown",
   "metadata": {},
   "source": [
    "As we would expect, all of the power is injected into the fundamental waveguide mode, in the forward direction. More precisely, this is true up to some numerical precision that decreases with increasing simulation resolution. We can examine the frequency dependence of the results a bit more closely, and compare them to the total power flux, which can be computed for any frequency monitor. The flux is the area-integrated time-averaged Poynting vector and gives the (signed) total power flowing through the surface."
   ]
  },
  {
   "cell_type": "code",
   "execution_count": null,
   "metadata": {},
   "outputs": [],
   "source": [
    "# Flux in the mode monitor (total power through the cross-section)\n",
    "flux_wg = sim.flux(mode_mnt)\n",
    "print(\"Flux at central frequency: \", flux_wg[fcent_ind])"
   ]
  },
  {
   "cell_type": "markdown",
   "metadata": {},
   "source": [
    "The flux computation and the modal decomposition are done in a completely different way, but because all the power is in the fundamental mode here, the flux matches really well the zero-mode power from the power decomposition. Finally, let's also compare these two in the full frequency range."
   ]
  },
  {
   "cell_type": "code",
   "execution_count": null,
   "metadata": {},
   "outputs": [],
   "source": [
    "fig, ax = plt.subplots(1, figsize=(6, 4))\n",
    "\n",
    "ax.plot(lambdas, flux_wg)\n",
    "ax.plot(lambdas, np.abs(coeffs_f[:, 0])**2)\n",
    "ax.set_xlim([lambdas[-1], lambdas[0]])\n",
    "ax.set_xlabel(\"Wavelength (um)\")\n",
    "ax.set_ylabel(\"Power (W)\")\n",
    "ax.set_title(\"Power in mode monitor\")\n",
    "ax.legend([\"Total\", \"Mode 0\"])\n",
    "\n",
    "plt.show()"
   ]
  },
  {
   "cell_type": "markdown",
   "metadata": {},
   "source": [
    "As we already saw, at the central frequency, the source power is extremely well directed in the waveguide mode. Since the source mode is computed at the central frequency only, away from that it is not perfectly matched, leading to a small decrease of the total radiated power. In certain situations, it is even possible to observe injected power larger than one away from the central frequency. That said, we see that all the radiated power is still emitted into the desired waveguide mode, especially within the typical range of interest $1.5\\mu m < \\lambda < 1.6 \\mu m$. For best accuracy when computing scattering parameters away from the central frequency, we then just need to do a \"normalization\" run like this one to account for the small frequency dependence of the total radiated power."
   ]
  },
  {
   "cell_type": "markdown",
   "metadata": {},
   "source": [
    "### Waveguide junction\n",
    "\n",
    "Finally, we repeat the simulation, but this time introduce a much bigger waveguide in the second half of the domain."
   ]
  },
  {
   "cell_type": "code",
   "execution_count": null,
   "metadata": {},
   "outputs": [],
   "source": [
    "# Output waveguide\n",
    "wgout_width = 1.4\n",
    "\n",
    "waveguide_out = td.Box(\n",
    "    center=[2, 0, wg_height/2],\n",
    "    size=[4, wgout_width, wg_height],\n",
    "    material=mat_wg)"
   ]
  },
  {
   "cell_type": "code",
   "execution_count": null,
   "metadata": {},
   "outputs": [],
   "source": [
    "sim = td.Simulation(size=sim_size,\n",
    "                    resolution=resolution, \n",
    "                    structures=[waveguide, waveguide_out, substrate], \n",
    "                    sources=[msource], \n",
    "                    monitors=[freq_mnt, mode_mnt],\n",
    "                    run_time=run_time,\n",
    "                    pml_layers=[Npml]*3)\n",
    "\n",
    "fig = plt.figure(figsize=(12, 4))\n",
    "gs = mpl.gridspec.GridSpec(1, 2, figure=fig, width_ratios=[2, 1])\n",
    "ax1 = fig.add_subplot(gs[0, 0])\n",
    "ax2 = fig.add_subplot(gs[0, 1])\n",
    "sim.viz_eps_2D(normal='z', ax=ax1);\n",
    "sim.viz_eps_2D(normal='x', ax=ax2);"
   ]
  },
  {
   "cell_type": "markdown",
   "metadata": {},
   "source": [
    "We set the same mode source in the original waveguide, but we need to recompute the modes at the monitor location."
   ]
  },
  {
   "cell_type": "code",
   "execution_count": null,
   "metadata": {},
   "outputs": [],
   "source": [
    "# We need to set the source mode index, but we don't need to re-compute the mode\n",
    "sim.set_mode(msource, mode_ind= 0)\n",
    "\n",
    "# Run and load the results\n",
    "project = web.new_project(sim.export(), task_name='Waveguide')\n",
    "web.monitor_project(project['taskId'])\n",
    "web.download_results(project['taskId'], target_folder='out/')\n",
    "sim.load_results('out/monitor_data.hdf5')"
   ]
  },
  {
   "cell_type": "code",
   "execution_count": null,
   "metadata": {},
   "outputs": [],
   "source": [
    "# Visualize the modes at the central frequency\n",
    "sim.viz_modes(mode_mnt, freq_ind=fcent_ind, cbar=True)\n",
    "plt.show()"
   ]
  },
  {
   "cell_type": "code",
   "execution_count": null,
   "metadata": {},
   "outputs": [],
   "source": [
    "# Show in-plane propagation\n",
    "fig, ax = plt.subplots(1, figsize=(6, 4))\n",
    "sim.viz_field_2D(freq_mnt, ax=ax, cbar=True, comp='y', val='re');"
   ]
  },
  {
   "cell_type": "markdown",
   "metadata": {},
   "source": [
    "This time, the output waveguide is multi-mode, and there is obviously some mode-mixing happening. We can use the mode monitor to exactly quantify this."
   ]
  },
  {
   "cell_type": "code",
   "execution_count": null,
   "metadata": {},
   "outputs": [],
   "source": [
    "# Compute decomposition coefficients\n",
    "coeffs_out_f, coeffs_out_b = sim.data(mode_mnt)[\"mode_amps\"]\n",
    "# Normalize by the flux recorded in the normalization run\n",
    "coeffs_out_f /= flux_wg\n",
    "coeffs_out_b /= flux_wg\n",
    "\n",
    "fig, ax = plt.subplots(1, figsize=(6, 4))\n",
    "\n",
    "ax.plot(lambdas, np.sum(np.abs(coeffs_out_f)**2, axis=1))\n",
    "ax.plot(lambdas, np.abs(coeffs_out_f)**2)\n",
    "ax.set_xlim([lambdas[-1], lambdas[0]])\n",
    "ax.set_xlabel(\"Wavelength (um)\")\n",
    "ax.set_ylabel(\"Power (W)\")\n",
    "ax.set_title(\"Power in mode monitor\")\n",
    "ax.legend([\"Mode 0 + 1 + 2\"] + [\"Mode %d\"%i for i in range(3)])\n",
    "\n",
    "plt.show()"
   ]
  },
  {
   "cell_type": "markdown",
   "metadata": {},
   "source": [
    "Because of the symmetry with respect to the $y=0$ plane, the power in Mode 0 cannot be converted to Mode 1, but a significant amount of power is converted to Mode 3. Note also that the combined power in the computed modes is smaller than 1W. The missing part is most likely lost in scattering at the sharp waveguide interface."
   ]
  }
 ],
 "metadata": {
  "kernelspec": {
   "display_name": "Python 3 (ipykernel)",
   "language": "python",
   "name": "python3"
  },
  "language_info": {
   "codemirror_mode": {
    "name": "ipython",
    "version": 3
   },
   "file_extension": ".py",
   "mimetype": "text/x-python",
   "name": "python",
   "nbconvert_exporter": "python",
   "pygments_lexer": "ipython3",
   "version": "3.9.7"
  }
 },
 "nbformat": 4,
 "nbformat_minor": 4
}
