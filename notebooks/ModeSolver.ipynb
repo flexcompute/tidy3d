{
 "cells": [
  {
   "cell_type": "markdown",
   "id": "992aeb00-bc60-45f3-be8a-8aa1edc5f74a",
   "metadata": {},
   "source": [
    "## Mode Solver\n",
    "\n",
    "This tutorial shows how to use the mode solver plugin in tidy3d."
   ]
  },
  {
   "cell_type": "code",
   "execution_count": 1,
   "id": "904048e1-a2ac-41fd-ab7d-b5e85c7b966f",
   "metadata": {
    "execution": {
     "iopub.execute_input": "2021-10-18T21:22:52.078781Z",
     "iopub.status.busy": "2021-10-18T21:22:52.078040Z",
     "iopub.status.idle": "2021-10-18T21:22:53.650766Z",
     "shell.execute_reply": "2021-10-18T21:22:53.651259Z"
    },
    "tags": []
   },
   "outputs": [],
   "source": [
    "import numpy as np\n",
    "import matplotlib.pylab as plt\n",
    "\n",
    "import sys\n",
    "sys.path.append('..')\n",
    "\n",
    "import tidy3d as td\n",
    "from tidy3d.constants import C_0"
   ]
  },
  {
   "cell_type": "markdown",
   "id": "04d905f4-3904-4667-92c4-4d00b7b21ef7",
   "metadata": {},
   "source": [
    "## Setup\n",
    "\n",
    "We first set up the mode solver with information about our system.\n",
    "\n",
    "We start by setting parameters"
   ]
  },
  {
   "cell_type": "code",
   "execution_count": 2,
   "id": "b7561e66-f844-4ce9-b1af-45b2afdb61e5",
   "metadata": {
    "execution": {
     "iopub.execute_input": "2021-10-18T21:22:53.656152Z",
     "iopub.status.busy": "2021-10-18T21:22:53.655492Z",
     "iopub.status.idle": "2021-10-18T21:22:53.657443Z",
     "shell.execute_reply": "2021-10-18T21:22:53.657879Z"
    },
    "tags": []
   },
   "outputs": [],
   "source": [
    "# size of simulation domain\n",
    "Lx, Ly, Lz = 6, 6, 6\n",
    "dl = .05\n",
    "\n",
    "# waveguide information \n",
    "wg_width = 1.5\n",
    "wg_height = 1.0\n",
    "wg_permittivity = 4.0\n",
    "\n",
    "# frequency we want to solve at (freq0)\n",
    "wvl_um = 2.0\n",
    "freq_hz = C_0 / wvl_um"
   ]
  },
  {
   "cell_type": "markdown",
   "id": "1f626eec-709e-4d66-881c-8bc8e0501984",
   "metadata": {},
   "source": [
    "Then we set up a simulation, in this case including a straight waveguide"
   ]
  },
  {
   "cell_type": "code",
   "execution_count": 3,
   "id": "f406fab9-422c-4b41-a857-ffa0ba347f13",
   "metadata": {
    "execution": {
     "iopub.execute_input": "2021-10-18T21:22:53.665032Z",
     "iopub.status.busy": "2021-10-18T21:22:53.664465Z",
     "iopub.status.idle": "2021-10-18T21:22:53.780499Z",
     "shell.execute_reply": "2021-10-18T21:22:53.780895Z"
    },
    "tags": []
   },
   "outputs": [
    {
     "data": {
      "image/png": "[encoded data removed]"
     },
     "metadata": {
      "needs_background": "light"
     },
     "output_type": "display_data"
    }
   ],
   "source": [
    "waveguide = td.Structure(\n",
    "    geometry = td.Box(size=(wg_width, wg_height, Lz)),\n",
    "    medium = td.Medium(permittivity=wg_permittivity)\n",
    ")\n",
    "\n",
    "sim = td.Simulation(\n",
    "    size=(Lx, Ly, Lz),\n",
    "    grid_size=(dl, dl, dl),\n",
    "    pml_layers=(\n",
    "        td.PMLLayer(num_layers=0),\n",
    "        td.PMLLayer(num_layers=0),\n",
    "        td.PMLLayer(num_layers=0),        \n",
    "    ),\n",
    "    structures=[waveguide],\n",
    ")\n",
    "\n",
    "im = waveguide.geometry.plot(z=0)"
   ]
  },
  {
   "cell_type": "markdown",
   "id": "d40bc38c-2241-4dc3-9d99-e5a5e8fce02f",
   "metadata": {},
   "source": [
    "## Initialize Mode Solver\n",
    "\n",
    "With our system defined, we can now create our mode solver.\n",
    "\n",
    "We first need to specify on what plane we want to solve the modes using a `td.Box()` object."
   ]
  },
  {
   "cell_type": "code",
   "execution_count": 4,
   "id": "85242c0e-763e-4c39-bf98-28968fd4ba60",
   "metadata": {
    "execution": {
     "iopub.execute_input": "2021-10-18T21:22:53.784649Z",
     "iopub.status.busy": "2021-10-18T21:22:53.784111Z",
     "iopub.status.idle": "2021-10-18T21:22:53.785636Z",
     "shell.execute_reply": "2021-10-18T21:22:53.786228Z"
    },
    "tags": []
   },
   "outputs": [],
   "source": [
    "plane = td.Box(\n",
    "    center=(0,0,0),\n",
    "    size=(Lx, Ly, 0)\n",
    ")"
   ]
  },
  {
   "cell_type": "markdown",
   "id": "e8ddbc5f-22cc-4084-b562-d3d7ed0e3424",
   "metadata": {},
   "source": [
    "Then we can initialize a `ModeSolver()` object to solve for the modes at frequency `freq` on plane `plane` in `sim`.\n",
    "\n",
    "The mode solver will evaluate the complex-valued permittivity of `simulation` on `plane` at frequency `freq` and use this for the mode solver."
   ]
  },
  {
   "cell_type": "code",
   "execution_count": 5,
   "id": "e7cd5532-e19d-4d78-aab4-a60657e19a72",
   "metadata": {
    "execution": {
     "iopub.execute_input": "2021-10-18T21:22:53.789783Z",
     "iopub.status.busy": "2021-10-18T21:22:53.789077Z",
     "iopub.status.idle": "2021-10-18T21:22:53.791019Z",
     "shell.execute_reply": "2021-10-18T21:22:53.791383Z"
    },
    "tags": []
   },
   "outputs": [],
   "source": [
    "from tidy3d.plugins import ModeSolver\n",
    "\n",
    "mode_solver = ModeSolver(\n",
    "    simulation=sim,\n",
    "    plane=plane,\n",
    "    freq=freq_hz\n",
    ")"
   ]
  },
  {
   "cell_type": "markdown",
   "id": "42d8ec77-f275-4eca-9bcd-77a945e0840b",
   "metadata": {},
   "source": [
    "## Define Mode\n",
    "\n",
    "The goal of the mode solver is to determine a `td.Mode()` specification that can be used in your actual Tidy3d simulation.\n",
    "\n",
    "We can define such a specification using\n",
    "\n",
    "- `mode_index`: integer (return the `mode_index`-th result of the solver, generally this refers to the mode with the `mode_index`-th lowest effective index.\n",
    "\n",
    "- `target_neff`: float, default=None, guess for the n_eff of the mode, if not specified, chooses the maximum real part of the refractive index in the cross section.\n",
    "\n",
    "- `symmetry`: tuple of 2 integers, default=(0,0), with the first and second value being one of {0: no symmetry, 1: PMC (even), -1: PEC (odd)}.  These set the symmetry on the two axes of the plane.\n",
    "\n",
    "- `num_pml`: tuple of 2 integers, default=(0,0) specifying how many pml layers to place on the two axes of the plane.\n",
    "\n",
    "For example:"
   ]
  },
  {
   "cell_type": "code",
   "execution_count": 6,
   "id": "a55fdacb-d323-4a37-866b-99a184f64686",
   "metadata": {
    "execution": {
     "iopub.execute_input": "2021-10-18T21:22:53.794726Z",
     "iopub.status.busy": "2021-10-18T21:22:53.794171Z",
     "iopub.status.idle": "2021-10-18T21:22:53.796325Z",
     "shell.execute_reply": "2021-10-18T21:22:53.795875Z"
    },
    "tags": []
   },
   "outputs": [],
   "source": [
    "mode = td.Mode(\n",
    "    mode_index=0, # fundamental mode?\n",
    "    target_neff=None,\n",
    "    symmetries=(0,0),\n",
    "    num_pml=(0,0)\n",
    ")"
   ]
  },
  {
   "cell_type": "markdown",
   "id": "ad5a2721-5f29-4071-b8e1-a4f4b3a57bb7",
   "metadata": {},
   "source": [
    "Once we have the mode specification, we can `solve` for the mode information using our `ModeSolver()` instance."
   ]
  },
  {
   "cell_type": "code",
   "execution_count": 7,
   "id": "b2e1096a-a6b3-400c-84f0-3905f126ce73",
   "metadata": {
    "execution": {
     "iopub.execute_input": "2021-10-18T21:22:53.799346Z",
     "iopub.status.busy": "2021-10-18T21:22:53.798768Z",
     "iopub.status.idle": "2021-10-18T21:22:54.876614Z",
     "shell.execute_reply": "2021-10-18T21:22:54.877021Z"
    },
    "tags": []
   },
   "outputs": [],
   "source": [
    "mode_info = mode_solver.solve(mode)"
   ]
  },
  {
   "cell_type": "markdown",
   "id": "a65fe18c-efd4-4ad6-8150-976db463a9f6",
   "metadata": {},
   "source": [
    "## Visualizing Mode Data\n",
    "\n",
    "The `mode_info` object contains information about the effective index of the mode and the field profiles.\n",
    "\n",
    "The effective index information can be accessed as follows."
   ]
  },
  {
   "cell_type": "code",
   "execution_count": 8,
   "id": "ed4107ba-03dc-4ce2-9af9-d2d49a87305f",
   "metadata": {
    "execution": {
     "iopub.execute_input": "2021-10-18T21:22:54.880741Z",
     "iopub.status.busy": "2021-10-18T21:22:54.880046Z",
     "iopub.status.idle": "2021-10-18T21:22:54.882386Z",
     "shell.execute_reply": "2021-10-18T21:22:54.882850Z"
    },
    "tags": []
   },
   "outputs": [
    {
     "name": "stdout",
     "output_type": "stream",
     "text": [
      "found: n_eff = 1.76, k_eff = 2.09e-17\n"
     ]
    }
   ],
   "source": [
    "n_eff = mode_info.n_eff\n",
    "k_eff = mode_info.k_eff\n",
    "\n",
    "print(f'found: n_eff = {n_eff:.2f}, k_eff = {k_eff:.2e}')"
   ]
  },
  {
   "cell_type": "markdown",
   "id": "67464b45-f782-4fde-8ac6-e98155754e61",
   "metadata": {},
   "source": [
    "The `mode_info.field_data` attribute is a `td.FieldData` instance that can be visualized and analyzed using the various methods provided by `FieldData` objects."
   ]
  },
  {
   "cell_type": "code",
   "execution_count": 9,
   "id": "2220d4ef-24c2-4b5e-b683-8fc66610dd31",
   "metadata": {
    "execution": {
     "iopub.execute_input": "2021-10-18T21:22:54.891363Z",
     "iopub.status.busy": "2021-10-18T21:22:54.890762Z",
     "iopub.status.idle": "2021-10-18T21:22:54.894003Z",
     "shell.execute_reply": "2021-10-18T21:22:54.894510Z"
    },
    "tags": []
   },
   "outputs": [
    {
     "data": {
      "text/html": [
       "<pre style=\"white-space:pre;overflow-x:auto;line-height:normal;font-family:Menlo,'DejaVu Sans Mono',consolas,'Courier New',monospace\">\n",
       "Coordinates:\n",
       "  * x        <span style=\"font-weight: bold\">(</span>x<span style=\"font-weight: bold\">)</span> float64 <span style=\"color: #008080; text-decoration-color: #008080; font-weight: bold\">-3.0</span> <span style=\"color: #008080; text-decoration-color: #008080; font-weight: bold\">-2.95</span> <span style=\"color: #008080; text-decoration-color: #008080; font-weight: bold\">-2.9</span> <span style=\"color: #008080; text-decoration-color: #008080; font-weight: bold\">-2.85</span> <span style=\"color: #008080; text-decoration-color: #008080; font-weight: bold\">-2.8</span> <span style=\"color: #808000; text-decoration-color: #808000\">...</span> <span style=\"color: #008080; text-decoration-color: #008080; font-weight: bold\">2.8</span> <span style=\"color: #008080; text-decoration-color: #008080; font-weight: bold\">2.85</span> <span style=\"color: #008080; text-decoration-color: #008080; font-weight: bold\">2.9</span> <span style=\"color: #008080; text-decoration-color: #008080; font-weight: bold\">2.95</span> <span style=\"color: #008080; text-decoration-color: #008080; font-weight: bold\">3.0</span>\n",
       "  * y        <span style=\"font-weight: bold\">(</span>y<span style=\"font-weight: bold\">)</span> float64 <span style=\"color: #008080; text-decoration-color: #008080; font-weight: bold\">-3.0</span> <span style=\"color: #008080; text-decoration-color: #008080; font-weight: bold\">-2.95</span> <span style=\"color: #008080; text-decoration-color: #008080; font-weight: bold\">-2.9</span> <span style=\"color: #008080; text-decoration-color: #008080; font-weight: bold\">-2.85</span> <span style=\"color: #008080; text-decoration-color: #008080; font-weight: bold\">-2.8</span> <span style=\"color: #808000; text-decoration-color: #808000\">...</span> <span style=\"color: #008080; text-decoration-color: #008080; font-weight: bold\">2.8</span> <span style=\"color: #008080; text-decoration-color: #008080; font-weight: bold\">2.85</span> <span style=\"color: #008080; text-decoration-color: #008080; font-weight: bold\">2.9</span> <span style=\"color: #008080; text-decoration-color: #008080; font-weight: bold\">2.95</span> <span style=\"color: #008080; text-decoration-color: #008080; font-weight: bold\">3.0</span>\n",
       "  * z        <span style=\"font-weight: bold\">(</span>z<span style=\"font-weight: bold\">)</span> float64 <span style=\"color: #008080; text-decoration-color: #008080; font-weight: bold\">0.0</span>\n",
       "  * f        <span style=\"font-weight: bold\">(</span>f<span style=\"font-weight: bold\">)</span> float64 <span style=\"color: #008080; text-decoration-color: #008080; font-weight: bold\">1.499e+14</span>\n",
       "</pre>\n"
      ],
      "text/plain": [
       "\n",
       "Coordinates:\n",
       "  * x        \u001b[1m(\u001b[0mx\u001b[1m)\u001b[0m float64 \u001b[1;36m-3.0\u001b[0m \u001b[1;36m-2.95\u001b[0m \u001b[1;36m-2.9\u001b[0m \u001b[1;36m-2.85\u001b[0m \u001b[1;36m-2.8\u001b[0m \u001b[33m...\u001b[0m \u001b[1;36m2.8\u001b[0m \u001b[1;36m2.85\u001b[0m \u001b[1;36m2.9\u001b[0m \u001b[1;36m2.95\u001b[0m \u001b[1;36m3.0\u001b[0m\n",
       "  * y        \u001b[1m(\u001b[0my\u001b[1m)\u001b[0m float64 \u001b[1;36m-3.0\u001b[0m \u001b[1;36m-2.95\u001b[0m \u001b[1;36m-2.9\u001b[0m \u001b[1;36m-2.85\u001b[0m \u001b[1;36m-2.8\u001b[0m \u001b[33m...\u001b[0m \u001b[1;36m2.8\u001b[0m \u001b[1;36m2.85\u001b[0m \u001b[1;36m2.9\u001b[0m \u001b[1;36m2.95\u001b[0m \u001b[1;36m3.0\u001b[0m\n",
       "  * z        \u001b[1m(\u001b[0mz\u001b[1m)\u001b[0m float64 \u001b[1;36m0.0\u001b[0m\n",
       "  * f        \u001b[1m(\u001b[0mf\u001b[1m)\u001b[0m float64 \u001b[1;36m1.499e+14\u001b[0m\n"
      ]
     },
     "metadata": {},
     "output_type": "display_data"
    }
   ],
   "source": [
    "mode_info.field_data.data.coords"
   ]
  },
  {
   "cell_type": "code",
   "execution_count": 10,
   "id": "89bddefa-79d5-41f0-93fc-b87ca1560144",
   "metadata": {
    "execution": {
     "iopub.execute_input": "2021-10-18T21:22:54.898290Z",
     "iopub.status.busy": "2021-10-18T21:22:54.897739Z",
     "iopub.status.idle": "2021-10-18T21:22:55.048064Z",
     "shell.execute_reply": "2021-10-18T21:22:55.048379Z"
    },
    "tags": []
   },
   "outputs": [
    {
     "data": {
      "image/png": "[encoded data removed]"
     },
     "metadata": {
      "needs_background": "light"
     },
     "output_type": "display_data"
    }
   ],
   "source": [
    "_ = mode_info.field_data.data.Ex.real.plot()"
   ]
  },
  {
   "cell_type": "markdown",
   "id": "44b63c7f-9dbc-4f03-8150-bc3da5c0af77",
   "metadata": {},
   "source": [
    "## Refining the Mode information\n",
    "\n",
    "In typical settings, one would want to tweak the parameters in the `Mode` specification nd run again.\n",
    "\n",
    "For example, if we wanted to find the next higher order mode, we can adjust `Mode.mode_index` and solve again."
   ]
  },
  {
   "cell_type": "code",
   "execution_count": 11,
   "id": "78290b12-54a9-4a0a-b138-207a8b31b3d6",
   "metadata": {
    "execution": {
     "iopub.execute_input": "2021-10-18T21:22:55.053079Z",
     "iopub.status.busy": "2021-10-18T21:22:55.052515Z",
     "iopub.status.idle": "2021-10-18T21:22:56.404165Z",
     "shell.execute_reply": "2021-10-18T21:22:56.404639Z"
    },
    "tags": []
   },
   "outputs": [
    {
     "data": {
      "image/png": "[encoded data removed]"
     },
     "metadata": {
      "needs_background": "light"
     },
     "output_type": "display_data"
    }
   ],
   "source": [
    "mode.mode_index=1\n",
    "mode_info = mode_solver.solve(mode)\n",
    "f, (ax1, ax2) = plt.subplots(1, 2, tight_layout=True, figsize=(10, 3))\n",
    "mode_info.field_data.data.Ex.real.plot(ax=ax1)\n",
    "mode_info.field_data.data.Ey.real.plot(ax=ax2)\n",
    "ax1.set_title('Ex(x, y)')\n",
    "ax2.set_title('Ey(x, y)')\n",
    "plt.show()"
   ]
  },
  {
   "cell_type": "markdown",
   "id": "a73228af-02da-4beb-bf37-3489bbccfd10",
   "metadata": {},
   "source": [
    "This looks like an Ey-dominant mode, if instead we wanted a higher order Ex-dominant mode, let's try again with `mode_index=3`."
   ]
  },
  {
   "cell_type": "code",
   "execution_count": 12,
   "id": "75d22ea0-8328-48b5-a2ce-995c20b36d71",
   "metadata": {
    "execution": {
     "iopub.execute_input": "2021-10-18T21:22:56.408348Z",
     "iopub.status.busy": "2021-10-18T21:22:56.407857Z",
     "iopub.status.idle": "2021-10-18T21:22:57.807643Z",
     "shell.execute_reply": "2021-10-18T21:22:57.807964Z"
    },
    "tags": []
   },
   "outputs": [
    {
     "data": {
      "image/png": "[encoded data removed]"
     },
     "metadata": {
      "needs_background": "light"
     },
     "output_type": "display_data"
    }
   ],
   "source": [
    "mode.mode_index = 3\n",
    "mode_info = mode_solver.solve(mode)\n",
    "_ = mode_info.field_data.data.Ex.real.plot()"
   ]
  },
  {
   "cell_type": "markdown",
   "id": "23106d01-4491-427f-af40-219f4830f865",
   "metadata": {},
   "source": [
    "## Exporting Results\n",
    "\n",
    "This looks promising!\n",
    "\n",
    "Now we may want to export this `Mode` specification to use in our main tidy3d script.\n",
    "\n",
    "There are several ways to do this:"
   ]
  },
  {
   "cell_type": "markdown",
   "id": "71904023-fa7a-402e-8bf4-a892e84a9a8c",
   "metadata": {},
   "source": [
    "### As Mode\n",
    "The `Mode` object used in the `ModeSolver` can be used directly to define a `ModeSource` or `ModeMonitor`, for example:"
   ]
  },
  {
   "cell_type": "code",
   "execution_count": 13,
   "id": "aa92d712-a2fc-4717-b196-5377001135a5",
   "metadata": {
    "execution": {
     "iopub.execute_input": "2021-10-18T21:22:57.812163Z",
     "iopub.status.busy": "2021-10-18T21:22:57.811708Z",
     "iopub.status.idle": "2021-10-18T21:22:57.813389Z",
     "shell.execute_reply": "2021-10-18T21:22:57.813800Z"
    },
    "tags": []
   },
   "outputs": [],
   "source": [
    "mode_src = td.ModeSource(\n",
    "    center = plane.center,\n",
    "    size = plane.size,\n",
    "    source_time = td.GaussianPulse(\n",
    "        freq0 = freq_hz,\n",
    "        fwidth = freq_hz/10\n",
    "    ),\n",
    "    direction='+',\n",
    "    mode=mode  # note that this is the same object we used in mode solver\n",
    ")\n",
    "\n",
    "sim.sources['mode_source'] = mode_src\n",
    "# run simulation"
   ]
  },
  {
   "cell_type": "markdown",
   "id": "91ae5e53-b020-4c9b-baea-eed7d56cd7c3",
   "metadata": {},
   "source": [
    "### Save and Load\n",
    "Like most tidy3d components, the `mode` can be exported to .json and loaded in your main script, if runnning mode solver as a separate program."
   ]
  },
  {
   "cell_type": "code",
   "execution_count": 14,
   "id": "7b91a2c4-429d-4717-bad7-2f0a52de5ec1",
   "metadata": {
    "execution": {
     "iopub.execute_input": "2021-10-18T21:22:57.817058Z",
     "iopub.status.busy": "2021-10-18T21:22:57.816566Z",
     "iopub.status.idle": "2021-10-18T21:22:57.818762Z",
     "shell.execute_reply": "2021-10-18T21:22:57.819114Z"
    },
    "tags": []
   },
   "outputs": [],
   "source": [
    "# save to file\n",
    "fname = 'data/mode.json'\n",
    "mode.export(fname)\n",
    "\n",
    "# in your main script, load file and use mode\n",
    "mode = td.Mode.load(fname)"
   ]
  },
  {
   "cell_type": "markdown",
   "id": "4ff55bae-0eab-482d-9b5c-582c12641402",
   "metadata": {},
   "source": [
    "### Copy and Paste\n",
    "\n",
    "One can also simply print the mode and copy and paste this information into the main script to hard-code the specifications"
   ]
  },
  {
   "cell_type": "code",
   "execution_count": 15,
   "id": "bdee6787-cbd4-49e7-bb81-0323506c21de",
   "metadata": {
    "execution": {
     "iopub.execute_input": "2021-10-18T21:22:57.822121Z",
     "iopub.status.busy": "2021-10-18T21:22:57.821624Z",
     "iopub.status.idle": "2021-10-18T21:22:57.823600Z",
     "shell.execute_reply": "2021-10-18T21:22:57.823962Z"
    },
    "tags": []
   },
   "outputs": [
    {
     "name": "stdout",
     "output_type": "stream",
     "text": [
      "mode = td.Mode(mode_index=3 target_neff=None symmetries=(0, 0) num_pml=(0, 0))\n"
     ]
    }
   ],
   "source": [
    "print(f'mode = td.Mode({mode})')"
   ]
  },
  {
   "cell_type": "code",
   "execution_count": 16,
   "id": "66e31397-3626-4222-bd19-5514562d955c",
   "metadata": {
    "execution": {
     "iopub.execute_input": "2021-10-18T21:22:57.826801Z",
     "iopub.status.busy": "2021-10-18T21:22:57.826302Z",
     "iopub.status.idle": "2021-10-18T21:22:57.828061Z",
     "shell.execute_reply": "2021-10-18T21:22:57.828484Z"
    },
    "tags": []
   },
   "outputs": [],
   "source": [
    "# copy and paste output in your file\n",
    "mode = td.Mode(mode_index=2)"
   ]
  },
  {
   "cell_type": "markdown",
   "id": "96ecf333-9514-46a6-b474-50a656ff5c7b",
   "metadata": {},
   "source": [
    "### ModeSolver methods\n",
    "Finally, the `ModeSolver` provides some convenience methods for returning `ModeSource` and `ModeMonitor` objects."
   ]
  },
  {
   "cell_type": "code",
   "execution_count": 17,
   "id": "29fbf9dd-c61f-407f-83e6-9e107720809b",
   "metadata": {
    "execution": {
     "iopub.execute_input": "2021-10-18T21:22:57.831985Z",
     "iopub.status.busy": "2021-10-18T21:22:57.831506Z",
     "iopub.status.idle": "2021-10-18T21:22:57.833127Z",
     "shell.execute_reply": "2021-10-18T21:22:57.833554Z"
    },
    "tags": []
   },
   "outputs": [],
   "source": [
    "# makes a modal source with geometry of `plane`, source_time given by `freq_hz` and `fwidth` and `mode` specified by `mode`\n",
    "mode_src = mode_solver.make_source(mode=mode, fwidth=freq_hz, direction='+')\n",
    "\n",
    "# makes a mode monitor with geometry of `plane`, `td.FreqSampler` given by a list of frequencies and `mode` specified by `mode`\n",
    "mode_mon = mode_solver.make_monitor(mode=mode, freqs=[0.9 * freq_hz, freq_hz, 1.1*freq_hz])\n"
   ]
  },
  {
   "cell_type": "markdown",
   "id": "e8879c05-62d2-4de4-a9d7-2f4537f408f9",
   "metadata": {},
   "source": [
    "## Advanced Use\n",
    "\n",
    "Here are some more advanced functionalities of the mode solver for practical use:\n",
    "\n",
    "### \"Scanning\" modes\n",
    "One might want to view how a mode behaves over a range of frequencies, for now, just iterate:"
   ]
  },
  {
   "cell_type": "code",
   "execution_count": 18,
   "id": "ba7c532e-d7ad-4d76-bc7e-05c116604fba",
   "metadata": {
    "execution": {
     "iopub.execute_input": "2021-10-18T21:22:57.837873Z",
     "iopub.status.busy": "2021-10-18T21:22:57.837266Z",
     "iopub.status.idle": "2021-10-18T21:23:03.551932Z",
     "shell.execute_reply": "2021-10-18T21:23:03.552328Z"
    },
    "tags": []
   },
   "outputs": [
    {
     "name": "stdout",
     "output_type": "stream",
     "text": [
      "freq = 600 THz\n",
      "\t- neff = 1.96\n",
      "\t- keff = 1.07e-19\n"
     ]
    },
    {
     "name": "stdout",
     "output_type": "stream",
     "text": [
      "freq = 400 THz\n",
      "\t- neff = 1.91\n",
      "\t- keff = 3.13e-11\n"
     ]
    },
    {
     "name": "stdout",
     "output_type": "stream",
     "text": [
      "freq = 300 THz\n",
      "\t- neff = 1.85\n",
      "\t- keff = 1.44e-11\n"
     ]
    },
    {
     "name": "stdout",
     "output_type": "stream",
     "text": [
      "freq = 240 THz\n",
      "\t- neff = 1.77\n",
      "\t- keff = 1.05e-17\n"
     ]
    },
    {
     "name": "stdout",
     "output_type": "stream",
     "text": [
      "freq = 200 THz\n",
      "\t- neff = 1.68\n",
      "\t- keff = 1.38e-10\n"
     ]
    },
    {
     "data": {
      "image/png": "[encoded data removed]"
     },
     "metadata": {
      "needs_background": "light"
     },
     "output_type": "display_data"
    }
   ],
   "source": [
    "freqs = C_0 / np.linspace(0.5, 1.5, 5)\n",
    "neffs = []\n",
    "for freq in freqs:\n",
    "    mode_solver = ModeSolver(\n",
    "        simulation=sim,\n",
    "        plane=plane,\n",
    "        freq=freq)\n",
    "    mode_info = mode_solver.solve(mode)\n",
    "    print(f'freq = {(freq/1e12):.0f} THz\\n\\t- neff = {mode_info.n_eff:.2f}\\n\\t- keff = {mode_info.k_eff:.2e}')\n",
    "    neffs.append(mode_info.n_eff)\n",
    "    # or, get field data and plot\n",
    "\n",
    "plt.plot(freqs / 1e12, neffs)\n",
    "plt.xlabel('freq (THz)')\n",
    "plt.ylabel('effective index (real)')\n",
    "plt.show()"
   ]
  },
  {
   "cell_type": "markdown",
   "id": "6876ca3b-6664-44c2-8fb6-bd67d3db6d02",
   "metadata": {},
   "source": [
    "### Viewing multiple mode specifications\n",
    "One might want to view multiple mode specifications side by side, for now, just iterate:"
   ]
  },
  {
   "cell_type": "code",
   "execution_count": 19,
   "id": "948f8b5a-3217-47da-bfc3-a40c674b6fbf",
   "metadata": {
    "execution": {
     "iopub.execute_input": "2021-10-18T21:23:03.557430Z",
     "iopub.status.busy": "2021-10-18T21:23:03.556877Z",
     "iopub.status.idle": "2021-10-18T21:23:09.039207Z",
     "shell.execute_reply": "2021-10-18T21:23:09.039779Z"
    },
    "tags": []
   },
   "outputs": [
    {
     "name": "stdout",
     "output_type": "stream",
     "text": [
      "mode index = 0\n",
      "\t- neff = 1.85\n",
      "\t- keff = 1.72e-18\n"
     ]
    },
    {
     "name": "stdout",
     "output_type": "stream",
     "text": [
      "mode index = 1\n",
      "\t- neff = 1.83\n",
      "\t- keff = -5.78e-17\n"
     ]
    },
    {
     "name": "stdout",
     "output_type": "stream",
     "text": [
      "mode index = 2\n",
      "\t- neff = 1.68\n",
      "\t- keff = 9.39e-11\n"
     ]
    },
    {
     "name": "stdout",
     "output_type": "stream",
     "text": [
      "mode index = 3\n",
      "\t- neff = 1.66\n",
      "\t- keff = -1.70e-17\n"
     ]
    },
    {
     "name": "stdout",
     "output_type": "stream",
     "text": [
      "mode index = 4\n",
      "\t- neff = 1.56\n",
      "\t- keff = -7.65e-15\n"
     ]
    },
    {
     "data": {
      "image/png": "[encoded data removed]"
     },
     "metadata": {
      "needs_background": "light"
     },
     "output_type": "display_data"
    }
   ],
   "source": [
    "mode_indices = np.arange(0, 5)\n",
    "mode_solver = ModeSolver(\n",
    "    simulation=sim,\n",
    "    plane=plane,\n",
    "    freq=freq)\n",
    "\n",
    "neffs = []\n",
    "for mode_index in mode_indices:\n",
    "    mode = td.Mode(mode_index=mode_index)\n",
    "    mode_info = mode_solver.solve(mode)\n",
    "    print(f'mode index = {mode_index}\\n\\t- neff = {mode_info.n_eff:.2f}\\n\\t- keff = {mode_info.k_eff:.2e}')\n",
    "    neffs.append(mode_info.n_eff)\n",
    "    # or, get field data and plot\n",
    "\n",
    "plt.plot(freqs / 1e12, neffs)\n",
    "plt.xlabel('freq (THz)')\n",
    "plt.ylabel('effective index (real)')\n",
    "plt.show()"
   ]
  },
  {
   "cell_type": "markdown",
   "id": "3c601b8b-b9f0-4f60-a150-ed77aa0c9fa6",
   "metadata": {},
   "source": [
    "## Notes / Considerations\n",
    "\n",
    "- This mode solver runs locally, which means it does not require credits to run.\n",
    "- It also means that the mode solver does not use subpixel-smoothening, even if this is specified in the simulation.  Therefore, the results might not perfectly match what we compute with `simulation.subpixel=True`.\n",
    "- Symmetries are applied to the cross section of the permittivity parsed from the simulation.  It uses the upper quadrant data to fill the full `plane`.  "
   ]
  },
  {
   "cell_type": "code",
   "execution_count": null,
   "id": "9068340f-e824-4ac5-8b65-7e95d86314bd",
   "metadata": {},
   "outputs": [],
   "source": []
  }
 ],
 "metadata": {
  "kernelspec": {
   "display_name": "env",
   "language": "python",
   "name": "env"
  },
  "language_info": {
   "codemirror_mode": {
    "name": "ipython",
    "version": 3
   },
   "file_extension": ".py",
   "mimetype": "text/x-python",
   "name": "python",
   "nbconvert_exporter": "python",
   "pygments_lexer": "ipython3",
   "version": "3.9.7"
  }
 },
 "nbformat": 4,
 "nbformat_minor": 5
}
