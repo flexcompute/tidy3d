{
 "cells": [
  {
   "cell_type": "markdown",
   "id": "992aeb00-bc60-45f3-be8a-8aa1edc5f74a",
   "metadata": {},
   "source": [
    "## Mode Solver\n",
    "\n",
    "This tutorial shows how to use the mode solver plugin in tidy3d."
   ]
  },
  {
   "cell_type": "code",
   "execution_count": 1,
   "id": "904048e1-a2ac-41fd-ab7d-b5e85c7b966f",
   "metadata": {
    "tags": []
   },
   "outputs": [],
   "source": [
    "%load_ext autoreload\n",
    "%autoreload 2\n",
    "import numpy as np\n",
    "import matplotlib.pylab as plt\n",
    "\n",
    "import sys\n",
    "sys.path.append('..')\n",
    "\n",
    "import tidy3d as td\n",
    "from tidy3d.constants import C_0"
   ]
  },
  {
   "cell_type": "markdown",
   "id": "04d905f4-3904-4667-92c4-4d00b7b21ef7",
   "metadata": {},
   "source": [
    "## Setup\n",
    "\n",
    "We first set up the mode solver with information about our system.\n",
    "\n",
    "We start by setting parameters"
   ]
  },
  {
   "cell_type": "code",
   "execution_count": 2,
   "id": "b7561e66-f844-4ce9-b1af-45b2afdb61e5",
   "metadata": {
    "tags": []
   },
   "outputs": [],
   "source": [
    "# size of simulation domain\n",
    "Lx, Ly, Lz = 6, 6, 6\n",
    "dl = .05\n",
    "\n",
    "# waveguide information \n",
    "wg_width = 1.5\n",
    "wg_height = 1.0\n",
    "wg_permittivity = 4.0\n",
    "\n",
    "# frequency we want to solve at (freq0)\n",
    "wvl_um = 2.0\n",
    "freq_hz = C_0 / wvl_um"
   ]
  },
  {
   "cell_type": "markdown",
   "id": "1f626eec-709e-4d66-881c-8bc8e0501984",
   "metadata": {},
   "source": [
    "Then we set up a simulation, in this case including a straight waveguide"
   ]
  },
  {
   "cell_type": "code",
   "execution_count": 3,
   "id": "f406fab9-422c-4b41-a857-ffa0ba347f13",
   "metadata": {
    "tags": []
   },
   "outputs": [
    {
     "data": {
      "image/png": "[encoded data removed]"
     },
     "metadata": {
      "needs_background": "light"
     },
     "output_type": "display_data"
    }
   ],
   "source": [
    "waveguide = td.Structure(\n",
    "    geometry = td.Box(size=(wg_width, wg_height, Lz)),\n",
    "    medium = td.Medium(permittivity=wg_permittivity)\n",
    ")\n",
    "monitor = td.FieldMonitor(\n",
    "    size=(Lx, 0, Lz),\n",
    "    freqs=[freq_hz],\n",
    ")\n",
    "\n",
    "sim = td.Simulation(\n",
    "    size=(Lx, Ly, Lz),\n",
    "    grid_size=(dl, dl, dl),\n",
    "    run_time=1e-12,\n",
    "    pml_layers=(\n",
    "        td.PMLLayer(num_layers=0),\n",
    "        td.PMLLayer(num_layers=0),\n",
    "        td.PMLLayer(num_layers=0),        \n",
    "    ),\n",
    "    structures=[waveguide],\n",
    "    monitors={'field': monitor}\n",
    ")\n",
    "\n",
    "ax = sim.plot(z=0)"
   ]
  },
  {
   "cell_type": "markdown",
   "id": "d40bc38c-2241-4dc3-9d99-e5a5e8fce02f",
   "metadata": {},
   "source": [
    "## Initialize Mode Solver\n",
    "\n",
    "With our system defined, we can now create our mode solver.\n",
    "\n",
    "We first need to specify on what plane we want to solve the modes using a `td.Box()` object."
   ]
  },
  {
   "cell_type": "code",
   "execution_count": 4,
   "id": "85242c0e-763e-4c39-bf98-28968fd4ba60",
   "metadata": {
    "tags": []
   },
   "outputs": [],
   "source": [
    "plane = td.Box(\n",
    "    center=(0,0,0),\n",
    "    size=(Lx/3, Ly/3, 0)\n",
    ")"
   ]
  },
  {
   "cell_type": "markdown",
   "id": "e8ddbc5f-22cc-4084-b562-d3d7ed0e3424",
   "metadata": {},
   "source": [
    "Then we can initialize a `ModeSolver()` object to solve for the modes at frequency `freq` on plane `plane` in `sim`.\n",
    "\n",
    "The mode solver will evaluate the complex-valued permittivity of `simulation` on `plane` at frequency `freq` and use this for the mode solver."
   ]
  },
  {
   "cell_type": "code",
   "execution_count": 5,
   "id": "e7cd5532-e19d-4d78-aab4-a60657e19a72",
   "metadata": {
    "tags": []
   },
   "outputs": [],
   "source": [
    "from tidy3d.plugins import ModeSolver\n",
    "\n",
    "mode_solver = ModeSolver(\n",
    "    simulation=sim,\n",
    "    plane=plane,\n",
    "    freq=freq_hz\n",
    ")"
   ]
  },
  {
   "cell_type": "markdown",
   "id": "42d8ec77-f275-4eca-9bcd-77a945e0840b",
   "metadata": {},
   "source": [
    "## Define Mode\n",
    "\n",
    "The goal of the mode solver is to determine a `td.Mode()` specification that can be used in your actual Tidy3d simulation.\n",
    "\n",
    "We can define such a specification using\n",
    "\n",
    "- `mode_index`: integer (return the `mode_index`-th result of the solver, generally this refers to the mode with the `mode_index`-th lowest effective index.\n",
    "\n",
    "- `target_neff`: float, default=None, guess for the n_eff of the mode, if not specified, chooses the maximum real part of the refractive index in the cross section.\n",
    "\n",
    "- `symmetry`: tuple of 2 integers, default=(0,0), with the first and second value being one of {0: no symmetry, 1: PMC (even), -1: PEC (odd)}.  These set the symmetry on the two axes of the plane.\n",
    "\n",
    "- `num_pml`: tuple of 2 integers, default=(0,0) specifying how many pml layers to place on the two axes of the plane.\n",
    "\n",
    "For example:"
   ]
  },
  {
   "cell_type": "code",
   "execution_count": 6,
   "id": "a55fdacb-d323-4a37-866b-99a184f64686",
   "metadata": {
    "tags": []
   },
   "outputs": [],
   "source": [
    "mode = td.Mode(\n",
    "    mode_index=0,\n",
    "    num_modes=2,\n",
    "    target_neff=2.0,\n",
    "    symmetries=(0,0),\n",
    "    num_pml=(0,0)\n",
    ")"
   ]
  },
  {
   "cell_type": "markdown",
   "id": "ad5a2721-5f29-4071-b8e1-a4f4b3a57bb7",
   "metadata": {},
   "source": [
    "Once we have the mode specification, we can `solve` for the mode information using our `ModeSolver()` instance."
   ]
  },
  {
   "cell_type": "code",
   "execution_count": 7,
   "id": "b2e1096a-a6b3-400c-84f0-3905f126ce73",
   "metadata": {
    "tags": []
   },
   "outputs": [],
   "source": [
    "mode_info = mode_solver.solve(mode)"
   ]
  },
  {
   "cell_type": "markdown",
   "id": "a65fe18c-efd4-4ad6-8150-976db463a9f6",
   "metadata": {},
   "source": [
    "## Visualizing Mode Data\n",
    "\n",
    "The `mode_info` object contains information about the effective index of the mode and the field profiles.\n",
    "\n",
    "The effective index information can be accessed as follows."
   ]
  },
  {
   "cell_type": "code",
   "execution_count": 8,
   "id": "ed4107ba-03dc-4ce2-9af9-d2d49a87305f",
   "metadata": {
    "tags": []
   },
   "outputs": [
    {
     "name": "stdout",
     "output_type": "stream",
     "text": [
      "found: n_eff = 1.76, k_eff = 1.40e-17\n"
     ]
    }
   ],
   "source": [
    "n_eff = mode_info.n_eff\n",
    "k_eff = mode_info.k_eff\n",
    "\n",
    "print(f'found: n_eff = {n_eff:.2f}, k_eff = {k_eff:.2e}')"
   ]
  },
  {
   "cell_type": "markdown",
   "id": "67464b45-f782-4fde-8ac6-e98155754e61",
   "metadata": {},
   "source": [
    "The `mode_info.field_data` attribute is a `td.FieldData` instance that can be visualized and analyzed using the various methods provided by `FieldData` objects."
   ]
  },
  {
   "cell_type": "code",
   "execution_count": 9,
   "id": "2220d4ef-24c2-4b5e-b683-8fc66610dd31",
   "metadata": {
    "tags": []
   },
   "outputs": [
    {
     "data": {
      "text/html": [
       "<pre style=\"white-space:pre;overflow-x:auto;line-height:normal;font-family:Menlo,'DejaVu Sans Mono',consolas,'Courier New',monospace\">\n",
       "Coordinates:\n",
       "  * x        <span style=\"font-weight: bold\">(</span>x<span style=\"font-weight: bold\">)</span> float64 <span style=\"color: #008080; text-decoration-color: #008080; font-weight: bold\">-1.0</span> <span style=\"color: #008080; text-decoration-color: #008080; font-weight: bold\">-0.95</span> <span style=\"color: #008080; text-decoration-color: #008080; font-weight: bold\">-0.9</span> <span style=\"color: #008080; text-decoration-color: #008080; font-weight: bold\">-0.85</span> <span style=\"color: #008080; text-decoration-color: #008080; font-weight: bold\">-0.8</span> <span style=\"color: #808000; text-decoration-color: #808000\">...</span> <span style=\"color: #008080; text-decoration-color: #008080; font-weight: bold\">0.8</span> <span style=\"color: #008080; text-decoration-color: #008080; font-weight: bold\">0.85</span> <span style=\"color: #008080; text-decoration-color: #008080; font-weight: bold\">0.9</span> <span style=\"color: #008080; text-decoration-color: #008080; font-weight: bold\">0.95</span> <span style=\"color: #008080; text-decoration-color: #008080; font-weight: bold\">1.0</span>\n",
       "  * y        <span style=\"font-weight: bold\">(</span>y<span style=\"font-weight: bold\">)</span> float64 <span style=\"color: #008080; text-decoration-color: #008080; font-weight: bold\">-1.0</span> <span style=\"color: #008080; text-decoration-color: #008080; font-weight: bold\">-0.95</span> <span style=\"color: #008080; text-decoration-color: #008080; font-weight: bold\">-0.9</span> <span style=\"color: #008080; text-decoration-color: #008080; font-weight: bold\">-0.85</span> <span style=\"color: #008080; text-decoration-color: #008080; font-weight: bold\">-0.8</span> <span style=\"color: #808000; text-decoration-color: #808000\">...</span> <span style=\"color: #008080; text-decoration-color: #008080; font-weight: bold\">0.8</span> <span style=\"color: #008080; text-decoration-color: #008080; font-weight: bold\">0.85</span> <span style=\"color: #008080; text-decoration-color: #008080; font-weight: bold\">0.9</span> <span style=\"color: #008080; text-decoration-color: #008080; font-weight: bold\">0.95</span> <span style=\"color: #008080; text-decoration-color: #008080; font-weight: bold\">1.0</span>\n",
       "  * z        <span style=\"font-weight: bold\">(</span>z<span style=\"font-weight: bold\">)</span> float64 <span style=\"color: #008080; text-decoration-color: #008080; font-weight: bold\">0.0</span>\n",
       "  * f        <span style=\"font-weight: bold\">(</span>f<span style=\"font-weight: bold\">)</span> float64 <span style=\"color: #008080; text-decoration-color: #008080; font-weight: bold\">1.499e+14</span>\n",
       "</pre>\n"
      ],
      "text/plain": [
       "\n",
       "Coordinates:\n",
       "  * x        \u001b[1m(\u001b[0mx\u001b[1m)\u001b[0m float64 \u001b[1;36m-1.0\u001b[0m \u001b[1;36m-0.95\u001b[0m \u001b[1;36m-0.9\u001b[0m \u001b[1;36m-0.85\u001b[0m \u001b[1;36m-0.8\u001b[0m \u001b[33m...\u001b[0m \u001b[1;36m0.8\u001b[0m \u001b[1;36m0.85\u001b[0m \u001b[1;36m0.9\u001b[0m \u001b[1;36m0.95\u001b[0m \u001b[1;36m1.0\u001b[0m\n",
       "  * y        \u001b[1m(\u001b[0my\u001b[1m)\u001b[0m float64 \u001b[1;36m-1.0\u001b[0m \u001b[1;36m-0.95\u001b[0m \u001b[1;36m-0.9\u001b[0m \u001b[1;36m-0.85\u001b[0m \u001b[1;36m-0.8\u001b[0m \u001b[33m...\u001b[0m \u001b[1;36m0.8\u001b[0m \u001b[1;36m0.85\u001b[0m \u001b[1;36m0.9\u001b[0m \u001b[1;36m0.95\u001b[0m \u001b[1;36m1.0\u001b[0m\n",
       "  * z        \u001b[1m(\u001b[0mz\u001b[1m)\u001b[0m float64 \u001b[1;36m0.0\u001b[0m\n",
       "  * f        \u001b[1m(\u001b[0mf\u001b[1m)\u001b[0m float64 \u001b[1;36m1.499e+14\u001b[0m\n"
      ]
     },
     "metadata": {},
     "output_type": "display_data"
    }
   ],
   "source": [
    "mode_info.field_data.coords"
   ]
  },
  {
   "cell_type": "code",
   "execution_count": 10,
   "id": "89bddefa-79d5-41f0-93fc-b87ca1560144",
   "metadata": {
    "tags": []
   },
   "outputs": [
    {
     "data": {
      "image/png": "[encoded data removed]"
     },
     "metadata": {
      "needs_background": "light"
     },
     "output_type": "display_data"
    }
   ],
   "source": [
    "f, (ax1, ax2) = plt.subplots(1, 2, tight_layout=True, figsize=(10, 3))\n",
    "abs(mode_info.field_data.Ex).plot(x='x', y='y', cmap='magma', ax=ax1)\n",
    "abs(mode_info.field_data.Ey).plot(x='x', y='y', cmap='magma', ax=ax2)\n",
    "ax1.set_title('|Ex(x, y)|')\n",
    "ax2.set_title('|Ey(x, y)|')\n",
    "plt.show()"
   ]
  },
  {
   "cell_type": "markdown",
   "id": "44b63c7f-9dbc-4f03-8150-bc3da5c0af77",
   "metadata": {},
   "source": [
    "## Refining the Mode information\n",
    "\n",
    "In typical settings, one would want to tweak the parameters in the `Mode` specification nd run again.\n",
    "\n",
    "For example, if we wanted to find the next higher order mode, we can adjust `Mode.mode_index` and solve again."
   ]
  },
  {
   "cell_type": "code",
   "execution_count": 11,
   "id": "78290b12-54a9-4a0a-b138-207a8b31b3d6",
   "metadata": {
    "tags": []
   },
   "outputs": [
    {
     "data": {
      "image/png": "[encoded data removed]"
     },
     "metadata": {
      "needs_background": "light"
     },
     "output_type": "display_data"
    }
   ],
   "source": [
    "mode.mode_index=1\n",
    "mode_info = mode_solver.solve(mode)\n",
    "f, (ax1, ax2) = plt.subplots(1, 2, tight_layout=True, figsize=(10, 3))\n",
    "mode_info.field_data.Ex.real.plot(x='x', y='y', ax=ax1)\n",
    "mode_info.field_data.Ey.real.plot(x='x', y='y', ax=ax2)\n",
    "ax1.set_title('real(Ex(x, y))')\n",
    "ax2.set_title('real(Ey(x, y))')\n",
    "plt.show()"
   ]
  },
  {
   "cell_type": "markdown",
   "id": "a73228af-02da-4beb-bf37-3489bbccfd10",
   "metadata": {},
   "source": [
    "This looks like an Ey-dominant mode, if instead we wanted a higher order Ex-dominant mode, let's try again with `mode_index=3`."
   ]
  },
  {
   "cell_type": "code",
   "execution_count": 12,
   "id": "75d22ea0-8328-48b5-a2ce-995c20b36d71",
   "metadata": {
    "tags": []
   },
   "outputs": [
    {
     "data": {
      "image/png": "[encoded data removed]"
     },
     "metadata": {
      "needs_background": "light"
     },
     "output_type": "display_data"
    }
   ],
   "source": [
    "mode.mode_index = 3\n",
    "mode.num_modes = 4 # make sure we specify that we want solver return enough modes to cover mode_index=3\n",
    "mode_info = mode_solver.solve(mode)\n",
    "f, (ax1, ax2) = plt.subplots(1, 2, tight_layout=True, figsize=(10, 3))\n",
    "mode_info.field_data.Ex.real.plot(x='x', y='y', ax=ax1)\n",
    "mode_info.field_data.Ey.real.plot(x='x', y='y', ax=ax2)\n",
    "ax1.set_title('real(Ex(x, y))')\n",
    "ax2.set_title('real(Ey(x, y))')\n",
    "plt.show()"
   ]
  },
  {
   "cell_type": "markdown",
   "id": "23106d01-4491-427f-af40-219f4830f865",
   "metadata": {},
   "source": [
    "## Exporting Results\n",
    "\n",
    "This looks promising!\n",
    "\n",
    "Now we may want to export this `Mode` specification to use in our main tidy3d script.\n",
    "\n",
    "There are several ways to do this:"
   ]
  },
  {
   "cell_type": "markdown",
   "id": "71904023-fa7a-402e-8bf4-a892e84a9a8c",
   "metadata": {},
   "source": [
    "### As Source\n",
    "The `Mode` object used in the `ModeSolver` can be used directly to define a `ModeSource` or `ModeMonitor`, for example:"
   ]
  },
  {
   "cell_type": "code",
   "execution_count": 13,
   "id": "aa92d712-a2fc-4717-b196-5377001135a5",
   "metadata": {
    "tags": []
   },
   "outputs": [],
   "source": [
    "mode.mode_index = 0\n",
    "mode.num_modes = 1\n",
    "mode_source = mode_solver.make_source(mode, fwidth=freq_hz/10, direction='+')\n",
    "\n",
    "sim = td.Simulation(\n",
    "    size=(Lx, Ly, Lz),\n",
    "    grid_size=(dl, dl, dl),\n",
    "    run_time=1e-12,\n",
    "    pml_layers=(\n",
    "        td.PMLLayer(num_layers=0),\n",
    "        td.PMLLayer(num_layers=0),\n",
    "        td.PMLLayer(num_layers=0),        \n",
    "    ),\n",
    "    structures=[waveguide],\n",
    "    sources={'mode': mode_source},\n",
    "    monitors={'field': monitor}\n",
    ")\n",
    "\n",
    "# sim.sources['mode'] = mode_source"
   ]
  },
  {
   "cell_type": "code",
   "execution_count": 14,
   "id": "696bd2b9-9a0a-459c-9796-71405c8cc324",
   "metadata": {},
   "outputs": [],
   "source": [
    "# json_dict = {'materials': [{'conductivity': [0.0, 0.0, 0.0],\n",
    "#    'name': 'mat',\n",
    "#    'permittivity': [12.1104, 12.1104, 12.1104],\n",
    "#    'poles': [],\n",
    "#    'type': 'Medium'},\n",
    "#   {'conductivity': [0.0, 0.0, 0.0],\n",
    "#    'name': 'mat_1',\n",
    "#    'permittivity': [2.1025, 2.1025, 2.1025],\n",
    "#    'poles': [],\n",
    "#    'type': 'Medium'}],\n",
    "#  'monitors': [{'frequency': [193.41448940706246],\n",
    "#    'interpolate': True,\n",
    "#    'name': 'monitor',\n",
    "#    'store': ['e', 'h'],\n",
    "#    'type': 'FrequencyMonitor',\n",
    "#    'x_cent': 0.0,\n",
    "#    'x_span': 100.0,\n",
    "#    'y_cent': 0.0,\n",
    "#    'y_span': 100.0,\n",
    "#    'z_cent': 0.11000011920928955,\n",
    "#    'z_span': 0.0},\n",
    "#   {'Nmodes': 3,\n",
    "#    'frequency': [174.07304046635622,\n",
    "#     176.00718536042683,\n",
    "#     177.94133025449747,\n",
    "#     179.87547514856809,\n",
    "#     181.80962004263873,\n",
    "#     183.74376493670934,\n",
    "#     185.67790983077995,\n",
    "#     187.6120547248506,\n",
    "#     189.5461996189212,\n",
    "#     191.48034451299185,\n",
    "#     193.41448940706246,\n",
    "#     195.3486343011331,\n",
    "#     197.28277919520372,\n",
    "#     199.21692408927433,\n",
    "#     201.15106898334497,\n",
    "#     203.08521387741558,\n",
    "#     205.01935877148622,\n",
    "#     206.95350366555684,\n",
    "#     208.88764855962745,\n",
    "#     210.8217934536981,\n",
    "#     212.7559383477687],\n",
    "#    'name': 'monitor_1',\n",
    "#    'store': ['e', 'h', 'modes', 'mode_amps'],\n",
    "#    'target_neff': None,\n",
    "#    'type': 'ModeMonitor',\n",
    "#    'x_cent': 2.0000001192092896,\n",
    "#    'x_span': 0.0,\n",
    "#    'y_cent': 0.0,\n",
    "#    'y_span': 3.0,\n",
    "#    'z_cent': 0.0,\n",
    "#    'z_span': 2.0}],\n",
    "#  'parameters': {'compute_weight': 26.93766648,\n",
    "#   'courant': 0.9,\n",
    "#   'mesh_step': [0.03125, 0.03125, 0.03125],\n",
    "#   'nodes': 2821880,\n",
    "#   'pml_layers': [{'Nlayers': 15, 'profile': 'standard'},\n",
    "#    {'Nlayers': 15, 'profile': 'standard'},\n",
    "#    {'Nlayers': 15, 'profile': 'standard'}],\n",
    "#   'run_time': 1.0340486931104609,\n",
    "#   'shutoff': 1e-05,\n",
    "#   'subpixel': True,\n",
    "#   'symmetries': [0, 0, 0],\n",
    "#   'time_steps': 19092,\n",
    "#   'unit_frequency': 'THz',\n",
    "#   'unit_length': 'um',\n",
    "#   'unit_time': 'ps',\n",
    "#   'x_cent': 0.0,\n",
    "#   'x_span': 5.0,\n",
    "#   'y_cent': 0.0,\n",
    "#   'y_span': 4.0,\n",
    "#   'z_cent': 0.0,\n",
    "#   'z_span': 2.0},\n",
    "#  'sources': [{'Nmodes': 1,\n",
    "#    'amplitude': 1.0,\n",
    "#    'center': [-2.0, 0.0, 0.0],\n",
    "#    'direction': 'forward',\n",
    "#    'mode_ind': 0,\n",
    "#    'name': 'source',\n",
    "#    'size': [0, 3, 2],\n",
    "#    'source_time': {'frequency': 193.41448940706246,\n",
    "#     'fwidth': 19.341448940706247,\n",
    "#     'offset': 5.0,\n",
    "#     'phase': 0.0,\n",
    "#     'type': 'GaussianPulse'},\n",
    "#    'target_neff': None,\n",
    "#    'type': 'ModeSource'}],\n",
    "#  'structures': [{'mat_index': 0,\n",
    "#    'name': 'struct',\n",
    "#    'type': 'Box',\n",
    "#    'x_cent': 0.0,\n",
    "#    'x_span': 100.0,\n",
    "#    'y_cent': 0.0,\n",
    "#    'y_span': 0.45,\n",
    "#    'z_cent': 0.11,\n",
    "#    'z_span': 0.22},\n",
    "#   {'mat_index': 1,\n",
    "#    'name': 'struct_1',\n",
    "#    'type': 'Box',\n",
    "#    'x_cent': 0.0,\n",
    "#    'x_span': 1e+20,\n",
    "#    'y_cent': 0.0,\n",
    "#    'y_span': 1e+20,\n",
    "#    'z_cent': -2.0,\n",
    "#    'z_span': 4.0}]}"
   ]
  },
  {
   "cell_type": "code",
   "execution_count": 15,
   "id": "75953da5-d635-464b-8e2e-718c614f9641",
   "metadata": {},
   "outputs": [],
   "source": [
    "# from tidy3d.web.s3utils import get_s3_user\n",
    "# from tidy3d.web.httputils import post, put\n",
    "# import os\n",
    "# import json\n",
    "# client, bucket, user_id = get_s3_user()\n",
    "# json_string = json.dumps(json_dict)\n",
    "# method = os.path.join(\"fdtd/model\", 'default', \"task\")\n",
    "# data = {\n",
    "#     \"status\": \"draft\",\n",
    "#     \"solverVersion\": 'release-21.4.0',\n",
    "#     \"taskName\": 'test_direct',\n",
    "#     \"nodeSize\": 100,\n",
    "#     \"timeSteps\": 100,\n",
    "#     \"computeWeight\": 1,\n",
    "#     \"workerGroup\": None,\n",
    "# }\n",
    "# task = post(method=method, data=data)\n",
    "# task_id = task['taskId']\n",
    "# key = os.path.join(\"users\", user_id, task_id, \"simulation.json\")\n",
    "# client.put_object(\n",
    "#     Body=json_string,\n",
    "#     Bucket=bucket,\n",
    "#     Key=key,\n",
    "# )\n",
    "\n",
    "# folder_name = task['folderId']\n",
    "# method = os.path.join(\"fdtd/model\", folder_name, \"task\", task_id)\n",
    "# task['status'] = \"queued\"\n",
    "# put(method, data=task)"
   ]
  },
  {
   "cell_type": "code",
   "execution_count": 16,
   "id": "ee4cf84b-a418-4719-bdf3-fcc7c062d299",
   "metadata": {},
   "outputs": [
    {
     "data": {
      "text/html": [
       "<pre style=\"white-space:pre;overflow-x:auto;line-height:normal;font-family:Menlo,'DejaVu Sans Mono',consolas,'Courier New',monospace\"><span style=\"color: #7fbfbf; text-decoration-color: #7fbfbf\">[16:47:26] </span><span style=\"color: #000080; text-decoration-color: #000080\">INFO    </span> Creating task.                                              <a href=\"file:///Users/twhughes/Documents/Flexcompute/Tidy3D-client-revamp/notebooks/../tidy3d/web/webapi.py\"><span style=\"color: #7f7f7f; text-decoration-color: #7f7f7f\">webapi.py</span></a><span style=\"color: #7f7f7f; text-decoration-color: #7f7f7f\">:324</span>\n",
       "</pre>\n"
      ],
      "text/plain": [
       "\u001b[2;36m[16:47:26]\u001b[0m\u001b[2;36m \u001b[0m\u001b[34mINFO    \u001b[0m Creating task.                                              \u001b]8;id=692460;file:///Users/twhughes/Documents/Flexcompute/Tidy3D-client-revamp/notebooks/../tidy3d/web/webapi.py\u001b\\\u001b[2mwebapi.py\u001b[0m\u001b]8;;\u001b\\\u001b[2m:324\u001b[0m\n"
      ]
     },
     "metadata": {},
     "output_type": "display_data"
    },
    {
     "data": {
      "text/html": [
       "<pre style=\"white-space:pre;overflow-x:auto;line-height:normal;font-family:Menlo,'DejaVu Sans Mono',consolas,'Courier New',monospace\"><span style=\"color: #7fbfbf; text-decoration-color: #7fbfbf\">[16:47:27] </span><span style=\"color: #000080; text-decoration-color: #000080\">INFO    </span> Uploading the json file                                     <a href=\"file:///Users/twhughes/Documents/Flexcompute/Tidy3D-client-revamp/notebooks/../tidy3d/web/webapi.py\"><span style=\"color: #7f7f7f; text-decoration-color: #7f7f7f\">webapi.py</span></a><span style=\"color: #7f7f7f; text-decoration-color: #7f7f7f\">:333</span>\n",
       "</pre>\n"
      ],
      "text/plain": [
       "\u001b[2;36m[16:47:27]\u001b[0m\u001b[2;36m \u001b[0m\u001b[34mINFO    \u001b[0m Uploading the json file                                     \u001b]8;id=348602;file:///Users/twhughes/Documents/Flexcompute/Tidy3D-client-revamp/notebooks/../tidy3d/web/webapi.py\u001b\\\u001b[2mwebapi.py\u001b[0m\u001b]8;;\u001b\\\u001b[2m:333\u001b[0m\n"
      ]
     },
     "metadata": {},
     "output_type": "display_data"
    },
    {
     "data": {
      "text/html": [
       "<pre style=\"white-space:pre;overflow-x:auto;line-height:normal;font-family:Menlo,'DejaVu Sans Mono',consolas,'Courier New',monospace\"><span style=\"color: #7fbfbf; text-decoration-color: #7fbfbf\">           </span><span style=\"color: #000080; text-decoration-color: #000080\">INFO    </span> json = <span style=\"font-weight: bold\">{</span>                                                    <a href=\"file:///Users/twhughes/Documents/Flexcompute/Tidy3D-client-revamp/notebooks/../tidy3d/web/webapi.py\"><span style=\"color: #7f7f7f; text-decoration-color: #7f7f7f\">webapi.py</span></a><span style=\"color: #7f7f7f; text-decoration-color: #7f7f7f\">:343</span>\n",
       "                        <span style=\"color: #008000; text-decoration-color: #008000\">\"parameters\"</span>: <span style=\"font-weight: bold\">{</span>                                                      \n",
       "                            <span style=\"color: #008000; text-decoration-color: #008000\">\"unit_length\"</span>: <span style=\"color: #008000; text-decoration-color: #008000\">\"um\"</span>,                                             \n",
       "                            <span style=\"color: #008000; text-decoration-color: #008000\">\"unit_frequency\"</span>: <span style=\"color: #008000; text-decoration-color: #008000\">\"THz\"</span>,                                         \n",
       "                            <span style=\"color: #008000; text-decoration-color: #008000\">\"unit_time\"</span>: <span style=\"color: #008000; text-decoration-color: #008000\">\"ps\"</span>,                                               \n",
       "                            <span style=\"color: #008000; text-decoration-color: #008000\">\"x_cent\"</span>: <span style=\"color: #008080; text-decoration-color: #008080; font-weight: bold\">0.0</span>,                                                   \n",
       "                            <span style=\"color: #008000; text-decoration-color: #008000\">\"y_cent\"</span>: <span style=\"color: #008080; text-decoration-color: #008080; font-weight: bold\">0.0</span>,                                                   \n",
       "                            <span style=\"color: #008000; text-decoration-color: #008000\">\"z_cent\"</span>: <span style=\"color: #008080; text-decoration-color: #008080; font-weight: bold\">0.0</span>,                                                   \n",
       "                            <span style=\"color: #008000; text-decoration-color: #008000\">\"x_span\"</span>: <span style=\"color: #008080; text-decoration-color: #008080; font-weight: bold\">6.0</span>,                                                   \n",
       "                            <span style=\"color: #008000; text-decoration-color: #008000\">\"y_span\"</span>: <span style=\"color: #008080; text-decoration-color: #008080; font-weight: bold\">6.0</span>,                                                   \n",
       "                            <span style=\"color: #008000; text-decoration-color: #008000\">\"z_span\"</span>: <span style=\"color: #008080; text-decoration-color: #008080; font-weight: bold\">6.0</span>,                                                   \n",
       "                            <span style=\"color: #008000; text-decoration-color: #008000\">\"mesh_step\"</span>: <span style=\"font-weight: bold\">[</span>                                                   \n",
       "                                <span style=\"color: #008080; text-decoration-color: #008080; font-weight: bold\">0.05</span>,                                                        \n",
       "                                <span style=\"color: #008080; text-decoration-color: #008080; font-weight: bold\">0.05</span>,                                                        \n",
       "                                <span style=\"color: #008080; text-decoration-color: #008080; font-weight: bold\">0.05</span>                                                         \n",
       "                            <span style=\"font-weight: bold\">]</span>,                                                               \n",
       "                            <span style=\"color: #008000; text-decoration-color: #008000\">\"symmetries\"</span>: <span style=\"font-weight: bold\">[</span>                                                  \n",
       "                                <span style=\"color: #008080; text-decoration-color: #008080; font-weight: bold\">0</span>,                                                           \n",
       "                                <span style=\"color: #008080; text-decoration-color: #008080; font-weight: bold\">0</span>,                                                           \n",
       "                                <span style=\"color: #008080; text-decoration-color: #008080; font-weight: bold\">0</span>                                                            \n",
       "                            <span style=\"font-weight: bold\">]</span>,                                                               \n",
       "                            <span style=\"color: #008000; text-decoration-color: #008000\">\"pml_layers\"</span>: <span style=\"font-weight: bold\">[</span>                                                  \n",
       "                                <span style=\"font-weight: bold\">{</span>                                                            \n",
       "                                    <span style=\"color: #008000; text-decoration-color: #008000\">\"profile\"</span>: <span style=\"color: #008000; text-decoration-color: #008000\">\"standard\"</span>,                                   \n",
       "                                    <span style=\"color: #008000; text-decoration-color: #008000\">\"Nlayers\"</span>: <span style=\"color: #008080; text-decoration-color: #008080; font-weight: bold\">0</span>                                             \n",
       "                                <span style=\"font-weight: bold\">}</span>,                                                           \n",
       "                                <span style=\"font-weight: bold\">{</span>                                                            \n",
       "                                    <span style=\"color: #008000; text-decoration-color: #008000\">\"profile\"</span>: <span style=\"color: #008000; text-decoration-color: #008000\">\"standard\"</span>,                                   \n",
       "                                    <span style=\"color: #008000; text-decoration-color: #008000\">\"Nlayers\"</span>: <span style=\"color: #008080; text-decoration-color: #008080; font-weight: bold\">0</span>                                             \n",
       "                                <span style=\"font-weight: bold\">}</span>,                                                           \n",
       "                                <span style=\"font-weight: bold\">{</span>                                                            \n",
       "                                    <span style=\"color: #008000; text-decoration-color: #008000\">\"profile\"</span>: <span style=\"color: #008000; text-decoration-color: #008000\">\"standard\"</span>,                                   \n",
       "                                    <span style=\"color: #008000; text-decoration-color: #008000\">\"Nlayers\"</span>: <span style=\"color: #008080; text-decoration-color: #008080; font-weight: bold\">0</span>                                             \n",
       "                                <span style=\"font-weight: bold\">}</span>                                                            \n",
       "                            <span style=\"font-weight: bold\">]</span>,                                                               \n",
       "                            <span style=\"color: #008000; text-decoration-color: #008000\">\"run_time\"</span>: <span style=\"color: #008080; text-decoration-color: #008080; font-weight: bold\">1.0</span>,                                                 \n",
       "                            <span style=\"color: #008000; text-decoration-color: #008000\">\"courant\"</span>: <span style=\"color: #008080; text-decoration-color: #008080; font-weight: bold\">0.9</span>,                                                  \n",
       "                            <span style=\"color: #008000; text-decoration-color: #008000\">\"shutoff\"</span>: <span style=\"color: #008080; text-decoration-color: #008080; font-weight: bold\">1e-05</span>,                                                \n",
       "                            <span style=\"color: #008000; text-decoration-color: #008000\">\"subpixel\"</span>: true,                                                \n",
       "                            <span style=\"color: #008000; text-decoration-color: #008000\">\"time_steps\"</span>: <span style=\"color: #008080; text-decoration-color: #008080; font-weight: bold\">100</span>,                                               \n",
       "                            <span style=\"color: #008000; text-decoration-color: #008000\">\"nodes\"</span>: <span style=\"color: #008080; text-decoration-color: #008080; font-weight: bold\">100</span>,                                                    \n",
       "                            <span style=\"color: #008000; text-decoration-color: #008000\">\"compute_weight\"</span>: <span style=\"color: #008080; text-decoration-color: #008080; font-weight: bold\">1.0</span>                                            \n",
       "                        <span style=\"font-weight: bold\">}</span>,                                                                   \n",
       "                        <span style=\"color: #008000; text-decoration-color: #008000\">\"materials\"</span>: <span style=\"font-weight: bold\">[</span>                                                       \n",
       "                            <span style=\"font-weight: bold\">{</span>                                                                \n",
       "                                <span style=\"color: #008000; text-decoration-color: #008000\">\"name\"</span>: <span style=\"color: #008000; text-decoration-color: #008000\">\"mat_0\"</span>,                                             \n",
       "                                <span style=\"color: #008000; text-decoration-color: #008000\">\"type\"</span>: <span style=\"color: #008000; text-decoration-color: #008000\">\"Medium\"</span>,                                            \n",
       "                                <span style=\"color: #008000; text-decoration-color: #008000\">\"permittivity\"</span>: <span style=\"font-weight: bold\">[</span>                                            \n",
       "                                    <span style=\"color: #008080; text-decoration-color: #008080; font-weight: bold\">4.0</span>,                                                     \n",
       "                                    <span style=\"color: #008080; text-decoration-color: #008080; font-weight: bold\">4.0</span>,                                                     \n",
       "                                    <span style=\"color: #008080; text-decoration-color: #008080; font-weight: bold\">4.0</span>                                                      \n",
       "                                <span style=\"font-weight: bold\">]</span>,                                                           \n",
       "                                <span style=\"color: #008000; text-decoration-color: #008000\">\"conductivity\"</span>: <span style=\"font-weight: bold\">[</span>                                            \n",
       "                                    <span style=\"color: #008080; text-decoration-color: #008080; font-weight: bold\">0.0</span>,                                                     \n",
       "                                    <span style=\"color: #008080; text-decoration-color: #008080; font-weight: bold\">0.0</span>,                                                     \n",
       "                                    <span style=\"color: #008080; text-decoration-color: #008080; font-weight: bold\">0.0</span>                                                      \n",
       "                                <span style=\"font-weight: bold\">]</span>,                                                           \n",
       "                                <span style=\"color: #008000; text-decoration-color: #008000\">\"poles\"</span>: <span style=\"font-weight: bold\">[]</span>                                                  \n",
       "                            <span style=\"font-weight: bold\">}</span>                                                                \n",
       "                        <span style=\"font-weight: bold\">]</span>,                                                                   \n",
       "                        <span style=\"color: #008000; text-decoration-color: #008000\">\"structures\"</span>: <span style=\"font-weight: bold\">[</span>                                                      \n",
       "                            <span style=\"font-weight: bold\">{</span>                                                                \n",
       "                                <span style=\"color: #008000; text-decoration-color: #008000\">\"name\"</span>: <span style=\"color: #008000; text-decoration-color: #008000\">\"struct_0\"</span>,                                          \n",
       "                                <span style=\"color: #008000; text-decoration-color: #008000\">\"mat_index\"</span>: <span style=\"color: #008080; text-decoration-color: #008080; font-weight: bold\">0</span>,                                              \n",
       "                                <span style=\"color: #008000; text-decoration-color: #008000\">\"type\"</span>: <span style=\"color: #008000; text-decoration-color: #008000\">\"Box\"</span>,                                               \n",
       "                                <span style=\"color: #008000; text-decoration-color: #008000\">\"x_cent\"</span>: <span style=\"color: #008080; text-decoration-color: #008080; font-weight: bold\">0.0</span>,                                               \n",
       "                                <span style=\"color: #008000; text-decoration-color: #008000\">\"y_cent\"</span>: <span style=\"color: #008080; text-decoration-color: #008080; font-weight: bold\">0.0</span>,                                               \n",
       "                                <span style=\"color: #008000; text-decoration-color: #008000\">\"z_cent\"</span>: <span style=\"color: #008080; text-decoration-color: #008080; font-weight: bold\">0.0</span>,                                               \n",
       "                                <span style=\"color: #008000; text-decoration-color: #008000\">\"x_span\"</span>: <span style=\"color: #008080; text-decoration-color: #008080; font-weight: bold\">1.5</span>,                                               \n",
       "                                <span style=\"color: #008000; text-decoration-color: #008000\">\"y_span\"</span>: <span style=\"color: #008080; text-decoration-color: #008080; font-weight: bold\">1.0</span>,                                               \n",
       "                                <span style=\"color: #008000; text-decoration-color: #008000\">\"z_span\"</span>: <span style=\"color: #008080; text-decoration-color: #008080; font-weight: bold\">6.0</span>                                                \n",
       "                            <span style=\"font-weight: bold\">}</span>                                                                \n",
       "                        <span style=\"font-weight: bold\">]</span>,                                                                   \n",
       "                        <span style=\"color: #008000; text-decoration-color: #008000\">\"sources\"</span>: <span style=\"font-weight: bold\">[</span>                                                         \n",
       "                            <span style=\"font-weight: bold\">{</span>                                                                \n",
       "                                <span style=\"color: #008000; text-decoration-color: #008000\">\"name\"</span>: <span style=\"color: #008000; text-decoration-color: #008000\">\"mode\"</span>,                                              \n",
       "                                <span style=\"color: #008000; text-decoration-color: #008000\">\"type\"</span>: <span style=\"color: #008000; text-decoration-color: #008000\">\"ModeSource\"</span>,                                        \n",
       "                                <span style=\"color: #008000; text-decoration-color: #008000\">\"source_time\"</span>: <span style=\"font-weight: bold\">{</span>                                             \n",
       "                                    <span style=\"color: #008000; text-decoration-color: #008000\">\"type\"</span>: <span style=\"color: #008000; text-decoration-color: #008000\">\"GaussianPulse\"</span>,                                 \n",
       "                                    <span style=\"color: #008000; text-decoration-color: #008000\">\"frequency\"</span>: <span style=\"color: #008080; text-decoration-color: #008080; font-weight: bold\">149.8962292904734</span>,                          \n",
       "                                    <span style=\"color: #008000; text-decoration-color: #008000\">\"fwidth\"</span>: <span style=\"color: #008080; text-decoration-color: #008080; font-weight: bold\">14.98962292904734</span>,                             \n",
       "                                    <span style=\"color: #008000; text-decoration-color: #008000\">\"offset\"</span>: <span style=\"color: #008080; text-decoration-color: #008080; font-weight: bold\">5.0</span>,                                           \n",
       "                                    <span style=\"color: #008000; text-decoration-color: #008000\">\"phase\"</span>: <span style=\"color: #008080; text-decoration-color: #008080; font-weight: bold\">0.0</span>                                             \n",
       "                                <span style=\"font-weight: bold\">}</span>,                                                           \n",
       "                                <span style=\"color: #008000; text-decoration-color: #008000\">\"center\"</span>: <span style=\"font-weight: bold\">[</span>                                                  \n",
       "                                    <span style=\"color: #008080; text-decoration-color: #008080; font-weight: bold\">0.0</span>,                                                     \n",
       "                                    <span style=\"color: #008080; text-decoration-color: #008080; font-weight: bold\">0.0</span>,                                                     \n",
       "                                    <span style=\"color: #008080; text-decoration-color: #008080; font-weight: bold\">0.0</span>                                                      \n",
       "                                <span style=\"font-weight: bold\">]</span>,                                                           \n",
       "                                <span style=\"color: #008000; text-decoration-color: #008000\">\"size\"</span>: <span style=\"font-weight: bold\">[</span>                                                    \n",
       "                                    <span style=\"color: #008080; text-decoration-color: #008080; font-weight: bold\">2.0</span>,                                                     \n",
       "                                    <span style=\"color: #008080; text-decoration-color: #008080; font-weight: bold\">2.0</span>,                                                     \n",
       "                                    <span style=\"color: #008080; text-decoration-color: #008080; font-weight: bold\">0.0</span>                                                      \n",
       "                                <span style=\"font-weight: bold\">]</span>,                                                           \n",
       "                                <span style=\"color: #008000; text-decoration-color: #008000\">\"direction\"</span>: <span style=\"color: #008000; text-decoration-color: #008000\">\"forward\"</span>,                                      \n",
       "                                <span style=\"color: #008000; text-decoration-color: #008000\">\"amplitude\"</span>: <span style=\"color: #008080; text-decoration-color: #008080; font-weight: bold\">1.0</span>,                                            \n",
       "                                <span style=\"color: #008000; text-decoration-color: #008000\">\"mode_ind\"</span>: <span style=\"color: #008080; text-decoration-color: #008080; font-weight: bold\">0</span>,                                               \n",
       "                                <span style=\"color: #008000; text-decoration-color: #008000\">\"target_neff\"</span>: <span style=\"color: #008080; text-decoration-color: #008080; font-weight: bold\">2.0</span>,                                          \n",
       "                                <span style=\"color: #008000; text-decoration-color: #008000\">\"Nmodes\"</span>: <span style=\"color: #008080; text-decoration-color: #008080; font-weight: bold\">1</span>                                                  \n",
       "                            <span style=\"font-weight: bold\">}</span>                                                                \n",
       "                        <span style=\"font-weight: bold\">]</span>,                                                                   \n",
       "                        <span style=\"color: #008000; text-decoration-color: #008000\">\"monitors\"</span>: <span style=\"font-weight: bold\">[</span>                                                        \n",
       "                            <span style=\"font-weight: bold\">{</span>                                                                \n",
       "                                <span style=\"color: #008000; text-decoration-color: #008000\">\"name\"</span>: <span style=\"color: #008000; text-decoration-color: #008000\">\"field\"</span>,                                             \n",
       "                                <span style=\"color: #008000; text-decoration-color: #008000\">\"x_cent\"</span>: <span style=\"color: #008080; text-decoration-color: #008080; font-weight: bold\">0.0</span>,                                               \n",
       "                                <span style=\"color: #008000; text-decoration-color: #008000\">\"y_cent\"</span>: <span style=\"color: #008080; text-decoration-color: #008080; font-weight: bold\">0.0</span>,                                               \n",
       "                                <span style=\"color: #008000; text-decoration-color: #008000\">\"z_cent\"</span>: <span style=\"color: #008080; text-decoration-color: #008080; font-weight: bold\">0.0</span>,                                               \n",
       "                                <span style=\"color: #008000; text-decoration-color: #008000\">\"x_span\"</span>: <span style=\"color: #008080; text-decoration-color: #008080; font-weight: bold\">6.0</span>,                                               \n",
       "                                <span style=\"color: #008000; text-decoration-color: #008000\">\"y_span\"</span>: <span style=\"color: #008080; text-decoration-color: #008080; font-weight: bold\">0.0</span>,                                               \n",
       "                                <span style=\"color: #008000; text-decoration-color: #008000\">\"z_span\"</span>: <span style=\"color: #008080; text-decoration-color: #008080; font-weight: bold\">6.0</span>,                                               \n",
       "                                <span style=\"color: #008000; text-decoration-color: #008000\">\"type\"</span>: <span style=\"color: #008000; text-decoration-color: #008000\">\"FrequencyMonitor\"</span>,                                  \n",
       "                                <span style=\"color: #008000; text-decoration-color: #008000\">\"frequency\"</span>: <span style=\"font-weight: bold\">[</span>                                               \n",
       "                                    <span style=\"color: #008080; text-decoration-color: #008080; font-weight: bold\">149.8962292904734</span>                                        \n",
       "                                <span style=\"font-weight: bold\">]</span>,                                                           \n",
       "                                <span style=\"color: #008000; text-decoration-color: #008000\">\"store\"</span>: <span style=\"font-weight: bold\">[</span>                                                   \n",
       "                                    <span style=\"color: #008000; text-decoration-color: #008000\">\"E\"</span>,                                                     \n",
       "                                    <span style=\"color: #008000; text-decoration-color: #008000\">\"H\"</span>                                                      \n",
       "                                <span style=\"font-weight: bold\">]</span>,                                                           \n",
       "                                <span style=\"color: #008000; text-decoration-color: #008000\">\"interpolate\"</span>: true                                          \n",
       "                            <span style=\"font-weight: bold\">}</span>                                                                \n",
       "                        <span style=\"font-weight: bold\">]</span>                                                                    \n",
       "                    <span style=\"font-weight: bold\">}</span>                                                                        \n",
       "</pre>\n"
      ],
      "text/plain": [
       "\u001b[2;36m          \u001b[0m\u001b[2;36m \u001b[0m\u001b[34mINFO    \u001b[0m json = \u001b[1m{\u001b[0m                                                    \u001b]8;id=321247;file:///Users/twhughes/Documents/Flexcompute/Tidy3D-client-revamp/notebooks/../tidy3d/web/webapi.py\u001b\\\u001b[2mwebapi.py\u001b[0m\u001b]8;;\u001b\\\u001b[2m:343\u001b[0m\n",
       "                        \u001b[32m\"parameters\"\u001b[0m: \u001b[1m{\u001b[0m                                                      \n",
       "                            \u001b[32m\"unit_length\"\u001b[0m: \u001b[32m\"um\"\u001b[0m,                                             \n",
       "                            \u001b[32m\"unit_frequency\"\u001b[0m: \u001b[32m\"THz\"\u001b[0m,                                         \n",
       "                            \u001b[32m\"unit_time\"\u001b[0m: \u001b[32m\"ps\"\u001b[0m,                                               \n",
       "                            \u001b[32m\"x_cent\"\u001b[0m: \u001b[1;36m0.0\u001b[0m,                                                   \n",
       "                            \u001b[32m\"y_cent\"\u001b[0m: \u001b[1;36m0.0\u001b[0m,                                                   \n",
       "                            \u001b[32m\"z_cent\"\u001b[0m: \u001b[1;36m0.0\u001b[0m,                                                   \n",
       "                            \u001b[32m\"x_span\"\u001b[0m: \u001b[1;36m6.0\u001b[0m,                                                   \n",
       "                            \u001b[32m\"y_span\"\u001b[0m: \u001b[1;36m6.0\u001b[0m,                                                   \n",
       "                            \u001b[32m\"z_span\"\u001b[0m: \u001b[1;36m6.0\u001b[0m,                                                   \n",
       "                            \u001b[32m\"mesh_step\"\u001b[0m: \u001b[1m[\u001b[0m                                                   \n",
       "                                \u001b[1;36m0.05\u001b[0m,                                                        \n",
       "                                \u001b[1;36m0.05\u001b[0m,                                                        \n",
       "                                \u001b[1;36m0.05\u001b[0m                                                         \n",
       "                            \u001b[1m]\u001b[0m,                                                               \n",
       "                            \u001b[32m\"symmetries\"\u001b[0m: \u001b[1m[\u001b[0m                                                  \n",
       "                                \u001b[1;36m0\u001b[0m,                                                           \n",
       "                                \u001b[1;36m0\u001b[0m,                                                           \n",
       "                                \u001b[1;36m0\u001b[0m                                                            \n",
       "                            \u001b[1m]\u001b[0m,                                                               \n",
       "                            \u001b[32m\"pml_layers\"\u001b[0m: \u001b[1m[\u001b[0m                                                  \n",
       "                                \u001b[1m{\u001b[0m                                                            \n",
       "                                    \u001b[32m\"profile\"\u001b[0m: \u001b[32m\"standard\"\u001b[0m,                                   \n",
       "                                    \u001b[32m\"Nlayers\"\u001b[0m: \u001b[1;36m0\u001b[0m                                             \n",
       "                                \u001b[1m}\u001b[0m,                                                           \n",
       "                                \u001b[1m{\u001b[0m                                                            \n",
       "                                    \u001b[32m\"profile\"\u001b[0m: \u001b[32m\"standard\"\u001b[0m,                                   \n",
       "                                    \u001b[32m\"Nlayers\"\u001b[0m: \u001b[1;36m0\u001b[0m                                             \n",
       "                                \u001b[1m}\u001b[0m,                                                           \n",
       "                                \u001b[1m{\u001b[0m                                                            \n",
       "                                    \u001b[32m\"profile\"\u001b[0m: \u001b[32m\"standard\"\u001b[0m,                                   \n",
       "                                    \u001b[32m\"Nlayers\"\u001b[0m: \u001b[1;36m0\u001b[0m                                             \n",
       "                                \u001b[1m}\u001b[0m                                                            \n",
       "                            \u001b[1m]\u001b[0m,                                                               \n",
       "                            \u001b[32m\"run_time\"\u001b[0m: \u001b[1;36m1.0\u001b[0m,                                                 \n",
       "                            \u001b[32m\"courant\"\u001b[0m: \u001b[1;36m0.9\u001b[0m,                                                  \n",
       "                            \u001b[32m\"shutoff\"\u001b[0m: \u001b[1;36m1e-05\u001b[0m,                                                \n",
       "                            \u001b[32m\"subpixel\"\u001b[0m: true,                                                \n",
       "                            \u001b[32m\"time_steps\"\u001b[0m: \u001b[1;36m100\u001b[0m,                                               \n",
       "                            \u001b[32m\"nodes\"\u001b[0m: \u001b[1;36m100\u001b[0m,                                                    \n",
       "                            \u001b[32m\"compute_weight\"\u001b[0m: \u001b[1;36m1.0\u001b[0m                                            \n",
       "                        \u001b[1m}\u001b[0m,                                                                   \n",
       "                        \u001b[32m\"materials\"\u001b[0m: \u001b[1m[\u001b[0m                                                       \n",
       "                            \u001b[1m{\u001b[0m                                                                \n",
       "                                \u001b[32m\"name\"\u001b[0m: \u001b[32m\"mat_0\"\u001b[0m,                                             \n",
       "                                \u001b[32m\"type\"\u001b[0m: \u001b[32m\"Medium\"\u001b[0m,                                            \n",
       "                                \u001b[32m\"permittivity\"\u001b[0m: \u001b[1m[\u001b[0m                                            \n",
       "                                    \u001b[1;36m4.0\u001b[0m,                                                     \n",
       "                                    \u001b[1;36m4.0\u001b[0m,                                                     \n",
       "                                    \u001b[1;36m4.0\u001b[0m                                                      \n",
       "                                \u001b[1m]\u001b[0m,                                                           \n",
       "                                \u001b[32m\"conductivity\"\u001b[0m: \u001b[1m[\u001b[0m                                            \n",
       "                                    \u001b[1;36m0.0\u001b[0m,                                                     \n",
       "                                    \u001b[1;36m0.0\u001b[0m,                                                     \n",
       "                                    \u001b[1;36m0.0\u001b[0m                                                      \n",
       "                                \u001b[1m]\u001b[0m,                                                           \n",
       "                                \u001b[32m\"poles\"\u001b[0m: \u001b[1m[\u001b[0m\u001b[1m]\u001b[0m                                                  \n",
       "                            \u001b[1m}\u001b[0m                                                                \n",
       "                        \u001b[1m]\u001b[0m,                                                                   \n",
       "                        \u001b[32m\"structures\"\u001b[0m: \u001b[1m[\u001b[0m                                                      \n",
       "                            \u001b[1m{\u001b[0m                                                                \n",
       "                                \u001b[32m\"name\"\u001b[0m: \u001b[32m\"struct_0\"\u001b[0m,                                          \n",
       "                                \u001b[32m\"mat_index\"\u001b[0m: \u001b[1;36m0\u001b[0m,                                              \n",
       "                                \u001b[32m\"type\"\u001b[0m: \u001b[32m\"Box\"\u001b[0m,                                               \n",
       "                                \u001b[32m\"x_cent\"\u001b[0m: \u001b[1;36m0.0\u001b[0m,                                               \n",
       "                                \u001b[32m\"y_cent\"\u001b[0m: \u001b[1;36m0.0\u001b[0m,                                               \n",
       "                                \u001b[32m\"z_cent\"\u001b[0m: \u001b[1;36m0.0\u001b[0m,                                               \n",
       "                                \u001b[32m\"x_span\"\u001b[0m: \u001b[1;36m1.5\u001b[0m,                                               \n",
       "                                \u001b[32m\"y_span\"\u001b[0m: \u001b[1;36m1.0\u001b[0m,                                               \n",
       "                                \u001b[32m\"z_span\"\u001b[0m: \u001b[1;36m6.0\u001b[0m                                                \n",
       "                            \u001b[1m}\u001b[0m                                                                \n",
       "                        \u001b[1m]\u001b[0m,                                                                   \n",
       "                        \u001b[32m\"sources\"\u001b[0m: \u001b[1m[\u001b[0m                                                         \n",
       "                            \u001b[1m{\u001b[0m                                                                \n",
       "                                \u001b[32m\"name\"\u001b[0m: \u001b[32m\"mode\"\u001b[0m,                                              \n",
       "                                \u001b[32m\"type\"\u001b[0m: \u001b[32m\"ModeSource\"\u001b[0m,                                        \n",
       "                                \u001b[32m\"source_time\"\u001b[0m: \u001b[1m{\u001b[0m                                             \n",
       "                                    \u001b[32m\"type\"\u001b[0m: \u001b[32m\"GaussianPulse\"\u001b[0m,                                 \n",
       "                                    \u001b[32m\"frequency\"\u001b[0m: \u001b[1;36m149.8962292904734\u001b[0m,                          \n",
       "                                    \u001b[32m\"fwidth\"\u001b[0m: \u001b[1;36m14.98962292904734\u001b[0m,                             \n",
       "                                    \u001b[32m\"offset\"\u001b[0m: \u001b[1;36m5.0\u001b[0m,                                           \n",
       "                                    \u001b[32m\"phase\"\u001b[0m: \u001b[1;36m0.0\u001b[0m                                             \n",
       "                                \u001b[1m}\u001b[0m,                                                           \n",
       "                                \u001b[32m\"center\"\u001b[0m: \u001b[1m[\u001b[0m                                                  \n",
       "                                    \u001b[1;36m0.0\u001b[0m,                                                     \n",
       "                                    \u001b[1;36m0.0\u001b[0m,                                                     \n",
       "                                    \u001b[1;36m0.0\u001b[0m                                                      \n",
       "                                \u001b[1m]\u001b[0m,                                                           \n",
       "                                \u001b[32m\"size\"\u001b[0m: \u001b[1m[\u001b[0m                                                    \n",
       "                                    \u001b[1;36m2.0\u001b[0m,                                                     \n",
       "                                    \u001b[1;36m2.0\u001b[0m,                                                     \n",
       "                                    \u001b[1;36m0.0\u001b[0m                                                      \n",
       "                                \u001b[1m]\u001b[0m,                                                           \n",
       "                                \u001b[32m\"direction\"\u001b[0m: \u001b[32m\"forward\"\u001b[0m,                                      \n",
       "                                \u001b[32m\"amplitude\"\u001b[0m: \u001b[1;36m1.0\u001b[0m,                                            \n",
       "                                \u001b[32m\"mode_ind\"\u001b[0m: \u001b[1;36m0\u001b[0m,                                               \n",
       "                                \u001b[32m\"target_neff\"\u001b[0m: \u001b[1;36m2.0\u001b[0m,                                          \n",
       "                                \u001b[32m\"Nmodes\"\u001b[0m: \u001b[1;36m1\u001b[0m                                                  \n",
       "                            \u001b[1m}\u001b[0m                                                                \n",
       "                        \u001b[1m]\u001b[0m,                                                                   \n",
       "                        \u001b[32m\"monitors\"\u001b[0m: \u001b[1m[\u001b[0m                                                        \n",
       "                            \u001b[1m{\u001b[0m                                                                \n",
       "                                \u001b[32m\"name\"\u001b[0m: \u001b[32m\"field\"\u001b[0m,                                             \n",
       "                                \u001b[32m\"x_cent\"\u001b[0m: \u001b[1;36m0.0\u001b[0m,                                               \n",
       "                                \u001b[32m\"y_cent\"\u001b[0m: \u001b[1;36m0.0\u001b[0m,                                               \n",
       "                                \u001b[32m\"z_cent\"\u001b[0m: \u001b[1;36m0.0\u001b[0m,                                               \n",
       "                                \u001b[32m\"x_span\"\u001b[0m: \u001b[1;36m6.0\u001b[0m,                                               \n",
       "                                \u001b[32m\"y_span\"\u001b[0m: \u001b[1;36m0.0\u001b[0m,                                               \n",
       "                                \u001b[32m\"z_span\"\u001b[0m: \u001b[1;36m6.0\u001b[0m,                                               \n",
       "                                \u001b[32m\"type\"\u001b[0m: \u001b[32m\"FrequencyMonitor\"\u001b[0m,                                  \n",
       "                                \u001b[32m\"frequency\"\u001b[0m: \u001b[1m[\u001b[0m                                               \n",
       "                                    \u001b[1;36m149.8962292904734\u001b[0m                                        \n",
       "                                \u001b[1m]\u001b[0m,                                                           \n",
       "                                \u001b[32m\"store\"\u001b[0m: \u001b[1m[\u001b[0m                                                   \n",
       "                                    \u001b[32m\"E\"\u001b[0m,                                                     \n",
       "                                    \u001b[32m\"H\"\u001b[0m                                                      \n",
       "                                \u001b[1m]\u001b[0m,                                                           \n",
       "                                \u001b[32m\"interpolate\"\u001b[0m: true                                          \n",
       "                            \u001b[1m}\u001b[0m                                                                \n",
       "                        \u001b[1m]\u001b[0m                                                                    \n",
       "                    \u001b[1m}\u001b[0m                                                                        \n"
      ]
     },
     "metadata": {},
     "output_type": "display_data"
    },
    {
     "data": {
      "application/vnd.jupyter.widget-view+json": {
       "model_id": "",
       "version_major": 2,
       "version_minor": 0
      },
      "text/plain": [
       "Output()"
      ]
     },
     "metadata": {},
     "output_type": "display_data"
    },
    {
     "data": {
      "text/html": [
       "<pre style=\"white-space:pre;overflow-x:auto;line-height:normal;font-family:Menlo,'DejaVu Sans Mono',consolas,'Courier New',monospace\"><span style=\"color: #7fbfbf; text-decoration-color: #7fbfbf\">[16:47:43] </span>status = preprocess                                               <a href=\"file:///Users/twhughes/Documents/Flexcompute/Tidy3D-client-revamp/tidy3d/web/container.py\"><span style=\"color: #7f7f7f; text-decoration-color: #7f7f7f\">container.py</span></a><span style=\"color: #7f7f7f; text-decoration-color: #7f7f7f\">:101</span>\n",
       "</pre>\n"
      ],
      "text/plain": [
       "\u001b[2;36m[16:47:43]\u001b[0m\u001b[2;36m \u001b[0mstatus = preprocess                                               \u001b]8;id=752609;file:///Users/twhughes/Documents/Flexcompute/Tidy3D-client-revamp/tidy3d/web/container.py\u001b\\\u001b[2mcontainer.py\u001b[0m\u001b]8;;\u001b\\\u001b[2m:101\u001b[0m\n"
      ]
     },
     "metadata": {},
     "output_type": "display_data"
    },
    {
     "data": {
      "text/html": [
       "<pre style=\"white-space:pre;overflow-x:auto;line-height:normal;font-family:Menlo,'DejaVu Sans Mono',consolas,'Courier New',monospace\"><span style=\"color: #7fbfbf; text-decoration-color: #7fbfbf\">[16:48:06] </span>status = running                                                  <a href=\"file:///Users/twhughes/Documents/Flexcompute/Tidy3D-client-revamp/tidy3d/web/container.py\"><span style=\"color: #7f7f7f; text-decoration-color: #7f7f7f\">container.py</span></a><span style=\"color: #7f7f7f; text-decoration-color: #7f7f7f\">:101</span>\n",
       "</pre>\n"
      ],
      "text/plain": [
       "\u001b[2;36m[16:48:06]\u001b[0m\u001b[2;36m \u001b[0mstatus = running                                                  \u001b]8;id=27927;file:///Users/twhughes/Documents/Flexcompute/Tidy3D-client-revamp/tidy3d/web/container.py\u001b\\\u001b[2mcontainer.py\u001b[0m\u001b]8;;\u001b\\\u001b[2m:101\u001b[0m\n"
      ]
     },
     "metadata": {},
     "output_type": "display_data"
    },
    {
     "data": {
      "text/html": [
       "<pre style=\"white-space:pre;overflow-x:auto;line-height:normal;font-family:Menlo,'DejaVu Sans Mono',consolas,'Courier New',monospace\"><span style=\"color: #7fbfbf; text-decoration-color: #7fbfbf\">[16:48:32] </span>status = visualize                                                <a href=\"file:///Users/twhughes/Documents/Flexcompute/Tidy3D-client-revamp/tidy3d/web/container.py\"><span style=\"color: #7f7f7f; text-decoration-color: #7f7f7f\">container.py</span></a><span style=\"color: #7f7f7f; text-decoration-color: #7f7f7f\">:101</span>\n",
       "</pre>\n"
      ],
      "text/plain": [
       "\u001b[2;36m[16:48:32]\u001b[0m\u001b[2;36m \u001b[0mstatus = visualize                                                \u001b]8;id=554512;file:///Users/twhughes/Documents/Flexcompute/Tidy3D-client-revamp/tidy3d/web/container.py\u001b\\\u001b[2mcontainer.py\u001b[0m\u001b]8;;\u001b\\\u001b[2m:101\u001b[0m\n"
      ]
     },
     "metadata": {},
     "output_type": "display_data"
    },
    {
     "data": {
      "text/html": [
       "<pre style=\"white-space:pre;overflow-x:auto;line-height:normal;font-family:Menlo,'DejaVu Sans Mono',consolas,'Courier New',monospace\"><span style=\"color: #7fbfbf; text-decoration-color: #7fbfbf\">[16:48:36] </span>status = success                                                  <a href=\"file:///Users/twhughes/Documents/Flexcompute/Tidy3D-client-revamp/tidy3d/web/container.py\"><span style=\"color: #7f7f7f; text-decoration-color: #7f7f7f\">container.py</span></a><span style=\"color: #7f7f7f; text-decoration-color: #7f7f7f\">:101</span>\n",
       "</pre>\n"
      ],
      "text/plain": [
       "\u001b[2;36m[16:48:36]\u001b[0m\u001b[2;36m \u001b[0mstatus = success                                                  \u001b]8;id=960962;file:///Users/twhughes/Documents/Flexcompute/Tidy3D-client-revamp/tidy3d/web/container.py\u001b\\\u001b[2mcontainer.py\u001b[0m\u001b]8;;\u001b\\\u001b[2m:101\u001b[0m\n"
      ]
     },
     "metadata": {},
     "output_type": "display_data"
    },
    {
     "data": {
      "text/html": [
       "<pre style=\"white-space:pre;overflow-x:auto;line-height:normal;font-family:Menlo,'DejaVu Sans Mono',consolas,'Courier New',monospace\"></pre>\n"
      ],
      "text/plain": []
     },
     "metadata": {},
     "output_type": "display_data"
    },
    {
     "data": {
      "text/html": [
       "<pre style=\"white-space:pre;overflow-x:auto;line-height:normal;font-family:Menlo,'DejaVu Sans Mono',consolas,'Courier New',monospace\"><span style=\"color: #7fbfbf; text-decoration-color: #7fbfbf\">[16:48:37] </span><span style=\"color: #000080; text-decoration-color: #000080\">INFO    </span> clearing existing files before downloading                  <a href=\"file:///Users/twhughes/Documents/Flexcompute/Tidy3D-client-revamp/notebooks/../tidy3d/web/webapi.py\"><span style=\"color: #7f7f7f; text-decoration-color: #7f7f7f\">webapi.py</span></a><span style=\"color: #7f7f7f; text-decoration-color: #7f7f7f\">:220</span>\n",
       "</pre>\n"
      ],
      "text/plain": [
       "\u001b[2;36m[16:48:37]\u001b[0m\u001b[2;36m \u001b[0m\u001b[34mINFO    \u001b[0m clearing existing files before downloading                  \u001b]8;id=381719;file:///Users/twhughes/Documents/Flexcompute/Tidy3D-client-revamp/notebooks/../tidy3d/web/webapi.py\u001b\\\u001b[2mwebapi.py\u001b[0m\u001b]8;;\u001b\\\u001b[2m:220\u001b[0m\n"
      ]
     },
     "metadata": {},
     "output_type": "display_data"
    },
    {
     "data": {
      "text/html": [
       "<pre style=\"white-space:pre;overflow-x:auto;line-height:normal;font-family:Menlo,'DejaVu Sans Mono',consolas,'Courier New',monospace\"><span style=\"color: #7fbfbf; text-decoration-color: #7fbfbf\">           </span><span style=\"color: #000080; text-decoration-color: #000080\">INFO    </span> downloading file <span style=\"color: #008000; text-decoration-color: #008000\">\"simulation.json\"</span> to                       <a href=\"file:///Users/twhughes/Documents/Flexcompute/Tidy3D-client-revamp/notebooks/../tidy3d/web/webapi.py\"><span style=\"color: #7f7f7f; text-decoration-color: #7f7f7f\">webapi.py</span></a><span style=\"color: #7f7f7f; text-decoration-color: #7f7f7f\">:366</span>\n",
       "                    <span style=\"color: #008000; text-decoration-color: #008000\">\"data/simulation.json\"</span>                                                   \n",
       "</pre>\n"
      ],
      "text/plain": [
       "\u001b[2;36m          \u001b[0m\u001b[2;36m \u001b[0m\u001b[34mINFO    \u001b[0m downloading file \u001b[32m\"simulation.json\"\u001b[0m to                       \u001b]8;id=160735;file:///Users/twhughes/Documents/Flexcompute/Tidy3D-client-revamp/notebooks/../tidy3d/web/webapi.py\u001b\\\u001b[2mwebapi.py\u001b[0m\u001b]8;;\u001b\\\u001b[2m:366\u001b[0m\n",
       "                    \u001b[32m\"data/simulation.json\"\u001b[0m                                                   \n"
      ]
     },
     "metadata": {},
     "output_type": "display_data"
    },
    {
     "data": {
      "application/vnd.jupyter.widget-view+json": {
       "model_id": "aa7ff74062b64fbb9a0ddc12ecd54455",
       "version_major": 2,
       "version_minor": 0
      },
      "text/plain": [
       "Output()"
      ]
     },
     "metadata": {},
     "output_type": "display_data"
    },
    {
     "data": {
      "text/html": [
       "<pre style=\"white-space:pre;overflow-x:auto;line-height:normal;font-family:Menlo,'DejaVu Sans Mono',consolas,'Courier New',monospace\"><span style=\"color: #7fbfbf; text-decoration-color: #7fbfbf\">           </span><span style=\"color: #000080; text-decoration-color: #000080\">INFO    </span> downloading file <span style=\"color: #008000; text-decoration-color: #008000\">\"monitor_data.hdf5\"</span> to                     <a href=\"file:///Users/twhughes/Documents/Flexcompute/Tidy3D-client-revamp/notebooks/../tidy3d/web/webapi.py\"><span style=\"color: #7f7f7f; text-decoration-color: #7f7f7f\">webapi.py</span></a><span style=\"color: #7f7f7f; text-decoration-color: #7f7f7f\">:366</span>\n",
       "                    <span style=\"color: #008000; text-decoration-color: #008000\">\"data/monitor_data.hdf5\"</span>                                                 \n",
       "</pre>\n"
      ],
      "text/plain": [
       "\u001b[2;36m          \u001b[0m\u001b[2;36m \u001b[0m\u001b[34mINFO    \u001b[0m downloading file \u001b[32m\"monitor_data.hdf5\"\u001b[0m to                     \u001b]8;id=265200;file:///Users/twhughes/Documents/Flexcompute/Tidy3D-client-revamp/notebooks/../tidy3d/web/webapi.py\u001b\\\u001b[2mwebapi.py\u001b[0m\u001b]8;;\u001b\\\u001b[2m:366\u001b[0m\n",
       "                    \u001b[32m\"data/monitor_data.hdf5\"\u001b[0m                                                 \n"
      ]
     },
     "metadata": {},
     "output_type": "display_data"
    },
    {
     "data": {
      "application/vnd.jupyter.widget-view+json": {
       "model_id": "6eb95d1aada841b0a3214b9afa9cc9e9",
       "version_major": 2,
       "version_minor": 0
      },
      "text/plain": [
       "Output()"
      ]
     },
     "metadata": {},
     "output_type": "display_data"
    },
    {
     "data": {
      "text/html": [
       "<pre style=\"white-space:pre;overflow-x:auto;line-height:normal;font-family:Menlo,'DejaVu Sans Mono',consolas,'Courier New',monospace\"><span style=\"color: #7fbfbf; text-decoration-color: #7fbfbf\">           </span><span style=\"color: #000080; text-decoration-color: #000080\">INFO    </span> getting log string                                          <a href=\"file:///Users/twhughes/Documents/Flexcompute/Tidy3D-client-revamp/notebooks/../tidy3d/web/webapi.py\"><span style=\"color: #7f7f7f; text-decoration-color: #7f7f7f\">webapi.py</span></a><span style=\"color: #7f7f7f; text-decoration-color: #7f7f7f\">:229</span>\n",
       "</pre>\n"
      ],
      "text/plain": [
       "\u001b[2;36m          \u001b[0m\u001b[2;36m \u001b[0m\u001b[34mINFO    \u001b[0m getting log string                                          \u001b]8;id=50718;file:///Users/twhughes/Documents/Flexcompute/Tidy3D-client-revamp/notebooks/../tidy3d/web/webapi.py\u001b\\\u001b[2mwebapi.py\u001b[0m\u001b]8;;\u001b\\\u001b[2m:229\u001b[0m\n"
      ]
     },
     "metadata": {},
     "output_type": "display_data"
    },
    {
     "data": {
      "text/html": [
       "<pre style=\"white-space:pre;overflow-x:auto;line-height:normal;font-family:Menlo,'DejaVu Sans Mono',consolas,'Courier New',monospace\"><span style=\"color: #7fbfbf; text-decoration-color: #7fbfbf\">           </span><span style=\"color: #000080; text-decoration-color: #000080\">INFO    </span> downloading file <span style=\"color: #008000; text-decoration-color: #008000\">\"tidy3d.log\"</span> to <span style=\"color: #008000; text-decoration-color: #008000\">\"data/tidy3d.log\"</span>          <a href=\"file:///Users/twhughes/Documents/Flexcompute/Tidy3D-client-revamp/notebooks/../tidy3d/web/webapi.py\"><span style=\"color: #7f7f7f; text-decoration-color: #7f7f7f\">webapi.py</span></a><span style=\"color: #7f7f7f; text-decoration-color: #7f7f7f\">:366</span>\n",
       "</pre>\n"
      ],
      "text/plain": [
       "\u001b[2;36m          \u001b[0m\u001b[2;36m \u001b[0m\u001b[34mINFO    \u001b[0m downloading file \u001b[32m\"tidy3d.log\"\u001b[0m to \u001b[32m\"data/tidy3d.log\"\u001b[0m          \u001b]8;id=780790;file:///Users/twhughes/Documents/Flexcompute/Tidy3D-client-revamp/notebooks/../tidy3d/web/webapi.py\u001b\\\u001b[2mwebapi.py\u001b[0m\u001b]8;;\u001b\\\u001b[2m:366\u001b[0m\n"
      ]
     },
     "metadata": {},
     "output_type": "display_data"
    },
    {
     "data": {
      "application/vnd.jupyter.widget-view+json": {
       "model_id": "24e4a9cdfcd54be4be3118eb7bc25326",
       "version_major": 2,
       "version_minor": 0
      },
      "text/plain": [
       "Output()"
      ]
     },
     "metadata": {},
     "output_type": "display_data"
    },
    {
     "data": {
      "text/html": [
       "<pre style=\"white-space:pre;overflow-x:auto;line-height:normal;font-family:Menlo,'DejaVu Sans Mono',consolas,'Courier New',monospace\"><span style=\"color: #7fbfbf; text-decoration-color: #7fbfbf\">           </span><span style=\"color: #000080; text-decoration-color: #000080\">INFO    </span> loading old monitor data to data dict                       <a href=\"file:///Users/twhughes/Documents/Flexcompute/Tidy3D-client-revamp/notebooks/../tidy3d/web/webapi.py\"><span style=\"color: #7f7f7f; text-decoration-color: #7f7f7f\">webapi.py</span></a><span style=\"color: #7f7f7f; text-decoration-color: #7f7f7f\">:234</span>\n",
       "</pre>\n"
      ],
      "text/plain": [
       "\u001b[2;36m          \u001b[0m\u001b[2;36m \u001b[0m\u001b[34mINFO    \u001b[0m loading old monitor data to data dict                       \u001b]8;id=629723;file:///Users/twhughes/Documents/Flexcompute/Tidy3D-client-revamp/notebooks/../tidy3d/web/webapi.py\u001b\\\u001b[2mwebapi.py\u001b[0m\u001b]8;;\u001b\\\u001b[2m:234\u001b[0m\n"
      ]
     },
     "metadata": {},
     "output_type": "display_data"
    },
    {
     "data": {
      "text/html": [
       "<pre style=\"white-space:pre;overflow-x:auto;line-height:normal;font-family:Menlo,'DejaVu Sans Mono',consolas,'Courier New',monospace\"><span style=\"color: #7fbfbf; text-decoration-color: #7fbfbf\">[16:48:38] </span><span style=\"color: #000080; text-decoration-color: #000080\">INFO    </span> creating SimulationData from monitor data dict              <a href=\"file:///Users/twhughes/Documents/Flexcompute/Tidy3D-client-revamp/notebooks/../tidy3d/web/webapi.py\"><span style=\"color: #7f7f7f; text-decoration-color: #7f7f7f\">webapi.py</span></a><span style=\"color: #7f7f7f; text-decoration-color: #7f7f7f\">:239</span>\n",
       "</pre>\n"
      ],
      "text/plain": [
       "\u001b[2;36m[16:48:38]\u001b[0m\u001b[2;36m \u001b[0m\u001b[34mINFO    \u001b[0m creating SimulationData from monitor data dict              \u001b]8;id=418390;file:///Users/twhughes/Documents/Flexcompute/Tidy3D-client-revamp/notebooks/../tidy3d/web/webapi.py\u001b\\\u001b[2mwebapi.py\u001b[0m\u001b]8;;\u001b\\\u001b[2m:239\u001b[0m\n"
      ]
     },
     "metadata": {},
     "output_type": "display_data"
    },
    {
     "data": {
      "text/html": [
       "<pre style=\"white-space:pre;overflow-x:auto;line-height:normal;font-family:Menlo,'DejaVu Sans Mono',consolas,'Courier New',monospace\"><span style=\"color: #7fbfbf; text-decoration-color: #7fbfbf\">           </span><span style=\"color: #000080; text-decoration-color: #000080\">INFO    </span> exporting SimulationData to data/simulation_data.hdf5       <a href=\"file:///Users/twhughes/Documents/Flexcompute/Tidy3D-client-revamp/notebooks/../tidy3d/web/webapi.py\"><span style=\"color: #7f7f7f; text-decoration-color: #7f7f7f\">webapi.py</span></a><span style=\"color: #7f7f7f; text-decoration-color: #7f7f7f\">:246</span>\n",
       "</pre>\n"
      ],
      "text/plain": [
       "\u001b[2;36m          \u001b[0m\u001b[2;36m \u001b[0m\u001b[34mINFO    \u001b[0m exporting SimulationData to data/simulation_data.hdf5       \u001b]8;id=970739;file:///Users/twhughes/Documents/Flexcompute/Tidy3D-client-revamp/notebooks/../tidy3d/web/webapi.py\u001b\\\u001b[2mwebapi.py\u001b[0m\u001b]8;;\u001b\\\u001b[2m:246\u001b[0m\n"
      ]
     },
     "metadata": {},
     "output_type": "display_data"
    },
    {
     "data": {
      "text/html": [
       "<pre style=\"white-space:pre;overflow-x:auto;line-height:normal;font-family:Menlo,'DejaVu Sans Mono',consolas,'Courier New',monospace\"><span style=\"color: #7fbfbf; text-decoration-color: #7fbfbf\">           </span><span style=\"color: #000080; text-decoration-color: #000080\">INFO    </span> clearing extraneous files                                   <a href=\"file:///Users/twhughes/Documents/Flexcompute/Tidy3D-client-revamp/notebooks/../tidy3d/web/webapi.py\"><span style=\"color: #7f7f7f; text-decoration-color: #7f7f7f\">webapi.py</span></a><span style=\"color: #7f7f7f; text-decoration-color: #7f7f7f\">:249</span>\n",
       "</pre>\n"
      ],
      "text/plain": [
       "\u001b[2;36m          \u001b[0m\u001b[2;36m \u001b[0m\u001b[34mINFO    \u001b[0m clearing extraneous files                                   \u001b]8;id=927881;file:///Users/twhughes/Documents/Flexcompute/Tidy3D-client-revamp/notebooks/../tidy3d/web/webapi.py\u001b\\\u001b[2mwebapi.py\u001b[0m\u001b]8;;\u001b\\\u001b[2m:249\u001b[0m\n"
      ]
     },
     "metadata": {},
     "output_type": "display_data"
    },
    {
     "data": {
      "text/html": [
       "<pre style=\"white-space:pre;overflow-x:auto;line-height:normal;font-family:Menlo,'DejaVu Sans Mono',consolas,'Courier New',monospace\"><span style=\"color: #7fbfbf; text-decoration-color: #7fbfbf\">           </span><span style=\"color: #000080; text-decoration-color: #000080\">INFO    </span> removing file data/simulation.json                          <a href=\"file:///Users/twhughes/Documents/Flexcompute/Tidy3D-client-revamp/notebooks/../tidy3d/web/webapi.py\"><span style=\"color: #7f7f7f; text-decoration-color: #7f7f7f\">webapi.py</span></a><span style=\"color: #7f7f7f; text-decoration-color: #7f7f7f\">:397</span>\n",
       "</pre>\n"
      ],
      "text/plain": [
       "\u001b[2;36m          \u001b[0m\u001b[2;36m \u001b[0m\u001b[34mINFO    \u001b[0m removing file data/simulation.json                          \u001b]8;id=338073;file:///Users/twhughes/Documents/Flexcompute/Tidy3D-client-revamp/notebooks/../tidy3d/web/webapi.py\u001b\\\u001b[2mwebapi.py\u001b[0m\u001b]8;;\u001b\\\u001b[2m:397\u001b[0m\n"
      ]
     },
     "metadata": {},
     "output_type": "display_data"
    },
    {
     "data": {
      "text/html": [
       "<pre style=\"white-space:pre;overflow-x:auto;line-height:normal;font-family:Menlo,'DejaVu Sans Mono',consolas,'Courier New',monospace\"><span style=\"color: #7fbfbf; text-decoration-color: #7fbfbf\">           </span><span style=\"color: #000080; text-decoration-color: #000080\">INFO    </span> removing file data/monitor_data.hdf5                        <a href=\"file:///Users/twhughes/Documents/Flexcompute/Tidy3D-client-revamp/notebooks/../tidy3d/web/webapi.py\"><span style=\"color: #7f7f7f; text-decoration-color: #7f7f7f\">webapi.py</span></a><span style=\"color: #7f7f7f; text-decoration-color: #7f7f7f\">:397</span>\n",
       "</pre>\n"
      ],
      "text/plain": [
       "\u001b[2;36m          \u001b[0m\u001b[2;36m \u001b[0m\u001b[34mINFO    \u001b[0m removing file data/monitor_data.hdf5                        \u001b]8;id=651912;file:///Users/twhughes/Documents/Flexcompute/Tidy3D-client-revamp/notebooks/../tidy3d/web/webapi.py\u001b\\\u001b[2mwebapi.py\u001b[0m\u001b]8;;\u001b\\\u001b[2m:397\u001b[0m\n"
      ]
     },
     "metadata": {},
     "output_type": "display_data"
    },
    {
     "data": {
      "text/html": [
       "<pre style=\"white-space:pre;overflow-x:auto;line-height:normal;font-family:Menlo,'DejaVu Sans Mono',consolas,'Courier New',monospace\"><span style=\"color: #7fbfbf; text-decoration-color: #7fbfbf\">           </span><span style=\"color: #000080; text-decoration-color: #000080\">INFO    </span> removing file data/tidy3d.log                               <a href=\"file:///Users/twhughes/Documents/Flexcompute/Tidy3D-client-revamp/notebooks/../tidy3d/web/webapi.py\"><span style=\"color: #7f7f7f; text-decoration-color: #7f7f7f\">webapi.py</span></a><span style=\"color: #7f7f7f; text-decoration-color: #7f7f7f\">:397</span>\n",
       "</pre>\n"
      ],
      "text/plain": [
       "\u001b[2;36m          \u001b[0m\u001b[2;36m \u001b[0m\u001b[34mINFO    \u001b[0m removing file data/tidy3d.log                               \u001b]8;id=523398;file:///Users/twhughes/Documents/Flexcompute/Tidy3D-client-revamp/notebooks/../tidy3d/web/webapi.py\u001b\\\u001b[2mwebapi.py\u001b[0m\u001b]8;;\u001b\\\u001b[2m:397\u001b[0m\n"
      ]
     },
     "metadata": {},
     "output_type": "display_data"
    },
    {
     "data": {
      "text/html": [
       "<pre style=\"white-space:pre;overflow-x:auto;line-height:normal;font-family:Menlo,'DejaVu Sans Mono',consolas,'Courier New',monospace\"><span style=\"color: #7fbfbf; text-decoration-color: #7fbfbf\">           </span><span style=\"color: #000080; text-decoration-color: #000080\">INFO    </span> loading SimulationData from data/simulation_data.hdf5       <a href=\"file:///Users/twhughes/Documents/Flexcompute/Tidy3D-client-revamp/notebooks/../tidy3d/web/webapi.py\"><span style=\"color: #7f7f7f; text-decoration-color: #7f7f7f\">webapi.py</span></a><span style=\"color: #7f7f7f; text-decoration-color: #7f7f7f\">:275</span>\n",
       "</pre>\n"
      ],
      "text/plain": [
       "\u001b[2;36m          \u001b[0m\u001b[2;36m \u001b[0m\u001b[34mINFO    \u001b[0m loading SimulationData from data/simulation_data.hdf5       \u001b]8;id=574458;file:///Users/twhughes/Documents/Flexcompute/Tidy3D-client-revamp/notebooks/../tidy3d/web/webapi.py\u001b\\\u001b[2mwebapi.py\u001b[0m\u001b]8;;\u001b\\\u001b[2m:275\u001b[0m\n"
      ]
     },
     "metadata": {},
     "output_type": "display_data"
    }
   ],
   "source": [
    "import tidy3d.web as web\n",
    "job = web.Job(simulation=sim, task_name='tryingagain')\n",
    "sim_data = job.run(path='data/simulation_data.hdf5')"
   ]
  },
  {
   "cell_type": "code",
   "execution_count": 17,
   "id": "29c3acc2-ca03-464f-90c1-35ce099d70eb",
   "metadata": {},
   "outputs": [
    {
     "data": {
      "text/html": [
       "<pre style=\"white-space:pre;overflow-x:auto;line-height:normal;font-family:Menlo,'DejaVu Sans Mono',consolas,'Courier New',monospace\"><span style=\"font-weight: bold\">&lt;</span><span style=\"color: #ff00ff; text-decoration-color: #ff00ff; font-weight: bold\">matplotlib.collections.QuadMesh</span><span style=\"color: #000000; text-decoration-color: #000000\"> object at </span><span style=\"color: #008080; text-decoration-color: #008080; font-weight: bold\">0x1313aa760</span><span style=\"font-weight: bold\">&gt;</span>\n",
       "</pre>\n"
      ],
      "text/plain": [
       "\u001b[1m<\u001b[0m\u001b[1;95mmatplotlib.collections.QuadMesh\u001b[0m\u001b[39m object at \u001b[0m\u001b[1;36m0x1313aa760\u001b[0m\u001b[1m>\u001b[0m\n"
      ]
     },
     "metadata": {},
     "output_type": "display_data"
    },
    {
     "data": {
      "image/png": "[encoded data removed]"
     },
     "metadata": {
      "needs_background": "light"
     },
     "output_type": "display_data"
    }
   ],
   "source": [
    "sim_data['field'].Ex.real.plot()"
   ]
  },
  {
   "cell_type": "markdown",
   "id": "91ae5e53-b020-4c9b-baea-eed7d56cd7c3",
   "metadata": {},
   "source": [
    "### Save and Load\n",
    "Like most tidy3d components, the `mode` can be exported to .json and loaded in your main script, if runnning mode solver as a separate program."
   ]
  },
  {
   "cell_type": "code",
   "execution_count": 18,
   "id": "7b91a2c4-429d-4717-bad7-2f0a52de5ec1",
   "metadata": {
    "tags": []
   },
   "outputs": [],
   "source": [
    "# save to file\n",
    "fname = 'data/mode.json'\n",
    "mode.export(fname)\n",
    "\n",
    "# in your main script, load file and use mode\n",
    "mode = td.Mode.load(fname)"
   ]
  },
  {
   "cell_type": "markdown",
   "id": "4ff55bae-0eab-482d-9b5c-582c12641402",
   "metadata": {},
   "source": [
    "### Copy and Paste\n",
    "\n",
    "One can also simply print the mode and copy and paste this information into the main script to hard-code the specifications"
   ]
  },
  {
   "cell_type": "code",
   "execution_count": 19,
   "id": "bdee6787-cbd4-49e7-bb81-0323506c21de",
   "metadata": {
    "tags": []
   },
   "outputs": [
    {
     "name": "stdout",
     "output_type": "stream",
     "text": [
      "mode = td.Mode(mode_index=0 num_modes=1 target_neff=2.0 symmetries=(0, 0) num_pml=(0, 0))\n"
     ]
    }
   ],
   "source": [
    "print(f'mode = td.Mode({mode})')"
   ]
  },
  {
   "cell_type": "code",
   "execution_count": 20,
   "id": "66e31397-3626-4222-bd19-5514562d955c",
   "metadata": {
    "tags": []
   },
   "outputs": [],
   "source": [
    "# copy and paste output in your file\n",
    "mode = td.Mode(mode_index=2)"
   ]
  },
  {
   "cell_type": "markdown",
   "id": "96ecf333-9514-46a6-b474-50a656ff5c7b",
   "metadata": {},
   "source": [
    "### ModeSolver methods\n",
    "Finally, the `ModeSolver` provides some convenience methods for returning `ModeSource` and `ModeMonitor` objects."
   ]
  },
  {
   "cell_type": "code",
   "execution_count": 21,
   "id": "29fbf9dd-c61f-407f-83e6-9e107720809b",
   "metadata": {
    "tags": []
   },
   "outputs": [],
   "source": [
    "# makes a modal source with geometry of `plane`, source_time given by `freq_hz` and `fwidth` and `mode` specified by `mode`\n",
    "mode_src = mode_solver.make_source(mode=mode, fwidth=freq_hz, direction='+')\n",
    "\n",
    "# makes a mode monitor with geometry of `plane`, `td.FreqSampler` given by a list of frequencies and `mode` specified by `mode`\n",
    "mode_mon = mode_solver.make_monitor(mode=mode, freqs=[0.9 * freq_hz, freq_hz, 1.1*freq_hz])\n"
   ]
  },
  {
   "cell_type": "markdown",
   "id": "e8879c05-62d2-4de4-a9d7-2f4537f408f9",
   "metadata": {},
   "source": [
    "## Advanced Use\n",
    "\n",
    "Here are some more advanced functionalities of the mode solver for practical use:\n",
    "\n",
    "### \"Scanning\" modes\n",
    "One might want to view how a mode behaves over a range of frequencies, for now, just iterate:"
   ]
  },
  {
   "cell_type": "code",
   "execution_count": 22,
   "id": "ba7c532e-d7ad-4d76-bc7e-05c116604fba",
   "metadata": {
    "tags": []
   },
   "outputs": [
    {
     "name": "stdout",
     "output_type": "stream",
     "text": [
      "freq = 600 THz\n",
      "\t- neff = 1.96\n",
      "\t- keff = -5.09e-19\n",
      "freq = 400 THz\n",
      "\t- neff = 1.91\n",
      "\t- keff = 5.72e-12\n",
      "freq = 300 THz\n",
      "\t- neff = 1.85\n",
      "\t- keff = -1.83e-11\n",
      "freq = 240 THz\n",
      "\t- neff = 1.77\n",
      "\t- keff = 9.62e-11\n",
      "freq = 200 THz\n",
      "\t- neff = 1.67\n",
      "\t- keff = 3.98e-17\n"
     ]
    },
    {
     "data": {
      "image/png": "[encoded data removed]"
     },
     "metadata": {
      "needs_background": "light"
     },
     "output_type": "display_data"
    }
   ],
   "source": [
    "freqs = C_0 / np.linspace(0.5, 1.5, 5)\n",
    "neffs = []\n",
    "for freq in freqs:\n",
    "    mode_solver = ModeSolver(\n",
    "        simulation=sim,\n",
    "        plane=plane,\n",
    "        freq=freq)\n",
    "    mode_info = mode_solver.solve(mode)\n",
    "    print(f'freq = {(freq/1e12):.0f} THz\\n\\t- neff = {mode_info.n_eff:.2f}\\n\\t- keff = {mode_info.k_eff:.2e}')\n",
    "    neffs.append(mode_info.n_eff)\n",
    "    # or, get field data and plot\n",
    "\n",
    "plt.plot(freqs / 1e12, neffs)\n",
    "plt.xlabel('freq (THz)')\n",
    "plt.ylabel('effective index (real)')\n",
    "plt.show()"
   ]
  },
  {
   "cell_type": "markdown",
   "id": "6876ca3b-6664-44c2-8fb6-bd67d3db6d02",
   "metadata": {},
   "source": [
    "### Viewing multiple mode specifications\n",
    "One might want to view multiple mode specifications side by side, for now, just iterate:"
   ]
  },
  {
   "cell_type": "code",
   "execution_count": 23,
   "id": "948f8b5a-3217-47da-bfc3-a40c674b6fbf",
   "metadata": {
    "tags": []
   },
   "outputs": [
    {
     "name": "stdout",
     "output_type": "stream",
     "text": [
      "mode index = 0\n",
      "\t- neff = 1.85\n",
      "\t- keff = -2.66e-18\n",
      "mode index = 1\n",
      "\t- neff = 1.83\n",
      "\t- keff = -2.85e-16\n",
      "mode index = 2\n",
      "\t- neff = 1.67\n",
      "\t- keff = 4.53e-17\n",
      "mode index = 3\n",
      "\t- neff = 1.67\n",
      "\t- keff = 1.71e-17\n",
      "mode index = 4\n",
      "\t- neff = 1.56\n",
      "\t- keff = -2.40e-15\n"
     ]
    },
    {
     "data": {
      "image/png": "[encoded data removed]"
     },
     "metadata": {
      "needs_background": "light"
     },
     "output_type": "display_data"
    }
   ],
   "source": [
    "mode_indices = np.arange(0, 5)\n",
    "mode_solver = ModeSolver(\n",
    "    simulation=sim,\n",
    "    plane=plane,\n",
    "    freq=freq)\n",
    "\n",
    "neffs = []\n",
    "for mode_index in mode_indices:\n",
    "    mode = td.Mode(mode_index=mode_index)\n",
    "    mode_info = mode_solver.solve(mode)\n",
    "    print(f'mode index = {mode_index}\\n\\t- neff = {mode_info.n_eff:.2f}\\n\\t- keff = {mode_info.k_eff:.2e}')\n",
    "    neffs.append(mode_info.n_eff)\n",
    "    # or, get field data and plot\n",
    "\n",
    "plt.plot(freqs / 1e12, neffs)\n",
    "plt.xlabel('freq (THz)')\n",
    "plt.ylabel('effective index (real)')\n",
    "plt.show()"
   ]
  },
  {
   "cell_type": "markdown",
   "id": "3c601b8b-b9f0-4f60-a150-ed77aa0c9fa6",
   "metadata": {},
   "source": [
    "## Notes / Considerations\n",
    "\n",
    "- This mode solver runs locally, which means it does not require credits to run.\n",
    "- It also means that the mode solver does not use subpixel-smoothening, even if this is specified in the simulation.  Therefore, the results might not perfectly match what we compute with `simulation.subpixel=True`.\n",
    "- Symmetries are applied to the cross section of the permittivity parsed from the simulation.  It uses the upper quadrant data to fill the full `plane`.  "
   ]
  },
  {
   "cell_type": "code",
   "execution_count": null,
   "id": "9068340f-e824-4ac5-8b65-7e95d86314bd",
   "metadata": {},
   "outputs": [],
   "source": []
  }
 ],
 "metadata": {
  "kernelspec": {
   "display_name": "Python 3 (ipykernel)",
   "language": "python",
   "name": "python3"
  },
  "language_info": {
   "codemirror_mode": {
    "name": "ipython",
    "version": 3
   },
   "file_extension": ".py",
   "mimetype": "text/x-python",
   "name": "python",
   "nbconvert_exporter": "python",
   "pygments_lexer": "ipython3",
   "version": "3.9.7"
  }
 },
 "nbformat": 4,
 "nbformat_minor": 5
}
