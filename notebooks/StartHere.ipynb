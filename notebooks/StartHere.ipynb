{
 "cells": [
  {
   "cell_type": "code",
   "execution_count": 1,
   "id": "25ed08b2-a980-46c8-bf05-eed76f90517c",
   "metadata": {
    "tags": []
   },
   "outputs": [],
   "source": [
    "%load_ext autoreload\n",
    "%autoreload 2\n",
    "\n",
    "import matplotlib.pylab as plt\n",
    "\n",
    "import sys\n",
    "sys.path.append('..')\n",
    "\n",
    "import tidy3d as td\n",
    "import tidy3d.web as web"
   ]
  },
  {
   "cell_type": "code",
   "execution_count": 2,
   "id": "ab32c9db-5da6-4712-a787-48916db1e394",
   "metadata": {
    "tags": []
   },
   "outputs": [],
   "source": [
    "# set up parameters of simulation\n",
    "dl=0.01\n",
    "pml = td.PMLLayer(profile='standard', num_layers=10)\n",
    "sim_size = [4, 4, 4]\n",
    "freq0 = 3e14\n",
    "fwidth = 1e13\n",
    "run_time = 10/fwidth\n",
    "\n",
    "# create structure\n",
    "dielectric = td.nk_to_medium(n=2, k=0, freq=freq0)\n",
    "square = td.Structure(\n",
    "    geometry=td.Box(center=[0, 0, 0], size=[1.5, 1.5, 1.5]),\n",
    "    medium=dielectric)\n",
    "\n",
    "# create source\n",
    "source = td.VolumeSource(\n",
    "    center=(-1.5, 0, 0),\n",
    "    size=(0, 0.4, 0.4),\n",
    "    source_time = td.GaussianPulse(\n",
    "        freq0=freq0,\n",
    "        fwidth=fwidth),\n",
    "    polarization='Jx')\n",
    "\n",
    "# create monitor\n",
    "monitor = td.FieldMonitor(\n",
    "    fields=['Ex', 'Hy'],\n",
    "    center=(0, 0, 0),\n",
    "    size=(4, 4, 0),\n",
    "    freqs=[freq0])\n",
    "\n",
    "# Initialize simulation\n",
    "sim = td.Simulation(size=sim_size,\n",
    "                    grid_size=(dl, dl, dl),\n",
    "                    structures=[square],\n",
    "                    sources={'source': source},\n",
    "                    monitors={'monitor': monitor},\n",
    "                    run_time=run_time,\n",
    "                    pml_layers=(pml, pml, pml))"
   ]
  },
  {
   "cell_type": "code",
   "execution_count": null,
   "id": "9b85451d-abd5-488c-a1f7-88f81e6a4d9d",
   "metadata": {
    "tags": []
   },
   "outputs": [
    {
     "name": "stderr",
     "output_type": "stream",
     "text": [
      "[autoreload of tidy3d.components.simulation failed: Traceback (most recent call last):\n",
      "  File \"/usr/local/lib/python3.9/site-packages/IPython/extensions/autoreload.py\", line 245, in check\n",
      "    superreload(m, reload, self.old_objects)\n",
      "  File \"/usr/local/lib/python3.9/site-packages/IPython/extensions/autoreload.py\", line 410, in superreload\n",
      "    update_generic(old_obj, new_obj)\n",
      "  File \"/usr/local/lib/python3.9/site-packages/IPython/extensions/autoreload.py\", line 347, in update_generic\n",
      "    update(a, b)\n",
      "  File \"/usr/local/lib/python3.9/site-packages/IPython/extensions/autoreload.py\", line 317, in update_class\n",
      "    update_instances(old, new)\n",
      "  File \"/usr/local/lib/python3.9/site-packages/IPython/extensions/autoreload.py\", line 280, in update_instances\n",
      "    ref.__class__ = new\n",
      "  File \"pydantic/main.py\", line 422, in pydantic.main.BaseModel.__setattr__\n",
      "ValueError: \"Simulation\" object has no field \"__class__\"\n",
      "]\n"
     ]
    },
    {
     "data": {
      "text/html": [
       "<pre style=\"white-space:pre;overflow-x:auto;line-height:normal;font-family:Menlo,'DejaVu Sans Mono',consolas,'Courier New',monospace\"><span style=\"color: #7fbfbf; text-decoration-color: #7fbfbf\">[09:25:58] </span><span style=\"color: #000080; text-decoration-color: #000080\">INFO    </span> Creating task.                                              <a href=\"file:///Users/twhughes/Documents/Flexcompute/Tidy3D-client-revamp/notebooks/../tidy3d/web/webapi.py\"><span style=\"color: #7f7f7f; text-decoration-color: #7f7f7f\">webapi.py</span></a><span style=\"color: #7f7f7f; text-decoration-color: #7f7f7f\">:329</span>\n",
       "</pre>\n"
      ],
      "text/plain": [
       "\u001b[2;36m[09:25:58]\u001b[0m\u001b[2;36m \u001b[0m\u001b[34mINFO    \u001b[0m Creating task.                                              \u001b]8;id=127482;file:///Users/twhughes/Documents/Flexcompute/Tidy3D-client-revamp/notebooks/../tidy3d/web/webapi.py\u001b\\\u001b[2mwebapi.py\u001b[0m\u001b]8;;\u001b\\\u001b[2m:329\u001b[0m\n"
      ]
     },
     "metadata": {},
     "output_type": "display_data"
    },
    {
     "data": {
      "text/html": [
       "<pre style=\"white-space:pre;overflow-x:auto;line-height:normal;font-family:Menlo,'DejaVu Sans Mono',consolas,'Courier New',monospace\"><span style=\"color: #7fbfbf; text-decoration-color: #7fbfbf\">[09:25:59] </span><span style=\"color: #000080; text-decoration-color: #000080\">INFO    </span> Uploading the json file                                     <a href=\"file:///Users/twhughes/Documents/Flexcompute/Tidy3D-client-revamp/notebooks/../tidy3d/web/webapi.py\"><span style=\"color: #7f7f7f; text-decoration-color: #7f7f7f\">webapi.py</span></a><span style=\"color: #7f7f7f; text-decoration-color: #7f7f7f\">:338</span>\n",
       "</pre>\n"
      ],
      "text/plain": [
       "\u001b[2;36m[09:25:59]\u001b[0m\u001b[2;36m \u001b[0m\u001b[34mINFO    \u001b[0m Uploading the json file                                     \u001b]8;id=519421;file:///Users/twhughes/Documents/Flexcompute/Tidy3D-client-revamp/notebooks/../tidy3d/web/webapi.py\u001b\\\u001b[2mwebapi.py\u001b[0m\u001b]8;;\u001b\\\u001b[2m:338\u001b[0m\n"
      ]
     },
     "metadata": {},
     "output_type": "display_data"
    },
    {
     "data": {
      "application/vnd.jupyter.widget-view+json": {
       "model_id": "fb0561326e214a7aab3369cbedf0531f",
       "version_major": 2,
       "version_minor": 0
      },
      "text/plain": [
       "Output()"
      ]
     },
     "metadata": {},
     "output_type": "display_data"
    },
    {
     "data": {
      "text/html": [
       "<pre style=\"white-space:pre;overflow-x:auto;line-height:normal;font-family:Menlo,'DejaVu Sans Mono',consolas,'Courier New',monospace\"><span style=\"color: #7fbfbf; text-decoration-color: #7fbfbf\">[09:26:00] </span>status = queued                                                      <a href=\"file:///Users/twhughes/Documents/Flexcompute/Tidy3D-client-revamp/tidy3d/web/webapi.py\"><span style=\"color: #7f7f7f; text-decoration-color: #7f7f7f\">webapi.py</span></a><span style=\"color: #7f7f7f; text-decoration-color: #7f7f7f\">:157</span>\n",
       "</pre>\n"
      ],
      "text/plain": [
       "\u001b[2;36m[09:26:00]\u001b[0m\u001b[2;36m \u001b[0mstatus = queued                                                      \u001b]8;id=477164;file:///Users/twhughes/Documents/Flexcompute/Tidy3D-client-revamp/tidy3d/web/webapi.py\u001b\\\u001b[2mwebapi.py\u001b[0m\u001b]8;;\u001b\\\u001b[2m:157\u001b[0m\n"
      ]
     },
     "metadata": {},
     "output_type": "display_data"
    },
    {
     "data": {
      "text/html": [
       "<pre style=\"white-space:pre;overflow-x:auto;line-height:normal;font-family:Menlo,'DejaVu Sans Mono',consolas,'Courier New',monospace\"><span style=\"color: #7fbfbf; text-decoration-color: #7fbfbf\">[09:26:09] </span>status = preprocess                                                  <a href=\"file:///Users/twhughes/Documents/Flexcompute/Tidy3D-client-revamp/tidy3d/web/webapi.py\"><span style=\"color: #7f7f7f; text-decoration-color: #7f7f7f\">webapi.py</span></a><span style=\"color: #7f7f7f; text-decoration-color: #7f7f7f\">:157</span>\n",
       "</pre>\n"
      ],
      "text/plain": [
       "\u001b[2;36m[09:26:09]\u001b[0m\u001b[2;36m \u001b[0mstatus = preprocess                                                  \u001b]8;id=772608;file:///Users/twhughes/Documents/Flexcompute/Tidy3D-client-revamp/tidy3d/web/webapi.py\u001b\\\u001b[2mwebapi.py\u001b[0m\u001b]8;;\u001b\\\u001b[2m:157\u001b[0m\n"
      ]
     },
     "metadata": {},
     "output_type": "display_data"
    },
    {
     "data": {
      "text/html": [
       "<pre style=\"white-space:pre;overflow-x:auto;line-height:normal;font-family:Menlo,'DejaVu Sans Mono',consolas,'Courier New',monospace\"><span style=\"color: #7fbfbf; text-decoration-color: #7fbfbf\">[09:26:32] </span>status = running                                                     <a href=\"file:///Users/twhughes/Documents/Flexcompute/Tidy3D-client-revamp/tidy3d/web/webapi.py\"><span style=\"color: #7f7f7f; text-decoration-color: #7f7f7f\">webapi.py</span></a><span style=\"color: #7f7f7f; text-decoration-color: #7f7f7f\">:157</span>\n",
       "</pre>\n"
      ],
      "text/plain": [
       "\u001b[2;36m[09:26:32]\u001b[0m\u001b[2;36m \u001b[0mstatus = running                                                     \u001b]8;id=273432;file:///Users/twhughes/Documents/Flexcompute/Tidy3D-client-revamp/tidy3d/web/webapi.py\u001b\\\u001b[2mwebapi.py\u001b[0m\u001b]8;;\u001b\\\u001b[2m:157\u001b[0m\n"
      ]
     },
     "metadata": {},
     "output_type": "display_data"
    }
   ],
   "source": [
    "task_id = web.upload(sim, task_name='quickstart')\n",
    "web.start(task_id)\n",
    "web.monitor(task_id)"
   ]
  },
  {
   "cell_type": "code",
   "execution_count": null,
   "id": "766b79c4-02b0-4750-a08a-d2d93b887b2e",
   "metadata": {
    "tags": []
   },
   "outputs": [],
   "source": [
    "web.download(task_id, simulation=sim, path='data/sim_data.hdf5')"
   ]
  },
  {
   "cell_type": "code",
   "execution_count": null,
   "id": "7c096fff-9c32-4e27-8616-34795f1a4c97",
   "metadata": {
    "tags": []
   },
   "outputs": [],
   "source": [
    "sim_data = web.load_data(task_id, simulation=sim, path='data/sim_data.hdf5')\n",
    "ax = sim_data['monitor'].Ex.isel(f=0, z=0).imag.plot.pcolormesh(x='x', y='y', vmin=-5e-13, vmax=5e-13, cmap='RdBu')\n",
    "\n",
    "plt.show()"
   ]
  },
  {
   "cell_type": "code",
   "execution_count": null,
   "id": "c47bf5ff-d965-4af7-b6aa-69f4dff38f33",
   "metadata": {},
   "outputs": [],
   "source": [
    "sim_data.log"
   ]
  },
  {
   "cell_type": "code",
   "execution_count": null,
   "id": "fcfd3cc4-1a2d-41b3-b095-e3fd3b3faec9",
   "metadata": {},
   "outputs": [],
   "source": []
  }
 ],
 "metadata": {
  "kernelspec": {
   "display_name": "Python 3 (ipykernel)",
   "language": "python",
   "name": "python3"
  },
  "language_info": {
   "codemirror_mode": {
    "name": "ipython",
    "version": 3
   },
   "file_extension": ".py",
   "mimetype": "text/x-python",
   "name": "python",
   "nbconvert_exporter": "python",
   "pygments_lexer": "ipython3",
   "version": "3.9.7"
  }
 },
 "nbformat": 4,
 "nbformat_minor": 5
}
