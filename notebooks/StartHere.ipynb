{
 "cells": [
  {
   "cell_type": "code",
   "execution_count": 1,
   "id": "c318456d-e5d8-4f4c-ba05-ca4c86d02d51",
   "metadata": {
    "execution": {
     "iopub.execute_input": "2021-10-12T23:46:13.403211Z",
     "iopub.status.busy": "2021-10-12T23:46:13.402192Z",
     "iopub.status.idle": "2021-10-12T23:46:14.399512Z",
     "shell.execute_reply": "2021-10-12T23:46:14.400015Z"
    },
    "tags": []
   },
   "outputs": [],
   "source": [
    "import sys\n",
    "sys.path.append('..')\n",
    "\n",
    "import tidy3d as td\n",
    "\n",
    "# set up parameters of simulation\n",
    "dl = 0.1\n",
    "pml = td.PMLLayer(profile='standard', num_layers=10)\n",
    "sim_size = [4, 4, 4]\n",
    "freq0 = 3e14\n",
    "fwidth = 1e13\n",
    "run_time = 2/fwidth\n",
    "\n",
    "# create structure\n",
    "dielectric = td.nk_to_medium(n=2, k=0, freq=freq0)\n",
    "square = td.Structure(\n",
    "    geometry=td.Box(center=[0, 0, 0], size=[1.5, 1.5, 1.5]),\n",
    "    medium=dielectric)\n",
    "\n",
    "# create source\n",
    "source = td.PlaneWave(\n",
    "    center=(0, -1.5, 0),\n",
    "    size=(td.inf, 0, td.inf),\n",
    "    source_time = td.GaussianPulse(\n",
    "        freq0=freq0,\n",
    "        fwidth=fwidth),\n",
    "    polarization='Jx',\n",
    "    direction='+')\n",
    "\n",
    "# create monitor\n",
    "monitor = td.FieldMonitor(\n",
    "    fields=['Ex', 'Hy'],\n",
    "    center=(0, 0, 0),\n",
    "    size=(td.inf, 0, td.inf),\n",
    "    freqs=[freq0])\n",
    "\n",
    "# Initialize simulation\n",
    "sim = td.Simulation(size=sim_size,\n",
    "                    grid_size=(dl, dl, dl),\n",
    "                    structures=[square],\n",
    "                    sources={'plane_wave': source},\n",
    "                    monitors={'field_monitor': monitor},\n",
    "                    run_time=run_time,\n",
    "                    pml_layers=(pml, pml, pml))\n"
   ]
  },
  {
   "cell_type": "code",
   "execution_count": 2,
   "id": "56bd561e-c83b-4a29-9e76-0998c5bcc12e",
   "metadata": {
    "execution": {
     "iopub.execute_input": "2021-10-12T23:46:14.404762Z",
     "iopub.status.busy": "2021-10-12T23:46:14.403973Z",
     "iopub.status.idle": "2021-10-12T23:46:14.405733Z",
     "shell.execute_reply": "2021-10-12T23:46:14.406535Z"
    },
    "tags": []
   },
   "outputs": [],
   "source": [
    "# # run simulation\n",
    "# project = web.new_project(sim.export(), task_name='quickstart')\n",
    "# web.monitor_project(project['taskId'])\n",
    "\n",
    "# # download results\n",
    "# web.download_results(project['taskId'], target_folder='out/')\n",
    "# sim.load_results('out/monitor_data.hdf5')\n",
    "\n",
    "# # get field data as a numpy array\n",
    "# E = sim.data(freq_mnt)[\"E\"]\n",
    "\n",
    "# # plot results\n",
    "# clim = (1, 3)\n",
    "# fig, (ax_top, ax_bot) = plt.subplots(2, 2, figsize=(9, 7), tight_layout=True)\n",
    "\n",
    "# sim.viz_eps_2D(normal='y', ax=ax_top[0], cbar=True, clim=clim, monitor_alpha=0)\n",
    "# im_re = sim.viz_field_2D(freq_mnt, ax=ax_top[1], cbar=True, comp='y', val='re')\n",
    "\n",
    "# im_ab = sim.viz_field_2D(freq_mnt, ax=ax_bot[0], cbar=True, comp='y', val='abs')\n",
    "# im_int = sim.viz_field_2D(freq_mnt, ax=ax_bot[1], cbar=True, comp='y', val='int')\n",
    "\n",
    "# plt.show()"
   ]
  }
 ],
 "metadata": {
  "kernelspec": {
   "display_name": "env",
   "language": "python",
   "name": "env"
  },
  "language_info": {
   "codemirror_mode": {
    "name": "ipython",
    "version": 3
   },
   "file_extension": ".py",
   "mimetype": "text/x-python",
   "name": "python",
   "nbconvert_exporter": "python",
   "pygments_lexer": "ipython3",
   "version": "3.9.7"
  }
 },
 "nbformat": 4,
 "nbformat_minor": 5
}
