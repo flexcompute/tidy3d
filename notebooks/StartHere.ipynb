{
 "cells": [
  {
   "cell_type": "code",
   "execution_count": 1,
   "id": "25ed08b2-a980-46c8-bf05-eed76f90517c",
   "metadata": {
    "tags": []
   },
   "outputs": [],
   "source": [
    "%load_ext autoreload\n",
    "%autoreload 2\n",
    "\n",
    "import matplotlib.pylab as plt\n",
    "\n",
    "import sys\n",
    "sys.path.append('..')\n",
    "\n",
    "import tidy3d as td\n",
    "import tidy3d.web as web"
   ]
  },
  {
   "cell_type": "code",
   "execution_count": null,
   "id": "28269c9d-e87c-43d4-b13b-c580093e41c4",
   "metadata": {
    "tags": []
   },
   "outputs": [
    {
     "data": {
      "text/html": [
       "<pre style=\"white-space:pre;overflow-x:auto;line-height:normal;font-family:Menlo,'DejaVu Sans Mono',consolas,'Courier New',monospace\"><span style=\"color: #7fbfbf; text-decoration-color: #7fbfbf\">[16:49:14] </span><span style=\"color: #000080; text-decoration-color: #000080\">INFO    </span> Uploading the json file<span style=\"color: #808000; text-decoration-color: #808000\">...</span>                                   <a href=\"file:///Users/twhughes/Documents/Flexcompute/Tidy3D-client-revamp/notebooks/../tidy3d/web/webapi.py\"><span style=\"color: #7f7f7f; text-decoration-color: #7f7f7f\">webapi.py</span></a><span style=\"color: #7f7f7f; text-decoration-color: #7f7f7f\">:69</span>\n",
       "</pre>\n"
      ],
      "text/plain": [
       "\u001b[2;36m[16:49:14]\u001b[0m\u001b[2;36m \u001b[0m\u001b[34mINFO    \u001b[0m Uploading the json file\u001b[33m...\u001b[0m                                   \u001b]8;id=623826;file:///Users/twhughes/Documents/Flexcompute/Tidy3D-client-revamp/notebooks/../tidy3d/web/webapi.py\u001b\\\u001b[2mwebapi.py\u001b[0m\u001b]8;;\u001b\\\u001b[2m:69\u001b[0m\n"
      ]
     },
     "metadata": {},
     "output_type": "display_data"
    },
    {
     "data": {
      "application/vnd.jupyter.widget-view+json": {
       "model_id": "c3d0c0ac8b1040e59fd3307c48b4cbe9",
       "version_major": 2,
       "version_minor": 0
      },
      "text/plain": [
       "Output()"
      ]
     },
     "metadata": {},
     "output_type": "display_data"
    }
   ],
   "source": [
    "# set up parameters of simulation\n",
    "dl = 0.01\n",
    "pml = td.PMLLayer(profile='standard', num_layers=10)\n",
    "sim_size = [4, 4, 4]\n",
    "freq0 = 3e14\n",
    "fwidth = 1e13\n",
    "run_time = 15/fwidth\n",
    "\n",
    "# create structure\n",
    "dielectric = td.nk_to_medium(n=2, k=0, freq=freq0)\n",
    "square = td.Structure(\n",
    "    geometry=td.Box(center=[0, 0, 0], size=[1.5, 1.5, 1.5]),\n",
    "    medium=dielectric)\n",
    "\n",
    "# create source\n",
    "source = td.VolumeSource(\n",
    "    center=(-1.5, 0, 0),\n",
    "    size=(0, 0.4, 0.4),\n",
    "    source_time = td.GaussianPulse(\n",
    "        freq0=freq0,\n",
    "        fwidth=fwidth),\n",
    "    polarization='Jx')\n",
    "\n",
    "# create monitor\n",
    "monitor = td.FieldMonitor(\n",
    "    fields=['Ex', 'Hy'],\n",
    "    center=(0, 0, 0),\n",
    "    size=(4, 4, 0),\n",
    "    freqs=[freq0])\n",
    "\n",
    "# Initialize simulation\n",
    "sim = td.Simulation(size=sim_size,\n",
    "                    grid_size=(dl, dl, dl),\n",
    "                    structures=[square],\n",
    "                    sources={'source': source},\n",
    "                    monitors={'monitor': monitor},\n",
    "                    run_time=run_time,\n",
    "                    pml_layers=(pml, pml, pml))\n",
    "\n",
    "task_id = web.upload(sim, task_name='quickstart')\n",
    "web.run(task_id)\n",
    "web.monitor(task_id)"
   ]
  },
  {
   "cell_type": "code",
   "execution_count": null,
   "id": "766b79c4-02b0-4750-a08a-d2d93b887b2e",
   "metadata": {},
   "outputs": [],
   "source": [
    "web.download(task_id, simulation=sim, path='data/sim_data.hdf5')"
   ]
  },
  {
   "cell_type": "code",
   "execution_count": null,
   "id": "7c096fff-9c32-4e27-8616-34795f1a4c97",
   "metadata": {
    "tags": []
   },
   "outputs": [],
   "source": [
    "sim_data = web.load(task_id, simulation=sim, path='data/sim_data.hdf5')\n",
    "ax = sim_data['monitor'].Ex.isel(f=0, z=0).real.plot.pcolormesh(x='x', y='y', vmin=-5e-13, vmax=5e-13, cmap='RdBu')\n",
    "\n",
    "plt.show()"
   ]
  },
  {
   "cell_type": "code",
   "execution_count": null,
   "id": "c47bf5ff-d965-4af7-b6aa-69f4dff38f33",
   "metadata": {},
   "outputs": [],
   "source": []
  }
 ],
 "metadata": {
  "kernelspec": {
   "display_name": "Python 3 (ipykernel)",
   "language": "python",
   "name": "python3"
  },
  "language_info": {
   "codemirror_mode": {
    "name": "ipython",
    "version": 3
   },
   "file_extension": ".py",
   "mimetype": "text/x-python",
   "name": "python",
   "nbconvert_exporter": "python",
   "pygments_lexer": "ipython3",
   "version": "3.9.7"
  }
 },
 "nbformat": 4,
 "nbformat_minor": 5
}
