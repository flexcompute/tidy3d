{
 "cells": [
  {
   "cell_type": "markdown",
   "id": "2132341c-55eb-4413-9439-f329bb7fe68b",
   "metadata": {},
   "source": [
    "# Data Plotting\n",
    "\n",
    "This notebook provides a tutorial for plotting the output of tidy3d simulations."
   ]
  },
  {
   "cell_type": "code",
   "execution_count": 1,
   "id": "88426f5d-e140-4bc8-813c-9ca33a7a1037",
   "metadata": {
    "tags": []
   },
   "outputs": [],
   "source": [
    "%matplotlib inline\n",
    "import matplotlib as mpl\n",
    "mpl.rcParams['figure.dpi']= 100\n",
    "\n",
    "import numpy as np\n",
    "import matplotlib.pylab as plt\n",
    "\n",
    "import sys\n",
    "sys.path.append('../')\n",
    "\n",
    "import tidy3d as td\n",
    "import tidy3d_core as tdcore"
   ]
  },
  {
   "cell_type": "markdown",
   "id": "f5b79e44-2587-4a2a-a08e-f3bf35fd4ffa",
   "metadata": {},
   "source": [
    "## Setup\n",
    "\n",
    "### Creating Simulation\n",
    "\n",
    "First, let's make a `td.Simulation` so we have data to plot."
   ]
  },
  {
   "cell_type": "code",
   "execution_count": 2,
   "id": "00a76d83-d195-415a-acb2-0bf9d5c82d29",
   "metadata": {
    "tags": []
   },
   "outputs": [],
   "source": [
    "# make samplers that define the freq and time domain measurement\n",
    "freqs = np.linspace(1e14, 4e14, 1001)\n",
    "\n",
    "num_modes = 3\n",
    "\n",
    "simulation = td.Simulation(\n",
    "    size=(5.0, 5.0, 5.0),\n",
    "    grid_size=(0.1, 0.1, 0.1),\n",
    "    run_time = 1e-12,\n",
    "    structures = [\n",
    "        td.Structure(\n",
    "            geometry=td.Box(center=(-1,0,0), size=(.6,.6,.6)),\n",
    "            medium=td.Medium(permittivity=2)\n",
    "        ),\n",
    "        td.Structure(\n",
    "            geometry=td.Box(center=(1,0,0), size=(.6,.6,.6)),\n",
    "            medium=td.Medium(permittivity=2)\n",
    "        )        \n",
    "    ],\n",
    "    monitors={\n",
    "        \"field\": td.FieldMonitor(\n",
    "            fields=['Ex', 'Ey', 'Ez'],\n",
    "            size=(3,3,3),\n",
    "            center=(0,0,0),\n",
    "            freqs=freqs),\n",
    "        \"field_time\": td.FieldTimeMonitor(\n",
    "            size=(3,3,3),\n",
    "            center=(0,0,0),\n",
    "            interval=10),\n",
    "        \"flux\": td.FluxMonitor(\n",
    "            size=(1,1,0),\n",
    "            center=(0,0,0),\n",
    "            freqs=freqs),\n",
    "        \"flux_time\": td.FluxTimeMonitor(\n",
    "            size=(1,1,0),\n",
    "            center=(0,0,0),\n",
    "            interval=10),\n",
    "        \"mode\": td.ModeMonitor(\n",
    "            size=(1,1,0),\n",
    "            center=(0,0,0),\n",
    "            freqs=freqs,\n",
    "            modes=[td.Mode(mode_index=i) for i in range(num_modes)])\n",
    "    },\n",
    ")"
   ]
  },
  {
   "cell_type": "code",
   "execution_count": 3,
   "id": "bb7727e7-bef7-4595-98cd-a151cc66076a",
   "metadata": {
    "tags": []
   },
   "outputs": [
    {
     "data": {
      "text/html": [
       "<pre style=\"white-space:pre;overflow-x:auto;line-height:normal;font-family:Menlo,'DejaVu Sans Mono',consolas,'Courier New',monospace\"><span style=\"color: #7fbfbf; text-decoration-color: #7fbfbf\">[12:25:14] </span><span style=\"color: #000080; text-decoration-color: #000080\">INFO    </span> Creating task.                                              <a href=\"file:///Users/twhughes/Documents/Flexcompute/Tidy3D-client-revamp/notebooks/../tidy3d/web/webapi.py\"><span style=\"color: #7f7f7f; text-decoration-color: #7f7f7f\">webapi.py</span></a><span style=\"color: #7f7f7f; text-decoration-color: #7f7f7f\">:329</span>\n",
       "</pre>\n"
      ],
      "text/plain": [
       "\u001b[2;36m[12:25:14]\u001b[0m\u001b[2;36m \u001b[0m\u001b[34mINFO    \u001b[0m Creating task.                                              \u001b]8;id=363176;file:///Users/twhughes/Documents/Flexcompute/Tidy3D-client-revamp/notebooks/../tidy3d/web/webapi.py\u001b\\\u001b[2mwebapi.py\u001b[0m\u001b]8;;\u001b\\\u001b[2m:329\u001b[0m\n"
      ]
     },
     "metadata": {},
     "output_type": "display_data"
    },
    {
     "data": {
      "text/html": [
       "<pre style=\"white-space:pre;overflow-x:auto;line-height:normal;font-family:Menlo,'DejaVu Sans Mono',consolas,'Courier New',monospace\"><span style=\"color: #7fbfbf; text-decoration-color: #7fbfbf\">[12:25:15] </span><span style=\"color: #000080; text-decoration-color: #000080\">INFO    </span> Uploading the json file                                     <a href=\"file:///Users/twhughes/Documents/Flexcompute/Tidy3D-client-revamp/notebooks/../tidy3d/web/webapi.py\"><span style=\"color: #7f7f7f; text-decoration-color: #7f7f7f\">webapi.py</span></a><span style=\"color: #7f7f7f; text-decoration-color: #7f7f7f\">:338</span>\n",
       "</pre>\n"
      ],
      "text/plain": [
       "\u001b[2;36m[12:25:15]\u001b[0m\u001b[2;36m \u001b[0m\u001b[34mINFO    \u001b[0m Uploading the json file                                     \u001b]8;id=679744;file:///Users/twhughes/Documents/Flexcompute/Tidy3D-client-revamp/notebooks/../tidy3d/web/webapi.py\u001b\\\u001b[2mwebapi.py\u001b[0m\u001b]8;;\u001b\\\u001b[2m:338\u001b[0m\n"
      ]
     },
     "metadata": {},
     "output_type": "display_data"
    },
    {
     "data": {
      "application/vnd.jupyter.widget-view+json": {
       "model_id": "",
       "version_major": 2,
       "version_minor": 0
      },
      "text/plain": [
       "Output()"
      ]
     },
     "metadata": {},
     "output_type": "display_data"
    },
    {
     "data": {
      "text/html": [
       "<pre style=\"white-space:pre;overflow-x:auto;line-height:normal;font-family:Menlo,'DejaVu Sans Mono',consolas,'Courier New',monospace\"><span style=\"color: #7fbfbf; text-decoration-color: #7fbfbf\">[12:25:16] </span>status = queued                                                      <a href=\"file:///Users/twhughes/Documents/Flexcompute/Tidy3D-client-revamp/tidy3d/web/webapi.py\"><span style=\"color: #7f7f7f; text-decoration-color: #7f7f7f\">webapi.py</span></a><span style=\"color: #7f7f7f; text-decoration-color: #7f7f7f\">:158</span>\n",
       "</pre>\n"
      ],
      "text/plain": [
       "\u001b[2;36m[12:25:16]\u001b[0m\u001b[2;36m \u001b[0mstatus = queued                                                      \u001b]8;id=692379;file:///Users/twhughes/Documents/Flexcompute/Tidy3D-client-revamp/tidy3d/web/webapi.py\u001b\\\u001b[2mwebapi.py\u001b[0m\u001b]8;;\u001b\\\u001b[2m:158\u001b[0m\n"
      ]
     },
     "metadata": {},
     "output_type": "display_data"
    },
    {
     "data": {
      "text/html": [
       "<pre style=\"white-space:pre;overflow-x:auto;line-height:normal;font-family:Menlo,'DejaVu Sans Mono',consolas,'Courier New',monospace\"><span style=\"color: #7fbfbf; text-decoration-color: #7fbfbf\">[12:25:28] </span>status = preprocess                                                  <a href=\"file:///Users/twhughes/Documents/Flexcompute/Tidy3D-client-revamp/tidy3d/web/webapi.py\"><span style=\"color: #7f7f7f; text-decoration-color: #7f7f7f\">webapi.py</span></a><span style=\"color: #7f7f7f; text-decoration-color: #7f7f7f\">:158</span>\n",
       "</pre>\n"
      ],
      "text/plain": [
       "\u001b[2;36m[12:25:28]\u001b[0m\u001b[2;36m \u001b[0mstatus = preprocess                                                  \u001b]8;id=402868;file:///Users/twhughes/Documents/Flexcompute/Tidy3D-client-revamp/tidy3d/web/webapi.py\u001b\\\u001b[2mwebapi.py\u001b[0m\u001b]8;;\u001b\\\u001b[2m:158\u001b[0m\n"
      ]
     },
     "metadata": {},
     "output_type": "display_data"
    },
    {
     "data": {
      "text/html": [
       "<pre style=\"white-space:pre;overflow-x:auto;line-height:normal;font-family:Menlo,'DejaVu Sans Mono',consolas,'Courier New',monospace\"><span style=\"color: #7fbfbf; text-decoration-color: #7fbfbf\">[12:25:52] </span>status = running                                                     <a href=\"file:///Users/twhughes/Documents/Flexcompute/Tidy3D-client-revamp/tidy3d/web/webapi.py\"><span style=\"color: #7f7f7f; text-decoration-color: #7f7f7f\">webapi.py</span></a><span style=\"color: #7f7f7f; text-decoration-color: #7f7f7f\">:158</span>\n",
       "</pre>\n"
      ],
      "text/plain": [
       "\u001b[2;36m[12:25:52]\u001b[0m\u001b[2;36m \u001b[0mstatus = running                                                     \u001b]8;id=226848;file:///Users/twhughes/Documents/Flexcompute/Tidy3D-client-revamp/tidy3d/web/webapi.py\u001b\\\u001b[2mwebapi.py\u001b[0m\u001b]8;;\u001b\\\u001b[2m:158\u001b[0m\n"
      ]
     },
     "metadata": {},
     "output_type": "display_data"
    },
    {
     "data": {
      "text/html": [
       "<pre style=\"white-space:pre;overflow-x:auto;line-height:normal;font-family:Menlo,'DejaVu Sans Mono',consolas,'Courier New',monospace\"><span style=\"color: #7fbfbf; text-decoration-color: #7fbfbf\">[12:26:18] </span>status = preprocess                                                  <a href=\"file:///Users/twhughes/Documents/Flexcompute/Tidy3D-client-revamp/tidy3d/web/webapi.py\"><span style=\"color: #7f7f7f; text-decoration-color: #7f7f7f\">webapi.py</span></a><span style=\"color: #7f7f7f; text-decoration-color: #7f7f7f\">:158</span>\n",
       "</pre>\n"
      ],
      "text/plain": [
       "\u001b[2;36m[12:26:18]\u001b[0m\u001b[2;36m \u001b[0mstatus = preprocess                                                  \u001b]8;id=41190;file:///Users/twhughes/Documents/Flexcompute/Tidy3D-client-revamp/tidy3d/web/webapi.py\u001b\\\u001b[2mwebapi.py\u001b[0m\u001b]8;;\u001b\\\u001b[2m:158\u001b[0m\n"
      ]
     },
     "metadata": {},
     "output_type": "display_data"
    },
    {
     "data": {
      "text/html": [
       "<pre style=\"white-space:pre;overflow-x:auto;line-height:normal;font-family:Menlo,'DejaVu Sans Mono',consolas,'Courier New',monospace\"><span style=\"color: #7fbfbf; text-decoration-color: #7fbfbf\">[12:26:42] </span>status = running                                                     <a href=\"file:///Users/twhughes/Documents/Flexcompute/Tidy3D-client-revamp/tidy3d/web/webapi.py\"><span style=\"color: #7f7f7f; text-decoration-color: #7f7f7f\">webapi.py</span></a><span style=\"color: #7f7f7f; text-decoration-color: #7f7f7f\">:158</span>\n",
       "</pre>\n"
      ],
      "text/plain": [
       "\u001b[2;36m[12:26:42]\u001b[0m\u001b[2;36m \u001b[0mstatus = running                                                     \u001b]8;id=631093;file:///Users/twhughes/Documents/Flexcompute/Tidy3D-client-revamp/tidy3d/web/webapi.py\u001b\\\u001b[2mwebapi.py\u001b[0m\u001b]8;;\u001b\\\u001b[2m:158\u001b[0m\n"
      ]
     },
     "metadata": {},
     "output_type": "display_data"
    },
    {
     "data": {
      "text/html": [
       "<pre style=\"white-space:pre;overflow-x:auto;line-height:normal;font-family:Menlo,'DejaVu Sans Mono',consolas,'Courier New',monospace\"><span style=\"color: #7fbfbf; text-decoration-color: #7fbfbf\">[12:27:06] </span>status = preerror                                                    <a href=\"file:///Users/twhughes/Documents/Flexcompute/Tidy3D-client-revamp/tidy3d/web/webapi.py\"><span style=\"color: #7f7f7f; text-decoration-color: #7f7f7f\">webapi.py</span></a><span style=\"color: #7f7f7f; text-decoration-color: #7f7f7f\">:158</span>\n",
       "</pre>\n"
      ],
      "text/plain": [
       "\u001b[2;36m[12:27:06]\u001b[0m\u001b[2;36m \u001b[0mstatus = preerror                                                    \u001b]8;id=234661;file:///Users/twhughes/Documents/Flexcompute/Tidy3D-client-revamp/tidy3d/web/webapi.py\u001b\\\u001b[2mwebapi.py\u001b[0m\u001b]8;;\u001b\\\u001b[2m:158\u001b[0m\n"
      ]
     },
     "metadata": {},
     "output_type": "display_data"
    },
    {
     "data": {
      "text/html": [
       "<pre style=\"white-space:pre;overflow-x:auto;line-height:normal;font-family:Menlo,'DejaVu Sans Mono',consolas,'Courier New',monospace\"><span style=\"color: #7fbfbf; text-decoration-color: #7fbfbf\">[12:27:11] </span>status = error                                                       <a href=\"file:///Users/twhughes/Documents/Flexcompute/Tidy3D-client-revamp/tidy3d/web/webapi.py\"><span style=\"color: #7f7f7f; text-decoration-color: #7f7f7f\">webapi.py</span></a><span style=\"color: #7f7f7f; text-decoration-color: #7f7f7f\">:158</span>\n",
       "</pre>\n"
      ],
      "text/plain": [
       "\u001b[2;36m[12:27:11]\u001b[0m\u001b[2;36m \u001b[0mstatus = error                                                       \u001b]8;id=354932;file:///Users/twhughes/Documents/Flexcompute/Tidy3D-client-revamp/tidy3d/web/webapi.py\u001b\\\u001b[2mwebapi.py\u001b[0m\u001b]8;;\u001b\\\u001b[2m:158\u001b[0m\n"
      ]
     },
     "metadata": {},
     "output_type": "display_data"
    },
    {
     "data": {
      "text/html": [
       "<pre style=\"white-space:pre;overflow-x:auto;line-height:normal;font-family:Menlo,'DejaVu Sans Mono',consolas,'Courier New',monospace\"></pre>\n"
      ],
      "text/plain": []
     },
     "metadata": {},
     "output_type": "display_data"
    },
    {
     "data": {
      "text/html": [
       "<pre style=\"white-space:pre;overflow-x:auto;line-height:normal;font-family:Menlo,'DejaVu Sans Mono',consolas,'Courier New',monospace\"><span style=\"color: #7fbfbf; text-decoration-color: #7fbfbf\">[12:27:12] </span><span style=\"color: #800000; text-decoration-color: #800000; font-weight: bold\">ERROR   </span> can't download task <span style=\"color: #008000; text-decoration-color: #008000\">'6f462497-98d6-45af-8ea9-4cbb3199ae3d'</span>,     <a href=\"file:///Users/twhughes/Documents/Flexcompute/Tidy3D-client-revamp/notebooks/../tidy3d/log.py\"><span style=\"color: #7f7f7f; text-decoration-color: #7f7f7f\">log.py</span></a><span style=\"color: #7f7f7f; text-decoration-color: #7f7f7f\">:17</span>\n",
       "                    status = <span style=\"color: #008000; text-decoration-color: #008000\">'error'</span>                                                         \n",
       "</pre>\n"
      ],
      "text/plain": [
       "\u001b[2;36m[12:27:12]\u001b[0m\u001b[2;36m \u001b[0m\u001b[1;31mERROR   \u001b[0m can't download task \u001b[32m'6f462497-98d6-45af-8ea9-4cbb3199ae3d'\u001b[0m,     \u001b]8;id=134308;file:///Users/twhughes/Documents/Flexcompute/Tidy3D-client-revamp/notebooks/../tidy3d/log.py\u001b\\\u001b[2mlog.py\u001b[0m\u001b]8;;\u001b\\\u001b[2m:17\u001b[0m\n",
       "                    status = \u001b[32m'error'\u001b[0m                                                         \n"
      ]
     },
     "metadata": {},
     "output_type": "display_data"
    },
    {
     "data": {
      "text/html": [
       "<pre style=\"white-space:pre;overflow-x:auto;line-height:normal;font-family:Menlo,'DejaVu Sans Mono',consolas,'Courier New',monospace\"><span style=\"color: #ff0000; text-decoration-color: #ff0000\">╭──────────────────────────── </span><span style=\"color: #800000; text-decoration-color: #800000; font-weight: bold\">Traceback </span><span style=\"color: #bf7f7f; text-decoration-color: #bf7f7f; font-weight: bold\">(most recent call last)</span><span style=\"color: #ff0000; text-decoration-color: #ff0000\"> ────────────────────────────╮</span>\n",
       "<span style=\"color: #ff0000; text-decoration-color: #ff0000\">│</span>                                                                                           <span style=\"color: #ff0000; text-decoration-color: #ff0000\">│</span>\n",
       "<span style=\"color: #ff0000; text-decoration-color: #ff0000\">│</span> <span style=\"color: #bfbf7f; text-decoration-color: #bfbf7f\">/var/folders/jx/9y0mtn3s3zzb6mzgmsw6s6gr0000gn/T/ipykernel_32403/</span><span style=\"color: #808000; text-decoration-color: #808000; font-weight: bold\">2004925604.py</span>:<span style=\"color: #0000ff; text-decoration-color: #0000ff\">2</span> in       <span style=\"color: #ff0000; text-decoration-color: #ff0000\">│</span>\n",
       "<span style=\"color: #ff0000; text-decoration-color: #ff0000\">│</span> <span style=\"color: #00ff00; text-decoration-color: #00ff00\">&lt;module&gt;</span>                                                                                  <span style=\"color: #ff0000; text-decoration-color: #ff0000\">│</span>\n",
       "<span style=\"color: #ff0000; text-decoration-color: #ff0000\">│</span>                                                                                           <span style=\"color: #ff0000; text-decoration-color: #ff0000\">│</span>\n",
       "<span style=\"color: #ff0000; text-decoration-color: #ff0000\">│</span> <span style=\"color: #800000; text-decoration-color: #800000; font-style: italic\">[Errno 2] No such file or directory: </span>                                                     <span style=\"color: #ff0000; text-decoration-color: #ff0000\">│</span>\n",
       "<span style=\"color: #ff0000; text-decoration-color: #ff0000\">│</span> <span style=\"color: #800000; text-decoration-color: #800000; font-style: italic\">'/var/folders/jx/9y0mtn3s3zzb6mzgmsw6s6gr0000gn/T/ipykernel_32403/2004925604.py'</span>          <span style=\"color: #ff0000; text-decoration-color: #ff0000\">│</span>\n",
       "<span style=\"color: #ff0000; text-decoration-color: #ff0000\">│</span> <span style=\"color: #bfbf7f; text-decoration-color: #bfbf7f\">/Users/twhughes/Documents/Flexcompute/Tidy3D-client-revamp/notebooks/../tidy3d/web/</span><span style=\"color: #808000; text-decoration-color: #808000; font-weight: bold\">webapi</span> <span style=\"color: #ff0000; text-decoration-color: #ff0000\">│</span>\n",
       "<span style=\"color: #ff0000; text-decoration-color: #ff0000\">│</span> <span style=\"color: #808000; text-decoration-color: #808000; font-weight: bold\">.py</span>:<span style=\"color: #0000ff; text-decoration-color: #0000ff\">55</span> in <span style=\"color: #00ff00; text-decoration-color: #00ff00\">run</span>                                                                             <span style=\"color: #ff0000; text-decoration-color: #ff0000\">│</span>\n",
       "<span style=\"color: #ff0000; text-decoration-color: #ff0000\">│</span>                                                                                           <span style=\"color: #ff0000; text-decoration-color: #ff0000\">│</span>\n",
       "<span style=\"color: #ff0000; text-decoration-color: #ff0000\">│</span>   <span style=\"color: #7f7f7f; text-decoration-color: #7f7f7f\"> 52 │   </span>task_id = upload(simulation=simulation, task_name=task_name, folder_name=folder <span style=\"color: #ff0000; text-decoration-color: #ff0000\">│</span>\n",
       "<span style=\"color: #ff0000; text-decoration-color: #ff0000\">│</span>   <span style=\"color: #7f7f7f; text-decoration-color: #7f7f7f\"> 53 │   </span>start(task_id)                                                                  <span style=\"color: #ff0000; text-decoration-color: #ff0000\">│</span>\n",
       "<span style=\"color: #ff0000; text-decoration-color: #ff0000\">│</span>   <span style=\"color: #7f7f7f; text-decoration-color: #7f7f7f\"> 54 │   </span>monitor(task_id)                                                                <span style=\"color: #ff0000; text-decoration-color: #ff0000\">│</span>\n",
       "<span style=\"color: #ff0000; text-decoration-color: #ff0000\">│</span> <span style=\"color: #800000; text-decoration-color: #800000\">❱ </span> 55 <span style=\"color: #7f7f7f; text-decoration-color: #7f7f7f\">│   </span><span style=\"color: #0000ff; text-decoration-color: #0000ff\">return</span> load_data(task_id=task_id, simulation=simulation, path=path)             <span style=\"color: #ff0000; text-decoration-color: #ff0000\">│</span>\n",
       "<span style=\"color: #ff0000; text-decoration-color: #ff0000\">│</span>   <span style=\"color: #7f7f7f; text-decoration-color: #7f7f7f\"> 56 </span>                                                                                    <span style=\"color: #ff0000; text-decoration-color: #ff0000\">│</span>\n",
       "<span style=\"color: #ff0000; text-decoration-color: #ff0000\">│</span>   <span style=\"color: #7f7f7f; text-decoration-color: #7f7f7f\"> 57 </span>                                                                                    <span style=\"color: #ff0000; text-decoration-color: #ff0000\">│</span>\n",
       "<span style=\"color: #ff0000; text-decoration-color: #ff0000\">│</span>   <span style=\"color: #7f7f7f; text-decoration-color: #7f7f7f\"> 58 </span><span style=\"color: #0000ff; text-decoration-color: #0000ff\">def</span> <span style=\"color: #00ff00; text-decoration-color: #00ff00\">upload</span>(simulation: Simulation, task_name: <span style=\"color: #00ffff; text-decoration-color: #00ffff\">str</span>, folder_name: <span style=\"color: #00ffff; text-decoration-color: #00ffff\">str</span> = <span style=\"color: #808000; text-decoration-color: #808000\">\"default\"</span>) -&gt; <span style=\"color: #ff0000; text-decoration-color: #ff0000\">│</span>\n",
       "<span style=\"color: #ff0000; text-decoration-color: #ff0000\">│</span>                                                                                           <span style=\"color: #ff0000; text-decoration-color: #ff0000\">│</span>\n",
       "<span style=\"color: #ff0000; text-decoration-color: #ff0000\">│</span> <span style=\"color: #bfbf7f; text-decoration-color: #bfbf7f\">/Users/twhughes/Documents/Flexcompute/Tidy3D-client-revamp/notebooks/../tidy3d/web/</span><span style=\"color: #808000; text-decoration-color: #808000; font-weight: bold\">webapi</span> <span style=\"color: #ff0000; text-decoration-color: #ff0000\">│</span>\n",
       "<span style=\"color: #ff0000; text-decoration-color: #ff0000\">│</span> <span style=\"color: #808000; text-decoration-color: #808000; font-weight: bold\">.py</span>:<span style=\"color: #0000ff; text-decoration-color: #0000ff\">278</span> in <span style=\"color: #00ff00; text-decoration-color: #00ff00\">load_data</span>                                                                      <span style=\"color: #ff0000; text-decoration-color: #ff0000\">│</span>\n",
       "<span style=\"color: #ff0000; text-decoration-color: #ff0000\">│</span>                                                                                           <span style=\"color: #ff0000; text-decoration-color: #ff0000\">│</span>\n",
       "<span style=\"color: #ff0000; text-decoration-color: #ff0000\">│</span>   <span style=\"color: #7f7f7f; text-decoration-color: #7f7f7f\">275 </span><span style=\"color: #bfbf7f; text-decoration-color: #bfbf7f\">│   │   </span><span style=\"color: #808000; text-decoration-color: #808000\">Object containing simulation data.</span>                                          <span style=\"color: #ff0000; text-decoration-color: #ff0000\">│</span>\n",
       "<span style=\"color: #ff0000; text-decoration-color: #ff0000\">│</span>   <span style=\"color: #7f7f7f; text-decoration-color: #7f7f7f\">276 </span><span style=\"color: #bfbf7f; text-decoration-color: #bfbf7f\">│   </span><span style=\"color: #808000; text-decoration-color: #808000\">\"\"\"</span>                                                                             <span style=\"color: #ff0000; text-decoration-color: #ff0000\">│</span>\n",
       "<span style=\"color: #ff0000; text-decoration-color: #ff0000\">│</span>   <span style=\"color: #7f7f7f; text-decoration-color: #7f7f7f\">277 │   </span><span style=\"color: #0000ff; text-decoration-color: #0000ff\">if</span> <span style=\"color: #ff00ff; text-decoration-color: #ff00ff\">not</span> os.path.exists(path) <span style=\"color: #ff00ff; text-decoration-color: #ff00ff\">or</span> replace_existing:                                <span style=\"color: #ff0000; text-decoration-color: #ff0000\">│</span>\n",
       "<span style=\"color: #ff0000; text-decoration-color: #ff0000\">│</span> <span style=\"color: #800000; text-decoration-color: #800000\">❱ </span>278 <span style=\"color: #7f7f7f; text-decoration-color: #7f7f7f\">│   │   </span>download(task_id=task_id, simulation=simulation, path=path)                 <span style=\"color: #ff0000; text-decoration-color: #ff0000\">│</span>\n",
       "<span style=\"color: #ff0000; text-decoration-color: #ff0000\">│</span>   <span style=\"color: #7f7f7f; text-decoration-color: #7f7f7f\">279 │   </span>                                                                                <span style=\"color: #ff0000; text-decoration-color: #ff0000\">│</span>\n",
       "<span style=\"color: #ff0000; text-decoration-color: #ff0000\">│</span>   <span style=\"color: #7f7f7f; text-decoration-color: #7f7f7f\">280 │   </span>log.info(<span style=\"color: #808000; text-decoration-color: #808000\">f\"loading SimulationData from {</span>path<span style=\"color: #808000; text-decoration-color: #808000\">}\"</span>)                                 <span style=\"color: #ff0000; text-decoration-color: #ff0000\">│</span>\n",
       "<span style=\"color: #ff0000; text-decoration-color: #ff0000\">│</span>   <span style=\"color: #7f7f7f; text-decoration-color: #7f7f7f\">281 │   </span><span style=\"color: #0000ff; text-decoration-color: #0000ff\">return</span> SimulationData.load(path)                                                <span style=\"color: #ff0000; text-decoration-color: #ff0000\">│</span>\n",
       "<span style=\"color: #ff0000; text-decoration-color: #ff0000\">│</span>                                                                                           <span style=\"color: #ff0000; text-decoration-color: #ff0000\">│</span>\n",
       "<span style=\"color: #ff0000; text-decoration-color: #ff0000\">│</span> <span style=\"color: #bfbf7f; text-decoration-color: #bfbf7f\">/Users/twhughes/Documents/Flexcompute/Tidy3D-client-revamp/notebooks/../tidy3d/web/</span><span style=\"color: #808000; text-decoration-color: #808000; font-weight: bold\">webapi</span> <span style=\"color: #ff0000; text-decoration-color: #ff0000\">│</span>\n",
       "<span style=\"color: #ff0000; text-decoration-color: #ff0000\">│</span> <span style=\"color: #808000; text-decoration-color: #808000; font-weight: bold\">.py</span>:<span style=\"color: #0000ff; text-decoration-color: #0000ff\">213</span> in <span style=\"color: #00ff00; text-decoration-color: #00ff00\">download</span>                                                                       <span style=\"color: #ff0000; text-decoration-color: #ff0000\">│</span>\n",
       "<span style=\"color: #ff0000; text-decoration-color: #ff0000\">│</span>                                                                                           <span style=\"color: #ff0000; text-decoration-color: #ff0000\">│</span>\n",
       "<span style=\"color: #ff0000; text-decoration-color: #ff0000\">│</span>   <span style=\"color: #7f7f7f; text-decoration-color: #7f7f7f\">210 │   </span>                                                                                <span style=\"color: #ff0000; text-decoration-color: #ff0000\">│</span>\n",
       "<span style=\"color: #ff0000; text-decoration-color: #ff0000\">│</span>   <span style=\"color: #7f7f7f; text-decoration-color: #7f7f7f\">211 │   </span>task_info = get_info(task_id)                                                   <span style=\"color: #ff0000; text-decoration-color: #ff0000\">│</span>\n",
       "<span style=\"color: #ff0000; text-decoration-color: #ff0000\">│</span>   <span style=\"color: #7f7f7f; text-decoration-color: #7f7f7f\">212 │   </span><span style=\"color: #0000ff; text-decoration-color: #0000ff\">if</span> task_info.status <span style=\"color: #ff00ff; text-decoration-color: #ff00ff\">in</span> (<span style=\"color: #808000; text-decoration-color: #808000\">\"error\"</span>, <span style=\"color: #808000; text-decoration-color: #808000\">\"diverged\"</span>, <span style=\"color: #808000; text-decoration-color: #808000\">\"deleted\"</span>, <span style=\"color: #808000; text-decoration-color: #808000\">\"draft\"</span>):               <span style=\"color: #ff0000; text-decoration-color: #ff0000\">│</span>\n",
       "<span style=\"color: #ff0000; text-decoration-color: #ff0000\">│</span> <span style=\"color: #800000; text-decoration-color: #800000\">❱ </span>213 <span style=\"color: #7f7f7f; text-decoration-color: #7f7f7f\">│   │   </span><span style=\"color: #0000ff; text-decoration-color: #0000ff\">raise</span> WebError(<span style=\"color: #808000; text-decoration-color: #808000\">f\"can't download task '{</span>task_id<span style=\"color: #808000; text-decoration-color: #808000\">}', status = '{</span>task_info.stat <span style=\"color: #ff0000; text-decoration-color: #ff0000\">│</span>\n",
       "<span style=\"color: #ff0000; text-decoration-color: #ff0000\">│</span>   <span style=\"color: #7f7f7f; text-decoration-color: #7f7f7f\">214 │   </span>                                                                                <span style=\"color: #ff0000; text-decoration-color: #ff0000\">│</span>\n",
       "<span style=\"color: #ff0000; text-decoration-color: #ff0000\">│</span>   <span style=\"color: #7f7f7f; text-decoration-color: #7f7f7f\">215 │   </span>directory, _ = os.path.split(path)                                              <span style=\"color: #ff0000; text-decoration-color: #ff0000\">│</span>\n",
       "<span style=\"color: #ff0000; text-decoration-color: #ff0000\">│</span>   <span style=\"color: #7f7f7f; text-decoration-color: #7f7f7f\">216 │   </span>sim_file = os.path.join(directory, <span style=\"color: #808000; text-decoration-color: #808000\">\"simulation.json\"</span>)                           <span style=\"color: #ff0000; text-decoration-color: #ff0000\">│</span>\n",
       "<span style=\"color: #ff0000; text-decoration-color: #ff0000\">╰───────────────────────────────────────────────────────────────────────────────────────────╯</span>\n",
       "<span style=\"color: #ff0000; text-decoration-color: #ff0000; font-weight: bold\">WebError: </span><span style=\"font-weight: bold\">(</span><span style=\"color: #800080; text-decoration-color: #800080; font-weight: bold\">WebError</span><span style=\"font-weight: bold\">(</span><span style=\"color: #808000; text-decoration-color: #808000\">...</span><span style=\"font-weight: bold\">)</span>, <span style=\"color: #008000; text-decoration-color: #008000\">\"can't download task '6f462497-98d6-45af-8ea9-4cbb3199ae3d', status</span>\n",
       "<span style=\"color: #008000; text-decoration-color: #008000\">= 'error'\"</span><span style=\"font-weight: bold\">)</span>\n",
       "</pre>\n"
      ],
      "text/plain": [
       "\u001b[91m╭─\u001b[0m\u001b[91m─────────────────────────── \u001b[0m\u001b[1;31mTraceback \u001b[0m\u001b[1;2;31m(most recent call last)\u001b[0m\u001b[91m ───────────────────────────\u001b[0m\u001b[91m─╮\u001b[0m\n",
       "\u001b[91m│\u001b[0m                                                                                           \u001b[91m│\u001b[0m\n",
       "\u001b[91m│\u001b[0m \u001b[2;33m/var/folders/jx/9y0mtn3s3zzb6mzgmsw6s6gr0000gn/T/ipykernel_32403/\u001b[0m\u001b[1;33m2004925604.py\u001b[0m:\u001b[94m2\u001b[0m in       \u001b[91m│\u001b[0m\n",
       "\u001b[91m│\u001b[0m \u001b[92m<module>\u001b[0m                                                                                  \u001b[91m│\u001b[0m\n",
       "\u001b[91m│\u001b[0m                                                                                           \u001b[91m│\u001b[0m\n",
       "\u001b[91m│\u001b[0m \u001b[3;31m[Errno 2] No such file or directory: \u001b[0m                                                     \u001b[91m│\u001b[0m\n",
       "\u001b[91m│\u001b[0m \u001b[3;31m'/var/folders/jx/9y0mtn3s3zzb6mzgmsw6s6gr0000gn/T/ipykernel_32403/2004925604.py'\u001b[0m          \u001b[91m│\u001b[0m\n",
       "\u001b[91m│\u001b[0m \u001b[2;33m/Users/twhughes/Documents/Flexcompute/Tidy3D-client-revamp/notebooks/../tidy3d/web/\u001b[0m\u001b[1;33mwebapi\u001b[0m \u001b[91m│\u001b[0m\n",
       "\u001b[91m│\u001b[0m \u001b[1;33m.py\u001b[0m:\u001b[94m55\u001b[0m in \u001b[92mrun\u001b[0m                                                                             \u001b[91m│\u001b[0m\n",
       "\u001b[91m│\u001b[0m                                                                                           \u001b[91m│\u001b[0m\n",
       "\u001b[91m│\u001b[0m   \u001b[2m 52 \u001b[0m\u001b[2m│   \u001b[0mtask_id = upload(simulation=simulation, task_name=task_name, folder_name=folder \u001b[91m│\u001b[0m\n",
       "\u001b[91m│\u001b[0m   \u001b[2m 53 \u001b[0m\u001b[2m│   \u001b[0mstart(task_id)                                                                  \u001b[91m│\u001b[0m\n",
       "\u001b[91m│\u001b[0m   \u001b[2m 54 \u001b[0m\u001b[2m│   \u001b[0mmonitor(task_id)                                                                \u001b[91m│\u001b[0m\n",
       "\u001b[91m│\u001b[0m \u001b[31m❱ \u001b[0m 55 \u001b[2m│   \u001b[0m\u001b[94mreturn\u001b[0m load_data(task_id=task_id, simulation=simulation, path=path)             \u001b[91m│\u001b[0m\n",
       "\u001b[91m│\u001b[0m   \u001b[2m 56 \u001b[0m                                                                                    \u001b[91m│\u001b[0m\n",
       "\u001b[91m│\u001b[0m   \u001b[2m 57 \u001b[0m                                                                                    \u001b[91m│\u001b[0m\n",
       "\u001b[91m│\u001b[0m   \u001b[2m 58 \u001b[0m\u001b[94mdef\u001b[0m \u001b[92mupload\u001b[0m(simulation: Simulation, task_name: \u001b[96mstr\u001b[0m, folder_name: \u001b[96mstr\u001b[0m = \u001b[33m\"\u001b[0m\u001b[33mdefault\u001b[0m\u001b[33m\"\u001b[0m) -> \u001b[91m│\u001b[0m\n",
       "\u001b[91m│\u001b[0m                                                                                           \u001b[91m│\u001b[0m\n",
       "\u001b[91m│\u001b[0m \u001b[2;33m/Users/twhughes/Documents/Flexcompute/Tidy3D-client-revamp/notebooks/../tidy3d/web/\u001b[0m\u001b[1;33mwebapi\u001b[0m \u001b[91m│\u001b[0m\n",
       "\u001b[91m│\u001b[0m \u001b[1;33m.py\u001b[0m:\u001b[94m278\u001b[0m in \u001b[92mload_data\u001b[0m                                                                      \u001b[91m│\u001b[0m\n",
       "\u001b[91m│\u001b[0m                                                                                           \u001b[91m│\u001b[0m\n",
       "\u001b[91m│\u001b[0m   \u001b[2m275 \u001b[0m\u001b[2;33m│   │   \u001b[0m\u001b[33mObject containing simulation data.\u001b[0m                                          \u001b[91m│\u001b[0m\n",
       "\u001b[91m│\u001b[0m   \u001b[2m276 \u001b[0m\u001b[2;33m│   \u001b[0m\u001b[33m\"\"\"\u001b[0m                                                                             \u001b[91m│\u001b[0m\n",
       "\u001b[91m│\u001b[0m   \u001b[2m277 \u001b[0m\u001b[2m│   \u001b[0m\u001b[94mif\u001b[0m \u001b[95mnot\u001b[0m os.path.exists(path) \u001b[95mor\u001b[0m replace_existing:                                \u001b[91m│\u001b[0m\n",
       "\u001b[91m│\u001b[0m \u001b[31m❱ \u001b[0m278 \u001b[2m│   │   \u001b[0mdownload(task_id=task_id, simulation=simulation, path=path)                 \u001b[91m│\u001b[0m\n",
       "\u001b[91m│\u001b[0m   \u001b[2m279 \u001b[0m\u001b[2m│   \u001b[0m                                                                                \u001b[91m│\u001b[0m\n",
       "\u001b[91m│\u001b[0m   \u001b[2m280 \u001b[0m\u001b[2m│   \u001b[0mlog.info(\u001b[33mf\u001b[0m\u001b[33m\"\u001b[0m\u001b[33mloading SimulationData from \u001b[0m\u001b[33m{\u001b[0mpath\u001b[33m}\u001b[0m\u001b[33m\"\u001b[0m)                                 \u001b[91m│\u001b[0m\n",
       "\u001b[91m│\u001b[0m   \u001b[2m281 \u001b[0m\u001b[2m│   \u001b[0m\u001b[94mreturn\u001b[0m SimulationData.load(path)                                                \u001b[91m│\u001b[0m\n",
       "\u001b[91m│\u001b[0m                                                                                           \u001b[91m│\u001b[0m\n",
       "\u001b[91m│\u001b[0m \u001b[2;33m/Users/twhughes/Documents/Flexcompute/Tidy3D-client-revamp/notebooks/../tidy3d/web/\u001b[0m\u001b[1;33mwebapi\u001b[0m \u001b[91m│\u001b[0m\n",
       "\u001b[91m│\u001b[0m \u001b[1;33m.py\u001b[0m:\u001b[94m213\u001b[0m in \u001b[92mdownload\u001b[0m                                                                       \u001b[91m│\u001b[0m\n",
       "\u001b[91m│\u001b[0m                                                                                           \u001b[91m│\u001b[0m\n",
       "\u001b[91m│\u001b[0m   \u001b[2m210 \u001b[0m\u001b[2m│   \u001b[0m                                                                                \u001b[91m│\u001b[0m\n",
       "\u001b[91m│\u001b[0m   \u001b[2m211 \u001b[0m\u001b[2m│   \u001b[0mtask_info = get_info(task_id)                                                   \u001b[91m│\u001b[0m\n",
       "\u001b[91m│\u001b[0m   \u001b[2m212 \u001b[0m\u001b[2m│   \u001b[0m\u001b[94mif\u001b[0m task_info.status \u001b[95min\u001b[0m (\u001b[33m\"\u001b[0m\u001b[33merror\u001b[0m\u001b[33m\"\u001b[0m, \u001b[33m\"\u001b[0m\u001b[33mdiverged\u001b[0m\u001b[33m\"\u001b[0m, \u001b[33m\"\u001b[0m\u001b[33mdeleted\u001b[0m\u001b[33m\"\u001b[0m, \u001b[33m\"\u001b[0m\u001b[33mdraft\u001b[0m\u001b[33m\"\u001b[0m):               \u001b[91m│\u001b[0m\n",
       "\u001b[91m│\u001b[0m \u001b[31m❱ \u001b[0m213 \u001b[2m│   │   \u001b[0m\u001b[94mraise\u001b[0m WebError(\u001b[33mf\u001b[0m\u001b[33m\"\u001b[0m\u001b[33mcan\u001b[0m\u001b[33m'\u001b[0m\u001b[33mt download task \u001b[0m\u001b[33m'\u001b[0m\u001b[33m{\u001b[0mtask_id\u001b[33m}\u001b[0m\u001b[33m'\u001b[0m\u001b[33m, status = \u001b[0m\u001b[33m'\u001b[0m\u001b[33m{\u001b[0mtask_info.stat \u001b[91m│\u001b[0m\n",
       "\u001b[91m│\u001b[0m   \u001b[2m214 \u001b[0m\u001b[2m│   \u001b[0m                                                                                \u001b[91m│\u001b[0m\n",
       "\u001b[91m│\u001b[0m   \u001b[2m215 \u001b[0m\u001b[2m│   \u001b[0mdirectory, _ = os.path.split(path)                                              \u001b[91m│\u001b[0m\n",
       "\u001b[91m│\u001b[0m   \u001b[2m216 \u001b[0m\u001b[2m│   \u001b[0msim_file = os.path.join(directory, \u001b[33m\"\u001b[0m\u001b[33msimulation.json\u001b[0m\u001b[33m\"\u001b[0m)                           \u001b[91m│\u001b[0m\n",
       "\u001b[91m╰───────────────────────────────────────────────────────────────────────────────────────────╯\u001b[0m\n",
       "\u001b[1;91mWebError: \u001b[0m\u001b[1m(\u001b[0m\u001b[1;35mWebError\u001b[0m\u001b[1m(\u001b[0m\u001b[33m...\u001b[0m\u001b[1m)\u001b[0m, \u001b[32m\"can't download task '6f462497-98d6-45af-8ea9-4cbb3199ae3d', status\u001b[0m\n",
       "\u001b[32m= 'error'\"\u001b[0m\u001b[1m)\u001b[0m\n"
      ]
     },
     "metadata": {},
     "output_type": "display_data"
    }
   ],
   "source": [
    "import tidy3d.web as web\n",
    "sim_data = web.run(simulation, task_name='viz_data', path='data/simulation.hdf5')"
   ]
  },
  {
   "cell_type": "markdown",
   "id": "cf8f6dee-d14f-45d0-af3c-fb3f97e6b785",
   "metadata": {},
   "source": [
    "## Plotting\n",
    "\n",
    "Here we show how to plot data from each monitor\n",
    "\n",
    "### Flux Data\n",
    "\n",
    "`td.FluxData` and `td.FluxTimeData` is the simplest because it just stores the electromagnetic power flux through a surface as a function of the frequency and time, respectively.\n",
    "\n",
    "First, we access the `td.MonitorData` through the dictionary `sim_data.monitor_data`."
   ]
  },
  {
   "cell_type": "code",
   "execution_count": null,
   "id": "c99e8cd0-df7a-4cb5-be52-5c7523ffbfa1",
   "metadata": {
    "tags": []
   },
   "outputs": [],
   "source": [
    "# get the flux data from that monitor name\n",
    "flux_data = sim_data['flux']\n",
    "flux_time_data = sim_data['flux_time']"
   ]
  },
  {
   "cell_type": "markdown",
   "id": "10cc1c33-cd39-469a-bad2-653110f7d734",
   "metadata": {},
   "source": [
    "and we can plot the values using the `td.MonitorData.plot()` method."
   ]
  },
  {
   "cell_type": "code",
   "execution_count": null,
   "id": "69c2536e-2127-45fd-88f7-76dbb754ecfc",
   "metadata": {
    "tags": []
   },
   "outputs": [],
   "source": [
    "f, (ax1, ax2) = plt.subplots(1, 2, tight_layout=True, figsize=(8,3))\n",
    "flux_data.real.plot(ax=ax1)\n",
    "flux_time_data.plot(ax=ax2)\n",
    "\n",
    "plt.show()"
   ]
  },
  {
   "cell_type": "markdown",
   "id": "e0f17049-93f7-4d08-8b64-e8fd7d4ff31c",
   "metadata": {},
   "source": [
    "## Plotting Mode Data\n",
    "\n",
    "The axes of mode data correspond to direction (+/-), mode_index, and sampler axes. \n",
    "\n",
    "To pot all of this data, we make two subplots and use the builting `.sel()` function to select the data to plot in each axis."
   ]
  },
  {
   "cell_type": "code",
   "execution_count": null,
   "id": "287282bf-371c-42f8-80ff-96e10017cf9c",
   "metadata": {
    "tags": []
   },
   "outputs": [],
   "source": [
    "# tip: you can also get the monitor data directly by indexing it's name in `SimulationData`\n",
    "mode_data = sim_data['mode']\n",
    "\n",
    "f, (ax1, ax2) = plt.subplots(1, 2, tight_layout=True, figsize=(8, 3))\n",
    "\n",
    "mode_data.sel(direction='+').real.plot.line(x='f', ax=ax1)\n",
    "mode_data.sel(direction='-').real.plot.line(x='f', ax=ax2)\n",
    "plt.show()\n"
   ]
  },
  {
   "cell_type": "markdown",
   "id": "05147a55-79d1-470f-a71c-14150e2add94",
   "metadata": {},
   "source": [
    "### Plotting Fields\n",
    "\n",
    "Let's grab the field data and plot."
   ]
  },
  {
   "cell_type": "code",
   "execution_count": null,
   "id": "2b9cc40c-ed49-4d08-8066-f81367de92e9",
   "metadata": {
    "tags": []
   },
   "outputs": [],
   "source": [
    "field_data = sim_data['field']"
   ]
  },
  {
   "cell_type": "markdown",
   "id": "2e489398-ccd0-4ce7-a123-0c26ad2dad91",
   "metadata": {
    "tags": []
   },
   "source": [
    "#### Electromagnetic Fields"
   ]
  },
  {
   "cell_type": "code",
   "execution_count": null,
   "id": "c288cf8c-2694-48cd-ac6b-8b8f0d71ede2",
   "metadata": {
    "tags": []
   },
   "outputs": [],
   "source": [
    "# get the field data on the z=1.0 plane at frequency f=7.5\n",
    "field_data = sim_data['field']\n",
    "field_plane = field_data.interp(f=7.5, z=1.0)"
   ]
  },
  {
   "cell_type": "markdown",
   "id": "b2d7a3a9-55b8-44cb-97ab-96922146a368",
   "metadata": {},
   "source": [
    "##### Amplitude Plots"
   ]
  },
  {
   "cell_type": "code",
   "execution_count": null,
   "id": "86acc480-5869-49f6-b1b6-b83c36d6a18c",
   "metadata": {
    "tags": []
   },
   "outputs": [],
   "source": [
    "# amplitude plot of Ex(x,y) field on plane\n",
    "field_plane.Ex.real.plot()\n",
    "plt.show()"
   ]
  },
  {
   "cell_type": "markdown",
   "id": "217b95b8-fb3e-4225-83c0-f496fce2dd35",
   "metadata": {},
   "source": [
    "##### Quiver Plots"
   ]
  },
  {
   "cell_type": "code",
   "execution_count": null,
   "id": "4c2eb49e-0209-4139-a23e-08a214ac6b05",
   "metadata": {
    "tags": []
   },
   "outputs": [],
   "source": [
    "# quiver plot of E_{x,y}(x,y) on plane with Ez(x,y) underlying.\n",
    "f, ax = plt.subplots()\n",
    "field_plane.Ez.real.plot(ax=ax)\n",
    "field_plane.real.plot.quiver('x', 'y', 'Ex', 'Ey', ax=ax)\n",
    "plt.show()"
   ]
  },
  {
   "cell_type": "markdown",
   "id": "613bf820-f324-4af8-b047-766da7d0ce3a",
   "metadata": {},
   "source": [
    "##### Structure Overlay\n",
    "One can overlay the structure permittivity by calling `plot_fields` from the `td.SimulationData` object as follows:"
   ]
  },
  {
   "cell_type": "code",
   "execution_count": null,
   "id": "4ef5c1d4-4e9a-4c31-9bb8-a50d22aaa054",
   "metadata": {
    "tags": []
   },
   "outputs": [],
   "source": [
    "_, ax = plt.subplots(1,1)\n",
    "sim_data.simulation.plot_structures_eps(z=0.0, ax=ax, alpha=.5, cbar=False, lw=0)\n",
    "field_plane.Ey.real.plot(ax=ax)\n",
    "plt.show()"
   ]
  },
  {
   "cell_type": "code",
   "execution_count": null,
   "id": "cb1b4760-32c8-4709-82e5-6cc895a297a3",
   "metadata": {},
   "outputs": [],
   "source": [
    "_, ax = plt.subplots(1,1)\n",
    "sim_data.plot_fields('field_plane')\n",
    "field_plane.Ey.real.plot(ax=ax)\n",
    "plt.show()"
   ]
  },
  {
   "cell_type": "markdown",
   "id": "6da3d90d-5dff-450c-b7e7-4c9c090fae9e",
   "metadata": {
    "tags": []
   },
   "source": [
    "#### Permittivity\n",
    "\n",
    "If we've stored permittivity by specifing `eps_xx`, `eps_yy` or `eps_zz` in the `FieldMonitor`'s `fields`, we can access them and plot as follows."
   ]
  },
  {
   "cell_type": "code",
   "execution_count": null,
   "id": "689a4682-112a-4a71-8c5b-42aae55f560f",
   "metadata": {
    "tags": []
   },
   "outputs": [],
   "source": [
    "eps_xx = field_data.eps_xx\n",
    "xx_component_plane = eps_xx.interp(z=1.0, f=7.5)\n",
    "xx_component_plane.real.plot(cmap='gist_yarg')\n",
    "plt.show()"
   ]
  },
  {
   "cell_type": "markdown",
   "id": "01c91772-5051-4c63-b29c-b68d4c29670c",
   "metadata": {},
   "source": [
    "## Tricks and Tips"
   ]
  },
  {
   "cell_type": "markdown",
   "id": "808dd0fe-34a5-4f1a-8111-1e499d172973",
   "metadata": {},
   "source": [
    "The `td.MonitorData` objects can be found by indexing `td.SimulationData` directly."
   ]
  },
  {
   "cell_type": "code",
   "execution_count": null,
   "id": "5737dd16-c088-4ffc-ba46-14ce503b4374",
   "metadata": {
    "tags": []
   },
   "outputs": [],
   "source": [
    "assert np.all(sim_data.monitor_data['mode'].data == sim_data['mode'])"
   ]
  },
  {
   "cell_type": "markdown",
   "id": "debde698-72ff-4515-b865-8c02829243fb",
   "metadata": {},
   "source": [
    "Keyword arguments are passed to the correponding `.plot()` calls internally, so you can customize the plots."
   ]
  },
  {
   "cell_type": "code",
   "execution_count": null,
   "id": "60b26e19-bf90-4234-af4d-5247b3844647",
   "metadata": {
    "tags": []
   },
   "outputs": [],
   "source": [
    "sim_data['flux'].plot(color='brown', linestyle='-.', label='custom line')\n",
    "plt.legend()\n",
    "plt.title('custom plot')\n",
    "plt.show()"
   ]
  },
  {
   "cell_type": "code",
   "execution_count": null,
   "id": "c75a6998-7c32-40db-bb96-7ce663a5da66",
   "metadata": {},
   "outputs": [],
   "source": []
  },
  {
   "cell_type": "code",
   "execution_count": null,
   "id": "0a07822e-e811-438c-ae56-1c8c0eea5275",
   "metadata": {},
   "outputs": [],
   "source": []
  },
  {
   "cell_type": "code",
   "execution_count": null,
   "id": "e065d36a-bc86-4ef7-8c42-ce68f0a84ac9",
   "metadata": {},
   "outputs": [],
   "source": []
  }
 ],
 "metadata": {
  "kernelspec": {
   "display_name": "Python 3 (ipykernel)",
   "language": "python",
   "name": "python3"
  },
  "language_info": {
   "codemirror_mode": {
    "name": "ipython",
    "version": 3
   },
   "file_extension": ".py",
   "mimetype": "text/x-python",
   "name": "python",
   "nbconvert_exporter": "python",
   "pygments_lexer": "ipython3",
   "version": "3.9.7"
  }
 },
 "nbformat": 4,
 "nbformat_minor": 5
}
