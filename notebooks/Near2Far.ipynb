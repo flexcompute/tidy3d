{
 "cells": [
  {
   "cell_type": "markdown",
   "metadata": {},
   "source": [
    "# Near to far field transformation\n",
    "\n",
    "See on [github](https://github.com/flexcompute/tidy3d-notebooks/blob/main/Near2Far_ZonePlate.ipynb), run on [colab](https://colab.research.google.com/github/flexcompute/tidy3d-notebooks/blob/main/Near2Far_ZonePlate.ipynb), or just follow along with the output below.\n",
    "\n",
    "This tutorial will show you how to solve for electromagnetic fields far away from your structure using field information stored on a nearby surface.\n",
    "\n",
    "This technique is called a 'near field to far field transformation' and is very useful for reducing the simulation size needed for structures involving lots of empty space.\n",
    "\n",
    "As an example, we will simulate a simple zone plate lens with a very thin domain size to get the transmitted fields measured just above the structure.  Then, we'll show how to use the `Near2Far` feature from `tidy3D` to extrapolate to the fields at the focal plane above the lens."
   ]
  },
  {
   "cell_type": "code",
   "execution_count": 1,
   "metadata": {
    "execution": {
     "iopub.execute_input": "2021-10-28T22:26:01.091540Z",
     "iopub.status.busy": "2021-10-28T22:26:01.090804Z",
     "iopub.status.idle": "2021-10-28T22:26:03.805900Z",
     "shell.execute_reply": "2021-10-28T22:26:03.806445Z"
    },
    "tags": []
   },
   "outputs": [],
   "source": [
    "# make sure notebook plots inline\n",
    "%matplotlib inline\n",
    "\n",
    "# standard python imports\n",
    "import numpy as np\n",
    "import matplotlib.pyplot as plt\n",
    "import sys\n",
    "sys.path.append('..')\n",
    "\n",
    "# import client side tidy3d\n",
    "import tidy3d as td\n",
    "import tidy3d_core as tdcore"
   ]
  },
  {
   "cell_type": "markdown",
   "metadata": {},
   "source": [
    "## Problem Setup\n",
    "Below is a rough sketch of the setup of a near field to far field transformation.\n",
    "\n",
    "The transmitted near fields are measured just above the metalens on the blue line, and the near field to far field transformation is then used to project the fields to the focal plane above at the red line.\n",
    "\n",
    "<img src=\"img/n2f_diagram.png\" width=800>"
   ]
  },
  {
   "cell_type": "markdown",
   "metadata": {},
   "source": [
    "## Define Simulation Parameters\n",
    "\n",
    "As always, we first need to define our simulation parameters.  As a reminder, all length units in `tidy3D` are specified in microns."
   ]
  },
  {
   "cell_type": "code",
   "execution_count": 2,
   "metadata": {
    "execution": {
     "iopub.execute_input": "2021-10-28T22:26:03.813226Z",
     "iopub.status.busy": "2021-10-28T22:26:03.812456Z",
     "iopub.status.idle": "2021-10-28T22:26:03.814489Z",
     "shell.execute_reply": "2021-10-28T22:26:03.814942Z"
    },
    "tags": []
   },
   "outputs": [],
   "source": [
    "# 1 nanometer in units of microns (for conversion)\n",
    "nm = 1e-3\n",
    "\n",
    "# free space central wavelength\n",
    "wavelength = 1.0\n",
    "\n",
    "# numerical aperture\n",
    "NA = 0.8\n",
    "\n",
    "# height of lens features\n",
    "height_lens = 200 * nm\n",
    "\n",
    "# space between bottom PML and substrate (-z)\n",
    "# and the space between lens structure and top pml (+z)\n",
    "space_below_sub = 1.5 * wavelength\n",
    "\n",
    "# height of substrate (um)\n",
    "height_sub = wavelength / 2\n",
    "\n",
    "# side length (xy plane) of entire metalens (um)\n",
    "length_xy = 40 * wavelength\n",
    "\n",
    "# Lens and substrate refractive index\n",
    "n_TiO2 = 2.40\n",
    "n_SiO2 = 1.46\n",
    "\n",
    "# define material properties\n",
    "air = td.Medium(permittivity=1.0)\n",
    "SiO2 = td.Medium(permittivity=n_SiO2**2)\n",
    "TiO2 = td.Medium(permittivity=n_TiO2**2)\n",
    "\n",
    "# resolution of simulation (15 or more grids per wavelength is adequate)\n",
    "grids_per_wavelength = 20\n",
    "\n",
    "# Number of PML layers to use around edges of simulation, choose height of one wavelength to be safe\n",
    "npml = grids_per_wavelength"
   ]
  },
  {
   "cell_type": "markdown",
   "metadata": {},
   "source": [
    "## Process Geometry\n",
    "\n",
    "Next we perform some conversions based on these parameters to define the simulation."
   ]
  },
  {
   "cell_type": "code",
   "execution_count": 3,
   "metadata": {
    "execution": {
     "iopub.execute_input": "2021-10-28T22:26:03.820340Z",
     "iopub.status.busy": "2021-10-28T22:26:03.819456Z",
     "iopub.status.idle": "2021-10-28T22:26:03.821675Z",
     "shell.execute_reply": "2021-10-28T22:26:03.822126Z"
    },
    "tags": []
   },
   "outputs": [],
   "source": [
    "# grid size (um)\n",
    "dl = wavelength / grids_per_wavelength\n",
    "\n",
    "# because the wavelength is in microns, use builtin td.C_0 (um/s) to get frequency in Hz\n",
    "f0 = td.C_0 / wavelength\n",
    "f0 = 2.0\n",
    "\n",
    "# Define PML layers, for this application we surround the whole structure in PML to isolate the fields\n",
    "pml_layers = 3*[td.PML(num_layers=npml)]\n",
    "\n",
    "# domain size in z, note, we're just simulating a thin slice: (space -> substrate -> lens height -> space)\n",
    "length_z = space_below_sub + height_sub + height_lens + space_below_sub\n",
    "\n",
    "# construct simulation size array\n",
    "sim_size = (length_xy, length_xy, length_z)"
   ]
  },
  {
   "cell_type": "markdown",
   "metadata": {},
   "source": [
    "## Create Geometry\n",
    "\n",
    "Now we create the ring metalens programatically"
   ]
  },
  {
   "cell_type": "code",
   "execution_count": 4,
   "metadata": {
    "execution": {
     "iopub.execute_input": "2021-10-28T22:26:03.832407Z",
     "iopub.status.busy": "2021-10-28T22:26:03.830194Z",
     "iopub.status.idle": "2021-10-28T22:26:04.051967Z",
     "shell.execute_reply": "2021-10-28T22:26:04.051555Z"
    },
    "tags": []
   },
   "outputs": [
    {
     "data": {
      "text/html": [
       "<pre style=\"white-space:pre;overflow-x:auto;line-height:normal;font-family:Menlo,'DejaVu Sans Mono',consolas,'Courier New',monospace\"><span style=\"color: #ff0000; text-decoration-color: #ff0000\">╭──────────────────────────── </span><span style=\"color: #800000; text-decoration-color: #800000; font-weight: bold\">Traceback </span><span style=\"color: #bf7f7f; text-decoration-color: #bf7f7f; font-weight: bold\">(most recent call last)</span><span style=\"color: #ff0000; text-decoration-color: #ff0000\"> ────────────────────────────╮</span>\n",
       "<span style=\"color: #ff0000; text-decoration-color: #ff0000\">│</span>                                                                                           <span style=\"color: #ff0000; text-decoration-color: #ff0000\">│</span>\n",
       "<span style=\"color: #ff0000; text-decoration-color: #ff0000\">│</span> <span style=\"color: #bfbf7f; text-decoration-color: #bfbf7f\">/var/folders/jx/9y0mtn3s3zzb6mzgmsw6s6gr0000gn/T/ipykernel_23184/</span><span style=\"color: #808000; text-decoration-color: #808000; font-weight: bold\">107818291.py</span>:<span style=\"color: #0000ff; text-decoration-color: #0000ff\">33</span> in       <span style=\"color: #ff0000; text-decoration-color: #ff0000\">│</span>\n",
       "<span style=\"color: #ff0000; text-decoration-color: #ff0000\">│</span> <span style=\"color: #00ff00; text-decoration-color: #00ff00\">&lt;module&gt;</span>                                                                                  <span style=\"color: #ff0000; text-decoration-color: #ff0000\">│</span>\n",
       "<span style=\"color: #ff0000; text-decoration-color: #ff0000\">│</span>                                                                                           <span style=\"color: #ff0000; text-decoration-color: #ff0000\">│</span>\n",
       "<span style=\"color: #ff0000; text-decoration-color: #ff0000\">│</span> <span style=\"color: #800000; text-decoration-color: #800000; font-style: italic\">[Errno 2] No such file or directory: </span>                                                     <span style=\"color: #ff0000; text-decoration-color: #ff0000\">│</span>\n",
       "<span style=\"color: #ff0000; text-decoration-color: #ff0000\">│</span> <span style=\"color: #800000; text-decoration-color: #800000; font-style: italic\">'/var/folders/jx/9y0mtn3s3zzb6mzgmsw6s6gr0000gn/T/ipykernel_23184/107818291.py'</span>           <span style=\"color: #ff0000; text-decoration-color: #ff0000\">│</span>\n",
       "<span style=\"color: #ff0000; text-decoration-color: #ff0000\">╰───────────────────────────────────────────────────────────────────────────────────────────╯</span>\n",
       "<span style=\"color: #ff0000; text-decoration-color: #ff0000; font-weight: bold\">NameError: </span>name <span style=\"color: #008000; text-decoration-color: #008000\">'ax1'</span> is not defined\n",
       "</pre>\n"
      ],
      "text/plain": [
       "\u001b[91m╭─\u001b[0m\u001b[91m─────────────────────────── \u001b[0m\u001b[1;31mTraceback \u001b[0m\u001b[1;2;31m(most recent call last)\u001b[0m\u001b[91m ───────────────────────────\u001b[0m\u001b[91m─╮\u001b[0m\n",
       "\u001b[91m│\u001b[0m                                                                                           \u001b[91m│\u001b[0m\n",
       "\u001b[91m│\u001b[0m \u001b[2;33m/var/folders/jx/9y0mtn3s3zzb6mzgmsw6s6gr0000gn/T/ipykernel_23184/\u001b[0m\u001b[1;33m107818291.py\u001b[0m:\u001b[94m33\u001b[0m in       \u001b[91m│\u001b[0m\n",
       "\u001b[91m│\u001b[0m \u001b[92m<module>\u001b[0m                                                                                  \u001b[91m│\u001b[0m\n",
       "\u001b[91m│\u001b[0m                                                                                           \u001b[91m│\u001b[0m\n",
       "\u001b[91m│\u001b[0m \u001b[3;31m[Errno 2] No such file or directory: \u001b[0m                                                     \u001b[91m│\u001b[0m\n",
       "\u001b[91m│\u001b[0m \u001b[3;31m'/var/folders/jx/9y0mtn3s3zzb6mzgmsw6s6gr0000gn/T/ipykernel_23184/107818291.py'\u001b[0m           \u001b[91m│\u001b[0m\n",
       "\u001b[91m╰───────────────────────────────────────────────────────────────────────────────────────────╯\u001b[0m\n",
       "\u001b[1;91mNameError: \u001b[0mname \u001b[32m'ax1'\u001b[0m is not defined\n"
      ]
     },
     "metadata": {},
     "output_type": "display_data"
    }
   ],
   "source": [
    "# define substrate\n",
    "substrate = td.Structure(\n",
    "    geometry=td.Box(\n",
    "        center=[0, 0, -length_z/2 + space_below_sub + height_sub / 2.0],\n",
    "        size=[td.inf, td.inf, height_sub]\n",
    "    ),\n",
    "    medium=SiO2\n",
    ")\n",
    "\n",
    "# focal length\n",
    "focal_length = length_xy / 2 / NA * np.sqrt(1 - NA**2)\n",
    "\n",
    "# location from center for edge of the n-th inner ring, see https://en.wikipedia.org/wiki/Zone_plate\n",
    "def edge(n):\n",
    "    return np.sqrt(n * wavelength * focal_length + n**2 * wavelength**2 / 4)\n",
    "\n",
    "# loop through the ring indeces until it's too big and add each to geometry list\n",
    "n = 1\n",
    "r = edge(n)\n",
    "rings = []\n",
    "while r < 2 * length_xy:\n",
    "    # progressively wider cylinders, material alternating between air and TiO2 \n",
    "\n",
    "    cylinder = td.Structure(\n",
    "        geometry=td.Cylinder(\n",
    "            center=[0,0,-length_z/2  + space_below_sub + height_sub + height_lens / 2],\n",
    "            axis=2,\n",
    "            radius=r,\n",
    "            length=height_lens),\n",
    "        medium=TiO2 if n % 2 == 0 else air,\n",
    "    )\n",
    "    rings.append(cylinder)\n",
    "    cylinder.geometry.plot(x=0, ax=ax1)\n",
    "    \n",
    "    n += 1\n",
    "    r = edge(n)\n",
    "\n",
    "# reverse geometry list so that inner, smaller rings are added last and therefore override larger rings.\n",
    "rings.reverse()\n",
    "geometry = [substrate] + rings"
   ]
  },
  {
   "cell_type": "markdown",
   "metadata": {},
   "source": [
    "## Create Source\n",
    "\n",
    "Create a plane wave incident from below the metalens"
   ]
  },
  {
   "cell_type": "code",
   "execution_count": null,
   "metadata": {
    "tags": []
   },
   "outputs": [],
   "source": [
    "# Bandwidth in Hz\n",
    "fwidth = f0 / 10.0\n",
    "\n",
    "# Gaussian source offset; the source peak is at time t = offset/fwidth\n",
    "offset = 4.\n",
    "\n",
    "# time dependence of source\n",
    "gaussian = td.GaussianPulse(freq0=f0, fwidth=fwidth)\n",
    "\n",
    "source = td.PlaneWave(\n",
    "            center=(0,0,-length_z/2 + space_below_sub / 2),\n",
    "            size=(td.inf, td.inf, 0),\n",
    "            source_time=gaussian,\n",
    "            direction='+',\n",
    "            polarization='Jx')\n",
    "\n",
    "# Simulation run time\n",
    "run_time = 40 / fwidth"
   ]
  },
  {
   "cell_type": "markdown",
   "metadata": {},
   "source": [
    "## Create Monitor\n",
    "\n",
    "Create a near field monitor to measure the fields just above the metalens"
   ]
  },
  {
   "cell_type": "code",
   "execution_count": null,
   "metadata": {
    "tags": []
   },
   "outputs": [],
   "source": [
    "# place it halfway between top of lens and PML\n",
    "pos_monitor_z = -length_z/2 + space_below_sub + height_sub + height_lens + space_below_sub / 2\n",
    "monitor_near = td.FieldMonitor(\n",
    "    center=[0., 0., pos_monitor_z],\n",
    "    size=[length_xy, length_xy, 0],\n",
    "    freqs=[f0],\n",
    ")\n"
   ]
  },
  {
   "cell_type": "markdown",
   "metadata": {},
   "source": [
    "## Create Simulation\n",
    "\n",
    "Put everything together and define a simulation object\n"
   ]
  },
  {
   "cell_type": "code",
   "execution_count": null,
   "metadata": {
    "tags": []
   },
   "outputs": [],
   "source": [
    "simulation = td.Simulation(\n",
    "    size=sim_size,\n",
    "    grid_size=[dl, dl, dl],\n",
    "    structures=geometry,\n",
    "    sources={'planewave': source},\n",
    "    monitors={'near_field': monitor_near},\n",
    "    run_time=run_time,\n",
    "    pml_layers=pml_layers)"
   ]
  },
  {
   "cell_type": "markdown",
   "metadata": {},
   "source": [
    "## Visualize Geometry\n",
    "\n",
    "Lets take a look and make sure everything is defined properly\n"
   ]
  },
  {
   "cell_type": "code",
   "execution_count": null,
   "metadata": {
    "tags": []
   },
   "outputs": [],
   "source": [
    "fig, (ax1, ax2) = plt.subplots(1, 2, figsize=(20, 8))\n",
    "simulation.plot_eps(x=0, ax=ax1);\n",
    "simulation.plot_eps(z=-length_z/2  + space_below_sub + height_sub + height_lens / 2, ax=ax2);"
   ]
  },
  {
   "cell_type": "markdown",
   "metadata": {},
   "source": [
    "## Run Simulation\n",
    "\n",
    "Now we can run the simulation and download the results\n"
   ]
  },
  {
   "cell_type": "code",
   "execution_count": null,
   "metadata": {
    "tags": []
   },
   "outputs": [],
   "source": [
    "# Run simulation\n",
    "# project = web.new_project(sim.export(), task_name='near2far_docs')\n",
    "# web.monitor_project(project['taskId'])"
   ]
  },
  {
   "cell_type": "code",
   "execution_count": null,
   "metadata": {
    "tags": []
   },
   "outputs": [],
   "source": [
    "# # download and load the results\n",
    "# print('Downloading results')\n",
    "# web.download_results(project['taskId'], target_folder='out')\n",
    "# sim.load_results('out/monitor_data.hdf5')\n",
    "\n",
    "# # print stats from the logs\n",
    "# with open(\"out/tidy3d.log\") as f:\n",
    "#      print(f.read())"
   ]
  },
  {
   "cell_type": "code",
   "execution_count": null,
   "metadata": {
    "tags": []
   },
   "outputs": [],
   "source": [
    "solver_data_dict = tdcore.solve(simulation)\n",
    "sim_data = tdcore.load_solver_results(simulation=simulation, solver_data_dict=solver_data_dict)"
   ]
  },
  {
   "cell_type": "markdown",
   "metadata": {},
   "source": [
    "## Visualization \n",
    "\n",
    "Let's inspect the near field using the Tidy3D builtin field visualization methods.  \n",
    "For more details see the documentation of [viz_field_2D](https://simulation.cloud/docs/html/generated/tidy3d.Simulation.viz_field_2D.html#tidy3d.Simulation.viz_field_2D)."
   ]
  },
  {
   "cell_type": "code",
   "execution_count": null,
   "metadata": {
    "tags": []
   },
   "outputs": [],
   "source": [
    "near_field_data = sim_data['near_field']\n",
    "\n",
    "fig, axes = plt.subplots(1, 3, tight_layout=True, figsize=(15, 3.5))\n",
    "for ax, direction in zip(axes, 'xyz'):\n",
    "    near_field_data['E' + direction].real.plot(ax=ax)\n",
    "plt.show()"
   ]
  },
  {
   "cell_type": "markdown",
   "metadata": {},
   "source": [
    "## Setting Up Near 2 Far\n",
    "\n",
    "To set up near to far, we first need to grab the data from the nearfield monitor."
   ]
  },
  {
   "cell_type": "markdown",
   "metadata": {},
   "source": [
    "Then, we create a `td.Near2Far` object using the monitor data dictionary as follows.\n",
    "\n",
    "This object just stores near field data and provides [various methods](https://simulation.cloud/docs/html/generated/tidy3d.Near2Far.html#tidy3d.Near2Far) for looking at various far field quantities."
   ]
  },
  {
   "cell_type": "code",
   "execution_count": null,
   "metadata": {
    "tags": []
   },
   "outputs": [],
   "source": [
    "# from near2far_tidy3d import Near2Far\n",
    "from tidy3d.plugins import Near2Far\n",
    "n2f = Near2Far(sim_data.monitor_data['near_field'])"
   ]
  },
  {
   "cell_type": "markdown",
   "metadata": {},
   "source": [
    "## Getting Far Field Data\n",
    "\n",
    "With the `Near2Far` object initialized, we just need to call one of it's methods to get a far field quantity.\n",
    "\n",
    "For this example, we use `Near2Far.fields_cartesian(x,y,z)` to get the fields at an `x,y,z` point relative to the monitor center.\n",
    "\n",
    "Below, we scan through x and y points in a plane located at `z=z0` and record the far fields."
   ]
  },
  {
   "cell_type": "code",
   "execution_count": null,
   "metadata": {
    "tags": []
   },
   "outputs": [],
   "source": [
    "# points to project to\n",
    "num_far = 10\n",
    "xs_far = 4 * wavelength * np.linspace(-0.5, 0.5, num_far)\n",
    "ys_far = 4 * wavelength * np.linspace(-0.5, 0.5, num_far)\n",
    "\n",
    "# initialize the far field values\n",
    "E_far = np.zeros((3, num_far, num_far), dtype=complex)\n",
    "H_far = np.zeros((3, num_far, num_far), dtype=complex)        \n",
    "\n",
    "from rich.progress import track\n",
    "\n",
    "# loop through points in the output plane\n",
    "for i in track(range(num_far), description='Performing Far-field transformation...'):\n",
    "\n",
    "    x = xs_far[i]\n",
    "    for j in range(num_far):\n",
    "        y = ys_far[j]\n",
    "\n",
    "        # compute and store the outputs from projection function at the focal plane\n",
    "        E, H = n2f.fields_cartesian(x, y, focal_length)\n",
    "        E_far[:, i, j] = np.squeeze(E)\n",
    "        H_far[:, i, j] = np.squeeze(H)\n"
   ]
  },
  {
   "cell_type": "markdown",
   "metadata": {},
   "source": [
    "## Plot Results\n",
    "Now we can plot the near and far fields together"
   ]
  },
  {
   "cell_type": "code",
   "execution_count": null,
   "metadata": {
    "tags": []
   },
   "outputs": [],
   "source": [
    "# plot everything\n",
    "f, (axes_near, axes_far) =  plt.subplots(2, 3, tight_layout=True, figsize=(10, 5))\n",
    "\n",
    "def pmesh(xs, ys, array, ax, cmap):\n",
    "    im = ax.pcolormesh(xs, ys, array.T, cmap=cmap, shading='auto')\n",
    "    return im\n",
    "\n",
    "for ax, direction in zip(axes_near, 'xyz'):\n",
    "    im = near_field_data['E' + direction].real.plot(ax=ax)\n",
    "    ax.set_title(f'near field E{direction}')\n",
    "\n",
    "for ax, direction, E in zip(axes_far, 'xyz', E_far):\n",
    "    im = pmesh(xs_far, ys_far, np.abs(E), ax=ax, cmap='RdBu')\n",
    "    ax.set_title(f'far field E{direction}')\n",
    "    plt.colorbar(im, ax=ax)\n",
    "\n",
    "plt.show()"
   ]
  },
  {
   "cell_type": "code",
   "execution_count": null,
   "metadata": {
    "tags": []
   },
   "outputs": [],
   "source": [
    "# we can also use the far field data and plot the field intensity to see the focusing effect\n",
    "\n",
    "intensity_far = np.sum(np.square(np.abs(E_far)), axis=0)\n",
    "\n",
    "_, (ax1, ax2) = plt.subplots(1, 2, figsize=(10, 5))\n",
    "\n",
    "im1 = pmesh(xs_far, ys_far, intensity_far, ax=ax1, cmap='magma')\n",
    "im2 = pmesh(xs_far, ys_far, np.sqrt(intensity_far), ax=ax2, cmap='magma')\n",
    "\n",
    "ax1.set_title('$|E(x,y)|^2$')\n",
    "ax2.set_title('$|E(x,y)|$')\n",
    "\n",
    "plt.colorbar(im1, ax=ax1)\n",
    "plt.colorbar(im2, ax=ax2)\n",
    "plt.show()"
   ]
  },
  {
   "cell_type": "code",
   "execution_count": null,
   "metadata": {},
   "outputs": [],
   "source": []
  }
 ],
 "metadata": {
  "kernelspec": {
   "display_name": "Python 3 (ipykernel)",
   "language": "python",
   "name": "python3"
  },
  "language_info": {
   "codemirror_mode": {
    "name": "ipython",
    "version": 3
   },
   "file_extension": ".py",
   "mimetype": "text/x-python",
   "name": "python",
   "nbconvert_exporter": "python",
   "pygments_lexer": "ipython3",
   "version": "3.9.7"
  },
  "widgets": {
   "application/vnd.jupyter.widget-state+json": {
    "state": {
     "925eaf1b0365460ea603a7ca70130815": {
      "model_module": "@jupyter-widgets/base",
      "model_module_version": "1.2.0",
      "model_name": "LayoutModel",
      "state": {
       "_model_module": "@jupyter-widgets/base",
       "_model_module_version": "1.2.0",
       "_model_name": "LayoutModel",
       "_view_count": null,
       "_view_module": "@jupyter-widgets/base",
       "_view_module_version": "1.2.0",
       "_view_name": "LayoutView",
       "align_content": null,
       "align_items": null,
       "align_self": null,
       "border": null,
       "bottom": null,
       "display": null,
       "flex": null,
       "flex_flow": null,
       "grid_area": null,
       "grid_auto_columns": null,
       "grid_auto_flow": null,
       "grid_auto_rows": null,
       "grid_column": null,
       "grid_gap": null,
       "grid_row": null,
       "grid_template_areas": null,
       "grid_template_columns": null,
       "grid_template_rows": null,
       "height": null,
       "justify_content": null,
       "justify_items": null,
       "left": null,
       "margin": null,
       "max_height": null,
       "max_width": null,
       "min_height": null,
       "min_width": null,
       "object_fit": null,
       "object_position": null,
       "order": null,
       "overflow": null,
       "overflow_x": null,
       "overflow_y": null,
       "padding": null,
       "right": null,
       "top": null,
       "visibility": null,
       "width": null
      }
     },
     "c72f3120f90649ccbd3d67f87f1a5049": {
      "model_module": "@jupyter-widgets/output",
      "model_module_version": "1.0.0",
      "model_name": "OutputModel",
      "state": {
       "_dom_classes": [],
       "_model_module": "@jupyter-widgets/output",
       "_model_module_version": "1.0.0",
       "_model_name": "OutputModel",
       "_view_count": null,
       "_view_module": "@jupyter-widgets/output",
       "_view_module_version": "1.0.0",
       "_view_name": "OutputView",
       "layout": "IPY_MODEL_925eaf1b0365460ea603a7ca70130815",
       "msg_id": "",
       "outputs": [
        {
         "data": {
          "text/html": "<pre style=\"white-space:pre;overflow-x:auto;line-height:normal;font-family:Menlo,'DejaVu Sans Mono',consolas,'Courier New',monospace\">Performing Far-field transformation... <span style=\"color: #729c1f; text-decoration-color: #729c1f\">━━━━━━━━━━━━━━━━━━━━━━━━━━━━━━━━━━━━━━━━</span> <span style=\"color: #800080; text-decoration-color: #800080\">100%</span> <span style=\"color: #008080; text-decoration-color: #008080\">0:00:00</span>\n</pre>\n",
          "text/plain": "Performing Far-field transformation... \u001b[38;2;114;156;31m━━━━━━━━━━━━━━━━━━━━━━━━━━━━━━━━━━━━━━━━\u001b[0m \u001b[35m100%\u001b[0m \u001b[36m0:00:00\u001b[0m\n"
         },
         "metadata": {},
         "output_type": "display_data"
        }
       ]
      }
     }
    },
    "version_major": 2,
    "version_minor": 0
   }
  }
 },
 "nbformat": 4,
 "nbformat_minor": 4
}
